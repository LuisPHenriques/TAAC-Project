{
 "cells": [
  {
   "cell_type": "markdown",
   "metadata": {},
   "source": [
    "# Libraries & Custom functions"
   ]
  },
  {
   "cell_type": "code",
   "execution_count": 1,
   "metadata": {
    "ExecuteTime": {
     "end_time": "2023-11-04T14:45:27.685283300Z",
     "start_time": "2023-11-04T14:45:24.863172100Z"
    }
   },
   "outputs": [],
   "source": [
    "import torch\n",
    "import torch.nn.functional as F\n",
    "import matplotlib.pyplot as plt\n",
    "\n",
    "# Ignore UserWarning\n",
    "import warnings\n",
    "warnings.filterwarnings(\"ignore\", category=UserWarning)"
   ]
  },
  {
   "cell_type": "code",
   "execution_count": 2,
   "metadata": {
    "ExecuteTime": {
     "end_time": "2023-11-04T14:42:53.259153100Z",
     "start_time": "2023-11-04T14:42:53.166601600Z"
    }
   },
   "outputs": [],
   "source": [
    "def binary_cross_entropy(y_true, y_hat):\n",
    "    return -1 * (y_true * torch.log(y_hat) + (1 - y_true) * torch.log(1 - y_hat))\n",
    "\n",
    "\n",
    "def forward_pass(x, t, h, h_0, v, b, y_true, w):\n",
    "    h_value = lambda t: h_0 if t == 1 else h[0]\n",
    "    h[t - 1] = torch.matmul(w.T, x[t - 1]) + v * h_value(t) + b\n",
    "    h[t - 1] = F.sigmoid(h[t - 1])\n",
    "    y_hat = h[t - 1]\n",
    "    # Compute the loss\n",
    "    loss = binary_cross_entropy(y_true[t - 1], y_hat)\n",
    "    \n",
    "    return y_hat, loss\n",
    "\n",
    "\n",
    "# Implement the backward pass of a RNN\n",
    "def backward_pass(x, t, h_0, h, y_true, y_hat):\n",
    "    # Compute the gradient of the loss with respect to y_hat\n",
    "    grad_y_hat = -1 * (y_true[t - 1] / y_hat - (1 - y_true[t - 1]) / (1 - y_hat))\n",
    "    # Compute the gradient of the loss with respect to h\n",
    "    grad_h = grad_y_hat * (y_hat * (1 - y_hat))\n",
    "    # Compute the gradient of the loss with respect to w\n",
    "    grad_w = grad_h * x[t - 1]\n",
    "    # Compute the gradient of the loss with respect to b\n",
    "    grad_b = grad_h * 1\n",
    "    # Compute the gradient of the loss with respect to v\n",
    "    h_value = lambda t: h_0 if t == 1 else h[0]\n",
    "    grad_v = grad_h * h_value(t)\n",
    "\n",
    "    return grad_w, grad_b, grad_v\n",
    "\n",
    "\n",
    "def update_parameters(w, grad_w, b, grad_b, v, grad_v, learning_rate):\n",
    "    w_new = w - learning_rate * grad_w\n",
    "    b_new = b - learning_rate * grad_b\n",
    "    v_new = v - learning_rate * grad_v\n",
    "    return w_new, b_new, v_new\n",
    "\n",
    "\n",
    "# Implement a simple RNN that only updates the weights\n",
    "def SimpleRNN(x, y_true, w, v, b, learning_rate = 0.1, epochs = 1000):\n",
    "    # Initialize hidden state\n",
    "    h = torch.zeros(2)\n",
    "    cost_values = []\n",
    "    for i in range(epochs):\n",
    "        loss_values = []\n",
    "        for t in range(1, 3):\n",
    "            h_0 = 0\n",
    "            # Forward pass\n",
    "            y_hat, loss = forward_pass(x = x, \n",
    "                                       t = t, \n",
    "                                       h = h, \n",
    "                                       h_0 = h_0, \n",
    "                                       v = v, \n",
    "                                       b = b, \n",
    "                                       y_true = y_true, \n",
    "                                       w = w)\n",
    "            # Compute loss\n",
    "            loss = binary_cross_entropy(y_true[t - 1], y_hat)\n",
    "            # Backward pass\n",
    "            grad_w, grad_b, grad_v = backward_pass(x = x, \n",
    "                                                   t = t, \n",
    "                                                   h_0 = h_0,\n",
    "                                                   h = h,\n",
    "                                                   y_true = y_true, \n",
    "                                                   y_hat = y_hat)\n",
    "            # Update weights and bias\n",
    "            w, b, v = update_parameters(w, grad_w, b, grad_b, v, grad_v, learning_rate)\n",
    "            loss_values.append(loss)\n",
    "\n",
    "        # Store the loss of the last batch of the epoch    \n",
    "        cost_values.append(torch.mean(torch.stack(loss_values)))\n",
    "        # Print progress\n",
    "        if i % 20 == 0:\n",
    "            print(\"Epoch {}: cost = {}\".format(i, cost_values[-1]))\n",
    "    return cost_values, w, b, v\n",
    "\n",
    "\n",
    "def PlotCost(cost_values):\n",
    "    plt.plot(cost_values)\n",
    "    plt.title('SimpleRNN training results with SGD (unit batch size)')\n",
    "    plt.xlabel('Epoch')\n",
    "    plt.ylabel('Cost')\n",
    "    plt.show()"
   ]
  },
  {
   "cell_type": "markdown",
   "metadata": {},
   "source": [
    "# Exercise 2, a)"
   ]
  },
  {
   "cell_type": "code",
   "execution_count": 3,
   "metadata": {},
   "outputs": [],
   "source": [
    "x = torch.tensor([[0.3, -0.2], \n",
    "                  [0.1, 0.1]])\n",
    "w = torch.tensor([1.0, -1.0])\n",
    "v = -1\n",
    "b = 0\n",
    "h = torch.tensor([0.0, 0.0])\n",
    "h_0 = torch.tensor([0.0])\n",
    "y_true = torch.tensor([1, 0])"
   ]
  },
  {
   "cell_type": "markdown",
   "metadata": {},
   "source": [
    "## i)"
   ]
  },
  {
   "cell_type": "code",
   "execution_count": 4,
   "metadata": {
    "ExecuteTime": {
     "end_time": "2023-11-04T14:43:03.477735700Z",
     "start_time": "2023-11-04T14:43:03.413740200Z"
    }
   },
   "outputs": [
    {
     "name": "stdout",
     "output_type": "stream",
     "text": [
      "The predicted value is y_hat = 0.622459352016449\n",
      "The loss is 0.4740769565105438\n"
     ]
    }
   ],
   "source": [
    "y_hat, loss = forward_pass(x = x, t = 1, h = h, h_0 = h_0, v = v, b = b, y_true = y_true, w = w)\n",
    "\n",
    "# print the results\n",
    "print(\"The predicted value is y_hat = {}\".format(y_hat))\n",
    "print(\"The loss is {}\".format(loss))"
   ]
  },
  {
   "cell_type": "markdown",
   "metadata": {},
   "source": [
    "## ii)"
   ]
  },
  {
   "cell_type": "code",
   "execution_count": 5,
   "metadata": {
    "ExecuteTime": {
     "end_time": "2023-11-04T14:43:06.405356300Z",
     "start_time": "2023-11-04T14:43:06.268354400Z"
    }
   },
   "outputs": [
    {
     "name": "stdout",
     "output_type": "stream",
     "text": [
      "The new weight vector is tensor([ 1.0113, -1.0076])\n"
     ]
    }
   ],
   "source": [
    "grad_w, grad_b, grad_v = backward_pass(x = x, t = 1, h_0 = h_0, h = h, y_true = y_true, y_hat = y_hat)\n",
    "\n",
    "learning_rate = 0.1\n",
    "w_new, b_new, v_new = update_parameters(w, grad_w, b, grad_b, v, grad_v, learning_rate)\n",
    "\n",
    "# print the results\n",
    "print(\"The new weight vector is {}\".format(w_new))"
   ]
  },
  {
   "cell_type": "markdown",
   "metadata": {},
   "source": [
    "## Extra (improving the RNN's cost with more epochs)"
   ]
  },
  {
   "cell_type": "code",
   "execution_count": 6,
   "metadata": {
    "ExecuteTime": {
     "end_time": "2023-11-04T14:43:25.640628200Z",
     "start_time": "2023-11-04T14:43:08.802617500Z"
    }
   },
   "outputs": [
    {
     "name": "stdout",
     "output_type": "stream",
     "text": [
      "Epoch 0: cost = 0.48722559213638306\n",
      "Epoch 20: cost = 0.20762427151203156\n",
      "Epoch 40: cost = 0.11060062050819397\n",
      "Epoch 60: cost = 0.0727277547121048\n",
      "Epoch 80: cost = 0.05372672900557518\n",
      "Epoch 100: cost = 0.04248959571123123\n",
      "Epoch 120: cost = 0.03510754555463791\n",
      "Epoch 140: cost = 0.029899876564741135\n",
      "Epoch 160: cost = 0.02603379637002945\n",
      "Epoch 180: cost = 0.02305181324481964\n",
      "Epoch 200: cost = 0.020682547241449356\n",
      "Epoch 220: cost = 0.018755130469799042\n",
      "Epoch 240: cost = 0.017156679183244705\n",
      "Epoch 260: cost = 0.01580970361828804\n",
      "Epoch 280: cost = 0.014659170061349869\n",
      "Epoch 300: cost = 0.013665089383721352\n",
      "Epoch 320: cost = 0.012797530740499496\n",
      "Epoch 340: cost = 0.012033823877573013\n",
      "Epoch 360: cost = 0.011356324888765812\n",
      "Epoch 380: cost = 0.010751292109489441\n",
      "Epoch 400: cost = 0.010207563638687134\n",
      "Epoch 420: cost = 0.009716369211673737\n",
      "Epoch 440: cost = 0.009270377457141876\n",
      "Epoch 460: cost = 0.00886365957558155\n",
      "Epoch 480: cost = 0.008491234853863716\n"
     ]
    }
   ],
   "source": [
    "costs, w, b, v = SimpleRNN(x, y_true, w, v, b, learning_rate = 0.5, epochs = 500)"
   ]
  },
  {
   "cell_type": "code",
   "execution_count": 7,
   "metadata": {},
   "outputs": [
    {
     "data": {
      "image/png": "[encoded data removed]",
      "text/plain": [
       "<Figure size 640x480 with 1 Axes>"
      ]
     },
     "metadata": {},
     "output_type": "display_data"
    },
    {
     "name": "stdout",
     "output_type": "stream",
     "text": [
      "The final weight vector is:     tensor([ 3.4531, -3.9772])\n",
      "The final bias vector is:       2.809420347213745\n",
      "The final scalar v vector is:   -7.839944362640381\n"
     ]
    }
   ],
   "source": [
    "PlotCost(costs)\n",
    "print(\"The final weight vector is:     {}\".format(w))\n",
    "print(\"The final bias vector is:       {}\".format(b))\n",
    "print(\"The final scalar v vector is:   {}\".format(v))"
   ]
  }
 ],
 "metadata": {
  "kernelspec": {
   "display_name": "Python 3 (ipykernel)",
   "language": "python",
   "name": "python3"
  },
  "language_info": {
   "codemirror_mode": {
    "name": "ipython",
    "version": 3
   },
   "file_extension": ".py",
   "mimetype": "text/x-python",
   "name": "python",
   "nbconvert_exporter": "python",
   "pygments_lexer": "ipython3",
   "version": "3.10.9"
  }
 },
 "nbformat": 4,
 "nbformat_minor": 2
}
