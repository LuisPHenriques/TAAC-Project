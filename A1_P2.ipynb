{
 "cells": [
  {
   "cell_type": "markdown",
   "metadata": {},
   "source": [
    "# Libraries & Custom functions"
   ]
  },
  {
   "cell_type": "code",
   "execution_count": 7,
   "metadata": {
    "ExecuteTime": {
     "end_time": "2023-11-04T14:45:27.685283300Z",
     "start_time": "2023-11-04T14:45:24.863172100Z"
    }
   },
   "outputs": [],
   "source": [
    "import numpy as np\n",
    "import matplotlib.pyplot as plt\n",
    "import torch\n",
    "import torch.nn.functional as F\n",
    "\n",
    "# Ignore UserWarning\n",
    "import warnings\n",
    "warnings.filterwarnings(\"ignore\", category=UserWarning)"
   ]
  },
  {
   "cell_type": "code",
   "execution_count": 2,
   "metadata": {
    "ExecuteTime": {
     "end_time": "2023-11-04T14:42:53.259153100Z",
     "start_time": "2023-11-04T14:42:53.166601600Z"
    }
   },
   "outputs": [],
   "source": [
    "# Define function that implements the binary cross entropy loss function\n",
    "def binary_cross_entropy(y_true, y_hat):\n",
    "    loss = -1 * (y_true * torch.log(y_hat) + (1 - y_true) * torch.log(1 - y_hat))\n",
    "    cost = torch.mean(loss)\n",
    "    return loss, cost\n",
    "\n",
    "\n",
    "def forward_pass(x, h, h_0, v, b, y_true, w):\n",
    "    # Compute h1 and h2\n",
    "    linear_comb = np.matmul(w.T, x)\n",
    "    h[0] = linear_comb[0] + v * h_0 + b\n",
    "    h[1] = linear_comb[1] + v * h[0] + b\n",
    "    h = F.sigmoid(h)\n",
    "    y_hat = h\n",
    "    # Compute the loss\n",
    "    loss, cost = binary_cross_entropy(y_true, y_hat)\n",
    "    return y_hat, loss, cost\n",
    "\n",
    "\n",
    "# Implement the backward pass of a RNN\n",
    "def backward_pass(x, y_true, y_hat):\n",
    "    # Compute the gradient of the loss with respect to y_hat\n",
    "    grad_y_hat = -1 * (y_true / y_hat - (1 - y_true) / (1 - y_hat))\n",
    "    # Compute the gradient of the loss with respect to h\n",
    "    grad_h = grad_y_hat * y_hat * (1 - y_hat)\n",
    "    # Compute the gradient of the loss with respect to w\n",
    "    grad_w = grad_h * x\n",
    "    return grad_y_hat, grad_h, torch.diag(grad_w)\n",
    "\n",
    "\n",
    "def update_weights(w, grad_w, learning_rate):\n",
    "    return w - learning_rate * grad_w\n",
    "\n",
    "\n",
    "# Implement a simple RNN that only updates the weights\n",
    "def SimpleRNN(x, y_true, w, v, b, learning_rate = 0.1, epochs = 1000):\n",
    "    # Initialize hidden state\n",
    "    h = torch.zeros(2)\n",
    "    cost_values = []\n",
    "    for i in range(epochs):\n",
    "        h_0 = 0\n",
    "        # Forward pass\n",
    "        y_hat, loss, cost = forward_pass(x, h, h_0, v, b, y_true, w)\n",
    "        # Compute loss\n",
    "        loss, cost = binary_cross_entropy(y_true, y_hat)\n",
    "        cost_values.append(cost)\n",
    "        # Backward pass\n",
    "        grad_y_hat, grad_h, grad_w = backward_pass(x, y_true, y_hat)\n",
    "        # Update weights\n",
    "        w = update_weights(w, grad_w, learning_rate)\n",
    "        # Print progress\n",
    "        if i % 1000 == 0:\n",
    "            print(\"Iteration {}: cost = {}\".format(i, cost))\n",
    "    return cost_values, w\n",
    "\n",
    "\n",
    "def PlotCost(cost_values):\n",
    "    plt.plot(cost_values)\n",
    "    plt.xlabel('Epoch')\n",
    "    plt.ylabel('Cost')\n",
    "    plt.show()"
   ]
  },
  {
   "cell_type": "markdown",
   "metadata": {},
   "source": [
    "# Exercise 2, a)"
   ]
  },
  {
   "cell_type": "code",
   "execution_count": 3,
   "metadata": {
    "ExecuteTime": {
     "end_time": "2023-11-04T14:42:58.120082800Z",
     "start_time": "2023-11-04T14:42:58.001123400Z"
    }
   },
   "outputs": [],
   "source": [
    "# Defining the variables\n",
    "x = torch.tensor([[0.3, 0.1], \n",
    "                  [-0.2, 0.1]])\n",
    "w = torch.tensor([1, -1])\n",
    "v = -1\n",
    "b = 0\n",
    "h = torch.tensor([0.0, 0.0])\n",
    "h_0 = torch.tensor([0.0])\n",
    "y_true = torch.tensor([1, 0])"
   ]
  },
  {
   "cell_type": "markdown",
   "metadata": {},
   "source": [
    "## i)"
   ]
  },
  {
   "cell_type": "code",
   "execution_count": 4,
   "metadata": {
    "ExecuteTime": {
     "end_time": "2023-11-04T14:43:03.477735700Z",
     "start_time": "2023-11-04T14:43:03.413740200Z"
    }
   },
   "outputs": [
    {
     "name": "stdout",
     "output_type": "stream",
     "text": [
      "The predicted value is y_hat = tensor([0.6225, 0.3775])\n",
      "The loss is tensor([0.4741, 0.4741])\n",
      "The cost is 0.4740769863128662\n"
     ]
    }
   ],
   "source": [
    "y_hat, loss, cost = forward_pass(x, h, h_0, v, b, y_true, w)\n",
    "\n",
    "# print the results\n",
    "print(\"The predicted value is y_hat = {}\".format(y_hat))\n",
    "print(\"The loss is {}\".format(loss))\n",
    "print(\"The cost is {}\".format(cost))"
   ]
  },
  {
   "cell_type": "markdown",
   "metadata": {},
   "source": [
    "## ii)"
   ]
  },
  {
   "cell_type": "code",
   "execution_count": 5,
   "metadata": {
    "ExecuteTime": {
     "end_time": "2023-11-04T14:43:06.405356300Z",
     "start_time": "2023-11-04T14:43:06.268354400Z"
    }
   },
   "outputs": [
    {
     "name": "stdout",
     "output_type": "stream",
     "text": [
      "The new weight vector is tensor([ 1.0113, -1.0038])\n"
     ]
    }
   ],
   "source": [
    "grad_y_hat, grad_h, grad_w = backward_pass(x, y_true, y_hat)\n",
    "\n",
    "learning_rate = 0.1\n",
    "w_new = update_weights(w, grad_w, learning_rate)\n",
    "\n",
    "# print the results\n",
    "print(\"The new weight vector is {}\".format(w_new))"
   ]
  },
  {
   "cell_type": "markdown",
   "metadata": {},
   "source": [
    "## Extra (improving the RNN's cost with more epochs)"
   ]
  },
  {
   "cell_type": "code",
   "execution_count": 6,
   "metadata": {
    "ExecuteTime": {
     "end_time": "2023-11-04T14:43:25.640628200Z",
     "start_time": "2023-11-04T14:43:08.802617500Z"
    }
   },
   "outputs": [
    {
     "name": "stdout",
     "output_type": "stream",
     "text": [
      "Iteration 0: cost = 0.4740769863128662\n",
      "Iteration 1000: cost = 0.10100055485963821\n",
      "Iteration 2000: cost = 0.05465693771839142\n",
      "Iteration 3000: cost = 0.03738802298903465\n",
      "Iteration 4000: cost = 0.028413593769073486\n",
      "Iteration 5000: cost = 0.022921470925211906\n",
      "Iteration 6000: cost = 0.019215088337659836\n",
      "Iteration 7000: cost = 0.016545312479138374\n",
      "Iteration 8000: cost = 0.01453043520450592\n",
      "Iteration 9000: cost = 0.012955603189766407\n",
      "Iteration 10000: cost = 0.011690666899085045\n",
      "Iteration 11000: cost = 0.010652301833033562\n",
      "Iteration 12000: cost = 0.00978454202413559\n",
      "Iteration 13000: cost = 0.00904843583703041\n",
      "Iteration 14000: cost = 0.008416014723479748\n",
      "Iteration 15000: cost = 0.0078669348731637\n",
      "Iteration 16000: cost = 0.007385581731796265\n",
      "Iteration 17000: cost = 0.006960142869502306\n",
      "Iteration 18000: cost = 0.006581417750567198\n",
      "Iteration 19000: cost = 0.0062420303001999855\n"
     ]
    }
   ],
   "source": [
    "costs, w = SimpleRNN(x, y_true, w, v, b, learning_rate = 0.1, epochs = 20000)"
   ]
  },
  {
   "cell_type": "code",
   "execution_count": 7,
   "metadata": {},
   "outputs": [
    {
     "data": {
      "image/png": "[encoded data removed]",
      "text/plain": [
       "<Figure size 640x480 with 1 Axes>"
      ]
     },
     "metadata": {},
     "output_type": "display_data"
    },
    {
     "name": "stdout",
     "output_type": "stream",
     "text": [
      "The final weight vector is tensor([13.6460, -7.0607])\n"
     ]
    }
   ],
   "source": [
    "PlotCost(costs)\n",
    "print(\"The final weight vector is {}\".format(w))"
   ]
  }
 ],
 "metadata": {
  "kernelspec": {
   "display_name": "Python 3 (ipykernel)",
   "language": "python",
   "name": "python3"
  },
  "language_info": {
   "codemirror_mode": {
    "name": "ipython",
    "version": 3
   },
   "file_extension": ".py",
   "mimetype": "text/x-python",
   "name": "python",
   "nbconvert_exporter": "python",
   "pygments_lexer": "ipython3",
   "version": "3.11.0"
  }
 },
 "nbformat": 4,
 "nbformat_minor": 2
}
