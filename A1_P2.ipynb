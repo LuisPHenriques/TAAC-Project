{
 "cells": [
  {
   "cell_type": "markdown",
   "metadata": {},
   "source": [
    "# Libraries & Custom functions"
   ]
  },
  {
   "cell_type": "code",
   "execution_count": 1,
   "metadata": {
    "ExecuteTime": {
     "end_time": "2023-11-04T14:45:27.685283300Z",
     "start_time": "2023-11-04T14:45:24.863172100Z"
    }
   },
   "outputs": [],
   "source": [
    "import torch\n",
    "import torch.nn.functional as F\n",
    "import pandas as pd\n",
    "import numpy as np\n",
    "import matplotlib.pyplot as plt\n",
    "\n",
    "from tqdm import tqdm\n",
    "\n",
    "# Ignore UserWarning\n",
    "import warnings\n",
    "warnings.filterwarnings(\"ignore\", category=UserWarning)"
   ]
  },
  {
   "cell_type": "code",
   "execution_count": 2,
   "metadata": {
    "ExecuteTime": {
     "end_time": "2023-11-04T14:42:53.259153100Z",
     "start_time": "2023-11-04T14:42:53.166601600Z"
    }
   },
   "outputs": [],
   "source": [
    "############################################################### Functions for Part 2 a) ###############################################################\n",
    "\n",
    "def BCE_Loss_RNN(y_true, y_hat):\n",
    "    \n",
    "    loss_1 = -1 * (y_true[0] * torch.log(y_hat[0]) + (1 - y_true[0]) * torch.log(1 - y_hat[0]))\n",
    "    loss_2 = -1 * (y_true[1] * torch.log(y_hat[1]) + (1 - y_true[1]) * torch.log(1 - y_hat[1]))\n",
    "\n",
    "    return loss_1 + loss_2, loss_1, loss_2\n",
    "\n",
    "\n",
    "def ForwardPropagation(input_values, hidden_states, initial_state, v, bias, weights):\n",
    "\n",
    "    hidden_states[0] = torch.matmul(input_values[0], weights.T) + v * initial_state + bias\n",
    "    hidden_states[1] = torch.matmul(input_values[1], weights.T) + v * hidden_states[0] + bias\n",
    "\n",
    "    y_hat = F.sigmoid(hidden_states)\n",
    "    \n",
    "    return y_hat\n",
    "\n",
    "\n",
    "def BackPropagation(input_values, hidden_states, initial_state, v, y_true, y_hat):\n",
    "    # Backpropagation for time step t=2\n",
    "\n",
    "    # Compute gradient of loss with respect to output at t=2\n",
    "    dL2_dh2 = -1 * (y_true[1] / y_hat[1] - (1 - y_true[1]) / (1 - y_hat[1]))\n",
    "    # Compute gradient of output with respect to pre-activation at t=2\n",
    "    dL2_da2 = dL2_dh2 * (y_hat[1] * (1 - y_hat[1]))\n",
    "    # Compute gradient of pre-activation with respect to weights at t=2\n",
    "    dL2_dW2 = dL2_da2 * input_values[1]\n",
    "    # Compute gradient of pre-activation with respect to previous hidden state at t=2\n",
    "    dL2_dv2 = dL2_da2 * hidden_states[0]\n",
    "    # Compute gradient of pre-activation with respect to bias at t=2\n",
    "    dL2_db2 = dL2_da2 * 1\n",
    "    # Compute gradient of pre-activation with respect to hidden state at t=1\n",
    "    dL2_dh1 = dL2_da2 * v\n",
    "    # Compute gradient of hidden state with respect to pre-activation at t=1\n",
    "    dL2_da1 = dL2_dh1 * (y_hat[0] * (1 - y_hat[0]))\n",
    "    # Compute gradient of pre-activation with respect to weights at t=1\n",
    "    dL2_dW1 = dL2_da1 * input_values[0]\n",
    "    # Compute gradient of pre-activation with respect to initial hidden state\n",
    "    dL2_dv1 = dL2_da1 * initial_state\n",
    "    # Compute gradient of pre-activation with respect to bias at t=1\n",
    "    dL2_db1 = dL2_da1 * 1\n",
    "    # Accumulate gradients for time step t=2\n",
    "    dL2_dW = dL2_dW2 + dL2_dW1\n",
    "    dL2_dV = dL2_dv2 + dL2_dv1\n",
    "    dL2_dB = dL2_db2 + dL2_db1\n",
    "\n",
    "    # Backpropagation for time step t=1\n",
    "\n",
    "    # Compute gradient of loss with respect to output at t=1\n",
    "    dL1_dh1 = -1 * (y_true[0] / y_hat[0] - (1 - y_true[0]) / (1 - y_hat[0]))\n",
    "    # Compute gradient of output with respect to pre-activation at t=1\n",
    "    dL1_da1 = dL1_dh1 * (y_hat[0] * (1 - y_hat[0]))\n",
    "    # Compute gradient of pre-activation with respect to weights at t=1\n",
    "    dL1_dW1 = dL1_da1 * input_values[0]\n",
    "    # Compute gradient of pre-activation with respect to initial hidden state\n",
    "    dL1_dv1 = dL1_da1 * initial_state\n",
    "    # Compute gradient of pre-activation with respect to bias at t=1\n",
    "    dL1_db1 = dL1_da1 * 1\n",
    "    # Accumulate gradients for time step t=1\n",
    "    dL1_dW = dL1_dW1\n",
    "    dL1_dV = dL1_dv1\n",
    "    dL1_dB = dL1_db1\n",
    "\n",
    "    # Overall gradients\n",
    "\n",
    "    # Sum gradients for both time steps\n",
    "    dL_dW = dL2_dW + dL1_dW\n",
    "    dL_dV = dL2_dV + dL1_dV\n",
    "    dL_dB = dL2_dB + dL1_dB\n",
    "\n",
    "    return dL_dW, dL_dV, dL_dB\n",
    "\n",
    "\n",
    "def StochasticGradientDescent(weights, grad_w, v, grad_v, bias, grad_b, learning_rate):\n",
    "\n",
    "    weights = weights - learning_rate * grad_w\n",
    "    bias = bias - learning_rate * grad_b\n",
    "    v = v - learning_rate * grad_v\n",
    "\n",
    "    return weights, v, bias\n",
    "\n",
    "# Implement a simple RNN that only updates the weights\n",
    "def SimpleRNN(input_values, y_true, weights, v, bias, learning_rate = 0.1, epochs = 1000):\n",
    "    # Initialize hidden state\n",
    "    hidden_states = torch.tensor([0.0, 0.0])\n",
    "    initial_state = 0\n",
    "    loss_values = []\n",
    "    loss_t1_values = []\n",
    "    loss_t2_values = []\n",
    "    for epoch in range(epochs):\n",
    "        # Forward pass\n",
    "        y_hat = ForwardPropagation(input_values = input_values, \n",
    "                                   hidden_states = hidden_states, \n",
    "                                   initial_state = initial_state, \n",
    "                                   v = v, \n",
    "                                   bias = bias, \n",
    "                                   weights = weights)\n",
    "\n",
    "        loss, loss_t1, loss_t2 = BCE_Loss_RNN(y_true = y_true, y_hat = y_hat)\n",
    "        \n",
    "        # Backward pass\n",
    "        dL_dW, dL_dv, dL_db = BackPropagation(input_values = input_values, \n",
    "                                              hidden_states = hidden_states, \n",
    "                                              initial_state = initial_state, \n",
    "                                              v = v,\n",
    "                                              y_true = y_true, \n",
    "                                              y_hat = y_hat)\n",
    "\n",
    "        weights, v, bias = StochasticGradientDescent(weights = weights, \n",
    "                                                     grad_w = dL_dW, \n",
    "                                                     v = v, \n",
    "                                                     grad_v = dL_dv, \n",
    "                                                     bias = bias, \n",
    "                                                     grad_b = dL_db, \n",
    "                                                     learning_rate = learning_rate)\n",
    "\n",
    "        loss_values.append(loss)\n",
    "        loss_t1_values.append(loss_t1)\n",
    "        loss_t2_values.append(loss_t2)\n",
    "\n",
    "        # Print progress\n",
    "        if epoch % 20 == 0:\n",
    "            if epoch == 0:\n",
    "                print(\"Epoch {:03d}: loss = {:.4f} |  loss for X[1] = {:.4f} | loss for X[2] = {:.4f}\".format(epoch + 1, loss, loss_t1, loss_t2))\n",
    "            else:\n",
    "                print(\"Epoch {:03d}: loss = {:.4f} |  loss for X[1] = {:.4f} | loss for X[2] = {:.4f}\".format(epoch, loss, loss_t1, loss_t2))\n",
    "\n",
    "    print(\"Epoch {:03d}: loss = {:.4f} |  loss for X[1] = {:.4f} | loss for X[2] = {:.4f}\".format(epoch + 1, loss, loss_t1, loss_t2))\n",
    "    \n",
    "    return loss_values, loss_t1_values, loss_t2_values, weights, bias, v\n",
    "\n",
    "\n",
    "def SimpleRNN_Results(loss_values, loss_t1_values, losses_t2_values, weights, bias, v):\n",
    "    # Function that plots the losses, the losses at t1 and t2 with the correspondent legends\n",
    "    plt.figure(figsize=(10, 5))\n",
    "    plt.title('SimpleRNN training results with SGD (unit batch size)')\n",
    "    plt.plot(loss_values, label = \"Loss\")\n",
    "    plt.plot(loss_t1_values, label = \"Loss for X[1]\")\n",
    "    plt.plot(losses_t2_values, label = \"Loss for X[2]\")\n",
    "    plt.xlabel('Epoch')\n",
    "    plt.ylabel('Loss values')\n",
    "    plt.legend()\n",
    "    plt.show()\n",
    "\n",
    "    print(\"The final weight vector is:     {}\".format(weights))\n",
    "    print(\"The final bias vector is:       {}\".format(bias))\n",
    "    print(\"The final scalar v is:          {:.4f}\".format(v))\n",
    "\n",
    "\n",
    "############################################################### Functions for Part 2 b) ###############################################################\n",
    "\n",
    "class WeatherData(torch.utils.data.Dataset):\n",
    "    def __init__(self, df, input_width, target_width):\n",
    "        ## YOUR CODE HERE ##\n",
    "        data_np = np.array(df)\n",
    "        self.inputs = [torch.FloatTensor(data_np[i : i + input_width])\n",
    "                       for i in range(0, len(data_np) - input_width, input_width)]\n",
    "        self.targets = [torch.FloatTensor(data_np[i : i + target_width])\n",
    "                        for i in range(input_width, len(data_np) - target_width, input_width)]\n",
    "        ## *** ##\n",
    "\n",
    "    def __getitem__(self, idx):\n",
    "        return {'inputs': self.inputs[idx],\n",
    "                'targets': self.targets[idx]}\n",
    "\n",
    "    def __len__(self):\n",
    "        return min(len(self.inputs), len(self.targets))\n",
    "    \n",
    "\n",
    "class WeatherPredictor(torch.nn.Module):\n",
    "    def __init__(self, num_features, hidden_size):\n",
    "        super().__init__()\n",
    "        self.hidden_size = hidden_size\n",
    "        # instantiate a torch.nn.LSTMCell and a torch.nn.Linear layer\n",
    "        ## YOUR CODE HERE ##\n",
    "        self.lstm = torch.nn.LSTMCell(num_features, hidden_size)\n",
    "        self.linear = torch.nn.Linear(hidden_size, num_features)\n",
    "        ## *** ##\n",
    "\n",
    "    def forward(self, inputs, phase, targets_teacher_forcing, num_steps):\n",
    "        inputs = inputs.transpose(0, 1)  # batch, time, dim -> time, batch, dim\n",
    "        targets_teacher_forcing = targets_teacher_forcing.transpose(0, 1)  # batch, time, dim -> time, batch, dim\n",
    "\n",
    "        # we initialize the internal states of the LSTM with zeros\n",
    "        hx = torch.zeros((inputs.shape[1], self.hidden_size), device=inputs.device)\n",
    "        cx = torch.zeros((inputs.shape[1], self.hidden_size), device=inputs.device)\n",
    "\n",
    "        # warmup: feed the inputs through the LSTM one by one from t = 0 up to t = T-1\n",
    "        ## YOUR CODE HERE ##\n",
    "        for t in range(inputs.shape[0] - 1):\n",
    "            hx, cx = self.lstm(inputs[t], (hx, cx))\n",
    "        ## *** ##\n",
    "\n",
    "        # predict num_steps into the future autoregressively\n",
    "        outputs = []\n",
    "        input_t = inputs[-1]\n",
    "        ## YOUR CODE HERE ##\n",
    "        for t in range(num_steps):\n",
    "            hx, cx = self.lstm(input_t, (hx, cx))\n",
    "            output_t = self.linear(hx)\n",
    "            outputs.append(output_t)\n",
    "            # Teacher forcing is used only during training, where we use the true targets as input for the following time step\n",
    "            input_t = targets_teacher_forcing[t] if phase == 'train' else output_t\n",
    "        ## *** ##\n",
    "\n",
    "        # stack the list of outputs into a single tensor\n",
    "        outputs = torch.stack(outputs)\n",
    "\n",
    "        outputs = outputs.transpose(0, 1)  # time, batch, dim -> batch, time, dim\n",
    "        return outputs\n",
    "\n",
    "\n",
    "def evaluate(model, data_loader, **kwargs):\n",
    "    phase = 'validation'\n",
    "    loss_fn = kwargs.get('loss_fn', torch.nn.functional.mse_loss)\n",
    "    device = kwargs.get('device', torch.device('cpu'))\n",
    "\n",
    "    model.eval()\n",
    "    pbar = tqdm(enumerate(data_loader), total=len(data_loader))\n",
    "    avg_loss = 0.\n",
    "    for i, batch in pbar:\n",
    "        ## YOUR CODE HERE ##\n",
    "        batch['inputs'] = batch['inputs'].to(device)\n",
    "        batch['targets'] = batch['targets'].to(device)\n",
    "        num_steps = batch['targets'].shape[1]\n",
    "        with torch.no_grad():\n",
    "            preds = model(batch['inputs'], phase, batch['targets'], num_steps)\n",
    "        loss = loss_fn(preds, batch['targets'])\n",
    "        avg_loss += loss.item()\n",
    "        ## *** ##\n",
    "        pbar.set_description(f'loss = {loss:.3f}')\n",
    "    avg_loss /= len(data_loader)\n",
    "    return avg_loss\n",
    "\n",
    "def fit(model, train_loader, val_loader, optimizer, **kwargs):\n",
    "    num_epochs = kwargs.get('num_epochs', 100)\n",
    "    loss_fn = kwargs.get('loss_fn', torch.nn.functional.mse_loss)\n",
    "    device = kwargs.get('device', torch.device('mps'))\n",
    "\n",
    "    train_loss_hist, val_loss_hist = [], []\n",
    "    min_val_loss = np.inf\n",
    "    for epoch in range(num_epochs):\n",
    "        print(f'Epoch {epoch + 1}/{num_epochs}')\n",
    "\n",
    "        print('Training phase...')\n",
    "        phase = 'train'\n",
    "        model.train()\n",
    "        train_loss = 0.\n",
    "        pbar = tqdm(enumerate(train_loader), total=len(train_loader))\n",
    "        for i, batch in pbar:\n",
    "            ## YOUR CODE HERE ##\n",
    "            batch['inputs'] = batch['inputs'].to(device)\n",
    "            batch['targets'] = batch['targets'].to(device)\n",
    "            model.zero_grad()\n",
    "            num_steps = batch['targets'].shape[1]\n",
    "            preds = model(batch['inputs'], phase, batch['targets'], num_steps)\n",
    "            loss = loss_fn(preds, batch['targets'])\n",
    "            loss.backward()\n",
    "            optimizer.step()\n",
    "            ## *** ##\n",
    "            train_loss += loss.item()\n",
    "            pbar.set_description(f'loss = {loss:.3f}')\n",
    "        train_loss /= len(train_loader)\n",
    "        print(f'train loss = {train_loss:.3f}')\n",
    "        train_loss_hist.append(train_loss)\n",
    "\n",
    "        print('Validation phase...')\n",
    "        val_loss = evaluate(model, val_loader, loss_fn=loss_fn, device=device)\n",
    "        print(f'validation loss = {val_loss:.3f}')\n",
    "        val_loss_hist.append(val_loss)\n",
    "\n",
    "    return train_loss_hist, val_loss_hist"
   ]
  },
  {
   "cell_type": "markdown",
   "metadata": {},
   "source": [
    "# Exercise 2, a)"
   ]
  },
  {
   "cell_type": "code",
   "execution_count": 3,
   "metadata": {},
   "outputs": [],
   "source": [
    "input_values = torch.tensor([[0.3, -0.2], \n",
    "                             [0.1, 0.1]])\n",
    "weights = torch.tensor([[1.0, -1.0]])\n",
    "v = -1\n",
    "bias = torch.tensor([0.0])\n",
    "hidden_states = torch.tensor([0.0, 0.0])\n",
    "initial_state = torch.tensor([0.0])\n",
    "y_true = torch.tensor([1, 0])"
   ]
  },
  {
   "cell_type": "markdown",
   "metadata": {},
   "source": [
    "## i)"
   ]
  },
  {
   "cell_type": "code",
   "execution_count": 4,
   "metadata": {},
   "outputs": [
    {
     "name": "stdout",
     "output_type": "stream",
     "text": [
      "The predicted value at t = 1 is:            0.622459\n",
      "The predicted value at t = 2 is:            0.377541\n",
      "The loss at t = 1 is:                       0.474077\n",
      "The loss at t = 2 is:                       0.474077\n",
      "The loss of the sequence (x[1], x[2]) is:   0.948154\n"
     ]
    }
   ],
   "source": [
    "y_hat = ForwardPropagation(input_values = input_values, \n",
    "                           hidden_states = hidden_states, \n",
    "                           initial_state = initial_state, \n",
    "                           v = v, \n",
    "                           bias = bias, \n",
    "                           weights = weights)\n",
    "\n",
    "loss, loss_t1, loss_t2 = BCE_Loss_RNN(y_true = y_true, \n",
    "                                      y_hat = y_hat)\n",
    "\n",
    "# print the results\n",
    "print(\"The predicted value at t = 1 is:            {:.6f}\".format(y_hat[0]))\n",
    "print(\"The predicted value at t = 2 is:            {:.6f}\".format(y_hat[1]))\n",
    "print(\"The loss at t = 1 is:                       {:.6f}\".format(loss_t1))\n",
    "print(\"The loss at t = 2 is:                       {:.6f}\".format(loss_t2))\n",
    "print(\"The loss of the sequence (x[1], x[2]) is:   {:.6f}\".format(loss))"
   ]
  },
  {
   "cell_type": "markdown",
   "metadata": {},
   "source": [
    "## ii)"
   ]
  },
  {
   "cell_type": "code",
   "execution_count": 5,
   "metadata": {},
   "outputs": [
    {
     "name": "stdout",
     "output_type": "stream",
     "text": [
      "Partial derivative of the loss with respect to the weights:   tensor([-0.1021,  0.1310])\n",
      "Partial derivative of the loss with respect to the bias:      -0.088723\n",
      "Partial derivative of the loss with respect to scalar v:      tensor([0.1888])\n",
      "\n",
      "New weight matrix after applying SGD:                         tensor([[ 1.0102, -1.0131]])\n",
      "New bias scalar after applying SGD:                           tensor([0.0089])\n",
      "New scalar v after applying SGD:                              tensor([-1.0189])\n"
     ]
    }
   ],
   "source": [
    "dL_dW, dL_dv, dL_db = BackPropagation(input_values = input_values, \n",
    "                                      hidden_states = hidden_states, \n",
    "                                      initial_state = initial_state, \n",
    "                                      v = v,\n",
    "                                      y_true = y_true, \n",
    "                                      y_hat = y_hat)\n",
    "\n",
    "learning_rate = 0.1\n",
    "W_new, v_new, b_new = StochasticGradientDescent(weights, dL_dW, v, dL_dv, bias, dL_db, learning_rate)\n",
    "\n",
    "# print the results\n",
    "print(\"Partial derivative of the loss with respect to the weights:   {}\".format(dL_dW))\n",
    "print(\"Partial derivative of the loss with respect to the bias:      {:.6f}\".format(dL_db))\n",
    "print(\"Partial derivative of the loss with respect to scalar v:      {}\".format(dL_dv))\n",
    "print()\n",
    "print(\"New weight matrix after applying SGD:                         {}\".format(W_new))\n",
    "print(\"New bias scalar after applying SGD:                           {}\".format(b_new))\n",
    "print(\"New scalar v after applying SGD:                              {}\".format(v_new))"
   ]
  },
  {
   "cell_type": "markdown",
   "metadata": {},
   "source": [
    "## Extra (improving the RNN's loss with more epochs)"
   ]
  },
  {
   "cell_type": "code",
   "execution_count": 6,
   "metadata": {
    "ExecuteTime": {
     "end_time": "2023-11-04T14:43:25.640628200Z",
     "start_time": "2023-11-04T14:43:08.802617500Z"
    }
   },
   "outputs": [
    {
     "name": "stdout",
     "output_type": "stream",
     "text": [
      "Epoch 001: loss = 0.9482 |  loss for X[1] = 0.4741 | loss for X[2] = 0.4741\n",
      "Epoch 020: loss = 0.6953 |  loss for X[1] = 0.3692 | loss for X[2] = 0.3261\n",
      "Epoch 040: loss = 0.4494 |  loss for X[1] = 0.2761 | loss for X[2] = 0.1733\n",
      "Epoch 060: loss = 0.2873 |  loss for X[1] = 0.2050 | loss for X[2] = 0.0823\n",
      "Epoch 080: loss = 0.1974 |  loss for X[1] = 0.1564 | loss for X[2] = 0.0411\n",
      "Epoch 100: loss = 0.1463 |  loss for X[1] = 0.1236 | loss for X[2] = 0.0227\n",
      "Epoch 120: loss = 0.1148 |  loss for X[1] = 0.1010 | loss for X[2] = 0.0137\n",
      "Epoch 140: loss = 0.0938 |  loss for X[1] = 0.0848 | loss for X[2] = 0.0090\n",
      "Epoch 160: loss = 0.0790 |  loss for X[1] = 0.0728 | loss for X[2] = 0.0062\n",
      "Epoch 180: loss = 0.0681 |  loss for X[1] = 0.0636 | loss for X[2] = 0.0045\n",
      "Epoch 200: loss = 0.0597 |  loss for X[1] = 0.0563 | loss for X[2] = 0.0034\n",
      "Epoch 220: loss = 0.0531 |  loss for X[1] = 0.0505 | loss for X[2] = 0.0027\n",
      "Epoch 240: loss = 0.0478 |  loss for X[1] = 0.0457 | loss for X[2] = 0.0021\n",
      "Epoch 260: loss = 0.0434 |  loss for X[1] = 0.0417 | loss for X[2] = 0.0017\n",
      "Epoch 280: loss = 0.0398 |  loss for X[1] = 0.0383 | loss for X[2] = 0.0014\n",
      "Epoch 300: loss = 0.0367 |  loss for X[1] = 0.0355 | loss for X[2] = 0.0012\n",
      "Epoch 320: loss = 0.0340 |  loss for X[1] = 0.0330 | loss for X[2] = 0.0010\n",
      "Epoch 340: loss = 0.0317 |  loss for X[1] = 0.0308 | loss for X[2] = 0.0009\n",
      "Epoch 360: loss = 0.0296 |  loss for X[1] = 0.0289 | loss for X[2] = 0.0008\n",
      "Epoch 380: loss = 0.0279 |  loss for X[1] = 0.0272 | loss for X[2] = 0.0007\n",
      "Epoch 400: loss = 0.0263 |  loss for X[1] = 0.0257 | loss for X[2] = 0.0006\n",
      "Epoch 420: loss = 0.0249 |  loss for X[1] = 0.0243 | loss for X[2] = 0.0005\n",
      "Epoch 440: loss = 0.0236 |  loss for X[1] = 0.0231 | loss for X[2] = 0.0005\n",
      "Epoch 460: loss = 0.0224 |  loss for X[1] = 0.0220 | loss for X[2] = 0.0004\n",
      "Epoch 480: loss = 0.0214 |  loss for X[1] = 0.0210 | loss for X[2] = 0.0004\n",
      "Epoch 500: loss = 0.0204 |  loss for X[1] = 0.0201 | loss for X[2] = 0.0003\n",
      "Epoch 512: loss = 0.0199 |  loss for X[1] = 0.0196 | loss for X[2] = 0.0003\n"
     ]
    }
   ],
   "source": [
    "losses, losses_t1, losses_t2, weights, bias, v = SimpleRNN(input_values = input_values, \n",
    "                                                           y_true = y_true, \n",
    "                                                           weights = weights, \n",
    "                                                           v = v, \n",
    "                                                           bias = bias, \n",
    "                                                           learning_rate = 0.1, \n",
    "                                                           epochs = 512)"
   ]
  },
  {
   "cell_type": "code",
   "execution_count": 7,
   "metadata": {},
   "outputs": [
    {
     "data": {
      "image/png": "[encoded data removed]",
      "text/plain": [
       "<Figure size 1000x500 with 1 Axes>"
      ]
     },
     "metadata": {},
     "output_type": "display_data"
    },
    {
     "name": "stdout",
     "output_type": "stream",
     "text": [
      "The final weight vector is:     tensor([[ 2.1860, -2.0651]])\n",
      "The final bias vector is:       tensor([2.8557])\n",
      "The final scalar v is:          -2.7735\n"
     ]
    }
   ],
   "source": [
    "SimpleRNN_Results(loss_values = losses, \n",
    "                  loss_t1_values = losses_t1, \n",
    "                  losses_t2_values = losses_t2, \n",
    "                  weights = weights, \n",
    "                  bias = bias, \n",
    "                  v = v)"
   ]
  },
  {
   "cell_type": "markdown",
   "metadata": {},
   "source": [
    "# Exercise 2, b)"
   ]
  },
  {
   "cell_type": "markdown",
   "metadata": {},
   "source": [
    "## i)"
   ]
  },
  {
   "cell_type": "markdown",
   "metadata": {},
   "source": [
    "<h2>Investigate what teacher forcing is and explain it in your own words.</h2>\n",
    "<p>Teacher forcing is a technique that can be implemented in an autoregressive RNN in order to make it converge much faster! In a vanilla autoregressive RNN, where we want to make predictions many time steps to the future, what happens is that the prediction for a certain time step is used as input to predict for the next time step. This means that a vanilla autoregressive RNN uses its own predictions to make more predictions further into the future. That being said, because a prediction never hits the mark perfectly, inaccurate data is passed to the next time step, for all time steps in the future to which we want to predict. This makes an autoregressive model learn slower because it needs to adjust its ealier predictions first, in order to make good predictions further to the future, and for that many forward and backward passes are required. So, in order to help the autoregressive RNN learn faster and with more accurate data, teacher forcing is used, which just means that we use the ground truth from the previous time step as input to the following time step, instead of the prediction from the previous time step.\n",
    "\n",
    "In this exercise, we have an autoregressive RNN, just like the one on the image bellow, where first we have the warm-up phase in which all the network's inputs are given first, without any predictions produced; after this phase the network's outputs are produced based on the previous outputs, but to start, the input to the first output is the last input given to the model. So, looking at this architecture, we can say that teacher forcing consists of replacing the model's outputs by the labels as the inputs; for example, for t = 25, instead of giving as input the prediction from t = 24 the model will give the label for t = 24.\n",
    "\n",
    "![Autoregressive RNN](https://www.tensorflow.org/static/tutorials/structured_data/images/multistep_autoregressive.png \"Autoregressive RNN\")\n",
    "\n",
    "References: https://towardsdatascience.com/what-is-teacher-forcing-3da6217fed1c</p>\n"
   ]
  },
  {
   "cell_type": "markdown",
   "metadata": {},
   "source": [
    "## ii)"
   ]
  },
  {
   "cell_type": "code",
   "execution_count": 8,
   "metadata": {},
   "outputs": [
    {
     "data": {
      "text/plain": [
       "\"# Download the data\\nimport requests\\nimport zipfile\\nresponse = requests.get('https://storage.googleapis.com/tensorflow/tf-keras-datasets/jena_climate_2009_2016.csv.zip')\\nopen('weather_dataset.zip', 'wb').write(response.content)\\nwith zipfile.ZipFile('weather_dataset.zip', 'r') as zip_ref:\\n    zip_ref.extractall('./')\\ndf = pd.read_csv('jena_climate_2009_2016.csv')\""
      ]
     },
     "execution_count": 8,
     "metadata": {},
     "output_type": "execute_result"
    }
   ],
   "source": [
    "#### THIS IS ONLY FOR THE JUPYTER NOTEBOOK WE'LL SUBMIT\n",
    "\n",
    "'''# Download the data\n",
    "import requests\n",
    "import zipfile\n",
    "response = requests.get('https://storage.googleapis.com/tensorflow/tf-keras-datasets/jena_climate_2009_2016.csv.zip')\n",
    "open('weather_dataset.zip', 'wb').write(response.content)\n",
    "with zipfile.ZipFile('weather_dataset.zip', 'r') as zip_ref:\n",
    "    zip_ref.extractall('./')\n",
    "df = pd.read_csv('jena_climate_2009_2016.csv')'''"
   ]
  },
  {
   "cell_type": "code",
   "execution_count": 9,
   "metadata": {},
   "outputs": [],
   "source": [
    "# Download the data\n",
    "df = pd.read_csv('data/jena_climate_2009_2016.csv')"
   ]
  },
  {
   "cell_type": "code",
   "execution_count": 10,
   "metadata": {},
   "outputs": [],
   "source": [
    "# Slice [start:stop:step], starting from index 5 take every 6th record.\n",
    "df = df[5::6]\n",
    "date_time = pd.to_datetime(df.pop('Date Time'), format='%d.%m.%Y %H:%M:%S')\n",
    "\n",
    "# Remove invalid values\n",
    "wv = df['wv (m/s)']\n",
    "bad_wv = (wv == -9999.0)\n",
    "wv[bad_wv] = 0.0\n",
    "\n",
    "max_wv = df['max. wv (m/s)']\n",
    "bad_max_wv = (max_wv == -9999.0)\n",
    "max_wv[bad_max_wv] = 0.0\n",
    "\n",
    "# The above inplace edits are reflected in the DataFrame.\n",
    "df['wv (m/s)'].min()\n",
    "\n",
    "# Build wind vector\n",
    "wv = df.pop('wv (m/s)')\n",
    "max_wv = df.pop('max. wv (m/s)')\n",
    "\n",
    "# Convert to radians.\n",
    "wd_rad = df.pop('wd (deg)')*np.pi / 180\n",
    "\n",
    "# Calculate the wind x and y components.\n",
    "df['Wx'] = wv*np.cos(wd_rad)\n",
    "df['Wy'] = wv*np.sin(wd_rad)\n",
    "\n",
    "# Calculate the max wind x and y components.\n",
    "df['max Wx'] = max_wv*np.cos(wd_rad)\n",
    "df['max Wy'] = max_wv*np.sin(wd_rad)\n",
    "\n",
    "timestamp_s = date_time.map(pd.Timestamp.timestamp)\n",
    "day = 24*60*60\n",
    "year = (365.2425)*day\n",
    "\n",
    "df['Day sin'] = np.sin(timestamp_s * (2 * np.pi / day))\n",
    "df['Day cos'] = np.cos(timestamp_s * (2 * np.pi / day))\n",
    "df['Year sin'] = np.sin(timestamp_s * (2 * np.pi / year))\n",
    "df['Year cos'] = np.cos(timestamp_s * (2 * np.pi / year))"
   ]
  },
  {
   "cell_type": "code",
   "execution_count": 11,
   "metadata": {},
   "outputs": [],
   "source": [
    "column_indices = {name: i for i, name in enumerate(df.columns)}\n",
    "\n",
    "n = len(df)\n",
    "train_df = df[0:int(n*0.7)]\n",
    "val_df = df[int(n*0.7):int(n*0.9)]\n",
    "test_df = df[int(n*0.9):]\n",
    "\n",
    "num_features = df.shape[1]\n",
    "\n",
    "train_mean = train_df.mean()\n",
    "train_std = train_df.std()\n",
    "\n",
    "train_df = (train_df - train_mean) / train_std\n",
    "val_df = (val_df - train_mean) / train_std\n",
    "test_df = (test_df - train_mean) / train_std"
   ]
  },
  {
   "cell_type": "code",
   "execution_count": 12,
   "metadata": {},
   "outputs": [],
   "source": [
    "INPUT_WIDTH = 24\n",
    "TARGET_WIDTH = 24\n",
    "\n",
    "train_data = WeatherData(train_df, INPUT_WIDTH, TARGET_WIDTH)\n",
    "val_data = WeatherData(val_df, INPUT_WIDTH, TARGET_WIDTH)\n",
    "test_data = WeatherData(test_df, INPUT_WIDTH, TARGET_WIDTH)"
   ]
  },
  {
   "cell_type": "code",
   "execution_count": 13,
   "metadata": {},
   "outputs": [
    {
     "name": "stdout",
     "output_type": "stream",
     "text": [
      "DEVICE: mps\n"
     ]
    }
   ],
   "source": [
    "HIDDEN_SIZE = 256\n",
    "LEARNING_RATE = 1e-4\n",
    "NUM_EPOCHS = 64\n",
    "BATCH_SIZE = 16\n",
    "\n",
    "if torch.cuda.is_available():\n",
    "    DEVICE = torch.device('cuda')\n",
    "elif torch.backends.mps.is_available():\n",
    "    DEVICE = torch.device('mps')\n",
    "else:\n",
    "    DEVICE = torch.device('cpu')\n",
    "print('DEVICE:', DEVICE)\n",
    "\n",
    "train_loader = torch.utils.data.DataLoader(train_data, batch_size=BATCH_SIZE, shuffle=True)\n",
    "val_loader = torch.utils.data.DataLoader(val_data, batch_size=BATCH_SIZE)\n",
    "test_loader = torch.utils.data.DataLoader(test_data, batch_size=BATCH_SIZE)\n",
    "\n",
    "model = WeatherPredictor(train_data[0]['inputs'].shape[1], HIDDEN_SIZE).to(DEVICE)\n",
    "optimizer = torch.optim.Adam(model.parameters(), lr=LEARNING_RATE)"
   ]
  },
  {
   "cell_type": "code",
   "execution_count": 14,
   "metadata": {},
   "outputs": [
    {
     "name": "stdout",
     "output_type": "stream",
     "text": [
      "Epoch 1/64\n",
      "Training phase...\n"
     ]
    },
    {
     "name": "stderr",
     "output_type": "stream",
     "text": [
      "loss = 0.384: 100%|██████████| 128/128 [00:13<00:00,  9.61it/s]\n"
     ]
    },
    {
     "name": "stdout",
     "output_type": "stream",
     "text": [
      "train loss = 0.680\n",
      "Validation phase...\n"
     ]
    },
    {
     "name": "stderr",
     "output_type": "stream",
     "text": [
      "loss = 0.488: 100%|██████████| 37/37 [00:01<00:00, 27.82it/s]\n"
     ]
    },
    {
     "name": "stdout",
     "output_type": "stream",
     "text": [
      "validation loss = 0.591\n",
      "Epoch 2/64\n",
      "Training phase...\n"
     ]
    },
    {
     "name": "stderr",
     "output_type": "stream",
     "text": [
      "loss = 0.131: 100%|██████████| 128/128 [00:13<00:00,  9.76it/s]\n"
     ]
    },
    {
     "name": "stdout",
     "output_type": "stream",
     "text": [
      "train loss = 0.290\n",
      "Validation phase...\n"
     ]
    },
    {
     "name": "stderr",
     "output_type": "stream",
     "text": [
      "loss = 0.243: 100%|██████████| 37/37 [00:01<00:00, 28.86it/s]\n"
     ]
    },
    {
     "name": "stdout",
     "output_type": "stream",
     "text": [
      "validation loss = 0.322\n",
      "Epoch 3/64\n",
      "Training phase...\n"
     ]
    },
    {
     "name": "stderr",
     "output_type": "stream",
     "text": [
      "loss = 0.129: 100%|██████████| 128/128 [00:13<00:00,  9.71it/s]\n"
     ]
    },
    {
     "name": "stdout",
     "output_type": "stream",
     "text": [
      "train loss = 0.138\n",
      "Validation phase...\n"
     ]
    },
    {
     "name": "stderr",
     "output_type": "stream",
     "text": [
      "loss = 0.266: 100%|██████████| 37/37 [00:01<00:00, 28.77it/s]\n"
     ]
    },
    {
     "name": "stdout",
     "output_type": "stream",
     "text": [
      "validation loss = 0.286\n",
      "Epoch 4/64\n",
      "Training phase...\n"
     ]
    },
    {
     "name": "stderr",
     "output_type": "stream",
     "text": [
      "loss = 0.136: 100%|██████████| 128/128 [00:13<00:00,  9.75it/s]\n"
     ]
    },
    {
     "name": "stdout",
     "output_type": "stream",
     "text": [
      "train loss = 0.105\n",
      "Validation phase...\n"
     ]
    },
    {
     "name": "stderr",
     "output_type": "stream",
     "text": [
      "loss = 0.250: 100%|██████████| 37/37 [00:01<00:00, 28.44it/s]\n"
     ]
    },
    {
     "name": "stdout",
     "output_type": "stream",
     "text": [
      "validation loss = 0.260\n",
      "Epoch 5/64\n",
      "Training phase...\n"
     ]
    },
    {
     "name": "stderr",
     "output_type": "stream",
     "text": [
      "loss = 0.087: 100%|██████████| 128/128 [00:13<00:00,  9.76it/s]\n"
     ]
    },
    {
     "name": "stdout",
     "output_type": "stream",
     "text": [
      "train loss = 0.091\n",
      "Validation phase...\n"
     ]
    },
    {
     "name": "stderr",
     "output_type": "stream",
     "text": [
      "loss = 0.225: 100%|██████████| 37/37 [00:01<00:00, 28.69it/s]\n"
     ]
    },
    {
     "name": "stdout",
     "output_type": "stream",
     "text": [
      "validation loss = 0.247\n",
      "Epoch 6/64\n",
      "Training phase...\n"
     ]
    },
    {
     "name": "stderr",
     "output_type": "stream",
     "text": [
      "loss = 0.084: 100%|██████████| 128/128 [00:13<00:00,  9.57it/s]\n"
     ]
    },
    {
     "name": "stdout",
     "output_type": "stream",
     "text": [
      "train loss = 0.084\n",
      "Validation phase...\n"
     ]
    },
    {
     "name": "stderr",
     "output_type": "stream",
     "text": [
      "loss = 0.208: 100%|██████████| 37/37 [00:01<00:00, 28.87it/s]\n"
     ]
    },
    {
     "name": "stdout",
     "output_type": "stream",
     "text": [
      "validation loss = 0.250\n",
      "Epoch 7/64\n",
      "Training phase...\n"
     ]
    },
    {
     "name": "stderr",
     "output_type": "stream",
     "text": [
      "loss = 0.066: 100%|██████████| 128/128 [00:12<00:00,  9.87it/s]\n"
     ]
    },
    {
     "name": "stdout",
     "output_type": "stream",
     "text": [
      "train loss = 0.079\n",
      "Validation phase...\n"
     ]
    },
    {
     "name": "stderr",
     "output_type": "stream",
     "text": [
      "loss = 0.196: 100%|██████████| 37/37 [00:01<00:00, 27.16it/s]\n"
     ]
    },
    {
     "name": "stdout",
     "output_type": "stream",
     "text": [
      "validation loss = 0.246\n",
      "Epoch 8/64\n",
      "Training phase...\n"
     ]
    },
    {
     "name": "stderr",
     "output_type": "stream",
     "text": [
      "loss = 0.074: 100%|██████████| 128/128 [00:13<00:00,  9.18it/s]\n"
     ]
    },
    {
     "name": "stdout",
     "output_type": "stream",
     "text": [
      "train loss = 0.075\n",
      "Validation phase...\n"
     ]
    },
    {
     "name": "stderr",
     "output_type": "stream",
     "text": [
      "loss = 0.238: 100%|██████████| 37/37 [00:01<00:00, 28.96it/s]\n"
     ]
    },
    {
     "name": "stdout",
     "output_type": "stream",
     "text": [
      "validation loss = 0.236\n",
      "Epoch 9/64\n",
      "Training phase...\n"
     ]
    },
    {
     "name": "stderr",
     "output_type": "stream",
     "text": [
      "loss = 0.046: 100%|██████████| 128/128 [00:13<00:00,  9.47it/s]\n"
     ]
    },
    {
     "name": "stdout",
     "output_type": "stream",
     "text": [
      "train loss = 0.073\n",
      "Validation phase...\n"
     ]
    },
    {
     "name": "stderr",
     "output_type": "stream",
     "text": [
      "loss = 0.194: 100%|██████████| 37/37 [00:01<00:00, 27.89it/s]\n"
     ]
    },
    {
     "name": "stdout",
     "output_type": "stream",
     "text": [
      "validation loss = 0.246\n",
      "Epoch 10/64\n",
      "Training phase...\n"
     ]
    },
    {
     "name": "stderr",
     "output_type": "stream",
     "text": [
      "loss = 0.065: 100%|██████████| 128/128 [00:13<00:00,  9.78it/s]\n"
     ]
    },
    {
     "name": "stdout",
     "output_type": "stream",
     "text": [
      "train loss = 0.071\n",
      "Validation phase...\n"
     ]
    },
    {
     "name": "stderr",
     "output_type": "stream",
     "text": [
      "loss = 0.177: 100%|██████████| 37/37 [00:01<00:00, 28.41it/s]\n"
     ]
    },
    {
     "name": "stdout",
     "output_type": "stream",
     "text": [
      "validation loss = 0.242\n",
      "Epoch 11/64\n",
      "Training phase...\n"
     ]
    },
    {
     "name": "stderr",
     "output_type": "stream",
     "text": [
      "loss = 0.059: 100%|██████████| 128/128 [00:13<00:00,  9.59it/s]\n"
     ]
    },
    {
     "name": "stdout",
     "output_type": "stream",
     "text": [
      "train loss = 0.070\n",
      "Validation phase...\n"
     ]
    },
    {
     "name": "stderr",
     "output_type": "stream",
     "text": [
      "loss = 0.189: 100%|██████████| 37/37 [00:01<00:00, 28.93it/s]\n"
     ]
    },
    {
     "name": "stdout",
     "output_type": "stream",
     "text": [
      "validation loss = 0.232\n",
      "Epoch 12/64\n",
      "Training phase...\n"
     ]
    },
    {
     "name": "stderr",
     "output_type": "stream",
     "text": [
      "loss = 0.054: 100%|██████████| 128/128 [00:13<00:00,  9.83it/s]\n"
     ]
    },
    {
     "name": "stdout",
     "output_type": "stream",
     "text": [
      "train loss = 0.069\n",
      "Validation phase...\n"
     ]
    },
    {
     "name": "stderr",
     "output_type": "stream",
     "text": [
      "loss = 0.191: 100%|██████████| 37/37 [00:01<00:00, 28.72it/s]\n"
     ]
    },
    {
     "name": "stdout",
     "output_type": "stream",
     "text": [
      "validation loss = 0.227\n",
      "Epoch 13/64\n",
      "Training phase...\n"
     ]
    },
    {
     "name": "stderr",
     "output_type": "stream",
     "text": [
      "loss = 0.077: 100%|██████████| 128/128 [00:13<00:00,  9.82it/s]\n"
     ]
    },
    {
     "name": "stdout",
     "output_type": "stream",
     "text": [
      "train loss = 0.068\n",
      "Validation phase...\n"
     ]
    },
    {
     "name": "stderr",
     "output_type": "stream",
     "text": [
      "loss = 0.178: 100%|██████████| 37/37 [00:01<00:00, 29.12it/s]\n"
     ]
    },
    {
     "name": "stdout",
     "output_type": "stream",
     "text": [
      "validation loss = 0.237\n",
      "Epoch 14/64\n",
      "Training phase...\n"
     ]
    },
    {
     "name": "stderr",
     "output_type": "stream",
     "text": [
      "loss = 0.085: 100%|██████████| 128/128 [00:12<00:00,  9.89it/s]\n"
     ]
    },
    {
     "name": "stdout",
     "output_type": "stream",
     "text": [
      "train loss = 0.067\n",
      "Validation phase...\n"
     ]
    },
    {
     "name": "stderr",
     "output_type": "stream",
     "text": [
      "loss = 0.202: 100%|██████████| 37/37 [00:01<00:00, 29.31it/s]\n"
     ]
    },
    {
     "name": "stdout",
     "output_type": "stream",
     "text": [
      "validation loss = 0.234\n",
      "Epoch 15/64\n",
      "Training phase...\n"
     ]
    },
    {
     "name": "stderr",
     "output_type": "stream",
     "text": [
      "loss = 0.066: 100%|██████████| 128/128 [00:12<00:00,  9.85it/s]\n"
     ]
    },
    {
     "name": "stdout",
     "output_type": "stream",
     "text": [
      "train loss = 0.067\n",
      "Validation phase...\n"
     ]
    },
    {
     "name": "stderr",
     "output_type": "stream",
     "text": [
      "loss = 0.197: 100%|██████████| 37/37 [00:01<00:00, 28.67it/s]\n"
     ]
    },
    {
     "name": "stdout",
     "output_type": "stream",
     "text": [
      "validation loss = 0.227\n",
      "Epoch 16/64\n",
      "Training phase...\n"
     ]
    },
    {
     "name": "stderr",
     "output_type": "stream",
     "text": [
      "loss = 0.077: 100%|██████████| 128/128 [00:13<00:00,  9.37it/s]\n"
     ]
    },
    {
     "name": "stdout",
     "output_type": "stream",
     "text": [
      "train loss = 0.066\n",
      "Validation phase...\n"
     ]
    },
    {
     "name": "stderr",
     "output_type": "stream",
     "text": [
      "loss = 0.199: 100%|██████████| 37/37 [00:01<00:00, 28.66it/s]\n"
     ]
    },
    {
     "name": "stdout",
     "output_type": "stream",
     "text": [
      "validation loss = 0.227\n",
      "Epoch 17/64\n",
      "Training phase...\n"
     ]
    },
    {
     "name": "stderr",
     "output_type": "stream",
     "text": [
      "loss = 0.056: 100%|██████████| 128/128 [00:13<00:00,  9.73it/s]\n"
     ]
    },
    {
     "name": "stdout",
     "output_type": "stream",
     "text": [
      "train loss = 0.066\n",
      "Validation phase...\n"
     ]
    },
    {
     "name": "stderr",
     "output_type": "stream",
     "text": [
      "loss = 0.198: 100%|██████████| 37/37 [00:01<00:00, 28.82it/s]\n"
     ]
    },
    {
     "name": "stdout",
     "output_type": "stream",
     "text": [
      "validation loss = 0.235\n",
      "Epoch 18/64\n",
      "Training phase...\n"
     ]
    },
    {
     "name": "stderr",
     "output_type": "stream",
     "text": [
      "loss = 0.067: 100%|██████████| 128/128 [00:13<00:00,  9.75it/s]\n"
     ]
    },
    {
     "name": "stdout",
     "output_type": "stream",
     "text": [
      "train loss = 0.066\n",
      "Validation phase...\n"
     ]
    },
    {
     "name": "stderr",
     "output_type": "stream",
     "text": [
      "loss = 0.206: 100%|██████████| 37/37 [00:01<00:00, 28.55it/s]\n"
     ]
    },
    {
     "name": "stdout",
     "output_type": "stream",
     "text": [
      "validation loss = 0.227\n",
      "Epoch 19/64\n",
      "Training phase...\n"
     ]
    },
    {
     "name": "stderr",
     "output_type": "stream",
     "text": [
      "loss = 0.048: 100%|██████████| 128/128 [00:13<00:00,  9.53it/s]\n"
     ]
    },
    {
     "name": "stdout",
     "output_type": "stream",
     "text": [
      "train loss = 0.065\n",
      "Validation phase...\n"
     ]
    },
    {
     "name": "stderr",
     "output_type": "stream",
     "text": [
      "loss = 0.240: 100%|██████████| 37/37 [00:01<00:00, 28.59it/s]\n"
     ]
    },
    {
     "name": "stdout",
     "output_type": "stream",
     "text": [
      "validation loss = 0.237\n",
      "Epoch 20/64\n",
      "Training phase...\n"
     ]
    },
    {
     "name": "stderr",
     "output_type": "stream",
     "text": [
      "loss = 0.062: 100%|██████████| 128/128 [00:13<00:00,  9.50it/s]\n"
     ]
    },
    {
     "name": "stdout",
     "output_type": "stream",
     "text": [
      "train loss = 0.065\n",
      "Validation phase...\n"
     ]
    },
    {
     "name": "stderr",
     "output_type": "stream",
     "text": [
      "loss = 0.190: 100%|██████████| 37/37 [00:01<00:00, 28.53it/s]\n"
     ]
    },
    {
     "name": "stdout",
     "output_type": "stream",
     "text": [
      "validation loss = 0.226\n",
      "Epoch 21/64\n",
      "Training phase...\n"
     ]
    },
    {
     "name": "stderr",
     "output_type": "stream",
     "text": [
      "loss = 0.063: 100%|██████████| 128/128 [00:13<00:00,  9.71it/s]\n"
     ]
    },
    {
     "name": "stdout",
     "output_type": "stream",
     "text": [
      "train loss = 0.065\n",
      "Validation phase...\n"
     ]
    },
    {
     "name": "stderr",
     "output_type": "stream",
     "text": [
      "loss = 0.220: 100%|██████████| 37/37 [00:01<00:00, 28.51it/s]\n"
     ]
    },
    {
     "name": "stdout",
     "output_type": "stream",
     "text": [
      "validation loss = 0.229\n",
      "Epoch 22/64\n",
      "Training phase...\n"
     ]
    },
    {
     "name": "stderr",
     "output_type": "stream",
     "text": [
      "loss = 0.071: 100%|██████████| 128/128 [00:13<00:00,  9.70it/s]\n"
     ]
    },
    {
     "name": "stdout",
     "output_type": "stream",
     "text": [
      "train loss = 0.064\n",
      "Validation phase...\n"
     ]
    },
    {
     "name": "stderr",
     "output_type": "stream",
     "text": [
      "loss = 0.212: 100%|██████████| 37/37 [00:01<00:00, 28.54it/s]\n"
     ]
    },
    {
     "name": "stdout",
     "output_type": "stream",
     "text": [
      "validation loss = 0.224\n",
      "Epoch 23/64\n",
      "Training phase...\n"
     ]
    },
    {
     "name": "stderr",
     "output_type": "stream",
     "text": [
      "loss = 0.049: 100%|██████████| 128/128 [00:13<00:00,  9.47it/s]\n"
     ]
    },
    {
     "name": "stdout",
     "output_type": "stream",
     "text": [
      "train loss = 0.064\n",
      "Validation phase...\n"
     ]
    },
    {
     "name": "stderr",
     "output_type": "stream",
     "text": [
      "loss = 0.239: 100%|██████████| 37/37 [00:01<00:00, 28.21it/s]\n"
     ]
    },
    {
     "name": "stdout",
     "output_type": "stream",
     "text": [
      "validation loss = 0.235\n",
      "Epoch 24/64\n",
      "Training phase...\n"
     ]
    },
    {
     "name": "stderr",
     "output_type": "stream",
     "text": [
      "loss = 0.060: 100%|██████████| 128/128 [00:13<00:00,  9.54it/s]\n"
     ]
    },
    {
     "name": "stdout",
     "output_type": "stream",
     "text": [
      "train loss = 0.064\n",
      "Validation phase...\n"
     ]
    },
    {
     "name": "stderr",
     "output_type": "stream",
     "text": [
      "loss = 0.186: 100%|██████████| 37/37 [00:01<00:00, 28.04it/s]\n"
     ]
    },
    {
     "name": "stdout",
     "output_type": "stream",
     "text": [
      "validation loss = 0.224\n",
      "Epoch 25/64\n",
      "Training phase...\n"
     ]
    },
    {
     "name": "stderr",
     "output_type": "stream",
     "text": [
      "loss = 0.082: 100%|██████████| 128/128 [00:13<00:00,  9.56it/s]\n"
     ]
    },
    {
     "name": "stdout",
     "output_type": "stream",
     "text": [
      "train loss = 0.064\n",
      "Validation phase...\n"
     ]
    },
    {
     "name": "stderr",
     "output_type": "stream",
     "text": [
      "loss = 0.212: 100%|██████████| 37/37 [00:01<00:00, 27.78it/s]\n"
     ]
    },
    {
     "name": "stdout",
     "output_type": "stream",
     "text": [
      "validation loss = 0.237\n",
      "Epoch 26/64\n",
      "Training phase...\n"
     ]
    },
    {
     "name": "stderr",
     "output_type": "stream",
     "text": [
      "loss = 0.067: 100%|██████████| 128/128 [00:13<00:00,  9.52it/s]\n"
     ]
    },
    {
     "name": "stdout",
     "output_type": "stream",
     "text": [
      "train loss = 0.064\n",
      "Validation phase...\n"
     ]
    },
    {
     "name": "stderr",
     "output_type": "stream",
     "text": [
      "loss = 0.208: 100%|██████████| 37/37 [00:01<00:00, 28.16it/s]\n"
     ]
    },
    {
     "name": "stdout",
     "output_type": "stream",
     "text": [
      "validation loss = 0.234\n",
      "Epoch 27/64\n",
      "Training phase...\n"
     ]
    },
    {
     "name": "stderr",
     "output_type": "stream",
     "text": [
      "loss = 0.069: 100%|██████████| 128/128 [00:13<00:00,  9.56it/s]\n"
     ]
    },
    {
     "name": "stdout",
     "output_type": "stream",
     "text": [
      "train loss = 0.063\n",
      "Validation phase...\n"
     ]
    },
    {
     "name": "stderr",
     "output_type": "stream",
     "text": [
      "loss = 0.264: 100%|██████████| 37/37 [00:01<00:00, 28.57it/s]\n"
     ]
    },
    {
     "name": "stdout",
     "output_type": "stream",
     "text": [
      "validation loss = 0.231\n",
      "Epoch 28/64\n",
      "Training phase...\n"
     ]
    },
    {
     "name": "stderr",
     "output_type": "stream",
     "text": [
      "loss = 0.066: 100%|██████████| 128/128 [00:13<00:00,  9.57it/s]\n"
     ]
    },
    {
     "name": "stdout",
     "output_type": "stream",
     "text": [
      "train loss = 0.063\n",
      "Validation phase...\n"
     ]
    },
    {
     "name": "stderr",
     "output_type": "stream",
     "text": [
      "loss = 0.200: 100%|██████████| 37/37 [00:01<00:00, 28.44it/s]\n"
     ]
    },
    {
     "name": "stdout",
     "output_type": "stream",
     "text": [
      "validation loss = 0.217\n",
      "Epoch 29/64\n",
      "Training phase...\n"
     ]
    },
    {
     "name": "stderr",
     "output_type": "stream",
     "text": [
      "loss = 0.047: 100%|██████████| 128/128 [00:13<00:00,  9.49it/s]\n"
     ]
    },
    {
     "name": "stdout",
     "output_type": "stream",
     "text": [
      "train loss = 0.063\n",
      "Validation phase...\n"
     ]
    },
    {
     "name": "stderr",
     "output_type": "stream",
     "text": [
      "loss = 0.278: 100%|██████████| 37/37 [00:01<00:00, 27.86it/s]\n"
     ]
    },
    {
     "name": "stdout",
     "output_type": "stream",
     "text": [
      "validation loss = 0.240\n",
      "Epoch 30/64\n",
      "Training phase...\n"
     ]
    },
    {
     "name": "stderr",
     "output_type": "stream",
     "text": [
      "loss = 0.072: 100%|██████████| 128/128 [00:13<00:00,  9.58it/s]\n"
     ]
    },
    {
     "name": "stdout",
     "output_type": "stream",
     "text": [
      "train loss = 0.063\n",
      "Validation phase...\n"
     ]
    },
    {
     "name": "stderr",
     "output_type": "stream",
     "text": [
      "loss = 0.219: 100%|██████████| 37/37 [00:01<00:00, 28.28it/s]\n"
     ]
    },
    {
     "name": "stdout",
     "output_type": "stream",
     "text": [
      "validation loss = 0.236\n",
      "Epoch 31/64\n",
      "Training phase...\n"
     ]
    },
    {
     "name": "stderr",
     "output_type": "stream",
     "text": [
      "loss = 0.062: 100%|██████████| 128/128 [00:13<00:00,  9.54it/s]\n"
     ]
    },
    {
     "name": "stdout",
     "output_type": "stream",
     "text": [
      "train loss = 0.063\n",
      "Validation phase...\n"
     ]
    },
    {
     "name": "stderr",
     "output_type": "stream",
     "text": [
      "loss = 0.213: 100%|██████████| 37/37 [00:01<00:00, 27.97it/s]\n"
     ]
    },
    {
     "name": "stdout",
     "output_type": "stream",
     "text": [
      "validation loss = 0.226\n",
      "Epoch 32/64\n",
      "Training phase...\n"
     ]
    },
    {
     "name": "stderr",
     "output_type": "stream",
     "text": [
      "loss = 0.061: 100%|██████████| 128/128 [00:13<00:00,  9.30it/s]\n"
     ]
    },
    {
     "name": "stdout",
     "output_type": "stream",
     "text": [
      "train loss = 0.063\n",
      "Validation phase...\n"
     ]
    },
    {
     "name": "stderr",
     "output_type": "stream",
     "text": [
      "loss = 0.218: 100%|██████████| 37/37 [00:01<00:00, 28.54it/s]\n"
     ]
    },
    {
     "name": "stdout",
     "output_type": "stream",
     "text": [
      "validation loss = 0.234\n",
      "Epoch 33/64\n",
      "Training phase...\n"
     ]
    },
    {
     "name": "stderr",
     "output_type": "stream",
     "text": [
      "loss = 0.052: 100%|██████████| 128/128 [00:13<00:00,  9.39it/s]\n"
     ]
    },
    {
     "name": "stdout",
     "output_type": "stream",
     "text": [
      "train loss = 0.062\n",
      "Validation phase...\n"
     ]
    },
    {
     "name": "stderr",
     "output_type": "stream",
     "text": [
      "loss = 0.223: 100%|██████████| 37/37 [00:01<00:00, 29.06it/s]\n"
     ]
    },
    {
     "name": "stdout",
     "output_type": "stream",
     "text": [
      "validation loss = 0.228\n",
      "Epoch 34/64\n",
      "Training phase...\n"
     ]
    },
    {
     "name": "stderr",
     "output_type": "stream",
     "text": [
      "loss = 0.073: 100%|██████████| 128/128 [00:13<00:00,  9.76it/s]\n"
     ]
    },
    {
     "name": "stdout",
     "output_type": "stream",
     "text": [
      "train loss = 0.062\n",
      "Validation phase...\n"
     ]
    },
    {
     "name": "stderr",
     "output_type": "stream",
     "text": [
      "loss = 0.201: 100%|██████████| 37/37 [00:01<00:00, 27.27it/s]\n"
     ]
    },
    {
     "name": "stdout",
     "output_type": "stream",
     "text": [
      "validation loss = 0.229\n",
      "Epoch 35/64\n",
      "Training phase...\n"
     ]
    },
    {
     "name": "stderr",
     "output_type": "stream",
     "text": [
      "loss = 0.059: 100%|██████████| 128/128 [00:13<00:00,  9.61it/s]\n"
     ]
    },
    {
     "name": "stdout",
     "output_type": "stream",
     "text": [
      "train loss = 0.062\n",
      "Validation phase...\n"
     ]
    },
    {
     "name": "stderr",
     "output_type": "stream",
     "text": [
      "loss = 0.223: 100%|██████████| 37/37 [00:01<00:00, 28.19it/s]\n"
     ]
    },
    {
     "name": "stdout",
     "output_type": "stream",
     "text": [
      "validation loss = 0.238\n",
      "Epoch 36/64\n",
      "Training phase...\n"
     ]
    },
    {
     "name": "stderr",
     "output_type": "stream",
     "text": [
      "loss = 0.055: 100%|██████████| 128/128 [00:13<00:00,  9.68it/s]\n"
     ]
    },
    {
     "name": "stdout",
     "output_type": "stream",
     "text": [
      "train loss = 0.062\n",
      "Validation phase...\n"
     ]
    },
    {
     "name": "stderr",
     "output_type": "stream",
     "text": [
      "loss = 0.230: 100%|██████████| 37/37 [00:01<00:00, 29.17it/s]\n"
     ]
    },
    {
     "name": "stdout",
     "output_type": "stream",
     "text": [
      "validation loss = 0.252\n",
      "Epoch 37/64\n",
      "Training phase...\n"
     ]
    },
    {
     "name": "stderr",
     "output_type": "stream",
     "text": [
      "loss = 0.060: 100%|██████████| 128/128 [00:13<00:00,  9.76it/s]\n"
     ]
    },
    {
     "name": "stdout",
     "output_type": "stream",
     "text": [
      "train loss = 0.062\n",
      "Validation phase...\n"
     ]
    },
    {
     "name": "stderr",
     "output_type": "stream",
     "text": [
      "loss = 0.241: 100%|██████████| 37/37 [00:01<00:00, 28.32it/s]\n"
     ]
    },
    {
     "name": "stdout",
     "output_type": "stream",
     "text": [
      "validation loss = 0.244\n",
      "Epoch 38/64\n",
      "Training phase...\n"
     ]
    },
    {
     "name": "stderr",
     "output_type": "stream",
     "text": [
      "loss = 0.069: 100%|██████████| 128/128 [00:13<00:00,  9.75it/s]\n"
     ]
    },
    {
     "name": "stdout",
     "output_type": "stream",
     "text": [
      "train loss = 0.062\n",
      "Validation phase...\n"
     ]
    },
    {
     "name": "stderr",
     "output_type": "stream",
     "text": [
      "loss = 0.190: 100%|██████████| 37/37 [00:01<00:00, 29.16it/s]\n"
     ]
    },
    {
     "name": "stdout",
     "output_type": "stream",
     "text": [
      "validation loss = 0.229\n",
      "Epoch 39/64\n",
      "Training phase...\n"
     ]
    },
    {
     "name": "stderr",
     "output_type": "stream",
     "text": [
      "loss = 0.040: 100%|██████████| 128/128 [00:13<00:00,  9.64it/s]\n"
     ]
    },
    {
     "name": "stdout",
     "output_type": "stream",
     "text": [
      "train loss = 0.062\n",
      "Validation phase...\n"
     ]
    },
    {
     "name": "stderr",
     "output_type": "stream",
     "text": [
      "loss = 0.223: 100%|██████████| 37/37 [00:01<00:00, 28.95it/s]\n"
     ]
    },
    {
     "name": "stdout",
     "output_type": "stream",
     "text": [
      "validation loss = 0.233\n",
      "Epoch 40/64\n",
      "Training phase...\n"
     ]
    },
    {
     "name": "stderr",
     "output_type": "stream",
     "text": [
      "loss = 0.049: 100%|██████████| 128/128 [00:12<00:00,  9.87it/s]\n"
     ]
    },
    {
     "name": "stdout",
     "output_type": "stream",
     "text": [
      "train loss = 0.062\n",
      "Validation phase...\n"
     ]
    },
    {
     "name": "stderr",
     "output_type": "stream",
     "text": [
      "loss = 0.264: 100%|██████████| 37/37 [00:01<00:00, 29.05it/s]\n"
     ]
    },
    {
     "name": "stdout",
     "output_type": "stream",
     "text": [
      "validation loss = 0.230\n",
      "Epoch 41/64\n",
      "Training phase...\n"
     ]
    },
    {
     "name": "stderr",
     "output_type": "stream",
     "text": [
      "loss = 0.080: 100%|██████████| 128/128 [00:13<00:00,  9.82it/s]\n"
     ]
    },
    {
     "name": "stdout",
     "output_type": "stream",
     "text": [
      "train loss = 0.062\n",
      "Validation phase...\n"
     ]
    },
    {
     "name": "stderr",
     "output_type": "stream",
     "text": [
      "loss = 0.206: 100%|██████████| 37/37 [00:01<00:00, 28.41it/s]\n"
     ]
    },
    {
     "name": "stdout",
     "output_type": "stream",
     "text": [
      "validation loss = 0.228\n",
      "Epoch 42/64\n",
      "Training phase...\n"
     ]
    },
    {
     "name": "stderr",
     "output_type": "stream",
     "text": [
      "loss = 0.057: 100%|██████████| 128/128 [00:13<00:00,  9.60it/s]\n"
     ]
    },
    {
     "name": "stdout",
     "output_type": "stream",
     "text": [
      "train loss = 0.062\n",
      "Validation phase...\n"
     ]
    },
    {
     "name": "stderr",
     "output_type": "stream",
     "text": [
      "loss = 0.240: 100%|██████████| 37/37 [00:01<00:00, 29.26it/s]\n"
     ]
    },
    {
     "name": "stdout",
     "output_type": "stream",
     "text": [
      "validation loss = 0.233\n",
      "Epoch 43/64\n",
      "Training phase...\n"
     ]
    },
    {
     "name": "stderr",
     "output_type": "stream",
     "text": [
      "loss = 0.058: 100%|██████████| 128/128 [00:13<00:00,  9.75it/s]\n"
     ]
    },
    {
     "name": "stdout",
     "output_type": "stream",
     "text": [
      "train loss = 0.062\n",
      "Validation phase...\n"
     ]
    },
    {
     "name": "stderr",
     "output_type": "stream",
     "text": [
      "loss = 0.212: 100%|██████████| 37/37 [00:01<00:00, 28.27it/s]\n"
     ]
    },
    {
     "name": "stdout",
     "output_type": "stream",
     "text": [
      "validation loss = 0.221\n",
      "Epoch 44/64\n",
      "Training phase...\n"
     ]
    },
    {
     "name": "stderr",
     "output_type": "stream",
     "text": [
      "loss = 0.038: 100%|██████████| 128/128 [00:13<00:00,  9.62it/s]\n"
     ]
    },
    {
     "name": "stdout",
     "output_type": "stream",
     "text": [
      "train loss = 0.061\n",
      "Validation phase...\n"
     ]
    },
    {
     "name": "stderr",
     "output_type": "stream",
     "text": [
      "loss = 0.253: 100%|██████████| 37/37 [00:01<00:00, 28.75it/s]\n"
     ]
    },
    {
     "name": "stdout",
     "output_type": "stream",
     "text": [
      "validation loss = 0.248\n",
      "Epoch 45/64\n",
      "Training phase...\n"
     ]
    },
    {
     "name": "stderr",
     "output_type": "stream",
     "text": [
      "loss = 0.055: 100%|██████████| 128/128 [00:13<00:00,  9.67it/s]\n"
     ]
    },
    {
     "name": "stdout",
     "output_type": "stream",
     "text": [
      "train loss = 0.061\n",
      "Validation phase...\n"
     ]
    },
    {
     "name": "stderr",
     "output_type": "stream",
     "text": [
      "loss = 0.246: 100%|██████████| 37/37 [00:01<00:00, 28.53it/s]\n"
     ]
    },
    {
     "name": "stdout",
     "output_type": "stream",
     "text": [
      "validation loss = 0.238\n",
      "Epoch 46/64\n",
      "Training phase...\n"
     ]
    },
    {
     "name": "stderr",
     "output_type": "stream",
     "text": [
      "loss = 0.047: 100%|██████████| 128/128 [00:13<00:00,  9.70it/s]\n"
     ]
    },
    {
     "name": "stdout",
     "output_type": "stream",
     "text": [
      "train loss = 0.061\n",
      "Validation phase...\n"
     ]
    },
    {
     "name": "stderr",
     "output_type": "stream",
     "text": [
      "loss = 0.220: 100%|██████████| 37/37 [00:01<00:00, 29.60it/s]\n"
     ]
    },
    {
     "name": "stdout",
     "output_type": "stream",
     "text": [
      "validation loss = 0.233\n",
      "Epoch 47/64\n",
      "Training phase...\n"
     ]
    },
    {
     "name": "stderr",
     "output_type": "stream",
     "text": [
      "loss = 0.053: 100%|██████████| 128/128 [00:13<00:00,  9.68it/s]\n"
     ]
    },
    {
     "name": "stdout",
     "output_type": "stream",
     "text": [
      "train loss = 0.061\n",
      "Validation phase...\n"
     ]
    },
    {
     "name": "stderr",
     "output_type": "stream",
     "text": [
      "loss = 0.229: 100%|██████████| 37/37 [00:01<00:00, 27.72it/s]\n"
     ]
    },
    {
     "name": "stdout",
     "output_type": "stream",
     "text": [
      "validation loss = 0.224\n",
      "Epoch 48/64\n",
      "Training phase...\n"
     ]
    },
    {
     "name": "stderr",
     "output_type": "stream",
     "text": [
      "loss = 0.081: 100%|██████████| 128/128 [00:13<00:00,  9.65it/s]\n"
     ]
    },
    {
     "name": "stdout",
     "output_type": "stream",
     "text": [
      "train loss = 0.061\n",
      "Validation phase...\n"
     ]
    },
    {
     "name": "stderr",
     "output_type": "stream",
     "text": [
      "loss = 0.216: 100%|██████████| 37/37 [00:01<00:00, 28.92it/s]\n"
     ]
    },
    {
     "name": "stdout",
     "output_type": "stream",
     "text": [
      "validation loss = 0.237\n",
      "Epoch 49/64\n",
      "Training phase...\n"
     ]
    },
    {
     "name": "stderr",
     "output_type": "stream",
     "text": [
      "loss = 0.078: 100%|██████████| 128/128 [00:13<00:00,  9.69it/s]\n"
     ]
    },
    {
     "name": "stdout",
     "output_type": "stream",
     "text": [
      "train loss = 0.061\n",
      "Validation phase...\n"
     ]
    },
    {
     "name": "stderr",
     "output_type": "stream",
     "text": [
      "loss = 0.211: 100%|██████████| 37/37 [00:01<00:00, 29.36it/s]\n"
     ]
    },
    {
     "name": "stdout",
     "output_type": "stream",
     "text": [
      "validation loss = 0.235\n",
      "Epoch 50/64\n",
      "Training phase...\n"
     ]
    },
    {
     "name": "stderr",
     "output_type": "stream",
     "text": [
      "loss = 0.064: 100%|██████████| 128/128 [00:13<00:00,  9.66it/s]\n"
     ]
    },
    {
     "name": "stdout",
     "output_type": "stream",
     "text": [
      "train loss = 0.061\n",
      "Validation phase...\n"
     ]
    },
    {
     "name": "stderr",
     "output_type": "stream",
     "text": [
      "loss = 0.194: 100%|██████████| 37/37 [00:01<00:00, 29.32it/s]\n"
     ]
    },
    {
     "name": "stdout",
     "output_type": "stream",
     "text": [
      "validation loss = 0.252\n",
      "Epoch 51/64\n",
      "Training phase...\n"
     ]
    },
    {
     "name": "stderr",
     "output_type": "stream",
     "text": [
      "loss = 0.039: 100%|██████████| 128/128 [00:13<00:00,  9.60it/s]\n"
     ]
    },
    {
     "name": "stdout",
     "output_type": "stream",
     "text": [
      "train loss = 0.061\n",
      "Validation phase...\n"
     ]
    },
    {
     "name": "stderr",
     "output_type": "stream",
     "text": [
      "loss = 0.202: 100%|██████████| 37/37 [00:01<00:00, 29.57it/s]\n"
     ]
    },
    {
     "name": "stdout",
     "output_type": "stream",
     "text": [
      "validation loss = 0.234\n",
      "Epoch 52/64\n",
      "Training phase...\n"
     ]
    },
    {
     "name": "stderr",
     "output_type": "stream",
     "text": [
      "loss = 0.062: 100%|██████████| 128/128 [00:13<00:00,  9.78it/s]\n"
     ]
    },
    {
     "name": "stdout",
     "output_type": "stream",
     "text": [
      "train loss = 0.061\n",
      "Validation phase...\n"
     ]
    },
    {
     "name": "stderr",
     "output_type": "stream",
     "text": [
      "loss = 0.222: 100%|██████████| 37/37 [00:01<00:00, 28.94it/s]\n"
     ]
    },
    {
     "name": "stdout",
     "output_type": "stream",
     "text": [
      "validation loss = 0.231\n",
      "Epoch 53/64\n",
      "Training phase...\n"
     ]
    },
    {
     "name": "stderr",
     "output_type": "stream",
     "text": [
      "loss = 0.049: 100%|██████████| 128/128 [00:13<00:00,  9.59it/s]\n"
     ]
    },
    {
     "name": "stdout",
     "output_type": "stream",
     "text": [
      "train loss = 0.061\n",
      "Validation phase...\n"
     ]
    },
    {
     "name": "stderr",
     "output_type": "stream",
     "text": [
      "loss = 0.248: 100%|██████████| 37/37 [00:01<00:00, 28.97it/s]\n"
     ]
    },
    {
     "name": "stdout",
     "output_type": "stream",
     "text": [
      "validation loss = 0.241\n",
      "Epoch 54/64\n",
      "Training phase...\n"
     ]
    },
    {
     "name": "stderr",
     "output_type": "stream",
     "text": [
      "loss = 0.052: 100%|██████████| 128/128 [00:12<00:00,  9.88it/s]\n"
     ]
    },
    {
     "name": "stdout",
     "output_type": "stream",
     "text": [
      "train loss = 0.061\n",
      "Validation phase...\n"
     ]
    },
    {
     "name": "stderr",
     "output_type": "stream",
     "text": [
      "loss = 0.251: 100%|██████████| 37/37 [00:01<00:00, 29.02it/s]\n"
     ]
    },
    {
     "name": "stdout",
     "output_type": "stream",
     "text": [
      "validation loss = 0.261\n",
      "Epoch 55/64\n",
      "Training phase...\n"
     ]
    },
    {
     "name": "stderr",
     "output_type": "stream",
     "text": [
      "loss = 0.040: 100%|██████████| 128/128 [00:13<00:00,  9.68it/s]\n"
     ]
    },
    {
     "name": "stdout",
     "output_type": "stream",
     "text": [
      "train loss = 0.061\n",
      "Validation phase...\n"
     ]
    },
    {
     "name": "stderr",
     "output_type": "stream",
     "text": [
      "loss = 0.216: 100%|██████████| 37/37 [00:01<00:00, 28.89it/s]\n"
     ]
    },
    {
     "name": "stdout",
     "output_type": "stream",
     "text": [
      "validation loss = 0.240\n",
      "Epoch 56/64\n",
      "Training phase...\n"
     ]
    },
    {
     "name": "stderr",
     "output_type": "stream",
     "text": [
      "loss = 0.084: 100%|██████████| 128/128 [00:13<00:00,  9.69it/s]\n"
     ]
    },
    {
     "name": "stdout",
     "output_type": "stream",
     "text": [
      "train loss = 0.061\n",
      "Validation phase...\n"
     ]
    },
    {
     "name": "stderr",
     "output_type": "stream",
     "text": [
      "loss = 0.245: 100%|██████████| 37/37 [00:01<00:00, 28.48it/s]\n"
     ]
    },
    {
     "name": "stdout",
     "output_type": "stream",
     "text": [
      "validation loss = 0.230\n",
      "Epoch 57/64\n",
      "Training phase...\n"
     ]
    },
    {
     "name": "stderr",
     "output_type": "stream",
     "text": [
      "loss = 0.060: 100%|██████████| 128/128 [00:13<00:00,  9.80it/s]\n"
     ]
    },
    {
     "name": "stdout",
     "output_type": "stream",
     "text": [
      "train loss = 0.061\n",
      "Validation phase...\n"
     ]
    },
    {
     "name": "stderr",
     "output_type": "stream",
     "text": [
      "loss = 0.233: 100%|██████████| 37/37 [00:01<00:00, 28.44it/s]\n"
     ]
    },
    {
     "name": "stdout",
     "output_type": "stream",
     "text": [
      "validation loss = 0.229\n",
      "Epoch 58/64\n",
      "Training phase...\n"
     ]
    },
    {
     "name": "stderr",
     "output_type": "stream",
     "text": [
      "loss = 0.074: 100%|██████████| 128/128 [00:13<00:00,  9.74it/s]\n"
     ]
    },
    {
     "name": "stdout",
     "output_type": "stream",
     "text": [
      "train loss = 0.061\n",
      "Validation phase...\n"
     ]
    },
    {
     "name": "stderr",
     "output_type": "stream",
     "text": [
      "loss = 0.203: 100%|██████████| 37/37 [00:01<00:00, 28.50it/s]\n"
     ]
    },
    {
     "name": "stdout",
     "output_type": "stream",
     "text": [
      "validation loss = 0.256\n",
      "Epoch 59/64\n",
      "Training phase...\n"
     ]
    },
    {
     "name": "stderr",
     "output_type": "stream",
     "text": [
      "loss = 0.065: 100%|██████████| 128/128 [00:13<00:00,  9.66it/s]\n"
     ]
    },
    {
     "name": "stdout",
     "output_type": "stream",
     "text": [
      "train loss = 0.061\n",
      "Validation phase...\n"
     ]
    },
    {
     "name": "stderr",
     "output_type": "stream",
     "text": [
      "loss = 0.272: 100%|██████████| 37/37 [00:01<00:00, 28.61it/s]\n"
     ]
    },
    {
     "name": "stdout",
     "output_type": "stream",
     "text": [
      "validation loss = 0.238\n",
      "Epoch 60/64\n",
      "Training phase...\n"
     ]
    },
    {
     "name": "stderr",
     "output_type": "stream",
     "text": [
      "loss = 0.061: 100%|██████████| 128/128 [00:13<00:00,  9.71it/s]\n"
     ]
    },
    {
     "name": "stdout",
     "output_type": "stream",
     "text": [
      "train loss = 0.060\n",
      "Validation phase...\n"
     ]
    },
    {
     "name": "stderr",
     "output_type": "stream",
     "text": [
      "loss = 0.194: 100%|██████████| 37/37 [00:01<00:00, 29.36it/s]\n"
     ]
    },
    {
     "name": "stdout",
     "output_type": "stream",
     "text": [
      "validation loss = 0.241\n",
      "Epoch 61/64\n",
      "Training phase...\n"
     ]
    },
    {
     "name": "stderr",
     "output_type": "stream",
     "text": [
      "loss = 0.056: 100%|██████████| 128/128 [00:13<00:00,  9.68it/s]\n"
     ]
    },
    {
     "name": "stdout",
     "output_type": "stream",
     "text": [
      "train loss = 0.060\n",
      "Validation phase...\n"
     ]
    },
    {
     "name": "stderr",
     "output_type": "stream",
     "text": [
      "loss = 0.297: 100%|██████████| 37/37 [00:01<00:00, 29.06it/s]\n"
     ]
    },
    {
     "name": "stdout",
     "output_type": "stream",
     "text": [
      "validation loss = 0.245\n",
      "Epoch 62/64\n",
      "Training phase...\n"
     ]
    },
    {
     "name": "stderr",
     "output_type": "stream",
     "text": [
      "loss = 0.065: 100%|██████████| 128/128 [00:13<00:00,  9.70it/s]\n"
     ]
    },
    {
     "name": "stdout",
     "output_type": "stream",
     "text": [
      "train loss = 0.060\n",
      "Validation phase...\n"
     ]
    },
    {
     "name": "stderr",
     "output_type": "stream",
     "text": [
      "loss = 0.238: 100%|██████████| 37/37 [00:01<00:00, 29.23it/s]\n"
     ]
    },
    {
     "name": "stdout",
     "output_type": "stream",
     "text": [
      "validation loss = 0.233\n",
      "Epoch 63/64\n",
      "Training phase...\n"
     ]
    },
    {
     "name": "stderr",
     "output_type": "stream",
     "text": [
      "loss = 0.057: 100%|██████████| 128/128 [00:13<00:00,  9.62it/s]\n"
     ]
    },
    {
     "name": "stdout",
     "output_type": "stream",
     "text": [
      "train loss = 0.060\n",
      "Validation phase...\n"
     ]
    },
    {
     "name": "stderr",
     "output_type": "stream",
     "text": [
      "loss = 0.222: 100%|██████████| 37/37 [00:01<00:00, 29.36it/s]\n"
     ]
    },
    {
     "name": "stdout",
     "output_type": "stream",
     "text": [
      "validation loss = 0.231\n",
      "Epoch 64/64\n",
      "Training phase...\n"
     ]
    },
    {
     "name": "stderr",
     "output_type": "stream",
     "text": [
      "loss = 0.078: 100%|██████████| 128/128 [00:13<00:00,  9.67it/s]\n"
     ]
    },
    {
     "name": "stdout",
     "output_type": "stream",
     "text": [
      "train loss = 0.060\n",
      "Validation phase...\n"
     ]
    },
    {
     "name": "stderr",
     "output_type": "stream",
     "text": [
      "loss = 0.221: 100%|██████████| 37/37 [00:01<00:00, 28.74it/s]"
     ]
    },
    {
     "name": "stdout",
     "output_type": "stream",
     "text": [
      "validation loss = 0.237\n"
     ]
    },
    {
     "name": "stderr",
     "output_type": "stream",
     "text": [
      "\n"
     ]
    }
   ],
   "source": [
    "train_loss, val_loss = fit(model, train_loader, val_loader, optimizer, num_epochs = NUM_EPOCHS, device = DEVICE)"
   ]
  },
  {
   "cell_type": "code",
   "execution_count": 15,
   "metadata": {},
   "outputs": [
    {
     "data": {
      "image/png": "[encoded data removed]",
      "text/plain": [
       "<Figure size 640x480 with 1 Axes>"
      ]
     },
     "metadata": {},
     "output_type": "display_data"
    }
   ],
   "source": [
    "plt.title('Train and validation losses using Teacher Forcing during training')\n",
    "plt.plot(range(len(train_loss)), train_loss, label='train loss')\n",
    "plt.plot(range(len(val_loss)), val_loss, label='validation loss')\n",
    "plt.legend()\n",
    "plt.show()"
   ]
  },
  {
   "cell_type": "markdown",
   "metadata": {},
   "source": [
    "## iii)"
   ]
  },
  {
   "cell_type": "markdown",
   "metadata": {},
   "source": [
    "<h2>Which of the strategies do you expect to yield a model with better generalization? Explain your answer.</h2>\n",
    "<p>The strategy that enables to model to generalize better for unseen sequences would the a RNN without teacher forcing. Altough teacher forcing enables a RNN to converge quicker to a local optimum, the disadvantage is that when facing unseen data (development and testing sets), an autoregressive model has no way of knowing what is the ground truth for a particular time step, and therefore underperforms with a high variance (or overfit). So, if a RNN w/teacher forcing is more likely to underperform when faced with unsees data than an autoregressive RNN that learns with only what it knows, then a model without teacher forcing generalizes better!</p>"
   ]
  }
 ],
 "metadata": {
  "kernelspec": {
   "display_name": "Python 3 (ipykernel)",
   "language": "python",
   "name": "python3"
  },
  "language_info": {
   "codemirror_mode": {
    "name": "ipython",
    "version": 3
   },
   "file_extension": ".py",
   "mimetype": "text/x-python",
   "name": "python",
   "nbconvert_exporter": "python",
   "pygments_lexer": "ipython3",
   "version": "3.10.9"
  }
 },
 "nbformat": 4,
 "nbformat_minor": 2
}
