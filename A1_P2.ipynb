{
 "cells": [
  {
   "cell_type": "code",
   "execution_count": 1,
   "metadata": {},
   "outputs": [],
   "source": [
    "import numpy as np\n",
    "import torch\n",
    "\n",
    "# Ignore UserWarning\n",
    "import warnings\n",
    "warnings.filterwarnings(\"ignore\", category=UserWarning)"
   ]
  },
  {
   "cell_type": "code",
   "execution_count": 2,
   "metadata": {},
   "outputs": [],
   "source": [
    "x = torch.tensor([[0.3, 0.1], [-0.2, 0.1]])\n",
    "w = torch.tensor([1, -1])\n",
    "v = -1\n",
    "b = 0\n",
    "h = torch.tensor([0.0, 0.0])\n",
    "h_0 = torch.tensor([0.0])\n",
    "y_true = torch.tensor([1, 0])"
   ]
  },
  {
   "cell_type": "code",
   "execution_count": 3,
   "metadata": {},
   "outputs": [],
   "source": [
    "# Compute h1 and h2\n",
    "linear_comb = np.matmul(x.T, w)\n",
    "h[0] = linear_comb[0] + v * h_0 + b\n",
    "h[1] = linear_comb[1] + v * h[0] + b"
   ]
  },
  {
   "cell_type": "code",
   "execution_count": 4,
   "metadata": {},
   "outputs": [
    {
     "name": "stdout",
     "output_type": "stream",
     "text": [
      "y_hat:  tensor([0.6225, 0.3775])\n"
     ]
    }
   ],
   "source": [
    "h = torch.nn.Sigmoid()(h)\n",
    "y_hat = h\n",
    "print(\"y_hat: \", y_hat)"
   ]
  },
  {
   "cell_type": "code",
   "execution_count": 7,
   "metadata": {},
   "outputs": [],
   "source": [
    "# Define function that implements the binary cross entropy loss function\n",
    "def binary_cross_entropy(y_true, y_hat):\n",
    "    loss = -1 * (y_true * torch.log(y_hat) + (1 - y_true) * torch.log(1 - y_hat))\n",
    "    cost = torch.mean(loss)\n",
    "    return loss, cost"
   ]
  },
  {
   "cell_type": "code",
   "execution_count": 8,
   "metadata": {},
   "outputs": [
    {
     "name": "stdout",
     "output_type": "stream",
     "text": [
      "Loss:  tensor([0.4741, 0.4741])\n",
      "Cost:  tensor(0.4741)\n"
     ]
    }
   ],
   "source": [
    "loss, cost = binary_cross_entropy(y_true, y_hat)\n",
    "print(\"Loss: \", loss)\n",
    "print(\"Cost: \", loss[1])"
   ]
  },
  {
   "cell_type": "code",
   "execution_count": 27,
   "metadata": {},
   "outputs": [],
   "source": [
    "# Define function that implements the backpropagation algorithm\n",
    "def backpropagation(x, y_true, y_hat, w, learning_rate = 0.1):\n",
    "    # Compute gradients\n",
    "    dL_dy_hat = -1 * (y_true / y_hat - (1 - y_true) / (1 - y_hat))\n",
    "    dy_hat_dh = y_hat * (1 - y_hat)\n",
    "    dh_dw = x\n",
    "    dL_dw = dL_dy_hat * dy_hat_dh * dh_dw\n",
    "\n",
    "    # Update weights\n",
    "    w = w - learning_rate * dL_dw\n",
    "\n",
    "    return w, dL_dw"
   ]
  },
  {
   "cell_type": "code",
   "execution_count": 29,
   "metadata": {},
   "outputs": [
    {
     "name": "stdout",
     "output_type": "stream",
     "text": [
      "Gradient with respect to y_hat: tensor([[-0.1133,  0.0378],\n",
      "        [ 0.0755,  0.0378]])\n",
      "Updated weight vector (w_new): tensor([[-0.9773, -1.0076],\n",
      "        [-1.0151, -1.0076]])\n"
     ]
    }
   ],
   "source": [
    "weights, grad = backpropagation(x, y_true, y_hat, w)\n",
    "print(\"Gradient with respect to y_hat:\", grad)\n",
    "print(\"Updated weight vector (w_new):\", weights)"
   ]
  }
 ],
 "metadata": {
  "kernelspec": {
   "display_name": "base",
   "language": "python",
   "name": "python3"
  },
  "language_info": {
   "codemirror_mode": {
    "name": "ipython",
    "version": 3
   },
   "file_extension": ".py",
   "mimetype": "text/x-python",
   "name": "python",
   "nbconvert_exporter": "python",
   "pygments_lexer": "ipython3",
   "version": "3.10.9"
  }
 },
 "nbformat": 4,
 "nbformat_minor": 2
}
