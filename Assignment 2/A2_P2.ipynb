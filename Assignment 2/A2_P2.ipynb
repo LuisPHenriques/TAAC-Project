{
 "cells": [
  {
   "cell_type": "code",
   "execution_count": 1,
   "metadata": {
    "collapsed": true,
    "ExecuteTime": {
     "end_time": "2023-11-27T00:22:17.600387100Z",
     "start_time": "2023-11-27T00:22:17.578225800Z"
    }
   },
   "outputs": [],
   "source": [
    "import math\n"
   ]
  },
  {
   "cell_type": "markdown",
   "source": [
    "Word         | and | eat | strawberry | the | you |\n",
    "Frequency    |  1  |  1  |      1      |  1  |  1  |\n"
   ],
   "metadata": {
    "collapsed": false
   }
  },
  {
   "cell_type": "code",
   "execution_count": 2,
   "outputs": [
    {
     "name": "stdout",
     "output_type": "stream",
     "text": [
      "TF-IDF_and: 0.10536051565782635\n",
      "TF-IDF_eat: 0.9162907318741551\n",
      "TF-IDF_strawberry: 1.6094379124341003\n",
      "TF-IDF_the: 0.16251892949777494\n",
      "TF-IDF_you: 2.995732273553991\n"
     ]
    }
   ],
   "source": [
    "import math\n",
    "\n",
    "# Given TF values\n",
    "TF_and = 1\n",
    "TF_eat = 1\n",
    "TF_strawberry = 1\n",
    "TF_the = 1\n",
    "TF_you = 1\n",
    "\n",
    "# Given IDF values\n",
    "IDF_and = math.log(100 / 90)\n",
    "IDF_eat = math.log(100 / 40)\n",
    "IDF_strawberry = math.log(100 / 20)\n",
    "IDF_the = math.log(100 / 85)\n",
    "IDF_you = math.log(100 / 5)\n",
    "\n",
    "# Calculate TF-IDF values\n",
    "TF_IDF_and = TF_and * IDF_and\n",
    "TF_IDF_eat = TF_eat * IDF_eat\n",
    "TF_IDF_strawberry = TF_strawberry * IDF_strawberry\n",
    "TF_IDF_the = TF_the * IDF_the\n",
    "TF_IDF_you = TF_you * IDF_you\n",
    "\n",
    "# Print TF-IDF values\n",
    "print(\"TF-IDF_and:\", TF_IDF_and)\n",
    "print(\"TF-IDF_eat:\", TF_IDF_eat)\n",
    "print(\"TF-IDF_strawberry:\", TF_IDF_strawberry)\n",
    "print(\"TF-IDF_the:\", TF_IDF_the)\n",
    "print(\"TF-IDF_you:\", TF_IDF_you)\n"
   ],
   "metadata": {
    "collapsed": false,
    "ExecuteTime": {
     "end_time": "2023-11-27T00:54:12.159601500Z",
     "start_time": "2023-11-27T00:54:12.132381400Z"
    }
   }
  },
  {
   "cell_type": "code",
   "execution_count": null,
   "outputs": [],
   "source": [],
   "metadata": {
    "collapsed": false
   }
  }
 ],
 "metadata": {
  "kernelspec": {
   "display_name": "Python 3",
   "language": "python",
   "name": "python3"
  },
  "language_info": {
   "codemirror_mode": {
    "name": "ipython",
    "version": 2
   },
   "file_extension": ".py",
   "mimetype": "text/x-python",
   "name": "python",
   "nbconvert_exporter": "python",
   "pygments_lexer": "ipython2",
   "version": "2.7.6"
  }
 },
 "nbformat": 4,
 "nbformat_minor": 0
}
