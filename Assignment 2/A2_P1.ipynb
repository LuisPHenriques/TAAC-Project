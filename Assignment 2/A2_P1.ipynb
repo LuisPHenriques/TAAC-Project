{
 "cells": [
  {
   "cell_type": "markdown",
   "metadata": {},
   "source": [
    "# Libraries & Custom functions"
   ]
  },
  {
   "cell_type": "code",
   "execution_count": 1,
   "metadata": {},
   "outputs": [],
   "source": [
    "import torch\n",
    "from torchvision.models import resnet18, ResNet18_Weights\n",
    "import torchvision\n",
    "\n",
    "import matplotlib.pyplot as plt\n",
    "\n",
    "from tqdm import tqdm"
   ]
  },
  {
   "cell_type": "code",
   "execution_count": 2,
   "metadata": {},
   "outputs": [],
   "source": [
    "# Build a custom CNN composed of 5 convolutional layers with ReLU activation between all the five layers and a fully-connected output layer.\n",
    "\n",
    "class FashionMNIST_ConvNet(torch.nn.Module):\n",
    "    def __init__(self):\n",
    "        super().__init__()\n",
    "        self.conv1 = torch.nn.Conv2d(in_channels = 1, out_channels = 32, kernel_size = 3, stride = 1, padding = 1)\n",
    "        self.conv2 = torch.nn.Conv2d(in_channels = 32, out_channels = 64, kernel_size = 3, stride = 1, padding = 0)\n",
    "        self.conv3 = torch.nn.Conv2d(in_channels = 64, out_channels = 128, kernel_size = 3, stride = 1, padding = 0)\n",
    "        self.conv4 = torch.nn.Conv2d(in_channels = 128, out_channels = 256, kernel_size = 3, stride = 1, padding = 0)\n",
    "        self.conv5 = torch.nn.Conv2d(in_channels = 256, out_channels = 512, kernel_size = 3, stride = 1, padding = 0)\n",
    "        self.fc = torch.nn.Linear(512 * 7 * 7, 10)\n",
    "        self.relu = torch.nn.ReLU()\n",
    "        self.maxpool = torch.nn.MaxPool2d(kernel_size = 2, stride = 2)\n",
    "        self.avgpool = torch.nn.AvgPool2d(kernel_size = 2, stride = 2)\n",
    "\n",
    "    def forward(self, x):\n",
    "        x = self.relu(self.conv1(x))\n",
    "        x = self.relu(self.conv2(x))\n",
    "        x = self.avgpool(x)\n",
    "        x = self.relu(self.conv3(x))\n",
    "        x = self.relu(self.conv4(x))\n",
    "        x = self.relu(self.conv5(x))\n",
    "        x = x.view(-1, 512 * 7 * 7)\n",
    "        x = self.fc(x)\n",
    "        return x\n",
    "    \n",
    "\n",
    "def set_device():\n",
    "    if torch.cuda.is_available():\n",
    "        device = torch.device('cuda')\n",
    "\n",
    "    elif torch.backends.mps.is_available():\n",
    "        device = torch.device('mps')\n",
    "\n",
    "    else:\n",
    "        device = torch.device('cpu')\n",
    "    print('Device:', device)\n",
    "\n",
    "    return device\n",
    "\n",
    "\n",
    "def train(model, train_loader, test_loader, optimizer, loss_func, epochs, device, **kwargs):\n",
    "    \"\"\"\n",
    "    Trains a neural network model.\n",
    "\n",
    "    Args:\n",
    "    - model (torch.nn.Module): The neural network model to be trained.\n",
    "    - train_loader (torch.utils.data.DataLoader): DataLoader for the training dataset.\n",
    "    - optimizer (torch.optim.Optimizer): The optimizer used for training.\n",
    "    - loss_func (torch.nn.Module): The loss function used for training.\n",
    "    - epochs (int): Number of training epochs.\n",
    "    - device (torch.device): The device on which the training will be performed.\n",
    "    - **kwargs: Additional arguments for customization.\n",
    "\n",
    "    Returns:\n",
    "    - train_loss_hist (list): List containing training loss values for each epoch.\n",
    "    - train_acc_hist (list): List containing training accuracy values for each epoch.\n",
    "    \"\"\"\n",
    "\n",
    "    num_epochs = kwargs.get('num_epochs', epochs)\n",
    "    loss_fn = kwargs.get('loss_fn', loss_func)\n",
    "    device = kwargs.get('device', device)\n",
    "\n",
    "    train_loss_hist, train_acc_hist, test_loss_hist, test_acc_hist = [], [], [], []\n",
    "\n",
    "    # Create a plot with labeled axes\n",
    "    plt.figure(figsize=(10, 5))\n",
    "    plt.title('Training Loss over Epochs')\n",
    "    plt.xlabel('Epochs')\n",
    "    plt.ylabel('Loss')\n",
    "\n",
    "    for epoch in range(num_epochs):\n",
    "        print(f'Epoch {epoch + 1}/{num_epochs}')\n",
    "\n",
    "        print('======== Training phase ========')\n",
    "        model.train()\n",
    "        train_loss = 0.\n",
    "        total = 0.\n",
    "        correct = 0.\n",
    "        pbar = tqdm(enumerate(train_loader), total=len(train_loader))\n",
    "\n",
    "        for batch_idx, (data, target) in pbar:\n",
    "            data = data.to(device)\n",
    "            target = target.to(device)\n",
    "            model.zero_grad()\n",
    "            output = model(data)\n",
    "            loss = loss_fn(output, target)\n",
    "            loss.backward()\n",
    "            optimizer.step()\n",
    "\n",
    "            train_loss += loss.item()\n",
    "\n",
    "            _, predicted = torch.max(output.data, 1)\n",
    "            total += target.size(0)\n",
    "            correct += (predicted == target).sum().item()\n",
    "\n",
    "            pbar.set_description(\n",
    "                f'Loss = {loss:.4f}  |  Accuracy = {100 * correct / total:.2f}% | Batch ID = {batch_idx + 1} '\n",
    "            )\n",
    "\n",
    "        train_loss /= len(train_loader)\n",
    "        train_accuracy = 100 * correct / total\n",
    "        print(f'Training Cross-Entropy Loss = {train_loss:.4f}')\n",
    "        print(f'Training Accuracy = {train_accuracy:.2f}%')\n",
    "\n",
    "        # Evaluate the model on the validation set\n",
    "        print('======== Validation phase ========')\n",
    "        model.eval()\n",
    "        val_loss = 0.\n",
    "        total = 0.\n",
    "        correct = 0.\n",
    "        pbar = tqdm(enumerate(test_loader), total=len(test_loader))\n",
    "\n",
    "        for batch_idx, (data, target) in pbar:\n",
    "            data = data.to(device)\n",
    "            target = target.to(device)\n",
    "            output = model(data)\n",
    "            loss = loss_fn(output, target)\n",
    "\n",
    "            val_loss += loss.item()\n",
    "\n",
    "            _, predicted = torch.max(output.data, 1)\n",
    "            total += target.size(0)\n",
    "            correct += (predicted == target).sum().item()\n",
    "\n",
    "            pbar.set_description(\n",
    "                f'Loss = {loss:.4f}  |  Accuracy = {100 * correct / total:.2f}% | Batch ID = {batch_idx + 1} '\n",
    "            )\n",
    "\n",
    "        val_loss /= len(test_loader)\n",
    "        val_accuracy = 100 * correct / total\n",
    "        print(f'Validation Cross-Entropy Loss = {val_loss:.4f}')\n",
    "        print(f'Validation Accuracy = {val_accuracy:.2f}%')\n",
    "        print()\n",
    "\n",
    "        train_loss_hist.append(train_loss)\n",
    "        train_acc_hist.append(train_accuracy)\n",
    "        test_loss_hist.append(val_loss)\n",
    "        test_acc_hist.append(val_accuracy)\n",
    "\n",
    "\n",
    "    # Plot the training loss over epochs\n",
    "    epochs = range(2, len(train_loss_hist) + 1)\n",
    "\n",
    "    plt.plot(epochs, train_loss_hist[1:], label='Training Loss')\n",
    "    plt.plot(epochs, test_loss_hist[1:], label='Validation Loss')\n",
    "    plt.legend()\n",
    "    plt.xlabel('Epoch')\n",
    "    plt.ylabel('Loss')\n",
    "    plt.title('Training and Validation Loss Evolution')\n",
    "    plt.show()\n",
    "\n",
    "    print(f\"Cross-Entropy on training set:  {train_loss_hist[-1]:.4f}\")\n",
    "    print(f\"Accuracy on training set:       {train_acc_hist[-1]:.2f}%\")\n",
    "    print()\n",
    "    print(f\"Cross-Entropy on validation set: {test_loss_hist[-1]:.4f}\")\n",
    "    print(f\"Accuracy on validation set:      {test_acc_hist[-1]:.2f}%\")\n",
    "\n",
    "    return train_loss_hist, train_acc_hist, test_loss_hist, test_acc_hist"
   ]
  },
  {
   "cell_type": "markdown",
   "metadata": {},
   "source": [
    "# Exercise 1"
   ]
  },
  {
   "cell_type": "markdown",
   "metadata": {},
   "source": [
    "## Exercise 1 (A)"
   ]
  },
  {
   "cell_type": "markdown",
   "metadata": {},
   "source": [
    "### Exercise 1 (A) i) - Change the padding from 0 to 1"
   ]
  },
  {
   "cell_type": "markdown",
   "metadata": {},
   "source": [
    "By changing the padding from zero to one, what happens is that a convolutional layer's input size will be increased by one border, ensuring that the layer's output size will be larger as well, assuming all the remaining hyper-parameters are kept the same. For example, given an image size of 30x30xK, a padding of one can be implemented so that the image's intensity values in its borders get used more that once for making convolution operations, meaning that this border data is used more times than it would be with a padding of 0. This can be crucial because important data might be in the borders, and therefore by applying a padding of 1 we ensure that the data in the borders is used more times to compute the outputs of that convolutional layer. A padding of 1 will increase the size of this given image from 30x30xK to 31x31xK, where this new border will have no importance in terms of its values, however enable the data in the real borders to get used more times. With a padding of 0 a corner will get used once and an edge either 2 (edge point next to a corner) or 3 times, while with a padding of 1 a corner data point will be used 4 times, while the edges will be used 6 times. Looking at the equation that defines the output size given the input size and the hyper-parameters defined, by changing from a padding of 0 to a padding of 1, the output size increases by (...value...)."
   ]
  },
  {
   "cell_type": "markdown",
   "metadata": {},
   "source": [
    "**ChatGPT's feedback with my writing style...**\n",
    "\n",
    "Switching the padding from 0 to 1 in a convolutional layer is like giving the edges of your input image a bit more attention. Let's say we've got a cool 30x30xK image. With a padding of 1, we're extending the party by one unit all around, turning it into a 31x31xK extravaganza.\n",
    "\n",
    "Now, why does this matter? Well, those pixels at the borders get more love during the convolution operation. It's like making sure your image edges are VIPs – they get used more times in the calculation. With padding 0, a corner only gets used once, and an edge (the point next to a corner) gets used 2 or 3 times. But pop in a padding of 1, and suddenly, a corner pixel is the star of the show, getting used a whopping 4 times! As for the edges, they become the popular kids, getting used 6 times.\n",
    "\n",
    "So, changing the padding to 1 isn't just adding a useless border; it's a strategic move to make sure your model pays extra attention to the edges and corners, where the real action might be happening."
   ]
  },
  {
   "cell_type": "markdown",
   "metadata": {},
   "source": [
    "### Exercise 1 (A) ii) - Change the kernel size from 3 to 4"
   ]
  },
  {
   "cell_type": "markdown",
   "metadata": {},
   "source": [
    "By changingthe kernel size from 3 to 4, what ends up happening is that the output dimensions of the convolutional layer decrease (assuming everything else constant), while the input dimensions stay the same. Notice that by increasing the kernel size by one the number of convolutions applied to an image (for example) gets reduced, and because for each convolution operation one value is computed and added to the output of the layer, then the number of values added to the output is decreased, meaning that the output dimensions will decrease. Looking at the equation that defines the output size, by changing the kernel size from 3 to 4, the output dimensions get increased by (...value...)."
   ]
  },
  {
   "cell_type": "markdown",
   "metadata": {},
   "source": [
    "**ChatGPT's feedback with my writing style...**\n",
    "\n",
    "Shifting the kernel size from 3 to 4 in a convolutional layer triggers a slick maneuver – the output dimensions decide to slim down (assuming everything else is on chill mode). Here's the scoop: when we jack up the kernel size by one, it's like telling the layer, 'Hey, ease up on the convolutions, would ya?'\n",
    "\n",
    "You see, every time we run a convolution operation, we crunch out a value that contributes to the layer's output. Now, with a kernel size of 4, each convolution operation packs a bit more punch. So, naturally, the overall number of these impactful values tossed into the output takes a dip. Less hustle, less bustle, and voila – the output dimensions take a step back."
   ]
  },
  {
   "cell_type": "markdown",
   "metadata": {},
   "source": [
    "### Exercise 1 (A) iii) - Change the stride from 1 to 2"
   ]
  },
  {
   "cell_type": "markdown",
   "metadata": {},
   "source": [
    "By changing the stride from 1 to 2, what ends up happening is that several convolution operations get skipped in a convolutional layer, and because each convolution computes one value of the layer's output, the output's dimensions get decreased, while the input size remains the same. With a stride of 1, what happens is that the kernel moves one column at a time in the same row, and one row at a time in the same column. However, with a stride of 2 the kernel moves two columns at a time in the same row, and two rows at a time in the same column. In short, a convolutional layer with stride of 2 skips half of the convolution operations that would be computed if that convolutional layer had a stride of 1. Looking at the equation that defines the output size, by changing the stride from 1 to 2, the output dimensions get decreased practically in half."
   ]
  },
  {
   "cell_type": "markdown",
   "metadata": {},
   "source": [
    "## Exercise 1 (B)"
   ]
  },
  {
   "cell_type": "markdown",
   "metadata": {},
   "source": [
    "Looking at the following statement: ”Pooling layers introduce a trade-off between information loss and dimensionality reduction”, we can say that is summarizes correctly the role that a Pooling layer has in a convolutional neural network. A pooling layer shares one main idea with a convolutional layer, which is the fact that it reduces the size of the input by applying a kernel to it. However, a pooling layer is much different that a convolutional layer because of two main factors. Firstly, the kernel in a pooling layers doesn't apply convolution operation to the input; a pooling layer can apply either a maximum operation, an average operation, or a minimum operation (althouth the first two are more used given they show better results). Secondly, a pooling layer doesn't have any trainable parameters (or parameters even), while a convolutional layer has. This second difference is very crucial because we're able to simplify out problem by reducing the size of the data without increase the model's complexity (number of trainable parameters). Now, making our ConvNets lighter by reduncing the data's dimensions comes with a cost... Because we're reducing the size of the data given to a pooling layer, what happens is that we lose information by filtering some data out. For example, a MaxPooling layer with a kernel size of 2 retrieves only one value from a region with four values (2x2 square in the input), and this is applied to all the data points given to the model (images for example). Usually a pooling layer with a kernel size of 2 is also used with a stride of 2, and this means that we reduce the input data by exactly half, and filters out 75% of all the data values for each data point. So, going back to the initial statement... It's true that we lose information by applying a pooling layer (regardless of what type), however we have the trade-off of reducing our data's dimensions, so that the models don't need as much computations to fit to the data while also not adding a single trainable parameter to the ConvNet."
   ]
  },
  {
   "cell_type": "markdown",
   "metadata": {},
   "source": [
    "## Exercise 1 (C)"
   ]
  },
  {
   "cell_type": "code",
   "execution_count": 16,
   "metadata": {},
   "outputs": [],
   "source": [
    "# Define data preprocessing and loading / Define a transform to convert to images to tensor and normalize\n",
    "transform = torchvision.transforms.Compose([torchvision.transforms.ToTensor(), torchvision.transforms.Normalize((0.5,), (0.5,))])\n",
    "\n",
    "train_dataset = torchvision.datasets.FashionMNIST(root = './data', train = True, transform = transform, download = True)\n",
    "test_dataset = torchvision.datasets.FashionMNIST(root = './data', train = False, transform = transform, download = True)\n",
    "\n",
    "batch_size = 256\n",
    "\n",
    "TrainLoader = torch.utils.data.DataLoader(dataset = train_dataset, batch_size = batch_size, shuffle = True)\n",
    "TestLoader = torch.utils.data.DataLoader(dataset = test_dataset, batch_size = batch_size, shuffle = False)"
   ]
  },
  {
   "cell_type": "markdown",
   "metadata": {},
   "source": [
    "### Exercise 1 (C) i)"
   ]
  },
  {
   "cell_type": "code",
   "execution_count": 19,
   "metadata": {},
   "outputs": [
    {
     "name": "stdout",
     "output_type": "stream",
     "text": [
      "Device: mps\n"
     ]
    }
   ],
   "source": [
    "# Initialize the network, loss function, and optimizer\n",
    "device = set_device()\n",
    "ConvNet = FashionMNIST_ConvNet().to(device)\n",
    "criterion = torch.nn.CrossEntropyLoss()\n",
    "optimizer = torch.optim.Adam(ConvNet.parameters(), lr = 0.01)"
   ]
  },
  {
   "cell_type": "code",
   "execution_count": 20,
   "metadata": {},
   "outputs": [
    {
     "name": "stdout",
     "output_type": "stream",
     "text": [
      "Epoch 1/24\n",
      "======== Training phase ========\n"
     ]
    },
    {
     "name": "stderr",
     "output_type": "stream",
     "text": [
      "Loss = 0.4352  |  Accuracy = 72.71% | Batch ID = 235 : 100%|██████████| 235/235 [00:13<00:00, 17.37it/s]\n"
     ]
    },
    {
     "name": "stdout",
     "output_type": "stream",
     "text": [
      "Training Cross-Entropy Loss = 1.6469\n",
      "Training Accuracy = 72.71%\n",
      "======== Validation phase ========\n"
     ]
    },
    {
     "name": "stderr",
     "output_type": "stream",
     "text": [
      "Loss = 0.4233  |  Accuracy = 81.66% | Batch ID = 40 : 100%|██████████| 40/40 [00:01<00:00, 34.22it/s]\n"
     ]
    },
    {
     "name": "stdout",
     "output_type": "stream",
     "text": [
      "Validation Cross-Entropy Loss = 0.4927\n",
      "Validation Accuracy = 81.66%\n",
      "\n",
      "Epoch 2/24\n",
      "======== Training phase ========\n"
     ]
    },
    {
     "name": "stderr",
     "output_type": "stream",
     "text": [
      "Loss = 0.2952  |  Accuracy = 84.55% | Batch ID = 235 : 100%|██████████| 235/235 [00:13<00:00, 17.83it/s]\n"
     ]
    },
    {
     "name": "stdout",
     "output_type": "stream",
     "text": [
      "Training Cross-Entropy Loss = 0.4175\n",
      "Training Accuracy = 84.55%\n",
      "======== Validation phase ========\n"
     ]
    },
    {
     "name": "stderr",
     "output_type": "stream",
     "text": [
      "Loss = 0.2271  |  Accuracy = 85.91% | Batch ID = 40 : 100%|██████████| 40/40 [00:01<00:00, 38.10it/s]\n"
     ]
    },
    {
     "name": "stdout",
     "output_type": "stream",
     "text": [
      "Validation Cross-Entropy Loss = 0.3783\n",
      "Validation Accuracy = 85.91%\n",
      "\n",
      "Epoch 3/24\n",
      "======== Training phase ========\n"
     ]
    },
    {
     "name": "stderr",
     "output_type": "stream",
     "text": [
      "Loss = 0.2742  |  Accuracy = 87.03% | Batch ID = 235 : 100%|██████████| 235/235 [00:13<00:00, 17.84it/s]\n"
     ]
    },
    {
     "name": "stdout",
     "output_type": "stream",
     "text": [
      "Training Cross-Entropy Loss = 0.3527\n",
      "Training Accuracy = 87.03%\n",
      "======== Validation phase ========\n"
     ]
    },
    {
     "name": "stderr",
     "output_type": "stream",
     "text": [
      "Loss = 0.2289  |  Accuracy = 86.90% | Batch ID = 40 : 100%|██████████| 40/40 [00:01<00:00, 37.65it/s]\n"
     ]
    },
    {
     "name": "stdout",
     "output_type": "stream",
     "text": [
      "Validation Cross-Entropy Loss = 0.3532\n",
      "Validation Accuracy = 86.90%\n",
      "\n",
      "Epoch 4/24\n",
      "======== Training phase ========\n"
     ]
    },
    {
     "name": "stderr",
     "output_type": "stream",
     "text": [
      "Loss = 0.3053  |  Accuracy = 87.99% | Batch ID = 235 : 100%|██████████| 235/235 [00:13<00:00, 17.84it/s]\n"
     ]
    },
    {
     "name": "stdout",
     "output_type": "stream",
     "text": [
      "Training Cross-Entropy Loss = 0.3270\n",
      "Training Accuracy = 87.99%\n",
      "======== Validation phase ========\n"
     ]
    },
    {
     "name": "stderr",
     "output_type": "stream",
     "text": [
      "Loss = 0.2256  |  Accuracy = 87.16% | Batch ID = 40 : 100%|██████████| 40/40 [00:01<00:00, 37.96it/s]\n"
     ]
    },
    {
     "name": "stdout",
     "output_type": "stream",
     "text": [
      "Validation Cross-Entropy Loss = 0.3352\n",
      "Validation Accuracy = 87.16%\n",
      "\n",
      "Epoch 5/24\n",
      "======== Training phase ========\n"
     ]
    },
    {
     "name": "stderr",
     "output_type": "stream",
     "text": [
      "Loss = 0.3859  |  Accuracy = 88.61% | Batch ID = 235 : 100%|██████████| 235/235 [00:13<00:00, 17.90it/s]\n"
     ]
    },
    {
     "name": "stdout",
     "output_type": "stream",
     "text": [
      "Training Cross-Entropy Loss = 0.3099\n",
      "Training Accuracy = 88.61%\n",
      "======== Validation phase ========\n"
     ]
    },
    {
     "name": "stderr",
     "output_type": "stream",
     "text": [
      "Loss = 0.3975  |  Accuracy = 88.24% | Batch ID = 40 : 100%|██████████| 40/40 [00:01<00:00, 38.33it/s]\n"
     ]
    },
    {
     "name": "stdout",
     "output_type": "stream",
     "text": [
      "Validation Cross-Entropy Loss = 0.3238\n",
      "Validation Accuracy = 88.24%\n",
      "\n",
      "Epoch 6/24\n",
      "======== Training phase ========\n"
     ]
    },
    {
     "name": "stderr",
     "output_type": "stream",
     "text": [
      "Loss = 0.2444  |  Accuracy = 89.41% | Batch ID = 235 : 100%|██████████| 235/235 [00:13<00:00, 17.90it/s]\n"
     ]
    },
    {
     "name": "stdout",
     "output_type": "stream",
     "text": [
      "Training Cross-Entropy Loss = 0.2895\n",
      "Training Accuracy = 89.41%\n",
      "======== Validation phase ========\n"
     ]
    },
    {
     "name": "stderr",
     "output_type": "stream",
     "text": [
      "Loss = 0.1871  |  Accuracy = 88.71% | Batch ID = 40 : 100%|██████████| 40/40 [00:01<00:00, 37.51it/s]\n"
     ]
    },
    {
     "name": "stdout",
     "output_type": "stream",
     "text": [
      "Validation Cross-Entropy Loss = 0.3152\n",
      "Validation Accuracy = 88.71%\n",
      "\n",
      "Epoch 7/24\n",
      "======== Training phase ========\n"
     ]
    },
    {
     "name": "stderr",
     "output_type": "stream",
     "text": [
      "Loss = 0.3553  |  Accuracy = 89.76% | Batch ID = 235 : 100%|██████████| 235/235 [00:13<00:00, 17.87it/s]\n"
     ]
    },
    {
     "name": "stdout",
     "output_type": "stream",
     "text": [
      "Training Cross-Entropy Loss = 0.2752\n",
      "Training Accuracy = 89.76%\n",
      "======== Validation phase ========\n"
     ]
    },
    {
     "name": "stderr",
     "output_type": "stream",
     "text": [
      "Loss = 0.1612  |  Accuracy = 89.06% | Batch ID = 40 : 100%|██████████| 40/40 [00:01<00:00, 37.22it/s]\n"
     ]
    },
    {
     "name": "stdout",
     "output_type": "stream",
     "text": [
      "Validation Cross-Entropy Loss = 0.3018\n",
      "Validation Accuracy = 89.06%\n",
      "\n",
      "Epoch 8/24\n",
      "======== Training phase ========\n"
     ]
    },
    {
     "name": "stderr",
     "output_type": "stream",
     "text": [
      "Loss = 0.2782  |  Accuracy = 90.04% | Batch ID = 235 : 100%|██████████| 235/235 [00:13<00:00, 17.88it/s]\n"
     ]
    },
    {
     "name": "stdout",
     "output_type": "stream",
     "text": [
      "Training Cross-Entropy Loss = 0.2709\n",
      "Training Accuracy = 90.04%\n",
      "======== Validation phase ========\n"
     ]
    },
    {
     "name": "stderr",
     "output_type": "stream",
     "text": [
      "Loss = 0.0809  |  Accuracy = 88.86% | Batch ID = 40 : 100%|██████████| 40/40 [00:01<00:00, 37.62it/s]\n"
     ]
    },
    {
     "name": "stdout",
     "output_type": "stream",
     "text": [
      "Validation Cross-Entropy Loss = 0.3020\n",
      "Validation Accuracy = 88.86%\n",
      "\n",
      "Epoch 9/24\n",
      "======== Training phase ========\n"
     ]
    },
    {
     "name": "stderr",
     "output_type": "stream",
     "text": [
      "Loss = 0.2397  |  Accuracy = 90.06% | Batch ID = 235 : 100%|██████████| 235/235 [00:13<00:00, 17.85it/s]\n"
     ]
    },
    {
     "name": "stdout",
     "output_type": "stream",
     "text": [
      "Training Cross-Entropy Loss = 0.2700\n",
      "Training Accuracy = 90.06%\n",
      "======== Validation phase ========\n"
     ]
    },
    {
     "name": "stderr",
     "output_type": "stream",
     "text": [
      "Loss = 0.1773  |  Accuracy = 88.81% | Batch ID = 40 : 100%|██████████| 40/40 [00:01<00:00, 35.97it/s]\n"
     ]
    },
    {
     "name": "stdout",
     "output_type": "stream",
     "text": [
      "Validation Cross-Entropy Loss = 0.3020\n",
      "Validation Accuracy = 88.81%\n",
      "\n",
      "Epoch 10/24\n",
      "======== Training phase ========\n"
     ]
    },
    {
     "name": "stderr",
     "output_type": "stream",
     "text": [
      "Loss = 0.2524  |  Accuracy = 90.43% | Batch ID = 235 : 100%|██████████| 235/235 [00:13<00:00, 17.86it/s]\n"
     ]
    },
    {
     "name": "stdout",
     "output_type": "stream",
     "text": [
      "Training Cross-Entropy Loss = 0.2586\n",
      "Training Accuracy = 90.43%\n",
      "======== Validation phase ========\n"
     ]
    },
    {
     "name": "stderr",
     "output_type": "stream",
     "text": [
      "Loss = 0.1283  |  Accuracy = 88.13% | Batch ID = 40 : 100%|██████████| 40/40 [00:01<00:00, 37.33it/s]\n"
     ]
    },
    {
     "name": "stdout",
     "output_type": "stream",
     "text": [
      "Validation Cross-Entropy Loss = 0.3206\n",
      "Validation Accuracy = 88.13%\n",
      "\n",
      "Epoch 11/24\n",
      "======== Training phase ========\n"
     ]
    },
    {
     "name": "stderr",
     "output_type": "stream",
     "text": [
      "Loss = 0.1867  |  Accuracy = 90.44% | Batch ID = 235 : 100%|██████████| 235/235 [00:13<00:00, 17.86it/s]\n"
     ]
    },
    {
     "name": "stdout",
     "output_type": "stream",
     "text": [
      "Training Cross-Entropy Loss = 0.2549\n",
      "Training Accuracy = 90.44%\n",
      "======== Validation phase ========\n"
     ]
    },
    {
     "name": "stderr",
     "output_type": "stream",
     "text": [
      "Loss = 0.0979  |  Accuracy = 87.98% | Batch ID = 40 : 100%|██████████| 40/40 [00:01<00:00, 36.89it/s]\n"
     ]
    },
    {
     "name": "stdout",
     "output_type": "stream",
     "text": [
      "Validation Cross-Entropy Loss = 0.3244\n",
      "Validation Accuracy = 87.98%\n",
      "\n",
      "Epoch 12/24\n",
      "======== Training phase ========\n"
     ]
    },
    {
     "name": "stderr",
     "output_type": "stream",
     "text": [
      "Loss = 0.4338  |  Accuracy = 91.09% | Batch ID = 235 : 100%|██████████| 235/235 [00:13<00:00, 17.91it/s]\n"
     ]
    },
    {
     "name": "stdout",
     "output_type": "stream",
     "text": [
      "Training Cross-Entropy Loss = 0.2430\n",
      "Training Accuracy = 91.09%\n",
      "======== Validation phase ========\n"
     ]
    },
    {
     "name": "stderr",
     "output_type": "stream",
     "text": [
      "Loss = 0.1510  |  Accuracy = 88.93% | Batch ID = 40 : 100%|██████████| 40/40 [00:01<00:00, 37.63it/s]\n"
     ]
    },
    {
     "name": "stdout",
     "output_type": "stream",
     "text": [
      "Validation Cross-Entropy Loss = 0.3224\n",
      "Validation Accuracy = 88.93%\n",
      "\n",
      "Epoch 13/24\n",
      "======== Training phase ========\n"
     ]
    },
    {
     "name": "stderr",
     "output_type": "stream",
     "text": [
      "Loss = 0.2425  |  Accuracy = 89.94% | Batch ID = 235 : 100%|██████████| 235/235 [00:13<00:00, 17.87it/s]\n"
     ]
    },
    {
     "name": "stdout",
     "output_type": "stream",
     "text": [
      "Training Cross-Entropy Loss = 0.2764\n",
      "Training Accuracy = 89.94%\n",
      "======== Validation phase ========\n"
     ]
    },
    {
     "name": "stderr",
     "output_type": "stream",
     "text": [
      "Loss = 0.1581  |  Accuracy = 88.94% | Batch ID = 40 : 100%|██████████| 40/40 [00:01<00:00, 37.46it/s]\n"
     ]
    },
    {
     "name": "stdout",
     "output_type": "stream",
     "text": [
      "Validation Cross-Entropy Loss = 0.3158\n",
      "Validation Accuracy = 88.94%\n",
      "\n",
      "Epoch 14/24\n",
      "======== Training phase ========\n"
     ]
    },
    {
     "name": "stderr",
     "output_type": "stream",
     "text": [
      "Loss = 0.3863  |  Accuracy = 91.23% | Batch ID = 235 : 100%|██████████| 235/235 [00:13<00:00, 17.93it/s]\n"
     ]
    },
    {
     "name": "stdout",
     "output_type": "stream",
     "text": [
      "Training Cross-Entropy Loss = 0.2375\n",
      "Training Accuracy = 91.23%\n",
      "======== Validation phase ========\n"
     ]
    },
    {
     "name": "stderr",
     "output_type": "stream",
     "text": [
      "Loss = 0.0834  |  Accuracy = 88.76% | Batch ID = 40 : 100%|██████████| 40/40 [00:01<00:00, 37.58it/s]\n"
     ]
    },
    {
     "name": "stdout",
     "output_type": "stream",
     "text": [
      "Validation Cross-Entropy Loss = 0.3077\n",
      "Validation Accuracy = 88.76%\n",
      "\n",
      "Epoch 15/24\n",
      "======== Training phase ========\n"
     ]
    },
    {
     "name": "stderr",
     "output_type": "stream",
     "text": [
      "Loss = 0.1695  |  Accuracy = 91.24% | Batch ID = 235 : 100%|██████████| 235/235 [00:13<00:00, 17.83it/s]\n"
     ]
    },
    {
     "name": "stdout",
     "output_type": "stream",
     "text": [
      "Training Cross-Entropy Loss = 0.2338\n",
      "Training Accuracy = 91.24%\n",
      "======== Validation phase ========\n"
     ]
    },
    {
     "name": "stderr",
     "output_type": "stream",
     "text": [
      "Loss = 0.0789  |  Accuracy = 89.29% | Batch ID = 40 : 100%|██████████| 40/40 [00:01<00:00, 33.46it/s]\n"
     ]
    },
    {
     "name": "stdout",
     "output_type": "stream",
     "text": [
      "Validation Cross-Entropy Loss = 0.3015\n",
      "Validation Accuracy = 89.29%\n",
      "\n",
      "Epoch 16/24\n",
      "======== Training phase ========\n"
     ]
    },
    {
     "name": "stderr",
     "output_type": "stream",
     "text": [
      "Loss = 0.2296  |  Accuracy = 91.25% | Batch ID = 235 : 100%|██████████| 235/235 [00:13<00:00, 17.65it/s]\n"
     ]
    },
    {
     "name": "stdout",
     "output_type": "stream",
     "text": [
      "Training Cross-Entropy Loss = 0.2287\n",
      "Training Accuracy = 91.25%\n",
      "======== Validation phase ========\n"
     ]
    },
    {
     "name": "stderr",
     "output_type": "stream",
     "text": [
      "Loss = 0.0596  |  Accuracy = 88.94% | Batch ID = 40 : 100%|██████████| 40/40 [00:01<00:00, 37.89it/s]\n"
     ]
    },
    {
     "name": "stdout",
     "output_type": "stream",
     "text": [
      "Validation Cross-Entropy Loss = 0.3085\n",
      "Validation Accuracy = 88.94%\n",
      "\n",
      "Epoch 17/24\n",
      "======== Training phase ========\n"
     ]
    },
    {
     "name": "stderr",
     "output_type": "stream",
     "text": [
      "Loss = 0.3699  |  Accuracy = 91.48% | Batch ID = 235 : 100%|██████████| 235/235 [00:13<00:00, 17.79it/s]\n"
     ]
    },
    {
     "name": "stdout",
     "output_type": "stream",
     "text": [
      "Training Cross-Entropy Loss = 0.2308\n",
      "Training Accuracy = 91.48%\n",
      "======== Validation phase ========\n"
     ]
    },
    {
     "name": "stderr",
     "output_type": "stream",
     "text": [
      "Loss = 0.0607  |  Accuracy = 88.74% | Batch ID = 40 : 100%|██████████| 40/40 [00:01<00:00, 35.02it/s]\n"
     ]
    },
    {
     "name": "stdout",
     "output_type": "stream",
     "text": [
      "Validation Cross-Entropy Loss = 0.3611\n",
      "Validation Accuracy = 88.74%\n",
      "\n",
      "Epoch 18/24\n",
      "======== Training phase ========\n"
     ]
    },
    {
     "name": "stderr",
     "output_type": "stream",
     "text": [
      "Loss = 0.2630  |  Accuracy = 91.53% | Batch ID = 235 : 100%|██████████| 235/235 [00:13<00:00, 17.85it/s]\n"
     ]
    },
    {
     "name": "stdout",
     "output_type": "stream",
     "text": [
      "Training Cross-Entropy Loss = 0.2259\n",
      "Training Accuracy = 91.53%\n",
      "======== Validation phase ========\n"
     ]
    },
    {
     "name": "stderr",
     "output_type": "stream",
     "text": [
      "Loss = 0.0542  |  Accuracy = 88.32% | Batch ID = 40 : 100%|██████████| 40/40 [00:01<00:00, 36.28it/s]\n"
     ]
    },
    {
     "name": "stdout",
     "output_type": "stream",
     "text": [
      "Validation Cross-Entropy Loss = 0.3567\n",
      "Validation Accuracy = 88.32%\n",
      "\n",
      "Epoch 19/24\n",
      "======== Training phase ========\n"
     ]
    },
    {
     "name": "stderr",
     "output_type": "stream",
     "text": [
      "Loss = 0.2603  |  Accuracy = 91.60% | Batch ID = 235 : 100%|██████████| 235/235 [00:13<00:00, 17.85it/s]\n"
     ]
    },
    {
     "name": "stdout",
     "output_type": "stream",
     "text": [
      "Training Cross-Entropy Loss = 0.2252\n",
      "Training Accuracy = 91.60%\n",
      "======== Validation phase ========\n"
     ]
    },
    {
     "name": "stderr",
     "output_type": "stream",
     "text": [
      "Loss = 0.5242  |  Accuracy = 88.08% | Batch ID = 40 : 100%|██████████| 40/40 [00:01<00:00, 36.89it/s]\n"
     ]
    },
    {
     "name": "stdout",
     "output_type": "stream",
     "text": [
      "Validation Cross-Entropy Loss = 0.3440\n",
      "Validation Accuracy = 88.08%\n",
      "\n",
      "Epoch 20/24\n",
      "======== Training phase ========\n"
     ]
    },
    {
     "name": "stderr",
     "output_type": "stream",
     "text": [
      "Loss = 0.1925  |  Accuracy = 91.43% | Batch ID = 235 : 100%|██████████| 235/235 [00:13<00:00, 17.88it/s]\n"
     ]
    },
    {
     "name": "stdout",
     "output_type": "stream",
     "text": [
      "Training Cross-Entropy Loss = 0.2240\n",
      "Training Accuracy = 91.43%\n",
      "======== Validation phase ========\n"
     ]
    },
    {
     "name": "stderr",
     "output_type": "stream",
     "text": [
      "Loss = 0.0838  |  Accuracy = 88.85% | Batch ID = 40 : 100%|██████████| 40/40 [00:01<00:00, 35.67it/s]\n"
     ]
    },
    {
     "name": "stdout",
     "output_type": "stream",
     "text": [
      "Validation Cross-Entropy Loss = 0.3274\n",
      "Validation Accuracy = 88.85%\n",
      "\n",
      "Epoch 21/24\n",
      "======== Training phase ========\n"
     ]
    },
    {
     "name": "stderr",
     "output_type": "stream",
     "text": [
      "Loss = 0.2050  |  Accuracy = 91.83% | Batch ID = 235 : 100%|██████████| 235/235 [00:13<00:00, 17.74it/s]\n"
     ]
    },
    {
     "name": "stdout",
     "output_type": "stream",
     "text": [
      "Training Cross-Entropy Loss = 0.2158\n",
      "Training Accuracy = 91.83%\n",
      "======== Validation phase ========\n"
     ]
    },
    {
     "name": "stderr",
     "output_type": "stream",
     "text": [
      "Loss = 0.2394  |  Accuracy = 88.96% | Batch ID = 40 : 100%|██████████| 40/40 [00:01<00:00, 34.26it/s]\n"
     ]
    },
    {
     "name": "stdout",
     "output_type": "stream",
     "text": [
      "Validation Cross-Entropy Loss = 0.3304\n",
      "Validation Accuracy = 88.96%\n",
      "\n",
      "Epoch 22/24\n",
      "======== Training phase ========\n"
     ]
    },
    {
     "name": "stderr",
     "output_type": "stream",
     "text": [
      "Loss = 0.3263  |  Accuracy = 92.09% | Batch ID = 235 : 100%|██████████| 235/235 [00:13<00:00, 17.85it/s]\n"
     ]
    },
    {
     "name": "stdout",
     "output_type": "stream",
     "text": [
      "Training Cross-Entropy Loss = 0.2141\n",
      "Training Accuracy = 92.09%\n",
      "======== Validation phase ========\n"
     ]
    },
    {
     "name": "stderr",
     "output_type": "stream",
     "text": [
      "Loss = 0.3520  |  Accuracy = 88.11% | Batch ID = 40 : 100%|██████████| 40/40 [00:01<00:00, 36.07it/s]\n"
     ]
    },
    {
     "name": "stdout",
     "output_type": "stream",
     "text": [
      "Validation Cross-Entropy Loss = 0.3632\n",
      "Validation Accuracy = 88.11%\n",
      "\n",
      "Epoch 23/24\n",
      "======== Training phase ========\n"
     ]
    },
    {
     "name": "stderr",
     "output_type": "stream",
     "text": [
      "Loss = 0.0752  |  Accuracy = 92.04% | Batch ID = 235 : 100%|██████████| 235/235 [00:13<00:00, 17.86it/s]\n"
     ]
    },
    {
     "name": "stdout",
     "output_type": "stream",
     "text": [
      "Training Cross-Entropy Loss = 0.2098\n",
      "Training Accuracy = 92.04%\n",
      "======== Validation phase ========\n"
     ]
    },
    {
     "name": "stderr",
     "output_type": "stream",
     "text": [
      "Loss = 0.0835  |  Accuracy = 88.64% | Batch ID = 40 : 100%|██████████| 40/40 [00:01<00:00, 34.19it/s]\n"
     ]
    },
    {
     "name": "stdout",
     "output_type": "stream",
     "text": [
      "Validation Cross-Entropy Loss = 0.3373\n",
      "Validation Accuracy = 88.64%\n",
      "\n",
      "Epoch 24/24\n",
      "======== Training phase ========\n"
     ]
    },
    {
     "name": "stderr",
     "output_type": "stream",
     "text": [
      "Loss = 0.2307  |  Accuracy = 92.16% | Batch ID = 235 : 100%|██████████| 235/235 [00:13<00:00, 17.87it/s]\n"
     ]
    },
    {
     "name": "stdout",
     "output_type": "stream",
     "text": [
      "Training Cross-Entropy Loss = 0.2079\n",
      "Training Accuracy = 92.16%\n",
      "======== Validation phase ========\n"
     ]
    },
    {
     "name": "stderr",
     "output_type": "stream",
     "text": [
      "Loss = 1.2625  |  Accuracy = 88.09% | Batch ID = 40 : 100%|██████████| 40/40 [00:01<00:00, 36.79it/s]\n"
     ]
    },
    {
     "name": "stdout",
     "output_type": "stream",
     "text": [
      "Validation Cross-Entropy Loss = 0.3960\n",
      "Validation Accuracy = 88.09%\n",
      "\n"
     ]
    },
    {
     "data": {
      "image/png": "[encoded data removed]",
      "text/plain": [
       "<Figure size 1000x500 with 1 Axes>"
      ]
     },
     "metadata": {},
     "output_type": "display_data"
    },
    {
     "name": "stdout",
     "output_type": "stream",
     "text": [
      "Cross-Entropy on training set:  0.2079\n",
      "Accuracy on training set:       92.16%\n",
      "\n",
      "Cross-Entropy on validation set: 0.3960\n",
      "Accuracy on validation set:      88.09%\n"
     ]
    }
   ],
   "source": [
    "train_loss_hist, train_acc_hist, test_loss_hist, test_acc_hist = train(ConvNet, TrainLoader, TestLoader, optimizer, criterion, epochs = 24, device = device)"
   ]
  },
  {
   "cell_type": "markdown",
   "metadata": {},
   "source": [
    "### Exercise 1 (C) ii)"
   ]
  },
  {
   "cell_type": "code",
   "execution_count": 21,
   "metadata": {},
   "outputs": [],
   "source": [
    "# Use a ResNet-18 without pre-trained weights\n",
    "ResNet18 = resnet18(weights = None)\n",
    "\n",
    "# Adapt the ResNet-18 to the FashionMNIST dataset\n",
    "ResNet18.conv1 = torch.nn.Conv2d(1, 64, kernel_size = 7, stride = 2, padding = 3, bias = False)\n",
    "ResNet18.fc = torch.nn.Linear(ResNet18.fc.in_features, 10)"
   ]
  },
  {
   "cell_type": "code",
   "execution_count": 24,
   "metadata": {},
   "outputs": [
    {
     "name": "stdout",
     "output_type": "stream",
     "text": [
      "Device: mps\n"
     ]
    }
   ],
   "source": [
    "# Initialize the network, loss function, and optimizer\n",
    "device = set_device()\n",
    "ResNet18 = ResNet18.to(device)\n",
    "criterion = torch.nn.CrossEntropyLoss()\n",
    "optimizer = torch.optim.Adam(ResNet18.parameters(), lr = 0.01)"
   ]
  },
  {
   "cell_type": "code",
   "execution_count": 25,
   "metadata": {},
   "outputs": [
    {
     "name": "stdout",
     "output_type": "stream",
     "text": [
      "Epoch 1/24\n",
      "======== Training phase ========\n"
     ]
    },
    {
     "name": "stderr",
     "output_type": "stream",
     "text": [
      "Loss = 0.3504  |  Accuracy = 77.94% | Batch ID = 235 : 100%|██████████| 235/235 [00:18<00:00, 12.81it/s]\n"
     ]
    },
    {
     "name": "stdout",
     "output_type": "stream",
     "text": [
      "Training Cross-Entropy Loss = 0.6350\n",
      "Training Accuracy = 77.94%\n",
      "======== Validation phase ========\n"
     ]
    },
    {
     "name": "stderr",
     "output_type": "stream",
     "text": [
      "Loss = 0.4780  |  Accuracy = 82.41% | Batch ID = 40 : 100%|██████████| 40/40 [00:01<00:00, 24.99it/s]\n"
     ]
    },
    {
     "name": "stdout",
     "output_type": "stream",
     "text": [
      "Validation Cross-Entropy Loss = 0.5045\n",
      "Validation Accuracy = 82.41%\n",
      "\n",
      "Epoch 2/24\n",
      "======== Training phase ========\n"
     ]
    },
    {
     "name": "stderr",
     "output_type": "stream",
     "text": [
      "Loss = 0.1776  |  Accuracy = 87.12% | Batch ID = 235 : 100%|██████████| 235/235 [00:14<00:00, 15.88it/s]\n"
     ]
    },
    {
     "name": "stdout",
     "output_type": "stream",
     "text": [
      "Training Cross-Entropy Loss = 0.3493\n",
      "Training Accuracy = 87.12%\n",
      "======== Validation phase ========\n"
     ]
    },
    {
     "name": "stderr",
     "output_type": "stream",
     "text": [
      "Loss = 0.2906  |  Accuracy = 86.77% | Batch ID = 40 : 100%|██████████| 40/40 [00:01<00:00, 33.62it/s]\n"
     ]
    },
    {
     "name": "stdout",
     "output_type": "stream",
     "text": [
      "Validation Cross-Entropy Loss = 0.3518\n",
      "Validation Accuracy = 86.77%\n",
      "\n",
      "Epoch 3/24\n",
      "======== Training phase ========\n"
     ]
    },
    {
     "name": "stderr",
     "output_type": "stream",
     "text": [
      "Loss = 0.2270  |  Accuracy = 89.03% | Batch ID = 235 : 100%|██████████| 235/235 [00:14<00:00, 15.89it/s]\n"
     ]
    },
    {
     "name": "stdout",
     "output_type": "stream",
     "text": [
      "Training Cross-Entropy Loss = 0.2959\n",
      "Training Accuracy = 89.03%\n",
      "======== Validation phase ========\n"
     ]
    },
    {
     "name": "stderr",
     "output_type": "stream",
     "text": [
      "Loss = 0.2960  |  Accuracy = 87.81% | Batch ID = 40 : 100%|██████████| 40/40 [00:01<00:00, 33.47it/s]\n"
     ]
    },
    {
     "name": "stdout",
     "output_type": "stream",
     "text": [
      "Validation Cross-Entropy Loss = 0.3340\n",
      "Validation Accuracy = 87.81%\n",
      "\n",
      "Epoch 4/24\n",
      "======== Training phase ========\n"
     ]
    },
    {
     "name": "stderr",
     "output_type": "stream",
     "text": [
      "Loss = 0.1971  |  Accuracy = 90.23% | Batch ID = 235 : 100%|██████████| 235/235 [00:14<00:00, 16.01it/s]\n"
     ]
    },
    {
     "name": "stdout",
     "output_type": "stream",
     "text": [
      "Training Cross-Entropy Loss = 0.2616\n",
      "Training Accuracy = 90.23%\n",
      "======== Validation phase ========\n"
     ]
    },
    {
     "name": "stderr",
     "output_type": "stream",
     "text": [
      "Loss = 0.1970  |  Accuracy = 88.19% | Batch ID = 40 : 100%|██████████| 40/40 [00:01<00:00, 34.65it/s]\n"
     ]
    },
    {
     "name": "stdout",
     "output_type": "stream",
     "text": [
      "Validation Cross-Entropy Loss = 0.3456\n",
      "Validation Accuracy = 88.19%\n",
      "\n",
      "Epoch 5/24\n",
      "======== Training phase ========\n"
     ]
    },
    {
     "name": "stderr",
     "output_type": "stream",
     "text": [
      "Loss = 0.3014  |  Accuracy = 90.93% | Batch ID = 235 : 100%|██████████| 235/235 [00:14<00:00, 16.14it/s]\n"
     ]
    },
    {
     "name": "stdout",
     "output_type": "stream",
     "text": [
      "Training Cross-Entropy Loss = 0.2472\n",
      "Training Accuracy = 90.93%\n",
      "======== Validation phase ========\n"
     ]
    },
    {
     "name": "stderr",
     "output_type": "stream",
     "text": [
      "Loss = 0.1403  |  Accuracy = 89.74% | Batch ID = 40 : 100%|██████████| 40/40 [00:01<00:00, 34.00it/s]\n"
     ]
    },
    {
     "name": "stdout",
     "output_type": "stream",
     "text": [
      "Validation Cross-Entropy Loss = 0.2816\n",
      "Validation Accuracy = 89.74%\n",
      "\n",
      "Epoch 6/24\n",
      "======== Training phase ========\n"
     ]
    },
    {
     "name": "stderr",
     "output_type": "stream",
     "text": [
      "Loss = 0.1019  |  Accuracy = 91.39% | Batch ID = 235 : 100%|██████████| 235/235 [00:14<00:00, 16.18it/s]\n"
     ]
    },
    {
     "name": "stdout",
     "output_type": "stream",
     "text": [
      "Training Cross-Entropy Loss = 0.2293\n",
      "Training Accuracy = 91.39%\n",
      "======== Validation phase ========\n"
     ]
    },
    {
     "name": "stderr",
     "output_type": "stream",
     "text": [
      "Loss = 0.3872  |  Accuracy = 88.86% | Batch ID = 40 : 100%|██████████| 40/40 [00:01<00:00, 34.14it/s]\n"
     ]
    },
    {
     "name": "stdout",
     "output_type": "stream",
     "text": [
      "Validation Cross-Entropy Loss = 0.3117\n",
      "Validation Accuracy = 88.86%\n",
      "\n",
      "Epoch 7/24\n",
      "======== Training phase ========\n"
     ]
    },
    {
     "name": "stderr",
     "output_type": "stream",
     "text": [
      "Loss = 0.2534  |  Accuracy = 91.98% | Batch ID = 235 : 100%|██████████| 235/235 [00:14<00:00, 15.93it/s]\n"
     ]
    },
    {
     "name": "stdout",
     "output_type": "stream",
     "text": [
      "Training Cross-Entropy Loss = 0.2124\n",
      "Training Accuracy = 91.98%\n",
      "======== Validation phase ========\n"
     ]
    },
    {
     "name": "stderr",
     "output_type": "stream",
     "text": [
      "Loss = 0.1900  |  Accuracy = 88.10% | Batch ID = 40 : 100%|██████████| 40/40 [00:01<00:00, 33.21it/s]\n"
     ]
    },
    {
     "name": "stdout",
     "output_type": "stream",
     "text": [
      "Validation Cross-Entropy Loss = 0.3284\n",
      "Validation Accuracy = 88.10%\n",
      "\n",
      "Epoch 8/24\n",
      "======== Training phase ========\n"
     ]
    },
    {
     "name": "stderr",
     "output_type": "stream",
     "text": [
      "Loss = 0.2717  |  Accuracy = 92.46% | Batch ID = 235 : 100%|██████████| 235/235 [00:14<00:00, 16.15it/s]\n"
     ]
    },
    {
     "name": "stdout",
     "output_type": "stream",
     "text": [
      "Training Cross-Entropy Loss = 0.1999\n",
      "Training Accuracy = 92.46%\n",
      "======== Validation phase ========\n"
     ]
    },
    {
     "name": "stderr",
     "output_type": "stream",
     "text": [
      "Loss = 0.5900  |  Accuracy = 90.59% | Batch ID = 40 : 100%|██████████| 40/40 [00:01<00:00, 33.05it/s]\n"
     ]
    },
    {
     "name": "stdout",
     "output_type": "stream",
     "text": [
      "Validation Cross-Entropy Loss = 0.2847\n",
      "Validation Accuracy = 90.59%\n",
      "\n",
      "Epoch 9/24\n",
      "======== Training phase ========\n"
     ]
    },
    {
     "name": "stderr",
     "output_type": "stream",
     "text": [
      "Loss = 0.2508  |  Accuracy = 92.91% | Batch ID = 235 : 100%|██████████| 235/235 [00:14<00:00, 16.20it/s]\n"
     ]
    },
    {
     "name": "stdout",
     "output_type": "stream",
     "text": [
      "Training Cross-Entropy Loss = 0.1905\n",
      "Training Accuracy = 92.91%\n",
      "======== Validation phase ========\n"
     ]
    },
    {
     "name": "stderr",
     "output_type": "stream",
     "text": [
      "Loss = 0.1694  |  Accuracy = 90.09% | Batch ID = 40 : 100%|██████████| 40/40 [00:01<00:00, 33.36it/s]\n"
     ]
    },
    {
     "name": "stdout",
     "output_type": "stream",
     "text": [
      "Validation Cross-Entropy Loss = 0.2819\n",
      "Validation Accuracy = 90.09%\n",
      "\n",
      "Epoch 10/24\n",
      "======== Training phase ========\n"
     ]
    },
    {
     "name": "stderr",
     "output_type": "stream",
     "text": [
      "Loss = 0.1027  |  Accuracy = 93.23% | Batch ID = 235 : 100%|██████████| 235/235 [00:15<00:00, 15.57it/s]\n"
     ]
    },
    {
     "name": "stdout",
     "output_type": "stream",
     "text": [
      "Training Cross-Entropy Loss = 0.1794\n",
      "Training Accuracy = 93.23%\n",
      "======== Validation phase ========\n"
     ]
    },
    {
     "name": "stderr",
     "output_type": "stream",
     "text": [
      "Loss = 0.1083  |  Accuracy = 89.36% | Batch ID = 40 : 100%|██████████| 40/40 [00:01<00:00, 33.39it/s]\n"
     ]
    },
    {
     "name": "stdout",
     "output_type": "stream",
     "text": [
      "Validation Cross-Entropy Loss = 0.2892\n",
      "Validation Accuracy = 89.36%\n",
      "\n",
      "Epoch 11/24\n",
      "======== Training phase ========\n"
     ]
    },
    {
     "name": "stderr",
     "output_type": "stream",
     "text": [
      "Loss = 0.2634  |  Accuracy = 93.76% | Batch ID = 235 : 100%|██████████| 235/235 [00:14<00:00, 15.70it/s]\n"
     ]
    },
    {
     "name": "stdout",
     "output_type": "stream",
     "text": [
      "Training Cross-Entropy Loss = 0.1672\n",
      "Training Accuracy = 93.76%\n",
      "======== Validation phase ========\n"
     ]
    },
    {
     "name": "stderr",
     "output_type": "stream",
     "text": [
      "Loss = 0.2719  |  Accuracy = 90.34% | Batch ID = 40 : 100%|██████████| 40/40 [00:01<00:00, 33.28it/s]\n"
     ]
    },
    {
     "name": "stdout",
     "output_type": "stream",
     "text": [
      "Validation Cross-Entropy Loss = 0.2801\n",
      "Validation Accuracy = 90.34%\n",
      "\n",
      "Epoch 12/24\n",
      "======== Training phase ========\n"
     ]
    },
    {
     "name": "stderr",
     "output_type": "stream",
     "text": [
      "Loss = 0.1590  |  Accuracy = 93.85% | Batch ID = 235 : 100%|██████████| 235/235 [00:14<00:00, 15.91it/s]\n"
     ]
    },
    {
     "name": "stdout",
     "output_type": "stream",
     "text": [
      "Training Cross-Entropy Loss = 0.1615\n",
      "Training Accuracy = 93.85%\n",
      "======== Validation phase ========\n"
     ]
    },
    {
     "name": "stderr",
     "output_type": "stream",
     "text": [
      "Loss = 0.3096  |  Accuracy = 90.53% | Batch ID = 40 : 100%|██████████| 40/40 [00:01<00:00, 33.64it/s]\n"
     ]
    },
    {
     "name": "stdout",
     "output_type": "stream",
     "text": [
      "Validation Cross-Entropy Loss = 0.2772\n",
      "Validation Accuracy = 90.53%\n",
      "\n",
      "Epoch 13/24\n",
      "======== Training phase ========\n"
     ]
    },
    {
     "name": "stderr",
     "output_type": "stream",
     "text": [
      "Loss = 0.1192  |  Accuracy = 94.45% | Batch ID = 235 : 100%|██████████| 235/235 [00:15<00:00, 15.48it/s]\n"
     ]
    },
    {
     "name": "stdout",
     "output_type": "stream",
     "text": [
      "Training Cross-Entropy Loss = 0.1474\n",
      "Training Accuracy = 94.45%\n",
      "======== Validation phase ========\n"
     ]
    },
    {
     "name": "stderr",
     "output_type": "stream",
     "text": [
      "Loss = 0.1871  |  Accuracy = 90.87% | Batch ID = 40 : 100%|██████████| 40/40 [00:01<00:00, 33.19it/s]\n"
     ]
    },
    {
     "name": "stdout",
     "output_type": "stream",
     "text": [
      "Validation Cross-Entropy Loss = 0.2701\n",
      "Validation Accuracy = 90.87%\n",
      "\n",
      "Epoch 14/24\n",
      "======== Training phase ========\n"
     ]
    },
    {
     "name": "stderr",
     "output_type": "stream",
     "text": [
      "Loss = 0.1599  |  Accuracy = 94.81% | Batch ID = 235 : 100%|██████████| 235/235 [00:14<00:00, 16.10it/s]\n"
     ]
    },
    {
     "name": "stdout",
     "output_type": "stream",
     "text": [
      "Training Cross-Entropy Loss = 0.1371\n",
      "Training Accuracy = 94.81%\n",
      "======== Validation phase ========\n"
     ]
    },
    {
     "name": "stderr",
     "output_type": "stream",
     "text": [
      "Loss = 0.6187  |  Accuracy = 90.72% | Batch ID = 40 : 100%|██████████| 40/40 [00:01<00:00, 33.81it/s]\n"
     ]
    },
    {
     "name": "stdout",
     "output_type": "stream",
     "text": [
      "Validation Cross-Entropy Loss = 0.3004\n",
      "Validation Accuracy = 90.72%\n",
      "\n",
      "Epoch 15/24\n",
      "======== Training phase ========\n"
     ]
    },
    {
     "name": "stderr",
     "output_type": "stream",
     "text": [
      "Loss = 0.1297  |  Accuracy = 95.06% | Batch ID = 235 : 100%|██████████| 235/235 [00:14<00:00, 16.20it/s]\n"
     ]
    },
    {
     "name": "stdout",
     "output_type": "stream",
     "text": [
      "Training Cross-Entropy Loss = 0.1302\n",
      "Training Accuracy = 95.06%\n",
      "======== Validation phase ========\n"
     ]
    },
    {
     "name": "stderr",
     "output_type": "stream",
     "text": [
      "Loss = 0.4503  |  Accuracy = 91.15% | Batch ID = 40 : 100%|██████████| 40/40 [00:01<00:00, 34.50it/s]\n"
     ]
    },
    {
     "name": "stdout",
     "output_type": "stream",
     "text": [
      "Validation Cross-Entropy Loss = 0.2843\n",
      "Validation Accuracy = 91.15%\n",
      "\n",
      "Epoch 16/24\n",
      "======== Training phase ========\n"
     ]
    },
    {
     "name": "stderr",
     "output_type": "stream",
     "text": [
      "Loss = 0.1007  |  Accuracy = 95.41% | Batch ID = 235 : 100%|██████████| 235/235 [00:14<00:00, 16.16it/s]\n"
     ]
    },
    {
     "name": "stdout",
     "output_type": "stream",
     "text": [
      "Training Cross-Entropy Loss = 0.1220\n",
      "Training Accuracy = 95.41%\n",
      "======== Validation phase ========\n"
     ]
    },
    {
     "name": "stderr",
     "output_type": "stream",
     "text": [
      "Loss = 0.4212  |  Accuracy = 90.39% | Batch ID = 40 : 100%|██████████| 40/40 [00:01<00:00, 33.26it/s]\n"
     ]
    },
    {
     "name": "stdout",
     "output_type": "stream",
     "text": [
      "Validation Cross-Entropy Loss = 0.3008\n",
      "Validation Accuracy = 90.39%\n",
      "\n",
      "Epoch 17/24\n",
      "======== Training phase ========\n"
     ]
    },
    {
     "name": "stderr",
     "output_type": "stream",
     "text": [
      "Loss = 0.1592  |  Accuracy = 95.68% | Batch ID = 235 : 100%|██████████| 235/235 [00:14<00:00, 16.09it/s]\n"
     ]
    },
    {
     "name": "stdout",
     "output_type": "stream",
     "text": [
      "Training Cross-Entropy Loss = 0.1120\n",
      "Training Accuracy = 95.68%\n",
      "======== Validation phase ========\n"
     ]
    },
    {
     "name": "stderr",
     "output_type": "stream",
     "text": [
      "Loss = 1.0328  |  Accuracy = 90.65% | Batch ID = 40 : 100%|██████████| 40/40 [00:01<00:00, 33.73it/s]\n"
     ]
    },
    {
     "name": "stdout",
     "output_type": "stream",
     "text": [
      "Validation Cross-Entropy Loss = 0.3248\n",
      "Validation Accuracy = 90.65%\n",
      "\n",
      "Epoch 18/24\n",
      "======== Training phase ========\n"
     ]
    },
    {
     "name": "stderr",
     "output_type": "stream",
     "text": [
      "Loss = 0.1176  |  Accuracy = 95.95% | Batch ID = 235 : 100%|██████████| 235/235 [00:14<00:00, 16.16it/s]\n"
     ]
    },
    {
     "name": "stdout",
     "output_type": "stream",
     "text": [
      "Training Cross-Entropy Loss = 0.1063\n",
      "Training Accuracy = 95.95%\n",
      "======== Validation phase ========\n"
     ]
    },
    {
     "name": "stderr",
     "output_type": "stream",
     "text": [
      "Loss = 0.1517  |  Accuracy = 90.90% | Batch ID = 40 : 100%|██████████| 40/40 [00:01<00:00, 33.02it/s]\n"
     ]
    },
    {
     "name": "stdout",
     "output_type": "stream",
     "text": [
      "Validation Cross-Entropy Loss = 0.2971\n",
      "Validation Accuracy = 90.90%\n",
      "\n",
      "Epoch 19/24\n",
      "======== Training phase ========\n"
     ]
    },
    {
     "name": "stderr",
     "output_type": "stream",
     "text": [
      "Loss = 0.1412  |  Accuracy = 96.32% | Batch ID = 235 : 100%|██████████| 235/235 [00:14<00:00, 16.24it/s]\n"
     ]
    },
    {
     "name": "stdout",
     "output_type": "stream",
     "text": [
      "Training Cross-Entropy Loss = 0.0973\n",
      "Training Accuracy = 96.32%\n",
      "======== Validation phase ========\n"
     ]
    },
    {
     "name": "stderr",
     "output_type": "stream",
     "text": [
      "Loss = 0.9084  |  Accuracy = 91.03% | Batch ID = 40 : 100%|██████████| 40/40 [00:01<00:00, 34.12it/s]\n"
     ]
    },
    {
     "name": "stdout",
     "output_type": "stream",
     "text": [
      "Validation Cross-Entropy Loss = 0.3155\n",
      "Validation Accuracy = 91.03%\n",
      "\n",
      "Epoch 20/24\n",
      "======== Training phase ========\n"
     ]
    },
    {
     "name": "stderr",
     "output_type": "stream",
     "text": [
      "Loss = 0.0628  |  Accuracy = 96.78% | Batch ID = 235 : 100%|██████████| 235/235 [00:14<00:00, 16.29it/s]\n"
     ]
    },
    {
     "name": "stdout",
     "output_type": "stream",
     "text": [
      "Training Cross-Entropy Loss = 0.0857\n",
      "Training Accuracy = 96.78%\n",
      "======== Validation phase ========\n"
     ]
    },
    {
     "name": "stderr",
     "output_type": "stream",
     "text": [
      "Loss = 0.7573  |  Accuracy = 91.24% | Batch ID = 40 : 100%|██████████| 40/40 [00:01<00:00, 34.39it/s]\n"
     ]
    },
    {
     "name": "stdout",
     "output_type": "stream",
     "text": [
      "Validation Cross-Entropy Loss = 0.3366\n",
      "Validation Accuracy = 91.24%\n",
      "\n",
      "Epoch 21/24\n",
      "======== Training phase ========\n"
     ]
    },
    {
     "name": "stderr",
     "output_type": "stream",
     "text": [
      "Loss = 0.0763  |  Accuracy = 96.72% | Batch ID = 235 : 100%|██████████| 235/235 [00:14<00:00, 16.10it/s]\n"
     ]
    },
    {
     "name": "stdout",
     "output_type": "stream",
     "text": [
      "Training Cross-Entropy Loss = 0.0874\n",
      "Training Accuracy = 96.72%\n",
      "======== Validation phase ========\n"
     ]
    },
    {
     "name": "stderr",
     "output_type": "stream",
     "text": [
      "Loss = 0.5914  |  Accuracy = 91.48% | Batch ID = 40 : 100%|██████████| 40/40 [00:01<00:00, 33.98it/s]\n"
     ]
    },
    {
     "name": "stdout",
     "output_type": "stream",
     "text": [
      "Validation Cross-Entropy Loss = 0.3103\n",
      "Validation Accuracy = 91.48%\n",
      "\n",
      "Epoch 22/24\n",
      "======== Training phase ========\n"
     ]
    },
    {
     "name": "stderr",
     "output_type": "stream",
     "text": [
      "Loss = 0.1026  |  Accuracy = 97.13% | Batch ID = 235 : 100%|██████████| 235/235 [00:14<00:00, 16.18it/s]\n"
     ]
    },
    {
     "name": "stdout",
     "output_type": "stream",
     "text": [
      "Training Cross-Entropy Loss = 0.0757\n",
      "Training Accuracy = 97.13%\n",
      "======== Validation phase ========\n"
     ]
    },
    {
     "name": "stderr",
     "output_type": "stream",
     "text": [
      "Loss = 0.6841  |  Accuracy = 90.78% | Batch ID = 40 : 100%|██████████| 40/40 [00:01<00:00, 33.11it/s]\n"
     ]
    },
    {
     "name": "stdout",
     "output_type": "stream",
     "text": [
      "Validation Cross-Entropy Loss = 0.3662\n",
      "Validation Accuracy = 90.78%\n",
      "\n",
      "Epoch 23/24\n",
      "======== Training phase ========\n"
     ]
    },
    {
     "name": "stderr",
     "output_type": "stream",
     "text": [
      "Loss = 0.1297  |  Accuracy = 97.19% | Batch ID = 235 : 100%|██████████| 235/235 [00:14<00:00, 16.27it/s]\n"
     ]
    },
    {
     "name": "stdout",
     "output_type": "stream",
     "text": [
      "Training Cross-Entropy Loss = 0.0753\n",
      "Training Accuracy = 97.19%\n",
      "======== Validation phase ========\n"
     ]
    },
    {
     "name": "stderr",
     "output_type": "stream",
     "text": [
      "Loss = 1.0246  |  Accuracy = 91.04% | Batch ID = 40 : 100%|██████████| 40/40 [00:01<00:00, 34.39it/s]\n"
     ]
    },
    {
     "name": "stdout",
     "output_type": "stream",
     "text": [
      "Validation Cross-Entropy Loss = 0.3638\n",
      "Validation Accuracy = 91.04%\n",
      "\n",
      "Epoch 24/24\n",
      "======== Training phase ========\n"
     ]
    },
    {
     "name": "stderr",
     "output_type": "stream",
     "text": [
      "Loss = 0.0900  |  Accuracy = 97.39% | Batch ID = 235 : 100%|██████████| 235/235 [00:14<00:00, 16.20it/s]\n"
     ]
    },
    {
     "name": "stdout",
     "output_type": "stream",
     "text": [
      "Training Cross-Entropy Loss = 0.0691\n",
      "Training Accuracy = 97.39%\n",
      "======== Validation phase ========\n"
     ]
    },
    {
     "name": "stderr",
     "output_type": "stream",
     "text": [
      "Loss = 0.3702  |  Accuracy = 91.07% | Batch ID = 40 : 100%|██████████| 40/40 [00:01<00:00, 34.05it/s]\n"
     ]
    },
    {
     "name": "stdout",
     "output_type": "stream",
     "text": [
      "Validation Cross-Entropy Loss = 0.3579\n",
      "Validation Accuracy = 91.07%\n",
      "\n"
     ]
    },
    {
     "data": {
      "image/png": "[encoded data removed]",
      "text/plain": [
       "<Figure size 1000x500 with 1 Axes>"
      ]
     },
     "metadata": {},
     "output_type": "display_data"
    },
    {
     "name": "stdout",
     "output_type": "stream",
     "text": [
      "Cross-Entropy on training set:  0.0691\n",
      "Accuracy on training set:       97.39%\n",
      "\n",
      "Cross-Entropy on validation set: 0.3579\n",
      "Accuracy on validation set:      91.07%\n"
     ]
    }
   ],
   "source": [
    "# Train the network\n",
    "train_loss_hist, train_acc_hist, test_loss_hist, test_acc_hist = train(ResNet18, TrainLoader, TestLoader, optimizer, criterion, epochs = 24, device = device)"
   ]
  },
  {
   "cell_type": "markdown",
   "metadata": {},
   "source": [
    "### Exercise 1 (C) iii)"
   ]
  },
  {
   "cell_type": "code",
   "execution_count": 32,
   "metadata": {},
   "outputs": [],
   "source": [
    "# Use a ResNet-18 with pre-trained weights\n",
    "ResNet18_pretrained = resnet18(weights = ResNet18_Weights.DEFAULT)\n",
    "\n",
    "# Adapt the ResNet-18 pre-trained to the FashionMNIST dataset\n",
    "ResNet18_pretrained.conv1 = torch.nn.Conv2d(1, 64, kernel_size=7, stride=2, padding=3, bias=False)\n",
    "ResNet18_pretrained.fc = torch.nn.Linear(ResNet18_pretrained.fc.in_features, 10)"
   ]
  },
  {
   "cell_type": "code",
   "execution_count": 33,
   "metadata": {},
   "outputs": [
    {
     "name": "stdout",
     "output_type": "stream",
     "text": [
      "Device: mps\n"
     ]
    }
   ],
   "source": [
    "# Initialize the network, loss function, and optimizer\n",
    "device = set_device()\n",
    "ResNet18_pretrained = ResNet18_pretrained.to(device)\n",
    "criterion = torch.nn.CrossEntropyLoss()\n",
    "optimizer = torch.optim.Adam(ResNet18_pretrained.parameters(), lr = 0.01)"
   ]
  },
  {
   "cell_type": "code",
   "execution_count": 34,
   "metadata": {},
   "outputs": [
    {
     "name": "stdout",
     "output_type": "stream",
     "text": [
      "Epoch 1/24\n",
      "======== Training phase ========\n"
     ]
    },
    {
     "name": "stderr",
     "output_type": "stream",
     "text": [
      "Loss = 0.3621  |  Accuracy = 76.58% | Batch ID = 235 : 100%|██████████| 235/235 [00:15<00:00, 15.52it/s]\n"
     ]
    },
    {
     "name": "stdout",
     "output_type": "stream",
     "text": [
      "Training Cross-Entropy Loss = 0.6621\n",
      "Training Accuracy = 76.58%\n",
      "======== Validation phase ========\n"
     ]
    },
    {
     "name": "stderr",
     "output_type": "stream",
     "text": [
      "Loss = 0.6617  |  Accuracy = 81.95% | Batch ID = 40 : 100%|██████████| 40/40 [00:01<00:00, 33.79it/s]\n"
     ]
    },
    {
     "name": "stdout",
     "output_type": "stream",
     "text": [
      "Validation Cross-Entropy Loss = 0.5039\n",
      "Validation Accuracy = 81.95%\n",
      "\n",
      "Epoch 2/24\n",
      "======== Training phase ========\n"
     ]
    },
    {
     "name": "stderr",
     "output_type": "stream",
     "text": [
      "Loss = 0.3254  |  Accuracy = 86.05% | Batch ID = 235 : 100%|██████████| 235/235 [00:14<00:00, 15.78it/s]\n"
     ]
    },
    {
     "name": "stdout",
     "output_type": "stream",
     "text": [
      "Training Cross-Entropy Loss = 0.3821\n",
      "Training Accuracy = 86.05%\n",
      "======== Validation phase ========\n"
     ]
    },
    {
     "name": "stderr",
     "output_type": "stream",
     "text": [
      "Loss = 0.3658  |  Accuracy = 79.94% | Batch ID = 40 : 100%|██████████| 40/40 [00:01<00:00, 33.57it/s]\n"
     ]
    },
    {
     "name": "stdout",
     "output_type": "stream",
     "text": [
      "Validation Cross-Entropy Loss = 0.5601\n",
      "Validation Accuracy = 79.94%\n",
      "\n",
      "Epoch 3/24\n",
      "======== Training phase ========\n"
     ]
    },
    {
     "name": "stderr",
     "output_type": "stream",
     "text": [
      "Loss = 0.2534  |  Accuracy = 88.47% | Batch ID = 235 : 100%|██████████| 235/235 [00:14<00:00, 16.07it/s]\n"
     ]
    },
    {
     "name": "stdout",
     "output_type": "stream",
     "text": [
      "Training Cross-Entropy Loss = 0.3091\n",
      "Training Accuracy = 88.47%\n",
      "======== Validation phase ========\n"
     ]
    },
    {
     "name": "stderr",
     "output_type": "stream",
     "text": [
      "Loss = 0.4114  |  Accuracy = 88.81% | Batch ID = 40 : 100%|██████████| 40/40 [00:01<00:00, 33.89it/s]\n"
     ]
    },
    {
     "name": "stdout",
     "output_type": "stream",
     "text": [
      "Validation Cross-Entropy Loss = 0.3070\n",
      "Validation Accuracy = 88.81%\n",
      "\n",
      "Epoch 4/24\n",
      "======== Training phase ========\n"
     ]
    },
    {
     "name": "stderr",
     "output_type": "stream",
     "text": [
      "Loss = 0.2736  |  Accuracy = 89.87% | Batch ID = 235 : 100%|██████████| 235/235 [00:14<00:00, 16.19it/s]\n"
     ]
    },
    {
     "name": "stdout",
     "output_type": "stream",
     "text": [
      "Training Cross-Entropy Loss = 0.2733\n",
      "Training Accuracy = 89.87%\n",
      "======== Validation phase ========\n"
     ]
    },
    {
     "name": "stderr",
     "output_type": "stream",
     "text": [
      "Loss = 0.3878  |  Accuracy = 88.62% | Batch ID = 40 : 100%|██████████| 40/40 [00:01<00:00, 33.59it/s]\n"
     ]
    },
    {
     "name": "stdout",
     "output_type": "stream",
     "text": [
      "Validation Cross-Entropy Loss = 0.3217\n",
      "Validation Accuracy = 88.62%\n",
      "\n",
      "Epoch 5/24\n",
      "======== Training phase ========\n"
     ]
    },
    {
     "name": "stderr",
     "output_type": "stream",
     "text": [
      "Loss = 0.3289  |  Accuracy = 88.85% | Batch ID = 235 : 100%|██████████| 235/235 [00:14<00:00, 16.17it/s]\n"
     ]
    },
    {
     "name": "stdout",
     "output_type": "stream",
     "text": [
      "Training Cross-Entropy Loss = 0.3049\n",
      "Training Accuracy = 88.85%\n",
      "======== Validation phase ========\n"
     ]
    },
    {
     "name": "stderr",
     "output_type": "stream",
     "text": [
      "Loss = 0.2710  |  Accuracy = 88.08% | Batch ID = 40 : 100%|██████████| 40/40 [00:01<00:00, 33.52it/s]\n"
     ]
    },
    {
     "name": "stdout",
     "output_type": "stream",
     "text": [
      "Validation Cross-Entropy Loss = 0.3198\n",
      "Validation Accuracy = 88.08%\n",
      "\n",
      "Epoch 6/24\n",
      "======== Training phase ========\n"
     ]
    },
    {
     "name": "stderr",
     "output_type": "stream",
     "text": [
      "Loss = 0.3172  |  Accuracy = 90.57% | Batch ID = 235 : 100%|██████████| 235/235 [00:14<00:00, 16.19it/s]\n"
     ]
    },
    {
     "name": "stdout",
     "output_type": "stream",
     "text": [
      "Training Cross-Entropy Loss = 0.2570\n",
      "Training Accuracy = 90.57%\n",
      "======== Validation phase ========\n"
     ]
    },
    {
     "name": "stderr",
     "output_type": "stream",
     "text": [
      "Loss = 0.4161  |  Accuracy = 89.69% | Batch ID = 40 : 100%|██████████| 40/40 [00:01<00:00, 34.44it/s]\n"
     ]
    },
    {
     "name": "stdout",
     "output_type": "stream",
     "text": [
      "Validation Cross-Entropy Loss = 0.2863\n",
      "Validation Accuracy = 89.69%\n",
      "\n",
      "Epoch 7/24\n",
      "======== Training phase ========\n"
     ]
    },
    {
     "name": "stderr",
     "output_type": "stream",
     "text": [
      "Loss = 0.2103  |  Accuracy = 91.31% | Batch ID = 235 : 100%|██████████| 235/235 [00:14<00:00, 16.18it/s]\n"
     ]
    },
    {
     "name": "stdout",
     "output_type": "stream",
     "text": [
      "Training Cross-Entropy Loss = 0.2331\n",
      "Training Accuracy = 91.31%\n",
      "======== Validation phase ========\n"
     ]
    },
    {
     "name": "stderr",
     "output_type": "stream",
     "text": [
      "Loss = 0.3024  |  Accuracy = 88.91% | Batch ID = 40 : 100%|██████████| 40/40 [00:01<00:00, 34.58it/s]\n"
     ]
    },
    {
     "name": "stdout",
     "output_type": "stream",
     "text": [
      "Validation Cross-Entropy Loss = 0.2917\n",
      "Validation Accuracy = 88.91%\n",
      "\n",
      "Epoch 8/24\n",
      "======== Training phase ========\n"
     ]
    },
    {
     "name": "stderr",
     "output_type": "stream",
     "text": [
      "Loss = 0.1313  |  Accuracy = 91.98% | Batch ID = 235 : 100%|██████████| 235/235 [00:14<00:00, 16.25it/s]\n"
     ]
    },
    {
     "name": "stdout",
     "output_type": "stream",
     "text": [
      "Training Cross-Entropy Loss = 0.2148\n",
      "Training Accuracy = 91.98%\n",
      "======== Validation phase ========\n"
     ]
    },
    {
     "name": "stderr",
     "output_type": "stream",
     "text": [
      "Loss = 0.5510  |  Accuracy = 89.09% | Batch ID = 40 : 100%|██████████| 40/40 [00:01<00:00, 34.65it/s]\n"
     ]
    },
    {
     "name": "stdout",
     "output_type": "stream",
     "text": [
      "Validation Cross-Entropy Loss = 0.3118\n",
      "Validation Accuracy = 89.09%\n",
      "\n",
      "Epoch 9/24\n",
      "======== Training phase ========\n"
     ]
    },
    {
     "name": "stderr",
     "output_type": "stream",
     "text": [
      "Loss = 0.2412  |  Accuracy = 92.43% | Batch ID = 235 : 100%|██████████| 235/235 [00:14<00:00, 16.23it/s]\n"
     ]
    },
    {
     "name": "stdout",
     "output_type": "stream",
     "text": [
      "Training Cross-Entropy Loss = 0.2023\n",
      "Training Accuracy = 92.43%\n",
      "======== Validation phase ========\n"
     ]
    },
    {
     "name": "stderr",
     "output_type": "stream",
     "text": [
      "Loss = 0.2552  |  Accuracy = 90.04% | Batch ID = 40 : 100%|██████████| 40/40 [00:01<00:00, 34.81it/s]\n"
     ]
    },
    {
     "name": "stdout",
     "output_type": "stream",
     "text": [
      "Validation Cross-Entropy Loss = 0.2742\n",
      "Validation Accuracy = 90.04%\n",
      "\n",
      "Epoch 10/24\n",
      "======== Training phase ========\n"
     ]
    },
    {
     "name": "stderr",
     "output_type": "stream",
     "text": [
      "Loss = 0.2461  |  Accuracy = 93.05% | Batch ID = 235 : 100%|██████████| 235/235 [00:14<00:00, 16.04it/s]\n"
     ]
    },
    {
     "name": "stdout",
     "output_type": "stream",
     "text": [
      "Training Cross-Entropy Loss = 0.1864\n",
      "Training Accuracy = 93.05%\n",
      "======== Validation phase ========\n"
     ]
    },
    {
     "name": "stderr",
     "output_type": "stream",
     "text": [
      "Loss = 0.2630  |  Accuracy = 90.16% | Batch ID = 40 : 100%|██████████| 40/40 [00:01<00:00, 33.88it/s]\n"
     ]
    },
    {
     "name": "stdout",
     "output_type": "stream",
     "text": [
      "Validation Cross-Entropy Loss = 0.2903\n",
      "Validation Accuracy = 90.16%\n",
      "\n",
      "Epoch 11/24\n",
      "======== Training phase ========\n"
     ]
    },
    {
     "name": "stderr",
     "output_type": "stream",
     "text": [
      "Loss = 0.1353  |  Accuracy = 93.22% | Batch ID = 235 : 100%|██████████| 235/235 [00:14<00:00, 16.09it/s]\n"
     ]
    },
    {
     "name": "stdout",
     "output_type": "stream",
     "text": [
      "Training Cross-Entropy Loss = 0.1783\n",
      "Training Accuracy = 93.22%\n",
      "======== Validation phase ========\n"
     ]
    },
    {
     "name": "stderr",
     "output_type": "stream",
     "text": [
      "Loss = 0.4964  |  Accuracy = 90.56% | Batch ID = 40 : 100%|██████████| 40/40 [00:01<00:00, 34.36it/s]\n"
     ]
    },
    {
     "name": "stdout",
     "output_type": "stream",
     "text": [
      "Validation Cross-Entropy Loss = 0.2798\n",
      "Validation Accuracy = 90.56%\n",
      "\n",
      "Epoch 12/24\n",
      "======== Training phase ========\n"
     ]
    },
    {
     "name": "stderr",
     "output_type": "stream",
     "text": [
      "Loss = 0.2525  |  Accuracy = 93.72% | Batch ID = 235 : 100%|██████████| 235/235 [00:14<00:00, 16.28it/s]\n"
     ]
    },
    {
     "name": "stdout",
     "output_type": "stream",
     "text": [
      "Training Cross-Entropy Loss = 0.1671\n",
      "Training Accuracy = 93.72%\n",
      "======== Validation phase ========\n"
     ]
    },
    {
     "name": "stderr",
     "output_type": "stream",
     "text": [
      "Loss = 0.4794  |  Accuracy = 90.07% | Batch ID = 40 : 100%|██████████| 40/40 [00:01<00:00, 34.16it/s]\n"
     ]
    },
    {
     "name": "stdout",
     "output_type": "stream",
     "text": [
      "Validation Cross-Entropy Loss = 0.2768\n",
      "Validation Accuracy = 90.07%\n",
      "\n",
      "Epoch 13/24\n",
      "======== Training phase ========\n"
     ]
    },
    {
     "name": "stderr",
     "output_type": "stream",
     "text": [
      "Loss = 0.0934  |  Accuracy = 94.00% | Batch ID = 235 : 100%|██████████| 235/235 [00:14<00:00, 16.25it/s]\n"
     ]
    },
    {
     "name": "stdout",
     "output_type": "stream",
     "text": [
      "Training Cross-Entropy Loss = 0.1588\n",
      "Training Accuracy = 94.00%\n",
      "======== Validation phase ========\n"
     ]
    },
    {
     "name": "stderr",
     "output_type": "stream",
     "text": [
      "Loss = 0.2591  |  Accuracy = 90.17% | Batch ID = 40 : 100%|██████████| 40/40 [00:01<00:00, 33.74it/s]\n"
     ]
    },
    {
     "name": "stdout",
     "output_type": "stream",
     "text": [
      "Validation Cross-Entropy Loss = 0.2824\n",
      "Validation Accuracy = 90.17%\n",
      "\n",
      "Epoch 14/24\n",
      "======== Training phase ========\n"
     ]
    },
    {
     "name": "stderr",
     "output_type": "stream",
     "text": [
      "Loss = 0.1818  |  Accuracy = 94.33% | Batch ID = 235 : 100%|██████████| 235/235 [00:14<00:00, 16.19it/s]\n"
     ]
    },
    {
     "name": "stdout",
     "output_type": "stream",
     "text": [
      "Training Cross-Entropy Loss = 0.1489\n",
      "Training Accuracy = 94.33%\n",
      "======== Validation phase ========\n"
     ]
    },
    {
     "name": "stderr",
     "output_type": "stream",
     "text": [
      "Loss = 0.3632  |  Accuracy = 91.19% | Batch ID = 40 : 100%|██████████| 40/40 [00:01<00:00, 33.60it/s]\n"
     ]
    },
    {
     "name": "stdout",
     "output_type": "stream",
     "text": [
      "Validation Cross-Entropy Loss = 0.2600\n",
      "Validation Accuracy = 91.19%\n",
      "\n",
      "Epoch 15/24\n",
      "======== Training phase ========\n"
     ]
    },
    {
     "name": "stderr",
     "output_type": "stream",
     "text": [
      "Loss = 0.1611  |  Accuracy = 94.71% | Batch ID = 235 : 100%|██████████| 235/235 [00:14<00:00, 15.95it/s]\n"
     ]
    },
    {
     "name": "stdout",
     "output_type": "stream",
     "text": [
      "Training Cross-Entropy Loss = 0.1402\n",
      "Training Accuracy = 94.71%\n",
      "======== Validation phase ========\n"
     ]
    },
    {
     "name": "stderr",
     "output_type": "stream",
     "text": [
      "Loss = 1.0030  |  Accuracy = 89.65% | Batch ID = 40 : 100%|██████████| 40/40 [00:01<00:00, 33.16it/s]\n"
     ]
    },
    {
     "name": "stdout",
     "output_type": "stream",
     "text": [
      "Validation Cross-Entropy Loss = 0.3441\n",
      "Validation Accuracy = 89.65%\n",
      "\n",
      "Epoch 16/24\n",
      "======== Training phase ========\n"
     ]
    },
    {
     "name": "stderr",
     "output_type": "stream",
     "text": [
      "Loss = 0.1395  |  Accuracy = 95.00% | Batch ID = 235 : 100%|██████████| 235/235 [00:14<00:00, 15.99it/s]\n"
     ]
    },
    {
     "name": "stdout",
     "output_type": "stream",
     "text": [
      "Training Cross-Entropy Loss = 0.1305\n",
      "Training Accuracy = 95.00%\n",
      "======== Validation phase ========\n"
     ]
    },
    {
     "name": "stderr",
     "output_type": "stream",
     "text": [
      "Loss = 0.4499  |  Accuracy = 89.62% | Batch ID = 40 : 100%|██████████| 40/40 [00:01<00:00, 34.46it/s]\n"
     ]
    },
    {
     "name": "stdout",
     "output_type": "stream",
     "text": [
      "Validation Cross-Entropy Loss = 0.3094\n",
      "Validation Accuracy = 89.62%\n",
      "\n",
      "Epoch 17/24\n",
      "======== Training phase ========\n"
     ]
    },
    {
     "name": "stderr",
     "output_type": "stream",
     "text": [
      "Loss = 0.1411  |  Accuracy = 95.38% | Batch ID = 235 : 100%|██████████| 235/235 [00:14<00:00, 15.99it/s]\n"
     ]
    },
    {
     "name": "stdout",
     "output_type": "stream",
     "text": [
      "Training Cross-Entropy Loss = 0.1241\n",
      "Training Accuracy = 95.38%\n",
      "======== Validation phase ========\n"
     ]
    },
    {
     "name": "stderr",
     "output_type": "stream",
     "text": [
      "Loss = 0.8085  |  Accuracy = 90.69% | Batch ID = 40 : 100%|██████████| 40/40 [00:01<00:00, 34.03it/s]\n"
     ]
    },
    {
     "name": "stdout",
     "output_type": "stream",
     "text": [
      "Validation Cross-Entropy Loss = 0.2879\n",
      "Validation Accuracy = 90.69%\n",
      "\n",
      "Epoch 18/24\n",
      "======== Training phase ========\n"
     ]
    },
    {
     "name": "stderr",
     "output_type": "stream",
     "text": [
      "Loss = 0.1254  |  Accuracy = 95.72% | Batch ID = 235 : 100%|██████████| 235/235 [00:14<00:00, 15.79it/s]\n"
     ]
    },
    {
     "name": "stdout",
     "output_type": "stream",
     "text": [
      "Training Cross-Entropy Loss = 0.1135\n",
      "Training Accuracy = 95.72%\n",
      "======== Validation phase ========\n"
     ]
    },
    {
     "name": "stderr",
     "output_type": "stream",
     "text": [
      "Loss = 0.9160  |  Accuracy = 91.07% | Batch ID = 40 : 100%|██████████| 40/40 [00:01<00:00, 32.91it/s]\n"
     ]
    },
    {
     "name": "stdout",
     "output_type": "stream",
     "text": [
      "Validation Cross-Entropy Loss = 0.3048\n",
      "Validation Accuracy = 91.07%\n",
      "\n",
      "Epoch 19/24\n",
      "======== Training phase ========\n"
     ]
    },
    {
     "name": "stderr",
     "output_type": "stream",
     "text": [
      "Loss = 0.3546  |  Accuracy = 92.84% | Batch ID = 235 : 100%|██████████| 235/235 [00:14<00:00, 15.98it/s]\n"
     ]
    },
    {
     "name": "stdout",
     "output_type": "stream",
     "text": [
      "Training Cross-Entropy Loss = 0.2031\n",
      "Training Accuracy = 92.84%\n",
      "======== Validation phase ========\n"
     ]
    },
    {
     "name": "stderr",
     "output_type": "stream",
     "text": [
      "Loss = 0.4250  |  Accuracy = 87.20% | Batch ID = 40 : 100%|██████████| 40/40 [00:01<00:00, 34.29it/s]\n"
     ]
    },
    {
     "name": "stdout",
     "output_type": "stream",
     "text": [
      "Validation Cross-Entropy Loss = 0.3485\n",
      "Validation Accuracy = 87.20%\n",
      "\n",
      "Epoch 20/24\n",
      "======== Training phase ========\n"
     ]
    },
    {
     "name": "stderr",
     "output_type": "stream",
     "text": [
      "Loss = 0.0956  |  Accuracy = 92.41% | Batch ID = 235 : 100%|██████████| 235/235 [00:14<00:00, 15.99it/s]\n"
     ]
    },
    {
     "name": "stdout",
     "output_type": "stream",
     "text": [
      "Training Cross-Entropy Loss = 0.2030\n",
      "Training Accuracy = 92.41%\n",
      "======== Validation phase ========\n"
     ]
    },
    {
     "name": "stderr",
     "output_type": "stream",
     "text": [
      "Loss = 0.8913  |  Accuracy = 89.97% | Batch ID = 40 : 100%|██████████| 40/40 [00:01<00:00, 34.03it/s]\n"
     ]
    },
    {
     "name": "stdout",
     "output_type": "stream",
     "text": [
      "Validation Cross-Entropy Loss = 0.2884\n",
      "Validation Accuracy = 89.97%\n",
      "\n",
      "Epoch 21/24\n",
      "======== Training phase ========\n"
     ]
    },
    {
     "name": "stderr",
     "output_type": "stream",
     "text": [
      "Loss = 0.1220  |  Accuracy = 94.47% | Batch ID = 235 : 100%|██████████| 235/235 [00:14<00:00, 16.07it/s]\n"
     ]
    },
    {
     "name": "stdout",
     "output_type": "stream",
     "text": [
      "Training Cross-Entropy Loss = 0.1448\n",
      "Training Accuracy = 94.47%\n",
      "======== Validation phase ========\n"
     ]
    },
    {
     "name": "stderr",
     "output_type": "stream",
     "text": [
      "Loss = 0.5085  |  Accuracy = 91.37% | Batch ID = 40 : 100%|██████████| 40/40 [00:01<00:00, 34.57it/s]\n"
     ]
    },
    {
     "name": "stdout",
     "output_type": "stream",
     "text": [
      "Validation Cross-Entropy Loss = 0.2594\n",
      "Validation Accuracy = 91.37%\n",
      "\n",
      "Epoch 22/24\n",
      "======== Training phase ========\n"
     ]
    },
    {
     "name": "stderr",
     "output_type": "stream",
     "text": [
      "Loss = 0.1738  |  Accuracy = 95.69% | Batch ID = 235 : 100%|██████████| 235/235 [00:14<00:00, 16.16it/s]\n"
     ]
    },
    {
     "name": "stdout",
     "output_type": "stream",
     "text": [
      "Training Cross-Entropy Loss = 0.1145\n",
      "Training Accuracy = 95.69%\n",
      "======== Validation phase ========\n"
     ]
    },
    {
     "name": "stderr",
     "output_type": "stream",
     "text": [
      "Loss = 0.5784  |  Accuracy = 91.27% | Batch ID = 40 : 100%|██████████| 40/40 [00:01<00:00, 33.99it/s]\n"
     ]
    },
    {
     "name": "stdout",
     "output_type": "stream",
     "text": [
      "Validation Cross-Entropy Loss = 0.2896\n",
      "Validation Accuracy = 91.27%\n",
      "\n",
      "Epoch 23/24\n",
      "======== Training phase ========\n"
     ]
    },
    {
     "name": "stderr",
     "output_type": "stream",
     "text": [
      "Loss = 0.0769  |  Accuracy = 96.19% | Batch ID = 235 : 100%|██████████| 235/235 [00:14<00:00, 16.08it/s]\n"
     ]
    },
    {
     "name": "stdout",
     "output_type": "stream",
     "text": [
      "Training Cross-Entropy Loss = 0.1004\n",
      "Training Accuracy = 96.19%\n",
      "======== Validation phase ========\n"
     ]
    },
    {
     "name": "stderr",
     "output_type": "stream",
     "text": [
      "Loss = 0.5210  |  Accuracy = 90.61% | Batch ID = 40 : 100%|██████████| 40/40 [00:01<00:00, 34.27it/s]\n"
     ]
    },
    {
     "name": "stdout",
     "output_type": "stream",
     "text": [
      "Validation Cross-Entropy Loss = 0.3337\n",
      "Validation Accuracy = 90.61%\n",
      "\n",
      "Epoch 24/24\n",
      "======== Training phase ========\n"
     ]
    },
    {
     "name": "stderr",
     "output_type": "stream",
     "text": [
      "Loss = 0.0915  |  Accuracy = 96.57% | Batch ID = 235 : 100%|██████████| 235/235 [00:14<00:00, 16.20it/s]\n"
     ]
    },
    {
     "name": "stdout",
     "output_type": "stream",
     "text": [
      "Training Cross-Entropy Loss = 0.0904\n",
      "Training Accuracy = 96.57%\n",
      "======== Validation phase ========\n"
     ]
    },
    {
     "name": "stderr",
     "output_type": "stream",
     "text": [
      "Loss = 0.4613  |  Accuracy = 90.86% | Batch ID = 40 : 100%|██████████| 40/40 [00:01<00:00, 34.82it/s]\n"
     ]
    },
    {
     "name": "stdout",
     "output_type": "stream",
     "text": [
      "Validation Cross-Entropy Loss = 0.3239\n",
      "Validation Accuracy = 90.86%\n",
      "\n"
     ]
    },
    {
     "data": {
      "image/png": "[encoded data removed]",
      "text/plain": [
       "<Figure size 1000x500 with 1 Axes>"
      ]
     },
     "metadata": {},
     "output_type": "display_data"
    },
    {
     "name": "stdout",
     "output_type": "stream",
     "text": [
      "Cross-Entropy on training set:  0.0904\n",
      "Accuracy on training set:       96.57%\n",
      "\n",
      "Cross-Entropy on validation set: 0.3239\n",
      "Accuracy on validation set:      90.86%\n"
     ]
    }
   ],
   "source": [
    "# Train the network\n",
    "train_loss_hist, train_acc_hist, test_loss_hist, test_acc_hist = train(ResNet18_pretrained, TrainLoader, TestLoader, optimizer, criterion, epochs = 24, device = device)"
   ]
  }
 ],
 "metadata": {
  "kernelspec": {
   "display_name": "base",
   "language": "python",
   "name": "python3"
  },
  "language_info": {
   "codemirror_mode": {
    "name": "ipython",
    "version": 3
   },
   "file_extension": ".py",
   "mimetype": "text/x-python",
   "name": "python",
   "nbconvert_exporter": "python",
   "pygments_lexer": "ipython3",
   "version": "3.10.9"
  }
 },
 "nbformat": 4,
 "nbformat_minor": 2
}
