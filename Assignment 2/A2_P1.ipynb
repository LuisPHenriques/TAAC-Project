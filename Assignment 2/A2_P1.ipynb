{
 "cells": [
  {
   "cell_type": "markdown",
   "metadata": {},
   "source": [
    "# Libraries & Custom functions"
   ]
  },
  {
   "cell_type": "code",
   "execution_count": 1,
   "metadata": {},
   "outputs": [],
   "source": [
    "import torch\n",
    "from torchvision.models import resnet18, ResNet18_Weights\n",
    "import torchvision\n",
    "\n",
    "import matplotlib.pyplot as plt\n",
    "\n",
    "from tqdm import tqdm"
   ]
  },
  {
   "cell_type": "code",
   "execution_count": 2,
   "metadata": {},
   "outputs": [],
   "source": [
    "# Build a custom CNN composed of 5 convolutional layers with ReLU activation between all the five layers and a fully-connected output layer.\n",
    "\n",
    "class FashionMNIST_ConvNet(torch.nn.Module):\n",
    "    def __init__(self):\n",
    "        super().__init__()\n",
    "        self.conv1 = torch.nn.Conv2d(in_channels = 1, out_channels = 8, kernel_size = 3, stride = 1, padding = 1)\n",
    "        self.conv2 = torch.nn.Conv2d(in_channels = 8, out_channels = 16, kernel_size = 3, stride = 1, padding = 0)\n",
    "        self.conv3 = torch.nn.Conv2d(in_channels = 16, out_channels = 32, kernel_size = 3, stride = 1, padding = 0)\n",
    "        self.conv4 = torch.nn.Conv2d(in_channels = 32, out_channels = 64, kernel_size = 3, stride = 1, padding = 0)\n",
    "        self.conv5 = torch.nn.Conv2d(in_channels = 64, out_channels = 128, kernel_size = 3, stride = 1, padding = 0)\n",
    "        self.fc = torch.nn.Linear(128 * 7 * 7, 10)\n",
    "        self.relu = torch.nn.ReLU()\n",
    "        self.maxpool = torch.nn.MaxPool2d(kernel_size = 2, stride = 2)\n",
    "\n",
    "    def forward(self, x):\n",
    "        x = self.relu(self.conv1(x))\n",
    "        x = self.relu(self.conv2(x))\n",
    "        x = self.maxpool(x)\n",
    "        x = self.relu(self.conv3(x))\n",
    "        x = self.relu(self.conv4(x))\n",
    "        x = self.relu(self.conv5(x))\n",
    "        x = x.view(-1, 128 * 7 * 7)\n",
    "        x = self.fc(x)\n",
    "        return x\n",
    "    \n",
    "\n",
    "def set_device():\n",
    "    if torch.cuda.is_available():\n",
    "        device = torch.device('cuda')\n",
    "\n",
    "    elif torch.backends.mps.is_available():\n",
    "        device = torch.device('mps')\n",
    "\n",
    "    else:\n",
    "        device = torch.device('cpu')\n",
    "    print('Device:', device)\n",
    "\n",
    "    return device\n",
    "\n",
    "\n",
    "def train(model, train_loader, test_loader, optimizer, loss_func, epochs, device, **kwargs):\n",
    "    \"\"\"\n",
    "    Trains a neural network model.\n",
    "\n",
    "    Args:\n",
    "    - model (torch.nn.Module): The neural network model to be trained.\n",
    "    - train_loader (torch.utils.data.DataLoader): DataLoader for the training dataset.\n",
    "    - optimizer (torch.optim.Optimizer): The optimizer used for training.\n",
    "    - loss_func (torch.nn.Module): The loss function used for training.\n",
    "    - epochs (int): Number of training epochs.\n",
    "    - device (torch.device): The device on which the training will be performed.\n",
    "    - **kwargs: Additional arguments for customization.\n",
    "\n",
    "    Returns:\n",
    "    - train_loss_hist (list): List containing training loss values for each epoch.\n",
    "    - train_acc_hist (list): List containing training accuracy values for each epoch.\n",
    "    \"\"\"\n",
    "\n",
    "    num_epochs = kwargs.get('num_epochs', epochs)\n",
    "    loss_fn = kwargs.get('loss_fn', loss_func)\n",
    "    device = kwargs.get('device', device)\n",
    "\n",
    "    train_loss_hist, train_acc_hist, test_loss_hist, test_acc_hist = [], [], [], []\n",
    "\n",
    "    # Create a plot with labeled axes\n",
    "    plt.figure(figsize=(10, 5))\n",
    "    plt.title('Training Loss over Epochs')\n",
    "    plt.xlabel('Epochs')\n",
    "    plt.ylabel('Loss')\n",
    "\n",
    "    for epoch in range(num_epochs):\n",
    "        print(f'Epoch {epoch + 1}/{num_epochs}')\n",
    "\n",
    "        print('======== Training phase ========')\n",
    "        model.train()\n",
    "        train_loss = 0.\n",
    "        total = 0.\n",
    "        correct = 0.\n",
    "        pbar = tqdm(enumerate(train_loader), total=len(train_loader))\n",
    "\n",
    "        for batch_idx, (data, target) in pbar:\n",
    "            data = data.to(device)\n",
    "            target = target.to(device)\n",
    "            model.zero_grad()\n",
    "            output = model(data)\n",
    "            loss = loss_fn(output, target)\n",
    "            loss.backward()\n",
    "            optimizer.step()\n",
    "\n",
    "            train_loss += loss.item()\n",
    "\n",
    "            _, predicted = torch.max(output.data, 1)\n",
    "            total += target.size(0)\n",
    "            correct += (predicted == target).sum().item()\n",
    "\n",
    "            pbar.set_description(\n",
    "                f'Loss = {loss:.4f}  |  Accuracy = {100 * correct / total:.2f}% | Batch ID = {batch_idx + 1} '\n",
    "            )\n",
    "\n",
    "        train_loss /= len(train_loader)\n",
    "        train_accuracy = 100 * correct / total\n",
    "        print(f'Training Cross-Entropy Loss = {train_loss:.4f}')\n",
    "        print(f'Training Accuracy = {train_accuracy:.2f}%')\n",
    "\n",
    "        # Evaluate the model on the validation set\n",
    "        print('======== Validation phase ========')\n",
    "        model.eval()\n",
    "        val_loss = 0.\n",
    "        total = 0.\n",
    "        correct = 0.\n",
    "        pbar = tqdm(enumerate(test_loader), total=len(test_loader))\n",
    "\n",
    "        for batch_idx, (data, target) in pbar:\n",
    "            data = data.to(device)\n",
    "            target = target.to(device)\n",
    "            output = model(data)\n",
    "            loss = loss_fn(output, target)\n",
    "\n",
    "            val_loss += loss.item()\n",
    "\n",
    "            _, predicted = torch.max(output.data, 1)\n",
    "            total += target.size(0)\n",
    "            correct += (predicted == target).sum().item()\n",
    "\n",
    "            pbar.set_description(\n",
    "                f'Loss = {loss:.4f}  |  Accuracy = {100 * correct / total:.2f}% | Batch ID = {batch_idx + 1} '\n",
    "            )\n",
    "\n",
    "        val_loss /= len(test_loader)\n",
    "        val_accuracy = 100 * correct / total\n",
    "        print(f'Validation Cross-Entropy Loss = {val_loss:.4f}')\n",
    "        print(f'Validation Accuracy = {val_accuracy:.2f}%')\n",
    "        print()\n",
    "\n",
    "        train_loss_hist.append(train_loss)\n",
    "        train_acc_hist.append(train_accuracy)\n",
    "        test_loss_hist.append(val_loss)\n",
    "        test_acc_hist.append(val_accuracy)\n",
    "\n",
    "\n",
    "    # Plot the training loss over epochs\n",
    "    epochs = range(2, len(train_loss_hist) + 1)\n",
    "\n",
    "    plt.plot(epochs, train_loss_hist[1:], label='Training Loss')\n",
    "    plt.plot(epochs, test_loss_hist[1:], label='Validation Loss')\n",
    "    plt.legend()\n",
    "    plt.xlabel('Epoch')\n",
    "    plt.ylabel('Loss')\n",
    "    plt.title('Training and Validation Loss Evolution')\n",
    "    plt.show()\n",
    "\n",
    "    print(f\"Cross-Entropy on training set:  {train_loss_hist[-1]:.4f}\")\n",
    "    print(f\"Accuracy on training set:       {train_acc_hist[-1]:.2f}%\")\n",
    "    print()\n",
    "    print(f\"Cross-Entropy on validation set: {test_loss_hist[-1]:.4f}\")\n",
    "    print(f\"Accuracy on validation set:      {test_acc_hist[-1]:.2f}%\")\n",
    "\n",
    "    return train_loss_hist, train_acc_hist, test_loss_hist, test_acc_hist"
   ]
  },
  {
   "cell_type": "markdown",
   "metadata": {},
   "source": [
    "# Exercise 1"
   ]
  },
  {
   "cell_type": "markdown",
   "metadata": {},
   "source": [
    "## Exercise 1 (C)"
   ]
  },
  {
   "cell_type": "code",
   "execution_count": 3,
   "metadata": {},
   "outputs": [],
   "source": [
    "# Define data preprocessing and loading / Define a transform to convert to images to tensor and normalize\n",
    "transform = torchvision.transforms.Compose([torchvision.transforms.ToTensor(), torchvision.transforms.Normalize((0.5,), (0.5,))])\n",
    "\n",
    "train_dataset = torchvision.datasets.FashionMNIST(root = './data', train = True, transform = transform, download = True)\n",
    "test_dataset = torchvision.datasets.FashionMNIST(root = './data', train = False, transform = transform, download = True)\n",
    "\n",
    "batch_size = 2048\n",
    "\n",
    "TrainLoader = torch.utils.data.DataLoader(dataset = train_dataset, batch_size = batch_size, shuffle = True)\n",
    "TestLoader = torch.utils.data.DataLoader(dataset = test_dataset, batch_size = batch_size, shuffle = False)"
   ]
  },
  {
   "cell_type": "markdown",
   "metadata": {},
   "source": [
    "### Exercise 1 (C) i)"
   ]
  },
  {
   "cell_type": "code",
   "execution_count": 4,
   "metadata": {},
   "outputs": [
    {
     "name": "stdout",
     "output_type": "stream",
     "text": [
      "Device: mps\n"
     ]
    }
   ],
   "source": [
    "# Initialize the network, loss function, and optimizer\n",
    "device = set_device()\n",
    "ConvNet = FashionMNIST_ConvNet().to(device)\n",
    "criterion = torch.nn.CrossEntropyLoss()\n",
    "optimizer = torch.optim.Adam(ConvNet.parameters(), lr = 0.01)"
   ]
  },
  {
   "cell_type": "code",
   "execution_count": 5,
   "metadata": {},
   "outputs": [
    {
     "name": "stdout",
     "output_type": "stream",
     "text": [
      "Epoch 1/64\n",
      "======== Training phase ========\n"
     ]
    },
    {
     "name": "stderr",
     "output_type": "stream",
     "text": [
      "Loss = 0.6737  |  Accuracy = 52.73% | Batch ID = 30 : 100%|██████████| 30/30 [00:04<00:00,  6.53it/s]\n"
     ]
    },
    {
     "name": "stdout",
     "output_type": "stream",
     "text": [
      "Training Cross-Entropy Loss = 1.2557\n",
      "Training Accuracy = 52.73%\n",
      "======== Validation phase ========\n"
     ]
    },
    {
     "name": "stderr",
     "output_type": "stream",
     "text": [
      "Loss = 0.7088  |  Accuracy = 73.05% | Batch ID = 5 : 100%|██████████| 5/5 [00:00<00:00,  8.78it/s]\n"
     ]
    },
    {
     "name": "stdout",
     "output_type": "stream",
     "text": [
      "Validation Cross-Entropy Loss = 0.7129\n",
      "Validation Accuracy = 73.05%\n",
      "\n",
      "Epoch 2/64\n",
      "======== Training phase ========\n"
     ]
    },
    {
     "name": "stderr",
     "output_type": "stream",
     "text": [
      "Loss = 0.4692  |  Accuracy = 78.04% | Batch ID = 30 : 100%|██████████| 30/30 [00:04<00:00,  7.13it/s]\n"
     ]
    },
    {
     "name": "stdout",
     "output_type": "stream",
     "text": [
      "Training Cross-Entropy Loss = 0.5711\n",
      "Training Accuracy = 78.04%\n",
      "======== Validation phase ========\n"
     ]
    },
    {
     "name": "stderr",
     "output_type": "stream",
     "text": [
      "Loss = 0.5162  |  Accuracy = 79.54% | Batch ID = 5 : 100%|██████████| 5/5 [00:00<00:00,  9.49it/s]\n"
     ]
    },
    {
     "name": "stdout",
     "output_type": "stream",
     "text": [
      "Validation Cross-Entropy Loss = 0.5231\n",
      "Validation Accuracy = 79.54%\n",
      "\n",
      "Epoch 3/64\n",
      "======== Training phase ========\n"
     ]
    },
    {
     "name": "stderr",
     "output_type": "stream",
     "text": [
      "Loss = 0.4300  |  Accuracy = 83.19% | Batch ID = 30 : 100%|██████████| 30/30 [00:04<00:00,  6.88it/s]\n"
     ]
    },
    {
     "name": "stdout",
     "output_type": "stream",
     "text": [
      "Training Cross-Entropy Loss = 0.4470\n",
      "Training Accuracy = 83.19%\n",
      "======== Validation phase ========\n"
     ]
    },
    {
     "name": "stderr",
     "output_type": "stream",
     "text": [
      "Loss = 0.4422  |  Accuracy = 83.18% | Batch ID = 5 : 100%|██████████| 5/5 [00:00<00:00,  9.41it/s]\n"
     ]
    },
    {
     "name": "stdout",
     "output_type": "stream",
     "text": [
      "Validation Cross-Entropy Loss = 0.4447\n",
      "Validation Accuracy = 83.18%\n",
      "\n",
      "Epoch 4/64\n",
      "======== Training phase ========\n"
     ]
    },
    {
     "name": "stderr",
     "output_type": "stream",
     "text": [
      "Loss = 0.3356  |  Accuracy = 85.75% | Batch ID = 30 : 100%|██████████| 30/30 [00:04<00:00,  7.04it/s]\n"
     ]
    },
    {
     "name": "stdout",
     "output_type": "stream",
     "text": [
      "Training Cross-Entropy Loss = 0.3820\n",
      "Training Accuracy = 85.75%\n",
      "======== Validation phase ========\n"
     ]
    },
    {
     "name": "stderr",
     "output_type": "stream",
     "text": [
      "Loss = 0.3809  |  Accuracy = 85.68% | Batch ID = 5 : 100%|██████████| 5/5 [00:00<00:00,  9.35it/s]\n"
     ]
    },
    {
     "name": "stdout",
     "output_type": "stream",
     "text": [
      "Validation Cross-Entropy Loss = 0.3848\n",
      "Validation Accuracy = 85.68%\n",
      "\n",
      "Epoch 5/64\n",
      "======== Training phase ========\n"
     ]
    },
    {
     "name": "stderr",
     "output_type": "stream",
     "text": [
      "Loss = 0.2822  |  Accuracy = 87.62% | Batch ID = 30 : 100%|██████████| 30/30 [00:04<00:00,  7.16it/s]\n"
     ]
    },
    {
     "name": "stdout",
     "output_type": "stream",
     "text": [
      "Training Cross-Entropy Loss = 0.3368\n",
      "Training Accuracy = 87.62%\n",
      "======== Validation phase ========\n"
     ]
    },
    {
     "name": "stderr",
     "output_type": "stream",
     "text": [
      "Loss = 0.3322  |  Accuracy = 87.10% | Batch ID = 5 : 100%|██████████| 5/5 [00:00<00:00,  7.99it/s]\n"
     ]
    },
    {
     "name": "stdout",
     "output_type": "stream",
     "text": [
      "Validation Cross-Entropy Loss = 0.3477\n",
      "Validation Accuracy = 87.10%\n",
      "\n",
      "Epoch 6/64\n",
      "======== Training phase ========\n"
     ]
    },
    {
     "name": "stderr",
     "output_type": "stream",
     "text": [
      "Loss = 0.2967  |  Accuracy = 88.68% | Batch ID = 30 : 100%|██████████| 30/30 [00:04<00:00,  7.22it/s]\n"
     ]
    },
    {
     "name": "stdout",
     "output_type": "stream",
     "text": [
      "Training Cross-Entropy Loss = 0.3091\n",
      "Training Accuracy = 88.68%\n",
      "======== Validation phase ========\n"
     ]
    },
    {
     "name": "stderr",
     "output_type": "stream",
     "text": [
      "Loss = 0.3083  |  Accuracy = 87.91% | Batch ID = 5 : 100%|██████████| 5/5 [00:00<00:00,  9.59it/s]\n"
     ]
    },
    {
     "name": "stdout",
     "output_type": "stream",
     "text": [
      "Validation Cross-Entropy Loss = 0.3289\n",
      "Validation Accuracy = 87.91%\n",
      "\n",
      "Epoch 7/64\n",
      "======== Training phase ========\n"
     ]
    },
    {
     "name": "stderr",
     "output_type": "stream",
     "text": [
      "Loss = 0.2890  |  Accuracy = 89.41% | Batch ID = 30 : 100%|██████████| 30/30 [00:04<00:00,  7.14it/s]\n"
     ]
    },
    {
     "name": "stdout",
     "output_type": "stream",
     "text": [
      "Training Cross-Entropy Loss = 0.2885\n",
      "Training Accuracy = 89.41%\n",
      "======== Validation phase ========\n"
     ]
    },
    {
     "name": "stderr",
     "output_type": "stream",
     "text": [
      "Loss = 0.3124  |  Accuracy = 88.16% | Batch ID = 5 : 100%|██████████| 5/5 [00:00<00:00,  9.64it/s]\n"
     ]
    },
    {
     "name": "stdout",
     "output_type": "stream",
     "text": [
      "Validation Cross-Entropy Loss = 0.3216\n",
      "Validation Accuracy = 88.16%\n",
      "\n",
      "Epoch 8/64\n",
      "======== Training phase ========\n"
     ]
    },
    {
     "name": "stderr",
     "output_type": "stream",
     "text": [
      "Loss = 0.2677  |  Accuracy = 90.12% | Batch ID = 30 : 100%|██████████| 30/30 [00:04<00:00,  6.94it/s]\n"
     ]
    },
    {
     "name": "stdout",
     "output_type": "stream",
     "text": [
      "Training Cross-Entropy Loss = 0.2696\n",
      "Training Accuracy = 90.12%\n",
      "======== Validation phase ========\n"
     ]
    },
    {
     "name": "stderr",
     "output_type": "stream",
     "text": [
      "Loss = 0.2874  |  Accuracy = 88.89% | Batch ID = 5 : 100%|██████████| 5/5 [00:00<00:00,  9.29it/s]\n"
     ]
    },
    {
     "name": "stdout",
     "output_type": "stream",
     "text": [
      "Validation Cross-Entropy Loss = 0.3060\n",
      "Validation Accuracy = 88.89%\n",
      "\n",
      "Epoch 9/64\n",
      "======== Training phase ========\n"
     ]
    },
    {
     "name": "stderr",
     "output_type": "stream",
     "text": [
      "Loss = 0.2513  |  Accuracy = 90.64% | Batch ID = 30 : 100%|██████████| 30/30 [00:04<00:00,  7.19it/s]\n"
     ]
    },
    {
     "name": "stdout",
     "output_type": "stream",
     "text": [
      "Training Cross-Entropy Loss = 0.2552\n",
      "Training Accuracy = 90.64%\n",
      "======== Validation phase ========\n"
     ]
    },
    {
     "name": "stderr",
     "output_type": "stream",
     "text": [
      "Loss = 0.2946  |  Accuracy = 89.16% | Batch ID = 5 : 100%|██████████| 5/5 [00:00<00:00,  9.42it/s]\n"
     ]
    },
    {
     "name": "stdout",
     "output_type": "stream",
     "text": [
      "Validation Cross-Entropy Loss = 0.3002\n",
      "Validation Accuracy = 89.16%\n",
      "\n",
      "Epoch 10/64\n",
      "======== Training phase ========\n"
     ]
    },
    {
     "name": "stderr",
     "output_type": "stream",
     "text": [
      "Loss = 0.2124  |  Accuracy = 91.11% | Batch ID = 30 : 100%|██████████| 30/30 [00:04<00:00,  7.21it/s]\n"
     ]
    },
    {
     "name": "stdout",
     "output_type": "stream",
     "text": [
      "Training Cross-Entropy Loss = 0.2424\n",
      "Training Accuracy = 91.11%\n",
      "======== Validation phase ========\n"
     ]
    },
    {
     "name": "stderr",
     "output_type": "stream",
     "text": [
      "Loss = 0.2844  |  Accuracy = 89.64% | Batch ID = 5 : 100%|██████████| 5/5 [00:00<00:00,  9.73it/s]\n"
     ]
    },
    {
     "name": "stdout",
     "output_type": "stream",
     "text": [
      "Validation Cross-Entropy Loss = 0.2915\n",
      "Validation Accuracy = 89.64%\n",
      "\n",
      "Epoch 11/64\n",
      "======== Training phase ========\n"
     ]
    },
    {
     "name": "stderr",
     "output_type": "stream",
     "text": [
      "Loss = 0.2715  |  Accuracy = 91.58% | Batch ID = 30 : 100%|██████████| 30/30 [00:04<00:00,  7.08it/s]\n"
     ]
    },
    {
     "name": "stdout",
     "output_type": "stream",
     "text": [
      "Training Cross-Entropy Loss = 0.2309\n",
      "Training Accuracy = 91.58%\n",
      "======== Validation phase ========\n"
     ]
    },
    {
     "name": "stderr",
     "output_type": "stream",
     "text": [
      "Loss = 0.2659  |  Accuracy = 89.71% | Batch ID = 5 : 100%|██████████| 5/5 [00:00<00:00,  9.92it/s]\n"
     ]
    },
    {
     "name": "stdout",
     "output_type": "stream",
     "text": [
      "Validation Cross-Entropy Loss = 0.2834\n",
      "Validation Accuracy = 89.71%\n",
      "\n",
      "Epoch 12/64\n",
      "======== Training phase ========\n"
     ]
    },
    {
     "name": "stderr",
     "output_type": "stream",
     "text": [
      "Loss = 0.2207  |  Accuracy = 91.89% | Batch ID = 30 : 100%|██████████| 30/30 [00:04<00:00,  7.20it/s]\n"
     ]
    },
    {
     "name": "stdout",
     "output_type": "stream",
     "text": [
      "Training Cross-Entropy Loss = 0.2218\n",
      "Training Accuracy = 91.89%\n",
      "======== Validation phase ========\n"
     ]
    },
    {
     "name": "stderr",
     "output_type": "stream",
     "text": [
      "Loss = 0.2761  |  Accuracy = 88.77% | Batch ID = 5 : 100%|██████████| 5/5 [00:00<00:00,  9.23it/s]\n"
     ]
    },
    {
     "name": "stdout",
     "output_type": "stream",
     "text": [
      "Validation Cross-Entropy Loss = 0.2941\n",
      "Validation Accuracy = 88.77%\n",
      "\n",
      "Epoch 13/64\n",
      "======== Training phase ========\n"
     ]
    },
    {
     "name": "stderr",
     "output_type": "stream",
     "text": [
      "Loss = 0.2160  |  Accuracy = 91.92% | Batch ID = 30 : 100%|██████████| 30/30 [00:04<00:00,  7.10it/s]\n"
     ]
    },
    {
     "name": "stdout",
     "output_type": "stream",
     "text": [
      "Training Cross-Entropy Loss = 0.2182\n",
      "Training Accuracy = 91.92%\n",
      "======== Validation phase ========\n"
     ]
    },
    {
     "name": "stderr",
     "output_type": "stream",
     "text": [
      "Loss = 0.2544  |  Accuracy = 90.26% | Batch ID = 5 : 100%|██████████| 5/5 [00:00<00:00,  9.70it/s]\n"
     ]
    },
    {
     "name": "stdout",
     "output_type": "stream",
     "text": [
      "Validation Cross-Entropy Loss = 0.2749\n",
      "Validation Accuracy = 90.26%\n",
      "\n",
      "Epoch 14/64\n",
      "======== Training phase ========\n"
     ]
    },
    {
     "name": "stderr",
     "output_type": "stream",
     "text": [
      "Loss = 0.1959  |  Accuracy = 92.38% | Batch ID = 30 : 100%|██████████| 30/30 [00:04<00:00,  7.01it/s]\n"
     ]
    },
    {
     "name": "stdout",
     "output_type": "stream",
     "text": [
      "Training Cross-Entropy Loss = 0.2038\n",
      "Training Accuracy = 92.38%\n",
      "======== Validation phase ========\n"
     ]
    },
    {
     "name": "stderr",
     "output_type": "stream",
     "text": [
      "Loss = 0.2587  |  Accuracy = 90.20% | Batch ID = 5 : 100%|██████████| 5/5 [00:00<00:00,  9.67it/s]\n"
     ]
    },
    {
     "name": "stdout",
     "output_type": "stream",
     "text": [
      "Validation Cross-Entropy Loss = 0.2766\n",
      "Validation Accuracy = 90.20%\n",
      "\n",
      "Epoch 15/64\n",
      "======== Training phase ========\n"
     ]
    },
    {
     "name": "stderr",
     "output_type": "stream",
     "text": [
      "Loss = 0.1978  |  Accuracy = 92.56% | Batch ID = 30 : 100%|██████████| 30/30 [00:04<00:00,  7.32it/s]\n"
     ]
    },
    {
     "name": "stdout",
     "output_type": "stream",
     "text": [
      "Training Cross-Entropy Loss = 0.1994\n",
      "Training Accuracy = 92.56%\n",
      "======== Validation phase ========\n"
     ]
    },
    {
     "name": "stderr",
     "output_type": "stream",
     "text": [
      "Loss = 0.2612  |  Accuracy = 90.19% | Batch ID = 5 : 100%|██████████| 5/5 [00:00<00:00,  9.80it/s]\n"
     ]
    },
    {
     "name": "stdout",
     "output_type": "stream",
     "text": [
      "Validation Cross-Entropy Loss = 0.2791\n",
      "Validation Accuracy = 90.19%\n",
      "\n",
      "Epoch 16/64\n",
      "======== Training phase ========\n"
     ]
    },
    {
     "name": "stderr",
     "output_type": "stream",
     "text": [
      "Loss = 0.2389  |  Accuracy = 92.66% | Batch ID = 30 : 100%|██████████| 30/30 [00:04<00:00,  7.29it/s]\n"
     ]
    },
    {
     "name": "stdout",
     "output_type": "stream",
     "text": [
      "Training Cross-Entropy Loss = 0.1983\n",
      "Training Accuracy = 92.66%\n",
      "======== Validation phase ========\n"
     ]
    },
    {
     "name": "stderr",
     "output_type": "stream",
     "text": [
      "Loss = 0.2600  |  Accuracy = 89.82% | Batch ID = 5 : 100%|██████████| 5/5 [00:00<00:00,  9.72it/s]\n"
     ]
    },
    {
     "name": "stdout",
     "output_type": "stream",
     "text": [
      "Validation Cross-Entropy Loss = 0.2862\n",
      "Validation Accuracy = 89.82%\n",
      "\n",
      "Epoch 17/64\n",
      "======== Training phase ========\n"
     ]
    },
    {
     "name": "stderr",
     "output_type": "stream",
     "text": [
      "Loss = 0.2119  |  Accuracy = 93.37% | Batch ID = 30 : 100%|██████████| 30/30 [00:04<00:00,  6.99it/s]\n"
     ]
    },
    {
     "name": "stdout",
     "output_type": "stream",
     "text": [
      "Training Cross-Entropy Loss = 0.1808\n",
      "Training Accuracy = 93.37%\n",
      "======== Validation phase ========\n"
     ]
    },
    {
     "name": "stderr",
     "output_type": "stream",
     "text": [
      "Loss = 0.2508  |  Accuracy = 90.43% | Batch ID = 5 : 100%|██████████| 5/5 [00:00<00:00,  9.23it/s]\n"
     ]
    },
    {
     "name": "stdout",
     "output_type": "stream",
     "text": [
      "Validation Cross-Entropy Loss = 0.2741\n",
      "Validation Accuracy = 90.43%\n",
      "\n",
      "Epoch 18/64\n",
      "======== Training phase ========\n"
     ]
    },
    {
     "name": "stderr",
     "output_type": "stream",
     "text": [
      "Loss = 0.1509  |  Accuracy = 93.61% | Batch ID = 30 : 100%|██████████| 30/30 [00:04<00:00,  7.26it/s]\n"
     ]
    },
    {
     "name": "stdout",
     "output_type": "stream",
     "text": [
      "Training Cross-Entropy Loss = 0.1735\n",
      "Training Accuracy = 93.61%\n",
      "======== Validation phase ========\n"
     ]
    },
    {
     "name": "stderr",
     "output_type": "stream",
     "text": [
      "Loss = 0.3099  |  Accuracy = 88.69% | Batch ID = 5 : 100%|██████████| 5/5 [00:00<00:00,  9.70it/s]\n"
     ]
    },
    {
     "name": "stdout",
     "output_type": "stream",
     "text": [
      "Validation Cross-Entropy Loss = 0.3281\n",
      "Validation Accuracy = 88.69%\n",
      "\n",
      "Epoch 19/64\n",
      "======== Training phase ========\n"
     ]
    },
    {
     "name": "stderr",
     "output_type": "stream",
     "text": [
      "Loss = 0.1536  |  Accuracy = 93.34% | Batch ID = 30 : 100%|██████████| 30/30 [00:04<00:00,  7.31it/s]\n"
     ]
    },
    {
     "name": "stdout",
     "output_type": "stream",
     "text": [
      "Training Cross-Entropy Loss = 0.1794\n",
      "Training Accuracy = 93.34%\n",
      "======== Validation phase ========\n"
     ]
    },
    {
     "name": "stderr",
     "output_type": "stream",
     "text": [
      "Loss = 0.2883  |  Accuracy = 89.89% | Batch ID = 5 : 100%|██████████| 5/5 [00:00<00:00,  9.87it/s]\n"
     ]
    },
    {
     "name": "stdout",
     "output_type": "stream",
     "text": [
      "Validation Cross-Entropy Loss = 0.3118\n",
      "Validation Accuracy = 89.89%\n",
      "\n",
      "Epoch 20/64\n",
      "======== Training phase ========\n"
     ]
    },
    {
     "name": "stderr",
     "output_type": "stream",
     "text": [
      "Loss = 0.1362  |  Accuracy = 93.76% | Batch ID = 30 : 100%|██████████| 30/30 [00:04<00:00,  7.10it/s]\n"
     ]
    },
    {
     "name": "stdout",
     "output_type": "stream",
     "text": [
      "Training Cross-Entropy Loss = 0.1675\n",
      "Training Accuracy = 93.76%\n",
      "======== Validation phase ========\n"
     ]
    },
    {
     "name": "stderr",
     "output_type": "stream",
     "text": [
      "Loss = 0.2992  |  Accuracy = 89.74% | Batch ID = 5 : 100%|██████████| 5/5 [00:00<00:00,  9.79it/s]\n"
     ]
    },
    {
     "name": "stdout",
     "output_type": "stream",
     "text": [
      "Validation Cross-Entropy Loss = 0.3134\n",
      "Validation Accuracy = 89.74%\n",
      "\n",
      "Epoch 21/64\n",
      "======== Training phase ========\n"
     ]
    },
    {
     "name": "stderr",
     "output_type": "stream",
     "text": [
      "Loss = 0.1915  |  Accuracy = 94.23% | Batch ID = 30 : 100%|██████████| 30/30 [00:04<00:00,  7.25it/s]\n"
     ]
    },
    {
     "name": "stdout",
     "output_type": "stream",
     "text": [
      "Training Cross-Entropy Loss = 0.1588\n",
      "Training Accuracy = 94.23%\n",
      "======== Validation phase ========\n"
     ]
    },
    {
     "name": "stderr",
     "output_type": "stream",
     "text": [
      "Loss = 0.2812  |  Accuracy = 90.03% | Batch ID = 5 : 100%|██████████| 5/5 [00:00<00:00,  9.67it/s]\n"
     ]
    },
    {
     "name": "stdout",
     "output_type": "stream",
     "text": [
      "Validation Cross-Entropy Loss = 0.3031\n",
      "Validation Accuracy = 90.03%\n",
      "\n",
      "Epoch 22/64\n",
      "======== Training phase ========\n"
     ]
    },
    {
     "name": "stderr",
     "output_type": "stream",
     "text": [
      "Loss = 0.1398  |  Accuracy = 94.32% | Batch ID = 30 : 100%|██████████| 30/30 [00:04<00:00,  7.36it/s]\n"
     ]
    },
    {
     "name": "stdout",
     "output_type": "stream",
     "text": [
      "Training Cross-Entropy Loss = 0.1534\n",
      "Training Accuracy = 94.32%\n",
      "======== Validation phase ========\n"
     ]
    },
    {
     "name": "stderr",
     "output_type": "stream",
     "text": [
      "Loss = 0.2721  |  Accuracy = 90.36% | Batch ID = 5 : 100%|██████████| 5/5 [00:00<00:00,  9.78it/s]\n"
     ]
    },
    {
     "name": "stdout",
     "output_type": "stream",
     "text": [
      "Validation Cross-Entropy Loss = 0.3063\n",
      "Validation Accuracy = 90.36%\n",
      "\n",
      "Epoch 23/64\n",
      "======== Training phase ========\n"
     ]
    },
    {
     "name": "stderr",
     "output_type": "stream",
     "text": [
      "Loss = 0.1386  |  Accuracy = 94.48% | Batch ID = 30 : 100%|██████████| 30/30 [00:04<00:00,  7.15it/s]\n"
     ]
    },
    {
     "name": "stdout",
     "output_type": "stream",
     "text": [
      "Training Cross-Entropy Loss = 0.1495\n",
      "Training Accuracy = 94.48%\n",
      "======== Validation phase ========\n"
     ]
    },
    {
     "name": "stderr",
     "output_type": "stream",
     "text": [
      "Loss = 0.3024  |  Accuracy = 89.45% | Batch ID = 5 : 100%|██████████| 5/5 [00:00<00:00,  9.59it/s]\n"
     ]
    },
    {
     "name": "stdout",
     "output_type": "stream",
     "text": [
      "Validation Cross-Entropy Loss = 0.3067\n",
      "Validation Accuracy = 89.45%\n",
      "\n",
      "Epoch 24/64\n",
      "======== Training phase ========\n"
     ]
    },
    {
     "name": "stderr",
     "output_type": "stream",
     "text": [
      "Loss = 0.1357  |  Accuracy = 94.91% | Batch ID = 30 : 100%|██████████| 30/30 [00:04<00:00,  7.37it/s]\n"
     ]
    },
    {
     "name": "stdout",
     "output_type": "stream",
     "text": [
      "Training Cross-Entropy Loss = 0.1388\n",
      "Training Accuracy = 94.91%\n",
      "======== Validation phase ========\n"
     ]
    },
    {
     "name": "stderr",
     "output_type": "stream",
     "text": [
      "Loss = 0.2764  |  Accuracy = 89.99% | Batch ID = 5 : 100%|██████████| 5/5 [00:00<00:00,  9.81it/s]\n"
     ]
    },
    {
     "name": "stdout",
     "output_type": "stream",
     "text": [
      "Validation Cross-Entropy Loss = 0.3046\n",
      "Validation Accuracy = 89.99%\n",
      "\n",
      "Epoch 25/64\n",
      "======== Training phase ========\n"
     ]
    },
    {
     "name": "stderr",
     "output_type": "stream",
     "text": [
      "Loss = 0.1531  |  Accuracy = 95.12% | Batch ID = 30 : 100%|██████████| 30/30 [00:04<00:00,  7.31it/s]\n"
     ]
    },
    {
     "name": "stdout",
     "output_type": "stream",
     "text": [
      "Training Cross-Entropy Loss = 0.1331\n",
      "Training Accuracy = 95.12%\n",
      "======== Validation phase ========\n"
     ]
    },
    {
     "name": "stderr",
     "output_type": "stream",
     "text": [
      "Loss = 0.2934  |  Accuracy = 90.29% | Batch ID = 5 : 100%|██████████| 5/5 [00:00<00:00,  9.56it/s]\n"
     ]
    },
    {
     "name": "stdout",
     "output_type": "stream",
     "text": [
      "Validation Cross-Entropy Loss = 0.3070\n",
      "Validation Accuracy = 90.29%\n",
      "\n",
      "Epoch 26/64\n",
      "======== Training phase ========\n"
     ]
    },
    {
     "name": "stderr",
     "output_type": "stream",
     "text": [
      "Loss = 0.1292  |  Accuracy = 95.14% | Batch ID = 30 : 100%|██████████| 30/30 [00:04<00:00,  7.09it/s]\n"
     ]
    },
    {
     "name": "stdout",
     "output_type": "stream",
     "text": [
      "Training Cross-Entropy Loss = 0.1312\n",
      "Training Accuracy = 95.14%\n",
      "======== Validation phase ========\n"
     ]
    },
    {
     "name": "stderr",
     "output_type": "stream",
     "text": [
      "Loss = 0.2988  |  Accuracy = 90.23% | Batch ID = 5 : 100%|██████████| 5/5 [00:00<00:00,  9.53it/s]\n"
     ]
    },
    {
     "name": "stdout",
     "output_type": "stream",
     "text": [
      "Validation Cross-Entropy Loss = 0.3102\n",
      "Validation Accuracy = 90.23%\n",
      "\n",
      "Epoch 27/64\n",
      "======== Training phase ========\n"
     ]
    },
    {
     "name": "stderr",
     "output_type": "stream",
     "text": [
      "Loss = 0.1233  |  Accuracy = 95.35% | Batch ID = 30 : 100%|██████████| 30/30 [00:04<00:00,  7.38it/s]\n"
     ]
    },
    {
     "name": "stdout",
     "output_type": "stream",
     "text": [
      "Training Cross-Entropy Loss = 0.1266\n",
      "Training Accuracy = 95.35%\n",
      "======== Validation phase ========\n"
     ]
    },
    {
     "name": "stderr",
     "output_type": "stream",
     "text": [
      "Loss = 0.3239  |  Accuracy = 90.06% | Batch ID = 5 : 100%|██████████| 5/5 [00:00<00:00,  9.71it/s]\n"
     ]
    },
    {
     "name": "stdout",
     "output_type": "stream",
     "text": [
      "Validation Cross-Entropy Loss = 0.3313\n",
      "Validation Accuracy = 90.06%\n",
      "\n",
      "Epoch 28/64\n",
      "======== Training phase ========\n"
     ]
    },
    {
     "name": "stderr",
     "output_type": "stream",
     "text": [
      "Loss = 0.1524  |  Accuracy = 95.38% | Batch ID = 30 : 100%|██████████| 30/30 [00:04<00:00,  7.24it/s]\n"
     ]
    },
    {
     "name": "stdout",
     "output_type": "stream",
     "text": [
      "Training Cross-Entropy Loss = 0.1262\n",
      "Training Accuracy = 95.38%\n",
      "======== Validation phase ========\n"
     ]
    },
    {
     "name": "stderr",
     "output_type": "stream",
     "text": [
      "Loss = 0.3245  |  Accuracy = 90.22% | Batch ID = 5 : 100%|██████████| 5/5 [00:00<00:00,  8.11it/s]\n"
     ]
    },
    {
     "name": "stdout",
     "output_type": "stream",
     "text": [
      "Validation Cross-Entropy Loss = 0.3516\n",
      "Validation Accuracy = 90.22%\n",
      "\n",
      "Epoch 29/64\n",
      "======== Training phase ========\n"
     ]
    },
    {
     "name": "stderr",
     "output_type": "stream",
     "text": [
      "Loss = 0.1085  |  Accuracy = 95.26% | Batch ID = 30 : 100%|██████████| 30/30 [00:04<00:00,  7.20it/s]\n"
     ]
    },
    {
     "name": "stdout",
     "output_type": "stream",
     "text": [
      "Training Cross-Entropy Loss = 0.1266\n",
      "Training Accuracy = 95.26%\n",
      "======== Validation phase ========\n"
     ]
    },
    {
     "name": "stderr",
     "output_type": "stream",
     "text": [
      "Loss = 0.3359  |  Accuracy = 89.79% | Batch ID = 5 : 100%|██████████| 5/5 [00:00<00:00,  9.65it/s]\n"
     ]
    },
    {
     "name": "stdout",
     "output_type": "stream",
     "text": [
      "Validation Cross-Entropy Loss = 0.3596\n",
      "Validation Accuracy = 89.79%\n",
      "\n",
      "Epoch 30/64\n",
      "======== Training phase ========\n"
     ]
    },
    {
     "name": "stderr",
     "output_type": "stream",
     "text": [
      "Loss = 0.1451  |  Accuracy = 95.71% | Batch ID = 30 : 100%|██████████| 30/30 [00:04<00:00,  7.09it/s]\n"
     ]
    },
    {
     "name": "stdout",
     "output_type": "stream",
     "text": [
      "Training Cross-Entropy Loss = 0.1191\n",
      "Training Accuracy = 95.71%\n",
      "======== Validation phase ========\n"
     ]
    },
    {
     "name": "stderr",
     "output_type": "stream",
     "text": [
      "Loss = 0.3588  |  Accuracy = 88.68% | Batch ID = 5 : 100%|██████████| 5/5 [00:00<00:00,  9.64it/s]\n"
     ]
    },
    {
     "name": "stdout",
     "output_type": "stream",
     "text": [
      "Validation Cross-Entropy Loss = 0.3825\n",
      "Validation Accuracy = 88.68%\n",
      "\n",
      "Epoch 31/64\n",
      "======== Training phase ========\n"
     ]
    },
    {
     "name": "stderr",
     "output_type": "stream",
     "text": [
      "Loss = 0.1465  |  Accuracy = 95.73% | Batch ID = 30 : 100%|██████████| 30/30 [00:04<00:00,  7.28it/s]\n"
     ]
    },
    {
     "name": "stdout",
     "output_type": "stream",
     "text": [
      "Training Cross-Entropy Loss = 0.1158\n",
      "Training Accuracy = 95.73%\n",
      "======== Validation phase ========\n"
     ]
    },
    {
     "name": "stderr",
     "output_type": "stream",
     "text": [
      "Loss = 0.3650  |  Accuracy = 89.39% | Batch ID = 5 : 100%|██████████| 5/5 [00:00<00:00,  8.28it/s]\n"
     ]
    },
    {
     "name": "stdout",
     "output_type": "stream",
     "text": [
      "Validation Cross-Entropy Loss = 0.3721\n",
      "Validation Accuracy = 89.39%\n",
      "\n",
      "Epoch 32/64\n",
      "======== Training phase ========\n"
     ]
    },
    {
     "name": "stderr",
     "output_type": "stream",
     "text": [
      "Loss = 0.1098  |  Accuracy = 95.56% | Batch ID = 30 : 100%|██████████| 30/30 [00:04<00:00,  7.32it/s]\n"
     ]
    },
    {
     "name": "stdout",
     "output_type": "stream",
     "text": [
      "Training Cross-Entropy Loss = 0.1180\n",
      "Training Accuracy = 95.56%\n",
      "======== Validation phase ========\n"
     ]
    },
    {
     "name": "stderr",
     "output_type": "stream",
     "text": [
      "Loss = 0.4010  |  Accuracy = 88.82% | Batch ID = 5 : 100%|██████████| 5/5 [00:00<00:00,  9.64it/s]\n"
     ]
    },
    {
     "name": "stdout",
     "output_type": "stream",
     "text": [
      "Validation Cross-Entropy Loss = 0.3949\n",
      "Validation Accuracy = 88.82%\n",
      "\n",
      "Epoch 33/64\n",
      "======== Training phase ========\n"
     ]
    },
    {
     "name": "stderr",
     "output_type": "stream",
     "text": [
      "Loss = 0.1199  |  Accuracy = 95.77% | Batch ID = 30 : 100%|██████████| 30/30 [00:04<00:00,  7.33it/s]\n"
     ]
    },
    {
     "name": "stdout",
     "output_type": "stream",
     "text": [
      "Training Cross-Entropy Loss = 0.1147\n",
      "Training Accuracy = 95.77%\n",
      "======== Validation phase ========\n"
     ]
    },
    {
     "name": "stderr",
     "output_type": "stream",
     "text": [
      "Loss = 0.3794  |  Accuracy = 88.95% | Batch ID = 5 : 100%|██████████| 5/5 [00:00<00:00,  9.70it/s]\n"
     ]
    },
    {
     "name": "stdout",
     "output_type": "stream",
     "text": [
      "Validation Cross-Entropy Loss = 0.3890\n",
      "Validation Accuracy = 88.95%\n",
      "\n",
      "Epoch 34/64\n",
      "======== Training phase ========\n"
     ]
    },
    {
     "name": "stderr",
     "output_type": "stream",
     "text": [
      "Loss = 0.1126  |  Accuracy = 96.13% | Batch ID = 30 : 100%|██████████| 30/30 [00:04<00:00,  7.14it/s]\n"
     ]
    },
    {
     "name": "stdout",
     "output_type": "stream",
     "text": [
      "Training Cross-Entropy Loss = 0.1043\n",
      "Training Accuracy = 96.13%\n",
      "======== Validation phase ========\n"
     ]
    },
    {
     "name": "stderr",
     "output_type": "stream",
     "text": [
      "Loss = 0.3711  |  Accuracy = 89.63% | Batch ID = 5 : 100%|██████████| 5/5 [00:00<00:00,  9.67it/s]\n"
     ]
    },
    {
     "name": "stdout",
     "output_type": "stream",
     "text": [
      "Validation Cross-Entropy Loss = 0.3946\n",
      "Validation Accuracy = 89.63%\n",
      "\n",
      "Epoch 35/64\n",
      "======== Training phase ========\n"
     ]
    },
    {
     "name": "stderr",
     "output_type": "stream",
     "text": [
      "Loss = 0.0871  |  Accuracy = 96.23% | Batch ID = 30 : 100%|██████████| 30/30 [00:04<00:00,  7.33it/s]\n"
     ]
    },
    {
     "name": "stdout",
     "output_type": "stream",
     "text": [
      "Training Cross-Entropy Loss = 0.1003\n",
      "Training Accuracy = 96.23%\n",
      "======== Validation phase ========\n"
     ]
    },
    {
     "name": "stderr",
     "output_type": "stream",
     "text": [
      "Loss = 0.4001  |  Accuracy = 89.22% | Batch ID = 5 : 100%|██████████| 5/5 [00:00<00:00,  9.69it/s]\n"
     ]
    },
    {
     "name": "stdout",
     "output_type": "stream",
     "text": [
      "Validation Cross-Entropy Loss = 0.4101\n",
      "Validation Accuracy = 89.22%\n",
      "\n",
      "Epoch 36/64\n",
      "======== Training phase ========\n"
     ]
    },
    {
     "name": "stderr",
     "output_type": "stream",
     "text": [
      "Loss = 0.0864  |  Accuracy = 96.06% | Batch ID = 30 : 100%|██████████| 30/30 [00:04<00:00,  7.10it/s]\n"
     ]
    },
    {
     "name": "stdout",
     "output_type": "stream",
     "text": [
      "Training Cross-Entropy Loss = 0.1040\n",
      "Training Accuracy = 96.06%\n",
      "======== Validation phase ========\n"
     ]
    },
    {
     "name": "stderr",
     "output_type": "stream",
     "text": [
      "Loss = 0.3955  |  Accuracy = 89.86% | Batch ID = 5 : 100%|██████████| 5/5 [00:00<00:00,  9.70it/s]\n"
     ]
    },
    {
     "name": "stdout",
     "output_type": "stream",
     "text": [
      "Validation Cross-Entropy Loss = 0.3973\n",
      "Validation Accuracy = 89.86%\n",
      "\n",
      "Epoch 37/64\n",
      "======== Training phase ========\n"
     ]
    },
    {
     "name": "stderr",
     "output_type": "stream",
     "text": [
      "Loss = 0.0995  |  Accuracy = 96.67% | Batch ID = 30 : 100%|██████████| 30/30 [00:04<00:00,  7.16it/s]\n"
     ]
    },
    {
     "name": "stdout",
     "output_type": "stream",
     "text": [
      "Training Cross-Entropy Loss = 0.0907\n",
      "Training Accuracy = 96.67%\n",
      "======== Validation phase ========\n"
     ]
    },
    {
     "name": "stderr",
     "output_type": "stream",
     "text": [
      "Loss = 0.4386  |  Accuracy = 89.46% | Batch ID = 5 : 100%|██████████| 5/5 [00:00<00:00,  9.75it/s]\n"
     ]
    },
    {
     "name": "stdout",
     "output_type": "stream",
     "text": [
      "Validation Cross-Entropy Loss = 0.4367\n",
      "Validation Accuracy = 89.46%\n",
      "\n",
      "Epoch 38/64\n",
      "======== Training phase ========\n"
     ]
    },
    {
     "name": "stderr",
     "output_type": "stream",
     "text": [
      "Loss = 0.1363  |  Accuracy = 96.36% | Batch ID = 30 : 100%|██████████| 30/30 [00:04<00:00,  7.38it/s]\n"
     ]
    },
    {
     "name": "stdout",
     "output_type": "stream",
     "text": [
      "Training Cross-Entropy Loss = 0.0987\n",
      "Training Accuracy = 96.36%\n",
      "======== Validation phase ========\n"
     ]
    },
    {
     "name": "stderr",
     "output_type": "stream",
     "text": [
      "Loss = 0.4521  |  Accuracy = 89.57% | Batch ID = 5 : 100%|██████████| 5/5 [00:00<00:00,  9.82it/s]\n"
     ]
    },
    {
     "name": "stdout",
     "output_type": "stream",
     "text": [
      "Validation Cross-Entropy Loss = 0.4440\n",
      "Validation Accuracy = 89.57%\n",
      "\n",
      "Epoch 39/64\n",
      "======== Training phase ========\n"
     ]
    },
    {
     "name": "stderr",
     "output_type": "stream",
     "text": [
      "Loss = 0.1018  |  Accuracy = 96.48% | Batch ID = 30 : 100%|██████████| 30/30 [00:04<00:00,  7.37it/s]\n"
     ]
    },
    {
     "name": "stdout",
     "output_type": "stream",
     "text": [
      "Training Cross-Entropy Loss = 0.0937\n",
      "Training Accuracy = 96.48%\n",
      "======== Validation phase ========\n"
     ]
    },
    {
     "name": "stderr",
     "output_type": "stream",
     "text": [
      "Loss = 0.4339  |  Accuracy = 89.58% | Batch ID = 5 : 100%|██████████| 5/5 [00:00<00:00,  9.82it/s]\n"
     ]
    },
    {
     "name": "stdout",
     "output_type": "stream",
     "text": [
      "Validation Cross-Entropy Loss = 0.4315\n",
      "Validation Accuracy = 89.58%\n",
      "\n",
      "Epoch 40/64\n",
      "======== Training phase ========\n"
     ]
    },
    {
     "name": "stderr",
     "output_type": "stream",
     "text": [
      "Loss = 0.0932  |  Accuracy = 96.60% | Batch ID = 30 : 100%|██████████| 30/30 [00:04<00:00,  7.13it/s]\n"
     ]
    },
    {
     "name": "stdout",
     "output_type": "stream",
     "text": [
      "Training Cross-Entropy Loss = 0.0890\n",
      "Training Accuracy = 96.60%\n",
      "======== Validation phase ========\n"
     ]
    },
    {
     "name": "stderr",
     "output_type": "stream",
     "text": [
      "Loss = 0.4773  |  Accuracy = 88.91% | Batch ID = 5 : 100%|██████████| 5/5 [00:00<00:00,  9.76it/s]\n"
     ]
    },
    {
     "name": "stdout",
     "output_type": "stream",
     "text": [
      "Validation Cross-Entropy Loss = 0.4696\n",
      "Validation Accuracy = 88.91%\n",
      "\n",
      "Epoch 41/64\n",
      "======== Training phase ========\n"
     ]
    },
    {
     "name": "stderr",
     "output_type": "stream",
     "text": [
      "Loss = 0.1569  |  Accuracy = 96.60% | Batch ID = 30 : 100%|██████████| 30/30 [00:04<00:00,  7.34it/s]\n"
     ]
    },
    {
     "name": "stdout",
     "output_type": "stream",
     "text": [
      "Training Cross-Entropy Loss = 0.0923\n",
      "Training Accuracy = 96.60%\n",
      "======== Validation phase ========\n"
     ]
    },
    {
     "name": "stderr",
     "output_type": "stream",
     "text": [
      "Loss = 0.4165  |  Accuracy = 89.67% | Batch ID = 5 : 100%|██████████| 5/5 [00:00<00:00,  9.65it/s]\n"
     ]
    },
    {
     "name": "stdout",
     "output_type": "stream",
     "text": [
      "Validation Cross-Entropy Loss = 0.4272\n",
      "Validation Accuracy = 89.67%\n",
      "\n",
      "Epoch 42/64\n",
      "======== Training phase ========\n"
     ]
    },
    {
     "name": "stderr",
     "output_type": "stream",
     "text": [
      "Loss = 0.1386  |  Accuracy = 96.31% | Batch ID = 30 : 100%|██████████| 30/30 [00:04<00:00,  7.33it/s]\n"
     ]
    },
    {
     "name": "stdout",
     "output_type": "stream",
     "text": [
      "Training Cross-Entropy Loss = 0.0972\n",
      "Training Accuracy = 96.31%\n",
      "======== Validation phase ========\n"
     ]
    },
    {
     "name": "stderr",
     "output_type": "stream",
     "text": [
      "Loss = 0.4842  |  Accuracy = 89.19% | Batch ID = 5 : 100%|██████████| 5/5 [00:00<00:00,  9.73it/s]\n"
     ]
    },
    {
     "name": "stdout",
     "output_type": "stream",
     "text": [
      "Validation Cross-Entropy Loss = 0.4763\n",
      "Validation Accuracy = 89.19%\n",
      "\n",
      "Epoch 43/64\n",
      "======== Training phase ========\n"
     ]
    },
    {
     "name": "stderr",
     "output_type": "stream",
     "text": [
      "Loss = 0.1056  |  Accuracy = 96.47% | Batch ID = 30 : 100%|██████████| 30/30 [00:04<00:00,  7.21it/s]\n"
     ]
    },
    {
     "name": "stdout",
     "output_type": "stream",
     "text": [
      "Training Cross-Entropy Loss = 0.0930\n",
      "Training Accuracy = 96.47%\n",
      "======== Validation phase ========\n"
     ]
    },
    {
     "name": "stderr",
     "output_type": "stream",
     "text": [
      "Loss = 0.4735  |  Accuracy = 89.67% | Batch ID = 5 : 100%|██████████| 5/5 [00:00<00:00,  9.77it/s]\n"
     ]
    },
    {
     "name": "stdout",
     "output_type": "stream",
     "text": [
      "Validation Cross-Entropy Loss = 0.4794\n",
      "Validation Accuracy = 89.67%\n",
      "\n",
      "Epoch 44/64\n",
      "======== Training phase ========\n"
     ]
    },
    {
     "name": "stderr",
     "output_type": "stream",
     "text": [
      "Loss = 0.0589  |  Accuracy = 96.69% | Batch ID = 30 : 100%|██████████| 30/30 [00:04<00:00,  7.44it/s]\n"
     ]
    },
    {
     "name": "stdout",
     "output_type": "stream",
     "text": [
      "Training Cross-Entropy Loss = 0.0887\n",
      "Training Accuracy = 96.69%\n",
      "======== Validation phase ========\n"
     ]
    },
    {
     "name": "stderr",
     "output_type": "stream",
     "text": [
      "Loss = 0.4637  |  Accuracy = 89.42% | Batch ID = 5 : 100%|██████████| 5/5 [00:00<00:00,  9.68it/s]\n"
     ]
    },
    {
     "name": "stdout",
     "output_type": "stream",
     "text": [
      "Validation Cross-Entropy Loss = 0.4857\n",
      "Validation Accuracy = 89.42%\n",
      "\n",
      "Epoch 45/64\n",
      "======== Training phase ========\n"
     ]
    },
    {
     "name": "stderr",
     "output_type": "stream",
     "text": [
      "Loss = 0.0652  |  Accuracy = 96.82% | Batch ID = 30 : 100%|██████████| 30/30 [00:04<00:00,  7.34it/s]\n"
     ]
    },
    {
     "name": "stdout",
     "output_type": "stream",
     "text": [
      "Training Cross-Entropy Loss = 0.0835\n",
      "Training Accuracy = 96.82%\n",
      "======== Validation phase ========\n"
     ]
    },
    {
     "name": "stderr",
     "output_type": "stream",
     "text": [
      "Loss = 0.4601  |  Accuracy = 89.55% | Batch ID = 5 : 100%|██████████| 5/5 [00:00<00:00,  9.74it/s]\n"
     ]
    },
    {
     "name": "stdout",
     "output_type": "stream",
     "text": [
      "Validation Cross-Entropy Loss = 0.4978\n",
      "Validation Accuracy = 89.55%\n",
      "\n",
      "Epoch 46/64\n",
      "======== Training phase ========\n"
     ]
    },
    {
     "name": "stderr",
     "output_type": "stream",
     "text": [
      "Loss = 0.1069  |  Accuracy = 97.11% | Batch ID = 30 : 100%|██████████| 30/30 [00:04<00:00,  7.18it/s]\n"
     ]
    },
    {
     "name": "stdout",
     "output_type": "stream",
     "text": [
      "Training Cross-Entropy Loss = 0.0765\n",
      "Training Accuracy = 97.11%\n",
      "======== Validation phase ========\n"
     ]
    },
    {
     "name": "stderr",
     "output_type": "stream",
     "text": [
      "Loss = 0.5034  |  Accuracy = 89.34% | Batch ID = 5 : 100%|██████████| 5/5 [00:00<00:00,  9.81it/s]\n"
     ]
    },
    {
     "name": "stdout",
     "output_type": "stream",
     "text": [
      "Validation Cross-Entropy Loss = 0.5195\n",
      "Validation Accuracy = 89.34%\n",
      "\n",
      "Epoch 47/64\n",
      "======== Training phase ========\n"
     ]
    },
    {
     "name": "stderr",
     "output_type": "stream",
     "text": [
      "Loss = 0.0978  |  Accuracy = 97.04% | Batch ID = 30 : 100%|██████████| 30/30 [00:04<00:00,  7.33it/s]\n"
     ]
    },
    {
     "name": "stdout",
     "output_type": "stream",
     "text": [
      "Training Cross-Entropy Loss = 0.0781\n",
      "Training Accuracy = 97.04%\n",
      "======== Validation phase ========\n"
     ]
    },
    {
     "name": "stderr",
     "output_type": "stream",
     "text": [
      "Loss = 0.5075  |  Accuracy = 89.44% | Batch ID = 5 : 100%|██████████| 5/5 [00:00<00:00,  9.74it/s]\n"
     ]
    },
    {
     "name": "stdout",
     "output_type": "stream",
     "text": [
      "Validation Cross-Entropy Loss = 0.5240\n",
      "Validation Accuracy = 89.44%\n",
      "\n",
      "Epoch 48/64\n",
      "======== Training phase ========\n"
     ]
    },
    {
     "name": "stderr",
     "output_type": "stream",
     "text": [
      "Loss = 0.1019  |  Accuracy = 96.51% | Batch ID = 30 : 100%|██████████| 30/30 [00:04<00:00,  7.38it/s]\n"
     ]
    },
    {
     "name": "stdout",
     "output_type": "stream",
     "text": [
      "Training Cross-Entropy Loss = 0.0935\n",
      "Training Accuracy = 96.51%\n",
      "======== Validation phase ========\n"
     ]
    },
    {
     "name": "stderr",
     "output_type": "stream",
     "text": [
      "Loss = 0.4944  |  Accuracy = 89.17% | Batch ID = 5 : 100%|██████████| 5/5 [00:00<00:00,  9.75it/s]\n"
     ]
    },
    {
     "name": "stdout",
     "output_type": "stream",
     "text": [
      "Validation Cross-Entropy Loss = 0.5164\n",
      "Validation Accuracy = 89.17%\n",
      "\n",
      "Epoch 49/64\n",
      "======== Training phase ========\n"
     ]
    },
    {
     "name": "stderr",
     "output_type": "stream",
     "text": [
      "Loss = 0.0638  |  Accuracy = 97.19% | Batch ID = 30 : 100%|██████████| 30/30 [00:04<00:00,  7.14it/s]\n"
     ]
    },
    {
     "name": "stdout",
     "output_type": "stream",
     "text": [
      "Training Cross-Entropy Loss = 0.0731\n",
      "Training Accuracy = 97.19%\n",
      "======== Validation phase ========\n"
     ]
    },
    {
     "name": "stderr",
     "output_type": "stream",
     "text": [
      "Loss = 0.5341  |  Accuracy = 89.62% | Batch ID = 5 : 100%|██████████| 5/5 [00:00<00:00,  9.61it/s]\n"
     ]
    },
    {
     "name": "stdout",
     "output_type": "stream",
     "text": [
      "Validation Cross-Entropy Loss = 0.5547\n",
      "Validation Accuracy = 89.62%\n",
      "\n",
      "Epoch 50/64\n",
      "======== Training phase ========\n"
     ]
    },
    {
     "name": "stderr",
     "output_type": "stream",
     "text": [
      "Loss = 0.0732  |  Accuracy = 97.56% | Batch ID = 30 : 100%|██████████| 30/30 [00:04<00:00,  7.33it/s]\n"
     ]
    },
    {
     "name": "stdout",
     "output_type": "stream",
     "text": [
      "Training Cross-Entropy Loss = 0.0664\n",
      "Training Accuracy = 97.56%\n",
      "======== Validation phase ========\n"
     ]
    },
    {
     "name": "stderr",
     "output_type": "stream",
     "text": [
      "Loss = 0.5622  |  Accuracy = 89.51% | Batch ID = 5 : 100%|██████████| 5/5 [00:00<00:00,  9.77it/s]\n"
     ]
    },
    {
     "name": "stdout",
     "output_type": "stream",
     "text": [
      "Validation Cross-Entropy Loss = 0.5532\n",
      "Validation Accuracy = 89.51%\n",
      "\n",
      "Epoch 51/64\n",
      "======== Training phase ========\n"
     ]
    },
    {
     "name": "stderr",
     "output_type": "stream",
     "text": [
      "Loss = 0.0568  |  Accuracy = 97.55% | Batch ID = 30 : 100%|██████████| 30/30 [00:04<00:00,  7.33it/s]\n"
     ]
    },
    {
     "name": "stdout",
     "output_type": "stream",
     "text": [
      "Training Cross-Entropy Loss = 0.0647\n",
      "Training Accuracy = 97.55%\n",
      "======== Validation phase ========\n"
     ]
    },
    {
     "name": "stderr",
     "output_type": "stream",
     "text": [
      "Loss = 0.5249  |  Accuracy = 89.46% | Batch ID = 5 : 100%|██████████| 5/5 [00:00<00:00,  9.78it/s]\n"
     ]
    },
    {
     "name": "stdout",
     "output_type": "stream",
     "text": [
      "Validation Cross-Entropy Loss = 0.5472\n",
      "Validation Accuracy = 89.46%\n",
      "\n",
      "Epoch 52/64\n",
      "======== Training phase ========\n"
     ]
    },
    {
     "name": "stderr",
     "output_type": "stream",
     "text": [
      "Loss = 0.0571  |  Accuracy = 97.38% | Batch ID = 30 : 100%|██████████| 30/30 [00:04<00:00,  7.11it/s]\n"
     ]
    },
    {
     "name": "stdout",
     "output_type": "stream",
     "text": [
      "Training Cross-Entropy Loss = 0.0699\n",
      "Training Accuracy = 97.38%\n",
      "======== Validation phase ========\n"
     ]
    },
    {
     "name": "stderr",
     "output_type": "stream",
     "text": [
      "Loss = 0.5652  |  Accuracy = 89.43% | Batch ID = 5 : 100%|██████████| 5/5 [00:00<00:00,  9.69it/s]\n"
     ]
    },
    {
     "name": "stdout",
     "output_type": "stream",
     "text": [
      "Validation Cross-Entropy Loss = 0.5679\n",
      "Validation Accuracy = 89.43%\n",
      "\n",
      "Epoch 53/64\n",
      "======== Training phase ========\n"
     ]
    },
    {
     "name": "stderr",
     "output_type": "stream",
     "text": [
      "Loss = 0.0404  |  Accuracy = 97.64% | Batch ID = 30 : 100%|██████████| 30/30 [00:04<00:00,  7.26it/s]\n"
     ]
    },
    {
     "name": "stdout",
     "output_type": "stream",
     "text": [
      "Training Cross-Entropy Loss = 0.0632\n",
      "Training Accuracy = 97.64%\n",
      "======== Validation phase ========\n"
     ]
    },
    {
     "name": "stderr",
     "output_type": "stream",
     "text": [
      "Loss = 0.6152  |  Accuracy = 89.60% | Batch ID = 5 : 100%|██████████| 5/5 [00:00<00:00,  9.66it/s]\n"
     ]
    },
    {
     "name": "stdout",
     "output_type": "stream",
     "text": [
      "Validation Cross-Entropy Loss = 0.6127\n",
      "Validation Accuracy = 89.60%\n",
      "\n",
      "Epoch 54/64\n",
      "======== Training phase ========\n"
     ]
    },
    {
     "name": "stderr",
     "output_type": "stream",
     "text": [
      "Loss = 0.0812  |  Accuracy = 97.25% | Batch ID = 30 : 100%|██████████| 30/30 [00:04<00:00,  7.26it/s]\n"
     ]
    },
    {
     "name": "stdout",
     "output_type": "stream",
     "text": [
      "Training Cross-Entropy Loss = 0.0728\n",
      "Training Accuracy = 97.25%\n",
      "======== Validation phase ========\n"
     ]
    },
    {
     "name": "stderr",
     "output_type": "stream",
     "text": [
      "Loss = 0.6268  |  Accuracy = 88.36% | Batch ID = 5 : 100%|██████████| 5/5 [00:00<00:00,  8.15it/s]\n"
     ]
    },
    {
     "name": "stdout",
     "output_type": "stream",
     "text": [
      "Validation Cross-Entropy Loss = 0.6163\n",
      "Validation Accuracy = 88.36%\n",
      "\n",
      "Epoch 55/64\n",
      "======== Training phase ========\n"
     ]
    },
    {
     "name": "stderr",
     "output_type": "stream",
     "text": [
      "Loss = 0.1150  |  Accuracy = 97.03% | Batch ID = 30 : 100%|██████████| 30/30 [00:04<00:00,  7.28it/s]\n"
     ]
    },
    {
     "name": "stdout",
     "output_type": "stream",
     "text": [
      "Training Cross-Entropy Loss = 0.0822\n",
      "Training Accuracy = 97.03%\n",
      "======== Validation phase ========\n"
     ]
    },
    {
     "name": "stderr",
     "output_type": "stream",
     "text": [
      "Loss = 0.5552  |  Accuracy = 89.50% | Batch ID = 5 : 100%|██████████| 5/5 [00:00<00:00,  9.69it/s]\n"
     ]
    },
    {
     "name": "stdout",
     "output_type": "stream",
     "text": [
      "Validation Cross-Entropy Loss = 0.5609\n",
      "Validation Accuracy = 89.50%\n",
      "\n",
      "Epoch 56/64\n",
      "======== Training phase ========\n"
     ]
    },
    {
     "name": "stderr",
     "output_type": "stream",
     "text": [
      "Loss = 0.0546  |  Accuracy = 96.98% | Batch ID = 30 : 100%|██████████| 30/30 [00:04<00:00,  7.26it/s]\n"
     ]
    },
    {
     "name": "stdout",
     "output_type": "stream",
     "text": [
      "Training Cross-Entropy Loss = 0.0809\n",
      "Training Accuracy = 96.98%\n",
      "======== Validation phase ========\n"
     ]
    },
    {
     "name": "stderr",
     "output_type": "stream",
     "text": [
      "Loss = 0.5160  |  Accuracy = 89.42% | Batch ID = 5 : 100%|██████████| 5/5 [00:00<00:00,  9.73it/s]\n"
     ]
    },
    {
     "name": "stdout",
     "output_type": "stream",
     "text": [
      "Validation Cross-Entropy Loss = 0.5457\n",
      "Validation Accuracy = 89.42%\n",
      "\n",
      "Epoch 57/64\n",
      "======== Training phase ========\n"
     ]
    },
    {
     "name": "stderr",
     "output_type": "stream",
     "text": [
      "Loss = 0.0924  |  Accuracy = 97.37% | Batch ID = 30 : 100%|██████████| 30/30 [00:04<00:00,  7.24it/s]\n"
     ]
    },
    {
     "name": "stdout",
     "output_type": "stream",
     "text": [
      "Training Cross-Entropy Loss = 0.0701\n",
      "Training Accuracy = 97.37%\n",
      "======== Validation phase ========\n"
     ]
    },
    {
     "name": "stderr",
     "output_type": "stream",
     "text": [
      "Loss = 0.5806  |  Accuracy = 88.58% | Batch ID = 5 : 100%|██████████| 5/5 [00:00<00:00,  8.16it/s]\n"
     ]
    },
    {
     "name": "stdout",
     "output_type": "stream",
     "text": [
      "Validation Cross-Entropy Loss = 0.5967\n",
      "Validation Accuracy = 88.58%\n",
      "\n",
      "Epoch 58/64\n",
      "======== Training phase ========\n"
     ]
    },
    {
     "name": "stderr",
     "output_type": "stream",
     "text": [
      "Loss = 0.0714  |  Accuracy = 96.54% | Batch ID = 30 : 100%|██████████| 30/30 [00:04<00:00,  7.26it/s]\n"
     ]
    },
    {
     "name": "stdout",
     "output_type": "stream",
     "text": [
      "Training Cross-Entropy Loss = 0.0945\n",
      "Training Accuracy = 96.54%\n",
      "======== Validation phase ========\n"
     ]
    },
    {
     "name": "stderr",
     "output_type": "stream",
     "text": [
      "Loss = 0.5618  |  Accuracy = 89.27% | Batch ID = 5 : 100%|██████████| 5/5 [00:00<00:00,  9.69it/s]\n"
     ]
    },
    {
     "name": "stdout",
     "output_type": "stream",
     "text": [
      "Validation Cross-Entropy Loss = 0.6161\n",
      "Validation Accuracy = 89.27%\n",
      "\n",
      "Epoch 59/64\n",
      "======== Training phase ========\n"
     ]
    },
    {
     "name": "stderr",
     "output_type": "stream",
     "text": [
      "Loss = 0.0756  |  Accuracy = 96.87% | Batch ID = 30 : 100%|██████████| 30/30 [00:04<00:00,  7.25it/s]\n"
     ]
    },
    {
     "name": "stdout",
     "output_type": "stream",
     "text": [
      "Training Cross-Entropy Loss = 0.0840\n",
      "Training Accuracy = 96.87%\n",
      "======== Validation phase ========\n"
     ]
    },
    {
     "name": "stderr",
     "output_type": "stream",
     "text": [
      "Loss = 0.5744  |  Accuracy = 88.71% | Batch ID = 5 : 100%|██████████| 5/5 [00:00<00:00,  9.73it/s]\n"
     ]
    },
    {
     "name": "stdout",
     "output_type": "stream",
     "text": [
      "Validation Cross-Entropy Loss = 0.5780\n",
      "Validation Accuracy = 88.71%\n",
      "\n",
      "Epoch 60/64\n",
      "======== Training phase ========\n"
     ]
    },
    {
     "name": "stderr",
     "output_type": "stream",
     "text": [
      "Loss = 0.0784  |  Accuracy = 97.64% | Batch ID = 30 : 100%|██████████| 30/30 [00:04<00:00,  7.28it/s]\n"
     ]
    },
    {
     "name": "stdout",
     "output_type": "stream",
     "text": [
      "Training Cross-Entropy Loss = 0.0635\n",
      "Training Accuracy = 97.64%\n",
      "======== Validation phase ========\n"
     ]
    },
    {
     "name": "stderr",
     "output_type": "stream",
     "text": [
      "Loss = 0.6177  |  Accuracy = 89.00% | Batch ID = 5 : 100%|██████████| 5/5 [00:00<00:00,  8.20it/s]\n"
     ]
    },
    {
     "name": "stdout",
     "output_type": "stream",
     "text": [
      "Validation Cross-Entropy Loss = 0.5977\n",
      "Validation Accuracy = 89.00%\n",
      "\n",
      "Epoch 61/64\n",
      "======== Training phase ========\n"
     ]
    },
    {
     "name": "stderr",
     "output_type": "stream",
     "text": [
      "Loss = 0.0603  |  Accuracy = 97.92% | Batch ID = 30 : 100%|██████████| 30/30 [00:04<00:00,  7.27it/s]\n"
     ]
    },
    {
     "name": "stdout",
     "output_type": "stream",
     "text": [
      "Training Cross-Entropy Loss = 0.0567\n",
      "Training Accuracy = 97.92%\n",
      "======== Validation phase ========\n"
     ]
    },
    {
     "name": "stderr",
     "output_type": "stream",
     "text": [
      "Loss = 0.6402  |  Accuracy = 89.60% | Batch ID = 5 : 100%|██████████| 5/5 [00:00<00:00,  9.82it/s]\n"
     ]
    },
    {
     "name": "stdout",
     "output_type": "stream",
     "text": [
      "Validation Cross-Entropy Loss = 0.6966\n",
      "Validation Accuracy = 89.60%\n",
      "\n",
      "Epoch 62/64\n",
      "======== Training phase ========\n"
     ]
    },
    {
     "name": "stderr",
     "output_type": "stream",
     "text": [
      "Loss = 0.0417  |  Accuracy = 97.75% | Batch ID = 30 : 100%|██████████| 30/30 [00:04<00:00,  7.25it/s]\n"
     ]
    },
    {
     "name": "stdout",
     "output_type": "stream",
     "text": [
      "Training Cross-Entropy Loss = 0.0596\n",
      "Training Accuracy = 97.75%\n",
      "======== Validation phase ========\n"
     ]
    },
    {
     "name": "stderr",
     "output_type": "stream",
     "text": [
      "Loss = 0.6160  |  Accuracy = 89.08% | Batch ID = 5 : 100%|██████████| 5/5 [00:00<00:00,  9.67it/s]\n"
     ]
    },
    {
     "name": "stdout",
     "output_type": "stream",
     "text": [
      "Validation Cross-Entropy Loss = 0.6444\n",
      "Validation Accuracy = 89.08%\n",
      "\n",
      "Epoch 63/64\n",
      "======== Training phase ========\n"
     ]
    },
    {
     "name": "stderr",
     "output_type": "stream",
     "text": [
      "Loss = 0.0520  |  Accuracy = 97.77% | Batch ID = 30 : 100%|██████████| 30/30 [00:04<00:00,  7.13it/s]\n"
     ]
    },
    {
     "name": "stdout",
     "output_type": "stream",
     "text": [
      "Training Cross-Entropy Loss = 0.0602\n",
      "Training Accuracy = 97.77%\n",
      "======== Validation phase ========\n"
     ]
    },
    {
     "name": "stderr",
     "output_type": "stream",
     "text": [
      "Loss = 0.6838  |  Accuracy = 89.49% | Batch ID = 5 : 100%|██████████| 5/5 [00:00<00:00,  9.82it/s]\n"
     ]
    },
    {
     "name": "stdout",
     "output_type": "stream",
     "text": [
      "Validation Cross-Entropy Loss = 0.6849\n",
      "Validation Accuracy = 89.49%\n",
      "\n",
      "Epoch 64/64\n",
      "======== Training phase ========\n"
     ]
    },
    {
     "name": "stderr",
     "output_type": "stream",
     "text": [
      "Loss = 0.0613  |  Accuracy = 98.02% | Batch ID = 30 : 100%|██████████| 30/30 [00:04<00:00,  7.22it/s]\n"
     ]
    },
    {
     "name": "stdout",
     "output_type": "stream",
     "text": [
      "Training Cross-Entropy Loss = 0.0545\n",
      "Training Accuracy = 98.02%\n",
      "======== Validation phase ========\n"
     ]
    },
    {
     "name": "stderr",
     "output_type": "stream",
     "text": [
      "Loss = 0.6874  |  Accuracy = 89.01% | Batch ID = 5 : 100%|██████████| 5/5 [00:00<00:00,  9.53it/s]\n"
     ]
    },
    {
     "name": "stdout",
     "output_type": "stream",
     "text": [
      "Validation Cross-Entropy Loss = 0.6962\n",
      "Validation Accuracy = 89.01%\n",
      "\n"
     ]
    },
    {
     "data": {
      "image/png": "[encoded data removed]",
      "text/plain": [
       "<Figure size 1000x500 with 1 Axes>"
      ]
     },
     "metadata": {},
     "output_type": "display_data"
    },
    {
     "name": "stdout",
     "output_type": "stream",
     "text": [
      "Cross-Entropy on training set:  0.0545\n",
      "Accuracy on training set:       98.02%\n",
      "\n",
      "Cross-Entropy on validation set: 0.6962\n",
      "Accuracy on validation set:      89.01%\n"
     ]
    }
   ],
   "source": [
    "train_loss_hist, train_acc_hist, test_loss_hist, test_acc_hist = train(ConvNet, TrainLoader, TestLoader, optimizer, criterion, epochs = 64, device = device)"
   ]
  },
  {
   "cell_type": "markdown",
   "metadata": {},
   "source": [
    "### Exercise 1 (C) ii)"
   ]
  },
  {
   "cell_type": "code",
   "execution_count": 6,
   "metadata": {},
   "outputs": [],
   "source": [
    "# Use a ResNet-18 without pre-trained weights\n",
    "ResNet18 = resnet18(weights = None)\n",
    "\n",
    "# Adapt the ResNet-18 to the FashionMNIST dataset\n",
    "ResNet18.conv1 = torch.nn.Conv2d(1, 64, kernel_size = 7, stride = 2, padding = 3, bias = False)\n",
    "ResNet18.fc = torch.nn.Linear(ResNet18.fc.in_features, 10)"
   ]
  },
  {
   "cell_type": "code",
   "execution_count": 7,
   "metadata": {},
   "outputs": [
    {
     "name": "stdout",
     "output_type": "stream",
     "text": [
      "Device: mps\n"
     ]
    }
   ],
   "source": [
    "# Initialize the network, loss function, and optimizer\n",
    "device = set_device()\n",
    "ResNet18 = ResNet18.to(device)\n",
    "criterion = torch.nn.CrossEntropyLoss()\n",
    "optimizer = torch.optim.Adam(ResNet18.parameters(), lr = 0.01)"
   ]
  },
  {
   "cell_type": "code",
   "execution_count": 8,
   "metadata": {},
   "outputs": [
    {
     "name": "stdout",
     "output_type": "stream",
     "text": [
      "Epoch 1/64\n",
      "======== Training phase ========\n"
     ]
    },
    {
     "name": "stderr",
     "output_type": "stream",
     "text": [
      "Loss = 0.7157  |  Accuracy = 57.92% | Batch ID = 30 : 100%|██████████| 30/30 [00:10<00:00,  2.88it/s]\n"
     ]
    },
    {
     "name": "stdout",
     "output_type": "stream",
     "text": [
      "Training Cross-Entropy Loss = 1.3350\n",
      "Training Accuracy = 57.92%\n",
      "======== Validation phase ========\n"
     ]
    },
    {
     "name": "stderr",
     "output_type": "stream",
     "text": [
      "Loss = 41.3411  |  Accuracy = 23.40% | Batch ID = 5 : 100%|██████████| 5/5 [00:00<00:00,  5.59it/s]\n"
     ]
    },
    {
     "name": "stdout",
     "output_type": "stream",
     "text": [
      "Validation Cross-Entropy Loss = 41.1716\n",
      "Validation Accuracy = 23.40%\n",
      "\n",
      "Epoch 2/64\n",
      "======== Training phase ========\n"
     ]
    },
    {
     "name": "stderr",
     "output_type": "stream",
     "text": [
      "Loss = 0.4171  |  Accuracy = 80.25% | Batch ID = 30 : 100%|██████████| 30/30 [00:09<00:00,  3.09it/s]\n"
     ]
    },
    {
     "name": "stdout",
     "output_type": "stream",
     "text": [
      "Training Cross-Entropy Loss = 0.5212\n",
      "Training Accuracy = 80.25%\n",
      "======== Validation phase ========\n"
     ]
    },
    {
     "name": "stderr",
     "output_type": "stream",
     "text": [
      "Loss = 0.4885  |  Accuracy = 81.45% | Batch ID = 5 : 100%|██████████| 5/5 [00:00<00:00,  6.06it/s]\n"
     ]
    },
    {
     "name": "stdout",
     "output_type": "stream",
     "text": [
      "Validation Cross-Entropy Loss = 0.5008\n",
      "Validation Accuracy = 81.45%\n",
      "\n",
      "Epoch 3/64\n",
      "======== Training phase ========\n"
     ]
    },
    {
     "name": "stderr",
     "output_type": "stream",
     "text": [
      "Loss = 0.3564  |  Accuracy = 83.99% | Batch ID = 30 : 100%|██████████| 30/30 [00:09<00:00,  3.12it/s]\n"
     ]
    },
    {
     "name": "stdout",
     "output_type": "stream",
     "text": [
      "Training Cross-Entropy Loss = 0.4206\n",
      "Training Accuracy = 83.99%\n",
      "======== Validation phase ========\n"
     ]
    },
    {
     "name": "stderr",
     "output_type": "stream",
     "text": [
      "Loss = 0.4857  |  Accuracy = 81.31% | Batch ID = 5 : 100%|██████████| 5/5 [00:00<00:00,  6.06it/s]\n"
     ]
    },
    {
     "name": "stdout",
     "output_type": "stream",
     "text": [
      "Validation Cross-Entropy Loss = 0.4951\n",
      "Validation Accuracy = 81.31%\n",
      "\n",
      "Epoch 4/64\n",
      "======== Training phase ========\n"
     ]
    },
    {
     "name": "stderr",
     "output_type": "stream",
     "text": [
      "Loss = 0.3396  |  Accuracy = 86.81% | Batch ID = 30 : 100%|██████████| 30/30 [00:09<00:00,  3.09it/s]\n"
     ]
    },
    {
     "name": "stdout",
     "output_type": "stream",
     "text": [
      "Training Cross-Entropy Loss = 0.3526\n",
      "Training Accuracy = 86.81%\n",
      "======== Validation phase ========\n"
     ]
    },
    {
     "name": "stderr",
     "output_type": "stream",
     "text": [
      "Loss = 0.3524  |  Accuracy = 86.47% | Batch ID = 5 : 100%|██████████| 5/5 [00:00<00:00,  6.06it/s]\n"
     ]
    },
    {
     "name": "stdout",
     "output_type": "stream",
     "text": [
      "Validation Cross-Entropy Loss = 0.3638\n",
      "Validation Accuracy = 86.47%\n",
      "\n",
      "Epoch 5/64\n",
      "======== Training phase ========\n"
     ]
    },
    {
     "name": "stderr",
     "output_type": "stream",
     "text": [
      "Loss = 0.3313  |  Accuracy = 88.27% | Batch ID = 30 : 100%|██████████| 30/30 [00:09<00:00,  3.13it/s]\n"
     ]
    },
    {
     "name": "stdout",
     "output_type": "stream",
     "text": [
      "Training Cross-Entropy Loss = 0.3124\n",
      "Training Accuracy = 88.27%\n",
      "======== Validation phase ========\n"
     ]
    },
    {
     "name": "stderr",
     "output_type": "stream",
     "text": [
      "Loss = 0.5629  |  Accuracy = 81.76% | Batch ID = 5 : 100%|██████████| 5/5 [00:00<00:00,  6.18it/s]\n"
     ]
    },
    {
     "name": "stdout",
     "output_type": "stream",
     "text": [
      "Validation Cross-Entropy Loss = 0.5715\n",
      "Validation Accuracy = 81.76%\n",
      "\n",
      "Epoch 6/64\n",
      "======== Training phase ========\n"
     ]
    },
    {
     "name": "stderr",
     "output_type": "stream",
     "text": [
      "Loss = 0.2731  |  Accuracy = 89.27% | Batch ID = 30 : 100%|██████████| 30/30 [00:09<00:00,  3.13it/s]\n"
     ]
    },
    {
     "name": "stdout",
     "output_type": "stream",
     "text": [
      "Training Cross-Entropy Loss = 0.2862\n",
      "Training Accuracy = 89.27%\n",
      "======== Validation phase ========\n"
     ]
    },
    {
     "name": "stderr",
     "output_type": "stream",
     "text": [
      "Loss = 0.5968  |  Accuracy = 80.71% | Batch ID = 5 : 100%|██████████| 5/5 [00:00<00:00,  6.11it/s]\n"
     ]
    },
    {
     "name": "stdout",
     "output_type": "stream",
     "text": [
      "Validation Cross-Entropy Loss = 0.6089\n",
      "Validation Accuracy = 80.71%\n",
      "\n",
      "Epoch 7/64\n",
      "======== Training phase ========\n"
     ]
    },
    {
     "name": "stderr",
     "output_type": "stream",
     "text": [
      "Loss = 0.2459  |  Accuracy = 89.98% | Batch ID = 30 : 100%|██████████| 30/30 [00:09<00:00,  3.10it/s]\n"
     ]
    },
    {
     "name": "stdout",
     "output_type": "stream",
     "text": [
      "Training Cross-Entropy Loss = 0.2689\n",
      "Training Accuracy = 89.98%\n",
      "======== Validation phase ========\n"
     ]
    },
    {
     "name": "stderr",
     "output_type": "stream",
     "text": [
      "Loss = 0.3212  |  Accuracy = 87.94% | Batch ID = 5 : 100%|██████████| 5/5 [00:00<00:00,  6.14it/s]\n"
     ]
    },
    {
     "name": "stdout",
     "output_type": "stream",
     "text": [
      "Validation Cross-Entropy Loss = 0.3235\n",
      "Validation Accuracy = 87.94%\n",
      "\n",
      "Epoch 8/64\n",
      "======== Training phase ========\n"
     ]
    },
    {
     "name": "stderr",
     "output_type": "stream",
     "text": [
      "Loss = 0.2331  |  Accuracy = 90.88% | Batch ID = 30 : 100%|██████████| 30/30 [00:09<00:00,  3.13it/s]\n"
     ]
    },
    {
     "name": "stdout",
     "output_type": "stream",
     "text": [
      "Training Cross-Entropy Loss = 0.2446\n",
      "Training Accuracy = 90.88%\n",
      "======== Validation phase ========\n"
     ]
    },
    {
     "name": "stderr",
     "output_type": "stream",
     "text": [
      "Loss = 0.3553  |  Accuracy = 86.83% | Batch ID = 5 : 100%|██████████| 5/5 [00:00<00:00,  6.07it/s]\n"
     ]
    },
    {
     "name": "stdout",
     "output_type": "stream",
     "text": [
      "Validation Cross-Entropy Loss = 0.3677\n",
      "Validation Accuracy = 86.83%\n",
      "\n",
      "Epoch 9/64\n",
      "======== Training phase ========\n"
     ]
    },
    {
     "name": "stderr",
     "output_type": "stream",
     "text": [
      "Loss = 0.3383  |  Accuracy = 91.64% | Batch ID = 30 : 100%|██████████| 30/30 [00:09<00:00,  3.10it/s]\n"
     ]
    },
    {
     "name": "stdout",
     "output_type": "stream",
     "text": [
      "Training Cross-Entropy Loss = 0.2277\n",
      "Training Accuracy = 91.64%\n",
      "======== Validation phase ========\n"
     ]
    },
    {
     "name": "stderr",
     "output_type": "stream",
     "text": [
      "Loss = 0.4671  |  Accuracy = 84.90% | Batch ID = 5 : 100%|██████████| 5/5 [00:00<00:00,  6.13it/s]\n"
     ]
    },
    {
     "name": "stdout",
     "output_type": "stream",
     "text": [
      "Validation Cross-Entropy Loss = 0.4794\n",
      "Validation Accuracy = 84.90%\n",
      "\n",
      "Epoch 10/64\n",
      "======== Training phase ========\n"
     ]
    },
    {
     "name": "stderr",
     "output_type": "stream",
     "text": [
      "Loss = 0.2538  |  Accuracy = 91.60% | Batch ID = 30 : 100%|██████████| 30/30 [00:09<00:00,  3.13it/s]\n"
     ]
    },
    {
     "name": "stdout",
     "output_type": "stream",
     "text": [
      "Training Cross-Entropy Loss = 0.2239\n",
      "Training Accuracy = 91.60%\n",
      "======== Validation phase ========\n"
     ]
    },
    {
     "name": "stderr",
     "output_type": "stream",
     "text": [
      "Loss = 0.3184  |  Accuracy = 88.87% | Batch ID = 5 : 100%|██████████| 5/5 [00:00<00:00,  6.17it/s]\n"
     ]
    },
    {
     "name": "stdout",
     "output_type": "stream",
     "text": [
      "Validation Cross-Entropy Loss = 0.3184\n",
      "Validation Accuracy = 88.87%\n",
      "\n",
      "Epoch 11/64\n",
      "======== Training phase ========\n"
     ]
    },
    {
     "name": "stderr",
     "output_type": "stream",
     "text": [
      "Loss = 0.2081  |  Accuracy = 92.50% | Batch ID = 30 : 100%|██████████| 30/30 [00:09<00:00,  3.13it/s]\n"
     ]
    },
    {
     "name": "stdout",
     "output_type": "stream",
     "text": [
      "Training Cross-Entropy Loss = 0.2025\n",
      "Training Accuracy = 92.50%\n",
      "======== Validation phase ========\n"
     ]
    },
    {
     "name": "stderr",
     "output_type": "stream",
     "text": [
      "Loss = 0.3038  |  Accuracy = 88.59% | Batch ID = 5 : 100%|██████████| 5/5 [00:00<00:00,  6.08it/s]\n"
     ]
    },
    {
     "name": "stdout",
     "output_type": "stream",
     "text": [
      "Validation Cross-Entropy Loss = 0.3112\n",
      "Validation Accuracy = 88.59%\n",
      "\n",
      "Epoch 12/64\n",
      "======== Training phase ========\n"
     ]
    },
    {
     "name": "stderr",
     "output_type": "stream",
     "text": [
      "Loss = 0.1699  |  Accuracy = 92.69% | Batch ID = 30 : 100%|██████████| 30/30 [00:09<00:00,  3.10it/s]\n"
     ]
    },
    {
     "name": "stdout",
     "output_type": "stream",
     "text": [
      "Training Cross-Entropy Loss = 0.1946\n",
      "Training Accuracy = 92.69%\n",
      "======== Validation phase ========\n"
     ]
    },
    {
     "name": "stderr",
     "output_type": "stream",
     "text": [
      "Loss = 0.3404  |  Accuracy = 87.47% | Batch ID = 5 : 100%|██████████| 5/5 [00:00<00:00,  6.10it/s]\n"
     ]
    },
    {
     "name": "stdout",
     "output_type": "stream",
     "text": [
      "Validation Cross-Entropy Loss = 0.3683\n",
      "Validation Accuracy = 87.47%\n",
      "\n",
      "Epoch 13/64\n",
      "======== Training phase ========\n"
     ]
    },
    {
     "name": "stderr",
     "output_type": "stream",
     "text": [
      "Loss = 0.2355  |  Accuracy = 93.28% | Batch ID = 30 : 100%|██████████| 30/30 [00:09<00:00,  3.13it/s]\n"
     ]
    },
    {
     "name": "stdout",
     "output_type": "stream",
     "text": [
      "Training Cross-Entropy Loss = 0.1811\n",
      "Training Accuracy = 93.28%\n",
      "======== Validation phase ========\n"
     ]
    },
    {
     "name": "stderr",
     "output_type": "stream",
     "text": [
      "Loss = 0.2945  |  Accuracy = 89.29% | Batch ID = 5 : 100%|██████████| 5/5 [00:00<00:00,  6.14it/s]\n"
     ]
    },
    {
     "name": "stdout",
     "output_type": "stream",
     "text": [
      "Validation Cross-Entropy Loss = 0.3018\n",
      "Validation Accuracy = 89.29%\n",
      "\n",
      "Epoch 14/64\n",
      "======== Training phase ========\n"
     ]
    },
    {
     "name": "stderr",
     "output_type": "stream",
     "text": [
      "Loss = 0.1802  |  Accuracy = 93.21% | Batch ID = 30 : 100%|██████████| 30/30 [00:09<00:00,  3.10it/s]\n"
     ]
    },
    {
     "name": "stdout",
     "output_type": "stream",
     "text": [
      "Training Cross-Entropy Loss = 0.1789\n",
      "Training Accuracy = 93.21%\n",
      "======== Validation phase ========\n"
     ]
    },
    {
     "name": "stderr",
     "output_type": "stream",
     "text": [
      "Loss = 0.2735  |  Accuracy = 89.96% | Batch ID = 5 : 100%|██████████| 5/5 [00:00<00:00,  6.08it/s]\n"
     ]
    },
    {
     "name": "stdout",
     "output_type": "stream",
     "text": [
      "Validation Cross-Entropy Loss = 0.2817\n",
      "Validation Accuracy = 89.96%\n",
      "\n",
      "Epoch 15/64\n",
      "======== Training phase ========\n"
     ]
    },
    {
     "name": "stderr",
     "output_type": "stream",
     "text": [
      "Loss = 0.1556  |  Accuracy = 93.76% | Batch ID = 30 : 100%|██████████| 30/30 [00:09<00:00,  3.15it/s]\n"
     ]
    },
    {
     "name": "stdout",
     "output_type": "stream",
     "text": [
      "Training Cross-Entropy Loss = 0.1650\n",
      "Training Accuracy = 93.76%\n",
      "======== Validation phase ========\n"
     ]
    },
    {
     "name": "stderr",
     "output_type": "stream",
     "text": [
      "Loss = 0.3278  |  Accuracy = 88.82% | Batch ID = 5 : 100%|██████████| 5/5 [00:00<00:00,  6.17it/s]\n"
     ]
    },
    {
     "name": "stdout",
     "output_type": "stream",
     "text": [
      "Validation Cross-Entropy Loss = 0.3402\n",
      "Validation Accuracy = 88.82%\n",
      "\n",
      "Epoch 16/64\n",
      "======== Training phase ========\n"
     ]
    },
    {
     "name": "stderr",
     "output_type": "stream",
     "text": [
      "Loss = 0.2031  |  Accuracy = 94.03% | Batch ID = 30 : 100%|██████████| 30/30 [00:09<00:00,  3.14it/s]\n"
     ]
    },
    {
     "name": "stdout",
     "output_type": "stream",
     "text": [
      "Training Cross-Entropy Loss = 0.1610\n",
      "Training Accuracy = 94.03%\n",
      "======== Validation phase ========\n"
     ]
    },
    {
     "name": "stderr",
     "output_type": "stream",
     "text": [
      "Loss = 0.3093  |  Accuracy = 89.57% | Batch ID = 5 : 100%|██████████| 5/5 [00:00<00:00,  6.21it/s]\n"
     ]
    },
    {
     "name": "stdout",
     "output_type": "stream",
     "text": [
      "Validation Cross-Entropy Loss = 0.3185\n",
      "Validation Accuracy = 89.57%\n",
      "\n",
      "Epoch 17/64\n",
      "======== Training phase ========\n"
     ]
    },
    {
     "name": "stderr",
     "output_type": "stream",
     "text": [
      "Loss = 0.1484  |  Accuracy = 94.33% | Batch ID = 30 : 100%|██████████| 30/30 [00:09<00:00,  3.11it/s]\n"
     ]
    },
    {
     "name": "stdout",
     "output_type": "stream",
     "text": [
      "Training Cross-Entropy Loss = 0.1502\n",
      "Training Accuracy = 94.33%\n",
      "======== Validation phase ========\n"
     ]
    },
    {
     "name": "stderr",
     "output_type": "stream",
     "text": [
      "Loss = 0.3530  |  Accuracy = 89.05% | Batch ID = 5 : 100%|██████████| 5/5 [00:00<00:00,  6.14it/s]\n"
     ]
    },
    {
     "name": "stdout",
     "output_type": "stream",
     "text": [
      "Validation Cross-Entropy Loss = 0.3605\n",
      "Validation Accuracy = 89.05%\n",
      "\n",
      "Epoch 18/64\n",
      "======== Training phase ========\n"
     ]
    },
    {
     "name": "stderr",
     "output_type": "stream",
     "text": [
      "Loss = 0.1460  |  Accuracy = 94.67% | Batch ID = 30 : 100%|██████████| 30/30 [00:09<00:00,  3.14it/s]\n"
     ]
    },
    {
     "name": "stdout",
     "output_type": "stream",
     "text": [
      "Training Cross-Entropy Loss = 0.1426\n",
      "Training Accuracy = 94.67%\n",
      "======== Validation phase ========\n"
     ]
    },
    {
     "name": "stderr",
     "output_type": "stream",
     "text": [
      "Loss = 0.3743  |  Accuracy = 87.69% | Batch ID = 5 : 100%|██████████| 5/5 [00:00<00:00,  6.15it/s]\n"
     ]
    },
    {
     "name": "stdout",
     "output_type": "stream",
     "text": [
      "Validation Cross-Entropy Loss = 0.3907\n",
      "Validation Accuracy = 87.69%\n",
      "\n",
      "Epoch 19/64\n",
      "======== Training phase ========\n"
     ]
    },
    {
     "name": "stderr",
     "output_type": "stream",
     "text": [
      "Loss = 0.1322  |  Accuracy = 94.85% | Batch ID = 30 : 100%|██████████| 30/30 [00:09<00:00,  3.11it/s]\n"
     ]
    },
    {
     "name": "stdout",
     "output_type": "stream",
     "text": [
      "Training Cross-Entropy Loss = 0.1368\n",
      "Training Accuracy = 94.85%\n",
      "======== Validation phase ========\n"
     ]
    },
    {
     "name": "stderr",
     "output_type": "stream",
     "text": [
      "Loss = 0.3823  |  Accuracy = 87.18% | Batch ID = 5 : 100%|██████████| 5/5 [00:00<00:00,  6.09it/s]\n"
     ]
    },
    {
     "name": "stdout",
     "output_type": "stream",
     "text": [
      "Validation Cross-Entropy Loss = 0.4067\n",
      "Validation Accuracy = 87.18%\n",
      "\n",
      "Epoch 20/64\n",
      "======== Training phase ========\n"
     ]
    },
    {
     "name": "stderr",
     "output_type": "stream",
     "text": [
      "Loss = 0.1507  |  Accuracy = 95.14% | Batch ID = 30 : 100%|██████████| 30/30 [00:09<00:00,  3.14it/s]\n"
     ]
    },
    {
     "name": "stdout",
     "output_type": "stream",
     "text": [
      "Training Cross-Entropy Loss = 0.1277\n",
      "Training Accuracy = 95.14%\n",
      "======== Validation phase ========\n"
     ]
    },
    {
     "name": "stderr",
     "output_type": "stream",
     "text": [
      "Loss = 0.3973  |  Accuracy = 88.69% | Batch ID = 5 : 100%|██████████| 5/5 [00:00<00:00,  6.21it/s]\n"
     ]
    },
    {
     "name": "stdout",
     "output_type": "stream",
     "text": [
      "Validation Cross-Entropy Loss = 0.3895\n",
      "Validation Accuracy = 88.69%\n",
      "\n",
      "Epoch 21/64\n",
      "======== Training phase ========\n"
     ]
    },
    {
     "name": "stderr",
     "output_type": "stream",
     "text": [
      "Loss = 0.1388  |  Accuracy = 95.53% | Batch ID = 30 : 100%|██████████| 30/30 [00:09<00:00,  3.14it/s]\n"
     ]
    },
    {
     "name": "stdout",
     "output_type": "stream",
     "text": [
      "Training Cross-Entropy Loss = 0.1199\n",
      "Training Accuracy = 95.53%\n",
      "======== Validation phase ========\n"
     ]
    },
    {
     "name": "stderr",
     "output_type": "stream",
     "text": [
      "Loss = 0.3873  |  Accuracy = 88.06% | Batch ID = 5 : 100%|██████████| 5/5 [00:00<00:00,  6.11it/s]\n"
     ]
    },
    {
     "name": "stdout",
     "output_type": "stream",
     "text": [
      "Validation Cross-Entropy Loss = 0.4055\n",
      "Validation Accuracy = 88.06%\n",
      "\n",
      "Epoch 22/64\n",
      "======== Training phase ========\n"
     ]
    },
    {
     "name": "stderr",
     "output_type": "stream",
     "text": [
      "Loss = 0.1542  |  Accuracy = 95.29% | Batch ID = 30 : 100%|██████████| 30/30 [00:09<00:00,  3.11it/s]\n"
     ]
    },
    {
     "name": "stdout",
     "output_type": "stream",
     "text": [
      "Training Cross-Entropy Loss = 0.1223\n",
      "Training Accuracy = 95.29%\n",
      "======== Validation phase ========\n"
     ]
    },
    {
     "name": "stderr",
     "output_type": "stream",
     "text": [
      "Loss = 0.3406  |  Accuracy = 88.49% | Batch ID = 5 : 100%|██████████| 5/5 [00:00<00:00,  6.08it/s]\n"
     ]
    },
    {
     "name": "stdout",
     "output_type": "stream",
     "text": [
      "Validation Cross-Entropy Loss = 0.3821\n",
      "Validation Accuracy = 88.49%\n",
      "\n",
      "Epoch 23/64\n",
      "======== Training phase ========\n"
     ]
    },
    {
     "name": "stderr",
     "output_type": "stream",
     "text": [
      "Loss = 0.1097  |  Accuracy = 95.97% | Batch ID = 30 : 100%|██████████| 30/30 [00:09<00:00,  3.14it/s]\n"
     ]
    },
    {
     "name": "stdout",
     "output_type": "stream",
     "text": [
      "Training Cross-Entropy Loss = 0.1065\n",
      "Training Accuracy = 95.97%\n",
      "======== Validation phase ========\n"
     ]
    },
    {
     "name": "stderr",
     "output_type": "stream",
     "text": [
      "Loss = 0.3150  |  Accuracy = 90.73% | Batch ID = 5 : 100%|██████████| 5/5 [00:00<00:00,  6.18it/s]\n"
     ]
    },
    {
     "name": "stdout",
     "output_type": "stream",
     "text": [
      "Validation Cross-Entropy Loss = 0.3082\n",
      "Validation Accuracy = 90.73%\n",
      "\n",
      "Epoch 24/64\n",
      "======== Training phase ========\n"
     ]
    },
    {
     "name": "stderr",
     "output_type": "stream",
     "text": [
      "Loss = 0.1120  |  Accuracy = 96.31% | Batch ID = 30 : 100%|██████████| 30/30 [00:09<00:00,  3.11it/s]\n"
     ]
    },
    {
     "name": "stdout",
     "output_type": "stream",
     "text": [
      "Training Cross-Entropy Loss = 0.0960\n",
      "Training Accuracy = 96.31%\n",
      "======== Validation phase ========\n"
     ]
    },
    {
     "name": "stderr",
     "output_type": "stream",
     "text": [
      "Loss = 0.2849  |  Accuracy = 90.91% | Batch ID = 5 : 100%|██████████| 5/5 [00:00<00:00,  6.12it/s]\n"
     ]
    },
    {
     "name": "stdout",
     "output_type": "stream",
     "text": [
      "Validation Cross-Entropy Loss = 0.3124\n",
      "Validation Accuracy = 90.91%\n",
      "\n",
      "Epoch 25/64\n",
      "======== Training phase ========\n"
     ]
    },
    {
     "name": "stderr",
     "output_type": "stream",
     "text": [
      "Loss = 0.1810  |  Accuracy = 96.54% | Batch ID = 30 : 100%|██████████| 30/30 [00:09<00:00,  3.15it/s]\n"
     ]
    },
    {
     "name": "stdout",
     "output_type": "stream",
     "text": [
      "Training Cross-Entropy Loss = 0.0922\n",
      "Training Accuracy = 96.54%\n",
      "======== Validation phase ========\n"
     ]
    },
    {
     "name": "stderr",
     "output_type": "stream",
     "text": [
      "Loss = 0.3627  |  Accuracy = 90.13% | Batch ID = 5 : 100%|██████████| 5/5 [00:00<00:00,  6.10it/s]\n"
     ]
    },
    {
     "name": "stdout",
     "output_type": "stream",
     "text": [
      "Validation Cross-Entropy Loss = 0.3733\n",
      "Validation Accuracy = 90.13%\n",
      "\n",
      "Epoch 26/64\n",
      "======== Training phase ========\n"
     ]
    },
    {
     "name": "stderr",
     "output_type": "stream",
     "text": [
      "Loss = 0.1198  |  Accuracy = 96.34% | Batch ID = 30 : 100%|██████████| 30/30 [00:09<00:00,  3.14it/s]\n"
     ]
    },
    {
     "name": "stdout",
     "output_type": "stream",
     "text": [
      "Training Cross-Entropy Loss = 0.0960\n",
      "Training Accuracy = 96.34%\n",
      "======== Validation phase ========\n"
     ]
    },
    {
     "name": "stderr",
     "output_type": "stream",
     "text": [
      "Loss = 0.3500  |  Accuracy = 89.09% | Batch ID = 5 : 100%|██████████| 5/5 [00:00<00:00,  6.15it/s]\n"
     ]
    },
    {
     "name": "stdout",
     "output_type": "stream",
     "text": [
      "Validation Cross-Entropy Loss = 0.3825\n",
      "Validation Accuracy = 89.09%\n",
      "\n",
      "Epoch 27/64\n",
      "======== Training phase ========\n"
     ]
    },
    {
     "name": "stderr",
     "output_type": "stream",
     "text": [
      "Loss = 0.1074  |  Accuracy = 96.94% | Batch ID = 30 : 100%|██████████| 30/30 [00:09<00:00,  3.11it/s]\n"
     ]
    },
    {
     "name": "stdout",
     "output_type": "stream",
     "text": [
      "Training Cross-Entropy Loss = 0.0816\n",
      "Training Accuracy = 96.94%\n",
      "======== Validation phase ========\n"
     ]
    },
    {
     "name": "stderr",
     "output_type": "stream",
     "text": [
      "Loss = 0.3344  |  Accuracy = 89.95% | Batch ID = 5 : 100%|██████████| 5/5 [00:00<00:00,  6.15it/s]\n"
     ]
    },
    {
     "name": "stdout",
     "output_type": "stream",
     "text": [
      "Validation Cross-Entropy Loss = 0.3765\n",
      "Validation Accuracy = 89.95%\n",
      "\n",
      "Epoch 28/64\n",
      "======== Training phase ========\n"
     ]
    },
    {
     "name": "stderr",
     "output_type": "stream",
     "text": [
      "Loss = 0.0712  |  Accuracy = 97.00% | Batch ID = 30 : 100%|██████████| 30/30 [00:09<00:00,  3.13it/s]\n"
     ]
    },
    {
     "name": "stdout",
     "output_type": "stream",
     "text": [
      "Training Cross-Entropy Loss = 0.0810\n",
      "Training Accuracy = 97.00%\n",
      "======== Validation phase ========\n"
     ]
    },
    {
     "name": "stderr",
     "output_type": "stream",
     "text": [
      "Loss = 0.4046  |  Accuracy = 89.42% | Batch ID = 5 : 100%|██████████| 5/5 [00:00<00:00,  6.15it/s]\n"
     ]
    },
    {
     "name": "stdout",
     "output_type": "stream",
     "text": [
      "Validation Cross-Entropy Loss = 0.4331\n",
      "Validation Accuracy = 89.42%\n",
      "\n",
      "Epoch 29/64\n",
      "======== Training phase ========\n"
     ]
    },
    {
     "name": "stderr",
     "output_type": "stream",
     "text": [
      "Loss = 0.0958  |  Accuracy = 97.20% | Batch ID = 30 : 100%|██████████| 30/30 [00:09<00:00,  3.11it/s]\n"
     ]
    },
    {
     "name": "stdout",
     "output_type": "stream",
     "text": [
      "Training Cross-Entropy Loss = 0.0727\n",
      "Training Accuracy = 97.20%\n",
      "======== Validation phase ========\n"
     ]
    },
    {
     "name": "stderr",
     "output_type": "stream",
     "text": [
      "Loss = 0.4088  |  Accuracy = 89.21% | Batch ID = 5 : 100%|██████████| 5/5 [00:00<00:00,  6.14it/s]\n"
     ]
    },
    {
     "name": "stdout",
     "output_type": "stream",
     "text": [
      "Validation Cross-Entropy Loss = 0.4249\n",
      "Validation Accuracy = 89.21%\n",
      "\n",
      "Epoch 30/64\n",
      "======== Training phase ========\n"
     ]
    },
    {
     "name": "stderr",
     "output_type": "stream",
     "text": [
      "Loss = 0.0781  |  Accuracy = 97.56% | Batch ID = 30 : 100%|██████████| 30/30 [00:09<00:00,  3.14it/s]\n"
     ]
    },
    {
     "name": "stdout",
     "output_type": "stream",
     "text": [
      "Training Cross-Entropy Loss = 0.0657\n",
      "Training Accuracy = 97.56%\n",
      "======== Validation phase ========\n"
     ]
    },
    {
     "name": "stderr",
     "output_type": "stream",
     "text": [
      "Loss = 0.3645  |  Accuracy = 90.72% | Batch ID = 5 : 100%|██████████| 5/5 [00:00<00:00,  6.12it/s]\n"
     ]
    },
    {
     "name": "stdout",
     "output_type": "stream",
     "text": [
      "Validation Cross-Entropy Loss = 0.3764\n",
      "Validation Accuracy = 90.72%\n",
      "\n",
      "Epoch 31/64\n",
      "======== Training phase ========\n"
     ]
    },
    {
     "name": "stderr",
     "output_type": "stream",
     "text": [
      "Loss = 0.0902  |  Accuracy = 97.41% | Batch ID = 30 : 100%|██████████| 30/30 [00:09<00:00,  3.12it/s]\n"
     ]
    },
    {
     "name": "stdout",
     "output_type": "stream",
     "text": [
      "Training Cross-Entropy Loss = 0.0679\n",
      "Training Accuracy = 97.41%\n",
      "======== Validation phase ========\n"
     ]
    },
    {
     "name": "stderr",
     "output_type": "stream",
     "text": [
      "Loss = 0.3819  |  Accuracy = 90.08% | Batch ID = 5 : 100%|██████████| 5/5 [00:00<00:00,  5.84it/s]\n"
     ]
    },
    {
     "name": "stdout",
     "output_type": "stream",
     "text": [
      "Validation Cross-Entropy Loss = 0.4194\n",
      "Validation Accuracy = 90.08%\n",
      "\n",
      "Epoch 32/64\n",
      "======== Training phase ========\n"
     ]
    },
    {
     "name": "stderr",
     "output_type": "stream",
     "text": [
      "Loss = 0.0376  |  Accuracy = 97.75% | Batch ID = 30 : 100%|██████████| 30/30 [00:09<00:00,  3.07it/s]\n"
     ]
    },
    {
     "name": "stdout",
     "output_type": "stream",
     "text": [
      "Training Cross-Entropy Loss = 0.0596\n",
      "Training Accuracy = 97.75%\n",
      "======== Validation phase ========\n"
     ]
    },
    {
     "name": "stderr",
     "output_type": "stream",
     "text": [
      "Loss = 0.3773  |  Accuracy = 90.49% | Batch ID = 5 : 100%|██████████| 5/5 [00:00<00:00,  6.22it/s]\n"
     ]
    },
    {
     "name": "stdout",
     "output_type": "stream",
     "text": [
      "Validation Cross-Entropy Loss = 0.4205\n",
      "Validation Accuracy = 90.49%\n",
      "\n",
      "Epoch 33/64\n",
      "======== Training phase ========\n"
     ]
    },
    {
     "name": "stderr",
     "output_type": "stream",
     "text": [
      "Loss = 0.0628  |  Accuracy = 98.01% | Batch ID = 30 : 100%|██████████| 30/30 [00:09<00:00,  3.14it/s]\n"
     ]
    },
    {
     "name": "stdout",
     "output_type": "stream",
     "text": [
      "Training Cross-Entropy Loss = 0.0533\n",
      "Training Accuracy = 98.01%\n",
      "======== Validation phase ========\n"
     ]
    },
    {
     "name": "stderr",
     "output_type": "stream",
     "text": [
      "Loss = 0.3939  |  Accuracy = 90.36% | Batch ID = 5 : 100%|██████████| 5/5 [00:00<00:00,  6.21it/s]\n"
     ]
    },
    {
     "name": "stdout",
     "output_type": "stream",
     "text": [
      "Validation Cross-Entropy Loss = 0.4189\n",
      "Validation Accuracy = 90.36%\n",
      "\n",
      "Epoch 34/64\n",
      "======== Training phase ========\n"
     ]
    },
    {
     "name": "stderr",
     "output_type": "stream",
     "text": [
      "Loss = 0.0431  |  Accuracy = 97.99% | Batch ID = 30 : 100%|██████████| 30/30 [00:09<00:00,  3.10it/s]\n"
     ]
    },
    {
     "name": "stdout",
     "output_type": "stream",
     "text": [
      "Training Cross-Entropy Loss = 0.0520\n",
      "Training Accuracy = 97.99%\n",
      "======== Validation phase ========\n"
     ]
    },
    {
     "name": "stderr",
     "output_type": "stream",
     "text": [
      "Loss = 0.4408  |  Accuracy = 89.14% | Batch ID = 5 : 100%|██████████| 5/5 [00:00<00:00,  6.14it/s]\n"
     ]
    },
    {
     "name": "stdout",
     "output_type": "stream",
     "text": [
      "Validation Cross-Entropy Loss = 0.4921\n",
      "Validation Accuracy = 89.14%\n",
      "\n",
      "Epoch 35/64\n",
      "======== Training phase ========\n"
     ]
    },
    {
     "name": "stderr",
     "output_type": "stream",
     "text": [
      "Loss = 0.0452  |  Accuracy = 98.25% | Batch ID = 30 : 100%|██████████| 30/30 [00:09<00:00,  3.14it/s]\n"
     ]
    },
    {
     "name": "stdout",
     "output_type": "stream",
     "text": [
      "Training Cross-Entropy Loss = 0.0460\n",
      "Training Accuracy = 98.25%\n",
      "======== Validation phase ========\n"
     ]
    },
    {
     "name": "stderr",
     "output_type": "stream",
     "text": [
      "Loss = 0.4529  |  Accuracy = 89.52% | Batch ID = 5 : 100%|██████████| 5/5 [00:00<00:00,  6.13it/s]\n"
     ]
    },
    {
     "name": "stdout",
     "output_type": "stream",
     "text": [
      "Validation Cross-Entropy Loss = 0.4852\n",
      "Validation Accuracy = 89.52%\n",
      "\n",
      "Epoch 36/64\n",
      "======== Training phase ========\n"
     ]
    },
    {
     "name": "stderr",
     "output_type": "stream",
     "text": [
      "Loss = 0.0533  |  Accuracy = 98.20% | Batch ID = 30 : 100%|██████████| 30/30 [00:09<00:00,  3.14it/s]\n"
     ]
    },
    {
     "name": "stdout",
     "output_type": "stream",
     "text": [
      "Training Cross-Entropy Loss = 0.0476\n",
      "Training Accuracy = 98.20%\n",
      "======== Validation phase ========\n"
     ]
    },
    {
     "name": "stderr",
     "output_type": "stream",
     "text": [
      "Loss = 0.4018  |  Accuracy = 90.22% | Batch ID = 5 : 100%|██████████| 5/5 [00:00<00:00,  6.15it/s]\n"
     ]
    },
    {
     "name": "stdout",
     "output_type": "stream",
     "text": [
      "Validation Cross-Entropy Loss = 0.4409\n",
      "Validation Accuracy = 90.22%\n",
      "\n",
      "Epoch 37/64\n",
      "======== Training phase ========\n"
     ]
    },
    {
     "name": "stderr",
     "output_type": "stream",
     "text": [
      "Loss = 0.0532  |  Accuracy = 98.44% | Batch ID = 30 : 100%|██████████| 30/30 [00:09<00:00,  3.10it/s]\n"
     ]
    },
    {
     "name": "stdout",
     "output_type": "stream",
     "text": [
      "Training Cross-Entropy Loss = 0.0422\n",
      "Training Accuracy = 98.44%\n",
      "======== Validation phase ========\n"
     ]
    },
    {
     "name": "stderr",
     "output_type": "stream",
     "text": [
      "Loss = 0.4567  |  Accuracy = 90.35% | Batch ID = 5 : 100%|██████████| 5/5 [00:00<00:00,  6.09it/s]\n"
     ]
    },
    {
     "name": "stdout",
     "output_type": "stream",
     "text": [
      "Validation Cross-Entropy Loss = 0.4643\n",
      "Validation Accuracy = 90.35%\n",
      "\n",
      "Epoch 38/64\n",
      "======== Training phase ========\n"
     ]
    },
    {
     "name": "stderr",
     "output_type": "stream",
     "text": [
      "Loss = 0.0400  |  Accuracy = 98.61% | Batch ID = 30 : 100%|██████████| 30/30 [00:09<00:00,  3.14it/s]\n"
     ]
    },
    {
     "name": "stdout",
     "output_type": "stream",
     "text": [
      "Training Cross-Entropy Loss = 0.0387\n",
      "Training Accuracy = 98.61%\n",
      "======== Validation phase ========\n"
     ]
    },
    {
     "name": "stderr",
     "output_type": "stream",
     "text": [
      "Loss = 0.4564  |  Accuracy = 89.91% | Batch ID = 5 : 100%|██████████| 5/5 [00:00<00:00,  6.22it/s]\n"
     ]
    },
    {
     "name": "stdout",
     "output_type": "stream",
     "text": [
      "Validation Cross-Entropy Loss = 0.5037\n",
      "Validation Accuracy = 89.91%\n",
      "\n",
      "Epoch 39/64\n",
      "======== Training phase ========\n"
     ]
    },
    {
     "name": "stderr",
     "output_type": "stream",
     "text": [
      "Loss = 0.0366  |  Accuracy = 98.33% | Batch ID = 30 : 100%|██████████| 30/30 [00:09<00:00,  3.10it/s]\n"
     ]
    },
    {
     "name": "stdout",
     "output_type": "stream",
     "text": [
      "Training Cross-Entropy Loss = 0.0450\n",
      "Training Accuracy = 98.33%\n",
      "======== Validation phase ========\n"
     ]
    },
    {
     "name": "stderr",
     "output_type": "stream",
     "text": [
      "Loss = 0.4850  |  Accuracy = 89.85% | Batch ID = 5 : 100%|██████████| 5/5 [00:00<00:00,  6.08it/s]\n"
     ]
    },
    {
     "name": "stdout",
     "output_type": "stream",
     "text": [
      "Validation Cross-Entropy Loss = 0.5069\n",
      "Validation Accuracy = 89.85%\n",
      "\n",
      "Epoch 40/64\n",
      "======== Training phase ========\n"
     ]
    },
    {
     "name": "stderr",
     "output_type": "stream",
     "text": [
      "Loss = 0.0740  |  Accuracy = 98.55% | Batch ID = 30 : 100%|██████████| 30/30 [00:09<00:00,  3.13it/s]\n"
     ]
    },
    {
     "name": "stdout",
     "output_type": "stream",
     "text": [
      "Training Cross-Entropy Loss = 0.0408\n",
      "Training Accuracy = 98.55%\n",
      "======== Validation phase ========\n"
     ]
    },
    {
     "name": "stderr",
     "output_type": "stream",
     "text": [
      "Loss = 0.4864  |  Accuracy = 90.50% | Batch ID = 5 : 100%|██████████| 5/5 [00:00<00:00,  6.11it/s]\n"
     ]
    },
    {
     "name": "stdout",
     "output_type": "stream",
     "text": [
      "Validation Cross-Entropy Loss = 0.4847\n",
      "Validation Accuracy = 90.50%\n",
      "\n",
      "Epoch 41/64\n",
      "======== Training phase ========\n"
     ]
    },
    {
     "name": "stderr",
     "output_type": "stream",
     "text": [
      "Loss = 0.0317  |  Accuracy = 98.69% | Batch ID = 30 : 100%|██████████| 30/30 [00:09<00:00,  3.13it/s]\n"
     ]
    },
    {
     "name": "stdout",
     "output_type": "stream",
     "text": [
      "Training Cross-Entropy Loss = 0.0357\n",
      "Training Accuracy = 98.69%\n",
      "======== Validation phase ========\n"
     ]
    },
    {
     "name": "stderr",
     "output_type": "stream",
     "text": [
      "Loss = 0.4215  |  Accuracy = 90.59% | Batch ID = 5 : 100%|██████████| 5/5 [00:00<00:00,  6.08it/s]\n"
     ]
    },
    {
     "name": "stdout",
     "output_type": "stream",
     "text": [
      "Validation Cross-Entropy Loss = 0.4634\n",
      "Validation Accuracy = 90.59%\n",
      "\n",
      "Epoch 42/64\n",
      "======== Training phase ========\n"
     ]
    },
    {
     "name": "stderr",
     "output_type": "stream",
     "text": [
      "Loss = 0.0278  |  Accuracy = 98.77% | Batch ID = 30 : 100%|██████████| 30/30 [00:09<00:00,  3.10it/s]\n"
     ]
    },
    {
     "name": "stdout",
     "output_type": "stream",
     "text": [
      "Training Cross-Entropy Loss = 0.0327\n",
      "Training Accuracy = 98.77%\n",
      "======== Validation phase ========\n"
     ]
    },
    {
     "name": "stderr",
     "output_type": "stream",
     "text": [
      "Loss = 0.4542  |  Accuracy = 90.80% | Batch ID = 5 : 100%|██████████| 5/5 [00:00<00:00,  6.04it/s]\n"
     ]
    },
    {
     "name": "stdout",
     "output_type": "stream",
     "text": [
      "Validation Cross-Entropy Loss = 0.4814\n",
      "Validation Accuracy = 90.80%\n",
      "\n",
      "Epoch 43/64\n",
      "======== Training phase ========\n"
     ]
    },
    {
     "name": "stderr",
     "output_type": "stream",
     "text": [
      "Loss = 0.0295  |  Accuracy = 98.92% | Batch ID = 30 : 100%|██████████| 30/30 [00:09<00:00,  3.13it/s]\n"
     ]
    },
    {
     "name": "stdout",
     "output_type": "stream",
     "text": [
      "Training Cross-Entropy Loss = 0.0296\n",
      "Training Accuracy = 98.92%\n",
      "======== Validation phase ========\n"
     ]
    },
    {
     "name": "stderr",
     "output_type": "stream",
     "text": [
      "Loss = 0.5345  |  Accuracy = 90.24% | Batch ID = 5 : 100%|██████████| 5/5 [00:00<00:00,  6.19it/s]\n"
     ]
    },
    {
     "name": "stdout",
     "output_type": "stream",
     "text": [
      "Validation Cross-Entropy Loss = 0.5343\n",
      "Validation Accuracy = 90.24%\n",
      "\n",
      "Epoch 44/64\n",
      "======== Training phase ========\n"
     ]
    },
    {
     "name": "stderr",
     "output_type": "stream",
     "text": [
      "Loss = 0.0356  |  Accuracy = 98.86% | Batch ID = 30 : 100%|██████████| 30/30 [00:09<00:00,  3.11it/s]\n"
     ]
    },
    {
     "name": "stdout",
     "output_type": "stream",
     "text": [
      "Training Cross-Entropy Loss = 0.0309\n",
      "Training Accuracy = 98.86%\n",
      "======== Validation phase ========\n"
     ]
    },
    {
     "name": "stderr",
     "output_type": "stream",
     "text": [
      "Loss = 0.5321  |  Accuracy = 89.48% | Batch ID = 5 : 100%|██████████| 5/5 [00:00<00:00,  6.11it/s]\n"
     ]
    },
    {
     "name": "stdout",
     "output_type": "stream",
     "text": [
      "Validation Cross-Entropy Loss = 0.5706\n",
      "Validation Accuracy = 89.48%\n",
      "\n",
      "Epoch 45/64\n",
      "======== Training phase ========\n"
     ]
    },
    {
     "name": "stderr",
     "output_type": "stream",
     "text": [
      "Loss = 0.0278  |  Accuracy = 98.89% | Batch ID = 30 : 100%|██████████| 30/30 [00:09<00:00,  3.14it/s]\n"
     ]
    },
    {
     "name": "stdout",
     "output_type": "stream",
     "text": [
      "Training Cross-Entropy Loss = 0.0304\n",
      "Training Accuracy = 98.89%\n",
      "======== Validation phase ========\n"
     ]
    },
    {
     "name": "stderr",
     "output_type": "stream",
     "text": [
      "Loss = 0.4459  |  Accuracy = 90.73% | Batch ID = 5 : 100%|██████████| 5/5 [00:00<00:00,  6.06it/s]\n"
     ]
    },
    {
     "name": "stdout",
     "output_type": "stream",
     "text": [
      "Validation Cross-Entropy Loss = 0.4810\n",
      "Validation Accuracy = 90.73%\n",
      "\n",
      "Epoch 46/64\n",
      "======== Training phase ========\n"
     ]
    },
    {
     "name": "stderr",
     "output_type": "stream",
     "text": [
      "Loss = 0.0148  |  Accuracy = 98.91% | Batch ID = 30 : 100%|██████████| 30/30 [00:09<00:00,  3.14it/s]\n"
     ]
    },
    {
     "name": "stdout",
     "output_type": "stream",
     "text": [
      "Training Cross-Entropy Loss = 0.0291\n",
      "Training Accuracy = 98.91%\n",
      "======== Validation phase ========\n"
     ]
    },
    {
     "name": "stderr",
     "output_type": "stream",
     "text": [
      "Loss = 0.4421  |  Accuracy = 90.36% | Batch ID = 5 : 100%|██████████| 5/5 [00:00<00:00,  6.11it/s]\n"
     ]
    },
    {
     "name": "stdout",
     "output_type": "stream",
     "text": [
      "Validation Cross-Entropy Loss = 0.4952\n",
      "Validation Accuracy = 90.36%\n",
      "\n",
      "Epoch 47/64\n",
      "======== Training phase ========\n"
     ]
    },
    {
     "name": "stderr",
     "output_type": "stream",
     "text": [
      "Loss = 0.0222  |  Accuracy = 99.26% | Batch ID = 30 : 100%|██████████| 30/30 [00:09<00:00,  3.10it/s]\n"
     ]
    },
    {
     "name": "stdout",
     "output_type": "stream",
     "text": [
      "Training Cross-Entropy Loss = 0.0209\n",
      "Training Accuracy = 99.26%\n",
      "======== Validation phase ========\n"
     ]
    },
    {
     "name": "stderr",
     "output_type": "stream",
     "text": [
      "Loss = 0.4872  |  Accuracy = 90.44% | Batch ID = 5 : 100%|██████████| 5/5 [00:00<00:00,  6.09it/s]\n"
     ]
    },
    {
     "name": "stdout",
     "output_type": "stream",
     "text": [
      "Validation Cross-Entropy Loss = 0.5255\n",
      "Validation Accuracy = 90.44%\n",
      "\n",
      "Epoch 48/64\n",
      "======== Training phase ========\n"
     ]
    },
    {
     "name": "stderr",
     "output_type": "stream",
     "text": [
      "Loss = 0.0237  |  Accuracy = 99.28% | Batch ID = 30 : 100%|██████████| 30/30 [00:09<00:00,  3.13it/s]\n"
     ]
    },
    {
     "name": "stdout",
     "output_type": "stream",
     "text": [
      "Training Cross-Entropy Loss = 0.0203\n",
      "Training Accuracy = 99.28%\n",
      "======== Validation phase ========\n"
     ]
    },
    {
     "name": "stderr",
     "output_type": "stream",
     "text": [
      "Loss = 0.5004  |  Accuracy = 90.89% | Batch ID = 5 : 100%|██████████| 5/5 [00:00<00:00,  6.14it/s]\n"
     ]
    },
    {
     "name": "stdout",
     "output_type": "stream",
     "text": [
      "Validation Cross-Entropy Loss = 0.5166\n",
      "Validation Accuracy = 90.89%\n",
      "\n",
      "Epoch 49/64\n",
      "======== Training phase ========\n"
     ]
    },
    {
     "name": "stderr",
     "output_type": "stream",
     "text": [
      "Loss = 0.0278  |  Accuracy = 99.07% | Batch ID = 30 : 100%|██████████| 30/30 [00:09<00:00,  3.10it/s]\n"
     ]
    },
    {
     "name": "stdout",
     "output_type": "stream",
     "text": [
      "Training Cross-Entropy Loss = 0.0266\n",
      "Training Accuracy = 99.07%\n",
      "======== Validation phase ========\n"
     ]
    },
    {
     "name": "stderr",
     "output_type": "stream",
     "text": [
      "Loss = 0.4831  |  Accuracy = 90.76% | Batch ID = 5 : 100%|██████████| 5/5 [00:00<00:00,  6.13it/s]\n"
     ]
    },
    {
     "name": "stdout",
     "output_type": "stream",
     "text": [
      "Validation Cross-Entropy Loss = 0.4967\n",
      "Validation Accuracy = 90.76%\n",
      "\n",
      "Epoch 50/64\n",
      "======== Training phase ========\n"
     ]
    },
    {
     "name": "stderr",
     "output_type": "stream",
     "text": [
      "Loss = 0.0330  |  Accuracy = 99.21% | Batch ID = 30 : 100%|██████████| 30/30 [00:09<00:00,  3.14it/s]\n"
     ]
    },
    {
     "name": "stdout",
     "output_type": "stream",
     "text": [
      "Training Cross-Entropy Loss = 0.0218\n",
      "Training Accuracy = 99.21%\n",
      "======== Validation phase ========\n"
     ]
    },
    {
     "name": "stderr",
     "output_type": "stream",
     "text": [
      "Loss = 0.5158  |  Accuracy = 89.88% | Batch ID = 5 : 100%|██████████| 5/5 [00:00<00:00,  6.15it/s]\n"
     ]
    },
    {
     "name": "stdout",
     "output_type": "stream",
     "text": [
      "Validation Cross-Entropy Loss = 0.5758\n",
      "Validation Accuracy = 89.88%\n",
      "\n",
      "Epoch 51/64\n",
      "======== Training phase ========\n"
     ]
    },
    {
     "name": "stderr",
     "output_type": "stream",
     "text": [
      "Loss = 0.0304  |  Accuracy = 99.29% | Batch ID = 30 : 100%|██████████| 30/30 [00:09<00:00,  3.14it/s]\n"
     ]
    },
    {
     "name": "stdout",
     "output_type": "stream",
     "text": [
      "Training Cross-Entropy Loss = 0.0194\n",
      "Training Accuracy = 99.29%\n",
      "======== Validation phase ========\n"
     ]
    },
    {
     "name": "stderr",
     "output_type": "stream",
     "text": [
      "Loss = 0.4905  |  Accuracy = 90.86% | Batch ID = 5 : 100%|██████████| 5/5 [00:00<00:00,  6.14it/s]\n"
     ]
    },
    {
     "name": "stdout",
     "output_type": "stream",
     "text": [
      "Validation Cross-Entropy Loss = 0.5506\n",
      "Validation Accuracy = 90.86%\n",
      "\n",
      "Epoch 52/64\n",
      "======== Training phase ========\n"
     ]
    },
    {
     "name": "stderr",
     "output_type": "stream",
     "text": [
      "Loss = 0.0344  |  Accuracy = 99.29% | Batch ID = 30 : 100%|██████████| 30/30 [00:09<00:00,  3.10it/s]\n"
     ]
    },
    {
     "name": "stdout",
     "output_type": "stream",
     "text": [
      "Training Cross-Entropy Loss = 0.0198\n",
      "Training Accuracy = 99.29%\n",
      "======== Validation phase ========\n"
     ]
    },
    {
     "name": "stderr",
     "output_type": "stream",
     "text": [
      "Loss = 0.4890  |  Accuracy = 91.07% | Batch ID = 5 : 100%|██████████| 5/5 [00:00<00:00,  6.11it/s]\n"
     ]
    },
    {
     "name": "stdout",
     "output_type": "stream",
     "text": [
      "Validation Cross-Entropy Loss = 0.5195\n",
      "Validation Accuracy = 91.07%\n",
      "\n",
      "Epoch 53/64\n",
      "======== Training phase ========\n"
     ]
    },
    {
     "name": "stderr",
     "output_type": "stream",
     "text": [
      "Loss = 0.0358  |  Accuracy = 99.11% | Batch ID = 30 : 100%|██████████| 30/30 [00:09<00:00,  3.13it/s]\n"
     ]
    },
    {
     "name": "stdout",
     "output_type": "stream",
     "text": [
      "Training Cross-Entropy Loss = 0.0248\n",
      "Training Accuracy = 99.11%\n",
      "======== Validation phase ========\n"
     ]
    },
    {
     "name": "stderr",
     "output_type": "stream",
     "text": [
      "Loss = 0.4960  |  Accuracy = 90.67% | Batch ID = 5 : 100%|██████████| 5/5 [00:00<00:00,  6.17it/s]\n"
     ]
    },
    {
     "name": "stdout",
     "output_type": "stream",
     "text": [
      "Validation Cross-Entropy Loss = 0.5317\n",
      "Validation Accuracy = 90.67%\n",
      "\n",
      "Epoch 54/64\n",
      "======== Training phase ========\n"
     ]
    },
    {
     "name": "stderr",
     "output_type": "stream",
     "text": [
      "Loss = 0.0160  |  Accuracy = 99.05% | Batch ID = 30 : 100%|██████████| 30/30 [00:09<00:00,  3.11it/s]\n"
     ]
    },
    {
     "name": "stdout",
     "output_type": "stream",
     "text": [
      "Training Cross-Entropy Loss = 0.0273\n",
      "Training Accuracy = 99.05%\n",
      "======== Validation phase ========\n"
     ]
    },
    {
     "name": "stderr",
     "output_type": "stream",
     "text": [
      "Loss = 0.5203  |  Accuracy = 89.78% | Batch ID = 5 : 100%|██████████| 5/5 [00:00<00:00,  6.16it/s]\n"
     ]
    },
    {
     "name": "stdout",
     "output_type": "stream",
     "text": [
      "Validation Cross-Entropy Loss = 0.5481\n",
      "Validation Accuracy = 89.78%\n",
      "\n",
      "Epoch 55/64\n",
      "======== Training phase ========\n"
     ]
    },
    {
     "name": "stderr",
     "output_type": "stream",
     "text": [
      "Loss = 0.0240  |  Accuracy = 99.31% | Batch ID = 30 : 100%|██████████| 30/30 [00:09<00:00,  3.12it/s]\n"
     ]
    },
    {
     "name": "stdout",
     "output_type": "stream",
     "text": [
      "Training Cross-Entropy Loss = 0.0203\n",
      "Training Accuracy = 99.31%\n",
      "======== Validation phase ========\n"
     ]
    },
    {
     "name": "stderr",
     "output_type": "stream",
     "text": [
      "Loss = 0.4783  |  Accuracy = 90.49% | Batch ID = 5 : 100%|██████████| 5/5 [00:00<00:00,  6.07it/s]\n"
     ]
    },
    {
     "name": "stdout",
     "output_type": "stream",
     "text": [
      "Validation Cross-Entropy Loss = 0.5265\n",
      "Validation Accuracy = 90.49%\n",
      "\n",
      "Epoch 56/64\n",
      "======== Training phase ========\n"
     ]
    },
    {
     "name": "stderr",
     "output_type": "stream",
     "text": [
      "Loss = 0.0222  |  Accuracy = 99.45% | Batch ID = 30 : 100%|██████████| 30/30 [00:09<00:00,  3.14it/s]\n"
     ]
    },
    {
     "name": "stdout",
     "output_type": "stream",
     "text": [
      "Training Cross-Entropy Loss = 0.0161\n",
      "Training Accuracy = 99.45%\n",
      "======== Validation phase ========\n"
     ]
    },
    {
     "name": "stderr",
     "output_type": "stream",
     "text": [
      "Loss = 0.5051  |  Accuracy = 91.20% | Batch ID = 5 : 100%|██████████| 5/5 [00:00<00:00,  6.21it/s]\n"
     ]
    },
    {
     "name": "stdout",
     "output_type": "stream",
     "text": [
      "Validation Cross-Entropy Loss = 0.5187\n",
      "Validation Accuracy = 91.20%\n",
      "\n",
      "Epoch 57/64\n",
      "======== Training phase ========\n"
     ]
    },
    {
     "name": "stderr",
     "output_type": "stream",
     "text": [
      "Loss = 0.0155  |  Accuracy = 99.43% | Batch ID = 30 : 100%|██████████| 30/30 [00:09<00:00,  3.10it/s]\n"
     ]
    },
    {
     "name": "stdout",
     "output_type": "stream",
     "text": [
      "Training Cross-Entropy Loss = 0.0162\n",
      "Training Accuracy = 99.43%\n",
      "======== Validation phase ========\n"
     ]
    },
    {
     "name": "stderr",
     "output_type": "stream",
     "text": [
      "Loss = 0.5014  |  Accuracy = 90.85% | Batch ID = 5 : 100%|██████████| 5/5 [00:00<00:00,  6.10it/s]\n"
     ]
    },
    {
     "name": "stdout",
     "output_type": "stream",
     "text": [
      "Validation Cross-Entropy Loss = 0.5340\n",
      "Validation Accuracy = 90.85%\n",
      "\n",
      "Epoch 58/64\n",
      "======== Training phase ========\n"
     ]
    },
    {
     "name": "stderr",
     "output_type": "stream",
     "text": [
      "Loss = 0.0186  |  Accuracy = 99.63% | Batch ID = 30 : 100%|██████████| 30/30 [00:09<00:00,  3.14it/s]\n"
     ]
    },
    {
     "name": "stdout",
     "output_type": "stream",
     "text": [
      "Training Cross-Entropy Loss = 0.0117\n",
      "Training Accuracy = 99.63%\n",
      "======== Validation phase ========\n"
     ]
    },
    {
     "name": "stderr",
     "output_type": "stream",
     "text": [
      "Loss = 0.5475  |  Accuracy = 90.59% | Batch ID = 5 : 100%|██████████| 5/5 [00:00<00:00,  6.11it/s]\n"
     ]
    },
    {
     "name": "stdout",
     "output_type": "stream",
     "text": [
      "Validation Cross-Entropy Loss = 0.5730\n",
      "Validation Accuracy = 90.59%\n",
      "\n",
      "Epoch 59/64\n",
      "======== Training phase ========\n"
     ]
    },
    {
     "name": "stderr",
     "output_type": "stream",
     "text": [
      "Loss = 0.0103  |  Accuracy = 99.53% | Batch ID = 30 : 100%|██████████| 30/30 [00:09<00:00,  3.11it/s]\n"
     ]
    },
    {
     "name": "stdout",
     "output_type": "stream",
     "text": [
      "Training Cross-Entropy Loss = 0.0136\n",
      "Training Accuracy = 99.53%\n",
      "======== Validation phase ========\n"
     ]
    },
    {
     "name": "stderr",
     "output_type": "stream",
     "text": [
      "Loss = 0.5327  |  Accuracy = 91.25% | Batch ID = 5 : 100%|██████████| 5/5 [00:00<00:00,  6.13it/s]\n"
     ]
    },
    {
     "name": "stdout",
     "output_type": "stream",
     "text": [
      "Validation Cross-Entropy Loss = 0.5492\n",
      "Validation Accuracy = 91.25%\n",
      "\n",
      "Epoch 60/64\n",
      "======== Training phase ========\n"
     ]
    },
    {
     "name": "stderr",
     "output_type": "stream",
     "text": [
      "Loss = 0.0219  |  Accuracy = 99.54% | Batch ID = 30 : 100%|██████████| 30/30 [00:09<00:00,  3.14it/s]\n"
     ]
    },
    {
     "name": "stdout",
     "output_type": "stream",
     "text": [
      "Training Cross-Entropy Loss = 0.0136\n",
      "Training Accuracy = 99.54%\n",
      "======== Validation phase ========\n"
     ]
    },
    {
     "name": "stderr",
     "output_type": "stream",
     "text": [
      "Loss = 0.5580  |  Accuracy = 90.68% | Batch ID = 5 : 100%|██████████| 5/5 [00:00<00:00,  6.21it/s]\n"
     ]
    },
    {
     "name": "stdout",
     "output_type": "stream",
     "text": [
      "Validation Cross-Entropy Loss = 0.5672\n",
      "Validation Accuracy = 90.68%\n",
      "\n",
      "Epoch 61/64\n",
      "======== Training phase ========\n"
     ]
    },
    {
     "name": "stderr",
     "output_type": "stream",
     "text": [
      "Loss = 0.0278  |  Accuracy = 99.52% | Batch ID = 30 : 100%|██████████| 30/30 [00:09<00:00,  3.14it/s]\n"
     ]
    },
    {
     "name": "stdout",
     "output_type": "stream",
     "text": [
      "Training Cross-Entropy Loss = 0.0141\n",
      "Training Accuracy = 99.52%\n",
      "======== Validation phase ========\n"
     ]
    },
    {
     "name": "stderr",
     "output_type": "stream",
     "text": [
      "Loss = 0.5620  |  Accuracy = 90.58% | Batch ID = 5 : 100%|██████████| 5/5 [00:00<00:00,  6.19it/s]\n"
     ]
    },
    {
     "name": "stdout",
     "output_type": "stream",
     "text": [
      "Validation Cross-Entropy Loss = 0.5799\n",
      "Validation Accuracy = 90.58%\n",
      "\n",
      "Epoch 62/64\n",
      "======== Training phase ========\n"
     ]
    },
    {
     "name": "stderr",
     "output_type": "stream",
     "text": [
      "Loss = 0.0218  |  Accuracy = 99.21% | Batch ID = 30 : 100%|██████████| 30/30 [00:09<00:00,  3.11it/s]\n"
     ]
    },
    {
     "name": "stdout",
     "output_type": "stream",
     "text": [
      "Training Cross-Entropy Loss = 0.0224\n",
      "Training Accuracy = 99.21%\n",
      "======== Validation phase ========\n"
     ]
    },
    {
     "name": "stderr",
     "output_type": "stream",
     "text": [
      "Loss = 0.5568  |  Accuracy = 90.45% | Batch ID = 5 : 100%|██████████| 5/5 [00:00<00:00,  6.13it/s]\n"
     ]
    },
    {
     "name": "stdout",
     "output_type": "stream",
     "text": [
      "Validation Cross-Entropy Loss = 0.5799\n",
      "Validation Accuracy = 90.45%\n",
      "\n",
      "Epoch 63/64\n",
      "======== Training phase ========\n"
     ]
    },
    {
     "name": "stderr",
     "output_type": "stream",
     "text": [
      "Loss = 0.0064  |  Accuracy = 99.42% | Batch ID = 30 : 100%|██████████| 30/30 [00:09<00:00,  3.14it/s]\n"
     ]
    },
    {
     "name": "stdout",
     "output_type": "stream",
     "text": [
      "Training Cross-Entropy Loss = 0.0156\n",
      "Training Accuracy = 99.42%\n",
      "======== Validation phase ========\n"
     ]
    },
    {
     "name": "stderr",
     "output_type": "stream",
     "text": [
      "Loss = 0.5119  |  Accuracy = 90.86% | Batch ID = 5 : 100%|██████████| 5/5 [00:00<00:00,  6.16it/s]\n"
     ]
    },
    {
     "name": "stdout",
     "output_type": "stream",
     "text": [
      "Validation Cross-Entropy Loss = 0.5497\n",
      "Validation Accuracy = 90.86%\n",
      "\n",
      "Epoch 64/64\n",
      "======== Training phase ========\n"
     ]
    },
    {
     "name": "stderr",
     "output_type": "stream",
     "text": [
      "Loss = 0.0066  |  Accuracy = 99.60% | Batch ID = 30 : 100%|██████████| 30/30 [00:09<00:00,  3.10it/s]\n"
     ]
    },
    {
     "name": "stdout",
     "output_type": "stream",
     "text": [
      "Training Cross-Entropy Loss = 0.0102\n",
      "Training Accuracy = 99.60%\n",
      "======== Validation phase ========\n"
     ]
    },
    {
     "name": "stderr",
     "output_type": "stream",
     "text": [
      "Loss = 0.5551  |  Accuracy = 91.10% | Batch ID = 5 : 100%|██████████| 5/5 [00:00<00:00,  6.08it/s]\n"
     ]
    },
    {
     "name": "stdout",
     "output_type": "stream",
     "text": [
      "Validation Cross-Entropy Loss = 0.5916\n",
      "Validation Accuracy = 91.10%\n",
      "\n"
     ]
    },
    {
     "data": {
      "image/png": "[encoded data removed]",
      "text/plain": [
       "<Figure size 1000x500 with 1 Axes>"
      ]
     },
     "metadata": {},
     "output_type": "display_data"
    },
    {
     "name": "stdout",
     "output_type": "stream",
     "text": [
      "Cross-Entropy on training set:  0.0102\n",
      "Accuracy on training set:       99.60%\n",
      "\n",
      "Cross-Entropy on validation set: 0.5916\n",
      "Accuracy on validation set:      91.10%\n"
     ]
    }
   ],
   "source": [
    "# Train the network\n",
    "train_loss_hist, train_acc_hist, test_loss_hist, test_acc_hist = train(ResNet18, TrainLoader, TestLoader, optimizer, criterion, epochs = 64, device = device)"
   ]
  },
  {
   "cell_type": "markdown",
   "metadata": {},
   "source": [
    "### Exercise 1 (C) iii)"
   ]
  },
  {
   "cell_type": "code",
   "execution_count": 9,
   "metadata": {},
   "outputs": [],
   "source": [
    "# Use a ResNet-18 with pre-trained weights\n",
    "ResNet18_pretrained = resnet18(weights = ResNet18_Weights.DEFAULT)\n",
    "\n",
    "# Adapt the ResNet-18 pre-trained to the FashionMNIST dataset\n",
    "ResNet18_pretrained.conv1 = torch.nn.Conv2d(1, 64, kernel_size=7, stride=2, padding=3, bias=False)\n",
    "ResNet18_pretrained.fc = torch.nn.Linear(ResNet18_pretrained.fc.in_features, 10)"
   ]
  },
  {
   "cell_type": "code",
   "execution_count": 10,
   "metadata": {},
   "outputs": [
    {
     "name": "stdout",
     "output_type": "stream",
     "text": [
      "Device: mps\n"
     ]
    }
   ],
   "source": [
    "# Initialize the network, loss function, and optimizer\n",
    "device = set_device()\n",
    "ResNet18_pretrained = ResNet18_pretrained.to(device)\n",
    "criterion = torch.nn.CrossEntropyLoss()\n",
    "optimizer = torch.optim.Adam(ResNet18_pretrained.parameters(), lr = 0.01)"
   ]
  },
  {
   "cell_type": "code",
   "execution_count": 11,
   "metadata": {},
   "outputs": [
    {
     "name": "stdout",
     "output_type": "stream",
     "text": [
      "Epoch 1/64\n",
      "======== Training phase ========\n"
     ]
    },
    {
     "name": "stderr",
     "output_type": "stream",
     "text": [
      "Loss = 1.0555  |  Accuracy = 32.47% | Batch ID = 30 : 100%|██████████| 30/30 [00:09<00:00,  3.13it/s]\n"
     ]
    },
    {
     "name": "stdout",
     "output_type": "stream",
     "text": [
      "Training Cross-Entropy Loss = 1.8937\n",
      "Training Accuracy = 32.47%\n",
      "======== Validation phase ========\n"
     ]
    },
    {
     "name": "stderr",
     "output_type": "stream",
     "text": [
      "Loss = 7.9639  |  Accuracy = 28.45% | Batch ID = 5 : 100%|██████████| 5/5 [00:00<00:00,  6.18it/s]\n"
     ]
    },
    {
     "name": "stdout",
     "output_type": "stream",
     "text": [
      "Validation Cross-Entropy Loss = 7.9807\n",
      "Validation Accuracy = 28.45%\n",
      "\n",
      "Epoch 2/64\n",
      "======== Training phase ========\n"
     ]
    },
    {
     "name": "stderr",
     "output_type": "stream",
     "text": [
      "Loss = 0.6603  |  Accuracy = 68.92% | Batch ID = 30 : 100%|██████████| 30/30 [00:09<00:00,  3.12it/s]\n"
     ]
    },
    {
     "name": "stdout",
     "output_type": "stream",
     "text": [
      "Training Cross-Entropy Loss = 0.8098\n",
      "Training Accuracy = 68.92%\n",
      "======== Validation phase ========\n"
     ]
    },
    {
     "name": "stderr",
     "output_type": "stream",
     "text": [
      "Loss = 2.1906  |  Accuracy = 54.67% | Batch ID = 5 : 100%|██████████| 5/5 [00:00<00:00,  6.30it/s]\n"
     ]
    },
    {
     "name": "stdout",
     "output_type": "stream",
     "text": [
      "Validation Cross-Entropy Loss = 2.0304\n",
      "Validation Accuracy = 54.67%\n",
      "\n",
      "Epoch 3/64\n",
      "======== Training phase ========\n"
     ]
    },
    {
     "name": "stderr",
     "output_type": "stream",
     "text": [
      "Loss = 0.5140  |  Accuracy = 80.16% | Batch ID = 30 : 100%|██████████| 30/30 [00:09<00:00,  3.16it/s]\n"
     ]
    },
    {
     "name": "stdout",
     "output_type": "stream",
     "text": [
      "Training Cross-Entropy Loss = 0.5362\n",
      "Training Accuracy = 80.16%\n",
      "======== Validation phase ========\n"
     ]
    },
    {
     "name": "stderr",
     "output_type": "stream",
     "text": [
      "Loss = 0.6306  |  Accuracy = 76.16% | Batch ID = 5 : 100%|██████████| 5/5 [00:00<00:00,  6.29it/s]\n"
     ]
    },
    {
     "name": "stdout",
     "output_type": "stream",
     "text": [
      "Validation Cross-Entropy Loss = 0.6207\n",
      "Validation Accuracy = 76.16%\n",
      "\n",
      "Epoch 4/64\n",
      "======== Training phase ========\n"
     ]
    },
    {
     "name": "stderr",
     "output_type": "stream",
     "text": [
      "Loss = 0.4765  |  Accuracy = 83.53% | Batch ID = 30 : 100%|██████████| 30/30 [00:09<00:00,  3.12it/s]\n"
     ]
    },
    {
     "name": "stdout",
     "output_type": "stream",
     "text": [
      "Training Cross-Entropy Loss = 0.4477\n",
      "Training Accuracy = 83.53%\n",
      "======== Validation phase ========\n"
     ]
    },
    {
     "name": "stderr",
     "output_type": "stream",
     "text": [
      "Loss = 0.9933  |  Accuracy = 64.48% | Batch ID = 5 : 100%|██████████| 5/5 [00:00<00:00,  6.30it/s]\n"
     ]
    },
    {
     "name": "stdout",
     "output_type": "stream",
     "text": [
      "Validation Cross-Entropy Loss = 1.0244\n",
      "Validation Accuracy = 64.48%\n",
      "\n",
      "Epoch 5/64\n",
      "======== Training phase ========\n"
     ]
    },
    {
     "name": "stderr",
     "output_type": "stream",
     "text": [
      "Loss = 0.4394  |  Accuracy = 86.13% | Batch ID = 30 : 100%|██████████| 30/30 [00:09<00:00,  3.15it/s]\n"
     ]
    },
    {
     "name": "stdout",
     "output_type": "stream",
     "text": [
      "Training Cross-Entropy Loss = 0.3804\n",
      "Training Accuracy = 86.13%\n",
      "======== Validation phase ========\n"
     ]
    },
    {
     "name": "stderr",
     "output_type": "stream",
     "text": [
      "Loss = 0.4479  |  Accuracy = 83.49% | Batch ID = 5 : 100%|██████████| 5/5 [00:00<00:00,  6.29it/s]\n"
     ]
    },
    {
     "name": "stdout",
     "output_type": "stream",
     "text": [
      "Validation Cross-Entropy Loss = 0.4530\n",
      "Validation Accuracy = 83.49%\n",
      "\n",
      "Epoch 6/64\n",
      "======== Training phase ========\n"
     ]
    },
    {
     "name": "stderr",
     "output_type": "stream",
     "text": [
      "Loss = 0.3609  |  Accuracy = 87.45% | Batch ID = 30 : 100%|██████████| 30/30 [00:09<00:00,  3.15it/s]\n"
     ]
    },
    {
     "name": "stdout",
     "output_type": "stream",
     "text": [
      "Training Cross-Entropy Loss = 0.3416\n",
      "Training Accuracy = 87.45%\n",
      "======== Validation phase ========\n"
     ]
    },
    {
     "name": "stderr",
     "output_type": "stream",
     "text": [
      "Loss = 0.4880  |  Accuracy = 81.31% | Batch ID = 5 : 100%|██████████| 5/5 [00:00<00:00,  6.29it/s]\n"
     ]
    },
    {
     "name": "stdout",
     "output_type": "stream",
     "text": [
      "Validation Cross-Entropy Loss = 0.4916\n",
      "Validation Accuracy = 81.31%\n",
      "\n",
      "Epoch 7/64\n",
      "======== Training phase ========\n"
     ]
    },
    {
     "name": "stderr",
     "output_type": "stream",
     "text": [
      "Loss = 0.2697  |  Accuracy = 88.64% | Batch ID = 30 : 100%|██████████| 30/30 [00:09<00:00,  3.12it/s]\n"
     ]
    },
    {
     "name": "stdout",
     "output_type": "stream",
     "text": [
      "Training Cross-Entropy Loss = 0.3086\n",
      "Training Accuracy = 88.64%\n",
      "======== Validation phase ========\n"
     ]
    },
    {
     "name": "stderr",
     "output_type": "stream",
     "text": [
      "Loss = 0.3641  |  Accuracy = 86.85% | Batch ID = 5 : 100%|██████████| 5/5 [00:00<00:00,  6.29it/s]\n"
     ]
    },
    {
     "name": "stdout",
     "output_type": "stream",
     "text": [
      "Validation Cross-Entropy Loss = 0.3552\n",
      "Validation Accuracy = 86.85%\n",
      "\n",
      "Epoch 8/64\n",
      "======== Training phase ========\n"
     ]
    },
    {
     "name": "stderr",
     "output_type": "stream",
     "text": [
      "Loss = 0.2771  |  Accuracy = 89.25% | Batch ID = 30 : 100%|██████████| 30/30 [00:09<00:00,  3.15it/s]\n"
     ]
    },
    {
     "name": "stdout",
     "output_type": "stream",
     "text": [
      "Training Cross-Entropy Loss = 0.2918\n",
      "Training Accuracy = 89.25%\n",
      "======== Validation phase ========\n"
     ]
    },
    {
     "name": "stderr",
     "output_type": "stream",
     "text": [
      "Loss = 0.3419  |  Accuracy = 87.65% | Batch ID = 5 : 100%|██████████| 5/5 [00:00<00:00,  6.29it/s]\n"
     ]
    },
    {
     "name": "stdout",
     "output_type": "stream",
     "text": [
      "Validation Cross-Entropy Loss = 0.3448\n",
      "Validation Accuracy = 87.65%\n",
      "\n",
      "Epoch 9/64\n",
      "======== Training phase ========\n"
     ]
    },
    {
     "name": "stderr",
     "output_type": "stream",
     "text": [
      "Loss = 0.3013  |  Accuracy = 89.94% | Batch ID = 30 : 100%|██████████| 30/30 [00:09<00:00,  3.12it/s]\n"
     ]
    },
    {
     "name": "stdout",
     "output_type": "stream",
     "text": [
      "Training Cross-Entropy Loss = 0.2735\n",
      "Training Accuracy = 89.94%\n",
      "======== Validation phase ========\n"
     ]
    },
    {
     "name": "stderr",
     "output_type": "stream",
     "text": [
      "Loss = 0.3213  |  Accuracy = 87.94% | Batch ID = 5 : 100%|██████████| 5/5 [00:00<00:00,  6.30it/s]\n"
     ]
    },
    {
     "name": "stdout",
     "output_type": "stream",
     "text": [
      "Validation Cross-Entropy Loss = 0.3283\n",
      "Validation Accuracy = 87.94%\n",
      "\n",
      "Epoch 10/64\n",
      "======== Training phase ========\n"
     ]
    },
    {
     "name": "stderr",
     "output_type": "stream",
     "text": [
      "Loss = 0.2810  |  Accuracy = 90.35% | Batch ID = 30 : 100%|██████████| 30/30 [00:09<00:00,  3.16it/s]\n"
     ]
    },
    {
     "name": "stdout",
     "output_type": "stream",
     "text": [
      "Training Cross-Entropy Loss = 0.2600\n",
      "Training Accuracy = 90.35%\n",
      "======== Validation phase ========\n"
     ]
    },
    {
     "name": "stderr",
     "output_type": "stream",
     "text": [
      "Loss = 0.3254  |  Accuracy = 88.16% | Batch ID = 5 : 100%|██████████| 5/5 [00:00<00:00,  6.30it/s]\n"
     ]
    },
    {
     "name": "stdout",
     "output_type": "stream",
     "text": [
      "Validation Cross-Entropy Loss = 0.3247\n",
      "Validation Accuracy = 88.16%\n",
      "\n",
      "Epoch 11/64\n",
      "======== Training phase ========\n"
     ]
    },
    {
     "name": "stderr",
     "output_type": "stream",
     "text": [
      "Loss = 0.2806  |  Accuracy = 90.67% | Batch ID = 30 : 100%|██████████| 30/30 [00:09<00:00,  3.16it/s]\n"
     ]
    },
    {
     "name": "stdout",
     "output_type": "stream",
     "text": [
      "Training Cross-Entropy Loss = 0.2539\n",
      "Training Accuracy = 90.67%\n",
      "======== Validation phase ========\n"
     ]
    },
    {
     "name": "stderr",
     "output_type": "stream",
     "text": [
      "Loss = 0.3135  |  Accuracy = 88.38% | Batch ID = 5 : 100%|██████████| 5/5 [00:00<00:00,  6.29it/s]\n"
     ]
    },
    {
     "name": "stdout",
     "output_type": "stream",
     "text": [
      "Validation Cross-Entropy Loss = 0.3180\n",
      "Validation Accuracy = 88.38%\n",
      "\n",
      "Epoch 12/64\n",
      "======== Training phase ========\n"
     ]
    },
    {
     "name": "stderr",
     "output_type": "stream",
     "text": [
      "Loss = 0.1890  |  Accuracy = 91.58% | Batch ID = 30 : 100%|██████████| 30/30 [00:09<00:00,  3.12it/s]\n"
     ]
    },
    {
     "name": "stdout",
     "output_type": "stream",
     "text": [
      "Training Cross-Entropy Loss = 0.2272\n",
      "Training Accuracy = 91.58%\n",
      "======== Validation phase ========\n"
     ]
    },
    {
     "name": "stderr",
     "output_type": "stream",
     "text": [
      "Loss = 0.3284  |  Accuracy = 88.78% | Batch ID = 5 : 100%|██████████| 5/5 [00:00<00:00,  6.30it/s]\n"
     ]
    },
    {
     "name": "stdout",
     "output_type": "stream",
     "text": [
      "Validation Cross-Entropy Loss = 0.3081\n",
      "Validation Accuracy = 88.78%\n",
      "\n",
      "Epoch 13/64\n",
      "======== Training phase ========\n"
     ]
    },
    {
     "name": "stderr",
     "output_type": "stream",
     "text": [
      "Loss = 0.2449  |  Accuracy = 91.89% | Batch ID = 30 : 100%|██████████| 30/30 [00:09<00:00,  3.15it/s]\n"
     ]
    },
    {
     "name": "stdout",
     "output_type": "stream",
     "text": [
      "Training Cross-Entropy Loss = 0.2193\n",
      "Training Accuracy = 91.89%\n",
      "======== Validation phase ========\n"
     ]
    },
    {
     "name": "stderr",
     "output_type": "stream",
     "text": [
      "Loss = 0.3719  |  Accuracy = 86.71% | Batch ID = 5 : 100%|██████████| 5/5 [00:00<00:00,  6.27it/s]\n"
     ]
    },
    {
     "name": "stdout",
     "output_type": "stream",
     "text": [
      "Validation Cross-Entropy Loss = 0.3857\n",
      "Validation Accuracy = 86.71%\n",
      "\n",
      "Epoch 14/64\n",
      "======== Training phase ========\n"
     ]
    },
    {
     "name": "stderr",
     "output_type": "stream",
     "text": [
      "Loss = 0.1948  |  Accuracy = 92.31% | Batch ID = 30 : 100%|██████████| 30/30 [00:09<00:00,  3.12it/s]\n"
     ]
    },
    {
     "name": "stdout",
     "output_type": "stream",
     "text": [
      "Training Cross-Entropy Loss = 0.2063\n",
      "Training Accuracy = 92.31%\n",
      "======== Validation phase ========\n"
     ]
    },
    {
     "name": "stderr",
     "output_type": "stream",
     "text": [
      "Loss = 0.3103  |  Accuracy = 89.56% | Batch ID = 5 : 100%|██████████| 5/5 [00:00<00:00,  6.28it/s]\n"
     ]
    },
    {
     "name": "stdout",
     "output_type": "stream",
     "text": [
      "Validation Cross-Entropy Loss = 0.3005\n",
      "Validation Accuracy = 89.56%\n",
      "\n",
      "Epoch 15/64\n",
      "======== Training phase ========\n"
     ]
    },
    {
     "name": "stderr",
     "output_type": "stream",
     "text": [
      "Loss = 0.2177  |  Accuracy = 92.68% | Batch ID = 30 : 100%|██████████| 30/30 [00:09<00:00,  3.16it/s]\n"
     ]
    },
    {
     "name": "stdout",
     "output_type": "stream",
     "text": [
      "Training Cross-Entropy Loss = 0.1991\n",
      "Training Accuracy = 92.68%\n",
      "======== Validation phase ========\n"
     ]
    },
    {
     "name": "stderr",
     "output_type": "stream",
     "text": [
      "Loss = 0.3717  |  Accuracy = 87.66% | Batch ID = 5 : 100%|██████████| 5/5 [00:00<00:00,  6.31it/s]\n"
     ]
    },
    {
     "name": "stdout",
     "output_type": "stream",
     "text": [
      "Validation Cross-Entropy Loss = 0.3642\n",
      "Validation Accuracy = 87.66%\n",
      "\n",
      "Epoch 16/64\n",
      "======== Training phase ========\n"
     ]
    },
    {
     "name": "stderr",
     "output_type": "stream",
     "text": [
      "Loss = 0.2037  |  Accuracy = 92.83% | Batch ID = 30 : 100%|██████████| 30/30 [00:09<00:00,  3.16it/s]\n"
     ]
    },
    {
     "name": "stdout",
     "output_type": "stream",
     "text": [
      "Training Cross-Entropy Loss = 0.1921\n",
      "Training Accuracy = 92.83%\n",
      "======== Validation phase ========\n"
     ]
    },
    {
     "name": "stderr",
     "output_type": "stream",
     "text": [
      "Loss = 0.3209  |  Accuracy = 88.72% | Batch ID = 5 : 100%|██████████| 5/5 [00:00<00:00,  6.31it/s]\n"
     ]
    },
    {
     "name": "stdout",
     "output_type": "stream",
     "text": [
      "Validation Cross-Entropy Loss = 0.3260\n",
      "Validation Accuracy = 88.72%\n",
      "\n",
      "Epoch 17/64\n",
      "======== Training phase ========\n"
     ]
    },
    {
     "name": "stderr",
     "output_type": "stream",
     "text": [
      "Loss = 0.1814  |  Accuracy = 93.20% | Batch ID = 30 : 100%|██████████| 30/30 [00:09<00:00,  3.12it/s]\n"
     ]
    },
    {
     "name": "stdout",
     "output_type": "stream",
     "text": [
      "Training Cross-Entropy Loss = 0.1807\n",
      "Training Accuracy = 93.20%\n",
      "======== Validation phase ========\n"
     ]
    },
    {
     "name": "stderr",
     "output_type": "stream",
     "text": [
      "Loss = 0.3717  |  Accuracy = 88.04% | Batch ID = 5 : 100%|██████████| 5/5 [00:00<00:00,  6.31it/s]\n"
     ]
    },
    {
     "name": "stdout",
     "output_type": "stream",
     "text": [
      "Validation Cross-Entropy Loss = 0.3702\n",
      "Validation Accuracy = 88.04%\n",
      "\n",
      "Epoch 18/64\n",
      "======== Training phase ========\n"
     ]
    },
    {
     "name": "stderr",
     "output_type": "stream",
     "text": [
      "Loss = 0.1882  |  Accuracy = 93.65% | Batch ID = 30 : 100%|██████████| 30/30 [00:09<00:00,  3.16it/s]\n"
     ]
    },
    {
     "name": "stdout",
     "output_type": "stream",
     "text": [
      "Training Cross-Entropy Loss = 0.1723\n",
      "Training Accuracy = 93.65%\n",
      "======== Validation phase ========\n"
     ]
    },
    {
     "name": "stderr",
     "output_type": "stream",
     "text": [
      "Loss = 0.2844  |  Accuracy = 90.35% | Batch ID = 5 : 100%|██████████| 5/5 [00:00<00:00,  6.17it/s]\n"
     ]
    },
    {
     "name": "stdout",
     "output_type": "stream",
     "text": [
      "Validation Cross-Entropy Loss = 0.2882\n",
      "Validation Accuracy = 90.35%\n",
      "\n",
      "Epoch 19/64\n",
      "======== Training phase ========\n"
     ]
    },
    {
     "name": "stderr",
     "output_type": "stream",
     "text": [
      "Loss = 0.1466  |  Accuracy = 93.88% | Batch ID = 30 : 100%|██████████| 30/30 [00:09<00:00,  3.15it/s]\n"
     ]
    },
    {
     "name": "stdout",
     "output_type": "stream",
     "text": [
      "Training Cross-Entropy Loss = 0.1628\n",
      "Training Accuracy = 93.88%\n",
      "======== Validation phase ========\n"
     ]
    },
    {
     "name": "stderr",
     "output_type": "stream",
     "text": [
      "Loss = 0.3269  |  Accuracy = 89.75% | Batch ID = 5 : 100%|██████████| 5/5 [00:00<00:00,  5.53it/s]\n"
     ]
    },
    {
     "name": "stdout",
     "output_type": "stream",
     "text": [
      "Validation Cross-Entropy Loss = 0.3106\n",
      "Validation Accuracy = 89.75%\n",
      "\n",
      "Epoch 20/64\n",
      "======== Training phase ========\n"
     ]
    },
    {
     "name": "stderr",
     "output_type": "stream",
     "text": [
      "Loss = 0.1733  |  Accuracy = 94.38% | Batch ID = 30 : 100%|██████████| 30/30 [00:09<00:00,  3.16it/s]\n"
     ]
    },
    {
     "name": "stdout",
     "output_type": "stream",
     "text": [
      "Training Cross-Entropy Loss = 0.1504\n",
      "Training Accuracy = 94.38%\n",
      "======== Validation phase ========\n"
     ]
    },
    {
     "name": "stderr",
     "output_type": "stream",
     "text": [
      "Loss = 0.3223  |  Accuracy = 89.13% | Batch ID = 5 : 100%|██████████| 5/5 [00:00<00:00,  6.30it/s]\n"
     ]
    },
    {
     "name": "stdout",
     "output_type": "stream",
     "text": [
      "Validation Cross-Entropy Loss = 0.3221\n",
      "Validation Accuracy = 89.13%\n",
      "\n",
      "Epoch 21/64\n",
      "======== Training phase ========\n"
     ]
    },
    {
     "name": "stderr",
     "output_type": "stream",
     "text": [
      "Loss = 0.1760  |  Accuracy = 94.18% | Batch ID = 30 : 100%|██████████| 30/30 [00:09<00:00,  3.15it/s]\n"
     ]
    },
    {
     "name": "stdout",
     "output_type": "stream",
     "text": [
      "Training Cross-Entropy Loss = 0.1530\n",
      "Training Accuracy = 94.18%\n",
      "======== Validation phase ========\n"
     ]
    },
    {
     "name": "stderr",
     "output_type": "stream",
     "text": [
      "Loss = 0.2933  |  Accuracy = 90.02% | Batch ID = 5 : 100%|██████████| 5/5 [00:00<00:00,  6.30it/s]\n"
     ]
    },
    {
     "name": "stdout",
     "output_type": "stream",
     "text": [
      "Validation Cross-Entropy Loss = 0.2907\n",
      "Validation Accuracy = 90.02%\n",
      "\n",
      "Epoch 22/64\n",
      "======== Training phase ========\n"
     ]
    },
    {
     "name": "stderr",
     "output_type": "stream",
     "text": [
      "Loss = 0.1213  |  Accuracy = 94.82% | Batch ID = 30 : 100%|██████████| 30/30 [00:09<00:00,  3.12it/s]\n"
     ]
    },
    {
     "name": "stdout",
     "output_type": "stream",
     "text": [
      "Training Cross-Entropy Loss = 0.1370\n",
      "Training Accuracy = 94.82%\n",
      "======== Validation phase ========\n"
     ]
    },
    {
     "name": "stderr",
     "output_type": "stream",
     "text": [
      "Loss = 0.3423  |  Accuracy = 88.83% | Batch ID = 5 : 100%|██████████| 5/5 [00:00<00:00,  6.29it/s]\n"
     ]
    },
    {
     "name": "stdout",
     "output_type": "stream",
     "text": [
      "Validation Cross-Entropy Loss = 0.3481\n",
      "Validation Accuracy = 88.83%\n",
      "\n",
      "Epoch 23/64\n",
      "======== Training phase ========\n"
     ]
    },
    {
     "name": "stderr",
     "output_type": "stream",
     "text": [
      "Loss = 0.1598  |  Accuracy = 94.80% | Batch ID = 30 : 100%|██████████| 30/30 [00:09<00:00,  3.16it/s]\n"
     ]
    },
    {
     "name": "stdout",
     "output_type": "stream",
     "text": [
      "Training Cross-Entropy Loss = 0.1374\n",
      "Training Accuracy = 94.80%\n",
      "======== Validation phase ========\n"
     ]
    },
    {
     "name": "stderr",
     "output_type": "stream",
     "text": [
      "Loss = 0.3244  |  Accuracy = 89.63% | Batch ID = 5 : 100%|██████████| 5/5 [00:00<00:00,  6.28it/s]\n"
     ]
    },
    {
     "name": "stdout",
     "output_type": "stream",
     "text": [
      "Validation Cross-Entropy Loss = 0.3145\n",
      "Validation Accuracy = 89.63%\n",
      "\n",
      "Epoch 24/64\n",
      "======== Training phase ========\n"
     ]
    },
    {
     "name": "stderr",
     "output_type": "stream",
     "text": [
      "Loss = 0.1228  |  Accuracy = 95.14% | Batch ID = 30 : 100%|██████████| 30/30 [00:09<00:00,  3.15it/s]\n"
     ]
    },
    {
     "name": "stdout",
     "output_type": "stream",
     "text": [
      "Training Cross-Entropy Loss = 0.1306\n",
      "Training Accuracy = 95.14%\n",
      "======== Validation phase ========\n"
     ]
    },
    {
     "name": "stderr",
     "output_type": "stream",
     "text": [
      "Loss = 0.2958  |  Accuracy = 90.49% | Batch ID = 5 : 100%|██████████| 5/5 [00:00<00:00,  6.30it/s]\n"
     ]
    },
    {
     "name": "stdout",
     "output_type": "stream",
     "text": [
      "Validation Cross-Entropy Loss = 0.2897\n",
      "Validation Accuracy = 90.49%\n",
      "\n",
      "Epoch 25/64\n",
      "======== Training phase ========\n"
     ]
    },
    {
     "name": "stderr",
     "output_type": "stream",
     "text": [
      "Loss = 0.1149  |  Accuracy = 95.89% | Batch ID = 30 : 100%|██████████| 30/30 [00:09<00:00,  3.12it/s]\n"
     ]
    },
    {
     "name": "stdout",
     "output_type": "stream",
     "text": [
      "Training Cross-Entropy Loss = 0.1097\n",
      "Training Accuracy = 95.89%\n",
      "======== Validation phase ========\n"
     ]
    },
    {
     "name": "stderr",
     "output_type": "stream",
     "text": [
      "Loss = 0.3286  |  Accuracy = 90.39% | Batch ID = 5 : 100%|██████████| 5/5 [00:00<00:00,  6.30it/s]\n"
     ]
    },
    {
     "name": "stdout",
     "output_type": "stream",
     "text": [
      "Validation Cross-Entropy Loss = 0.3161\n",
      "Validation Accuracy = 90.39%\n",
      "\n",
      "Epoch 26/64\n",
      "======== Training phase ========\n"
     ]
    },
    {
     "name": "stderr",
     "output_type": "stream",
     "text": [
      "Loss = 0.1231  |  Accuracy = 96.15% | Batch ID = 30 : 100%|██████████| 30/30 [00:09<00:00,  3.16it/s]\n"
     ]
    },
    {
     "name": "stdout",
     "output_type": "stream",
     "text": [
      "Training Cross-Entropy Loss = 0.1043\n",
      "Training Accuracy = 96.15%\n",
      "======== Validation phase ========\n"
     ]
    },
    {
     "name": "stderr",
     "output_type": "stream",
     "text": [
      "Loss = 0.3343  |  Accuracy = 90.91% | Batch ID = 5 : 100%|██████████| 5/5 [00:00<00:00,  6.31it/s]\n"
     ]
    },
    {
     "name": "stdout",
     "output_type": "stream",
     "text": [
      "Validation Cross-Entropy Loss = 0.3276\n",
      "Validation Accuracy = 90.91%\n",
      "\n",
      "Epoch 27/64\n",
      "======== Training phase ========\n"
     ]
    },
    {
     "name": "stderr",
     "output_type": "stream",
     "text": [
      "Loss = 0.1478  |  Accuracy = 96.25% | Batch ID = 30 : 100%|██████████| 30/30 [00:09<00:00,  3.12it/s]\n"
     ]
    },
    {
     "name": "stdout",
     "output_type": "stream",
     "text": [
      "Training Cross-Entropy Loss = 0.1038\n",
      "Training Accuracy = 96.25%\n",
      "======== Validation phase ========\n"
     ]
    },
    {
     "name": "stderr",
     "output_type": "stream",
     "text": [
      "Loss = 0.6333  |  Accuracy = 84.47% | Batch ID = 5 : 100%|██████████| 5/5 [00:00<00:00,  6.30it/s]\n"
     ]
    },
    {
     "name": "stdout",
     "output_type": "stream",
     "text": [
      "Validation Cross-Entropy Loss = 0.6042\n",
      "Validation Accuracy = 84.47%\n",
      "\n",
      "Epoch 28/64\n",
      "======== Training phase ========\n"
     ]
    },
    {
     "name": "stderr",
     "output_type": "stream",
     "text": [
      "Loss = 0.1053  |  Accuracy = 95.87% | Batch ID = 30 : 100%|██████████| 30/30 [00:09<00:00,  3.15it/s]\n"
     ]
    },
    {
     "name": "stdout",
     "output_type": "stream",
     "text": [
      "Training Cross-Entropy Loss = 0.1103\n",
      "Training Accuracy = 95.87%\n",
      "======== Validation phase ========\n"
     ]
    },
    {
     "name": "stderr",
     "output_type": "stream",
     "text": [
      "Loss = 0.3717  |  Accuracy = 88.17% | Batch ID = 5 : 100%|██████████| 5/5 [00:00<00:00,  6.30it/s]\n"
     ]
    },
    {
     "name": "stdout",
     "output_type": "stream",
     "text": [
      "Validation Cross-Entropy Loss = 0.3922\n",
      "Validation Accuracy = 88.17%\n",
      "\n",
      "Epoch 29/64\n",
      "======== Training phase ========\n"
     ]
    },
    {
     "name": "stderr",
     "output_type": "stream",
     "text": [
      "Loss = 0.1431  |  Accuracy = 96.11% | Batch ID = 30 : 100%|██████████| 30/30 [00:09<00:00,  3.13it/s]\n"
     ]
    },
    {
     "name": "stdout",
     "output_type": "stream",
     "text": [
      "Training Cross-Entropy Loss = 0.1042\n",
      "Training Accuracy = 96.11%\n",
      "======== Validation phase ========\n"
     ]
    },
    {
     "name": "stderr",
     "output_type": "stream",
     "text": [
      "Loss = 0.3546  |  Accuracy = 90.24% | Batch ID = 5 : 100%|██████████| 5/5 [00:00<00:00,  6.29it/s]\n"
     ]
    },
    {
     "name": "stdout",
     "output_type": "stream",
     "text": [
      "Validation Cross-Entropy Loss = 0.3314\n",
      "Validation Accuracy = 90.24%\n",
      "\n",
      "Epoch 30/64\n",
      "======== Training phase ========\n"
     ]
    },
    {
     "name": "stderr",
     "output_type": "stream",
     "text": [
      "Loss = 0.1097  |  Accuracy = 97.10% | Batch ID = 30 : 100%|██████████| 30/30 [00:09<00:00,  3.16it/s]\n"
     ]
    },
    {
     "name": "stdout",
     "output_type": "stream",
     "text": [
      "Training Cross-Entropy Loss = 0.0810\n",
      "Training Accuracy = 97.10%\n",
      "======== Validation phase ========\n"
     ]
    },
    {
     "name": "stderr",
     "output_type": "stream",
     "text": [
      "Loss = 0.3187  |  Accuracy = 90.72% | Batch ID = 5 : 100%|██████████| 5/5 [00:00<00:00,  6.31it/s]\n"
     ]
    },
    {
     "name": "stdout",
     "output_type": "stream",
     "text": [
      "Validation Cross-Entropy Loss = 0.3201\n",
      "Validation Accuracy = 90.72%\n",
      "\n",
      "Epoch 31/64\n",
      "======== Training phase ========\n"
     ]
    },
    {
     "name": "stderr",
     "output_type": "stream",
     "text": [
      "Loss = 0.0929  |  Accuracy = 97.16% | Batch ID = 30 : 100%|██████████| 30/30 [00:09<00:00,  3.12it/s]\n"
     ]
    },
    {
     "name": "stdout",
     "output_type": "stream",
     "text": [
      "Training Cross-Entropy Loss = 0.0767\n",
      "Training Accuracy = 97.16%\n",
      "======== Validation phase ========\n"
     ]
    },
    {
     "name": "stderr",
     "output_type": "stream",
     "text": [
      "Loss = 0.3541  |  Accuracy = 90.78% | Batch ID = 5 : 100%|██████████| 5/5 [00:00<00:00,  6.31it/s]\n"
     ]
    },
    {
     "name": "stdout",
     "output_type": "stream",
     "text": [
      "Validation Cross-Entropy Loss = 0.3396\n",
      "Validation Accuracy = 90.78%\n",
      "\n",
      "Epoch 32/64\n",
      "======== Training phase ========\n"
     ]
    },
    {
     "name": "stderr",
     "output_type": "stream",
     "text": [
      "Loss = 0.0902  |  Accuracy = 97.44% | Batch ID = 30 : 100%|██████████| 30/30 [00:09<00:00,  3.16it/s]\n"
     ]
    },
    {
     "name": "stdout",
     "output_type": "stream",
     "text": [
      "Training Cross-Entropy Loss = 0.0695\n",
      "Training Accuracy = 97.44%\n",
      "======== Validation phase ========\n"
     ]
    },
    {
     "name": "stderr",
     "output_type": "stream",
     "text": [
      "Loss = 0.4099  |  Accuracy = 89.70% | Batch ID = 5 : 100%|██████████| 5/5 [00:00<00:00,  6.29it/s]\n"
     ]
    },
    {
     "name": "stdout",
     "output_type": "stream",
     "text": [
      "Validation Cross-Entropy Loss = 0.3963\n",
      "Validation Accuracy = 89.70%\n",
      "\n",
      "Epoch 33/64\n",
      "======== Training phase ========\n"
     ]
    },
    {
     "name": "stderr",
     "output_type": "stream",
     "text": [
      "Loss = 0.0662  |  Accuracy = 97.64% | Batch ID = 30 : 100%|██████████| 30/30 [00:09<00:00,  3.16it/s]\n"
     ]
    },
    {
     "name": "stdout",
     "output_type": "stream",
     "text": [
      "Training Cross-Entropy Loss = 0.0652\n",
      "Training Accuracy = 97.64%\n",
      "======== Validation phase ========\n"
     ]
    },
    {
     "name": "stderr",
     "output_type": "stream",
     "text": [
      "Loss = 0.3924  |  Accuracy = 90.60% | Batch ID = 5 : 100%|██████████| 5/5 [00:00<00:00,  6.30it/s]\n"
     ]
    },
    {
     "name": "stdout",
     "output_type": "stream",
     "text": [
      "Validation Cross-Entropy Loss = 0.3731\n",
      "Validation Accuracy = 90.60%\n",
      "\n",
      "Epoch 34/64\n",
      "======== Training phase ========\n"
     ]
    },
    {
     "name": "stderr",
     "output_type": "stream",
     "text": [
      "Loss = 0.0780  |  Accuracy = 97.58% | Batch ID = 30 : 100%|██████████| 30/30 [00:09<00:00,  3.12it/s]\n"
     ]
    },
    {
     "name": "stdout",
     "output_type": "stream",
     "text": [
      "Training Cross-Entropy Loss = 0.0644\n",
      "Training Accuracy = 97.58%\n",
      "======== Validation phase ========\n"
     ]
    },
    {
     "name": "stderr",
     "output_type": "stream",
     "text": [
      "Loss = 0.3642  |  Accuracy = 90.86% | Batch ID = 5 : 100%|██████████| 5/5 [00:00<00:00,  6.30it/s]\n"
     ]
    },
    {
     "name": "stdout",
     "output_type": "stream",
     "text": [
      "Validation Cross-Entropy Loss = 0.3827\n",
      "Validation Accuracy = 90.86%\n",
      "\n",
      "Epoch 35/64\n",
      "======== Training phase ========\n"
     ]
    },
    {
     "name": "stderr",
     "output_type": "stream",
     "text": [
      "Loss = 0.0466  |  Accuracy = 98.06% | Batch ID = 30 : 100%|██████████| 30/30 [00:09<00:00,  3.16it/s]\n"
     ]
    },
    {
     "name": "stdout",
     "output_type": "stream",
     "text": [
      "Training Cross-Entropy Loss = 0.0535\n",
      "Training Accuracy = 98.06%\n",
      "======== Validation phase ========\n"
     ]
    },
    {
     "name": "stderr",
     "output_type": "stream",
     "text": [
      "Loss = 0.4910  |  Accuracy = 90.28% | Batch ID = 5 : 100%|██████████| 5/5 [00:00<00:00,  6.28it/s]\n"
     ]
    },
    {
     "name": "stdout",
     "output_type": "stream",
     "text": [
      "Validation Cross-Entropy Loss = 0.4325\n",
      "Validation Accuracy = 90.28%\n",
      "\n",
      "Epoch 36/64\n",
      "======== Training phase ========\n"
     ]
    },
    {
     "name": "stderr",
     "output_type": "stream",
     "text": [
      "Loss = 0.0549  |  Accuracy = 97.74% | Batch ID = 30 : 100%|██████████| 30/30 [00:09<00:00,  3.13it/s]\n"
     ]
    },
    {
     "name": "stdout",
     "output_type": "stream",
     "text": [
      "Training Cross-Entropy Loss = 0.0604\n",
      "Training Accuracy = 97.74%\n",
      "======== Validation phase ========\n"
     ]
    },
    {
     "name": "stderr",
     "output_type": "stream",
     "text": [
      "Loss = 0.4581  |  Accuracy = 89.91% | Batch ID = 5 : 100%|██████████| 5/5 [00:00<00:00,  6.28it/s]\n"
     ]
    },
    {
     "name": "stdout",
     "output_type": "stream",
     "text": [
      "Validation Cross-Entropy Loss = 0.4081\n",
      "Validation Accuracy = 89.91%\n",
      "\n",
      "Epoch 37/64\n",
      "======== Training phase ========\n"
     ]
    },
    {
     "name": "stderr",
     "output_type": "stream",
     "text": [
      "Loss = 0.0616  |  Accuracy = 98.25% | Batch ID = 30 : 100%|██████████| 30/30 [00:09<00:00,  3.15it/s]\n"
     ]
    },
    {
     "name": "stdout",
     "output_type": "stream",
     "text": [
      "Training Cross-Entropy Loss = 0.0484\n",
      "Training Accuracy = 98.25%\n",
      "======== Validation phase ========\n"
     ]
    },
    {
     "name": "stderr",
     "output_type": "stream",
     "text": [
      "Loss = 0.4471  |  Accuracy = 89.84% | Batch ID = 5 : 100%|██████████| 5/5 [00:00<00:00,  6.29it/s]\n"
     ]
    },
    {
     "name": "stdout",
     "output_type": "stream",
     "text": [
      "Validation Cross-Entropy Loss = 0.4251\n",
      "Validation Accuracy = 89.84%\n",
      "\n",
      "Epoch 38/64\n",
      "======== Training phase ========\n"
     ]
    },
    {
     "name": "stderr",
     "output_type": "stream",
     "text": [
      "Loss = 0.0625  |  Accuracy = 98.20% | Batch ID = 30 : 100%|██████████| 30/30 [00:09<00:00,  3.12it/s]\n"
     ]
    },
    {
     "name": "stdout",
     "output_type": "stream",
     "text": [
      "Training Cross-Entropy Loss = 0.0499\n",
      "Training Accuracy = 98.20%\n",
      "======== Validation phase ========\n"
     ]
    },
    {
     "name": "stderr",
     "output_type": "stream",
     "text": [
      "Loss = 0.4376  |  Accuracy = 90.48% | Batch ID = 5 : 100%|██████████| 5/5 [00:00<00:00,  6.30it/s]\n"
     ]
    },
    {
     "name": "stdout",
     "output_type": "stream",
     "text": [
      "Validation Cross-Entropy Loss = 0.4090\n",
      "Validation Accuracy = 90.48%\n",
      "\n",
      "Epoch 39/64\n",
      "======== Training phase ========\n"
     ]
    },
    {
     "name": "stderr",
     "output_type": "stream",
     "text": [
      "Loss = 0.0631  |  Accuracy = 98.38% | Batch ID = 30 : 100%|██████████| 30/30 [00:09<00:00,  3.16it/s]\n"
     ]
    },
    {
     "name": "stdout",
     "output_type": "stream",
     "text": [
      "Training Cross-Entropy Loss = 0.0454\n",
      "Training Accuracy = 98.38%\n",
      "======== Validation phase ========\n"
     ]
    },
    {
     "name": "stderr",
     "output_type": "stream",
     "text": [
      "Loss = 0.4484  |  Accuracy = 90.38% | Batch ID = 5 : 100%|██████████| 5/5 [00:00<00:00,  6.30it/s]\n"
     ]
    },
    {
     "name": "stdout",
     "output_type": "stream",
     "text": [
      "Validation Cross-Entropy Loss = 0.4288\n",
      "Validation Accuracy = 90.38%\n",
      "\n",
      "Epoch 40/64\n",
      "======== Training phase ========\n"
     ]
    },
    {
     "name": "stderr",
     "output_type": "stream",
     "text": [
      "Loss = 0.0636  |  Accuracy = 98.36% | Batch ID = 30 : 100%|██████████| 30/30 [00:09<00:00,  3.12it/s]\n"
     ]
    },
    {
     "name": "stdout",
     "output_type": "stream",
     "text": [
      "Training Cross-Entropy Loss = 0.0447\n",
      "Training Accuracy = 98.36%\n",
      "======== Validation phase ========\n"
     ]
    },
    {
     "name": "stderr",
     "output_type": "stream",
     "text": [
      "Loss = 0.4965  |  Accuracy = 89.49% | Batch ID = 5 : 100%|██████████| 5/5 [00:00<00:00,  6.29it/s]\n"
     ]
    },
    {
     "name": "stdout",
     "output_type": "stream",
     "text": [
      "Validation Cross-Entropy Loss = 0.5028\n",
      "Validation Accuracy = 89.49%\n",
      "\n",
      "Epoch 41/64\n",
      "======== Training phase ========\n"
     ]
    },
    {
     "name": "stderr",
     "output_type": "stream",
     "text": [
      "Loss = 0.0234  |  Accuracy = 98.19% | Batch ID = 30 : 100%|██████████| 30/30 [00:09<00:00,  3.16it/s]\n"
     ]
    },
    {
     "name": "stdout",
     "output_type": "stream",
     "text": [
      "Training Cross-Entropy Loss = 0.0476\n",
      "Training Accuracy = 98.19%\n",
      "======== Validation phase ========\n"
     ]
    },
    {
     "name": "stderr",
     "output_type": "stream",
     "text": [
      "Loss = 0.4352  |  Accuracy = 90.85% | Batch ID = 5 : 100%|██████████| 5/5 [00:00<00:00,  6.30it/s]\n"
     ]
    },
    {
     "name": "stdout",
     "output_type": "stream",
     "text": [
      "Validation Cross-Entropy Loss = 0.4254\n",
      "Validation Accuracy = 90.85%\n",
      "\n",
      "Epoch 42/64\n",
      "======== Training phase ========\n"
     ]
    },
    {
     "name": "stderr",
     "output_type": "stream",
     "text": [
      "Loss = 0.0584  |  Accuracy = 98.64% | Batch ID = 30 : 100%|██████████| 30/30 [00:09<00:00,  3.16it/s]\n"
     ]
    },
    {
     "name": "stdout",
     "output_type": "stream",
     "text": [
      "Training Cross-Entropy Loss = 0.0391\n",
      "Training Accuracy = 98.64%\n",
      "======== Validation phase ========\n"
     ]
    },
    {
     "name": "stderr",
     "output_type": "stream",
     "text": [
      "Loss = 0.4181  |  Accuracy = 90.83% | Batch ID = 5 : 100%|██████████| 5/5 [00:00<00:00,  6.31it/s]\n"
     ]
    },
    {
     "name": "stdout",
     "output_type": "stream",
     "text": [
      "Validation Cross-Entropy Loss = 0.4083\n",
      "Validation Accuracy = 90.83%\n",
      "\n",
      "Epoch 43/64\n",
      "======== Training phase ========\n"
     ]
    },
    {
     "name": "stderr",
     "output_type": "stream",
     "text": [
      "Loss = 0.0345  |  Accuracy = 98.92% | Batch ID = 30 : 100%|██████████| 30/30 [00:09<00:00,  3.12it/s]\n"
     ]
    },
    {
     "name": "stdout",
     "output_type": "stream",
     "text": [
      "Training Cross-Entropy Loss = 0.0299\n",
      "Training Accuracy = 98.92%\n",
      "======== Validation phase ========\n"
     ]
    },
    {
     "name": "stderr",
     "output_type": "stream",
     "text": [
      "Loss = 0.5384  |  Accuracy = 89.91% | Batch ID = 5 : 100%|██████████| 5/5 [00:00<00:00,  6.30it/s]\n"
     ]
    },
    {
     "name": "stdout",
     "output_type": "stream",
     "text": [
      "Validation Cross-Entropy Loss = 0.4999\n",
      "Validation Accuracy = 89.91%\n",
      "\n",
      "Epoch 44/64\n",
      "======== Training phase ========\n"
     ]
    },
    {
     "name": "stderr",
     "output_type": "stream",
     "text": [
      "Loss = 0.0380  |  Accuracy = 98.81% | Batch ID = 30 : 100%|██████████| 30/30 [00:09<00:00,  3.15it/s]\n"
     ]
    },
    {
     "name": "stdout",
     "output_type": "stream",
     "text": [
      "Training Cross-Entropy Loss = 0.0323\n",
      "Training Accuracy = 98.81%\n",
      "======== Validation phase ========\n"
     ]
    },
    {
     "name": "stderr",
     "output_type": "stream",
     "text": [
      "Loss = 0.4733  |  Accuracy = 89.95% | Batch ID = 5 : 100%|██████████| 5/5 [00:00<00:00,  6.31it/s]\n"
     ]
    },
    {
     "name": "stdout",
     "output_type": "stream",
     "text": [
      "Validation Cross-Entropy Loss = 0.4786\n",
      "Validation Accuracy = 89.95%\n",
      "\n",
      "Epoch 45/64\n",
      "======== Training phase ========\n"
     ]
    },
    {
     "name": "stderr",
     "output_type": "stream",
     "text": [
      "Loss = 0.0550  |  Accuracy = 98.80% | Batch ID = 30 : 100%|██████████| 30/30 [00:09<00:00,  3.13it/s]\n"
     ]
    },
    {
     "name": "stdout",
     "output_type": "stream",
     "text": [
      "Training Cross-Entropy Loss = 0.0330\n",
      "Training Accuracy = 98.80%\n",
      "======== Validation phase ========\n"
     ]
    },
    {
     "name": "stderr",
     "output_type": "stream",
     "text": [
      "Loss = 0.4900  |  Accuracy = 90.69% | Batch ID = 5 : 100%|██████████| 5/5 [00:00<00:00,  6.31it/s]\n"
     ]
    },
    {
     "name": "stdout",
     "output_type": "stream",
     "text": [
      "Validation Cross-Entropy Loss = 0.4907\n",
      "Validation Accuracy = 90.69%\n",
      "\n",
      "Epoch 46/64\n",
      "======== Training phase ========\n"
     ]
    },
    {
     "name": "stderr",
     "output_type": "stream",
     "text": [
      "Loss = 0.0351  |  Accuracy = 98.77% | Batch ID = 30 : 100%|██████████| 30/30 [00:09<00:00,  3.16it/s]\n"
     ]
    },
    {
     "name": "stdout",
     "output_type": "stream",
     "text": [
      "Training Cross-Entropy Loss = 0.0341\n",
      "Training Accuracy = 98.77%\n",
      "======== Validation phase ========\n"
     ]
    },
    {
     "name": "stderr",
     "output_type": "stream",
     "text": [
      "Loss = 0.4801  |  Accuracy = 91.02% | Batch ID = 5 : 100%|██████████| 5/5 [00:00<00:00,  6.31it/s]\n"
     ]
    },
    {
     "name": "stdout",
     "output_type": "stream",
     "text": [
      "Validation Cross-Entropy Loss = 0.4751\n",
      "Validation Accuracy = 91.02%\n",
      "\n",
      "Epoch 47/64\n",
      "======== Training phase ========\n"
     ]
    },
    {
     "name": "stderr",
     "output_type": "stream",
     "text": [
      "Loss = 0.0310  |  Accuracy = 98.89% | Batch ID = 30 : 100%|██████████| 30/30 [00:09<00:00,  3.16it/s]\n"
     ]
    },
    {
     "name": "stdout",
     "output_type": "stream",
     "text": [
      "Training Cross-Entropy Loss = 0.0302\n",
      "Training Accuracy = 98.89%\n",
      "======== Validation phase ========\n"
     ]
    },
    {
     "name": "stderr",
     "output_type": "stream",
     "text": [
      "Loss = 0.4286  |  Accuracy = 90.64% | Batch ID = 5 : 100%|██████████| 5/5 [00:00<00:00,  6.31it/s]\n"
     ]
    },
    {
     "name": "stdout",
     "output_type": "stream",
     "text": [
      "Validation Cross-Entropy Loss = 0.4548\n",
      "Validation Accuracy = 90.64%\n",
      "\n",
      "Epoch 48/64\n",
      "======== Training phase ========\n"
     ]
    },
    {
     "name": "stderr",
     "output_type": "stream",
     "text": [
      "Loss = 0.0174  |  Accuracy = 98.90% | Batch ID = 30 : 100%|██████████| 30/30 [00:09<00:00,  3.12it/s]\n"
     ]
    },
    {
     "name": "stdout",
     "output_type": "stream",
     "text": [
      "Training Cross-Entropy Loss = 0.0302\n",
      "Training Accuracy = 98.90%\n",
      "======== Validation phase ========\n"
     ]
    },
    {
     "name": "stderr",
     "output_type": "stream",
     "text": [
      "Loss = 0.4859  |  Accuracy = 90.87% | Batch ID = 5 : 100%|██████████| 5/5 [00:00<00:00,  6.30it/s]\n"
     ]
    },
    {
     "name": "stdout",
     "output_type": "stream",
     "text": [
      "Validation Cross-Entropy Loss = 0.4731\n",
      "Validation Accuracy = 90.87%\n",
      "\n",
      "Epoch 49/64\n",
      "======== Training phase ========\n"
     ]
    },
    {
     "name": "stderr",
     "output_type": "stream",
     "text": [
      "Loss = 0.0510  |  Accuracy = 99.25% | Batch ID = 30 : 100%|██████████| 30/30 [00:09<00:00,  3.16it/s]\n"
     ]
    },
    {
     "name": "stdout",
     "output_type": "stream",
     "text": [
      "Training Cross-Entropy Loss = 0.0213\n",
      "Training Accuracy = 99.25%\n",
      "======== Validation phase ========\n"
     ]
    },
    {
     "name": "stderr",
     "output_type": "stream",
     "text": [
      "Loss = 0.5240  |  Accuracy = 90.22% | Batch ID = 5 : 100%|██████████| 5/5 [00:00<00:00,  6.18it/s]\n"
     ]
    },
    {
     "name": "stdout",
     "output_type": "stream",
     "text": [
      "Validation Cross-Entropy Loss = 0.5563\n",
      "Validation Accuracy = 90.22%\n",
      "\n",
      "Epoch 50/64\n",
      "======== Training phase ========\n"
     ]
    },
    {
     "name": "stderr",
     "output_type": "stream",
     "text": [
      "Loss = 0.0325  |  Accuracy = 98.70% | Batch ID = 30 : 100%|██████████| 30/30 [00:09<00:00,  3.12it/s]\n"
     ]
    },
    {
     "name": "stdout",
     "output_type": "stream",
     "text": [
      "Training Cross-Entropy Loss = 0.0362\n",
      "Training Accuracy = 98.70%\n",
      "======== Validation phase ========\n"
     ]
    },
    {
     "name": "stderr",
     "output_type": "stream",
     "text": [
      "Loss = 0.4469  |  Accuracy = 90.33% | Batch ID = 5 : 100%|██████████| 5/5 [00:00<00:00,  6.28it/s]\n"
     ]
    },
    {
     "name": "stdout",
     "output_type": "stream",
     "text": [
      "Validation Cross-Entropy Loss = 0.4388\n",
      "Validation Accuracy = 90.33%\n",
      "\n",
      "Epoch 51/64\n",
      "======== Training phase ========\n"
     ]
    },
    {
     "name": "stderr",
     "output_type": "stream",
     "text": [
      "Loss = 0.0236  |  Accuracy = 99.25% | Batch ID = 30 : 100%|██████████| 30/30 [00:09<00:00,  3.15it/s]\n"
     ]
    },
    {
     "name": "stdout",
     "output_type": "stream",
     "text": [
      "Training Cross-Entropy Loss = 0.0218\n",
      "Training Accuracy = 99.25%\n",
      "======== Validation phase ========\n"
     ]
    },
    {
     "name": "stderr",
     "output_type": "stream",
     "text": [
      "Loss = 0.5310  |  Accuracy = 90.44% | Batch ID = 5 : 100%|██████████| 5/5 [00:00<00:00,  6.29it/s]\n"
     ]
    },
    {
     "name": "stdout",
     "output_type": "stream",
     "text": [
      "Validation Cross-Entropy Loss = 0.5246\n",
      "Validation Accuracy = 90.44%\n",
      "\n",
      "Epoch 52/64\n",
      "======== Training phase ========\n"
     ]
    },
    {
     "name": "stderr",
     "output_type": "stream",
     "text": [
      "Loss = 0.0788  |  Accuracy = 99.11% | Batch ID = 30 : 100%|██████████| 30/30 [00:09<00:00,  3.12it/s]\n"
     ]
    },
    {
     "name": "stdout",
     "output_type": "stream",
     "text": [
      "Training Cross-Entropy Loss = 0.0257\n",
      "Training Accuracy = 99.11%\n",
      "======== Validation phase ========\n"
     ]
    },
    {
     "name": "stderr",
     "output_type": "stream",
     "text": [
      "Loss = 0.4558  |  Accuracy = 90.71% | Batch ID = 5 : 100%|██████████| 5/5 [00:00<00:00,  6.29it/s]\n"
     ]
    },
    {
     "name": "stdout",
     "output_type": "stream",
     "text": [
      "Validation Cross-Entropy Loss = 0.4733\n",
      "Validation Accuracy = 90.71%\n",
      "\n",
      "Epoch 53/64\n",
      "======== Training phase ========\n"
     ]
    },
    {
     "name": "stderr",
     "output_type": "stream",
     "text": [
      "Loss = 0.0482  |  Accuracy = 98.47% | Batch ID = 30 : 100%|██████████| 30/30 [00:09<00:00,  3.16it/s]\n"
     ]
    },
    {
     "name": "stdout",
     "output_type": "stream",
     "text": [
      "Training Cross-Entropy Loss = 0.0439\n",
      "Training Accuracy = 98.47%\n",
      "======== Validation phase ========\n"
     ]
    },
    {
     "name": "stderr",
     "output_type": "stream",
     "text": [
      "Loss = 0.4254  |  Accuracy = 90.77% | Batch ID = 5 : 100%|██████████| 5/5 [00:00<00:00,  6.29it/s]\n"
     ]
    },
    {
     "name": "stdout",
     "output_type": "stream",
     "text": [
      "Validation Cross-Entropy Loss = 0.4432\n",
      "Validation Accuracy = 90.77%\n",
      "\n",
      "Epoch 54/64\n",
      "======== Training phase ========\n"
     ]
    },
    {
     "name": "stderr",
     "output_type": "stream",
     "text": [
      "Loss = 0.0171  |  Accuracy = 98.66% | Batch ID = 30 : 100%|██████████| 30/30 [00:09<00:00,  3.16it/s]\n"
     ]
    },
    {
     "name": "stdout",
     "output_type": "stream",
     "text": [
      "Training Cross-Entropy Loss = 0.0368\n",
      "Training Accuracy = 98.66%\n",
      "======== Validation phase ========\n"
     ]
    },
    {
     "name": "stderr",
     "output_type": "stream",
     "text": [
      "Loss = 0.4792  |  Accuracy = 90.09% | Batch ID = 5 : 100%|██████████| 5/5 [00:00<00:00,  6.27it/s]\n"
     ]
    },
    {
     "name": "stdout",
     "output_type": "stream",
     "text": [
      "Validation Cross-Entropy Loss = 0.4932\n",
      "Validation Accuracy = 90.09%\n",
      "\n",
      "Epoch 55/64\n",
      "======== Training phase ========\n"
     ]
    },
    {
     "name": "stderr",
     "output_type": "stream",
     "text": [
      "Loss = 0.0260  |  Accuracy = 99.27% | Batch ID = 30 : 100%|██████████| 30/30 [00:20<00:00,  1.45it/s]\n"
     ]
    },
    {
     "name": "stdout",
     "output_type": "stream",
     "text": [
      "Training Cross-Entropy Loss = 0.0214\n",
      "Training Accuracy = 99.27%\n",
      "======== Validation phase ========\n"
     ]
    },
    {
     "name": "stderr",
     "output_type": "stream",
     "text": [
      "Loss = 0.4700  |  Accuracy = 90.67% | Batch ID = 5 : 100%|██████████| 5/5 [00:00<00:00,  5.96it/s]\n"
     ]
    },
    {
     "name": "stdout",
     "output_type": "stream",
     "text": [
      "Validation Cross-Entropy Loss = 0.4778\n",
      "Validation Accuracy = 90.67%\n",
      "\n",
      "Epoch 56/64\n",
      "======== Training phase ========\n"
     ]
    },
    {
     "name": "stderr",
     "output_type": "stream",
     "text": [
      "Loss = 0.0156  |  Accuracy = 99.27% | Batch ID = 30 : 100%|██████████| 30/30 [00:12<00:00,  2.46it/s]\n"
     ]
    },
    {
     "name": "stdout",
     "output_type": "stream",
     "text": [
      "Training Cross-Entropy Loss = 0.0215\n",
      "Training Accuracy = 99.27%\n",
      "======== Validation phase ========\n"
     ]
    },
    {
     "name": "stderr",
     "output_type": "stream",
     "text": [
      "Loss = 0.4858  |  Accuracy = 91.19% | Batch ID = 5 : 100%|██████████| 5/5 [00:00<00:00,  5.92it/s]\n"
     ]
    },
    {
     "name": "stdout",
     "output_type": "stream",
     "text": [
      "Validation Cross-Entropy Loss = 0.4817\n",
      "Validation Accuracy = 91.19%\n",
      "\n",
      "Epoch 57/64\n",
      "======== Training phase ========\n"
     ]
    },
    {
     "name": "stderr",
     "output_type": "stream",
     "text": [
      "Loss = 0.0172  |  Accuracy = 99.44% | Batch ID = 30 : 100%|██████████| 30/30 [00:09<00:00,  3.07it/s]\n"
     ]
    },
    {
     "name": "stdout",
     "output_type": "stream",
     "text": [
      "Training Cross-Entropy Loss = 0.0155\n",
      "Training Accuracy = 99.44%\n",
      "======== Validation phase ========\n"
     ]
    },
    {
     "name": "stderr",
     "output_type": "stream",
     "text": [
      "Loss = 0.5097  |  Accuracy = 90.90% | Batch ID = 5 : 100%|██████████| 5/5 [00:00<00:00,  5.92it/s]\n"
     ]
    },
    {
     "name": "stdout",
     "output_type": "stream",
     "text": [
      "Validation Cross-Entropy Loss = 0.5184\n",
      "Validation Accuracy = 90.90%\n",
      "\n",
      "Epoch 58/64\n",
      "======== Training phase ========\n"
     ]
    },
    {
     "name": "stderr",
     "output_type": "stream",
     "text": [
      "Loss = 0.0088  |  Accuracy = 99.56% | Batch ID = 30 : 100%|██████████| 30/30 [00:09<00:00,  3.07it/s]\n"
     ]
    },
    {
     "name": "stdout",
     "output_type": "stream",
     "text": [
      "Training Cross-Entropy Loss = 0.0133\n",
      "Training Accuracy = 99.56%\n",
      "======== Validation phase ========\n"
     ]
    },
    {
     "name": "stderr",
     "output_type": "stream",
     "text": [
      "Loss = 0.5677  |  Accuracy = 90.61% | Batch ID = 5 : 100%|██████████| 5/5 [00:00<00:00,  5.89it/s]\n"
     ]
    },
    {
     "name": "stdout",
     "output_type": "stream",
     "text": [
      "Validation Cross-Entropy Loss = 0.5818\n",
      "Validation Accuracy = 90.61%\n",
      "\n",
      "Epoch 59/64\n",
      "======== Training phase ========\n"
     ]
    },
    {
     "name": "stderr",
     "output_type": "stream",
     "text": [
      "Loss = 0.0174  |  Accuracy = 99.43% | Batch ID = 30 : 100%|██████████| 30/30 [00:09<00:00,  3.04it/s]\n"
     ]
    },
    {
     "name": "stdout",
     "output_type": "stream",
     "text": [
      "Training Cross-Entropy Loss = 0.0163\n",
      "Training Accuracy = 99.43%\n",
      "======== Validation phase ========\n"
     ]
    },
    {
     "name": "stderr",
     "output_type": "stream",
     "text": [
      "Loss = 0.5671  |  Accuracy = 90.69% | Batch ID = 5 : 100%|██████████| 5/5 [15:26<00:00, 185.38s/it]  \n"
     ]
    },
    {
     "name": "stdout",
     "output_type": "stream",
     "text": [
      "Validation Cross-Entropy Loss = 0.5528\n",
      "Validation Accuracy = 90.69%\n",
      "\n",
      "Epoch 60/64\n",
      "======== Training phase ========\n"
     ]
    },
    {
     "name": "stderr",
     "output_type": "stream",
     "text": [
      "Loss = 0.0159  |  Accuracy = 99.24% | Batch ID = 30 : 100%|██████████| 30/30 [00:09<00:00,  3.08it/s]\n"
     ]
    },
    {
     "name": "stdout",
     "output_type": "stream",
     "text": [
      "Training Cross-Entropy Loss = 0.0212\n",
      "Training Accuracy = 99.24%\n",
      "======== Validation phase ========\n"
     ]
    },
    {
     "name": "stderr",
     "output_type": "stream",
     "text": [
      "Loss = 0.4870  |  Accuracy = 90.23% | Batch ID = 5 : 100%|██████████| 5/5 [00:00<00:00,  5.98it/s]\n"
     ]
    },
    {
     "name": "stdout",
     "output_type": "stream",
     "text": [
      "Validation Cross-Entropy Loss = 0.5134\n",
      "Validation Accuracy = 90.23%\n",
      "\n",
      "Epoch 61/64\n",
      "======== Training phase ========\n"
     ]
    },
    {
     "name": "stderr",
     "output_type": "stream",
     "text": [
      "Loss = 0.0153  |  Accuracy = 99.37% | Batch ID = 30 : 100%|██████████| 30/30 [00:09<00:00,  3.07it/s]\n"
     ]
    },
    {
     "name": "stdout",
     "output_type": "stream",
     "text": [
      "Training Cross-Entropy Loss = 0.0193\n",
      "Training Accuracy = 99.37%\n",
      "======== Validation phase ========\n"
     ]
    },
    {
     "name": "stderr",
     "output_type": "stream",
     "text": [
      "Loss = 0.5478  |  Accuracy = 90.94% | Batch ID = 5 : 100%|██████████| 5/5 [00:00<00:00,  5.41it/s]\n"
     ]
    },
    {
     "name": "stdout",
     "output_type": "stream",
     "text": [
      "Validation Cross-Entropy Loss = 0.5241\n",
      "Validation Accuracy = 90.94%\n",
      "\n",
      "Epoch 62/64\n",
      "======== Training phase ========\n"
     ]
    },
    {
     "name": "stderr",
     "output_type": "stream",
     "text": [
      "Loss = 0.0126  |  Accuracy = 99.44% | Batch ID = 30 : 100%|██████████| 30/30 [00:09<00:00,  3.08it/s]\n"
     ]
    },
    {
     "name": "stdout",
     "output_type": "stream",
     "text": [
      "Training Cross-Entropy Loss = 0.0157\n",
      "Training Accuracy = 99.44%\n",
      "======== Validation phase ========\n"
     ]
    },
    {
     "name": "stderr",
     "output_type": "stream",
     "text": [
      "Loss = 0.5626  |  Accuracy = 90.80% | Batch ID = 5 : 100%|██████████| 5/5 [00:00<00:00,  5.99it/s]\n"
     ]
    },
    {
     "name": "stdout",
     "output_type": "stream",
     "text": [
      "Validation Cross-Entropy Loss = 0.5567\n",
      "Validation Accuracy = 90.80%\n",
      "\n",
      "Epoch 63/64\n",
      "======== Training phase ========\n"
     ]
    },
    {
     "name": "stderr",
     "output_type": "stream",
     "text": [
      "Loss = 0.0049  |  Accuracy = 99.45% | Batch ID = 30 : 100%|██████████| 30/30 [00:09<00:00,  3.07it/s]\n"
     ]
    },
    {
     "name": "stdout",
     "output_type": "stream",
     "text": [
      "Training Cross-Entropy Loss = 0.0160\n",
      "Training Accuracy = 99.45%\n",
      "======== Validation phase ========\n"
     ]
    },
    {
     "name": "stderr",
     "output_type": "stream",
     "text": [
      "Loss = 0.4942  |  Accuracy = 90.74% | Batch ID = 5 : 100%|██████████| 5/5 [00:00<00:00,  6.01it/s]\n"
     ]
    },
    {
     "name": "stdout",
     "output_type": "stream",
     "text": [
      "Validation Cross-Entropy Loss = 0.5058\n",
      "Validation Accuracy = 90.74%\n",
      "\n",
      "Epoch 64/64\n",
      "======== Training phase ========\n"
     ]
    },
    {
     "name": "stderr",
     "output_type": "stream",
     "text": [
      "Loss = 0.0146  |  Accuracy = 99.51% | Batch ID = 30 : 100%|██████████| 30/30 [00:09<00:00,  3.05it/s]\n"
     ]
    },
    {
     "name": "stdout",
     "output_type": "stream",
     "text": [
      "Training Cross-Entropy Loss = 0.0139\n",
      "Training Accuracy = 99.51%\n",
      "======== Validation phase ========\n"
     ]
    },
    {
     "name": "stderr",
     "output_type": "stream",
     "text": [
      "Loss = 0.6023  |  Accuracy = 90.46% | Batch ID = 5 : 100%|██████████| 5/5 [00:00<00:00,  5.99it/s]\n"
     ]
    },
    {
     "name": "stdout",
     "output_type": "stream",
     "text": [
      "Validation Cross-Entropy Loss = 0.5677\n",
      "Validation Accuracy = 90.46%\n",
      "\n"
     ]
    },
    {
     "data": {
      "image/png": "[encoded data removed]",
      "text/plain": [
       "<Figure size 1000x500 with 1 Axes>"
      ]
     },
     "metadata": {},
     "output_type": "display_data"
    },
    {
     "name": "stdout",
     "output_type": "stream",
     "text": [
      "Cross-Entropy on training set:  0.0139\n",
      "Accuracy on training set:       99.51%\n",
      "\n",
      "Cross-Entropy on validation set: 0.5677\n",
      "Accuracy on validation set:      90.46%\n"
     ]
    }
   ],
   "source": [
    "# Train the network\n",
    "train_loss_hist, train_acc_hist, test_loss_hist, test_acc_hist = train(ResNet18_pretrained, TrainLoader, TestLoader, optimizer, criterion, epochs = 64, device = device)"
   ]
  },
  {
   "cell_type": "code",
   "execution_count": null,
   "metadata": {},
   "outputs": [],
   "source": []
  }
 ],
 "metadata": {
  "kernelspec": {
   "display_name": "base",
   "language": "python",
   "name": "python3"
  },
  "language_info": {
   "codemirror_mode": {
    "name": "ipython",
    "version": 3
   },
   "file_extension": ".py",
   "mimetype": "text/x-python",
   "name": "python",
   "nbconvert_exporter": "python",
   "pygments_lexer": "ipython3",
   "version": "3.10.9"
  }
 },
 "nbformat": 4,
 "nbformat_minor": 2
}
