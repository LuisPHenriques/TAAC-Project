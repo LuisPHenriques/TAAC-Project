{
 "cells": [
  {
   "cell_type": "markdown",
   "metadata": {},
   "source": [
    "# Libraries & Custom functions"
   ]
  },
  {
   "cell_type": "code",
   "execution_count": 1,
   "metadata": {},
   "outputs": [],
   "source": [
    "import torch\n",
    "from torchvision.models import resnet18, ResNet18_Weights\n",
    "import torchvision\n",
    "\n",
    "import matplotlib.pyplot as plt\n",
    "\n",
    "from tqdm import tqdm"
   ]
  },
  {
   "cell_type": "code",
   "execution_count": 2,
   "metadata": {},
   "outputs": [],
   "source": [
    "# Build a custom CNN composed of 5 convolutional layers with ReLU activation between all the five layers and a fully-connected output layer.\n",
    "\n",
    "class FashionMNIST_ConvNet(torch.nn.Module):\n",
    "    def __init__(self):\n",
    "        super().__init__()\n",
    "        self.conv1 = torch.nn.Conv2d(in_channels = 1, out_channels = 8, kernel_size = 3, stride = 1, padding = 1)\n",
    "        self.conv2 = torch.nn.Conv2d(in_channels = 8, out_channels = 16, kernel_size = 3, stride = 1, padding = 0)\n",
    "        self.conv3 = torch.nn.Conv2d(in_channels = 16, out_channels = 32, kernel_size = 3, stride = 1, padding = 0)\n",
    "        self.conv4 = torch.nn.Conv2d(in_channels = 32, out_channels = 64, kernel_size = 3, stride = 1, padding = 0)\n",
    "        self.conv5 = torch.nn.Conv2d(in_channels = 64, out_channels = 128, kernel_size = 3, stride = 1, padding = 0)\n",
    "        self.fc = torch.nn.Linear(128 * 7 * 7, 10)\n",
    "        self.relu = torch.nn.ReLU()\n",
    "        self.maxpool = torch.nn.MaxPool2d(kernel_size = 2, stride = 2)\n",
    "\n",
    "    def forward(self, x):\n",
    "        x = self.relu(self.conv1(x))\n",
    "        x = self.relu(self.conv2(x))\n",
    "        x = self.maxpool(x)\n",
    "        x = self.relu(self.conv3(x))\n",
    "        x = self.relu(self.conv4(x))\n",
    "        x = self.relu(self.conv5(x))\n",
    "        x = x.view(-1, 128 * 7 * 7)\n",
    "        x = self.fc(x)\n",
    "        return x\n",
    "    \n",
    "\n",
    "def set_device():\n",
    "    if torch.cuda.is_available():\n",
    "        device = torch.device('cuda')\n",
    "\n",
    "    elif torch.backends.mps.is_available():\n",
    "        device = torch.device('mps')\n",
    "\n",
    "    else:\n",
    "        device = torch.device('cpu')\n",
    "    print('Device:', device)\n",
    "\n",
    "    return device\n",
    "\n",
    "\n",
    "def train(model, train_loader, test_loader, optimizer, loss_func, epochs, device, **kwargs):\n",
    "    \"\"\"\n",
    "    Trains a neural network model.\n",
    "\n",
    "    Args:\n",
    "    - model (torch.nn.Module): The neural network model to be trained.\n",
    "    - train_loader (torch.utils.data.DataLoader): DataLoader for the training dataset.\n",
    "    - optimizer (torch.optim.Optimizer): The optimizer used for training.\n",
    "    - loss_func (torch.nn.Module): The loss function used for training.\n",
    "    - epochs (int): Number of training epochs.\n",
    "    - device (torch.device): The device on which the training will be performed.\n",
    "    - **kwargs: Additional arguments for customization.\n",
    "\n",
    "    Returns:\n",
    "    - train_loss_hist (list): List containing training loss values for each epoch.\n",
    "    - train_acc_hist (list): List containing training accuracy values for each epoch.\n",
    "    \"\"\"\n",
    "\n",
    "    num_epochs = kwargs.get('num_epochs', epochs)\n",
    "    loss_fn = kwargs.get('loss_fn', loss_func)\n",
    "    device = kwargs.get('device', device)\n",
    "\n",
    "    train_loss_hist, train_acc_hist, test_loss_hist, test_acc_hist = [], [], [], []\n",
    "\n",
    "    # Create a plot with labeled axes\n",
    "    plt.figure(figsize=(10, 5))\n",
    "    plt.title('Training Loss over Epochs')\n",
    "    plt.xlabel('Epochs')\n",
    "    plt.ylabel('Loss')\n",
    "\n",
    "    for epoch in range(num_epochs):\n",
    "        print(f'Epoch {epoch + 1}/{num_epochs}')\n",
    "\n",
    "        print('======== Training phase ========')\n",
    "        model.train()\n",
    "        train_loss = 0.\n",
    "        total = 0.\n",
    "        correct = 0.\n",
    "        pbar = tqdm(enumerate(train_loader), total=len(train_loader))\n",
    "\n",
    "        for batch_idx, (data, target) in pbar:\n",
    "            data = data.to(device)\n",
    "            target = target.to(device)\n",
    "            model.zero_grad()\n",
    "            output = model(data)\n",
    "            loss = loss_fn(output, target)\n",
    "            loss.backward()\n",
    "            optimizer.step()\n",
    "\n",
    "            train_loss += loss.item()\n",
    "\n",
    "            _, predicted = torch.max(output.data, 1)\n",
    "            total += target.size(0)\n",
    "            correct += (predicted == target).sum().item()\n",
    "\n",
    "            pbar.set_description(\n",
    "                f'Loss = {loss:.4f}  |  Accuracy = {100 * correct / total:.2f}% | Batch ID = {batch_idx + 1} '\n",
    "            )\n",
    "\n",
    "        train_loss /= len(train_loader)\n",
    "        train_accuracy = 100 * correct / total\n",
    "        print(f'Training Cross-Entropy Loss = {train_loss:.4f}')\n",
    "        print(f'Training Accuracy = {train_accuracy:.2f}%')\n",
    "\n",
    "        # Evaluate the model on the validation set\n",
    "        print('======== Validation phase ========')\n",
    "        model.eval()\n",
    "        val_loss = 0.\n",
    "        total = 0.\n",
    "        correct = 0.\n",
    "        pbar = tqdm(enumerate(test_loader), total=len(test_loader))\n",
    "\n",
    "        for batch_idx, (data, target) in pbar:\n",
    "            data = data.to(device)\n",
    "            target = target.to(device)\n",
    "            output = model(data)\n",
    "            loss = loss_fn(output, target)\n",
    "\n",
    "            val_loss += loss.item()\n",
    "\n",
    "            _, predicted = torch.max(output.data, 1)\n",
    "            total += target.size(0)\n",
    "            correct += (predicted == target).sum().item()\n",
    "\n",
    "            pbar.set_description(\n",
    "                f'Loss = {loss:.4f}  |  Accuracy = {100 * correct / total:.2f}% | Batch ID = {batch_idx + 1} '\n",
    "            )\n",
    "\n",
    "        val_loss /= len(test_loader)\n",
    "        val_accuracy = 100 * correct / total\n",
    "        print(f'Validation Cross-Entropy Loss = {val_loss:.4f}')\n",
    "        print(f'Validation Accuracy = {val_accuracy:.2f}%')\n",
    "        print()\n",
    "\n",
    "        train_loss_hist.append(train_loss)\n",
    "        train_acc_hist.append(train_accuracy)\n",
    "        test_loss_hist.append(val_loss)\n",
    "        test_acc_hist.append(val_accuracy)\n",
    "\n",
    "\n",
    "    # Plot the training loss over epochs\n",
    "    plt.plot(train_loss_hist[1:], label='Training Loss')\n",
    "    plt.plot(test_loss_hist[1:], label='Validation Loss')\n",
    "    plt.legend()\n",
    "    plt.show()\n",
    "\n",
    "    print(f\"Cross-Entropy on training set:  {train_loss_hist[-1]:.4f}\")\n",
    "    print(f\"Accuracy on training set:       {train_acc_hist[-1]:.2f}%\")\n",
    "    print()\n",
    "    print(f\"Cross-Entropy on validation set: {test_loss_hist[-1]:.4f}\")\n",
    "    print(f\"Accuracy on validation set:      {test_acc_hist[-1]:.2f}%\")\n",
    "\n",
    "    return train_loss_hist, train_acc_hist, test_loss_hist, test_acc_hist"
   ]
  },
  {
   "cell_type": "markdown",
   "metadata": {},
   "source": [
    "# Exercise 1"
   ]
  },
  {
   "cell_type": "markdown",
   "metadata": {},
   "source": [
    "## Exercise 1 (C)"
   ]
  },
  {
   "cell_type": "code",
   "execution_count": 3,
   "metadata": {},
   "outputs": [],
   "source": [
    "# Define data preprocessing and loading / Define a transform to convert to images to tensor and normalize\n",
    "transform = torchvision.transforms.Compose([torchvision.transforms.ToTensor(), torchvision.transforms.Normalize((0.5,), (0.5,))])\n",
    "\n",
    "train_dataset = torchvision.datasets.FashionMNIST(root = './data', train = True, transform = transform, download = True)\n",
    "test_dataset = torchvision.datasets.FashionMNIST(root = './data', train = False, transform = transform, download = True)\n",
    "\n",
    "batch_size = 2048\n",
    "\n",
    "TrainLoader = torch.utils.data.DataLoader(dataset = train_dataset, batch_size = batch_size, shuffle = True)\n",
    "TestLoader = torch.utils.data.DataLoader(dataset = test_dataset, batch_size = batch_size, shuffle = False)"
   ]
  },
  {
   "cell_type": "markdown",
   "metadata": {},
   "source": [
    "### Exercise 1 (C) i)"
   ]
  },
  {
   "cell_type": "code",
   "execution_count": 4,
   "metadata": {},
   "outputs": [
    {
     "name": "stdout",
     "output_type": "stream",
     "text": [
      "Device: mps\n"
     ]
    }
   ],
   "source": [
    "# Initialize the network, loss function, and optimizer\n",
    "device = set_device()\n",
    "ConvNet = FashionMNIST_ConvNet().to(device)\n",
    "criterion = torch.nn.CrossEntropyLoss()\n",
    "optimizer = torch.optim.Adam(ConvNet.parameters(), lr = 0.01)"
   ]
  },
  {
   "cell_type": "code",
   "execution_count": 5,
   "metadata": {},
   "outputs": [
    {
     "name": "stdout",
     "output_type": "stream",
     "text": [
      "Epoch 1/16\n",
      "======== Training phase ========\n"
     ]
    },
    {
     "name": "stderr",
     "output_type": "stream",
     "text": [
      "Loss = 0.6342  |  Accuracy = 52.30% | Batch ID = 30 : 100%|██████████| 30/30 [00:04<00:00,  6.53it/s]\n"
     ]
    },
    {
     "name": "stdout",
     "output_type": "stream",
     "text": [
      "Training Cross-Entropy Loss = 1.3639\n",
      "Training Accuracy = 52.30%\n",
      "======== Validation phase ========\n"
     ]
    },
    {
     "name": "stderr",
     "output_type": "stream",
     "text": [
      "Loss = 0.6608  |  Accuracy = 73.37% | Batch ID = 5 : 100%|██████████| 5/5 [00:00<00:00,  9.25it/s]\n"
     ]
    },
    {
     "name": "stdout",
     "output_type": "stream",
     "text": [
      "Validation Cross-Entropy Loss = 0.6943\n",
      "Validation Accuracy = 73.37%\n",
      "\n",
      "Epoch 2/16\n",
      "======== Training phase ========\n"
     ]
    },
    {
     "name": "stderr",
     "output_type": "stream",
     "text": [
      "Loss = 0.3949  |  Accuracy = 77.65% | Batch ID = 30 : 100%|██████████| 30/30 [00:04<00:00,  7.31it/s]\n"
     ]
    },
    {
     "name": "stdout",
     "output_type": "stream",
     "text": [
      "Training Cross-Entropy Loss = 0.5779\n",
      "Training Accuracy = 77.65%\n",
      "======== Validation phase ========\n"
     ]
    },
    {
     "name": "stderr",
     "output_type": "stream",
     "text": [
      "Loss = 0.5195  |  Accuracy = 79.62% | Batch ID = 5 : 100%|██████████| 5/5 [00:00<00:00,  9.64it/s]\n"
     ]
    },
    {
     "name": "stdout",
     "output_type": "stream",
     "text": [
      "Validation Cross-Entropy Loss = 0.5281\n",
      "Validation Accuracy = 79.62%\n",
      "\n",
      "Epoch 3/16\n",
      "======== Training phase ========\n"
     ]
    },
    {
     "name": "stderr",
     "output_type": "stream",
     "text": [
      "Loss = 0.3668  |  Accuracy = 82.93% | Batch ID = 30 : 100%|██████████| 30/30 [00:04<00:00,  7.12it/s]\n"
     ]
    },
    {
     "name": "stdout",
     "output_type": "stream",
     "text": [
      "Training Cross-Entropy Loss = 0.4560\n",
      "Training Accuracy = 82.93%\n",
      "======== Validation phase ========\n"
     ]
    },
    {
     "name": "stderr",
     "output_type": "stream",
     "text": [
      "Loss = 0.4773  |  Accuracy = 82.23% | Batch ID = 5 : 100%|██████████| 5/5 [00:00<00:00,  9.61it/s]\n"
     ]
    },
    {
     "name": "stdout",
     "output_type": "stream",
     "text": [
      "Validation Cross-Entropy Loss = 0.4837\n",
      "Validation Accuracy = 82.23%\n",
      "\n",
      "Epoch 4/16\n",
      "======== Training phase ========\n"
     ]
    },
    {
     "name": "stderr",
     "output_type": "stream",
     "text": [
      "Loss = 0.3705  |  Accuracy = 85.71% | Batch ID = 30 : 100%|██████████| 30/30 [00:04<00:00,  7.26it/s]\n"
     ]
    },
    {
     "name": "stdout",
     "output_type": "stream",
     "text": [
      "Training Cross-Entropy Loss = 0.3867\n",
      "Training Accuracy = 85.71%\n",
      "======== Validation phase ========\n"
     ]
    },
    {
     "name": "stderr",
     "output_type": "stream",
     "text": [
      "Loss = 0.3655  |  Accuracy = 86.31% | Batch ID = 5 : 100%|██████████| 5/5 [00:00<00:00,  9.70it/s]\n"
     ]
    },
    {
     "name": "stdout",
     "output_type": "stream",
     "text": [
      "Validation Cross-Entropy Loss = 0.3769\n",
      "Validation Accuracy = 86.31%\n",
      "\n",
      "Epoch 5/16\n",
      "======== Training phase ========\n"
     ]
    },
    {
     "name": "stderr",
     "output_type": "stream",
     "text": [
      "Loss = 0.3443  |  Accuracy = 87.57% | Batch ID = 30 : 100%|██████████| 30/30 [00:04<00:00,  7.18it/s]\n"
     ]
    },
    {
     "name": "stdout",
     "output_type": "stream",
     "text": [
      "Training Cross-Entropy Loss = 0.3374\n",
      "Training Accuracy = 87.57%\n",
      "======== Validation phase ========\n"
     ]
    },
    {
     "name": "stderr",
     "output_type": "stream",
     "text": [
      "Loss = 0.3562  |  Accuracy = 86.30% | Batch ID = 5 : 100%|██████████| 5/5 [00:00<00:00,  8.32it/s]\n"
     ]
    },
    {
     "name": "stdout",
     "output_type": "stream",
     "text": [
      "Validation Cross-Entropy Loss = 0.3717\n",
      "Validation Accuracy = 86.30%\n",
      "\n",
      "Epoch 6/16\n",
      "======== Training phase ========\n"
     ]
    },
    {
     "name": "stderr",
     "output_type": "stream",
     "text": [
      "Loss = 0.2862  |  Accuracy = 88.34% | Batch ID = 30 : 100%|██████████| 30/30 [00:04<00:00,  7.27it/s]\n"
     ]
    },
    {
     "name": "stdout",
     "output_type": "stream",
     "text": [
      "Training Cross-Entropy Loss = 0.3163\n",
      "Training Accuracy = 88.34%\n",
      "======== Validation phase ========\n"
     ]
    },
    {
     "name": "stderr",
     "output_type": "stream",
     "text": [
      "Loss = 0.3158  |  Accuracy = 87.61% | Batch ID = 5 : 100%|██████████| 5/5 [00:00<00:00,  9.50it/s]\n"
     ]
    },
    {
     "name": "stdout",
     "output_type": "stream",
     "text": [
      "Validation Cross-Entropy Loss = 0.3410\n",
      "Validation Accuracy = 87.61%\n",
      "\n",
      "Epoch 7/16\n",
      "======== Training phase ========\n"
     ]
    },
    {
     "name": "stderr",
     "output_type": "stream",
     "text": [
      "Loss = 0.2472  |  Accuracy = 89.11% | Batch ID = 30 : 100%|██████████| 30/30 [00:04<00:00,  7.25it/s]\n"
     ]
    },
    {
     "name": "stdout",
     "output_type": "stream",
     "text": [
      "Training Cross-Entropy Loss = 0.2945\n",
      "Training Accuracy = 89.11%\n",
      "======== Validation phase ========\n"
     ]
    },
    {
     "name": "stderr",
     "output_type": "stream",
     "text": [
      "Loss = 0.2896  |  Accuracy = 88.44% | Batch ID = 5 : 100%|██████████| 5/5 [00:00<00:00,  9.60it/s]\n"
     ]
    },
    {
     "name": "stdout",
     "output_type": "stream",
     "text": [
      "Validation Cross-Entropy Loss = 0.3110\n",
      "Validation Accuracy = 88.44%\n",
      "\n",
      "Epoch 8/16\n",
      "======== Training phase ========\n"
     ]
    },
    {
     "name": "stderr",
     "output_type": "stream",
     "text": [
      "Loss = 0.2454  |  Accuracy = 89.92% | Batch ID = 30 : 100%|██████████| 30/30 [00:04<00:00,  7.09it/s]\n"
     ]
    },
    {
     "name": "stdout",
     "output_type": "stream",
     "text": [
      "Training Cross-Entropy Loss = 0.2747\n",
      "Training Accuracy = 89.92%\n",
      "======== Validation phase ========\n"
     ]
    },
    {
     "name": "stderr",
     "output_type": "stream",
     "text": [
      "Loss = 0.3001  |  Accuracy = 88.34% | Batch ID = 5 : 100%|██████████| 5/5 [00:00<00:00,  9.62it/s]\n"
     ]
    },
    {
     "name": "stdout",
     "output_type": "stream",
     "text": [
      "Validation Cross-Entropy Loss = 0.3204\n",
      "Validation Accuracy = 88.34%\n",
      "\n",
      "Epoch 9/16\n",
      "======== Training phase ========\n"
     ]
    },
    {
     "name": "stderr",
     "output_type": "stream",
     "text": [
      "Loss = 0.2944  |  Accuracy = 89.90% | Batch ID = 30 : 100%|██████████| 30/30 [00:04<00:00,  7.31it/s]\n"
     ]
    },
    {
     "name": "stdout",
     "output_type": "stream",
     "text": [
      "Training Cross-Entropy Loss = 0.2752\n",
      "Training Accuracy = 89.90%\n",
      "======== Validation phase ========\n"
     ]
    },
    {
     "name": "stderr",
     "output_type": "stream",
     "text": [
      "Loss = 0.2765  |  Accuracy = 89.25% | Batch ID = 5 : 100%|██████████| 5/5 [00:00<00:00,  9.68it/s]\n"
     ]
    },
    {
     "name": "stdout",
     "output_type": "stream",
     "text": [
      "Validation Cross-Entropy Loss = 0.2987\n",
      "Validation Accuracy = 89.25%\n",
      "\n",
      "Epoch 10/16\n",
      "======== Training phase ========\n"
     ]
    },
    {
     "name": "stderr",
     "output_type": "stream",
     "text": [
      "Loss = 0.2888  |  Accuracy = 90.47% | Batch ID = 30 : 100%|██████████| 30/30 [00:04<00:00,  7.37it/s]\n"
     ]
    },
    {
     "name": "stdout",
     "output_type": "stream",
     "text": [
      "Training Cross-Entropy Loss = 0.2606\n",
      "Training Accuracy = 90.47%\n",
      "======== Validation phase ========\n"
     ]
    },
    {
     "name": "stderr",
     "output_type": "stream",
     "text": [
      "Loss = 0.2609  |  Accuracy = 89.34% | Batch ID = 5 : 100%|██████████| 5/5 [00:00<00:00,  9.39it/s]\n"
     ]
    },
    {
     "name": "stdout",
     "output_type": "stream",
     "text": [
      "Validation Cross-Entropy Loss = 0.2873\n",
      "Validation Accuracy = 89.34%\n",
      "\n",
      "Epoch 11/16\n",
      "======== Training phase ========\n"
     ]
    },
    {
     "name": "stderr",
     "output_type": "stream",
     "text": [
      "Loss = 0.2469  |  Accuracy = 91.00% | Batch ID = 30 : 100%|██████████| 30/30 [00:04<00:00,  7.00it/s]\n"
     ]
    },
    {
     "name": "stdout",
     "output_type": "stream",
     "text": [
      "Training Cross-Entropy Loss = 0.2439\n",
      "Training Accuracy = 91.00%\n",
      "======== Validation phase ========\n"
     ]
    },
    {
     "name": "stderr",
     "output_type": "stream",
     "text": [
      "Loss = 0.2680  |  Accuracy = 89.58% | Batch ID = 5 : 100%|██████████| 5/5 [00:00<00:00,  9.63it/s]\n"
     ]
    },
    {
     "name": "stdout",
     "output_type": "stream",
     "text": [
      "Validation Cross-Entropy Loss = 0.2912\n",
      "Validation Accuracy = 89.58%\n",
      "\n",
      "Epoch 12/16\n",
      "======== Training phase ========\n"
     ]
    },
    {
     "name": "stderr",
     "output_type": "stream",
     "text": [
      "Loss = 0.2079  |  Accuracy = 91.36% | Batch ID = 30 : 100%|██████████| 30/30 [00:04<00:00,  7.21it/s]\n"
     ]
    },
    {
     "name": "stdout",
     "output_type": "stream",
     "text": [
      "Training Cross-Entropy Loss = 0.2352\n",
      "Training Accuracy = 91.36%\n",
      "======== Validation phase ========\n"
     ]
    },
    {
     "name": "stderr",
     "output_type": "stream",
     "text": [
      "Loss = 0.2714  |  Accuracy = 89.51% | Batch ID = 5 : 100%|██████████| 5/5 [00:00<00:00,  9.81it/s]\n"
     ]
    },
    {
     "name": "stdout",
     "output_type": "stream",
     "text": [
      "Validation Cross-Entropy Loss = 0.2957\n",
      "Validation Accuracy = 89.51%\n",
      "\n",
      "Epoch 13/16\n",
      "======== Training phase ========\n"
     ]
    },
    {
     "name": "stderr",
     "output_type": "stream",
     "text": [
      "Loss = 0.1944  |  Accuracy = 91.89% | Batch ID = 30 : 100%|██████████| 30/30 [00:04<00:00,  7.25it/s]\n"
     ]
    },
    {
     "name": "stdout",
     "output_type": "stream",
     "text": [
      "Training Cross-Entropy Loss = 0.2205\n",
      "Training Accuracy = 91.89%\n",
      "======== Validation phase ========\n"
     ]
    },
    {
     "name": "stderr",
     "output_type": "stream",
     "text": [
      "Loss = 0.2719  |  Accuracy = 89.40% | Batch ID = 5 : 100%|██████████| 5/5 [00:00<00:00,  9.60it/s]\n"
     ]
    },
    {
     "name": "stdout",
     "output_type": "stream",
     "text": [
      "Validation Cross-Entropy Loss = 0.2981\n",
      "Validation Accuracy = 89.40%\n",
      "\n",
      "Epoch 14/16\n",
      "======== Training phase ========\n"
     ]
    },
    {
     "name": "stderr",
     "output_type": "stream",
     "text": [
      "Loss = 0.2082  |  Accuracy = 92.05% | Batch ID = 30 : 100%|██████████| 30/30 [00:04<00:00,  7.12it/s]\n"
     ]
    },
    {
     "name": "stdout",
     "output_type": "stream",
     "text": [
      "Training Cross-Entropy Loss = 0.2168\n",
      "Training Accuracy = 92.05%\n",
      "======== Validation phase ========\n"
     ]
    },
    {
     "name": "stderr",
     "output_type": "stream",
     "text": [
      "Loss = 0.2596  |  Accuracy = 89.87% | Batch ID = 5 : 100%|██████████| 5/5 [00:00<00:00,  9.76it/s]\n"
     ]
    },
    {
     "name": "stdout",
     "output_type": "stream",
     "text": [
      "Validation Cross-Entropy Loss = 0.2848\n",
      "Validation Accuracy = 89.87%\n",
      "\n",
      "Epoch 15/16\n",
      "======== Training phase ========\n"
     ]
    },
    {
     "name": "stderr",
     "output_type": "stream",
     "text": [
      "Loss = 0.1877  |  Accuracy = 92.41% | Batch ID = 30 : 100%|██████████| 30/30 [00:04<00:00,  7.28it/s]\n"
     ]
    },
    {
     "name": "stdout",
     "output_type": "stream",
     "text": [
      "Training Cross-Entropy Loss = 0.2078\n",
      "Training Accuracy = 92.41%\n",
      "======== Validation phase ========\n"
     ]
    },
    {
     "name": "stderr",
     "output_type": "stream",
     "text": [
      "Loss = 0.2538  |  Accuracy = 90.36% | Batch ID = 5 : 100%|██████████| 5/5 [00:00<00:00,  9.68it/s]\n"
     ]
    },
    {
     "name": "stdout",
     "output_type": "stream",
     "text": [
      "Validation Cross-Entropy Loss = 0.2791\n",
      "Validation Accuracy = 90.36%\n",
      "\n",
      "Epoch 16/16\n",
      "======== Training phase ========\n"
     ]
    },
    {
     "name": "stderr",
     "output_type": "stream",
     "text": [
      "Loss = 0.2383  |  Accuracy = 92.63% | Batch ID = 30 : 100%|██████████| 30/30 [00:04<00:00,  7.23it/s]\n"
     ]
    },
    {
     "name": "stdout",
     "output_type": "stream",
     "text": [
      "Training Cross-Entropy Loss = 0.2015\n",
      "Training Accuracy = 92.63%\n",
      "======== Validation phase ========\n"
     ]
    },
    {
     "name": "stderr",
     "output_type": "stream",
     "text": [
      "Loss = 0.2430  |  Accuracy = 90.47% | Batch ID = 5 : 100%|██████████| 5/5 [00:00<00:00,  9.66it/s]\n"
     ]
    },
    {
     "name": "stdout",
     "output_type": "stream",
     "text": [
      "Validation Cross-Entropy Loss = 0.2751\n",
      "Validation Accuracy = 90.47%\n",
      "\n"
     ]
    },
    {
     "data": {
      "image/png": "[encoded data removed]",
      "text/plain": [
       "<Figure size 1000x500 with 1 Axes>"
      ]
     },
     "metadata": {},
     "output_type": "display_data"
    },
    {
     "name": "stdout",
     "output_type": "stream",
     "text": [
      "Cross-Entropy on training set:  0.2015\n",
      "Accuracy on training set:       92.63%\n",
      "\n",
      "Cross-Entropy on validation set: 0.2751\n",
      "Accuracy on validation set:      90.47%\n"
     ]
    }
   ],
   "source": [
    "train_loss_hist, train_acc_hist, test_loss_hist, test_acc_hist = train(ConvNet, TrainLoader, TestLoader, optimizer, criterion, epochs = 16, device = device)"
   ]
  },
  {
   "cell_type": "markdown",
   "metadata": {},
   "source": [
    "### Exercise 1 (C) ii)"
   ]
  },
  {
   "cell_type": "code",
   "execution_count": 4,
   "metadata": {},
   "outputs": [],
   "source": [
    "# Use a ResNet-18 without pre-trained weights\n",
    "ResNet18 = resnet18(weights = None)\n",
    "\n",
    "# Adapt the ResNet-18 to the FashionMNIST dataset\n",
    "ResNet18.conv1 = torch.nn.Conv2d(1, 64, kernel_size = 7, stride = 2, padding = 3, bias = False)\n",
    "ResNet18.fc = torch.nn.Linear(512, 10)"
   ]
  },
  {
   "cell_type": "code",
   "execution_count": 5,
   "metadata": {},
   "outputs": [
    {
     "name": "stdout",
     "output_type": "stream",
     "text": [
      "Device: mps\n"
     ]
    }
   ],
   "source": [
    "# Initialize the network, loss function, and optimizer\n",
    "device = set_device()\n",
    "ResNet18 = ResNet18.to(device)\n",
    "criterion = torch.nn.CrossEntropyLoss()\n",
    "optimizer = torch.optim.Adam(ResNet18.parameters(), lr = 0.01)"
   ]
  },
  {
   "cell_type": "code",
   "execution_count": 6,
   "metadata": {},
   "outputs": [
    {
     "name": "stdout",
     "output_type": "stream",
     "text": [
      "Epoch 1/16\n",
      "======== Training phase ========\n"
     ]
    },
    {
     "name": "stderr",
     "output_type": "stream",
     "text": [
      "Loss = 0.5867  |  Accuracy = 61.97% | Batch ID = 30 : 100%|██████████| 30/30 [00:15<00:00,  1.99it/s]\n"
     ]
    },
    {
     "name": "stdout",
     "output_type": "stream",
     "text": [
      "Training Cross-Entropy Loss = 1.1867\n",
      "Training Accuracy = 61.97%\n",
      "======== Validation phase ========\n"
     ]
    },
    {
     "name": "stderr",
     "output_type": "stream",
     "text": [
      "Loss = 5.9850  |  Accuracy = 33.51% | Batch ID = 5 : 100%|██████████| 5/5 [00:00<00:00,  5.37it/s]\n"
     ]
    },
    {
     "name": "stdout",
     "output_type": "stream",
     "text": [
      "Validation Cross-Entropy Loss = 6.4516\n",
      "Validation Accuracy = 33.51%\n",
      "\n",
      "Epoch 2/16\n",
      "======== Training phase ========\n"
     ]
    },
    {
     "name": "stderr",
     "output_type": "stream",
     "text": [
      "Loss = 0.3780  |  Accuracy = 81.70% | Batch ID = 30 : 100%|██████████| 30/30 [00:09<00:00,  3.15it/s]\n"
     ]
    },
    {
     "name": "stdout",
     "output_type": "stream",
     "text": [
      "Training Cross-Entropy Loss = 0.4845\n",
      "Training Accuracy = 81.70%\n",
      "======== Validation phase ========\n"
     ]
    },
    {
     "name": "stderr",
     "output_type": "stream",
     "text": [
      "Loss = 0.5420  |  Accuracy = 78.49% | Batch ID = 5 : 100%|██████████| 5/5 [00:00<00:00,  6.17it/s]\n"
     ]
    },
    {
     "name": "stdout",
     "output_type": "stream",
     "text": [
      "Validation Cross-Entropy Loss = 0.5606\n",
      "Validation Accuracy = 78.49%\n",
      "\n",
      "Epoch 3/16\n",
      "======== Training phase ========\n"
     ]
    },
    {
     "name": "stderr",
     "output_type": "stream",
     "text": [
      "Loss = 0.3867  |  Accuracy = 85.58% | Batch ID = 30 : 100%|██████████| 30/30 [00:09<00:00,  3.11it/s]\n"
     ]
    },
    {
     "name": "stdout",
     "output_type": "stream",
     "text": [
      "Training Cross-Entropy Loss = 0.3853\n",
      "Training Accuracy = 85.58%\n",
      "======== Validation phase ========\n"
     ]
    },
    {
     "name": "stderr",
     "output_type": "stream",
     "text": [
      "Loss = 0.4031  |  Accuracy = 84.62% | Batch ID = 5 : 100%|██████████| 5/5 [00:00<00:00,  6.26it/s]\n"
     ]
    },
    {
     "name": "stdout",
     "output_type": "stream",
     "text": [
      "Validation Cross-Entropy Loss = 0.4114\n",
      "Validation Accuracy = 84.62%\n",
      "\n",
      "Epoch 4/16\n",
      "======== Training phase ========\n"
     ]
    },
    {
     "name": "stderr",
     "output_type": "stream",
     "text": [
      "Loss = 0.3464  |  Accuracy = 87.67% | Batch ID = 30 : 100%|██████████| 30/30 [00:09<00:00,  3.03it/s]\n"
     ]
    },
    {
     "name": "stdout",
     "output_type": "stream",
     "text": [
      "Training Cross-Entropy Loss = 0.3345\n",
      "Training Accuracy = 87.67%\n",
      "======== Validation phase ========\n"
     ]
    },
    {
     "name": "stderr",
     "output_type": "stream",
     "text": [
      "Loss = 0.4308  |  Accuracy = 83.22% | Batch ID = 5 : 100%|██████████| 5/5 [00:00<00:00,  5.94it/s]\n"
     ]
    },
    {
     "name": "stdout",
     "output_type": "stream",
     "text": [
      "Validation Cross-Entropy Loss = 0.4488\n",
      "Validation Accuracy = 83.22%\n",
      "\n",
      "Epoch 5/16\n",
      "======== Training phase ========\n"
     ]
    },
    {
     "name": "stderr",
     "output_type": "stream",
     "text": [
      "Loss = 0.3163  |  Accuracy = 88.90% | Batch ID = 30 : 100%|██████████| 30/30 [00:09<00:00,  3.09it/s]\n"
     ]
    },
    {
     "name": "stdout",
     "output_type": "stream",
     "text": [
      "Training Cross-Entropy Loss = 0.2979\n",
      "Training Accuracy = 88.90%\n",
      "======== Validation phase ========\n"
     ]
    },
    {
     "name": "stderr",
     "output_type": "stream",
     "text": [
      "Loss = 0.3205  |  Accuracy = 87.89% | Batch ID = 5 : 100%|██████████| 5/5 [00:00<00:00,  6.13it/s]\n"
     ]
    },
    {
     "name": "stdout",
     "output_type": "stream",
     "text": [
      "Validation Cross-Entropy Loss = 0.3338\n",
      "Validation Accuracy = 87.89%\n",
      "\n",
      "Epoch 6/16\n",
      "======== Training phase ========\n"
     ]
    },
    {
     "name": "stderr",
     "output_type": "stream",
     "text": [
      "Loss = 0.3409  |  Accuracy = 90.00% | Batch ID = 30 : 100%|██████████| 30/30 [00:09<00:00,  3.15it/s]\n"
     ]
    },
    {
     "name": "stdout",
     "output_type": "stream",
     "text": [
      "Training Cross-Entropy Loss = 0.2738\n",
      "Training Accuracy = 90.00%\n",
      "======== Validation phase ========\n"
     ]
    },
    {
     "name": "stderr",
     "output_type": "stream",
     "text": [
      "Loss = 0.4359  |  Accuracy = 83.88% | Batch ID = 5 : 100%|██████████| 5/5 [00:00<00:00,  6.23it/s]\n"
     ]
    },
    {
     "name": "stdout",
     "output_type": "stream",
     "text": [
      "Validation Cross-Entropy Loss = 0.4449\n",
      "Validation Accuracy = 83.88%\n",
      "\n",
      "Epoch 7/16\n",
      "======== Training phase ========\n"
     ]
    },
    {
     "name": "stderr",
     "output_type": "stream",
     "text": [
      "Loss = 0.2474  |  Accuracy = 90.53% | Batch ID = 30 : 100%|██████████| 30/30 [00:09<00:00,  3.10it/s]\n"
     ]
    },
    {
     "name": "stdout",
     "output_type": "stream",
     "text": [
      "Training Cross-Entropy Loss = 0.2540\n",
      "Training Accuracy = 90.53%\n",
      "======== Validation phase ========\n"
     ]
    },
    {
     "name": "stderr",
     "output_type": "stream",
     "text": [
      "Loss = 0.3946  |  Accuracy = 86.38% | Batch ID = 5 : 100%|██████████| 5/5 [00:00<00:00,  6.10it/s]\n"
     ]
    },
    {
     "name": "stdout",
     "output_type": "stream",
     "text": [
      "Validation Cross-Entropy Loss = 0.3788\n",
      "Validation Accuracy = 86.38%\n",
      "\n",
      "Epoch 8/16\n",
      "======== Training phase ========\n"
     ]
    },
    {
     "name": "stderr",
     "output_type": "stream",
     "text": [
      "Loss = 0.2590  |  Accuracy = 91.16% | Batch ID = 30 : 100%|██████████| 30/30 [00:09<00:00,  3.13it/s]\n"
     ]
    },
    {
     "name": "stdout",
     "output_type": "stream",
     "text": [
      "Training Cross-Entropy Loss = 0.2395\n",
      "Training Accuracy = 91.16%\n",
      "======== Validation phase ========\n"
     ]
    },
    {
     "name": "stderr",
     "output_type": "stream",
     "text": [
      "Loss = 0.3163  |  Accuracy = 87.92% | Batch ID = 5 : 100%|██████████| 5/5 [00:00<00:00,  6.03it/s]\n"
     ]
    },
    {
     "name": "stdout",
     "output_type": "stream",
     "text": [
      "Validation Cross-Entropy Loss = 0.3172\n",
      "Validation Accuracy = 87.92%\n",
      "\n",
      "Epoch 9/16\n",
      "======== Training phase ========\n"
     ]
    },
    {
     "name": "stderr",
     "output_type": "stream",
     "text": [
      "Loss = 0.1820  |  Accuracy = 91.78% | Batch ID = 30 : 100%|██████████| 30/30 [00:09<00:00,  3.13it/s]\n"
     ]
    },
    {
     "name": "stdout",
     "output_type": "stream",
     "text": [
      "Training Cross-Entropy Loss = 0.2204\n",
      "Training Accuracy = 91.78%\n",
      "======== Validation phase ========\n"
     ]
    },
    {
     "name": "stderr",
     "output_type": "stream",
     "text": [
      "Loss = 0.3470  |  Accuracy = 87.75% | Batch ID = 5 : 100%|██████████| 5/5 [00:00<00:00,  5.38it/s]\n"
     ]
    },
    {
     "name": "stdout",
     "output_type": "stream",
     "text": [
      "Validation Cross-Entropy Loss = 0.3476\n",
      "Validation Accuracy = 87.75%\n",
      "\n",
      "Epoch 10/16\n",
      "======== Training phase ========\n"
     ]
    },
    {
     "name": "stderr",
     "output_type": "stream",
     "text": [
      "Loss = 0.2319  |  Accuracy = 92.35% | Batch ID = 30 : 100%|██████████| 30/30 [00:09<00:00,  3.13it/s]\n"
     ]
    },
    {
     "name": "stdout",
     "output_type": "stream",
     "text": [
      "Training Cross-Entropy Loss = 0.2070\n",
      "Training Accuracy = 92.35%\n",
      "======== Validation phase ========\n"
     ]
    },
    {
     "name": "stderr",
     "output_type": "stream",
     "text": [
      "Loss = 0.2867  |  Accuracy = 89.14% | Batch ID = 5 : 100%|██████████| 5/5 [00:00<00:00,  6.10it/s]\n"
     ]
    },
    {
     "name": "stdout",
     "output_type": "stream",
     "text": [
      "Validation Cross-Entropy Loss = 0.3029\n",
      "Validation Accuracy = 89.14%\n",
      "\n",
      "Epoch 11/16\n",
      "======== Training phase ========\n"
     ]
    },
    {
     "name": "stderr",
     "output_type": "stream",
     "text": [
      "Loss = 0.2259  |  Accuracy = 92.47% | Batch ID = 30 : 100%|██████████| 30/30 [00:09<00:00,  3.13it/s]\n"
     ]
    },
    {
     "name": "stdout",
     "output_type": "stream",
     "text": [
      "Training Cross-Entropy Loss = 0.2009\n",
      "Training Accuracy = 92.47%\n",
      "======== Validation phase ========\n"
     ]
    },
    {
     "name": "stderr",
     "output_type": "stream",
     "text": [
      "Loss = 0.2810  |  Accuracy = 89.72% | Batch ID = 5 : 100%|██████████| 5/5 [00:00<00:00,  6.15it/s]\n"
     ]
    },
    {
     "name": "stdout",
     "output_type": "stream",
     "text": [
      "Validation Cross-Entropy Loss = 0.2972\n",
      "Validation Accuracy = 89.72%\n",
      "\n",
      "Epoch 12/16\n",
      "======== Training phase ========\n"
     ]
    },
    {
     "name": "stderr",
     "output_type": "stream",
     "text": [
      "Loss = 0.2071  |  Accuracy = 92.90% | Batch ID = 30 : 100%|██████████| 30/30 [00:09<00:00,  3.10it/s]\n"
     ]
    },
    {
     "name": "stdout",
     "output_type": "stream",
     "text": [
      "Training Cross-Entropy Loss = 0.1876\n",
      "Training Accuracy = 92.90%\n",
      "======== Validation phase ========\n"
     ]
    },
    {
     "name": "stderr",
     "output_type": "stream",
     "text": [
      "Loss = 0.3606  |  Accuracy = 87.44% | Batch ID = 5 : 100%|██████████| 5/5 [00:00<00:00,  6.09it/s]\n"
     ]
    },
    {
     "name": "stdout",
     "output_type": "stream",
     "text": [
      "Validation Cross-Entropy Loss = 0.3564\n",
      "Validation Accuracy = 87.44%\n",
      "\n",
      "Epoch 13/16\n",
      "======== Training phase ========\n"
     ]
    },
    {
     "name": "stderr",
     "output_type": "stream",
     "text": [
      "Loss = 0.1814  |  Accuracy = 93.53% | Batch ID = 30 : 100%|██████████| 30/30 [00:09<00:00,  3.13it/s]\n"
     ]
    },
    {
     "name": "stdout",
     "output_type": "stream",
     "text": [
      "Training Cross-Entropy Loss = 0.1733\n",
      "Training Accuracy = 93.53%\n",
      "======== Validation phase ========\n"
     ]
    },
    {
     "name": "stderr",
     "output_type": "stream",
     "text": [
      "Loss = 0.2986  |  Accuracy = 89.68% | Batch ID = 5 : 100%|██████████| 5/5 [00:00<00:00,  6.09it/s]\n"
     ]
    },
    {
     "name": "stdout",
     "output_type": "stream",
     "text": [
      "Validation Cross-Entropy Loss = 0.3008\n",
      "Validation Accuracy = 89.68%\n",
      "\n",
      "Epoch 14/16\n",
      "======== Training phase ========\n"
     ]
    },
    {
     "name": "stderr",
     "output_type": "stream",
     "text": [
      "Loss = 0.1579  |  Accuracy = 93.97% | Batch ID = 30 : 100%|██████████| 30/30 [00:09<00:00,  3.13it/s]\n"
     ]
    },
    {
     "name": "stdout",
     "output_type": "stream",
     "text": [
      "Training Cross-Entropy Loss = 0.1634\n",
      "Training Accuracy = 93.97%\n",
      "======== Validation phase ========\n"
     ]
    },
    {
     "name": "stderr",
     "output_type": "stream",
     "text": [
      "Loss = 0.3401  |  Accuracy = 88.61% | Batch ID = 5 : 100%|██████████| 5/5 [00:00<00:00,  5.36it/s]\n"
     ]
    },
    {
     "name": "stdout",
     "output_type": "stream",
     "text": [
      "Validation Cross-Entropy Loss = 0.3532\n",
      "Validation Accuracy = 88.61%\n",
      "\n",
      "Epoch 15/16\n",
      "======== Training phase ========\n"
     ]
    },
    {
     "name": "stderr",
     "output_type": "stream",
     "text": [
      "Loss = 0.1780  |  Accuracy = 93.69% | Batch ID = 30 : 100%|██████████| 30/30 [00:09<00:00,  3.13it/s]\n"
     ]
    },
    {
     "name": "stdout",
     "output_type": "stream",
     "text": [
      "Training Cross-Entropy Loss = 0.1687\n",
      "Training Accuracy = 93.69%\n",
      "======== Validation phase ========\n"
     ]
    },
    {
     "name": "stderr",
     "output_type": "stream",
     "text": [
      "Loss = 0.3583  |  Accuracy = 88.13% | Batch ID = 5 : 100%|██████████| 5/5 [00:00<00:00,  6.13it/s]\n"
     ]
    },
    {
     "name": "stdout",
     "output_type": "stream",
     "text": [
      "Validation Cross-Entropy Loss = 0.3854\n",
      "Validation Accuracy = 88.13%\n",
      "\n",
      "Epoch 16/16\n",
      "======== Training phase ========\n"
     ]
    },
    {
     "name": "stderr",
     "output_type": "stream",
     "text": [
      "Loss = 0.1614  |  Accuracy = 94.10% | Batch ID = 30 : 100%|██████████| 30/30 [00:09<00:00,  3.13it/s]\n"
     ]
    },
    {
     "name": "stdout",
     "output_type": "stream",
     "text": [
      "Training Cross-Entropy Loss = 0.1561\n",
      "Training Accuracy = 94.10%\n",
      "======== Validation phase ========\n"
     ]
    },
    {
     "name": "stderr",
     "output_type": "stream",
     "text": [
      "Loss = 0.3422  |  Accuracy = 88.14% | Batch ID = 5 : 100%|██████████| 5/5 [00:00<00:00,  6.08it/s]\n"
     ]
    },
    {
     "name": "stdout",
     "output_type": "stream",
     "text": [
      "Validation Cross-Entropy Loss = 0.3642\n",
      "Validation Accuracy = 88.14%\n",
      "\n"
     ]
    },
    {
     "data": {
      "image/png": "[encoded data removed]",
      "text/plain": [
       "<Figure size 1000x500 with 1 Axes>"
      ]
     },
     "metadata": {},
     "output_type": "display_data"
    },
    {
     "name": "stdout",
     "output_type": "stream",
     "text": [
      "Cross-Entropy on training set:  0.1561\n",
      "Accuracy on training set:       94.10%\n",
      "\n",
      "Cross-Entropy on validation set: 0.3642\n",
      "Accuracy on validation set:      88.14%\n"
     ]
    }
   ],
   "source": [
    "# Train the network\n",
    "train_loss_hist, train_acc_hist, test_loss_hist, test_acc_hist = train(ResNet18, TrainLoader, TestLoader, optimizer, criterion, epochs = 16, device = device)"
   ]
  },
  {
   "cell_type": "markdown",
   "metadata": {},
   "source": [
    "### Exercise 1 (C) iii)"
   ]
  },
  {
   "cell_type": "code",
   "execution_count": 4,
   "metadata": {},
   "outputs": [],
   "source": [
    "# Use a ResNet-18 with pre-trained weights\n",
    "ResNet18_pretrained = resnet18(weights = ResNet18_Weights.DEFAULT)\n",
    "\n",
    "# Adapt the ResNet-18 pre-trained to the FashionMNIST dataset\n",
    "ResNet18_pretrained.conv1 = torch.nn.Conv2d(1, 64, kernel_size=7, stride=2, padding=3, bias=False)\n",
    "ResNet18_pretrained.fc = torch.nn.Linear(ResNet18_pretrained.fc.in_features, 10)"
   ]
  },
  {
   "cell_type": "code",
   "execution_count": 5,
   "metadata": {},
   "outputs": [
    {
     "name": "stdout",
     "output_type": "stream",
     "text": [
      "Device: mps\n"
     ]
    }
   ],
   "source": [
    "# Initialize the network, loss function, and optimizer\n",
    "device = set_device()\n",
    "ResNet18_pretrained = ResNet18_pretrained.to(device)\n",
    "criterion = torch.nn.CrossEntropyLoss()\n",
    "optimizer = torch.optim.Adam(ResNet18_pretrained.parameters(), lr = 0.01)"
   ]
  },
  {
   "cell_type": "code",
   "execution_count": 6,
   "metadata": {},
   "outputs": [
    {
     "name": "stdout",
     "output_type": "stream",
     "text": [
      "Epoch 1/16\n",
      "======== Training phase ========\n"
     ]
    },
    {
     "name": "stderr",
     "output_type": "stream",
     "text": [
      "Loss = 0.7731  |  Accuracy = 45.08% | Batch ID = 30 : 100%|██████████| 30/30 [00:10<00:00,  2.89it/s]\n"
     ]
    },
    {
     "name": "stdout",
     "output_type": "stream",
     "text": [
      "Training Cross-Entropy Loss = 1.5386\n",
      "Training Accuracy = 45.08%\n",
      "======== Validation phase ========\n"
     ]
    },
    {
     "name": "stderr",
     "output_type": "stream",
     "text": [
      "Loss = 7.2293  |  Accuracy = 41.28% | Batch ID = 5 : 100%|██████████| 5/5 [00:00<00:00,  5.56it/s]\n"
     ]
    },
    {
     "name": "stdout",
     "output_type": "stream",
     "text": [
      "Validation Cross-Entropy Loss = 6.2657\n",
      "Validation Accuracy = 41.28%\n",
      "\n",
      "Epoch 2/16\n",
      "======== Training phase ========\n"
     ]
    },
    {
     "name": "stderr",
     "output_type": "stream",
     "text": [
      "Loss = 0.5228  |  Accuracy = 75.61% | Batch ID = 30 : 100%|██████████| 30/30 [00:09<00:00,  3.03it/s]\n"
     ]
    },
    {
     "name": "stdout",
     "output_type": "stream",
     "text": [
      "Training Cross-Entropy Loss = 0.6351\n",
      "Training Accuracy = 75.61%\n",
      "======== Validation phase ========\n"
     ]
    },
    {
     "name": "stderr",
     "output_type": "stream",
     "text": [
      "Loss = 0.7415  |  Accuracy = 72.15% | Batch ID = 5 : 100%|██████████| 5/5 [00:00<00:00,  5.78it/s]\n"
     ]
    },
    {
     "name": "stdout",
     "output_type": "stream",
     "text": [
      "Validation Cross-Entropy Loss = 0.7442\n",
      "Validation Accuracy = 72.15%\n",
      "\n",
      "Epoch 3/16\n",
      "======== Training phase ========\n"
     ]
    },
    {
     "name": "stderr",
     "output_type": "stream",
     "text": [
      "Loss = 0.4743  |  Accuracy = 81.95% | Batch ID = 30 : 100%|██████████| 30/30 [00:10<00:00,  2.98it/s]\n"
     ]
    },
    {
     "name": "stdout",
     "output_type": "stream",
     "text": [
      "Training Cross-Entropy Loss = 0.4781\n",
      "Training Accuracy = 81.95%\n",
      "======== Validation phase ========\n"
     ]
    },
    {
     "name": "stderr",
     "output_type": "stream",
     "text": [
      "Loss = 0.5264  |  Accuracy = 81.01% | Batch ID = 5 : 100%|██████████| 5/5 [00:00<00:00,  5.98it/s]\n"
     ]
    },
    {
     "name": "stdout",
     "output_type": "stream",
     "text": [
      "Validation Cross-Entropy Loss = 0.5192\n",
      "Validation Accuracy = 81.01%\n",
      "\n",
      "Epoch 4/16\n",
      "======== Training phase ========\n"
     ]
    },
    {
     "name": "stderr",
     "output_type": "stream",
     "text": [
      "Loss = 0.3475  |  Accuracy = 85.25% | Batch ID = 30 : 100%|██████████| 30/30 [00:10<00:00,  2.99it/s]\n"
     ]
    },
    {
     "name": "stdout",
     "output_type": "stream",
     "text": [
      "Training Cross-Entropy Loss = 0.3966\n",
      "Training Accuracy = 85.25%\n",
      "======== Validation phase ========\n"
     ]
    },
    {
     "name": "stderr",
     "output_type": "stream",
     "text": [
      "Loss = 0.9911  |  Accuracy = 67.96% | Batch ID = 5 : 100%|██████████| 5/5 [00:00<00:00,  5.98it/s]\n"
     ]
    },
    {
     "name": "stdout",
     "output_type": "stream",
     "text": [
      "Validation Cross-Entropy Loss = 0.9894\n",
      "Validation Accuracy = 67.96%\n",
      "\n",
      "Epoch 5/16\n",
      "======== Training phase ========\n"
     ]
    },
    {
     "name": "stderr",
     "output_type": "stream",
     "text": [
      "Loss = 0.3458  |  Accuracy = 86.96% | Batch ID = 30 : 100%|██████████| 30/30 [00:10<00:00,  2.98it/s]\n"
     ]
    },
    {
     "name": "stdout",
     "output_type": "stream",
     "text": [
      "Training Cross-Entropy Loss = 0.3494\n",
      "Training Accuracy = 86.96%\n",
      "======== Validation phase ========\n"
     ]
    },
    {
     "name": "stderr",
     "output_type": "stream",
     "text": [
      "Loss = 0.3855  |  Accuracy = 85.52% | Batch ID = 5 : 100%|██████████| 5/5 [00:00<00:00,  6.02it/s]\n"
     ]
    },
    {
     "name": "stdout",
     "output_type": "stream",
     "text": [
      "Validation Cross-Entropy Loss = 0.3928\n",
      "Validation Accuracy = 85.52%\n",
      "\n",
      "Epoch 6/16\n",
      "======== Training phase ========\n"
     ]
    },
    {
     "name": "stderr",
     "output_type": "stream",
     "text": [
      "Loss = 0.3081  |  Accuracy = 88.50% | Batch ID = 30 : 100%|██████████| 30/30 [00:09<00:00,  3.02it/s]\n"
     ]
    },
    {
     "name": "stdout",
     "output_type": "stream",
     "text": [
      "Training Cross-Entropy Loss = 0.3106\n",
      "Training Accuracy = 88.50%\n",
      "======== Validation phase ========\n"
     ]
    },
    {
     "name": "stderr",
     "output_type": "stream",
     "text": [
      "Loss = 0.4089  |  Accuracy = 84.55% | Batch ID = 5 : 100%|██████████| 5/5 [00:00<00:00,  6.02it/s]\n"
     ]
    },
    {
     "name": "stdout",
     "output_type": "stream",
     "text": [
      "Validation Cross-Entropy Loss = 0.4117\n",
      "Validation Accuracy = 84.55%\n",
      "\n",
      "Epoch 7/16\n",
      "======== Training phase ========\n"
     ]
    },
    {
     "name": "stderr",
     "output_type": "stream",
     "text": [
      "Loss = 0.2857  |  Accuracy = 89.22% | Batch ID = 30 : 100%|██████████| 30/30 [00:09<00:00,  3.04it/s]\n"
     ]
    },
    {
     "name": "stdout",
     "output_type": "stream",
     "text": [
      "Training Cross-Entropy Loss = 0.2912\n",
      "Training Accuracy = 89.22%\n",
      "======== Validation phase ========\n"
     ]
    },
    {
     "name": "stderr",
     "output_type": "stream",
     "text": [
      "Loss = 0.4328  |  Accuracy = 84.86% | Batch ID = 5 : 100%|██████████| 5/5 [00:00<00:00,  5.97it/s]\n"
     ]
    },
    {
     "name": "stdout",
     "output_type": "stream",
     "text": [
      "Validation Cross-Entropy Loss = 0.4234\n",
      "Validation Accuracy = 84.86%\n",
      "\n",
      "Epoch 8/16\n",
      "======== Training phase ========\n"
     ]
    },
    {
     "name": "stderr",
     "output_type": "stream",
     "text": [
      "Loss = 0.2606  |  Accuracy = 89.78% | Batch ID = 30 : 100%|██████████| 30/30 [00:09<00:00,  3.01it/s]\n"
     ]
    },
    {
     "name": "stdout",
     "output_type": "stream",
     "text": [
      "Training Cross-Entropy Loss = 0.2750\n",
      "Training Accuracy = 89.78%\n",
      "======== Validation phase ========\n"
     ]
    },
    {
     "name": "stderr",
     "output_type": "stream",
     "text": [
      "Loss = 0.4296  |  Accuracy = 85.72% | Batch ID = 5 : 100%|██████████| 5/5 [00:00<00:00,  6.08it/s]\n"
     ]
    },
    {
     "name": "stdout",
     "output_type": "stream",
     "text": [
      "Validation Cross-Entropy Loss = 0.4222\n",
      "Validation Accuracy = 85.72%\n",
      "\n",
      "Epoch 9/16\n",
      "======== Training phase ========\n"
     ]
    },
    {
     "name": "stderr",
     "output_type": "stream",
     "text": [
      "Loss = 0.2490  |  Accuracy = 90.46% | Batch ID = 30 : 100%|██████████| 30/30 [00:09<00:00,  3.04it/s]\n"
     ]
    },
    {
     "name": "stdout",
     "output_type": "stream",
     "text": [
      "Training Cross-Entropy Loss = 0.2574\n",
      "Training Accuracy = 90.46%\n",
      "======== Validation phase ========\n"
     ]
    },
    {
     "name": "stderr",
     "output_type": "stream",
     "text": [
      "Loss = 0.3434  |  Accuracy = 88.08% | Batch ID = 5 : 100%|██████████| 5/5 [00:00<00:00,  5.86it/s]\n"
     ]
    },
    {
     "name": "stdout",
     "output_type": "stream",
     "text": [
      "Validation Cross-Entropy Loss = 0.3307\n",
      "Validation Accuracy = 88.08%\n",
      "\n",
      "Epoch 10/16\n",
      "======== Training phase ========\n"
     ]
    },
    {
     "name": "stderr",
     "output_type": "stream",
     "text": [
      "Loss = 0.2926  |  Accuracy = 90.69% | Batch ID = 30 : 100%|██████████| 30/30 [00:09<00:00,  3.03it/s]\n"
     ]
    },
    {
     "name": "stdout",
     "output_type": "stream",
     "text": [
      "Training Cross-Entropy Loss = 0.2486\n",
      "Training Accuracy = 90.69%\n",
      "======== Validation phase ========\n"
     ]
    },
    {
     "name": "stderr",
     "output_type": "stream",
     "text": [
      "Loss = 0.2899  |  Accuracy = 89.12% | Batch ID = 5 : 100%|██████████| 5/5 [00:00<00:00,  6.08it/s]\n"
     ]
    },
    {
     "name": "stdout",
     "output_type": "stream",
     "text": [
      "Validation Cross-Entropy Loss = 0.3015\n",
      "Validation Accuracy = 89.12%\n",
      "\n",
      "Epoch 11/16\n",
      "======== Training phase ========\n"
     ]
    },
    {
     "name": "stderr",
     "output_type": "stream",
     "text": [
      "Loss = 0.2795  |  Accuracy = 91.29% | Batch ID = 30 : 100%|██████████| 30/30 [00:09<00:00,  3.08it/s]\n"
     ]
    },
    {
     "name": "stdout",
     "output_type": "stream",
     "text": [
      "Training Cross-Entropy Loss = 0.2333\n",
      "Training Accuracy = 91.29%\n",
      "======== Validation phase ========\n"
     ]
    },
    {
     "name": "stderr",
     "output_type": "stream",
     "text": [
      "Loss = 0.3481  |  Accuracy = 88.02% | Batch ID = 5 : 100%|██████████| 5/5 [00:00<00:00,  6.08it/s]\n"
     ]
    },
    {
     "name": "stdout",
     "output_type": "stream",
     "text": [
      "Validation Cross-Entropy Loss = 0.3342\n",
      "Validation Accuracy = 88.02%\n",
      "\n",
      "Epoch 12/16\n",
      "======== Training phase ========\n"
     ]
    },
    {
     "name": "stderr",
     "output_type": "stream",
     "text": [
      "Loss = 0.2197  |  Accuracy = 91.94% | Batch ID = 30 : 100%|██████████| 30/30 [00:09<00:00,  3.04it/s]\n"
     ]
    },
    {
     "name": "stdout",
     "output_type": "stream",
     "text": [
      "Training Cross-Entropy Loss = 0.2177\n",
      "Training Accuracy = 91.94%\n",
      "======== Validation phase ========\n"
     ]
    },
    {
     "name": "stderr",
     "output_type": "stream",
     "text": [
      "Loss = 0.3690  |  Accuracy = 86.79% | Batch ID = 5 : 100%|██████████| 5/5 [00:00<00:00,  5.75it/s]\n"
     ]
    },
    {
     "name": "stdout",
     "output_type": "stream",
     "text": [
      "Validation Cross-Entropy Loss = 0.3842\n",
      "Validation Accuracy = 86.79%\n",
      "\n",
      "Epoch 13/16\n",
      "======== Training phase ========\n"
     ]
    },
    {
     "name": "stderr",
     "output_type": "stream",
     "text": [
      "Loss = 0.2026  |  Accuracy = 92.20% | Batch ID = 30 : 100%|██████████| 30/30 [00:09<00:00,  3.02it/s]\n"
     ]
    },
    {
     "name": "stdout",
     "output_type": "stream",
     "text": [
      "Training Cross-Entropy Loss = 0.2080\n",
      "Training Accuracy = 92.20%\n",
      "======== Validation phase ========\n"
     ]
    },
    {
     "name": "stderr",
     "output_type": "stream",
     "text": [
      "Loss = 0.3138  |  Accuracy = 89.53% | Batch ID = 5 : 100%|██████████| 5/5 [00:00<00:00,  5.99it/s]\n"
     ]
    },
    {
     "name": "stdout",
     "output_type": "stream",
     "text": [
      "Validation Cross-Entropy Loss = 0.3097\n",
      "Validation Accuracy = 89.53%\n",
      "\n",
      "Epoch 14/16\n",
      "======== Training phase ========\n"
     ]
    },
    {
     "name": "stderr",
     "output_type": "stream",
     "text": [
      "Loss = 0.2144  |  Accuracy = 92.45% | Batch ID = 30 : 100%|██████████| 30/30 [00:09<00:00,  3.05it/s]\n"
     ]
    },
    {
     "name": "stdout",
     "output_type": "stream",
     "text": [
      "Training Cross-Entropy Loss = 0.2026\n",
      "Training Accuracy = 92.45%\n",
      "======== Validation phase ========\n"
     ]
    },
    {
     "name": "stderr",
     "output_type": "stream",
     "text": [
      "Loss = 0.3695  |  Accuracy = 87.42% | Batch ID = 5 : 100%|██████████| 5/5 [00:00<00:00,  5.86it/s]\n"
     ]
    },
    {
     "name": "stdout",
     "output_type": "stream",
     "text": [
      "Validation Cross-Entropy Loss = 0.3611\n",
      "Validation Accuracy = 87.42%\n",
      "\n",
      "Epoch 15/16\n",
      "======== Training phase ========\n"
     ]
    },
    {
     "name": "stderr",
     "output_type": "stream",
     "text": [
      "Loss = 0.2113  |  Accuracy = 92.69% | Batch ID = 30 : 100%|██████████| 30/30 [00:10<00:00,  2.99it/s]\n"
     ]
    },
    {
     "name": "stdout",
     "output_type": "stream",
     "text": [
      "Training Cross-Entropy Loss = 0.1955\n",
      "Training Accuracy = 92.69%\n",
      "======== Validation phase ========\n"
     ]
    },
    {
     "name": "stderr",
     "output_type": "stream",
     "text": [
      "Loss = 0.3645  |  Accuracy = 88.52% | Batch ID = 5 : 100%|██████████| 5/5 [00:00<00:00,  6.00it/s]\n"
     ]
    },
    {
     "name": "stdout",
     "output_type": "stream",
     "text": [
      "Validation Cross-Entropy Loss = 0.3463\n",
      "Validation Accuracy = 88.52%\n",
      "\n",
      "Epoch 16/16\n",
      "======== Training phase ========\n"
     ]
    },
    {
     "name": "stderr",
     "output_type": "stream",
     "text": [
      "Loss = 0.2175  |  Accuracy = 93.38% | Batch ID = 30 : 100%|██████████| 30/30 [00:09<00:00,  3.08it/s]\n"
     ]
    },
    {
     "name": "stdout",
     "output_type": "stream",
     "text": [
      "Training Cross-Entropy Loss = 0.1806\n",
      "Training Accuracy = 93.38%\n",
      "======== Validation phase ========\n"
     ]
    },
    {
     "name": "stderr",
     "output_type": "stream",
     "text": [
      "Loss = 0.3264  |  Accuracy = 88.66% | Batch ID = 5 : 100%|██████████| 5/5 [00:00<00:00,  5.99it/s]\n"
     ]
    },
    {
     "name": "stdout",
     "output_type": "stream",
     "text": [
      "Validation Cross-Entropy Loss = 0.3240\n",
      "Validation Accuracy = 88.66%\n",
      "\n"
     ]
    },
    {
     "data": {
      "image/png": "[encoded data removed]",
      "text/plain": [
       "<Figure size 1000x500 with 1 Axes>"
      ]
     },
     "metadata": {},
     "output_type": "display_data"
    },
    {
     "name": "stdout",
     "output_type": "stream",
     "text": [
      "Cross-Entropy on training set:  0.1806\n",
      "Accuracy on training set:       93.38%\n",
      "\n",
      "Cross-Entropy on validation set: 0.3240\n",
      "Accuracy on validation set:      88.66%\n"
     ]
    }
   ],
   "source": [
    "# Train the network\n",
    "train_loss_hist, train_acc_hist, test_loss_hist, test_acc_hist = train(ResNet18_pretrained, TrainLoader, TestLoader, optimizer, criterion, epochs = 16, device = device)"
   ]
  },
  {
   "cell_type": "code",
   "execution_count": null,
   "metadata": {},
   "outputs": [],
   "source": []
  }
 ],
 "metadata": {
  "kernelspec": {
   "display_name": "base",
   "language": "python",
   "name": "python3"
  },
  "language_info": {
   "codemirror_mode": {
    "name": "ipython",
    "version": 3
   },
   "file_extension": ".py",
   "mimetype": "text/x-python",
   "name": "python",
   "nbconvert_exporter": "python",
   "pygments_lexer": "ipython3",
   "version": "3.10.9"
  }
 },
 "nbformat": 4,
 "nbformat_minor": 2
}
