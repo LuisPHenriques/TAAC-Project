{
 "cells": [
  {
   "cell_type": "markdown",
   "metadata": {},
   "source": [
    "# Libraries & Custom functions"
   ]
  },
  {
   "cell_type": "code",
   "execution_count": 1,
   "metadata": {},
   "outputs": [],
   "source": [
    "import torch\n",
    "from torchvision.models import resnet18, ResNet18_Weights\n",
    "import torchvision\n",
    "\n",
    "import matplotlib.pyplot as plt\n",
    "\n",
    "from tqdm import tqdm"
   ]
  },
  {
   "cell_type": "code",
   "execution_count": 2,
   "metadata": {},
   "outputs": [],
   "source": [
    "# Build a custom CNN composed of 5 convolutional layers with ReLU activation between all the five layers and a fully-connected output layer.\n",
    "\n",
    "class FashionMNIST_ConvNet(torch.nn.Module):\n",
    "    def __init__(self):\n",
    "        super().__init__()\n",
    "        self.conv1 = torch.nn.Conv2d(in_channels = 1, out_channels = 32, kernel_size = 3, stride = 1, padding = 1)\n",
    "        self.conv2 = torch.nn.Conv2d(in_channels = 32, out_channels = 64, kernel_size = 3, stride = 1, padding = 0)\n",
    "        self.conv3 = torch.nn.Conv2d(in_channels = 64, out_channels = 128, kernel_size = 3, stride = 1, padding = 0)\n",
    "        self.conv4 = torch.nn.Conv2d(in_channels = 128, out_channels = 256, kernel_size = 3, stride = 1, padding = 0)\n",
    "        self.conv5 = torch.nn.Conv2d(in_channels = 256, out_channels = 512, kernel_size = 3, stride = 1, padding = 0)\n",
    "        self.fc = torch.nn.Linear(512 * 7 * 7, 10)\n",
    "        self.relu = torch.nn.ReLU()\n",
    "        self.maxpool = torch.nn.MaxPool2d(kernel_size = 2, stride = 2)\n",
    "        self.avgpool = torch.nn.AvgPool2d(kernel_size = 2, stride = 2)\n",
    "\n",
    "    def forward(self, x):\n",
    "        x = self.relu(self.conv1(x))\n",
    "        x = self.relu(self.conv2(x))\n",
    "        x = self.avgpool(x)\n",
    "        x = self.relu(self.conv3(x))\n",
    "        x = self.relu(self.conv4(x))\n",
    "        x = self.relu(self.conv5(x))\n",
    "        x = x.view(-1, 512 * 7 * 7)\n",
    "        x = self.fc(x)\n",
    "        return x\n",
    "    \n",
    "\n",
    "def set_device():\n",
    "    if torch.cuda.is_available():\n",
    "        device = torch.device('cuda')\n",
    "\n",
    "    elif torch.backends.mps.is_available():\n",
    "        device = torch.device('mps')\n",
    "\n",
    "    else:\n",
    "        device = torch.device('cpu')\n",
    "    print('Device:', device)\n",
    "\n",
    "    return device\n",
    "\n",
    "\n",
    "def train(model, train_loader, test_loader, optimizer, loss_func, epochs, device, **kwargs):\n",
    "    \"\"\"\n",
    "    Trains a neural network model.\n",
    "\n",
    "    Args:\n",
    "    - model (torch.nn.Module): The neural network model to be trained.\n",
    "    - train_loader (torch.utils.data.DataLoader): DataLoader for the training dataset.\n",
    "    - optimizer (torch.optim.Optimizer): The optimizer used for training.\n",
    "    - loss_func (torch.nn.Module): The loss function used for training.\n",
    "    - epochs (int): Number of training epochs.\n",
    "    - device (torch.device): The device on which the training will be performed.\n",
    "    - **kwargs: Additional arguments for customization.\n",
    "\n",
    "    Returns:\n",
    "    - train_loss_hist (list): List containing training loss values for each epoch.\n",
    "    - train_acc_hist (list): List containing training accuracy values for each epoch.\n",
    "    \"\"\"\n",
    "\n",
    "    num_epochs = kwargs.get('num_epochs', epochs)\n",
    "    loss_fn = kwargs.get('loss_fn', loss_func)\n",
    "    device = kwargs.get('device', device)\n",
    "\n",
    "    train_loss_hist, train_acc_hist, test_loss_hist, test_acc_hist = [], [], [], []\n",
    "\n",
    "    # Create a plot with labeled axes\n",
    "    plt.figure(figsize=(10, 5))\n",
    "    plt.title('Training Loss over Epochs')\n",
    "    plt.xlabel('Epochs')\n",
    "    plt.ylabel('Loss')\n",
    "\n",
    "    for epoch in range(num_epochs):\n",
    "        print(f'Epoch {epoch + 1}/{num_epochs}')\n",
    "\n",
    "        print('======== Training phase ========')\n",
    "        model.train()\n",
    "        train_loss = 0.\n",
    "        total = 0.\n",
    "        correct = 0.\n",
    "        pbar = tqdm(enumerate(train_loader), total=len(train_loader))\n",
    "\n",
    "        for batch_idx, (data, target) in pbar:\n",
    "            data = data.to(device)\n",
    "            target = target.to(device)\n",
    "            model.zero_grad()\n",
    "            output = model(data)\n",
    "            loss = loss_fn(output, target)\n",
    "            loss.backward()\n",
    "            optimizer.step()\n",
    "\n",
    "            train_loss += loss.item()\n",
    "\n",
    "            _, predicted = torch.max(output.data, 1)\n",
    "            total += target.size(0)\n",
    "            correct += (predicted == target).sum().item()\n",
    "\n",
    "            pbar.set_description(\n",
    "                f'Loss = {loss:.4f}  |  Accuracy = {100 * correct / total:.2f}% | Batch ID = {batch_idx + 1} '\n",
    "            )\n",
    "\n",
    "        train_loss /= len(train_loader)\n",
    "        train_accuracy = 100 * correct / total\n",
    "        print(f'Training Cross-Entropy Loss = {train_loss:.4f}')\n",
    "        print(f'Training Accuracy = {train_accuracy:.2f}%')\n",
    "\n",
    "        # Evaluate the model on the validation set\n",
    "        print('======== Validation phase ========')\n",
    "        model.eval()\n",
    "        val_loss = 0.\n",
    "        total = 0.\n",
    "        correct = 0.\n",
    "        pbar = tqdm(enumerate(test_loader), total=len(test_loader))\n",
    "\n",
    "        for batch_idx, (data, target) in pbar:\n",
    "            data = data.to(device)\n",
    "            target = target.to(device)\n",
    "            output = model(data)\n",
    "            loss = loss_fn(output, target)\n",
    "\n",
    "            val_loss += loss.item()\n",
    "\n",
    "            _, predicted = torch.max(output.data, 1)\n",
    "            total += target.size(0)\n",
    "            correct += (predicted == target).sum().item()\n",
    "\n",
    "            pbar.set_description(\n",
    "                f'Loss = {loss:.4f}  |  Accuracy = {100 * correct / total:.2f}% | Batch ID = {batch_idx + 1} '\n",
    "            )\n",
    "\n",
    "        val_loss /= len(test_loader)\n",
    "        val_accuracy = 100 * correct / total\n",
    "        print(f'Validation Cross-Entropy Loss = {val_loss:.4f}')\n",
    "        print(f'Validation Accuracy = {val_accuracy:.2f}%')\n",
    "        print()\n",
    "\n",
    "        train_loss_hist.append(train_loss)\n",
    "        train_acc_hist.append(train_accuracy)\n",
    "        test_loss_hist.append(val_loss)\n",
    "        test_acc_hist.append(val_accuracy)\n",
    "\n",
    "\n",
    "    # Plot the training loss over epochs\n",
    "    epochs = range(2, len(train_loss_hist) + 1)\n",
    "\n",
    "    plt.plot(epochs, train_loss_hist[1:], label='Training Loss')\n",
    "    plt.plot(epochs, test_loss_hist[1:], label='Validation Loss')\n",
    "    plt.legend()\n",
    "    plt.xlabel('Epoch')\n",
    "    plt.ylabel('Loss')\n",
    "    plt.title('Training and Validation Loss Evolution')\n",
    "    plt.show()\n",
    "\n",
    "    print(f\"Cross-Entropy on training set:  {train_loss_hist[-1]:.4f}\")\n",
    "    print(f\"Accuracy on training set:       {train_acc_hist[-1]:.2f}%\")\n",
    "    print()\n",
    "    print(f\"Cross-Entropy on validation set: {test_loss_hist[-1]:.4f}\")\n",
    "    print(f\"Accuracy on validation set:      {test_acc_hist[-1]:.2f}%\")\n",
    "\n",
    "    return train_loss_hist, train_acc_hist, test_loss_hist, test_acc_hist"
   ]
  },
  {
   "cell_type": "markdown",
   "metadata": {},
   "source": [
    "# Exercise 1"
   ]
  },
  {
   "cell_type": "markdown",
   "metadata": {},
   "source": [
    "## Exercise 1 (A)"
   ]
  },
  {
   "cell_type": "markdown",
   "metadata": {},
   "source": [
    "### Exercise 1 (A) i) - Change the padding from 0 to 1"
   ]
  },
  {
   "cell_type": "markdown",
   "metadata": {},
   "source": [
    "By changing the padding from zero to one, what happens is that a convolutional layer's input size will be increased by one border, ensuring that the layer's output size will be larger as well, assuming all the remaining hyper-parameters are kept the same. \n",
    "\n",
    "Given an image size of 30x30xK, a padding of 1 can be implemented so that the image's intensity values in its borders get used more that once for making convolution operations, meaning that this border data is used more times than it would be with a padding of 0. This can be crucial because important data might be in the borders, and therefore by applying a padding of 1 we ensure that the data in the borders is used more times to compute the outputs of that convolutional layer. A padding of 1 will increase the size of this given image from 30x30xK to 31x31xK, where this new border will have no importance in terms of its values, however enable the data in the real borders to get used more times. \n",
    "\n",
    "For example, for a convolutional layer with stride of 1 and kernel size of 3, with a padding of 0 a corner will get used once and an edge either 2 (edge point next to a corner) or 3 times, while with a padding of 1 a corner data point will be used 4 times, while the edges will be used 6 times."
   ]
  },
  {
   "cell_type": "markdown",
   "metadata": {},
   "source": [
    "### Exercise 1 (A) ii) - Change the kernel size from 3 to 4"
   ]
  },
  {
   "cell_type": "markdown",
   "metadata": {},
   "source": [
    "By changing the kernel size from 3 to 4, what ends up happening is that the output dimensions of the convolutional layer decrease (assuming everything else constant), while the input dimensions stay the same. \n",
    "\n",
    "Notice that by increasing the kernel size by one the number of convolutions applied to an image (for example) gets reduced, and because for each convolution operation one value (output value) is computed, then the number of values added to the output is decreased, meaning that the output dimensions will decrease."
   ]
  },
  {
   "cell_type": "markdown",
   "metadata": {},
   "source": [
    "### Exercise 1 (A) iii) - Change the stride from 1 to 2"
   ]
  },
  {
   "cell_type": "markdown",
   "metadata": {},
   "source": [
    "By changing the stride from 1 to 2, what ends up happening is that several convolution operations get skipped in a convolutional layer, and because each convolution computes one value of the layer's output, the output's dimensions get decreased, while the input size remains the same. \n",
    "\n",
    "With a stride of 1, what happens is that the kernel moves one column at a time in the same row, and one row at a time in the same column. However, with a stride of 2 the kernel moves two columns at a time in the same row, and two rows at a time in the same column. In short, a convolutional layer with stride of 2 skips one convolution operations at a time, meaning that only half of the convolutions made with a stride of 1 will actually occur with stride 2.\n",
    "\n",
    "Looking at the equation that defines the output size, by changing the stride from 1 to 2, the output dimensions get decreased practically in half because of the decay in the number of convolution operations mention above."
   ]
  },
  {
   "cell_type": "markdown",
   "metadata": {},
   "source": [
    "## Exercise 1 (B)"
   ]
  },
  {
   "cell_type": "markdown",
   "metadata": {},
   "source": [
    "Looking at the following statement: ”Pooling layers introduce a trade-off between information loss and dimensionality reduction”, we can say that is summarizes correctly the role that a Pooling layer has in a convolutional neural network. \n",
    "\n",
    "A pooling layer shares one main idea with a convolutional layer, which is the fact that it reduces the size of the input by applying a kernel to it. However, a pooling layer is much different that a convolutional layer because of two main factors. Firstly, the kernel in a pooling layers doesn't apply convolution operation to the input; a pooling layer can apply either a maximum operation, an average operation, or a minimum operation (althouth the first two are more used given their proven performance superiority). Secondly, a pooling layer doesn't have any trainable parameters (or parameters even), while a convolutional layer has. This second difference is very crucial because we're able to simplify our problem by reducing the size of the data without increase the model's complexity (number of trainable parameters). \n",
    "\n",
    "Now, reduncing our data's dimensions comes with a cost... Because we're reducing the size of the data given to a pooling layer, what happens is that we lose information by filtering some data out. For example, a MaxPooling layer with a kernel size of 2 retrieves only one value from a region with four values at a time (just like in a convolutional layer), and this is applied to all the data points given to the model (images for example). Usually a pooling layer with a kernel size of 2 is also used with a stride of 2, and this means that we reduce the input data by exactly half while filtering out 75% of all the data values for each pooling operation. \n",
    "\n",
    "So, going back to the initial statement... It's true that we lose information by applying a pooling layer (regardless of what type), however we have the trade-off of reducing our data's dimensions, and dimensionality reduction is crucial because computational resources aren't infinite, and so we need it in order to train ConvNets more efficiently and in timely manner."
   ]
  },
  {
   "cell_type": "markdown",
   "metadata": {},
   "source": [
    "## Exercise 1 (C)"
   ]
  },
  {
   "cell_type": "code",
   "execution_count": 9,
   "metadata": {},
   "outputs": [],
   "source": [
    "# Define data preprocessing and loading / Define a transform to convert to images to tensor and normalize\n",
    "transform = torchvision.transforms.Compose([torchvision.transforms.ToTensor(), torchvision.transforms.Normalize((0.5,), (0.5,))])\n",
    "\n",
    "train_dataset = torchvision.datasets.FashionMNIST(root = './data', train = True, transform = transform, download = True)\n",
    "test_dataset = torchvision.datasets.FashionMNIST(root = './data', train = False, transform = transform, download = True)\n",
    "\n",
    "batch_size = 128\n",
    "\n",
    "TrainLoader = torch.utils.data.DataLoader(dataset = train_dataset, batch_size = batch_size, shuffle = True)\n",
    "TestLoader = torch.utils.data.DataLoader(dataset = test_dataset, batch_size = batch_size, shuffle = False)"
   ]
  },
  {
   "cell_type": "markdown",
   "metadata": {},
   "source": [
    "### Exercise 1 (C) i)"
   ]
  },
  {
   "cell_type": "code",
   "execution_count": 10,
   "metadata": {},
   "outputs": [
    {
     "name": "stdout",
     "output_type": "stream",
     "text": [
      "Device: mps\n"
     ]
    }
   ],
   "source": [
    "# Initialize the network, loss function, and optimizer\n",
    "device = set_device()\n",
    "ConvNet = FashionMNIST_ConvNet().to(device)\n",
    "criterion = torch.nn.CrossEntropyLoss()\n",
    "optimizer = torch.optim.Adam(ConvNet.parameters(), lr = 0.01)"
   ]
  },
  {
   "cell_type": "code",
   "execution_count": 11,
   "metadata": {},
   "outputs": [
    {
     "name": "stdout",
     "output_type": "stream",
     "text": [
      "Epoch 1/24\n",
      "======== Training phase ========\n"
     ]
    },
    {
     "name": "stderr",
     "output_type": "stream",
     "text": [
      "Loss = 0.2486  |  Accuracy = 74.83% | Batch ID = 469 : 100%|██████████| 469/469 [00:14<00:00, 31.55it/s]\n"
     ]
    },
    {
     "name": "stdout",
     "output_type": "stream",
     "text": [
      "Training Cross-Entropy Loss = 1.3032\n",
      "Training Accuracy = 74.83%\n",
      "======== Validation phase ========\n"
     ]
    },
    {
     "name": "stderr",
     "output_type": "stream",
     "text": [
      "Loss = 0.6020  |  Accuracy = 83.71% | Batch ID = 79 : 100%|██████████| 79/79 [00:01<00:00, 52.58it/s]\n"
     ]
    },
    {
     "name": "stdout",
     "output_type": "stream",
     "text": [
      "Validation Cross-Entropy Loss = 0.4693\n",
      "Validation Accuracy = 83.71%\n",
      "\n",
      "Epoch 2/24\n",
      "======== Training phase ========\n"
     ]
    },
    {
     "name": "stderr",
     "output_type": "stream",
     "text": [
      "Loss = 0.4065  |  Accuracy = 85.14% | Batch ID = 469 : 100%|██████████| 469/469 [00:14<00:00, 32.02it/s]\n"
     ]
    },
    {
     "name": "stdout",
     "output_type": "stream",
     "text": [
      "Training Cross-Entropy Loss = 0.4145\n",
      "Training Accuracy = 85.14%\n",
      "======== Validation phase ========\n"
     ]
    },
    {
     "name": "stderr",
     "output_type": "stream",
     "text": [
      "Loss = 0.4524  |  Accuracy = 85.56% | Batch ID = 79 : 100%|██████████| 79/79 [00:01<00:00, 54.43it/s]\n"
     ]
    },
    {
     "name": "stdout",
     "output_type": "stream",
     "text": [
      "Validation Cross-Entropy Loss = 0.4043\n",
      "Validation Accuracy = 85.56%\n",
      "\n",
      "Epoch 3/24\n",
      "======== Training phase ========\n"
     ]
    },
    {
     "name": "stderr",
     "output_type": "stream",
     "text": [
      "Loss = 0.4057  |  Accuracy = 87.16% | Batch ID = 469 : 100%|██████████| 469/469 [00:14<00:00, 31.98it/s]\n"
     ]
    },
    {
     "name": "stdout",
     "output_type": "stream",
     "text": [
      "Training Cross-Entropy Loss = 0.3569\n",
      "Training Accuracy = 87.16%\n",
      "======== Validation phase ========\n"
     ]
    },
    {
     "name": "stderr",
     "output_type": "stream",
     "text": [
      "Loss = 0.2084  |  Accuracy = 86.70% | Batch ID = 79 : 100%|██████████| 79/79 [00:01<00:00, 54.91it/s]\n"
     ]
    },
    {
     "name": "stdout",
     "output_type": "stream",
     "text": [
      "Validation Cross-Entropy Loss = 0.3672\n",
      "Validation Accuracy = 86.70%\n",
      "\n",
      "Epoch 4/24\n",
      "======== Training phase ========\n"
     ]
    },
    {
     "name": "stderr",
     "output_type": "stream",
     "text": [
      "Loss = 0.2584  |  Accuracy = 87.88% | Batch ID = 469 : 100%|██████████| 469/469 [00:14<00:00, 32.05it/s]\n"
     ]
    },
    {
     "name": "stdout",
     "output_type": "stream",
     "text": [
      "Training Cross-Entropy Loss = 0.3356\n",
      "Training Accuracy = 87.88%\n",
      "======== Validation phase ========\n"
     ]
    },
    {
     "name": "stderr",
     "output_type": "stream",
     "text": [
      "Loss = 0.3245  |  Accuracy = 87.58% | Batch ID = 79 : 100%|██████████| 79/79 [00:01<00:00, 54.86it/s]\n"
     ]
    },
    {
     "name": "stdout",
     "output_type": "stream",
     "text": [
      "Validation Cross-Entropy Loss = 0.3589\n",
      "Validation Accuracy = 87.58%\n",
      "\n",
      "Epoch 5/24\n",
      "======== Training phase ========\n"
     ]
    },
    {
     "name": "stderr",
     "output_type": "stream",
     "text": [
      "Loss = 0.3406  |  Accuracy = 88.24% | Batch ID = 469 : 100%|██████████| 469/469 [00:14<00:00, 32.05it/s]\n"
     ]
    },
    {
     "name": "stdout",
     "output_type": "stream",
     "text": [
      "Training Cross-Entropy Loss = 0.3220\n",
      "Training Accuracy = 88.24%\n",
      "======== Validation phase ========\n"
     ]
    },
    {
     "name": "stderr",
     "output_type": "stream",
     "text": [
      "Loss = 0.2773  |  Accuracy = 87.93% | Batch ID = 79 : 100%|██████████| 79/79 [00:01<00:00, 54.64it/s]\n"
     ]
    },
    {
     "name": "stdout",
     "output_type": "stream",
     "text": [
      "Validation Cross-Entropy Loss = 0.3438\n",
      "Validation Accuracy = 87.93%\n",
      "\n",
      "Epoch 6/24\n",
      "======== Training phase ========\n"
     ]
    },
    {
     "name": "stderr",
     "output_type": "stream",
     "text": [
      "Loss = 0.2917  |  Accuracy = 88.51% | Batch ID = 469 : 100%|██████████| 469/469 [00:14<00:00, 31.29it/s]\n"
     ]
    },
    {
     "name": "stdout",
     "output_type": "stream",
     "text": [
      "Training Cross-Entropy Loss = 0.3160\n",
      "Training Accuracy = 88.51%\n",
      "======== Validation phase ========\n"
     ]
    },
    {
     "name": "stderr",
     "output_type": "stream",
     "text": [
      "Loss = 0.3720  |  Accuracy = 87.91% | Batch ID = 79 : 100%|██████████| 79/79 [00:01<00:00, 55.20it/s]\n"
     ]
    },
    {
     "name": "stdout",
     "output_type": "stream",
     "text": [
      "Validation Cross-Entropy Loss = 0.3450\n",
      "Validation Accuracy = 87.91%\n",
      "\n",
      "Epoch 7/24\n",
      "======== Training phase ========\n"
     ]
    },
    {
     "name": "stderr",
     "output_type": "stream",
     "text": [
      "Loss = 0.3311  |  Accuracy = 88.98% | Batch ID = 469 : 100%|██████████| 469/469 [00:14<00:00, 31.37it/s]\n"
     ]
    },
    {
     "name": "stdout",
     "output_type": "stream",
     "text": [
      "Training Cross-Entropy Loss = 0.3014\n",
      "Training Accuracy = 88.98%\n",
      "======== Validation phase ========\n"
     ]
    },
    {
     "name": "stderr",
     "output_type": "stream",
     "text": [
      "Loss = 0.3443  |  Accuracy = 87.84% | Batch ID = 79 : 100%|██████████| 79/79 [00:01<00:00, 74.15it/s]\n"
     ]
    },
    {
     "name": "stdout",
     "output_type": "stream",
     "text": [
      "Validation Cross-Entropy Loss = 0.3535\n",
      "Validation Accuracy = 87.84%\n",
      "\n",
      "Epoch 8/24\n",
      "======== Training phase ========\n"
     ]
    },
    {
     "name": "stderr",
     "output_type": "stream",
     "text": [
      "Loss = 0.2866  |  Accuracy = 89.16% | Batch ID = 469 : 100%|██████████| 469/469 [00:14<00:00, 31.65it/s]\n"
     ]
    },
    {
     "name": "stdout",
     "output_type": "stream",
     "text": [
      "Training Cross-Entropy Loss = 0.3024\n",
      "Training Accuracy = 89.16%\n",
      "======== Validation phase ========\n"
     ]
    },
    {
     "name": "stderr",
     "output_type": "stream",
     "text": [
      "Loss = 0.3958  |  Accuracy = 87.84% | Batch ID = 79 : 100%|██████████| 79/79 [00:01<00:00, 55.16it/s]\n"
     ]
    },
    {
     "name": "stdout",
     "output_type": "stream",
     "text": [
      "Validation Cross-Entropy Loss = 0.3557\n",
      "Validation Accuracy = 87.84%\n",
      "\n",
      "Epoch 9/24\n",
      "======== Training phase ========\n"
     ]
    },
    {
     "name": "stderr",
     "output_type": "stream",
     "text": [
      "Loss = 0.2486  |  Accuracy = 89.06% | Batch ID = 469 : 100%|██████████| 469/469 [00:14<00:00, 31.71it/s]\n"
     ]
    },
    {
     "name": "stdout",
     "output_type": "stream",
     "text": [
      "Training Cross-Entropy Loss = 0.3015\n",
      "Training Accuracy = 89.06%\n",
      "======== Validation phase ========\n"
     ]
    },
    {
     "name": "stderr",
     "output_type": "stream",
     "text": [
      "Loss = 0.1040  |  Accuracy = 88.50% | Batch ID = 79 : 100%|██████████| 79/79 [00:01<00:00, 54.14it/s]\n"
     ]
    },
    {
     "name": "stdout",
     "output_type": "stream",
     "text": [
      "Validation Cross-Entropy Loss = 0.3248\n",
      "Validation Accuracy = 88.50%\n",
      "\n",
      "Epoch 10/24\n",
      "======== Training phase ========\n"
     ]
    },
    {
     "name": "stderr",
     "output_type": "stream",
     "text": [
      "Loss = 0.2693  |  Accuracy = 89.16% | Batch ID = 469 : 100%|██████████| 469/469 [00:14<00:00, 31.68it/s]\n"
     ]
    },
    {
     "name": "stdout",
     "output_type": "stream",
     "text": [
      "Training Cross-Entropy Loss = 0.3006\n",
      "Training Accuracy = 89.16%\n",
      "======== Validation phase ========\n"
     ]
    },
    {
     "name": "stderr",
     "output_type": "stream",
     "text": [
      "Loss = 0.1658  |  Accuracy = 88.39% | Batch ID = 79 : 100%|██████████| 79/79 [00:01<00:00, 52.13it/s]\n"
     ]
    },
    {
     "name": "stdout",
     "output_type": "stream",
     "text": [
      "Validation Cross-Entropy Loss = 0.3293\n",
      "Validation Accuracy = 88.39%\n",
      "\n",
      "Epoch 11/24\n",
      "======== Training phase ========\n"
     ]
    },
    {
     "name": "stderr",
     "output_type": "stream",
     "text": [
      "Loss = 0.2800  |  Accuracy = 89.00% | Batch ID = 469 : 100%|██████████| 469/469 [00:14<00:00, 31.80it/s]\n"
     ]
    },
    {
     "name": "stdout",
     "output_type": "stream",
     "text": [
      "Training Cross-Entropy Loss = 0.3003\n",
      "Training Accuracy = 89.00%\n",
      "======== Validation phase ========\n"
     ]
    },
    {
     "name": "stderr",
     "output_type": "stream",
     "text": [
      "Loss = 0.1402  |  Accuracy = 88.41% | Batch ID = 79 : 100%|██████████| 79/79 [00:01<00:00, 71.46it/s]\n"
     ]
    },
    {
     "name": "stdout",
     "output_type": "stream",
     "text": [
      "Validation Cross-Entropy Loss = 0.3336\n",
      "Validation Accuracy = 88.41%\n",
      "\n",
      "Epoch 12/24\n",
      "======== Training phase ========\n"
     ]
    },
    {
     "name": "stderr",
     "output_type": "stream",
     "text": [
      "Loss = 0.2521  |  Accuracy = 89.16% | Batch ID = 469 : 100%|██████████| 469/469 [00:14<00:00, 31.77it/s]\n"
     ]
    },
    {
     "name": "stdout",
     "output_type": "stream",
     "text": [
      "Training Cross-Entropy Loss = 0.2983\n",
      "Training Accuracy = 89.16%\n",
      "======== Validation phase ========\n"
     ]
    },
    {
     "name": "stderr",
     "output_type": "stream",
     "text": [
      "Loss = 0.2850  |  Accuracy = 88.32% | Batch ID = 79 : 100%|██████████| 79/79 [00:01<00:00, 54.96it/s]\n"
     ]
    },
    {
     "name": "stdout",
     "output_type": "stream",
     "text": [
      "Validation Cross-Entropy Loss = 0.3300\n",
      "Validation Accuracy = 88.32%\n",
      "\n",
      "Epoch 13/24\n",
      "======== Training phase ========\n"
     ]
    },
    {
     "name": "stderr",
     "output_type": "stream",
     "text": [
      "Loss = 0.2266  |  Accuracy = 89.41% | Batch ID = 469 : 100%|██████████| 469/469 [00:14<00:00, 31.93it/s]\n"
     ]
    },
    {
     "name": "stdout",
     "output_type": "stream",
     "text": [
      "Training Cross-Entropy Loss = 0.2880\n",
      "Training Accuracy = 89.41%\n",
      "======== Validation phase ========\n"
     ]
    },
    {
     "name": "stderr",
     "output_type": "stream",
     "text": [
      "Loss = 0.3227  |  Accuracy = 88.07% | Batch ID = 79 : 100%|██████████| 79/79 [00:01<00:00, 52.53it/s]\n"
     ]
    },
    {
     "name": "stdout",
     "output_type": "stream",
     "text": [
      "Validation Cross-Entropy Loss = 0.3365\n",
      "Validation Accuracy = 88.07%\n",
      "\n",
      "Epoch 14/24\n",
      "======== Training phase ========\n"
     ]
    },
    {
     "name": "stderr",
     "output_type": "stream",
     "text": [
      "Loss = 0.2991  |  Accuracy = 89.36% | Batch ID = 469 : 100%|██████████| 469/469 [00:14<00:00, 31.67it/s]\n"
     ]
    },
    {
     "name": "stdout",
     "output_type": "stream",
     "text": [
      "Training Cross-Entropy Loss = 0.2910\n",
      "Training Accuracy = 89.36%\n",
      "======== Validation phase ========\n"
     ]
    },
    {
     "name": "stderr",
     "output_type": "stream",
     "text": [
      "Loss = 0.2139  |  Accuracy = 87.71% | Batch ID = 79 : 100%|██████████| 79/79 [00:01<00:00, 73.22it/s]\n"
     ]
    },
    {
     "name": "stdout",
     "output_type": "stream",
     "text": [
      "Validation Cross-Entropy Loss = 0.3554\n",
      "Validation Accuracy = 87.71%\n",
      "\n",
      "Epoch 15/24\n",
      "======== Training phase ========\n"
     ]
    },
    {
     "name": "stderr",
     "output_type": "stream",
     "text": [
      "Loss = 0.3335  |  Accuracy = 88.41% | Batch ID = 469 : 100%|██████████| 469/469 [00:14<00:00, 31.99it/s]\n"
     ]
    },
    {
     "name": "stdout",
     "output_type": "stream",
     "text": [
      "Training Cross-Entropy Loss = 0.3231\n",
      "Training Accuracy = 88.41%\n",
      "======== Validation phase ========\n"
     ]
    },
    {
     "name": "stderr",
     "output_type": "stream",
     "text": [
      "Loss = 0.6536  |  Accuracy = 86.15% | Batch ID = 79 : 100%|██████████| 79/79 [00:01<00:00, 73.85it/s]\n"
     ]
    },
    {
     "name": "stdout",
     "output_type": "stream",
     "text": [
      "Validation Cross-Entropy Loss = 0.3978\n",
      "Validation Accuracy = 86.15%\n",
      "\n",
      "Epoch 16/24\n",
      "======== Training phase ========\n"
     ]
    },
    {
     "name": "stderr",
     "output_type": "stream",
     "text": [
      "Loss = 0.2370  |  Accuracy = 88.40% | Batch ID = 469 : 100%|██████████| 469/469 [00:14<00:00, 31.99it/s]\n"
     ]
    },
    {
     "name": "stdout",
     "output_type": "stream",
     "text": [
      "Training Cross-Entropy Loss = 0.3146\n",
      "Training Accuracy = 88.40%\n",
      "======== Validation phase ========\n"
     ]
    },
    {
     "name": "stderr",
     "output_type": "stream",
     "text": [
      "Loss = 0.3221  |  Accuracy = 87.85% | Batch ID = 79 : 100%|██████████| 79/79 [00:01<00:00, 64.44it/s]\n"
     ]
    },
    {
     "name": "stdout",
     "output_type": "stream",
     "text": [
      "Validation Cross-Entropy Loss = 0.3603\n",
      "Validation Accuracy = 87.85%\n",
      "\n",
      "Epoch 17/24\n",
      "======== Training phase ========\n"
     ]
    },
    {
     "name": "stderr",
     "output_type": "stream",
     "text": [
      "Loss = 0.3874  |  Accuracy = 89.61% | Batch ID = 469 : 100%|██████████| 469/469 [00:14<00:00, 32.07it/s]\n"
     ]
    },
    {
     "name": "stdout",
     "output_type": "stream",
     "text": [
      "Training Cross-Entropy Loss = 0.2854\n",
      "Training Accuracy = 89.61%\n",
      "======== Validation phase ========\n"
     ]
    },
    {
     "name": "stderr",
     "output_type": "stream",
     "text": [
      "Loss = 0.5692  |  Accuracy = 87.79% | Batch ID = 79 : 100%|██████████| 79/79 [00:01<00:00, 74.16it/s]\n"
     ]
    },
    {
     "name": "stdout",
     "output_type": "stream",
     "text": [
      "Validation Cross-Entropy Loss = 0.3539\n",
      "Validation Accuracy = 87.79%\n",
      "\n",
      "Epoch 18/24\n",
      "======== Training phase ========\n"
     ]
    },
    {
     "name": "stderr",
     "output_type": "stream",
     "text": [
      "Loss = 0.2774  |  Accuracy = 89.39% | Batch ID = 469 : 100%|██████████| 469/469 [00:14<00:00, 31.54it/s]\n"
     ]
    },
    {
     "name": "stdout",
     "output_type": "stream",
     "text": [
      "Training Cross-Entropy Loss = 0.2874\n",
      "Training Accuracy = 89.39%\n",
      "======== Validation phase ========\n"
     ]
    },
    {
     "name": "stderr",
     "output_type": "stream",
     "text": [
      "Loss = 0.2930  |  Accuracy = 88.20% | Batch ID = 79 : 100%|██████████| 79/79 [00:01<00:00, 69.83it/s]\n"
     ]
    },
    {
     "name": "stdout",
     "output_type": "stream",
     "text": [
      "Validation Cross-Entropy Loss = 0.3492\n",
      "Validation Accuracy = 88.20%\n",
      "\n",
      "Epoch 19/24\n",
      "======== Training phase ========\n"
     ]
    },
    {
     "name": "stderr",
     "output_type": "stream",
     "text": [
      "Loss = 0.2935  |  Accuracy = 89.71% | Batch ID = 469 : 100%|██████████| 469/469 [00:14<00:00, 32.07it/s]\n"
     ]
    },
    {
     "name": "stdout",
     "output_type": "stream",
     "text": [
      "Training Cross-Entropy Loss = 0.2814\n",
      "Training Accuracy = 89.71%\n",
      "======== Validation phase ========\n"
     ]
    },
    {
     "name": "stderr",
     "output_type": "stream",
     "text": [
      "Loss = 0.1301  |  Accuracy = 88.25% | Batch ID = 79 : 100%|██████████| 79/79 [00:01<00:00, 59.94it/s]\n"
     ]
    },
    {
     "name": "stdout",
     "output_type": "stream",
     "text": [
      "Validation Cross-Entropy Loss = 0.3396\n",
      "Validation Accuracy = 88.25%\n",
      "\n",
      "Epoch 20/24\n",
      "======== Training phase ========\n"
     ]
    },
    {
     "name": "stderr",
     "output_type": "stream",
     "text": [
      "Loss = 0.4827  |  Accuracy = 89.71% | Batch ID = 469 : 100%|██████████| 469/469 [00:14<00:00, 31.95it/s]\n"
     ]
    },
    {
     "name": "stdout",
     "output_type": "stream",
     "text": [
      "Training Cross-Entropy Loss = 0.2813\n",
      "Training Accuracy = 89.71%\n",
      "======== Validation phase ========\n"
     ]
    },
    {
     "name": "stderr",
     "output_type": "stream",
     "text": [
      "Loss = 0.5404  |  Accuracy = 86.38% | Batch ID = 79 : 100%|██████████| 79/79 [00:01<00:00, 74.40it/s]\n"
     ]
    },
    {
     "name": "stdout",
     "output_type": "stream",
     "text": [
      "Validation Cross-Entropy Loss = 0.4079\n",
      "Validation Accuracy = 86.38%\n",
      "\n",
      "Epoch 21/24\n",
      "======== Training phase ========\n"
     ]
    },
    {
     "name": "stderr",
     "output_type": "stream",
     "text": [
      "Loss = 0.2919  |  Accuracy = 89.87% | Batch ID = 469 : 100%|██████████| 469/469 [00:14<00:00, 32.06it/s]\n"
     ]
    },
    {
     "name": "stdout",
     "output_type": "stream",
     "text": [
      "Training Cross-Entropy Loss = 0.2776\n",
      "Training Accuracy = 89.87%\n",
      "======== Validation phase ========\n"
     ]
    },
    {
     "name": "stderr",
     "output_type": "stream",
     "text": [
      "Loss = 0.2284  |  Accuracy = 87.71% | Batch ID = 79 : 100%|██████████| 79/79 [00:01<00:00, 72.58it/s]\n"
     ]
    },
    {
     "name": "stdout",
     "output_type": "stream",
     "text": [
      "Validation Cross-Entropy Loss = 0.3552\n",
      "Validation Accuracy = 87.71%\n",
      "\n",
      "Epoch 22/24\n",
      "======== Training phase ========\n"
     ]
    },
    {
     "name": "stderr",
     "output_type": "stream",
     "text": [
      "Loss = 0.3298  |  Accuracy = 89.96% | Batch ID = 469 : 100%|██████████| 469/469 [00:14<00:00, 32.08it/s]\n"
     ]
    },
    {
     "name": "stdout",
     "output_type": "stream",
     "text": [
      "Training Cross-Entropy Loss = 0.2753\n",
      "Training Accuracy = 89.96%\n",
      "======== Validation phase ========\n"
     ]
    },
    {
     "name": "stderr",
     "output_type": "stream",
     "text": [
      "Loss = 0.1475  |  Accuracy = 88.77% | Batch ID = 79 : 100%|██████████| 79/79 [00:01<00:00, 59.66it/s]\n"
     ]
    },
    {
     "name": "stdout",
     "output_type": "stream",
     "text": [
      "Validation Cross-Entropy Loss = 0.3290\n",
      "Validation Accuracy = 88.77%\n",
      "\n",
      "Epoch 23/24\n",
      "======== Training phase ========\n"
     ]
    },
    {
     "name": "stderr",
     "output_type": "stream",
     "text": [
      "Loss = 0.2797  |  Accuracy = 88.83% | Batch ID = 469 : 100%|██████████| 469/469 [00:14<00:00, 31.73it/s]\n"
     ]
    },
    {
     "name": "stdout",
     "output_type": "stream",
     "text": [
      "Training Cross-Entropy Loss = 0.3052\n",
      "Training Accuracy = 88.83%\n",
      "======== Validation phase ========\n"
     ]
    },
    {
     "name": "stderr",
     "output_type": "stream",
     "text": [
      "Loss = 0.4782  |  Accuracy = 88.02% | Batch ID = 79 : 100%|██████████| 79/79 [00:01<00:00, 64.20it/s]\n"
     ]
    },
    {
     "name": "stdout",
     "output_type": "stream",
     "text": [
      "Validation Cross-Entropy Loss = 0.3471\n",
      "Validation Accuracy = 88.02%\n",
      "\n",
      "Epoch 24/24\n",
      "======== Training phase ========\n"
     ]
    },
    {
     "name": "stderr",
     "output_type": "stream",
     "text": [
      "Loss = 0.3385  |  Accuracy = 89.79% | Batch ID = 469 : 100%|██████████| 469/469 [00:14<00:00, 32.05it/s]\n"
     ]
    },
    {
     "name": "stdout",
     "output_type": "stream",
     "text": [
      "Training Cross-Entropy Loss = 0.2765\n",
      "Training Accuracy = 89.79%\n",
      "======== Validation phase ========\n"
     ]
    },
    {
     "name": "stderr",
     "output_type": "stream",
     "text": [
      "Loss = 0.5276  |  Accuracy = 88.18% | Batch ID = 79 : 100%|██████████| 79/79 [00:01<00:00, 73.92it/s]\n"
     ]
    },
    {
     "name": "stdout",
     "output_type": "stream",
     "text": [
      "Validation Cross-Entropy Loss = 0.3381\n",
      "Validation Accuracy = 88.18%\n",
      "\n"
     ]
    },
    {
     "data": {
      "image/png": "[encoded data removed]",
      "text/plain": [
       "<Figure size 1000x500 with 1 Axes>"
      ]
     },
     "metadata": {},
     "output_type": "display_data"
    },
    {
     "name": "stdout",
     "output_type": "stream",
     "text": [
      "Cross-Entropy on training set:  0.2765\n",
      "Accuracy on training set:       89.79%\n",
      "\n",
      "Cross-Entropy on validation set: 0.3381\n",
      "Accuracy on validation set:      88.18%\n"
     ]
    }
   ],
   "source": [
    "train_loss_hist, train_acc_hist, test_loss_hist, test_acc_hist = train(ConvNet, TrainLoader, TestLoader, optimizer, criterion, epochs = 24, device = device)"
   ]
  },
  {
   "cell_type": "markdown",
   "metadata": {},
   "source": [
    "### Exercise 1 (C) ii)"
   ]
  },
  {
   "cell_type": "code",
   "execution_count": 12,
   "metadata": {},
   "outputs": [],
   "source": [
    "# Use a ResNet-18 without pre-trained weights\n",
    "ResNet18 = resnet18(weights = None)\n",
    "\n",
    "# Adapt the ResNet-18 to the FashionMNIST dataset\n",
    "ResNet18.conv1 = torch.nn.Conv2d(1, 64, kernel_size = 7, stride = 2, padding = 3, bias = False)\n",
    "ResNet18.fc = torch.nn.Linear(ResNet18.fc.in_features, 10)"
   ]
  },
  {
   "cell_type": "code",
   "execution_count": 13,
   "metadata": {},
   "outputs": [
    {
     "name": "stdout",
     "output_type": "stream",
     "text": [
      "Device: mps\n"
     ]
    }
   ],
   "source": [
    "# Initialize the network, loss function, and optimizer\n",
    "device = set_device()\n",
    "ResNet18 = ResNet18.to(device)\n",
    "criterion = torch.nn.CrossEntropyLoss()\n",
    "optimizer = torch.optim.Adam(ResNet18.parameters(), lr = 0.01)"
   ]
  },
  {
   "cell_type": "code",
   "execution_count": 14,
   "metadata": {},
   "outputs": [
    {
     "name": "stdout",
     "output_type": "stream",
     "text": [
      "Epoch 1/24\n",
      "======== Training phase ========\n"
     ]
    },
    {
     "name": "stderr",
     "output_type": "stream",
     "text": [
      "Loss = 0.3271  |  Accuracy = 80.71% | Batch ID = 469 : 100%|██████████| 469/469 [00:27<00:00, 17.10it/s]\n"
     ]
    },
    {
     "name": "stdout",
     "output_type": "stream",
     "text": [
      "Training Cross-Entropy Loss = 0.5398\n",
      "Training Accuracy = 80.71%\n",
      "======== Validation phase ========\n"
     ]
    },
    {
     "name": "stderr",
     "output_type": "stream",
     "text": [
      "Loss = 0.3811  |  Accuracy = 83.92% | Batch ID = 79 : 100%|██████████| 79/79 [00:01<00:00, 44.92it/s]\n"
     ]
    },
    {
     "name": "stdout",
     "output_type": "stream",
     "text": [
      "Validation Cross-Entropy Loss = 0.4445\n",
      "Validation Accuracy = 83.92%\n",
      "\n",
      "Epoch 2/24\n",
      "======== Training phase ========\n"
     ]
    },
    {
     "name": "stderr",
     "output_type": "stream",
     "text": [
      "Loss = 0.3164  |  Accuracy = 87.21% | Batch ID = 469 : 100%|██████████| 469/469 [00:25<00:00, 18.53it/s]\n"
     ]
    },
    {
     "name": "stdout",
     "output_type": "stream",
     "text": [
      "Training Cross-Entropy Loss = 0.3516\n",
      "Training Accuracy = 87.21%\n",
      "======== Validation phase ========\n"
     ]
    },
    {
     "name": "stderr",
     "output_type": "stream",
     "text": [
      "Loss = 0.2096  |  Accuracy = 87.35% | Batch ID = 79 : 100%|██████████| 79/79 [00:01<00:00, 50.57it/s]\n"
     ]
    },
    {
     "name": "stdout",
     "output_type": "stream",
     "text": [
      "Validation Cross-Entropy Loss = 0.3466\n",
      "Validation Accuracy = 87.35%\n",
      "\n",
      "Epoch 3/24\n",
      "======== Training phase ========\n"
     ]
    },
    {
     "name": "stderr",
     "output_type": "stream",
     "text": [
      "Loss = 0.2604  |  Accuracy = 88.62% | Batch ID = 469 : 100%|██████████| 469/469 [00:24<00:00, 19.04it/s]\n"
     ]
    },
    {
     "name": "stdout",
     "output_type": "stream",
     "text": [
      "Training Cross-Entropy Loss = 0.3116\n",
      "Training Accuracy = 88.62%\n",
      "======== Validation phase ========\n"
     ]
    },
    {
     "name": "stderr",
     "output_type": "stream",
     "text": [
      "Loss = 0.1827  |  Accuracy = 88.46% | Batch ID = 79 : 100%|██████████| 79/79 [00:01<00:00, 52.46it/s]\n"
     ]
    },
    {
     "name": "stdout",
     "output_type": "stream",
     "text": [
      "Validation Cross-Entropy Loss = 0.3092\n",
      "Validation Accuracy = 88.46%\n",
      "\n",
      "Epoch 4/24\n",
      "======== Training phase ========\n"
     ]
    },
    {
     "name": "stderr",
     "output_type": "stream",
     "text": [
      "Loss = 0.2189  |  Accuracy = 89.89% | Batch ID = 469 : 100%|██████████| 469/469 [00:24<00:00, 19.23it/s]\n"
     ]
    },
    {
     "name": "stdout",
     "output_type": "stream",
     "text": [
      "Training Cross-Entropy Loss = 0.2718\n",
      "Training Accuracy = 89.89%\n",
      "======== Validation phase ========\n"
     ]
    },
    {
     "name": "stderr",
     "output_type": "stream",
     "text": [
      "Loss = 0.3060  |  Accuracy = 89.29% | Batch ID = 79 : 100%|██████████| 79/79 [00:01<00:00, 52.06it/s]\n"
     ]
    },
    {
     "name": "stdout",
     "output_type": "stream",
     "text": [
      "Validation Cross-Entropy Loss = 0.3045\n",
      "Validation Accuracy = 89.29%\n",
      "\n",
      "Epoch 5/24\n",
      "======== Training phase ========\n"
     ]
    },
    {
     "name": "stderr",
     "output_type": "stream",
     "text": [
      "Loss = 0.3646  |  Accuracy = 90.87% | Batch ID = 469 : 100%|██████████| 469/469 [00:24<00:00, 19.16it/s]\n"
     ]
    },
    {
     "name": "stdout",
     "output_type": "stream",
     "text": [
      "Training Cross-Entropy Loss = 0.2486\n",
      "Training Accuracy = 90.87%\n",
      "======== Validation phase ========\n"
     ]
    },
    {
     "name": "stderr",
     "output_type": "stream",
     "text": [
      "Loss = 0.5162  |  Accuracy = 89.05% | Batch ID = 79 : 100%|██████████| 79/79 [00:01<00:00, 51.69it/s]\n"
     ]
    },
    {
     "name": "stdout",
     "output_type": "stream",
     "text": [
      "Validation Cross-Entropy Loss = 0.3027\n",
      "Validation Accuracy = 89.05%\n",
      "\n",
      "Epoch 6/24\n",
      "======== Training phase ========\n"
     ]
    },
    {
     "name": "stderr",
     "output_type": "stream",
     "text": [
      "Loss = 0.2730  |  Accuracy = 91.22% | Batch ID = 469 : 100%|██████████| 469/469 [00:25<00:00, 18.73it/s]\n"
     ]
    },
    {
     "name": "stdout",
     "output_type": "stream",
     "text": [
      "Training Cross-Entropy Loss = 0.2324\n",
      "Training Accuracy = 91.22%\n",
      "======== Validation phase ========\n"
     ]
    },
    {
     "name": "stderr",
     "output_type": "stream",
     "text": [
      "Loss = 0.3897  |  Accuracy = 89.60% | Batch ID = 79 : 100%|██████████| 79/79 [00:01<00:00, 50.86it/s]\n"
     ]
    },
    {
     "name": "stdout",
     "output_type": "stream",
     "text": [
      "Validation Cross-Entropy Loss = 0.2979\n",
      "Validation Accuracy = 89.60%\n",
      "\n",
      "Epoch 7/24\n",
      "======== Training phase ========\n"
     ]
    },
    {
     "name": "stderr",
     "output_type": "stream",
     "text": [
      "Loss = 0.1474  |  Accuracy = 91.20% | Batch ID = 469 : 100%|██████████| 469/469 [00:25<00:00, 18.53it/s]\n"
     ]
    },
    {
     "name": "stdout",
     "output_type": "stream",
     "text": [
      "Training Cross-Entropy Loss = 0.2410\n",
      "Training Accuracy = 91.20%\n",
      "======== Validation phase ========\n"
     ]
    },
    {
     "name": "stderr",
     "output_type": "stream",
     "text": [
      "Loss = 0.2284  |  Accuracy = 89.33% | Batch ID = 79 : 100%|██████████| 79/79 [00:01<00:00, 51.14it/s]\n"
     ]
    },
    {
     "name": "stdout",
     "output_type": "stream",
     "text": [
      "Validation Cross-Entropy Loss = 0.2910\n",
      "Validation Accuracy = 89.33%\n",
      "\n",
      "Epoch 8/24\n",
      "======== Training phase ========\n"
     ]
    },
    {
     "name": "stderr",
     "output_type": "stream",
     "text": [
      "Loss = 0.2158  |  Accuracy = 92.23% | Batch ID = 469 : 100%|██████████| 469/469 [00:24<00:00, 18.86it/s]\n"
     ]
    },
    {
     "name": "stdout",
     "output_type": "stream",
     "text": [
      "Training Cross-Entropy Loss = 0.2110\n",
      "Training Accuracy = 92.23%\n",
      "======== Validation phase ========\n"
     ]
    },
    {
     "name": "stderr",
     "output_type": "stream",
     "text": [
      "Loss = 0.3940  |  Accuracy = 90.64% | Batch ID = 79 : 100%|██████████| 79/79 [00:01<00:00, 50.88it/s]\n"
     ]
    },
    {
     "name": "stdout",
     "output_type": "stream",
     "text": [
      "Validation Cross-Entropy Loss = 0.2688\n",
      "Validation Accuracy = 90.64%\n",
      "\n",
      "Epoch 9/24\n",
      "======== Training phase ========\n"
     ]
    },
    {
     "name": "stderr",
     "output_type": "stream",
     "text": [
      "Loss = 0.1690  |  Accuracy = 92.63% | Batch ID = 469 : 100%|██████████| 469/469 [00:24<00:00, 18.83it/s]\n"
     ]
    },
    {
     "name": "stdout",
     "output_type": "stream",
     "text": [
      "Training Cross-Entropy Loss = 0.1965\n",
      "Training Accuracy = 92.63%\n",
      "======== Validation phase ========\n"
     ]
    },
    {
     "name": "stderr",
     "output_type": "stream",
     "text": [
      "Loss = 0.3342  |  Accuracy = 91.16% | Batch ID = 79 : 100%|██████████| 79/79 [00:01<00:00, 50.46it/s]\n"
     ]
    },
    {
     "name": "stdout",
     "output_type": "stream",
     "text": [
      "Validation Cross-Entropy Loss = 0.2547\n",
      "Validation Accuracy = 91.16%\n",
      "\n",
      "Epoch 10/24\n",
      "======== Training phase ========\n"
     ]
    },
    {
     "name": "stderr",
     "output_type": "stream",
     "text": [
      "Loss = 0.1979  |  Accuracy = 93.22% | Batch ID = 469 : 100%|██████████| 469/469 [00:24<00:00, 18.83it/s]\n"
     ]
    },
    {
     "name": "stdout",
     "output_type": "stream",
     "text": [
      "Training Cross-Entropy Loss = 0.1815\n",
      "Training Accuracy = 93.22%\n",
      "======== Validation phase ========\n"
     ]
    },
    {
     "name": "stderr",
     "output_type": "stream",
     "text": [
      "Loss = 0.0920  |  Accuracy = 90.35% | Batch ID = 79 : 100%|██████████| 79/79 [00:01<00:00, 50.67it/s]\n"
     ]
    },
    {
     "name": "stdout",
     "output_type": "stream",
     "text": [
      "Validation Cross-Entropy Loss = 0.2724\n",
      "Validation Accuracy = 90.35%\n",
      "\n",
      "Epoch 11/24\n",
      "======== Training phase ========\n"
     ]
    },
    {
     "name": "stderr",
     "output_type": "stream",
     "text": [
      "Loss = 0.1504  |  Accuracy = 93.61% | Batch ID = 469 : 100%|██████████| 469/469 [00:25<00:00, 18.51it/s]\n"
     ]
    },
    {
     "name": "stdout",
     "output_type": "stream",
     "text": [
      "Training Cross-Entropy Loss = 0.1711\n",
      "Training Accuracy = 93.61%\n",
      "======== Validation phase ========\n"
     ]
    },
    {
     "name": "stderr",
     "output_type": "stream",
     "text": [
      "Loss = 0.1575  |  Accuracy = 91.21% | Batch ID = 79 : 100%|██████████| 79/79 [00:01<00:00, 50.86it/s]\n"
     ]
    },
    {
     "name": "stdout",
     "output_type": "stream",
     "text": [
      "Validation Cross-Entropy Loss = 0.2572\n",
      "Validation Accuracy = 91.21%\n",
      "\n",
      "Epoch 12/24\n",
      "======== Training phase ========\n"
     ]
    },
    {
     "name": "stderr",
     "output_type": "stream",
     "text": [
      "Loss = 0.1694  |  Accuracy = 93.53% | Batch ID = 469 : 100%|██████████| 469/469 [00:24<00:00, 18.85it/s]\n"
     ]
    },
    {
     "name": "stdout",
     "output_type": "stream",
     "text": [
      "Training Cross-Entropy Loss = 0.1765\n",
      "Training Accuracy = 93.53%\n",
      "======== Validation phase ========\n"
     ]
    },
    {
     "name": "stderr",
     "output_type": "stream",
     "text": [
      "Loss = 0.6240  |  Accuracy = 90.95% | Batch ID = 79 : 100%|██████████| 79/79 [00:01<00:00, 50.64it/s]\n"
     ]
    },
    {
     "name": "stdout",
     "output_type": "stream",
     "text": [
      "Validation Cross-Entropy Loss = 0.2619\n",
      "Validation Accuracy = 90.95%\n",
      "\n",
      "Epoch 13/24\n",
      "======== Training phase ========\n"
     ]
    },
    {
     "name": "stderr",
     "output_type": "stream",
     "text": [
      "Loss = 0.0923  |  Accuracy = 94.27% | Batch ID = 469 : 100%|██████████| 469/469 [00:25<00:00, 18.48it/s]\n"
     ]
    },
    {
     "name": "stdout",
     "output_type": "stream",
     "text": [
      "Training Cross-Entropy Loss = 0.1516\n",
      "Training Accuracy = 94.27%\n",
      "======== Validation phase ========\n"
     ]
    },
    {
     "name": "stderr",
     "output_type": "stream",
     "text": [
      "Loss = 0.2593  |  Accuracy = 91.21% | Batch ID = 79 : 100%|██████████| 79/79 [00:01<00:00, 50.28it/s]\n"
     ]
    },
    {
     "name": "stdout",
     "output_type": "stream",
     "text": [
      "Validation Cross-Entropy Loss = 0.2556\n",
      "Validation Accuracy = 91.21%\n",
      "\n",
      "Epoch 14/24\n",
      "======== Training phase ========\n"
     ]
    },
    {
     "name": "stderr",
     "output_type": "stream",
     "text": [
      "Loss = 0.1276  |  Accuracy = 94.58% | Batch ID = 469 : 100%|██████████| 469/469 [00:24<00:00, 18.99it/s]\n"
     ]
    },
    {
     "name": "stdout",
     "output_type": "stream",
     "text": [
      "Training Cross-Entropy Loss = 0.1405\n",
      "Training Accuracy = 94.58%\n",
      "======== Validation phase ========\n"
     ]
    },
    {
     "name": "stderr",
     "output_type": "stream",
     "text": [
      "Loss = 0.3526  |  Accuracy = 90.55% | Batch ID = 79 : 100%|██████████| 79/79 [00:01<00:00, 50.89it/s]\n"
     ]
    },
    {
     "name": "stdout",
     "output_type": "stream",
     "text": [
      "Validation Cross-Entropy Loss = 0.3018\n",
      "Validation Accuracy = 90.55%\n",
      "\n",
      "Epoch 15/24\n",
      "======== Training phase ========\n"
     ]
    },
    {
     "name": "stderr",
     "output_type": "stream",
     "text": [
      "Loss = 0.0943  |  Accuracy = 95.00% | Batch ID = 469 : 100%|██████████| 469/469 [00:25<00:00, 18.58it/s]\n"
     ]
    },
    {
     "name": "stdout",
     "output_type": "stream",
     "text": [
      "Training Cross-Entropy Loss = 0.1325\n",
      "Training Accuracy = 95.00%\n",
      "======== Validation phase ========\n"
     ]
    },
    {
     "name": "stderr",
     "output_type": "stream",
     "text": [
      "Loss = 0.1891  |  Accuracy = 90.77% | Batch ID = 79 : 100%|██████████| 79/79 [00:01<00:00, 50.79it/s]\n"
     ]
    },
    {
     "name": "stdout",
     "output_type": "stream",
     "text": [
      "Validation Cross-Entropy Loss = 0.2789\n",
      "Validation Accuracy = 90.77%\n",
      "\n",
      "Epoch 16/24\n",
      "======== Training phase ========\n"
     ]
    },
    {
     "name": "stderr",
     "output_type": "stream",
     "text": [
      "Loss = 0.1103  |  Accuracy = 95.50% | Batch ID = 469 : 100%|██████████| 469/469 [00:24<00:00, 18.97it/s]\n"
     ]
    },
    {
     "name": "stdout",
     "output_type": "stream",
     "text": [
      "Training Cross-Entropy Loss = 0.1204\n",
      "Training Accuracy = 95.50%\n",
      "======== Validation phase ========\n"
     ]
    },
    {
     "name": "stderr",
     "output_type": "stream",
     "text": [
      "Loss = 0.2276  |  Accuracy = 90.14% | Batch ID = 79 : 100%|██████████| 79/79 [00:01<00:00, 50.56it/s]\n"
     ]
    },
    {
     "name": "stdout",
     "output_type": "stream",
     "text": [
      "Validation Cross-Entropy Loss = 0.2974\n",
      "Validation Accuracy = 90.14%\n",
      "\n",
      "Epoch 17/24\n",
      "======== Training phase ========\n"
     ]
    },
    {
     "name": "stderr",
     "output_type": "stream",
     "text": [
      "Loss = 0.1050  |  Accuracy = 95.72% | Batch ID = 469 : 100%|██████████| 469/469 [00:24<00:00, 18.99it/s]\n"
     ]
    },
    {
     "name": "stdout",
     "output_type": "stream",
     "text": [
      "Training Cross-Entropy Loss = 0.1114\n",
      "Training Accuracy = 95.72%\n",
      "======== Validation phase ========\n"
     ]
    },
    {
     "name": "stderr",
     "output_type": "stream",
     "text": [
      "Loss = 0.2877  |  Accuracy = 90.61% | Batch ID = 79 : 100%|██████████| 79/79 [00:01<00:00, 50.91it/s]\n"
     ]
    },
    {
     "name": "stdout",
     "output_type": "stream",
     "text": [
      "Validation Cross-Entropy Loss = 0.3027\n",
      "Validation Accuracy = 90.61%\n",
      "\n",
      "Epoch 18/24\n",
      "======== Training phase ========\n"
     ]
    },
    {
     "name": "stderr",
     "output_type": "stream",
     "text": [
      "Loss = 0.0917  |  Accuracy = 96.14% | Batch ID = 469 : 100%|██████████| 469/469 [00:24<00:00, 18.84it/s]\n"
     ]
    },
    {
     "name": "stdout",
     "output_type": "stream",
     "text": [
      "Training Cross-Entropy Loss = 0.1030\n",
      "Training Accuracy = 96.14%\n",
      "======== Validation phase ========\n"
     ]
    },
    {
     "name": "stderr",
     "output_type": "stream",
     "text": [
      "Loss = 0.2598  |  Accuracy = 91.26% | Batch ID = 79 : 100%|██████████| 79/79 [00:01<00:00, 51.50it/s]\n"
     ]
    },
    {
     "name": "stdout",
     "output_type": "stream",
     "text": [
      "Validation Cross-Entropy Loss = 0.3233\n",
      "Validation Accuracy = 91.26%\n",
      "\n",
      "Epoch 19/24\n",
      "======== Training phase ========\n"
     ]
    },
    {
     "name": "stderr",
     "output_type": "stream",
     "text": [
      "Loss = 0.0816  |  Accuracy = 96.66% | Batch ID = 469 : 100%|██████████| 469/469 [00:24<00:00, 18.97it/s]\n"
     ]
    },
    {
     "name": "stdout",
     "output_type": "stream",
     "text": [
      "Training Cross-Entropy Loss = 0.0891\n",
      "Training Accuracy = 96.66%\n",
      "======== Validation phase ========\n"
     ]
    },
    {
     "name": "stderr",
     "output_type": "stream",
     "text": [
      "Loss = 0.4110  |  Accuracy = 90.95% | Batch ID = 79 : 100%|██████████| 79/79 [00:01<00:00, 51.02it/s]\n"
     ]
    },
    {
     "name": "stdout",
     "output_type": "stream",
     "text": [
      "Validation Cross-Entropy Loss = 0.3286\n",
      "Validation Accuracy = 90.95%\n",
      "\n",
      "Epoch 20/24\n",
      "======== Training phase ========\n"
     ]
    },
    {
     "name": "stderr",
     "output_type": "stream",
     "text": [
      "Loss = 0.1173  |  Accuracy = 96.73% | Batch ID = 469 : 100%|██████████| 469/469 [00:24<00:00, 18.99it/s]\n"
     ]
    },
    {
     "name": "stdout",
     "output_type": "stream",
     "text": [
      "Training Cross-Entropy Loss = 0.0862\n",
      "Training Accuracy = 96.73%\n",
      "======== Validation phase ========\n"
     ]
    },
    {
     "name": "stderr",
     "output_type": "stream",
     "text": [
      "Loss = 0.3015  |  Accuracy = 91.25% | Batch ID = 79 : 100%|██████████| 79/79 [00:01<00:00, 50.57it/s]\n"
     ]
    },
    {
     "name": "stdout",
     "output_type": "stream",
     "text": [
      "Validation Cross-Entropy Loss = 0.3047\n",
      "Validation Accuracy = 91.25%\n",
      "\n",
      "Epoch 21/24\n",
      "======== Training phase ========\n"
     ]
    },
    {
     "name": "stderr",
     "output_type": "stream",
     "text": [
      "Loss = 0.0865  |  Accuracy = 97.18% | Batch ID = 469 : 100%|██████████| 469/469 [00:24<00:00, 18.80it/s]\n"
     ]
    },
    {
     "name": "stdout",
     "output_type": "stream",
     "text": [
      "Training Cross-Entropy Loss = 0.0774\n",
      "Training Accuracy = 97.18%\n",
      "======== Validation phase ========\n"
     ]
    },
    {
     "name": "stderr",
     "output_type": "stream",
     "text": [
      "Loss = 0.6447  |  Accuracy = 91.24% | Batch ID = 79 : 100%|██████████| 79/79 [00:01<00:00, 50.54it/s]\n"
     ]
    },
    {
     "name": "stdout",
     "output_type": "stream",
     "text": [
      "Validation Cross-Entropy Loss = 0.3540\n",
      "Validation Accuracy = 91.24%\n",
      "\n",
      "Epoch 22/24\n",
      "======== Training phase ========\n"
     ]
    },
    {
     "name": "stderr",
     "output_type": "stream",
     "text": [
      "Loss = 0.0699  |  Accuracy = 97.24% | Batch ID = 469 : 100%|██████████| 469/469 [00:24<00:00, 19.00it/s]\n"
     ]
    },
    {
     "name": "stdout",
     "output_type": "stream",
     "text": [
      "Training Cross-Entropy Loss = 0.0741\n",
      "Training Accuracy = 97.24%\n",
      "======== Validation phase ========\n"
     ]
    },
    {
     "name": "stderr",
     "output_type": "stream",
     "text": [
      "Loss = 0.5353  |  Accuracy = 90.91% | Batch ID = 79 : 100%|██████████| 79/79 [00:01<00:00, 50.39it/s]\n"
     ]
    },
    {
     "name": "stdout",
     "output_type": "stream",
     "text": [
      "Validation Cross-Entropy Loss = 0.3470\n",
      "Validation Accuracy = 90.91%\n",
      "\n",
      "Epoch 23/24\n",
      "======== Training phase ========\n"
     ]
    },
    {
     "name": "stderr",
     "output_type": "stream",
     "text": [
      "Loss = 0.0470  |  Accuracy = 97.70% | Batch ID = 469 : 100%|██████████| 469/469 [00:24<00:00, 18.88it/s]\n"
     ]
    },
    {
     "name": "stdout",
     "output_type": "stream",
     "text": [
      "Training Cross-Entropy Loss = 0.0623\n",
      "Training Accuracy = 97.70%\n",
      "======== Validation phase ========\n"
     ]
    },
    {
     "name": "stderr",
     "output_type": "stream",
     "text": [
      "Loss = 0.9904  |  Accuracy = 91.13% | Batch ID = 79 : 100%|██████████| 79/79 [00:01<00:00, 50.94it/s]\n"
     ]
    },
    {
     "name": "stdout",
     "output_type": "stream",
     "text": [
      "Validation Cross-Entropy Loss = 0.3693\n",
      "Validation Accuracy = 91.13%\n",
      "\n",
      "Epoch 24/24\n",
      "======== Training phase ========\n"
     ]
    },
    {
     "name": "stderr",
     "output_type": "stream",
     "text": [
      "Loss = 0.0604  |  Accuracy = 97.67% | Batch ID = 469 : 100%|██████████| 469/469 [00:24<00:00, 18.93it/s]\n"
     ]
    },
    {
     "name": "stdout",
     "output_type": "stream",
     "text": [
      "Training Cross-Entropy Loss = 0.0648\n",
      "Training Accuracy = 97.67%\n",
      "======== Validation phase ========\n"
     ]
    },
    {
     "name": "stderr",
     "output_type": "stream",
     "text": [
      "Loss = 0.2618  |  Accuracy = 91.17% | Batch ID = 79 : 100%|██████████| 79/79 [00:01<00:00, 51.00it/s]\n"
     ]
    },
    {
     "name": "stdout",
     "output_type": "stream",
     "text": [
      "Validation Cross-Entropy Loss = 0.3399\n",
      "Validation Accuracy = 91.17%\n",
      "\n"
     ]
    },
    {
     "data": {
      "image/png": "[encoded data removed]",
      "text/plain": [
       "<Figure size 1000x500 with 1 Axes>"
      ]
     },
     "metadata": {},
     "output_type": "display_data"
    },
    {
     "name": "stdout",
     "output_type": "stream",
     "text": [
      "Cross-Entropy on training set:  0.0648\n",
      "Accuracy on training set:       97.67%\n",
      "\n",
      "Cross-Entropy on validation set: 0.3399\n",
      "Accuracy on validation set:      91.17%\n"
     ]
    }
   ],
   "source": [
    "# Train the network\n",
    "train_loss_hist, train_acc_hist, test_loss_hist, test_acc_hist = train(ResNet18, TrainLoader, TestLoader, optimizer, criterion, epochs = 24, device = device)"
   ]
  },
  {
   "cell_type": "markdown",
   "metadata": {},
   "source": [
    "### Exercise 1 (C) iii)"
   ]
  },
  {
   "cell_type": "code",
   "execution_count": 15,
   "metadata": {},
   "outputs": [],
   "source": [
    "# Use a ResNet-18 with pre-trained weights\n",
    "ResNet18_pretrained = resnet18(weights = ResNet18_Weights.DEFAULT)\n",
    "\n",
    "# Adapt the ResNet-18 pre-trained to the FashionMNIST dataset\n",
    "ResNet18_pretrained.conv1 = torch.nn.Conv2d(1, 64, kernel_size=7, stride=2, padding=3, bias=False)\n",
    "ResNet18_pretrained.fc = torch.nn.Linear(ResNet18_pretrained.fc.in_features, 10)"
   ]
  },
  {
   "cell_type": "code",
   "execution_count": 16,
   "metadata": {},
   "outputs": [
    {
     "name": "stdout",
     "output_type": "stream",
     "text": [
      "Device: mps\n"
     ]
    }
   ],
   "source": [
    "# Initialize the network, loss function, and optimizer\n",
    "device = set_device()\n",
    "ResNet18_pretrained = ResNet18_pretrained.to(device)\n",
    "criterion = torch.nn.CrossEntropyLoss()\n",
    "optimizer = torch.optim.Adam(ResNet18_pretrained.parameters(), lr = 0.01)"
   ]
  },
  {
   "cell_type": "code",
   "execution_count": 17,
   "metadata": {},
   "outputs": [
    {
     "name": "stdout",
     "output_type": "stream",
     "text": [
      "Epoch 1/24\n",
      "======== Training phase ========\n"
     ]
    },
    {
     "name": "stderr",
     "output_type": "stream",
     "text": [
      "Loss = 0.4397  |  Accuracy = 79.22% | Batch ID = 469 : 100%|██████████| 469/469 [00:25<00:00, 18.64it/s]\n"
     ]
    },
    {
     "name": "stdout",
     "output_type": "stream",
     "text": [
      "Training Cross-Entropy Loss = 0.5770\n",
      "Training Accuracy = 79.22%\n",
      "======== Validation phase ========\n"
     ]
    },
    {
     "name": "stderr",
     "output_type": "stream",
     "text": [
      "Loss = 0.3637  |  Accuracy = 83.27% | Batch ID = 79 : 100%|██████████| 79/79 [00:01<00:00, 52.27it/s]\n"
     ]
    },
    {
     "name": "stdout",
     "output_type": "stream",
     "text": [
      "Validation Cross-Entropy Loss = 0.4610\n",
      "Validation Accuracy = 83.27%\n",
      "\n",
      "Epoch 2/24\n",
      "======== Training phase ========\n"
     ]
    },
    {
     "name": "stderr",
     "output_type": "stream",
     "text": [
      "Loss = 0.3929  |  Accuracy = 86.21% | Batch ID = 469 : 100%|██████████| 469/469 [00:24<00:00, 19.29it/s]\n"
     ]
    },
    {
     "name": "stdout",
     "output_type": "stream",
     "text": [
      "Training Cross-Entropy Loss = 0.3794\n",
      "Training Accuracy = 86.21%\n",
      "======== Validation phase ========\n"
     ]
    },
    {
     "name": "stderr",
     "output_type": "stream",
     "text": [
      "Loss = 0.2312  |  Accuracy = 87.96% | Batch ID = 79 : 100%|██████████| 79/79 [00:01<00:00, 51.49it/s]\n"
     ]
    },
    {
     "name": "stdout",
     "output_type": "stream",
     "text": [
      "Validation Cross-Entropy Loss = 0.3336\n",
      "Validation Accuracy = 87.96%\n",
      "\n",
      "Epoch 3/24\n",
      "======== Training phase ========\n"
     ]
    },
    {
     "name": "stderr",
     "output_type": "stream",
     "text": [
      "Loss = 0.3710  |  Accuracy = 87.28% | Batch ID = 469 : 100%|██████████| 469/469 [00:24<00:00, 18.96it/s]\n"
     ]
    },
    {
     "name": "stdout",
     "output_type": "stream",
     "text": [
      "Training Cross-Entropy Loss = 0.3454\n",
      "Training Accuracy = 87.28%\n",
      "======== Validation phase ========\n"
     ]
    },
    {
     "name": "stderr",
     "output_type": "stream",
     "text": [
      "Loss = 0.1631  |  Accuracy = 87.37% | Batch ID = 79 : 100%|██████████| 79/79 [00:01<00:00, 51.72it/s]\n"
     ]
    },
    {
     "name": "stdout",
     "output_type": "stream",
     "text": [
      "Validation Cross-Entropy Loss = 0.3465\n",
      "Validation Accuracy = 87.37%\n",
      "\n",
      "Epoch 4/24\n",
      "======== Training phase ========\n"
     ]
    },
    {
     "name": "stderr",
     "output_type": "stream",
     "text": [
      "Loss = 0.2976  |  Accuracy = 88.93% | Batch ID = 469 : 100%|██████████| 469/469 [00:24<00:00, 19.12it/s]\n"
     ]
    },
    {
     "name": "stdout",
     "output_type": "stream",
     "text": [
      "Training Cross-Entropy Loss = 0.3020\n",
      "Training Accuracy = 88.93%\n",
      "======== Validation phase ========\n"
     ]
    },
    {
     "name": "stderr",
     "output_type": "stream",
     "text": [
      "Loss = 0.1677  |  Accuracy = 88.68% | Batch ID = 79 : 100%|██████████| 79/79 [00:01<00:00, 51.20it/s]\n"
     ]
    },
    {
     "name": "stdout",
     "output_type": "stream",
     "text": [
      "Validation Cross-Entropy Loss = 0.2997\n",
      "Validation Accuracy = 88.68%\n",
      "\n",
      "Epoch 5/24\n",
      "======== Training phase ========\n"
     ]
    },
    {
     "name": "stderr",
     "output_type": "stream",
     "text": [
      "Loss = 0.3582  |  Accuracy = 90.08% | Batch ID = 469 : 100%|██████████| 469/469 [00:24<00:00, 19.04it/s]\n"
     ]
    },
    {
     "name": "stdout",
     "output_type": "stream",
     "text": [
      "Training Cross-Entropy Loss = 0.2678\n",
      "Training Accuracy = 90.08%\n",
      "======== Validation phase ========\n"
     ]
    },
    {
     "name": "stderr",
     "output_type": "stream",
     "text": [
      "Loss = 0.1839  |  Accuracy = 89.01% | Batch ID = 79 : 100%|██████████| 79/79 [00:01<00:00, 51.77it/s]\n"
     ]
    },
    {
     "name": "stdout",
     "output_type": "stream",
     "text": [
      "Validation Cross-Entropy Loss = 0.2974\n",
      "Validation Accuracy = 89.01%\n",
      "\n",
      "Epoch 6/24\n",
      "======== Training phase ========\n"
     ]
    },
    {
     "name": "stderr",
     "output_type": "stream",
     "text": [
      "Loss = 0.1856  |  Accuracy = 90.79% | Batch ID = 469 : 100%|██████████| 469/469 [00:24<00:00, 19.03it/s]\n"
     ]
    },
    {
     "name": "stdout",
     "output_type": "stream",
     "text": [
      "Training Cross-Entropy Loss = 0.2476\n",
      "Training Accuracy = 90.79%\n",
      "======== Validation phase ========\n"
     ]
    },
    {
     "name": "stderr",
     "output_type": "stream",
     "text": [
      "Loss = 0.1343  |  Accuracy = 89.37% | Batch ID = 79 : 100%|██████████| 79/79 [00:01<00:00, 51.40it/s]\n"
     ]
    },
    {
     "name": "stdout",
     "output_type": "stream",
     "text": [
      "Validation Cross-Entropy Loss = 0.2900\n",
      "Validation Accuracy = 89.37%\n",
      "\n",
      "Epoch 7/24\n",
      "======== Training phase ========\n"
     ]
    },
    {
     "name": "stderr",
     "output_type": "stream",
     "text": [
      "Loss = 0.3005  |  Accuracy = 91.47% | Batch ID = 469 : 100%|██████████| 469/469 [00:24<00:00, 19.08it/s]\n"
     ]
    },
    {
     "name": "stdout",
     "output_type": "stream",
     "text": [
      "Training Cross-Entropy Loss = 0.2322\n",
      "Training Accuracy = 91.47%\n",
      "======== Validation phase ========\n"
     ]
    },
    {
     "name": "stderr",
     "output_type": "stream",
     "text": [
      "Loss = 0.0780  |  Accuracy = 90.39% | Batch ID = 79 : 100%|██████████| 79/79 [00:01<00:00, 51.37it/s]\n"
     ]
    },
    {
     "name": "stdout",
     "output_type": "stream",
     "text": [
      "Validation Cross-Entropy Loss = 0.2598\n",
      "Validation Accuracy = 90.39%\n",
      "\n",
      "Epoch 8/24\n",
      "======== Training phase ========\n"
     ]
    },
    {
     "name": "stderr",
     "output_type": "stream",
     "text": [
      "Loss = 0.1608  |  Accuracy = 91.76% | Batch ID = 469 : 100%|██████████| 469/469 [00:24<00:00, 19.01it/s]\n"
     ]
    },
    {
     "name": "stdout",
     "output_type": "stream",
     "text": [
      "Training Cross-Entropy Loss = 0.2198\n",
      "Training Accuracy = 91.76%\n",
      "======== Validation phase ========\n"
     ]
    },
    {
     "name": "stderr",
     "output_type": "stream",
     "text": [
      "Loss = 0.0519  |  Accuracy = 90.59% | Batch ID = 79 : 100%|██████████| 79/79 [00:01<00:00, 50.48it/s]\n"
     ]
    },
    {
     "name": "stdout",
     "output_type": "stream",
     "text": [
      "Validation Cross-Entropy Loss = 0.2588\n",
      "Validation Accuracy = 90.59%\n",
      "\n",
      "Epoch 9/24\n",
      "======== Training phase ========\n"
     ]
    },
    {
     "name": "stderr",
     "output_type": "stream",
     "text": [
      "Loss = 0.2982  |  Accuracy = 92.13% | Batch ID = 469 : 100%|██████████| 469/469 [00:24<00:00, 19.00it/s]\n"
     ]
    },
    {
     "name": "stdout",
     "output_type": "stream",
     "text": [
      "Training Cross-Entropy Loss = 0.2099\n",
      "Training Accuracy = 92.13%\n",
      "======== Validation phase ========\n"
     ]
    },
    {
     "name": "stderr",
     "output_type": "stream",
     "text": [
      "Loss = 0.0815  |  Accuracy = 90.45% | Batch ID = 79 : 100%|██████████| 79/79 [00:01<00:00, 50.88it/s]\n"
     ]
    },
    {
     "name": "stdout",
     "output_type": "stream",
     "text": [
      "Validation Cross-Entropy Loss = 0.2627\n",
      "Validation Accuracy = 90.45%\n",
      "\n",
      "Epoch 10/24\n",
      "======== Training phase ========\n"
     ]
    },
    {
     "name": "stderr",
     "output_type": "stream",
     "text": [
      "Loss = 0.1474  |  Accuracy = 92.55% | Batch ID = 469 : 100%|██████████| 469/469 [00:24<00:00, 19.05it/s]\n"
     ]
    },
    {
     "name": "stdout",
     "output_type": "stream",
     "text": [
      "Training Cross-Entropy Loss = 0.2014\n",
      "Training Accuracy = 92.55%\n",
      "======== Validation phase ========\n"
     ]
    },
    {
     "name": "stderr",
     "output_type": "stream",
     "text": [
      "Loss = 0.0987  |  Accuracy = 90.00% | Batch ID = 79 : 100%|██████████| 79/79 [00:01<00:00, 51.00it/s]\n"
     ]
    },
    {
     "name": "stdout",
     "output_type": "stream",
     "text": [
      "Validation Cross-Entropy Loss = 0.2837\n",
      "Validation Accuracy = 90.00%\n",
      "\n",
      "Epoch 11/24\n",
      "======== Training phase ========\n"
     ]
    },
    {
     "name": "stderr",
     "output_type": "stream",
     "text": [
      "Loss = 0.1966  |  Accuracy = 92.87% | Batch ID = 469 : 100%|██████████| 469/469 [00:24<00:00, 18.96it/s]\n"
     ]
    },
    {
     "name": "stdout",
     "output_type": "stream",
     "text": [
      "Training Cross-Entropy Loss = 0.1897\n",
      "Training Accuracy = 92.87%\n",
      "======== Validation phase ========\n"
     ]
    },
    {
     "name": "stderr",
     "output_type": "stream",
     "text": [
      "Loss = 0.0999  |  Accuracy = 91.22% | Batch ID = 79 : 100%|██████████| 79/79 [00:01<00:00, 51.20it/s]\n"
     ]
    },
    {
     "name": "stdout",
     "output_type": "stream",
     "text": [
      "Validation Cross-Entropy Loss = 0.2538\n",
      "Validation Accuracy = 91.22%\n",
      "\n",
      "Epoch 12/24\n",
      "======== Training phase ========\n"
     ]
    },
    {
     "name": "stderr",
     "output_type": "stream",
     "text": [
      "Loss = 0.4493  |  Accuracy = 91.86% | Batch ID = 469 : 100%|██████████| 469/469 [00:24<00:00, 19.04it/s]\n"
     ]
    },
    {
     "name": "stdout",
     "output_type": "stream",
     "text": [
      "Training Cross-Entropy Loss = 0.2361\n",
      "Training Accuracy = 91.86%\n",
      "======== Validation phase ========\n"
     ]
    },
    {
     "name": "stderr",
     "output_type": "stream",
     "text": [
      "Loss = 0.9683  |  Accuracy = 73.31% | Batch ID = 79 : 100%|██████████| 79/79 [00:01<00:00, 51.23it/s] \n"
     ]
    },
    {
     "name": "stdout",
     "output_type": "stream",
     "text": [
      "Validation Cross-Entropy Loss = 1.9495\n",
      "Validation Accuracy = 73.31%\n",
      "\n",
      "Epoch 13/24\n",
      "======== Training phase ========\n"
     ]
    },
    {
     "name": "stderr",
     "output_type": "stream",
     "text": [
      "Loss = 0.2399  |  Accuracy = 88.68% | Batch ID = 469 : 100%|██████████| 469/469 [00:24<00:00, 18.94it/s]\n"
     ]
    },
    {
     "name": "stdout",
     "output_type": "stream",
     "text": [
      "Training Cross-Entropy Loss = 0.2993\n",
      "Training Accuracy = 88.68%\n",
      "======== Validation phase ========\n"
     ]
    },
    {
     "name": "stderr",
     "output_type": "stream",
     "text": [
      "Loss = 0.3784  |  Accuracy = 88.52% | Batch ID = 79 : 100%|██████████| 79/79 [00:01<00:00, 50.69it/s]\n"
     ]
    },
    {
     "name": "stdout",
     "output_type": "stream",
     "text": [
      "Validation Cross-Entropy Loss = 0.3080\n",
      "Validation Accuracy = 88.52%\n",
      "\n",
      "Epoch 14/24\n",
      "======== Training phase ========\n"
     ]
    },
    {
     "name": "stderr",
     "output_type": "stream",
     "text": [
      "Loss = 0.2596  |  Accuracy = 91.63% | Batch ID = 469 : 100%|██████████| 469/469 [00:24<00:00, 19.04it/s]\n"
     ]
    },
    {
     "name": "stdout",
     "output_type": "stream",
     "text": [
      "Training Cross-Entropy Loss = 0.2252\n",
      "Training Accuracy = 91.63%\n",
      "======== Validation phase ========\n"
     ]
    },
    {
     "name": "stderr",
     "output_type": "stream",
     "text": [
      "Loss = 0.5796  |  Accuracy = 89.61% | Batch ID = 79 : 100%|██████████| 79/79 [00:01<00:00, 50.54it/s]\n"
     ]
    },
    {
     "name": "stdout",
     "output_type": "stream",
     "text": [
      "Validation Cross-Entropy Loss = 0.2926\n",
      "Validation Accuracy = 89.61%\n",
      "\n",
      "Epoch 15/24\n",
      "======== Training phase ========\n"
     ]
    },
    {
     "name": "stderr",
     "output_type": "stream",
     "text": [
      "Loss = 0.1460  |  Accuracy = 92.71% | Batch ID = 469 : 100%|██████████| 469/469 [00:24<00:00, 19.06it/s]\n"
     ]
    },
    {
     "name": "stdout",
     "output_type": "stream",
     "text": [
      "Training Cross-Entropy Loss = 0.1979\n",
      "Training Accuracy = 92.71%\n",
      "======== Validation phase ========\n"
     ]
    },
    {
     "name": "stderr",
     "output_type": "stream",
     "text": [
      "Loss = 0.1174  |  Accuracy = 90.86% | Batch ID = 79 : 100%|██████████| 79/79 [00:01<00:00, 51.16it/s]\n"
     ]
    },
    {
     "name": "stdout",
     "output_type": "stream",
     "text": [
      "Validation Cross-Entropy Loss = 0.2639\n",
      "Validation Accuracy = 90.86%\n",
      "\n",
      "Epoch 16/24\n",
      "======== Training phase ========\n"
     ]
    },
    {
     "name": "stderr",
     "output_type": "stream",
     "text": [
      "Loss = 0.1051  |  Accuracy = 93.23% | Batch ID = 469 : 100%|██████████| 469/469 [00:24<00:00, 19.03it/s]\n"
     ]
    },
    {
     "name": "stdout",
     "output_type": "stream",
     "text": [
      "Training Cross-Entropy Loss = 0.1823\n",
      "Training Accuracy = 93.23%\n",
      "======== Validation phase ========\n"
     ]
    },
    {
     "name": "stderr",
     "output_type": "stream",
     "text": [
      "Loss = 0.2648  |  Accuracy = 91.15% | Batch ID = 79 : 100%|██████████| 79/79 [00:01<00:00, 51.17it/s]\n"
     ]
    },
    {
     "name": "stdout",
     "output_type": "stream",
     "text": [
      "Validation Cross-Entropy Loss = 0.2631\n",
      "Validation Accuracy = 91.15%\n",
      "\n",
      "Epoch 17/24\n",
      "======== Training phase ========\n"
     ]
    },
    {
     "name": "stderr",
     "output_type": "stream",
     "text": [
      "Loss = 0.2063  |  Accuracy = 93.73% | Batch ID = 469 : 100%|██████████| 469/469 [00:24<00:00, 19.08it/s]\n"
     ]
    },
    {
     "name": "stdout",
     "output_type": "stream",
     "text": [
      "Training Cross-Entropy Loss = 0.1675\n",
      "Training Accuracy = 93.73%\n",
      "======== Validation phase ========\n"
     ]
    },
    {
     "name": "stderr",
     "output_type": "stream",
     "text": [
      "Loss = 0.2486  |  Accuracy = 90.93% | Batch ID = 79 : 100%|██████████| 79/79 [00:01<00:00, 50.83it/s]\n"
     ]
    },
    {
     "name": "stdout",
     "output_type": "stream",
     "text": [
      "Validation Cross-Entropy Loss = 0.2571\n",
      "Validation Accuracy = 90.93%\n",
      "\n",
      "Epoch 18/24\n",
      "======== Training phase ========\n"
     ]
    },
    {
     "name": "stderr",
     "output_type": "stream",
     "text": [
      "Loss = 0.1747  |  Accuracy = 94.19% | Batch ID = 469 : 100%|██████████| 469/469 [00:24<00:00, 19.12it/s]\n"
     ]
    },
    {
     "name": "stdout",
     "output_type": "stream",
     "text": [
      "Training Cross-Entropy Loss = 0.1569\n",
      "Training Accuracy = 94.19%\n",
      "======== Validation phase ========\n"
     ]
    },
    {
     "name": "stderr",
     "output_type": "stream",
     "text": [
      "Loss = 0.3013  |  Accuracy = 91.15% | Batch ID = 79 : 100%|██████████| 79/79 [00:01<00:00, 51.19it/s]\n"
     ]
    },
    {
     "name": "stdout",
     "output_type": "stream",
     "text": [
      "Validation Cross-Entropy Loss = 0.2757\n",
      "Validation Accuracy = 91.15%\n",
      "\n",
      "Epoch 19/24\n",
      "======== Training phase ========\n"
     ]
    },
    {
     "name": "stderr",
     "output_type": "stream",
     "text": [
      "Loss = 0.1625  |  Accuracy = 91.93% | Batch ID = 469 : 100%|██████████| 469/469 [00:24<00:00, 18.94it/s]\n"
     ]
    },
    {
     "name": "stdout",
     "output_type": "stream",
     "text": [
      "Training Cross-Entropy Loss = 0.2181\n",
      "Training Accuracy = 91.93%\n",
      "======== Validation phase ========\n"
     ]
    },
    {
     "name": "stderr",
     "output_type": "stream",
     "text": [
      "Loss = 0.4670  |  Accuracy = 90.71% | Batch ID = 79 : 100%|██████████| 79/79 [00:01<00:00, 50.87it/s]\n"
     ]
    },
    {
     "name": "stdout",
     "output_type": "stream",
     "text": [
      "Validation Cross-Entropy Loss = 0.2707\n",
      "Validation Accuracy = 90.71%\n",
      "\n",
      "Epoch 20/24\n",
      "======== Training phase ========\n"
     ]
    },
    {
     "name": "stderr",
     "output_type": "stream",
     "text": [
      "Loss = 0.3068  |  Accuracy = 93.81% | Batch ID = 469 : 100%|██████████| 469/469 [00:24<00:00, 18.95it/s]\n"
     ]
    },
    {
     "name": "stdout",
     "output_type": "stream",
     "text": [
      "Training Cross-Entropy Loss = 0.1653\n",
      "Training Accuracy = 93.81%\n",
      "======== Validation phase ========\n"
     ]
    },
    {
     "name": "stderr",
     "output_type": "stream",
     "text": [
      "Loss = 0.2498  |  Accuracy = 91.22% | Batch ID = 79 : 100%|██████████| 79/79 [00:01<00:00, 50.54it/s]\n"
     ]
    },
    {
     "name": "stdout",
     "output_type": "stream",
     "text": [
      "Validation Cross-Entropy Loss = 0.2473\n",
      "Validation Accuracy = 91.22%\n",
      "\n",
      "Epoch 21/24\n",
      "======== Training phase ========\n"
     ]
    },
    {
     "name": "stderr",
     "output_type": "stream",
     "text": [
      "Loss = 0.1765  |  Accuracy = 94.52% | Batch ID = 469 : 100%|██████████| 469/469 [00:24<00:00, 19.00it/s]\n"
     ]
    },
    {
     "name": "stdout",
     "output_type": "stream",
     "text": [
      "Training Cross-Entropy Loss = 0.1447\n",
      "Training Accuracy = 94.52%\n",
      "======== Validation phase ========\n"
     ]
    },
    {
     "name": "stderr",
     "output_type": "stream",
     "text": [
      "Loss = 0.3622  |  Accuracy = 91.10% | Batch ID = 79 : 100%|██████████| 79/79 [00:01<00:00, 50.67it/s]\n"
     ]
    },
    {
     "name": "stdout",
     "output_type": "stream",
     "text": [
      "Validation Cross-Entropy Loss = 0.2725\n",
      "Validation Accuracy = 91.10%\n",
      "\n",
      "Epoch 22/24\n",
      "======== Training phase ========\n"
     ]
    },
    {
     "name": "stderr",
     "output_type": "stream",
     "text": [
      "Loss = 0.1207  |  Accuracy = 94.95% | Batch ID = 469 : 100%|██████████| 469/469 [00:24<00:00, 18.95it/s]\n"
     ]
    },
    {
     "name": "stdout",
     "output_type": "stream",
     "text": [
      "Training Cross-Entropy Loss = 0.1327\n",
      "Training Accuracy = 94.95%\n",
      "======== Validation phase ========\n"
     ]
    },
    {
     "name": "stderr",
     "output_type": "stream",
     "text": [
      "Loss = 0.1766  |  Accuracy = 91.00% | Batch ID = 79 : 100%|██████████| 79/79 [00:01<00:00, 51.24it/s]\n"
     ]
    },
    {
     "name": "stdout",
     "output_type": "stream",
     "text": [
      "Validation Cross-Entropy Loss = 0.2800\n",
      "Validation Accuracy = 91.00%\n",
      "\n",
      "Epoch 23/24\n",
      "======== Training phase ========\n"
     ]
    },
    {
     "name": "stderr",
     "output_type": "stream",
     "text": [
      "Loss = 0.0517  |  Accuracy = 95.29% | Batch ID = 469 : 100%|██████████| 469/469 [00:24<00:00, 18.93it/s]\n"
     ]
    },
    {
     "name": "stdout",
     "output_type": "stream",
     "text": [
      "Training Cross-Entropy Loss = 0.1240\n",
      "Training Accuracy = 95.29%\n",
      "======== Validation phase ========\n"
     ]
    },
    {
     "name": "stderr",
     "output_type": "stream",
     "text": [
      "Loss = 0.2391  |  Accuracy = 91.50% | Batch ID = 79 : 100%|██████████| 79/79 [00:01<00:00, 50.87it/s]\n"
     ]
    },
    {
     "name": "stdout",
     "output_type": "stream",
     "text": [
      "Validation Cross-Entropy Loss = 0.2678\n",
      "Validation Accuracy = 91.50%\n",
      "\n",
      "Epoch 24/24\n",
      "======== Training phase ========\n"
     ]
    },
    {
     "name": "stderr",
     "output_type": "stream",
     "text": [
      "Loss = 0.1870  |  Accuracy = 95.63% | Batch ID = 469 : 100%|██████████| 469/469 [00:24<00:00, 19.06it/s]\n"
     ]
    },
    {
     "name": "stdout",
     "output_type": "stream",
     "text": [
      "Training Cross-Entropy Loss = 0.1134\n",
      "Training Accuracy = 95.63%\n",
      "======== Validation phase ========\n"
     ]
    },
    {
     "name": "stderr",
     "output_type": "stream",
     "text": [
      "Loss = 0.2033  |  Accuracy = 91.37% | Batch ID = 79 : 100%|██████████| 79/79 [00:01<00:00, 50.95it/s]\n"
     ]
    },
    {
     "name": "stdout",
     "output_type": "stream",
     "text": [
      "Validation Cross-Entropy Loss = 0.2943\n",
      "Validation Accuracy = 91.37%\n",
      "\n"
     ]
    },
    {
     "data": {
      "image/png": "[encoded data removed]",
      "text/plain": [
       "<Figure size 1000x500 with 1 Axes>"
      ]
     },
     "metadata": {},
     "output_type": "display_data"
    },
    {
     "name": "stdout",
     "output_type": "stream",
     "text": [
      "Cross-Entropy on training set:  0.1134\n",
      "Accuracy on training set:       95.63%\n",
      "\n",
      "Cross-Entropy on validation set: 0.2943\n",
      "Accuracy on validation set:      91.37%\n"
     ]
    }
   ],
   "source": [
    "# Train the network\n",
    "train_loss_hist, train_acc_hist, test_loss_hist, test_acc_hist = train(ResNet18_pretrained, TrainLoader, TestLoader, optimizer, criterion, epochs = 24, device = device)"
   ]
  }
 ],
 "metadata": {
  "kernelspec": {
   "display_name": "base",
   "language": "python",
   "name": "python3"
  },
  "language_info": {
   "codemirror_mode": {
    "name": "ipython",
    "version": 3
   },
   "file_extension": ".py",
   "mimetype": "text/x-python",
   "name": "python",
   "nbconvert_exporter": "python",
   "pygments_lexer": "ipython3",
   "version": "3.10.9"
  }
 },
 "nbformat": 4,
 "nbformat_minor": 2
}
