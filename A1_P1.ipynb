{
 "cells": [
  {
   "cell_type": "markdown",
   "metadata": {},
   "source": [
    "# Libraries & Custom functions"
   ]
  },
  {
   "cell_type": "markdown",
   "metadata": {
    "collapsed": false
   },
   "source": [
    "### Imports"
   ]
  },
  {
   "cell_type": "code",
   "execution_count": 1,
   "metadata": {
    "ExecuteTime": {
     "end_time": "2023-11-09T19:13:33.987356600Z",
     "start_time": "2023-11-09T19:13:33.967326600Z"
    }
   },
   "outputs": [],
   "source": [
    "import torch\n",
    "import torchvision\n",
    "import torchvision.transforms as transforms\n",
    "import torch.nn.functional as F\n",
    "import matplotlib.pyplot as plt\n",
    "import numpy as np\n",
    "\n",
    "from torch.utils.data import DataLoader\n",
    "from tqdm import tqdm\n",
    "\n",
    "# Ignore UserWarning\n",
    "import warnings\n",
    "warnings.filterwarnings(\"ignore\", category=UserWarning)"
   ]
  },
  {
   "cell_type": "code",
   "execution_count": 19,
   "metadata": {},
   "outputs": [],
   "source": [
    "############################################################### Functions for Part 1 b) ###############################################################\n",
    "\n",
    "def BCE_Loss(y_true, y_hat):\n",
    "    if y_true == y_hat:\n",
    "        return torch.tensor(0.)\n",
    "\n",
    "    return -1 * (y_true * torch.log(y_hat) + (1 - y_true) * torch.log(1 - y_hat))\n",
    "\n",
    "\n",
    "def ForwardPass(X, W, b = 0):\n",
    "\n",
    "    z1 = torch.matmul(X, W[0].T) + b\n",
    "    a1 = F.relu(z1)\n",
    "\n",
    "    z2 = torch.matmul(a1, W[1].T) + b\n",
    "    a2 = F.leaky_relu(z2, negative_slope = 0.01)\n",
    "\n",
    "    z3 = torch.matmul(a2, W[2].T) + b\n",
    "    a3 = F.sigmoid(z3)\n",
    "\n",
    "    return a3, a2, a1\n",
    "\n",
    "\n",
    "def BackwardPass(X, a1, a2, a3, y_true, W):\n",
    "\n",
    "    # Partial derivative of the loss function with respect to the prediction\n",
    "    dL_da3 = -1 * (y_true / a3 - (1 - y_true) / (1 - a3)) if y_true != a3 else torch.tensor([0.])\n",
    "    # Partial derivative of the loss function with respect to z3, using the sigmoid derivative\n",
    "    dL_dz3 = dL_da3 * (a3 * (1 - a3))\n",
    "    # Partial derivative of the loss function with respect to the weights of the connections between the second hidden layer and the output layer\n",
    "    dL_dW3 = torch.matmul(dL_dz3.T, a2)\n",
    "\n",
    "    # Partial derivative of the loss function with respect to the activation values from the second hidden layer\n",
    "    dL_da2 = torch.matmul(dL_dz3, W[2])\n",
    "    # Partial derivative of the loss function with respect to z2, using the Leaky ReLU derivative\n",
    "    dL_dz2 = torch.where(a2 >= 0, dL_da2, 0.01 * dL_da2)\n",
    "    # Partial derivative of the loss function with respect to the weights of the connections between the first and second hidden layers\n",
    "    dL_dW2 = torch.matmul(dL_dz2.T, a1)\n",
    "\n",
    "    # Partial derivative of the loss function with respect to the activation values from the first hidden layer\n",
    "    dL_da1 = torch.matmul(dL_dz2, W[1])\n",
    "    # Partial derivative of the loss function with respect to z2, using the ReLU derivative\n",
    "    dL_dz1 = torch.where(a1 >= 0, dL_da1, 0.0 * dL_da1)\n",
    "    # Partial derivative of the loss function with respect to the weights of the connections between the input layer and the first hidden layers\n",
    "    dL_dW1 = torch.matmul(dL_dz1.T, X)\n",
    "\n",
    "    return dL_dW1, dL_dW2, dL_dW3\n",
    "\n",
    "\n",
    "def StochasticGradientDescent(dL_dW1, dL_dW2, dL_dW3, W, lr):\n",
    "    # Update weights using SGD\n",
    "    W[0] -= lr * dL_dW1\n",
    "    W[1] -= lr * dL_dW2\n",
    "    W[2] -= lr * dL_dW3\n",
    "\n",
    "    return W\n",
    "\n",
    "\n",
    "############################################################### Functions for Part 1 c) and d) ###############################################################\n",
    "\n",
    "# Define a function to display a batch of images\n",
    "def imshow(img):\n",
    "    img = img / 2 + 0.5  # Unnormalize the image\n",
    "    npimg = img.numpy()\n",
    "    plt.imshow(np.transpose(npimg, (1, 2, 0)))  # Fix the missing closing parenthesis\n",
    "    plt.show()\n",
    "\n",
    "\n",
    "def set_device():\n",
    "    if torch.cuda.is_available():\n",
    "        device = torch.device('cuda')\n",
    "\n",
    "    elif torch.backends.mps.is_available():\n",
    "        device = torch.device('mps')\n",
    "\n",
    "    else:\n",
    "        device = torch.device('cpu')\n",
    "    print('Device:', device)\n",
    "\n",
    "    return device\n",
    "\n",
    "\n",
    "class NeuralNetwork_Exercise1_c(torch.nn.Module):\n",
    "    def __init__(self):\n",
    "        super().__init__()\n",
    "        self.fc1 = torch.nn.Linear(784, 256)  # Input size for MNIST is 28x28=784\n",
    "        self.fc2 = torch.nn.Linear(256, 128)\n",
    "        self.fc3 = torch.nn.Linear(128, 10)   # 10 output classes for Fashion-MNIST\n",
    "\n",
    "    def forward(self, x):\n",
    "        x = x.view(-1, 784)  # Flatten the input\n",
    "        x = F.relu(self.fc1(x))\n",
    "        x = F.leaky_relu(self.fc2(x))\n",
    "        x = self.fc3(x)\n",
    "        return x\n",
    "\n",
    "\n",
    "# Define a more complex neural network\n",
    "class NeuralNetwork_Exercise1_d(torch.nn.Module):\n",
    "    def __init__(self):\n",
    "        super().__init__()\n",
    "        self.input_layer = torch.nn.Linear(784, 256)\n",
    "        self.fc_128_256 = torch.nn.Linear(128, 256)\n",
    "        self.fc_256_512 = torch.nn.Linear(256, 512)\n",
    "        self.fc_128_128 = torch.nn.Linear(128, 128)\n",
    "        self.fc_256_256 = torch.nn.Linear(256, 256)\n",
    "        self.fc_512_512 = torch.nn.Linear(512, 512)\n",
    "        self.fc_512_1024 = torch.nn.Linear(512, 1024)\n",
    "        self.fc_1024_1024 = torch.nn.Linear(1024, 1024)\n",
    "        self.fc_1024_2048 = torch.nn.Linear(1024, 2048)\n",
    "        self.fc_2048_1024 = torch.nn.Linear(2048, 1024)\n",
    "        self.fc_2048_2048 = torch.nn.Linear(2048, 2048)\n",
    "        self.fc_1024_512 = torch.nn.Linear(1024, 512)\n",
    "        self.fc_512_256 = torch.nn.Linear(512, 256)\n",
    "        self.fc_256_128 = torch.nn.Linear(256, 128)\n",
    "        self.fc_128_64 = torch.nn.Linear(256, 128)\n",
    "        self.output_layer = torch.nn.Linear(128, 10)\n",
    "        self.leaky_relu = torch.nn.LeakyReLU(0.01)\n",
    "        self.relu = torch.nn.ReLU()\n",
    "        self.sigmoid = torch.nn.Sigmoid()\n",
    "        self.dropout_10 = torch.nn.Dropout(0.1)\n",
    "        self.dropout_20 = torch.nn.Dropout(0.2)\n",
    "        self.dropout_30 = torch.nn.Dropout(0.3)\n",
    "        self.dropout_40 = torch.nn.Dropout(0.4)\n",
    "        self.dropout_50 = torch.nn.Dropout(0.5)\n",
    "        self.batch_norm2048 = torch.nn.BatchNorm1d(2048)\n",
    "        self.batch_norm1024 = torch.nn.BatchNorm1d(1024)\n",
    "        self.batch_norm512 = torch.nn.BatchNorm1d(512)\n",
    "        self.batch_norm256 = torch.nn.BatchNorm1d(256)\n",
    "        self.batch_norm128 = torch.nn.BatchNorm1d(128)\n",
    "\n",
    "    def forward(self, x):\n",
    "        x = x.view(-1, 784)\n",
    "        x = self.relu(self.batch_norm256(self.input_layer(x)))\n",
    "        x = self.relu(self.batch_norm128(self.fc_256_128(x)))\n",
    "        x = self.dropout_40(x)\n",
    "        x = self.relu(self.batch_norm128(self.fc_128_128(x)))\n",
    "        x = self.dropout_40(x)\n",
    "        x = self.relu(self.batch_norm128(self.fc_128_128(x)))\n",
    "        x = self.dropout_40(x)\n",
    "        x = self.relu(self.batch_norm128(self.fc_128_128(x)))\n",
    "        x = self.dropout_40(x)\n",
    "        x = self.relu(self.batch_norm128(self.fc_128_128(x)))\n",
    "        x = self.dropout_40(x)\n",
    "        x = self.relu(self.batch_norm128(self.fc_128_128(x)))\n",
    "        x = self.dropout_40(x)\n",
    "        x = self.relu(self.batch_norm128(self.fc_128_128(x)))\n",
    "        x = self.dropout_40(x)\n",
    "        x = self.relu(self.batch_norm128(self.fc_128_128(x)))\n",
    "        x = self.dropout_40(x)\n",
    "        x = self.relu(self.batch_norm128(self.fc_128_128(x)))\n",
    "        x = self.dropout_40(x)\n",
    "        x = self.relu(self.batch_norm128(self.fc_128_128(x)))\n",
    "        x = self.dropout_40(x)\n",
    "        x = self.relu(self.batch_norm128(self.fc_128_128(x)))\n",
    "        x = self.dropout_40(x)\n",
    "        x = self.relu(self.batch_norm128(self.fc_128_128(x)))\n",
    "        x = self.dropout_40(x)\n",
    "        x = self.relu(self.batch_norm128(self.fc_128_128(x)))\n",
    "        x = self.dropout_40(x)\n",
    "        x = self.relu(self.batch_norm128(self.fc_128_128(x)))\n",
    "        x = self.dropout_40(x)\n",
    "        x = self.relu(self.batch_norm128(self.fc_128_128(x)))\n",
    "        x = self.dropout_40(x)\n",
    "        x = self.relu(self.batch_norm128(self.fc_128_128(x)))\n",
    "        x = self.dropout_40(x)\n",
    "        x = self.relu(self.batch_norm256(self.fc_128_256(x)))\n",
    "        x = self.dropout_40(x)\n",
    "        x = self.relu(self.batch_norm256(self.fc_256_256(x)))\n",
    "        x = self.dropout_40(x)\n",
    "        x = self.relu(self.batch_norm256(self.fc_256_256(x)))\n",
    "        x = self.dropout_40(x)\n",
    "        x = self.relu(self.batch_norm256(self.fc_256_256(x)))\n",
    "        x = self.dropout_40(x)\n",
    "        x = self.relu(self.batch_norm256(self.fc_256_256(x)))\n",
    "        x = self.dropout_40(x)\n",
    "        x = self.relu(self.batch_norm256(self.fc_256_256(x)))\n",
    "        x = self.dropout_40(x)\n",
    "        x = self.relu(self.batch_norm256(self.fc_256_256(x)))\n",
    "        x = self.dropout_40(x)\n",
    "        x = self.relu(self.batch_norm256(self.fc_256_256(x)))\n",
    "        x = self.dropout_40(x)\n",
    "        x = self.relu(self.batch_norm256(self.fc_256_256(x)))\n",
    "        x = self.dropout_40(x)\n",
    "        x = self.relu(self.batch_norm256(self.fc_256_256(x)))\n",
    "        x = self.dropout_40(x)\n",
    "        x = self.relu(self.batch_norm256(self.fc_256_256(x)))\n",
    "        x = self.dropout_40(x)\n",
    "        x = self.relu(self.batch_norm256(self.fc_256_256(x)))\n",
    "        x = self.dropout_40(x)\n",
    "        x = self.relu(self.batch_norm256(self.fc_256_256(x)))\n",
    "        x = self.dropout_40(x)\n",
    "        x = self.relu(self.batch_norm256(self.fc_256_256(x)))\n",
    "        x = self.dropout_40(x)\n",
    "        x = self.relu(self.batch_norm256(self.fc_256_256(x)))\n",
    "        x = self.dropout_40(x)\n",
    "        x = self.relu(self.batch_norm256(self.fc_256_256(x)))\n",
    "        x = self.dropout_40(x)\n",
    "        x = self.relu(self.batch_norm512(self.fc_256_512(x)))\n",
    "        x = self.dropout_40(x)\n",
    "        x = self.relu(self.batch_norm512(self.fc_512_512(x)))\n",
    "        x = self.dropout_40(x)\n",
    "        x = self.relu(self.batch_norm512(self.fc_512_512(x)))\n",
    "        x = self.dropout_40(x)\n",
    "        x = self.relu(self.batch_norm512(self.fc_512_512(x)))\n",
    "        x = self.dropout_40(x)\n",
    "        x = self.relu(self.batch_norm512(self.fc_512_512(x)))\n",
    "        x = self.dropout_40(x)\n",
    "        x = self.relu(self.batch_norm512(self.fc_512_512(x)))\n",
    "        x = self.dropout_40(x)\n",
    "        x = self.relu(self.batch_norm512(self.fc_512_512(x)))\n",
    "        x = self.dropout_40(x)\n",
    "        x = self.relu(self.batch_norm512(self.fc_512_512(x)))\n",
    "        x = self.dropout_40(x)\n",
    "        x = self.relu(self.batch_norm512(self.fc_512_512(x)))\n",
    "        x = self.dropout_40(x)\n",
    "        x = self.relu(self.batch_norm512(self.fc_512_512(x)))\n",
    "        x = self.dropout_40(x)\n",
    "        x = self.relu(self.batch_norm512(self.fc_512_512(x)))\n",
    "        x = self.dropout_40(x)\n",
    "        x = self.relu(self.batch_norm1024(self.fc_512_1024(x)))\n",
    "        x = self.dropout_40(x)\n",
    "        x = self.relu(self.batch_norm1024(self.fc_1024_1024(x)))\n",
    "        x = self.dropout_40(x)\n",
    "        x = self.relu(self.batch_norm1024(self.fc_1024_1024(x)))\n",
    "        x = self.dropout_40(x)\n",
    "        x = self.relu(self.batch_norm1024(self.fc_1024_1024(x)))\n",
    "        x = self.dropout_40(x)\n",
    "        x = self.relu(self.batch_norm1024(self.fc_1024_1024(x)))\n",
    "        x = self.dropout_40(x)\n",
    "        x = self.relu(self.batch_norm1024(self.fc_1024_1024(x)))\n",
    "        x = self.dropout_40(x)\n",
    "        x = self.relu(self.batch_norm512(self.fc_1024_512(x)))\n",
    "        x = self.dropout_40(x)\n",
    "        x = self.relu(self.batch_norm512(self.fc_512_512(x)))\n",
    "        x = self.dropout_40(x)\n",
    "        x = self.relu(self.batch_norm512(self.fc_512_512(x)))\n",
    "        x = self.dropout_40(x)\n",
    "        x = self.relu(self.batch_norm512(self.fc_512_512(x)))\n",
    "        x = self.dropout_40(x)\n",
    "        x = self.relu(self.batch_norm512(self.fc_512_512(x)))\n",
    "        x = self.dropout_40(x)\n",
    "        x = self.relu(self.batch_norm512(self.fc_512_512(x)))\n",
    "        x = self.dropout_40(x)\n",
    "        x = self.relu(self.batch_norm512(self.fc_512_512(x)))\n",
    "        x = self.dropout_40(x)\n",
    "        x = self.relu(self.batch_norm512(self.fc_512_512(x)))\n",
    "        x = self.dropout_40(x)\n",
    "        x = self.relu(self.batch_norm512(self.fc_512_512(x)))\n",
    "        x = self.dropout_40(x)\n",
    "        x = self.relu(self.batch_norm512(self.fc_512_512(x)))\n",
    "        x = self.dropout_40(x)\n",
    "        x = self.relu(self.batch_norm512(self.fc_512_512(x)))\n",
    "        x = self.dropout_40(x)\n",
    "        x = self.relu(self.batch_norm256(self.fc_512_256(x)))\n",
    "        x = self.dropout_40(x)\n",
    "        x = self.relu(self.batch_norm256(self.fc_256_256(x)))\n",
    "        x = self.dropout_40(x)\n",
    "        x = self.relu(self.batch_norm256(self.fc_256_256(x)))\n",
    "        x = self.dropout_40(x)\n",
    "        x = self.relu(self.batch_norm256(self.fc_256_256(x)))\n",
    "        x = self.dropout_40(x)\n",
    "        x = self.relu(self.batch_norm256(self.fc_256_256(x)))\n",
    "        x = self.dropout_40(x)\n",
    "        x = self.relu(self.batch_norm256(self.fc_256_256(x)))\n",
    "        x = self.dropout_40(x)\n",
    "        x = self.relu(self.batch_norm256(self.fc_256_256(x)))\n",
    "        x = self.dropout_40(x)\n",
    "        x = self.relu(self.batch_norm256(self.fc_256_256(x)))\n",
    "        x = self.dropout_40(x)\n",
    "        x = self.relu(self.batch_norm256(self.fc_256_256(x)))\n",
    "        x = self.dropout_40(x)\n",
    "        x = self.relu(self.batch_norm256(self.fc_256_256(x)))\n",
    "        x = self.dropout_40(x)\n",
    "        x = self.relu(self.batch_norm256(self.fc_256_256(x)))\n",
    "        x = self.dropout_40(x)\n",
    "        x = self.relu(self.batch_norm128(self.fc_256_128(x)))\n",
    "        x = self.output_layer(x)\n",
    "        return x\n",
    "\n",
    "\n",
    "def train(model, train_loader, optimizer, loss_func, epochs, device, **kwargs):\n",
    "\n",
    "    num_epochs = kwargs.get('num_epochs', epochs)\n",
    "    loss_fn = kwargs.get('loss_fn', loss_func)\n",
    "    device = kwargs.get('device', device)\n",
    "\n",
    "    train_loss_hist, train_acc_hist = [], []\n",
    "    for epoch in range(num_epochs):\n",
    "        print(f'Epoch {epoch + 1}/{num_epochs}')\n",
    "\n",
    "        print('Training phase...')\n",
    "        model.train()\n",
    "        train_loss = 0.\n",
    "        total = 0.\n",
    "        correct = 0.\n",
    "        pbar = tqdm(enumerate(train_loader), total = len(train_loader))\n",
    "\n",
    "        for batch_idx, (data, target) in pbar:\n",
    "            data = data.to(device)\n",
    "            target = target.to(device)\n",
    "            model.zero_grad()\n",
    "            output = model(data)\n",
    "            loss = loss_fn(output, target)\n",
    "            loss.backward()\n",
    "            optimizer.step()\n",
    "\n",
    "            train_loss += loss.item()\n",
    "\n",
    "            _, predicted = torch.max(output.data, 1)\n",
    "            total += target.size(0)\n",
    "            correct += (predicted == target).sum().item()\n",
    "\n",
    "            pbar.set_description(f'Loss = {loss:.4f}  |  Accuracy = {100 * correct / total:.2f}% | Batch ID = {batch_idx + 1} ')\n",
    "\n",
    "        train_loss /= len(train_loader)\n",
    "        train_accuracy = 100 * correct / total\n",
    "        print(f'Training Cross-Entropy Loss = {train_loss:.4f}')\n",
    "        print(f'Training Accuracy = {train_accuracy:.2f}%')\n",
    "        print()\n",
    "        train_loss_hist.append(train_loss)\n",
    "        train_acc_hist.append(train_accuracy)\n",
    "\n",
    "    print(f\"Cross-Entropy on training set:  {train_loss_hist[-1]:.4f}\")\n",
    "    print(f\"Accuracy on training set:       {train_acc_hist[-1]:.2f}%\")\n",
    "\n",
    "    return train_loss_hist, train_acc_hist\n",
    "\n",
    "\n",
    "def test(model, test_loader, loss_func, device):\n",
    "\n",
    "    model.eval()\n",
    "\n",
    "    correct = 0\n",
    "    total = 0\n",
    "    test_loss = 0\n",
    "    with torch.no_grad():\n",
    "        for images, labels in test_loader:\n",
    "            images = images.to(device)\n",
    "            labels = labels.to(device)\n",
    "            outputs = model(images)\n",
    "            _, predicted = torch.max(outputs.data, 1)\n",
    "            total += labels.size(0)\n",
    "            correct += (predicted == labels).sum().item()\n",
    "            test_loss += loss_func(outputs, labels).item()\n",
    "\n",
    "    test_loss /= len(test_loader)\n",
    "    test_acc = 100 * correct / total\n",
    "\n",
    "    print(f\"Cross-Entropy on test set: {test_loss:.4f}\")\n",
    "    print(f\"Accuracy on test set: {test_acc:.2f}%\")\n",
    "\n",
    "    return test_loss, test_acc"
   ]
  },
  {
   "cell_type": "markdown",
   "metadata": {},
   "source": [
    "# Exercise 1"
   ]
  },
  {
   "cell_type": "markdown",
   "id": "639d6e4b",
   "metadata": {},
   "source": [
    "### Exercise 1. (A)"
   ]
  },
  {
   "cell_type": "markdown",
   "id": "ae82d1c7",
   "metadata": {},
   "source": [
    "**Backpropagation** and **gradient descent** are like a dynamic duo in training deep neural networks (DNNs).\n",
    "\n",
    "**Backpropagation** is the process of updating the model's weights by calculating the gradient of the loss function with respect to the weights. It's all about figuring out how much each weight contributed to the error, layer by layer, starting from the output layer and working backward through the network. This info helps adjust the weights to minimize the error in future predictions.\n",
    "\n",
    "Now, **gradient descent** is the optimization technique that works hand-in-hand with backpropagation. It's all about finding the minimum of the loss function. The gradient (derivative) of the loss with respect to the weights tells us the direction of the steepest increase. Gradient descent takes steps in the opposite direction to minimize the loss.\n",
    "\n",
    "So, to sum it up, backpropagation fine-tunes the weights based on the error, and gradient descent guides this process by minimizing the error step by step. They team up to make our neural networks smarter!"
   ]
  },
  {
   "cell_type": "markdown",
   "id": "d3e5d18e",
   "metadata": {},
   "source": [
    "#### References"
   ]
  },
  {
   "cell_type": "markdown",
   "id": "37abdddb",
   "metadata": {},
   "source": [
    " - https://www.analyticsvidhya.com/blog/2023/01/gradient-descent-vs-backpropagation-whats-the-difference/#:~:text=To%20put%20it%20plainly%2C%20gradient,gradient%20descent%20relies%20on%20backpropagation."
   ]
  },
  {
   "cell_type": "markdown",
   "id": "1cdbdc33",
   "metadata": {},
   "source": [
    "### Exercise 1. (B)\n",
    "\n",
    "#### References\n",
    "https://towardsdatascience.com/nothing-but-numpy-understanding-creating-binary-classification-neural-networks-with-e746423c8d5c"
   ]
  },
  {
   "cell_type": "code",
   "execution_count": 3,
   "metadata": {
    "ExecuteTime": {
     "end_time": "2023-11-09T17:33:08.426675300Z",
     "start_time": "2023-11-09T17:33:08.401129200Z"
    }
   },
   "outputs": [],
   "source": [
    "input_values = torch.tensor([[5., 4., 1., 3., 2.]])\n",
    "\n",
    "y_true = torch.tensor([1.])\n",
    "\n",
    "w1 = torch.tensor([[0.2, 0.2, 0.2, 0.2, 0.2],\n",
    "                   [0.2, 0.2, 0.2, 0.2, 0.2],\n",
    "                   [0.2, 0.2, 0.2, 0.2, 0.2]])\n",
    "\n",
    "w2 = torch.tensor([[0.2, 0.2, 0.2],\n",
    "                   [0.2, 0.2, 0.2]])\n",
    "\n",
    "w3 = torch.tensor([[0.2, 0.2]])\n",
    "\n",
    "W = list([w1, w2, w3])"
   ]
  },
  {
   "cell_type": "code",
   "execution_count": 4,
   "metadata": {
    "ExecuteTime": {
     "end_time": "2023-11-09T17:33:09.650782Z",
     "start_time": "2023-11-09T17:33:09.623704600Z"
    }
   },
   "outputs": [
    {
     "name": "stdout",
     "output_type": "stream",
     "text": [
      "Predicted Output (a3): 0.6726070046424866\n",
      "Expected Output (y_true): 1.0\n",
      "Binary Cross-Entropy Loss: 0.3965940773487091\n"
     ]
    }
   ],
   "source": [
    "a3, a2, a1 = ForwardPass(input_values, W)\n",
    "loss = BCE_Loss(y_true, a3)\n",
    "\n",
    "print(\"Predicted Output (a3):\", a3.item())\n",
    "print(\"Expected Output (y_true):\", y_true.item())\n",
    "print(\"Binary Cross-Entropy Loss:\", loss.item())"
   ]
  },
  {
   "cell_type": "code",
   "execution_count": 5,
   "metadata": {
    "ExecuteTime": {
     "end_time": "2023-11-09T17:33:10.257815700Z",
     "start_time": "2023-11-09T17:33:10.232677600Z"
    }
   },
   "outputs": [
    {
     "name": "stdout",
     "output_type": "stream",
     "text": [
      "dL_dW1: tensor([[-0.1310, -0.1048, -0.0262, -0.0786, -0.0524],\n",
      "        [-0.1310, -0.1048, -0.0262, -0.0786, -0.0524],\n",
      "        [-0.1310, -0.1048, -0.0262, -0.0786, -0.0524]])\n",
      "dL_dW2: tensor([[-0.1964, -0.1964, -0.1964],\n",
      "        [-0.1964, -0.1964, -0.1964]])\n",
      "dL_dW3: tensor([[-0.5893, -0.5893]])\n"
     ]
    }
   ],
   "source": [
    "dL_dW1, dL_dW2, dL_dW3 = BackwardPass(input_values, a1, a2, a3, y_true, W)\n",
    "\n",
    "print(\"dL_dW1:\", dL_dW1)\n",
    "print(\"dL_dW2:\", dL_dW2)\n",
    "print(\"dL_dW3:\", dL_dW3)"
   ]
  },
  {
   "cell_type": "code",
   "execution_count": 6,
   "metadata": {
    "ExecuteTime": {
     "end_time": "2023-11-09T17:33:10.416912Z",
     "start_time": "2023-11-09T17:33:10.404816300Z"
    }
   },
   "outputs": [
    {
     "name": "stdout",
     "output_type": "stream",
     "text": [
      "Updated W1: tensor([[0.2262, 0.2210, 0.2052, 0.2157, 0.2105],\n",
      "        [0.2262, 0.2210, 0.2052, 0.2157, 0.2105],\n",
      "        [0.2262, 0.2210, 0.2052, 0.2157, 0.2105]])\n",
      "Updated W2: tensor([[0.2393, 0.2393, 0.2393],\n",
      "        [0.2393, 0.2393, 0.2393]])\n",
      "Updated W3: tensor([[0.3179, 0.3179]])\n"
     ]
    }
   ],
   "source": [
    "W = StochasticGradientDescent(dL_dW1, dL_dW2, dL_dW3, W, lr = 0.2)\n",
    "\n",
    "print(\"Updated W1:\", W[0])\n",
    "print(\"Updated W2:\", W[1])\n",
    "print(\"Updated W3:\", W[2])"
   ]
  },
  {
   "cell_type": "markdown",
   "metadata": {},
   "source": [
    "<h2>After updating your weights what do you observe? Explain why.</h2>\n",
    "<p>After computing the loss and doing a backward pass, and given that all weights were initialized with the value 2, we can see that none of the weights changed. Tracing back the steps made, we can see that all partial derivatives with respect to all the weights have a value of 0, which corroborates the fact that none of the weight's values changed. These partial derivatives measure the weight's variation in order for the loss of the neural network to decrease. So, the question now becomes, why all partial derivatives with respect to all weights show that no variation in their values is required in order to decrease the loss? Well, that's because the loss is already at its minimum, which is zero. Looking at how the binary loss is computed, we see that both the expected value and predicted value are exactly the same value, one, meaning that our network predicted perfectly the target. So, this means that there's no more room for improvement, and that's why all partial derivatives with respect to the weights are zero, and as consequence, the weight matrices didn't change.</p>"
   ]
  },
  {
   "cell_type": "markdown",
   "metadata": {},
   "source": [
    "### Exercise 1. (C)\n",
    "\n",
    "#### References\n",
    "https://medium.com/@aaysbt/fashion-mnist-data-training-using-pytorch-7f6ad71e96f4"
   ]
  },
  {
   "cell_type": "markdown",
   "metadata": {
    "collapsed": false
   },
   "source": [
    "#### Data Loader"
   ]
  },
  {
   "cell_type": "code",
   "execution_count": 7,
   "metadata": {
    "ExecuteTime": {
     "end_time": "2023-11-09T19:10:03.990715400Z",
     "start_time": "2023-11-09T19:10:03.908679100Z"
    },
    "collapsed": false
   },
   "outputs": [],
   "source": [
    "# Define data preprocessing and loading / Define a transform to convert to images to tensor and normalize\n",
    "transform = transforms.Compose([transforms.ToTensor(), transforms.Normalize((0.5,), (0.5,))])\n",
    "\n",
    "train_dataset = torchvision.datasets.FashionMNIST(root='./data', train=True, transform=transform, download=True)\n",
    "test_dataset = torchvision.datasets.FashionMNIST(root='./data', train=False, transform=transform, download=True)\n",
    "\n",
    "batch_size = 64\n",
    "\n",
    "train_loader = DataLoader(train_dataset, batch_size=batch_size, shuffle=True)\n",
    "test_loader = DataLoader(test_dataset, batch_size=batch_size, shuffle=False)"
   ]
  },
  {
   "cell_type": "markdown",
   "metadata": {
    "collapsed": false
   },
   "source": [
    "#### Data Visualization - Sample from the train_loader (size 64 - batch size)"
   ]
  },
  {
   "cell_type": "code",
   "execution_count": 8,
   "metadata": {
    "ExecuteTime": {
     "end_time": "2023-11-09T19:12:14.433585700Z",
     "start_time": "2023-11-09T19:12:14.245586300Z"
    },
    "collapsed": false
   },
   "outputs": [
    {
     "data": {
      "image/png": "[encoded data removed]",
      "text/plain": [
       "<Figure size 640x480 with 1 Axes>"
      ]
     },
     "metadata": {},
     "output_type": "display_data"
    },
    {
     "name": "stdout",
     "output_type": "stream",
     "text": [
      "    2     3     8     7     1     0     8     4     0     5     4     5     8     6     3     7     6     5     4     3     4     6     5     8     6     5     4     7     1     7     6     0     8     2     3     3     4     5     8     6     1     3     8     5     4     9     1     4     7     6     3     6     1     2     6     5     4     5     5     6     2     8     6     1\n"
     ]
    }
   ],
   "source": [
    "# Get a batch of training data\n",
    "dataiter = iter(train_loader)\n",
    "images, labels = next(dataiter)\n",
    "\n",
    "# Show images\n",
    "imshow(torchvision.utils.make_grid(images))\n",
    "# Print labels\n",
    "print(' '.join(f'{labels[j]:5}' for j in range(batch_size)))\n"
   ]
  },
  {
   "cell_type": "code",
   "execution_count": 9,
   "metadata": {},
   "outputs": [],
   "source": [
    "transform = transforms.Compose([transforms.ToTensor(), transforms.Normalize((0.5,), (0.5,))])\n",
    "trainset = torchvision.datasets.FashionMNIST(root = './data', train = True, download = True, transform = transform)\n",
    "testset = torchvision.datasets.FashionMNIST(root = './data', train = False, download = True, transform = transform)\n",
    "\n",
    "TrainLoader = torch.utils.data.DataLoader(trainset, batch_size = 2048, shuffle = True)\n",
    "TestLoader = torch.utils.data.DataLoader(testset, batch_size = 2048, shuffle = False)"
   ]
  },
  {
   "cell_type": "code",
   "execution_count": 10,
   "metadata": {},
   "outputs": [
    {
     "name": "stdout",
     "output_type": "stream",
     "text": [
      "Device: mps\n"
     ]
    }
   ],
   "source": [
    "# Initialize the network, loss function, and optimizer\n",
    "device = set_device()\n",
    "NeuralNetwork = NeuralNetwork_Exercise1_c().to(device)\n",
    "criterion = torch.nn.CrossEntropyLoss()\n",
    "optimizer = torch.optim.Adam(NeuralNetwork.parameters(), lr = 0.01)"
   ]
  },
  {
   "cell_type": "code",
   "execution_count": 11,
   "metadata": {},
   "outputs": [
    {
     "name": "stdout",
     "output_type": "stream",
     "text": [
      "Epoch 1/32\n",
      "Training phase...\n"
     ]
    },
    {
     "name": "stderr",
     "output_type": "stream",
     "text": [
      "  0%|          | 0/30 [00:00<?, ?it/s]"
     ]
    },
    {
     "name": "stderr",
     "output_type": "stream",
     "text": [
      "Loss = 0.5392  |  Accuracy = 66.83% | Batch ID = 30 : 100%|██████████| 30/30 [00:03<00:00,  9.67it/s]\n"
     ]
    },
    {
     "name": "stdout",
     "output_type": "stream",
     "text": [
      "Training Cross-Entropy Loss = 0.9257\n",
      "Training Accuracy = 66.83%\n",
      "\n",
      "Epoch 2/32\n",
      "Training phase...\n"
     ]
    },
    {
     "name": "stderr",
     "output_type": "stream",
     "text": [
      "Loss = 0.4184  |  Accuracy = 82.60% | Batch ID = 30 : 100%|██████████| 30/30 [00:02<00:00, 10.92it/s]\n"
     ]
    },
    {
     "name": "stdout",
     "output_type": "stream",
     "text": [
      "Training Cross-Entropy Loss = 0.4672\n",
      "Training Accuracy = 82.60%\n",
      "\n",
      "Epoch 3/32\n",
      "Training phase...\n"
     ]
    },
    {
     "name": "stderr",
     "output_type": "stream",
     "text": [
      "Loss = 0.3794  |  Accuracy = 85.87% | Batch ID = 30 : 100%|██████████| 30/30 [00:02<00:00, 10.56it/s]\n"
     ]
    },
    {
     "name": "stdout",
     "output_type": "stream",
     "text": [
      "Training Cross-Entropy Loss = 0.3840\n",
      "Training Accuracy = 85.87%\n",
      "\n",
      "Epoch 4/32\n",
      "Training phase...\n"
     ]
    },
    {
     "name": "stderr",
     "output_type": "stream",
     "text": [
      "Loss = 0.2714  |  Accuracy = 86.87% | Batch ID = 30 : 100%|██████████| 30/30 [00:02<00:00, 10.93it/s]\n"
     ]
    },
    {
     "name": "stdout",
     "output_type": "stream",
     "text": [
      "Training Cross-Entropy Loss = 0.3533\n",
      "Training Accuracy = 86.87%\n",
      "\n",
      "Epoch 5/32\n",
      "Training phase...\n"
     ]
    },
    {
     "name": "stderr",
     "output_type": "stream",
     "text": [
      "Loss = 0.3482  |  Accuracy = 87.74% | Batch ID = 30 : 100%|██████████| 30/30 [00:02<00:00, 10.77it/s]\n"
     ]
    },
    {
     "name": "stdout",
     "output_type": "stream",
     "text": [
      "Training Cross-Entropy Loss = 0.3306\n",
      "Training Accuracy = 87.74%\n",
      "\n",
      "Epoch 6/32\n",
      "Training phase...\n"
     ]
    },
    {
     "name": "stderr",
     "output_type": "stream",
     "text": [
      "Loss = 0.2509  |  Accuracy = 88.22% | Batch ID = 30 : 100%|██████████| 30/30 [00:02<00:00, 10.83it/s]\n"
     ]
    },
    {
     "name": "stdout",
     "output_type": "stream",
     "text": [
      "Training Cross-Entropy Loss = 0.3147\n",
      "Training Accuracy = 88.22%\n",
      "\n",
      "Epoch 7/32\n",
      "Training phase...\n"
     ]
    },
    {
     "name": "stderr",
     "output_type": "stream",
     "text": [
      "Loss = 0.3001  |  Accuracy = 89.30% | Batch ID = 30 : 100%|██████████| 30/30 [00:02<00:00, 10.44it/s]\n"
     ]
    },
    {
     "name": "stdout",
     "output_type": "stream",
     "text": [
      "Training Cross-Entropy Loss = 0.2894\n",
      "Training Accuracy = 89.30%\n",
      "\n",
      "Epoch 8/32\n",
      "Training phase...\n"
     ]
    },
    {
     "name": "stderr",
     "output_type": "stream",
     "text": [
      "Loss = 0.3094  |  Accuracy = 89.47% | Batch ID = 30 : 100%|██████████| 30/30 [00:02<00:00, 10.87it/s]\n"
     ]
    },
    {
     "name": "stdout",
     "output_type": "stream",
     "text": [
      "Training Cross-Entropy Loss = 0.2847\n",
      "Training Accuracy = 89.47%\n",
      "\n",
      "Epoch 9/32\n",
      "Training phase...\n"
     ]
    },
    {
     "name": "stderr",
     "output_type": "stream",
     "text": [
      "Loss = 0.2853  |  Accuracy = 89.71% | Batch ID = 30 : 100%|██████████| 30/30 [00:02<00:00, 10.90it/s]\n"
     ]
    },
    {
     "name": "stdout",
     "output_type": "stream",
     "text": [
      "Training Cross-Entropy Loss = 0.2748\n",
      "Training Accuracy = 89.71%\n",
      "\n",
      "Epoch 10/32\n",
      "Training phase...\n"
     ]
    },
    {
     "name": "stderr",
     "output_type": "stream",
     "text": [
      "Loss = 0.2466  |  Accuracy = 90.17% | Batch ID = 30 : 100%|██████████| 30/30 [00:02<00:00, 10.48it/s]\n"
     ]
    },
    {
     "name": "stdout",
     "output_type": "stream",
     "text": [
      "Training Cross-Entropy Loss = 0.2607\n",
      "Training Accuracy = 90.17%\n",
      "\n",
      "Epoch 11/32\n",
      "Training phase...\n"
     ]
    },
    {
     "name": "stderr",
     "output_type": "stream",
     "text": [
      "Loss = 0.2857  |  Accuracy = 90.62% | Batch ID = 30 : 100%|██████████| 30/30 [00:02<00:00, 10.93it/s]\n"
     ]
    },
    {
     "name": "stdout",
     "output_type": "stream",
     "text": [
      "Training Cross-Entropy Loss = 0.2496\n",
      "Training Accuracy = 90.62%\n",
      "\n",
      "Epoch 12/32\n",
      "Training phase...\n"
     ]
    },
    {
     "name": "stderr",
     "output_type": "stream",
     "text": [
      "Loss = 0.2545  |  Accuracy = 90.66% | Batch ID = 30 : 100%|██████████| 30/30 [00:02<00:00, 10.97it/s]\n"
     ]
    },
    {
     "name": "stdout",
     "output_type": "stream",
     "text": [
      "Training Cross-Entropy Loss = 0.2471\n",
      "Training Accuracy = 90.66%\n",
      "\n",
      "Epoch 13/32\n",
      "Training phase...\n"
     ]
    },
    {
     "name": "stderr",
     "output_type": "stream",
     "text": [
      "Loss = 0.2346  |  Accuracy = 91.16% | Batch ID = 30 : 100%|██████████| 30/30 [00:02<00:00, 10.56it/s]\n"
     ]
    },
    {
     "name": "stdout",
     "output_type": "stream",
     "text": [
      "Training Cross-Entropy Loss = 0.2339\n",
      "Training Accuracy = 91.16%\n",
      "\n",
      "Epoch 14/32\n",
      "Training phase...\n"
     ]
    },
    {
     "name": "stderr",
     "output_type": "stream",
     "text": [
      "Loss = 0.2586  |  Accuracy = 91.51% | Batch ID = 30 : 100%|██████████| 30/30 [00:02<00:00, 10.84it/s]\n"
     ]
    },
    {
     "name": "stdout",
     "output_type": "stream",
     "text": [
      "Training Cross-Entropy Loss = 0.2259\n",
      "Training Accuracy = 91.51%\n",
      "\n",
      "Epoch 15/32\n",
      "Training phase...\n"
     ]
    },
    {
     "name": "stderr",
     "output_type": "stream",
     "text": [
      "Loss = 0.2278  |  Accuracy = 91.36% | Batch ID = 30 : 100%|██████████| 30/30 [00:02<00:00, 10.87it/s]\n"
     ]
    },
    {
     "name": "stdout",
     "output_type": "stream",
     "text": [
      "Training Cross-Entropy Loss = 0.2273\n",
      "Training Accuracy = 91.36%\n",
      "\n",
      "Epoch 16/32\n",
      "Training phase...\n"
     ]
    },
    {
     "name": "stderr",
     "output_type": "stream",
     "text": [
      "Loss = 0.1897  |  Accuracy = 91.57% | Batch ID = 30 : 100%|██████████| 30/30 [00:02<00:00, 10.94it/s]\n"
     ]
    },
    {
     "name": "stdout",
     "output_type": "stream",
     "text": [
      "Training Cross-Entropy Loss = 0.2223\n",
      "Training Accuracy = 91.57%\n",
      "\n",
      "Epoch 17/32\n",
      "Training phase...\n"
     ]
    },
    {
     "name": "stderr",
     "output_type": "stream",
     "text": [
      "Loss = 0.1922  |  Accuracy = 92.11% | Batch ID = 30 : 100%|██████████| 30/30 [00:02<00:00, 10.51it/s]\n"
     ]
    },
    {
     "name": "stdout",
     "output_type": "stream",
     "text": [
      "Training Cross-Entropy Loss = 0.2097\n",
      "Training Accuracy = 92.11%\n",
      "\n",
      "Epoch 18/32\n",
      "Training phase...\n"
     ]
    },
    {
     "name": "stderr",
     "output_type": "stream",
     "text": [
      "Loss = 0.1880  |  Accuracy = 92.41% | Batch ID = 30 : 100%|██████████| 30/30 [00:02<00:00, 10.97it/s]\n"
     ]
    },
    {
     "name": "stdout",
     "output_type": "stream",
     "text": [
      "Training Cross-Entropy Loss = 0.2013\n",
      "Training Accuracy = 92.41%\n",
      "\n",
      "Epoch 19/32\n",
      "Training phase...\n"
     ]
    },
    {
     "name": "stderr",
     "output_type": "stream",
     "text": [
      "Loss = 0.1925  |  Accuracy = 92.80% | Batch ID = 30 : 100%|██████████| 30/30 [00:02<00:00, 10.87it/s]\n"
     ]
    },
    {
     "name": "stdout",
     "output_type": "stream",
     "text": [
      "Training Cross-Entropy Loss = 0.1923\n",
      "Training Accuracy = 92.80%\n",
      "\n",
      "Epoch 20/32\n",
      "Training phase...\n"
     ]
    },
    {
     "name": "stderr",
     "output_type": "stream",
     "text": [
      "Loss = 0.2518  |  Accuracy = 92.81% | Batch ID = 30 : 100%|██████████| 30/30 [00:02<00:00, 10.60it/s]\n"
     ]
    },
    {
     "name": "stdout",
     "output_type": "stream",
     "text": [
      "Training Cross-Entropy Loss = 0.1905\n",
      "Training Accuracy = 92.81%\n",
      "\n",
      "Epoch 21/32\n",
      "Training phase...\n"
     ]
    },
    {
     "name": "stderr",
     "output_type": "stream",
     "text": [
      "Loss = 0.2424  |  Accuracy = 92.58% | Batch ID = 30 : 100%|██████████| 30/30 [00:02<00:00, 10.92it/s]\n"
     ]
    },
    {
     "name": "stdout",
     "output_type": "stream",
     "text": [
      "Training Cross-Entropy Loss = 0.1968\n",
      "Training Accuracy = 92.58%\n",
      "\n",
      "Epoch 22/32\n",
      "Training phase...\n"
     ]
    },
    {
     "name": "stderr",
     "output_type": "stream",
     "text": [
      "Loss = 0.1810  |  Accuracy = 93.31% | Batch ID = 30 : 100%|██████████| 30/30 [00:02<00:00, 10.83it/s]\n"
     ]
    },
    {
     "name": "stdout",
     "output_type": "stream",
     "text": [
      "Training Cross-Entropy Loss = 0.1784\n",
      "Training Accuracy = 93.31%\n",
      "\n",
      "Epoch 23/32\n",
      "Training phase...\n"
     ]
    },
    {
     "name": "stderr",
     "output_type": "stream",
     "text": [
      "Loss = 0.2002  |  Accuracy = 93.23% | Batch ID = 30 : 100%|██████████| 30/30 [00:02<00:00, 10.93it/s]\n"
     ]
    },
    {
     "name": "stdout",
     "output_type": "stream",
     "text": [
      "Training Cross-Entropy Loss = 0.1764\n",
      "Training Accuracy = 93.23%\n",
      "\n",
      "Epoch 24/32\n",
      "Training phase...\n"
     ]
    },
    {
     "name": "stderr",
     "output_type": "stream",
     "text": [
      "Loss = 0.2051  |  Accuracy = 92.84% | Batch ID = 30 : 100%|██████████| 30/30 [00:02<00:00, 10.60it/s]\n"
     ]
    },
    {
     "name": "stdout",
     "output_type": "stream",
     "text": [
      "Training Cross-Entropy Loss = 0.1874\n",
      "Training Accuracy = 92.84%\n",
      "\n",
      "Epoch 25/32\n",
      "Training phase...\n"
     ]
    },
    {
     "name": "stderr",
     "output_type": "stream",
     "text": [
      "Loss = 0.1534  |  Accuracy = 93.47% | Batch ID = 30 : 100%|██████████| 30/30 [00:02<00:00, 10.94it/s]\n"
     ]
    },
    {
     "name": "stdout",
     "output_type": "stream",
     "text": [
      "Training Cross-Entropy Loss = 0.1699\n",
      "Training Accuracy = 93.47%\n",
      "\n",
      "Epoch 26/32\n",
      "Training phase...\n"
     ]
    },
    {
     "name": "stderr",
     "output_type": "stream",
     "text": [
      "Loss = 0.1891  |  Accuracy = 93.96% | Batch ID = 30 : 100%|██████████| 30/30 [00:02<00:00, 10.80it/s]\n"
     ]
    },
    {
     "name": "stdout",
     "output_type": "stream",
     "text": [
      "Training Cross-Entropy Loss = 0.1602\n",
      "Training Accuracy = 93.96%\n",
      "\n",
      "Epoch 27/32\n",
      "Training phase...\n"
     ]
    },
    {
     "name": "stderr",
     "output_type": "stream",
     "text": [
      "Loss = 0.1722  |  Accuracy = 94.10% | Batch ID = 30 : 100%|██████████| 30/30 [00:02<00:00, 10.59it/s]\n"
     ]
    },
    {
     "name": "stdout",
     "output_type": "stream",
     "text": [
      "Training Cross-Entropy Loss = 0.1548\n",
      "Training Accuracy = 94.10%\n",
      "\n",
      "Epoch 28/32\n",
      "Training phase...\n"
     ]
    },
    {
     "name": "stderr",
     "output_type": "stream",
     "text": [
      "Loss = 0.1450  |  Accuracy = 93.97% | Batch ID = 30 : 100%|██████████| 30/30 [00:02<00:00, 10.95it/s]\n"
     ]
    },
    {
     "name": "stdout",
     "output_type": "stream",
     "text": [
      "Training Cross-Entropy Loss = 0.1587\n",
      "Training Accuracy = 93.97%\n",
      "\n",
      "Epoch 29/32\n",
      "Training phase...\n"
     ]
    },
    {
     "name": "stderr",
     "output_type": "stream",
     "text": [
      "Loss = 0.1490  |  Accuracy = 94.27% | Batch ID = 30 : 100%|██████████| 30/30 [00:02<00:00, 10.98it/s]\n"
     ]
    },
    {
     "name": "stdout",
     "output_type": "stream",
     "text": [
      "Training Cross-Entropy Loss = 0.1513\n",
      "Training Accuracy = 94.27%\n",
      "\n",
      "Epoch 30/32\n",
      "Training phase...\n"
     ]
    },
    {
     "name": "stderr",
     "output_type": "stream",
     "text": [
      "Loss = 0.1563  |  Accuracy = 94.36% | Batch ID = 30 : 100%|██████████| 30/30 [00:02<00:00, 10.39it/s]\n"
     ]
    },
    {
     "name": "stdout",
     "output_type": "stream",
     "text": [
      "Training Cross-Entropy Loss = 0.1505\n",
      "Training Accuracy = 94.36%\n",
      "\n",
      "Epoch 31/32\n",
      "Training phase...\n"
     ]
    },
    {
     "name": "stderr",
     "output_type": "stream",
     "text": [
      "Loss = 0.1393  |  Accuracy = 94.34% | Batch ID = 30 : 100%|██████████| 30/30 [00:02<00:00, 10.93it/s]\n"
     ]
    },
    {
     "name": "stdout",
     "output_type": "stream",
     "text": [
      "Training Cross-Entropy Loss = 0.1493\n",
      "Training Accuracy = 94.34%\n",
      "\n",
      "Epoch 32/32\n",
      "Training phase...\n"
     ]
    },
    {
     "name": "stderr",
     "output_type": "stream",
     "text": [
      "Loss = 0.1486  |  Accuracy = 94.64% | Batch ID = 30 : 100%|██████████| 30/30 [00:02<00:00, 10.95it/s]"
     ]
    },
    {
     "name": "stdout",
     "output_type": "stream",
     "text": [
      "Training Cross-Entropy Loss = 0.1414\n",
      "Training Accuracy = 94.64%\n",
      "\n",
      "Cross-Entropy on training set:  0.1414\n",
      "Accuracy on training set:       94.64%\n"
     ]
    },
    {
     "name": "stderr",
     "output_type": "stream",
     "text": [
      "\n"
     ]
    }
   ],
   "source": [
    "train_loss_hist, train_acc_hist = train(NeuralNetwork, TrainLoader, optimizer, criterion, epochs = 32, device = device)"
   ]
  },
  {
   "cell_type": "code",
   "execution_count": 12,
   "metadata": {},
   "outputs": [
    {
     "name": "stdout",
     "output_type": "stream",
     "text": [
      "Cross-Entropy on test set: 0.4373\n",
      "Accuracy on test set: 88.37%\n"
     ]
    }
   ],
   "source": [
    "test_loss, test_acc = test(NeuralNetwork, TestLoader, criterion, device)"
   ]
  },
  {
   "cell_type": "markdown",
   "id": "eeb9fcbb",
   "metadata": {},
   "source": [
    "## Exercise 1, d) "
   ]
  },
  {
   "cell_type": "markdown",
   "id": "9c9d6da6",
   "metadata": {},
   "source": [
    "To improve the previous feedforward neural network for the Fashion-MNIST classification task, we can make the following changes:\n",
    "\n",
    "**Increase Network Complexity**: We can add more hidden layers and neurons to increase the network's capacity to learn complex patterns in the data.\n",
    "\n",
    "**Use Different Activation Function**: Instead of using ReLU (Rectified Linear Unit) activation, we can try a different activation function like Leaky ReLU, which might help with training.\n",
    "\n",
    "**Regularization Techniques**: To prevent overfitting, we can add dropout layers and L2 regularization to the network.\n",
    "\n",
    "**Batch Normalization**: Applying batch normalization can help stabilize and speed up training."
   ]
  },
  {
   "cell_type": "code",
   "execution_count": 16,
   "metadata": {},
   "outputs": [
    {
     "name": "stdout",
     "output_type": "stream",
     "text": [
      "Device: mps\n"
     ]
    }
   ],
   "source": [
    "# Initialize the network, loss function, and optimizer\n",
    "device = set_device()\n",
    "NeuralNetwork_complex = NeuralNetwork_Exercise1_d().to(device)\n",
    "criterion = torch.nn.CrossEntropyLoss()\n",
    "optimizer = torch.optim.Adam(NeuralNetwork_complex.parameters(), lr = 0.0001, weight_decay = 0.001)  # L2 regularization"
   ]
  },
  {
   "cell_type": "code",
   "execution_count": 17,
   "metadata": {},
   "outputs": [
    {
     "name": "stdout",
     "output_type": "stream",
     "text": [
      "Epoch 1/512\n",
      "Training phase...\n"
     ]
    },
    {
     "name": "stderr",
     "output_type": "stream",
     "text": [
      "Loss = 2.3862  |  Accuracy = 10.01% | Batch ID = 30 : 100%|██████████| 30/30 [00:05<00:00,  5.18it/s]\n"
     ]
    },
    {
     "name": "stdout",
     "output_type": "stream",
     "text": [
      "Training Cross-Entropy Loss = 2.3550\n",
      "Training Accuracy = 10.01%\n",
      "\n",
      "Epoch 2/512\n",
      "Training phase...\n"
     ]
    },
    {
     "name": "stderr",
     "output_type": "stream",
     "text": [
      "Loss = 2.3554  |  Accuracy = 10.19% | Batch ID = 30 : 100%|██████████| 30/30 [00:05<00:00,  5.24it/s]\n"
     ]
    },
    {
     "name": "stdout",
     "output_type": "stream",
     "text": [
      "Training Cross-Entropy Loss = 2.3392\n",
      "Training Accuracy = 10.19%\n",
      "\n",
      "Epoch 3/512\n",
      "Training phase...\n"
     ]
    },
    {
     "name": "stderr",
     "output_type": "stream",
     "text": [
      "Loss = 2.3326  |  Accuracy = 10.07% | Batch ID = 30 : 100%|██████████| 30/30 [00:05<00:00,  5.22it/s]\n"
     ]
    },
    {
     "name": "stdout",
     "output_type": "stream",
     "text": [
      "Training Cross-Entropy Loss = 2.3275\n",
      "Training Accuracy = 10.07%\n",
      "\n",
      "Epoch 4/512\n",
      "Training phase...\n"
     ]
    },
    {
     "name": "stderr",
     "output_type": "stream",
     "text": [
      "Loss = 2.3208  |  Accuracy = 10.10% | Batch ID = 30 : 100%|██████████| 30/30 [00:05<00:00,  5.24it/s]\n"
     ]
    },
    {
     "name": "stdout",
     "output_type": "stream",
     "text": [
      "Training Cross-Entropy Loss = 2.3249\n",
      "Training Accuracy = 10.10%\n",
      "\n",
      "Epoch 5/512\n",
      "Training phase...\n"
     ]
    },
    {
     "name": "stderr",
     "output_type": "stream",
     "text": [
      "Loss = 2.3288  |  Accuracy = 10.10% | Batch ID = 30 : 100%|██████████| 30/30 [00:05<00:00,  5.05it/s]\n"
     ]
    },
    {
     "name": "stdout",
     "output_type": "stream",
     "text": [
      "Training Cross-Entropy Loss = 2.3198\n",
      "Training Accuracy = 10.10%\n",
      "\n",
      "Epoch 6/512\n",
      "Training phase...\n"
     ]
    },
    {
     "name": "stderr",
     "output_type": "stream",
     "text": [
      "Loss = 2.3287  |  Accuracy = 10.02% | Batch ID = 30 : 100%|██████████| 30/30 [00:05<00:00,  5.24it/s]\n"
     ]
    },
    {
     "name": "stdout",
     "output_type": "stream",
     "text": [
      "Training Cross-Entropy Loss = 2.3160\n",
      "Training Accuracy = 10.02%\n",
      "\n",
      "Epoch 7/512\n",
      "Training phase...\n"
     ]
    },
    {
     "name": "stderr",
     "output_type": "stream",
     "text": [
      "Loss = 2.3288  |  Accuracy = 10.20% | Batch ID = 30 : 100%|██████████| 30/30 [00:05<00:00,  5.25it/s]\n"
     ]
    },
    {
     "name": "stdout",
     "output_type": "stream",
     "text": [
      "Training Cross-Entropy Loss = 2.3147\n",
      "Training Accuracy = 10.20%\n",
      "\n",
      "Epoch 8/512\n",
      "Training phase...\n"
     ]
    },
    {
     "name": "stderr",
     "output_type": "stream",
     "text": [
      "Loss = 2.2904  |  Accuracy = 10.43% | Batch ID = 30 : 100%|██████████| 30/30 [00:05<00:00,  5.10it/s]\n"
     ]
    },
    {
     "name": "stdout",
     "output_type": "stream",
     "text": [
      "Training Cross-Entropy Loss = 2.3108\n",
      "Training Accuracy = 10.43%\n",
      "\n",
      "Epoch 9/512\n",
      "Training phase...\n"
     ]
    },
    {
     "name": "stderr",
     "output_type": "stream",
     "text": [
      "Loss = 2.3066  |  Accuracy = 10.45% | Batch ID = 30 : 100%|██████████| 30/30 [00:05<00:00,  5.22it/s]\n"
     ]
    },
    {
     "name": "stdout",
     "output_type": "stream",
     "text": [
      "Training Cross-Entropy Loss = 2.3106\n",
      "Training Accuracy = 10.45%\n",
      "\n",
      "Epoch 10/512\n",
      "Training phase...\n"
     ]
    },
    {
     "name": "stderr",
     "output_type": "stream",
     "text": [
      "Loss = 2.3254  |  Accuracy = 10.47% | Batch ID = 30 : 100%|██████████| 30/30 [00:05<00:00,  5.21it/s]\n"
     ]
    },
    {
     "name": "stdout",
     "output_type": "stream",
     "text": [
      "Training Cross-Entropy Loss = 2.3063\n",
      "Training Accuracy = 10.47%\n",
      "\n",
      "Epoch 11/512\n",
      "Training phase...\n"
     ]
    },
    {
     "name": "stderr",
     "output_type": "stream",
     "text": [
      "Loss = 2.3214  |  Accuracy = 10.68% | Batch ID = 30 : 100%|██████████| 30/30 [00:05<00:00,  5.21it/s]\n"
     ]
    },
    {
     "name": "stdout",
     "output_type": "stream",
     "text": [
      "Training Cross-Entropy Loss = 2.3056\n",
      "Training Accuracy = 10.68%\n",
      "\n",
      "Epoch 12/512\n",
      "Training phase...\n"
     ]
    },
    {
     "name": "stderr",
     "output_type": "stream",
     "text": [
      "Loss = 2.3102  |  Accuracy = 10.62% | Batch ID = 30 : 100%|██████████| 30/30 [00:05<00:00,  5.09it/s]\n"
     ]
    },
    {
     "name": "stdout",
     "output_type": "stream",
     "text": [
      "Training Cross-Entropy Loss = 2.3053\n",
      "Training Accuracy = 10.62%\n",
      "\n",
      "Epoch 13/512\n",
      "Training phase...\n"
     ]
    },
    {
     "name": "stderr",
     "output_type": "stream",
     "text": [
      "Loss = 2.2765  |  Accuracy = 10.46% | Batch ID = 30 : 100%|██████████| 30/30 [00:05<00:00,  5.18it/s]\n"
     ]
    },
    {
     "name": "stdout",
     "output_type": "stream",
     "text": [
      "Training Cross-Entropy Loss = 2.3015\n",
      "Training Accuracy = 10.46%\n",
      "\n",
      "Epoch 14/512\n",
      "Training phase...\n"
     ]
    },
    {
     "name": "stderr",
     "output_type": "stream",
     "text": [
      "Loss = 2.3121  |  Accuracy = 10.88% | Batch ID = 30 : 100%|██████████| 30/30 [00:05<00:00,  5.20it/s]\n"
     ]
    },
    {
     "name": "stdout",
     "output_type": "stream",
     "text": [
      "Training Cross-Entropy Loss = 2.2991\n",
      "Training Accuracy = 10.88%\n",
      "\n",
      "Epoch 15/512\n",
      "Training phase...\n"
     ]
    },
    {
     "name": "stderr",
     "output_type": "stream",
     "text": [
      "Loss = 2.2834  |  Accuracy = 11.05% | Batch ID = 30 : 100%|██████████| 30/30 [00:05<00:00,  5.09it/s]\n"
     ]
    },
    {
     "name": "stdout",
     "output_type": "stream",
     "text": [
      "Training Cross-Entropy Loss = 2.2955\n",
      "Training Accuracy = 11.05%\n",
      "\n",
      "Epoch 16/512\n",
      "Training phase...\n"
     ]
    },
    {
     "name": "stderr",
     "output_type": "stream",
     "text": [
      "Loss = 2.3016  |  Accuracy = 11.11% | Batch ID = 30 : 100%|██████████| 30/30 [00:05<00:00,  5.21it/s]\n"
     ]
    },
    {
     "name": "stdout",
     "output_type": "stream",
     "text": [
      "Training Cross-Entropy Loss = 2.2945\n",
      "Training Accuracy = 11.11%\n",
      "\n",
      "Epoch 17/512\n",
      "Training phase...\n"
     ]
    },
    {
     "name": "stderr",
     "output_type": "stream",
     "text": [
      "Loss = 2.2950  |  Accuracy = 11.32% | Batch ID = 30 : 100%|██████████| 30/30 [00:05<00:00,  5.22it/s]\n"
     ]
    },
    {
     "name": "stdout",
     "output_type": "stream",
     "text": [
      "Training Cross-Entropy Loss = 2.2902\n",
      "Training Accuracy = 11.32%\n",
      "\n",
      "Epoch 18/512\n",
      "Training phase...\n"
     ]
    },
    {
     "name": "stderr",
     "output_type": "stream",
     "text": [
      "Loss = 2.2646  |  Accuracy = 11.41% | Batch ID = 30 : 100%|██████████| 30/30 [00:05<00:00,  5.21it/s]\n"
     ]
    },
    {
     "name": "stdout",
     "output_type": "stream",
     "text": [
      "Training Cross-Entropy Loss = 2.2910\n",
      "Training Accuracy = 11.41%\n",
      "\n",
      "Epoch 19/512\n",
      "Training phase...\n"
     ]
    },
    {
     "name": "stderr",
     "output_type": "stream",
     "text": [
      "Loss = 2.2842  |  Accuracy = 11.58% | Batch ID = 30 : 100%|██████████| 30/30 [00:05<00:00,  5.08it/s]\n"
     ]
    },
    {
     "name": "stdout",
     "output_type": "stream",
     "text": [
      "Training Cross-Entropy Loss = 2.2866\n",
      "Training Accuracy = 11.58%\n",
      "\n",
      "Epoch 20/512\n",
      "Training phase...\n"
     ]
    },
    {
     "name": "stderr",
     "output_type": "stream",
     "text": [
      "Loss = 2.2699  |  Accuracy = 11.51% | Batch ID = 30 : 100%|██████████| 30/30 [00:05<00:00,  5.19it/s]\n"
     ]
    },
    {
     "name": "stdout",
     "output_type": "stream",
     "text": [
      "Training Cross-Entropy Loss = 2.2826\n",
      "Training Accuracy = 11.51%\n",
      "\n",
      "Epoch 21/512\n",
      "Training phase...\n"
     ]
    },
    {
     "name": "stderr",
     "output_type": "stream",
     "text": [
      "Loss = 2.2838  |  Accuracy = 11.40% | Batch ID = 30 : 100%|██████████| 30/30 [00:05<00:00,  5.19it/s]\n"
     ]
    },
    {
     "name": "stdout",
     "output_type": "stream",
     "text": [
      "Training Cross-Entropy Loss = 2.2827\n",
      "Training Accuracy = 11.40%\n",
      "\n",
      "Epoch 22/512\n",
      "Training phase...\n"
     ]
    },
    {
     "name": "stderr",
     "output_type": "stream",
     "text": [
      "Loss = 2.2819  |  Accuracy = 11.54% | Batch ID = 30 : 100%|██████████| 30/30 [00:05<00:00,  5.09it/s]\n"
     ]
    },
    {
     "name": "stdout",
     "output_type": "stream",
     "text": [
      "Training Cross-Entropy Loss = 2.2786\n",
      "Training Accuracy = 11.54%\n",
      "\n",
      "Epoch 23/512\n",
      "Training phase...\n"
     ]
    },
    {
     "name": "stderr",
     "output_type": "stream",
     "text": [
      "Loss = 2.2706  |  Accuracy = 11.77% | Batch ID = 30 : 100%|██████████| 30/30 [00:05<00:00,  5.19it/s]\n"
     ]
    },
    {
     "name": "stdout",
     "output_type": "stream",
     "text": [
      "Training Cross-Entropy Loss = 2.2763\n",
      "Training Accuracy = 11.77%\n",
      "\n",
      "Epoch 24/512\n",
      "Training phase...\n"
     ]
    },
    {
     "name": "stderr",
     "output_type": "stream",
     "text": [
      "Loss = 2.2485  |  Accuracy = 12.23% | Batch ID = 30 : 100%|██████████| 30/30 [00:05<00:00,  5.17it/s]\n"
     ]
    },
    {
     "name": "stdout",
     "output_type": "stream",
     "text": [
      "Training Cross-Entropy Loss = 2.2722\n",
      "Training Accuracy = 12.23%\n",
      "\n",
      "Epoch 25/512\n",
      "Training phase...\n"
     ]
    },
    {
     "name": "stderr",
     "output_type": "stream",
     "text": [
      "Loss = 2.2562  |  Accuracy = 12.19% | Batch ID = 30 : 100%|██████████| 30/30 [00:05<00:00,  5.20it/s]\n"
     ]
    },
    {
     "name": "stdout",
     "output_type": "stream",
     "text": [
      "Training Cross-Entropy Loss = 2.2707\n",
      "Training Accuracy = 12.19%\n",
      "\n",
      "Epoch 26/512\n",
      "Training phase...\n"
     ]
    },
    {
     "name": "stderr",
     "output_type": "stream",
     "text": [
      "Loss = 2.2638  |  Accuracy = 12.26% | Batch ID = 30 : 100%|██████████| 30/30 [00:05<00:00,  5.09it/s]\n"
     ]
    },
    {
     "name": "stdout",
     "output_type": "stream",
     "text": [
      "Training Cross-Entropy Loss = 2.2679\n",
      "Training Accuracy = 12.26%\n",
      "\n",
      "Epoch 27/512\n",
      "Training phase...\n"
     ]
    },
    {
     "name": "stderr",
     "output_type": "stream",
     "text": [
      "Loss = 2.2380  |  Accuracy = 12.31% | Batch ID = 30 : 100%|██████████| 30/30 [00:05<00:00,  5.20it/s]\n"
     ]
    },
    {
     "name": "stdout",
     "output_type": "stream",
     "text": [
      "Training Cross-Entropy Loss = 2.2680\n",
      "Training Accuracy = 12.31%\n",
      "\n",
      "Epoch 28/512\n",
      "Training phase...\n"
     ]
    },
    {
     "name": "stderr",
     "output_type": "stream",
     "text": [
      "Loss = 2.2716  |  Accuracy = 12.53% | Batch ID = 30 : 100%|██████████| 30/30 [00:05<00:00,  5.20it/s]\n"
     ]
    },
    {
     "name": "stdout",
     "output_type": "stream",
     "text": [
      "Training Cross-Entropy Loss = 2.2633\n",
      "Training Accuracy = 12.53%\n",
      "\n",
      "Epoch 29/512\n",
      "Training phase...\n"
     ]
    },
    {
     "name": "stderr",
     "output_type": "stream",
     "text": [
      "Loss = 2.2447  |  Accuracy = 12.64% | Batch ID = 30 : 100%|██████████| 30/30 [00:05<00:00,  5.20it/s]\n"
     ]
    },
    {
     "name": "stdout",
     "output_type": "stream",
     "text": [
      "Training Cross-Entropy Loss = 2.2625\n",
      "Training Accuracy = 12.64%\n",
      "\n",
      "Epoch 30/512\n",
      "Training phase...\n"
     ]
    },
    {
     "name": "stderr",
     "output_type": "stream",
     "text": [
      "Loss = 2.2378  |  Accuracy = 12.61% | Batch ID = 30 : 100%|██████████| 30/30 [00:05<00:00,  5.20it/s]\n"
     ]
    },
    {
     "name": "stdout",
     "output_type": "stream",
     "text": [
      "Training Cross-Entropy Loss = 2.2583\n",
      "Training Accuracy = 12.61%\n",
      "\n",
      "Epoch 31/512\n",
      "Training phase...\n"
     ]
    },
    {
     "name": "stderr",
     "output_type": "stream",
     "text": [
      "Loss = 2.2481  |  Accuracy = 12.66% | Batch ID = 30 : 100%|██████████| 30/30 [00:05<00:00,  5.10it/s]\n"
     ]
    },
    {
     "name": "stdout",
     "output_type": "stream",
     "text": [
      "Training Cross-Entropy Loss = 2.2564\n",
      "Training Accuracy = 12.66%\n",
      "\n",
      "Epoch 32/512\n",
      "Training phase...\n"
     ]
    },
    {
     "name": "stderr",
     "output_type": "stream",
     "text": [
      "Loss = 2.2410  |  Accuracy = 12.87% | Batch ID = 30 : 100%|██████████| 30/30 [00:05<00:00,  5.18it/s]\n"
     ]
    },
    {
     "name": "stdout",
     "output_type": "stream",
     "text": [
      "Training Cross-Entropy Loss = 2.2535\n",
      "Training Accuracy = 12.87%\n",
      "\n",
      "Epoch 33/512\n",
      "Training phase...\n"
     ]
    },
    {
     "name": "stderr",
     "output_type": "stream",
     "text": [
      "Loss = 2.2385  |  Accuracy = 13.01% | Batch ID = 30 : 100%|██████████| 30/30 [00:05<00:00,  5.21it/s]\n"
     ]
    },
    {
     "name": "stdout",
     "output_type": "stream",
     "text": [
      "Training Cross-Entropy Loss = 2.2479\n",
      "Training Accuracy = 13.01%\n",
      "\n",
      "Epoch 34/512\n",
      "Training phase...\n"
     ]
    },
    {
     "name": "stderr",
     "output_type": "stream",
     "text": [
      "Loss = 2.2436  |  Accuracy = 13.26% | Batch ID = 30 : 100%|██████████| 30/30 [00:05<00:00,  5.10it/s]\n"
     ]
    },
    {
     "name": "stdout",
     "output_type": "stream",
     "text": [
      "Training Cross-Entropy Loss = 2.2467\n",
      "Training Accuracy = 13.26%\n",
      "\n",
      "Epoch 35/512\n",
      "Training phase...\n"
     ]
    },
    {
     "name": "stderr",
     "output_type": "stream",
     "text": [
      "Loss = 2.2095  |  Accuracy = 13.20% | Batch ID = 30 : 100%|██████████| 30/30 [00:05<00:00,  5.19it/s]\n"
     ]
    },
    {
     "name": "stdout",
     "output_type": "stream",
     "text": [
      "Training Cross-Entropy Loss = 2.2436\n",
      "Training Accuracy = 13.20%\n",
      "\n",
      "Epoch 36/512\n",
      "Training phase...\n"
     ]
    },
    {
     "name": "stderr",
     "output_type": "stream",
     "text": [
      "Loss = 2.2200  |  Accuracy = 13.70% | Batch ID = 30 : 100%|██████████| 30/30 [00:05<00:00,  5.20it/s]\n"
     ]
    },
    {
     "name": "stdout",
     "output_type": "stream",
     "text": [
      "Training Cross-Entropy Loss = 2.2400\n",
      "Training Accuracy = 13.70%\n",
      "\n",
      "Epoch 37/512\n",
      "Training phase...\n"
     ]
    },
    {
     "name": "stderr",
     "output_type": "stream",
     "text": [
      "Loss = 2.2133  |  Accuracy = 13.87% | Batch ID = 30 : 100%|██████████| 30/30 [00:05<00:00,  5.20it/s]\n"
     ]
    },
    {
     "name": "stdout",
     "output_type": "stream",
     "text": [
      "Training Cross-Entropy Loss = 2.2341\n",
      "Training Accuracy = 13.87%\n",
      "\n",
      "Epoch 38/512\n",
      "Training phase...\n"
     ]
    },
    {
     "name": "stderr",
     "output_type": "stream",
     "text": [
      "Loss = 2.2127  |  Accuracy = 14.07% | Batch ID = 30 : 100%|██████████| 30/30 [00:05<00:00,  5.08it/s]\n"
     ]
    },
    {
     "name": "stdout",
     "output_type": "stream",
     "text": [
      "Training Cross-Entropy Loss = 2.2340\n",
      "Training Accuracy = 14.07%\n",
      "\n",
      "Epoch 39/512\n",
      "Training phase...\n"
     ]
    },
    {
     "name": "stderr",
     "output_type": "stream",
     "text": [
      "Loss = 2.2089  |  Accuracy = 14.00% | Batch ID = 30 : 100%|██████████| 30/30 [00:05<00:00,  5.18it/s]\n"
     ]
    },
    {
     "name": "stdout",
     "output_type": "stream",
     "text": [
      "Training Cross-Entropy Loss = 2.2291\n",
      "Training Accuracy = 14.00%\n",
      "\n",
      "Epoch 40/512\n",
      "Training phase...\n"
     ]
    },
    {
     "name": "stderr",
     "output_type": "stream",
     "text": [
      "Loss = 2.2004  |  Accuracy = 14.44% | Batch ID = 30 : 100%|██████████| 30/30 [00:05<00:00,  5.20it/s]\n"
     ]
    },
    {
     "name": "stdout",
     "output_type": "stream",
     "text": [
      "Training Cross-Entropy Loss = 2.2251\n",
      "Training Accuracy = 14.44%\n",
      "\n",
      "Epoch 41/512\n",
      "Training phase...\n"
     ]
    },
    {
     "name": "stderr",
     "output_type": "stream",
     "text": [
      "Loss = 2.2126  |  Accuracy = 14.44% | Batch ID = 30 : 100%|██████████| 30/30 [00:05<00:00,  5.07it/s]\n"
     ]
    },
    {
     "name": "stdout",
     "output_type": "stream",
     "text": [
      "Training Cross-Entropy Loss = 2.2257\n",
      "Training Accuracy = 14.44%\n",
      "\n",
      "Epoch 42/512\n",
      "Training phase...\n"
     ]
    },
    {
     "name": "stderr",
     "output_type": "stream",
     "text": [
      "Loss = 2.2352  |  Accuracy = 14.40% | Batch ID = 30 : 100%|██████████| 30/30 [00:05<00:00,  5.22it/s]\n"
     ]
    },
    {
     "name": "stdout",
     "output_type": "stream",
     "text": [
      "Training Cross-Entropy Loss = 2.2214\n",
      "Training Accuracy = 14.40%\n",
      "\n",
      "Epoch 43/512\n",
      "Training phase...\n"
     ]
    },
    {
     "name": "stderr",
     "output_type": "stream",
     "text": [
      "Loss = 2.2197  |  Accuracy = 15.21% | Batch ID = 30 : 100%|██████████| 30/30 [00:05<00:00,  5.21it/s]\n"
     ]
    },
    {
     "name": "stdout",
     "output_type": "stream",
     "text": [
      "Training Cross-Entropy Loss = 2.2152\n",
      "Training Accuracy = 15.21%\n",
      "\n",
      "Epoch 44/512\n",
      "Training phase...\n"
     ]
    },
    {
     "name": "stderr",
     "output_type": "stream",
     "text": [
      "Loss = 2.1778  |  Accuracy = 15.16% | Batch ID = 30 : 100%|██████████| 30/30 [00:05<00:00,  5.21it/s]\n"
     ]
    },
    {
     "name": "stdout",
     "output_type": "stream",
     "text": [
      "Training Cross-Entropy Loss = 2.2098\n",
      "Training Accuracy = 15.16%\n",
      "\n",
      "Epoch 45/512\n",
      "Training phase...\n"
     ]
    },
    {
     "name": "stderr",
     "output_type": "stream",
     "text": [
      "Loss = 2.1844  |  Accuracy = 15.36% | Batch ID = 30 : 100%|██████████| 30/30 [00:05<00:00,  5.11it/s]\n"
     ]
    },
    {
     "name": "stdout",
     "output_type": "stream",
     "text": [
      "Training Cross-Entropy Loss = 2.2065\n",
      "Training Accuracy = 15.36%\n",
      "\n",
      "Epoch 46/512\n",
      "Training phase...\n"
     ]
    },
    {
     "name": "stderr",
     "output_type": "stream",
     "text": [
      "Loss = 2.1860  |  Accuracy = 15.55% | Batch ID = 30 : 100%|██████████| 30/30 [00:05<00:00,  5.19it/s]\n"
     ]
    },
    {
     "name": "stdout",
     "output_type": "stream",
     "text": [
      "Training Cross-Entropy Loss = 2.2000\n",
      "Training Accuracy = 15.55%\n",
      "\n",
      "Epoch 47/512\n",
      "Training phase...\n"
     ]
    },
    {
     "name": "stderr",
     "output_type": "stream",
     "text": [
      "Loss = 2.1671  |  Accuracy = 15.90% | Batch ID = 30 : 100%|██████████| 30/30 [00:05<00:00,  5.20it/s]\n"
     ]
    },
    {
     "name": "stdout",
     "output_type": "stream",
     "text": [
      "Training Cross-Entropy Loss = 2.1908\n",
      "Training Accuracy = 15.90%\n",
      "\n",
      "Epoch 48/512\n",
      "Training phase...\n"
     ]
    },
    {
     "name": "stderr",
     "output_type": "stream",
     "text": [
      "Loss = 2.1779  |  Accuracy = 16.31% | Batch ID = 30 : 100%|██████████| 30/30 [00:05<00:00,  5.19it/s]\n"
     ]
    },
    {
     "name": "stdout",
     "output_type": "stream",
     "text": [
      "Training Cross-Entropy Loss = 2.1807\n",
      "Training Accuracy = 16.31%\n",
      "\n",
      "Epoch 49/512\n",
      "Training phase...\n"
     ]
    },
    {
     "name": "stderr",
     "output_type": "stream",
     "text": [
      "Loss = 2.1662  |  Accuracy = 16.65% | Batch ID = 30 : 100%|██████████| 30/30 [00:05<00:00,  5.08it/s]\n"
     ]
    },
    {
     "name": "stdout",
     "output_type": "stream",
     "text": [
      "Training Cross-Entropy Loss = 2.1739\n",
      "Training Accuracy = 16.65%\n",
      "\n",
      "Epoch 50/512\n",
      "Training phase...\n"
     ]
    },
    {
     "name": "stderr",
     "output_type": "stream",
     "text": [
      "Loss = 2.1499  |  Accuracy = 16.89% | Batch ID = 30 : 100%|██████████| 30/30 [00:05<00:00,  5.19it/s]\n"
     ]
    },
    {
     "name": "stdout",
     "output_type": "stream",
     "text": [
      "Training Cross-Entropy Loss = 2.1621\n",
      "Training Accuracy = 16.89%\n",
      "\n",
      "Epoch 51/512\n",
      "Training phase...\n"
     ]
    },
    {
     "name": "stderr",
     "output_type": "stream",
     "text": [
      "Loss = 2.1348  |  Accuracy = 17.42% | Batch ID = 30 : 100%|██████████| 30/30 [00:05<00:00,  5.20it/s]\n"
     ]
    },
    {
     "name": "stdout",
     "output_type": "stream",
     "text": [
      "Training Cross-Entropy Loss = 2.1560\n",
      "Training Accuracy = 17.42%\n",
      "\n",
      "Epoch 52/512\n",
      "Training phase...\n"
     ]
    },
    {
     "name": "stderr",
     "output_type": "stream",
     "text": [
      "Loss = 2.1697  |  Accuracy = 17.26% | Batch ID = 30 : 100%|██████████| 30/30 [00:05<00:00,  5.19it/s]\n"
     ]
    },
    {
     "name": "stdout",
     "output_type": "stream",
     "text": [
      "Training Cross-Entropy Loss = 2.1518\n",
      "Training Accuracy = 17.26%\n",
      "\n",
      "Epoch 53/512\n",
      "Training phase...\n"
     ]
    },
    {
     "name": "stderr",
     "output_type": "stream",
     "text": [
      "Loss = 2.1290  |  Accuracy = 17.46% | Batch ID = 30 : 100%|██████████| 30/30 [00:05<00:00,  5.08it/s]\n"
     ]
    },
    {
     "name": "stdout",
     "output_type": "stream",
     "text": [
      "Training Cross-Entropy Loss = 2.1448\n",
      "Training Accuracy = 17.46%\n",
      "\n",
      "Epoch 54/512\n",
      "Training phase...\n"
     ]
    },
    {
     "name": "stderr",
     "output_type": "stream",
     "text": [
      "Loss = 2.1302  |  Accuracy = 17.48% | Batch ID = 30 : 100%|██████████| 30/30 [00:05<00:00,  5.19it/s]\n"
     ]
    },
    {
     "name": "stdout",
     "output_type": "stream",
     "text": [
      "Training Cross-Entropy Loss = 2.1428\n",
      "Training Accuracy = 17.48%\n",
      "\n",
      "Epoch 55/512\n",
      "Training phase...\n"
     ]
    },
    {
     "name": "stderr",
     "output_type": "stream",
     "text": [
      "Loss = 2.1415  |  Accuracy = 17.34% | Batch ID = 30 : 100%|██████████| 30/30 [00:05<00:00,  5.20it/s]\n"
     ]
    },
    {
     "name": "stdout",
     "output_type": "stream",
     "text": [
      "Training Cross-Entropy Loss = 2.1375\n",
      "Training Accuracy = 17.34%\n",
      "\n",
      "Epoch 56/512\n",
      "Training phase...\n"
     ]
    },
    {
     "name": "stderr",
     "output_type": "stream",
     "text": [
      "Loss = 2.1497  |  Accuracy = 17.70% | Batch ID = 30 : 100%|██████████| 30/30 [00:05<00:00,  5.10it/s]\n"
     ]
    },
    {
     "name": "stdout",
     "output_type": "stream",
     "text": [
      "Training Cross-Entropy Loss = 2.1330\n",
      "Training Accuracy = 17.70%\n",
      "\n",
      "Epoch 57/512\n",
      "Training phase...\n"
     ]
    },
    {
     "name": "stderr",
     "output_type": "stream",
     "text": [
      "Loss = 2.1490  |  Accuracy = 17.71% | Batch ID = 30 : 100%|██████████| 30/30 [00:05<00:00,  5.22it/s]\n"
     ]
    },
    {
     "name": "stdout",
     "output_type": "stream",
     "text": [
      "Training Cross-Entropy Loss = 2.1271\n",
      "Training Accuracy = 17.71%\n",
      "\n",
      "Epoch 58/512\n",
      "Training phase...\n"
     ]
    },
    {
     "name": "stderr",
     "output_type": "stream",
     "text": [
      "Loss = 2.0985  |  Accuracy = 17.99% | Batch ID = 30 : 100%|██████████| 30/30 [00:06<00:00,  4.92it/s]\n"
     ]
    },
    {
     "name": "stdout",
     "output_type": "stream",
     "text": [
      "Training Cross-Entropy Loss = 2.1196\n",
      "Training Accuracy = 17.99%\n",
      "\n",
      "Epoch 59/512\n",
      "Training phase...\n"
     ]
    },
    {
     "name": "stderr",
     "output_type": "stream",
     "text": [
      "Loss = 2.1379  |  Accuracy = 17.99% | Batch ID = 30 : 100%|██████████| 30/30 [00:05<00:00,  5.09it/s]\n"
     ]
    },
    {
     "name": "stdout",
     "output_type": "stream",
     "text": [
      "Training Cross-Entropy Loss = 2.1190\n",
      "Training Accuracy = 17.99%\n",
      "\n",
      "Epoch 60/512\n",
      "Training phase...\n"
     ]
    },
    {
     "name": "stderr",
     "output_type": "stream",
     "text": [
      "Loss = 2.1262  |  Accuracy = 17.83% | Batch ID = 30 : 100%|██████████| 30/30 [00:05<00:00,  5.14it/s]\n"
     ]
    },
    {
     "name": "stdout",
     "output_type": "stream",
     "text": [
      "Training Cross-Entropy Loss = 2.1142\n",
      "Training Accuracy = 17.83%\n",
      "\n",
      "Epoch 61/512\n",
      "Training phase...\n"
     ]
    },
    {
     "name": "stderr",
     "output_type": "stream",
     "text": [
      "Loss = 2.1052  |  Accuracy = 18.16% | Batch ID = 30 : 100%|██████████| 30/30 [00:05<00:00,  5.17it/s]\n"
     ]
    },
    {
     "name": "stdout",
     "output_type": "stream",
     "text": [
      "Training Cross-Entropy Loss = 2.1060\n",
      "Training Accuracy = 18.16%\n",
      "\n",
      "Epoch 62/512\n",
      "Training phase...\n"
     ]
    },
    {
     "name": "stderr",
     "output_type": "stream",
     "text": [
      "Loss = 2.1148  |  Accuracy = 18.19% | Batch ID = 30 : 100%|██████████| 30/30 [00:05<00:00,  5.19it/s]\n"
     ]
    },
    {
     "name": "stdout",
     "output_type": "stream",
     "text": [
      "Training Cross-Entropy Loss = 2.1037\n",
      "Training Accuracy = 18.19%\n",
      "\n",
      "Epoch 63/512\n",
      "Training phase...\n"
     ]
    },
    {
     "name": "stderr",
     "output_type": "stream",
     "text": [
      "Loss = 2.1070  |  Accuracy = 18.28% | Batch ID = 30 : 100%|██████████| 30/30 [00:05<00:00,  5.11it/s]\n"
     ]
    },
    {
     "name": "stdout",
     "output_type": "stream",
     "text": [
      "Training Cross-Entropy Loss = 2.1006\n",
      "Training Accuracy = 18.28%\n",
      "\n",
      "Epoch 64/512\n",
      "Training phase...\n"
     ]
    },
    {
     "name": "stderr",
     "output_type": "stream",
     "text": [
      "Loss = 2.1090  |  Accuracy = 18.20% | Batch ID = 30 : 100%|██████████| 30/30 [00:05<00:00,  5.18it/s]\n"
     ]
    },
    {
     "name": "stdout",
     "output_type": "stream",
     "text": [
      "Training Cross-Entropy Loss = 2.0943\n",
      "Training Accuracy = 18.20%\n",
      "\n",
      "Epoch 65/512\n",
      "Training phase...\n"
     ]
    },
    {
     "name": "stderr",
     "output_type": "stream",
     "text": [
      "Loss = 2.0601  |  Accuracy = 18.26% | Batch ID = 30 : 100%|██████████| 30/30 [00:05<00:00,  5.19it/s]\n"
     ]
    },
    {
     "name": "stdout",
     "output_type": "stream",
     "text": [
      "Training Cross-Entropy Loss = 2.0917\n",
      "Training Accuracy = 18.26%\n",
      "\n",
      "Epoch 66/512\n",
      "Training phase...\n"
     ]
    },
    {
     "name": "stderr",
     "output_type": "stream",
     "text": [
      "Loss = 2.0749  |  Accuracy = 18.54% | Batch ID = 30 : 100%|██████████| 30/30 [00:05<00:00,  5.18it/s]\n"
     ]
    },
    {
     "name": "stdout",
     "output_type": "stream",
     "text": [
      "Training Cross-Entropy Loss = 2.0870\n",
      "Training Accuracy = 18.54%\n",
      "\n",
      "Epoch 67/512\n",
      "Training phase...\n"
     ]
    },
    {
     "name": "stderr",
     "output_type": "stream",
     "text": [
      "Loss = 2.0695  |  Accuracy = 18.73% | Batch ID = 30 : 100%|██████████| 30/30 [00:05<00:00,  5.07it/s]\n"
     ]
    },
    {
     "name": "stdout",
     "output_type": "stream",
     "text": [
      "Training Cross-Entropy Loss = 2.0802\n",
      "Training Accuracy = 18.73%\n",
      "\n",
      "Epoch 68/512\n",
      "Training phase...\n"
     ]
    },
    {
     "name": "stderr",
     "output_type": "stream",
     "text": [
      "Loss = 2.1342  |  Accuracy = 18.55% | Batch ID = 30 : 100%|██████████| 30/30 [00:05<00:00,  5.19it/s]\n"
     ]
    },
    {
     "name": "stdout",
     "output_type": "stream",
     "text": [
      "Training Cross-Entropy Loss = 2.0823\n",
      "Training Accuracy = 18.55%\n",
      "\n",
      "Epoch 69/512\n",
      "Training phase...\n"
     ]
    },
    {
     "name": "stderr",
     "output_type": "stream",
     "text": [
      "Loss = 2.0497  |  Accuracy = 18.71% | Batch ID = 30 : 100%|██████████| 30/30 [00:05<00:00,  5.18it/s]\n"
     ]
    },
    {
     "name": "stdout",
     "output_type": "stream",
     "text": [
      "Training Cross-Entropy Loss = 2.0664\n",
      "Training Accuracy = 18.71%\n",
      "\n",
      "Epoch 70/512\n",
      "Training phase...\n"
     ]
    },
    {
     "name": "stderr",
     "output_type": "stream",
     "text": [
      "Loss = 2.0790  |  Accuracy = 18.62% | Batch ID = 30 : 100%|██████████| 30/30 [00:05<00:00,  5.19it/s]\n"
     ]
    },
    {
     "name": "stdout",
     "output_type": "stream",
     "text": [
      "Training Cross-Entropy Loss = 2.0640\n",
      "Training Accuracy = 18.62%\n",
      "\n",
      "Epoch 71/512\n",
      "Training phase...\n"
     ]
    },
    {
     "name": "stderr",
     "output_type": "stream",
     "text": [
      "Loss = 2.0425  |  Accuracy = 18.95% | Batch ID = 30 : 100%|██████████| 30/30 [00:05<00:00,  5.07it/s]\n"
     ]
    },
    {
     "name": "stdout",
     "output_type": "stream",
     "text": [
      "Training Cross-Entropy Loss = 2.0566\n",
      "Training Accuracy = 18.95%\n",
      "\n",
      "Epoch 72/512\n",
      "Training phase...\n"
     ]
    },
    {
     "name": "stderr",
     "output_type": "stream",
     "text": [
      "Loss = 2.0527  |  Accuracy = 18.88% | Batch ID = 30 : 100%|██████████| 30/30 [00:05<00:00,  5.17it/s]\n"
     ]
    },
    {
     "name": "stdout",
     "output_type": "stream",
     "text": [
      "Training Cross-Entropy Loss = 2.0474\n",
      "Training Accuracy = 18.88%\n",
      "\n",
      "Epoch 73/512\n",
      "Training phase...\n"
     ]
    },
    {
     "name": "stderr",
     "output_type": "stream",
     "text": [
      "Loss = 2.0015  |  Accuracy = 18.68% | Batch ID = 30 : 100%|██████████| 30/30 [00:05<00:00,  5.19it/s]\n"
     ]
    },
    {
     "name": "stdout",
     "output_type": "stream",
     "text": [
      "Training Cross-Entropy Loss = 2.0475\n",
      "Training Accuracy = 18.68%\n",
      "\n",
      "Epoch 74/512\n",
      "Training phase...\n"
     ]
    },
    {
     "name": "stderr",
     "output_type": "stream",
     "text": [
      "Loss = 2.0165  |  Accuracy = 19.09% | Batch ID = 30 : 100%|██████████| 30/30 [00:05<00:00,  5.19it/s]\n"
     ]
    },
    {
     "name": "stdout",
     "output_type": "stream",
     "text": [
      "Training Cross-Entropy Loss = 2.0363\n",
      "Training Accuracy = 19.09%\n",
      "\n",
      "Epoch 75/512\n",
      "Training phase...\n"
     ]
    },
    {
     "name": "stderr",
     "output_type": "stream",
     "text": [
      "Loss = 2.0087  |  Accuracy = 19.17% | Batch ID = 30 : 100%|██████████| 30/30 [00:05<00:00,  5.05it/s]\n"
     ]
    },
    {
     "name": "stdout",
     "output_type": "stream",
     "text": [
      "Training Cross-Entropy Loss = 2.0287\n",
      "Training Accuracy = 19.17%\n",
      "\n",
      "Epoch 76/512\n",
      "Training phase...\n"
     ]
    },
    {
     "name": "stderr",
     "output_type": "stream",
     "text": [
      "Loss = 2.0205  |  Accuracy = 18.70% | Batch ID = 30 : 100%|██████████| 30/30 [00:05<00:00,  5.16it/s]\n"
     ]
    },
    {
     "name": "stdout",
     "output_type": "stream",
     "text": [
      "Training Cross-Entropy Loss = 2.0212\n",
      "Training Accuracy = 18.70%\n",
      "\n",
      "Epoch 77/512\n",
      "Training phase...\n"
     ]
    },
    {
     "name": "stderr",
     "output_type": "stream",
     "text": [
      "Loss = 2.0129  |  Accuracy = 19.09% | Batch ID = 30 : 100%|██████████| 30/30 [00:05<00:00,  5.17it/s]\n"
     ]
    },
    {
     "name": "stdout",
     "output_type": "stream",
     "text": [
      "Training Cross-Entropy Loss = 2.0164\n",
      "Training Accuracy = 19.09%\n",
      "\n",
      "Epoch 78/512\n",
      "Training phase...\n"
     ]
    },
    {
     "name": "stderr",
     "output_type": "stream",
     "text": [
      "Loss = 1.9925  |  Accuracy = 18.98% | Batch ID = 30 : 100%|██████████| 30/30 [00:05<00:00,  5.06it/s]\n"
     ]
    },
    {
     "name": "stdout",
     "output_type": "stream",
     "text": [
      "Training Cross-Entropy Loss = 2.0109\n",
      "Training Accuracy = 18.98%\n",
      "\n",
      "Epoch 79/512\n",
      "Training phase...\n"
     ]
    },
    {
     "name": "stderr",
     "output_type": "stream",
     "text": [
      "Loss = 1.9950  |  Accuracy = 18.99% | Batch ID = 30 : 100%|██████████| 30/30 [00:05<00:00,  5.19it/s]\n"
     ]
    },
    {
     "name": "stdout",
     "output_type": "stream",
     "text": [
      "Training Cross-Entropy Loss = 1.9998\n",
      "Training Accuracy = 18.99%\n",
      "\n",
      "Epoch 80/512\n",
      "Training phase...\n"
     ]
    },
    {
     "name": "stderr",
     "output_type": "stream",
     "text": [
      "Loss = 2.0093  |  Accuracy = 18.85% | Batch ID = 30 : 100%|██████████| 30/30 [00:05<00:00,  5.17it/s]\n"
     ]
    },
    {
     "name": "stdout",
     "output_type": "stream",
     "text": [
      "Training Cross-Entropy Loss = 1.9904\n",
      "Training Accuracy = 18.85%\n",
      "\n",
      "Epoch 81/512\n",
      "Training phase...\n"
     ]
    },
    {
     "name": "stderr",
     "output_type": "stream",
     "text": [
      "Loss = 1.9795  |  Accuracy = 19.09% | Batch ID = 30 : 100%|██████████| 30/30 [00:05<00:00,  5.19it/s]\n"
     ]
    },
    {
     "name": "stdout",
     "output_type": "stream",
     "text": [
      "Training Cross-Entropy Loss = 1.9793\n",
      "Training Accuracy = 19.09%\n",
      "\n",
      "Epoch 82/512\n",
      "Training phase...\n"
     ]
    },
    {
     "name": "stderr",
     "output_type": "stream",
     "text": [
      "Loss = 1.9671  |  Accuracy = 19.14% | Batch ID = 30 : 100%|██████████| 30/30 [00:05<00:00,  5.08it/s]\n"
     ]
    },
    {
     "name": "stdout",
     "output_type": "stream",
     "text": [
      "Training Cross-Entropy Loss = 1.9709\n",
      "Training Accuracy = 19.14%\n",
      "\n",
      "Epoch 83/512\n",
      "Training phase...\n"
     ]
    },
    {
     "name": "stderr",
     "output_type": "stream",
     "text": [
      "Loss = 1.9567  |  Accuracy = 19.09% | Batch ID = 30 : 100%|██████████| 30/30 [00:05<00:00,  5.18it/s]\n"
     ]
    },
    {
     "name": "stdout",
     "output_type": "stream",
     "text": [
      "Training Cross-Entropy Loss = 1.9668\n",
      "Training Accuracy = 19.09%\n",
      "\n",
      "Epoch 84/512\n",
      "Training phase...\n"
     ]
    },
    {
     "name": "stderr",
     "output_type": "stream",
     "text": [
      "Loss = 1.9547  |  Accuracy = 19.21% | Batch ID = 30 : 100%|██████████| 30/30 [00:05<00:00,  5.17it/s]\n"
     ]
    },
    {
     "name": "stdout",
     "output_type": "stream",
     "text": [
      "Training Cross-Entropy Loss = 1.9561\n",
      "Training Accuracy = 19.21%\n",
      "\n",
      "Epoch 85/512\n",
      "Training phase...\n"
     ]
    },
    {
     "name": "stderr",
     "output_type": "stream",
     "text": [
      "Loss = 1.9276  |  Accuracy = 19.26% | Batch ID = 30 : 100%|██████████| 30/30 [00:05<00:00,  5.05it/s]\n"
     ]
    },
    {
     "name": "stdout",
     "output_type": "stream",
     "text": [
      "Training Cross-Entropy Loss = 1.9448\n",
      "Training Accuracy = 19.26%\n",
      "\n",
      "Epoch 86/512\n",
      "Training phase...\n"
     ]
    },
    {
     "name": "stderr",
     "output_type": "stream",
     "text": [
      "Loss = 1.9613  |  Accuracy = 19.03% | Batch ID = 30 : 100%|██████████| 30/30 [00:05<00:00,  5.18it/s]\n"
     ]
    },
    {
     "name": "stdout",
     "output_type": "stream",
     "text": [
      "Training Cross-Entropy Loss = 1.9422\n",
      "Training Accuracy = 19.03%\n",
      "\n",
      "Epoch 87/512\n",
      "Training phase...\n"
     ]
    },
    {
     "name": "stderr",
     "output_type": "stream",
     "text": [
      "Loss = 1.9326  |  Accuracy = 19.29% | Batch ID = 30 : 100%|██████████| 30/30 [00:05<00:00,  5.18it/s]\n"
     ]
    },
    {
     "name": "stdout",
     "output_type": "stream",
     "text": [
      "Training Cross-Entropy Loss = 1.9454\n",
      "Training Accuracy = 19.29%\n",
      "\n",
      "Epoch 88/512\n",
      "Training phase...\n"
     ]
    },
    {
     "name": "stderr",
     "output_type": "stream",
     "text": [
      "Loss = 1.9696  |  Accuracy = 19.05% | Batch ID = 30 : 100%|██████████| 30/30 [00:05<00:00,  5.19it/s]\n"
     ]
    },
    {
     "name": "stdout",
     "output_type": "stream",
     "text": [
      "Training Cross-Entropy Loss = 1.9432\n",
      "Training Accuracy = 19.05%\n",
      "\n",
      "Epoch 89/512\n",
      "Training phase...\n"
     ]
    },
    {
     "name": "stderr",
     "output_type": "stream",
     "text": [
      "Loss = 1.9263  |  Accuracy = 19.08% | Batch ID = 30 : 100%|██████████| 30/30 [00:05<00:00,  5.07it/s]\n"
     ]
    },
    {
     "name": "stdout",
     "output_type": "stream",
     "text": [
      "Training Cross-Entropy Loss = 1.9335\n",
      "Training Accuracy = 19.08%\n",
      "\n",
      "Epoch 90/512\n",
      "Training phase...\n"
     ]
    },
    {
     "name": "stderr",
     "output_type": "stream",
     "text": [
      "Loss = 1.9447  |  Accuracy = 19.07% | Batch ID = 30 : 100%|██████████| 30/30 [00:05<00:00,  5.18it/s]\n"
     ]
    },
    {
     "name": "stdout",
     "output_type": "stream",
     "text": [
      "Training Cross-Entropy Loss = 1.9292\n",
      "Training Accuracy = 19.07%\n",
      "\n",
      "Epoch 91/512\n",
      "Training phase...\n"
     ]
    },
    {
     "name": "stderr",
     "output_type": "stream",
     "text": [
      "Loss = 1.9395  |  Accuracy = 19.23% | Batch ID = 30 : 100%|██████████| 30/30 [00:05<00:00,  5.17it/s]\n"
     ]
    },
    {
     "name": "stdout",
     "output_type": "stream",
     "text": [
      "Training Cross-Entropy Loss = 1.9226\n",
      "Training Accuracy = 19.23%\n",
      "\n",
      "Epoch 92/512\n",
      "Training phase...\n"
     ]
    },
    {
     "name": "stderr",
     "output_type": "stream",
     "text": [
      "Loss = 1.9191  |  Accuracy = 19.05% | Batch ID = 30 : 100%|██████████| 30/30 [00:05<00:00,  5.08it/s]\n"
     ]
    },
    {
     "name": "stdout",
     "output_type": "stream",
     "text": [
      "Training Cross-Entropy Loss = 1.9453\n",
      "Training Accuracy = 19.05%\n",
      "\n",
      "Epoch 93/512\n",
      "Training phase...\n"
     ]
    },
    {
     "name": "stderr",
     "output_type": "stream",
     "text": [
      "Loss = 1.8870  |  Accuracy = 19.42% | Batch ID = 30 : 100%|██████████| 30/30 [00:05<00:00,  5.19it/s]\n"
     ]
    },
    {
     "name": "stdout",
     "output_type": "stream",
     "text": [
      "Training Cross-Entropy Loss = 1.9138\n",
      "Training Accuracy = 19.42%\n",
      "\n",
      "Epoch 94/512\n",
      "Training phase...\n"
     ]
    },
    {
     "name": "stderr",
     "output_type": "stream",
     "text": [
      "Loss = 1.9358  |  Accuracy = 19.76% | Batch ID = 30 : 100%|██████████| 30/30 [00:05<00:00,  5.18it/s]\n"
     ]
    },
    {
     "name": "stdout",
     "output_type": "stream",
     "text": [
      "Training Cross-Entropy Loss = 1.9074\n",
      "Training Accuracy = 19.76%\n",
      "\n",
      "Epoch 95/512\n",
      "Training phase...\n"
     ]
    },
    {
     "name": "stderr",
     "output_type": "stream",
     "text": [
      "Loss = 1.9183  |  Accuracy = 19.75% | Batch ID = 30 : 100%|██████████| 30/30 [00:05<00:00,  5.20it/s]\n"
     ]
    },
    {
     "name": "stdout",
     "output_type": "stream",
     "text": [
      "Training Cross-Entropy Loss = 1.9064\n",
      "Training Accuracy = 19.75%\n",
      "\n",
      "Epoch 96/512\n",
      "Training phase...\n"
     ]
    },
    {
     "name": "stderr",
     "output_type": "stream",
     "text": [
      "Loss = 1.9066  |  Accuracy = 19.72% | Batch ID = 30 : 100%|██████████| 30/30 [00:05<00:00,  5.20it/s]\n"
     ]
    },
    {
     "name": "stdout",
     "output_type": "stream",
     "text": [
      "Training Cross-Entropy Loss = 1.8951\n",
      "Training Accuracy = 19.72%\n",
      "\n",
      "Epoch 97/512\n",
      "Training phase...\n"
     ]
    },
    {
     "name": "stderr",
     "output_type": "stream",
     "text": [
      "Loss = 1.9097  |  Accuracy = 19.80% | Batch ID = 30 : 100%|██████████| 30/30 [00:05<00:00,  5.07it/s]\n"
     ]
    },
    {
     "name": "stdout",
     "output_type": "stream",
     "text": [
      "Training Cross-Entropy Loss = 1.8922\n",
      "Training Accuracy = 19.80%\n",
      "\n",
      "Epoch 98/512\n",
      "Training phase...\n"
     ]
    },
    {
     "name": "stderr",
     "output_type": "stream",
     "text": [
      "Loss = 1.8714  |  Accuracy = 19.48% | Batch ID = 30 : 100%|██████████| 30/30 [00:05<00:00,  5.21it/s]\n"
     ]
    },
    {
     "name": "stdout",
     "output_type": "stream",
     "text": [
      "Training Cross-Entropy Loss = 1.8894\n",
      "Training Accuracy = 19.48%\n",
      "\n",
      "Epoch 99/512\n",
      "Training phase...\n"
     ]
    },
    {
     "name": "stderr",
     "output_type": "stream",
     "text": [
      "Loss = 1.8445  |  Accuracy = 19.83% | Batch ID = 30 : 100%|██████████| 30/30 [00:05<00:00,  5.08it/s]\n"
     ]
    },
    {
     "name": "stdout",
     "output_type": "stream",
     "text": [
      "Training Cross-Entropy Loss = 1.8824\n",
      "Training Accuracy = 19.83%\n",
      "\n",
      "Epoch 100/512\n",
      "Training phase...\n"
     ]
    },
    {
     "name": "stderr",
     "output_type": "stream",
     "text": [
      "Loss = 1.8921  |  Accuracy = 19.63% | Batch ID = 30 : 100%|██████████| 30/30 [00:05<00:00,  5.18it/s]\n"
     ]
    },
    {
     "name": "stdout",
     "output_type": "stream",
     "text": [
      "Training Cross-Entropy Loss = 1.8935\n",
      "Training Accuracy = 19.63%\n",
      "\n",
      "Epoch 101/512\n",
      "Training phase...\n"
     ]
    },
    {
     "name": "stderr",
     "output_type": "stream",
     "text": [
      "Loss = 1.9905  |  Accuracy = 19.64% | Batch ID = 30 : 100%|██████████| 30/30 [00:05<00:00,  5.17it/s]\n"
     ]
    },
    {
     "name": "stdout",
     "output_type": "stream",
     "text": [
      "Training Cross-Entropy Loss = 1.9168\n",
      "Training Accuracy = 19.64%\n",
      "\n",
      "Epoch 102/512\n",
      "Training phase...\n"
     ]
    },
    {
     "name": "stderr",
     "output_type": "stream",
     "text": [
      "Loss = 1.8890  |  Accuracy = 19.82% | Batch ID = 30 : 100%|██████████| 30/30 [00:05<00:00,  5.22it/s]\n"
     ]
    },
    {
     "name": "stdout",
     "output_type": "stream",
     "text": [
      "Training Cross-Entropy Loss = 1.9064\n",
      "Training Accuracy = 19.82%\n",
      "\n",
      "Epoch 103/512\n",
      "Training phase...\n"
     ]
    },
    {
     "name": "stderr",
     "output_type": "stream",
     "text": [
      "Loss = 1.8994  |  Accuracy = 19.74% | Batch ID = 30 : 100%|██████████| 30/30 [00:05<00:00,  5.18it/s]\n"
     ]
    },
    {
     "name": "stdout",
     "output_type": "stream",
     "text": [
      "Training Cross-Entropy Loss = 1.8965\n",
      "Training Accuracy = 19.74%\n",
      "\n",
      "Epoch 104/512\n",
      "Training phase...\n"
     ]
    },
    {
     "name": "stderr",
     "output_type": "stream",
     "text": [
      "Loss = 1.8798  |  Accuracy = 19.76% | Batch ID = 30 : 100%|██████████| 30/30 [00:05<00:00,  5.09it/s]\n"
     ]
    },
    {
     "name": "stdout",
     "output_type": "stream",
     "text": [
      "Training Cross-Entropy Loss = 1.8943\n",
      "Training Accuracy = 19.76%\n",
      "\n",
      "Epoch 105/512\n",
      "Training phase...\n"
     ]
    },
    {
     "name": "stderr",
     "output_type": "stream",
     "text": [
      "Loss = 1.9166  |  Accuracy = 19.93% | Batch ID = 30 : 100%|██████████| 30/30 [00:05<00:00,  5.18it/s]\n"
     ]
    },
    {
     "name": "stdout",
     "output_type": "stream",
     "text": [
      "Training Cross-Entropy Loss = 1.9043\n",
      "Training Accuracy = 19.93%\n",
      "\n",
      "Epoch 106/512\n",
      "Training phase...\n"
     ]
    },
    {
     "name": "stderr",
     "output_type": "stream",
     "text": [
      "Loss = 1.8944  |  Accuracy = 19.87% | Batch ID = 30 : 100%|██████████| 30/30 [00:05<00:00,  5.19it/s]\n"
     ]
    },
    {
     "name": "stdout",
     "output_type": "stream",
     "text": [
      "Training Cross-Entropy Loss = 1.8928\n",
      "Training Accuracy = 19.87%\n",
      "\n",
      "Epoch 107/512\n",
      "Training phase...\n"
     ]
    },
    {
     "name": "stderr",
     "output_type": "stream",
     "text": [
      "Loss = 1.9530  |  Accuracy = 19.73% | Batch ID = 30 : 100%|██████████| 30/30 [00:05<00:00,  5.09it/s]\n"
     ]
    },
    {
     "name": "stdout",
     "output_type": "stream",
     "text": [
      "Training Cross-Entropy Loss = 1.9182\n",
      "Training Accuracy = 19.73%\n",
      "\n",
      "Epoch 108/512\n",
      "Training phase...\n"
     ]
    },
    {
     "name": "stderr",
     "output_type": "stream",
     "text": [
      "Loss = 1.9042  |  Accuracy = 20.16% | Batch ID = 30 : 100%|██████████| 30/30 [00:05<00:00,  5.19it/s]\n"
     ]
    },
    {
     "name": "stdout",
     "output_type": "stream",
     "text": [
      "Training Cross-Entropy Loss = 1.9126\n",
      "Training Accuracy = 20.16%\n",
      "\n",
      "Epoch 109/512\n",
      "Training phase...\n"
     ]
    },
    {
     "name": "stderr",
     "output_type": "stream",
     "text": [
      "Loss = 1.9250  |  Accuracy = 19.80% | Batch ID = 30 : 100%|██████████| 30/30 [00:05<00:00,  5.20it/s]\n"
     ]
    },
    {
     "name": "stdout",
     "output_type": "stream",
     "text": [
      "Training Cross-Entropy Loss = 1.9143\n",
      "Training Accuracy = 19.80%\n",
      "\n",
      "Epoch 110/512\n",
      "Training phase...\n"
     ]
    },
    {
     "name": "stderr",
     "output_type": "stream",
     "text": [
      "Loss = 1.8601  |  Accuracy = 20.18% | Batch ID = 30 : 100%|██████████| 30/30 [00:05<00:00,  5.19it/s]\n"
     ]
    },
    {
     "name": "stdout",
     "output_type": "stream",
     "text": [
      "Training Cross-Entropy Loss = 1.9046\n",
      "Training Accuracy = 20.18%\n",
      "\n",
      "Epoch 111/512\n",
      "Training phase...\n"
     ]
    },
    {
     "name": "stderr",
     "output_type": "stream",
     "text": [
      "Loss = 1.9276  |  Accuracy = 19.93% | Batch ID = 30 : 100%|██████████| 30/30 [00:05<00:00,  5.07it/s]\n"
     ]
    },
    {
     "name": "stdout",
     "output_type": "stream",
     "text": [
      "Training Cross-Entropy Loss = 1.8907\n",
      "Training Accuracy = 19.93%\n",
      "\n",
      "Epoch 112/512\n",
      "Training phase...\n"
     ]
    },
    {
     "name": "stderr",
     "output_type": "stream",
     "text": [
      "Loss = 1.9206  |  Accuracy = 20.24% | Batch ID = 30 : 100%|██████████| 30/30 [00:05<00:00,  5.18it/s]\n"
     ]
    },
    {
     "name": "stdout",
     "output_type": "stream",
     "text": [
      "Training Cross-Entropy Loss = 1.8962\n",
      "Training Accuracy = 20.24%\n",
      "\n",
      "Epoch 113/512\n",
      "Training phase...\n"
     ]
    },
    {
     "name": "stderr",
     "output_type": "stream",
     "text": [
      "Loss = 1.8827  |  Accuracy = 20.14% | Batch ID = 30 : 100%|██████████| 30/30 [00:05<00:00,  5.17it/s]\n"
     ]
    },
    {
     "name": "stdout",
     "output_type": "stream",
     "text": [
      "Training Cross-Entropy Loss = 1.9008\n",
      "Training Accuracy = 20.14%\n",
      "\n",
      "Epoch 114/512\n",
      "Training phase...\n"
     ]
    },
    {
     "name": "stderr",
     "output_type": "stream",
     "text": [
      "Loss = 1.9064  |  Accuracy = 20.06% | Batch ID = 30 : 100%|██████████| 30/30 [00:05<00:00,  5.08it/s]\n"
     ]
    },
    {
     "name": "stdout",
     "output_type": "stream",
     "text": [
      "Training Cross-Entropy Loss = 1.9109\n",
      "Training Accuracy = 20.06%\n",
      "\n",
      "Epoch 115/512\n",
      "Training phase...\n"
     ]
    },
    {
     "name": "stderr",
     "output_type": "stream",
     "text": [
      "Loss = 1.8984  |  Accuracy = 20.26% | Batch ID = 30 : 100%|██████████| 30/30 [00:05<00:00,  5.19it/s]\n"
     ]
    },
    {
     "name": "stdout",
     "output_type": "stream",
     "text": [
      "Training Cross-Entropy Loss = 1.8995\n",
      "Training Accuracy = 20.26%\n",
      "\n",
      "Epoch 116/512\n",
      "Training phase...\n"
     ]
    },
    {
     "name": "stderr",
     "output_type": "stream",
     "text": [
      "Loss = 1.8907  |  Accuracy = 20.10% | Batch ID = 30 : 100%|██████████| 30/30 [00:05<00:00,  5.19it/s]\n"
     ]
    },
    {
     "name": "stdout",
     "output_type": "stream",
     "text": [
      "Training Cross-Entropy Loss = 1.8954\n",
      "Training Accuracy = 20.10%\n",
      "\n",
      "Epoch 117/512\n",
      "Training phase...\n"
     ]
    },
    {
     "name": "stderr",
     "output_type": "stream",
     "text": [
      "Loss = 1.9022  |  Accuracy = 19.92% | Batch ID = 30 : 100%|██████████| 30/30 [00:05<00:00,  5.20it/s]\n"
     ]
    },
    {
     "name": "stdout",
     "output_type": "stream",
     "text": [
      "Training Cross-Entropy Loss = 1.8776\n",
      "Training Accuracy = 19.92%\n",
      "\n",
      "Epoch 118/512\n",
      "Training phase...\n"
     ]
    },
    {
     "name": "stderr",
     "output_type": "stream",
     "text": [
      "Loss = 1.8791  |  Accuracy = 20.18% | Batch ID = 30 : 100%|██████████| 30/30 [00:05<00:00,  5.07it/s]\n"
     ]
    },
    {
     "name": "stdout",
     "output_type": "stream",
     "text": [
      "Training Cross-Entropy Loss = 1.8735\n",
      "Training Accuracy = 20.18%\n",
      "\n",
      "Epoch 119/512\n",
      "Training phase...\n"
     ]
    },
    {
     "name": "stderr",
     "output_type": "stream",
     "text": [
      "Loss = 1.9193  |  Accuracy = 19.60% | Batch ID = 30 : 100%|██████████| 30/30 [00:05<00:00,  5.20it/s]\n"
     ]
    },
    {
     "name": "stdout",
     "output_type": "stream",
     "text": [
      "Training Cross-Entropy Loss = 1.9472\n",
      "Training Accuracy = 19.60%\n",
      "\n",
      "Epoch 120/512\n",
      "Training phase...\n"
     ]
    },
    {
     "name": "stderr",
     "output_type": "stream",
     "text": [
      "Loss = 1.9163  |  Accuracy = 19.92% | Batch ID = 30 : 100%|██████████| 30/30 [00:05<00:00,  5.20it/s]\n"
     ]
    },
    {
     "name": "stdout",
     "output_type": "stream",
     "text": [
      "Training Cross-Entropy Loss = 1.9167\n",
      "Training Accuracy = 19.92%\n",
      "\n",
      "Epoch 121/512\n",
      "Training phase...\n"
     ]
    },
    {
     "name": "stderr",
     "output_type": "stream",
     "text": [
      "Loss = 1.9000  |  Accuracy = 19.82% | Batch ID = 30 : 100%|██████████| 30/30 [00:05<00:00,  5.08it/s]\n"
     ]
    },
    {
     "name": "stdout",
     "output_type": "stream",
     "text": [
      "Training Cross-Entropy Loss = 1.9158\n",
      "Training Accuracy = 19.82%\n",
      "\n",
      "Epoch 122/512\n",
      "Training phase...\n"
     ]
    },
    {
     "name": "stderr",
     "output_type": "stream",
     "text": [
      "Loss = 1.9694  |  Accuracy = 19.71% | Batch ID = 30 : 100%|██████████| 30/30 [00:05<00:00,  5.19it/s]\n"
     ]
    },
    {
     "name": "stdout",
     "output_type": "stream",
     "text": [
      "Training Cross-Entropy Loss = 1.9085\n",
      "Training Accuracy = 19.71%\n",
      "\n",
      "Epoch 123/512\n",
      "Training phase...\n"
     ]
    },
    {
     "name": "stderr",
     "output_type": "stream",
     "text": [
      "Loss = 1.9128  |  Accuracy = 19.85% | Batch ID = 30 : 100%|██████████| 30/30 [00:05<00:00,  5.20it/s]\n"
     ]
    },
    {
     "name": "stdout",
     "output_type": "stream",
     "text": [
      "Training Cross-Entropy Loss = 1.9040\n",
      "Training Accuracy = 19.85%\n",
      "\n",
      "Epoch 124/512\n",
      "Training phase...\n"
     ]
    },
    {
     "name": "stderr",
     "output_type": "stream",
     "text": [
      "Loss = 1.9009  |  Accuracy = 20.07% | Batch ID = 30 : 100%|██████████| 30/30 [00:05<00:00,  5.21it/s]\n"
     ]
    },
    {
     "name": "stdout",
     "output_type": "stream",
     "text": [
      "Training Cross-Entropy Loss = 1.8839\n",
      "Training Accuracy = 20.07%\n",
      "\n",
      "Epoch 125/512\n",
      "Training phase...\n"
     ]
    },
    {
     "name": "stderr",
     "output_type": "stream",
     "text": [
      "Loss = 1.9221  |  Accuracy = 19.90% | Batch ID = 30 : 100%|██████████| 30/30 [00:05<00:00,  5.18it/s]\n"
     ]
    },
    {
     "name": "stdout",
     "output_type": "stream",
     "text": [
      "Training Cross-Entropy Loss = 1.8879\n",
      "Training Accuracy = 19.90%\n",
      "\n",
      "Epoch 126/512\n",
      "Training phase...\n"
     ]
    },
    {
     "name": "stderr",
     "output_type": "stream",
     "text": [
      "Loss = 1.9829  |  Accuracy = 19.84% | Batch ID = 30 : 100%|██████████| 30/30 [00:05<00:00,  5.10it/s]\n"
     ]
    },
    {
     "name": "stdout",
     "output_type": "stream",
     "text": [
      "Training Cross-Entropy Loss = 1.8899\n",
      "Training Accuracy = 19.84%\n",
      "\n",
      "Epoch 127/512\n",
      "Training phase...\n"
     ]
    },
    {
     "name": "stderr",
     "output_type": "stream",
     "text": [
      "Loss = 1.8673  |  Accuracy = 19.76% | Batch ID = 30 : 100%|██████████| 30/30 [00:05<00:00,  5.19it/s]\n"
     ]
    },
    {
     "name": "stdout",
     "output_type": "stream",
     "text": [
      "Training Cross-Entropy Loss = 1.8829\n",
      "Training Accuracy = 19.76%\n",
      "\n",
      "Epoch 128/512\n",
      "Training phase...\n"
     ]
    },
    {
     "name": "stderr",
     "output_type": "stream",
     "text": [
      "Loss = 1.8515  |  Accuracy = 20.07% | Batch ID = 30 : 100%|██████████| 30/30 [00:05<00:00,  5.08it/s]\n"
     ]
    },
    {
     "name": "stdout",
     "output_type": "stream",
     "text": [
      "Training Cross-Entropy Loss = 1.8717\n",
      "Training Accuracy = 20.07%\n",
      "\n",
      "Epoch 129/512\n",
      "Training phase...\n"
     ]
    },
    {
     "name": "stderr",
     "output_type": "stream",
     "text": [
      "Loss = 1.8796  |  Accuracy = 20.01% | Batch ID = 30 : 100%|██████████| 30/30 [00:05<00:00,  5.21it/s]\n"
     ]
    },
    {
     "name": "stdout",
     "output_type": "stream",
     "text": [
      "Training Cross-Entropy Loss = 1.8776\n",
      "Training Accuracy = 20.01%\n",
      "\n",
      "Epoch 130/512\n",
      "Training phase...\n"
     ]
    },
    {
     "name": "stderr",
     "output_type": "stream",
     "text": [
      "Loss = 1.8731  |  Accuracy = 19.97% | Batch ID = 30 : 100%|██████████| 30/30 [00:05<00:00,  5.19it/s]\n"
     ]
    },
    {
     "name": "stdout",
     "output_type": "stream",
     "text": [
      "Training Cross-Entropy Loss = 1.8607\n",
      "Training Accuracy = 19.97%\n",
      "\n",
      "Epoch 131/512\n",
      "Training phase...\n"
     ]
    },
    {
     "name": "stderr",
     "output_type": "stream",
     "text": [
      "Loss = 1.8545  |  Accuracy = 19.80% | Batch ID = 30 : 100%|██████████| 30/30 [00:05<00:00,  5.19it/s]\n"
     ]
    },
    {
     "name": "stdout",
     "output_type": "stream",
     "text": [
      "Training Cross-Entropy Loss = 1.8672\n",
      "Training Accuracy = 19.80%\n",
      "\n",
      "Epoch 132/512\n",
      "Training phase...\n"
     ]
    },
    {
     "name": "stderr",
     "output_type": "stream",
     "text": [
      "Loss = 1.8284  |  Accuracy = 20.11% | Batch ID = 30 : 100%|██████████| 30/30 [00:05<00:00,  5.20it/s]\n"
     ]
    },
    {
     "name": "stdout",
     "output_type": "stream",
     "text": [
      "Training Cross-Entropy Loss = 1.8583\n",
      "Training Accuracy = 20.11%\n",
      "\n",
      "Epoch 133/512\n",
      "Training phase...\n"
     ]
    },
    {
     "name": "stderr",
     "output_type": "stream",
     "text": [
      "Loss = 1.8542  |  Accuracy = 19.73% | Batch ID = 30 : 100%|██████████| 30/30 [00:05<00:00,  5.08it/s]\n"
     ]
    },
    {
     "name": "stdout",
     "output_type": "stream",
     "text": [
      "Training Cross-Entropy Loss = 1.8533\n",
      "Training Accuracy = 19.73%\n",
      "\n",
      "Epoch 134/512\n",
      "Training phase...\n"
     ]
    },
    {
     "name": "stderr",
     "output_type": "stream",
     "text": [
      "Loss = 1.8518  |  Accuracy = 19.80% | Batch ID = 30 : 100%|██████████| 30/30 [00:05<00:00,  5.19it/s]\n"
     ]
    },
    {
     "name": "stdout",
     "output_type": "stream",
     "text": [
      "Training Cross-Entropy Loss = 1.8558\n",
      "Training Accuracy = 19.80%\n",
      "\n",
      "Epoch 135/512\n",
      "Training phase...\n"
     ]
    },
    {
     "name": "stderr",
     "output_type": "stream",
     "text": [
      "Loss = 1.8936  |  Accuracy = 19.53% | Batch ID = 30 : 100%|██████████| 30/30 [00:05<00:00,  5.19it/s]\n"
     ]
    },
    {
     "name": "stdout",
     "output_type": "stream",
     "text": [
      "Training Cross-Entropy Loss = 1.8529\n",
      "Training Accuracy = 19.53%\n",
      "\n",
      "Epoch 136/512\n",
      "Training phase...\n"
     ]
    },
    {
     "name": "stderr",
     "output_type": "stream",
     "text": [
      "Loss = 2.0111  |  Accuracy = 19.23% | Batch ID = 30 : 100%|██████████| 30/30 [00:05<00:00,  5.09it/s]\n"
     ]
    },
    {
     "name": "stdout",
     "output_type": "stream",
     "text": [
      "Training Cross-Entropy Loss = 1.9333\n",
      "Training Accuracy = 19.23%\n",
      "\n",
      "Epoch 137/512\n",
      "Training phase...\n"
     ]
    },
    {
     "name": "stderr",
     "output_type": "stream",
     "text": [
      "Loss = 1.8952  |  Accuracy = 19.68% | Batch ID = 30 : 100%|██████████| 30/30 [00:05<00:00,  5.19it/s]\n"
     ]
    },
    {
     "name": "stdout",
     "output_type": "stream",
     "text": [
      "Training Cross-Entropy Loss = 1.9150\n",
      "Training Accuracy = 19.68%\n",
      "\n",
      "Epoch 138/512\n",
      "Training phase...\n"
     ]
    },
    {
     "name": "stderr",
     "output_type": "stream",
     "text": [
      "Loss = 1.9049  |  Accuracy = 19.68% | Batch ID = 30 : 100%|██████████| 30/30 [00:05<00:00,  5.20it/s]\n"
     ]
    },
    {
     "name": "stdout",
     "output_type": "stream",
     "text": [
      "Training Cross-Entropy Loss = 1.8932\n",
      "Training Accuracy = 19.68%\n",
      "\n",
      "Epoch 139/512\n",
      "Training phase...\n"
     ]
    },
    {
     "name": "stderr",
     "output_type": "stream",
     "text": [
      "Loss = 1.9037  |  Accuracy = 19.64% | Batch ID = 30 : 100%|██████████| 30/30 [00:05<00:00,  5.20it/s]\n"
     ]
    },
    {
     "name": "stdout",
     "output_type": "stream",
     "text": [
      "Training Cross-Entropy Loss = 1.8887\n",
      "Training Accuracy = 19.64%\n",
      "\n",
      "Epoch 140/512\n",
      "Training phase...\n"
     ]
    },
    {
     "name": "stderr",
     "output_type": "stream",
     "text": [
      "Loss = 1.8758  |  Accuracy = 19.86% | Batch ID = 30 : 100%|██████████| 30/30 [00:05<00:00,  5.08it/s]\n"
     ]
    },
    {
     "name": "stdout",
     "output_type": "stream",
     "text": [
      "Training Cross-Entropy Loss = 1.8846\n",
      "Training Accuracy = 19.86%\n",
      "\n",
      "Epoch 141/512\n",
      "Training phase...\n"
     ]
    },
    {
     "name": "stderr",
     "output_type": "stream",
     "text": [
      "Loss = 1.8959  |  Accuracy = 19.89% | Batch ID = 30 : 100%|██████████| 30/30 [00:05<00:00,  5.20it/s]\n"
     ]
    },
    {
     "name": "stdout",
     "output_type": "stream",
     "text": [
      "Training Cross-Entropy Loss = 1.8809\n",
      "Training Accuracy = 19.89%\n",
      "\n",
      "Epoch 142/512\n",
      "Training phase...\n"
     ]
    },
    {
     "name": "stderr",
     "output_type": "stream",
     "text": [
      "Loss = 1.8770  |  Accuracy = 19.46% | Batch ID = 30 : 100%|██████████| 30/30 [00:05<00:00,  5.20it/s]\n"
     ]
    },
    {
     "name": "stdout",
     "output_type": "stream",
     "text": [
      "Training Cross-Entropy Loss = 1.8825\n",
      "Training Accuracy = 19.46%\n",
      "\n",
      "Epoch 143/512\n",
      "Training phase...\n"
     ]
    },
    {
     "name": "stderr",
     "output_type": "stream",
     "text": [
      "Loss = 1.8669  |  Accuracy = 19.59% | Batch ID = 30 : 100%|██████████| 30/30 [00:05<00:00,  5.08it/s]\n"
     ]
    },
    {
     "name": "stdout",
     "output_type": "stream",
     "text": [
      "Training Cross-Entropy Loss = 1.8692\n",
      "Training Accuracy = 19.59%\n",
      "\n",
      "Epoch 144/512\n",
      "Training phase...\n"
     ]
    },
    {
     "name": "stderr",
     "output_type": "stream",
     "text": [
      "Loss = 1.8478  |  Accuracy = 19.67% | Batch ID = 30 : 100%|██████████| 30/30 [00:05<00:00,  5.22it/s]\n"
     ]
    },
    {
     "name": "stdout",
     "output_type": "stream",
     "text": [
      "Training Cross-Entropy Loss = 1.8558\n",
      "Training Accuracy = 19.67%\n",
      "\n",
      "Epoch 145/512\n",
      "Training phase...\n"
     ]
    },
    {
     "name": "stderr",
     "output_type": "stream",
     "text": [
      "Loss = 1.9052  |  Accuracy = 19.69% | Batch ID = 30 : 100%|██████████| 30/30 [00:05<00:00,  5.20it/s]\n"
     ]
    },
    {
     "name": "stdout",
     "output_type": "stream",
     "text": [
      "Training Cross-Entropy Loss = 1.8524\n",
      "Training Accuracy = 19.69%\n",
      "\n",
      "Epoch 146/512\n",
      "Training phase...\n"
     ]
    },
    {
     "name": "stderr",
     "output_type": "stream",
     "text": [
      "Loss = 1.8138  |  Accuracy = 19.45% | Batch ID = 30 : 100%|██████████| 30/30 [00:05<00:00,  5.21it/s]\n"
     ]
    },
    {
     "name": "stdout",
     "output_type": "stream",
     "text": [
      "Training Cross-Entropy Loss = 1.8887\n",
      "Training Accuracy = 19.45%\n",
      "\n",
      "Epoch 147/512\n",
      "Training phase...\n"
     ]
    },
    {
     "name": "stderr",
     "output_type": "stream",
     "text": [
      "Loss = 1.8217  |  Accuracy = 19.73% | Batch ID = 30 : 100%|██████████| 30/30 [00:05<00:00,  5.09it/s]\n"
     ]
    },
    {
     "name": "stdout",
     "output_type": "stream",
     "text": [
      "Training Cross-Entropy Loss = 1.8610\n",
      "Training Accuracy = 19.73%\n",
      "\n",
      "Epoch 148/512\n",
      "Training phase...\n"
     ]
    },
    {
     "name": "stderr",
     "output_type": "stream",
     "text": [
      "Loss = 1.8307  |  Accuracy = 19.93% | Batch ID = 30 : 100%|██████████| 30/30 [00:05<00:00,  5.20it/s]\n"
     ]
    },
    {
     "name": "stdout",
     "output_type": "stream",
     "text": [
      "Training Cross-Entropy Loss = 1.8589\n",
      "Training Accuracy = 19.93%\n",
      "\n",
      "Epoch 149/512\n",
      "Training phase...\n"
     ]
    },
    {
     "name": "stderr",
     "output_type": "stream",
     "text": [
      "Loss = 1.8498  |  Accuracy = 19.57% | Batch ID = 30 : 100%|██████████| 30/30 [00:05<00:00,  5.19it/s]\n"
     ]
    },
    {
     "name": "stdout",
     "output_type": "stream",
     "text": [
      "Training Cross-Entropy Loss = 1.8598\n",
      "Training Accuracy = 19.57%\n",
      "\n",
      "Epoch 150/512\n",
      "Training phase...\n"
     ]
    },
    {
     "name": "stderr",
     "output_type": "stream",
     "text": [
      "Loss = 1.8990  |  Accuracy = 19.91% | Batch ID = 30 : 100%|██████████| 30/30 [00:05<00:00,  5.20it/s]\n"
     ]
    },
    {
     "name": "stdout",
     "output_type": "stream",
     "text": [
      "Training Cross-Entropy Loss = 1.8558\n",
      "Training Accuracy = 19.91%\n",
      "\n",
      "Epoch 151/512\n",
      "Training phase...\n"
     ]
    },
    {
     "name": "stderr",
     "output_type": "stream",
     "text": [
      "Loss = 1.9300  |  Accuracy = 19.40% | Batch ID = 30 : 100%|██████████| 30/30 [00:05<00:00,  5.07it/s]\n"
     ]
    },
    {
     "name": "stdout",
     "output_type": "stream",
     "text": [
      "Training Cross-Entropy Loss = 1.8988\n",
      "Training Accuracy = 19.40%\n",
      "\n",
      "Epoch 152/512\n",
      "Training phase...\n"
     ]
    },
    {
     "name": "stderr",
     "output_type": "stream",
     "text": [
      "Loss = 1.8844  |  Accuracy = 19.50% | Batch ID = 30 : 100%|██████████| 30/30 [00:05<00:00,  5.19it/s]\n"
     ]
    },
    {
     "name": "stdout",
     "output_type": "stream",
     "text": [
      "Training Cross-Entropy Loss = 1.8830\n",
      "Training Accuracy = 19.50%\n",
      "\n",
      "Epoch 153/512\n",
      "Training phase...\n"
     ]
    },
    {
     "name": "stderr",
     "output_type": "stream",
     "text": [
      "Loss = 1.8595  |  Accuracy = 19.62% | Batch ID = 30 : 100%|██████████| 30/30 [00:05<00:00,  5.21it/s]\n"
     ]
    },
    {
     "name": "stdout",
     "output_type": "stream",
     "text": [
      "Training Cross-Entropy Loss = 1.8744\n",
      "Training Accuracy = 19.62%\n",
      "\n",
      "Epoch 154/512\n",
      "Training phase...\n"
     ]
    },
    {
     "name": "stderr",
     "output_type": "stream",
     "text": [
      "Loss = 1.8888  |  Accuracy = 19.56% | Batch ID = 30 : 100%|██████████| 30/30 [00:05<00:00,  5.19it/s]\n"
     ]
    },
    {
     "name": "stdout",
     "output_type": "stream",
     "text": [
      "Training Cross-Entropy Loss = 1.8645\n",
      "Training Accuracy = 19.56%\n",
      "\n",
      "Epoch 155/512\n",
      "Training phase...\n"
     ]
    },
    {
     "name": "stderr",
     "output_type": "stream",
     "text": [
      "Loss = 1.9045  |  Accuracy = 19.09% | Batch ID = 30 : 100%|██████████| 30/30 [00:05<00:00,  5.07it/s]\n"
     ]
    },
    {
     "name": "stdout",
     "output_type": "stream",
     "text": [
      "Training Cross-Entropy Loss = 1.9453\n",
      "Training Accuracy = 19.09%\n",
      "\n",
      "Epoch 156/512\n",
      "Training phase...\n"
     ]
    },
    {
     "name": "stderr",
     "output_type": "stream",
     "text": [
      "Loss = 1.8496  |  Accuracy = 19.85% | Batch ID = 30 : 100%|██████████| 30/30 [00:05<00:00,  5.18it/s]\n"
     ]
    },
    {
     "name": "stdout",
     "output_type": "stream",
     "text": [
      "Training Cross-Entropy Loss = 1.8737\n",
      "Training Accuracy = 19.85%\n",
      "\n",
      "Epoch 157/512\n",
      "Training phase...\n"
     ]
    },
    {
     "name": "stderr",
     "output_type": "stream",
     "text": [
      "Loss = 1.8792  |  Accuracy = 19.46% | Batch ID = 30 : 100%|██████████| 30/30 [00:05<00:00,  5.20it/s]\n"
     ]
    },
    {
     "name": "stdout",
     "output_type": "stream",
     "text": [
      "Training Cross-Entropy Loss = 1.8653\n",
      "Training Accuracy = 19.46%\n",
      "\n",
      "Epoch 158/512\n",
      "Training phase...\n"
     ]
    },
    {
     "name": "stderr",
     "output_type": "stream",
     "text": [
      "Loss = 1.8491  |  Accuracy = 19.20% | Batch ID = 30 : 100%|██████████| 30/30 [00:05<00:00,  5.06it/s]\n"
     ]
    },
    {
     "name": "stdout",
     "output_type": "stream",
     "text": [
      "Training Cross-Entropy Loss = 1.8741\n",
      "Training Accuracy = 19.20%\n",
      "\n",
      "Epoch 159/512\n",
      "Training phase...\n"
     ]
    },
    {
     "name": "stderr",
     "output_type": "stream",
     "text": [
      "Loss = 1.8987  |  Accuracy = 19.17% | Batch ID = 30 : 100%|██████████| 30/30 [00:05<00:00,  5.20it/s]\n"
     ]
    },
    {
     "name": "stdout",
     "output_type": "stream",
     "text": [
      "Training Cross-Entropy Loss = 1.8808\n",
      "Training Accuracy = 19.17%\n",
      "\n",
      "Epoch 160/512\n",
      "Training phase...\n"
     ]
    },
    {
     "name": "stderr",
     "output_type": "stream",
     "text": [
      "Loss = 1.8587  |  Accuracy = 19.48% | Batch ID = 30 : 100%|██████████| 30/30 [00:05<00:00,  5.19it/s]\n"
     ]
    },
    {
     "name": "stdout",
     "output_type": "stream",
     "text": [
      "Training Cross-Entropy Loss = 1.8753\n",
      "Training Accuracy = 19.48%\n",
      "\n",
      "Epoch 161/512\n",
      "Training phase...\n"
     ]
    },
    {
     "name": "stderr",
     "output_type": "stream",
     "text": [
      "Loss = 1.8450  |  Accuracy = 19.29% | Batch ID = 30 : 100%|██████████| 30/30 [00:05<00:00,  5.20it/s]\n"
     ]
    },
    {
     "name": "stdout",
     "output_type": "stream",
     "text": [
      "Training Cross-Entropy Loss = 1.9020\n",
      "Training Accuracy = 19.29%\n",
      "\n",
      "Epoch 162/512\n",
      "Training phase...\n"
     ]
    },
    {
     "name": "stderr",
     "output_type": "stream",
     "text": [
      "Loss = 1.9005  |  Accuracy = 19.09% | Batch ID = 30 : 100%|██████████| 30/30 [00:05<00:00,  5.09it/s]\n"
     ]
    },
    {
     "name": "stdout",
     "output_type": "stream",
     "text": [
      "Training Cross-Entropy Loss = 1.9120\n",
      "Training Accuracy = 19.09%\n",
      "\n",
      "Epoch 163/512\n",
      "Training phase...\n"
     ]
    },
    {
     "name": "stderr",
     "output_type": "stream",
     "text": [
      "Loss = 1.9319  |  Accuracy = 19.28% | Batch ID = 30 : 100%|██████████| 30/30 [00:05<00:00,  5.18it/s]\n"
     ]
    },
    {
     "name": "stdout",
     "output_type": "stream",
     "text": [
      "Training Cross-Entropy Loss = 1.8849\n",
      "Training Accuracy = 19.28%\n",
      "\n",
      "Epoch 164/512\n",
      "Training phase...\n"
     ]
    },
    {
     "name": "stderr",
     "output_type": "stream",
     "text": [
      "Loss = 1.8803  |  Accuracy = 19.55% | Batch ID = 30 : 100%|██████████| 30/30 [00:05<00:00,  5.20it/s]\n"
     ]
    },
    {
     "name": "stdout",
     "output_type": "stream",
     "text": [
      "Training Cross-Entropy Loss = 1.8789\n",
      "Training Accuracy = 19.55%\n",
      "\n",
      "Epoch 165/512\n",
      "Training phase...\n"
     ]
    },
    {
     "name": "stderr",
     "output_type": "stream",
     "text": [
      "Loss = 1.8363  |  Accuracy = 19.57% | Batch ID = 30 : 100%|██████████| 30/30 [00:05<00:00,  5.11it/s]\n"
     ]
    },
    {
     "name": "stdout",
     "output_type": "stream",
     "text": [
      "Training Cross-Entropy Loss = 1.8657\n",
      "Training Accuracy = 19.57%\n",
      "\n",
      "Epoch 166/512\n",
      "Training phase...\n"
     ]
    },
    {
     "name": "stderr",
     "output_type": "stream",
     "text": [
      "Loss = 1.8306  |  Accuracy = 19.77% | Batch ID = 30 : 100%|██████████| 30/30 [00:05<00:00,  5.20it/s]\n"
     ]
    },
    {
     "name": "stdout",
     "output_type": "stream",
     "text": [
      "Training Cross-Entropy Loss = 1.8597\n",
      "Training Accuracy = 19.77%\n",
      "\n",
      "Epoch 167/512\n",
      "Training phase...\n"
     ]
    },
    {
     "name": "stderr",
     "output_type": "stream",
     "text": [
      "Loss = 1.9425  |  Accuracy = 18.72% | Batch ID = 30 : 100%|██████████| 30/30 [00:05<00:00,  5.17it/s]\n"
     ]
    },
    {
     "name": "stdout",
     "output_type": "stream",
     "text": [
      "Training Cross-Entropy Loss = 2.0179\n",
      "Training Accuracy = 18.72%\n",
      "\n",
      "Epoch 168/512\n",
      "Training phase...\n"
     ]
    },
    {
     "name": "stderr",
     "output_type": "stream",
     "text": [
      "Loss = 1.8952  |  Accuracy = 19.30% | Batch ID = 30 : 100%|██████████| 30/30 [00:05<00:00,  5.20it/s]\n"
     ]
    },
    {
     "name": "stdout",
     "output_type": "stream",
     "text": [
      "Training Cross-Entropy Loss = 1.9338\n",
      "Training Accuracy = 19.30%\n",
      "\n",
      "Epoch 169/512\n",
      "Training phase...\n"
     ]
    },
    {
     "name": "stderr",
     "output_type": "stream",
     "text": [
      "Loss = 1.8838  |  Accuracy = 19.48% | Batch ID = 30 : 100%|██████████| 30/30 [00:05<00:00,  5.06it/s]\n"
     ]
    },
    {
     "name": "stdout",
     "output_type": "stream",
     "text": [
      "Training Cross-Entropy Loss = 1.8870\n",
      "Training Accuracy = 19.48%\n",
      "\n",
      "Epoch 170/512\n",
      "Training phase...\n"
     ]
    },
    {
     "name": "stderr",
     "output_type": "stream",
     "text": [
      "Loss = 1.9173  |  Accuracy = 19.36% | Batch ID = 30 : 100%|██████████| 30/30 [00:05<00:00,  5.19it/s]\n"
     ]
    },
    {
     "name": "stdout",
     "output_type": "stream",
     "text": [
      "Training Cross-Entropy Loss = 1.8810\n",
      "Training Accuracy = 19.36%\n",
      "\n",
      "Epoch 171/512\n",
      "Training phase...\n"
     ]
    },
    {
     "name": "stderr",
     "output_type": "stream",
     "text": [
      "Loss = 1.8871  |  Accuracy = 19.58% | Batch ID = 30 : 100%|██████████| 30/30 [00:05<00:00,  5.19it/s]\n"
     ]
    },
    {
     "name": "stdout",
     "output_type": "stream",
     "text": [
      "Training Cross-Entropy Loss = 1.8834\n",
      "Training Accuracy = 19.58%\n",
      "\n",
      "Epoch 172/512\n",
      "Training phase...\n"
     ]
    },
    {
     "name": "stderr",
     "output_type": "stream",
     "text": [
      "Loss = 1.8975  |  Accuracy = 19.39% | Batch ID = 30 : 100%|██████████| 30/30 [00:05<00:00,  5.19it/s]\n"
     ]
    },
    {
     "name": "stdout",
     "output_type": "stream",
     "text": [
      "Training Cross-Entropy Loss = 1.8889\n",
      "Training Accuracy = 19.39%\n",
      "\n",
      "Epoch 173/512\n",
      "Training phase...\n"
     ]
    },
    {
     "name": "stderr",
     "output_type": "stream",
     "text": [
      "Loss = 1.9166  |  Accuracy = 19.36% | Batch ID = 30 : 100%|██████████| 30/30 [00:05<00:00,  5.09it/s]\n"
     ]
    },
    {
     "name": "stdout",
     "output_type": "stream",
     "text": [
      "Training Cross-Entropy Loss = 1.9057\n",
      "Training Accuracy = 19.36%\n",
      "\n",
      "Epoch 174/512\n",
      "Training phase...\n"
     ]
    },
    {
     "name": "stderr",
     "output_type": "stream",
     "text": [
      "Loss = 1.8668  |  Accuracy = 19.43% | Batch ID = 30 : 100%|██████████| 30/30 [00:05<00:00,  5.20it/s]\n"
     ]
    },
    {
     "name": "stdout",
     "output_type": "stream",
     "text": [
      "Training Cross-Entropy Loss = 1.8906\n",
      "Training Accuracy = 19.43%\n",
      "\n",
      "Epoch 175/512\n",
      "Training phase...\n"
     ]
    },
    {
     "name": "stderr",
     "output_type": "stream",
     "text": [
      "Loss = 1.8823  |  Accuracy = 19.22% | Batch ID = 30 : 100%|██████████| 30/30 [00:05<00:00,  5.19it/s]\n"
     ]
    },
    {
     "name": "stdout",
     "output_type": "stream",
     "text": [
      "Training Cross-Entropy Loss = 1.8916\n",
      "Training Accuracy = 19.22%\n",
      "\n",
      "Epoch 176/512\n",
      "Training phase...\n"
     ]
    },
    {
     "name": "stderr",
     "output_type": "stream",
     "text": [
      "Loss = 1.9124  |  Accuracy = 19.52% | Batch ID = 30 : 100%|██████████| 30/30 [00:05<00:00,  5.18it/s]\n"
     ]
    },
    {
     "name": "stdout",
     "output_type": "stream",
     "text": [
      "Training Cross-Entropy Loss = 1.8935\n",
      "Training Accuracy = 19.52%\n",
      "\n",
      "Epoch 177/512\n",
      "Training phase...\n"
     ]
    },
    {
     "name": "stderr",
     "output_type": "stream",
     "text": [
      "Loss = 1.8684  |  Accuracy = 19.06% | Batch ID = 30 : 100%|██████████| 30/30 [00:05<00:00,  5.09it/s]\n"
     ]
    },
    {
     "name": "stdout",
     "output_type": "stream",
     "text": [
      "Training Cross-Entropy Loss = 1.8907\n",
      "Training Accuracy = 19.06%\n",
      "\n",
      "Epoch 178/512\n",
      "Training phase...\n"
     ]
    },
    {
     "name": "stderr",
     "output_type": "stream",
     "text": [
      "Loss = 1.8916  |  Accuracy = 19.35% | Batch ID = 30 : 100%|██████████| 30/30 [00:05<00:00,  5.16it/s]\n"
     ]
    },
    {
     "name": "stdout",
     "output_type": "stream",
     "text": [
      "Training Cross-Entropy Loss = 1.8882\n",
      "Training Accuracy = 19.35%\n",
      "\n",
      "Epoch 179/512\n",
      "Training phase...\n"
     ]
    },
    {
     "name": "stderr",
     "output_type": "stream",
     "text": [
      "Loss = 1.8846  |  Accuracy = 19.47% | Batch ID = 30 : 100%|██████████| 30/30 [00:05<00:00,  5.19it/s]\n"
     ]
    },
    {
     "name": "stdout",
     "output_type": "stream",
     "text": [
      "Training Cross-Entropy Loss = 1.8882\n",
      "Training Accuracy = 19.47%\n",
      "\n",
      "Epoch 180/512\n",
      "Training phase...\n"
     ]
    },
    {
     "name": "stderr",
     "output_type": "stream",
     "text": [
      "Loss = 1.8904  |  Accuracy = 19.50% | Batch ID = 30 : 100%|██████████| 30/30 [00:05<00:00,  5.08it/s]\n"
     ]
    },
    {
     "name": "stdout",
     "output_type": "stream",
     "text": [
      "Training Cross-Entropy Loss = 1.8944\n",
      "Training Accuracy = 19.50%\n",
      "\n",
      "Epoch 181/512\n",
      "Training phase...\n"
     ]
    },
    {
     "name": "stderr",
     "output_type": "stream",
     "text": [
      "Loss = 1.8545  |  Accuracy = 19.53% | Batch ID = 30 : 100%|██████████| 30/30 [00:05<00:00,  5.18it/s]\n"
     ]
    },
    {
     "name": "stdout",
     "output_type": "stream",
     "text": [
      "Training Cross-Entropy Loss = 1.8815\n",
      "Training Accuracy = 19.53%\n",
      "\n",
      "Epoch 182/512\n",
      "Training phase...\n"
     ]
    },
    {
     "name": "stderr",
     "output_type": "stream",
     "text": [
      "Loss = 1.8476  |  Accuracy = 19.38% | Batch ID = 30 : 100%|██████████| 30/30 [00:05<00:00,  5.20it/s]\n"
     ]
    },
    {
     "name": "stdout",
     "output_type": "stream",
     "text": [
      "Training Cross-Entropy Loss = 1.8731\n",
      "Training Accuracy = 19.38%\n",
      "\n",
      "Epoch 183/512\n",
      "Training phase...\n"
     ]
    },
    {
     "name": "stderr",
     "output_type": "stream",
     "text": [
      "Loss = 2.0528  |  Accuracy = 19.23% | Batch ID = 30 : 100%|██████████| 30/30 [00:05<00:00,  5.18it/s]\n"
     ]
    },
    {
     "name": "stdout",
     "output_type": "stream",
     "text": [
      "Training Cross-Entropy Loss = 1.8834\n",
      "Training Accuracy = 19.23%\n",
      "\n",
      "Epoch 184/512\n",
      "Training phase...\n"
     ]
    },
    {
     "name": "stderr",
     "output_type": "stream",
     "text": [
      "Loss = 2.1525  |  Accuracy = 16.35% | Batch ID = 30 : 100%|██████████| 30/30 [00:05<00:00,  5.09it/s]\n"
     ]
    },
    {
     "name": "stdout",
     "output_type": "stream",
     "text": [
      "Training Cross-Entropy Loss = 2.1943\n",
      "Training Accuracy = 16.35%\n",
      "\n",
      "Epoch 185/512\n",
      "Training phase...\n"
     ]
    },
    {
     "name": "stderr",
     "output_type": "stream",
     "text": [
      "Loss = 2.0982  |  Accuracy = 16.23% | Batch ID = 30 : 100%|██████████| 30/30 [00:05<00:00,  5.20it/s]\n"
     ]
    },
    {
     "name": "stdout",
     "output_type": "stream",
     "text": [
      "Training Cross-Entropy Loss = 2.1243\n",
      "Training Accuracy = 16.23%\n",
      "\n",
      "Epoch 186/512\n",
      "Training phase...\n"
     ]
    },
    {
     "name": "stderr",
     "output_type": "stream",
     "text": [
      "Loss = 1.9998  |  Accuracy = 17.90% | Batch ID = 30 : 100%|██████████| 30/30 [00:05<00:00,  5.22it/s]\n"
     ]
    },
    {
     "name": "stdout",
     "output_type": "stream",
     "text": [
      "Training Cross-Entropy Loss = 2.0470\n",
      "Training Accuracy = 17.90%\n",
      "\n",
      "Epoch 187/512\n",
      "Training phase...\n"
     ]
    },
    {
     "name": "stderr",
     "output_type": "stream",
     "text": [
      "Loss = 1.9483  |  Accuracy = 19.09% | Batch ID = 30 : 100%|██████████| 30/30 [00:05<00:00,  5.09it/s]\n"
     ]
    },
    {
     "name": "stdout",
     "output_type": "stream",
     "text": [
      "Training Cross-Entropy Loss = 1.9559\n",
      "Training Accuracy = 19.09%\n",
      "\n",
      "Epoch 188/512\n",
      "Training phase...\n"
     ]
    },
    {
     "name": "stderr",
     "output_type": "stream",
     "text": [
      "Loss = 1.8881  |  Accuracy = 19.62% | Batch ID = 30 : 100%|██████████| 30/30 [00:05<00:00,  5.19it/s]\n"
     ]
    },
    {
     "name": "stdout",
     "output_type": "stream",
     "text": [
      "Training Cross-Entropy Loss = 1.9153\n",
      "Training Accuracy = 19.62%\n",
      "\n",
      "Epoch 189/512\n",
      "Training phase...\n"
     ]
    },
    {
     "name": "stderr",
     "output_type": "stream",
     "text": [
      "Loss = 1.9018  |  Accuracy = 18.97% | Batch ID = 30 : 100%|██████████| 30/30 [00:05<00:00,  5.20it/s]\n"
     ]
    },
    {
     "name": "stdout",
     "output_type": "stream",
     "text": [
      "Training Cross-Entropy Loss = 1.8964\n",
      "Training Accuracy = 18.97%\n",
      "\n",
      "Epoch 190/512\n",
      "Training phase...\n"
     ]
    },
    {
     "name": "stderr",
     "output_type": "stream",
     "text": [
      "Loss = 1.8618  |  Accuracy = 19.19% | Batch ID = 30 : 100%|██████████| 30/30 [00:05<00:00,  5.19it/s]\n"
     ]
    },
    {
     "name": "stdout",
     "output_type": "stream",
     "text": [
      "Training Cross-Entropy Loss = 1.8929\n",
      "Training Accuracy = 19.19%\n",
      "\n",
      "Epoch 191/512\n",
      "Training phase...\n"
     ]
    },
    {
     "name": "stderr",
     "output_type": "stream",
     "text": [
      "Loss = 1.8728  |  Accuracy = 19.73% | Batch ID = 30 : 100%|██████████| 30/30 [00:05<00:00,  5.07it/s]\n"
     ]
    },
    {
     "name": "stdout",
     "output_type": "stream",
     "text": [
      "Training Cross-Entropy Loss = 1.8846\n",
      "Training Accuracy = 19.73%\n",
      "\n",
      "Epoch 192/512\n",
      "Training phase...\n"
     ]
    },
    {
     "name": "stderr",
     "output_type": "stream",
     "text": [
      "Loss = 1.8750  |  Accuracy = 19.46% | Batch ID = 30 : 100%|██████████| 30/30 [00:05<00:00,  5.18it/s]\n"
     ]
    },
    {
     "name": "stdout",
     "output_type": "stream",
     "text": [
      "Training Cross-Entropy Loss = 1.8865\n",
      "Training Accuracy = 19.46%\n",
      "\n",
      "Epoch 193/512\n",
      "Training phase...\n"
     ]
    },
    {
     "name": "stderr",
     "output_type": "stream",
     "text": [
      "Loss = 1.8759  |  Accuracy = 19.45% | Batch ID = 30 : 100%|██████████| 30/30 [00:05<00:00,  5.18it/s]\n"
     ]
    },
    {
     "name": "stdout",
     "output_type": "stream",
     "text": [
      "Training Cross-Entropy Loss = 1.8805\n",
      "Training Accuracy = 19.45%\n",
      "\n",
      "Epoch 194/512\n",
      "Training phase...\n"
     ]
    },
    {
     "name": "stderr",
     "output_type": "stream",
     "text": [
      "Loss = 1.9125  |  Accuracy = 19.24% | Batch ID = 30 : 100%|██████████| 30/30 [00:05<00:00,  5.09it/s]\n"
     ]
    },
    {
     "name": "stdout",
     "output_type": "stream",
     "text": [
      "Training Cross-Entropy Loss = 1.9094\n",
      "Training Accuracy = 19.24%\n",
      "\n",
      "Epoch 195/512\n",
      "Training phase...\n"
     ]
    },
    {
     "name": "stderr",
     "output_type": "stream",
     "text": [
      "Loss = 1.8957  |  Accuracy = 19.01% | Batch ID = 30 : 100%|██████████| 30/30 [00:05<00:00,  5.18it/s]\n"
     ]
    },
    {
     "name": "stdout",
     "output_type": "stream",
     "text": [
      "Training Cross-Entropy Loss = 1.9001\n",
      "Training Accuracy = 19.01%\n",
      "\n",
      "Epoch 196/512\n",
      "Training phase...\n"
     ]
    },
    {
     "name": "stderr",
     "output_type": "stream",
     "text": [
      "Loss = 1.8945  |  Accuracy = 19.40% | Batch ID = 30 : 100%|██████████| 30/30 [00:05<00:00,  5.17it/s]\n"
     ]
    },
    {
     "name": "stdout",
     "output_type": "stream",
     "text": [
      "Training Cross-Entropy Loss = 1.9003\n",
      "Training Accuracy = 19.40%\n",
      "\n",
      "Epoch 197/512\n",
      "Training phase...\n"
     ]
    },
    {
     "name": "stderr",
     "output_type": "stream",
     "text": [
      "Loss = 1.9064  |  Accuracy = 19.36% | Batch ID = 30 : 100%|██████████| 30/30 [00:05<00:00,  5.20it/s]\n"
     ]
    },
    {
     "name": "stdout",
     "output_type": "stream",
     "text": [
      "Training Cross-Entropy Loss = 1.9010\n",
      "Training Accuracy = 19.36%\n",
      "\n",
      "Epoch 198/512\n",
      "Training phase...\n"
     ]
    },
    {
     "name": "stderr",
     "output_type": "stream",
     "text": [
      "Loss = 1.8933  |  Accuracy = 19.30% | Batch ID = 30 : 100%|██████████| 30/30 [00:05<00:00,  5.19it/s]\n"
     ]
    },
    {
     "name": "stdout",
     "output_type": "stream",
     "text": [
      "Training Cross-Entropy Loss = 1.8976\n",
      "Training Accuracy = 19.30%\n",
      "\n",
      "Epoch 199/512\n",
      "Training phase...\n"
     ]
    },
    {
     "name": "stderr",
     "output_type": "stream",
     "text": [
      "Loss = 1.8924  |  Accuracy = 19.14% | Batch ID = 30 : 100%|██████████| 30/30 [00:05<00:00,  5.07it/s]\n"
     ]
    },
    {
     "name": "stdout",
     "output_type": "stream",
     "text": [
      "Training Cross-Entropy Loss = 1.8966\n",
      "Training Accuracy = 19.14%\n",
      "\n",
      "Epoch 200/512\n",
      "Training phase...\n"
     ]
    },
    {
     "name": "stderr",
     "output_type": "stream",
     "text": [
      "Loss = 1.8683  |  Accuracy = 19.36% | Batch ID = 30 : 100%|██████████| 30/30 [00:05<00:00,  5.18it/s]\n"
     ]
    },
    {
     "name": "stdout",
     "output_type": "stream",
     "text": [
      "Training Cross-Entropy Loss = 1.8942\n",
      "Training Accuracy = 19.36%\n",
      "\n",
      "Epoch 201/512\n",
      "Training phase...\n"
     ]
    },
    {
     "name": "stderr",
     "output_type": "stream",
     "text": [
      "Loss = 1.8832  |  Accuracy = 19.76% | Batch ID = 30 : 100%|██████████| 30/30 [00:05<00:00,  5.09it/s]\n"
     ]
    },
    {
     "name": "stdout",
     "output_type": "stream",
     "text": [
      "Training Cross-Entropy Loss = 1.8906\n",
      "Training Accuracy = 19.76%\n",
      "\n",
      "Epoch 202/512\n",
      "Training phase...\n"
     ]
    },
    {
     "name": "stderr",
     "output_type": "stream",
     "text": [
      "Loss = 1.8297  |  Accuracy = 19.14% | Batch ID = 30 : 100%|██████████| 30/30 [00:05<00:00,  5.21it/s]\n"
     ]
    },
    {
     "name": "stdout",
     "output_type": "stream",
     "text": [
      "Training Cross-Entropy Loss = 1.8969\n",
      "Training Accuracy = 19.14%\n",
      "\n",
      "Epoch 203/512\n",
      "Training phase...\n"
     ]
    },
    {
     "name": "stderr",
     "output_type": "stream",
     "text": [
      "Loss = 1.8800  |  Accuracy = 19.28% | Batch ID = 30 : 100%|██████████| 30/30 [00:05<00:00,  5.20it/s]\n"
     ]
    },
    {
     "name": "stdout",
     "output_type": "stream",
     "text": [
      "Training Cross-Entropy Loss = 1.8924\n",
      "Training Accuracy = 19.28%\n",
      "\n",
      "Epoch 204/512\n",
      "Training phase...\n"
     ]
    },
    {
     "name": "stderr",
     "output_type": "stream",
     "text": [
      "Loss = 1.9036  |  Accuracy = 19.21% | Batch ID = 30 : 100%|██████████| 30/30 [00:05<00:00,  5.19it/s]\n"
     ]
    },
    {
     "name": "stdout",
     "output_type": "stream",
     "text": [
      "Training Cross-Entropy Loss = 1.8932\n",
      "Training Accuracy = 19.21%\n",
      "\n",
      "Epoch 205/512\n",
      "Training phase...\n"
     ]
    },
    {
     "name": "stderr",
     "output_type": "stream",
     "text": [
      "Loss = 2.0991  |  Accuracy = 18.84% | Batch ID = 30 : 100%|██████████| 30/30 [00:05<00:00,  5.19it/s]\n"
     ]
    },
    {
     "name": "stdout",
     "output_type": "stream",
     "text": [
      "Training Cross-Entropy Loss = 2.0032\n",
      "Training Accuracy = 18.84%\n",
      "\n",
      "Epoch 206/512\n",
      "Training phase...\n"
     ]
    },
    {
     "name": "stderr",
     "output_type": "stream",
     "text": [
      "Loss = 2.0229  |  Accuracy = 18.28% | Batch ID = 30 : 100%|██████████| 30/30 [00:05<00:00,  5.09it/s]\n"
     ]
    },
    {
     "name": "stdout",
     "output_type": "stream",
     "text": [
      "Training Cross-Entropy Loss = 2.0283\n",
      "Training Accuracy = 18.28%\n",
      "\n",
      "Epoch 207/512\n",
      "Training phase...\n"
     ]
    },
    {
     "name": "stderr",
     "output_type": "stream",
     "text": [
      "Loss = 2.0354  |  Accuracy = 18.39% | Batch ID = 30 : 100%|██████████| 30/30 [00:05<00:00,  5.22it/s]\n"
     ]
    },
    {
     "name": "stdout",
     "output_type": "stream",
     "text": [
      "Training Cross-Entropy Loss = 2.0169\n",
      "Training Accuracy = 18.39%\n",
      "\n",
      "Epoch 208/512\n",
      "Training phase...\n"
     ]
    },
    {
     "name": "stderr",
     "output_type": "stream",
     "text": [
      "Loss = 1.9699  |  Accuracy = 18.30% | Batch ID = 30 : 100%|██████████| 30/30 [00:05<00:00,  5.19it/s]\n"
     ]
    },
    {
     "name": "stdout",
     "output_type": "stream",
     "text": [
      "Training Cross-Entropy Loss = 2.0161\n",
      "Training Accuracy = 18.30%\n",
      "\n",
      "Epoch 209/512\n",
      "Training phase...\n"
     ]
    },
    {
     "name": "stderr",
     "output_type": "stream",
     "text": [
      "Loss = 2.0102  |  Accuracy = 19.20% | Batch ID = 30 : 100%|██████████| 30/30 [00:05<00:00,  5.07it/s]\n"
     ]
    },
    {
     "name": "stdout",
     "output_type": "stream",
     "text": [
      "Training Cross-Entropy Loss = 1.9674\n",
      "Training Accuracy = 19.20%\n",
      "\n",
      "Epoch 210/512\n",
      "Training phase...\n"
     ]
    },
    {
     "name": "stderr",
     "output_type": "stream",
     "text": [
      "Loss = 1.9507  |  Accuracy = 19.32% | Batch ID = 30 : 100%|██████████| 30/30 [00:05<00:00,  5.20it/s]\n"
     ]
    },
    {
     "name": "stdout",
     "output_type": "stream",
     "text": [
      "Training Cross-Entropy Loss = 1.9492\n",
      "Training Accuracy = 19.32%\n",
      "\n",
      "Epoch 211/512\n",
      "Training phase...\n"
     ]
    },
    {
     "name": "stderr",
     "output_type": "stream",
     "text": [
      "Loss = 1.9315  |  Accuracy = 19.32% | Batch ID = 30 : 100%|██████████| 30/30 [00:05<00:00,  5.19it/s]\n"
     ]
    },
    {
     "name": "stdout",
     "output_type": "stream",
     "text": [
      "Training Cross-Entropy Loss = 1.9337\n",
      "Training Accuracy = 19.32%\n",
      "\n",
      "Epoch 212/512\n",
      "Training phase...\n"
     ]
    },
    {
     "name": "stderr",
     "output_type": "stream",
     "text": [
      "Loss = 2.0570  |  Accuracy = 18.60% | Batch ID = 30 : 100%|██████████| 30/30 [00:05<00:00,  5.19it/s]\n"
     ]
    },
    {
     "name": "stdout",
     "output_type": "stream",
     "text": [
      "Training Cross-Entropy Loss = 2.0067\n",
      "Training Accuracy = 18.60%\n",
      "\n",
      "Epoch 213/512\n",
      "Training phase...\n"
     ]
    },
    {
     "name": "stderr",
     "output_type": "stream",
     "text": [
      "Loss = 2.0458  |  Accuracy = 18.39% | Batch ID = 30 : 100%|██████████| 30/30 [00:05<00:00,  5.08it/s]\n"
     ]
    },
    {
     "name": "stdout",
     "output_type": "stream",
     "text": [
      "Training Cross-Entropy Loss = 2.0146\n",
      "Training Accuracy = 18.39%\n",
      "\n",
      "Epoch 214/512\n",
      "Training phase...\n"
     ]
    },
    {
     "name": "stderr",
     "output_type": "stream",
     "text": [
      "Loss = 1.9662  |  Accuracy = 18.86% | Batch ID = 30 : 100%|██████████| 30/30 [00:05<00:00,  5.19it/s]\n"
     ]
    },
    {
     "name": "stdout",
     "output_type": "stream",
     "text": [
      "Training Cross-Entropy Loss = 1.9969\n",
      "Training Accuracy = 18.86%\n",
      "\n",
      "Epoch 215/512\n",
      "Training phase...\n"
     ]
    },
    {
     "name": "stderr",
     "output_type": "stream",
     "text": [
      "Loss = 1.9793  |  Accuracy = 19.37% | Batch ID = 30 : 100%|██████████| 30/30 [00:05<00:00,  5.20it/s]\n"
     ]
    },
    {
     "name": "stdout",
     "output_type": "stream",
     "text": [
      "Training Cross-Entropy Loss = 1.9768\n",
      "Training Accuracy = 19.37%\n",
      "\n",
      "Epoch 216/512\n",
      "Training phase...\n"
     ]
    },
    {
     "name": "stderr",
     "output_type": "stream",
     "text": [
      "Loss = 1.9503  |  Accuracy = 19.48% | Batch ID = 30 : 100%|██████████| 30/30 [00:05<00:00,  5.09it/s]\n"
     ]
    },
    {
     "name": "stdout",
     "output_type": "stream",
     "text": [
      "Training Cross-Entropy Loss = 1.9578\n",
      "Training Accuracy = 19.48%\n",
      "\n",
      "Epoch 217/512\n",
      "Training phase...\n"
     ]
    },
    {
     "name": "stderr",
     "output_type": "stream",
     "text": [
      "Loss = 1.9663  |  Accuracy = 19.64% | Batch ID = 30 : 100%|██████████| 30/30 [00:05<00:00,  5.19it/s]\n"
     ]
    },
    {
     "name": "stdout",
     "output_type": "stream",
     "text": [
      "Training Cross-Entropy Loss = 1.9554\n",
      "Training Accuracy = 19.64%\n",
      "\n",
      "Epoch 218/512\n",
      "Training phase...\n"
     ]
    },
    {
     "name": "stderr",
     "output_type": "stream",
     "text": [
      "Loss = 2.0286  |  Accuracy = 19.50% | Batch ID = 30 : 100%|██████████| 30/30 [00:05<00:00,  5.18it/s]\n"
     ]
    },
    {
     "name": "stdout",
     "output_type": "stream",
     "text": [
      "Training Cross-Entropy Loss = 1.9506\n",
      "Training Accuracy = 19.50%\n",
      "\n",
      "Epoch 219/512\n",
      "Training phase...\n"
     ]
    },
    {
     "name": "stderr",
     "output_type": "stream",
     "text": [
      "Loss = 1.9771  |  Accuracy = 19.45% | Batch ID = 30 : 100%|██████████| 30/30 [00:05<00:00,  5.20it/s]\n"
     ]
    },
    {
     "name": "stdout",
     "output_type": "stream",
     "text": [
      "Training Cross-Entropy Loss = 1.9531\n",
      "Training Accuracy = 19.45%\n",
      "\n",
      "Epoch 220/512\n",
      "Training phase...\n"
     ]
    },
    {
     "name": "stderr",
     "output_type": "stream",
     "text": [
      "Loss = 1.9276  |  Accuracy = 19.46% | Batch ID = 30 : 100%|██████████| 30/30 [00:05<00:00,  5.11it/s]\n"
     ]
    },
    {
     "name": "stdout",
     "output_type": "stream",
     "text": [
      "Training Cross-Entropy Loss = 1.9482\n",
      "Training Accuracy = 19.46%\n",
      "\n",
      "Epoch 221/512\n",
      "Training phase...\n"
     ]
    },
    {
     "name": "stderr",
     "output_type": "stream",
     "text": [
      "Loss = 1.9779  |  Accuracy = 19.46% | Batch ID = 30 : 100%|██████████| 30/30 [00:05<00:00,  5.18it/s]\n"
     ]
    },
    {
     "name": "stdout",
     "output_type": "stream",
     "text": [
      "Training Cross-Entropy Loss = 1.9477\n",
      "Training Accuracy = 19.46%\n",
      "\n",
      "Epoch 222/512\n",
      "Training phase...\n"
     ]
    },
    {
     "name": "stderr",
     "output_type": "stream",
     "text": [
      "Loss = 1.9433  |  Accuracy = 19.56% | Batch ID = 30 : 100%|██████████| 30/30 [00:05<00:00,  5.19it/s]\n"
     ]
    },
    {
     "name": "stdout",
     "output_type": "stream",
     "text": [
      "Training Cross-Entropy Loss = 1.9371\n",
      "Training Accuracy = 19.56%\n",
      "\n",
      "Epoch 223/512\n",
      "Training phase...\n"
     ]
    },
    {
     "name": "stderr",
     "output_type": "stream",
     "text": [
      "Loss = 1.9644  |  Accuracy = 19.54% | Batch ID = 30 : 100%|██████████| 30/30 [00:05<00:00,  5.10it/s]\n"
     ]
    },
    {
     "name": "stdout",
     "output_type": "stream",
     "text": [
      "Training Cross-Entropy Loss = 1.9379\n",
      "Training Accuracy = 19.54%\n",
      "\n",
      "Epoch 224/512\n",
      "Training phase...\n"
     ]
    },
    {
     "name": "stderr",
     "output_type": "stream",
     "text": [
      "Loss = 1.9528  |  Accuracy = 19.47% | Batch ID = 30 : 100%|██████████| 30/30 [00:05<00:00,  5.22it/s]\n"
     ]
    },
    {
     "name": "stdout",
     "output_type": "stream",
     "text": [
      "Training Cross-Entropy Loss = 1.9329\n",
      "Training Accuracy = 19.47%\n",
      "\n",
      "Epoch 225/512\n",
      "Training phase...\n"
     ]
    },
    {
     "name": "stderr",
     "output_type": "stream",
     "text": [
      "Loss = 1.9259  |  Accuracy = 19.52% | Batch ID = 30 : 100%|██████████| 30/30 [00:05<00:00,  5.19it/s]\n"
     ]
    },
    {
     "name": "stdout",
     "output_type": "stream",
     "text": [
      "Training Cross-Entropy Loss = 1.9436\n",
      "Training Accuracy = 19.52%\n",
      "\n",
      "Epoch 226/512\n",
      "Training phase...\n"
     ]
    },
    {
     "name": "stderr",
     "output_type": "stream",
     "text": [
      "Loss = 1.9214  |  Accuracy = 19.60% | Batch ID = 30 : 100%|██████████| 30/30 [00:05<00:00,  5.19it/s]\n"
     ]
    },
    {
     "name": "stdout",
     "output_type": "stream",
     "text": [
      "Training Cross-Entropy Loss = 1.9307\n",
      "Training Accuracy = 19.60%\n",
      "\n",
      "Epoch 227/512\n",
      "Training phase...\n"
     ]
    },
    {
     "name": "stderr",
     "output_type": "stream",
     "text": [
      "Loss = 1.9507  |  Accuracy = 19.97% | Batch ID = 30 : 100%|██████████| 30/30 [00:05<00:00,  5.21it/s]\n"
     ]
    },
    {
     "name": "stdout",
     "output_type": "stream",
     "text": [
      "Training Cross-Entropy Loss = 1.9174\n",
      "Training Accuracy = 19.97%\n",
      "\n",
      "Epoch 228/512\n",
      "Training phase...\n"
     ]
    },
    {
     "name": "stderr",
     "output_type": "stream",
     "text": [
      "Loss = 1.8410  |  Accuracy = 19.84% | Batch ID = 30 : 100%|██████████| 30/30 [00:05<00:00,  5.12it/s]\n"
     ]
    },
    {
     "name": "stdout",
     "output_type": "stream",
     "text": [
      "Training Cross-Entropy Loss = 1.9105\n",
      "Training Accuracy = 19.84%\n",
      "\n",
      "Epoch 229/512\n",
      "Training phase...\n"
     ]
    },
    {
     "name": "stderr",
     "output_type": "stream",
     "text": [
      "Loss = 1.9925  |  Accuracy = 19.08% | Batch ID = 30 : 100%|██████████| 30/30 [00:05<00:00,  5.20it/s]\n"
     ]
    },
    {
     "name": "stdout",
     "output_type": "stream",
     "text": [
      "Training Cross-Entropy Loss = 1.9703\n",
      "Training Accuracy = 19.08%\n",
      "\n",
      "Epoch 230/512\n",
      "Training phase...\n"
     ]
    },
    {
     "name": "stderr",
     "output_type": "stream",
     "text": [
      "Loss = 2.0208  |  Accuracy = 17.59% | Batch ID = 30 : 100%|██████████| 30/30 [00:05<00:00,  5.10it/s]\n"
     ]
    },
    {
     "name": "stdout",
     "output_type": "stream",
     "text": [
      "Training Cross-Entropy Loss = 2.0456\n",
      "Training Accuracy = 17.59%\n",
      "\n",
      "Epoch 231/512\n",
      "Training phase...\n"
     ]
    },
    {
     "name": "stderr",
     "output_type": "stream",
     "text": [
      "Loss = 2.0033  |  Accuracy = 18.14% | Batch ID = 30 : 100%|██████████| 30/30 [00:05<00:00,  5.20it/s]\n"
     ]
    },
    {
     "name": "stdout",
     "output_type": "stream",
     "text": [
      "Training Cross-Entropy Loss = 1.9989\n",
      "Training Accuracy = 18.14%\n",
      "\n",
      "Epoch 232/512\n",
      "Training phase...\n"
     ]
    },
    {
     "name": "stderr",
     "output_type": "stream",
     "text": [
      "Loss = 1.9707  |  Accuracy = 18.09% | Batch ID = 30 : 100%|██████████| 30/30 [00:05<00:00,  5.18it/s]\n"
     ]
    },
    {
     "name": "stdout",
     "output_type": "stream",
     "text": [
      "Training Cross-Entropy Loss = 1.9807\n",
      "Training Accuracy = 18.09%\n",
      "\n",
      "Epoch 233/512\n",
      "Training phase...\n"
     ]
    },
    {
     "name": "stderr",
     "output_type": "stream",
     "text": [
      "Loss = 1.9957  |  Accuracy = 17.70% | Batch ID = 30 : 100%|██████████| 30/30 [00:05<00:00,  5.20it/s]\n"
     ]
    },
    {
     "name": "stdout",
     "output_type": "stream",
     "text": [
      "Training Cross-Entropy Loss = 2.0057\n",
      "Training Accuracy = 17.70%\n",
      "\n",
      "Epoch 234/512\n",
      "Training phase...\n"
     ]
    },
    {
     "name": "stderr",
     "output_type": "stream",
     "text": [
      "Loss = 1.9533  |  Accuracy = 18.00% | Batch ID = 30 : 100%|██████████| 30/30 [00:05<00:00,  5.20it/s]\n"
     ]
    },
    {
     "name": "stdout",
     "output_type": "stream",
     "text": [
      "Training Cross-Entropy Loss = 1.9791\n",
      "Training Accuracy = 18.00%\n",
      "\n",
      "Epoch 235/512\n",
      "Training phase...\n"
     ]
    },
    {
     "name": "stderr",
     "output_type": "stream",
     "text": [
      "Loss = 1.9608  |  Accuracy = 18.52% | Batch ID = 30 : 100%|██████████| 30/30 [00:05<00:00,  5.09it/s]\n"
     ]
    },
    {
     "name": "stdout",
     "output_type": "stream",
     "text": [
      "Training Cross-Entropy Loss = 1.9606\n",
      "Training Accuracy = 18.52%\n",
      "\n",
      "Epoch 236/512\n",
      "Training phase...\n"
     ]
    },
    {
     "name": "stderr",
     "output_type": "stream",
     "text": [
      "Loss = 1.9012  |  Accuracy = 18.55% | Batch ID = 30 : 100%|██████████| 30/30 [00:05<00:00,  5.19it/s]\n"
     ]
    },
    {
     "name": "stdout",
     "output_type": "stream",
     "text": [
      "Training Cross-Entropy Loss = 1.9517\n",
      "Training Accuracy = 18.55%\n",
      "\n",
      "Epoch 237/512\n",
      "Training phase...\n"
     ]
    },
    {
     "name": "stderr",
     "output_type": "stream",
     "text": [
      "Loss = 1.9217  |  Accuracy = 18.44% | Batch ID = 30 : 100%|██████████| 30/30 [00:05<00:00,  5.21it/s]\n"
     ]
    },
    {
     "name": "stdout",
     "output_type": "stream",
     "text": [
      "Training Cross-Entropy Loss = 1.9557\n",
      "Training Accuracy = 18.44%\n",
      "\n",
      "Epoch 238/512\n",
      "Training phase...\n"
     ]
    },
    {
     "name": "stderr",
     "output_type": "stream",
     "text": [
      "Loss = 1.9183  |  Accuracy = 18.55% | Batch ID = 30 : 100%|██████████| 30/30 [00:05<00:00,  5.09it/s]\n"
     ]
    },
    {
     "name": "stdout",
     "output_type": "stream",
     "text": [
      "Training Cross-Entropy Loss = 1.9490\n",
      "Training Accuracy = 18.55%\n",
      "\n",
      "Epoch 239/512\n",
      "Training phase...\n"
     ]
    },
    {
     "name": "stderr",
     "output_type": "stream",
     "text": [
      "Loss = 1.9345  |  Accuracy = 19.11% | Batch ID = 30 : 100%|██████████| 30/30 [00:05<00:00,  5.19it/s]\n"
     ]
    },
    {
     "name": "stdout",
     "output_type": "stream",
     "text": [
      "Training Cross-Entropy Loss = 1.9414\n",
      "Training Accuracy = 19.11%\n",
      "\n",
      "Epoch 240/512\n",
      "Training phase...\n"
     ]
    },
    {
     "name": "stderr",
     "output_type": "stream",
     "text": [
      "Loss = 1.9405  |  Accuracy = 18.95% | Batch ID = 30 : 100%|██████████| 30/30 [00:05<00:00,  5.19it/s]\n"
     ]
    },
    {
     "name": "stdout",
     "output_type": "stream",
     "text": [
      "Training Cross-Entropy Loss = 1.9384\n",
      "Training Accuracy = 18.95%\n",
      "\n",
      "Epoch 241/512\n",
      "Training phase...\n"
     ]
    },
    {
     "name": "stderr",
     "output_type": "stream",
     "text": [
      "Loss = 1.9654  |  Accuracy = 18.70% | Batch ID = 30 : 100%|██████████| 30/30 [00:05<00:00,  5.20it/s]\n"
     ]
    },
    {
     "name": "stdout",
     "output_type": "stream",
     "text": [
      "Training Cross-Entropy Loss = 1.9412\n",
      "Training Accuracy = 18.70%\n",
      "\n",
      "Epoch 242/512\n",
      "Training phase...\n"
     ]
    },
    {
     "name": "stderr",
     "output_type": "stream",
     "text": [
      "Loss = 1.9057  |  Accuracy = 18.82% | Batch ID = 30 : 100%|██████████| 30/30 [00:05<00:00,  5.10it/s]\n"
     ]
    },
    {
     "name": "stdout",
     "output_type": "stream",
     "text": [
      "Training Cross-Entropy Loss = 1.9397\n",
      "Training Accuracy = 18.82%\n",
      "\n",
      "Epoch 243/512\n",
      "Training phase...\n"
     ]
    },
    {
     "name": "stderr",
     "output_type": "stream",
     "text": [
      "Loss = 1.9204  |  Accuracy = 18.73% | Batch ID = 30 : 100%|██████████| 30/30 [00:05<00:00,  5.19it/s]\n"
     ]
    },
    {
     "name": "stdout",
     "output_type": "stream",
     "text": [
      "Training Cross-Entropy Loss = 1.9390\n",
      "Training Accuracy = 18.73%\n",
      "\n",
      "Epoch 244/512\n",
      "Training phase...\n"
     ]
    },
    {
     "name": "stderr",
     "output_type": "stream",
     "text": [
      "Loss = 1.9270  |  Accuracy = 18.81% | Batch ID = 30 : 100%|██████████| 30/30 [00:05<00:00,  5.20it/s]\n"
     ]
    },
    {
     "name": "stdout",
     "output_type": "stream",
     "text": [
      "Training Cross-Entropy Loss = 1.9468\n",
      "Training Accuracy = 18.81%\n",
      "\n",
      "Epoch 245/512\n",
      "Training phase...\n"
     ]
    },
    {
     "name": "stderr",
     "output_type": "stream",
     "text": [
      "Loss = 1.9106  |  Accuracy = 18.65% | Batch ID = 30 : 100%|██████████| 30/30 [00:05<00:00,  5.10it/s]\n"
     ]
    },
    {
     "name": "stdout",
     "output_type": "stream",
     "text": [
      "Training Cross-Entropy Loss = 1.9462\n",
      "Training Accuracy = 18.65%\n",
      "\n",
      "Epoch 246/512\n",
      "Training phase...\n"
     ]
    },
    {
     "name": "stderr",
     "output_type": "stream",
     "text": [
      "Loss = 1.9466  |  Accuracy = 18.60% | Batch ID = 30 : 100%|██████████| 30/30 [00:05<00:00,  5.20it/s]\n"
     ]
    },
    {
     "name": "stdout",
     "output_type": "stream",
     "text": [
      "Training Cross-Entropy Loss = 1.9468\n",
      "Training Accuracy = 18.60%\n",
      "\n",
      "Epoch 247/512\n",
      "Training phase...\n"
     ]
    },
    {
     "name": "stderr",
     "output_type": "stream",
     "text": [
      "Loss = 1.9205  |  Accuracy = 18.62% | Batch ID = 30 : 100%|██████████| 30/30 [00:05<00:00,  5.21it/s]\n"
     ]
    },
    {
     "name": "stdout",
     "output_type": "stream",
     "text": [
      "Training Cross-Entropy Loss = 1.9635\n",
      "Training Accuracy = 18.62%\n",
      "\n",
      "Epoch 248/512\n",
      "Training phase...\n"
     ]
    },
    {
     "name": "stderr",
     "output_type": "stream",
     "text": [
      "Loss = 1.8992  |  Accuracy = 18.88% | Batch ID = 30 : 100%|██████████| 30/30 [00:05<00:00,  5.21it/s]\n"
     ]
    },
    {
     "name": "stdout",
     "output_type": "stream",
     "text": [
      "Training Cross-Entropy Loss = 1.9310\n",
      "Training Accuracy = 18.88%\n",
      "\n",
      "Epoch 249/512\n",
      "Training phase...\n"
     ]
    },
    {
     "name": "stderr",
     "output_type": "stream",
     "text": [
      "Loss = 1.9298  |  Accuracy = 18.73% | Batch ID = 30 : 100%|██████████| 30/30 [00:05<00:00,  5.13it/s]\n"
     ]
    },
    {
     "name": "stdout",
     "output_type": "stream",
     "text": [
      "Training Cross-Entropy Loss = 1.9387\n",
      "Training Accuracy = 18.73%\n",
      "\n",
      "Epoch 250/512\n",
      "Training phase...\n"
     ]
    },
    {
     "name": "stderr",
     "output_type": "stream",
     "text": [
      "Loss = 1.9065  |  Accuracy = 18.64% | Batch ID = 30 : 100%|██████████| 30/30 [00:05<00:00,  5.20it/s]\n"
     ]
    },
    {
     "name": "stdout",
     "output_type": "stream",
     "text": [
      "Training Cross-Entropy Loss = 1.9338\n",
      "Training Accuracy = 18.64%\n",
      "\n",
      "Epoch 251/512\n",
      "Training phase...\n"
     ]
    },
    {
     "name": "stderr",
     "output_type": "stream",
     "text": [
      "Loss = 1.9060  |  Accuracy = 19.07% | Batch ID = 30 : 100%|██████████| 30/30 [00:05<00:00,  5.22it/s]\n"
     ]
    },
    {
     "name": "stdout",
     "output_type": "stream",
     "text": [
      "Training Cross-Entropy Loss = 1.9095\n",
      "Training Accuracy = 19.07%\n",
      "\n",
      "Epoch 252/512\n",
      "Training phase...\n"
     ]
    },
    {
     "name": "stderr",
     "output_type": "stream",
     "text": [
      "Loss = 1.9425  |  Accuracy = 19.39% | Batch ID = 30 : 100%|██████████| 30/30 [00:05<00:00,  5.24it/s]\n"
     ]
    },
    {
     "name": "stdout",
     "output_type": "stream",
     "text": [
      "Training Cross-Entropy Loss = 1.9125\n",
      "Training Accuracy = 19.39%\n",
      "\n",
      "Epoch 253/512\n",
      "Training phase...\n"
     ]
    },
    {
     "name": "stderr",
     "output_type": "stream",
     "text": [
      "Loss = 1.8973  |  Accuracy = 19.02% | Batch ID = 30 : 100%|██████████| 30/30 [00:05<00:00,  5.10it/s]\n"
     ]
    },
    {
     "name": "stdout",
     "output_type": "stream",
     "text": [
      "Training Cross-Entropy Loss = 1.9103\n",
      "Training Accuracy = 19.02%\n",
      "\n",
      "Epoch 254/512\n",
      "Training phase...\n"
     ]
    },
    {
     "name": "stderr",
     "output_type": "stream",
     "text": [
      "Loss = 1.9002  |  Accuracy = 19.45% | Batch ID = 30 : 100%|██████████| 30/30 [00:05<00:00,  5.23it/s]\n"
     ]
    },
    {
     "name": "stdout",
     "output_type": "stream",
     "text": [
      "Training Cross-Entropy Loss = 1.9074\n",
      "Training Accuracy = 19.45%\n",
      "\n",
      "Epoch 255/512\n",
      "Training phase...\n"
     ]
    },
    {
     "name": "stderr",
     "output_type": "stream",
     "text": [
      "Loss = 1.8843  |  Accuracy = 18.95% | Batch ID = 30 : 100%|██████████| 30/30 [00:05<00:00,  5.23it/s]\n"
     ]
    },
    {
     "name": "stdout",
     "output_type": "stream",
     "text": [
      "Training Cross-Entropy Loss = 1.9103\n",
      "Training Accuracy = 18.95%\n",
      "\n",
      "Epoch 256/512\n",
      "Training phase...\n"
     ]
    },
    {
     "name": "stderr",
     "output_type": "stream",
     "text": [
      "Loss = 1.8835  |  Accuracy = 19.11% | Batch ID = 30 : 100%|██████████| 30/30 [00:05<00:00,  5.22it/s]\n"
     ]
    },
    {
     "name": "stdout",
     "output_type": "stream",
     "text": [
      "Training Cross-Entropy Loss = 1.9111\n",
      "Training Accuracy = 19.11%\n",
      "\n",
      "Epoch 257/512\n",
      "Training phase...\n"
     ]
    },
    {
     "name": "stderr",
     "output_type": "stream",
     "text": [
      "Loss = 1.9033  |  Accuracy = 19.28% | Batch ID = 30 : 100%|██████████| 30/30 [00:05<00:00,  5.13it/s]\n"
     ]
    },
    {
     "name": "stdout",
     "output_type": "stream",
     "text": [
      "Training Cross-Entropy Loss = 1.9083\n",
      "Training Accuracy = 19.28%\n",
      "\n",
      "Epoch 258/512\n",
      "Training phase...\n"
     ]
    },
    {
     "name": "stderr",
     "output_type": "stream",
     "text": [
      "Loss = 1.8981  |  Accuracy = 19.05% | Batch ID = 30 : 100%|██████████| 30/30 [00:05<00:00,  5.23it/s]\n"
     ]
    },
    {
     "name": "stdout",
     "output_type": "stream",
     "text": [
      "Training Cross-Entropy Loss = 1.9105\n",
      "Training Accuracy = 19.05%\n",
      "\n",
      "Epoch 259/512\n",
      "Training phase...\n"
     ]
    },
    {
     "name": "stderr",
     "output_type": "stream",
     "text": [
      "Loss = 1.8895  |  Accuracy = 18.95% | Batch ID = 30 : 100%|██████████| 30/30 [00:05<00:00,  5.24it/s]\n"
     ]
    },
    {
     "name": "stdout",
     "output_type": "stream",
     "text": [
      "Training Cross-Entropy Loss = 1.9111\n",
      "Training Accuracy = 18.95%\n",
      "\n",
      "Epoch 260/512\n",
      "Training phase...\n"
     ]
    },
    {
     "name": "stderr",
     "output_type": "stream",
     "text": [
      "Loss = 1.9412  |  Accuracy = 19.33% | Batch ID = 30 : 100%|██████████| 30/30 [00:05<00:00,  5.13it/s]\n"
     ]
    },
    {
     "name": "stdout",
     "output_type": "stream",
     "text": [
      "Training Cross-Entropy Loss = 1.9150\n",
      "Training Accuracy = 19.33%\n",
      "\n",
      "Epoch 261/512\n",
      "Training phase...\n"
     ]
    },
    {
     "name": "stderr",
     "output_type": "stream",
     "text": [
      "Loss = 1.8875  |  Accuracy = 19.14% | Batch ID = 30 : 100%|██████████| 30/30 [00:05<00:00,  5.25it/s]\n"
     ]
    },
    {
     "name": "stdout",
     "output_type": "stream",
     "text": [
      "Training Cross-Entropy Loss = 1.9141\n",
      "Training Accuracy = 19.14%\n",
      "\n",
      "Epoch 262/512\n",
      "Training phase...\n"
     ]
    },
    {
     "name": "stderr",
     "output_type": "stream",
     "text": [
      "Loss = 1.9346  |  Accuracy = 19.31% | Batch ID = 30 : 100%|██████████| 30/30 [00:05<00:00,  5.25it/s]\n"
     ]
    },
    {
     "name": "stdout",
     "output_type": "stream",
     "text": [
      "Training Cross-Entropy Loss = 1.9159\n",
      "Training Accuracy = 19.31%\n",
      "\n",
      "Epoch 263/512\n",
      "Training phase...\n"
     ]
    },
    {
     "name": "stderr",
     "output_type": "stream",
     "text": [
      "Loss = 1.8931  |  Accuracy = 19.39% | Batch ID = 30 : 100%|██████████| 30/30 [00:05<00:00,  5.23it/s]\n"
     ]
    },
    {
     "name": "stdout",
     "output_type": "stream",
     "text": [
      "Training Cross-Entropy Loss = 1.9134\n",
      "Training Accuracy = 19.39%\n",
      "\n",
      "Epoch 264/512\n",
      "Training phase...\n"
     ]
    },
    {
     "name": "stderr",
     "output_type": "stream",
     "text": [
      "Loss = 1.9178  |  Accuracy = 19.23% | Batch ID = 30 : 100%|██████████| 30/30 [00:05<00:00,  5.14it/s]\n"
     ]
    },
    {
     "name": "stdout",
     "output_type": "stream",
     "text": [
      "Training Cross-Entropy Loss = 1.9215\n",
      "Training Accuracy = 19.23%\n",
      "\n",
      "Epoch 265/512\n",
      "Training phase...\n"
     ]
    },
    {
     "name": "stderr",
     "output_type": "stream",
     "text": [
      "Loss = 1.8964  |  Accuracy = 19.23% | Batch ID = 30 : 100%|██████████| 30/30 [00:05<00:00,  5.24it/s]\n"
     ]
    },
    {
     "name": "stdout",
     "output_type": "stream",
     "text": [
      "Training Cross-Entropy Loss = 1.9172\n",
      "Training Accuracy = 19.23%\n",
      "\n",
      "Epoch 266/512\n",
      "Training phase...\n"
     ]
    },
    {
     "name": "stderr",
     "output_type": "stream",
     "text": [
      "Loss = 1.8970  |  Accuracy = 18.98% | Batch ID = 30 : 100%|██████████| 30/30 [00:05<00:00,  5.24it/s]\n"
     ]
    },
    {
     "name": "stdout",
     "output_type": "stream",
     "text": [
      "Training Cross-Entropy Loss = 1.9155\n",
      "Training Accuracy = 18.98%\n",
      "\n",
      "Epoch 267/512\n",
      "Training phase...\n"
     ]
    },
    {
     "name": "stderr",
     "output_type": "stream",
     "text": [
      "Loss = 1.8964  |  Accuracy = 19.07% | Batch ID = 30 : 100%|██████████| 30/30 [00:05<00:00,  5.13it/s]\n"
     ]
    },
    {
     "name": "stdout",
     "output_type": "stream",
     "text": [
      "Training Cross-Entropy Loss = 1.9157\n",
      "Training Accuracy = 19.07%\n",
      "\n",
      "Epoch 268/512\n",
      "Training phase...\n"
     ]
    },
    {
     "name": "stderr",
     "output_type": "stream",
     "text": [
      "Loss = 1.9205  |  Accuracy = 19.24% | Batch ID = 30 : 100%|██████████| 30/30 [00:05<00:00,  5.25it/s]\n"
     ]
    },
    {
     "name": "stdout",
     "output_type": "stream",
     "text": [
      "Training Cross-Entropy Loss = 1.9209\n",
      "Training Accuracy = 19.24%\n",
      "\n",
      "Epoch 269/512\n",
      "Training phase...\n"
     ]
    },
    {
     "name": "stderr",
     "output_type": "stream",
     "text": [
      "Loss = 1.9053  |  Accuracy = 19.27% | Batch ID = 30 : 100%|██████████| 30/30 [00:05<00:00,  5.22it/s]\n"
     ]
    },
    {
     "name": "stdout",
     "output_type": "stream",
     "text": [
      "Training Cross-Entropy Loss = 1.9172\n",
      "Training Accuracy = 19.27%\n",
      "\n",
      "Epoch 270/512\n",
      "Training phase...\n"
     ]
    },
    {
     "name": "stderr",
     "output_type": "stream",
     "text": [
      "Loss = 1.9241  |  Accuracy = 18.95% | Batch ID = 30 : 100%|██████████| 30/30 [00:05<00:00,  5.28it/s]\n"
     ]
    },
    {
     "name": "stdout",
     "output_type": "stream",
     "text": [
      "Training Cross-Entropy Loss = 1.9209\n",
      "Training Accuracy = 18.95%\n",
      "\n",
      "Epoch 271/512\n",
      "Training phase...\n"
     ]
    },
    {
     "name": "stderr",
     "output_type": "stream",
     "text": [
      "Loss = 1.9121  |  Accuracy = 19.26% | Batch ID = 30 : 100%|██████████| 30/30 [00:05<00:00,  5.15it/s]\n"
     ]
    },
    {
     "name": "stdout",
     "output_type": "stream",
     "text": [
      "Training Cross-Entropy Loss = 1.9176\n",
      "Training Accuracy = 19.26%\n",
      "\n",
      "Epoch 272/512\n",
      "Training phase...\n"
     ]
    },
    {
     "name": "stderr",
     "output_type": "stream",
     "text": [
      "Loss = 1.8814  |  Accuracy = 19.29% | Batch ID = 30 : 100%|██████████| 30/30 [00:05<00:00,  5.26it/s]\n"
     ]
    },
    {
     "name": "stdout",
     "output_type": "stream",
     "text": [
      "Training Cross-Entropy Loss = 1.9147\n",
      "Training Accuracy = 19.29%\n",
      "\n",
      "Epoch 273/512\n",
      "Training phase...\n"
     ]
    },
    {
     "name": "stderr",
     "output_type": "stream",
     "text": [
      "Loss = 1.8817  |  Accuracy = 19.10% | Batch ID = 30 : 100%|██████████| 30/30 [00:05<00:00,  5.26it/s]\n"
     ]
    },
    {
     "name": "stdout",
     "output_type": "stream",
     "text": [
      "Training Cross-Entropy Loss = 1.9161\n",
      "Training Accuracy = 19.10%\n",
      "\n",
      "Epoch 274/512\n",
      "Training phase...\n"
     ]
    },
    {
     "name": "stderr",
     "output_type": "stream",
     "text": [
      "Loss = 1.8873  |  Accuracy = 19.13% | Batch ID = 30 : 100%|██████████| 30/30 [00:05<00:00,  5.27it/s]\n"
     ]
    },
    {
     "name": "stdout",
     "output_type": "stream",
     "text": [
      "Training Cross-Entropy Loss = 1.9162\n",
      "Training Accuracy = 19.13%\n",
      "\n",
      "Epoch 275/512\n",
      "Training phase...\n"
     ]
    },
    {
     "name": "stderr",
     "output_type": "stream",
     "text": [
      "Loss = 1.9373  |  Accuracy = 18.88% | Batch ID = 30 : 100%|██████████| 30/30 [00:05<00:00,  5.17it/s]\n"
     ]
    },
    {
     "name": "stdout",
     "output_type": "stream",
     "text": [
      "Training Cross-Entropy Loss = 1.9164\n",
      "Training Accuracy = 18.88%\n",
      "\n",
      "Epoch 276/512\n",
      "Training phase...\n"
     ]
    },
    {
     "name": "stderr",
     "output_type": "stream",
     "text": [
      "Loss = 1.9138  |  Accuracy = 19.34% | Batch ID = 30 : 100%|██████████| 30/30 [00:05<00:00,  5.25it/s]\n"
     ]
    },
    {
     "name": "stdout",
     "output_type": "stream",
     "text": [
      "Training Cross-Entropy Loss = 1.9100\n",
      "Training Accuracy = 19.34%\n",
      "\n",
      "Epoch 277/512\n",
      "Training phase...\n"
     ]
    },
    {
     "name": "stderr",
     "output_type": "stream",
     "text": [
      "Loss = 1.8959  |  Accuracy = 19.11% | Batch ID = 30 : 100%|██████████| 30/30 [00:05<00:00,  5.26it/s]\n"
     ]
    },
    {
     "name": "stdout",
     "output_type": "stream",
     "text": [
      "Training Cross-Entropy Loss = 1.9167\n",
      "Training Accuracy = 19.11%\n",
      "\n",
      "Epoch 278/512\n",
      "Training phase...\n"
     ]
    },
    {
     "name": "stderr",
     "output_type": "stream",
     "text": [
      "Loss = 1.9203  |  Accuracy = 19.20% | Batch ID = 30 : 100%|██████████| 30/30 [00:05<00:00,  5.26it/s]\n"
     ]
    },
    {
     "name": "stdout",
     "output_type": "stream",
     "text": [
      "Training Cross-Entropy Loss = 1.9267\n",
      "Training Accuracy = 19.20%\n",
      "\n",
      "Epoch 279/512\n",
      "Training phase...\n"
     ]
    },
    {
     "name": "stderr",
     "output_type": "stream",
     "text": [
      "Loss = 1.9211  |  Accuracy = 19.32% | Batch ID = 30 : 100%|██████████| 30/30 [00:05<00:00,  5.15it/s]\n"
     ]
    },
    {
     "name": "stdout",
     "output_type": "stream",
     "text": [
      "Training Cross-Entropy Loss = 1.9296\n",
      "Training Accuracy = 19.32%\n",
      "\n",
      "Epoch 280/512\n",
      "Training phase...\n"
     ]
    },
    {
     "name": "stderr",
     "output_type": "stream",
     "text": [
      "Loss = 1.9363  |  Accuracy = 18.82% | Batch ID = 30 : 100%|██████████| 30/30 [00:05<00:00,  5.26it/s]\n"
     ]
    },
    {
     "name": "stdout",
     "output_type": "stream",
     "text": [
      "Training Cross-Entropy Loss = 1.9331\n",
      "Training Accuracy = 18.82%\n",
      "\n",
      "Epoch 281/512\n",
      "Training phase...\n"
     ]
    },
    {
     "name": "stderr",
     "output_type": "stream",
     "text": [
      "Loss = 1.8889  |  Accuracy = 19.09% | Batch ID = 30 : 100%|██████████| 30/30 [00:05<00:00,  5.25it/s]\n"
     ]
    },
    {
     "name": "stdout",
     "output_type": "stream",
     "text": [
      "Training Cross-Entropy Loss = 1.9320\n",
      "Training Accuracy = 19.09%\n",
      "\n",
      "Epoch 282/512\n",
      "Training phase...\n"
     ]
    },
    {
     "name": "stderr",
     "output_type": "stream",
     "text": [
      "Loss = 1.9475  |  Accuracy = 19.35% | Batch ID = 30 : 100%|██████████| 30/30 [00:05<00:00,  5.14it/s]\n"
     ]
    },
    {
     "name": "stdout",
     "output_type": "stream",
     "text": [
      "Training Cross-Entropy Loss = 1.9320\n",
      "Training Accuracy = 19.35%\n",
      "\n",
      "Epoch 283/512\n",
      "Training phase...\n"
     ]
    },
    {
     "name": "stderr",
     "output_type": "stream",
     "text": [
      "Loss = 1.9260  |  Accuracy = 19.07% | Batch ID = 30 : 100%|██████████| 30/30 [00:05<00:00,  5.21it/s]\n"
     ]
    },
    {
     "name": "stdout",
     "output_type": "stream",
     "text": [
      "Training Cross-Entropy Loss = 1.9508\n",
      "Training Accuracy = 19.07%\n",
      "\n",
      "Epoch 284/512\n",
      "Training phase...\n"
     ]
    },
    {
     "name": "stderr",
     "output_type": "stream",
     "text": [
      "Loss = 1.9294  |  Accuracy = 18.94% | Batch ID = 30 : 100%|██████████| 30/30 [00:05<00:00,  5.17it/s]\n"
     ]
    },
    {
     "name": "stdout",
     "output_type": "stream",
     "text": [
      "Training Cross-Entropy Loss = 1.9582\n",
      "Training Accuracy = 18.94%\n",
      "\n",
      "Epoch 285/512\n",
      "Training phase...\n"
     ]
    },
    {
     "name": "stderr",
     "output_type": "stream",
     "text": [
      "Loss = 1.9503  |  Accuracy = 18.98% | Batch ID = 30 : 100%|██████████| 30/30 [00:05<00:00,  5.01it/s]\n"
     ]
    },
    {
     "name": "stdout",
     "output_type": "stream",
     "text": [
      "Training Cross-Entropy Loss = 1.9595\n",
      "Training Accuracy = 18.98%\n",
      "\n",
      "Epoch 286/512\n",
      "Training phase...\n"
     ]
    },
    {
     "name": "stderr",
     "output_type": "stream",
     "text": [
      "Loss = 1.9085  |  Accuracy = 18.85% | Batch ID = 30 : 100%|██████████| 30/30 [00:05<00:00,  5.08it/s]\n"
     ]
    },
    {
     "name": "stdout",
     "output_type": "stream",
     "text": [
      "Training Cross-Entropy Loss = 1.9563\n",
      "Training Accuracy = 18.85%\n",
      "\n",
      "Epoch 287/512\n",
      "Training phase...\n"
     ]
    },
    {
     "name": "stderr",
     "output_type": "stream",
     "text": [
      "Loss = 1.9044  |  Accuracy = 19.08% | Batch ID = 30 : 100%|██████████| 30/30 [00:05<00:00,  5.15it/s]\n"
     ]
    },
    {
     "name": "stdout",
     "output_type": "stream",
     "text": [
      "Training Cross-Entropy Loss = 1.9168\n",
      "Training Accuracy = 19.08%\n",
      "\n",
      "Epoch 288/512\n",
      "Training phase...\n"
     ]
    },
    {
     "name": "stderr",
     "output_type": "stream",
     "text": [
      "Loss = 1.9044  |  Accuracy = 19.06% | Batch ID = 30 : 100%|██████████| 30/30 [00:05<00:00,  5.13it/s]\n"
     ]
    },
    {
     "name": "stdout",
     "output_type": "stream",
     "text": [
      "Training Cross-Entropy Loss = 1.9092\n",
      "Training Accuracy = 19.06%\n",
      "\n",
      "Epoch 289/512\n",
      "Training phase...\n"
     ]
    },
    {
     "name": "stderr",
     "output_type": "stream",
     "text": [
      "Loss = 1.9186  |  Accuracy = 18.91% | Batch ID = 30 : 100%|██████████| 30/30 [00:05<00:00,  5.09it/s]\n"
     ]
    },
    {
     "name": "stdout",
     "output_type": "stream",
     "text": [
      "Training Cross-Entropy Loss = 1.9130\n",
      "Training Accuracy = 18.91%\n",
      "\n",
      "Epoch 290/512\n",
      "Training phase...\n"
     ]
    },
    {
     "name": "stderr",
     "output_type": "stream",
     "text": [
      "Loss = 1.9151  |  Accuracy = 19.05% | Batch ID = 30 : 100%|██████████| 30/30 [00:05<00:00,  5.22it/s]\n"
     ]
    },
    {
     "name": "stdout",
     "output_type": "stream",
     "text": [
      "Training Cross-Entropy Loss = 1.9083\n",
      "Training Accuracy = 19.05%\n",
      "\n",
      "Epoch 291/512\n",
      "Training phase...\n"
     ]
    },
    {
     "name": "stderr",
     "output_type": "stream",
     "text": [
      "Loss = 1.9050  |  Accuracy = 19.30% | Batch ID = 30 : 100%|██████████| 30/30 [00:05<00:00,  5.19it/s]\n"
     ]
    },
    {
     "name": "stdout",
     "output_type": "stream",
     "text": [
      "Training Cross-Entropy Loss = 1.9130\n",
      "Training Accuracy = 19.30%\n",
      "\n",
      "Epoch 292/512\n",
      "Training phase...\n"
     ]
    },
    {
     "name": "stderr",
     "output_type": "stream",
     "text": [
      "Loss = 1.9371  |  Accuracy = 19.33% | Batch ID = 30 : 100%|██████████| 30/30 [00:05<00:00,  5.06it/s]\n"
     ]
    },
    {
     "name": "stdout",
     "output_type": "stream",
     "text": [
      "Training Cross-Entropy Loss = 1.9092\n",
      "Training Accuracy = 19.33%\n",
      "\n",
      "Epoch 293/512\n",
      "Training phase...\n"
     ]
    },
    {
     "name": "stderr",
     "output_type": "stream",
     "text": [
      "Loss = 1.9192  |  Accuracy = 19.49% | Batch ID = 30 : 100%|██████████| 30/30 [00:05<00:00,  5.01it/s]\n"
     ]
    },
    {
     "name": "stdout",
     "output_type": "stream",
     "text": [
      "Training Cross-Entropy Loss = 1.9063\n",
      "Training Accuracy = 19.49%\n",
      "\n",
      "Epoch 294/512\n",
      "Training phase...\n"
     ]
    },
    {
     "name": "stderr",
     "output_type": "stream",
     "text": [
      "Loss = 1.9253  |  Accuracy = 19.60% | Batch ID = 30 : 100%|██████████| 30/30 [00:05<00:00,  5.09it/s]\n"
     ]
    },
    {
     "name": "stdout",
     "output_type": "stream",
     "text": [
      "Training Cross-Entropy Loss = 1.9092\n",
      "Training Accuracy = 19.60%\n",
      "\n",
      "Epoch 295/512\n",
      "Training phase...\n"
     ]
    },
    {
     "name": "stderr",
     "output_type": "stream",
     "text": [
      "Loss = 1.8893  |  Accuracy = 19.18% | Batch ID = 30 : 100%|██████████| 30/30 [00:06<00:00,  5.00it/s]\n"
     ]
    },
    {
     "name": "stdout",
     "output_type": "stream",
     "text": [
      "Training Cross-Entropy Loss = 1.9100\n",
      "Training Accuracy = 19.18%\n",
      "\n",
      "Epoch 296/512\n",
      "Training phase...\n"
     ]
    },
    {
     "name": "stderr",
     "output_type": "stream",
     "text": [
      "Loss = 1.9066  |  Accuracy = 19.41% | Batch ID = 30 : 100%|██████████| 30/30 [00:06<00:00,  4.94it/s]\n"
     ]
    },
    {
     "name": "stdout",
     "output_type": "stream",
     "text": [
      "Training Cross-Entropy Loss = 1.9066\n",
      "Training Accuracy = 19.41%\n",
      "\n",
      "Epoch 297/512\n",
      "Training phase...\n"
     ]
    },
    {
     "name": "stderr",
     "output_type": "stream",
     "text": [
      "Loss = 1.8880  |  Accuracy = 19.36% | Batch ID = 30 : 100%|██████████| 30/30 [00:06<00:00,  4.93it/s]\n"
     ]
    },
    {
     "name": "stdout",
     "output_type": "stream",
     "text": [
      "Training Cross-Entropy Loss = 1.9089\n",
      "Training Accuracy = 19.36%\n",
      "\n",
      "Epoch 298/512\n",
      "Training phase...\n"
     ]
    },
    {
     "name": "stderr",
     "output_type": "stream",
     "text": [
      "Loss = 1.9144  |  Accuracy = 19.25% | Batch ID = 30 : 100%|██████████| 30/30 [00:05<00:00,  5.17it/s]\n"
     ]
    },
    {
     "name": "stdout",
     "output_type": "stream",
     "text": [
      "Training Cross-Entropy Loss = 1.9078\n",
      "Training Accuracy = 19.25%\n",
      "\n",
      "Epoch 299/512\n",
      "Training phase...\n"
     ]
    },
    {
     "name": "stderr",
     "output_type": "stream",
     "text": [
      "Loss = 1.9058  |  Accuracy = 19.48% | Batch ID = 30 : 100%|██████████| 30/30 [00:05<00:00,  5.03it/s]\n"
     ]
    },
    {
     "name": "stdout",
     "output_type": "stream",
     "text": [
      "Training Cross-Entropy Loss = 1.9072\n",
      "Training Accuracy = 19.48%\n",
      "\n",
      "Epoch 300/512\n",
      "Training phase...\n"
     ]
    },
    {
     "name": "stderr",
     "output_type": "stream",
     "text": [
      "Loss = 1.8836  |  Accuracy = 19.70% | Batch ID = 30 : 100%|██████████| 30/30 [00:05<00:00,  5.06it/s]\n"
     ]
    },
    {
     "name": "stdout",
     "output_type": "stream",
     "text": [
      "Training Cross-Entropy Loss = 1.9053\n",
      "Training Accuracy = 19.70%\n",
      "\n",
      "Epoch 301/512\n",
      "Training phase...\n"
     ]
    },
    {
     "name": "stderr",
     "output_type": "stream",
     "text": [
      "Loss = 1.9060  |  Accuracy = 19.47% | Batch ID = 30 : 100%|██████████| 30/30 [00:06<00:00,  4.90it/s]\n"
     ]
    },
    {
     "name": "stdout",
     "output_type": "stream",
     "text": [
      "Training Cross-Entropy Loss = 1.9117\n",
      "Training Accuracy = 19.47%\n",
      "\n",
      "Epoch 302/512\n",
      "Training phase...\n"
     ]
    },
    {
     "name": "stderr",
     "output_type": "stream",
     "text": [
      "Loss = 1.9416  |  Accuracy = 19.61% | Batch ID = 30 : 100%|██████████| 30/30 [00:06<00:00,  4.96it/s]\n"
     ]
    },
    {
     "name": "stdout",
     "output_type": "stream",
     "text": [
      "Training Cross-Entropy Loss = 1.9084\n",
      "Training Accuracy = 19.61%\n",
      "\n",
      "Epoch 303/512\n",
      "Training phase...\n"
     ]
    },
    {
     "name": "stderr",
     "output_type": "stream",
     "text": [
      "Loss = 1.9044  |  Accuracy = 19.48% | Batch ID = 30 : 100%|██████████| 30/30 [00:06<00:00,  4.96it/s]\n"
     ]
    },
    {
     "name": "stdout",
     "output_type": "stream",
     "text": [
      "Training Cross-Entropy Loss = 1.9104\n",
      "Training Accuracy = 19.48%\n",
      "\n",
      "Epoch 304/512\n",
      "Training phase...\n"
     ]
    },
    {
     "name": "stderr",
     "output_type": "stream",
     "text": [
      "Loss = 1.9106  |  Accuracy = 19.51% | Batch ID = 30 : 100%|██████████| 30/30 [00:06<00:00,  4.89it/s]\n"
     ]
    },
    {
     "name": "stdout",
     "output_type": "stream",
     "text": [
      "Training Cross-Entropy Loss = 1.9082\n",
      "Training Accuracy = 19.51%\n",
      "\n",
      "Epoch 305/512\n",
      "Training phase...\n"
     ]
    },
    {
     "name": "stderr",
     "output_type": "stream",
     "text": [
      "Loss = 1.8859  |  Accuracy = 19.50% | Batch ID = 30 : 100%|██████████| 30/30 [00:05<00:00,  5.29it/s]\n"
     ]
    },
    {
     "name": "stdout",
     "output_type": "stream",
     "text": [
      "Training Cross-Entropy Loss = 1.9092\n",
      "Training Accuracy = 19.50%\n",
      "\n",
      "Epoch 306/512\n",
      "Training phase...\n"
     ]
    },
    {
     "name": "stderr",
     "output_type": "stream",
     "text": [
      "Loss = 1.8981  |  Accuracy = 19.33% | Batch ID = 30 : 100%|██████████| 30/30 [00:05<00:00,  5.26it/s]\n"
     ]
    },
    {
     "name": "stdout",
     "output_type": "stream",
     "text": [
      "Training Cross-Entropy Loss = 1.9092\n",
      "Training Accuracy = 19.33%\n",
      "\n",
      "Epoch 307/512\n",
      "Training phase...\n"
     ]
    },
    {
     "name": "stderr",
     "output_type": "stream",
     "text": [
      "Loss = 1.8908  |  Accuracy = 19.47% | Batch ID = 30 : 100%|██████████| 30/30 [00:05<00:00,  5.28it/s]\n"
     ]
    },
    {
     "name": "stdout",
     "output_type": "stream",
     "text": [
      "Training Cross-Entropy Loss = 1.9084\n",
      "Training Accuracy = 19.47%\n",
      "\n",
      "Epoch 308/512\n",
      "Training phase...\n"
     ]
    },
    {
     "name": "stderr",
     "output_type": "stream",
     "text": [
      "Loss = 1.8849  |  Accuracy = 19.58% | Batch ID = 30 : 100%|██████████| 30/30 [00:05<00:00,  5.13it/s]\n"
     ]
    },
    {
     "name": "stdout",
     "output_type": "stream",
     "text": [
      "Training Cross-Entropy Loss = 1.9110\n",
      "Training Accuracy = 19.58%\n",
      "\n",
      "Epoch 309/512\n",
      "Training phase...\n"
     ]
    },
    {
     "name": "stderr",
     "output_type": "stream",
     "text": [
      "Loss = 1.8968  |  Accuracy = 19.67% | Batch ID = 30 : 100%|██████████| 30/30 [00:05<00:00,  5.29it/s]\n"
     ]
    },
    {
     "name": "stdout",
     "output_type": "stream",
     "text": [
      "Training Cross-Entropy Loss = 1.9070\n",
      "Training Accuracy = 19.67%\n",
      "\n",
      "Epoch 310/512\n",
      "Training phase...\n"
     ]
    },
    {
     "name": "stderr",
     "output_type": "stream",
     "text": [
      "Loss = 1.9018  |  Accuracy = 19.53% | Batch ID = 30 : 100%|██████████| 30/30 [00:05<00:00,  5.28it/s]\n"
     ]
    },
    {
     "name": "stdout",
     "output_type": "stream",
     "text": [
      "Training Cross-Entropy Loss = 1.9090\n",
      "Training Accuracy = 19.53%\n",
      "\n",
      "Epoch 311/512\n",
      "Training phase...\n"
     ]
    },
    {
     "name": "stderr",
     "output_type": "stream",
     "text": [
      "Loss = 1.9289  |  Accuracy = 19.31% | Batch ID = 30 : 100%|██████████| 30/30 [00:05<00:00,  5.17it/s]\n"
     ]
    },
    {
     "name": "stdout",
     "output_type": "stream",
     "text": [
      "Training Cross-Entropy Loss = 1.9076\n",
      "Training Accuracy = 19.31%\n",
      "\n",
      "Epoch 312/512\n",
      "Training phase...\n"
     ]
    },
    {
     "name": "stderr",
     "output_type": "stream",
     "text": [
      "Loss = 1.9340  |  Accuracy = 19.79% | Batch ID = 30 : 100%|██████████| 30/30 [00:05<00:00,  5.29it/s]\n"
     ]
    },
    {
     "name": "stdout",
     "output_type": "stream",
     "text": [
      "Training Cross-Entropy Loss = 1.9118\n",
      "Training Accuracy = 19.79%\n",
      "\n",
      "Epoch 313/512\n",
      "Training phase...\n"
     ]
    },
    {
     "name": "stderr",
     "output_type": "stream",
     "text": [
      "Loss = 1.9365  |  Accuracy = 19.58% | Batch ID = 30 : 100%|██████████| 30/30 [00:05<00:00,  5.26it/s]\n"
     ]
    },
    {
     "name": "stdout",
     "output_type": "stream",
     "text": [
      "Training Cross-Entropy Loss = 1.9109\n",
      "Training Accuracy = 19.58%\n",
      "\n",
      "Epoch 314/512\n",
      "Training phase...\n"
     ]
    },
    {
     "name": "stderr",
     "output_type": "stream",
     "text": [
      "Loss = 1.8813  |  Accuracy = 19.47% | Batch ID = 30 : 100%|██████████| 30/30 [00:05<00:00,  5.27it/s]\n"
     ]
    },
    {
     "name": "stdout",
     "output_type": "stream",
     "text": [
      "Training Cross-Entropy Loss = 1.9141\n",
      "Training Accuracy = 19.47%\n",
      "\n",
      "Epoch 315/512\n",
      "Training phase...\n"
     ]
    },
    {
     "name": "stderr",
     "output_type": "stream",
     "text": [
      "Loss = 1.8708  |  Accuracy = 19.45% | Batch ID = 30 : 100%|██████████| 30/30 [00:05<00:00,  5.18it/s]\n"
     ]
    },
    {
     "name": "stdout",
     "output_type": "stream",
     "text": [
      "Training Cross-Entropy Loss = 1.9125\n",
      "Training Accuracy = 19.45%\n",
      "\n",
      "Epoch 316/512\n",
      "Training phase...\n"
     ]
    },
    {
     "name": "stderr",
     "output_type": "stream",
     "text": [
      "Loss = 1.9026  |  Accuracy = 19.34% | Batch ID = 30 : 100%|██████████| 30/30 [00:05<00:00,  5.27it/s]\n"
     ]
    },
    {
     "name": "stdout",
     "output_type": "stream",
     "text": [
      "Training Cross-Entropy Loss = 1.9153\n",
      "Training Accuracy = 19.34%\n",
      "\n",
      "Epoch 317/512\n",
      "Training phase...\n"
     ]
    },
    {
     "name": "stderr",
     "output_type": "stream",
     "text": [
      "Loss = 1.8939  |  Accuracy = 19.27% | Batch ID = 30 : 100%|██████████| 30/30 [00:05<00:00,  5.28it/s]\n"
     ]
    },
    {
     "name": "stdout",
     "output_type": "stream",
     "text": [
      "Training Cross-Entropy Loss = 1.9105\n",
      "Training Accuracy = 19.27%\n",
      "\n",
      "Epoch 318/512\n",
      "Training phase...\n"
     ]
    },
    {
     "name": "stderr",
     "output_type": "stream",
     "text": [
      "Loss = 1.9282  |  Accuracy = 19.58% | Batch ID = 30 : 100%|██████████| 30/30 [00:05<00:00,  5.17it/s]\n"
     ]
    },
    {
     "name": "stdout",
     "output_type": "stream",
     "text": [
      "Training Cross-Entropy Loss = 1.9140\n",
      "Training Accuracy = 19.58%\n",
      "\n",
      "Epoch 319/512\n",
      "Training phase...\n"
     ]
    },
    {
     "name": "stderr",
     "output_type": "stream",
     "text": [
      "Loss = 1.9080  |  Accuracy = 19.65% | Batch ID = 30 : 100%|██████████| 30/30 [00:05<00:00,  5.29it/s]\n"
     ]
    },
    {
     "name": "stdout",
     "output_type": "stream",
     "text": [
      "Training Cross-Entropy Loss = 1.9114\n",
      "Training Accuracy = 19.65%\n",
      "\n",
      "Epoch 320/512\n",
      "Training phase...\n"
     ]
    },
    {
     "name": "stderr",
     "output_type": "stream",
     "text": [
      "Loss = 1.8695  |  Accuracy = 19.52% | Batch ID = 30 : 100%|██████████| 30/30 [00:05<00:00,  5.25it/s]\n"
     ]
    },
    {
     "name": "stdout",
     "output_type": "stream",
     "text": [
      "Training Cross-Entropy Loss = 1.9101\n",
      "Training Accuracy = 19.52%\n",
      "\n",
      "Epoch 321/512\n",
      "Training phase...\n"
     ]
    },
    {
     "name": "stderr",
     "output_type": "stream",
     "text": [
      "Loss = 1.8869  |  Accuracy = 20.05% | Batch ID = 30 : 100%|██████████| 30/30 [00:05<00:00,  5.21it/s]\n"
     ]
    },
    {
     "name": "stdout",
     "output_type": "stream",
     "text": [
      "Training Cross-Entropy Loss = 1.9064\n",
      "Training Accuracy = 20.05%\n",
      "\n",
      "Epoch 322/512\n",
      "Training phase...\n"
     ]
    },
    {
     "name": "stderr",
     "output_type": "stream",
     "text": [
      "Loss = 1.8744  |  Accuracy = 19.44% | Batch ID = 30 : 100%|██████████| 30/30 [00:05<00:00,  5.20it/s]\n"
     ]
    },
    {
     "name": "stdout",
     "output_type": "stream",
     "text": [
      "Training Cross-Entropy Loss = 1.9101\n",
      "Training Accuracy = 19.44%\n",
      "\n",
      "Epoch 323/512\n",
      "Training phase...\n"
     ]
    },
    {
     "name": "stderr",
     "output_type": "stream",
     "text": [
      "Loss = 1.8729  |  Accuracy = 19.66% | Batch ID = 30 : 100%|██████████| 30/30 [00:05<00:00,  5.30it/s]\n"
     ]
    },
    {
     "name": "stdout",
     "output_type": "stream",
     "text": [
      "Training Cross-Entropy Loss = 1.9077\n",
      "Training Accuracy = 19.66%\n",
      "\n",
      "Epoch 324/512\n",
      "Training phase...\n"
     ]
    },
    {
     "name": "stderr",
     "output_type": "stream",
     "text": [
      "Loss = 1.9000  |  Accuracy = 19.61% | Batch ID = 30 : 100%|██████████| 30/30 [00:05<00:00,  5.31it/s]\n"
     ]
    },
    {
     "name": "stdout",
     "output_type": "stream",
     "text": [
      "Training Cross-Entropy Loss = 1.9098\n",
      "Training Accuracy = 19.61%\n",
      "\n",
      "Epoch 325/512\n",
      "Training phase...\n"
     ]
    },
    {
     "name": "stderr",
     "output_type": "stream",
     "text": [
      "Loss = 1.9350  |  Accuracy = 19.82% | Batch ID = 30 : 100%|██████████| 30/30 [00:05<00:00,  5.18it/s]\n"
     ]
    },
    {
     "name": "stdout",
     "output_type": "stream",
     "text": [
      "Training Cross-Entropy Loss = 1.9151\n",
      "Training Accuracy = 19.82%\n",
      "\n",
      "Epoch 326/512\n",
      "Training phase...\n"
     ]
    },
    {
     "name": "stderr",
     "output_type": "stream",
     "text": [
      "Loss = 1.9074  |  Accuracy = 19.82% | Batch ID = 30 : 100%|██████████| 30/30 [00:05<00:00,  5.30it/s]\n"
     ]
    },
    {
     "name": "stdout",
     "output_type": "stream",
     "text": [
      "Training Cross-Entropy Loss = 1.9144\n",
      "Training Accuracy = 19.82%\n",
      "\n",
      "Epoch 327/512\n",
      "Training phase...\n"
     ]
    },
    {
     "name": "stderr",
     "output_type": "stream",
     "text": [
      "Loss = 1.9053  |  Accuracy = 19.73% | Batch ID = 30 : 100%|██████████| 30/30 [00:05<00:00,  5.31it/s]\n"
     ]
    },
    {
     "name": "stdout",
     "output_type": "stream",
     "text": [
      "Training Cross-Entropy Loss = 1.9113\n",
      "Training Accuracy = 19.73%\n",
      "\n",
      "Epoch 328/512\n",
      "Training phase...\n"
     ]
    },
    {
     "name": "stderr",
     "output_type": "stream",
     "text": [
      "Loss = 1.8513  |  Accuracy = 19.93% | Batch ID = 30 : 100%|██████████| 30/30 [00:05<00:00,  5.31it/s]\n"
     ]
    },
    {
     "name": "stdout",
     "output_type": "stream",
     "text": [
      "Training Cross-Entropy Loss = 1.9139\n",
      "Training Accuracy = 19.93%\n",
      "\n",
      "Epoch 329/512\n",
      "Training phase...\n"
     ]
    },
    {
     "name": "stderr",
     "output_type": "stream",
     "text": [
      "Loss = 1.8600  |  Accuracy = 19.68% | Batch ID = 30 : 100%|██████████| 30/30 [00:05<00:00,  5.32it/s]\n"
     ]
    },
    {
     "name": "stdout",
     "output_type": "stream",
     "text": [
      "Training Cross-Entropy Loss = 1.9129\n",
      "Training Accuracy = 19.68%\n",
      "\n",
      "Epoch 330/512\n",
      "Training phase...\n"
     ]
    },
    {
     "name": "stderr",
     "output_type": "stream",
     "text": [
      "Loss = 1.9198  |  Accuracy = 19.68% | Batch ID = 30 : 100%|██████████| 30/30 [00:05<00:00,  5.16it/s]\n"
     ]
    },
    {
     "name": "stdout",
     "output_type": "stream",
     "text": [
      "Training Cross-Entropy Loss = 1.9182\n",
      "Training Accuracy = 19.68%\n",
      "\n",
      "Epoch 331/512\n",
      "Training phase...\n"
     ]
    },
    {
     "name": "stderr",
     "output_type": "stream",
     "text": [
      "Loss = 1.8998  |  Accuracy = 19.71% | Batch ID = 30 : 100%|██████████| 30/30 [00:05<00:00,  5.30it/s]\n"
     ]
    },
    {
     "name": "stdout",
     "output_type": "stream",
     "text": [
      "Training Cross-Entropy Loss = 1.9162\n",
      "Training Accuracy = 19.71%\n",
      "\n",
      "Epoch 332/512\n",
      "Training phase...\n"
     ]
    },
    {
     "name": "stderr",
     "output_type": "stream",
     "text": [
      "Loss = 1.8783  |  Accuracy = 19.68% | Batch ID = 30 : 100%|██████████| 30/30 [00:05<00:00,  5.20it/s]\n"
     ]
    },
    {
     "name": "stdout",
     "output_type": "stream",
     "text": [
      "Training Cross-Entropy Loss = 1.9166\n",
      "Training Accuracy = 19.68%\n",
      "\n",
      "Epoch 333/512\n",
      "Training phase...\n"
     ]
    },
    {
     "name": "stderr",
     "output_type": "stream",
     "text": [
      "Loss = 1.9057  |  Accuracy = 19.72% | Batch ID = 30 : 100%|██████████| 30/30 [00:05<00:00,  5.29it/s]\n"
     ]
    },
    {
     "name": "stdout",
     "output_type": "stream",
     "text": [
      "Training Cross-Entropy Loss = 1.9161\n",
      "Training Accuracy = 19.72%\n",
      "\n",
      "Epoch 334/512\n",
      "Training phase...\n"
     ]
    },
    {
     "name": "stderr",
     "output_type": "stream",
     "text": [
      "Loss = 1.8784  |  Accuracy = 19.68% | Batch ID = 30 : 100%|██████████| 30/30 [00:05<00:00,  5.28it/s]\n"
     ]
    },
    {
     "name": "stdout",
     "output_type": "stream",
     "text": [
      "Training Cross-Entropy Loss = 1.9149\n",
      "Training Accuracy = 19.68%\n",
      "\n",
      "Epoch 335/512\n",
      "Training phase...\n"
     ]
    },
    {
     "name": "stderr",
     "output_type": "stream",
     "text": [
      "Loss = 1.9577  |  Accuracy = 19.74% | Batch ID = 30 : 100%|██████████| 30/30 [00:05<00:00,  5.27it/s]\n"
     ]
    },
    {
     "name": "stdout",
     "output_type": "stream",
     "text": [
      "Training Cross-Entropy Loss = 1.9197\n",
      "Training Accuracy = 19.74%\n",
      "\n",
      "Epoch 336/512\n",
      "Training phase...\n"
     ]
    },
    {
     "name": "stderr",
     "output_type": "stream",
     "text": [
      "Loss = 1.9492  |  Accuracy = 19.31% | Batch ID = 30 : 100%|██████████| 30/30 [00:05<00:00,  5.26it/s]\n"
     ]
    },
    {
     "name": "stdout",
     "output_type": "stream",
     "text": [
      "Training Cross-Entropy Loss = 1.9283\n",
      "Training Accuracy = 19.31%\n",
      "\n",
      "Epoch 337/512\n",
      "Training phase...\n"
     ]
    },
    {
     "name": "stderr",
     "output_type": "stream",
     "text": [
      "Loss = 1.9329  |  Accuracy = 19.46% | Batch ID = 30 : 100%|██████████| 30/30 [00:05<00:00,  5.19it/s]\n"
     ]
    },
    {
     "name": "stdout",
     "output_type": "stream",
     "text": [
      "Training Cross-Entropy Loss = 1.9158\n",
      "Training Accuracy = 19.46%\n",
      "\n",
      "Epoch 338/512\n",
      "Training phase...\n"
     ]
    },
    {
     "name": "stderr",
     "output_type": "stream",
     "text": [
      "Loss = 1.9362  |  Accuracy = 19.63% | Batch ID = 30 : 100%|██████████| 30/30 [00:05<00:00,  5.30it/s]\n"
     ]
    },
    {
     "name": "stdout",
     "output_type": "stream",
     "text": [
      "Training Cross-Entropy Loss = 1.9194\n",
      "Training Accuracy = 19.63%\n",
      "\n",
      "Epoch 339/512\n",
      "Training phase...\n"
     ]
    },
    {
     "name": "stderr",
     "output_type": "stream",
     "text": [
      "Loss = 1.9565  |  Accuracy = 19.44% | Batch ID = 30 : 100%|██████████| 30/30 [00:05<00:00,  5.31it/s]\n"
     ]
    },
    {
     "name": "stdout",
     "output_type": "stream",
     "text": [
      "Training Cross-Entropy Loss = 1.9188\n",
      "Training Accuracy = 19.44%\n",
      "\n",
      "Epoch 340/512\n",
      "Training phase...\n"
     ]
    },
    {
     "name": "stderr",
     "output_type": "stream",
     "text": [
      "Loss = 1.8815  |  Accuracy = 19.63% | Batch ID = 30 : 100%|██████████| 30/30 [00:05<00:00,  5.17it/s]\n"
     ]
    },
    {
     "name": "stdout",
     "output_type": "stream",
     "text": [
      "Training Cross-Entropy Loss = 1.9155\n",
      "Training Accuracy = 19.63%\n",
      "\n",
      "Epoch 341/512\n",
      "Training phase...\n"
     ]
    },
    {
     "name": "stderr",
     "output_type": "stream",
     "text": [
      "Loss = 1.8938  |  Accuracy = 19.74% | Batch ID = 30 : 100%|██████████| 30/30 [00:05<00:00,  5.30it/s]\n"
     ]
    },
    {
     "name": "stdout",
     "output_type": "stream",
     "text": [
      "Training Cross-Entropy Loss = 1.9125\n",
      "Training Accuracy = 19.74%\n",
      "\n",
      "Epoch 342/512\n",
      "Training phase...\n"
     ]
    },
    {
     "name": "stderr",
     "output_type": "stream",
     "text": [
      "Loss = 1.9268  |  Accuracy = 19.59% | Batch ID = 30 : 100%|██████████| 30/30 [00:05<00:00,  5.31it/s]\n"
     ]
    },
    {
     "name": "stdout",
     "output_type": "stream",
     "text": [
      "Training Cross-Entropy Loss = 1.9166\n",
      "Training Accuracy = 19.59%\n",
      "\n",
      "Epoch 343/512\n",
      "Training phase...\n"
     ]
    },
    {
     "name": "stderr",
     "output_type": "stream",
     "text": [
      "Loss = 1.9221  |  Accuracy = 19.89% | Batch ID = 30 : 100%|██████████| 30/30 [00:05<00:00,  5.32it/s]\n"
     ]
    },
    {
     "name": "stdout",
     "output_type": "stream",
     "text": [
      "Training Cross-Entropy Loss = 1.9193\n",
      "Training Accuracy = 19.89%\n",
      "\n",
      "Epoch 344/512\n",
      "Training phase...\n"
     ]
    },
    {
     "name": "stderr",
     "output_type": "stream",
     "text": [
      "Loss = 1.8981  |  Accuracy = 19.61% | Batch ID = 30 : 100%|██████████| 30/30 [00:05<00:00,  5.22it/s]\n"
     ]
    },
    {
     "name": "stdout",
     "output_type": "stream",
     "text": [
      "Training Cross-Entropy Loss = 1.9178\n",
      "Training Accuracy = 19.61%\n",
      "\n",
      "Epoch 345/512\n",
      "Training phase...\n"
     ]
    },
    {
     "name": "stderr",
     "output_type": "stream",
     "text": [
      "Loss = 1.9309  |  Accuracy = 19.85% | Batch ID = 30 : 100%|██████████| 30/30 [00:05<00:00,  5.32it/s]\n"
     ]
    },
    {
     "name": "stdout",
     "output_type": "stream",
     "text": [
      "Training Cross-Entropy Loss = 1.9190\n",
      "Training Accuracy = 19.85%\n",
      "\n",
      "Epoch 346/512\n",
      "Training phase...\n"
     ]
    },
    {
     "name": "stderr",
     "output_type": "stream",
     "text": [
      "Loss = 1.9241  |  Accuracy = 19.76% | Batch ID = 30 : 100%|██████████| 30/30 [00:05<00:00,  5.34it/s]\n"
     ]
    },
    {
     "name": "stdout",
     "output_type": "stream",
     "text": [
      "Training Cross-Entropy Loss = 1.9184\n",
      "Training Accuracy = 19.76%\n",
      "\n",
      "Epoch 347/512\n",
      "Training phase...\n"
     ]
    },
    {
     "name": "stderr",
     "output_type": "stream",
     "text": [
      "Loss = 1.9000  |  Accuracy = 20.05% | Batch ID = 30 : 100%|██████████| 30/30 [00:05<00:00,  5.20it/s]\n"
     ]
    },
    {
     "name": "stdout",
     "output_type": "stream",
     "text": [
      "Training Cross-Entropy Loss = 1.9164\n",
      "Training Accuracy = 20.05%\n",
      "\n",
      "Epoch 348/512\n",
      "Training phase...\n"
     ]
    },
    {
     "name": "stderr",
     "output_type": "stream",
     "text": [
      "Loss = 1.9052  |  Accuracy = 19.99% | Batch ID = 30 : 100%|██████████| 30/30 [00:05<00:00,  5.32it/s]\n"
     ]
    },
    {
     "name": "stdout",
     "output_type": "stream",
     "text": [
      "Training Cross-Entropy Loss = 1.9189\n",
      "Training Accuracy = 19.99%\n",
      "\n",
      "Epoch 349/512\n",
      "Training phase...\n"
     ]
    },
    {
     "name": "stderr",
     "output_type": "stream",
     "text": [
      "Loss = 1.8905  |  Accuracy = 20.18% | Batch ID = 30 : 100%|██████████| 30/30 [00:05<00:00,  5.30it/s]\n"
     ]
    },
    {
     "name": "stdout",
     "output_type": "stream",
     "text": [
      "Training Cross-Entropy Loss = 1.9189\n",
      "Training Accuracy = 20.18%\n",
      "\n",
      "Epoch 350/512\n",
      "Training phase...\n"
     ]
    },
    {
     "name": "stderr",
     "output_type": "stream",
     "text": [
      "Loss = 1.9442  |  Accuracy = 19.82% | Batch ID = 30 : 100%|██████████| 30/30 [00:05<00:00,  5.33it/s]\n"
     ]
    },
    {
     "name": "stdout",
     "output_type": "stream",
     "text": [
      "Training Cross-Entropy Loss = 1.9208\n",
      "Training Accuracy = 19.82%\n",
      "\n",
      "Epoch 351/512\n",
      "Training phase...\n"
     ]
    },
    {
     "name": "stderr",
     "output_type": "stream",
     "text": [
      "Loss = 1.9110  |  Accuracy = 20.02% | Batch ID = 30 : 100%|██████████| 30/30 [00:05<00:00,  5.22it/s]\n"
     ]
    },
    {
     "name": "stdout",
     "output_type": "stream",
     "text": [
      "Training Cross-Entropy Loss = 1.9207\n",
      "Training Accuracy = 20.02%\n",
      "\n",
      "Epoch 352/512\n",
      "Training phase...\n"
     ]
    },
    {
     "name": "stderr",
     "output_type": "stream",
     "text": [
      "Loss = 1.9487  |  Accuracy = 19.93% | Batch ID = 30 : 100%|██████████| 30/30 [00:05<00:00,  5.32it/s]\n"
     ]
    },
    {
     "name": "stdout",
     "output_type": "stream",
     "text": [
      "Training Cross-Entropy Loss = 1.9259\n",
      "Training Accuracy = 19.93%\n",
      "\n",
      "Epoch 353/512\n",
      "Training phase...\n"
     ]
    },
    {
     "name": "stderr",
     "output_type": "stream",
     "text": [
      "Loss = 1.9306  |  Accuracy = 19.94% | Batch ID = 30 : 100%|██████████| 30/30 [00:05<00:00,  5.34it/s]\n"
     ]
    },
    {
     "name": "stdout",
     "output_type": "stream",
     "text": [
      "Training Cross-Entropy Loss = 1.9263\n",
      "Training Accuracy = 19.94%\n",
      "\n",
      "Epoch 354/512\n",
      "Training phase...\n"
     ]
    },
    {
     "name": "stderr",
     "output_type": "stream",
     "text": [
      "Loss = 1.9337  |  Accuracy = 20.13% | Batch ID = 30 : 100%|██████████| 30/30 [00:05<00:00,  5.32it/s]\n"
     ]
    },
    {
     "name": "stdout",
     "output_type": "stream",
     "text": [
      "Training Cross-Entropy Loss = 1.9185\n",
      "Training Accuracy = 20.13%\n",
      "\n",
      "Epoch 355/512\n",
      "Training phase...\n"
     ]
    },
    {
     "name": "stderr",
     "output_type": "stream",
     "text": [
      "Loss = 1.9223  |  Accuracy = 19.89% | Batch ID = 30 : 100%|██████████| 30/30 [00:05<00:00,  5.19it/s]\n"
     ]
    },
    {
     "name": "stdout",
     "output_type": "stream",
     "text": [
      "Training Cross-Entropy Loss = 1.9283\n",
      "Training Accuracy = 19.89%\n",
      "\n",
      "Epoch 356/512\n",
      "Training phase...\n"
     ]
    },
    {
     "name": "stderr",
     "output_type": "stream",
     "text": [
      "Loss = 1.9485  |  Accuracy = 20.28% | Batch ID = 30 : 100%|██████████| 30/30 [00:05<00:00,  5.32it/s]\n"
     ]
    },
    {
     "name": "stdout",
     "output_type": "stream",
     "text": [
      "Training Cross-Entropy Loss = 1.9323\n",
      "Training Accuracy = 20.28%\n",
      "\n",
      "Epoch 357/512\n",
      "Training phase...\n"
     ]
    },
    {
     "name": "stderr",
     "output_type": "stream",
     "text": [
      "Loss = 1.8896  |  Accuracy = 20.00% | Batch ID = 30 : 100%|██████████| 30/30 [00:05<00:00,  5.33it/s]\n"
     ]
    },
    {
     "name": "stdout",
     "output_type": "stream",
     "text": [
      "Training Cross-Entropy Loss = 1.9285\n",
      "Training Accuracy = 20.00%\n",
      "\n",
      "Epoch 358/512\n",
      "Training phase...\n"
     ]
    },
    {
     "name": "stderr",
     "output_type": "stream",
     "text": [
      "Loss = 1.9428  |  Accuracy = 20.36% | Batch ID = 30 : 100%|██████████| 30/30 [00:05<00:00,  5.32it/s]\n"
     ]
    },
    {
     "name": "stdout",
     "output_type": "stream",
     "text": [
      "Training Cross-Entropy Loss = 1.9337\n",
      "Training Accuracy = 20.36%\n",
      "\n",
      "Epoch 359/512\n",
      "Training phase...\n"
     ]
    },
    {
     "name": "stderr",
     "output_type": "stream",
     "text": [
      "Loss = 1.9253  |  Accuracy = 20.04% | Batch ID = 30 : 100%|██████████| 30/30 [00:05<00:00,  5.20it/s]\n"
     ]
    },
    {
     "name": "stdout",
     "output_type": "stream",
     "text": [
      "Training Cross-Entropy Loss = 1.9375\n",
      "Training Accuracy = 20.04%\n",
      "\n",
      "Epoch 360/512\n",
      "Training phase...\n"
     ]
    },
    {
     "name": "stderr",
     "output_type": "stream",
     "text": [
      "Loss = 1.9351  |  Accuracy = 19.94% | Batch ID = 30 : 100%|██████████| 30/30 [00:05<00:00,  5.32it/s]\n"
     ]
    },
    {
     "name": "stdout",
     "output_type": "stream",
     "text": [
      "Training Cross-Entropy Loss = 1.9390\n",
      "Training Accuracy = 19.94%\n",
      "\n",
      "Epoch 361/512\n",
      "Training phase...\n"
     ]
    },
    {
     "name": "stderr",
     "output_type": "stream",
     "text": [
      "Loss = 1.9475  |  Accuracy = 19.97% | Batch ID = 30 : 100%|██████████| 30/30 [00:05<00:00,  5.31it/s]\n"
     ]
    },
    {
     "name": "stdout",
     "output_type": "stream",
     "text": [
      "Training Cross-Entropy Loss = 1.9402\n",
      "Training Accuracy = 19.97%\n",
      "\n",
      "Epoch 362/512\n",
      "Training phase...\n"
     ]
    },
    {
     "name": "stderr",
     "output_type": "stream",
     "text": [
      "Loss = 1.9084  |  Accuracy = 20.10% | Batch ID = 30 : 100%|██████████| 30/30 [00:05<00:00,  5.15it/s]\n"
     ]
    },
    {
     "name": "stdout",
     "output_type": "stream",
     "text": [
      "Training Cross-Entropy Loss = 1.9349\n",
      "Training Accuracy = 20.10%\n",
      "\n",
      "Epoch 363/512\n",
      "Training phase...\n"
     ]
    },
    {
     "name": "stderr",
     "output_type": "stream",
     "text": [
      "Loss = 1.9123  |  Accuracy = 20.17% | Batch ID = 30 : 100%|██████████| 30/30 [00:05<00:00,  5.26it/s]\n"
     ]
    },
    {
     "name": "stdout",
     "output_type": "stream",
     "text": [
      "Training Cross-Entropy Loss = 1.9316\n",
      "Training Accuracy = 20.17%\n",
      "\n",
      "Epoch 364/512\n",
      "Training phase...\n"
     ]
    },
    {
     "name": "stderr",
     "output_type": "stream",
     "text": [
      "Loss = 1.9180  |  Accuracy = 20.30% | Batch ID = 30 : 100%|██████████| 30/30 [00:05<00:00,  5.29it/s]\n"
     ]
    },
    {
     "name": "stdout",
     "output_type": "stream",
     "text": [
      "Training Cross-Entropy Loss = 1.9310\n",
      "Training Accuracy = 20.30%\n",
      "\n",
      "Epoch 365/512\n",
      "Training phase...\n"
     ]
    },
    {
     "name": "stderr",
     "output_type": "stream",
     "text": [
      "Loss = 1.9785  |  Accuracy = 20.36% | Batch ID = 30 : 100%|██████████| 30/30 [00:05<00:00,  5.31it/s]\n"
     ]
    },
    {
     "name": "stdout",
     "output_type": "stream",
     "text": [
      "Training Cross-Entropy Loss = 1.9326\n",
      "Training Accuracy = 20.36%\n",
      "\n",
      "Epoch 366/512\n",
      "Training phase...\n"
     ]
    },
    {
     "name": "stderr",
     "output_type": "stream",
     "text": [
      "Loss = 1.8981  |  Accuracy = 20.40% | Batch ID = 30 : 100%|██████████| 30/30 [00:05<00:00,  5.20it/s]\n"
     ]
    },
    {
     "name": "stdout",
     "output_type": "stream",
     "text": [
      "Training Cross-Entropy Loss = 1.9197\n",
      "Training Accuracy = 20.40%\n",
      "\n",
      "Epoch 367/512\n",
      "Training phase...\n"
     ]
    },
    {
     "name": "stderr",
     "output_type": "stream",
     "text": [
      "Loss = 1.9532  |  Accuracy = 20.52% | Batch ID = 30 : 100%|██████████| 30/30 [00:05<00:00,  5.30it/s]\n"
     ]
    },
    {
     "name": "stdout",
     "output_type": "stream",
     "text": [
      "Training Cross-Entropy Loss = 1.9227\n",
      "Training Accuracy = 20.52%\n",
      "\n",
      "Epoch 368/512\n",
      "Training phase...\n"
     ]
    },
    {
     "name": "stderr",
     "output_type": "stream",
     "text": [
      "Loss = 1.9052  |  Accuracy = 20.52% | Batch ID = 30 : 100%|██████████| 30/30 [00:05<00:00,  5.31it/s]\n"
     ]
    },
    {
     "name": "stdout",
     "output_type": "stream",
     "text": [
      "Training Cross-Entropy Loss = 1.9240\n",
      "Training Accuracy = 20.52%\n",
      "\n",
      "Epoch 369/512\n",
      "Training phase...\n"
     ]
    },
    {
     "name": "stderr",
     "output_type": "stream",
     "text": [
      "Loss = 1.9114  |  Accuracy = 20.28% | Batch ID = 30 : 100%|██████████| 30/30 [00:05<00:00,  5.20it/s]\n"
     ]
    },
    {
     "name": "stdout",
     "output_type": "stream",
     "text": [
      "Training Cross-Entropy Loss = 1.9316\n",
      "Training Accuracy = 20.28%\n",
      "\n",
      "Epoch 370/512\n",
      "Training phase...\n"
     ]
    },
    {
     "name": "stderr",
     "output_type": "stream",
     "text": [
      "Loss = 1.9355  |  Accuracy = 20.73% | Batch ID = 30 : 100%|██████████| 30/30 [00:05<00:00,  5.32it/s]\n"
     ]
    },
    {
     "name": "stdout",
     "output_type": "stream",
     "text": [
      "Training Cross-Entropy Loss = 1.9317\n",
      "Training Accuracy = 20.73%\n",
      "\n",
      "Epoch 371/512\n",
      "Training phase...\n"
     ]
    },
    {
     "name": "stderr",
     "output_type": "stream",
     "text": [
      "Loss = 1.9340  |  Accuracy = 20.64% | Batch ID = 30 : 100%|██████████| 30/30 [00:05<00:00,  5.29it/s]\n"
     ]
    },
    {
     "name": "stdout",
     "output_type": "stream",
     "text": [
      "Training Cross-Entropy Loss = 1.9314\n",
      "Training Accuracy = 20.64%\n",
      "\n",
      "Epoch 372/512\n",
      "Training phase...\n"
     ]
    },
    {
     "name": "stderr",
     "output_type": "stream",
     "text": [
      "Loss = 1.9252  |  Accuracy = 20.57% | Batch ID = 30 : 100%|██████████| 30/30 [00:05<00:00,  5.32it/s]\n"
     ]
    },
    {
     "name": "stdout",
     "output_type": "stream",
     "text": [
      "Training Cross-Entropy Loss = 1.9295\n",
      "Training Accuracy = 20.57%\n",
      "\n",
      "Epoch 373/512\n",
      "Training phase...\n"
     ]
    },
    {
     "name": "stderr",
     "output_type": "stream",
     "text": [
      "Loss = 1.9493  |  Accuracy = 20.41% | Batch ID = 30 : 100%|██████████| 30/30 [00:05<00:00,  5.19it/s]\n"
     ]
    },
    {
     "name": "stdout",
     "output_type": "stream",
     "text": [
      "Training Cross-Entropy Loss = 1.9350\n",
      "Training Accuracy = 20.41%\n",
      "\n",
      "Epoch 374/512\n",
      "Training phase...\n"
     ]
    },
    {
     "name": "stderr",
     "output_type": "stream",
     "text": [
      "Loss = 1.9980  |  Accuracy = 20.59% | Batch ID = 30 : 100%|██████████| 30/30 [00:05<00:00,  5.31it/s]\n"
     ]
    },
    {
     "name": "stdout",
     "output_type": "stream",
     "text": [
      "Training Cross-Entropy Loss = 1.9316\n",
      "Training Accuracy = 20.59%\n",
      "\n",
      "Epoch 375/512\n",
      "Training phase...\n"
     ]
    },
    {
     "name": "stderr",
     "output_type": "stream",
     "text": [
      "Loss = 1.9787  |  Accuracy = 20.63% | Batch ID = 30 : 100%|██████████| 30/30 [00:05<00:00,  5.30it/s]\n"
     ]
    },
    {
     "name": "stdout",
     "output_type": "stream",
     "text": [
      "Training Cross-Entropy Loss = 1.9364\n",
      "Training Accuracy = 20.63%\n",
      "\n",
      "Epoch 376/512\n",
      "Training phase...\n"
     ]
    },
    {
     "name": "stderr",
     "output_type": "stream",
     "text": [
      "Loss = 1.9742  |  Accuracy = 20.56% | Batch ID = 30 : 100%|██████████| 30/30 [00:05<00:00,  5.29it/s]\n"
     ]
    },
    {
     "name": "stdout",
     "output_type": "stream",
     "text": [
      "Training Cross-Entropy Loss = 1.9389\n",
      "Training Accuracy = 20.56%\n",
      "\n",
      "Epoch 377/512\n",
      "Training phase...\n"
     ]
    },
    {
     "name": "stderr",
     "output_type": "stream",
     "text": [
      "Loss = 1.9149  |  Accuracy = 20.53% | Batch ID = 30 : 100%|██████████| 30/30 [00:05<00:00,  5.17it/s]\n"
     ]
    },
    {
     "name": "stdout",
     "output_type": "stream",
     "text": [
      "Training Cross-Entropy Loss = 1.9370\n",
      "Training Accuracy = 20.53%\n",
      "\n",
      "Epoch 378/512\n",
      "Training phase...\n"
     ]
    },
    {
     "name": "stderr",
     "output_type": "stream",
     "text": [
      "Loss = 1.9179  |  Accuracy = 20.92% | Batch ID = 30 : 100%|██████████| 30/30 [00:05<00:00,  5.27it/s]\n"
     ]
    },
    {
     "name": "stdout",
     "output_type": "stream",
     "text": [
      "Training Cross-Entropy Loss = 1.9407\n",
      "Training Accuracy = 20.92%\n",
      "\n",
      "Epoch 379/512\n",
      "Training phase...\n"
     ]
    },
    {
     "name": "stderr",
     "output_type": "stream",
     "text": [
      "Loss = 1.9190  |  Accuracy = 20.59% | Batch ID = 30 : 100%|██████████| 30/30 [00:05<00:00,  5.30it/s]\n"
     ]
    },
    {
     "name": "stdout",
     "output_type": "stream",
     "text": [
      "Training Cross-Entropy Loss = 1.9465\n",
      "Training Accuracy = 20.59%\n",
      "\n",
      "Epoch 380/512\n",
      "Training phase...\n"
     ]
    },
    {
     "name": "stderr",
     "output_type": "stream",
     "text": [
      "Loss = 1.9079  |  Accuracy = 20.57% | Batch ID = 30 : 100%|██████████| 30/30 [00:05<00:00,  5.30it/s]\n"
     ]
    },
    {
     "name": "stdout",
     "output_type": "stream",
     "text": [
      "Training Cross-Entropy Loss = 1.9525\n",
      "Training Accuracy = 20.57%\n",
      "\n",
      "Epoch 381/512\n",
      "Training phase...\n"
     ]
    },
    {
     "name": "stderr",
     "output_type": "stream",
     "text": [
      "Loss = 1.9498  |  Accuracy = 20.46% | Batch ID = 30 : 100%|██████████| 30/30 [00:05<00:00,  5.19it/s]\n"
     ]
    },
    {
     "name": "stdout",
     "output_type": "stream",
     "text": [
      "Training Cross-Entropy Loss = 1.9549\n",
      "Training Accuracy = 20.46%\n",
      "\n",
      "Epoch 382/512\n",
      "Training phase...\n"
     ]
    },
    {
     "name": "stderr",
     "output_type": "stream",
     "text": [
      "Loss = 1.9487  |  Accuracy = 20.36% | Batch ID = 30 : 100%|██████████| 30/30 [00:05<00:00,  5.29it/s]\n"
     ]
    },
    {
     "name": "stdout",
     "output_type": "stream",
     "text": [
      "Training Cross-Entropy Loss = 1.9585\n",
      "Training Accuracy = 20.36%\n",
      "\n",
      "Epoch 383/512\n",
      "Training phase...\n"
     ]
    },
    {
     "name": "stderr",
     "output_type": "stream",
     "text": [
      "Loss = 1.9882  |  Accuracy = 20.45% | Batch ID = 30 : 100%|██████████| 30/30 [00:05<00:00,  5.30it/s]\n"
     ]
    },
    {
     "name": "stdout",
     "output_type": "stream",
     "text": [
      "Training Cross-Entropy Loss = 1.9605\n",
      "Training Accuracy = 20.45%\n",
      "\n",
      "Epoch 384/512\n",
      "Training phase...\n"
     ]
    },
    {
     "name": "stderr",
     "output_type": "stream",
     "text": [
      "Loss = 1.9866  |  Accuracy = 20.39% | Batch ID = 30 : 100%|██████████| 30/30 [00:05<00:00,  5.13it/s]\n"
     ]
    },
    {
     "name": "stdout",
     "output_type": "stream",
     "text": [
      "Training Cross-Entropy Loss = 1.9564\n",
      "Training Accuracy = 20.39%\n",
      "\n",
      "Epoch 385/512\n",
      "Training phase...\n"
     ]
    },
    {
     "name": "stderr",
     "output_type": "stream",
     "text": [
      "Loss = 1.9429  |  Accuracy = 20.51% | Batch ID = 30 : 100%|██████████| 30/30 [00:05<00:00,  5.19it/s]\n"
     ]
    },
    {
     "name": "stdout",
     "output_type": "stream",
     "text": [
      "Training Cross-Entropy Loss = 1.9562\n",
      "Training Accuracy = 20.51%\n",
      "\n",
      "Epoch 386/512\n",
      "Training phase...\n"
     ]
    },
    {
     "name": "stderr",
     "output_type": "stream",
     "text": [
      "Loss = 1.9356  |  Accuracy = 20.54% | Batch ID = 30 : 100%|██████████| 30/30 [00:05<00:00,  5.28it/s]\n"
     ]
    },
    {
     "name": "stdout",
     "output_type": "stream",
     "text": [
      "Training Cross-Entropy Loss = 1.9551\n",
      "Training Accuracy = 20.54%\n",
      "\n",
      "Epoch 387/512\n",
      "Training phase...\n"
     ]
    },
    {
     "name": "stderr",
     "output_type": "stream",
     "text": [
      "Loss = 1.9280  |  Accuracy = 20.64% | Batch ID = 30 : 100%|██████████| 30/30 [00:05<00:00,  5.31it/s]\n"
     ]
    },
    {
     "name": "stdout",
     "output_type": "stream",
     "text": [
      "Training Cross-Entropy Loss = 1.9557\n",
      "Training Accuracy = 20.64%\n",
      "\n",
      "Epoch 388/512\n",
      "Training phase...\n"
     ]
    },
    {
     "name": "stderr",
     "output_type": "stream",
     "text": [
      "Loss = 1.9667  |  Accuracy = 20.54% | Batch ID = 30 : 100%|██████████| 30/30 [00:05<00:00,  5.20it/s]\n"
     ]
    },
    {
     "name": "stdout",
     "output_type": "stream",
     "text": [
      "Training Cross-Entropy Loss = 1.9642\n",
      "Training Accuracy = 20.54%\n",
      "\n",
      "Epoch 389/512\n",
      "Training phase...\n"
     ]
    },
    {
     "name": "stderr",
     "output_type": "stream",
     "text": [
      "Loss = 1.9921  |  Accuracy = 20.57% | Batch ID = 30 : 100%|██████████| 30/30 [00:05<00:00,  5.30it/s]\n"
     ]
    },
    {
     "name": "stdout",
     "output_type": "stream",
     "text": [
      "Training Cross-Entropy Loss = 1.9662\n",
      "Training Accuracy = 20.57%\n",
      "\n",
      "Epoch 390/512\n",
      "Training phase...\n"
     ]
    },
    {
     "name": "stderr",
     "output_type": "stream",
     "text": [
      "Loss = 1.9393  |  Accuracy = 20.30% | Batch ID = 30 : 100%|██████████| 30/30 [00:05<00:00,  5.31it/s]\n"
     ]
    },
    {
     "name": "stdout",
     "output_type": "stream",
     "text": [
      "Training Cross-Entropy Loss = 1.9614\n",
      "Training Accuracy = 20.30%\n",
      "\n",
      "Epoch 391/512\n",
      "Training phase...\n"
     ]
    },
    {
     "name": "stderr",
     "output_type": "stream",
     "text": [
      "Loss = 1.9459  |  Accuracy = 20.75% | Batch ID = 30 : 100%|██████████| 30/30 [00:05<00:00,  5.18it/s]\n"
     ]
    },
    {
     "name": "stdout",
     "output_type": "stream",
     "text": [
      "Training Cross-Entropy Loss = 1.9673\n",
      "Training Accuracy = 20.75%\n",
      "\n",
      "Epoch 392/512\n",
      "Training phase...\n"
     ]
    },
    {
     "name": "stderr",
     "output_type": "stream",
     "text": [
      "Loss = 1.9645  |  Accuracy = 20.29% | Batch ID = 30 : 100%|██████████| 30/30 [00:05<00:00,  5.31it/s]\n"
     ]
    },
    {
     "name": "stdout",
     "output_type": "stream",
     "text": [
      "Training Cross-Entropy Loss = 1.9712\n",
      "Training Accuracy = 20.29%\n",
      "\n",
      "Epoch 393/512\n",
      "Training phase...\n"
     ]
    },
    {
     "name": "stderr",
     "output_type": "stream",
     "text": [
      "Loss = 1.9746  |  Accuracy = 20.30% | Batch ID = 30 : 100%|██████████| 30/30 [00:05<00:00,  5.28it/s]\n"
     ]
    },
    {
     "name": "stdout",
     "output_type": "stream",
     "text": [
      "Training Cross-Entropy Loss = 1.9757\n",
      "Training Accuracy = 20.30%\n",
      "\n",
      "Epoch 394/512\n",
      "Training phase...\n"
     ]
    },
    {
     "name": "stderr",
     "output_type": "stream",
     "text": [
      "Loss = 1.9597  |  Accuracy = 20.22% | Batch ID = 30 : 100%|██████████| 30/30 [00:05<00:00,  5.29it/s]\n"
     ]
    },
    {
     "name": "stdout",
     "output_type": "stream",
     "text": [
      "Training Cross-Entropy Loss = 1.9789\n",
      "Training Accuracy = 20.22%\n",
      "\n",
      "Epoch 395/512\n",
      "Training phase...\n"
     ]
    },
    {
     "name": "stderr",
     "output_type": "stream",
     "text": [
      "Loss = 2.1197  |  Accuracy = 19.25% | Batch ID = 30 : 100%|██████████| 30/30 [00:05<00:00,  5.21it/s]\n"
     ]
    },
    {
     "name": "stdout",
     "output_type": "stream",
     "text": [
      "Training Cross-Entropy Loss = 2.1728\n",
      "Training Accuracy = 19.25%\n",
      "\n",
      "Epoch 396/512\n",
      "Training phase...\n"
     ]
    },
    {
     "name": "stderr",
     "output_type": "stream",
     "text": [
      "Loss = 2.0204  |  Accuracy = 18.65% | Batch ID = 30 : 100%|██████████| 30/30 [00:05<00:00,  5.30it/s]\n"
     ]
    },
    {
     "name": "stdout",
     "output_type": "stream",
     "text": [
      "Training Cross-Entropy Loss = 2.0897\n",
      "Training Accuracy = 18.65%\n",
      "\n",
      "Epoch 397/512\n",
      "Training phase...\n"
     ]
    },
    {
     "name": "stderr",
     "output_type": "stream",
     "text": [
      "Loss = 1.9968  |  Accuracy = 19.85% | Batch ID = 30 : 100%|██████████| 30/30 [00:05<00:00,  5.31it/s]\n"
     ]
    },
    {
     "name": "stdout",
     "output_type": "stream",
     "text": [
      "Training Cross-Entropy Loss = 2.0345\n",
      "Training Accuracy = 19.85%\n",
      "\n",
      "Epoch 398/512\n",
      "Training phase...\n"
     ]
    },
    {
     "name": "stderr",
     "output_type": "stream",
     "text": [
      "Loss = 2.0286  |  Accuracy = 20.67% | Batch ID = 30 : 100%|██████████| 30/30 [00:05<00:00,  5.18it/s]\n"
     ]
    },
    {
     "name": "stdout",
     "output_type": "stream",
     "text": [
      "Training Cross-Entropy Loss = 2.0190\n",
      "Training Accuracy = 20.67%\n",
      "\n",
      "Epoch 399/512\n",
      "Training phase...\n"
     ]
    },
    {
     "name": "stderr",
     "output_type": "stream",
     "text": [
      "Loss = 1.9981  |  Accuracy = 20.74% | Batch ID = 30 : 100%|██████████| 30/30 [00:05<00:00,  5.31it/s]\n"
     ]
    },
    {
     "name": "stdout",
     "output_type": "stream",
     "text": [
      "Training Cross-Entropy Loss = 2.0138\n",
      "Training Accuracy = 20.74%\n",
      "\n",
      "Epoch 400/512\n",
      "Training phase...\n"
     ]
    },
    {
     "name": "stderr",
     "output_type": "stream",
     "text": [
      "Loss = 1.9832  |  Accuracy = 20.81% | Batch ID = 30 : 100%|██████████| 30/30 [00:05<00:00,  5.29it/s]\n"
     ]
    },
    {
     "name": "stdout",
     "output_type": "stream",
     "text": [
      "Training Cross-Entropy Loss = 2.0067\n",
      "Training Accuracy = 20.81%\n",
      "\n",
      "Epoch 401/512\n",
      "Training phase...\n"
     ]
    },
    {
     "name": "stderr",
     "output_type": "stream",
     "text": [
      "Loss = 2.0037  |  Accuracy = 21.24% | Batch ID = 30 : 100%|██████████| 30/30 [00:05<00:00,  5.32it/s]\n"
     ]
    },
    {
     "name": "stdout",
     "output_type": "stream",
     "text": [
      "Training Cross-Entropy Loss = 2.0044\n",
      "Training Accuracy = 21.24%\n",
      "\n",
      "Epoch 402/512\n",
      "Training phase...\n"
     ]
    },
    {
     "name": "stderr",
     "output_type": "stream",
     "text": [
      "Loss = 2.0480  |  Accuracy = 21.29% | Batch ID = 30 : 100%|██████████| 30/30 [00:05<00:00,  5.29it/s]\n"
     ]
    },
    {
     "name": "stdout",
     "output_type": "stream",
     "text": [
      "Training Cross-Entropy Loss = 2.0004\n",
      "Training Accuracy = 21.29%\n",
      "\n",
      "Epoch 403/512\n",
      "Training phase...\n"
     ]
    },
    {
     "name": "stderr",
     "output_type": "stream",
     "text": [
      "Loss = 2.0319  |  Accuracy = 19.91% | Batch ID = 30 : 100%|██████████| 30/30 [00:05<00:00,  5.18it/s]\n"
     ]
    },
    {
     "name": "stdout",
     "output_type": "stream",
     "text": [
      "Training Cross-Entropy Loss = 2.0312\n",
      "Training Accuracy = 19.91%\n",
      "\n",
      "Epoch 404/512\n",
      "Training phase...\n"
     ]
    },
    {
     "name": "stderr",
     "output_type": "stream",
     "text": [
      "Loss = 2.0253  |  Accuracy = 20.09% | Batch ID = 30 : 100%|██████████| 30/30 [00:05<00:00,  5.31it/s]\n"
     ]
    },
    {
     "name": "stdout",
     "output_type": "stream",
     "text": [
      "Training Cross-Entropy Loss = 2.0274\n",
      "Training Accuracy = 20.09%\n",
      "\n",
      "Epoch 405/512\n",
      "Training phase...\n"
     ]
    },
    {
     "name": "stderr",
     "output_type": "stream",
     "text": [
      "Loss = 2.0425  |  Accuracy = 20.16% | Batch ID = 30 : 100%|██████████| 30/30 [00:05<00:00,  5.21it/s]\n"
     ]
    },
    {
     "name": "stdout",
     "output_type": "stream",
     "text": [
      "Training Cross-Entropy Loss = 2.0385\n",
      "Training Accuracy = 20.16%\n",
      "\n",
      "Epoch 406/512\n",
      "Training phase...\n"
     ]
    },
    {
     "name": "stderr",
     "output_type": "stream",
     "text": [
      "Loss = 2.0729  |  Accuracy = 20.73% | Batch ID = 30 : 100%|██████████| 30/30 [00:05<00:00,  5.30it/s]\n"
     ]
    },
    {
     "name": "stdout",
     "output_type": "stream",
     "text": [
      "Training Cross-Entropy Loss = 2.0357\n",
      "Training Accuracy = 20.73%\n",
      "\n",
      "Epoch 407/512\n",
      "Training phase...\n"
     ]
    },
    {
     "name": "stderr",
     "output_type": "stream",
     "text": [
      "Loss = 1.9863  |  Accuracy = 20.36% | Batch ID = 30 : 100%|██████████| 30/30 [00:05<00:00,  5.32it/s]\n"
     ]
    },
    {
     "name": "stdout",
     "output_type": "stream",
     "text": [
      "Training Cross-Entropy Loss = 2.0394\n",
      "Training Accuracy = 20.36%\n",
      "\n",
      "Epoch 408/512\n",
      "Training phase...\n"
     ]
    },
    {
     "name": "stderr",
     "output_type": "stream",
     "text": [
      "Loss = 2.0049  |  Accuracy = 20.66% | Batch ID = 30 : 100%|██████████| 30/30 [00:05<00:00,  5.31it/s]\n"
     ]
    },
    {
     "name": "stdout",
     "output_type": "stream",
     "text": [
      "Training Cross-Entropy Loss = 2.0251\n",
      "Training Accuracy = 20.66%\n",
      "\n",
      "Epoch 409/512\n",
      "Training phase...\n"
     ]
    },
    {
     "name": "stderr",
     "output_type": "stream",
     "text": [
      "Loss = 2.0150  |  Accuracy = 20.43% | Batch ID = 30 : 100%|██████████| 30/30 [00:05<00:00,  5.33it/s]\n"
     ]
    },
    {
     "name": "stdout",
     "output_type": "stream",
     "text": [
      "Training Cross-Entropy Loss = 1.9992\n",
      "Training Accuracy = 20.43%\n",
      "\n",
      "Epoch 410/512\n",
      "Training phase...\n"
     ]
    },
    {
     "name": "stderr",
     "output_type": "stream",
     "text": [
      "Loss = 1.9668  |  Accuracy = 20.07% | Batch ID = 30 : 100%|██████████| 30/30 [00:05<00:00,  5.19it/s]\n"
     ]
    },
    {
     "name": "stdout",
     "output_type": "stream",
     "text": [
      "Training Cross-Entropy Loss = 1.9836\n",
      "Training Accuracy = 20.07%\n",
      "\n",
      "Epoch 411/512\n",
      "Training phase...\n"
     ]
    },
    {
     "name": "stderr",
     "output_type": "stream",
     "text": [
      "Loss = 1.9256  |  Accuracy = 20.60% | Batch ID = 30 : 100%|██████████| 30/30 [00:05<00:00,  5.32it/s]\n"
     ]
    },
    {
     "name": "stdout",
     "output_type": "stream",
     "text": [
      "Training Cross-Entropy Loss = 1.9740\n",
      "Training Accuracy = 20.60%\n",
      "\n",
      "Epoch 412/512\n",
      "Training phase...\n"
     ]
    },
    {
     "name": "stderr",
     "output_type": "stream",
     "text": [
      "Loss = 1.9517  |  Accuracy = 20.88% | Batch ID = 30 : 100%|██████████| 30/30 [00:05<00:00,  5.32it/s]\n"
     ]
    },
    {
     "name": "stdout",
     "output_type": "stream",
     "text": [
      "Training Cross-Entropy Loss = 1.9728\n",
      "Training Accuracy = 20.88%\n",
      "\n",
      "Epoch 413/512\n",
      "Training phase...\n"
     ]
    },
    {
     "name": "stderr",
     "output_type": "stream",
     "text": [
      "Loss = 1.9645  |  Accuracy = 20.68% | Batch ID = 30 : 100%|██████████| 30/30 [00:05<00:00,  5.20it/s]\n"
     ]
    },
    {
     "name": "stdout",
     "output_type": "stream",
     "text": [
      "Training Cross-Entropy Loss = 1.9696\n",
      "Training Accuracy = 20.68%\n",
      "\n",
      "Epoch 414/512\n",
      "Training phase...\n"
     ]
    },
    {
     "name": "stderr",
     "output_type": "stream",
     "text": [
      "Loss = 1.9486  |  Accuracy = 20.95% | Batch ID = 30 : 100%|██████████| 30/30 [00:05<00:00,  5.30it/s]\n"
     ]
    },
    {
     "name": "stdout",
     "output_type": "stream",
     "text": [
      "Training Cross-Entropy Loss = 1.9694\n",
      "Training Accuracy = 20.95%\n",
      "\n",
      "Epoch 415/512\n",
      "Training phase...\n"
     ]
    },
    {
     "name": "stderr",
     "output_type": "stream",
     "text": [
      "Loss = 1.9850  |  Accuracy = 20.80% | Batch ID = 30 : 100%|██████████| 30/30 [00:05<00:00,  5.28it/s]\n"
     ]
    },
    {
     "name": "stdout",
     "output_type": "stream",
     "text": [
      "Training Cross-Entropy Loss = 1.9699\n",
      "Training Accuracy = 20.80%\n",
      "\n",
      "Epoch 416/512\n",
      "Training phase...\n"
     ]
    },
    {
     "name": "stderr",
     "output_type": "stream",
     "text": [
      "Loss = 2.0194  |  Accuracy = 20.09% | Batch ID = 30 : 100%|██████████| 30/30 [00:05<00:00,  5.29it/s]\n"
     ]
    },
    {
     "name": "stdout",
     "output_type": "stream",
     "text": [
      "Training Cross-Entropy Loss = 2.0414\n",
      "Training Accuracy = 20.09%\n",
      "\n",
      "Epoch 417/512\n",
      "Training phase...\n"
     ]
    },
    {
     "name": "stderr",
     "output_type": "stream",
     "text": [
      "Loss = 1.9830  |  Accuracy = 19.93% | Batch ID = 30 : 100%|██████████| 30/30 [00:05<00:00,  5.19it/s]\n"
     ]
    },
    {
     "name": "stdout",
     "output_type": "stream",
     "text": [
      "Training Cross-Entropy Loss = 1.9908\n",
      "Training Accuracy = 19.93%\n",
      "\n",
      "Epoch 418/512\n",
      "Training phase...\n"
     ]
    },
    {
     "name": "stderr",
     "output_type": "stream",
     "text": [
      "Loss = 1.9181  |  Accuracy = 19.65% | Batch ID = 30 : 100%|██████████| 30/30 [00:05<00:00,  5.32it/s]\n"
     ]
    },
    {
     "name": "stdout",
     "output_type": "stream",
     "text": [
      "Training Cross-Entropy Loss = 1.9754\n",
      "Training Accuracy = 19.65%\n",
      "\n",
      "Epoch 419/512\n",
      "Training phase...\n"
     ]
    },
    {
     "name": "stderr",
     "output_type": "stream",
     "text": [
      "Loss = 1.9687  |  Accuracy = 20.06% | Batch ID = 30 : 100%|██████████| 30/30 [00:05<00:00,  5.32it/s]\n"
     ]
    },
    {
     "name": "stdout",
     "output_type": "stream",
     "text": [
      "Training Cross-Entropy Loss = 1.9774\n",
      "Training Accuracy = 20.06%\n",
      "\n",
      "Epoch 420/512\n",
      "Training phase...\n"
     ]
    },
    {
     "name": "stderr",
     "output_type": "stream",
     "text": [
      "Loss = 2.0310  |  Accuracy = 19.16% | Batch ID = 30 : 100%|██████████| 30/30 [00:05<00:00,  5.19it/s]\n"
     ]
    },
    {
     "name": "stdout",
     "output_type": "stream",
     "text": [
      "Training Cross-Entropy Loss = 2.0056\n",
      "Training Accuracy = 19.16%\n",
      "\n",
      "Epoch 421/512\n",
      "Training phase...\n"
     ]
    },
    {
     "name": "stderr",
     "output_type": "stream",
     "text": [
      "Loss = 1.9585  |  Accuracy = 19.36% | Batch ID = 30 : 100%|██████████| 30/30 [00:05<00:00,  5.31it/s]\n"
     ]
    },
    {
     "name": "stdout",
     "output_type": "stream",
     "text": [
      "Training Cross-Entropy Loss = 1.9928\n",
      "Training Accuracy = 19.36%\n",
      "\n",
      "Epoch 422/512\n",
      "Training phase...\n"
     ]
    },
    {
     "name": "stderr",
     "output_type": "stream",
     "text": [
      "Loss = 1.9395  |  Accuracy = 20.61% | Batch ID = 30 : 100%|██████████| 30/30 [00:05<00:00,  5.30it/s]\n"
     ]
    },
    {
     "name": "stdout",
     "output_type": "stream",
     "text": [
      "Training Cross-Entropy Loss = 1.9532\n",
      "Training Accuracy = 20.61%\n",
      "\n",
      "Epoch 423/512\n",
      "Training phase...\n"
     ]
    },
    {
     "name": "stderr",
     "output_type": "stream",
     "text": [
      "Loss = 1.9259  |  Accuracy = 20.52% | Batch ID = 30 : 100%|██████████| 30/30 [00:05<00:00,  5.30it/s]\n"
     ]
    },
    {
     "name": "stdout",
     "output_type": "stream",
     "text": [
      "Training Cross-Entropy Loss = 1.9503\n",
      "Training Accuracy = 20.52%\n",
      "\n",
      "Epoch 424/512\n",
      "Training phase...\n"
     ]
    },
    {
     "name": "stderr",
     "output_type": "stream",
     "text": [
      "Loss = 1.9122  |  Accuracy = 20.42% | Batch ID = 30 : 100%|██████████| 30/30 [00:05<00:00,  5.19it/s]\n"
     ]
    },
    {
     "name": "stdout",
     "output_type": "stream",
     "text": [
      "Training Cross-Entropy Loss = 1.9539\n",
      "Training Accuracy = 20.42%\n",
      "\n",
      "Epoch 425/512\n",
      "Training phase...\n"
     ]
    },
    {
     "name": "stderr",
     "output_type": "stream",
     "text": [
      "Loss = 1.9440  |  Accuracy = 20.60% | Batch ID = 30 : 100%|██████████| 30/30 [00:05<00:00,  5.31it/s]\n"
     ]
    },
    {
     "name": "stdout",
     "output_type": "stream",
     "text": [
      "Training Cross-Entropy Loss = 1.9505\n",
      "Training Accuracy = 20.60%\n",
      "\n",
      "Epoch 426/512\n",
      "Training phase...\n"
     ]
    },
    {
     "name": "stderr",
     "output_type": "stream",
     "text": [
      "Loss = 1.9527  |  Accuracy = 20.33% | Batch ID = 30 : 100%|██████████| 30/30 [00:05<00:00,  5.32it/s]\n"
     ]
    },
    {
     "name": "stdout",
     "output_type": "stream",
     "text": [
      "Training Cross-Entropy Loss = 1.9543\n",
      "Training Accuracy = 20.33%\n",
      "\n",
      "Epoch 427/512\n",
      "Training phase...\n"
     ]
    },
    {
     "name": "stderr",
     "output_type": "stream",
     "text": [
      "Loss = 1.9343  |  Accuracy = 20.83% | Batch ID = 30 : 100%|██████████| 30/30 [00:05<00:00,  5.20it/s]\n"
     ]
    },
    {
     "name": "stdout",
     "output_type": "stream",
     "text": [
      "Training Cross-Entropy Loss = 1.9507\n",
      "Training Accuracy = 20.83%\n",
      "\n",
      "Epoch 428/512\n",
      "Training phase...\n"
     ]
    },
    {
     "name": "stderr",
     "output_type": "stream",
     "text": [
      "Loss = 1.9075  |  Accuracy = 20.52% | Batch ID = 30 : 100%|██████████| 30/30 [00:05<00:00,  5.34it/s]\n"
     ]
    },
    {
     "name": "stdout",
     "output_type": "stream",
     "text": [
      "Training Cross-Entropy Loss = 1.9489\n",
      "Training Accuracy = 20.52%\n",
      "\n",
      "Epoch 429/512\n",
      "Training phase...\n"
     ]
    },
    {
     "name": "stderr",
     "output_type": "stream",
     "text": [
      "Loss = 1.9462  |  Accuracy = 20.75% | Batch ID = 30 : 100%|██████████| 30/30 [00:05<00:00,  5.31it/s]\n"
     ]
    },
    {
     "name": "stdout",
     "output_type": "stream",
     "text": [
      "Training Cross-Entropy Loss = 1.9494\n",
      "Training Accuracy = 20.75%\n",
      "\n",
      "Epoch 430/512\n",
      "Training phase...\n"
     ]
    },
    {
     "name": "stderr",
     "output_type": "stream",
     "text": [
      "Loss = 1.9458  |  Accuracy = 20.73% | Batch ID = 30 : 100%|██████████| 30/30 [00:05<00:00,  5.31it/s]\n"
     ]
    },
    {
     "name": "stdout",
     "output_type": "stream",
     "text": [
      "Training Cross-Entropy Loss = 1.9554\n",
      "Training Accuracy = 20.73%\n",
      "\n",
      "Epoch 431/512\n",
      "Training phase...\n"
     ]
    },
    {
     "name": "stderr",
     "output_type": "stream",
     "text": [
      "Loss = 1.9727  |  Accuracy = 20.57% | Batch ID = 30 : 100%|██████████| 30/30 [00:05<00:00,  5.31it/s]\n"
     ]
    },
    {
     "name": "stdout",
     "output_type": "stream",
     "text": [
      "Training Cross-Entropy Loss = 1.9527\n",
      "Training Accuracy = 20.57%\n",
      "\n",
      "Epoch 432/512\n",
      "Training phase...\n"
     ]
    },
    {
     "name": "stderr",
     "output_type": "stream",
     "text": [
      "Loss = 1.9287  |  Accuracy = 20.87% | Batch ID = 30 : 100%|██████████| 30/30 [00:05<00:00,  5.20it/s]\n"
     ]
    },
    {
     "name": "stdout",
     "output_type": "stream",
     "text": [
      "Training Cross-Entropy Loss = 1.9515\n",
      "Training Accuracy = 20.87%\n",
      "\n",
      "Epoch 433/512\n",
      "Training phase...\n"
     ]
    },
    {
     "name": "stderr",
     "output_type": "stream",
     "text": [
      "Loss = 1.9402  |  Accuracy = 20.70% | Batch ID = 30 : 100%|██████████| 30/30 [00:05<00:00,  5.32it/s]\n"
     ]
    },
    {
     "name": "stdout",
     "output_type": "stream",
     "text": [
      "Training Cross-Entropy Loss = 1.9485\n",
      "Training Accuracy = 20.70%\n",
      "\n",
      "Epoch 434/512\n",
      "Training phase...\n"
     ]
    },
    {
     "name": "stderr",
     "output_type": "stream",
     "text": [
      "Loss = 1.9962  |  Accuracy = 20.62% | Batch ID = 30 : 100%|██████████| 30/30 [00:05<00:00,  5.20it/s]\n"
     ]
    },
    {
     "name": "stdout",
     "output_type": "stream",
     "text": [
      "Training Cross-Entropy Loss = 1.9517\n",
      "Training Accuracy = 20.62%\n",
      "\n",
      "Epoch 435/512\n",
      "Training phase...\n"
     ]
    },
    {
     "name": "stderr",
     "output_type": "stream",
     "text": [
      "Loss = 1.9526  |  Accuracy = 20.80% | Batch ID = 30 : 100%|██████████| 30/30 [00:05<00:00,  5.32it/s]\n"
     ]
    },
    {
     "name": "stdout",
     "output_type": "stream",
     "text": [
      "Training Cross-Entropy Loss = 1.9561\n",
      "Training Accuracy = 20.80%\n",
      "\n",
      "Epoch 436/512\n",
      "Training phase...\n"
     ]
    },
    {
     "name": "stderr",
     "output_type": "stream",
     "text": [
      "Loss = 1.9433  |  Accuracy = 20.80% | Batch ID = 30 : 100%|██████████| 30/30 [00:05<00:00,  5.34it/s]\n"
     ]
    },
    {
     "name": "stdout",
     "output_type": "stream",
     "text": [
      "Training Cross-Entropy Loss = 1.9542\n",
      "Training Accuracy = 20.80%\n",
      "\n",
      "Epoch 437/512\n",
      "Training phase...\n"
     ]
    },
    {
     "name": "stderr",
     "output_type": "stream",
     "text": [
      "Loss = 1.9456  |  Accuracy = 20.36% | Batch ID = 30 : 100%|██████████| 30/30 [00:05<00:00,  5.31it/s]\n"
     ]
    },
    {
     "name": "stdout",
     "output_type": "stream",
     "text": [
      "Training Cross-Entropy Loss = 1.9554\n",
      "Training Accuracy = 20.36%\n",
      "\n",
      "Epoch 438/512\n",
      "Training phase...\n"
     ]
    },
    {
     "name": "stderr",
     "output_type": "stream",
     "text": [
      "Loss = 1.9499  |  Accuracy = 20.53% | Batch ID = 30 : 100%|██████████| 30/30 [00:05<00:00,  5.30it/s]\n"
     ]
    },
    {
     "name": "stdout",
     "output_type": "stream",
     "text": [
      "Training Cross-Entropy Loss = 1.9654\n",
      "Training Accuracy = 20.53%\n",
      "\n",
      "Epoch 439/512\n",
      "Training phase...\n"
     ]
    },
    {
     "name": "stderr",
     "output_type": "stream",
     "text": [
      "Loss = 1.9542  |  Accuracy = 20.52% | Batch ID = 30 : 100%|██████████| 30/30 [00:05<00:00,  5.20it/s]\n"
     ]
    },
    {
     "name": "stdout",
     "output_type": "stream",
     "text": [
      "Training Cross-Entropy Loss = 1.9708\n",
      "Training Accuracy = 20.52%\n",
      "\n",
      "Epoch 440/512\n",
      "Training phase...\n"
     ]
    },
    {
     "name": "stderr",
     "output_type": "stream",
     "text": [
      "Loss = 2.0004  |  Accuracy = 20.54% | Batch ID = 30 : 100%|██████████| 30/30 [00:05<00:00,  5.31it/s]\n"
     ]
    },
    {
     "name": "stdout",
     "output_type": "stream",
     "text": [
      "Training Cross-Entropy Loss = 1.9724\n",
      "Training Accuracy = 20.54%\n",
      "\n",
      "Epoch 441/512\n",
      "Training phase...\n"
     ]
    },
    {
     "name": "stderr",
     "output_type": "stream",
     "text": [
      "Loss = 1.9680  |  Accuracy = 20.23% | Batch ID = 30 : 100%|██████████| 30/30 [00:05<00:00,  5.31it/s]\n"
     ]
    },
    {
     "name": "stdout",
     "output_type": "stream",
     "text": [
      "Training Cross-Entropy Loss = 1.9721\n",
      "Training Accuracy = 20.23%\n",
      "\n",
      "Epoch 442/512\n",
      "Training phase...\n"
     ]
    },
    {
     "name": "stderr",
     "output_type": "stream",
     "text": [
      "Loss = 1.9899  |  Accuracy = 20.20% | Batch ID = 30 : 100%|██████████| 30/30 [00:05<00:00,  5.21it/s]\n"
     ]
    },
    {
     "name": "stdout",
     "output_type": "stream",
     "text": [
      "Training Cross-Entropy Loss = 1.9701\n",
      "Training Accuracy = 20.20%\n",
      "\n",
      "Epoch 443/512\n",
      "Training phase...\n"
     ]
    },
    {
     "name": "stderr",
     "output_type": "stream",
     "text": [
      "Loss = 1.9549  |  Accuracy = 20.58% | Batch ID = 30 : 100%|██████████| 30/30 [00:05<00:00,  5.31it/s]\n"
     ]
    },
    {
     "name": "stdout",
     "output_type": "stream",
     "text": [
      "Training Cross-Entropy Loss = 1.9686\n",
      "Training Accuracy = 20.58%\n",
      "\n",
      "Epoch 444/512\n",
      "Training phase...\n"
     ]
    },
    {
     "name": "stderr",
     "output_type": "stream",
     "text": [
      "Loss = 1.9977  |  Accuracy = 20.36% | Batch ID = 30 : 100%|██████████| 30/30 [00:05<00:00,  5.31it/s]\n"
     ]
    },
    {
     "name": "stdout",
     "output_type": "stream",
     "text": [
      "Training Cross-Entropy Loss = 1.9754\n",
      "Training Accuracy = 20.36%\n",
      "\n",
      "Epoch 445/512\n",
      "Training phase...\n"
     ]
    },
    {
     "name": "stderr",
     "output_type": "stream",
     "text": [
      "Loss = 1.9817  |  Accuracy = 20.29% | Batch ID = 30 : 100%|██████████| 30/30 [00:05<00:00,  5.31it/s]\n"
     ]
    },
    {
     "name": "stdout",
     "output_type": "stream",
     "text": [
      "Training Cross-Entropy Loss = 1.9793\n",
      "Training Accuracy = 20.29%\n",
      "\n",
      "Epoch 446/512\n",
      "Training phase...\n"
     ]
    },
    {
     "name": "stderr",
     "output_type": "stream",
     "text": [
      "Loss = 1.9965  |  Accuracy = 20.34% | Batch ID = 30 : 100%|██████████| 30/30 [00:05<00:00,  5.23it/s]\n"
     ]
    },
    {
     "name": "stdout",
     "output_type": "stream",
     "text": [
      "Training Cross-Entropy Loss = 1.9877\n",
      "Training Accuracy = 20.34%\n",
      "\n",
      "Epoch 447/512\n",
      "Training phase...\n"
     ]
    },
    {
     "name": "stderr",
     "output_type": "stream",
     "text": [
      "Loss = 1.9936  |  Accuracy = 20.37% | Batch ID = 30 : 100%|██████████| 30/30 [00:05<00:00,  5.39it/s]\n"
     ]
    },
    {
     "name": "stdout",
     "output_type": "stream",
     "text": [
      "Training Cross-Entropy Loss = 1.9923\n",
      "Training Accuracy = 20.37%\n",
      "\n",
      "Epoch 448/512\n",
      "Training phase...\n"
     ]
    },
    {
     "name": "stderr",
     "output_type": "stream",
     "text": [
      "Loss = 2.0045  |  Accuracy = 20.73% | Batch ID = 30 : 100%|██████████| 30/30 [00:05<00:00,  5.39it/s]\n"
     ]
    },
    {
     "name": "stdout",
     "output_type": "stream",
     "text": [
      "Training Cross-Entropy Loss = 1.9970\n",
      "Training Accuracy = 20.73%\n",
      "\n",
      "Epoch 449/512\n",
      "Training phase...\n"
     ]
    },
    {
     "name": "stderr",
     "output_type": "stream",
     "text": [
      "Loss = 2.0600  |  Accuracy = 20.44% | Batch ID = 30 : 100%|██████████| 30/30 [00:05<00:00,  5.23it/s]\n"
     ]
    },
    {
     "name": "stdout",
     "output_type": "stream",
     "text": [
      "Training Cross-Entropy Loss = 2.0086\n",
      "Training Accuracy = 20.44%\n",
      "\n",
      "Epoch 450/512\n",
      "Training phase...\n"
     ]
    },
    {
     "name": "stderr",
     "output_type": "stream",
     "text": [
      "Loss = 1.9999  |  Accuracy = 20.55% | Batch ID = 30 : 100%|██████████| 30/30 [00:05<00:00,  5.33it/s]\n"
     ]
    },
    {
     "name": "stdout",
     "output_type": "stream",
     "text": [
      "Training Cross-Entropy Loss = 2.0041\n",
      "Training Accuracy = 20.55%\n",
      "\n",
      "Epoch 451/512\n",
      "Training phase...\n"
     ]
    },
    {
     "name": "stderr",
     "output_type": "stream",
     "text": [
      "Loss = 1.9920  |  Accuracy = 20.55% | Batch ID = 30 : 100%|██████████| 30/30 [00:05<00:00,  5.35it/s]\n"
     ]
    },
    {
     "name": "stdout",
     "output_type": "stream",
     "text": [
      "Training Cross-Entropy Loss = 2.0090\n",
      "Training Accuracy = 20.55%\n",
      "\n",
      "Epoch 452/512\n",
      "Training phase...\n"
     ]
    },
    {
     "name": "stderr",
     "output_type": "stream",
     "text": [
      "Loss = 1.9936  |  Accuracy = 20.49% | Batch ID = 30 : 100%|██████████| 30/30 [00:05<00:00,  5.33it/s]\n"
     ]
    },
    {
     "name": "stdout",
     "output_type": "stream",
     "text": [
      "Training Cross-Entropy Loss = 1.9917\n",
      "Training Accuracy = 20.49%\n",
      "\n",
      "Epoch 453/512\n",
      "Training phase...\n"
     ]
    },
    {
     "name": "stderr",
     "output_type": "stream",
     "text": [
      "Loss = 2.0029  |  Accuracy = 20.66% | Batch ID = 30 : 100%|██████████| 30/30 [00:05<00:00,  5.23it/s]\n"
     ]
    },
    {
     "name": "stdout",
     "output_type": "stream",
     "text": [
      "Training Cross-Entropy Loss = 1.9946\n",
      "Training Accuracy = 20.66%\n",
      "\n",
      "Epoch 454/512\n",
      "Training phase...\n"
     ]
    },
    {
     "name": "stderr",
     "output_type": "stream",
     "text": [
      "Loss = 1.9898  |  Accuracy = 20.65% | Batch ID = 30 : 100%|██████████| 30/30 [00:05<00:00,  5.32it/s]\n"
     ]
    },
    {
     "name": "stdout",
     "output_type": "stream",
     "text": [
      "Training Cross-Entropy Loss = 2.0051\n",
      "Training Accuracy = 20.65%\n",
      "\n",
      "Epoch 455/512\n",
      "Training phase...\n"
     ]
    },
    {
     "name": "stderr",
     "output_type": "stream",
     "text": [
      "Loss = 1.9944  |  Accuracy = 20.57% | Batch ID = 30 : 100%|██████████| 30/30 [00:05<00:00,  5.33it/s]\n"
     ]
    },
    {
     "name": "stdout",
     "output_type": "stream",
     "text": [
      "Training Cross-Entropy Loss = 1.9933\n",
      "Training Accuracy = 20.57%\n",
      "\n",
      "Epoch 456/512\n",
      "Training phase...\n"
     ]
    },
    {
     "name": "stderr",
     "output_type": "stream",
     "text": [
      "Loss = 1.9376  |  Accuracy = 20.57% | Batch ID = 30 : 100%|██████████| 30/30 [00:05<00:00,  5.31it/s]\n"
     ]
    },
    {
     "name": "stdout",
     "output_type": "stream",
     "text": [
      "Training Cross-Entropy Loss = 1.9864\n",
      "Training Accuracy = 20.57%\n",
      "\n",
      "Epoch 457/512\n",
      "Training phase...\n"
     ]
    },
    {
     "name": "stderr",
     "output_type": "stream",
     "text": [
      "Loss = 2.0011  |  Accuracy = 20.83% | Batch ID = 30 : 100%|██████████| 30/30 [00:05<00:00,  5.21it/s]\n"
     ]
    },
    {
     "name": "stdout",
     "output_type": "stream",
     "text": [
      "Training Cross-Entropy Loss = 1.9877\n",
      "Training Accuracy = 20.83%\n",
      "\n",
      "Epoch 458/512\n",
      "Training phase...\n"
     ]
    },
    {
     "name": "stderr",
     "output_type": "stream",
     "text": [
      "Loss = 2.0056  |  Accuracy = 20.64% | Batch ID = 30 : 100%|██████████| 30/30 [00:05<00:00,  5.32it/s]\n"
     ]
    },
    {
     "name": "stdout",
     "output_type": "stream",
     "text": [
      "Training Cross-Entropy Loss = 1.9872\n",
      "Training Accuracy = 20.64%\n",
      "\n",
      "Epoch 459/512\n",
      "Training phase...\n"
     ]
    },
    {
     "name": "stderr",
     "output_type": "stream",
     "text": [
      "Loss = 2.0060  |  Accuracy = 20.42% | Batch ID = 30 : 100%|██████████| 30/30 [00:05<00:00,  5.35it/s]\n"
     ]
    },
    {
     "name": "stdout",
     "output_type": "stream",
     "text": [
      "Training Cross-Entropy Loss = 1.9842\n",
      "Training Accuracy = 20.42%\n",
      "\n",
      "Epoch 460/512\n",
      "Training phase...\n"
     ]
    },
    {
     "name": "stderr",
     "output_type": "stream",
     "text": [
      "Loss = 1.9631  |  Accuracy = 20.51% | Batch ID = 30 : 100%|██████████| 30/30 [00:05<00:00,  5.33it/s]\n"
     ]
    },
    {
     "name": "stdout",
     "output_type": "stream",
     "text": [
      "Training Cross-Entropy Loss = 1.9810\n",
      "Training Accuracy = 20.51%\n",
      "\n",
      "Epoch 461/512\n",
      "Training phase...\n"
     ]
    },
    {
     "name": "stderr",
     "output_type": "stream",
     "text": [
      "Loss = 1.9807  |  Accuracy = 20.17% | Batch ID = 30 : 100%|██████████| 30/30 [00:05<00:00,  5.21it/s]\n"
     ]
    },
    {
     "name": "stdout",
     "output_type": "stream",
     "text": [
      "Training Cross-Entropy Loss = 1.9803\n",
      "Training Accuracy = 20.17%\n",
      "\n",
      "Epoch 462/512\n",
      "Training phase...\n"
     ]
    },
    {
     "name": "stderr",
     "output_type": "stream",
     "text": [
      "Loss = 1.9362  |  Accuracy = 20.42% | Batch ID = 30 : 100%|██████████| 30/30 [00:05<00:00,  5.34it/s]\n"
     ]
    },
    {
     "name": "stdout",
     "output_type": "stream",
     "text": [
      "Training Cross-Entropy Loss = 1.9801\n",
      "Training Accuracy = 20.42%\n",
      "\n",
      "Epoch 463/512\n",
      "Training phase...\n"
     ]
    },
    {
     "name": "stderr",
     "output_type": "stream",
     "text": [
      "Loss = 2.0566  |  Accuracy = 20.08% | Batch ID = 30 : 100%|██████████| 30/30 [00:05<00:00,  5.32it/s]\n"
     ]
    },
    {
     "name": "stdout",
     "output_type": "stream",
     "text": [
      "Training Cross-Entropy Loss = 1.9846\n",
      "Training Accuracy = 20.08%\n",
      "\n",
      "Epoch 464/512\n",
      "Training phase...\n"
     ]
    },
    {
     "name": "stderr",
     "output_type": "stream",
     "text": [
      "Loss = 2.1788  |  Accuracy = 17.70% | Batch ID = 30 : 100%|██████████| 30/30 [00:05<00:00,  5.23it/s]\n"
     ]
    },
    {
     "name": "stdout",
     "output_type": "stream",
     "text": [
      "Training Cross-Entropy Loss = 2.2103\n",
      "Training Accuracy = 17.70%\n",
      "\n",
      "Epoch 465/512\n",
      "Training phase...\n"
     ]
    },
    {
     "name": "stderr",
     "output_type": "stream",
     "text": [
      "Loss = 2.1151  |  Accuracy = 17.42% | Batch ID = 30 : 100%|██████████| 30/30 [00:05<00:00,  5.32it/s]\n"
     ]
    },
    {
     "name": "stdout",
     "output_type": "stream",
     "text": [
      "Training Cross-Entropy Loss = 2.1551\n",
      "Training Accuracy = 17.42%\n",
      "\n",
      "Epoch 466/512\n",
      "Training phase...\n"
     ]
    },
    {
     "name": "stderr",
     "output_type": "stream",
     "text": [
      "Loss = 2.1340  |  Accuracy = 18.76% | Batch ID = 30 : 100%|██████████| 30/30 [00:05<00:00,  5.31it/s]\n"
     ]
    },
    {
     "name": "stdout",
     "output_type": "stream",
     "text": [
      "Training Cross-Entropy Loss = 2.1153\n",
      "Training Accuracy = 18.76%\n",
      "\n",
      "Epoch 467/512\n",
      "Training phase...\n"
     ]
    },
    {
     "name": "stderr",
     "output_type": "stream",
     "text": [
      "Loss = 2.1015  |  Accuracy = 18.35% | Batch ID = 30 : 100%|██████████| 30/30 [00:05<00:00,  5.33it/s]\n"
     ]
    },
    {
     "name": "stdout",
     "output_type": "stream",
     "text": [
      "Training Cross-Entropy Loss = 2.1319\n",
      "Training Accuracy = 18.35%\n",
      "\n",
      "Epoch 468/512\n",
      "Training phase...\n"
     ]
    },
    {
     "name": "stderr",
     "output_type": "stream",
     "text": [
      "Loss = 2.0638  |  Accuracy = 18.75% | Batch ID = 30 : 100%|██████████| 30/30 [00:05<00:00,  5.21it/s]\n"
     ]
    },
    {
     "name": "stdout",
     "output_type": "stream",
     "text": [
      "Training Cross-Entropy Loss = 2.1078\n",
      "Training Accuracy = 18.75%\n",
      "\n",
      "Epoch 469/512\n",
      "Training phase...\n"
     ]
    },
    {
     "name": "stderr",
     "output_type": "stream",
     "text": [
      "Loss = 2.0547  |  Accuracy = 19.10% | Batch ID = 30 : 100%|██████████| 30/30 [00:05<00:00,  5.34it/s]\n"
     ]
    },
    {
     "name": "stdout",
     "output_type": "stream",
     "text": [
      "Training Cross-Entropy Loss = 2.0903\n",
      "Training Accuracy = 19.10%\n",
      "\n",
      "Epoch 470/512\n",
      "Training phase...\n"
     ]
    },
    {
     "name": "stderr",
     "output_type": "stream",
     "text": [
      "Loss = 2.0586  |  Accuracy = 19.65% | Batch ID = 30 : 100%|██████████| 30/30 [00:05<00:00,  5.32it/s]\n"
     ]
    },
    {
     "name": "stdout",
     "output_type": "stream",
     "text": [
      "Training Cross-Entropy Loss = 2.0651\n",
      "Training Accuracy = 19.65%\n",
      "\n",
      "Epoch 471/512\n",
      "Training phase...\n"
     ]
    },
    {
     "name": "stderr",
     "output_type": "stream",
     "text": [
      "Loss = 2.0329  |  Accuracy = 19.93% | Batch ID = 30 : 100%|██████████| 30/30 [00:05<00:00,  5.20it/s]\n"
     ]
    },
    {
     "name": "stdout",
     "output_type": "stream",
     "text": [
      "Training Cross-Entropy Loss = 2.0565\n",
      "Training Accuracy = 19.93%\n",
      "\n",
      "Epoch 472/512\n",
      "Training phase...\n"
     ]
    },
    {
     "name": "stderr",
     "output_type": "stream",
     "text": [
      "Loss = 2.0607  |  Accuracy = 19.90% | Batch ID = 30 : 100%|██████████| 30/30 [00:05<00:00,  5.31it/s]\n"
     ]
    },
    {
     "name": "stdout",
     "output_type": "stream",
     "text": [
      "Training Cross-Entropy Loss = 2.0569\n",
      "Training Accuracy = 19.90%\n",
      "\n",
      "Epoch 473/512\n",
      "Training phase...\n"
     ]
    },
    {
     "name": "stderr",
     "output_type": "stream",
     "text": [
      "Loss = 2.0638  |  Accuracy = 19.81% | Batch ID = 30 : 100%|██████████| 30/30 [00:05<00:00,  5.31it/s]\n"
     ]
    },
    {
     "name": "stdout",
     "output_type": "stream",
     "text": [
      "Training Cross-Entropy Loss = 2.0527\n",
      "Training Accuracy = 19.81%\n",
      "\n",
      "Epoch 474/512\n",
      "Training phase...\n"
     ]
    },
    {
     "name": "stderr",
     "output_type": "stream",
     "text": [
      "Loss = 2.0318  |  Accuracy = 20.39% | Batch ID = 30 : 100%|██████████| 30/30 [00:05<00:00,  5.34it/s]\n"
     ]
    },
    {
     "name": "stdout",
     "output_type": "stream",
     "text": [
      "Training Cross-Entropy Loss = 2.0381\n",
      "Training Accuracy = 20.39%\n",
      "\n",
      "Epoch 475/512\n",
      "Training phase...\n"
     ]
    },
    {
     "name": "stderr",
     "output_type": "stream",
     "text": [
      "Loss = 2.0195  |  Accuracy = 20.63% | Batch ID = 30 : 100%|██████████| 30/30 [00:05<00:00,  5.21it/s]\n"
     ]
    },
    {
     "name": "stdout",
     "output_type": "stream",
     "text": [
      "Training Cross-Entropy Loss = 2.0326\n",
      "Training Accuracy = 20.63%\n",
      "\n",
      "Epoch 476/512\n",
      "Training phase...\n"
     ]
    },
    {
     "name": "stderr",
     "output_type": "stream",
     "text": [
      "Loss = 2.1888  |  Accuracy = 19.04% | Batch ID = 30 : 100%|██████████| 30/30 [00:05<00:00,  5.36it/s]\n"
     ]
    },
    {
     "name": "stdout",
     "output_type": "stream",
     "text": [
      "Training Cross-Entropy Loss = 2.0814\n",
      "Training Accuracy = 19.04%\n",
      "\n",
      "Epoch 477/512\n",
      "Training phase...\n"
     ]
    },
    {
     "name": "stderr",
     "output_type": "stream",
     "text": [
      "Loss = 2.0503  |  Accuracy = 18.65% | Batch ID = 30 : 100%|██████████| 30/30 [00:05<00:00,  5.34it/s]\n"
     ]
    },
    {
     "name": "stdout",
     "output_type": "stream",
     "text": [
      "Training Cross-Entropy Loss = 2.0885\n",
      "Training Accuracy = 18.65%\n",
      "\n",
      "Epoch 478/512\n",
      "Training phase...\n"
     ]
    },
    {
     "name": "stderr",
     "output_type": "stream",
     "text": [
      "Loss = 2.0433  |  Accuracy = 19.87% | Batch ID = 30 : 100%|██████████| 30/30 [00:05<00:00,  5.32it/s]\n"
     ]
    },
    {
     "name": "stdout",
     "output_type": "stream",
     "text": [
      "Training Cross-Entropy Loss = 2.0463\n",
      "Training Accuracy = 19.87%\n",
      "\n",
      "Epoch 479/512\n",
      "Training phase...\n"
     ]
    },
    {
     "name": "stderr",
     "output_type": "stream",
     "text": [
      "Loss = 2.0258  |  Accuracy = 20.77% | Batch ID = 30 : 100%|██████████| 30/30 [00:05<00:00,  5.22it/s]\n"
     ]
    },
    {
     "name": "stdout",
     "output_type": "stream",
     "text": [
      "Training Cross-Entropy Loss = 2.0172\n",
      "Training Accuracy = 20.77%\n",
      "\n",
      "Epoch 480/512\n",
      "Training phase...\n"
     ]
    },
    {
     "name": "stderr",
     "output_type": "stream",
     "text": [
      "Loss = 1.9986  |  Accuracy = 20.75% | Batch ID = 30 : 100%|██████████| 30/30 [00:05<00:00,  5.34it/s]\n"
     ]
    },
    {
     "name": "stdout",
     "output_type": "stream",
     "text": [
      "Training Cross-Entropy Loss = 2.0136\n",
      "Training Accuracy = 20.75%\n",
      "\n",
      "Epoch 481/512\n",
      "Training phase...\n"
     ]
    },
    {
     "name": "stderr",
     "output_type": "stream",
     "text": [
      "Loss = 1.9931  |  Accuracy = 21.02% | Batch ID = 30 : 100%|██████████| 30/30 [00:05<00:00,  5.33it/s]\n"
     ]
    },
    {
     "name": "stdout",
     "output_type": "stream",
     "text": [
      "Training Cross-Entropy Loss = 2.0065\n",
      "Training Accuracy = 21.02%\n",
      "\n",
      "Epoch 482/512\n",
      "Training phase...\n"
     ]
    },
    {
     "name": "stderr",
     "output_type": "stream",
     "text": [
      "Loss = 2.0334  |  Accuracy = 20.79% | Batch ID = 30 : 100%|██████████| 30/30 [00:05<00:00,  5.33it/s]\n"
     ]
    },
    {
     "name": "stdout",
     "output_type": "stream",
     "text": [
      "Training Cross-Entropy Loss = 2.0078\n",
      "Training Accuracy = 20.79%\n",
      "\n",
      "Epoch 483/512\n",
      "Training phase...\n"
     ]
    },
    {
     "name": "stderr",
     "output_type": "stream",
     "text": [
      "Loss = 2.0569  |  Accuracy = 19.80% | Batch ID = 30 : 100%|██████████| 30/30 [00:05<00:00,  5.22it/s]\n"
     ]
    },
    {
     "name": "stdout",
     "output_type": "stream",
     "text": [
      "Training Cross-Entropy Loss = 2.0359\n",
      "Training Accuracy = 19.80%\n",
      "\n",
      "Epoch 484/512\n",
      "Training phase...\n"
     ]
    },
    {
     "name": "stderr",
     "output_type": "stream",
     "text": [
      "Loss = 2.0229  |  Accuracy = 19.59% | Batch ID = 30 : 100%|██████████| 30/30 [00:05<00:00,  5.35it/s]\n"
     ]
    },
    {
     "name": "stdout",
     "output_type": "stream",
     "text": [
      "Training Cross-Entropy Loss = 2.0344\n",
      "Training Accuracy = 19.59%\n",
      "\n",
      "Epoch 485/512\n",
      "Training phase...\n"
     ]
    },
    {
     "name": "stderr",
     "output_type": "stream",
     "text": [
      "Loss = 2.0682  |  Accuracy = 19.14% | Batch ID = 30 : 100%|██████████| 30/30 [00:05<00:00,  5.32it/s]\n"
     ]
    },
    {
     "name": "stdout",
     "output_type": "stream",
     "text": [
      "Training Cross-Entropy Loss = 2.0388\n",
      "Training Accuracy = 19.14%\n",
      "\n",
      "Epoch 486/512\n",
      "Training phase...\n"
     ]
    },
    {
     "name": "stderr",
     "output_type": "stream",
     "text": [
      "Loss = 2.0943  |  Accuracy = 19.10% | Batch ID = 30 : 100%|██████████| 30/30 [00:05<00:00,  5.22it/s]\n"
     ]
    },
    {
     "name": "stdout",
     "output_type": "stream",
     "text": [
      "Training Cross-Entropy Loss = 2.0385\n",
      "Training Accuracy = 19.10%\n",
      "\n",
      "Epoch 487/512\n",
      "Training phase...\n"
     ]
    },
    {
     "name": "stderr",
     "output_type": "stream",
     "text": [
      "Loss = 2.0889  |  Accuracy = 19.61% | Batch ID = 30 : 100%|██████████| 30/30 [00:05<00:00,  5.31it/s]\n"
     ]
    },
    {
     "name": "stdout",
     "output_type": "stream",
     "text": [
      "Training Cross-Entropy Loss = 2.0318\n",
      "Training Accuracy = 19.61%\n",
      "\n",
      "Epoch 488/512\n",
      "Training phase...\n"
     ]
    },
    {
     "name": "stderr",
     "output_type": "stream",
     "text": [
      "Loss = 2.0384  |  Accuracy = 19.66% | Batch ID = 30 : 100%|██████████| 30/30 [00:05<00:00,  5.33it/s]\n"
     ]
    },
    {
     "name": "stdout",
     "output_type": "stream",
     "text": [
      "Training Cross-Entropy Loss = 2.0299\n",
      "Training Accuracy = 19.66%\n",
      "\n",
      "Epoch 489/512\n",
      "Training phase...\n"
     ]
    },
    {
     "name": "stderr",
     "output_type": "stream",
     "text": [
      "Loss = 2.0681  |  Accuracy = 19.63% | Batch ID = 30 : 100%|██████████| 30/30 [00:05<00:00,  5.33it/s]\n"
     ]
    },
    {
     "name": "stdout",
     "output_type": "stream",
     "text": [
      "Training Cross-Entropy Loss = 2.0268\n",
      "Training Accuracy = 19.63%\n",
      "\n",
      "Epoch 490/512\n",
      "Training phase...\n"
     ]
    },
    {
     "name": "stderr",
     "output_type": "stream",
     "text": [
      "Loss = 2.0456  |  Accuracy = 19.74% | Batch ID = 30 : 100%|██████████| 30/30 [00:05<00:00,  5.21it/s]\n"
     ]
    },
    {
     "name": "stdout",
     "output_type": "stream",
     "text": [
      "Training Cross-Entropy Loss = 2.0248\n",
      "Training Accuracy = 19.74%\n",
      "\n",
      "Epoch 491/512\n",
      "Training phase...\n"
     ]
    },
    {
     "name": "stderr",
     "output_type": "stream",
     "text": [
      "Loss = 2.0186  |  Accuracy = 20.12% | Batch ID = 30 : 100%|██████████| 30/30 [00:05<00:00,  5.33it/s]\n"
     ]
    },
    {
     "name": "stdout",
     "output_type": "stream",
     "text": [
      "Training Cross-Entropy Loss = 2.0228\n",
      "Training Accuracy = 20.12%\n",
      "\n",
      "Epoch 492/512\n",
      "Training phase...\n"
     ]
    },
    {
     "name": "stderr",
     "output_type": "stream",
     "text": [
      "Loss = 2.0416  |  Accuracy = 19.84% | Batch ID = 30 : 100%|██████████| 30/30 [00:05<00:00,  5.33it/s]\n"
     ]
    },
    {
     "name": "stdout",
     "output_type": "stream",
     "text": [
      "Training Cross-Entropy Loss = 2.0258\n",
      "Training Accuracy = 19.84%\n",
      "\n",
      "Epoch 493/512\n",
      "Training phase...\n"
     ]
    },
    {
     "name": "stderr",
     "output_type": "stream",
     "text": [
      "Loss = 2.0225  |  Accuracy = 19.86% | Batch ID = 30 : 100%|██████████| 30/30 [00:05<00:00,  5.23it/s]\n"
     ]
    },
    {
     "name": "stdout",
     "output_type": "stream",
     "text": [
      "Training Cross-Entropy Loss = 2.0261\n",
      "Training Accuracy = 19.86%\n",
      "\n",
      "Epoch 494/512\n",
      "Training phase...\n"
     ]
    },
    {
     "name": "stderr",
     "output_type": "stream",
     "text": [
      "Loss = 2.0043  |  Accuracy = 19.81% | Batch ID = 30 : 100%|██████████| 30/30 [00:05<00:00,  5.32it/s]\n"
     ]
    },
    {
     "name": "stdout",
     "output_type": "stream",
     "text": [
      "Training Cross-Entropy Loss = 2.0250\n",
      "Training Accuracy = 19.81%\n",
      "\n",
      "Epoch 495/512\n",
      "Training phase...\n"
     ]
    },
    {
     "name": "stderr",
     "output_type": "stream",
     "text": [
      "Loss = 1.9984  |  Accuracy = 19.77% | Batch ID = 30 : 100%|██████████| 30/30 [00:05<00:00,  5.33it/s]\n"
     ]
    },
    {
     "name": "stdout",
     "output_type": "stream",
     "text": [
      "Training Cross-Entropy Loss = 2.0187\n",
      "Training Accuracy = 19.77%\n",
      "\n",
      "Epoch 496/512\n",
      "Training phase...\n"
     ]
    },
    {
     "name": "stderr",
     "output_type": "stream",
     "text": [
      "Loss = 2.0035  |  Accuracy = 19.79% | Batch ID = 30 : 100%|██████████| 30/30 [00:05<00:00,  5.35it/s]\n"
     ]
    },
    {
     "name": "stdout",
     "output_type": "stream",
     "text": [
      "Training Cross-Entropy Loss = 2.0201\n",
      "Training Accuracy = 19.79%\n",
      "\n",
      "Epoch 497/512\n",
      "Training phase...\n"
     ]
    },
    {
     "name": "stderr",
     "output_type": "stream",
     "text": [
      "Loss = 2.0148  |  Accuracy = 19.89% | Batch ID = 30 : 100%|██████████| 30/30 [00:05<00:00,  5.22it/s]\n"
     ]
    },
    {
     "name": "stdout",
     "output_type": "stream",
     "text": [
      "Training Cross-Entropy Loss = 2.0241\n",
      "Training Accuracy = 19.89%\n",
      "\n",
      "Epoch 498/512\n",
      "Training phase...\n"
     ]
    },
    {
     "name": "stderr",
     "output_type": "stream",
     "text": [
      "Loss = 2.0305  |  Accuracy = 19.75% | Batch ID = 30 : 100%|██████████| 30/30 [00:05<00:00,  5.35it/s]\n"
     ]
    },
    {
     "name": "stdout",
     "output_type": "stream",
     "text": [
      "Training Cross-Entropy Loss = 2.0192\n",
      "Training Accuracy = 19.75%\n",
      "\n",
      "Epoch 499/512\n",
      "Training phase...\n"
     ]
    },
    {
     "name": "stderr",
     "output_type": "stream",
     "text": [
      "Loss = 2.0490  |  Accuracy = 20.01% | Batch ID = 30 : 100%|██████████| 30/30 [00:05<00:00,  5.35it/s]\n"
     ]
    },
    {
     "name": "stdout",
     "output_type": "stream",
     "text": [
      "Training Cross-Entropy Loss = 2.0223\n",
      "Training Accuracy = 20.01%\n",
      "\n",
      "Epoch 500/512\n",
      "Training phase...\n"
     ]
    },
    {
     "name": "stderr",
     "output_type": "stream",
     "text": [
      "Loss = 2.0268  |  Accuracy = 19.93% | Batch ID = 30 : 100%|██████████| 30/30 [00:05<00:00,  5.24it/s]\n"
     ]
    },
    {
     "name": "stdout",
     "output_type": "stream",
     "text": [
      "Training Cross-Entropy Loss = 2.0208\n",
      "Training Accuracy = 19.93%\n",
      "\n",
      "Epoch 501/512\n",
      "Training phase...\n"
     ]
    },
    {
     "name": "stderr",
     "output_type": "stream",
     "text": [
      "Loss = 1.9957  |  Accuracy = 20.02% | Batch ID = 30 : 100%|██████████| 30/30 [00:05<00:00,  5.33it/s]\n"
     ]
    },
    {
     "name": "stdout",
     "output_type": "stream",
     "text": [
      "Training Cross-Entropy Loss = 2.0156\n",
      "Training Accuracy = 20.02%\n",
      "\n",
      "Epoch 502/512\n",
      "Training phase...\n"
     ]
    },
    {
     "name": "stderr",
     "output_type": "stream",
     "text": [
      "Loss = 2.0500  |  Accuracy = 19.55% | Batch ID = 30 : 100%|██████████| 30/30 [00:05<00:00,  5.32it/s]\n"
     ]
    },
    {
     "name": "stdout",
     "output_type": "stream",
     "text": [
      "Training Cross-Entropy Loss = 2.0201\n",
      "Training Accuracy = 19.55%\n",
      "\n",
      "Epoch 503/512\n",
      "Training phase...\n"
     ]
    },
    {
     "name": "stderr",
     "output_type": "stream",
     "text": [
      "Loss = 2.0322  |  Accuracy = 19.87% | Batch ID = 30 : 100%|██████████| 30/30 [00:05<00:00,  5.34it/s]\n"
     ]
    },
    {
     "name": "stdout",
     "output_type": "stream",
     "text": [
      "Training Cross-Entropy Loss = 2.0250\n",
      "Training Accuracy = 19.87%\n",
      "\n",
      "Epoch 504/512\n",
      "Training phase...\n"
     ]
    },
    {
     "name": "stderr",
     "output_type": "stream",
     "text": [
      "Loss = 2.0016  |  Accuracy = 19.98% | Batch ID = 30 : 100%|██████████| 30/30 [00:05<00:00,  5.31it/s]\n"
     ]
    },
    {
     "name": "stdout",
     "output_type": "stream",
     "text": [
      "Training Cross-Entropy Loss = 2.0171\n",
      "Training Accuracy = 19.98%\n",
      "\n",
      "Epoch 505/512\n",
      "Training phase...\n"
     ]
    },
    {
     "name": "stderr",
     "output_type": "stream",
     "text": [
      "Loss = 2.0402  |  Accuracy = 19.83% | Batch ID = 30 : 100%|██████████| 30/30 [00:05<00:00,  5.23it/s]\n"
     ]
    },
    {
     "name": "stdout",
     "output_type": "stream",
     "text": [
      "Training Cross-Entropy Loss = 2.0213\n",
      "Training Accuracy = 19.83%\n",
      "\n",
      "Epoch 506/512\n",
      "Training phase...\n"
     ]
    },
    {
     "name": "stderr",
     "output_type": "stream",
     "text": [
      "Loss = 1.9941  |  Accuracy = 19.99% | Batch ID = 30 : 100%|██████████| 30/30 [00:05<00:00,  5.34it/s]\n"
     ]
    },
    {
     "name": "stdout",
     "output_type": "stream",
     "text": [
      "Training Cross-Entropy Loss = 2.0176\n",
      "Training Accuracy = 19.99%\n",
      "\n",
      "Epoch 507/512\n",
      "Training phase...\n"
     ]
    },
    {
     "name": "stderr",
     "output_type": "stream",
     "text": [
      "Loss = 2.0528  |  Accuracy = 19.78% | Batch ID = 30 : 100%|██████████| 30/30 [00:05<00:00,  5.20it/s]\n"
     ]
    },
    {
     "name": "stdout",
     "output_type": "stream",
     "text": [
      "Training Cross-Entropy Loss = 2.0223\n",
      "Training Accuracy = 19.78%\n",
      "\n",
      "Epoch 508/512\n",
      "Training phase...\n"
     ]
    },
    {
     "name": "stderr",
     "output_type": "stream",
     "text": [
      "Loss = 1.9946  |  Accuracy = 19.73% | Batch ID = 30 : 100%|██████████| 30/30 [00:05<00:00,  5.34it/s]\n"
     ]
    },
    {
     "name": "stdout",
     "output_type": "stream",
     "text": [
      "Training Cross-Entropy Loss = 2.0222\n",
      "Training Accuracy = 19.73%\n",
      "\n",
      "Epoch 509/512\n",
      "Training phase...\n"
     ]
    },
    {
     "name": "stderr",
     "output_type": "stream",
     "text": [
      "Loss = 2.0573  |  Accuracy = 19.96% | Batch ID = 30 : 100%|██████████| 30/30 [00:05<00:00,  5.32it/s]\n"
     ]
    },
    {
     "name": "stdout",
     "output_type": "stream",
     "text": [
      "Training Cross-Entropy Loss = 2.0237\n",
      "Training Accuracy = 19.96%\n",
      "\n",
      "Epoch 510/512\n",
      "Training phase...\n"
     ]
    },
    {
     "name": "stderr",
     "output_type": "stream",
     "text": [
      "Loss = 2.0544  |  Accuracy = 20.24% | Batch ID = 30 : 100%|██████████| 30/30 [00:05<00:00,  5.36it/s]\n"
     ]
    },
    {
     "name": "stdout",
     "output_type": "stream",
     "text": [
      "Training Cross-Entropy Loss = 2.0241\n",
      "Training Accuracy = 20.24%\n",
      "\n",
      "Epoch 511/512\n",
      "Training phase...\n"
     ]
    },
    {
     "name": "stderr",
     "output_type": "stream",
     "text": [
      "Loss = 1.9748  |  Accuracy = 20.01% | Batch ID = 30 : 100%|██████████| 30/30 [00:05<00:00,  5.35it/s]\n"
     ]
    },
    {
     "name": "stdout",
     "output_type": "stream",
     "text": [
      "Training Cross-Entropy Loss = 2.0193\n",
      "Training Accuracy = 20.01%\n",
      "\n",
      "Epoch 512/512\n",
      "Training phase...\n"
     ]
    },
    {
     "name": "stderr",
     "output_type": "stream",
     "text": [
      "Loss = 2.0580  |  Accuracy = 20.07% | Batch ID = 30 : 100%|██████████| 30/30 [00:05<00:00,  5.24it/s]"
     ]
    },
    {
     "name": "stdout",
     "output_type": "stream",
     "text": [
      "Training Cross-Entropy Loss = 2.0195\n",
      "Training Accuracy = 20.07%\n",
      "\n",
      "Cross-Entropy on training set:  2.0195\n",
      "Accuracy on training set:       20.07%\n"
     ]
    },
    {
     "name": "stderr",
     "output_type": "stream",
     "text": [
      "\n"
     ]
    }
   ],
   "source": [
    "train_loss_hist, train_acc_hist = train(NeuralNetwork_complex, TrainLoader, optimizer, criterion, epochs = 512, device = device)"
   ]
  },
  {
   "cell_type": "code",
   "execution_count": 20,
   "metadata": {},
   "outputs": [
    {
     "name": "stdout",
     "output_type": "stream",
     "text": [
      "Cross-Entropy on test set: 2.3310\n",
      "Accuracy on test set: 10.00%\n"
     ]
    }
   ],
   "source": [
    "test_loss, test_acc = test(NeuralNetwork_complex, TestLoader, criterion, device)"
   ]
  },
  {
   "cell_type": "markdown",
   "id": "be4b56a1",
   "metadata": {},
   "source": [
    "### Explaining results\n",
    "\n",
    "Original Simple Feedforward Neural Network:\n",
    "\n",
    "After 10 epochs, the loss on the training set is 0.3628, and the accuracy on the test set is 84.47%.\n",
    "The Cross-Entropy on the training set is 0.3741, and on the test set, it's 0.4217.\n",
    "Modified Complex Feedforward Neural Network:\n",
    "\n",
    "After 10 epochs, the loss on the training set is 0.2230, and the accuracy on the test set is 88.66%.\n",
    "The Cross-Entropy on the training set is 0.1927, and on the test set, it's 0.3200.\n",
    "Comparison:\n",
    "\n",
    "Training Loss: The modified complex network achieves a significantly lower training loss (0.2230) compared to the original simple network (0.3628). This indicates that the complex network learns the training data better.\n",
    "\n",
    "Test Accuracy: The modified complex network achieves a higher test accuracy (88.66%) compared to the original simple network (84.47%). This suggests that the complex network generalizes better to unseen data.\n",
    "\n",
    "Cross-Entropy: The Cross-Entropy on the training set is lower for the complex network (0.1927) compared to the original network (0.3741). Additionally, the Cross-Entropy on the test set is lower for the complex network (0.3200) compared to the original network (0.4217). Lower Cross-Entropy values indicate better model performance.\n",
    "\n",
    "In summary, the modified complex feedforward neural network with increased complexity, Leaky ReLU activations, L2 regularization, batch normalization, and dropout shows improved performance over the original simple network. It achieves both lower training loss and better generalization to the test set, resulting in higher accuracy and lower Cross-Entropy."
   ]
  },
  {
   "cell_type": "markdown",
   "metadata": {},
   "source": [
    "## Exercise 1. (E)"
   ]
  },
  {
   "cell_type": "markdown",
   "metadata": {},
   "source": [
    " - **computacional cost:** Neural network A, having less neurons in the hidden layers will lead to a smaller number of weights (Wi) associated with those neurons and, therefore, this leads to less time in the training process. This is because fewer parameters need to be updated, leading to faster processing times.\n",
    "  - **Generalization:** Network A generalize better on the test data, because with more hidden layers the Neural Network is forced not to memorize the data, and learn more efficient representations of the input data instead.\n",
    "   - **Feature Extraction**: Because of the number of hidden layers, the 3x10 architecture has a greater opportunity to learn/extract more complex patterns in the data"
   ]
  },
  {
   "cell_type": "code",
   "execution_count": null,
   "metadata": {
    "collapsed": false
   },
   "outputs": [],
   "source": []
  }
 ],
 "metadata": {
  "kernelspec": {
   "display_name": "Python 3 (ipykernel)",
   "language": "python",
   "name": "python3"
  },
  "language_info": {
   "codemirror_mode": {
    "name": "ipython",
    "version": 3
   },
   "file_extension": ".py",
   "mimetype": "text/x-python",
   "name": "python",
   "nbconvert_exporter": "python",
   "pygments_lexer": "ipython3",
   "version": "3.10.9"
  }
 },
 "nbformat": 4,
 "nbformat_minor": 5
}
