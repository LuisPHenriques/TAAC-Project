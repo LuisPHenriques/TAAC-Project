{
 "cells": [
  {
   "cell_type": "markdown",
   "metadata": {},
   "source": [
    "# Libraries & Custom functions"
   ]
  },
  {
   "cell_type": "code",
   "execution_count": 1,
   "metadata": {},
   "outputs": [],
   "source": [
    "import torch\n",
    "import torch.nn.functional as F\n",
    "\n",
    "# Ignore UserWarning\n",
    "import warnings\n",
    "warnings.filterwarnings(\"ignore\", category=UserWarning)"
   ]
  },
  {
   "cell_type": "code",
   "execution_count": 2,
   "metadata": {},
   "outputs": [],
   "source": [
    "def BCE_Loss(y_true, y_hat):\n",
    "    if y_true == y_hat:\n",
    "        return torch.tensor(0.)\n",
    "    \n",
    "    return -1 * (y_true * torch.log(y_hat) + (1 - y_true) * torch.log(1 - y_hat))\n",
    "\n",
    "\n",
    "def ForwardPass(X, W, b = 0):\n",
    "\n",
    "    z1 = torch.matmul(X, W[0].T) + b\n",
    "    a1 = F.relu(z1)\n",
    "\n",
    "    z2 = torch.matmul(a1, W[1].T) + b\n",
    "    a2 = F.leaky_relu(z2, negative_slope = 0.01)\n",
    "\n",
    "    z3 = torch.matmul(a2, W[2].T) + b\n",
    "    a3 = F.sigmoid(z3)\n",
    "\n",
    "    return a3, a2, a1\n",
    "\n",
    "\n",
    "def BackwardPass(X, a1, a2, a3, y_true, W):\n",
    "\n",
    "    # Partial derivative of the loss function with respect to the prediction\n",
    "    dL_da3 = -1 * (y_true / a3 - (1 - y_true) / (1 - a3)) if y_true != a3 else torch.tensor([0.])\n",
    "    # Partial derivative of the loss function with respect to z3, using the sigmoid derivative\n",
    "    dL_dz3 = dL_da3 * (a3 * (1 - a3))\n",
    "    # Partial derivative of the loss function with respect to the weights of the connections between the second hidden layer and the output layer\n",
    "    dL_dW3 = torch.matmul(dL_dz3.T, a2)\n",
    "\n",
    "    # Partial derivative of the loss function with respect to the activation values from the second hidden layer\n",
    "    dL_da2 = torch.matmul(dL_dz3, W[2])\n",
    "    # Partial derivative of the loss function with respect to z2, using the Leaky ReLU derivative\n",
    "    dL_dz2 = torch.where(a2 >= 0, dL_da2, 0.01 * dL_da2)\n",
    "    # Partial derivative of the loss function with respect to the weights of the connections between the first and second hidden layers\n",
    "    dL_dW2 = torch.matmul(dL_dz2.T, a1)\n",
    "\n",
    "    # Partial derivative of the loss function with respect to the activation values from the first hidden layer\n",
    "    dL_da1 = torch.matmul(dL_dz2, W[1])\n",
    "    # Partial derivative of the loss function with respect to z2, using the ReLU derivative\n",
    "    dL_dz1 = torch.where(a1 >= 0, dL_da1, 0.0 * dL_da1)\n",
    "    # Partial derivative of the loss function with respect to the weights of the connections between the input layer and the first hidden layers\n",
    "    dL_dW1 = torch.matmul(dL_dz1.T, X)\n",
    "\n",
    "    return dL_dW1, dL_dW2, dL_dW3\n",
    "\n",
    "\n",
    "def StochasticGradintDescent(dL_dW1, dL_dW2, dL_dW3, W, lr):\n",
    "    # Update weights using SGD\n",
    "    W[0] -= lr * dL_dW1\n",
    "    W[1] -= lr * dL_dW2\n",
    "    W[2] -= lr * dL_dW3\n",
    "\n",
    "    return W"
   ]
  },
  {
   "cell_type": "markdown",
   "metadata": {},
   "source": [
    "# Exercise 1"
   ]
  },
  {
   "cell_type": "markdown",
   "id": "639d6e4b",
   "metadata": {},
   "source": [
    "## Exercise 1, a)"
   ]
  },
  {
   "cell_type": "markdown",
   "id": "6459da99",
   "metadata": {},
   "source": [
    "To optimize deep neural networks (DNN) backpropagation and gradient descent are often used.\n",
    "Distinguish between these two algorithms, if there is any distinction, and explain how they can be\n",
    "used for DNN optimization."
   ]
  },
  {
   "cell_type": "markdown",
   "id": "ae82d1c7",
   "metadata": {},
   "source": [
    "\n",
    "**Backpropagation vs. Gradient Descent for DNN Optimization**\n",
    "\n",
    "**Distinction**\n",
    "\n",
    "Backpropagation is an algorithm for calculating the gradient of a loss function with respect to the parameters of a neural network. Gradient descent is an algorithm for optimizing a function by iteratively moving in the direction of the negative gradient.\n",
    "\n",
    "How they can be used for DNN optimization\n",
    "\n",
    "Backpropagation is used to calculate the gradient of the loss function with respect to the weights of the neural network. This gradient is then used by gradient descent to update the weights in the direction of the negative gradient, which reduces the loss function.\n",
    "\n",
    "**Example**\n",
    "\n",
    "Consider a simple neural network with two inputs, one hidden layer, and one output. The loss function for this network could be the mean squared error between the predicted output and the ground truth output.\n",
    "\n",
    "To use backpropagation to calculate the gradient of the loss function with respect to the weights of the network, we would start at the output layer and work our way backwards. At each layer, we would calculate the error at that layer and then propagate it back to the previous layer. This process would continue until we reached the input layer.\n",
    "\n",
    "Once we have calculated the gradient of the loss function with respect to the weights of the network, we can use gradient descent to update the weights in the direction of the negative gradient. This will help the network to learn and reduce the loss function.\n",
    "\n",
    "Advantages and disadvantages\n",
    "\n",
    "**Backpropagation**\n",
    "\n",
    "Advantages:\n",
    "Easy to implement\n",
    "Efficient for calculating the gradient of the loss function with respect to the weights of a neural network\n",
    "Disadvantages:\n",
    "Can be computationally expensive for large neural networks\n",
    "\n",
    "**Gradient descent**\n",
    "\n",
    "Advantages:\n",
    "Simple to implement\n",
    "Efficient for optimizing a function by iteratively moving in the direction of the negative gradient\n",
    "Disadvantages:\n",
    "Can be prone to getting stuck in local minima\n",
    "Conclusion\n",
    "\n",
    "Backpropagation and gradient descent are two essential algorithms for optimizing deep neural networks. Backpropagation is used to calculate the gradient of the loss function with respect to the weights of the network, while gradient descent is used to update the weights in the direction of the negative gradient. By combining these two algorithms, we can train deep neural networks to perform complex tasks."
   ]
  },
  {
   "cell_type": "markdown",
   "id": "d3e5d18e",
   "metadata": {},
   "source": [
    "#### References"
   ]
  },
  {
   "cell_type": "markdown",
   "id": "37abdddb",
   "metadata": {},
   "source": [
    " - https://www.analyticsvidhya.com/blog/2023/01/gradient-descent-vs-backpropagation-whats-the-difference/#:~:text=To%20put%20it%20plainly%2C%20gradient,gradient%20descent%20relies%20on%20backpropagation."
   ]
  },
  {
   "cell_type": "markdown",
   "id": "1cdbdc33",
   "metadata": {},
   "source": [
    "## Exercise 1, b)"
   ]
  },
  {
   "cell_type": "code",
   "execution_count": 3,
   "metadata": {},
   "outputs": [],
   "source": [
    "input_values = torch.tensor([[5., 4., 1., 3., 2.]])\n",
    "\n",
    "y_true = torch.tensor([1.])\n",
    "\n",
    "w1 = torch.tensor([[2., 2., 2., 2., 2.],\n",
    "                   [2., 2., 2., 2., 2.],\n",
    "                   [2., 2., 2., 2., 2.]])\n",
    "\n",
    "w2 = torch.tensor([[2., 2., 2.],\n",
    "                   [2., 2., 2.]])\n",
    "\n",
    "w3 = torch.tensor([[2., 2.]])\n",
    "\n",
    "W = list([w1, w2, w3])"
   ]
  },
  {
   "cell_type": "code",
   "execution_count": 4,
   "metadata": {},
   "outputs": [
    {
     "name": "stdout",
     "output_type": "stream",
     "text": [
      "Predicted Output (a3): 1.0\n",
      "Expected Output (y_true): 1.0\n",
      "Binary Cross-Entropy Loss: 0.0\n"
     ]
    }
   ],
   "source": [
    "a3, a2, a1 = ForwardPass(input_values, W)\n",
    "loss = BCE_Loss(y_true, a3)\n",
    "\n",
    "print(\"Predicted Output (a3):\", a3.item())\n",
    "print(\"Expected Output (y_true):\", y_true.item())\n",
    "print(\"Binary Cross-Entropy Loss:\", loss.item())"
   ]
  },
  {
   "cell_type": "code",
   "execution_count": 5,
   "metadata": {},
   "outputs": [
    {
     "name": "stdout",
     "output_type": "stream",
     "text": [
      "dL_dW1: tensor([[0., 0., 0., 0., 0.],\n",
      "        [0., 0., 0., 0., 0.],\n",
      "        [0., 0., 0., 0., 0.]])\n",
      "dL_dW2: tensor([[0., 0., 0.],\n",
      "        [0., 0., 0.]])\n",
      "dL_dW3: tensor([[0., 0.]])\n"
     ]
    }
   ],
   "source": [
    "dL_dW1, dL_dW2, dL_dW3 = BackwardPass(input_values, a1, a2, a3, y_true, W)\n",
    "\n",
    "print(\"dL_dW1:\", dL_dW1)\n",
    "print(\"dL_dW2:\", dL_dW2)\n",
    "print(\"dL_dW3:\", dL_dW3)"
   ]
  },
  {
   "cell_type": "code",
   "execution_count": 6,
   "metadata": {},
   "outputs": [
    {
     "name": "stdout",
     "output_type": "stream",
     "text": [
      "Updated W1: tensor([[2., 2., 2., 2., 2.],\n",
      "        [2., 2., 2., 2., 2.],\n",
      "        [2., 2., 2., 2., 2.]])\n",
      "Updated W2: tensor([[2., 2., 2.],\n",
      "        [2., 2., 2.]])\n",
      "Updated W3: tensor([[2., 2.]])\n"
     ]
    }
   ],
   "source": [
    "W = StochasticGradintDescent(dL_dW1, dL_dW2, dL_dW3, W, lr = 0.2)\n",
    "\n",
    "print(\"Updated W1:\", W[0])\n",
    "print(\"Updated W2:\", W[1])\n",
    "print(\"Updated W3:\", W[2])"
   ]
  },
  {
   "cell_type": "markdown",
   "metadata": {},
   "source": [
    "<h2>After updating your weights what do you observe? Explain why.</h2>\n",
    "<p>After computing the loss and doing a backward pass, and given that all weights were initialized with the value 2, we can see that none of the weights changed. Tracing back the steps made, we can see that all partial derivatives with respect to all the weights have a value of 0, which corroborates the fact that none of the weight's values changed. These partial derivatives measure the weight's variation in order for the loss of the neural network to decrease. So, the question now becomes, why all partial derivatives with respect to all weights show that no variation in their values is required in order to decrease the loss? Well, that's because the loss is already at its minimum, which is zero. Looking at how the binary loss is computed, we see that both the expected value and predicted value are exactly the same value, one, meaning that our network predicted perfectly the target. So, this means that there's no more room for improvement, and that's why all partial derivatives with respect to the weights are zero, and as consequence, the weight matrices didn't change.</p>"
   ]
  },
  {
   "cell_type": "markdown",
   "id": "57464e93",
   "metadata": {},
   "source": [
    "#### References"
   ]
  },
  {
   "cell_type": "markdown",
   "metadata": {},
   "source": [
    "https://towardsdatascience.com/nothing-but-numpy-understanding-creating-binary-classification-neural-networks-with-e746423c8d5c"
   ]
  },
  {
   "cell_type": "markdown",
   "id": "81ece54d",
   "metadata": {},
   "source": [
    "## Exercise 1, c)"
   ]
  },
  {
   "cell_type": "code",
   "execution_count": 13,
   "id": "da62d44f",
   "metadata": {},
   "outputs": [
    {
     "name": "stdout",
     "output_type": "stream",
     "text": [
      "Epoch 1, Loss: 0.961732804616377\n",
      "Epoch 2, Loss: 0.5474599316430244\n",
      "Epoch 3, Loss: 0.4815413070512987\n",
      "Epoch 4, Loss: 0.44872575202412696\n",
      "Epoch 5, Loss: 0.4265495993689433\n",
      "Epoch 6, Loss: 0.4093995988051266\n",
      "Epoch 7, Loss: 0.39465504908549\n",
      "Epoch 8, Loss: 0.38299932659689045\n",
      "Epoch 9, Loss: 0.3717110209754789\n",
      "Epoch 10, Loss: 0.36276883485792544\n",
      "Accuracy on test set: 84.47%\n",
      "Cross-Entropy on training set: 0.37405235665058023\n",
      "Cross-Entropy on test set: 0.4217475307215551\n"
     ]
    }
   ],
   "source": [
    "import torch\n",
    "import torch.nn as nn\n",
    "import torch.optim as optim\n",
    "import torchvision\n",
    "import torchvision.transforms as transforms\n",
    "import torch.nn.functional as F\n",
    "\n",
    "class Net(nn.Module):\n",
    "    def __init__(self):\n",
    "        super(Net, self).__init__()  # Corrected super() call\n",
    "        self.fc1 = nn.Linear(784, 256)  # Input size for MNIST is 28x28=784\n",
    "        self.fc2 = nn.Linear(256, 128)\n",
    "        self.fc3 = nn.Linear(128, 10)   # 10 output classes for Fashion-MNIST\n",
    "\n",
    "    def forward(self, x):\n",
    "        x = x.view(-1, 784)  # Flatten the input\n",
    "        x = F.relu(self.fc1(x))\n",
    "        x = F.relu(self.fc2(x))\n",
    "        # ver leaky relu para segunda hidden layer\n",
    "        \n",
    "        x = self.fc3(x)\n",
    "        return x\n",
    "\n",
    "transform = transforms.Compose([transforms.ToTensor(), transforms.Normalize((0.5,), (0.5,))])\n",
    "\n",
    "trainset = torchvision.datasets.FashionMNIST(root='./data', train=True, download=True, transform=transform)\n",
    "testset = torchvision.datasets.FashionMNIST(root='./data', train=False, download=True, transform=transform)\n",
    "\n",
    "# For MNIST\n",
    "# trainset = torchvision.datasets.MNIST(root='./data', train=True, download=True, transform=transform)\n",
    "# testset = torchvision.datasets.MNIST(root='./data', train=False, download=True, transform=transform)\n",
    "\n",
    "trainloader = torch.utils.data.DataLoader(trainset, batch_size=64, shuffle=True)\n",
    "testloader = torch.utils.data.DataLoader(testset, batch_size=64, shuffle=False)\n",
    "\n",
    "# Initialize the network, loss function, and optimizer\n",
    "net = Net()\n",
    "criterion = nn.CrossEntropyLoss()\n",
    "optimizer = optim.SGD(net.parameters(), lr=0.01)\n",
    "\n",
    "# Training loop\n",
    "for epoch in range(10):  # You can adjust the number of epochs\n",
    "    running_loss = 0.0\n",
    "    for i, data in enumerate(trainloader, 0):\n",
    "        inputs, labels = data\n",
    "        optimizer.zero_grad()\n",
    "        outputs = net(inputs)\n",
    "        loss = criterion(outputs, labels)\n",
    "        loss.backward()\n",
    "        optimizer.step()\n",
    "        running_loss += loss.item()\n",
    "    print(f\"Epoch {epoch+1}, Loss: {running_loss / len(trainloader)}\")\n",
    "\n",
    "# Testing the network\n",
    "correct = 0\n",
    "total = 0\n",
    "with torch.no_grad():\n",
    "    for data in testloader:\n",
    "        images, labels = data\n",
    "        outputs = net(images)\n",
    "        _, predicted = torch.max(outputs.data, 1)\n",
    "        total += labels.size(0)\n",
    "        correct += (predicted == labels).sum().item()\n",
    "\n",
    "print(f\"Accuracy on test set: {100 * correct / total}%\")\n",
    "\n",
    "# Calculate Cross-Entropy on the training and test sets\n",
    "train_loss = 0.0\n",
    "test_loss = 0.0\n",
    "with torch.no_grad():\n",
    "    for data in trainloader:\n",
    "        inputs, labels = data\n",
    "        outputs = net(inputs)\n",
    "        train_loss += criterion(outputs, labels).item()\n",
    "    \n",
    "    for data in testloader:\n",
    "        inputs, labels = data\n",
    "        outputs = net(inputs)\n",
    "        test_loss += criterion(outputs, labels).item()\n",
    "\n",
    "print(f\"Cross-Entropy on training set: {train_loss / len(trainloader)}\")\n",
    "print(f\"Cross-Entropy on test set: {test_loss / len(testloader)}\")\n"
   ]
  },
  {
   "cell_type": "markdown",
   "id": "eeb9fcbb",
   "metadata": {},
   "source": [
    "## Exercise 1, d)"
   ]
  },
  {
   "cell_type": "markdown",
   "id": "9c9d6da6",
   "metadata": {},
   "source": [
    "To improve the previous feedforward neural network for the Fashion-MNIST classification task, we can make the following changes:\n",
    "\n",
    "**Increase Network Complexity**: We can add more hidden layers and neurons to increase the network's capacity to learn complex patterns in the data.\n",
    "\n",
    "**Use Different Activation Function**: Instead of using ReLU (Rectified Linear Unit) activation, we can try a different activation function like Leaky ReLU, which might help with training.\n",
    "\n",
    "**Regularization Techniques**: To prevent overfitting, we can add dropout layers and L2 regularization to the network.\n",
    "\n",
    "**Batch Normalization**: Applying batch normalization can help stabilize and speed up training."
   ]
  },
  {
   "cell_type": "code",
   "execution_count": 14,
   "id": "cf2b99ef",
   "metadata": {},
   "outputs": [
    {
     "name": "stdout",
     "output_type": "stream",
     "text": [
      "Epoch 1, Loss: 0.45866134827896987\n",
      "Epoch 2, Loss: 0.3540881048721164\n",
      "Epoch 3, Loss: 0.32221466568169566\n",
      "Epoch 4, Loss: 0.2985416015884134\n",
      "Epoch 5, Loss: 0.28089767953416683\n",
      "Epoch 6, Loss: 0.2671330156070845\n",
      "Epoch 7, Loss: 0.25372612392946853\n",
      "Epoch 8, Loss: 0.24080968309027045\n",
      "Epoch 9, Loss: 0.23350627290239848\n",
      "Epoch 10, Loss: 0.22304274401526208\n",
      "Accuracy on test set: 88.66%\n",
      "Cross-Entropy on training set: 0.19269801209222026\n",
      "Cross-Entropy on test set: 0.320014977293789\n"
     ]
    }
   ],
   "source": [
    "import torch\n",
    "import torch.nn as nn\n",
    "import torch.optim as optim\n",
    "import torchvision\n",
    "import torchvision.transforms as transforms\n",
    "\n",
    "# Define a more complex neural network\n",
    "class ComplexNet(nn.Module):\n",
    "    def __init__(self):\n",
    "        super(ComplexNet, self).__init__()\n",
    "        self.fc1 = nn.Linear(784, 512)\n",
    "        self.fc2 = nn.Linear(512, 256)\n",
    "        self.fc3 = nn.Linear(256, 128)\n",
    "        self.fc4 = nn.Linear(128, 10)\n",
    "        self.relu = nn.LeakyReLU(0.2)\n",
    "        self.dropout = nn.Dropout(0.5)\n",
    "        self.batch_norm1 = nn.BatchNorm1d(512)\n",
    "        self.batch_norm2 = nn.BatchNorm1d(256)\n",
    "        self.batch_norm3 = nn.BatchNorm1d(128)\n",
    "\n",
    "    def forward(self, x):\n",
    "        x = x.view(-1, 784)\n",
    "        x = self.relu(self.batch_norm1(self.fc1(x)))\n",
    "        x = self.relu(self.batch_norm2(self.fc2(x)))\n",
    "        x = self.relu(self.batch_norm3(self.fc3(x)))\n",
    "        x = self.fc4(x)\n",
    "        return x\n",
    "\n",
    "# Data loading and preprocessing\n",
    "transform = transforms.Compose([transforms.ToTensor(), transforms.Normalize((0.5,), (0.5,))])\n",
    "trainset = torchvision.datasets.FashionMNIST(root='./data', train=True, download=True, transform=transform)\n",
    "testset = torchvision.datasets.FashionMNIST(root='./data', train=False, download=True, transform=transform)\n",
    "trainloader = torch.utils.data.DataLoader(trainset, batch_size=64, shuffle=True)\n",
    "testloader = torch.utils.data.DataLoader(testset, batch_size=64, shuffle=False)\n",
    "\n",
    "# Initialize the network, loss function, and optimizer\n",
    "net = ComplexNet()\n",
    "criterion = nn.CrossEntropyLoss()\n",
    "optimizer = optim.Adam(net.parameters(), lr=0.001, weight_decay=1e-5)  # L2 regularization\n",
    "\n",
    "# Training loop\n",
    "for epoch in range(10):\n",
    "    running_loss = 0.0\n",
    "    for i, data in enumerate(trainloader, 0):\n",
    "        inputs, labels = data\n",
    "        optimizer.zero_grad()\n",
    "        outputs = net(inputs)\n",
    "        loss = criterion(outputs, labels)\n",
    "        loss.backward()\n",
    "        optimizer.step()\n",
    "        running_loss += loss.item()\n",
    "    print(f\"Epoch {epoch+1}, Loss: {running_loss / len(trainloader)}\")\n",
    "\n",
    "# Testing the network\n",
    "correct = 0\n",
    "total = 0\n",
    "with torch.no_grad():\n",
    "    for data in testloader:\n",
    "        images, labels = data\n",
    "        outputs = net(images)\n",
    "        _, predicted = torch.max(outputs.data, 1)\n",
    "        total += labels.size(0)\n",
    "        correct += (predicted == labels).sum().item()\n",
    "\n",
    "print(f\"Accuracy on test set: {100 * correct / total}%\")\n",
    "\n",
    "# Calculate Cross-Entropy on the training and test sets\n",
    "train_loss = 0.0\n",
    "test_loss = 0.0\n",
    "with torch.no_grad():\n",
    "    for data in trainloader:\n",
    "        inputs, labels = data\n",
    "        outputs = net(inputs)\n",
    "        train_loss += criterion(outputs, labels).item()\n",
    "    \n",
    "    for data in testloader:\n",
    "        inputs, labels = data\n",
    "        outputs = net(inputs)\n",
    "        test_loss += criterion(outputs, labels).item()\n",
    "\n",
    "print(f\"Cross-Entropy on training set: {train_loss / len(trainloader)}\")\n",
    "print(f\"Cross-Entropy on test set: {test_loss / len(testloader)}\")\n"
   ]
  },
  {
   "cell_type": "markdown",
   "id": "be4b56a1",
   "metadata": {},
   "source": [
    "### Explaining results\n",
    "\n",
    "Original Simple Feedforward Neural Network:\n",
    "\n",
    "After 10 epochs, the loss on the training set is 0.3628, and the accuracy on the test set is 84.47%.\n",
    "The Cross-Entropy on the training set is 0.3741, and on the test set, it's 0.4217.\n",
    "Modified Complex Feedforward Neural Network:\n",
    "\n",
    "After 10 epochs, the loss on the training set is 0.2230, and the accuracy on the test set is 88.66%.\n",
    "The Cross-Entropy on the training set is 0.1927, and on the test set, it's 0.3200.\n",
    "Comparison:\n",
    "\n",
    "Training Loss: The modified complex network achieves a significantly lower training loss (0.2230) compared to the original simple network (0.3628). This indicates that the complex network learns the training data better.\n",
    "\n",
    "Test Accuracy: The modified complex network achieves a higher test accuracy (88.66%) compared to the original simple network (84.47%). This suggests that the complex network generalizes better to unseen data.\n",
    "\n",
    "Cross-Entropy: The Cross-Entropy on the training set is lower for the complex network (0.1927) compared to the original network (0.3741). Additionally, the Cross-Entropy on the test set is lower for the complex network (0.3200) compared to the original network (0.4217). Lower Cross-Entropy values indicate better model performance.\n",
    "\n",
    "In summary, the modified complex feedforward neural network with increased complexity, Leaky ReLU activations, L2 regularization, batch normalization, and dropout shows improved performance over the original simple network. It achieves both lower training loss and better generalization to the test set, resulting in higher accuracy and lower Cross-Entropy."
   ]
  },
  {
   "cell_type": "markdown",
   "metadata": {},
   "source": [
    "## Exercise 1, e)"
   ]
  },
  {
   "cell_type": "markdown",
   "metadata": {},
   "source": []
  }
 ],
 "metadata": {
  "kernelspec": {
   "display_name": "Python 3 (ipykernel)",
   "language": "python",
   "name": "python3"
  },
  "language_info": {
   "codemirror_mode": {
    "name": "ipython",
    "version": 3
   },
   "file_extension": ".py",
   "mimetype": "text/x-python",
   "name": "python",
   "nbconvert_exporter": "python",
   "pygments_lexer": "ipython3",
   "version": "3.10.9"
  }
 },
 "nbformat": 4,
 "nbformat_minor": 5
}
