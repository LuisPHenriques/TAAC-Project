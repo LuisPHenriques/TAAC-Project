{
 "cells": [
  {
   "cell_type": "markdown",
   "metadata": {},
   "source": [
    "# Libraries & Custom functions"
   ]
  },
  {
   "cell_type": "code",
   "execution_count": 1,
   "metadata": {
    "ExecuteTime": {
     "end_time": "2023-11-09T19:13:33.987356600Z",
     "start_time": "2023-11-09T19:13:33.967326600Z"
    }
   },
   "outputs": [],
   "source": [
    "import torch\n",
    "import torchvision\n",
    "import torchvision.transforms as transforms\n",
    "import torch.nn.functional as F\n",
    "import matplotlib.pyplot as plt\n",
    "import numpy as np\n",
    "\n",
    "from torch.utils.data import DataLoader\n",
    "from tqdm import tqdm\n",
    "\n",
    "# Ignore UserWarning\n",
    "import warnings\n",
    "warnings.filterwarnings(\"ignore\", category=UserWarning)"
   ]
  },
  {
   "cell_type": "code",
   "execution_count": 36,
   "metadata": {},
   "outputs": [],
   "source": [
    "############################################################### Functions for Part 1 b) ###############################################################\n",
    "\n",
    "def BCE_Loss(y_true, y_hat):\n",
    "    if y_true == y_hat:\n",
    "        return torch.tensor(0.)\n",
    "\n",
    "    return -1 * (y_true * torch.log(y_hat) + (1 - y_true) * torch.log(1 - y_hat))\n",
    "\n",
    "\n",
    "def ForwardPass(X, W, b = 0):\n",
    "\n",
    "    z1 = torch.matmul(X, W[0].T) + b\n",
    "    a1 = F.relu(z1)\n",
    "\n",
    "    z2 = torch.matmul(a1, W[1].T) + b\n",
    "    a2 = F.leaky_relu(z2, negative_slope = 0.01)\n",
    "\n",
    "    z3 = torch.matmul(a2, W[2].T) + b\n",
    "    a3 = F.sigmoid(z3)\n",
    "\n",
    "    return a3, a2, a1\n",
    "\n",
    "\n",
    "def BackwardPass(X, a1, a2, a3, y_true, W):\n",
    "\n",
    "    # Partial derivative of the loss function with respect to the prediction\n",
    "    dL_da3 = -1 * (y_true / a3 - (1 - y_true) / (1 - a3)) if y_true != a3 else torch.tensor([0.])\n",
    "    # Partial derivative of the loss function with respect to z3, using the sigmoid derivative\n",
    "    dL_dz3 = dL_da3 * (a3 * (1 - a3))\n",
    "    # Partial derivative of the loss function with respect to the weights of the connections between the second hidden layer and the output layer\n",
    "    dL_dW3 = torch.matmul(dL_dz3.T, a2)\n",
    "\n",
    "    # Partial derivative of the loss function with respect to the activation values from the second hidden layer\n",
    "    dL_da2 = torch.matmul(dL_dz3, W[2])\n",
    "    # Partial derivative of the loss function with respect to z2, using the Leaky ReLU derivative\n",
    "    dL_dz2 = torch.where(a2 >= 0, dL_da2, 0.01 * dL_da2)\n",
    "    # Partial derivative of the loss function with respect to the weights of the connections between the first and second hidden layers\n",
    "    dL_dW2 = torch.matmul(dL_dz2.T, a1)\n",
    "\n",
    "    # Partial derivative of the loss function with respect to the activation values from the first hidden layer\n",
    "    dL_da1 = torch.matmul(dL_dz2, W[1])\n",
    "    # Partial derivative of the loss function with respect to z2, using the ReLU derivative\n",
    "    dL_dz1 = torch.where(a1 >= 0, dL_da1, 0.0 * dL_da1)\n",
    "    # Partial derivative of the loss function with respect to the weights of the connections between the input layer and the first hidden layers\n",
    "    dL_dW1 = torch.matmul(dL_dz1.T, X)\n",
    "\n",
    "    return dL_dW1, dL_dW2, dL_dW3\n",
    "\n",
    "\n",
    "def StochasticGradientDescent(dL_dW1, dL_dW2, dL_dW3, W, lr):\n",
    "    # Update weights using SGD\n",
    "    W[0] -= lr * dL_dW1\n",
    "    W[1] -= lr * dL_dW2\n",
    "    W[2] -= lr * dL_dW3\n",
    "\n",
    "    return W\n",
    "\n",
    "\n",
    "############################################################### Functions for Part 1 c) and d) ###############################################################\n",
    "\n",
    "# Define a function to display a batch of images\n",
    "def imshow(img):\n",
    "    img = img / 2 + 0.5  # Unnormalize the image\n",
    "    npimg = img.numpy()\n",
    "    plt.imshow(np.transpose(npimg, (1, 2, 0)))  # Fix the missing closing parenthesis\n",
    "    plt.show()\n",
    "\n",
    "\n",
    "def set_device():\n",
    "    if torch.cuda.is_available():\n",
    "        device = torch.device('cuda')\n",
    "\n",
    "    elif torch.backends.mps.is_available():\n",
    "        device = torch.device('mps')\n",
    "\n",
    "    else:\n",
    "        device = torch.device('cpu')\n",
    "    print('Device:', device)\n",
    "\n",
    "    return device\n",
    "\n",
    "\n",
    "class NeuralNetwork_Exercise1_c(torch.nn.Module):\n",
    "    def __init__(self):\n",
    "        super().__init__()\n",
    "        self.fc1 = torch.nn.Linear(784, 256)  # Input size for MNIST is 28x28=784\n",
    "        self.fc2 = torch.nn.Linear(256, 128)\n",
    "        self.fc3 = torch.nn.Linear(128, 10)   # 10 output classes for Fashion-MNIST\n",
    "        self.relu = torch.nn.ReLU()\n",
    "        self.leaky_relu = torch.nn.LeakyReLU(0.01)\n",
    "\n",
    "    def forward(self, x):\n",
    "        x = x.view(-1, 784)  # Flatten the input\n",
    "        x = self.relu(self.fc1(x))\n",
    "        x = self.leaky_relu(self.fc2(x))\n",
    "        x = self.fc3(x)\n",
    "        return x\n",
    "\n",
    "\n",
    "# Define a more complex neural network\n",
    "class NeuralNetwork_Exercise1_d(torch.nn.Module):\n",
    "    def __init__(self):\n",
    "        super().__init__()\n",
    "        self.input_layer = torch.nn.Linear(784, 256)\n",
    "        self.fc_128_256 = torch.nn.Linear(128, 256)\n",
    "        self.fc_256_512 = torch.nn.Linear(256, 512)\n",
    "        self.fc_128_128 = torch.nn.Linear(128, 128)\n",
    "        self.fc_256_256 = torch.nn.Linear(256, 256)\n",
    "        self.fc_512_512 = torch.nn.Linear(512, 512)\n",
    "        self.fc_512_1024 = torch.nn.Linear(512, 1024)\n",
    "        self.fc_1024_1024 = torch.nn.Linear(1024, 1024)\n",
    "        self.fc_1024_2048 = torch.nn.Linear(1024, 2048)\n",
    "        self.fc_2048_1024 = torch.nn.Linear(2048, 1024)\n",
    "        self.fc_2048_2048 = torch.nn.Linear(2048, 2048)\n",
    "        self.fc_1024_512 = torch.nn.Linear(1024, 512)\n",
    "        self.fc_512_256 = torch.nn.Linear(512, 256)\n",
    "        self.fc_256_128 = torch.nn.Linear(256, 128)\n",
    "        self.fc_128_64 = torch.nn.Linear(128, 64)\n",
    "        self.output_layer = torch.nn.Linear(64, 10)\n",
    "        self.leaky_relu = torch.nn.LeakyReLU(0.01)\n",
    "        self.relu = torch.nn.ReLU()\n",
    "        self.prelu = torch.nn.PReLU()\n",
    "        self.relu6 = torch.nn.ReLU6()\n",
    "        self.selu = torch.nn.SELU()\n",
    "        self.celu = torch.nn.CELU()\n",
    "        self.gelu = torch.nn.GELU()\n",
    "        self.silu = torch.nn.SiLU()\n",
    "        self.sigmoid = torch.nn.Sigmoid()\n",
    "        self.dropout_10 = torch.nn.Dropout(0.1)\n",
    "        self.dropout_20 = torch.nn.Dropout(0.2)\n",
    "        self.dropout_30 = torch.nn.Dropout(0.3)\n",
    "        self.dropout_40 = torch.nn.Dropout(0.4)\n",
    "        self.dropout_50 = torch.nn.Dropout(0.5)\n",
    "        self.dropout_60 = torch.nn.Dropout(0.6)\n",
    "        self.dropout_70 = torch.nn.Dropout(0.7)\n",
    "        self.batch_norm2048 = torch.nn.BatchNorm1d(2048)\n",
    "        self.batch_norm1024 = torch.nn.BatchNorm1d(1024)\n",
    "        self.batch_norm512 = torch.nn.BatchNorm1d(512)\n",
    "        self.batch_norm256 = torch.nn.BatchNorm1d(256)\n",
    "        self.batch_norm128 = torch.nn.BatchNorm1d(128)\n",
    "        self.batch_norm64 = torch.nn.BatchNorm1d(64)\n",
    "\n",
    "    def forward(self, x):\n",
    "        x = x.view(-1, 784)\n",
    "        x = self.relu6(self.batch_norm256(self.input_layer(x)))\n",
    "        x = self.dropout_70(x)\n",
    "        x = self.relu6(self.batch_norm128(self.fc_256_128(x)))\n",
    "        x = self.dropout_20(x)\n",
    "        x = self.relu6(self.batch_norm64(self.fc_128_64(x)))\n",
    "        x = self.output_layer(x)\n",
    "        return x\n",
    "\n",
    "\n",
    "def train_c(model, train_loader, optimizer, loss_func, epochs, device, **kwargs):\n",
    "\n",
    "    num_epochs = kwargs.get('num_epochs', epochs)\n",
    "    loss_fn = kwargs.get('loss_fn', loss_func)\n",
    "    device = kwargs.get('device', device)\n",
    "\n",
    "    train_loss_hist, train_acc_hist = [], []\n",
    "    for epoch in range(num_epochs):\n",
    "        print(f'Epoch {epoch + 1}/{num_epochs}')\n",
    "\n",
    "        print('Training phase...')\n",
    "        model.train()\n",
    "        train_loss = 0.\n",
    "        total = 0.\n",
    "        correct = 0.\n",
    "        pbar = tqdm(enumerate(train_loader), total = len(train_loader))\n",
    "\n",
    "        for batch_idx, (data, target) in pbar:\n",
    "            data = data.to(device)\n",
    "            target = target.to(device)\n",
    "            model.zero_grad()\n",
    "            output = model(data)\n",
    "            loss = loss_fn(output, target)\n",
    "            loss.backward()\n",
    "            optimizer.step()\n",
    "\n",
    "            train_loss += loss.item()\n",
    "\n",
    "            _, predicted = torch.max(output.data, 1)\n",
    "            total += target.size(0)\n",
    "            correct += (predicted == target).sum().item()\n",
    "\n",
    "            pbar.set_description(f'Loss = {loss:.4f}  |  Accuracy = {100 * correct / total:.2f}% | Batch ID = {batch_idx + 1} ')\n",
    "\n",
    "        train_loss /= len(train_loader)\n",
    "        train_accuracy = 100 * correct / total\n",
    "        print(f'Training Cross-Entropy Loss = {train_loss:.4f}')\n",
    "        print(f'Training Accuracy = {train_accuracy:.2f}%')\n",
    "        print()\n",
    "\n",
    "        train_loss_hist.append(train_loss)\n",
    "        train_acc_hist.append(train_accuracy)\n",
    "\n",
    "    print(f\"Cross-Entropy on training set:  {train_loss_hist[-1]:.4f}\")\n",
    "    print(f\"Accuracy on training set:       {train_acc_hist[-1]:.2f}%\")\n",
    "\n",
    "    return train_loss_hist, train_acc_hist\n",
    "\n",
    "\n",
    "def train_d(model, train_loader, optimizer, scheduler, loss_func, epochs, device, **kwargs):\n",
    "\n",
    "    num_epochs = kwargs.get('num_epochs', epochs)\n",
    "    loss_fn = kwargs.get('loss_fn', loss_func)\n",
    "    device = kwargs.get('device', device)\n",
    "\n",
    "    train_loss_hist, train_acc_hist = [], []\n",
    "    for epoch in range(num_epochs):\n",
    "        print(f'Epoch {epoch + 1}/{num_epochs}')\n",
    "\n",
    "        print('Training phase...')\n",
    "        model.train()\n",
    "        train_loss = 0.\n",
    "        total = 0.\n",
    "        correct = 0.\n",
    "        pbar = tqdm(enumerate(train_loader), total = len(train_loader))\n",
    "\n",
    "        for batch_idx, (data, target) in pbar:\n",
    "            data = data.to(device)\n",
    "            target = target.to(device)\n",
    "            model.zero_grad()\n",
    "            output = model(data)\n",
    "            loss = loss_fn(output, target)\n",
    "            loss.backward()\n",
    "            optimizer.step()\n",
    "\n",
    "            train_loss += loss.item()\n",
    "\n",
    "            _, predicted = torch.max(output.data, 1)\n",
    "            total += target.size(0)\n",
    "            correct += (predicted == target).sum().item()\n",
    "\n",
    "            pbar.set_description(f'Loss = {loss:.4f}  |  Accuracy = {100 * correct / total:.2f}% | Batch ID = {batch_idx + 1} ')\n",
    "\n",
    "\n",
    "        train_loss /= len(train_loader)\n",
    "        train_accuracy = 100 * correct / total\n",
    "        print(f\"Learning Rate = {optimizer.param_groups[0]['lr']}\")\n",
    "        print(f'Training Cross-Entropy Loss = {train_loss:.4f}')\n",
    "        print(f'Training Accuracy = {train_accuracy:.2f}%')\n",
    "        print()\n",
    "        scheduler.step(train_loss)\n",
    "\n",
    "        train_loss_hist.append(train_loss)\n",
    "        train_acc_hist.append(train_accuracy)\n",
    "\n",
    "    print(f\"Cross-Entropy on training set:  {train_loss_hist[-1]:.4f}\")\n",
    "    print(f\"Accuracy on training set:       {train_acc_hist[-1]:.2f}%\")\n",
    "\n",
    "    return train_loss_hist, train_acc_hist\n",
    "\n",
    "\n",
    "def test(model, test_loader, loss_func, device):\n",
    "\n",
    "    model.eval()\n",
    "\n",
    "    correct = 0\n",
    "    total = 0\n",
    "    test_loss = 0\n",
    "    with torch.no_grad():\n",
    "        for images, labels in test_loader:\n",
    "            images = images.to(device)\n",
    "            labels = labels.to(device)\n",
    "            outputs = model(images)\n",
    "            _, predicted = torch.max(outputs.data, 1)\n",
    "            total += labels.size(0)\n",
    "            correct += (predicted == labels).sum().item()\n",
    "            test_loss += loss_func(outputs, labels).item()\n",
    "\n",
    "    test_loss /= len(test_loader)\n",
    "    test_acc = 100 * correct / total\n",
    "\n",
    "    print(f\"Cross-Entropy on test set: {test_loss:.4f}\")\n",
    "    print(f\"Accuracy on test set: {test_acc:.2f}%\")\n",
    "\n",
    "    return test_loss, test_acc"
   ]
  },
  {
   "cell_type": "markdown",
   "metadata": {},
   "source": [
    "# Exercise 1"
   ]
  },
  {
   "cell_type": "markdown",
   "id": "639d6e4b",
   "metadata": {},
   "source": [
    "## Exercise 1, a)\n",
    "\n",
    "### References\n",
    " - https://www.analyticsvidhya.com/blog/2023/01/gradient-descent-vs-backpropagation-whats-the-difference/#:~:text=To%20put%20it%20plainly%2C%20gradient,gradient%20descent%20relies%20on%20backpropagation."
   ]
  },
  {
   "cell_type": "markdown",
   "id": "ae82d1c7",
   "metadata": {},
   "source": [
    "**Backpropagation** and **gradient descent** are like a dynamic duo in training deep neural networks (DNNs).\n",
    "\n",
    "**Backpropagation** is the process of computing the partial derivatives of the network's parameters with respect to the loss function, in a backward manner. It's all about figuring out how much each parameter contributed to the error, layer by layer, starting from the output layer and working backward through the network. For that, it's crucial to understand the computational graph and the dependencies of each component of the network, for example the activation values. This info helps adjust the network's parameters so to minimize its cost, info that is used for gradient descent.\n",
    "\n",
    "Now, **gradient descent** is the optimization technique that works hand-in-hand with backpropagation. It's all about finding the (local or global) minimum of the loss function. The gradient (derivative) of the loss with respect to the parameters tells us the direction of the steepest increase. Gradient descent takes steps in the opposite direction to minimize the loss. In order to control how fast or slow the network optimizes its parameters, a learning rate is used, being multiplied with the gradients, and because this is a minimization problem, the old parameters are subtracted by the adjusted gradient of the respective parameters.\n",
    "\n",
    "So, to sum it up, backpropagation computes the gradients of the network's parameters, while gradient descent uses those gradients to minimize the loss function. They team up to make our neural networks smarter!"
   ]
  },
  {
   "cell_type": "markdown",
   "id": "1cdbdc33",
   "metadata": {},
   "source": [
    "## Exercise 1, b)\n",
    "\n",
    "### References\n",
    " - https://towardsdatascience.com/nothing-but-numpy-understanding-creating-binary-classification-neural-networks-with-e746423c8d5c"
   ]
  },
  {
   "cell_type": "code",
   "execution_count": 3,
   "metadata": {
    "ExecuteTime": {
     "end_time": "2023-11-09T17:33:08.426675300Z",
     "start_time": "2023-11-09T17:33:08.401129200Z"
    }
   },
   "outputs": [],
   "source": [
    "input_values = torch.tensor([[5., 4., 1., 3., 2.]])\n",
    "\n",
    "y_true = torch.tensor([1.])\n",
    "\n",
    "w1 = torch.tensor([[0.2, 0.2, 0.2, 0.2, 0.2],\n",
    "                   [0.2, 0.2, 0.2, 0.2, 0.2],\n",
    "                   [0.2, 0.2, 0.2, 0.2, 0.2]])\n",
    "\n",
    "w2 = torch.tensor([[0.2, 0.2, 0.2],\n",
    "                   [0.2, 0.2, 0.2]])\n",
    "\n",
    "w3 = torch.tensor([[0.2, 0.2]])\n",
    "\n",
    "W = list([w1, w2, w3])"
   ]
  },
  {
   "cell_type": "code",
   "execution_count": 4,
   "metadata": {
    "ExecuteTime": {
     "end_time": "2023-11-09T17:33:09.650782Z",
     "start_time": "2023-11-09T17:33:09.623704600Z"
    }
   },
   "outputs": [
    {
     "name": "stdout",
     "output_type": "stream",
     "text": [
      "Predicted Output (a3): 0.6726070046424866\n",
      "Expected Output (y_true): 1.0\n",
      "Binary Cross-Entropy Loss: 0.3965940773487091\n"
     ]
    }
   ],
   "source": [
    "a3, a2, a1 = ForwardPass(input_values, W)\n",
    "loss = BCE_Loss(y_true, a3)\n",
    "\n",
    "print(\"Predicted Output (a3):\", a3.item())\n",
    "print(\"Expected Output (y_true):\", y_true.item())\n",
    "print(\"Binary Cross-Entropy Loss:\", loss.item())"
   ]
  },
  {
   "cell_type": "code",
   "execution_count": 5,
   "metadata": {
    "ExecuteTime": {
     "end_time": "2023-11-09T17:33:10.257815700Z",
     "start_time": "2023-11-09T17:33:10.232677600Z"
    }
   },
   "outputs": [
    {
     "name": "stdout",
     "output_type": "stream",
     "text": [
      "dL_dW1: tensor([[-0.1310, -0.1048, -0.0262, -0.0786, -0.0524],\n",
      "        [-0.1310, -0.1048, -0.0262, -0.0786, -0.0524],\n",
      "        [-0.1310, -0.1048, -0.0262, -0.0786, -0.0524]])\n",
      "dL_dW2: tensor([[-0.1964, -0.1964, -0.1964],\n",
      "        [-0.1964, -0.1964, -0.1964]])\n",
      "dL_dW3: tensor([[-0.5893, -0.5893]])\n"
     ]
    }
   ],
   "source": [
    "dL_dW1, dL_dW2, dL_dW3 = BackwardPass(input_values, a1, a2, a3, y_true, W)\n",
    "\n",
    "print(\"dL_dW1:\", dL_dW1)\n",
    "print(\"dL_dW2:\", dL_dW2)\n",
    "print(\"dL_dW3:\", dL_dW3)"
   ]
  },
  {
   "cell_type": "code",
   "execution_count": 6,
   "metadata": {
    "ExecuteTime": {
     "end_time": "2023-11-09T17:33:10.416912Z",
     "start_time": "2023-11-09T17:33:10.404816300Z"
    }
   },
   "outputs": [
    {
     "name": "stdout",
     "output_type": "stream",
     "text": [
      "Updated W1: tensor([[0.2262, 0.2210, 0.2052, 0.2157, 0.2105],\n",
      "        [0.2262, 0.2210, 0.2052, 0.2157, 0.2105],\n",
      "        [0.2262, 0.2210, 0.2052, 0.2157, 0.2105]])\n",
      "Updated W2: tensor([[0.2393, 0.2393, 0.2393],\n",
      "        [0.2393, 0.2393, 0.2393]])\n",
      "Updated W3: tensor([[0.3179, 0.3179]])\n"
     ]
    }
   ],
   "source": [
    "W = StochasticGradientDescent(dL_dW1, dL_dW2, dL_dW3, W, lr = 0.2)\n",
    "\n",
    "print(\"Updated W1:\", W[0])\n",
    "print(\"Updated W2:\", W[1])\n",
    "print(\"Updated W3:\", W[2])"
   ]
  },
  {
   "cell_type": "markdown",
   "metadata": {},
   "source": [
    "<h2>After updating your weights what do you observe? Explain why.</h2>\n",
    "<p>After computing the loss and doing a backward pass, and given that all weights were initialized with the value 0.2, we can see that all weights increased their values. Tracing back the steps made, we can see that all partial derivatives with respect to all the weights have negative values (different than zero), which corroborates the fact that the weight's values changed in an increasing manner. Because the optimizer implemented was SGD, the symmetric of the partial derivatives with respect to the weights are used, being multiplied by the learning rate. So, considering the weight W[1][1], which is the weight of the connection between the first input node and the first node in the first hidden layer, we can see that dL_dW[1][1] is equal to -0.1310, and because the learning rate is 0.2, the adjusted negative gradient is -(-0.1301 * 0.2), which is equal to 0.0262, and then the new W[1][1] is 0.2 + 0.0262, which is the value that appears in W_updated[1][1] (0.2262). So, the question now becomes, why all partial derivatives of the loss with respect to all weights show non-zero values? Well, that's because the loss different than zero. Looking at how the binary loss is computed, we see that the loss was computed as -log(a[3]) because the ground truth is 1, as the second component of the function cancels out because we get a product with zero. So, this means that there's still more room for improvement, and that's why all partial derivatives with respect to the weights are non-zero, and as consequence, the weight matrices changed, in order to approximate this loss to zero.</p>"
   ]
  },
  {
   "cell_type": "markdown",
   "metadata": {},
   "source": [
    "## Exercise 1, c)\n",
    "\n",
    "#### References\n",
    " - https://medium.com/@aaysbt/fashion-mnist-data-training-using-pytorch-7f6ad71e96f4"
   ]
  },
  {
   "cell_type": "markdown",
   "metadata": {
    "collapsed": false
   },
   "source": [
    "#### Data Loader"
   ]
  },
  {
   "cell_type": "code",
   "execution_count": 7,
   "metadata": {
    "ExecuteTime": {
     "end_time": "2023-11-09T19:10:03.990715400Z",
     "start_time": "2023-11-09T19:10:03.908679100Z"
    },
    "collapsed": false
   },
   "outputs": [],
   "source": [
    "# Define data preprocessing and loading / Define a transform to convert to images to tensor and normalize\n",
    "transform = transforms.Compose([transforms.ToTensor(), transforms.Normalize((0.5,), (0.5,))])\n",
    "\n",
    "train_dataset = torchvision.datasets.FashionMNIST(root='./data', train=True, transform=transform, download=True)\n",
    "test_dataset = torchvision.datasets.FashionMNIST(root='./data', train=False, transform=transform, download=True)\n",
    "\n",
    "batch_size = 64\n",
    "\n",
    "train_loader = DataLoader(train_dataset, batch_size=batch_size, shuffle=True)\n",
    "test_loader = DataLoader(test_dataset, batch_size=batch_size, shuffle=False)"
   ]
  },
  {
   "cell_type": "markdown",
   "metadata": {
    "collapsed": false
   },
   "source": [
    "#### Data Visualization - Sample from the train_loader (size 64 - batch size)"
   ]
  },
  {
   "cell_type": "code",
   "execution_count": 8,
   "metadata": {
    "ExecuteTime": {
     "end_time": "2023-11-09T19:12:14.433585700Z",
     "start_time": "2023-11-09T19:12:14.245586300Z"
    },
    "collapsed": false
   },
   "outputs": [
    {
     "data": {
      "image/png": "[encoded data removed]",
      "text/plain": [
       "<Figure size 640x480 with 1 Axes>"
      ]
     },
     "metadata": {},
     "output_type": "display_data"
    },
    {
     "name": "stdout",
     "output_type": "stream",
     "text": [
      "    4     1     1     8     6     6     5     7     7     9     2     9     3     9     4     5     2     9     0     8     6     3     7     0     1     0     0     0     8     4     9     3     1     3     9     7     7     3     5     5     1     7     9     8     9     7     5     7     3     9     8     2     1     2     5     1     0     2     2     6     0     7     3     1\n"
     ]
    }
   ],
   "source": [
    "# Get a batch of training data\n",
    "dataiter = iter(train_loader)\n",
    "images, labels = next(dataiter)\n",
    "\n",
    "# Show images\n",
    "imshow(torchvision.utils.make_grid(images))\n",
    "# Print labels\n",
    "print(' '.join(f'{labels[j]:5}' for j in range(batch_size)))\n"
   ]
  },
  {
   "cell_type": "code",
   "execution_count": 9,
   "metadata": {},
   "outputs": [],
   "source": [
    "transform = transforms.Compose([transforms.ToTensor(), transforms.Normalize((0.5,), (0.5,))])\n",
    "trainset = torchvision.datasets.FashionMNIST(root = './data', train = True, download = True, transform = transform)\n",
    "testset = torchvision.datasets.FashionMNIST(root = './data', train = False, download = True, transform = transform)\n",
    "\n",
    "TrainLoader = torch.utils.data.DataLoader(trainset, batch_size = 2048, shuffle = True)\n",
    "TestLoader = torch.utils.data.DataLoader(testset, batch_size = 2048, shuffle = False)"
   ]
  },
  {
   "cell_type": "code",
   "execution_count": 10,
   "metadata": {},
   "outputs": [
    {
     "name": "stdout",
     "output_type": "stream",
     "text": [
      "Device: mps\n"
     ]
    }
   ],
   "source": [
    "# Initialize the network, loss function, and optimizer\n",
    "device = set_device()\n",
    "NeuralNetwork = NeuralNetwork_Exercise1_c().to(device)\n",
    "criterion = torch.nn.CrossEntropyLoss()\n",
    "optimizer = torch.optim.SGD(NeuralNetwork.parameters(), lr = 0.2)"
   ]
  },
  {
   "cell_type": "code",
   "execution_count": 11,
   "metadata": {},
   "outputs": [
    {
     "name": "stdout",
     "output_type": "stream",
     "text": [
      "Epoch 1/32\n",
      "Training phase...\n"
     ]
    },
    {
     "name": "stderr",
     "output_type": "stream",
     "text": [
      "  0%|          | 0/30 [00:00<?, ?it/s]"
     ]
    },
    {
     "name": "stderr",
     "output_type": "stream",
     "text": [
      "Loss = 1.0006  |  Accuracy = 54.12% | Batch ID = 30 : 100%|██████████| 30/30 [00:03<00:00,  8.84it/s]\n"
     ]
    },
    {
     "name": "stdout",
     "output_type": "stream",
     "text": [
      "Training Cross-Entropy Loss = 1.3706\n",
      "Training Accuracy = 54.12%\n",
      "\n",
      "Epoch 2/32\n",
      "Training phase...\n"
     ]
    },
    {
     "name": "stderr",
     "output_type": "stream",
     "text": [
      "Loss = 0.6904  |  Accuracy = 71.42% | Batch ID = 30 : 100%|██████████| 30/30 [00:03<00:00,  9.46it/s]\n"
     ]
    },
    {
     "name": "stdout",
     "output_type": "stream",
     "text": [
      "Training Cross-Entropy Loss = 0.7608\n",
      "Training Accuracy = 71.42%\n",
      "\n",
      "Epoch 3/32\n",
      "Training phase...\n"
     ]
    },
    {
     "name": "stderr",
     "output_type": "stream",
     "text": [
      "Loss = 0.6171  |  Accuracy = 74.71% | Batch ID = 30 : 100%|██████████| 30/30 [00:03<00:00,  9.41it/s]\n"
     ]
    },
    {
     "name": "stdout",
     "output_type": "stream",
     "text": [
      "Training Cross-Entropy Loss = 0.6662\n",
      "Training Accuracy = 74.71%\n",
      "\n",
      "Epoch 4/32\n",
      "Training phase...\n"
     ]
    },
    {
     "name": "stderr",
     "output_type": "stream",
     "text": [
      "Loss = 0.5475  |  Accuracy = 77.68% | Batch ID = 30 : 100%|██████████| 30/30 [00:03<00:00,  9.85it/s]\n"
     ]
    },
    {
     "name": "stdout",
     "output_type": "stream",
     "text": [
      "Training Cross-Entropy Loss = 0.5919\n",
      "Training Accuracy = 77.68%\n",
      "\n",
      "Epoch 5/32\n",
      "Training phase...\n"
     ]
    },
    {
     "name": "stderr",
     "output_type": "stream",
     "text": [
      "Loss = 0.5403  |  Accuracy = 79.18% | Batch ID = 30 : 100%|██████████| 30/30 [00:03<00:00,  9.74it/s]\n"
     ]
    },
    {
     "name": "stdout",
     "output_type": "stream",
     "text": [
      "Training Cross-Entropy Loss = 0.5564\n",
      "Training Accuracy = 79.18%\n",
      "\n",
      "Epoch 6/32\n",
      "Training phase...\n"
     ]
    },
    {
     "name": "stderr",
     "output_type": "stream",
     "text": [
      "Loss = 0.4122  |  Accuracy = 80.95% | Batch ID = 30 : 100%|██████████| 30/30 [00:03<00:00,  9.22it/s]\n"
     ]
    },
    {
     "name": "stdout",
     "output_type": "stream",
     "text": [
      "Training Cross-Entropy Loss = 0.5086\n",
      "Training Accuracy = 80.95%\n",
      "\n",
      "Epoch 7/32\n",
      "Training phase...\n"
     ]
    },
    {
     "name": "stderr",
     "output_type": "stream",
     "text": [
      "Loss = 0.4838  |  Accuracy = 81.36% | Batch ID = 30 : 100%|██████████| 30/30 [00:03<00:00,  9.24it/s]\n"
     ]
    },
    {
     "name": "stdout",
     "output_type": "stream",
     "text": [
      "Training Cross-Entropy Loss = 0.4950\n",
      "Training Accuracy = 81.36%\n",
      "\n",
      "Epoch 8/32\n",
      "Training phase...\n"
     ]
    },
    {
     "name": "stderr",
     "output_type": "stream",
     "text": [
      "Loss = 0.4434  |  Accuracy = 82.16% | Batch ID = 30 : 100%|██████████| 30/30 [00:03<00:00,  9.60it/s]\n"
     ]
    },
    {
     "name": "stdout",
     "output_type": "stream",
     "text": [
      "Training Cross-Entropy Loss = 0.4799\n",
      "Training Accuracy = 82.16%\n",
      "\n",
      "Epoch 9/32\n",
      "Training phase...\n"
     ]
    },
    {
     "name": "stderr",
     "output_type": "stream",
     "text": [
      "Loss = 0.4858  |  Accuracy = 82.91% | Batch ID = 30 : 100%|██████████| 30/30 [00:03<00:00,  9.41it/s]\n"
     ]
    },
    {
     "name": "stdout",
     "output_type": "stream",
     "text": [
      "Training Cross-Entropy Loss = 0.4622\n",
      "Training Accuracy = 82.91%\n",
      "\n",
      "Epoch 10/32\n",
      "Training phase...\n"
     ]
    },
    {
     "name": "stderr",
     "output_type": "stream",
     "text": [
      "Loss = 0.4470  |  Accuracy = 83.22% | Batch ID = 30 : 100%|██████████| 30/30 [00:03<00:00,  9.24it/s]\n"
     ]
    },
    {
     "name": "stdout",
     "output_type": "stream",
     "text": [
      "Training Cross-Entropy Loss = 0.4566\n",
      "Training Accuracy = 83.22%\n",
      "\n",
      "Epoch 11/32\n",
      "Training phase...\n"
     ]
    },
    {
     "name": "stderr",
     "output_type": "stream",
     "text": [
      "Loss = 0.4378  |  Accuracy = 84.46% | Batch ID = 30 : 100%|██████████| 30/30 [00:03<00:00,  9.60it/s]\n"
     ]
    },
    {
     "name": "stdout",
     "output_type": "stream",
     "text": [
      "Training Cross-Entropy Loss = 0.4268\n",
      "Training Accuracy = 84.46%\n",
      "\n",
      "Epoch 12/32\n",
      "Training phase...\n"
     ]
    },
    {
     "name": "stderr",
     "output_type": "stream",
     "text": [
      "Loss = 0.4454  |  Accuracy = 84.30% | Batch ID = 30 : 100%|██████████| 30/30 [00:03<00:00,  9.63it/s]\n"
     ]
    },
    {
     "name": "stdout",
     "output_type": "stream",
     "text": [
      "Training Cross-Entropy Loss = 0.4285\n",
      "Training Accuracy = 84.30%\n",
      "\n",
      "Epoch 13/32\n",
      "Training phase...\n"
     ]
    },
    {
     "name": "stderr",
     "output_type": "stream",
     "text": [
      "Loss = 0.4296  |  Accuracy = 84.77% | Batch ID = 30 : 100%|██████████| 30/30 [00:03<00:00,  8.53it/s]\n"
     ]
    },
    {
     "name": "stdout",
     "output_type": "stream",
     "text": [
      "Training Cross-Entropy Loss = 0.4138\n",
      "Training Accuracy = 84.77%\n",
      "\n",
      "Epoch 14/32\n",
      "Training phase...\n"
     ]
    },
    {
     "name": "stderr",
     "output_type": "stream",
     "text": [
      "Loss = 0.4453  |  Accuracy = 84.80% | Batch ID = 30 : 100%|██████████| 30/30 [00:03<00:00,  9.68it/s]\n"
     ]
    },
    {
     "name": "stdout",
     "output_type": "stream",
     "text": [
      "Training Cross-Entropy Loss = 0.4168\n",
      "Training Accuracy = 84.80%\n",
      "\n",
      "Epoch 15/32\n",
      "Training phase...\n"
     ]
    },
    {
     "name": "stderr",
     "output_type": "stream",
     "text": [
      "Loss = 0.3703  |  Accuracy = 85.29% | Batch ID = 30 : 100%|██████████| 30/30 [00:03<00:00,  9.40it/s]\n"
     ]
    },
    {
     "name": "stdout",
     "output_type": "stream",
     "text": [
      "Training Cross-Entropy Loss = 0.4004\n",
      "Training Accuracy = 85.29%\n",
      "\n",
      "Epoch 16/32\n",
      "Training phase...\n"
     ]
    },
    {
     "name": "stderr",
     "output_type": "stream",
     "text": [
      "Loss = 0.3763  |  Accuracy = 85.25% | Batch ID = 30 : 100%|██████████| 30/30 [00:03<00:00,  9.20it/s]\n"
     ]
    },
    {
     "name": "stdout",
     "output_type": "stream",
     "text": [
      "Training Cross-Entropy Loss = 0.4012\n",
      "Training Accuracy = 85.25%\n",
      "\n",
      "Epoch 17/32\n",
      "Training phase...\n"
     ]
    },
    {
     "name": "stderr",
     "output_type": "stream",
     "text": [
      "Loss = 0.4042  |  Accuracy = 85.31% | Batch ID = 30 : 100%|██████████| 30/30 [00:03<00:00,  9.60it/s]\n"
     ]
    },
    {
     "name": "stdout",
     "output_type": "stream",
     "text": [
      "Training Cross-Entropy Loss = 0.3999\n",
      "Training Accuracy = 85.31%\n",
      "\n",
      "Epoch 18/32\n",
      "Training phase...\n"
     ]
    },
    {
     "name": "stderr",
     "output_type": "stream",
     "text": [
      "Loss = 0.3718  |  Accuracy = 85.98% | Batch ID = 30 : 100%|██████████| 30/30 [00:03<00:00,  9.77it/s]\n"
     ]
    },
    {
     "name": "stdout",
     "output_type": "stream",
     "text": [
      "Training Cross-Entropy Loss = 0.3802\n",
      "Training Accuracy = 85.98%\n",
      "\n",
      "Epoch 19/32\n",
      "Training phase...\n"
     ]
    },
    {
     "name": "stderr",
     "output_type": "stream",
     "text": [
      "Loss = 0.3650  |  Accuracy = 86.14% | Batch ID = 30 : 100%|██████████| 30/30 [00:03<00:00,  9.51it/s]\n"
     ]
    },
    {
     "name": "stdout",
     "output_type": "stream",
     "text": [
      "Training Cross-Entropy Loss = 0.3754\n",
      "Training Accuracy = 86.14%\n",
      "\n",
      "Epoch 20/32\n",
      "Training phase...\n"
     ]
    },
    {
     "name": "stderr",
     "output_type": "stream",
     "text": [
      "Loss = 0.3834  |  Accuracy = 86.34% | Batch ID = 30 : 100%|██████████| 30/30 [00:03<00:00,  9.78it/s]\n"
     ]
    },
    {
     "name": "stdout",
     "output_type": "stream",
     "text": [
      "Training Cross-Entropy Loss = 0.3707\n",
      "Training Accuracy = 86.34%\n",
      "\n",
      "Epoch 21/32\n",
      "Training phase...\n"
     ]
    },
    {
     "name": "stderr",
     "output_type": "stream",
     "text": [
      "Loss = 0.3630  |  Accuracy = 86.59% | Batch ID = 30 : 100%|██████████| 30/30 [00:03<00:00,  9.80it/s]\n"
     ]
    },
    {
     "name": "stdout",
     "output_type": "stream",
     "text": [
      "Training Cross-Entropy Loss = 0.3671\n",
      "Training Accuracy = 86.59%\n",
      "\n",
      "Epoch 22/32\n",
      "Training phase...\n"
     ]
    },
    {
     "name": "stderr",
     "output_type": "stream",
     "text": [
      "Loss = 0.3419  |  Accuracy = 86.63% | Batch ID = 30 : 100%|██████████| 30/30 [00:03<00:00,  9.12it/s]\n"
     ]
    },
    {
     "name": "stdout",
     "output_type": "stream",
     "text": [
      "Training Cross-Entropy Loss = 0.3631\n",
      "Training Accuracy = 86.63%\n",
      "\n",
      "Epoch 23/32\n",
      "Training phase...\n"
     ]
    },
    {
     "name": "stderr",
     "output_type": "stream",
     "text": [
      "Loss = 0.3108  |  Accuracy = 86.98% | Batch ID = 30 : 100%|██████████| 30/30 [00:03<00:00,  9.64it/s]\n"
     ]
    },
    {
     "name": "stdout",
     "output_type": "stream",
     "text": [
      "Training Cross-Entropy Loss = 0.3533\n",
      "Training Accuracy = 86.98%\n",
      "\n",
      "Epoch 24/32\n",
      "Training phase...\n"
     ]
    },
    {
     "name": "stderr",
     "output_type": "stream",
     "text": [
      "Loss = 0.4009  |  Accuracy = 86.65% | Batch ID = 30 : 100%|██████████| 30/30 [00:03<00:00,  9.68it/s]\n"
     ]
    },
    {
     "name": "stdout",
     "output_type": "stream",
     "text": [
      "Training Cross-Entropy Loss = 0.3623\n",
      "Training Accuracy = 86.65%\n",
      "\n",
      "Epoch 25/32\n",
      "Training phase...\n"
     ]
    },
    {
     "name": "stderr",
     "output_type": "stream",
     "text": [
      "Loss = 0.3617  |  Accuracy = 87.05% | Batch ID = 30 : 100%|██████████| 30/30 [00:03<00:00,  9.73it/s]\n"
     ]
    },
    {
     "name": "stdout",
     "output_type": "stream",
     "text": [
      "Training Cross-Entropy Loss = 0.3507\n",
      "Training Accuracy = 87.05%\n",
      "\n",
      "Epoch 26/32\n",
      "Training phase...\n"
     ]
    },
    {
     "name": "stderr",
     "output_type": "stream",
     "text": [
      "Loss = 0.3599  |  Accuracy = 86.94% | Batch ID = 30 : 100%|██████████| 30/30 [00:03<00:00,  9.39it/s]\n"
     ]
    },
    {
     "name": "stdout",
     "output_type": "stream",
     "text": [
      "Training Cross-Entropy Loss = 0.3537\n",
      "Training Accuracy = 86.94%\n",
      "\n",
      "Epoch 27/32\n",
      "Training phase...\n"
     ]
    },
    {
     "name": "stderr",
     "output_type": "stream",
     "text": [
      "Loss = 0.3204  |  Accuracy = 87.58% | Batch ID = 30 : 100%|██████████| 30/30 [00:03<00:00,  9.63it/s]\n"
     ]
    },
    {
     "name": "stdout",
     "output_type": "stream",
     "text": [
      "Training Cross-Entropy Loss = 0.3388\n",
      "Training Accuracy = 87.58%\n",
      "\n",
      "Epoch 28/32\n",
      "Training phase...\n"
     ]
    },
    {
     "name": "stderr",
     "output_type": "stream",
     "text": [
      "Loss = 0.3316  |  Accuracy = 87.50% | Batch ID = 30 : 100%|██████████| 30/30 [00:03<00:00,  9.65it/s]\n"
     ]
    },
    {
     "name": "stdout",
     "output_type": "stream",
     "text": [
      "Training Cross-Entropy Loss = 0.3425\n",
      "Training Accuracy = 87.50%\n",
      "\n",
      "Epoch 29/32\n",
      "Training phase...\n"
     ]
    },
    {
     "name": "stderr",
     "output_type": "stream",
     "text": [
      "Loss = 0.3020  |  Accuracy = 87.76% | Batch ID = 30 : 100%|██████████| 30/30 [00:03<00:00,  9.39it/s]\n"
     ]
    },
    {
     "name": "stdout",
     "output_type": "stream",
     "text": [
      "Training Cross-Entropy Loss = 0.3317\n",
      "Training Accuracy = 87.76%\n",
      "\n",
      "Epoch 30/32\n",
      "Training phase...\n"
     ]
    },
    {
     "name": "stderr",
     "output_type": "stream",
     "text": [
      "Loss = 0.3201  |  Accuracy = 87.39% | Batch ID = 30 : 100%|██████████| 30/30 [00:03<00:00,  9.67it/s]\n"
     ]
    },
    {
     "name": "stdout",
     "output_type": "stream",
     "text": [
      "Training Cross-Entropy Loss = 0.3373\n",
      "Training Accuracy = 87.39%\n",
      "\n",
      "Epoch 31/32\n",
      "Training phase...\n"
     ]
    },
    {
     "name": "stderr",
     "output_type": "stream",
     "text": [
      "Loss = 0.3586  |  Accuracy = 88.08% | Batch ID = 30 : 100%|██████████| 30/30 [00:03<00:00,  9.57it/s]\n"
     ]
    },
    {
     "name": "stdout",
     "output_type": "stream",
     "text": [
      "Training Cross-Entropy Loss = 0.3234\n",
      "Training Accuracy = 88.08%\n",
      "\n",
      "Epoch 32/32\n",
      "Training phase...\n"
     ]
    },
    {
     "name": "stderr",
     "output_type": "stream",
     "text": [
      "Loss = 0.3607  |  Accuracy = 87.46% | Batch ID = 30 : 100%|██████████| 30/30 [00:03<00:00,  9.13it/s]"
     ]
    },
    {
     "name": "stdout",
     "output_type": "stream",
     "text": [
      "Training Cross-Entropy Loss = 0.3417\n",
      "Training Accuracy = 87.46%\n",
      "\n",
      "Cross-Entropy on training set:  0.3417\n",
      "Accuracy on training set:       87.46%\n"
     ]
    },
    {
     "name": "stderr",
     "output_type": "stream",
     "text": [
      "\n"
     ]
    }
   ],
   "source": [
    "train_loss_hist, train_acc_hist = train_c(NeuralNetwork, TrainLoader, optimizer, criterion, epochs = 32, device = device)"
   ]
  },
  {
   "cell_type": "code",
   "execution_count": 12,
   "metadata": {},
   "outputs": [
    {
     "name": "stdout",
     "output_type": "stream",
     "text": [
      "Cross-Entropy on test set: 0.4284\n",
      "Accuracy on test set: 84.34%\n"
     ]
    }
   ],
   "source": [
    "test_loss, test_acc = test(NeuralNetwork, TestLoader, criterion, device)"
   ]
  },
  {
   "cell_type": "markdown",
   "id": "eeb9fcbb",
   "metadata": {},
   "source": [
    "## Exercise 1, d) "
   ]
  },
  {
   "cell_type": "markdown",
   "id": "9c9d6da6",
   "metadata": {},
   "source": [
    "To improve the previous feedforward neural network for the Fashion-MNIST classification task, we implemented the following changes:\n",
    "\n",
    "**Use a Learning Rate Scheduler**: One of the most, if not the most important hyper-parameter in a neural network is the learning rate. This choice is very important, and in fact affects a lot the results given by the network. The problem with a constant learning rate is that it doesn't adapt to the training stage, because in the beginning the learning rate can be higher because the network still has a lot to learn, and therefore the updates made by the optimizer can be bigger; however, when the network is converging, a smaller learning rate is better suited because larger steps will make the network wand around the local minimum, but never reaches it. To deal with this, we applied a learning rate scheduler, which changes the learning rate's value during training, adapting it depending on the training stage.\n",
    "\n",
    "**Use Different Optimizer**: Previously we used Stochastic Gradient Descent as our optimizer, however there're more algorithms that, theoretically, converge even faster than a simple SDG. Some examples are Root Meas Square propagation (RMSprop) and Adaptive Moment (Adam), or even SGD with momentum (Nesterov or not). These algorithms are more interesting because they use exponential smoothing to make the gradients focus on pointing more towards the local minimum. This, combined with a good learning rate trategy can make a model very powerfull!\n",
    "\n",
    "**Use Different Activation Function**: We tested several activation function, for example ReLU, Leaky ReLU, and Sigmoid, in order to check how different activation functions impact not only the training loss, but also how well certain activation functions can help the network generalize better.\n",
    "\n",
    "**Variance vs Bias**: Although activation functions can improve the results, we wanted to reduce overfitting as much as possible, while also keeping the network from underfitting, and for that we used two techniques specifically created to deal with overfitting, which are regularization techniques and dropout layers.\n",
    "\n",
    "**Batch Normalization**: It's usual to normalize the input data before training or testing a neural network, so that the data's different scales don't affect the importance the network gives to certain inputs in detriment of others that might be as much, or even more important. Therefore, it also makes sense to normalize the values computed by the network during training. So, by applying batch normalization we can help the network stabilize and converge faster to a local minimum.\n",
    "\n",
    "**Change Epoch Number and Mini-Batch Size**: Another two important hyper-paramters are epochs and the mini-batch size. The size of the mini-batch affects the training time of the network, but also enables the optimizer to be applied more or less times, per epoch, and this can make the model learn more in less epochs. The number of epochs is also important because after a certain ammount of epochs the model might still be learning, so in order for it to converge more epochs might be required.\n",
    "\n",
    "**Increase Network Complexity**: We can add more hidden layers and neurons to increase the network's capacity to learn complex patterns in the data."
   ]
  },
  {
   "cell_type": "code",
   "execution_count": 20,
   "metadata": {},
   "outputs": [],
   "source": [
    "transform = transforms.Compose([transforms.ToTensor(), transforms.Normalize((0.5,), (0.5,))])\n",
    "trainset = torchvision.datasets.FashionMNIST(root = './data', train = True, download = True, transform = transform)\n",
    "testset = torchvision.datasets.FashionMNIST(root = './data', train = False, download = True, transform = transform)\n",
    "\n",
    "TrainLoader = torch.utils.data.DataLoader(trainset, batch_size = 256, shuffle = True)\n",
    "TestLoader = torch.utils.data.DataLoader(testset, batch_size = 256, shuffle = False)"
   ]
  },
  {
   "cell_type": "code",
   "execution_count": 37,
   "metadata": {},
   "outputs": [
    {
     "name": "stdout",
     "output_type": "stream",
     "text": [
      "Device: mps\n"
     ]
    }
   ],
   "source": [
    "# Initialize the network, loss function, and optimizer\n",
    "device = set_device()\n",
    "NeuralNetwork_complex = NeuralNetwork_Exercise1_d().to(device)\n",
    "criterion = torch.nn.CrossEntropyLoss()\n",
    "optimizer = torch.optim.Adam(NeuralNetwork_complex.parameters(), lr = 0.005, weight_decay = 0.001)  # L2 regularization\n",
    "# scheduler = torch.optim.lr_scheduler.StepLR(optimizer, step_size = 4, gamma = 0.5)\n",
    "scheduler = torch.optim.lr_scheduler.ReduceLROnPlateau(optimizer, 'min', factor = 0.5, patience = 1, threshold = 0.02)"
   ]
  },
  {
   "cell_type": "code",
   "execution_count": 38,
   "metadata": {},
   "outputs": [
    {
     "name": "stdout",
     "output_type": "stream",
     "text": [
      "Epoch 1/64\n",
      "Training phase...\n"
     ]
    },
    {
     "name": "stderr",
     "output_type": "stream",
     "text": [
      "Loss = 0.5252  |  Accuracy = 76.25% | Batch ID = 235 : 100%|██████████| 235/235 [00:06<00:00, 34.42it/s]\n"
     ]
    },
    {
     "name": "stdout",
     "output_type": "stream",
     "text": [
      "Learning Rate = 0.005\n",
      "Training Cross-Entropy Loss = 0.6719\n",
      "Training Accuracy = 76.25%\n",
      "\n",
      "Epoch 2/64\n",
      "Training phase...\n"
     ]
    },
    {
     "name": "stderr",
     "output_type": "stream",
     "text": [
      "Loss = 0.5515  |  Accuracy = 79.40% | Batch ID = 235 : 100%|██████████| 235/235 [00:06<00:00, 36.77it/s]\n"
     ]
    },
    {
     "name": "stdout",
     "output_type": "stream",
     "text": [
      "Learning Rate = 0.005\n",
      "Training Cross-Entropy Loss = 0.5693\n",
      "Training Accuracy = 79.40%\n",
      "\n",
      "Epoch 3/64\n",
      "Training phase...\n"
     ]
    },
    {
     "name": "stderr",
     "output_type": "stream",
     "text": [
      "Loss = 0.5686  |  Accuracy = 79.46% | Batch ID = 235 : 100%|██████████| 235/235 [00:06<00:00, 35.76it/s]\n"
     ]
    },
    {
     "name": "stdout",
     "output_type": "stream",
     "text": [
      "Learning Rate = 0.005\n",
      "Training Cross-Entropy Loss = 0.5656\n",
      "Training Accuracy = 79.46%\n",
      "\n",
      "Epoch 4/64\n",
      "Training phase...\n"
     ]
    },
    {
     "name": "stderr",
     "output_type": "stream",
     "text": [
      "Loss = 0.5222  |  Accuracy = 79.51% | Batch ID = 235 : 100%|██████████| 235/235 [00:06<00:00, 34.42it/s]\n"
     ]
    },
    {
     "name": "stdout",
     "output_type": "stream",
     "text": [
      "Learning Rate = 0.005\n",
      "Training Cross-Entropy Loss = 0.5641\n",
      "Training Accuracy = 79.51%\n",
      "\n",
      "Epoch 5/64\n",
      "Training phase...\n"
     ]
    },
    {
     "name": "stderr",
     "output_type": "stream",
     "text": [
      "Loss = 0.4874  |  Accuracy = 81.57% | Batch ID = 235 : 100%|██████████| 235/235 [00:06<00:00, 37.76it/s]\n"
     ]
    },
    {
     "name": "stdout",
     "output_type": "stream",
     "text": [
      "Learning Rate = 0.0025\n",
      "Training Cross-Entropy Loss = 0.5106\n",
      "Training Accuracy = 81.57%\n",
      "\n",
      "Epoch 6/64\n",
      "Training phase...\n"
     ]
    },
    {
     "name": "stderr",
     "output_type": "stream",
     "text": [
      "Loss = 0.4828  |  Accuracy = 81.81% | Batch ID = 235 : 100%|██████████| 235/235 [00:06<00:00, 36.03it/s]\n"
     ]
    },
    {
     "name": "stdout",
     "output_type": "stream",
     "text": [
      "Learning Rate = 0.0025\n",
      "Training Cross-Entropy Loss = 0.5023\n",
      "Training Accuracy = 81.81%\n",
      "\n",
      "Epoch 7/64\n",
      "Training phase...\n"
     ]
    },
    {
     "name": "stderr",
     "output_type": "stream",
     "text": [
      "Loss = 0.6339  |  Accuracy = 82.11% | Batch ID = 235 : 100%|██████████| 235/235 [00:06<00:00, 36.40it/s]\n"
     ]
    },
    {
     "name": "stdout",
     "output_type": "stream",
     "text": [
      "Learning Rate = 0.0025\n",
      "Training Cross-Entropy Loss = 0.5005\n",
      "Training Accuracy = 82.11%\n",
      "\n",
      "Epoch 8/64\n",
      "Training phase...\n"
     ]
    },
    {
     "name": "stderr",
     "output_type": "stream",
     "text": [
      "Loss = 0.5610  |  Accuracy = 83.77% | Batch ID = 235 : 100%|██████████| 235/235 [00:06<00:00, 35.12it/s]\n"
     ]
    },
    {
     "name": "stdout",
     "output_type": "stream",
     "text": [
      "Learning Rate = 0.00125\n",
      "Training Cross-Entropy Loss = 0.4557\n",
      "Training Accuracy = 83.77%\n",
      "\n",
      "Epoch 9/64\n",
      "Training phase...\n"
     ]
    },
    {
     "name": "stderr",
     "output_type": "stream",
     "text": [
      "Loss = 0.3266  |  Accuracy = 83.69% | Batch ID = 235 : 100%|██████████| 235/235 [00:06<00:00, 37.10it/s]\n"
     ]
    },
    {
     "name": "stdout",
     "output_type": "stream",
     "text": [
      "Learning Rate = 0.00125\n",
      "Training Cross-Entropy Loss = 0.4493\n",
      "Training Accuracy = 83.69%\n",
      "\n",
      "Epoch 10/64\n",
      "Training phase...\n"
     ]
    },
    {
     "name": "stderr",
     "output_type": "stream",
     "text": [
      "Loss = 0.4822  |  Accuracy = 83.98% | Batch ID = 235 : 100%|██████████| 235/235 [00:06<00:00, 36.46it/s]\n"
     ]
    },
    {
     "name": "stdout",
     "output_type": "stream",
     "text": [
      "Learning Rate = 0.00125\n",
      "Training Cross-Entropy Loss = 0.4432\n",
      "Training Accuracy = 83.98%\n",
      "\n",
      "Epoch 11/64\n",
      "Training phase...\n"
     ]
    },
    {
     "name": "stderr",
     "output_type": "stream",
     "text": [
      "Loss = 0.5333  |  Accuracy = 84.19% | Batch ID = 235 : 100%|██████████| 235/235 [00:06<00:00, 36.68it/s]\n"
     ]
    },
    {
     "name": "stdout",
     "output_type": "stream",
     "text": [
      "Learning Rate = 0.00125\n",
      "Training Cross-Entropy Loss = 0.4400\n",
      "Training Accuracy = 84.19%\n",
      "\n",
      "Epoch 12/64\n",
      "Training phase...\n"
     ]
    },
    {
     "name": "stderr",
     "output_type": "stream",
     "text": [
      "Loss = 0.3847  |  Accuracy = 84.31% | Batch ID = 235 : 100%|██████████| 235/235 [00:06<00:00, 37.05it/s]\n"
     ]
    },
    {
     "name": "stdout",
     "output_type": "stream",
     "text": [
      "Learning Rate = 0.00125\n",
      "Training Cross-Entropy Loss = 0.4351\n",
      "Training Accuracy = 84.31%\n",
      "\n",
      "Epoch 13/64\n",
      "Training phase...\n"
     ]
    },
    {
     "name": "stderr",
     "output_type": "stream",
     "text": [
      "Loss = 0.3684  |  Accuracy = 85.39% | Batch ID = 235 : 100%|██████████| 235/235 [00:06<00:00, 37.92it/s]\n"
     ]
    },
    {
     "name": "stdout",
     "output_type": "stream",
     "text": [
      "Learning Rate = 0.000625\n",
      "Training Cross-Entropy Loss = 0.4044\n",
      "Training Accuracy = 85.39%\n",
      "\n",
      "Epoch 14/64\n",
      "Training phase...\n"
     ]
    },
    {
     "name": "stderr",
     "output_type": "stream",
     "text": [
      "Loss = 0.3958  |  Accuracy = 85.76% | Batch ID = 235 : 100%|██████████| 235/235 [00:06<00:00, 37.69it/s]\n"
     ]
    },
    {
     "name": "stdout",
     "output_type": "stream",
     "text": [
      "Learning Rate = 0.000625\n",
      "Training Cross-Entropy Loss = 0.3935\n",
      "Training Accuracy = 85.76%\n",
      "\n",
      "Epoch 15/64\n",
      "Training phase...\n"
     ]
    },
    {
     "name": "stderr",
     "output_type": "stream",
     "text": [
      "Loss = 0.2789  |  Accuracy = 86.18% | Batch ID = 235 : 100%|██████████| 235/235 [00:06<00:00, 38.35it/s]\n"
     ]
    },
    {
     "name": "stdout",
     "output_type": "stream",
     "text": [
      "Learning Rate = 0.000625\n",
      "Training Cross-Entropy Loss = 0.3860\n",
      "Training Accuracy = 86.18%\n",
      "\n",
      "Epoch 16/64\n",
      "Training phase...\n"
     ]
    },
    {
     "name": "stderr",
     "output_type": "stream",
     "text": [
      "Loss = 0.2901  |  Accuracy = 86.22% | Batch ID = 235 : 100%|██████████| 235/235 [00:06<00:00, 38.48it/s]\n"
     ]
    },
    {
     "name": "stdout",
     "output_type": "stream",
     "text": [
      "Learning Rate = 0.000625\n",
      "Training Cross-Entropy Loss = 0.3838\n",
      "Training Accuracy = 86.22%\n",
      "\n",
      "Epoch 17/64\n",
      "Training phase...\n"
     ]
    },
    {
     "name": "stderr",
     "output_type": "stream",
     "text": [
      "Loss = 0.4151  |  Accuracy = 86.14% | Batch ID = 235 : 100%|██████████| 235/235 [00:06<00:00, 38.53it/s]\n"
     ]
    },
    {
     "name": "stdout",
     "output_type": "stream",
     "text": [
      "Learning Rate = 0.000625\n",
      "Training Cross-Entropy Loss = 0.3827\n",
      "Training Accuracy = 86.14%\n",
      "\n",
      "Epoch 18/64\n",
      "Training phase...\n"
     ]
    },
    {
     "name": "stderr",
     "output_type": "stream",
     "text": [
      "Loss = 0.3423  |  Accuracy = 86.36% | Batch ID = 235 : 100%|██████████| 235/235 [00:06<00:00, 37.54it/s]\n"
     ]
    },
    {
     "name": "stdout",
     "output_type": "stream",
     "text": [
      "Learning Rate = 0.000625\n",
      "Training Cross-Entropy Loss = 0.3806\n",
      "Training Accuracy = 86.36%\n",
      "\n",
      "Epoch 19/64\n",
      "Training phase...\n"
     ]
    },
    {
     "name": "stderr",
     "output_type": "stream",
     "text": [
      "Loss = 0.2998  |  Accuracy = 87.12% | Batch ID = 235 : 100%|██████████| 235/235 [00:06<00:00, 37.09it/s]\n"
     ]
    },
    {
     "name": "stdout",
     "output_type": "stream",
     "text": [
      "Learning Rate = 0.0003125\n",
      "Training Cross-Entropy Loss = 0.3567\n",
      "Training Accuracy = 87.12%\n",
      "\n",
      "Epoch 20/64\n",
      "Training phase...\n"
     ]
    },
    {
     "name": "stderr",
     "output_type": "stream",
     "text": [
      "Loss = 0.2844  |  Accuracy = 87.47% | Batch ID = 235 : 100%|██████████| 235/235 [00:06<00:00, 37.36it/s]\n"
     ]
    },
    {
     "name": "stdout",
     "output_type": "stream",
     "text": [
      "Learning Rate = 0.0003125\n",
      "Training Cross-Entropy Loss = 0.3494\n",
      "Training Accuracy = 87.47%\n",
      "\n",
      "Epoch 21/64\n",
      "Training phase...\n"
     ]
    },
    {
     "name": "stderr",
     "output_type": "stream",
     "text": [
      "Loss = 0.3381  |  Accuracy = 87.54% | Batch ID = 235 : 100%|██████████| 235/235 [00:06<00:00, 38.41it/s]\n"
     ]
    },
    {
     "name": "stdout",
     "output_type": "stream",
     "text": [
      "Learning Rate = 0.0003125\n",
      "Training Cross-Entropy Loss = 0.3435\n",
      "Training Accuracy = 87.54%\n",
      "\n",
      "Epoch 22/64\n",
      "Training phase...\n"
     ]
    },
    {
     "name": "stderr",
     "output_type": "stream",
     "text": [
      "Loss = 0.3443  |  Accuracy = 87.54% | Batch ID = 235 : 100%|██████████| 235/235 [00:06<00:00, 38.14it/s]\n"
     ]
    },
    {
     "name": "stdout",
     "output_type": "stream",
     "text": [
      "Learning Rate = 0.0003125\n",
      "Training Cross-Entropy Loss = 0.3462\n",
      "Training Accuracy = 87.54%\n",
      "\n",
      "Epoch 23/64\n",
      "Training phase...\n"
     ]
    },
    {
     "name": "stderr",
     "output_type": "stream",
     "text": [
      "Loss = 0.3136  |  Accuracy = 88.14% | Batch ID = 235 : 100%|██████████| 235/235 [00:06<00:00, 37.37it/s]\n"
     ]
    },
    {
     "name": "stdout",
     "output_type": "stream",
     "text": [
      "Learning Rate = 0.00015625\n",
      "Training Cross-Entropy Loss = 0.3294\n",
      "Training Accuracy = 88.14%\n",
      "\n",
      "Epoch 24/64\n",
      "Training phase...\n"
     ]
    },
    {
     "name": "stderr",
     "output_type": "stream",
     "text": [
      "Loss = 0.2850  |  Accuracy = 88.36% | Batch ID = 235 : 100%|██████████| 235/235 [00:06<00:00, 37.14it/s]\n"
     ]
    },
    {
     "name": "stdout",
     "output_type": "stream",
     "text": [
      "Learning Rate = 0.00015625\n",
      "Training Cross-Entropy Loss = 0.3213\n",
      "Training Accuracy = 88.36%\n",
      "\n",
      "Epoch 25/64\n",
      "Training phase...\n"
     ]
    },
    {
     "name": "stderr",
     "output_type": "stream",
     "text": [
      "Loss = 0.3467  |  Accuracy = 88.56% | Batch ID = 235 : 100%|██████████| 235/235 [00:06<00:00, 37.43it/s]\n"
     ]
    },
    {
     "name": "stdout",
     "output_type": "stream",
     "text": [
      "Learning Rate = 0.00015625\n",
      "Training Cross-Entropy Loss = 0.3178\n",
      "Training Accuracy = 88.56%\n",
      "\n",
      "Epoch 26/64\n",
      "Training phase...\n"
     ]
    },
    {
     "name": "stderr",
     "output_type": "stream",
     "text": [
      "Loss = 0.4648  |  Accuracy = 88.52% | Batch ID = 235 : 100%|██████████| 235/235 [00:06<00:00, 36.59it/s]\n"
     ]
    },
    {
     "name": "stdout",
     "output_type": "stream",
     "text": [
      "Learning Rate = 0.00015625\n",
      "Training Cross-Entropy Loss = 0.3179\n",
      "Training Accuracy = 88.52%\n",
      "\n",
      "Epoch 27/64\n",
      "Training phase...\n"
     ]
    },
    {
     "name": "stderr",
     "output_type": "stream",
     "text": [
      "Loss = 0.3749  |  Accuracy = 88.87% | Batch ID = 235 : 100%|██████████| 235/235 [00:06<00:00, 35.91it/s]\n"
     ]
    },
    {
     "name": "stdout",
     "output_type": "stream",
     "text": [
      "Learning Rate = 7.8125e-05\n",
      "Training Cross-Entropy Loss = 0.3094\n",
      "Training Accuracy = 88.87%\n",
      "\n",
      "Epoch 28/64\n",
      "Training phase...\n"
     ]
    },
    {
     "name": "stderr",
     "output_type": "stream",
     "text": [
      "Loss = 0.4935  |  Accuracy = 89.00% | Batch ID = 235 : 100%|██████████| 235/235 [00:06<00:00, 36.06it/s]\n"
     ]
    },
    {
     "name": "stdout",
     "output_type": "stream",
     "text": [
      "Learning Rate = 7.8125e-05\n",
      "Training Cross-Entropy Loss = 0.3074\n",
      "Training Accuracy = 89.00%\n",
      "\n",
      "Epoch 29/64\n",
      "Training phase...\n"
     ]
    },
    {
     "name": "stderr",
     "output_type": "stream",
     "text": [
      "Loss = 0.3197  |  Accuracy = 89.07% | Batch ID = 235 : 100%|██████████| 235/235 [00:06<00:00, 36.53it/s]\n"
     ]
    },
    {
     "name": "stdout",
     "output_type": "stream",
     "text": [
      "Learning Rate = 7.8125e-05\n",
      "Training Cross-Entropy Loss = 0.3032\n",
      "Training Accuracy = 89.07%\n",
      "\n",
      "Epoch 30/64\n",
      "Training phase...\n"
     ]
    },
    {
     "name": "stderr",
     "output_type": "stream",
     "text": [
      "Loss = 0.3531  |  Accuracy = 89.12% | Batch ID = 235 : 100%|██████████| 235/235 [00:06<00:00, 36.47it/s]\n"
     ]
    },
    {
     "name": "stdout",
     "output_type": "stream",
     "text": [
      "Learning Rate = 7.8125e-05\n",
      "Training Cross-Entropy Loss = 0.3036\n",
      "Training Accuracy = 89.12%\n",
      "\n",
      "Epoch 31/64\n",
      "Training phase...\n"
     ]
    },
    {
     "name": "stderr",
     "output_type": "stream",
     "text": [
      "Loss = 0.2972  |  Accuracy = 89.23% | Batch ID = 235 : 100%|██████████| 235/235 [00:06<00:00, 37.67it/s]\n"
     ]
    },
    {
     "name": "stdout",
     "output_type": "stream",
     "text": [
      "Learning Rate = 7.8125e-05\n",
      "Training Cross-Entropy Loss = 0.2980\n",
      "Training Accuracy = 89.23%\n",
      "\n",
      "Epoch 32/64\n",
      "Training phase...\n"
     ]
    },
    {
     "name": "stderr",
     "output_type": "stream",
     "text": [
      "Loss = 0.1719  |  Accuracy = 89.23% | Batch ID = 235 : 100%|██████████| 235/235 [00:06<00:00, 37.84it/s]\n"
     ]
    },
    {
     "name": "stdout",
     "output_type": "stream",
     "text": [
      "Learning Rate = 3.90625e-05\n",
      "Training Cross-Entropy Loss = 0.2960\n",
      "Training Accuracy = 89.23%\n",
      "\n",
      "Epoch 33/64\n",
      "Training phase...\n"
     ]
    },
    {
     "name": "stderr",
     "output_type": "stream",
     "text": [
      "Loss = 0.1967  |  Accuracy = 89.37% | Batch ID = 235 : 100%|██████████| 235/235 [00:06<00:00, 38.20it/s]\n"
     ]
    },
    {
     "name": "stdout",
     "output_type": "stream",
     "text": [
      "Learning Rate = 3.90625e-05\n",
      "Training Cross-Entropy Loss = 0.2948\n",
      "Training Accuracy = 89.37%\n",
      "\n",
      "Epoch 34/64\n",
      "Training phase...\n"
     ]
    },
    {
     "name": "stderr",
     "output_type": "stream",
     "text": [
      "Loss = 0.2464  |  Accuracy = 89.39% | Batch ID = 235 : 100%|██████████| 235/235 [00:06<00:00, 37.08it/s]\n"
     ]
    },
    {
     "name": "stdout",
     "output_type": "stream",
     "text": [
      "Learning Rate = 3.90625e-05\n",
      "Training Cross-Entropy Loss = 0.2954\n",
      "Training Accuracy = 89.39%\n",
      "\n",
      "Epoch 35/64\n",
      "Training phase...\n"
     ]
    },
    {
     "name": "stderr",
     "output_type": "stream",
     "text": [
      "Loss = 0.2981  |  Accuracy = 89.53% | Batch ID = 235 : 100%|██████████| 235/235 [00:06<00:00, 37.05it/s]\n"
     ]
    },
    {
     "name": "stdout",
     "output_type": "stream",
     "text": [
      "Learning Rate = 1.953125e-05\n",
      "Training Cross-Entropy Loss = 0.2906\n",
      "Training Accuracy = 89.53%\n",
      "\n",
      "Epoch 36/64\n",
      "Training phase...\n"
     ]
    },
    {
     "name": "stderr",
     "output_type": "stream",
     "text": [
      "Loss = 0.3160  |  Accuracy = 89.46% | Batch ID = 235 : 100%|██████████| 235/235 [00:06<00:00, 37.27it/s]\n"
     ]
    },
    {
     "name": "stdout",
     "output_type": "stream",
     "text": [
      "Learning Rate = 1.953125e-05\n",
      "Training Cross-Entropy Loss = 0.2926\n",
      "Training Accuracy = 89.46%\n",
      "\n",
      "Epoch 37/64\n",
      "Training phase...\n"
     ]
    },
    {
     "name": "stderr",
     "output_type": "stream",
     "text": [
      "Loss = 0.2872  |  Accuracy = 89.72% | Batch ID = 235 : 100%|██████████| 235/235 [00:06<00:00, 38.17it/s]\n"
     ]
    },
    {
     "name": "stdout",
     "output_type": "stream",
     "text": [
      "Learning Rate = 9.765625e-06\n",
      "Training Cross-Entropy Loss = 0.2854\n",
      "Training Accuracy = 89.72%\n",
      "\n",
      "Epoch 38/64\n",
      "Training phase...\n"
     ]
    },
    {
     "name": "stderr",
     "output_type": "stream",
     "text": [
      "Loss = 0.3252  |  Accuracy = 89.52% | Batch ID = 235 : 100%|██████████| 235/235 [00:06<00:00, 37.17it/s]\n"
     ]
    },
    {
     "name": "stdout",
     "output_type": "stream",
     "text": [
      "Learning Rate = 9.765625e-06\n",
      "Training Cross-Entropy Loss = 0.2919\n",
      "Training Accuracy = 89.52%\n",
      "\n",
      "Epoch 39/64\n",
      "Training phase...\n"
     ]
    },
    {
     "name": "stderr",
     "output_type": "stream",
     "text": [
      "Loss = 0.1739  |  Accuracy = 89.57% | Batch ID = 235 : 100%|██████████| 235/235 [00:06<00:00, 37.71it/s]\n"
     ]
    },
    {
     "name": "stdout",
     "output_type": "stream",
     "text": [
      "Learning Rate = 9.765625e-06\n",
      "Training Cross-Entropy Loss = 0.2884\n",
      "Training Accuracy = 89.57%\n",
      "\n",
      "Epoch 40/64\n",
      "Training phase...\n"
     ]
    },
    {
     "name": "stderr",
     "output_type": "stream",
     "text": [
      "Loss = 0.2880  |  Accuracy = 89.62% | Batch ID = 235 : 100%|██████████| 235/235 [00:06<00:00, 37.39it/s]\n"
     ]
    },
    {
     "name": "stdout",
     "output_type": "stream",
     "text": [
      "Learning Rate = 4.8828125e-06\n",
      "Training Cross-Entropy Loss = 0.2866\n",
      "Training Accuracy = 89.62%\n",
      "\n",
      "Epoch 41/64\n",
      "Training phase...\n"
     ]
    },
    {
     "name": "stderr",
     "output_type": "stream",
     "text": [
      "Loss = 0.3774  |  Accuracy = 89.58% | Batch ID = 235 : 100%|██████████| 235/235 [00:06<00:00, 36.95it/s]\n"
     ]
    },
    {
     "name": "stdout",
     "output_type": "stream",
     "text": [
      "Learning Rate = 4.8828125e-06\n",
      "Training Cross-Entropy Loss = 0.2896\n",
      "Training Accuracy = 89.58%\n",
      "\n",
      "Epoch 42/64\n",
      "Training phase...\n"
     ]
    },
    {
     "name": "stderr",
     "output_type": "stream",
     "text": [
      "Loss = 0.3520  |  Accuracy = 89.60% | Batch ID = 235 : 100%|██████████| 235/235 [00:06<00:00, 36.99it/s]\n"
     ]
    },
    {
     "name": "stdout",
     "output_type": "stream",
     "text": [
      "Learning Rate = 2.44140625e-06\n",
      "Training Cross-Entropy Loss = 0.2887\n",
      "Training Accuracy = 89.60%\n",
      "\n",
      "Epoch 43/64\n",
      "Training phase...\n"
     ]
    },
    {
     "name": "stderr",
     "output_type": "stream",
     "text": [
      "Loss = 0.4630  |  Accuracy = 89.45% | Batch ID = 235 : 100%|██████████| 235/235 [00:06<00:00, 37.32it/s]\n"
     ]
    },
    {
     "name": "stdout",
     "output_type": "stream",
     "text": [
      "Learning Rate = 2.44140625e-06\n",
      "Training Cross-Entropy Loss = 0.2912\n",
      "Training Accuracy = 89.45%\n",
      "\n",
      "Epoch 44/64\n",
      "Training phase...\n"
     ]
    },
    {
     "name": "stderr",
     "output_type": "stream",
     "text": [
      "Loss = 0.4833  |  Accuracy = 89.55% | Batch ID = 235 : 100%|██████████| 235/235 [00:06<00:00, 37.31it/s]\n"
     ]
    },
    {
     "name": "stdout",
     "output_type": "stream",
     "text": [
      "Learning Rate = 1.220703125e-06\n",
      "Training Cross-Entropy Loss = 0.2894\n",
      "Training Accuracy = 89.55%\n",
      "\n",
      "Epoch 45/64\n",
      "Training phase...\n"
     ]
    },
    {
     "name": "stderr",
     "output_type": "stream",
     "text": [
      "Loss = 0.4011  |  Accuracy = 89.61% | Batch ID = 235 : 100%|██████████| 235/235 [00:06<00:00, 37.44it/s]\n"
     ]
    },
    {
     "name": "stdout",
     "output_type": "stream",
     "text": [
      "Learning Rate = 1.220703125e-06\n",
      "Training Cross-Entropy Loss = 0.2890\n",
      "Training Accuracy = 89.61%\n",
      "\n",
      "Epoch 46/64\n",
      "Training phase...\n"
     ]
    },
    {
     "name": "stderr",
     "output_type": "stream",
     "text": [
      "Loss = 0.2736  |  Accuracy = 89.62% | Batch ID = 235 : 100%|██████████| 235/235 [00:06<00:00, 38.23it/s]\n"
     ]
    },
    {
     "name": "stdout",
     "output_type": "stream",
     "text": [
      "Learning Rate = 6.103515625e-07\n",
      "Training Cross-Entropy Loss = 0.2876\n",
      "Training Accuracy = 89.62%\n",
      "\n",
      "Epoch 47/64\n",
      "Training phase...\n"
     ]
    },
    {
     "name": "stderr",
     "output_type": "stream",
     "text": [
      "Loss = 0.4165  |  Accuracy = 89.74% | Batch ID = 235 : 100%|██████████| 235/235 [00:06<00:00, 37.99it/s]\n"
     ]
    },
    {
     "name": "stdout",
     "output_type": "stream",
     "text": [
      "Learning Rate = 6.103515625e-07\n",
      "Training Cross-Entropy Loss = 0.2867\n",
      "Training Accuracy = 89.74%\n",
      "\n",
      "Epoch 48/64\n",
      "Training phase...\n"
     ]
    },
    {
     "name": "stderr",
     "output_type": "stream",
     "text": [
      "Loss = 0.4015  |  Accuracy = 89.58% | Batch ID = 235 : 100%|██████████| 235/235 [00:06<00:00, 36.90it/s]\n"
     ]
    },
    {
     "name": "stdout",
     "output_type": "stream",
     "text": [
      "Learning Rate = 3.0517578125e-07\n",
      "Training Cross-Entropy Loss = 0.2872\n",
      "Training Accuracy = 89.58%\n",
      "\n",
      "Epoch 49/64\n",
      "Training phase...\n"
     ]
    },
    {
     "name": "stderr",
     "output_type": "stream",
     "text": [
      "Loss = 0.2086  |  Accuracy = 89.74% | Batch ID = 235 : 100%|██████████| 235/235 [00:06<00:00, 36.09it/s]\n"
     ]
    },
    {
     "name": "stdout",
     "output_type": "stream",
     "text": [
      "Learning Rate = 3.0517578125e-07\n",
      "Training Cross-Entropy Loss = 0.2840\n",
      "Training Accuracy = 89.74%\n",
      "\n",
      "Epoch 50/64\n",
      "Training phase...\n"
     ]
    },
    {
     "name": "stderr",
     "output_type": "stream",
     "text": [
      "Loss = 0.2655  |  Accuracy = 89.65% | Batch ID = 235 : 100%|██████████| 235/235 [00:06<00:00, 37.08it/s]\n"
     ]
    },
    {
     "name": "stdout",
     "output_type": "stream",
     "text": [
      "Learning Rate = 1.52587890625e-07\n",
      "Training Cross-Entropy Loss = 0.2871\n",
      "Training Accuracy = 89.65%\n",
      "\n",
      "Epoch 51/64\n",
      "Training phase...\n"
     ]
    },
    {
     "name": "stderr",
     "output_type": "stream",
     "text": [
      "Loss = 0.2641  |  Accuracy = 89.69% | Batch ID = 235 : 100%|██████████| 235/235 [00:06<00:00, 37.28it/s]\n"
     ]
    },
    {
     "name": "stdout",
     "output_type": "stream",
     "text": [
      "Learning Rate = 1.52587890625e-07\n",
      "Training Cross-Entropy Loss = 0.2859\n",
      "Training Accuracy = 89.69%\n",
      "\n",
      "Epoch 52/64\n",
      "Training phase...\n"
     ]
    },
    {
     "name": "stderr",
     "output_type": "stream",
     "text": [
      "Loss = 0.1969  |  Accuracy = 89.61% | Batch ID = 235 : 100%|██████████| 235/235 [00:06<00:00, 36.63it/s]\n"
     ]
    },
    {
     "name": "stdout",
     "output_type": "stream",
     "text": [
      "Learning Rate = 7.62939453125e-08\n",
      "Training Cross-Entropy Loss = 0.2867\n",
      "Training Accuracy = 89.61%\n",
      "\n",
      "Epoch 53/64\n",
      "Training phase...\n"
     ]
    },
    {
     "name": "stderr",
     "output_type": "stream",
     "text": [
      "Loss = 0.2854  |  Accuracy = 89.66% | Batch ID = 235 : 100%|██████████| 235/235 [00:06<00:00, 37.01it/s]\n"
     ]
    },
    {
     "name": "stdout",
     "output_type": "stream",
     "text": [
      "Learning Rate = 7.62939453125e-08\n",
      "Training Cross-Entropy Loss = 0.2884\n",
      "Training Accuracy = 89.66%\n",
      "\n",
      "Epoch 54/64\n",
      "Training phase...\n"
     ]
    },
    {
     "name": "stderr",
     "output_type": "stream",
     "text": [
      "Loss = 0.2872  |  Accuracy = 89.67% | Batch ID = 235 : 100%|██████████| 235/235 [00:06<00:00, 37.01it/s]\n"
     ]
    },
    {
     "name": "stdout",
     "output_type": "stream",
     "text": [
      "Learning Rate = 3.814697265625e-08\n",
      "Training Cross-Entropy Loss = 0.2889\n",
      "Training Accuracy = 89.67%\n",
      "\n",
      "Epoch 55/64\n",
      "Training phase...\n"
     ]
    },
    {
     "name": "stderr",
     "output_type": "stream",
     "text": [
      "Loss = 0.3059  |  Accuracy = 89.68% | Batch ID = 235 : 100%|██████████| 235/235 [00:06<00:00, 37.29it/s]\n"
     ]
    },
    {
     "name": "stdout",
     "output_type": "stream",
     "text": [
      "Learning Rate = 3.814697265625e-08\n",
      "Training Cross-Entropy Loss = 0.2864\n",
      "Training Accuracy = 89.68%\n",
      "\n",
      "Epoch 56/64\n",
      "Training phase...\n"
     ]
    },
    {
     "name": "stderr",
     "output_type": "stream",
     "text": [
      "Loss = 0.2512  |  Accuracy = 89.65% | Batch ID = 235 : 100%|██████████| 235/235 [00:06<00:00, 36.99it/s]\n"
     ]
    },
    {
     "name": "stdout",
     "output_type": "stream",
     "text": [
      "Learning Rate = 1.9073486328125e-08\n",
      "Training Cross-Entropy Loss = 0.2860\n",
      "Training Accuracy = 89.65%\n",
      "\n",
      "Epoch 57/64\n",
      "Training phase...\n"
     ]
    },
    {
     "name": "stderr",
     "output_type": "stream",
     "text": [
      "Loss = 0.3507  |  Accuracy = 89.65% | Batch ID = 235 : 100%|██████████| 235/235 [00:06<00:00, 38.13it/s]\n"
     ]
    },
    {
     "name": "stdout",
     "output_type": "stream",
     "text": [
      "Learning Rate = 1.9073486328125e-08\n",
      "Training Cross-Entropy Loss = 0.2861\n",
      "Training Accuracy = 89.65%\n",
      "\n",
      "Epoch 58/64\n",
      "Training phase...\n"
     ]
    },
    {
     "name": "stderr",
     "output_type": "stream",
     "text": [
      "Loss = 0.2565  |  Accuracy = 89.69% | Batch ID = 235 : 100%|██████████| 235/235 [00:06<00:00, 38.20it/s]\n"
     ]
    },
    {
     "name": "stdout",
     "output_type": "stream",
     "text": [
      "Learning Rate = 1.9073486328125e-08\n",
      "Training Cross-Entropy Loss = 0.2870\n",
      "Training Accuracy = 89.69%\n",
      "\n",
      "Epoch 59/64\n",
      "Training phase...\n"
     ]
    },
    {
     "name": "stderr",
     "output_type": "stream",
     "text": [
      "Loss = 0.2841  |  Accuracy = 89.67% | Batch ID = 235 : 100%|██████████| 235/235 [00:06<00:00, 37.35it/s]\n"
     ]
    },
    {
     "name": "stdout",
     "output_type": "stream",
     "text": [
      "Learning Rate = 1.9073486328125e-08\n",
      "Training Cross-Entropy Loss = 0.2868\n",
      "Training Accuracy = 89.67%\n",
      "\n",
      "Epoch 60/64\n",
      "Training phase...\n"
     ]
    },
    {
     "name": "stderr",
     "output_type": "stream",
     "text": [
      "Loss = 0.3865  |  Accuracy = 89.73% | Batch ID = 235 : 100%|██████████| 235/235 [00:06<00:00, 37.40it/s]\n"
     ]
    },
    {
     "name": "stdout",
     "output_type": "stream",
     "text": [
      "Learning Rate = 1.9073486328125e-08\n",
      "Training Cross-Entropy Loss = 0.2866\n",
      "Training Accuracy = 89.73%\n",
      "\n",
      "Epoch 61/64\n",
      "Training phase...\n"
     ]
    },
    {
     "name": "stderr",
     "output_type": "stream",
     "text": [
      "Loss = 0.2660  |  Accuracy = 89.72% | Batch ID = 235 : 100%|██████████| 235/235 [00:06<00:00, 36.73it/s]\n"
     ]
    },
    {
     "name": "stdout",
     "output_type": "stream",
     "text": [
      "Learning Rate = 1.9073486328125e-08\n",
      "Training Cross-Entropy Loss = 0.2860\n",
      "Training Accuracy = 89.72%\n",
      "\n",
      "Epoch 62/64\n",
      "Training phase...\n"
     ]
    },
    {
     "name": "stderr",
     "output_type": "stream",
     "text": [
      "Loss = 0.4232  |  Accuracy = 89.73% | Batch ID = 235 : 100%|██████████| 235/235 [00:06<00:00, 37.02it/s]\n"
     ]
    },
    {
     "name": "stdout",
     "output_type": "stream",
     "text": [
      "Learning Rate = 1.9073486328125e-08\n",
      "Training Cross-Entropy Loss = 0.2869\n",
      "Training Accuracy = 89.73%\n",
      "\n",
      "Epoch 63/64\n",
      "Training phase...\n"
     ]
    },
    {
     "name": "stderr",
     "output_type": "stream",
     "text": [
      "Loss = 0.1580  |  Accuracy = 89.60% | Batch ID = 235 : 100%|██████████| 235/235 [00:06<00:00, 36.94it/s]\n"
     ]
    },
    {
     "name": "stdout",
     "output_type": "stream",
     "text": [
      "Learning Rate = 1.9073486328125e-08\n",
      "Training Cross-Entropy Loss = 0.2867\n",
      "Training Accuracy = 89.60%\n",
      "\n",
      "Epoch 64/64\n",
      "Training phase...\n"
     ]
    },
    {
     "name": "stderr",
     "output_type": "stream",
     "text": [
      "Loss = 0.3839  |  Accuracy = 89.77% | Batch ID = 235 : 100%|██████████| 235/235 [00:06<00:00, 37.26it/s]"
     ]
    },
    {
     "name": "stdout",
     "output_type": "stream",
     "text": [
      "Learning Rate = 1.9073486328125e-08\n",
      "Training Cross-Entropy Loss = 0.2883\n",
      "Training Accuracy = 89.77%\n",
      "\n",
      "Cross-Entropy on training set:  0.2883\n",
      "Accuracy on training set:       89.77%\n"
     ]
    },
    {
     "name": "stderr",
     "output_type": "stream",
     "text": [
      "\n"
     ]
    }
   ],
   "source": [
    "train_loss_hist, train_acc_hist = train_d(NeuralNetwork_complex, TrainLoader, optimizer, scheduler, criterion, epochs = 64, device = device)"
   ]
  },
  {
   "cell_type": "code",
   "execution_count": 39,
   "metadata": {},
   "outputs": [
    {
     "name": "stdout",
     "output_type": "stream",
     "text": [
      "Cross-Entropy on test set: 0.3050\n",
      "Accuracy on test set: 89.00%\n"
     ]
    }
   ],
   "source": [
    "test_loss, test_acc = test(NeuralNetwork_complex, TestLoader, criterion, device)"
   ]
  },
  {
   "cell_type": "markdown",
   "id": "be4b56a1",
   "metadata": {},
   "source": [
    "### Explaining results\n",
    "\n",
    "Original Simple Feedforward Neural Network:\n",
    "\n",
    "After 10 epochs, the loss on the training set is 0.3628, and the accuracy on the test set is 84.47%.\n",
    "The Cross-Entropy on the training set is 0.3741, and on the test set, it's 0.4217.\n",
    "Modified Complex Feedforward Neural Network:\n",
    "\n",
    "After 10 epochs, the loss on the training set is 0.2230, and the accuracy on the test set is 88.66%.\n",
    "The Cross-Entropy on the training set is 0.1927, and on the test set, it's 0.3200.\n",
    "Comparison:\n",
    "\n",
    "Training Loss: The modified complex network achieves a significantly lower training loss (0.2230) compared to the original simple network (0.3628). This indicates that the complex network learns the training data better.\n",
    "\n",
    "Test Accuracy: The modified complex network achieves a higher test accuracy (88.66%) compared to the original simple network (84.47%). This suggests that the complex network generalizes better to unseen data.\n",
    "\n",
    "Cross-Entropy: The Cross-Entropy on the training set is lower for the complex network (0.1927) compared to the original network (0.3741). Additionally, the Cross-Entropy on the test set is lower for the complex network (0.3200) compared to the original network (0.4217). Lower Cross-Entropy values indicate better model performance.\n",
    "\n",
    "In summary, the modified complex feedforward neural network with increased complexity, Leaky ReLU activations, L2 regularization, batch normalization, and dropout shows improved performance over the original simple network. It achieves both lower training loss and better generalization to the test set, resulting in higher accuracy and lower Cross-Entropy."
   ]
  },
  {
   "cell_type": "markdown",
   "metadata": {},
   "source": [
    "## Exercise 1, e)"
   ]
  },
  {
   "cell_type": "markdown",
   "metadata": {},
   "source": [
    "Looking at both architectures, it's visible that Network A is deeper and has less neurons in each hidden layer, than Network B. That being said, this simple choice of the architecture truly affects a model's predictive power. That being said, Network A is better than Ntework B for several reasons:\n",
    "\n",
    "1. **Representation Power**: Deeper neural networks have more layers, which means they can learn more complex representations of the input data. Each neuron in the first hidden layer can learn a different feature of the data, and the subsequent layers can combine these features, from all neurons from the previous hidden layer, to learn even more complex representations by combining this elementary features into more complete ones. This allows the network to capture more intricate patterns in the data, leading to better performance. In other words, we can say that Network A is able to start by learning initial underlying factors of variation of the target, and for the subsequent layers these variation factors are taken (or not) into consideration in order to detect more complex variation factors that better explain the function to which we're apporximating.\n",
    "\n",
    "2. **Generalization**: Deeper neural networks are less likely to overfit the training data than shallow networks. This is because deeper networks have more parameters, which allows them to learn more complex functions that can better fit the training data. Goodfellow et al. (2014d) showed, in a multi-digit numbers dataset, that the depth of a neural network constantly increased the network's accuracy, going from around 92.5% to 96%. This means that Network A should be able to generalize better on test data than Network B.\n",
    "\n",
    "3. **Efficiency**: Deeper neural networks can be more efficient than shallow networks in terms of the number of parameters required to achieve a certain level of performance. This is because deeper networks can use fewer parameters per layer, since each layer only needs to learn a small part of the overall function. This can lead to faster training times and lower memory requirements. So, we can also assume that Network A might be faster to train that Network B."
   ]
  }
 ],
 "metadata": {
  "kernelspec": {
   "display_name": "Python 3 (ipykernel)",
   "language": "python",
   "name": "python3"
  },
  "language_info": {
   "codemirror_mode": {
    "name": "ipython",
    "version": 3
   },
   "file_extension": ".py",
   "mimetype": "text/x-python",
   "name": "python",
   "nbconvert_exporter": "python",
   "pygments_lexer": "ipython3",
   "version": "3.10.9"
  }
 },
 "nbformat": 4,
 "nbformat_minor": 5
}
