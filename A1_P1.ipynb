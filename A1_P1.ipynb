{
 "cells": [
  {
   "cell_type": "markdown",
   "metadata": {},
   "source": [
    "# Libraries & Custom functions"
   ]
  },
  {
   "cell_type": "markdown",
   "metadata": {
    "collapsed": false
   },
   "source": [
    "### Imports"
   ]
  },
  {
   "cell_type": "code",
   "execution_count": 1,
   "metadata": {
    "ExecuteTime": {
     "end_time": "2023-11-09T19:13:33.987356600Z",
     "start_time": "2023-11-09T19:13:33.967326600Z"
    }
   },
   "outputs": [],
   "source": [
    "import torch\n",
    "import torchvision\n",
    "import torchvision.transforms as transforms\n",
    "import torch.nn.functional as F\n",
    "import matplotlib.pyplot as plt\n",
    "import numpy as np\n",
    "\n",
    "from torch.utils.data import DataLoader\n",
    "from tqdm import tqdm\n",
    "\n",
    "# Ignore UserWarning\n",
    "import warnings\n",
    "warnings.filterwarnings(\"ignore\", category=UserWarning)"
   ]
  },
  {
   "cell_type": "code",
   "execution_count": 21,
   "metadata": {},
   "outputs": [],
   "source": [
    "############################################################### Functions for Part 1 b) ###############################################################\n",
    "\n",
    "def BCE_Loss(y_true, y_hat):\n",
    "    if y_true == y_hat:\n",
    "        return torch.tensor(0.)\n",
    "\n",
    "    return -1 * (y_true * torch.log(y_hat) + (1 - y_true) * torch.log(1 - y_hat))\n",
    "\n",
    "\n",
    "def ForwardPass(X, W, b = 0):\n",
    "\n",
    "    z1 = torch.matmul(X, W[0].T) + b\n",
    "    a1 = F.relu(z1)\n",
    "\n",
    "    z2 = torch.matmul(a1, W[1].T) + b\n",
    "    a2 = F.leaky_relu(z2, negative_slope = 0.01)\n",
    "\n",
    "    z3 = torch.matmul(a2, W[2].T) + b\n",
    "    a3 = F.sigmoid(z3)\n",
    "\n",
    "    return a3, a2, a1\n",
    "\n",
    "\n",
    "def BackwardPass(X, a1, a2, a3, y_true, W):\n",
    "\n",
    "    # Partial derivative of the loss function with respect to the prediction\n",
    "    dL_da3 = -1 * (y_true / a3 - (1 - y_true) / (1 - a3)) if y_true != a3 else torch.tensor([0.])\n",
    "    # Partial derivative of the loss function with respect to z3, using the sigmoid derivative\n",
    "    dL_dz3 = dL_da3 * (a3 * (1 - a3))\n",
    "    # Partial derivative of the loss function with respect to the weights of the connections between the second hidden layer and the output layer\n",
    "    dL_dW3 = torch.matmul(dL_dz3.T, a2)\n",
    "\n",
    "    # Partial derivative of the loss function with respect to the activation values from the second hidden layer\n",
    "    dL_da2 = torch.matmul(dL_dz3, W[2])\n",
    "    # Partial derivative of the loss function with respect to z2, using the Leaky ReLU derivative\n",
    "    dL_dz2 = torch.where(a2 >= 0, dL_da2, 0.01 * dL_da2)\n",
    "    # Partial derivative of the loss function with respect to the weights of the connections between the first and second hidden layers\n",
    "    dL_dW2 = torch.matmul(dL_dz2.T, a1)\n",
    "\n",
    "    # Partial derivative of the loss function with respect to the activation values from the first hidden layer\n",
    "    dL_da1 = torch.matmul(dL_dz2, W[1])\n",
    "    # Partial derivative of the loss function with respect to z2, using the ReLU derivative\n",
    "    dL_dz1 = torch.where(a1 >= 0, dL_da1, 0.0 * dL_da1)\n",
    "    # Partial derivative of the loss function with respect to the weights of the connections between the input layer and the first hidden layers\n",
    "    dL_dW1 = torch.matmul(dL_dz1.T, X)\n",
    "\n",
    "    return dL_dW1, dL_dW2, dL_dW3\n",
    "\n",
    "\n",
    "def StochasticGradientDescent(dL_dW1, dL_dW2, dL_dW3, W, lr):\n",
    "    # Update weights using SGD\n",
    "    W[0] -= lr * dL_dW1\n",
    "    W[1] -= lr * dL_dW2\n",
    "    W[2] -= lr * dL_dW3\n",
    "\n",
    "    return W\n",
    "\n",
    "\n",
    "############################################################### Functions for Part 1 c) and d) ###############################################################\n",
    "\n",
    "# Define a function to display a batch of images\n",
    "def imshow(img):\n",
    "    img = img / 2 + 0.5  # Unnormalize the image\n",
    "    npimg = img.numpy()\n",
    "    plt.imshow(np.transpose(npimg, (1, 2, 0)))  # Fix the missing closing parenthesis\n",
    "    plt.show()\n",
    "\n",
    "\n",
    "def set_device():\n",
    "    if torch.cuda.is_available():\n",
    "        device = torch.device('cuda')\n",
    "\n",
    "    elif torch.backends.mps.is_available():\n",
    "        device = torch.device('mps')\n",
    "\n",
    "    else:\n",
    "        device = torch.device('cpu')\n",
    "    print('Device:', device)\n",
    "\n",
    "    return device\n",
    "\n",
    "\n",
    "class NeuralNetwork_Exercise1_c(torch.nn.Module):\n",
    "    def __init__(self):\n",
    "        super().__init__()\n",
    "        self.fc1 = torch.nn.Linear(784, 256)  # Input size for MNIST is 28x28=784\n",
    "        self.fc2 = torch.nn.Linear(256, 128)\n",
    "        self.fc3 = torch.nn.Linear(128, 10)   # 10 output classes for Fashion-MNIST\n",
    "        self.relu = torch.nn.ReLU()\n",
    "        self.leaky_relu = torch.nn.LeakyReLU(0.01)\n",
    "\n",
    "    def forward(self, x):\n",
    "        x = x.view(-1, 784)  # Flatten the input\n",
    "        x = self.relu(self.fc1(x))\n",
    "        x = self.leaky_relu(self.fc2(x))\n",
    "        x = self.fc3(x)\n",
    "        return x\n",
    "\n",
    "\n",
    "# Define a more complex neural network\n",
    "class NeuralNetwork_Exercise1_d(torch.nn.Module):\n",
    "    def __init__(self):\n",
    "        super().__init__()\n",
    "        self.input_layer = torch.nn.Linear(784, 256)\n",
    "        self.fc_128_256 = torch.nn.Linear(128, 256)\n",
    "        self.fc_256_512 = torch.nn.Linear(256, 512)\n",
    "        self.fc_128_128 = torch.nn.Linear(128, 128)\n",
    "        self.fc_256_256 = torch.nn.Linear(256, 256)\n",
    "        self.fc_512_512 = torch.nn.Linear(512, 512)\n",
    "        self.fc_512_1024 = torch.nn.Linear(512, 1024)\n",
    "        self.fc_1024_1024 = torch.nn.Linear(1024, 1024)\n",
    "        self.fc_1024_2048 = torch.nn.Linear(1024, 2048)\n",
    "        self.fc_2048_1024 = torch.nn.Linear(2048, 1024)\n",
    "        self.fc_2048_2048 = torch.nn.Linear(2048, 2048)\n",
    "        self.fc_1024_512 = torch.nn.Linear(1024, 512)\n",
    "        self.fc_512_256 = torch.nn.Linear(512, 256)\n",
    "        self.fc_256_128 = torch.nn.Linear(256, 128)\n",
    "        self.fc_128_64 = torch.nn.Linear(128, 64)\n",
    "        self.output_layer = torch.nn.Linear(128, 10)\n",
    "        self.leaky_relu = torch.nn.LeakyReLU(0.01)\n",
    "        self.relu = torch.nn.ReLU()\n",
    "        self.sigmoid = torch.nn.Sigmoid()\n",
    "        self.dropout_10 = torch.nn.Dropout(0.1)\n",
    "        self.dropout_20 = torch.nn.Dropout(0.2)\n",
    "        self.dropout_30 = torch.nn.Dropout(0.3)\n",
    "        self.dropout_40 = torch.nn.Dropout(0.4)\n",
    "        self.dropout_50 = torch.nn.Dropout(0.5)\n",
    "        self.batch_norm2048 = torch.nn.BatchNorm1d(2048)\n",
    "        self.batch_norm1024 = torch.nn.BatchNorm1d(1024)\n",
    "        self.batch_norm512 = torch.nn.BatchNorm1d(512)\n",
    "        self.batch_norm256 = torch.nn.BatchNorm1d(256)\n",
    "        self.batch_norm128 = torch.nn.BatchNorm1d(128)\n",
    "        self.batch_norm64 = torch.nn.BatchNorm1d(64)\n",
    "\n",
    "    def forward(self, x):\n",
    "        x = x.view(-1, 784)\n",
    "        x = self.relu(self.batch_norm256(self.input_layer(x)))\n",
    "        x = self.dropout_50(x)\n",
    "        x = self.relu(self.batch_norm128(self.fc_256_128(x)))\n",
    "        x = self.output_layer(x)\n",
    "        return x\n",
    "\n",
    "\n",
    "def train(model, train_loader, optimizer, scheduler, loss_func, epochs, device, **kwargs):\n",
    "\n",
    "    num_epochs = kwargs.get('num_epochs', epochs)\n",
    "    loss_fn = kwargs.get('loss_fn', loss_func)\n",
    "    device = kwargs.get('device', device)\n",
    "\n",
    "    train_loss_hist, train_acc_hist = [], []\n",
    "    for epoch in range(num_epochs):\n",
    "        print(f'Epoch {epoch + 1}/{num_epochs}')\n",
    "\n",
    "        print('Training phase...')\n",
    "        model.train()\n",
    "        train_loss = 0.\n",
    "        total = 0.\n",
    "        correct = 0.\n",
    "        pbar = tqdm(enumerate(train_loader), total = len(train_loader))\n",
    "\n",
    "        for batch_idx, (data, target) in pbar:\n",
    "            data = data.to(device)\n",
    "            target = target.to(device)\n",
    "            model.zero_grad()\n",
    "            output = model(data)\n",
    "            loss = loss_fn(output, target)\n",
    "            loss.backward()\n",
    "            optimizer.step()\n",
    "\n",
    "            train_loss += loss.item()\n",
    "\n",
    "            _, predicted = torch.max(output.data, 1)\n",
    "            total += target.size(0)\n",
    "            correct += (predicted == target).sum().item()\n",
    "\n",
    "            pbar.set_description(f'Loss = {loss:.4f}  |  Accuracy = {100 * correct / total:.2f}% | Batch ID = {batch_idx + 1} ')\n",
    "\n",
    "        print(f\"Learning Rate = {optimizer.param_groups[0]['lr']}\")\n",
    "        scheduler.step()\n",
    "\n",
    "        train_loss /= len(train_loader)\n",
    "        train_accuracy = 100 * correct / total\n",
    "        print(f'Training Cross-Entropy Loss = {train_loss:.4f}')\n",
    "        print(f'Training Accuracy = {train_accuracy:.2f}%')\n",
    "        print()\n",
    "        train_loss_hist.append(train_loss)\n",
    "        train_acc_hist.append(train_accuracy)\n",
    "\n",
    "    print(f\"Cross-Entropy on training set:  {train_loss_hist[-1]:.4f}\")\n",
    "    print(f\"Accuracy on training set:       {train_acc_hist[-1]:.2f}%\")\n",
    "\n",
    "    return train_loss_hist, train_acc_hist\n",
    "\n",
    "\n",
    "def test(model, test_loader, loss_func, device):\n",
    "\n",
    "    model.eval()\n",
    "\n",
    "    correct = 0\n",
    "    total = 0\n",
    "    test_loss = 0\n",
    "    with torch.no_grad():\n",
    "        for images, labels in test_loader:\n",
    "            images = images.to(device)\n",
    "            labels = labels.to(device)\n",
    "            outputs = model(images)\n",
    "            _, predicted = torch.max(outputs.data, 1)\n",
    "            total += labels.size(0)\n",
    "            correct += (predicted == labels).sum().item()\n",
    "            test_loss += loss_func(outputs, labels).item()\n",
    "\n",
    "    test_loss /= len(test_loader)\n",
    "    test_acc = 100 * correct / total\n",
    "\n",
    "    print(f\"Cross-Entropy on test set: {test_loss:.4f}\")\n",
    "    print(f\"Accuracy on test set: {test_acc:.2f}%\")\n",
    "\n",
    "    return test_loss, test_acc"
   ]
  },
  {
   "cell_type": "markdown",
   "metadata": {},
   "source": [
    "# Exercise 1"
   ]
  },
  {
   "cell_type": "markdown",
   "id": "639d6e4b",
   "metadata": {},
   "source": [
    "### Exercise 1. (A)"
   ]
  },
  {
   "cell_type": "markdown",
   "id": "ae82d1c7",
   "metadata": {},
   "source": [
    "**Backpropagation** and **gradient descent** are like a dynamic duo in training deep neural networks (DNNs).\n",
    "\n",
    "**Backpropagation** is the process of updating the model's weights by calculating the gradient of the loss function with respect to the weights. It's all about figuring out how much each weight contributed to the error, layer by layer, starting from the output layer and working backward through the network. This info helps adjust the weights to minimize the error in future predictions.\n",
    "\n",
    "Now, **gradient descent** is the optimization technique that works hand-in-hand with backpropagation. It's all about finding the minimum of the loss function. The gradient (derivative) of the loss with respect to the weights tells us the direction of the steepest increase. Gradient descent takes steps in the opposite direction to minimize the loss.\n",
    "\n",
    "So, to sum it up, backpropagation fine-tunes the weights based on the error, and gradient descent guides this process by minimizing the error step by step. They team up to make our neural networks smarter!"
   ]
  },
  {
   "cell_type": "markdown",
   "id": "d3e5d18e",
   "metadata": {},
   "source": [
    "#### References"
   ]
  },
  {
   "cell_type": "markdown",
   "id": "37abdddb",
   "metadata": {},
   "source": [
    " - https://www.analyticsvidhya.com/blog/2023/01/gradient-descent-vs-backpropagation-whats-the-difference/#:~:text=To%20put%20it%20plainly%2C%20gradient,gradient%20descent%20relies%20on%20backpropagation."
   ]
  },
  {
   "cell_type": "markdown",
   "id": "1cdbdc33",
   "metadata": {},
   "source": [
    "### Exercise 1. (B)\n",
    "\n",
    "#### References\n",
    "https://towardsdatascience.com/nothing-but-numpy-understanding-creating-binary-classification-neural-networks-with-e746423c8d5c"
   ]
  },
  {
   "cell_type": "code",
   "execution_count": 3,
   "metadata": {
    "ExecuteTime": {
     "end_time": "2023-11-09T17:33:08.426675300Z",
     "start_time": "2023-11-09T17:33:08.401129200Z"
    }
   },
   "outputs": [],
   "source": [
    "input_values = torch.tensor([[5., 4., 1., 3., 2.]])\n",
    "\n",
    "y_true = torch.tensor([1.])\n",
    "\n",
    "w1 = torch.tensor([[0.2, 0.2, 0.2, 0.2, 0.2],\n",
    "                   [0.2, 0.2, 0.2, 0.2, 0.2],\n",
    "                   [0.2, 0.2, 0.2, 0.2, 0.2]])\n",
    "\n",
    "w2 = torch.tensor([[0.2, 0.2, 0.2],\n",
    "                   [0.2, 0.2, 0.2]])\n",
    "\n",
    "w3 = torch.tensor([[0.2, 0.2]])\n",
    "\n",
    "W = list([w1, w2, w3])"
   ]
  },
  {
   "cell_type": "code",
   "execution_count": 4,
   "metadata": {
    "ExecuteTime": {
     "end_time": "2023-11-09T17:33:09.650782Z",
     "start_time": "2023-11-09T17:33:09.623704600Z"
    }
   },
   "outputs": [
    {
     "name": "stdout",
     "output_type": "stream",
     "text": [
      "Predicted Output (a3): 0.6726070046424866\n",
      "Expected Output (y_true): 1.0\n",
      "Binary Cross-Entropy Loss: 0.3965940773487091\n"
     ]
    }
   ],
   "source": [
    "a3, a2, a1 = ForwardPass(input_values, W)\n",
    "loss = BCE_Loss(y_true, a3)\n",
    "\n",
    "print(\"Predicted Output (a3):\", a3.item())\n",
    "print(\"Expected Output (y_true):\", y_true.item())\n",
    "print(\"Binary Cross-Entropy Loss:\", loss.item())"
   ]
  },
  {
   "cell_type": "code",
   "execution_count": 5,
   "metadata": {
    "ExecuteTime": {
     "end_time": "2023-11-09T17:33:10.257815700Z",
     "start_time": "2023-11-09T17:33:10.232677600Z"
    }
   },
   "outputs": [
    {
     "name": "stdout",
     "output_type": "stream",
     "text": [
      "dL_dW1: tensor([[-0.1310, -0.1048, -0.0262, -0.0786, -0.0524],\n",
      "        [-0.1310, -0.1048, -0.0262, -0.0786, -0.0524],\n",
      "        [-0.1310, -0.1048, -0.0262, -0.0786, -0.0524]])\n",
      "dL_dW2: tensor([[-0.1964, -0.1964, -0.1964],\n",
      "        [-0.1964, -0.1964, -0.1964]])\n",
      "dL_dW3: tensor([[-0.5893, -0.5893]])\n"
     ]
    }
   ],
   "source": [
    "dL_dW1, dL_dW2, dL_dW3 = BackwardPass(input_values, a1, a2, a3, y_true, W)\n",
    "\n",
    "print(\"dL_dW1:\", dL_dW1)\n",
    "print(\"dL_dW2:\", dL_dW2)\n",
    "print(\"dL_dW3:\", dL_dW3)"
   ]
  },
  {
   "cell_type": "code",
   "execution_count": 6,
   "metadata": {
    "ExecuteTime": {
     "end_time": "2023-11-09T17:33:10.416912Z",
     "start_time": "2023-11-09T17:33:10.404816300Z"
    }
   },
   "outputs": [
    {
     "name": "stdout",
     "output_type": "stream",
     "text": [
      "Updated W1: tensor([[0.2262, 0.2210, 0.2052, 0.2157, 0.2105],\n",
      "        [0.2262, 0.2210, 0.2052, 0.2157, 0.2105],\n",
      "        [0.2262, 0.2210, 0.2052, 0.2157, 0.2105]])\n",
      "Updated W2: tensor([[0.2393, 0.2393, 0.2393],\n",
      "        [0.2393, 0.2393, 0.2393]])\n",
      "Updated W3: tensor([[0.3179, 0.3179]])\n"
     ]
    }
   ],
   "source": [
    "W = StochasticGradientDescent(dL_dW1, dL_dW2, dL_dW3, W, lr = 0.2)\n",
    "\n",
    "print(\"Updated W1:\", W[0])\n",
    "print(\"Updated W2:\", W[1])\n",
    "print(\"Updated W3:\", W[2])"
   ]
  },
  {
   "cell_type": "markdown",
   "metadata": {},
   "source": [
    "<h2>After updating your weights what do you observe? Explain why.</h2>\n",
    "<p>After computing the loss and doing a backward pass, and given that all weights were initialized with the value 2, we can see that none of the weights changed. Tracing back the steps made, we can see that all partial derivatives with respect to all the weights have a value of 0, which corroborates the fact that none of the weight's values changed. These partial derivatives measure the weight's variation in order for the loss of the neural network to decrease. So, the question now becomes, why all partial derivatives with respect to all weights show that no variation in their values is required in order to decrease the loss? Well, that's because the loss is already at its minimum, which is zero. Looking at how the binary loss is computed, we see that both the expected value and predicted value are exactly the same value, one, meaning that our network predicted perfectly the target. So, this means that there's no more room for improvement, and that's why all partial derivatives with respect to the weights are zero, and as consequence, the weight matrices didn't change.</p>"
   ]
  },
  {
   "cell_type": "markdown",
   "metadata": {},
   "source": [
    "### Exercise 1. (C)\n",
    "\n",
    "#### References\n",
    "https://medium.com/@aaysbt/fashion-mnist-data-training-using-pytorch-7f6ad71e96f4"
   ]
  },
  {
   "cell_type": "markdown",
   "metadata": {
    "collapsed": false
   },
   "source": [
    "#### Data Loader"
   ]
  },
  {
   "cell_type": "code",
   "execution_count": 7,
   "metadata": {
    "ExecuteTime": {
     "end_time": "2023-11-09T19:10:03.990715400Z",
     "start_time": "2023-11-09T19:10:03.908679100Z"
    },
    "collapsed": false
   },
   "outputs": [],
   "source": [
    "# Define data preprocessing and loading / Define a transform to convert to images to tensor and normalize\n",
    "transform = transforms.Compose([transforms.ToTensor(), transforms.Normalize((0.5,), (0.5,))])\n",
    "\n",
    "train_dataset = torchvision.datasets.FashionMNIST(root='./data', train=True, transform=transform, download=True)\n",
    "test_dataset = torchvision.datasets.FashionMNIST(root='./data', train=False, transform=transform, download=True)\n",
    "\n",
    "batch_size = 64\n",
    "\n",
    "train_loader = DataLoader(train_dataset, batch_size=batch_size, shuffle=True)\n",
    "test_loader = DataLoader(test_dataset, batch_size=batch_size, shuffle=False)"
   ]
  },
  {
   "cell_type": "markdown",
   "metadata": {
    "collapsed": false
   },
   "source": [
    "#### Data Visualization - Sample from the train_loader (size 64 - batch size)"
   ]
  },
  {
   "cell_type": "code",
   "execution_count": 8,
   "metadata": {
    "ExecuteTime": {
     "end_time": "2023-11-09T19:12:14.433585700Z",
     "start_time": "2023-11-09T19:12:14.245586300Z"
    },
    "collapsed": false
   },
   "outputs": [
    {
     "data": {
      "image/png": "[encoded data removed]",
      "text/plain": [
       "<Figure size 640x480 with 1 Axes>"
      ]
     },
     "metadata": {},
     "output_type": "display_data"
    },
    {
     "name": "stdout",
     "output_type": "stream",
     "text": [
      "    3     1     8     9     5     3     0     2     2     0     3     4     5     3     6     8     1     6     4     0     1     0     9     9     8     3     5     1     9     9     9     2     4     2     3     0     1     0     2     5     9     7     6     0     1     7     8     0     7     6     8     6     6     5     8     2     8     9     2     8     3     9     0     5\n"
     ]
    }
   ],
   "source": [
    "# Get a batch of training data\n",
    "dataiter = iter(train_loader)\n",
    "images, labels = next(dataiter)\n",
    "\n",
    "# Show images\n",
    "imshow(torchvision.utils.make_grid(images))\n",
    "# Print labels\n",
    "print(' '.join(f'{labels[j]:5}' for j in range(batch_size)))\n"
   ]
  },
  {
   "cell_type": "code",
   "execution_count": 29,
   "metadata": {},
   "outputs": [],
   "source": [
    "transform = transforms.Compose([transforms.ToTensor(), transforms.Normalize((0.5,), (0.5,))])\n",
    "trainset = torchvision.datasets.FashionMNIST(root = './data', train = True, download = True, transform = transform)\n",
    "testset = torchvision.datasets.FashionMNIST(root = './data', train = False, download = True, transform = transform)\n",
    "\n",
    "TrainLoader = torch.utils.data.DataLoader(trainset, batch_size = 256, shuffle = True)\n",
    "TestLoader = torch.utils.data.DataLoader(testset, batch_size = 256, shuffle = False)"
   ]
  },
  {
   "cell_type": "code",
   "execution_count": 4,
   "metadata": {},
   "outputs": [
    {
     "name": "stdout",
     "output_type": "stream",
     "text": [
      "Device: mps\n"
     ]
    }
   ],
   "source": [
    "# Initialize the network, loss function, and optimizer\n",
    "device = set_device()\n",
    "NeuralNetwork = NeuralNetwork_Exercise1_c().to(device)\n",
    "criterion = torch.nn.CrossEntropyLoss()\n",
    "optimizer = torch.optim.Adam(NeuralNetwork.parameters(), lr = 0.01)"
   ]
  },
  {
   "cell_type": "code",
   "execution_count": 5,
   "metadata": {},
   "outputs": [
    {
     "name": "stdout",
     "output_type": "stream",
     "text": [
      "Epoch 1/32\n",
      "Training phase...\n"
     ]
    },
    {
     "name": "stderr",
     "output_type": "stream",
     "text": [
      "  0%|          | 0/30 [00:00<?, ?it/s]"
     ]
    },
    {
     "name": "stderr",
     "output_type": "stream",
     "text": [
      "Loss = 0.4979  |  Accuracy = 64.84% | Batch ID = 30 : 100%|██████████| 30/30 [00:02<00:00, 10.12it/s]\n"
     ]
    },
    {
     "name": "stdout",
     "output_type": "stream",
     "text": [
      "Training Cross-Entropy Loss = 0.9910\n",
      "Training Accuracy = 64.84%\n",
      "\n",
      "Epoch 2/32\n",
      "Training phase...\n"
     ]
    },
    {
     "name": "stderr",
     "output_type": "stream",
     "text": [
      "Loss = 0.4810  |  Accuracy = 82.94% | Batch ID = 30 : 100%|██████████| 30/30 [00:02<00:00, 11.33it/s]\n"
     ]
    },
    {
     "name": "stdout",
     "output_type": "stream",
     "text": [
      "Training Cross-Entropy Loss = 0.4665\n",
      "Training Accuracy = 82.94%\n",
      "\n",
      "Epoch 3/32\n",
      "Training phase...\n"
     ]
    },
    {
     "name": "stderr",
     "output_type": "stream",
     "text": [
      "Loss = 0.3719  |  Accuracy = 85.61% | Batch ID = 30 : 100%|██████████| 30/30 [00:02<00:00, 10.46it/s]\n"
     ]
    },
    {
     "name": "stdout",
     "output_type": "stream",
     "text": [
      "Training Cross-Entropy Loss = 0.3892\n",
      "Training Accuracy = 85.61%\n",
      "\n",
      "Epoch 4/32\n",
      "Training phase...\n"
     ]
    },
    {
     "name": "stderr",
     "output_type": "stream",
     "text": [
      "Loss = 0.3185  |  Accuracy = 86.89% | Batch ID = 30 : 100%|██████████| 30/30 [00:02<00:00, 11.02it/s]\n"
     ]
    },
    {
     "name": "stdout",
     "output_type": "stream",
     "text": [
      "Training Cross-Entropy Loss = 0.3558\n",
      "Training Accuracy = 86.89%\n",
      "\n",
      "Epoch 5/32\n",
      "Training phase...\n"
     ]
    },
    {
     "name": "stderr",
     "output_type": "stream",
     "text": [
      "Loss = 0.2972  |  Accuracy = 88.03% | Batch ID = 30 : 100%|██████████| 30/30 [00:02<00:00, 11.09it/s]\n"
     ]
    },
    {
     "name": "stdout",
     "output_type": "stream",
     "text": [
      "Training Cross-Entropy Loss = 0.3242\n",
      "Training Accuracy = 88.03%\n",
      "\n",
      "Epoch 6/32\n",
      "Training phase...\n"
     ]
    },
    {
     "name": "stderr",
     "output_type": "stream",
     "text": [
      "Loss = 0.3352  |  Accuracy = 88.57% | Batch ID = 30 : 100%|██████████| 30/30 [00:02<00:00, 11.36it/s]\n"
     ]
    },
    {
     "name": "stdout",
     "output_type": "stream",
     "text": [
      "Training Cross-Entropy Loss = 0.3095\n",
      "Training Accuracy = 88.57%\n",
      "\n",
      "Epoch 7/32\n",
      "Training phase...\n"
     ]
    },
    {
     "name": "stderr",
     "output_type": "stream",
     "text": [
      "Loss = 0.2617  |  Accuracy = 89.15% | Batch ID = 30 : 100%|██████████| 30/30 [00:02<00:00, 10.89it/s]\n"
     ]
    },
    {
     "name": "stdout",
     "output_type": "stream",
     "text": [
      "Training Cross-Entropy Loss = 0.2891\n",
      "Training Accuracy = 89.15%\n",
      "\n",
      "Epoch 8/32\n",
      "Training phase...\n"
     ]
    },
    {
     "name": "stderr",
     "output_type": "stream",
     "text": [
      "Loss = 0.2579  |  Accuracy = 89.53% | Batch ID = 30 : 100%|██████████| 30/30 [00:02<00:00, 11.36it/s]\n"
     ]
    },
    {
     "name": "stdout",
     "output_type": "stream",
     "text": [
      "Training Cross-Entropy Loss = 0.2792\n",
      "Training Accuracy = 89.53%\n",
      "\n",
      "Epoch 9/32\n",
      "Training phase...\n"
     ]
    },
    {
     "name": "stderr",
     "output_type": "stream",
     "text": [
      "Loss = 0.2627  |  Accuracy = 90.38% | Batch ID = 30 : 100%|██████████| 30/30 [00:02<00:00, 11.30it/s]\n"
     ]
    },
    {
     "name": "stdout",
     "output_type": "stream",
     "text": [
      "Training Cross-Entropy Loss = 0.2619\n",
      "Training Accuracy = 90.38%\n",
      "\n",
      "Epoch 10/32\n",
      "Training phase...\n"
     ]
    },
    {
     "name": "stderr",
     "output_type": "stream",
     "text": [
      "Loss = 0.2918  |  Accuracy = 90.41% | Batch ID = 30 : 100%|██████████| 30/30 [00:02<00:00, 11.01it/s]\n"
     ]
    },
    {
     "name": "stdout",
     "output_type": "stream",
     "text": [
      "Training Cross-Entropy Loss = 0.2599\n",
      "Training Accuracy = 90.41%\n",
      "\n",
      "Epoch 11/32\n",
      "Training phase...\n"
     ]
    },
    {
     "name": "stderr",
     "output_type": "stream",
     "text": [
      "Loss = 0.3127  |  Accuracy = 90.39% | Batch ID = 30 : 100%|██████████| 30/30 [00:02<00:00, 11.37it/s]\n"
     ]
    },
    {
     "name": "stdout",
     "output_type": "stream",
     "text": [
      "Training Cross-Entropy Loss = 0.2582\n",
      "Training Accuracy = 90.39%\n",
      "\n",
      "Epoch 12/32\n",
      "Training phase...\n"
     ]
    },
    {
     "name": "stderr",
     "output_type": "stream",
     "text": [
      "Loss = 0.2595  |  Accuracy = 90.72% | Batch ID = 30 : 100%|██████████| 30/30 [00:02<00:00, 11.24it/s]\n"
     ]
    },
    {
     "name": "stdout",
     "output_type": "stream",
     "text": [
      "Training Cross-Entropy Loss = 0.2470\n",
      "Training Accuracy = 90.72%\n",
      "\n",
      "Epoch 13/32\n",
      "Training phase...\n"
     ]
    },
    {
     "name": "stderr",
     "output_type": "stream",
     "text": [
      "Loss = 0.2142  |  Accuracy = 91.32% | Batch ID = 30 : 100%|██████████| 30/30 [00:02<00:00, 10.90it/s]\n"
     ]
    },
    {
     "name": "stdout",
     "output_type": "stream",
     "text": [
      "Training Cross-Entropy Loss = 0.2315\n",
      "Training Accuracy = 91.32%\n",
      "\n",
      "Epoch 14/32\n",
      "Training phase...\n"
     ]
    },
    {
     "name": "stderr",
     "output_type": "stream",
     "text": [
      "Loss = 0.2185  |  Accuracy = 91.56% | Batch ID = 30 : 100%|██████████| 30/30 [00:02<00:00, 11.31it/s]\n"
     ]
    },
    {
     "name": "stdout",
     "output_type": "stream",
     "text": [
      "Training Cross-Entropy Loss = 0.2238\n",
      "Training Accuracy = 91.56%\n",
      "\n",
      "Epoch 15/32\n",
      "Training phase...\n"
     ]
    },
    {
     "name": "stderr",
     "output_type": "stream",
     "text": [
      "Loss = 0.2136  |  Accuracy = 91.73% | Batch ID = 30 : 100%|██████████| 30/30 [00:02<00:00, 11.33it/s]\n"
     ]
    },
    {
     "name": "stdout",
     "output_type": "stream",
     "text": [
      "Training Cross-Entropy Loss = 0.2206\n",
      "Training Accuracy = 91.73%\n",
      "\n",
      "Epoch 16/32\n",
      "Training phase...\n"
     ]
    },
    {
     "name": "stderr",
     "output_type": "stream",
     "text": [
      "Loss = 0.1661  |  Accuracy = 91.66% | Batch ID = 30 : 100%|██████████| 30/30 [00:02<00:00, 11.30it/s]\n"
     ]
    },
    {
     "name": "stdout",
     "output_type": "stream",
     "text": [
      "Training Cross-Entropy Loss = 0.2195\n",
      "Training Accuracy = 91.66%\n",
      "\n",
      "Epoch 17/32\n",
      "Training phase...\n"
     ]
    },
    {
     "name": "stderr",
     "output_type": "stream",
     "text": [
      "Loss = 0.1367  |  Accuracy = 92.44% | Batch ID = 30 : 100%|██████████| 30/30 [00:02<00:00, 10.42it/s]\n"
     ]
    },
    {
     "name": "stdout",
     "output_type": "stream",
     "text": [
      "Training Cross-Entropy Loss = 0.2030\n",
      "Training Accuracy = 92.44%\n",
      "\n",
      "Epoch 18/32\n",
      "Training phase...\n"
     ]
    },
    {
     "name": "stderr",
     "output_type": "stream",
     "text": [
      "Loss = 0.1984  |  Accuracy = 92.38% | Batch ID = 30 : 100%|██████████| 30/30 [00:02<00:00, 10.74it/s]\n"
     ]
    },
    {
     "name": "stdout",
     "output_type": "stream",
     "text": [
      "Training Cross-Entropy Loss = 0.1991\n",
      "Training Accuracy = 92.38%\n",
      "\n",
      "Epoch 19/32\n",
      "Training phase...\n"
     ]
    },
    {
     "name": "stderr",
     "output_type": "stream",
     "text": [
      "Loss = 0.2094  |  Accuracy = 92.52% | Batch ID = 30 : 100%|██████████| 30/30 [00:02<00:00, 11.01it/s]\n"
     ]
    },
    {
     "name": "stdout",
     "output_type": "stream",
     "text": [
      "Training Cross-Entropy Loss = 0.2004\n",
      "Training Accuracy = 92.52%\n",
      "\n",
      "Epoch 20/32\n",
      "Training phase...\n"
     ]
    },
    {
     "name": "stderr",
     "output_type": "stream",
     "text": [
      "Loss = 0.1772  |  Accuracy = 92.78% | Batch ID = 30 : 100%|██████████| 30/30 [00:02<00:00, 10.58it/s]\n"
     ]
    },
    {
     "name": "stdout",
     "output_type": "stream",
     "text": [
      "Training Cross-Entropy Loss = 0.1919\n",
      "Training Accuracy = 92.78%\n",
      "\n",
      "Epoch 21/32\n",
      "Training phase...\n"
     ]
    },
    {
     "name": "stderr",
     "output_type": "stream",
     "text": [
      "Loss = 0.1913  |  Accuracy = 92.76% | Batch ID = 30 : 100%|██████████| 30/30 [00:02<00:00, 11.28it/s]\n"
     ]
    },
    {
     "name": "stdout",
     "output_type": "stream",
     "text": [
      "Training Cross-Entropy Loss = 0.1925\n",
      "Training Accuracy = 92.76%\n",
      "\n",
      "Epoch 22/32\n",
      "Training phase...\n"
     ]
    },
    {
     "name": "stderr",
     "output_type": "stream",
     "text": [
      "Loss = 0.2060  |  Accuracy = 92.85% | Batch ID = 30 : 100%|██████████| 30/30 [00:02<00:00, 11.32it/s]\n"
     ]
    },
    {
     "name": "stdout",
     "output_type": "stream",
     "text": [
      "Training Cross-Entropy Loss = 0.1889\n",
      "Training Accuracy = 92.85%\n",
      "\n",
      "Epoch 23/32\n",
      "Training phase...\n"
     ]
    },
    {
     "name": "stderr",
     "output_type": "stream",
     "text": [
      "Loss = 0.1918  |  Accuracy = 93.12% | Batch ID = 30 : 100%|██████████| 30/30 [00:02<00:00, 11.32it/s]\n"
     ]
    },
    {
     "name": "stdout",
     "output_type": "stream",
     "text": [
      "Training Cross-Entropy Loss = 0.1809\n",
      "Training Accuracy = 93.12%\n",
      "\n",
      "Epoch 24/32\n",
      "Training phase...\n"
     ]
    },
    {
     "name": "stderr",
     "output_type": "stream",
     "text": [
      "Loss = 0.1952  |  Accuracy = 93.24% | Batch ID = 30 : 100%|██████████| 30/30 [00:02<00:00, 10.94it/s]\n"
     ]
    },
    {
     "name": "stdout",
     "output_type": "stream",
     "text": [
      "Training Cross-Entropy Loss = 0.1811\n",
      "Training Accuracy = 93.24%\n",
      "\n",
      "Epoch 25/32\n",
      "Training phase...\n"
     ]
    },
    {
     "name": "stderr",
     "output_type": "stream",
     "text": [
      "Loss = 0.1852  |  Accuracy = 93.22% | Batch ID = 30 : 100%|██████████| 30/30 [00:02<00:00, 11.33it/s]\n"
     ]
    },
    {
     "name": "stdout",
     "output_type": "stream",
     "text": [
      "Training Cross-Entropy Loss = 0.1789\n",
      "Training Accuracy = 93.22%\n",
      "\n",
      "Epoch 26/32\n",
      "Training phase...\n"
     ]
    },
    {
     "name": "stderr",
     "output_type": "stream",
     "text": [
      "Loss = 0.1858  |  Accuracy = 93.70% | Batch ID = 30 : 100%|██████████| 30/30 [00:02<00:00, 11.35it/s]\n"
     ]
    },
    {
     "name": "stdout",
     "output_type": "stream",
     "text": [
      "Training Cross-Entropy Loss = 0.1660\n",
      "Training Accuracy = 93.70%\n",
      "\n",
      "Epoch 27/32\n",
      "Training phase...\n"
     ]
    },
    {
     "name": "stderr",
     "output_type": "stream",
     "text": [
      "Loss = 0.1651  |  Accuracy = 93.76% | Batch ID = 30 : 100%|██████████| 30/30 [00:02<00:00, 10.96it/s]\n"
     ]
    },
    {
     "name": "stdout",
     "output_type": "stream",
     "text": [
      "Training Cross-Entropy Loss = 0.1665\n",
      "Training Accuracy = 93.76%\n",
      "\n",
      "Epoch 28/32\n",
      "Training phase...\n"
     ]
    },
    {
     "name": "stderr",
     "output_type": "stream",
     "text": [
      "Loss = 0.1652  |  Accuracy = 93.76% | Batch ID = 30 : 100%|██████████| 30/30 [00:02<00:00, 11.23it/s]\n"
     ]
    },
    {
     "name": "stdout",
     "output_type": "stream",
     "text": [
      "Training Cross-Entropy Loss = 0.1658\n",
      "Training Accuracy = 93.76%\n",
      "\n",
      "Epoch 29/32\n",
      "Training phase...\n"
     ]
    },
    {
     "name": "stderr",
     "output_type": "stream",
     "text": [
      "Loss = 0.1644  |  Accuracy = 94.14% | Batch ID = 30 : 100%|██████████| 30/30 [00:02<00:00, 11.19it/s]\n"
     ]
    },
    {
     "name": "stdout",
     "output_type": "stream",
     "text": [
      "Training Cross-Entropy Loss = 0.1564\n",
      "Training Accuracy = 94.14%\n",
      "\n",
      "Epoch 30/32\n",
      "Training phase...\n"
     ]
    },
    {
     "name": "stderr",
     "output_type": "stream",
     "text": [
      "Loss = 0.1088  |  Accuracy = 93.95% | Batch ID = 30 : 100%|██████████| 30/30 [00:02<00:00, 11.33it/s]\n"
     ]
    },
    {
     "name": "stdout",
     "output_type": "stream",
     "text": [
      "Training Cross-Entropy Loss = 0.1571\n",
      "Training Accuracy = 93.95%\n",
      "\n",
      "Epoch 31/32\n",
      "Training phase...\n"
     ]
    },
    {
     "name": "stderr",
     "output_type": "stream",
     "text": [
      "Loss = 0.1441  |  Accuracy = 94.50% | Batch ID = 30 : 100%|██████████| 30/30 [00:02<00:00, 10.96it/s]\n"
     ]
    },
    {
     "name": "stdout",
     "output_type": "stream",
     "text": [
      "Training Cross-Entropy Loss = 0.1453\n",
      "Training Accuracy = 94.50%\n",
      "\n",
      "Epoch 32/32\n",
      "Training phase...\n"
     ]
    },
    {
     "name": "stderr",
     "output_type": "stream",
     "text": [
      "Loss = 0.1254  |  Accuracy = 94.46% | Batch ID = 30 : 100%|██████████| 30/30 [00:02<00:00, 11.29it/s]"
     ]
    },
    {
     "name": "stdout",
     "output_type": "stream",
     "text": [
      "Training Cross-Entropy Loss = 0.1465\n",
      "Training Accuracy = 94.46%\n",
      "\n",
      "Cross-Entropy on training set:  0.1465\n",
      "Accuracy on training set:       94.46%\n"
     ]
    },
    {
     "name": "stderr",
     "output_type": "stream",
     "text": [
      "\n"
     ]
    }
   ],
   "source": [
    "train_loss_hist, train_acc_hist = train(NeuralNetwork, TrainLoader, optimizer, criterion, epochs = 32, device = device)"
   ]
  },
  {
   "cell_type": "code",
   "execution_count": 6,
   "metadata": {},
   "outputs": [
    {
     "name": "stdout",
     "output_type": "stream",
     "text": [
      "Cross-Entropy on test set: 0.3956\n",
      "Accuracy on test set: 89.02%\n"
     ]
    }
   ],
   "source": [
    "test_loss, test_acc = test(NeuralNetwork, TestLoader, criterion, device)"
   ]
  },
  {
   "cell_type": "markdown",
   "id": "eeb9fcbb",
   "metadata": {},
   "source": [
    "## Exercise 1, d) "
   ]
  },
  {
   "cell_type": "markdown",
   "id": "9c9d6da6",
   "metadata": {},
   "source": [
    "To improve the previous feedforward neural network for the Fashion-MNIST classification task, we can make the following changes:\n",
    "\n",
    "**Increase Network Complexity**: We can add more hidden layers and neurons to increase the network's capacity to learn complex patterns in the data.\n",
    "\n",
    "**Use Different Activation Function**: Instead of using ReLU (Rectified Linear Unit) activation, we can try a different activation function like Leaky ReLU, which might help with training.\n",
    "\n",
    "**Regularization Techniques**: To prevent overfitting, we can add dropout layers and L2 regularization to the network.\n",
    "\n",
    "**Batch Normalization**: Applying batch normalization can help stabilize and speed up training."
   ]
  },
  {
   "cell_type": "code",
   "execution_count": 30,
   "metadata": {},
   "outputs": [
    {
     "name": "stdout",
     "output_type": "stream",
     "text": [
      "Device: mps\n"
     ]
    }
   ],
   "source": [
    "# Initialize the network, loss function, and optimizer\n",
    "device = set_device()\n",
    "NeuralNetwork_complex = NeuralNetwork_Exercise1_d().to(device)\n",
    "criterion = torch.nn.CrossEntropyLoss()\n",
    "optimizer = torch.optim.Adam(NeuralNetwork_complex.parameters(), lr = 0.005, weight_decay = 0.001)  # L2 regularization\n",
    "scheduler = torch.optim.lr_scheduler.StepLR(optimizer, step_size = 4, gamma = 0.5)"
   ]
  },
  {
   "cell_type": "code",
   "execution_count": 31,
   "metadata": {},
   "outputs": [
    {
     "name": "stdout",
     "output_type": "stream",
     "text": [
      "Epoch 1/32\n",
      "Training phase...\n"
     ]
    },
    {
     "name": "stderr",
     "output_type": "stream",
     "text": [
      "Loss = 0.5406  |  Accuracy = 79.77% | Batch ID = 235 : 100%|██████████| 235/235 [00:05<00:00, 43.57it/s]\n"
     ]
    },
    {
     "name": "stdout",
     "output_type": "stream",
     "text": [
      "Learning Rate = 0.005\n",
      "Training Cross-Entropy Loss = 0.5580\n",
      "Training Accuracy = 79.77%\n",
      "\n",
      "Epoch 2/32\n",
      "Training phase...\n"
     ]
    },
    {
     "name": "stderr",
     "output_type": "stream",
     "text": [
      "Loss = 0.6039  |  Accuracy = 82.34% | Batch ID = 235 : 100%|██████████| 235/235 [00:05<00:00, 44.58it/s]\n"
     ]
    },
    {
     "name": "stdout",
     "output_type": "stream",
     "text": [
      "Learning Rate = 0.005\n",
      "Training Cross-Entropy Loss = 0.4827\n",
      "Training Accuracy = 82.34%\n",
      "\n",
      "Epoch 3/32\n",
      "Training phase...\n"
     ]
    },
    {
     "name": "stderr",
     "output_type": "stream",
     "text": [
      "Loss = 0.5249  |  Accuracy = 82.60% | Batch ID = 235 : 100%|██████████| 235/235 [00:05<00:00, 44.79it/s]\n"
     ]
    },
    {
     "name": "stdout",
     "output_type": "stream",
     "text": [
      "Learning Rate = 0.005\n",
      "Training Cross-Entropy Loss = 0.4794\n",
      "Training Accuracy = 82.60%\n",
      "\n",
      "Epoch 4/32\n",
      "Training phase...\n"
     ]
    },
    {
     "name": "stderr",
     "output_type": "stream",
     "text": [
      "Loss = 0.5715  |  Accuracy = 82.63% | Batch ID = 235 : 100%|██████████| 235/235 [00:05<00:00, 44.92it/s]\n"
     ]
    },
    {
     "name": "stdout",
     "output_type": "stream",
     "text": [
      "Learning Rate = 0.005\n",
      "Training Cross-Entropy Loss = 0.4764\n",
      "Training Accuracy = 82.63%\n",
      "\n",
      "Epoch 5/32\n",
      "Training phase...\n"
     ]
    },
    {
     "name": "stderr",
     "output_type": "stream",
     "text": [
      "Loss = 0.4848  |  Accuracy = 84.28% | Batch ID = 235 : 100%|██████████| 235/235 [00:05<00:00, 44.54it/s]\n"
     ]
    },
    {
     "name": "stdout",
     "output_type": "stream",
     "text": [
      "Learning Rate = 0.0025\n",
      "Training Cross-Entropy Loss = 0.4324\n",
      "Training Accuracy = 84.28%\n",
      "\n",
      "Epoch 6/32\n",
      "Training phase...\n"
     ]
    },
    {
     "name": "stderr",
     "output_type": "stream",
     "text": [
      "Loss = 0.3230  |  Accuracy = 84.60% | Batch ID = 235 : 100%|██████████| 235/235 [00:05<00:00, 44.98it/s]\n"
     ]
    },
    {
     "name": "stdout",
     "output_type": "stream",
     "text": [
      "Learning Rate = 0.0025\n",
      "Training Cross-Entropy Loss = 0.4236\n",
      "Training Accuracy = 84.60%\n",
      "\n",
      "Epoch 7/32\n",
      "Training phase...\n"
     ]
    },
    {
     "name": "stderr",
     "output_type": "stream",
     "text": [
      "Loss = 0.3434  |  Accuracy = 84.67% | Batch ID = 235 : 100%|██████████| 235/235 [00:05<00:00, 43.82it/s]\n"
     ]
    },
    {
     "name": "stdout",
     "output_type": "stream",
     "text": [
      "Learning Rate = 0.0025\n",
      "Training Cross-Entropy Loss = 0.4218\n",
      "Training Accuracy = 84.67%\n",
      "\n",
      "Epoch 8/32\n",
      "Training phase...\n"
     ]
    },
    {
     "name": "stderr",
     "output_type": "stream",
     "text": [
      "Loss = 0.7017  |  Accuracy = 84.95% | Batch ID = 235 : 100%|██████████| 235/235 [00:05<00:00, 42.82it/s]\n"
     ]
    },
    {
     "name": "stdout",
     "output_type": "stream",
     "text": [
      "Learning Rate = 0.0025\n",
      "Training Cross-Entropy Loss = 0.4193\n",
      "Training Accuracy = 84.95%\n",
      "\n",
      "Epoch 9/32\n",
      "Training phase...\n"
     ]
    },
    {
     "name": "stderr",
     "output_type": "stream",
     "text": [
      "Loss = 0.3165  |  Accuracy = 86.44% | Batch ID = 235 : 100%|██████████| 235/235 [00:05<00:00, 44.78it/s]\n"
     ]
    },
    {
     "name": "stdout",
     "output_type": "stream",
     "text": [
      "Learning Rate = 0.00125\n",
      "Training Cross-Entropy Loss = 0.3739\n",
      "Training Accuracy = 86.44%\n",
      "\n",
      "Epoch 10/32\n",
      "Training phase...\n"
     ]
    },
    {
     "name": "stderr",
     "output_type": "stream",
     "text": [
      "Loss = 0.2029  |  Accuracy = 86.79% | Batch ID = 235 : 100%|██████████| 235/235 [00:05<00:00, 44.97it/s]\n"
     ]
    },
    {
     "name": "stdout",
     "output_type": "stream",
     "text": [
      "Learning Rate = 0.00125\n",
      "Training Cross-Entropy Loss = 0.3671\n",
      "Training Accuracy = 86.79%\n",
      "\n",
      "Epoch 11/32\n",
      "Training phase...\n"
     ]
    },
    {
     "name": "stderr",
     "output_type": "stream",
     "text": [
      "Loss = 0.4133  |  Accuracy = 86.69% | Batch ID = 235 : 100%|██████████| 235/235 [00:05<00:00, 45.09it/s]\n"
     ]
    },
    {
     "name": "stdout",
     "output_type": "stream",
     "text": [
      "Learning Rate = 0.00125\n",
      "Training Cross-Entropy Loss = 0.3645\n",
      "Training Accuracy = 86.69%\n",
      "\n",
      "Epoch 12/32\n",
      "Training phase...\n"
     ]
    },
    {
     "name": "stderr",
     "output_type": "stream",
     "text": [
      "Loss = 0.3965  |  Accuracy = 86.90% | Batch ID = 235 : 100%|██████████| 235/235 [00:05<00:00, 44.87it/s]\n"
     ]
    },
    {
     "name": "stdout",
     "output_type": "stream",
     "text": [
      "Learning Rate = 0.00125\n",
      "Training Cross-Entropy Loss = 0.3629\n",
      "Training Accuracy = 86.90%\n",
      "\n",
      "Epoch 13/32\n",
      "Training phase...\n"
     ]
    },
    {
     "name": "stderr",
     "output_type": "stream",
     "text": [
      "Loss = 0.2771  |  Accuracy = 87.93% | Batch ID = 235 : 100%|██████████| 235/235 [00:05<00:00, 44.76it/s]\n"
     ]
    },
    {
     "name": "stdout",
     "output_type": "stream",
     "text": [
      "Learning Rate = 0.000625\n",
      "Training Cross-Entropy Loss = 0.3310\n",
      "Training Accuracy = 87.93%\n",
      "\n",
      "Epoch 14/32\n",
      "Training phase...\n"
     ]
    },
    {
     "name": "stderr",
     "output_type": "stream",
     "text": [
      "Loss = 0.2809  |  Accuracy = 88.42% | Batch ID = 235 : 100%|██████████| 235/235 [00:05<00:00, 44.94it/s]\n"
     ]
    },
    {
     "name": "stdout",
     "output_type": "stream",
     "text": [
      "Learning Rate = 0.000625\n",
      "Training Cross-Entropy Loss = 0.3203\n",
      "Training Accuracy = 88.42%\n",
      "\n",
      "Epoch 15/32\n",
      "Training phase...\n"
     ]
    },
    {
     "name": "stderr",
     "output_type": "stream",
     "text": [
      "Loss = 0.3793  |  Accuracy = 88.54% | Batch ID = 235 : 100%|██████████| 235/235 [00:05<00:00, 44.54it/s]\n"
     ]
    },
    {
     "name": "stdout",
     "output_type": "stream",
     "text": [
      "Learning Rate = 0.000625\n",
      "Training Cross-Entropy Loss = 0.3150\n",
      "Training Accuracy = 88.54%\n",
      "\n",
      "Epoch 16/32\n",
      "Training phase...\n"
     ]
    },
    {
     "name": "stderr",
     "output_type": "stream",
     "text": [
      "Loss = 0.4379  |  Accuracy = 88.59% | Batch ID = 235 : 100%|██████████| 235/235 [00:05<00:00, 43.32it/s]\n"
     ]
    },
    {
     "name": "stdout",
     "output_type": "stream",
     "text": [
      "Learning Rate = 0.000625\n",
      "Training Cross-Entropy Loss = 0.3121\n",
      "Training Accuracy = 88.59%\n",
      "\n",
      "Epoch 17/32\n",
      "Training phase...\n"
     ]
    },
    {
     "name": "stderr",
     "output_type": "stream",
     "text": [
      "Loss = 0.2689  |  Accuracy = 89.51% | Batch ID = 235 : 100%|██████████| 235/235 [00:05<00:00, 45.18it/s]\n"
     ]
    },
    {
     "name": "stdout",
     "output_type": "stream",
     "text": [
      "Learning Rate = 0.0003125\n",
      "Training Cross-Entropy Loss = 0.2875\n",
      "Training Accuracy = 89.51%\n",
      "\n",
      "Epoch 18/32\n",
      "Training phase...\n"
     ]
    },
    {
     "name": "stderr",
     "output_type": "stream",
     "text": [
      "Loss = 0.4488  |  Accuracy = 89.85% | Batch ID = 235 : 100%|██████████| 235/235 [00:05<00:00, 45.14it/s]\n"
     ]
    },
    {
     "name": "stdout",
     "output_type": "stream",
     "text": [
      "Learning Rate = 0.0003125\n",
      "Training Cross-Entropy Loss = 0.2787\n",
      "Training Accuracy = 89.85%\n",
      "\n",
      "Epoch 19/32\n",
      "Training phase...\n"
     ]
    },
    {
     "name": "stderr",
     "output_type": "stream",
     "text": [
      "Loss = 0.3052  |  Accuracy = 90.00% | Batch ID = 235 : 100%|██████████| 235/235 [00:05<00:00, 44.82it/s]\n"
     ]
    },
    {
     "name": "stdout",
     "output_type": "stream",
     "text": [
      "Learning Rate = 0.0003125\n",
      "Training Cross-Entropy Loss = 0.2748\n",
      "Training Accuracy = 90.00%\n",
      "\n",
      "Epoch 20/32\n",
      "Training phase...\n"
     ]
    },
    {
     "name": "stderr",
     "output_type": "stream",
     "text": [
      "Loss = 0.4051  |  Accuracy = 90.31% | Batch ID = 235 : 100%|██████████| 235/235 [00:05<00:00, 45.07it/s]\n"
     ]
    },
    {
     "name": "stdout",
     "output_type": "stream",
     "text": [
      "Learning Rate = 0.0003125\n",
      "Training Cross-Entropy Loss = 0.2699\n",
      "Training Accuracy = 90.31%\n",
      "\n",
      "Epoch 21/32\n",
      "Training phase...\n"
     ]
    },
    {
     "name": "stderr",
     "output_type": "stream",
     "text": [
      "Loss = 0.2368  |  Accuracy = 90.80% | Batch ID = 235 : 100%|██████████| 235/235 [00:05<00:00, 45.01it/s]\n"
     ]
    },
    {
     "name": "stdout",
     "output_type": "stream",
     "text": [
      "Learning Rate = 0.00015625\n",
      "Training Cross-Entropy Loss = 0.2544\n",
      "Training Accuracy = 90.80%\n",
      "\n",
      "Epoch 22/32\n",
      "Training phase...\n"
     ]
    },
    {
     "name": "stderr",
     "output_type": "stream",
     "text": [
      "Loss = 0.2236  |  Accuracy = 91.08% | Batch ID = 235 : 100%|██████████| 235/235 [00:05<00:00, 45.16it/s]\n"
     ]
    },
    {
     "name": "stdout",
     "output_type": "stream",
     "text": [
      "Learning Rate = 0.00015625\n",
      "Training Cross-Entropy Loss = 0.2464\n",
      "Training Accuracy = 91.08%\n",
      "\n",
      "Epoch 23/32\n",
      "Training phase...\n"
     ]
    },
    {
     "name": "stderr",
     "output_type": "stream",
     "text": [
      "Loss = 0.1745  |  Accuracy = 91.23% | Batch ID = 235 : 100%|██████████| 235/235 [00:05<00:00, 45.18it/s]\n"
     ]
    },
    {
     "name": "stdout",
     "output_type": "stream",
     "text": [
      "Learning Rate = 0.00015625\n",
      "Training Cross-Entropy Loss = 0.2439\n",
      "Training Accuracy = 91.23%\n",
      "\n",
      "Epoch 24/32\n",
      "Training phase...\n"
     ]
    },
    {
     "name": "stderr",
     "output_type": "stream",
     "text": [
      "Loss = 0.3831  |  Accuracy = 91.36% | Batch ID = 235 : 100%|██████████| 235/235 [00:05<00:00, 45.00it/s]\n"
     ]
    },
    {
     "name": "stdout",
     "output_type": "stream",
     "text": [
      "Learning Rate = 0.00015625\n",
      "Training Cross-Entropy Loss = 0.2401\n",
      "Training Accuracy = 91.36%\n",
      "\n",
      "Epoch 25/32\n",
      "Training phase...\n"
     ]
    },
    {
     "name": "stderr",
     "output_type": "stream",
     "text": [
      "Loss = 0.3437  |  Accuracy = 91.72% | Batch ID = 235 : 100%|██████████| 235/235 [00:05<00:00, 45.27it/s]\n"
     ]
    },
    {
     "name": "stdout",
     "output_type": "stream",
     "text": [
      "Learning Rate = 7.8125e-05\n",
      "Training Cross-Entropy Loss = 0.2310\n",
      "Training Accuracy = 91.72%\n",
      "\n",
      "Epoch 26/32\n",
      "Training phase...\n"
     ]
    },
    {
     "name": "stderr",
     "output_type": "stream",
     "text": [
      "Loss = 0.2219  |  Accuracy = 91.82% | Batch ID = 235 : 100%|██████████| 235/235 [00:05<00:00, 45.26it/s]\n"
     ]
    },
    {
     "name": "stdout",
     "output_type": "stream",
     "text": [
      "Learning Rate = 7.8125e-05\n",
      "Training Cross-Entropy Loss = 0.2268\n",
      "Training Accuracy = 91.82%\n",
      "\n",
      "Epoch 27/32\n",
      "Training phase...\n"
     ]
    },
    {
     "name": "stderr",
     "output_type": "stream",
     "text": [
      "Loss = 0.2491  |  Accuracy = 91.99% | Batch ID = 235 : 100%|██████████| 235/235 [00:05<00:00, 44.62it/s]\n"
     ]
    },
    {
     "name": "stdout",
     "output_type": "stream",
     "text": [
      "Learning Rate = 7.8125e-05\n",
      "Training Cross-Entropy Loss = 0.2250\n",
      "Training Accuracy = 91.99%\n",
      "\n",
      "Epoch 28/32\n",
      "Training phase...\n"
     ]
    },
    {
     "name": "stderr",
     "output_type": "stream",
     "text": [
      "Loss = 0.2040  |  Accuracy = 92.09% | Batch ID = 235 : 100%|██████████| 235/235 [00:05<00:00, 44.88it/s]\n"
     ]
    },
    {
     "name": "stdout",
     "output_type": "stream",
     "text": [
      "Learning Rate = 7.8125e-05\n",
      "Training Cross-Entropy Loss = 0.2212\n",
      "Training Accuracy = 92.09%\n",
      "\n",
      "Epoch 29/32\n",
      "Training phase...\n"
     ]
    },
    {
     "name": "stderr",
     "output_type": "stream",
     "text": [
      "Loss = 0.2445  |  Accuracy = 92.34% | Batch ID = 235 : 100%|██████████| 235/235 [00:05<00:00, 44.95it/s]\n"
     ]
    },
    {
     "name": "stdout",
     "output_type": "stream",
     "text": [
      "Learning Rate = 3.90625e-05\n",
      "Training Cross-Entropy Loss = 0.2183\n",
      "Training Accuracy = 92.34%\n",
      "\n",
      "Epoch 30/32\n",
      "Training phase...\n"
     ]
    },
    {
     "name": "stderr",
     "output_type": "stream",
     "text": [
      "Loss = 0.1887  |  Accuracy = 92.33% | Batch ID = 235 : 100%|██████████| 235/235 [00:05<00:00, 45.02it/s]\n"
     ]
    },
    {
     "name": "stdout",
     "output_type": "stream",
     "text": [
      "Learning Rate = 3.90625e-05\n",
      "Training Cross-Entropy Loss = 0.2161\n",
      "Training Accuracy = 92.33%\n",
      "\n",
      "Epoch 31/32\n",
      "Training phase...\n"
     ]
    },
    {
     "name": "stderr",
     "output_type": "stream",
     "text": [
      "Loss = 0.2586  |  Accuracy = 92.27% | Batch ID = 235 : 100%|██████████| 235/235 [00:05<00:00, 44.65it/s]\n"
     ]
    },
    {
     "name": "stdout",
     "output_type": "stream",
     "text": [
      "Learning Rate = 3.90625e-05\n",
      "Training Cross-Entropy Loss = 0.2149\n",
      "Training Accuracy = 92.27%\n",
      "\n",
      "Epoch 32/32\n",
      "Training phase...\n"
     ]
    },
    {
     "name": "stderr",
     "output_type": "stream",
     "text": [
      "Loss = 0.2182  |  Accuracy = 92.32% | Batch ID = 235 : 100%|██████████| 235/235 [00:05<00:00, 45.09it/s]"
     ]
    },
    {
     "name": "stdout",
     "output_type": "stream",
     "text": [
      "Learning Rate = 3.90625e-05\n",
      "Training Cross-Entropy Loss = 0.2138\n",
      "Training Accuracy = 92.32%\n",
      "\n",
      "Cross-Entropy on training set:  0.2138\n",
      "Accuracy on training set:       92.32%\n"
     ]
    },
    {
     "name": "stderr",
     "output_type": "stream",
     "text": [
      "\n"
     ]
    }
   ],
   "source": [
    "train_loss_hist, train_acc_hist = train(NeuralNetwork_complex, TrainLoader, optimizer, scheduler, criterion, epochs = 32, device = device)"
   ]
  },
  {
   "cell_type": "code",
   "execution_count": 32,
   "metadata": {},
   "outputs": [
    {
     "name": "stdout",
     "output_type": "stream",
     "text": [
      "Cross-Entropy on test set: 0.2781\n",
      "Accuracy on test set: 90.01%\n"
     ]
    }
   ],
   "source": [
    "test_loss, test_acc = test(NeuralNetwork_complex, TestLoader, criterion, device)"
   ]
  },
  {
   "cell_type": "markdown",
   "id": "be4b56a1",
   "metadata": {},
   "source": [
    "### Explaining results\n",
    "\n",
    "Original Simple Feedforward Neural Network:\n",
    "\n",
    "After 10 epochs, the loss on the training set is 0.3628, and the accuracy on the test set is 84.47%.\n",
    "The Cross-Entropy on the training set is 0.3741, and on the test set, it's 0.4217.\n",
    "Modified Complex Feedforward Neural Network:\n",
    "\n",
    "After 10 epochs, the loss on the training set is 0.2230, and the accuracy on the test set is 88.66%.\n",
    "The Cross-Entropy on the training set is 0.1927, and on the test set, it's 0.3200.\n",
    "Comparison:\n",
    "\n",
    "Training Loss: The modified complex network achieves a significantly lower training loss (0.2230) compared to the original simple network (0.3628). This indicates that the complex network learns the training data better.\n",
    "\n",
    "Test Accuracy: The modified complex network achieves a higher test accuracy (88.66%) compared to the original simple network (84.47%). This suggests that the complex network generalizes better to unseen data.\n",
    "\n",
    "Cross-Entropy: The Cross-Entropy on the training set is lower for the complex network (0.1927) compared to the original network (0.3741). Additionally, the Cross-Entropy on the test set is lower for the complex network (0.3200) compared to the original network (0.4217). Lower Cross-Entropy values indicate better model performance.\n",
    "\n",
    "In summary, the modified complex feedforward neural network with increased complexity, Leaky ReLU activations, L2 regularization, batch normalization, and dropout shows improved performance over the original simple network. It achieves both lower training loss and better generalization to the test set, resulting in higher accuracy and lower Cross-Entropy."
   ]
  },
  {
   "cell_type": "markdown",
   "metadata": {},
   "source": [
    "## Exercise 1. (E)"
   ]
  },
  {
   "cell_type": "markdown",
   "metadata": {},
   "source": [
    " - **computacional cost:** Neural network A, having less neurons in the hidden layers will lead to a smaller number of weights (Wi) associated with those neurons and, therefore, this leads to less time in the training process. This is because fewer parameters need to be updated, leading to faster processing times.\n",
    "  - **Generalization:** Network A generalize better on the test data, because with more hidden layers the Neural Network is forced not to memorize the data, and learn more efficient representations of the input data instead.\n",
    "   - **Feature Extraction**: Because of the number of hidden layers, the 3x10 architecture has a greater opportunity to learn/extract more complex patterns in the data"
   ]
  },
  {
   "cell_type": "code",
   "execution_count": null,
   "metadata": {
    "collapsed": false
   },
   "outputs": [],
   "source": []
  }
 ],
 "metadata": {
  "kernelspec": {
   "display_name": "Python 3 (ipykernel)",
   "language": "python",
   "name": "python3"
  },
  "language_info": {
   "codemirror_mode": {
    "name": "ipython",
    "version": 3
   },
   "file_extension": ".py",
   "mimetype": "text/x-python",
   "name": "python",
   "nbconvert_exporter": "python",
   "pygments_lexer": "ipython3",
   "version": "3.10.9"
  }
 },
 "nbformat": 4,
 "nbformat_minor": 5
}
