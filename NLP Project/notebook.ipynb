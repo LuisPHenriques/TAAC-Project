{
 "cells": [
  {
   "cell_type": "markdown",
   "metadata": {},
   "source": [
    "# Imports, Custom Functions & Data Loading"
   ]
  },
  {
   "cell_type": "markdown",
   "metadata": {},
   "source": [
    "## Import libraries"
   ]
  },
  {
   "cell_type": "code",
   "execution_count": 1,
   "metadata": {
    "ExecuteTime": {
     "end_time": "2023-12-29T23:10:35.149706Z",
     "start_time": "2023-12-29T23:10:30.436532800Z"
    }
   },
   "outputs": [],
   "source": [
    "import pandas as pd\n",
    "import numpy as np\n",
    "import matplotlib.pyplot as plt\n",
    "import seaborn as sns\n",
    "\n",
    "import torch\n",
    "import torch.nn.functional as F\n",
    "from torch import nn, optim\n",
    "\n",
    "import re\n",
    "import math\n",
    "import spacy \n",
    "\n",
    "from collections import Counter, defaultdict\n",
    "\n",
    "from transformers import AutoTokenizer, DistilBertTokenizer, DistilBertForSequenceClassification, BertTokenizer, BertForSequenceClassification, \\\n",
    "                         RobertaTokenizer, RobertaForSequenceClassification, AutoModel, AutoModelForSequenceClassification, AutoTokenizer, get_linear_schedule_with_warmup, \\\n",
    "                         PreTrainedTokenizerFast\n",
    "\n",
    "from transformers import AutoModelForSequenceClassification\n",
    "\n",
    "from tokenizers import Tokenizer\n",
    "from tokenizers.models import BPE\n",
    "from tokenizers.trainers import BpeTrainer\n",
    "from tokenizers.pre_tokenizers import Whitespace\n",
    "\n",
    "from sklearn.feature_extraction.text import TfidfVectorizer\n",
    "\n",
    "from gensim.models import Word2Vec\n",
    "\n",
    "from sklearn.manifold import TSNE\n",
    "\n",
    "from tqdm import tqdm\n",
    "\n",
    "from sklearn.metrics import f1_score, accuracy_score, precision_score, recall_score, confusion_matrix\n",
    "\n",
    "from tabulate import tabulate\n",
    "\n",
    "# spacy.cli.download(\"en_core_web_lg\")\n",
    "nlp = spacy.load('en_core_web_lg')\n",
    "\n",
    "# Ignore RuntimeWarning and UserWarning\n",
    "import warnings\n",
    "warnings.filterwarnings(\"ignore\", category=RuntimeWarning)\n",
    "warnings.filterwarnings(\"ignore\", category=UserWarning)"
   ]
  },
  {
   "cell_type": "markdown",
   "metadata": {},
   "source": [
    "## Define functions"
   ]
  },
  {
   "cell_type": "code",
   "execution_count": 292,
   "metadata": {
    "ExecuteTime": {
     "end_time": "2023-12-29T23:10:37.072317200Z",
     "start_time": "2023-12-29T23:10:36.877905600Z"
    }
   },
   "outputs": [],
   "source": [
    "def preprocess(text):\n",
    "    \n",
    "    # remove URLs\n",
    "    text = re.sub('http\\S*', ' ', text)\n",
    "    \n",
    "    # remove non-alphabetic\n",
    "    text = re.sub(\"[^a-zA-Z]\", \" \", text)\n",
    "    \n",
    "    # make lowercase\n",
    "    text = text.lower()\n",
    "\n",
    "    # remove one character word\n",
    "    text = re.sub(\"\\s+[a-zA-Z]\\s+\", ' ', text)\n",
    "    text = re.sub(\"^[a-zA-Z]\\s+\", '', text)\n",
    "    \n",
    "    # replace double space to one space\n",
    "    text = re.sub(\"\\s+\", ' ', text)\n",
    "    \n",
    "    # tokenize, lemmatize, remove stop words\n",
    "    doc = nlp(text)\n",
    "    text = [token.lemma_ for token in doc if not token.is_stop]\n",
    "    return \" \".join(text)\n",
    "\n",
    "\n",
    "def train_BPE_tokenizer(train_text_df, text_column, vocab_size=5000, min_frequency=2):\n",
    "    # Extract the text from the specified column\n",
    "    texts = train_text_df[text_column].tolist()\n",
    "\n",
    "    # Initialize a BPE tokenizer\n",
    "    tokenizer = ByteLevelBPETokenizer()\n",
    "\n",
    "    # Train the BPE tokenizer on the text\n",
    "    tokenizer.train_from_iterator(texts, vocab_size=vocab_size, min_frequency=min_frequency)\n",
    "\n",
    "    # Tokenize the text in the DataFrame and remove \"Ġ\" character\n",
    "    train_text_df[text_column + '_tokenized'] = train_text_df[text_column].apply(lambda x: [token.replace(\"Ġ\", \"\") for token in tokenizer.encode(x).tokens])\n",
    "\n",
    "    return tokenizer\n",
    "\n",
    "\n",
    "def tokenize_text(tokenizer, df, text_column):\n",
    "    # Extract the text from the specified column\n",
    "    texts = df[text_column].tolist()\n",
    "\n",
    "    # Tokenize the text in the DataFrame using the pre-trained tokenizer and remove \"Ġ\" character\n",
    "    df[text_column + '_tokenized'] = [[token.replace(\"Ġ\", \"\") for token in tokenizer.encode(text).tokens] for text in texts]\n",
    "\n",
    "\n",
    "\n",
    "def get_tfidf_matrix(df, vectorizer):\n",
    "    \n",
    "    # Convert the TF-IDF matrix to a dense NumPy array\n",
    "    matrix = df.todense()\n",
    "\n",
    "    # Convert the dense matrix to a DataFrame\n",
    "    matrix = pd.DataFrame(matrix, columns=vectorizer.get_feature_names_out())\n",
    "\n",
    "    return matrix\n",
    "\n",
    "\n",
    "# The sequences being in the formar ['word1', 'word2', 'word3', ...], preprocess it\n",
    "def string2embedding_idx(text_sequence, model):\n",
    "\n",
    "    sequence = []\n",
    "    for token in text_sequence:\n",
    "        try:\n",
    "            sequence.append(model.wv.key_to_index[token])\n",
    "        except:\n",
    "            sequence.append(2899)\n",
    "\n",
    "    return sequence\n",
    "\n",
    "\n",
    "def TSNE_10ClosestWords(model, word, size):\n",
    "    \n",
    "    arr = np.empty((0,size), dtype='f')\n",
    "    word_labels = [word]\n",
    "    close_words = model.wv.similar_by_word(word)\n",
    "    arr = np.append(arr, np.array([model.wv[word]]), axis=0)\n",
    "    for wrd_score in close_words:\n",
    "        wrd_vector = model.wv[wrd_score[0]]\n",
    "        word_labels.append(wrd_score[0])\n",
    "        arr = np.append(arr, np.array([wrd_vector]), axis=0)\n",
    "            \n",
    "    tsne = TSNE(n_components=2, random_state=0, perplexity = 10)\n",
    "    np.set_printoptions(suppress=True)\n",
    "    Y = tsne.fit_transform(arr)\n",
    "    x_coords = Y[:, 0]\n",
    "    y_coords = Y[:, 1]\n",
    "    plt.scatter(x_coords, y_coords)\n",
    "    for label, x, y in zip(word_labels, x_coords, y_coords):\n",
    "        plt.annotate(label, xy=(x, y), xytext=(0, 0), textcoords='offset points')\n",
    "    plt.xlim(x_coords.min()+0.00005, x_coords.max()+0.00005)\n",
    "    plt.ylim(y_coords.min()+0.00005, y_coords.max()+0.00005)\n",
    "    plt.show()\n",
    "    \n",
    "\n",
    "class TweetsDataset(torch.utils.data.Dataset):\n",
    "    def __init__(self, df, word2vec_model):\n",
    "        self.df = df\n",
    "        self.word2vec_model = word2vec_model\n",
    "\n",
    "    def __len__(self):\n",
    "        return len(self.df)\n",
    "\n",
    "    def __getitem__(self, idx):\n",
    "        sequence = self.df.iloc[idx, -1 if self.word2vec_model == 'skipgram' else -2]\n",
    "        label = self.df.iloc[idx, 1]\n",
    "\n",
    "        # Convert sequence to a 1D tensor\n",
    "        sequence_tensor = torch.tensor(sequence, dtype=torch.long)\n",
    "\n",
    "        # Convert label to a 1D tensor (scalar)\n",
    "        label_tensor = torch.tensor(label, dtype=torch.float32).unsqueeze(0)\n",
    "\n",
    "        return sequence_tensor, label_tensor\n",
    "\n",
    "\n",
    "def set_device():\n",
    "    if torch.cuda.is_available():\n",
    "        device = torch.device('cuda')\n",
    "\n",
    "    elif torch.backends.mps.is_available():\n",
    "        device = torch.device('mps')\n",
    "\n",
    "    else:\n",
    "        device = torch.device('cpu')\n",
    "    print('Device:', device)\n",
    "\n",
    "    return device\n",
    "\n",
    "\n",
    "def TokenizeBERT(tokenizer, df, batch_size = 32, shuffle = True):\n",
    "    # Tokenize training data\n",
    "    encodings = tokenizer(df['clean_text'].tolist(), add_special_tokens = True, truncation = True, padding = True, return_tensors = \"pt\")\n",
    "\n",
    "    # Convert labels to PyTorch tensors\n",
    "    labels = torch.tensor(df['target'].tolist())\n",
    "\n",
    "    # Create a DataLoader for training data\n",
    "    dataset = torch.utils.data.TensorDataset(encodings[\"input_ids\"], encodings[\"attention_mask\"], labels)\n",
    "    dataloader = torch.utils.data.DataLoader(dataset, batch_size = batch_size, shuffle = shuffle)\n",
    "\n",
    "    return dataset, dataloader\n",
    "\n",
    "\n",
    "def TokenizeBERTweet(tokenizer, df, batch_size = 32, shuffle = True, tokenizer_normalizeTweet = None):\n",
    "\n",
    "    # Normalize the text\n",
    "    if tokenizer_normalizeTweet is not None:\n",
    "        normalized_tweets = df['text'].apply(lambda x: tokenizer_normalizeTweet.normalizeTweet(x))\n",
    "    else:\n",
    "        normalized_tweets = df['text'].apply(lambda x: tokenizer.normalizeTweet(x))\n",
    "\n",
    "    # Tokenize training data\n",
    "    encodings = tokenizer(normalized_tweets.tolist(), add_special_tokens = True, truncation = True, padding = True, return_tensors = \"pt\")\n",
    "\n",
    "    # Convert labels to PyTorch tensors\n",
    "    labels = torch.tensor(df['target'].tolist())\n",
    "\n",
    "    # Create a DataLoader for training data\n",
    "    dataset = torch.utils.data.TensorDataset(encodings[\"input_ids\"], encodings[\"attention_mask\"], labels)\n",
    "    dataloader = torch.utils.data.DataLoader(dataset, batch_size = batch_size, shuffle = shuffle)\n",
    "\n",
    "    return dataset, dataloader\n",
    "\n",
    "\n",
    "def train(model, train_loader, test_loader, optimizer, loss_func, epochs, device, **kwargs):\n",
    "    \"\"\"\n",
    "    Trains a neural network model.\n",
    "\n",
    "    Args:\n",
    "    - model (torch.nn.Module): The neural network model to be trained.\n",
    "    - train_loader (torch.utils.data.DataLoader): DataLoader for the training dataset.\n",
    "    - optimizer (torch.optim.Optimizer): The optimizer used for training.\n",
    "    - loss_func (torch.nn.Module): The loss function used for training.\n",
    "    - epochs (int): Number of training epochs.\n",
    "    - device (torch.device): The device on which the training will be performed.\n",
    "    - **kwargs: Additional arguments for customization.\n",
    "\n",
    "    Returns:\n",
    "    - train_loss_hist (list): List containing training loss values for each epoch.\n",
    "    - train_acc_hist (list): List containing training accuracy values for each epoch.\n",
    "    \"\"\"\n",
    "\n",
    "    num_epochs = kwargs.get('num_epochs', epochs)\n",
    "    loss_fn = kwargs.get('loss_fn', loss_func)\n",
    "    device = kwargs.get('device', device)\n",
    "\n",
    "    train_loss_lst, train_f1_lst, test_loss_lst, test_f1_lst = [], [], [], []\n",
    "\n",
    "    for epoch in range(num_epochs):\n",
    "        print(f'Epoch {epoch + 1}/{num_epochs}')\n",
    "\n",
    "        print('======== Training phase ========')\n",
    "        model.train()\n",
    "        train_loss = 0.\n",
    "        total = 0.\n",
    "        correct = 0.\n",
    "        # Lists to store targets and predictions\n",
    "        all_targets = []\n",
    "        all_predictions = []\n",
    "\n",
    "        pbar = tqdm(enumerate(train_loader), total=len(train_loader))\n",
    "\n",
    "        for batch_idx, (data, target) in pbar:\n",
    "            data = data.to(device)\n",
    "            target = target.to(device)\n",
    "            model.zero_grad()\n",
    "            output = model(data)\n",
    "            loss = loss_fn(output, target)\n",
    "            loss.backward()\n",
    "            optimizer.step()\n",
    "\n",
    "            train_loss += loss.item()\n",
    "\n",
    "            predicted = (output > 0.0).float()\n",
    "            correct_batch = (predicted == target).sum().item()\n",
    "            mini_batch_size = target.size(0)\n",
    "            accuracy_batch = 100 * correct_batch / mini_batch_size\n",
    "\n",
    "            # Compute F1-score\n",
    "            f1_score_batch = 100 * f1_score(target.cpu().numpy(), predicted.cpu().numpy(), average='binary')\n",
    "\n",
    "            total += mini_batch_size\n",
    "            correct += correct_batch\n",
    "            # Append targets and predictions to the lists\n",
    "            all_targets.extend(target.cpu().numpy())\n",
    "            all_predictions.extend(predicted.cpu().numpy())\n",
    "\n",
    "            pbar.set_description(\n",
    "                f'Loss = {loss:.4f} | Accuracy = {accuracy_batch:.2f}% | F1-Score = {f1_score_batch:.2f}% | Batch ID = {batch_idx + 1} '\n",
    "            )\n",
    "\n",
    "        train_loss /= len(train_loader)\n",
    "        train_accuracy = 100 * correct / total\n",
    "        all_targets = np.array(all_targets)\n",
    "        all_predictions = np.array(all_predictions)\n",
    "        train_f1_score = 100 * f1_score(all_targets, all_predictions, average='binary')\n",
    "\n",
    "        print(f'Training Cross-Entropy Loss = {train_loss:.4f}')\n",
    "        print(f'Training Accuracy = {train_accuracy:.2f}%')\n",
    "        print(f'Training F1-Score = {train_f1_score:.2f}%')\n",
    "\n",
    "        # Evaluate the model on the validation set\n",
    "        print('======== Validation phase ========')\n",
    "        model.eval()\n",
    "        test_loss = 0.\n",
    "        total = 0.\n",
    "        correct = 0.\n",
    "        # Lists to store targets and predictions\n",
    "        all_targets = []\n",
    "        all_predictions = []\n",
    "\n",
    "        pbar = tqdm(enumerate(test_loader), total=len(test_loader))\n",
    "\n",
    "        with torch.no_grad():\n",
    "            for batch_idx, (data, target) in pbar:\n",
    "                data = data.to(device)\n",
    "                target = target.to(device)\n",
    "                output = model(data)\n",
    "                loss = loss_fn(output, target)\n",
    "\n",
    "                test_loss += loss.item()\n",
    "\n",
    "                predicted = (output > 0.0).float()\n",
    "                correct_batch = (predicted == target).sum().item()\n",
    "                mini_batch_size = target.size(0)\n",
    "                accuracy_batch = 100 * correct_batch / mini_batch_size\n",
    "\n",
    "                # Compute F1-score\n",
    "                f1_score_batch = 100 * f1_score(target.cpu().numpy(), predicted.cpu().numpy(), average='binary')\n",
    "\n",
    "                total += mini_batch_size\n",
    "                correct += correct_batch\n",
    "                # Append targets and predictions to the lists\n",
    "                all_targets.extend(target.cpu().numpy())\n",
    "                all_predictions.extend(predicted.cpu().numpy())\n",
    "\n",
    "                pbar.set_description(\n",
    "                    f'Loss = {loss:.4f} | Accuracy = {accuracy_batch:.2f}% | F1-Score = {f1_score_batch:.2f}% | Batch ID = {batch_idx + 1} '\n",
    "                )\n",
    "\n",
    "        test_loss /= len(test_loader)\n",
    "        test_accuracy = 100 * correct / total\n",
    "        all_targets = np.array(all_targets)\n",
    "        all_predictions = np.array(all_predictions)\n",
    "        test_f1_score = 100 * f1_score(all_targets, all_predictions, average='binary')\n",
    "\n",
    "        print(f'Test Cross-Entropy Loss = {test_loss:.4f}')\n",
    "        print(f'Test Accuracy = {test_accuracy:.2f}%')\n",
    "        print(f'Test F1-Score = {test_f1_score:.2f}%')\n",
    "        print()\n",
    "\n",
    "        train_loss_lst.append(train_loss)\n",
    "        train_f1_lst.append(train_f1_score)\n",
    "        test_loss_lst.append(test_loss)\n",
    "        test_f1_lst.append(test_f1_score)\n",
    "\n",
    "    return train_loss_lst, train_f1_lst, test_loss_lst, test_f1_lst\n",
    "\n",
    "\n",
    "def train_BERT(model, train_loader, test_loader, optimizer, epochs, device, **kwargs):\n",
    "    \"\"\"\n",
    "    Trains a neural network model.\n",
    "\n",
    "    Args:\n",
    "    - model (torch.nn.Module): The neural network model to be trained.\n",
    "    - train_loader (torch.utils.data.DataLoader): DataLoader for the training dataset.\n",
    "    - optimizer (torch.optim.Optimizer): The optimizer used for training.\n",
    "    - epochs (int): Number of training epochs.\n",
    "    - device (torch.device): The device on which the training will be performed.\n",
    "    - **kwargs: Additional arguments for customization.\n",
    "\n",
    "    Returns:\n",
    "    - train_loss_hist (list): List containing training loss values for each epoch.\n",
    "    - train_acc_hist (list): List containing training accuracy values for each epoch.\n",
    "    \"\"\"\n",
    "\n",
    "    num_epochs = kwargs.get('num_epochs', epochs)\n",
    "    device = kwargs.get('device', device)\n",
    "\n",
    "    train_loss_lst, train_f1_lst, test_loss_lst, test_f1_lst = [], [], [], []\n",
    "\n",
    "    for epoch in range(num_epochs):\n",
    "        print(f'Epoch {epoch + 1}/{num_epochs}')\n",
    "\n",
    "        print('======== Training phase ========')\n",
    "        model.train()\n",
    "        train_loss = 0.\n",
    "        total = 0.\n",
    "        correct = 0.\n",
    "        # Lists to store targets and predictions\n",
    "        all_targets = []\n",
    "        all_predictions = []\n",
    "\n",
    "        pbar = tqdm(enumerate(train_loader), total=len(train_loader))\n",
    "\n",
    "        for batch_idx, data in pbar:\n",
    "            input_ids = data[0].to(device)\n",
    "            attn_mask = data[1].to(device)\n",
    "            target = data[2].to(device)\n",
    "            model.zero_grad()\n",
    "            output = model(input_ids, attention_mask=attn_mask, labels=target)\n",
    "            logits = output.logits.squeeze(-1)\n",
    "\n",
    "            loss = output.loss\n",
    "            train_loss += loss.item()\n",
    "\n",
    "            loss.backward()\n",
    "            optimizer.step()\n",
    "\n",
    "            _, predicted = torch.max(logits.data, 1)\n",
    "            correct_batch = (predicted == target).sum().item()\n",
    "            mini_batch_size = target.size(0)\n",
    "            accuracy_batch = 100 * correct_batch / mini_batch_size\n",
    "\n",
    "            # Compute F1-score\n",
    "            f1_score_batch = 100 * f1_score(target.cpu().numpy(), predicted.cpu().numpy(), average='binary')\n",
    "\n",
    "            total += mini_batch_size\n",
    "            correct += correct_batch\n",
    "            # Append targets and predictions to the lists\n",
    "            all_targets.extend(target.cpu().numpy())\n",
    "            all_predictions.extend(predicted.cpu().numpy())\n",
    "\n",
    "            pbar.set_description(\n",
    "                f'Loss = {loss:.4f} | Accuracy = {accuracy_batch:.2f}% | F1-Score = {f1_score_batch:.2f}% | Batch ID = {batch_idx + 1} '\n",
    "            )\n",
    "\n",
    "        train_loss /= len(train_loader)\n",
    "        train_accuracy = 100 * correct / total\n",
    "        all_targets = np.array(all_targets)\n",
    "        all_predictions = np.array(all_predictions)\n",
    "        train_f1_score = 100 * f1_score(all_targets, all_predictions, average='binary')\n",
    "\n",
    "        print(f'Training Cross-Entropy Loss = {train_loss:.4f}')\n",
    "        print(f'Training Accuracy = {train_accuracy:.2f}%')\n",
    "        print(f'Training F1-Score = {train_f1_score:.2f}%')\n",
    "\n",
    "        # Evaluate the model on the validation set\n",
    "        print('======== Validation phase ========')\n",
    "        model.eval()\n",
    "        test_loss = 0.\n",
    "        total = 0.\n",
    "        correct = 0.\n",
    "        # Lists to store targets and predictions\n",
    "        all_targets = []\n",
    "        all_predictions = []\n",
    "\n",
    "        pbar = tqdm(enumerate(test_loader), total=len(test_loader))\n",
    "\n",
    "        with torch.no_grad():\n",
    "            for batch_idx, data in pbar:\n",
    "                input_ids = data[0].to(device)\n",
    "                attn_mask = data[1].to(device)\n",
    "                target = data[2].to(device)\n",
    "                model.zero_grad()\n",
    "                output = model(input_ids, attention_mask=attn_mask, labels=target)\n",
    "                logits = output.logits.squeeze(-1)\n",
    "\n",
    "                loss = output.loss\n",
    "                test_loss += loss.item()\n",
    "\n",
    "                _, predicted = torch.max(logits.data, 1)\n",
    "                correct_batch = (predicted == target).sum().item()\n",
    "                mini_batch_size = target.size(0)\n",
    "                accuracy_batch = 100 * correct_batch / mini_batch_size\n",
    "\n",
    "                # Compute F1-score\n",
    "                f1_score_batch = 100 * f1_score(target.cpu().numpy(), predicted.cpu().numpy(), average='binary')\n",
    "\n",
    "                total += mini_batch_size\n",
    "                correct += correct_batch\n",
    "                # Append targets and predictions to the lists\n",
    "                all_targets.extend(target.cpu().numpy())\n",
    "                all_predictions.extend(predicted.cpu().numpy())\n",
    "\n",
    "                pbar.set_description(\n",
    "                    f'Loss = {loss:.4f} | Accuracy = {accuracy_batch:.2f}% | F1-Score = {f1_score_batch:.2f}% | Batch ID = {batch_idx + 1} '\n",
    "                )\n",
    "\n",
    "        test_loss /= len(test_loader)\n",
    "        test_accuracy = 100 * correct / total\n",
    "        all_targets = np.array(all_targets)\n",
    "        all_predictions = np.array(all_predictions)\n",
    "        test_f1_score = 100 * f1_score(all_targets, all_predictions, average='binary')\n",
    "\n",
    "        print(f'Test Cross-Entropy Loss = {test_loss:.4f}')\n",
    "        print(f'Test Accuracy = {test_accuracy:.2f}%')\n",
    "        print(f'Test F1-Score = {test_f1_score:.2f}%')\n",
    "        print()\n",
    "\n",
    "        train_loss_lst.append(train_loss)\n",
    "        train_f1_lst.append(train_f1_score)\n",
    "        test_loss_lst.append(test_loss)\n",
    "        test_f1_lst.append(test_f1_score)\n",
    "\n",
    "    return train_loss_lst, train_f1_lst, test_loss_lst, test_f1_lst\n",
    "\n",
    "\n",
    "def train_BERTweet(model, train_loader, test_loader, optimizer, scheduler, loss_func, epochs, device, **kwargs):\n",
    "    \"\"\"\n",
    "    Trains a neural network model.\n",
    "\n",
    "    Args:\n",
    "    - model (torch.nn.Module): The neural network model to be trained.\n",
    "    - train_loader (torch.utils.data.DataLoader): DataLoader for the training dataset.\n",
    "    - optimizer (torch.optim.Optimizer): The optimizer used for training.\n",
    "    - epochs (int): Number of training epochs.\n",
    "    - device (torch.device): The device on which the training will be performed.\n",
    "    - **kwargs: Additional arguments for customization.\n",
    "\n",
    "    Returns:\n",
    "    - train_loss_hist (list): List containing training loss values for each epoch.\n",
    "    - train_acc_hist (list): List containing training accuracy values for each epoch.\n",
    "    \"\"\"\n",
    "\n",
    "    num_epochs = kwargs.get('num_epochs', epochs)\n",
    "    loss_fn = kwargs.get('loss_func', loss_func)\n",
    "    device = kwargs.get('device', device)\n",
    "\n",
    "    train_loss_lst, train_f1_lst, test_loss_lst, test_f1_lst = [], [], [], []\n",
    "\n",
    "    for epoch in range(num_epochs):\n",
    "        print(f'Epoch {epoch + 1}/{num_epochs}')\n",
    "\n",
    "        print('======== Training phase ========')\n",
    "        model.train()\n",
    "        train_loss = 0.\n",
    "        total = 0.\n",
    "        correct = 0.\n",
    "        # Lists to store targets and predictions\n",
    "        all_targets = []\n",
    "        all_predictions = []\n",
    "\n",
    "        pbar = tqdm(enumerate(train_loader), total=len(train_loader))\n",
    "\n",
    "        for batch_idx, data in pbar:\n",
    "            input_ids = data[0].to(device)\n",
    "            attn_mask = data[1].to(device)\n",
    "            target = data[2].float().unsqueeze(1).to(device)\n",
    "            model.zero_grad()\n",
    "            logits, bertweet_output = model(input_ids, attention_mask=attn_mask)\n",
    "\n",
    "            loss = loss_fn(logits, target)\n",
    "            train_loss += loss.item()\n",
    "\n",
    "            loss.backward()\n",
    "            optimizer.step()\n",
    "            scheduler.step()\n",
    "\n",
    "            predicted = (logits > 0.0).float()\n",
    "            correct_batch = (predicted == target).sum().item()\n",
    "            mini_batch_size = target.size(0)\n",
    "            accuracy_batch = 100 * correct_batch / mini_batch_size\n",
    "\n",
    "            # Compute F1-score\n",
    "            f1_score_batch = 100 * f1_score(target.cpu().numpy(), predicted.cpu().numpy(), average='binary')\n",
    "\n",
    "            total += mini_batch_size\n",
    "            correct += correct_batch\n",
    "            # Append targets and predictions to the lists\n",
    "            all_targets.extend(target.cpu().numpy())\n",
    "            all_predictions.extend(predicted.cpu().numpy())\n",
    "\n",
    "            pbar.set_description(\n",
    "                f'Loss = {loss:.4f} | Accuracy = {accuracy_batch:.2f}% | F1-Score = {f1_score_batch:.2f}% | Batch ID = {batch_idx + 1} '\n",
    "            )\n",
    "\n",
    "        train_loss /= len(train_loader)\n",
    "        train_accuracy = 100 * correct / total\n",
    "        all_targets = np.array(all_targets)\n",
    "        all_predictions = np.array(all_predictions)\n",
    "        train_f1_score = 100 * f1_score(all_targets, all_predictions, average='binary')\n",
    "\n",
    "        print(f'Training Cross-Entropy Loss = {train_loss:.4f}')\n",
    "        print(f'Training Accuracy = {train_accuracy:.2f}%')\n",
    "        print(f'Training F1-Score = {train_f1_score:.2f}%')\n",
    "\n",
    "        # Evaluate the model on the validation set\n",
    "        print('======== Validation phase ========')\n",
    "        model.eval()\n",
    "        test_loss = 0.\n",
    "        total = 0.\n",
    "        correct = 0.\n",
    "        # Lists to store targets and predictions\n",
    "        all_targets = []\n",
    "        all_predictions = []\n",
    "\n",
    "        pbar = tqdm(enumerate(test_loader), total=len(test_loader))\n",
    "\n",
    "        with torch.no_grad():\n",
    "            for batch_idx, data in pbar:\n",
    "                input_ids = data[0].to(device)\n",
    "                attn_mask = data[1].to(device)\n",
    "                target = data[2].float().unsqueeze(1).to(device)\n",
    "                model.zero_grad()\n",
    "                logits, bertweet_output = model(input_ids, attention_mask=attn_mask)\n",
    "\n",
    "                loss = loss_fn(logits, target)\n",
    "                test_loss += loss.item()\n",
    "\n",
    "                predicted = (logits > 0.0).float()\n",
    "                correct_batch = (predicted == target).sum().item()\n",
    "                mini_batch_size = target.size(0)\n",
    "                accuracy_batch = 100 * correct_batch / mini_batch_size\n",
    "\n",
    "                # Compute F1-score\n",
    "                f1_score_batch = 100 * f1_score(target.cpu().numpy(), predicted.cpu().numpy(), average='binary')\n",
    "\n",
    "                total += mini_batch_size\n",
    "                correct += correct_batch\n",
    "                # Append targets and predictions to the lists\n",
    "                all_targets.extend(target.cpu().numpy())\n",
    "                all_predictions.extend(predicted.cpu().numpy())\n",
    "\n",
    "                pbar.set_description(\n",
    "                    f'Loss = {loss:.4f} | Accuracy = {accuracy_batch:.2f}% | F1-Score = {f1_score_batch:.2f}% | Batch ID = {batch_idx + 1} '\n",
    "                )\n",
    "\n",
    "        test_loss /= len(test_loader)\n",
    "        test_accuracy = 100 * correct / total\n",
    "        all_targets = np.array(all_targets)\n",
    "        all_predictions = np.array(all_predictions)\n",
    "        test_f1_score = 100 * f1_score(all_targets, all_predictions, average='binary')\n",
    "\n",
    "        print(f'Test Cross-Entropy Loss = {test_loss:.4f}')\n",
    "        print(f'Test Accuracy = {test_accuracy:.2f}%')\n",
    "        print(f'Test F1-Score = {test_f1_score:.2f}%')\n",
    "        print()\n",
    "\n",
    "        train_loss_lst.append(train_loss)\n",
    "        train_f1_lst.append(train_f1_score)\n",
    "        test_loss_lst.append(test_loss)\n",
    "        test_f1_lst.append(test_f1_score)\n",
    "\n",
    "    return train_loss_lst, train_f1_lst, test_loss_lst, test_f1_lst\n",
    "\n",
    "\n",
    "# LSTM model with pre-trained Word2Vec embeddings\n",
    "class CustomLSTM(torch.nn.Module):\n",
    "    def __init__(self, word2vec_model, hidden_size, output_size, num_layers = 1, bidirectional = False, freeze_embeddings = True):\n",
    "        super(CustomLSTM, self).__init__()\n",
    "        self.embedding_dim = word2vec_model.vector_size\n",
    "        self.embedding = torch.nn.Embedding.from_pretrained(embeddings = torch.FloatTensor(word2vec_model.wv.vectors), freeze = freeze_embeddings)\n",
    "        self.lstm = torch.nn.LSTM(self.embedding_dim, hidden_size, num_layers, batch_first = True, bidirectional = bidirectional)\n",
    "        self.fc = torch.nn.Linear(hidden_size * (2 if bidirectional else 1), output_size)\n",
    "\n",
    "    def forward(self, x):\n",
    "        x = self.embedding(x)\n",
    "        output, _ = self.lstm(x)\n",
    "        output = self.fc(output[:, -1, :])  # Use the last time step's output\n",
    "        return output\n",
    "\n",
    "\n",
    "# GRU model with pre-trained Word2Vec embeddings\n",
    "class CustomGRU(torch.nn.Module):\n",
    "    def __init__(self, word2vec_model, hidden_size, output_size, num_layers = 1, bidirectional = False, freeze_embeddings = True):\n",
    "        super(CustomGRU, self).__init__()\n",
    "        self.embedding_dim = word2vec_model.vector_size\n",
    "        self.embedding = torch.nn.Embedding.from_pretrained(embeddings = torch.FloatTensor(word2vec_model.wv.vectors), freeze = freeze_embeddings)\n",
    "        self.gru = torch.nn.GRU(self.embedding_dim, hidden_size, num_layers, batch_first = True, bidirectional = bidirectional)\n",
    "        self.fc = torch.nn.Linear(hidden_size * (2 if bidirectional else 1), output_size)\n",
    "\n",
    "    def forward(self, x):\n",
    "        x = self.embedding(x)\n",
    "        output, _ = self.gru(x)\n",
    "        output = self.fc(output[:, -1, :])  # Use the last time step's output\n",
    "        return output\n",
    "\n",
    "\n",
    "class Attention(torch.nn.Module):\n",
    "    def __init__(self, hidden_dim):\n",
    "        super().__init__()\n",
    "        self.attn = torch.nn.Linear(hidden_dim, 1)\n",
    "\n",
    "\n",
    "    def forward(self, output):\n",
    "        # lstm_output = [batch size, seq_len, hidden_dim]\n",
    "        attention_scores = self.attn(output)\n",
    "\n",
    "        return torch.nn.functional.softmax(attention_scores, dim=1)\n",
    "\n",
    "\n",
    "\n",
    "# GRU model with pre-trained Word2Vec embeddings and attention mechanism\n",
    "class CustomGRU_Attention(torch.nn.Module):\n",
    "    def __init__(self, word2vec_model, hidden_size, output_size, num_layers = 1, bidirectional = False, freeze_embeddings = True):\n",
    "        super(CustomGRU_Attention, self).__init__()\n",
    "        self.embedding_dim = word2vec_model.vector_size\n",
    "        self.embedding = torch.nn.Embedding.from_pretrained(torch.FloatTensor(word2vec_model.wv.vectors), freeze = freeze_embeddings)\n",
    "        self.gru = torch.nn.GRU(self.embedding_dim, hidden_size, num_layers, batch_first = True, bidirectional = bidirectional)\n",
    "        self.fc = torch.nn.Linear(hidden_size * (2 if bidirectional else 1), output_size)\n",
    "        self.attention = torch.nn.Linear(hidden_size * (2 if bidirectional else 1), 1)\n",
    "\n",
    "    def forward(self, x):\n",
    "        x = self.embedding(x)\n",
    "        output, _ = self.gru(x)\n",
    "        attention_weights = torch.nn.functional.softmax(self.attention(output), dim = 1)\n",
    "        output = torch.sum(attention_weights * output, dim = 1)\n",
    "        output = self.fc(output)\n",
    "        return output\n",
    "\n",
    "\n",
    "# LSTM model with pre-trained Word2Vec embeddings and attention mechanism\n",
    "class CustomLSTM_Attention(torch.nn.Module):\n",
    "    def __init__(self, word2vec_model, hidden_size, output_size, num_layers = 1, bidirectional = False, freeze_embeddings = True):\n",
    "        super(CustomLSTM_Attention, self).__init__()\n",
    "        self.embedding_dim = word2vec_model.vector_size\n",
    "        self.embedding = torch.nn.Embedding.from_pretrained(torch.FloatTensor(word2vec_model.wv.vectors), freeze = freeze_embeddings)\n",
    "        self.lstm = torch.nn.LSTM(self.embedding_dim, hidden_size, num_layers, batch_first = True, bidirectional = bidirectional)\n",
    "        self.attention = Attention(hidden_size * (2 if bidirectional else 1))\n",
    "        self.fc = torch.nn.Linear(hidden_size * (2 if bidirectional else 1), output_size)\n",
    "\n",
    "    def forward(self, x):\n",
    "        # Get the embedding of each token in the sequence\n",
    "        x = self.embedding(x)\n",
    "        # Apply LSTM to the sequence of embeddings\n",
    "        output, _ = self.lstm(x)\n",
    "        # Apply the attention mechanism and get attention weights\n",
    "        attn_weights = self.attention(output)\n",
    "        # Compute the weighted sum of the hidden states\n",
    "        output = torch.sum(attn_weights * output, dim = 1)\n",
    "        # Compute the logits\n",
    "        logits = self.fc(output)\n",
    "\n",
    "        return logits\n",
    "    \n",
    "\n",
    "# LSTM model with pre-trained Word2Vec embeddings and multi-head attention mechanism\n",
    "class CustomLSTM_MultiHeadAttention(torch.nn.Module):\n",
    "    def __init__(self, word2vec_model, hidden_size, output_size, dropout=0.1, num_layers=1, bidirectional=False, freeze_embeddings=True, num_heads=8):\n",
    "        super(CustomLSTM_MultiHeadAttention, self).__init__()\n",
    "\n",
    "        # Word embedding layer\n",
    "        self.embedding_dim = word2vec_model.vector_size\n",
    "        self.embedding = torch.nn.Embedding.from_pretrained(torch.FloatTensor(word2vec_model.wv.vectors), freeze=freeze_embeddings)\n",
    "\n",
    "        # LSTM layer\n",
    "        self.sequence_size = 49\n",
    "        self.lstm = torch.nn.LSTM(self.embedding_dim, hidden_size, num_layers, batch_first=True, bidirectional=bidirectional)\n",
    "\n",
    "        # Multi-Head Attention layer\n",
    "        self.multihead_attention = torch.nn.MultiheadAttention(embed_dim=hidden_size * (2 if bidirectional else 1), num_heads=num_heads, dropout=dropout, batch_first=True)\n",
    "\n",
    "        # Fully-connected layers for classification head\n",
    "        self.fc1 = torch.nn.Linear(hidden_size * (2 if bidirectional else 1) * self.sequence_size, hidden_size * (2 if bidirectional else 1))\n",
    "        self.fc2 = torch.nn.Linear(hidden_size * (2 if bidirectional else 1), output_size)\n",
    "        self.dropout = torch.nn.Dropout(dropout)\n",
    "        self.relu = torch.nn.ReLU()\n",
    "        self.bn = torch.nn.BatchNorm1d(hidden_size * (2 if bidirectional else 1))\n",
    "        self.classification_head = torch.nn.Sequential(self.fc1, self.relu, self.bn, self.dropout, self.fc2)\n",
    "\n",
    "        # Initialize the weights with the kaiming uniform initialization\n",
    "        for layer in self.classification_head:\n",
    "            if isinstance(layer, torch.nn.Linear):\n",
    "                torch.nn.init.kaiming_uniform_(layer.weight, nonlinearity = 'relu')\n",
    "\n",
    "        # Initialize the weights with the kaiming uniform initialization for the multi-head attention\n",
    "        torch.nn.init.kaiming_uniform_(self.multihead_attention.in_proj_weight, nonlinearity = 'relu')\n",
    "\n",
    "        # Initialize the weights with the kaiming uniform initialization for the LSTM\n",
    "        for layer in self.lstm._all_weights:\n",
    "            for param_name in layer:\n",
    "                if 'weight' in param_name:\n",
    "                    torch.nn.init.kaiming_uniform_(getattr(self.lstm, param_name), nonlinearity = 'relu')\n",
    "\n",
    "\n",
    "    def forward(self, x):\n",
    "        # Get the embedding of each token in the sequence\n",
    "        embed = self.embedding(x)\n",
    "        # Apply LSTM to the sequence of embeddings\n",
    "        hx, cx = self.lstm(embed)\n",
    "        # Apply multihead attention and get attention weights\n",
    "        attn_output, attn_weights = self.multihead_attention(hx, hx, hx)\n",
    "        # Flatten or pool the multihead attention outputs across the sequence dimension\n",
    "        flattened_output = attn_output.reshape(attn_output.size(0), -1)\n",
    "        # Compute the logits considering the weighted values (V) of the multihead attention\n",
    "        logits = self.classification_head(flattened_output)\n",
    "\n",
    "        return logits\n",
    "\n",
    "\n",
    "class PositionalEncoding(torch.nn.Module):\n",
    "    def __init__(self, d_model, max_len=512):\n",
    "        super(PositionalEncoding, self).__init__()\n",
    "        position = torch.arange(0, max_len).unsqueeze(1).float()\n",
    "        div_term = torch.exp(torch.arange(0, d_model, 2).float() * -(torch.log(torch.tensor(10000.0)) / d_model))\n",
    "        self.positional_encoding = torch.zeros((1, max_len, d_model))\n",
    "        self.positional_encoding[0, :, 0::2] = torch.sin(position * div_term)\n",
    "        self.positional_encoding[0, :, 1::2] = torch.cos(position * div_term)\n",
    "\n",
    "    def forward(self, x):\n",
    "        return x + self.positional_encoding[:, :x.size(1), :]\n",
    "\n",
    "\n",
    "class TransformerEncoder(torch.nn.Module):\n",
    "    def __init__(self, word2vec_model, embedding_dim, num_heads, hidden_dim, num_layers, max_len=512, dropout=0.1, freeze_embeddings = True):\n",
    "        super(TransformerEncoder, self).__init__()\n",
    "\n",
    "        self.embedding = torch.nn.Embedding.from_pretrained(torch.FloatTensor(word2vec_model.wv.vectors), freeze = freeze_embeddings)\n",
    "        self.positional_encoding = PositionalEncoding(embedding_dim, max_len)\n",
    "        \n",
    "        self.transformer_encoder_layer = torch.nn.TransformerEncoderLayer(\n",
    "                                                                          d_model=embedding_dim,\n",
    "                                                                          nhead=num_heads,\n",
    "                                                                          dim_feedforward=hidden_dim,\n",
    "                                                                          dropout=dropout\n",
    "                                                                          )\n",
    "        self.transformer_encoder = torch.nn.TransformerEncoder(self.transformer_encoder_layer, num_layers)\n",
    "\n",
    "    def forward(self, x):\n",
    "        x = self.embedding(x)\n",
    "        x = self.positional_encoding(x)\n",
    "        x = x.permute(1, 0, 2)  # Change from (batch_size, seq_len, embedding_dim) to (seq_len, batch_size, embedding_dim)\n",
    "        x = self.transformer_encoder(x)\n",
    "        x = x.permute(1, 0, 2)  # Change back to (batch_size, seq_len, embedding_dim)\n",
    "        return x\n",
    "    \n",
    "\n",
    "class TransformerEncoderForClassification(torch.nn.Module):\n",
    "    def __init__(self, word2vec_model, embedding_dim, num_heads, hidden_dim, num_layers, max_len=512, dropout=0.1, freeze_embeddings = True, num_classes=1):\n",
    "        super(TransformerEncoderForClassification, self).__init__()\n",
    "\n",
    "        self.embedding_dim = embedding_dim\n",
    "        self.encoder = TransformerEncoder(word2vec_model, num_heads, hidden_dim, num_layers, max_len, dropout, freeze_embeddings)\n",
    "        \n",
    "        # Classification head\n",
    "        self.fc = torch.nn.Linear(self.embedding_dim, num_classes)\n",
    "\n",
    "    def forward(self, x):\n",
    "        encoder_output = self.encoder(x)\n",
    "        \n",
    "        # Global average pooling along the sequence dimension\n",
    "        pooled_output = torch.nn.functional.adaptive_avg_pool1d(encoder_output.permute(0, 2, 1), 1).squeeze(-1)\n",
    "        \n",
    "        # Classification head\n",
    "        logits = self.fc(pooled_output)\n",
    "\n",
    "        return logits\n",
    "    \n",
    "\n",
    "# FCNN model to be used with the TF-IDF features\n",
    "class CustomFCNN(torch.nn.Module):\n",
    "    def __init__(self, input_size, hidden_size, dropout_rate=0.1):\n",
    "        super(CustomFCNN, self).__init__()\n",
    "        self.fc1 = torch.nn.Linear(input_size, hidden_size)\n",
    "        self.fc2 = torch.nn.Linear(hidden_size, hidden_size)\n",
    "        self.fc3 = torch.nn.Linear(hidden_size, hidden_size)\n",
    "        self.outlayer = torch.nn.Linear(hidden_size, 1)\n",
    "\n",
    "        self.relu = torch.nn.ReLU()\n",
    "\n",
    "        self.bn = torch.nn.BatchNorm1d(hidden_size)\n",
    "\n",
    "        self.dropout = torch.nn.Dropout(dropout_rate)\n",
    "\n",
    "    def forward(self, x):\n",
    "        x = self.bn(self.relu(self.fc1(x)))\n",
    "        x = self.dropout(x)\n",
    "        x = self.bn(self.relu(self.fc2(x)))\n",
    "        x = self.dropout(x)\n",
    "        x = self.bn(self.relu(self.fc3(x)))\n",
    "        x = self.dropout(x)\n",
    "        logits = self.outlayer(x)\n",
    "\n",
    "        return logits\n",
    "    \n",
    "\n",
    "class BERTweetForSequenceClassification(torch.nn.Module):\n",
    "    def __init__(self, bertweet_model, hidden_size, output_size, dropout_rate = 0.1):\n",
    "        super(BERTweetForSequenceClassification, self).__init__()\n",
    "\n",
    "        self.bertweet_model = bertweet_model\n",
    "\n",
    "        self.dropout = torch.nn.Dropout(dropout_rate)\n",
    "        self.BatchNorm = torch.nn.BatchNorm1d(hidden_size)\n",
    "\n",
    "        self.dense = torch.nn.Linear(hidden_size, output_size)\n",
    "\n",
    "    def forward(self, input_ids, attention_mask):\n",
    "        # Apply batch normalization to the output of the BERTweet model\n",
    "        berteet_output = self.bertweet_model(input_ids, attention_mask, output_attentions=True)\n",
    "        # Apply batch normalization to the output of the BERTweet model\n",
    "        output = self.BatchNorm(berteet_output.pooler_output)\n",
    "        # Apply dropout\n",
    "        output = self.dropout(output)\n",
    "        # Apply the output layer\n",
    "        logits = self.dense(output)\n",
    "\n",
    "        return logits, berteet_output\n",
    "    \n",
    "\n",
    "def predict(model, test_loader, device):\n",
    "    model.eval()\n",
    "    predictions = []\n",
    "    labels = []\n",
    "    pbar = tqdm(enumerate(test_loader), total=len(test_loader))\n",
    "\n",
    "    with torch.no_grad():\n",
    "        for batch_idx, data in pbar:\n",
    "            input_ids = data[0].to(device)\n",
    "            attn_mask = data[1].to(device)\n",
    "            target = data[2].float().flatten().to(device)\n",
    "            model.zero_grad()\n",
    "            logits = model(input_ids, attention_mask=attn_mask)\n",
    "\n",
    "            predicted = (logits > 0.0).float().flatten()\n",
    "\n",
    "            predictions.extend(predicted.tolist())\n",
    "            labels.extend(target.tolist())\n",
    "\n",
    "    return predictions, labels\n",
    "\n",
    "\n",
    "def ComputeConfusionMatrix(labels, preds):\n",
    "    \"\"\"\n",
    "    Computes the confusion matrix for the predicted and ground truth labels.\n",
    "\n",
    "    Args:\n",
    "    - labels_gt (numpy.ndarray): Numpy array containing the ground truth labels.\n",
    "    - labels_pred (numpy.ndarray): Numpy array containing the predicted labels.\n",
    "    \"\"\"\n",
    "\n",
    "    cm = confusion_matrix(labels, preds)\n",
    "\n",
    "    confusion_table = tabulate(cm,\n",
    "                           headers = ['Predicted ' + cls for cls in ['Not a Disaster', 'Disaster']],\n",
    "                           showindex = ['Actual ' + cls for cls in ['Not a Disaster', 'Disaster']],\n",
    "                           tablefmt=\"fancy_grid\",\n",
    "                           stralign=\"center\",\n",
    "                           numalign=\"center\"\n",
    "                           )\n",
    "\n",
    "    print(\"\\nConfusion Matrix:\")\n",
    "    print(confusion_table)\n",
    "\n",
    "\n",
    "def ComputeClassificationMetrics(labels, preds):\n",
    "    \"\"\"\n",
    "    Computes the classification metrics for the predicted and ground truth labels.\n",
    "\n",
    "    Args:\n",
    "    - labels_gt (numpy.ndarray): Numpy array containing the ground truth labels.\n",
    "    - labels_pred (numpy.ndarray): Numpy array containing the predicted labels.\n",
    "    \"\"\"\n",
    "\n",
    "    # Compute the classification metrics\n",
    "    accuracy = accuracy_score(labels, preds) * 100\n",
    "    precision = precision_score(labels, preds, average='binary') * 100\n",
    "    recall = recall_score(labels, preds, average='binary') * 100\n",
    "    f1 = f1_score(labels, preds, average='binary') * 100\n",
    "\n",
    "    results_table = [\n",
    "            [\"Accuracy\", f\"{accuracy:.2f}%\"],\n",
    "            [\"Weighted Precision\", f\"{precision:.2f}%\"],\n",
    "            [\"Weighted Recall\", f\"{recall:.2f}%\"],\n",
    "            [\"Weighted F1 Score\", f\"{f1:.2f}%\"],\n",
    "        ]\n",
    "\n",
    "    print(tabulate(results_table, headers=[\"Metric\", \"Value\"], tablefmt=\"fancy_grid\", stralign=\"center\", numalign=\"center\"))\n",
    "\n",
    "\n",
    "def ComputeAttentionMaps(dataset, model, input_id, num_head):\n",
    "\n",
    "    device = set_device()\n",
    "\n",
    "    # Get all input ids and attention masks from the test dataset\n",
    "    inputs = torch.stack([data[0] for data in dataset]).to(device)\n",
    "    attn_masks = torch.stack([data[1] for data in dataset]).to(device)\n",
    "\n",
    "    logits, berteet_output = model(inputs[input_id].unsqueeze(0), attention_mask=attn_masks[input_id].unsqueeze(0))\n",
    "\n",
    "    attn_weights = berteet_output.attentions\n",
    "    # convert tuple to torch tensor\n",
    "    attn_weights = torch.stack(attn_weights).squeeze(1)\n",
    "    attn_weights = attn_weights[num_head, num_head, :, :].cpu().detach().numpy()\n",
    "\n",
    "    len_seq = sum(attn_masks[input_id]).item()\n",
    "    attention_layer_head = attn_weights[1:len_seq-1, 1:len_seq-1]\n",
    "\n",
    "    sequence = inputs[input_id][1:len_seq-1]\n",
    "    # Get the tokens from the sequence\n",
    "    tokens = BERTweetbase_tokenizer.convert_ids_to_tokens(sequence.cpu().numpy())\n",
    "\n",
    "    # Create a heatmap\n",
    "    plt.figure(figsize=(12, 8))\n",
    "    ax = sns.heatmap(attention_layer_head, cmap=\"binary\", xticklabels=tokens, yticklabels=tokens, annot=False, fmt=\".2f\", cbar=False)\n",
    "    plt.yticks(rotation=0)\n",
    "    ax.xaxis.tick_top() # x axis on top\n",
    "    ax.xaxis.set_label_position('top')\n",
    "    plt.show()"
   ]
  },
  {
   "cell_type": "markdown",
   "metadata": {},
   "source": [
    "## Data Loading"
   ]
  },
  {
   "cell_type": "code",
   "execution_count": 3,
   "metadata": {
    "ExecuteTime": {
     "end_time": "2023-12-29T16:48:51.252105700Z",
     "start_time": "2023-12-29T16:48:49.728914500Z"
    }
   },
   "outputs": [
    {
     "name": "stdout",
     "output_type": "stream",
     "text": [
      "Training data\n"
     ]
    },
    {
     "data": {
      "text/html": [
       "<div>\n",
       "<style scoped>\n",
       "    .dataframe tbody tr th:only-of-type {\n",
       "        vertical-align: middle;\n",
       "    }\n",
       "\n",
       "    .dataframe tbody tr th {\n",
       "        vertical-align: top;\n",
       "    }\n",
       "\n",
       "    .dataframe thead th {\n",
       "        text-align: right;\n",
       "    }\n",
       "</style>\n",
       "<table border=\"1\" class=\"dataframe\">\n",
       "  <thead>\n",
       "    <tr style=\"text-align: right;\">\n",
       "      <th></th>\n",
       "      <th>text</th>\n",
       "      <th>target</th>\n",
       "    </tr>\n",
       "  </thead>\n",
       "  <tbody>\n",
       "    <tr>\n",
       "      <th>0</th>\n",
       "      <td>Our Deeds are the Reason of this #earthquake M...</td>\n",
       "      <td>1</td>\n",
       "    </tr>\n",
       "    <tr>\n",
       "      <th>1</th>\n",
       "      <td>Forest fire near La Ronge Sask. Canada</td>\n",
       "      <td>1</td>\n",
       "    </tr>\n",
       "    <tr>\n",
       "      <th>2</th>\n",
       "      <td>All residents asked to 'shelter in place' are ...</td>\n",
       "      <td>1</td>\n",
       "    </tr>\n",
       "    <tr>\n",
       "      <th>3</th>\n",
       "      <td>13,000 people receive #wildfires evacuation or...</td>\n",
       "      <td>1</td>\n",
       "    </tr>\n",
       "    <tr>\n",
       "      <th>4</th>\n",
       "      <td>Just got sent this photo from Ruby #Alaska as ...</td>\n",
       "      <td>1</td>\n",
       "    </tr>\n",
       "  </tbody>\n",
       "</table>\n",
       "</div>"
      ],
      "text/plain": [
       "                                                text  target\n",
       "0  Our Deeds are the Reason of this #earthquake M...       1\n",
       "1             Forest fire near La Ronge Sask. Canada       1\n",
       "2  All residents asked to 'shelter in place' are ...       1\n",
       "3  13,000 people receive #wildfires evacuation or...       1\n",
       "4  Just got sent this photo from Ruby #Alaska as ...       1"
      ]
     },
     "metadata": {},
     "output_type": "display_data"
    },
    {
     "name": "stdout",
     "output_type": "stream",
     "text": [
      "\n",
      "Testing data\n"
     ]
    },
    {
     "data": {
      "text/html": [
       "<div>\n",
       "<style scoped>\n",
       "    .dataframe tbody tr th:only-of-type {\n",
       "        vertical-align: middle;\n",
       "    }\n",
       "\n",
       "    .dataframe tbody tr th {\n",
       "        vertical-align: top;\n",
       "    }\n",
       "\n",
       "    .dataframe thead th {\n",
       "        text-align: right;\n",
       "    }\n",
       "</style>\n",
       "<table border=\"1\" class=\"dataframe\">\n",
       "  <thead>\n",
       "    <tr style=\"text-align: right;\">\n",
       "      <th></th>\n",
       "      <th>text</th>\n",
       "      <th>target</th>\n",
       "    </tr>\n",
       "  </thead>\n",
       "  <tbody>\n",
       "    <tr>\n",
       "      <th>0</th>\n",
       "      <td>Just happened a terrible car crash</td>\n",
       "      <td>1</td>\n",
       "    </tr>\n",
       "    <tr>\n",
       "      <th>1</th>\n",
       "      <td>Heard about #earthquake is different cities, s...</td>\n",
       "      <td>1</td>\n",
       "    </tr>\n",
       "    <tr>\n",
       "      <th>2</th>\n",
       "      <td>there is a forest fire at spot pond, geese are...</td>\n",
       "      <td>1</td>\n",
       "    </tr>\n",
       "    <tr>\n",
       "      <th>3</th>\n",
       "      <td>Apocalypse lighting. #Spokane #wildfires</td>\n",
       "      <td>1</td>\n",
       "    </tr>\n",
       "    <tr>\n",
       "      <th>4</th>\n",
       "      <td>Typhoon Soudelor kills 28 in China and Taiwan</td>\n",
       "      <td>1</td>\n",
       "    </tr>\n",
       "  </tbody>\n",
       "</table>\n",
       "</div>"
      ],
      "text/plain": [
       "                                                text  target\n",
       "0                 Just happened a terrible car crash       1\n",
       "1  Heard about #earthquake is different cities, s...       1\n",
       "2  there is a forest fire at spot pond, geese are...       1\n",
       "3           Apocalypse lighting. #Spokane #wildfires       1\n",
       "4      Typhoon Soudelor kills 28 in China and Taiwan       1"
      ]
     },
     "metadata": {},
     "output_type": "display_data"
    }
   ],
   "source": [
    "tweets_train = pd.read_csv('../data/tweets_data/train.csv')[['text', 'target']].reset_index(drop=True)\n",
    "tweets_test = pd.read_csv('../data/tweets_data/test.csv')[['id', 'text']]\n",
    "tweets_labels = pd.read_csv('../data/tweets_data/test_labels.csv', encoding='latin-1')[['choose_one', 'text']]\n",
    "\n",
    "tweets_labels['target'] = (tweets_labels['choose_one']=='Relevant').astype(int)\n",
    "tweets_labels['id'] = tweets_labels.index\n",
    "\n",
    "tweets_test = pd.merge(left = tweets_test, right = tweets_labels, on='id', how = 'left')[['id', 'text_x', 'target']]\n",
    "tweets_test.rename(columns={'text_x': 'text'}, inplace=True)\n",
    "tweets_test = tweets_test[['text', 'target']]\n",
    "\n",
    "print('Training data')\n",
    "display(tweets_train.head())\n",
    "print()\n",
    "print('Testing data')\n",
    "display(tweets_test.head())"
   ]
  },
  {
   "cell_type": "markdown",
   "metadata": {},
   "source": [
    "# Text pre-processing"
   ]
  },
  {
   "cell_type": "markdown",
   "metadata": {},
   "source": [
    "## Cleaning text using key-words and lemmatization"
   ]
  },
  {
   "cell_type": "code",
   "execution_count": 4,
   "metadata": {
    "ExecuteTime": {
     "end_time": "2023-12-21T15:29:01.782176300Z",
     "start_time": "2023-12-21T15:27:58.466800200Z"
    }
   },
   "outputs": [],
   "source": [
    "tweets_train['clean_text'] = tweets_train['text'].apply(preprocess)\n",
    "tweets_test['clean_text'] = tweets_test['text'].apply(preprocess)"
   ]
  },
  {
   "cell_type": "code",
   "execution_count": 5,
   "metadata": {
    "ExecuteTime": {
     "end_time": "2023-12-21T15:29:01.798553700Z",
     "start_time": "2023-12-21T15:29:01.785391100Z"
    }
   },
   "outputs": [
    {
     "name": "stdout",
     "output_type": "stream",
     "text": [
      "Training data\n"
     ]
    },
    {
     "data": {
      "text/html": [
       "<div>\n",
       "<style scoped>\n",
       "    .dataframe tbody tr th:only-of-type {\n",
       "        vertical-align: middle;\n",
       "    }\n",
       "\n",
       "    .dataframe tbody tr th {\n",
       "        vertical-align: top;\n",
       "    }\n",
       "\n",
       "    .dataframe thead th {\n",
       "        text-align: right;\n",
       "    }\n",
       "</style>\n",
       "<table border=\"1\" class=\"dataframe\">\n",
       "  <thead>\n",
       "    <tr style=\"text-align: right;\">\n",
       "      <th></th>\n",
       "      <th>text</th>\n",
       "      <th>target</th>\n",
       "      <th>clean_text</th>\n",
       "    </tr>\n",
       "  </thead>\n",
       "  <tbody>\n",
       "    <tr>\n",
       "      <th>0</th>\n",
       "      <td>Our Deeds are the Reason of this #earthquake M...</td>\n",
       "      <td>1</td>\n",
       "      <td>deed reason earthquake allah forgive</td>\n",
       "    </tr>\n",
       "    <tr>\n",
       "      <th>1</th>\n",
       "      <td>Forest fire near La Ronge Sask. Canada</td>\n",
       "      <td>1</td>\n",
       "      <td>forest fire near la ronge sask canada</td>\n",
       "    </tr>\n",
       "    <tr>\n",
       "      <th>2</th>\n",
       "      <td>All residents asked to 'shelter in place' are ...</td>\n",
       "      <td>1</td>\n",
       "      <td>resident ask shelter place notify officer evac...</td>\n",
       "    </tr>\n",
       "    <tr>\n",
       "      <th>3</th>\n",
       "      <td>13,000 people receive #wildfires evacuation or...</td>\n",
       "      <td>1</td>\n",
       "      <td>people receive wildfire evacuation order cal...</td>\n",
       "    </tr>\n",
       "    <tr>\n",
       "      <th>4</th>\n",
       "      <td>Just got sent this photo from Ruby #Alaska as ...</td>\n",
       "      <td>1</td>\n",
       "      <td>got send photo ruby alaska smoke wildfire pour...</td>\n",
       "    </tr>\n",
       "  </tbody>\n",
       "</table>\n",
       "</div>"
      ],
      "text/plain": [
       "                                                text  target  \\\n",
       "0  Our Deeds are the Reason of this #earthquake M...       1   \n",
       "1             Forest fire near La Ronge Sask. Canada       1   \n",
       "2  All residents asked to 'shelter in place' are ...       1   \n",
       "3  13,000 people receive #wildfires evacuation or...       1   \n",
       "4  Just got sent this photo from Ruby #Alaska as ...       1   \n",
       "\n",
       "                                          clean_text  \n",
       "0               deed reason earthquake allah forgive  \n",
       "1              forest fire near la ronge sask canada  \n",
       "2  resident ask shelter place notify officer evac...  \n",
       "3    people receive wildfire evacuation order cal...  \n",
       "4  got send photo ruby alaska smoke wildfire pour...  "
      ]
     },
     "metadata": {},
     "output_type": "display_data"
    },
    {
     "name": "stdout",
     "output_type": "stream",
     "text": [
      "\n",
      "Testing data\n"
     ]
    },
    {
     "data": {
      "text/html": [
       "<div>\n",
       "<style scoped>\n",
       "    .dataframe tbody tr th:only-of-type {\n",
       "        vertical-align: middle;\n",
       "    }\n",
       "\n",
       "    .dataframe tbody tr th {\n",
       "        vertical-align: top;\n",
       "    }\n",
       "\n",
       "    .dataframe thead th {\n",
       "        text-align: right;\n",
       "    }\n",
       "</style>\n",
       "<table border=\"1\" class=\"dataframe\">\n",
       "  <thead>\n",
       "    <tr style=\"text-align: right;\">\n",
       "      <th></th>\n",
       "      <th>text</th>\n",
       "      <th>target</th>\n",
       "      <th>clean_text</th>\n",
       "    </tr>\n",
       "  </thead>\n",
       "  <tbody>\n",
       "    <tr>\n",
       "      <th>0</th>\n",
       "      <td>Just happened a terrible car crash</td>\n",
       "      <td>1</td>\n",
       "      <td>happen terrible car crash</td>\n",
       "    </tr>\n",
       "    <tr>\n",
       "      <th>1</th>\n",
       "      <td>Heard about #earthquake is different cities, s...</td>\n",
       "      <td>1</td>\n",
       "      <td>hear earthquake different city stay safe</td>\n",
       "    </tr>\n",
       "    <tr>\n",
       "      <th>2</th>\n",
       "      <td>there is a forest fire at spot pond, geese are...</td>\n",
       "      <td>1</td>\n",
       "      <td>forest fire spot pond goose flee street save</td>\n",
       "    </tr>\n",
       "    <tr>\n",
       "      <th>3</th>\n",
       "      <td>Apocalypse lighting. #Spokane #wildfires</td>\n",
       "      <td>1</td>\n",
       "      <td>apocalypse lighting spokane wildfire</td>\n",
       "    </tr>\n",
       "    <tr>\n",
       "      <th>4</th>\n",
       "      <td>Typhoon Soudelor kills 28 in China and Taiwan</td>\n",
       "      <td>1</td>\n",
       "      <td>typhoon soudelor kill china taiwan</td>\n",
       "    </tr>\n",
       "  </tbody>\n",
       "</table>\n",
       "</div>"
      ],
      "text/plain": [
       "                                                text  target  \\\n",
       "0                 Just happened a terrible car crash       1   \n",
       "1  Heard about #earthquake is different cities, s...       1   \n",
       "2  there is a forest fire at spot pond, geese are...       1   \n",
       "3           Apocalypse lighting. #Spokane #wildfires       1   \n",
       "4      Typhoon Soudelor kills 28 in China and Taiwan       1   \n",
       "\n",
       "                                     clean_text  \n",
       "0                     happen terrible car crash  \n",
       "1      hear earthquake different city stay safe  \n",
       "2  forest fire spot pond goose flee street save  \n",
       "3          apocalypse lighting spokane wildfire  \n",
       "4            typhoon soudelor kill china taiwan  "
      ]
     },
     "metadata": {},
     "output_type": "display_data"
    }
   ],
   "source": [
    "print('Training data')\n",
    "display(tweets_train.head())\n",
    "print()\n",
    "print('Testing data')\n",
    "display(tweets_test.head())"
   ]
  },
  {
   "cell_type": "markdown",
   "metadata": {},
   "source": [
    "## Sub-word tokenization with BERT Tokenizer for Byte-Pair Encoding "
   ]
  },
  {
   "cell_type": "code",
   "execution_count": 6,
   "metadata": {},
   "outputs": [],
   "source": [
    "class BytePairEncoding():\n",
    "    def __init__(self, corpus_df, vocab_size, min_frequency, maxlen):\n",
    "        self.corpus = corpus_df.tolist()\n",
    "        self.vocab_size = vocab_size\n",
    "        self.min_frequency = min_frequency\n",
    "        self.maxlen = maxlen\n",
    "        self.tokenizer = None\n",
    "\n",
    "    def train(self):\n",
    "        # Initialize a tokenizer\n",
    "        self.tokenizer = Tokenizer(BPE())\n",
    "        # Initialize a pre-tokenizer\n",
    "        self.tokenizer.pre_tokenizer = Whitespace()\n",
    "\n",
    "        # Train the tokenizer on the corpus\n",
    "        trainer = BpeTrainer(vocab_size = self.vocab_size, min_frequency = self.min_frequency, special_tokens = [\"[PAD]\"])\n",
    "        self.tokenizer.train_from_iterator(iterator = self.corpus, trainer = trainer)\n",
    "\n",
    "        fast_tokenizer = PreTrainedTokenizerFast(tokenizer_object = self.tokenizer, pad_token = '[PAD]', truncation = True, padding = True)\n",
    "\n",
    "        self.tokenizer = fast_tokenizer\n",
    "\n",
    "    \n",
    "    def tokenize(self, corpus_df):\n",
    "        corpus = corpus_df.tolist()\n",
    "        input_ids = []\n",
    "        attn_masks_corpus = []\n",
    "        tokenized_corpus = []\n",
    "        for tweet in corpus:\n",
    "            # Tokenize the tweet\n",
    "            tokenized_tweet = self.tokenizer.encode_plus(tweet, max_length = self.maxlen, truncation=True, padding='max_length', return_tensors='pt')\n",
    "            # Retrieve the input sequence\n",
    "            input_ids.append(tokenized_tweet['input_ids'])\n",
    "            # Retrieve the attention mask\n",
    "            attn_masks_corpus.append(tokenized_tweet['attention_mask'])\n",
    "            # Retrieve the tokenized tweet\n",
    "            tokenized_corpus.append(self.tokenizer.convert_ids_to_tokens(tokenized_tweet['input_ids'].squeeze()))\n",
    "            \n",
    "        return tokenized_corpus, input_ids, attn_masks_corpus"
   ]
  },
  {
   "cell_type": "code",
   "execution_count": 7,
   "metadata": {},
   "outputs": [
    {
     "name": "stdout",
     "output_type": "stream",
     "text": [
      "\n",
      "\n",
      "\n"
     ]
    }
   ],
   "source": [
    "# Get an object for Byte Pair Encoding\n",
    "BPETokenizer = BytePairEncoding(corpus_df = tweets_train['clean_text'], vocab_size = 20000, min_frequency = 1, maxlen = 50)\n",
    "# Train the BPE tokenizer on the training data\n",
    "BPETokenizer.train()\n",
    "\n",
    "# Tokenize the training data using the pre-trained tokenizer\n",
    "tokenized_train_corpus, input_ids_train, attn_masks_train = BPETokenizer.tokenize(corpus_df = tweets_train['clean_text'])\n",
    "# Tokenize the test data using the pre-trained tokenizer\n",
    "tokenized_test_corpus, input_ids_test, attn_masks_test = BPETokenizer.tokenize(corpus_df = tweets_test['clean_text'])"
   ]
  },
  {
   "cell_type": "code",
   "execution_count": 8,
   "metadata": {},
   "outputs": [],
   "source": [
    "# Create a column for the tokenized tweets\n",
    "tweets_train['clean_text_tokenized'] = tokenized_train_corpus\n",
    "tweets_test['clean_text_tokenized'] = tokenized_test_corpus"
   ]
  },
  {
   "cell_type": "code",
   "execution_count": 9,
   "metadata": {},
   "outputs": [
    {
     "name": "stdout",
     "output_type": "stream",
     "text": [
      "Training data\n"
     ]
    },
    {
     "data": {
      "text/html": [
       "<div>\n",
       "<style scoped>\n",
       "    .dataframe tbody tr th:only-of-type {\n",
       "        vertical-align: middle;\n",
       "    }\n",
       "\n",
       "    .dataframe tbody tr th {\n",
       "        vertical-align: top;\n",
       "    }\n",
       "\n",
       "    .dataframe thead th {\n",
       "        text-align: right;\n",
       "    }\n",
       "</style>\n",
       "<table border=\"1\" class=\"dataframe\">\n",
       "  <thead>\n",
       "    <tr style=\"text-align: right;\">\n",
       "      <th></th>\n",
       "      <th>text</th>\n",
       "      <th>target</th>\n",
       "      <th>clean_text</th>\n",
       "      <th>clean_text_tokenized</th>\n",
       "    </tr>\n",
       "  </thead>\n",
       "  <tbody>\n",
       "    <tr>\n",
       "      <th>0</th>\n",
       "      <td>Our Deeds are the Reason of this #earthquake M...</td>\n",
       "      <td>1</td>\n",
       "      <td>deed reason earthquake allah forgive</td>\n",
       "      <td>[deed, reason, earthquake, allah, forgive, [PA...</td>\n",
       "    </tr>\n",
       "    <tr>\n",
       "      <th>1</th>\n",
       "      <td>Forest fire near La Ronge Sask. Canada</td>\n",
       "      <td>1</td>\n",
       "      <td>forest fire near la ronge sask canada</td>\n",
       "      <td>[forest, fire, near, la, ronge, sask, canada, ...</td>\n",
       "    </tr>\n",
       "    <tr>\n",
       "      <th>2</th>\n",
       "      <td>All residents asked to 'shelter in place' are ...</td>\n",
       "      <td>1</td>\n",
       "      <td>resident ask shelter place notify officer evac...</td>\n",
       "      <td>[resident, ask, shelter, place, notify, office...</td>\n",
       "    </tr>\n",
       "    <tr>\n",
       "      <th>3</th>\n",
       "      <td>13,000 people receive #wildfires evacuation or...</td>\n",
       "      <td>1</td>\n",
       "      <td>people receive wildfire evacuation order cal...</td>\n",
       "      <td>[people, receive, wildfire, evacuation, order,...</td>\n",
       "    </tr>\n",
       "    <tr>\n",
       "      <th>4</th>\n",
       "      <td>Just got sent this photo from Ruby #Alaska as ...</td>\n",
       "      <td>1</td>\n",
       "      <td>got send photo ruby alaska smoke wildfire pour...</td>\n",
       "      <td>[got, send, photo, ruby, alaska, smoke, wildfi...</td>\n",
       "    </tr>\n",
       "  </tbody>\n",
       "</table>\n",
       "</div>"
      ],
      "text/plain": [
       "                                                text  target  \\\n",
       "0  Our Deeds are the Reason of this #earthquake M...       1   \n",
       "1             Forest fire near La Ronge Sask. Canada       1   \n",
       "2  All residents asked to 'shelter in place' are ...       1   \n",
       "3  13,000 people receive #wildfires evacuation or...       1   \n",
       "4  Just got sent this photo from Ruby #Alaska as ...       1   \n",
       "\n",
       "                                          clean_text  \\\n",
       "0               deed reason earthquake allah forgive   \n",
       "1              forest fire near la ronge sask canada   \n",
       "2  resident ask shelter place notify officer evac...   \n",
       "3    people receive wildfire evacuation order cal...   \n",
       "4  got send photo ruby alaska smoke wildfire pour...   \n",
       "\n",
       "                                clean_text_tokenized  \n",
       "0  [deed, reason, earthquake, allah, forgive, [PA...  \n",
       "1  [forest, fire, near, la, ronge, sask, canada, ...  \n",
       "2  [resident, ask, shelter, place, notify, office...  \n",
       "3  [people, receive, wildfire, evacuation, order,...  \n",
       "4  [got, send, photo, ruby, alaska, smoke, wildfi...  "
      ]
     },
     "metadata": {},
     "output_type": "display_data"
    },
    {
     "name": "stdout",
     "output_type": "stream",
     "text": [
      "\n",
      "Testing data\n"
     ]
    },
    {
     "data": {
      "text/html": [
       "<div>\n",
       "<style scoped>\n",
       "    .dataframe tbody tr th:only-of-type {\n",
       "        vertical-align: middle;\n",
       "    }\n",
       "\n",
       "    .dataframe tbody tr th {\n",
       "        vertical-align: top;\n",
       "    }\n",
       "\n",
       "    .dataframe thead th {\n",
       "        text-align: right;\n",
       "    }\n",
       "</style>\n",
       "<table border=\"1\" class=\"dataframe\">\n",
       "  <thead>\n",
       "    <tr style=\"text-align: right;\">\n",
       "      <th></th>\n",
       "      <th>text</th>\n",
       "      <th>target</th>\n",
       "      <th>clean_text</th>\n",
       "      <th>clean_text_tokenized</th>\n",
       "    </tr>\n",
       "  </thead>\n",
       "  <tbody>\n",
       "    <tr>\n",
       "      <th>0</th>\n",
       "      <td>Just happened a terrible car crash</td>\n",
       "      <td>1</td>\n",
       "      <td>happen terrible car crash</td>\n",
       "      <td>[happen, terrible, car, crash, [PAD], [PAD], [...</td>\n",
       "    </tr>\n",
       "    <tr>\n",
       "      <th>1</th>\n",
       "      <td>Heard about #earthquake is different cities, s...</td>\n",
       "      <td>1</td>\n",
       "      <td>hear earthquake different city stay safe</td>\n",
       "      <td>[hear, earthquake, different, city, stay, safe...</td>\n",
       "    </tr>\n",
       "    <tr>\n",
       "      <th>2</th>\n",
       "      <td>there is a forest fire at spot pond, geese are...</td>\n",
       "      <td>1</td>\n",
       "      <td>forest fire spot pond goose flee street save</td>\n",
       "      <td>[forest, fire, spot, pond, go, ose, flee, stre...</td>\n",
       "    </tr>\n",
       "    <tr>\n",
       "      <th>3</th>\n",
       "      <td>Apocalypse lighting. #Spokane #wildfires</td>\n",
       "      <td>1</td>\n",
       "      <td>apocalypse lighting spokane wildfire</td>\n",
       "      <td>[apocalypse, lighting, spokane, wildfire, [PAD...</td>\n",
       "    </tr>\n",
       "    <tr>\n",
       "      <th>4</th>\n",
       "      <td>Typhoon Soudelor kills 28 in China and Taiwan</td>\n",
       "      <td>1</td>\n",
       "      <td>typhoon soudelor kill china taiwan</td>\n",
       "      <td>[typhoon, soudelor, kill, china, taiwan, [PAD]...</td>\n",
       "    </tr>\n",
       "  </tbody>\n",
       "</table>\n",
       "</div>"
      ],
      "text/plain": [
       "                                                text  target  \\\n",
       "0                 Just happened a terrible car crash       1   \n",
       "1  Heard about #earthquake is different cities, s...       1   \n",
       "2  there is a forest fire at spot pond, geese are...       1   \n",
       "3           Apocalypse lighting. #Spokane #wildfires       1   \n",
       "4      Typhoon Soudelor kills 28 in China and Taiwan       1   \n",
       "\n",
       "                                     clean_text  \\\n",
       "0                     happen terrible car crash   \n",
       "1      hear earthquake different city stay safe   \n",
       "2  forest fire spot pond goose flee street save   \n",
       "3          apocalypse lighting spokane wildfire   \n",
       "4            typhoon soudelor kill china taiwan   \n",
       "\n",
       "                                clean_text_tokenized  \n",
       "0  [happen, terrible, car, crash, [PAD], [PAD], [...  \n",
       "1  [hear, earthquake, different, city, stay, safe...  \n",
       "2  [forest, fire, spot, pond, go, ose, flee, stre...  \n",
       "3  [apocalypse, lighting, spokane, wildfire, [PAD...  \n",
       "4  [typhoon, soudelor, kill, china, taiwan, [PAD]...  "
      ]
     },
     "metadata": {},
     "output_type": "display_data"
    }
   ],
   "source": [
    "print('Training data')\n",
    "display(tweets_train.head())\n",
    "print()\n",
    "print('Testing data')\n",
    "display(tweets_test.head())"
   ]
  },
  {
   "cell_type": "code",
   "execution_count": 10,
   "metadata": {},
   "outputs": [
    {
     "data": {
      "text/plain": [
       "\"# Train the BPE tokenizer on the training data\\nTokenizer = train_BPE_tokenizer(train_text_df = tweets_train, text_column = 'clean_text', vocab_size = 20000, min_frequency = 1)\\n\\n# Assuming Tokenizer is the pre-trained tokenizer from the training data\\n# Tokenize the test data using the pre-trained tokenizer\\ntokenize_text(tokenizer = Tokenizer, df = tweets_test, text_column = 'clean_text')\""
      ]
     },
     "execution_count": 10,
     "metadata": {},
     "output_type": "execute_result"
    }
   ],
   "source": [
    "'''# Train the BPE tokenizer on the training data\n",
    "Tokenizer = train_BPE_tokenizer(train_text_df = tweets_train, text_column = 'clean_text', vocab_size = 20000, min_frequency = 1)\n",
    "\n",
    "# Assuming Tokenizer is the pre-trained tokenizer from the training data\n",
    "# Tokenize the test data using the pre-trained tokenizer\n",
    "tokenize_text(tokenizer = Tokenizer, df = tweets_test, text_column = 'clean_text')'''"
   ]
  },
  {
   "cell_type": "code",
   "execution_count": 11,
   "metadata": {},
   "outputs": [
    {
     "data": {
      "text/plain": [
       "\"print('Training data')\\ndisplay(tweets_train.head())\\nprint()\\nprint('Testing data')\\ndisplay(tweets_test.head())\""
      ]
     },
     "execution_count": 11,
     "metadata": {},
     "output_type": "execute_result"
    }
   ],
   "source": [
    "'''print('Training data')\n",
    "display(tweets_train.head())\n",
    "print()\n",
    "print('Testing data')\n",
    "display(tweets_test.head())'''"
   ]
  },
  {
   "cell_type": "code",
   "execution_count": 12,
   "metadata": {
    "ExecuteTime": {
     "end_time": "2023-12-21T15:30:29.849421800Z",
     "start_time": "2023-12-21T15:29:11.378522300Z"
    }
   },
   "outputs": [
    {
     "data": {
      "text/plain": [
       "\"# set the hyperparameter of vocabulary size\\nvocab_size = 3000\\ncorpus = tweets_train['clean_text'].tolist()\\n\\n# create a BPE tokenizer object\\nMyBPE = BPE(corpus=corpus, vocab_size=vocab_size)\\n\\n# train BPE tokenizer with Wikipedia corpus\\nMyBPE.train()\""
      ]
     },
     "execution_count": 12,
     "metadata": {},
     "output_type": "execute_result"
    }
   ],
   "source": [
    "'''# set the hyperparameter of vocabulary size\n",
    "vocab_size = 3000\n",
    "corpus = tweets_train['clean_text'].tolist()\n",
    "\n",
    "# create a BPE tokenizer object\n",
    "MyBPE = BPE(corpus=corpus, vocab_size=vocab_size)\n",
    "\n",
    "# train BPE tokenizer with Wikipedia corpus\n",
    "MyBPE.train()'''"
   ]
  },
  {
   "cell_type": "code",
   "execution_count": 9,
   "metadata": {
    "ExecuteTime": {
     "end_time": "2023-12-21T15:33:13.493640100Z",
     "start_time": "2023-12-21T15:32:21.919839300Z"
    }
   },
   "outputs": [
    {
     "data": {
      "text/plain": [
       "\"tweets_train['tokenized_text'] = tweets_train['clean_text'].apply(lambda x: MyBPE.tokenize(x))\\ntweets_test['tokenized_text'] = tweets_test['clean_text'].apply(lambda x: MyBPE.tokenize(x))\""
      ]
     },
     "execution_count": 9,
     "metadata": {},
     "output_type": "execute_result"
    }
   ],
   "source": [
    "'''tweets_train['tokenized_text'] = tweets_train['clean_text'].apply(lambda x: MyBPE.tokenize(x))\n",
    "tweets_test['tokenized_text'] = tweets_test['clean_text'].apply(lambda x: MyBPE.tokenize(x))'''"
   ]
  },
  {
   "cell_type": "markdown",
   "metadata": {},
   "source": [
    "## Convert Text into Input Features"
   ]
  },
  {
   "cell_type": "markdown",
   "metadata": {},
   "source": [
    "### TF-IDF"
   ]
  },
  {
   "cell_type": "code",
   "execution_count": 10,
   "metadata": {
    "ExecuteTime": {
     "end_time": "2023-12-21T15:33:23.476189500Z",
     "start_time": "2023-12-21T15:33:21.430017200Z"
    }
   },
   "outputs": [],
   "source": [
    "vectorizer = TfidfVectorizer()\n",
    "\n",
    "# Filter out [PAD] tokens\n",
    "filtered_tokens = tweets_train['clean_text_tokenized'].apply(lambda tokens: [token for token in tokens if token != '[PAD]'])\n",
    "X_train = vectorizer.fit_transform(filtered_tokens.apply(lambda tokens: ' '.join(tokens)))\n",
    "\n",
    "# Add a new column 'TFIDF' to the original DataFrame with the TF-IDF arrays\n",
    "tweets_train['TFIDF'] = X_train.toarray().tolist()\n",
    "\n",
    "# Filter out [PAD] tokens\n",
    "filtered_tokens = tweets_test['clean_text_tokenized'].apply(lambda tokens: [token for token in tokens if token != '[PAD]'])\n",
    "X_test = vectorizer.fit_transform(filtered_tokens.apply(lambda tokens: ' '.join(tokens)))\n",
    "# Add a new column 'TFIDF' to the original DataFrame with the TF-IDF arrays\n",
    "tweets_test['TFIDF'] = X_test.toarray().tolist()"
   ]
  },
  {
   "cell_type": "code",
   "execution_count": 11,
   "metadata": {
    "ExecuteTime": {
     "end_time": "2023-12-21T15:33:23.661826500Z",
     "start_time": "2023-12-21T15:33:23.626279500Z"
    }
   },
   "outputs": [
    {
     "name": "stdout",
     "output_type": "stream",
     "text": [
      "Training data\n"
     ]
    },
    {
     "data": {
      "text/html": [
       "<div>\n",
       "<style scoped>\n",
       "    .dataframe tbody tr th:only-of-type {\n",
       "        vertical-align: middle;\n",
       "    }\n",
       "\n",
       "    .dataframe tbody tr th {\n",
       "        vertical-align: top;\n",
       "    }\n",
       "\n",
       "    .dataframe thead th {\n",
       "        text-align: right;\n",
       "    }\n",
       "</style>\n",
       "<table border=\"1\" class=\"dataframe\">\n",
       "  <thead>\n",
       "    <tr style=\"text-align: right;\">\n",
       "      <th></th>\n",
       "      <th>text</th>\n",
       "      <th>target</th>\n",
       "      <th>clean_text</th>\n",
       "      <th>clean_text_tokenized</th>\n",
       "      <th>TFIDF</th>\n",
       "    </tr>\n",
       "  </thead>\n",
       "  <tbody>\n",
       "    <tr>\n",
       "      <th>0</th>\n",
       "      <td>Our Deeds are the Reason of this #earthquake M...</td>\n",
       "      <td>1</td>\n",
       "      <td>deed reason earthquake allah forgive</td>\n",
       "      <td>[deed, reason, earthquake, allah, forgive, [PA...</td>\n",
       "      <td>[0.0, 0.0, 0.0, 0.0, 0.0, 0.0, 0.0, 0.0, 0.0, ...</td>\n",
       "    </tr>\n",
       "    <tr>\n",
       "      <th>1</th>\n",
       "      <td>Forest fire near La Ronge Sask. Canada</td>\n",
       "      <td>1</td>\n",
       "      <td>forest fire near la ronge sask canada</td>\n",
       "      <td>[forest, fire, near, la, ronge, sask, canada, ...</td>\n",
       "      <td>[0.0, 0.0, 0.0, 0.0, 0.0, 0.0, 0.0, 0.0, 0.0, ...</td>\n",
       "    </tr>\n",
       "    <tr>\n",
       "      <th>2</th>\n",
       "      <td>All residents asked to 'shelter in place' are ...</td>\n",
       "      <td>1</td>\n",
       "      <td>resident ask shelter place notify officer evac...</td>\n",
       "      <td>[resident, ask, shelter, place, notify, office...</td>\n",
       "      <td>[0.0, 0.0, 0.0, 0.0, 0.0, 0.0, 0.0, 0.0, 0.0, ...</td>\n",
       "    </tr>\n",
       "    <tr>\n",
       "      <th>3</th>\n",
       "      <td>13,000 people receive #wildfires evacuation or...</td>\n",
       "      <td>1</td>\n",
       "      <td>people receive wildfire evacuation order cal...</td>\n",
       "      <td>[people, receive, wildfire, evacuation, order,...</td>\n",
       "      <td>[0.0, 0.0, 0.0, 0.0, 0.0, 0.0, 0.0, 0.0, 0.0, ...</td>\n",
       "    </tr>\n",
       "    <tr>\n",
       "      <th>4</th>\n",
       "      <td>Just got sent this photo from Ruby #Alaska as ...</td>\n",
       "      <td>1</td>\n",
       "      <td>got send photo ruby alaska smoke wildfire pour...</td>\n",
       "      <td>[got, send, photo, ruby, alaska, smoke, wildfi...</td>\n",
       "      <td>[0.0, 0.0, 0.0, 0.0, 0.0, 0.0, 0.0, 0.0, 0.0, ...</td>\n",
       "    </tr>\n",
       "  </tbody>\n",
       "</table>\n",
       "</div>"
      ],
      "text/plain": [
       "                                                text  target  \\\n",
       "0  Our Deeds are the Reason of this #earthquake M...       1   \n",
       "1             Forest fire near La Ronge Sask. Canada       1   \n",
       "2  All residents asked to 'shelter in place' are ...       1   \n",
       "3  13,000 people receive #wildfires evacuation or...       1   \n",
       "4  Just got sent this photo from Ruby #Alaska as ...       1   \n",
       "\n",
       "                                          clean_text  \\\n",
       "0               deed reason earthquake allah forgive   \n",
       "1              forest fire near la ronge sask canada   \n",
       "2  resident ask shelter place notify officer evac...   \n",
       "3    people receive wildfire evacuation order cal...   \n",
       "4  got send photo ruby alaska smoke wildfire pour...   \n",
       "\n",
       "                                clean_text_tokenized  \\\n",
       "0  [deed, reason, earthquake, allah, forgive, [PA...   \n",
       "1  [forest, fire, near, la, ronge, sask, canada, ...   \n",
       "2  [resident, ask, shelter, place, notify, office...   \n",
       "3  [people, receive, wildfire, evacuation, order,...   \n",
       "4  [got, send, photo, ruby, alaska, smoke, wildfi...   \n",
       "\n",
       "                                               TFIDF  \n",
       "0  [0.0, 0.0, 0.0, 0.0, 0.0, 0.0, 0.0, 0.0, 0.0, ...  \n",
       "1  [0.0, 0.0, 0.0, 0.0, 0.0, 0.0, 0.0, 0.0, 0.0, ...  \n",
       "2  [0.0, 0.0, 0.0, 0.0, 0.0, 0.0, 0.0, 0.0, 0.0, ...  \n",
       "3  [0.0, 0.0, 0.0, 0.0, 0.0, 0.0, 0.0, 0.0, 0.0, ...  \n",
       "4  [0.0, 0.0, 0.0, 0.0, 0.0, 0.0, 0.0, 0.0, 0.0, ...  "
      ]
     },
     "metadata": {},
     "output_type": "display_data"
    },
    {
     "name": "stdout",
     "output_type": "stream",
     "text": [
      "\n",
      "Testing data\n"
     ]
    },
    {
     "data": {
      "text/html": [
       "<div>\n",
       "<style scoped>\n",
       "    .dataframe tbody tr th:only-of-type {\n",
       "        vertical-align: middle;\n",
       "    }\n",
       "\n",
       "    .dataframe tbody tr th {\n",
       "        vertical-align: top;\n",
       "    }\n",
       "\n",
       "    .dataframe thead th {\n",
       "        text-align: right;\n",
       "    }\n",
       "</style>\n",
       "<table border=\"1\" class=\"dataframe\">\n",
       "  <thead>\n",
       "    <tr style=\"text-align: right;\">\n",
       "      <th></th>\n",
       "      <th>text</th>\n",
       "      <th>target</th>\n",
       "      <th>clean_text</th>\n",
       "      <th>clean_text_tokenized</th>\n",
       "      <th>TFIDF</th>\n",
       "    </tr>\n",
       "  </thead>\n",
       "  <tbody>\n",
       "    <tr>\n",
       "      <th>0</th>\n",
       "      <td>Just happened a terrible car crash</td>\n",
       "      <td>1</td>\n",
       "      <td>happen terrible car crash</td>\n",
       "      <td>[happen, terrible, car, crash, [PAD], [PAD], [...</td>\n",
       "      <td>[0.0, 0.0, 0.0, 0.0, 0.0, 0.0, 0.0, 0.0, 0.0, ...</td>\n",
       "    </tr>\n",
       "    <tr>\n",
       "      <th>1</th>\n",
       "      <td>Heard about #earthquake is different cities, s...</td>\n",
       "      <td>1</td>\n",
       "      <td>hear earthquake different city stay safe</td>\n",
       "      <td>[hear, earthquake, different, city, stay, safe...</td>\n",
       "      <td>[0.0, 0.0, 0.0, 0.0, 0.0, 0.0, 0.0, 0.0, 0.0, ...</td>\n",
       "    </tr>\n",
       "    <tr>\n",
       "      <th>2</th>\n",
       "      <td>there is a forest fire at spot pond, geese are...</td>\n",
       "      <td>1</td>\n",
       "      <td>forest fire spot pond goose flee street save</td>\n",
       "      <td>[forest, fire, spot, pond, go, ose, flee, stre...</td>\n",
       "      <td>[0.0, 0.0, 0.0, 0.0, 0.0, 0.0, 0.0, 0.0, 0.0, ...</td>\n",
       "    </tr>\n",
       "    <tr>\n",
       "      <th>3</th>\n",
       "      <td>Apocalypse lighting. #Spokane #wildfires</td>\n",
       "      <td>1</td>\n",
       "      <td>apocalypse lighting spokane wildfire</td>\n",
       "      <td>[apocalypse, lighting, spokane, wildfire, [PAD...</td>\n",
       "      <td>[0.0, 0.0, 0.0, 0.0, 0.0, 0.0, 0.0, 0.0, 0.0, ...</td>\n",
       "    </tr>\n",
       "    <tr>\n",
       "      <th>4</th>\n",
       "      <td>Typhoon Soudelor kills 28 in China and Taiwan</td>\n",
       "      <td>1</td>\n",
       "      <td>typhoon soudelor kill china taiwan</td>\n",
       "      <td>[typhoon, soudelor, kill, china, taiwan, [PAD]...</td>\n",
       "      <td>[0.0, 0.0, 0.0, 0.0, 0.0, 0.0, 0.0, 0.0, 0.0, ...</td>\n",
       "    </tr>\n",
       "  </tbody>\n",
       "</table>\n",
       "</div>"
      ],
      "text/plain": [
       "                                                text  target  \\\n",
       "0                 Just happened a terrible car crash       1   \n",
       "1  Heard about #earthquake is different cities, s...       1   \n",
       "2  there is a forest fire at spot pond, geese are...       1   \n",
       "3           Apocalypse lighting. #Spokane #wildfires       1   \n",
       "4      Typhoon Soudelor kills 28 in China and Taiwan       1   \n",
       "\n",
       "                                     clean_text  \\\n",
       "0                     happen terrible car crash   \n",
       "1      hear earthquake different city stay safe   \n",
       "2  forest fire spot pond goose flee street save   \n",
       "3          apocalypse lighting spokane wildfire   \n",
       "4            typhoon soudelor kill china taiwan   \n",
       "\n",
       "                                clean_text_tokenized  \\\n",
       "0  [happen, terrible, car, crash, [PAD], [PAD], [...   \n",
       "1  [hear, earthquake, different, city, stay, safe...   \n",
       "2  [forest, fire, spot, pond, go, ose, flee, stre...   \n",
       "3  [apocalypse, lighting, spokane, wildfire, [PAD...   \n",
       "4  [typhoon, soudelor, kill, china, taiwan, [PAD]...   \n",
       "\n",
       "                                               TFIDF  \n",
       "0  [0.0, 0.0, 0.0, 0.0, 0.0, 0.0, 0.0, 0.0, 0.0, ...  \n",
       "1  [0.0, 0.0, 0.0, 0.0, 0.0, 0.0, 0.0, 0.0, 0.0, ...  \n",
       "2  [0.0, 0.0, 0.0, 0.0, 0.0, 0.0, 0.0, 0.0, 0.0, ...  \n",
       "3  [0.0, 0.0, 0.0, 0.0, 0.0, 0.0, 0.0, 0.0, 0.0, ...  \n",
       "4  [0.0, 0.0, 0.0, 0.0, 0.0, 0.0, 0.0, 0.0, 0.0, ...  "
      ]
     },
     "metadata": {},
     "output_type": "display_data"
    }
   ],
   "source": [
    "print('Training data')\n",
    "display(tweets_train.head())\n",
    "print()\n",
    "print('Testing data')\n",
    "display(tweets_test.head())"
   ]
  },
  {
   "cell_type": "markdown",
   "metadata": {},
   "source": [
    "### Word2Vec (CBOW and Skip-Gram)"
   ]
  },
  {
   "cell_type": "code",
   "execution_count": 126,
   "metadata": {},
   "outputs": [
    {
     "data": {
      "text/plain": [
       "(97446400, 97446400)"
      ]
     },
     "execution_count": 126,
     "metadata": {},
     "output_type": "execute_result"
    }
   ],
   "source": [
    "cbow_model = Word2Vec(sentences = None, vector_size = 512, window = 5, min_count = 1, workers = 4, sg = 0)\n",
    "#cbow_model.wv.key_to_index = BPETokenizer.tokenizer.get_vocab()\n",
    "cbow_model.wv.index_to_key = list(BPETokenizer.tokenizer.get_vocab().keys())\n",
    "# Set the vocabulary and initialize vectors\n",
    "cbow_model.build_vocab([list(BPETokenizer.tokenizer.get_vocab().keys())])\n",
    "cbow_model.train(corpus_iterable = tweets_train['clean_text_tokenized'].tolist(), total_examples = len(tweets_train['clean_text_tokenized']), epochs = 256)\n",
    "\n",
    "skipgram_model = Word2Vec(sentences = None, vector_size = 512, window = 5, min_count = 1, workers = 4, sg = 1)\n",
    "#cbow_model.wv.key_to_index = BPETokenizer.tokenizer.get_vocab()\n",
    "skipgram_model.wv.index_to_key = list(BPETokenizer.tokenizer.get_vocab().keys())\n",
    "# Set the vocabulary and initialize vectors\n",
    "skipgram_model.build_vocab([list(BPETokenizer.tokenizer.get_vocab().keys())])\n",
    "skipgram_model.train(corpus_iterable = tweets_train['clean_text_tokenized'].tolist(), total_examples = len(tweets_train['clean_text_tokenized']), epochs = 256)"
   ]
  },
  {
   "cell_type": "code",
   "execution_count": 127,
   "metadata": {},
   "outputs": [],
   "source": [
    "def string2embedding_idx(tokens, model):\n",
    "    \"\"\"\n",
    "    Convert a list of tokens to their corresponding embedding indices.\n",
    "\n",
    "    Args:\n",
    "    - tokens (list): List of tokens.\n",
    "    - model (Word2Vec): Gensim Word2Vec model.\n",
    "\n",
    "    Returns:\n",
    "    - list: List of embedding indices.\n",
    "    \"\"\"\n",
    "    # Filter out tokens not in the vocabulary\n",
    "    #tokens = [token for token in tokens if token in model.wv.key_to_index]\n",
    "\n",
    "    # Convert tokens to their embedding indices\n",
    "    embedding_indices = [model.wv.key_to_index[token] for token in tokens]\n",
    "\n",
    "    return embedding_indices"
   ]
  },
  {
   "cell_type": "code",
   "execution_count": 128,
   "metadata": {},
   "outputs": [],
   "source": [
    "# Apply the string2embedding_idx function to create a new column\n",
    "tweets_train['CBOW_sequences'] = tweets_train['clean_text_tokenized'].apply(lambda tokens: string2embedding_idx(tokens, cbow_model))\n",
    "tweets_train['SkipGram_sequences'] = tweets_train['clean_text_tokenized'].apply(lambda tokens: string2embedding_idx(tokens, skipgram_model))\n",
    "tweets_test['CBOW_sequences'] = tweets_test['clean_text_tokenized'].apply(lambda tokens: string2embedding_idx(tokens, cbow_model))\n",
    "tweets_test['SkipGram_sequences'] = tweets_test['clean_text_tokenized'].apply(lambda tokens: string2embedding_idx(tokens, skipgram_model))"
   ]
  },
  {
   "cell_type": "code",
   "execution_count": 13,
   "metadata": {
    "ExecuteTime": {
     "end_time": "2023-12-21T15:34:07.773767Z",
     "start_time": "2023-12-21T15:33:29.941367700Z"
    }
   },
   "outputs": [],
   "source": [
    "'''# Train Word2Vec model\n",
    "cbow_model = Word2Vec(sentences = tweets_train['clean_text_tokenized'], vector_size = 1024, window = 5, min_count = 1, workers = 4, sg = 0, epochs = 256)\n",
    "# Add the <pad> token to the cbow_model so that the last token is the <pad> token\n",
    "cbow_model.wv.key_to_index['<pad>'] = len(cbow_model.wv)\n",
    "# Add the embedding of <pad> token to the cbow_model\n",
    "cbow_model.wv.vectors = np.append(cbow_model.wv.vectors, np.zeros((1, 1024)), axis=0)\n",
    "\n",
    "\n",
    "skipgram_model = Word2Vec(sentences = tweets_train['clean_text_tokenized'], vector_size = 1024, window = 5, min_count = 1, workers = 4, sg = 1, epochs = 256)\n",
    "# Add the <pad> token to the skipgram_model so that the last token is the <pad> token\n",
    "skipgram_model.wv.key_to_index['<pad>'] = len(skipgram_model.wv)\n",
    "# Add the embedding of <pad> token to the skipgram_model\n",
    "skipgram_model.wv.vectors = np.append(skipgram_model.wv.vectors, np.zeros((1, 1024)), axis=0)\n",
    "\n",
    "# Add the <pad> token to all the tokenized text until the length of each tokenized text is 50\n",
    "tweets_train['clean_text_tokenized'] = tweets_train['clean_text_tokenized'].apply(lambda tokens: tokens + ['<pad>'] * (45 - len(tokens)))\n",
    "tweets_test['clean_text_tokenized'] = tweets_test['clean_text_tokenized'].apply(lambda tokens: tokens + ['<pad>'] * (45 - len(tokens)))\n",
    "\n",
    "# Apply the string2embedding_idx function to create a new column\n",
    "tweets_train['CBOW_sequences'] = tweets_train['clean_text_tokenized'].apply(lambda tokens: string2embedding_idx(tokens, cbow_model))\n",
    "tweets_train['SkipGram_sequences'] = tweets_train['clean_text_tokenized'].apply(lambda tokens: string2embedding_idx(tokens, skipgram_model))\n",
    "tweets_test['CBOW_sequences'] = tweets_test['clean_text_tokenized'].apply(lambda tokens: string2embedding_idx(tokens, cbow_model))\n",
    "tweets_test['SkipGram_sequences'] = tweets_test['clean_text_tokenized'].apply(lambda tokens: string2embedding_idx(tokens, skipgram_model))'''"
   ]
  },
  {
   "cell_type": "code",
   "execution_count": 129,
   "metadata": {
    "ExecuteTime": {
     "end_time": "2023-12-21T15:34:36.442786700Z",
     "start_time": "2023-12-21T15:34:36.381065300Z"
    }
   },
   "outputs": [
    {
     "name": "stdout",
     "output_type": "stream",
     "text": [
      "Training data\n"
     ]
    },
    {
     "data": {
      "text/html": [
       "<div>\n",
       "<style scoped>\n",
       "    .dataframe tbody tr th:only-of-type {\n",
       "        vertical-align: middle;\n",
       "    }\n",
       "\n",
       "    .dataframe tbody tr th {\n",
       "        vertical-align: top;\n",
       "    }\n",
       "\n",
       "    .dataframe thead th {\n",
       "        text-align: right;\n",
       "    }\n",
       "</style>\n",
       "<table border=\"1\" class=\"dataframe\">\n",
       "  <thead>\n",
       "    <tr style=\"text-align: right;\">\n",
       "      <th></th>\n",
       "      <th>text</th>\n",
       "      <th>target</th>\n",
       "      <th>clean_text</th>\n",
       "      <th>clean_text_tokenized</th>\n",
       "      <th>TFIDF</th>\n",
       "      <th>CBOW_sequences</th>\n",
       "      <th>SkipGram_sequences</th>\n",
       "    </tr>\n",
       "  </thead>\n",
       "  <tbody>\n",
       "    <tr>\n",
       "      <th>0</th>\n",
       "      <td>Our Deeds are the Reason of this #earthquake M...</td>\n",
       "      <td>1</td>\n",
       "      <td>deed reason earthquake allah forgive</td>\n",
       "      <td>[deed, reason, earthquake, allah, forgive, [PA...</td>\n",
       "      <td>[0.0, 0.0, 0.0, 0.0, 0.0, 0.0, 0.0, 0.0, 0.0, ...</td>\n",
       "      <td>[10567, 17090, 17411, 12887, 6705, 12356, 1235...</td>\n",
       "      <td>[10567, 17090, 17411, 12887, 6705, 12356, 1235...</td>\n",
       "    </tr>\n",
       "    <tr>\n",
       "      <th>1</th>\n",
       "      <td>Forest fire near La Ronge Sask. Canada</td>\n",
       "      <td>1</td>\n",
       "      <td>forest fire near la ronge sask canada</td>\n",
       "      <td>[forest, fire, near, la, ronge, sask, canada, ...</td>\n",
       "      <td>[0.0, 0.0, 0.0, 0.0, 0.0, 0.0, 0.0, 0.0, 0.0, ...</td>\n",
       "      <td>[12585, 107, 1867, 1096, 17855, 5734, 15899, 1...</td>\n",
       "      <td>[12585, 107, 1867, 1096, 17855, 5734, 15899, 1...</td>\n",
       "    </tr>\n",
       "    <tr>\n",
       "      <th>2</th>\n",
       "      <td>All residents asked to 'shelter in place' are ...</td>\n",
       "      <td>1</td>\n",
       "      <td>resident ask shelter place notify officer evac...</td>\n",
       "      <td>[resident, ask, shelter, place, notify, office...</td>\n",
       "      <td>[0.0, 0.0, 0.0, 0.0, 0.0, 0.0, 0.0, 0.0, 0.0, ...</td>\n",
       "      <td>[8964, 15880, 13162, 16317, 1072, 2498, 9713, ...</td>\n",
       "      <td>[8964, 15880, 13162, 16317, 1072, 2498, 9713, ...</td>\n",
       "    </tr>\n",
       "    <tr>\n",
       "      <th>3</th>\n",
       "      <td>13,000 people receive #wildfires evacuation or...</td>\n",
       "      <td>1</td>\n",
       "      <td>people receive wildfire evacuation order cal...</td>\n",
       "      <td>[people, receive, wildfire, evacuation, order,...</td>\n",
       "      <td>[0.0, 0.0, 0.0, 0.0, 0.0, 0.0, 0.0, 0.0, 0.0, ...</td>\n",
       "      <td>[3564, 607, 13136, 9713, 9086, 10537, 12356, 1...</td>\n",
       "      <td>[3564, 607, 13136, 9713, 9086, 10537, 12356, 1...</td>\n",
       "    </tr>\n",
       "    <tr>\n",
       "      <th>4</th>\n",
       "      <td>Just got sent this photo from Ruby #Alaska as ...</td>\n",
       "      <td>1</td>\n",
       "      <td>got send photo ruby alaska smoke wildfire pour...</td>\n",
       "      <td>[got, send, photo, ruby, alaska, smoke, wildfi...</td>\n",
       "      <td>[0.0, 0.0, 0.0, 0.0, 0.0, 0.0, 0.0, 0.0, 0.0, ...</td>\n",
       "      <td>[6022, 8003, 12391, 8330, 6801, 6357, 13136, 1...</td>\n",
       "      <td>[6022, 8003, 12391, 8330, 6801, 6357, 13136, 1...</td>\n",
       "    </tr>\n",
       "  </tbody>\n",
       "</table>\n",
       "</div>"
      ],
      "text/plain": [
       "                                                text  target  \\\n",
       "0  Our Deeds are the Reason of this #earthquake M...       1   \n",
       "1             Forest fire near La Ronge Sask. Canada       1   \n",
       "2  All residents asked to 'shelter in place' are ...       1   \n",
       "3  13,000 people receive #wildfires evacuation or...       1   \n",
       "4  Just got sent this photo from Ruby #Alaska as ...       1   \n",
       "\n",
       "                                          clean_text  \\\n",
       "0               deed reason earthquake allah forgive   \n",
       "1              forest fire near la ronge sask canada   \n",
       "2  resident ask shelter place notify officer evac...   \n",
       "3    people receive wildfire evacuation order cal...   \n",
       "4  got send photo ruby alaska smoke wildfire pour...   \n",
       "\n",
       "                                clean_text_tokenized  \\\n",
       "0  [deed, reason, earthquake, allah, forgive, [PA...   \n",
       "1  [forest, fire, near, la, ronge, sask, canada, ...   \n",
       "2  [resident, ask, shelter, place, notify, office...   \n",
       "3  [people, receive, wildfire, evacuation, order,...   \n",
       "4  [got, send, photo, ruby, alaska, smoke, wildfi...   \n",
       "\n",
       "                                               TFIDF  \\\n",
       "0  [0.0, 0.0, 0.0, 0.0, 0.0, 0.0, 0.0, 0.0, 0.0, ...   \n",
       "1  [0.0, 0.0, 0.0, 0.0, 0.0, 0.0, 0.0, 0.0, 0.0, ...   \n",
       "2  [0.0, 0.0, 0.0, 0.0, 0.0, 0.0, 0.0, 0.0, 0.0, ...   \n",
       "3  [0.0, 0.0, 0.0, 0.0, 0.0, 0.0, 0.0, 0.0, 0.0, ...   \n",
       "4  [0.0, 0.0, 0.0, 0.0, 0.0, 0.0, 0.0, 0.0, 0.0, ...   \n",
       "\n",
       "                                      CBOW_sequences  \\\n",
       "0  [10567, 17090, 17411, 12887, 6705, 12356, 1235...   \n",
       "1  [12585, 107, 1867, 1096, 17855, 5734, 15899, 1...   \n",
       "2  [8964, 15880, 13162, 16317, 1072, 2498, 9713, ...   \n",
       "3  [3564, 607, 13136, 9713, 9086, 10537, 12356, 1...   \n",
       "4  [6022, 8003, 12391, 8330, 6801, 6357, 13136, 1...   \n",
       "\n",
       "                                  SkipGram_sequences  \n",
       "0  [10567, 17090, 17411, 12887, 6705, 12356, 1235...  \n",
       "1  [12585, 107, 1867, 1096, 17855, 5734, 15899, 1...  \n",
       "2  [8964, 15880, 13162, 16317, 1072, 2498, 9713, ...  \n",
       "3  [3564, 607, 13136, 9713, 9086, 10537, 12356, 1...  \n",
       "4  [6022, 8003, 12391, 8330, 6801, 6357, 13136, 1...  "
      ]
     },
     "metadata": {},
     "output_type": "display_data"
    },
    {
     "name": "stdout",
     "output_type": "stream",
     "text": [
      "\n",
      "Testing data\n"
     ]
    },
    {
     "data": {
      "text/html": [
       "<div>\n",
       "<style scoped>\n",
       "    .dataframe tbody tr th:only-of-type {\n",
       "        vertical-align: middle;\n",
       "    }\n",
       "\n",
       "    .dataframe tbody tr th {\n",
       "        vertical-align: top;\n",
       "    }\n",
       "\n",
       "    .dataframe thead th {\n",
       "        text-align: right;\n",
       "    }\n",
       "</style>\n",
       "<table border=\"1\" class=\"dataframe\">\n",
       "  <thead>\n",
       "    <tr style=\"text-align: right;\">\n",
       "      <th></th>\n",
       "      <th>text</th>\n",
       "      <th>target</th>\n",
       "      <th>clean_text</th>\n",
       "      <th>clean_text_tokenized</th>\n",
       "      <th>TFIDF</th>\n",
       "      <th>CBOW_sequences</th>\n",
       "      <th>SkipGram_sequences</th>\n",
       "    </tr>\n",
       "  </thead>\n",
       "  <tbody>\n",
       "    <tr>\n",
       "      <th>0</th>\n",
       "      <td>Just happened a terrible car crash</td>\n",
       "      <td>1</td>\n",
       "      <td>happen terrible car crash</td>\n",
       "      <td>[happen, terrible, car, crash, [PAD], [PAD], [...</td>\n",
       "      <td>[0.0, 0.0, 0.0, 0.0, 0.0, 0.0, 0.0, 0.0, 0.0, ...</td>\n",
       "      <td>[3839, 15965, 11160, 9494, 12356, 12356, 12356...</td>\n",
       "      <td>[3839, 15965, 11160, 9494, 12356, 12356, 12356...</td>\n",
       "    </tr>\n",
       "    <tr>\n",
       "      <th>1</th>\n",
       "      <td>Heard about #earthquake is different cities, s...</td>\n",
       "      <td>1</td>\n",
       "      <td>hear earthquake different city stay safe</td>\n",
       "      <td>[hear, earthquake, different, city, stay, safe...</td>\n",
       "      <td>[0.0, 0.0, 0.0, 0.0, 0.0, 0.0, 0.0, 0.0, 0.0, ...</td>\n",
       "      <td>[8378, 17411, 4065, 4495, 6403, 3220, 12356, 1...</td>\n",
       "      <td>[8378, 17411, 4065, 4495, 6403, 3220, 12356, 1...</td>\n",
       "    </tr>\n",
       "    <tr>\n",
       "      <th>2</th>\n",
       "      <td>there is a forest fire at spot pond, geese are...</td>\n",
       "      <td>1</td>\n",
       "      <td>forest fire spot pond goose flee street save</td>\n",
       "      <td>[forest, fire, spot, pond, go, ose, flee, stre...</td>\n",
       "      <td>[0.0, 0.0, 0.0, 0.0, 0.0, 0.0, 0.0, 0.0, 0.0, ...</td>\n",
       "      <td>[12585, 107, 13552, 5031, 3866, 11610, 19225, ...</td>\n",
       "      <td>[12585, 107, 13552, 5031, 3866, 11610, 19225, ...</td>\n",
       "    </tr>\n",
       "    <tr>\n",
       "      <th>3</th>\n",
       "      <td>Apocalypse lighting. #Spokane #wildfires</td>\n",
       "      <td>1</td>\n",
       "      <td>apocalypse lighting spokane wildfire</td>\n",
       "      <td>[apocalypse, lighting, spokane, wildfire, [PAD...</td>\n",
       "      <td>[0.0, 0.0, 0.0, 0.0, 0.0, 0.0, 0.0, 0.0, 0.0, ...</td>\n",
       "      <td>[8688, 11255, 5438, 13136, 12356, 12356, 12356...</td>\n",
       "      <td>[8688, 11255, 5438, 13136, 12356, 12356, 12356...</td>\n",
       "    </tr>\n",
       "    <tr>\n",
       "      <th>4</th>\n",
       "      <td>Typhoon Soudelor kills 28 in China and Taiwan</td>\n",
       "      <td>1</td>\n",
       "      <td>typhoon soudelor kill china taiwan</td>\n",
       "      <td>[typhoon, soudelor, kill, china, taiwan, [PAD]...</td>\n",
       "      <td>[0.0, 0.0, 0.0, 0.0, 0.0, 0.0, 0.0, 0.0, 0.0, ...</td>\n",
       "      <td>[14202, 9045, 5837, 6881, 18675, 12356, 12356,...</td>\n",
       "      <td>[14202, 9045, 5837, 6881, 18675, 12356, 12356,...</td>\n",
       "    </tr>\n",
       "  </tbody>\n",
       "</table>\n",
       "</div>"
      ],
      "text/plain": [
       "                                                text  target  \\\n",
       "0                 Just happened a terrible car crash       1   \n",
       "1  Heard about #earthquake is different cities, s...       1   \n",
       "2  there is a forest fire at spot pond, geese are...       1   \n",
       "3           Apocalypse lighting. #Spokane #wildfires       1   \n",
       "4      Typhoon Soudelor kills 28 in China and Taiwan       1   \n",
       "\n",
       "                                     clean_text  \\\n",
       "0                     happen terrible car crash   \n",
       "1      hear earthquake different city stay safe   \n",
       "2  forest fire spot pond goose flee street save   \n",
       "3          apocalypse lighting spokane wildfire   \n",
       "4            typhoon soudelor kill china taiwan   \n",
       "\n",
       "                                clean_text_tokenized  \\\n",
       "0  [happen, terrible, car, crash, [PAD], [PAD], [...   \n",
       "1  [hear, earthquake, different, city, stay, safe...   \n",
       "2  [forest, fire, spot, pond, go, ose, flee, stre...   \n",
       "3  [apocalypse, lighting, spokane, wildfire, [PAD...   \n",
       "4  [typhoon, soudelor, kill, china, taiwan, [PAD]...   \n",
       "\n",
       "                                               TFIDF  \\\n",
       "0  [0.0, 0.0, 0.0, 0.0, 0.0, 0.0, 0.0, 0.0, 0.0, ...   \n",
       "1  [0.0, 0.0, 0.0, 0.0, 0.0, 0.0, 0.0, 0.0, 0.0, ...   \n",
       "2  [0.0, 0.0, 0.0, 0.0, 0.0, 0.0, 0.0, 0.0, 0.0, ...   \n",
       "3  [0.0, 0.0, 0.0, 0.0, 0.0, 0.0, 0.0, 0.0, 0.0, ...   \n",
       "4  [0.0, 0.0, 0.0, 0.0, 0.0, 0.0, 0.0, 0.0, 0.0, ...   \n",
       "\n",
       "                                      CBOW_sequences  \\\n",
       "0  [3839, 15965, 11160, 9494, 12356, 12356, 12356...   \n",
       "1  [8378, 17411, 4065, 4495, 6403, 3220, 12356, 1...   \n",
       "2  [12585, 107, 13552, 5031, 3866, 11610, 19225, ...   \n",
       "3  [8688, 11255, 5438, 13136, 12356, 12356, 12356...   \n",
       "4  [14202, 9045, 5837, 6881, 18675, 12356, 12356,...   \n",
       "\n",
       "                                  SkipGram_sequences  \n",
       "0  [3839, 15965, 11160, 9494, 12356, 12356, 12356...  \n",
       "1  [8378, 17411, 4065, 4495, 6403, 3220, 12356, 1...  \n",
       "2  [12585, 107, 13552, 5031, 3866, 11610, 19225, ...  \n",
       "3  [8688, 11255, 5438, 13136, 12356, 12356, 12356...  \n",
       "4  [14202, 9045, 5837, 6881, 18675, 12356, 12356,...  "
      ]
     },
     "metadata": {},
     "output_type": "display_data"
    }
   ],
   "source": [
    "print('Training data')\n",
    "display(tweets_train.head())\n",
    "print()\n",
    "print('Testing data')\n",
    "display(tweets_test.head())"
   ]
  },
  {
   "cell_type": "code",
   "execution_count": 130,
   "metadata": {
    "ExecuteTime": {
     "end_time": "2023-12-21T15:34:38.609225400Z",
     "start_time": "2023-12-21T15:34:37.441115300Z"
    }
   },
   "outputs": [
    {
     "data": {
      "image/png": "[encoded data removed]",
      "text/plain": [
       "<Figure size 640x480 with 1 Axes>"
      ]
     },
     "metadata": {},
     "output_type": "display_data"
    }
   ],
   "source": [
    "TSNE_10ClosestWords(cbow_model, 'earthquake', 512)"
   ]
  },
  {
   "cell_type": "code",
   "execution_count": 131,
   "metadata": {
    "ExecuteTime": {
     "end_time": "2023-12-21T15:34:39.868591200Z",
     "start_time": "2023-12-21T15:34:39.426708900Z"
    }
   },
   "outputs": [
    {
     "data": {
      "image/png": "[encoded data removed]",
      "text/plain": [
       "<Figure size 640x480 with 1 Axes>"
      ]
     },
     "metadata": {},
     "output_type": "display_data"
    }
   ],
   "source": [
    "TSNE_10ClosestWords(skipgram_model, 'earthquake', 512)"
   ]
  },
  {
   "cell_type": "code",
   "execution_count": 132,
   "metadata": {
    "ExecuteTime": {
     "end_time": "2023-12-21T15:34:40.997210400Z",
     "start_time": "2023-12-21T15:34:40.562299400Z"
    }
   },
   "outputs": [
    {
     "data": {
      "image/png": "[encoded data removed]",
      "text/plain": [
       "<Figure size 640x480 with 1 Axes>"
      ]
     },
     "metadata": {},
     "output_type": "display_data"
    }
   ],
   "source": [
    "TSNE_10ClosestWords(cbow_model, 'disaster', 512)"
   ]
  },
  {
   "cell_type": "code",
   "execution_count": 133,
   "metadata": {
    "ExecuteTime": {
     "end_time": "2023-12-21T15:34:42.087371100Z",
     "start_time": "2023-12-21T15:34:41.642630900Z"
    }
   },
   "outputs": [
    {
     "data": {
      "image/png": "[encoded data removed]",
      "text/plain": [
       "<Figure size 640x480 with 1 Axes>"
      ]
     },
     "metadata": {},
     "output_type": "display_data"
    }
   ],
   "source": [
    "TSNE_10ClosestWords(skipgram_model, 'disaster', 512)"
   ]
  },
  {
   "cell_type": "markdown",
   "metadata": {},
   "source": [
    "# Loading and Testing our Pre-Trained Embeddings to the PyTorch's Embedding layer"
   ]
  },
  {
   "cell_type": "code",
   "execution_count": 134,
   "metadata": {
    "ExecuteTime": {
     "end_time": "2023-12-21T15:34:46.149953400Z",
     "start_time": "2023-12-21T15:34:46.078377300Z"
    }
   },
   "outputs": [
    {
     "data": {
      "text/plain": [
       "Parameter containing:\n",
       "tensor([[-5.0731e-01,  7.5852e-02, -1.1329e-01,  ..., -4.4345e-01,\n",
       "          3.6930e-01,  7.5587e-02],\n",
       "        [ 3.1537e-02, -2.5761e-02, -6.0394e-02,  ...,  7.5270e-03,\n",
       "          1.0388e-01, -7.0228e-02],\n",
       "        [-2.8784e-01, -1.2370e-01, -1.8160e-03,  ..., -2.6632e-01,\n",
       "         -8.1540e-02,  1.0816e-01],\n",
       "        ...,\n",
       "        [-1.3160e-03, -4.5204e-04,  5.7964e-04,  ..., -8.5001e-04,\n",
       "          9.7234e-04,  1.9003e-03],\n",
       "        [-2.0624e-01, -2.0519e-02,  2.6044e-02,  ...,  8.5239e-02,\n",
       "          1.5685e-01,  7.6616e-02],\n",
       "        [-1.8469e-01,  4.5949e-02,  1.4662e-01,  ..., -3.0854e-01,\n",
       "         -1.4936e-01, -3.3686e-02]])"
      ]
     },
     "execution_count": 134,
     "metadata": {},
     "output_type": "execute_result"
    }
   ],
   "source": [
    "# create embedding layer with pre-trained weights\n",
    "pretrained_embeddings_layer = torch.nn.Embedding.from_pretrained(torch.FloatTensor(skipgram_model.wv.vectors))\n",
    "# check weights of the pre-trained embedding layer\n",
    "pretrained_embeddings_layer.weight"
   ]
  },
  {
   "cell_type": "code",
   "execution_count": 135,
   "metadata": {
    "ExecuteTime": {
     "end_time": "2023-12-21T15:34:46.893954100Z",
     "start_time": "2023-12-21T15:34:46.867690500Z"
    }
   },
   "outputs": [
    {
     "data": {
      "text/plain": [
       "(tensor([10567, 17090, 17411, 12887,  6705, 12356, 12356, 12356, 12356, 12356,\n",
       "         12356, 12356, 12356, 12356, 12356, 12356, 12356, 12356, 12356, 12356,\n",
       "         12356, 12356, 12356, 12356, 12356, 12356, 12356, 12356, 12356, 12356,\n",
       "         12356, 12356, 12356, 12356, 12356, 12356, 12356, 12356, 12356, 12356,\n",
       "         12356, 12356, 12356, 12356, 12356, 12356, 12356, 12356, 12356, 12356]),\n",
       " tensor([1.]))"
      ]
     },
     "execution_count": 135,
     "metadata": {},
     "output_type": "execute_result"
    }
   ],
   "source": [
    "TrainTweetsDataset = TweetsDataset(tweets_train, 'skipgram')\n",
    "TrainTweetsDataset[0]"
   ]
  },
  {
   "cell_type": "code",
   "execution_count": 136,
   "metadata": {
    "ExecuteTime": {
     "end_time": "2023-12-21T15:34:48.356003700Z",
     "start_time": "2023-12-21T15:34:48.329539400Z"
    }
   },
   "outputs": [
    {
     "name": "stdout",
     "output_type": "stream",
     "text": [
      "Embedding of the first token:          tensor([-3.9371e-01, -1.1980e-01,  1.1813e-01, -2.8433e-01, -7.5813e-02,\n",
      "        -4.2028e-01,  3.1487e-01, -2.3130e-02, -2.3645e-01, -1.4021e-01,\n",
      "        -2.4358e-01, -2.4396e-01, -4.7679e-02, -3.0591e-01,  5.4786e-02,\n",
      "        -3.1441e-02, -7.2947e-01,  1.9720e-01,  3.6674e-01,  2.2637e-02,\n",
      "        -2.6352e-01, -2.6901e-01, -2.1950e-01, -2.3007e-02, -4.4575e-01,\n",
      "        -4.0512e-01, -5.1890e-02,  1.7410e-01,  1.3925e-01,  2.1854e-01,\n",
      "         1.0626e-01, -1.4575e-01,  1.7065e-01,  1.9407e-01,  4.9148e-02,\n",
      "        -1.9354e-01,  1.3097e-01,  5.3276e-02,  3.9240e-02, -1.9900e-04,\n",
      "         9.7612e-03,  4.3491e-02, -7.3982e-02,  2.5682e-02,  1.1152e-01,\n",
      "        -3.8208e-02, -2.0727e-01,  3.7191e-01,  1.2214e-01, -2.8391e-01,\n",
      "         7.0827e-02, -1.3308e-01, -4.1310e-01, -1.8449e-01, -3.9741e-01,\n",
      "        -8.3091e-02,  1.6264e-01, -2.8553e-01, -5.9275e-02, -1.4996e-02,\n",
      "         3.7002e-01,  4.0950e-01, -4.8001e-03,  2.4244e-02, -1.2979e-01,\n",
      "        -1.0511e-01, -2.6302e-01, -1.8477e-01, -9.0162e-02, -6.1414e-02,\n",
      "         4.3911e-02,  3.0256e-01,  2.4366e-02, -3.5996e-02, -3.7669e-03,\n",
      "        -5.6711e-02, -5.7067e-02,  5.1336e-01, -1.3873e-01, -3.7994e-01,\n",
      "         1.1686e-02, -2.3412e-01, -1.8529e-01,  1.2872e-01, -3.3212e-02,\n",
      "        -8.4163e-03, -3.0649e-02, -6.2348e-02, -3.1172e-02,  3.3331e-02,\n",
      "         1.1795e-01, -4.6612e-02, -3.2230e-01, -1.4410e-01,  1.5001e-01,\n",
      "        -8.2309e-02, -3.2232e-02, -5.0491e-02, -1.4001e-01, -3.1539e-01,\n",
      "        -5.4330e-02,  7.3366e-02, -8.8960e-02, -1.1886e-01,  3.4364e-01,\n",
      "        -2.5519e-01,  2.1927e-01,  6.0497e-02,  4.2019e-02,  1.3579e-01,\n",
      "        -2.4538e-01,  7.1228e-02,  1.1174e-01,  1.1585e-01,  3.7800e-02,\n",
      "         2.9486e-02, -1.3519e-01,  2.8950e-01,  1.2530e-01, -1.9786e-01,\n",
      "        -7.4543e-02, -2.4796e-02,  1.2715e-01,  3.0212e-01,  7.1372e-02,\n",
      "        -1.5228e-02,  1.6775e-01,  2.0364e-02, -7.3691e-02,  1.8218e-02,\n",
      "         1.0563e-01, -7.4879e-02,  1.3248e-01, -1.8287e-02, -4.1433e-04,\n",
      "         3.4605e-02, -1.2427e-01, -2.4629e-02,  2.7399e-01, -6.5340e-02,\n",
      "         1.1366e-01, -2.2596e-01,  1.1838e-01,  6.9051e-03,  7.4093e-02,\n",
      "         9.0145e-02,  2.0488e-01,  2.3073e-01,  3.4596e-01,  1.1953e-01,\n",
      "         1.6917e-01,  3.1729e-01,  2.7866e-01, -2.6624e-01, -1.8585e-01,\n",
      "         1.7154e-01,  5.4121e-02,  4.0046e-01, -5.8891e-02, -1.8194e-01,\n",
      "         1.3057e-01, -1.6062e-01,  3.8594e-02, -5.0015e-02,  2.8520e-01,\n",
      "        -2.8009e-01, -4.3453e-02,  3.9233e-02, -3.3118e-01, -1.6004e-01,\n",
      "         4.8436e-02,  2.0983e-01,  8.5848e-02,  1.3016e-01, -8.7658e-02,\n",
      "         2.1644e-01, -1.3878e-01, -1.9527e-01, -6.9879e-02,  1.4734e-01,\n",
      "        -1.6084e-01,  2.0154e-02,  1.9413e-01, -4.8370e-02, -1.6506e-01,\n",
      "         1.3545e-01, -2.5221e-01, -5.5176e-02,  3.9294e-02,  8.4238e-02,\n",
      "         1.7837e-01,  3.9403e-01,  8.0283e-03,  4.3885e-01, -1.3574e-01,\n",
      "        -2.2628e-01,  2.2928e-01,  1.1586e-03,  1.5932e-01,  9.3592e-03,\n",
      "         1.6090e-01, -1.6678e-01, -2.4486e-01, -3.1871e-01, -5.2609e-02,\n",
      "         7.8809e-02, -1.3223e-01, -6.7644e-02,  2.7957e-01, -1.2416e-02,\n",
      "         3.0884e-01, -9.1906e-02, -5.9404e-02, -1.9800e-01,  1.4609e-01,\n",
      "        -2.3219e-01,  1.0614e-01, -1.1528e-01, -1.3702e-02,  2.7709e-03,\n",
      "         1.2346e-02, -1.1256e-02,  1.4913e-01,  1.3421e-01,  9.3848e-02,\n",
      "        -3.1444e-01, -1.3934e-02,  2.2432e-01,  3.1908e-04,  6.2197e-02,\n",
      "         4.9416e-02,  1.4136e-01, -1.3488e-01,  3.0388e-01, -1.4064e-01,\n",
      "        -1.7100e-02, -3.6816e-01, -3.4560e-03,  1.0799e-01, -1.9603e-01,\n",
      "        -1.5230e-01, -6.0667e-02,  3.0189e-02,  2.3711e-01, -2.1275e-02,\n",
      "         7.2902e-02, -2.0988e-01, -1.6165e-02,  5.8038e-02, -3.6078e-01,\n",
      "         4.7466e-03, -5.5086e-02,  1.5866e-01, -2.1624e-01, -2.1334e-01,\n",
      "         1.5398e-01, -1.5119e-01,  9.8332e-02, -9.0171e-02, -2.6636e-01,\n",
      "         8.2899e-02, -5.4997e-02,  2.8476e-01, -9.7640e-02,  7.6473e-02,\n",
      "        -2.0659e-01,  5.3419e-02,  7.8696e-02,  8.0115e-02,  7.4026e-02,\n",
      "         3.3431e-02, -2.6063e-01,  3.4343e-02,  2.7044e-01, -4.4733e-02,\n",
      "         1.5026e-01,  1.6450e-01,  6.2991e-02, -1.2138e-01, -1.5149e-01,\n",
      "         5.1994e-02,  1.1049e-01, -8.6898e-02, -1.9140e-01,  3.1442e-01,\n",
      "        -3.0537e-02,  2.2161e-01,  1.8417e-01,  1.6173e-01, -2.8067e-01,\n",
      "         1.5584e-01,  1.2379e-01,  2.1767e-01, -1.8524e-01, -1.2053e-01,\n",
      "         8.6635e-02,  3.4654e-02,  2.8696e-01, -1.3945e-01, -3.1698e-02,\n",
      "         1.8138e-01, -3.8685e-02,  2.5850e-02, -1.4246e-01,  1.2247e-01,\n",
      "         1.0489e-01,  1.7636e-01, -1.9918e-02,  2.7086e-01,  1.1989e-01,\n",
      "         3.2286e-01, -1.9351e-01,  5.8541e-02,  2.3863e-01,  1.5153e-01,\n",
      "         8.7618e-02, -1.7820e-01,  3.4503e-02, -1.2963e-01,  3.2500e-01,\n",
      "        -1.6073e-01, -1.2833e-01, -1.7822e-01, -1.6746e-01,  8.8169e-02,\n",
      "        -1.1419e-01,  1.2569e-01, -2.7392e-01,  3.3681e-01, -1.9802e-01,\n",
      "         1.1818e-01, -1.6436e-02, -6.0319e-02, -7.4947e-02,  7.3571e-02,\n",
      "        -5.0374e-02, -1.1688e-01, -5.3500e-02,  2.1505e-01, -4.1380e-01,\n",
      "         7.9682e-02, -1.3507e-01,  3.0444e-02, -1.7380e-02,  2.2797e-03,\n",
      "        -1.3878e-01, -1.9204e-01, -3.5653e-01, -1.3982e-01, -2.7241e-02,\n",
      "        -2.7884e-02, -2.7440e-01, -8.4746e-02, -1.2606e-01, -1.0253e-01,\n",
      "         3.4218e-01, -2.1857e-01,  1.0948e-01, -9.5236e-02, -3.5051e-01,\n",
      "         8.3217e-02,  2.4193e-02,  1.3334e-01, -1.5510e-01, -3.1771e-02,\n",
      "        -1.2744e-01, -1.2896e-01,  2.4917e-02,  1.1668e-01,  1.9382e-01,\n",
      "         2.1733e-01,  3.2032e-01, -2.2035e-01, -1.5690e-01,  3.0553e-01,\n",
      "         8.6525e-02, -2.2966e-01, -4.0272e-02,  3.6639e-05,  1.4360e-01,\n",
      "        -2.1480e-03,  1.7345e-01,  2.3102e-01, -7.8231e-02,  2.6349e-01,\n",
      "        -9.5431e-03,  2.1114e-01,  4.5274e-02,  3.3064e-01, -7.8475e-02,\n",
      "         5.7151e-02,  3.4173e-01,  1.7329e-01, -2.2461e-01, -2.3126e-01,\n",
      "        -3.9186e-02,  3.5847e-02, -2.1098e-01,  8.7273e-02,  2.8787e-02,\n",
      "         2.4707e-01,  9.2340e-02,  2.2928e-01, -2.5392e-02, -1.1907e-01,\n",
      "         2.6775e-01, -8.4903e-02, -3.1108e-01, -1.6755e-01, -3.3051e-02,\n",
      "        -1.6803e-01, -1.8032e-01, -1.1589e-01, -2.7006e-01, -1.1550e-01,\n",
      "         1.0406e-01, -2.5911e-01,  6.2868e-02,  1.9997e-02,  4.7422e-03,\n",
      "         1.9301e-01, -3.5847e-01,  1.3131e-01,  2.8150e-01, -2.2066e-02,\n",
      "        -4.4261e-02, -1.7197e-01,  3.2093e-01, -4.1421e-01, -2.1327e-02,\n",
      "        -3.8961e-01, -1.8825e-01, -9.6193e-03, -1.0584e-01, -1.0978e-01,\n",
      "         1.0694e-01,  3.2672e-01,  2.4498e-01,  5.1601e-01, -1.6834e-02,\n",
      "        -1.2425e-01,  2.6505e-02,  5.9536e-02, -1.9245e-01,  3.1963e-02,\n",
      "         9.2785e-02, -3.5873e-02, -1.2895e-02, -3.9343e-01, -4.5531e-01,\n",
      "         2.2171e-01,  2.1914e-03,  4.5584e-02,  4.0518e-01, -5.4186e-02,\n",
      "        -3.9569e-01, -1.0922e-01,  2.7514e-01,  1.8855e-01,  3.7035e-01,\n",
      "        -9.3184e-02,  4.5893e-02, -1.2226e-02,  5.7800e-02,  2.9207e-01,\n",
      "         2.0733e-01, -6.7453e-02, -2.3149e-01,  1.9775e-02, -6.8451e-02,\n",
      "         1.0082e-01,  3.1432e-01, -2.7448e-01, -4.0144e-01,  3.0866e-02,\n",
      "         1.5167e-01, -7.8782e-02, -4.5688e-01,  3.9019e-01, -3.5385e-03,\n",
      "         7.0092e-01,  5.0276e-02, -2.6343e-01, -3.3500e-01,  2.8511e-01,\n",
      "        -3.8385e-01, -3.3710e-01,  4.5034e-01, -2.6188e-01, -3.9126e-01,\n",
      "        -1.8151e-01,  1.1994e-01,  7.1899e-02,  1.1003e-01, -1.6816e-01,\n",
      "         2.2369e-01,  9.0867e-03,  3.2128e-01,  3.6735e-01,  3.0539e-01,\n",
      "        -7.5525e-02,  4.1609e-02,  1.5224e-02, -6.3055e-03, -1.1414e-02,\n",
      "         4.1525e-01, -2.1688e-01, -3.6087e-02,  1.2070e-01, -1.4570e-01,\n",
      "         6.5238e-03, -4.1248e-02])\n",
      "Embedding of the second token:         tensor([-0.3469,  0.0676,  0.2920, -0.5002,  0.7767, -0.9008,  0.2419, -0.2355,\n",
      "        -0.1814,  0.3286,  0.0168, -0.4332, -0.0317,  0.2354,  0.4144, -0.3866,\n",
      "        -0.6704,  0.0651,  0.5296,  0.4631,  0.1342,  0.1827, -0.0908, -0.1758,\n",
      "         0.0287, -0.4466, -0.4293, -0.2413,  0.0793, -0.1404,  0.2673, -0.0331,\n",
      "         0.1661,  0.3112,  0.0021, -0.6212,  0.3083,  0.3195,  0.3608, -0.3620,\n",
      "         0.0520,  0.0465, -0.0082,  0.2367, -0.1339, -0.3572, -0.0460,  0.1968,\n",
      "         0.1733,  0.1476,  0.2113,  0.3547, -0.1090,  0.3144, -0.2383,  0.6438,\n",
      "         0.8062, -0.5538,  0.2733,  0.1876,  1.1043,  0.4970,  0.5150, -0.0170,\n",
      "         0.0892, -0.1259, -0.0035, -0.0344, -0.6251,  0.4360, -0.2189, -0.2122,\n",
      "        -0.3479,  0.3714, -0.1287,  0.1722, -0.0804,  0.4114,  0.0770,  0.0308,\n",
      "         0.3067, -0.2237, -0.4316,  0.1690, -0.4286, -0.9510,  0.3575, -0.9092,\n",
      "         0.8333, -0.2733, -0.0945,  0.2007,  0.6551, -0.5425, -0.2923,  0.2309,\n",
      "        -0.0437, -0.2726, -0.1162, -0.3148, -0.4982, -0.4189, -0.4257, -0.5251,\n",
      "         0.1579, -0.7910, -0.1615, -0.3701, -0.1188,  0.0172, -0.7701, -0.3344,\n",
      "        -0.3457,  0.2463,  0.2026, -0.1100, -0.1224,  0.2888,  0.3644, -0.3554,\n",
      "         0.4036,  0.6660, -0.5090,  0.0904,  0.2652,  0.2815, -0.1120, -0.1971,\n",
      "         0.0585, -0.1271, -0.1230, -0.5157,  0.1622,  0.8612,  0.5240, -0.0867,\n",
      "        -1.1714, -0.1664,  0.4006, -0.0168,  0.5157, -0.3241,  0.1384,  0.2291,\n",
      "         0.5040,  0.2175,  0.1145,  0.3384,  0.3828,  0.6251,  0.5943,  0.3804,\n",
      "         0.0135, -0.4189,  0.3100, -0.3140,  0.1281,  0.0928,  0.1984, -0.1454,\n",
      "         0.1936, -0.8756,  0.6328, -0.3388,  1.2295,  0.2617, -0.1528, -0.1474,\n",
      "        -0.5219,  0.4308,  0.7229,  0.4932,  0.1197,  0.3975, -0.4104,  0.7339,\n",
      "        -0.0955, -0.6964, -0.3557, -0.1201, -0.0190, -0.0272, -0.0783, -0.4985,\n",
      "        -0.6304, -0.0462, -0.7037,  0.2303, -0.2164, -0.6499, -0.0423,  0.6905,\n",
      "         0.0593,  0.1021, -0.0716, -0.8309, -0.0236, -0.2060, -0.2387,  0.2699,\n",
      "         0.3062, -0.4156, -0.2746, -1.1875,  0.0142,  0.5188, -0.2115, -0.1864,\n",
      "         0.8399, -0.0551,  0.4295,  0.1095,  1.1475, -0.5400,  0.4364, -0.5814,\n",
      "        -0.1868,  0.0917,  0.5270,  0.5797, -0.2036, -0.5952, -0.0116, -0.4306,\n",
      "         0.0300, -0.4887,  0.2112, -0.2127,  0.0175,  0.3924,  0.2370, -0.0851,\n",
      "        -0.2718,  0.7045, -0.3775, -0.0934, -0.4460, -0.3511, -0.0069, -0.4998,\n",
      "         0.2737, -0.1745, -0.1995,  0.2957,  0.3633,  0.1828, -0.1465,  0.4755,\n",
      "        -0.2828, -0.1703,  0.7316,  0.2707, -0.2032, -0.5346, -0.7999,  0.2289,\n",
      "        -0.6584,  0.3030, -0.7075, -0.5926, -0.4754,  0.2600,  0.0950, -0.6159,\n",
      "        -0.1297, -0.2706,  0.2338,  0.4759, -0.4677,  0.3031, -0.2260, -0.8013,\n",
      "        -0.3036,  0.2001, -0.7093,  0.5536, -0.4994, -0.3517, -0.2927, -0.5119,\n",
      "        -0.0515,  0.3982,  0.0471, -0.2502,  0.0570,  0.3561,  0.0571,  0.1230,\n",
      "         0.5299, -0.4715,  0.3391, -0.2867,  0.5172, -0.6776, -0.6060, -0.3624,\n",
      "         0.1543,  0.6476, -0.5701,  0.4806, -0.0853,  0.4818, -0.0228, -0.5472,\n",
      "         0.1549, -0.0961,  0.3589, -0.4936,  0.2601, -0.1282, -0.0610, -0.2390,\n",
      "        -0.2384,  0.0997,  0.0917,  0.4865, -0.2874,  0.5119, -0.5767, -0.0943,\n",
      "         0.2113, -0.0805, -0.3695,  0.0766,  0.2972,  0.4166, -0.2436, -0.6838,\n",
      "        -0.3590,  0.3658, -0.3697, -0.5932,  0.0286,  0.2904, -0.8370, -0.6783,\n",
      "        -0.2997,  0.3980,  0.1155, -0.4252, -0.8151,  0.1703,  0.1389,  0.1752,\n",
      "         0.3643, -0.2068, -0.2050, -0.4425,  0.3497, -0.3480, -0.0745, -0.1984,\n",
      "         0.3492, -0.7728, -0.5656,  0.4356,  0.4792, -0.0229, -0.0941, -0.0186,\n",
      "        -0.4857,  0.1903,  0.2901, -0.4335, -0.0385, -0.0745,  0.1814,  0.2202,\n",
      "        -0.0950,  0.1873,  0.4130,  0.4355, -0.0488, -0.7661,  0.3951,  0.7281,\n",
      "        -0.7628, -0.5893, -0.4123, -0.1902,  0.6947,  0.2751,  0.3844, -0.3987,\n",
      "         0.9224, -0.4019, -0.0656,  0.0763,  0.5347, -0.1967,  0.1986,  0.9248,\n",
      "         1.1375, -0.6969,  0.1604,  0.0457,  0.2358,  0.0977, -0.1480, -0.1763,\n",
      "         0.1533, -0.2250, -0.4700,  0.1557, -0.5988,  0.2091, -0.0121, -0.8547,\n",
      "        -0.5809, -0.3051, -0.2018, -0.4334, -0.3659, -0.0786, -0.5292,  0.2270,\n",
      "        -0.6211, -0.1883,  0.3341, -0.4942,  0.5829, -0.3673, -0.5281,  0.4560,\n",
      "        -0.1616,  0.5754, -0.1892, -0.1253, -0.2302, -0.1566,  0.0106, -0.3944,\n",
      "        -0.6738,  0.0839, -0.1305,  0.0973, -0.2500,  0.3967,  0.7505, -0.5102,\n",
      "        -0.3909, -0.5869, -0.0271, -0.2274, -0.0879, -0.3385, -0.5280,  0.6582,\n",
      "        -0.5126, -0.6393, -0.1669,  0.3135,  0.3865,  0.6810,  0.0296, -0.0826,\n",
      "         0.5543,  0.0821, -0.3050, -0.0143, -0.4426,  0.4875, -0.3707, -0.6304,\n",
      "         0.4387,  0.2576,  0.5348, -0.2654, -0.0259, -0.2420, -0.4128, -0.0034,\n",
      "        -1.2858, -0.6336,  0.6562,  0.0269, -0.5494, -0.7374,  0.6519, -0.0224,\n",
      "         0.9157, -0.1824, -0.6402, -0.7269,  0.7041, -0.7598, -0.2396,  0.6658,\n",
      "        -0.0066, -0.5949, -0.0722, -0.1237,  0.1080, -0.2252, -0.2095,  0.1222,\n",
      "        -0.1600, -0.1601,  0.9281,  0.6495, -0.5046, -0.0995, -0.5764,  0.2486,\n",
      "         0.0432,  0.0576, -0.0399,  0.0739,  0.2286, -0.0849,  0.6853,  0.7350])\n",
      "Embedding of the third token:          tensor([ 0.3331, -0.2620, -0.3063, -0.5439,  0.8106, -0.4460,  1.0239, -0.6775,\n",
      "        -0.4734, -0.5606, -0.3795, -0.1544, -0.3464, -0.8751, -0.5137,  0.1951,\n",
      "         0.0213, -0.6724,  0.0666, -0.4933,  0.6685,  0.0364,  0.2395,  0.1205,\n",
      "        -0.1533, -0.0316, -0.0341,  0.5771, -0.3612,  0.4541,  0.3556,  0.0157,\n",
      "         1.1209,  0.1963,  0.2112, -0.5041,  0.2594, -0.0656,  0.3035, -0.6089,\n",
      "         0.0758, -0.4115,  0.1515, -0.2266,  0.2931, -0.7615,  0.0069,  0.5591,\n",
      "         0.3641, -0.3545, -0.0189, -0.5971, -0.0730,  0.0633, -0.5460,  0.0995,\n",
      "        -0.6591, -0.4547, -0.0869, -0.2660,  0.5757,  0.7158,  0.1510, -0.5002,\n",
      "        -0.0524, -0.2304,  0.1845, -0.3542,  0.1543, -0.0710,  0.5154,  1.0097,\n",
      "        -0.1523, -0.1009,  0.8945, -0.1043, -0.0835,  0.2364,  0.3929, -0.3225,\n",
      "        -0.2808, -0.0475, -0.2264,  1.0498, -0.2833,  0.1256, -0.0264, -0.0516,\n",
      "         0.6142,  0.5408, -0.1407,  0.4647,  0.5439, -0.4959, -0.3515, -0.0633,\n",
      "        -0.6112, -0.4391, -0.1610, -0.1392, -0.6934,  0.1987, -0.1883, -0.2487,\n",
      "         0.2530, -0.2703,  0.0961, -0.1240,  0.4625,  0.2580, -0.7035, -0.2144,\n",
      "         0.2286, -0.0114, -0.2783, -0.6601, -0.0240,  0.3302,  0.3343,  0.1939,\n",
      "         0.2161,  0.0833, -0.7662, -0.5521, -0.2194, -0.3101,  0.8647, -0.1874,\n",
      "        -0.1513, -0.5095, -0.3232, -0.0719,  0.0658,  0.3446, -0.6260,  0.0280,\n",
      "        -0.2457, -0.6825,  0.4528, -0.0144,  0.2911, -0.6128,  0.0694, -0.4801,\n",
      "         0.5754,  0.0126, -0.2084,  0.7834,  0.0980, -0.1105,  0.0055,  0.7244,\n",
      "         0.5433, -0.3520, -0.1667,  0.6089,  0.9216,  0.4707,  0.4225, -0.2153,\n",
      "        -0.7032, -0.2076, -0.3525,  0.0307,  0.5283, -0.4214,  0.0522, -0.0416,\n",
      "        -0.7793, -0.5933, -0.3718,  1.2716,  0.0487, -0.3561, -0.3261,  0.7382,\n",
      "        -0.4508, -0.2626,  0.1532, -0.1941,  0.2061, -0.5317,  0.0261, -0.5156,\n",
      "        -0.8815,  0.5057, -0.1631, -0.2799,  0.3800,  0.3446,  0.4959,  0.6540,\n",
      "        -0.0427,  0.2100, -0.1214, -0.5776,  0.4401, -0.0130,  0.2312,  0.1966,\n",
      "         0.9126,  0.1927,  0.0515, -0.3712, -0.1628, -0.1941, -0.4149, -0.1727,\n",
      "         0.1532, -0.4074,  0.0277,  1.0066, -0.1065, -0.0537,  0.2684, -0.3354,\n",
      "         0.2712, -0.2990,  0.4885, -0.1801, -0.6239, -0.0439,  0.4698, -0.5002,\n",
      "        -0.0683,  0.6168,  0.2656, -0.0071,  0.0150, -0.1124, -0.4586, -0.2400,\n",
      "        -0.1953,  0.6174, -0.3787,  0.3311, -0.3980,  0.2271, -0.3037,  0.2817,\n",
      "        -0.1474, -0.2255, -0.5001, -0.3096,  0.0894,  0.5421, -0.1089, -0.6424,\n",
      "         0.0580, -0.1203,  0.1222,  0.7457,  0.0418, -0.6495, -0.1687, -0.2811,\n",
      "        -0.7522,  0.3527, -0.4241, -0.7004, -0.5621, -0.3011,  0.5176,  0.0108,\n",
      "         0.5358, -0.5472,  0.8274,  0.0959, -0.3284,  0.0293, -0.0163, -0.5545,\n",
      "         0.5192,  0.1233, -0.4879, -0.6926, -0.4156,  0.2635, -0.4502, -0.0656,\n",
      "        -0.2131, -0.0268, -0.5123, -0.8367,  0.3606, -0.4018,  0.4246,  0.3756,\n",
      "        -0.1113, -0.1386,  0.0658, -0.2037,  0.1330, -0.8612,  0.2820, -0.0561,\n",
      "         0.0118,  0.2379, -0.3212,  0.7229, -0.0806, -0.5222,  0.1934,  0.2042,\n",
      "         0.0695, -0.1040, -0.0668,  0.3854, -0.1953,  0.3257,  0.3393, -0.4048,\n",
      "         0.0074,  0.2307,  0.9652, -0.2604, -0.6872,  0.6596,  0.2264,  0.3557,\n",
      "        -0.9440, -0.0184, -0.3526, -0.4125, -0.1959, -0.8787,  0.2339,  0.2365,\n",
      "         0.6923, -0.5813,  0.1975,  0.5842,  0.2069, -0.5515,  0.5526, -0.7294,\n",
      "        -0.3563, -0.7417, -0.2674, -1.0351, -0.0739,  0.4488, -0.0061,  0.1699,\n",
      "        -0.1696, -0.9579, -0.4783, -0.4755, -0.2853,  0.0737, -0.5087, -0.1490,\n",
      "        -0.8204, -0.4560,  0.3135,  1.1205,  0.1392,  0.0845,  0.2417, -0.1143,\n",
      "        -0.3269,  0.1323, -0.2460, -0.7989, -0.6591,  0.3644, -0.7646, -0.2693,\n",
      "        -0.1076,  0.1995,  0.4647,  0.6372, -0.3102,  0.1171,  0.6310, -0.2128,\n",
      "        -0.5902, -0.1747, -0.4125, -0.6306, -0.3171,  0.1489,  0.1701,  0.4692,\n",
      "         0.3772,  0.0372,  0.9656, -0.3417,  0.8213, -0.5035, -0.6291,  0.4913,\n",
      "         0.3061, -0.1256, -0.2568,  0.1345, -1.1085, -0.3577, -0.1250,  0.0027,\n",
      "         0.9355,  0.1850, -0.6219, -0.6595,  0.4012,  0.8228, -0.0126,  0.8176,\n",
      "        -0.3083, -0.0217,  0.0316, -0.6498,  0.3061, -0.4961,  0.2898,  0.1267,\n",
      "        -0.4188, -0.2416, -0.1918,  0.4386,  0.3444, -0.1187,  0.1336,  0.4606,\n",
      "        -0.1912, -0.1160,  0.1509,  0.4231, -0.8350,  0.2926,  0.2277, -0.1501,\n",
      "         0.4754, -0.2172,  0.1880, -0.2701,  0.2190,  0.5155,  0.0900,  0.2422,\n",
      "        -0.5339,  0.1440, -0.2519,  0.0800,  0.0864, -0.1673, -0.3816, -0.2752,\n",
      "        -0.3093, -0.3974, -0.2039, -0.4161, -0.0754,  0.7653,  0.0094, -0.7052,\n",
      "         0.0299, -0.1890,  0.1190,  0.5422,  0.2352,  0.1791, -0.2142,  0.8668,\n",
      "         1.0497,  0.3273,  0.0172, -0.0258, -0.3256,  0.4954,  0.9494,  0.4798,\n",
      "        -0.6083, -0.4803,  0.4568,  0.5727, -0.3947, -0.7241, -0.0334, -0.0058,\n",
      "         0.7818, -0.2235, -0.1147,  0.0482,  0.6321,  0.1422, -0.6277,  0.0937,\n",
      "        -0.8542, -0.4716, -0.5613, -0.0273,  0.7190, -0.2274, -0.5217, -0.1899,\n",
      "         0.3168,  0.2987, -0.1376,  0.9553, -0.1156, -0.0685,  0.0290, -0.0856,\n",
      "         0.0778, -0.0777, -0.3529,  0.6018,  0.7136, -0.5033, -0.3459,  0.6840])\n",
      "Embedding of the fourth token:         tensor([-2.3612e-01, -1.8942e-01,  5.3950e-02, -6.2365e-01, -2.3148e-01,\n",
      "        -9.9448e-01,  9.4195e-01, -1.8332e-01,  3.7333e-02, -4.4000e-02,\n",
      "        -4.8188e-01, -3.2986e-01, -1.7622e-02, -3.1655e-01, -3.8145e-01,\n",
      "        -3.0411e-02, -7.9571e-01,  2.1917e-01,  1.3038e-01,  1.5951e-02,\n",
      "        -8.6027e-02, -7.9237e-02, -1.7374e-02, -8.0302e-03,  5.4692e-02,\n",
      "        -2.6634e-01, -4.7464e-01,  4.9183e-01, -3.1783e-01,  6.5485e-02,\n",
      "        -2.2099e-01,  3.7033e-02,  3.3136e-01, -1.8262e-01,  4.8159e-01,\n",
      "        -5.9304e-01,  3.2286e-01,  8.1917e-02,  7.5661e-02, -1.6478e-01,\n",
      "         2.1804e-01, -4.1819e-02, -2.1919e-01, -6.3573e-02, -7.1458e-02,\n",
      "         2.9954e-01, -1.1784e-01,  1.6410e-01,  1.1527e-01, -2.9021e-01,\n",
      "         3.0821e-01, -1.3829e-01,  1.4537e-01, -2.9233e-01, -3.9539e-01,\n",
      "         3.2309e-01, -1.3407e-01, -4.5807e-01, -1.1021e-01,  3.3921e-01,\n",
      "         1.8619e-02,  4.2482e-01,  1.5214e-01, -1.8999e-01,  1.9527e-02,\n",
      "        -3.3814e-01, -5.9186e-01, -5.9487e-01, -4.3428e-02, -8.2150e-02,\n",
      "        -2.3700e-01,  5.1430e-01,  1.5343e-01,  5.3241e-02, -2.1566e-01,\n",
      "        -2.9733e-01,  2.2224e-01,  5.0850e-01,  1.0039e-01, -6.4851e-01,\n",
      "         1.4747e-01, -2.2359e-01, -1.6699e-01,  1.3596e-01,  1.1596e-02,\n",
      "         2.3212e-01,  5.1456e-01,  1.3598e-01,  1.3279e-01,  1.3865e-01,\n",
      "         1.0850e-01,  1.4317e-02,  1.2502e-01, -8.2380e-01,  3.5883e-02,\n",
      "         3.9454e-01, -3.7468e-01, -5.9672e-02, -4.3821e-01, -3.0587e-01,\n",
      "        -5.7169e-01, -1.4618e-01, -3.4006e-02, -1.6739e-01,  3.8306e-01,\n",
      "        -5.1185e-01,  4.5700e-01, -1.9102e-01, -3.0691e-01,  3.0258e-01,\n",
      "        -7.6415e-01, -6.6102e-01, -1.5515e-01,  3.2676e-01,  7.0205e-02,\n",
      "        -2.6790e-01, -3.5332e-01,  2.0327e-01,  5.7843e-01,  2.4578e-01,\n",
      "         2.6567e-01,  2.2850e-01, -1.4730e-01,  8.9715e-02,  2.6186e-01,\n",
      "        -9.3738e-02,  4.2928e-02,  1.9609e-01, -1.0088e-01,  3.1883e-03,\n",
      "         3.0351e-01, -5.2520e-01,  4.7698e-01, -2.7404e-01,  2.6831e-01,\n",
      "         1.4763e-01, -4.2746e-01, -1.9409e-01,  3.4930e-01, -1.7383e-01,\n",
      "         7.6204e-02, -4.9636e-01,  4.8407e-01,  2.0949e-01,  1.9890e-01,\n",
      "         4.9123e-01,  3.9593e-01,  5.8943e-01,  3.5141e-01, -4.6505e-01,\n",
      "         1.1314e-01,  9.1550e-02, -2.1617e-01, -2.3173e-01, -1.8956e-01,\n",
      "         4.7205e-02,  4.0743e-02,  7.1442e-02, -1.9793e-01, -4.6918e-01,\n",
      "        -4.2462e-01, -3.3880e-01,  3.7865e-01,  1.5319e-01,  4.5409e-01,\n",
      "        -6.9070e-02,  6.9761e-02,  3.9800e-01, -4.5817e-01, -4.7889e-01,\n",
      "         2.7272e-01,  5.7595e-01,  4.4710e-01, -1.2855e-01, -1.9523e-01,\n",
      "        -9.3700e-02, -5.7226e-01, -3.6688e-01,  1.2549e-01,  7.1780e-02,\n",
      "        -2.2806e-01,  1.7524e-03,  5.7712e-01, -6.1080e-01, -3.8635e-01,\n",
      "         4.5638e-02,  4.2222e-01, -2.9230e-01, -2.0557e-01, -3.5527e-01,\n",
      "         3.1229e-01,  2.0803e-01, -3.2425e-01,  9.4215e-02, -3.8129e-04,\n",
      "        -2.2672e-01,  3.4439e-01,  2.8179e-01,  7.8637e-02, -1.0421e-01,\n",
      "         5.3450e-01,  1.9820e-01, -1.9832e-01, -3.1363e-01,  4.2476e-01,\n",
      "         7.2282e-02, -5.2482e-01,  8.8971e-02,  5.2961e-01,  1.0714e-01,\n",
      "         4.2281e-01,  1.7776e-01, -3.2822e-02, -5.3771e-01,  2.3683e-01,\n",
      "        -1.6456e-01, -1.2543e-01,  1.0455e-01,  3.1772e-01, -2.0409e-03,\n",
      "         5.6017e-02,  2.6980e-03,  4.2910e-04, -1.3696e-01,  1.0648e-01,\n",
      "        -3.9401e-01, -1.1648e-01,  3.3896e-01,  1.4735e-01,  3.9615e-01,\n",
      "         1.9727e-02,  1.9707e-01, -1.2013e-01,  8.7218e-02, -4.0701e-01,\n",
      "        -3.0893e-02, -1.0775e-01, -1.4964e-01, -1.6832e-01,  4.4353e-01,\n",
      "        -1.6435e-01, -2.1350e-01, -1.0646e-01,  2.7356e-01, -2.2307e-03,\n",
      "        -1.3851e-01, -6.0612e-01,  2.8105e-01, -6.1041e-02, -4.6253e-01,\n",
      "        -1.9870e-01, -3.7073e-01,  1.9520e-02, -3.3832e-01, -1.0951e-01,\n",
      "         2.8885e-01,  3.0532e-01, -1.7244e-01,  4.9248e-02, -6.4885e-01,\n",
      "        -1.2633e-01, -2.5026e-01,  3.2654e-01,  3.6494e-02,  9.7247e-02,\n",
      "        -3.1264e-01,  1.1885e-01,  2.7275e-01, -2.4235e-01,  9.4643e-02,\n",
      "         2.9588e-01, -5.7868e-01,  3.0859e-01,  2.8543e-01,  2.8855e-01,\n",
      "        -1.4769e-01,  1.8235e-01,  1.8908e-01, -2.2347e-01, -5.1766e-01,\n",
      "         6.4412e-02, -5.1274e-01, -1.8640e-01,  5.6707e-01,  1.7794e-02,\n",
      "        -2.9587e-01,  1.1681e-01,  3.6603e-01,  6.2482e-02, -6.4384e-01,\n",
      "         1.7928e-02,  1.1538e-01,  3.9431e-01, -7.1984e-01,  5.0264e-01,\n",
      "         2.3489e-01, -9.1409e-02,  3.0969e-01, -1.2950e-01, -3.1255e-01,\n",
      "         4.3394e-01,  2.9957e-01,  1.1476e-01,  7.0993e-02,  2.5026e-02,\n",
      "        -9.1863e-02,  4.4275e-01,  1.0854e-01,  2.0187e-01, -1.2399e-03,\n",
      "         5.7614e-01, -5.1287e-02,  3.5876e-01,  4.0109e-01,  7.5093e-02,\n",
      "        -2.6580e-01, -3.6926e-01,  5.5107e-01, -4.6667e-01,  1.2459e-01,\n",
      "        -1.6389e-01, -1.2550e-01, -1.0540e-01, -4.0448e-01,  3.5873e-02,\n",
      "        -1.6957e-01,  2.2560e-02,  2.1133e-01, -3.3195e-02, -9.8663e-02,\n",
      "         5.3579e-02, -4.1971e-02, -2.0120e-01,  1.3073e-01,  1.1372e-01,\n",
      "         3.4796e-01, -7.4880e-01,  3.9749e-02,  4.4876e-01, -4.0800e-01,\n",
      "         2.9097e-01, -2.4966e-02, -1.0659e-01, -2.0717e-02, -3.3239e-01,\n",
      "        -3.4934e-01, -1.5817e-02, -7.5289e-01, -2.1893e-01,  2.4843e-01,\n",
      "         3.3365e-01, -1.2591e-01,  2.8731e-01,  1.2711e-01,  1.2512e-01,\n",
      "         5.5414e-01, -2.0887e-01, -6.4136e-02, -4.1304e-01, -6.1288e-01,\n",
      "        -6.3049e-02,  4.9010e-02,  4.5016e-02, -1.7453e-01,  1.9864e-01,\n",
      "        -2.2297e-01,  1.5721e-01,  2.4619e-01, -3.0447e-02,  5.5250e-02,\n",
      "        -7.4040e-02, -2.0243e-01, -3.8133e-01, -3.9808e-01,  1.0297e-01,\n",
      "         1.3639e-02, -3.0427e-01,  3.8257e-01, -1.1167e-01,  7.8346e-02,\n",
      "         7.5485e-03,  2.8276e-01,  8.4183e-01, -6.4050e-02,  4.9021e-01,\n",
      "         2.8116e-01,  1.3975e-01,  4.0766e-01,  1.7529e-01,  4.0071e-02,\n",
      "        -1.1481e-01,  5.7538e-02,  1.9763e-01, -6.7492e-01,  4.2668e-02,\n",
      "        -1.7170e-01,  3.8572e-01, -2.0391e-01,  2.0045e-01, -2.2275e-01,\n",
      "         4.2087e-01,  7.4726e-02,  3.0045e-01,  2.3292e-01, -9.0567e-02,\n",
      "         7.4276e-01,  2.3301e-01, -2.1850e-01, -6.2267e-01,  6.5710e-02,\n",
      "         1.0704e-01, -6.6616e-02,  2.2800e-01, -3.1646e-02, -3.2205e-01,\n",
      "         3.8414e-01, -3.8999e-01,  1.5362e-01,  1.8878e-01,  2.3556e-01,\n",
      "         2.4032e-01, -4.7375e-01, -3.9769e-02,  7.0354e-01,  3.5769e-01,\n",
      "         3.4411e-01, -5.8001e-02,  3.3535e-01, -6.6371e-01, -1.2277e-01,\n",
      "         3.5330e-02, -3.7649e-01,  2.4173e-01, -5.3192e-01, -6.2533e-01,\n",
      "        -4.6472e-02,  3.7009e-01,  3.2136e-01,  7.2270e-01, -2.5761e-02,\n",
      "        -1.7400e-01,  1.1991e-01, -3.0944e-01, -1.5370e-01,  2.1295e-01,\n",
      "        -1.5385e-01, -2.5248e-01, -3.8098e-02, -5.4895e-01, -8.8825e-01,\n",
      "         1.7136e-01,  4.9291e-01,  3.5882e-01,  1.0463e-01, -2.9504e-01,\n",
      "        -6.4014e-01, -2.4630e-01,  3.2595e-01,  4.7254e-02, -1.1460e-01,\n",
      "        -1.4440e-01,  2.7160e-01,  1.3647e-01,  9.4767e-03,  1.7150e-01,\n",
      "         1.8989e-01,  1.0130e-01, -4.8114e-01, -2.4605e-01, -4.2095e-01,\n",
      "         9.5732e-02, -7.3388e-02,  1.4776e-01, -3.5995e-01, -2.6694e-02,\n",
      "         3.1305e-01, -3.8268e-01, -3.3334e-01,  9.9196e-03, -4.0838e-01,\n",
      "         1.3626e-01,  1.0704e-01, -1.6161e-01, -2.6829e-01,  4.4456e-01,\n",
      "        -2.2477e-01, -2.5188e-01,  3.7629e-01,  1.0065e-01,  3.3116e-02,\n",
      "        -3.9075e-02,  1.5545e-01,  1.6138e-01,  9.0295e-03,  9.3665e-02,\n",
      "        -1.5335e-02,  3.1135e-01, -1.8291e-01,  8.1895e-01,  3.0505e-01,\n",
      "        -1.8019e-01, -1.3208e-01, -1.7643e-01, -4.5036e-03, -3.1228e-01,\n",
      "         4.4814e-01,  3.4694e-01,  8.2748e-02,  2.8009e-01, -6.1785e-02,\n",
      "         2.6555e-01, -1.0731e-01])\n",
      "Embedding of the fifth token:          tensor([ 6.5353e-03,  1.0530e-01,  2.0694e-01, -2.8327e-01,  3.8333e-02,\n",
      "        -6.5962e-01,  5.8342e-01,  1.5648e-01, -1.4024e-01,  1.3889e-01,\n",
      "        -2.7393e-01, -2.6412e-01, -2.2530e-02, -1.3766e-01, -3.3079e-01,\n",
      "        -1.2314e-02, -6.0573e-01, -1.8378e-01, -9.2155e-02,  2.9450e-01,\n",
      "        -6.5520e-02, -2.5540e-01, -1.5659e-01, -9.5264e-02, -4.9506e-02,\n",
      "        -1.9102e-01,  1.2348e-01,  4.2129e-01, -6.2711e-02,  2.6615e-01,\n",
      "        -1.6393e-01,  6.3226e-02,  2.3958e-01,  4.5401e-02, -1.8763e-01,\n",
      "        -2.4649e-01, -1.7720e-01, -1.1588e-01,  1.5835e-01,  7.2457e-02,\n",
      "        -1.4719e-01, -2.0871e-03, -2.4871e-01,  3.9449e-01,  2.3077e-02,\n",
      "        -1.7890e-01, -3.3120e-01, -1.1063e-01,  1.9404e-01, -1.8189e-01,\n",
      "         3.6442e-01,  1.0741e-01, -2.6766e-01, -3.0482e-01, -2.8682e-01,\n",
      "         1.8597e-02,  2.4410e-01, -2.2239e-01, -8.1524e-02,  1.4830e-01,\n",
      "         1.1611e-01,  5.3671e-01,  6.1772e-02,  4.8027e-02, -1.0724e-01,\n",
      "         2.0951e-01, -1.1897e-01, -2.6693e-01, -3.3617e-02, -2.5043e-02,\n",
      "        -1.0738e-01,  5.6707e-02, -6.4886e-02,  4.0177e-01,  1.5906e-02,\n",
      "         2.2814e-01,  1.5764e-02,  1.7893e-01,  3.8642e-02, -3.0460e-01,\n",
      "        -6.1610e-02,  2.2828e-01,  1.0192e-01,  2.9203e-01, -1.1477e-02,\n",
      "         4.7556e-01, -1.2861e-01,  1.3266e-01, -1.0355e-01,  4.8470e-01,\n",
      "        -3.1390e-02, -3.9748e-01, -1.2747e-01, -2.3307e-01,  2.1445e-01,\n",
      "         1.6783e-01, -1.8124e-01, -1.0606e-01, -3.4613e-01, -2.4870e-01,\n",
      "        -3.1852e-01,  8.1227e-02,  3.2381e-01, -2.1372e-01,  2.7977e-01,\n",
      "        -4.1864e-01,  3.0652e-01, -1.0629e-03, -3.4127e-03,  6.1509e-02,\n",
      "        -5.5688e-01, -3.8640e-01,  3.2454e-01, -9.9492e-02,  2.5456e-02,\n",
      "        -1.5857e-01, -1.1711e-02, -1.4081e-01,  4.0028e-01, -1.7234e-01,\n",
      "        -6.7671e-02,  1.6670e-01, -4.2900e-02,  5.3827e-03,  6.5357e-02,\n",
      "         1.3464e-01,  3.5174e-01, -5.1641e-02, -4.5528e-01,  1.1010e-01,\n",
      "         5.7050e-01, -4.5795e-01,  3.9706e-01,  1.5094e-01, -4.1333e-02,\n",
      "        -1.9631e-01, -1.9982e-01, -2.3572e-01,  2.1976e-01,  8.1949e-04,\n",
      "         2.7487e-01, -1.9977e-01,  1.5517e-01,  1.7528e-01,  3.0903e-02,\n",
      "         1.0288e-01,  1.3336e-01,  3.9422e-01,  3.2791e-01, -4.3589e-02,\n",
      "        -4.1839e-02, -1.8083e-03,  1.8013e-01, -1.7211e-01,  3.2659e-01,\n",
      "        -1.8237e-01, -1.2356e-01,  8.2543e-02,  3.2095e-01, -3.7693e-01,\n",
      "        -9.8445e-02, -4.1347e-01,  4.7000e-02,  1.1310e-01,  2.4411e-01,\n",
      "        -3.0770e-01,  1.5861e-01, -8.3637e-02, -4.4800e-01, -1.5277e-01,\n",
      "         1.0772e-01,  5.9898e-01,  4.6290e-01,  2.9650e-01, -2.9010e-01,\n",
      "         3.4341e-01, -4.4880e-01, -9.3115e-02, -1.7506e-01, -1.9143e-01,\n",
      "        -2.6586e-01, -6.0086e-03, -3.7469e-02, -1.5456e-01, -3.2778e-01,\n",
      "         3.7411e-01,  9.3874e-02, -1.3589e-01,  1.0658e-01, -2.4925e-02,\n",
      "         7.4583e-02, -6.0890e-03, -1.1567e-01,  5.9551e-01,  1.9921e-02,\n",
      "        -3.9064e-01,  8.9530e-02,  1.5019e-01,  2.6147e-01, -2.2074e-01,\n",
      "         2.7997e-01, -1.2289e-01, -3.0710e-01, -3.4052e-01, -2.6620e-01,\n",
      "        -4.3599e-02, -2.4006e-01,  8.2609e-02,  1.9431e-01, -4.0131e-01,\n",
      "         3.1820e-01, -1.5857e-01,  8.7313e-02, -9.1381e-02,  2.3675e-01,\n",
      "        -4.9302e-01,  2.3549e-01,  1.6526e-01,  3.1106e-01,  1.9320e-01,\n",
      "         1.9493e-01, -2.9868e-02,  9.9630e-02, -2.5611e-01,  2.0167e-01,\n",
      "        -4.9769e-01, -7.4745e-02,  7.4257e-02,  1.0974e-01,  3.0368e-01,\n",
      "         1.2012e-01,  2.2523e-01, -3.1590e-01,  6.6861e-01, -3.9270e-01,\n",
      "         3.1000e-01, -5.4359e-01, -1.5069e-01,  1.3563e-01,  9.8366e-02,\n",
      "        -2.6072e-01, -3.6909e-01,  7.6112e-02,  2.9544e-01, -2.3780e-01,\n",
      "         2.3711e-01, -3.7170e-01, -1.0412e-01, -1.5040e-01, -2.0976e-01,\n",
      "        -1.8511e-01, -3.8705e-01,  1.7739e-01, -2.2011e-01, -1.5035e-01,\n",
      "        -1.5324e-02, -9.4920e-02,  8.6627e-02, -1.5843e-01, -4.0303e-01,\n",
      "         6.1643e-02, -3.6164e-02, -6.2834e-02,  3.1023e-02,  1.4721e-01,\n",
      "        -1.2282e-01,  1.8248e-01,  1.0860e-01,  9.7682e-02,  4.1257e-01,\n",
      "        -2.5741e-01, -6.5022e-01,  7.7702e-03,  4.6730e-02, -1.3709e-01,\n",
      "        -7.0805e-02,  2.3759e-02,  3.5226e-01, -3.8639e-03, -1.8925e-01,\n",
      "        -6.7740e-02,  1.3800e-01, -2.7615e-01,  5.3746e-02,  4.6807e-01,\n",
      "        -1.9535e-01, -1.3860e-01,  3.3421e-01,  3.7621e-01, -1.6431e-01,\n",
      "        -2.8149e-01, -3.6592e-02,  4.0777e-01, -2.4396e-01,  1.2129e-01,\n",
      "         4.5567e-01, -2.0012e-01,  1.3598e-01, -5.3490e-02,  2.3637e-01,\n",
      "         1.4584e-01,  2.3732e-01, -6.1074e-02,  1.0254e-01, -1.1382e-01,\n",
      "         1.9575e-02,  1.8199e-01, -1.3274e-01,  2.3795e-01,  1.3064e-01,\n",
      "         6.7151e-01, -5.0775e-01,  4.6278e-01,  4.6146e-01,  1.2195e-01,\n",
      "        -1.3172e-01, -2.8987e-01,  6.0855e-01,  1.1229e-01,  3.0321e-01,\n",
      "        -3.9474e-01, -3.2719e-02, -2.7978e-01, -3.0640e-01,  2.1386e-01,\n",
      "        -8.3771e-02,  1.5414e-01, -3.3903e-01,  4.3478e-01, -3.9662e-01,\n",
      "         1.2011e-03,  5.2856e-02, -3.2616e-01,  3.8401e-02, -2.9339e-01,\n",
      "        -2.1435e-01, -1.5309e-01,  2.0165e-01,  5.0021e-01, -1.7775e-01,\n",
      "         2.4552e-01, -4.8510e-02, -2.3090e-01,  1.0587e-01,  1.5288e-01,\n",
      "        -1.3510e-01, -2.0533e-01, -7.7409e-01, -2.6870e-01,  3.1719e-02,\n",
      "         1.4259e-01,  9.6814e-02,  8.3990e-02,  1.9653e-01, -2.2477e-01,\n",
      "         8.2862e-01,  2.0101e-01,  1.3356e-01, -4.7264e-01, -1.1754e-01,\n",
      "        -3.2035e-01,  2.7893e-01,  1.4213e-01, -3.1031e-01, -3.0311e-01,\n",
      "        -3.4970e-01, -4.1018e-01,  3.5237e-01,  1.5555e-01,  3.5677e-01,\n",
      "         2.5926e-01,  9.6389e-02,  3.3509e-03, -3.9559e-01, -1.2689e-01,\n",
      "         1.5994e-01, -5.5636e-01, -3.7270e-01,  9.9115e-02,  1.8943e-01,\n",
      "         2.1483e-01,  4.4472e-01,  7.3921e-01, -2.6421e-01,  2.0046e-01,\n",
      "        -2.0475e-01,  5.3294e-02, -2.3534e-01,  4.1254e-01, -2.3580e-01,\n",
      "        -5.2034e-02,  2.5387e-01,  2.5212e-01, -3.3181e-01,  5.3497e-03,\n",
      "         3.4345e-02, -6.7820e-02,  5.7526e-02,  1.5422e-01,  8.4398e-02,\n",
      "         8.9778e-02,  3.6124e-01,  1.9393e-01,  1.2960e-01, -1.4379e-02,\n",
      "         7.0830e-02,  7.9905e-02, -3.5129e-01, -7.9506e-01,  4.2106e-01,\n",
      "        -4.8812e-01, -1.9220e-01, -1.0802e-01, -4.3687e-01, -2.2330e-01,\n",
      "         1.4538e-01,  6.7424e-02, -2.0197e-01,  9.6227e-02,  1.8175e-01,\n",
      "         1.1562e-01,  3.5314e-02, -1.6472e-01,  2.9572e-01, -4.3273e-02,\n",
      "         5.4439e-02, -5.6302e-02,  2.0110e-01, -4.9642e-01, -1.6450e-01,\n",
      "        -2.6020e-01, -3.3562e-02, -2.6030e-01, -1.2661e-01, -2.8111e-01,\n",
      "         1.1765e-01,  6.0542e-01,  2.6678e-01,  4.2117e-01, -2.1279e-05,\n",
      "         5.1978e-02,  2.8748e-01, -5.4717e-02, -3.2058e-01,  2.8531e-01,\n",
      "         2.1838e-01, -1.5696e-01, -9.4805e-02, -5.0846e-01, -4.8544e-01,\n",
      "         2.4041e-01,  5.4395e-01, -1.1810e-01,  5.8747e-01, -1.7902e-01,\n",
      "        -1.5054e-01, -8.0681e-02,  4.1534e-01,  8.2457e-02,  3.0453e-01,\n",
      "        -8.8712e-02,  2.3773e-01, -7.7485e-07,  3.8184e-01,  2.0498e-02,\n",
      "         4.2463e-01,  8.6346e-02, -2.4502e-01,  5.4246e-02, -1.7383e-01,\n",
      "         3.9362e-01,  2.6157e-03, -2.9438e-01, -4.2049e-01,  2.4852e-01,\n",
      "         3.3695e-01, -3.3998e-01, -1.0680e-01, -4.5202e-02, -5.1116e-01,\n",
      "         5.2292e-01, -6.4511e-01, -3.3521e-01, -1.2393e-01,  2.2509e-01,\n",
      "        -2.3625e-02, -7.3986e-02,  4.9607e-01,  9.7819e-02, -3.6219e-01,\n",
      "        -9.8277e-02, -1.8702e-01, -6.1555e-02, -1.5850e-01, -2.8541e-01,\n",
      "         1.5597e-01, -1.7547e-01,  1.3693e-01,  7.0585e-01,  1.3522e-01,\n",
      "        -8.5137e-02,  5.3894e-02,  2.9945e-01, -1.3193e-02, -1.2259e-01,\n",
      "         4.4587e-01, -9.4485e-02, -2.0004e-01,  1.7769e-01, -6.3311e-02,\n",
      "         5.2169e-02,  1.2363e-01])\n",
      "Embedding of the sixth token:          tensor([-3.7413e+00, -1.7520e+00,  1.0879e+00, -2.6189e-01,  1.2209e+00,\n",
      "        -2.1202e+00,  2.4666e-01, -1.6095e+00, -1.4584e+00, -2.8486e-01,\n",
      "        -4.0003e-02,  5.5437e-01, -3.2988e-01, -1.7677e+00,  1.8240e-02,\n",
      "         7.1387e-01, -2.4287e+00, -5.1276e-01, -1.0957e+00, -1.0621e-01,\n",
      "        -3.9150e-01, -6.3917e-01, -1.6922e+00,  4.6370e-01,  2.7983e+00,\n",
      "        -2.1735e+00,  2.2633e-01, -1.5044e+00,  2.5043e+00,  2.8687e+00,\n",
      "        -5.4855e-01, -1.2493e+00, -1.0729e+00,  4.8591e-01,  6.2581e-01,\n",
      "         7.3945e-01, -2.7724e-01,  3.2579e-01, -3.9838e-01, -1.5016e-01,\n",
      "         4.0103e-01, -1.4956e-01, -1.3609e-01,  1.7004e-01, -3.6427e-01,\n",
      "         2.1721e-01,  6.5192e-02,  8.9158e-01,  1.9804e-01, -7.5707e-01,\n",
      "        -3.0202e-01, -2.5986e-01, -3.5698e+00, -2.7806e-01, -1.1644e+00,\n",
      "        -2.4118e-01, -3.8254e-01,  9.2729e-02,  1.1562e+00, -3.6127e-01,\n",
      "         3.6679e-01, -4.3867e-01, -7.8185e-01, -5.4513e-01,  1.3964e-01,\n",
      "        -7.3291e-01, -6.2211e-01, -2.6527e-01, -1.8252e-01, -1.5734e-01,\n",
      "         8.6029e-01,  1.1440e+00,  2.4581e-01, -5.7757e-01,  1.6544e-02,\n",
      "        -1.2038e-01,  3.0286e-01,  6.6625e-01, -7.7792e-01, -2.0005e-01,\n",
      "         1.6162e-01, -2.8081e-01, -2.4011e-01, -3.9464e-01,  3.5476e-01,\n",
      "        -1.8748e-01,  2.8218e-01, -4.5322e-01, -1.3274e-01, -4.5206e-01,\n",
      "         4.6736e-01,  5.2971e-01,  3.1713e-01, -2.5321e-01,  8.5581e-02,\n",
      "        -2.8297e-01, -7.2676e-01, -2.8202e-02, -7.3362e-01, -9.7544e-01,\n",
      "        -4.3956e-01,  1.7114e-01, -7.3933e-01,  5.1941e-01,  1.0717e+00,\n",
      "        -7.8227e-01,  1.4384e+00,  6.7075e-01, -2.2129e-01,  1.0321e+00,\n",
      "        -4.5814e-01, -5.4777e-01,  7.8797e-03,  7.2205e-01,  5.7920e-01,\n",
      "        -6.2781e-01,  4.7623e-02,  5.9258e-01,  5.4644e-01,  9.5627e-01,\n",
      "         7.7211e-01,  6.6021e-01, -7.4602e-01, -9.2431e-01,  1.4840e-01,\n",
      "        -4.4212e-01,  3.3725e-01,  6.2384e-02, -5.4018e-03,  9.6277e-02,\n",
      "         3.2993e-01, -5.9718e-01,  1.0119e+00,  2.5620e-01,  1.1206e+00,\n",
      "        -7.6352e-01, -8.2646e-01, -4.8976e-01,  7.2192e-01, -1.2910e-01,\n",
      "         3.4164e-01, -6.8374e-01,  7.3341e-01,  9.6608e-01, -5.8582e-01,\n",
      "         1.2115e-01, -4.2796e-02,  5.1138e-01,  4.1575e-01,  5.9013e-01,\n",
      "         6.3282e-01,  2.0153e-01,  2.6146e-01, -3.2249e-01, -5.9907e-01,\n",
      "         4.7676e-01,  3.2556e-01,  5.3057e-01, -7.6710e-02, -6.4532e-01,\n",
      "        -4.8919e-01,  1.9144e-01,  2.0949e-01,  5.0758e-01,  6.0826e-02,\n",
      "         7.0925e-02,  2.9674e-01,  3.8082e-01, -3.2900e-01, -8.4011e-01,\n",
      "         1.0623e-03,  5.4540e-02,  4.0313e-01,  2.6696e-01,  6.9018e-01,\n",
      "         2.3334e-01, -1.4693e-01,  3.9469e-01, -9.0735e-02,  6.1203e-01,\n",
      "         1.1399e-02, -4.8602e-01,  6.0451e-02, -5.1124e-01, -3.3937e-01,\n",
      "        -5.8241e-01, -4.4668e-01, -1.2441e-01,  8.3781e-01,  3.0757e-03,\n",
      "         8.4054e-01, -5.2071e-01, -3.3596e-01,  5.2715e-02, -1.4874e-01,\n",
      "        -2.6059e-02, -5.8843e-02,  5.8849e-02, -3.9703e-01,  3.4632e-01,\n",
      "         1.2173e-01, -3.1256e-01,  6.2137e-01, -5.7000e-01,  2.5655e-01,\n",
      "         4.0296e-01, -8.4895e-01,  3.3583e-01,  8.7760e-01, -3.7603e-01,\n",
      "         3.2345e-01,  9.9356e-01,  1.0282e+00, -8.1056e-01,  7.9826e-01,\n",
      "        -7.5651e-01,  2.5411e-01, -5.1109e-02,  4.4499e-01,  1.8826e-01,\n",
      "        -5.4997e-01, -6.2395e-01, -6.5825e-02, -4.1653e-01, -1.1921e-01,\n",
      "        -1.6639e-01,  2.2670e-01,  5.3948e-02, -1.0959e-01, -4.6128e-01,\n",
      "        -5.8965e-01, -1.5696e-01, -1.3991e-01,  3.1363e-01,  3.1763e-01,\n",
      "         8.8565e-03, -1.2458e-01,  2.0110e-01, -3.0728e-01,  3.3006e-02,\n",
      "        -6.4018e-01, -3.2276e-01, -4.6880e-01,  4.6960e-01, -1.1032e-01,\n",
      "         4.9715e-01, -5.2288e-02, -4.9376e-01, -4.6493e-02,  3.0779e-01,\n",
      "        -1.8611e-01, -2.0577e-01,  4.9825e-01, -2.4776e-01, -2.1613e-01,\n",
      "         7.2030e-01, -4.4467e-02, -4.5000e-02, -3.3078e-01, -1.1163e-01,\n",
      "        -4.0930e-01,  4.9919e-01, -4.2928e-01,  1.1394e-01,  2.9357e-01,\n",
      "        -1.8478e-01,  4.8979e-01,  3.9731e-01,  1.8359e-01,  5.8851e-03,\n",
      "        -1.1300e-01,  5.3262e-01,  1.2057e-01, -5.6521e-02, -4.3332e-01,\n",
      "         5.4306e-03, -1.9340e-01,  2.1756e-01,  3.2480e-01, -4.9140e-01,\n",
      "         3.8860e-01,  1.8530e-01, -1.8853e-01,  4.1961e-01,  5.1867e-01,\n",
      "         8.3060e-01,  4.5078e-01,  5.5106e-01, -8.6119e-02,  1.0205e-01,\n",
      "         4.8085e-01, -4.2561e-01, -3.5402e-01,  1.9525e-01,  3.9231e-01,\n",
      "        -1.7803e-01,  1.9181e-01, -3.3194e-01, -3.6218e-01,  4.5180e-01,\n",
      "        -1.1076e-01,  1.2105e-01,  1.3646e-02, -3.4898e-01, -1.1954e-03,\n",
      "        -3.8473e-01,  8.7495e-02, -4.6495e-01, -3.1510e-01, -3.5296e-01,\n",
      "         5.7931e-01, -3.1476e-01, -9.4901e-02, -3.9190e-01, -6.9694e-01,\n",
      "        -1.0447e-02,  2.3938e-01, -1.7280e-01, -5.3704e-01,  1.0612e+00,\n",
      "         5.0175e-01, -1.1020e-02,  3.8966e-01,  4.2643e-01, -9.9510e-03,\n",
      "         2.0185e-01, -4.3824e-01,  3.2814e-01, -4.8346e-01, -3.2599e-01,\n",
      "         1.8513e-01, -4.6976e-02,  4.5525e-01,  6.4502e-01, -3.2612e-02,\n",
      "         8.7192e-02, -2.1008e-01,  2.8687e-02,  1.1076e-01, -3.0017e-01,\n",
      "        -5.0154e-02,  3.8217e-01,  2.6532e-02,  1.2623e-01,  1.0394e-01,\n",
      "         4.3786e-02, -1.1118e-01,  2.8052e-02, -6.8033e-03, -5.0394e-03,\n",
      "         4.3601e-01,  8.1189e-02, -7.4181e-02, -3.6765e-01, -1.9569e-02,\n",
      "         1.4345e-01,  2.8632e-01, -2.6073e-01,  3.6885e-02, -3.4718e-01,\n",
      "         5.2495e-01,  3.8395e-01,  1.5273e-01, -2.1628e-01,  3.4222e-01,\n",
      "        -3.4717e-01,  1.3506e-01, -2.9593e-01, -4.3897e-01,  6.6618e-02,\n",
      "        -6.0420e-01,  4.6465e-01, -4.1210e-01,  6.5812e-01,  3.3184e-01,\n",
      "         2.2699e-01,  1.5620e-01,  3.7608e-01, -3.8086e-02, -3.2624e-01,\n",
      "        -1.5369e-01, -4.2839e-01, -4.0469e-01, -8.9543e-03, -6.6050e-01,\n",
      "         1.9467e-01,  8.0796e-01, -4.7144e-01, -6.3811e-01,  3.5103e-01,\n",
      "        -3.6293e-01, -2.7268e-01, -3.6439e-01,  5.5532e-02,  1.3991e-01,\n",
      "         8.0138e-01, -5.7100e-01,  1.0608e+00,  2.4445e-01, -7.6118e-01,\n",
      "         2.2254e-02,  1.3983e-02,  6.2986e-01, -7.3683e-02,  8.0212e-01,\n",
      "        -2.8109e-01,  6.6694e-01, -6.7035e-01, -9.6533e-02, -1.9628e-02,\n",
      "         1.3905e-01,  5.9583e-02,  4.8975e-02,  5.6256e-01, -2.9041e-01,\n",
      "         5.6460e-02,  4.1767e-01, -7.3050e-01,  2.9958e-02, -5.7242e-01,\n",
      "         3.7911e-01,  8.6302e-01, -8.6317e-01, -9.3029e-01, -8.1289e-02,\n",
      "        -7.8378e-02, -2.2158e-01, -3.6283e-02,  5.3579e-01, -5.3185e-01,\n",
      "         5.7798e-01,  3.4648e-01,  2.6285e-01, -1.8939e-01, -1.6681e-01,\n",
      "         7.8349e-01,  1.9662e-01,  1.2939e-01, -4.4017e-01,  4.0976e-01,\n",
      "         4.2476e-01, -4.9217e-01,  6.2978e-01, -1.4613e-01, -1.6054e-01,\n",
      "         7.4404e-01,  1.6765e-01, -3.2840e-01,  4.1663e-01,  6.0308e-01,\n",
      "        -1.0861e+00,  5.4388e-01, -9.2215e-01, -4.8429e-01, -1.3947e+00,\n",
      "         2.5982e-01,  1.4184e+00,  3.7120e-01, -9.2127e-01, -1.4159e+00,\n",
      "         1.6531e-02, -6.3792e-01,  5.1167e-01,  3.6167e-01, -1.3585e-01,\n",
      "         6.1094e-01,  2.7156e-01,  4.9552e-01, -1.0393e+00,  2.9700e-01,\n",
      "        -6.7169e-01, -7.1377e-01,  2.5848e-01,  7.3621e-02,  5.0331e-02,\n",
      "         2.2472e-01, -3.8532e-01,  9.9617e-03, -6.7879e-02, -7.7955e-02,\n",
      "        -4.4956e-01,  1.8528e+00,  1.5305e+00,  2.2598e-01, -5.8522e-01,\n",
      "         4.8994e-01,  6.9847e-01, -3.4993e-01,  4.0096e-01,  1.5367e+00,\n",
      "        -1.2456e-01, -9.0872e-01, -4.7142e-01, -1.1398e+00,  1.6423e+00,\n",
      "        -6.9061e-01, -8.8025e-01, -1.3386e+00, -5.0809e-01, -3.1707e-01,\n",
      "         2.0900e-01, -2.8918e-01, -3.6064e-01,  1.5625e-01,  6.1036e-02,\n",
      "        -4.7900e-01,  9.4345e-01,  3.1026e-01, -5.6936e-01,  5.1809e-01,\n",
      "         9.4103e-01, -4.7187e-01])\n",
      "Embedding of the twenty-fifth token:   tensor([-3.7413e+00, -1.7520e+00,  1.0879e+00, -2.6189e-01,  1.2209e+00,\n",
      "        -2.1202e+00,  2.4666e-01, -1.6095e+00, -1.4584e+00, -2.8486e-01,\n",
      "        -4.0003e-02,  5.5437e-01, -3.2988e-01, -1.7677e+00,  1.8240e-02,\n",
      "         7.1387e-01, -2.4287e+00, -5.1276e-01, -1.0957e+00, -1.0621e-01,\n",
      "        -3.9150e-01, -6.3917e-01, -1.6922e+00,  4.6370e-01,  2.7983e+00,\n",
      "        -2.1735e+00,  2.2633e-01, -1.5044e+00,  2.5043e+00,  2.8687e+00,\n",
      "        -5.4855e-01, -1.2493e+00, -1.0729e+00,  4.8591e-01,  6.2581e-01,\n",
      "         7.3945e-01, -2.7724e-01,  3.2579e-01, -3.9838e-01, -1.5016e-01,\n",
      "         4.0103e-01, -1.4956e-01, -1.3609e-01,  1.7004e-01, -3.6427e-01,\n",
      "         2.1721e-01,  6.5192e-02,  8.9158e-01,  1.9804e-01, -7.5707e-01,\n",
      "        -3.0202e-01, -2.5986e-01, -3.5698e+00, -2.7806e-01, -1.1644e+00,\n",
      "        -2.4118e-01, -3.8254e-01,  9.2729e-02,  1.1562e+00, -3.6127e-01,\n",
      "         3.6679e-01, -4.3867e-01, -7.8185e-01, -5.4513e-01,  1.3964e-01,\n",
      "        -7.3291e-01, -6.2211e-01, -2.6527e-01, -1.8252e-01, -1.5734e-01,\n",
      "         8.6029e-01,  1.1440e+00,  2.4581e-01, -5.7757e-01,  1.6544e-02,\n",
      "        -1.2038e-01,  3.0286e-01,  6.6625e-01, -7.7792e-01, -2.0005e-01,\n",
      "         1.6162e-01, -2.8081e-01, -2.4011e-01, -3.9464e-01,  3.5476e-01,\n",
      "        -1.8748e-01,  2.8218e-01, -4.5322e-01, -1.3274e-01, -4.5206e-01,\n",
      "         4.6736e-01,  5.2971e-01,  3.1713e-01, -2.5321e-01,  8.5581e-02,\n",
      "        -2.8297e-01, -7.2676e-01, -2.8202e-02, -7.3362e-01, -9.7544e-01,\n",
      "        -4.3956e-01,  1.7114e-01, -7.3933e-01,  5.1941e-01,  1.0717e+00,\n",
      "        -7.8227e-01,  1.4384e+00,  6.7075e-01, -2.2129e-01,  1.0321e+00,\n",
      "        -4.5814e-01, -5.4777e-01,  7.8797e-03,  7.2205e-01,  5.7920e-01,\n",
      "        -6.2781e-01,  4.7623e-02,  5.9258e-01,  5.4644e-01,  9.5627e-01,\n",
      "         7.7211e-01,  6.6021e-01, -7.4602e-01, -9.2431e-01,  1.4840e-01,\n",
      "        -4.4212e-01,  3.3725e-01,  6.2384e-02, -5.4018e-03,  9.6277e-02,\n",
      "         3.2993e-01, -5.9718e-01,  1.0119e+00,  2.5620e-01,  1.1206e+00,\n",
      "        -7.6352e-01, -8.2646e-01, -4.8976e-01,  7.2192e-01, -1.2910e-01,\n",
      "         3.4164e-01, -6.8374e-01,  7.3341e-01,  9.6608e-01, -5.8582e-01,\n",
      "         1.2115e-01, -4.2796e-02,  5.1138e-01,  4.1575e-01,  5.9013e-01,\n",
      "         6.3282e-01,  2.0153e-01,  2.6146e-01, -3.2249e-01, -5.9907e-01,\n",
      "         4.7676e-01,  3.2556e-01,  5.3057e-01, -7.6710e-02, -6.4532e-01,\n",
      "        -4.8919e-01,  1.9144e-01,  2.0949e-01,  5.0758e-01,  6.0826e-02,\n",
      "         7.0925e-02,  2.9674e-01,  3.8082e-01, -3.2900e-01, -8.4011e-01,\n",
      "         1.0623e-03,  5.4540e-02,  4.0313e-01,  2.6696e-01,  6.9018e-01,\n",
      "         2.3334e-01, -1.4693e-01,  3.9469e-01, -9.0735e-02,  6.1203e-01,\n",
      "         1.1399e-02, -4.8602e-01,  6.0451e-02, -5.1124e-01, -3.3937e-01,\n",
      "        -5.8241e-01, -4.4668e-01, -1.2441e-01,  8.3781e-01,  3.0757e-03,\n",
      "         8.4054e-01, -5.2071e-01, -3.3596e-01,  5.2715e-02, -1.4874e-01,\n",
      "        -2.6059e-02, -5.8843e-02,  5.8849e-02, -3.9703e-01,  3.4632e-01,\n",
      "         1.2173e-01, -3.1256e-01,  6.2137e-01, -5.7000e-01,  2.5655e-01,\n",
      "         4.0296e-01, -8.4895e-01,  3.3583e-01,  8.7760e-01, -3.7603e-01,\n",
      "         3.2345e-01,  9.9356e-01,  1.0282e+00, -8.1056e-01,  7.9826e-01,\n",
      "        -7.5651e-01,  2.5411e-01, -5.1109e-02,  4.4499e-01,  1.8826e-01,\n",
      "        -5.4997e-01, -6.2395e-01, -6.5825e-02, -4.1653e-01, -1.1921e-01,\n",
      "        -1.6639e-01,  2.2670e-01,  5.3948e-02, -1.0959e-01, -4.6128e-01,\n",
      "        -5.8965e-01, -1.5696e-01, -1.3991e-01,  3.1363e-01,  3.1763e-01,\n",
      "         8.8565e-03, -1.2458e-01,  2.0110e-01, -3.0728e-01,  3.3006e-02,\n",
      "        -6.4018e-01, -3.2276e-01, -4.6880e-01,  4.6960e-01, -1.1032e-01,\n",
      "         4.9715e-01, -5.2288e-02, -4.9376e-01, -4.6493e-02,  3.0779e-01,\n",
      "        -1.8611e-01, -2.0577e-01,  4.9825e-01, -2.4776e-01, -2.1613e-01,\n",
      "         7.2030e-01, -4.4467e-02, -4.5000e-02, -3.3078e-01, -1.1163e-01,\n",
      "        -4.0930e-01,  4.9919e-01, -4.2928e-01,  1.1394e-01,  2.9357e-01,\n",
      "        -1.8478e-01,  4.8979e-01,  3.9731e-01,  1.8359e-01,  5.8851e-03,\n",
      "        -1.1300e-01,  5.3262e-01,  1.2057e-01, -5.6521e-02, -4.3332e-01,\n",
      "         5.4306e-03, -1.9340e-01,  2.1756e-01,  3.2480e-01, -4.9140e-01,\n",
      "         3.8860e-01,  1.8530e-01, -1.8853e-01,  4.1961e-01,  5.1867e-01,\n",
      "         8.3060e-01,  4.5078e-01,  5.5106e-01, -8.6119e-02,  1.0205e-01,\n",
      "         4.8085e-01, -4.2561e-01, -3.5402e-01,  1.9525e-01,  3.9231e-01,\n",
      "        -1.7803e-01,  1.9181e-01, -3.3194e-01, -3.6218e-01,  4.5180e-01,\n",
      "        -1.1076e-01,  1.2105e-01,  1.3646e-02, -3.4898e-01, -1.1954e-03,\n",
      "        -3.8473e-01,  8.7495e-02, -4.6495e-01, -3.1510e-01, -3.5296e-01,\n",
      "         5.7931e-01, -3.1476e-01, -9.4901e-02, -3.9190e-01, -6.9694e-01,\n",
      "        -1.0447e-02,  2.3938e-01, -1.7280e-01, -5.3704e-01,  1.0612e+00,\n",
      "         5.0175e-01, -1.1020e-02,  3.8966e-01,  4.2643e-01, -9.9510e-03,\n",
      "         2.0185e-01, -4.3824e-01,  3.2814e-01, -4.8346e-01, -3.2599e-01,\n",
      "         1.8513e-01, -4.6976e-02,  4.5525e-01,  6.4502e-01, -3.2612e-02,\n",
      "         8.7192e-02, -2.1008e-01,  2.8687e-02,  1.1076e-01, -3.0017e-01,\n",
      "        -5.0154e-02,  3.8217e-01,  2.6532e-02,  1.2623e-01,  1.0394e-01,\n",
      "         4.3786e-02, -1.1118e-01,  2.8052e-02, -6.8033e-03, -5.0394e-03,\n",
      "         4.3601e-01,  8.1189e-02, -7.4181e-02, -3.6765e-01, -1.9569e-02,\n",
      "         1.4345e-01,  2.8632e-01, -2.6073e-01,  3.6885e-02, -3.4718e-01,\n",
      "         5.2495e-01,  3.8395e-01,  1.5273e-01, -2.1628e-01,  3.4222e-01,\n",
      "        -3.4717e-01,  1.3506e-01, -2.9593e-01, -4.3897e-01,  6.6618e-02,\n",
      "        -6.0420e-01,  4.6465e-01, -4.1210e-01,  6.5812e-01,  3.3184e-01,\n",
      "         2.2699e-01,  1.5620e-01,  3.7608e-01, -3.8086e-02, -3.2624e-01,\n",
      "        -1.5369e-01, -4.2839e-01, -4.0469e-01, -8.9543e-03, -6.6050e-01,\n",
      "         1.9467e-01,  8.0796e-01, -4.7144e-01, -6.3811e-01,  3.5103e-01,\n",
      "        -3.6293e-01, -2.7268e-01, -3.6439e-01,  5.5532e-02,  1.3991e-01,\n",
      "         8.0138e-01, -5.7100e-01,  1.0608e+00,  2.4445e-01, -7.6118e-01,\n",
      "         2.2254e-02,  1.3983e-02,  6.2986e-01, -7.3683e-02,  8.0212e-01,\n",
      "        -2.8109e-01,  6.6694e-01, -6.7035e-01, -9.6533e-02, -1.9628e-02,\n",
      "         1.3905e-01,  5.9583e-02,  4.8975e-02,  5.6256e-01, -2.9041e-01,\n",
      "         5.6460e-02,  4.1767e-01, -7.3050e-01,  2.9958e-02, -5.7242e-01,\n",
      "         3.7911e-01,  8.6302e-01, -8.6317e-01, -9.3029e-01, -8.1289e-02,\n",
      "        -7.8378e-02, -2.2158e-01, -3.6283e-02,  5.3579e-01, -5.3185e-01,\n",
      "         5.7798e-01,  3.4648e-01,  2.6285e-01, -1.8939e-01, -1.6681e-01,\n",
      "         7.8349e-01,  1.9662e-01,  1.2939e-01, -4.4017e-01,  4.0976e-01,\n",
      "         4.2476e-01, -4.9217e-01,  6.2978e-01, -1.4613e-01, -1.6054e-01,\n",
      "         7.4404e-01,  1.6765e-01, -3.2840e-01,  4.1663e-01,  6.0308e-01,\n",
      "        -1.0861e+00,  5.4388e-01, -9.2215e-01, -4.8429e-01, -1.3947e+00,\n",
      "         2.5982e-01,  1.4184e+00,  3.7120e-01, -9.2127e-01, -1.4159e+00,\n",
      "         1.6531e-02, -6.3792e-01,  5.1167e-01,  3.6167e-01, -1.3585e-01,\n",
      "         6.1094e-01,  2.7156e-01,  4.9552e-01, -1.0393e+00,  2.9700e-01,\n",
      "        -6.7169e-01, -7.1377e-01,  2.5848e-01,  7.3621e-02,  5.0331e-02,\n",
      "         2.2472e-01, -3.8532e-01,  9.9617e-03, -6.7879e-02, -7.7955e-02,\n",
      "        -4.4956e-01,  1.8528e+00,  1.5305e+00,  2.2598e-01, -5.8522e-01,\n",
      "         4.8994e-01,  6.9847e-01, -3.4993e-01,  4.0096e-01,  1.5367e+00,\n",
      "        -1.2456e-01, -9.0872e-01, -4.7142e-01, -1.1398e+00,  1.6423e+00,\n",
      "        -6.9061e-01, -8.8025e-01, -1.3386e+00, -5.0809e-01, -3.1707e-01,\n",
      "         2.0900e-01, -2.8918e-01, -3.6064e-01,  1.5625e-01,  6.1036e-02,\n",
      "        -4.7900e-01,  9.4345e-01,  3.1026e-01, -5.6936e-01,  5.1809e-01,\n",
      "         9.4103e-01, -4.7187e-01])\n",
      "Embedding of the fortieth token:       tensor([-3.7413e+00, -1.7520e+00,  1.0879e+00, -2.6189e-01,  1.2209e+00,\n",
      "        -2.1202e+00,  2.4666e-01, -1.6095e+00, -1.4584e+00, -2.8486e-01,\n",
      "        -4.0003e-02,  5.5437e-01, -3.2988e-01, -1.7677e+00,  1.8240e-02,\n",
      "         7.1387e-01, -2.4287e+00, -5.1276e-01, -1.0957e+00, -1.0621e-01,\n",
      "        -3.9150e-01, -6.3917e-01, -1.6922e+00,  4.6370e-01,  2.7983e+00,\n",
      "        -2.1735e+00,  2.2633e-01, -1.5044e+00,  2.5043e+00,  2.8687e+00,\n",
      "        -5.4855e-01, -1.2493e+00, -1.0729e+00,  4.8591e-01,  6.2581e-01,\n",
      "         7.3945e-01, -2.7724e-01,  3.2579e-01, -3.9838e-01, -1.5016e-01,\n",
      "         4.0103e-01, -1.4956e-01, -1.3609e-01,  1.7004e-01, -3.6427e-01,\n",
      "         2.1721e-01,  6.5192e-02,  8.9158e-01,  1.9804e-01, -7.5707e-01,\n",
      "        -3.0202e-01, -2.5986e-01, -3.5698e+00, -2.7806e-01, -1.1644e+00,\n",
      "        -2.4118e-01, -3.8254e-01,  9.2729e-02,  1.1562e+00, -3.6127e-01,\n",
      "         3.6679e-01, -4.3867e-01, -7.8185e-01, -5.4513e-01,  1.3964e-01,\n",
      "        -7.3291e-01, -6.2211e-01, -2.6527e-01, -1.8252e-01, -1.5734e-01,\n",
      "         8.6029e-01,  1.1440e+00,  2.4581e-01, -5.7757e-01,  1.6544e-02,\n",
      "        -1.2038e-01,  3.0286e-01,  6.6625e-01, -7.7792e-01, -2.0005e-01,\n",
      "         1.6162e-01, -2.8081e-01, -2.4011e-01, -3.9464e-01,  3.5476e-01,\n",
      "        -1.8748e-01,  2.8218e-01, -4.5322e-01, -1.3274e-01, -4.5206e-01,\n",
      "         4.6736e-01,  5.2971e-01,  3.1713e-01, -2.5321e-01,  8.5581e-02,\n",
      "        -2.8297e-01, -7.2676e-01, -2.8202e-02, -7.3362e-01, -9.7544e-01,\n",
      "        -4.3956e-01,  1.7114e-01, -7.3933e-01,  5.1941e-01,  1.0717e+00,\n",
      "        -7.8227e-01,  1.4384e+00,  6.7075e-01, -2.2129e-01,  1.0321e+00,\n",
      "        -4.5814e-01, -5.4777e-01,  7.8797e-03,  7.2205e-01,  5.7920e-01,\n",
      "        -6.2781e-01,  4.7623e-02,  5.9258e-01,  5.4644e-01,  9.5627e-01,\n",
      "         7.7211e-01,  6.6021e-01, -7.4602e-01, -9.2431e-01,  1.4840e-01,\n",
      "        -4.4212e-01,  3.3725e-01,  6.2384e-02, -5.4018e-03,  9.6277e-02,\n",
      "         3.2993e-01, -5.9718e-01,  1.0119e+00,  2.5620e-01,  1.1206e+00,\n",
      "        -7.6352e-01, -8.2646e-01, -4.8976e-01,  7.2192e-01, -1.2910e-01,\n",
      "         3.4164e-01, -6.8374e-01,  7.3341e-01,  9.6608e-01, -5.8582e-01,\n",
      "         1.2115e-01, -4.2796e-02,  5.1138e-01,  4.1575e-01,  5.9013e-01,\n",
      "         6.3282e-01,  2.0153e-01,  2.6146e-01, -3.2249e-01, -5.9907e-01,\n",
      "         4.7676e-01,  3.2556e-01,  5.3057e-01, -7.6710e-02, -6.4532e-01,\n",
      "        -4.8919e-01,  1.9144e-01,  2.0949e-01,  5.0758e-01,  6.0826e-02,\n",
      "         7.0925e-02,  2.9674e-01,  3.8082e-01, -3.2900e-01, -8.4011e-01,\n",
      "         1.0623e-03,  5.4540e-02,  4.0313e-01,  2.6696e-01,  6.9018e-01,\n",
      "         2.3334e-01, -1.4693e-01,  3.9469e-01, -9.0735e-02,  6.1203e-01,\n",
      "         1.1399e-02, -4.8602e-01,  6.0451e-02, -5.1124e-01, -3.3937e-01,\n",
      "        -5.8241e-01, -4.4668e-01, -1.2441e-01,  8.3781e-01,  3.0757e-03,\n",
      "         8.4054e-01, -5.2071e-01, -3.3596e-01,  5.2715e-02, -1.4874e-01,\n",
      "        -2.6059e-02, -5.8843e-02,  5.8849e-02, -3.9703e-01,  3.4632e-01,\n",
      "         1.2173e-01, -3.1256e-01,  6.2137e-01, -5.7000e-01,  2.5655e-01,\n",
      "         4.0296e-01, -8.4895e-01,  3.3583e-01,  8.7760e-01, -3.7603e-01,\n",
      "         3.2345e-01,  9.9356e-01,  1.0282e+00, -8.1056e-01,  7.9826e-01,\n",
      "        -7.5651e-01,  2.5411e-01, -5.1109e-02,  4.4499e-01,  1.8826e-01,\n",
      "        -5.4997e-01, -6.2395e-01, -6.5825e-02, -4.1653e-01, -1.1921e-01,\n",
      "        -1.6639e-01,  2.2670e-01,  5.3948e-02, -1.0959e-01, -4.6128e-01,\n",
      "        -5.8965e-01, -1.5696e-01, -1.3991e-01,  3.1363e-01,  3.1763e-01,\n",
      "         8.8565e-03, -1.2458e-01,  2.0110e-01, -3.0728e-01,  3.3006e-02,\n",
      "        -6.4018e-01, -3.2276e-01, -4.6880e-01,  4.6960e-01, -1.1032e-01,\n",
      "         4.9715e-01, -5.2288e-02, -4.9376e-01, -4.6493e-02,  3.0779e-01,\n",
      "        -1.8611e-01, -2.0577e-01,  4.9825e-01, -2.4776e-01, -2.1613e-01,\n",
      "         7.2030e-01, -4.4467e-02, -4.5000e-02, -3.3078e-01, -1.1163e-01,\n",
      "        -4.0930e-01,  4.9919e-01, -4.2928e-01,  1.1394e-01,  2.9357e-01,\n",
      "        -1.8478e-01,  4.8979e-01,  3.9731e-01,  1.8359e-01,  5.8851e-03,\n",
      "        -1.1300e-01,  5.3262e-01,  1.2057e-01, -5.6521e-02, -4.3332e-01,\n",
      "         5.4306e-03, -1.9340e-01,  2.1756e-01,  3.2480e-01, -4.9140e-01,\n",
      "         3.8860e-01,  1.8530e-01, -1.8853e-01,  4.1961e-01,  5.1867e-01,\n",
      "         8.3060e-01,  4.5078e-01,  5.5106e-01, -8.6119e-02,  1.0205e-01,\n",
      "         4.8085e-01, -4.2561e-01, -3.5402e-01,  1.9525e-01,  3.9231e-01,\n",
      "        -1.7803e-01,  1.9181e-01, -3.3194e-01, -3.6218e-01,  4.5180e-01,\n",
      "        -1.1076e-01,  1.2105e-01,  1.3646e-02, -3.4898e-01, -1.1954e-03,\n",
      "        -3.8473e-01,  8.7495e-02, -4.6495e-01, -3.1510e-01, -3.5296e-01,\n",
      "         5.7931e-01, -3.1476e-01, -9.4901e-02, -3.9190e-01, -6.9694e-01,\n",
      "        -1.0447e-02,  2.3938e-01, -1.7280e-01, -5.3704e-01,  1.0612e+00,\n",
      "         5.0175e-01, -1.1020e-02,  3.8966e-01,  4.2643e-01, -9.9510e-03,\n",
      "         2.0185e-01, -4.3824e-01,  3.2814e-01, -4.8346e-01, -3.2599e-01,\n",
      "         1.8513e-01, -4.6976e-02,  4.5525e-01,  6.4502e-01, -3.2612e-02,\n",
      "         8.7192e-02, -2.1008e-01,  2.8687e-02,  1.1076e-01, -3.0017e-01,\n",
      "        -5.0154e-02,  3.8217e-01,  2.6532e-02,  1.2623e-01,  1.0394e-01,\n",
      "         4.3786e-02, -1.1118e-01,  2.8052e-02, -6.8033e-03, -5.0394e-03,\n",
      "         4.3601e-01,  8.1189e-02, -7.4181e-02, -3.6765e-01, -1.9569e-02,\n",
      "         1.4345e-01,  2.8632e-01, -2.6073e-01,  3.6885e-02, -3.4718e-01,\n",
      "         5.2495e-01,  3.8395e-01,  1.5273e-01, -2.1628e-01,  3.4222e-01,\n",
      "        -3.4717e-01,  1.3506e-01, -2.9593e-01, -4.3897e-01,  6.6618e-02,\n",
      "        -6.0420e-01,  4.6465e-01, -4.1210e-01,  6.5812e-01,  3.3184e-01,\n",
      "         2.2699e-01,  1.5620e-01,  3.7608e-01, -3.8086e-02, -3.2624e-01,\n",
      "        -1.5369e-01, -4.2839e-01, -4.0469e-01, -8.9543e-03, -6.6050e-01,\n",
      "         1.9467e-01,  8.0796e-01, -4.7144e-01, -6.3811e-01,  3.5103e-01,\n",
      "        -3.6293e-01, -2.7268e-01, -3.6439e-01,  5.5532e-02,  1.3991e-01,\n",
      "         8.0138e-01, -5.7100e-01,  1.0608e+00,  2.4445e-01, -7.6118e-01,\n",
      "         2.2254e-02,  1.3983e-02,  6.2986e-01, -7.3683e-02,  8.0212e-01,\n",
      "        -2.8109e-01,  6.6694e-01, -6.7035e-01, -9.6533e-02, -1.9628e-02,\n",
      "         1.3905e-01,  5.9583e-02,  4.8975e-02,  5.6256e-01, -2.9041e-01,\n",
      "         5.6460e-02,  4.1767e-01, -7.3050e-01,  2.9958e-02, -5.7242e-01,\n",
      "         3.7911e-01,  8.6302e-01, -8.6317e-01, -9.3029e-01, -8.1289e-02,\n",
      "        -7.8378e-02, -2.2158e-01, -3.6283e-02,  5.3579e-01, -5.3185e-01,\n",
      "         5.7798e-01,  3.4648e-01,  2.6285e-01, -1.8939e-01, -1.6681e-01,\n",
      "         7.8349e-01,  1.9662e-01,  1.2939e-01, -4.4017e-01,  4.0976e-01,\n",
      "         4.2476e-01, -4.9217e-01,  6.2978e-01, -1.4613e-01, -1.6054e-01,\n",
      "         7.4404e-01,  1.6765e-01, -3.2840e-01,  4.1663e-01,  6.0308e-01,\n",
      "        -1.0861e+00,  5.4388e-01, -9.2215e-01, -4.8429e-01, -1.3947e+00,\n",
      "         2.5982e-01,  1.4184e+00,  3.7120e-01, -9.2127e-01, -1.4159e+00,\n",
      "         1.6531e-02, -6.3792e-01,  5.1167e-01,  3.6167e-01, -1.3585e-01,\n",
      "         6.1094e-01,  2.7156e-01,  4.9552e-01, -1.0393e+00,  2.9700e-01,\n",
      "        -6.7169e-01, -7.1377e-01,  2.5848e-01,  7.3621e-02,  5.0331e-02,\n",
      "         2.2472e-01, -3.8532e-01,  9.9617e-03, -6.7879e-02, -7.7955e-02,\n",
      "        -4.4956e-01,  1.8528e+00,  1.5305e+00,  2.2598e-01, -5.8522e-01,\n",
      "         4.8994e-01,  6.9847e-01, -3.4993e-01,  4.0096e-01,  1.5367e+00,\n",
      "        -1.2456e-01, -9.0872e-01, -4.7142e-01, -1.1398e+00,  1.6423e+00,\n",
      "        -6.9061e-01, -8.8025e-01, -1.3386e+00, -5.0809e-01, -3.1707e-01,\n",
      "         2.0900e-01, -2.8918e-01, -3.6064e-01,  1.5625e-01,  6.1036e-02,\n",
      "        -4.7900e-01,  9.4345e-01,  3.1026e-01, -5.6936e-01,  5.1809e-01,\n",
      "         9.4103e-01, -4.7187e-01])\n",
      "Embedding of the fiftieth token:       tensor([-3.7413e+00, -1.7520e+00,  1.0879e+00, -2.6189e-01,  1.2209e+00,\n",
      "        -2.1202e+00,  2.4666e-01, -1.6095e+00, -1.4584e+00, -2.8486e-01,\n",
      "        -4.0003e-02,  5.5437e-01, -3.2988e-01, -1.7677e+00,  1.8240e-02,\n",
      "         7.1387e-01, -2.4287e+00, -5.1276e-01, -1.0957e+00, -1.0621e-01,\n",
      "        -3.9150e-01, -6.3917e-01, -1.6922e+00,  4.6370e-01,  2.7983e+00,\n",
      "        -2.1735e+00,  2.2633e-01, -1.5044e+00,  2.5043e+00,  2.8687e+00,\n",
      "        -5.4855e-01, -1.2493e+00, -1.0729e+00,  4.8591e-01,  6.2581e-01,\n",
      "         7.3945e-01, -2.7724e-01,  3.2579e-01, -3.9838e-01, -1.5016e-01,\n",
      "         4.0103e-01, -1.4956e-01, -1.3609e-01,  1.7004e-01, -3.6427e-01,\n",
      "         2.1721e-01,  6.5192e-02,  8.9158e-01,  1.9804e-01, -7.5707e-01,\n",
      "        -3.0202e-01, -2.5986e-01, -3.5698e+00, -2.7806e-01, -1.1644e+00,\n",
      "        -2.4118e-01, -3.8254e-01,  9.2729e-02,  1.1562e+00, -3.6127e-01,\n",
      "         3.6679e-01, -4.3867e-01, -7.8185e-01, -5.4513e-01,  1.3964e-01,\n",
      "        -7.3291e-01, -6.2211e-01, -2.6527e-01, -1.8252e-01, -1.5734e-01,\n",
      "         8.6029e-01,  1.1440e+00,  2.4581e-01, -5.7757e-01,  1.6544e-02,\n",
      "        -1.2038e-01,  3.0286e-01,  6.6625e-01, -7.7792e-01, -2.0005e-01,\n",
      "         1.6162e-01, -2.8081e-01, -2.4011e-01, -3.9464e-01,  3.5476e-01,\n",
      "        -1.8748e-01,  2.8218e-01, -4.5322e-01, -1.3274e-01, -4.5206e-01,\n",
      "         4.6736e-01,  5.2971e-01,  3.1713e-01, -2.5321e-01,  8.5581e-02,\n",
      "        -2.8297e-01, -7.2676e-01, -2.8202e-02, -7.3362e-01, -9.7544e-01,\n",
      "        -4.3956e-01,  1.7114e-01, -7.3933e-01,  5.1941e-01,  1.0717e+00,\n",
      "        -7.8227e-01,  1.4384e+00,  6.7075e-01, -2.2129e-01,  1.0321e+00,\n",
      "        -4.5814e-01, -5.4777e-01,  7.8797e-03,  7.2205e-01,  5.7920e-01,\n",
      "        -6.2781e-01,  4.7623e-02,  5.9258e-01,  5.4644e-01,  9.5627e-01,\n",
      "         7.7211e-01,  6.6021e-01, -7.4602e-01, -9.2431e-01,  1.4840e-01,\n",
      "        -4.4212e-01,  3.3725e-01,  6.2384e-02, -5.4018e-03,  9.6277e-02,\n",
      "         3.2993e-01, -5.9718e-01,  1.0119e+00,  2.5620e-01,  1.1206e+00,\n",
      "        -7.6352e-01, -8.2646e-01, -4.8976e-01,  7.2192e-01, -1.2910e-01,\n",
      "         3.4164e-01, -6.8374e-01,  7.3341e-01,  9.6608e-01, -5.8582e-01,\n",
      "         1.2115e-01, -4.2796e-02,  5.1138e-01,  4.1575e-01,  5.9013e-01,\n",
      "         6.3282e-01,  2.0153e-01,  2.6146e-01, -3.2249e-01, -5.9907e-01,\n",
      "         4.7676e-01,  3.2556e-01,  5.3057e-01, -7.6710e-02, -6.4532e-01,\n",
      "        -4.8919e-01,  1.9144e-01,  2.0949e-01,  5.0758e-01,  6.0826e-02,\n",
      "         7.0925e-02,  2.9674e-01,  3.8082e-01, -3.2900e-01, -8.4011e-01,\n",
      "         1.0623e-03,  5.4540e-02,  4.0313e-01,  2.6696e-01,  6.9018e-01,\n",
      "         2.3334e-01, -1.4693e-01,  3.9469e-01, -9.0735e-02,  6.1203e-01,\n",
      "         1.1399e-02, -4.8602e-01,  6.0451e-02, -5.1124e-01, -3.3937e-01,\n",
      "        -5.8241e-01, -4.4668e-01, -1.2441e-01,  8.3781e-01,  3.0757e-03,\n",
      "         8.4054e-01, -5.2071e-01, -3.3596e-01,  5.2715e-02, -1.4874e-01,\n",
      "        -2.6059e-02, -5.8843e-02,  5.8849e-02, -3.9703e-01,  3.4632e-01,\n",
      "         1.2173e-01, -3.1256e-01,  6.2137e-01, -5.7000e-01,  2.5655e-01,\n",
      "         4.0296e-01, -8.4895e-01,  3.3583e-01,  8.7760e-01, -3.7603e-01,\n",
      "         3.2345e-01,  9.9356e-01,  1.0282e+00, -8.1056e-01,  7.9826e-01,\n",
      "        -7.5651e-01,  2.5411e-01, -5.1109e-02,  4.4499e-01,  1.8826e-01,\n",
      "        -5.4997e-01, -6.2395e-01, -6.5825e-02, -4.1653e-01, -1.1921e-01,\n",
      "        -1.6639e-01,  2.2670e-01,  5.3948e-02, -1.0959e-01, -4.6128e-01,\n",
      "        -5.8965e-01, -1.5696e-01, -1.3991e-01,  3.1363e-01,  3.1763e-01,\n",
      "         8.8565e-03, -1.2458e-01,  2.0110e-01, -3.0728e-01,  3.3006e-02,\n",
      "        -6.4018e-01, -3.2276e-01, -4.6880e-01,  4.6960e-01, -1.1032e-01,\n",
      "         4.9715e-01, -5.2288e-02, -4.9376e-01, -4.6493e-02,  3.0779e-01,\n",
      "        -1.8611e-01, -2.0577e-01,  4.9825e-01, -2.4776e-01, -2.1613e-01,\n",
      "         7.2030e-01, -4.4467e-02, -4.5000e-02, -3.3078e-01, -1.1163e-01,\n",
      "        -4.0930e-01,  4.9919e-01, -4.2928e-01,  1.1394e-01,  2.9357e-01,\n",
      "        -1.8478e-01,  4.8979e-01,  3.9731e-01,  1.8359e-01,  5.8851e-03,\n",
      "        -1.1300e-01,  5.3262e-01,  1.2057e-01, -5.6521e-02, -4.3332e-01,\n",
      "         5.4306e-03, -1.9340e-01,  2.1756e-01,  3.2480e-01, -4.9140e-01,\n",
      "         3.8860e-01,  1.8530e-01, -1.8853e-01,  4.1961e-01,  5.1867e-01,\n",
      "         8.3060e-01,  4.5078e-01,  5.5106e-01, -8.6119e-02,  1.0205e-01,\n",
      "         4.8085e-01, -4.2561e-01, -3.5402e-01,  1.9525e-01,  3.9231e-01,\n",
      "        -1.7803e-01,  1.9181e-01, -3.3194e-01, -3.6218e-01,  4.5180e-01,\n",
      "        -1.1076e-01,  1.2105e-01,  1.3646e-02, -3.4898e-01, -1.1954e-03,\n",
      "        -3.8473e-01,  8.7495e-02, -4.6495e-01, -3.1510e-01, -3.5296e-01,\n",
      "         5.7931e-01, -3.1476e-01, -9.4901e-02, -3.9190e-01, -6.9694e-01,\n",
      "        -1.0447e-02,  2.3938e-01, -1.7280e-01, -5.3704e-01,  1.0612e+00,\n",
      "         5.0175e-01, -1.1020e-02,  3.8966e-01,  4.2643e-01, -9.9510e-03,\n",
      "         2.0185e-01, -4.3824e-01,  3.2814e-01, -4.8346e-01, -3.2599e-01,\n",
      "         1.8513e-01, -4.6976e-02,  4.5525e-01,  6.4502e-01, -3.2612e-02,\n",
      "         8.7192e-02, -2.1008e-01,  2.8687e-02,  1.1076e-01, -3.0017e-01,\n",
      "        -5.0154e-02,  3.8217e-01,  2.6532e-02,  1.2623e-01,  1.0394e-01,\n",
      "         4.3786e-02, -1.1118e-01,  2.8052e-02, -6.8033e-03, -5.0394e-03,\n",
      "         4.3601e-01,  8.1189e-02, -7.4181e-02, -3.6765e-01, -1.9569e-02,\n",
      "         1.4345e-01,  2.8632e-01, -2.6073e-01,  3.6885e-02, -3.4718e-01,\n",
      "         5.2495e-01,  3.8395e-01,  1.5273e-01, -2.1628e-01,  3.4222e-01,\n",
      "        -3.4717e-01,  1.3506e-01, -2.9593e-01, -4.3897e-01,  6.6618e-02,\n",
      "        -6.0420e-01,  4.6465e-01, -4.1210e-01,  6.5812e-01,  3.3184e-01,\n",
      "         2.2699e-01,  1.5620e-01,  3.7608e-01, -3.8086e-02, -3.2624e-01,\n",
      "        -1.5369e-01, -4.2839e-01, -4.0469e-01, -8.9543e-03, -6.6050e-01,\n",
      "         1.9467e-01,  8.0796e-01, -4.7144e-01, -6.3811e-01,  3.5103e-01,\n",
      "        -3.6293e-01, -2.7268e-01, -3.6439e-01,  5.5532e-02,  1.3991e-01,\n",
      "         8.0138e-01, -5.7100e-01,  1.0608e+00,  2.4445e-01, -7.6118e-01,\n",
      "         2.2254e-02,  1.3983e-02,  6.2986e-01, -7.3683e-02,  8.0212e-01,\n",
      "        -2.8109e-01,  6.6694e-01, -6.7035e-01, -9.6533e-02, -1.9628e-02,\n",
      "         1.3905e-01,  5.9583e-02,  4.8975e-02,  5.6256e-01, -2.9041e-01,\n",
      "         5.6460e-02,  4.1767e-01, -7.3050e-01,  2.9958e-02, -5.7242e-01,\n",
      "         3.7911e-01,  8.6302e-01, -8.6317e-01, -9.3029e-01, -8.1289e-02,\n",
      "        -7.8378e-02, -2.2158e-01, -3.6283e-02,  5.3579e-01, -5.3185e-01,\n",
      "         5.7798e-01,  3.4648e-01,  2.6285e-01, -1.8939e-01, -1.6681e-01,\n",
      "         7.8349e-01,  1.9662e-01,  1.2939e-01, -4.4017e-01,  4.0976e-01,\n",
      "         4.2476e-01, -4.9217e-01,  6.2978e-01, -1.4613e-01, -1.6054e-01,\n",
      "         7.4404e-01,  1.6765e-01, -3.2840e-01,  4.1663e-01,  6.0308e-01,\n",
      "        -1.0861e+00,  5.4388e-01, -9.2215e-01, -4.8429e-01, -1.3947e+00,\n",
      "         2.5982e-01,  1.4184e+00,  3.7120e-01, -9.2127e-01, -1.4159e+00,\n",
      "         1.6531e-02, -6.3792e-01,  5.1167e-01,  3.6167e-01, -1.3585e-01,\n",
      "         6.1094e-01,  2.7156e-01,  4.9552e-01, -1.0393e+00,  2.9700e-01,\n",
      "        -6.7169e-01, -7.1377e-01,  2.5848e-01,  7.3621e-02,  5.0331e-02,\n",
      "         2.2472e-01, -3.8532e-01,  9.9617e-03, -6.7879e-02, -7.7955e-02,\n",
      "        -4.4956e-01,  1.8528e+00,  1.5305e+00,  2.2598e-01, -5.8522e-01,\n",
      "         4.8994e-01,  6.9847e-01, -3.4993e-01,  4.0096e-01,  1.5367e+00,\n",
      "        -1.2456e-01, -9.0872e-01, -4.7142e-01, -1.1398e+00,  1.6423e+00,\n",
      "        -6.9061e-01, -8.8025e-01, -1.3386e+00, -5.0809e-01, -3.1707e-01,\n",
      "         2.0900e-01, -2.8918e-01, -3.6064e-01,  1.5625e-01,  6.1036e-02,\n",
      "        -4.7900e-01,  9.4345e-01,  3.1026e-01, -5.6936e-01,  5.1809e-01,\n",
      "         9.4103e-01, -4.7187e-01])\n"
     ]
    }
   ],
   "source": [
    "sequence = TrainTweetsDataset[0][0]\n",
    "sequence_embeddings = pretrained_embeddings_layer(sequence)\n",
    "\n",
    "print('Embedding of the first token:          {}'.format(sequence_embeddings[0]))\n",
    "print('Embedding of the second token:         {}'.format(sequence_embeddings[1]))\n",
    "print('Embedding of the third token:          {}'.format(sequence_embeddings[2]))\n",
    "print('Embedding of the fourth token:         {}'.format(sequence_embeddings[3]))\n",
    "print('Embedding of the fifth token:          {}'.format(sequence_embeddings[4]))\n",
    "print('Embedding of the sixth token:          {}'.format(sequence_embeddings[5]))\n",
    "print('Embedding of the twenty-fifth token:   {}'.format(sequence_embeddings[24]))\n",
    "print('Embedding of the fortieth token:       {}'.format(sequence_embeddings[39]))\n",
    "print('Embedding of the fiftieth token:       {}'.format(sequence_embeddings[44]))"
   ]
  },
  {
   "cell_type": "markdown",
   "metadata": {},
   "source": [
    "# Fully-Connected Neural Network with TF-IDF features"
   ]
  },
  {
   "cell_type": "code",
   "execution_count": 28,
   "metadata": {},
   "outputs": [],
   "source": [
    "# Convert the TF-IDF column to a torch tensor\n",
    "X_train = torch.FloatTensor(tweets_train['TFIDF'].tolist())\n",
    "# Convert the target column to a torch tensor\n",
    "y_train = torch.FloatTensor(tweets_train['target'].tolist()).unsqueeze(1)\n",
    "\n",
    "# Convert the TF-IDF column to a torch tensor\n",
    "X_test = torch.FloatTensor(tweets_test['TFIDF'].tolist())\n",
    "# Convert the target column to a torch tensor\n",
    "y_test = torch.FloatTensor(tweets_test['target'].tolist()).unsqueeze(1)"
   ]
  },
  {
   "cell_type": "code",
   "execution_count": 54,
   "metadata": {},
   "outputs": [],
   "source": [
    "# Create a torch Dataset object\n",
    "train_dataset = torch.utils.data.TensorDataset(X_train, y_train)\n",
    "# Create a torch DataLoader object\n",
    "train_loader = torch.utils.data.DataLoader(train_dataset, batch_size = 1024)\n",
    "\n",
    "# Create a torch Dataset object\n",
    "test_dataset = torch.utils.data.TensorDataset(X_test, y_test)\n",
    "# Create a torch DataLoader object\n",
    "test_loader = torch.utils.data.DataLoader(test_dataset, batch_size = 1024)"
   ]
  },
  {
   "cell_type": "code",
   "execution_count": 74,
   "metadata": {},
   "outputs": [
    {
     "name": "stdout",
     "output_type": "stream",
     "text": [
      "Device: mps\n"
     ]
    }
   ],
   "source": [
    "# Initialize the network, loss function, and optimizer\n",
    "device = set_device()\n",
    "customFCNN = CustomFCNN(input_size = X_train.shape[1], hidden_size = 2048, dropout_rate = 0.5).to(device)\n",
    "criterion = torch.nn.BCEWithLogitsLoss()\n",
    "optimizer = torch.optim.Adam(customFCNN.parameters(), lr = 1e-5)"
   ]
  },
  {
   "cell_type": "code",
   "execution_count": null,
   "metadata": {},
   "outputs": [],
   "source": [
    "train_losses, train_f1s, test_losses, test_f1s = train(customFCNN, train_loader, test_loader, optimizer, criterion, epochs = 32, device = device)"
   ]
  },
  {
   "cell_type": "markdown",
   "metadata": {},
   "source": [
    "# Training LSTM Neural Network with Custom Pre-trained Word2Vec Embeddings"
   ]
  },
  {
   "cell_type": "markdown",
   "metadata": {},
   "source": [
    "## SkipGram embeddings"
   ]
  },
  {
   "cell_type": "code",
   "execution_count": 137,
   "metadata": {
    "ExecuteTime": {
     "end_time": "2023-12-21T15:34:50.418593600Z",
     "start_time": "2023-12-21T15:34:50.412589100Z"
    }
   },
   "outputs": [],
   "source": [
    "TrainTweetsDataset_SkipGram = TweetsDataset(tweets_train, 'skipgram')\n",
    "# Create a dataloade for the training dataset\n",
    "TrainDataLoader_SkipGram = torch.utils.data.DataLoader(dataset = TrainTweetsDataset_SkipGram, batch_size = 64, shuffle = True)\n",
    "\n",
    "TestTweetsDataset_SkipGram = TweetsDataset(tweets_test, 'skipgram')\n",
    "# Create a dataloade for the training dataset\n",
    "TestDataLoader_SkipGram = torch.utils.data.DataLoader(dataset = TestTweetsDataset_SkipGram, batch_size = 64, shuffle = False)"
   ]
  },
  {
   "cell_type": "code",
   "execution_count": 138,
   "metadata": {},
   "outputs": [
    {
     "name": "stdout",
     "output_type": "stream",
     "text": [
      "Device: mps\n"
     ]
    }
   ],
   "source": [
    "# Initialize the network, loss function, and optimizer\n",
    "device = set_device()\n",
    "customPreTrainedLSTM = CustomLSTM(word2vec_model = skipgram_model,\n",
    "                                  hidden_size = 64, \n",
    "                                  output_size = 1, \n",
    "                                  num_layers = 1, \n",
    "                                  bidirectional = True,\n",
    "                                  freeze_embeddings = True).to(device)\n",
    "\n",
    "criterion = torch.nn.BCEWithLogitsLoss()\n",
    "optimizer = torch.optim.Adam(customPreTrainedLSTM.parameters(), lr = 1e-4)"
   ]
  },
  {
   "cell_type": "code",
   "execution_count": 139,
   "metadata": {},
   "outputs": [
    {
     "name": "stdout",
     "output_type": "stream",
     "text": [
      "Epoch 1/16\n",
      "======== Training phase ========\n",
      "huggingface/tokenizers: The current process just got forked, after parallelism has already been used. Disabling parallelism to avoid deadlocks...\n",
      "To disable this warning, you can either:\n",
      "\t- Avoid using `tokenizers` before the fork if possible\n",
      "\t- Explicitly set the environment variable TOKENIZERS_PARALLELISM=(true | false)\n"
     ]
    },
    {
     "name": "stderr",
     "output_type": "stream",
     "text": [
      "Loss = 0.6774 | Accuracy = 59.02% | F1-Score = 0.00% | Batch ID = 119 : 100%|██████████| 119/119 [00:02<00:00, 46.45it/s]\n"
     ]
    },
    {
     "name": "stdout",
     "output_type": "stream",
     "text": [
      "Training Cross-Entropy Loss = 0.6843\n",
      "Training Accuracy = 57.03%\n",
      "Training F1-Score = 0.00%\n",
      "======== Validation phase ========\n"
     ]
    },
    {
     "name": "stderr",
     "output_type": "stream",
     "text": [
      "Loss = 0.7019 | Accuracy = 50.79% | F1-Score = 0.00% | Batch ID = 51 : 100%|██████████| 51/51 [00:00<00:00, 83.76it/s]\n"
     ]
    },
    {
     "name": "stdout",
     "output_type": "stream",
     "text": [
      "Test Cross-Entropy Loss = 0.6833\n",
      "Test Accuracy = 57.03%\n",
      "Test F1-Score = 0.00%\n",
      "\n",
      "Epoch 2/16\n",
      "======== Training phase ========\n"
     ]
    },
    {
     "name": "stderr",
     "output_type": "stream",
     "text": [
      "Loss = 0.6768 | Accuracy = 59.02% | F1-Score = 0.00% | Batch ID = 119 : 100%|██████████| 119/119 [00:02<00:00, 53.61it/s]\n"
     ]
    },
    {
     "name": "stdout",
     "output_type": "stream",
     "text": [
      "Training Cross-Entropy Loss = 0.6835\n",
      "Training Accuracy = 57.03%\n",
      "Training F1-Score = 0.00%\n",
      "======== Validation phase ========\n"
     ]
    },
    {
     "name": "stderr",
     "output_type": "stream",
     "text": [
      "Loss = 0.7065 | Accuracy = 50.79% | F1-Score = 0.00% | Batch ID = 51 : 100%|██████████| 51/51 [00:00<00:00, 91.33it/s]\n"
     ]
    },
    {
     "name": "stdout",
     "output_type": "stream",
     "text": [
      "Test Cross-Entropy Loss = 0.6840\n",
      "Test Accuracy = 57.03%\n",
      "Test F1-Score = 0.00%\n",
      "\n",
      "Epoch 3/16\n",
      "======== Training phase ========\n"
     ]
    },
    {
     "name": "stderr",
     "output_type": "stream",
     "text": [
      "Loss = 0.7041 | Accuracy = 50.82% | F1-Score = 0.00% | Batch ID = 119 : 100%|██████████| 119/119 [00:02<00:00, 54.27it/s]\n"
     ]
    },
    {
     "name": "stdout",
     "output_type": "stream",
     "text": [
      "Training Cross-Entropy Loss = 0.6839\n",
      "Training Accuracy = 57.03%\n",
      "Training F1-Score = 0.00%\n",
      "======== Validation phase ========\n"
     ]
    },
    {
     "name": "stderr",
     "output_type": "stream",
     "text": [
      "Loss = 0.7041 | Accuracy = 50.79% | F1-Score = 0.00% | Batch ID = 51 : 100%|██████████| 51/51 [00:00<00:00, 89.68it/s]\n"
     ]
    },
    {
     "name": "stdout",
     "output_type": "stream",
     "text": [
      "Test Cross-Entropy Loss = 0.6835\n",
      "Test Accuracy = 57.03%\n",
      "Test F1-Score = 0.00%\n",
      "\n",
      "Epoch 4/16\n",
      "======== Training phase ========\n"
     ]
    },
    {
     "name": "stderr",
     "output_type": "stream",
     "text": [
      "Loss = 0.7111 | Accuracy = 47.54% | F1-Score = 0.00% | Batch ID = 119 : 100%|██████████| 119/119 [00:02<00:00, 54.47it/s]\n"
     ]
    },
    {
     "name": "stdout",
     "output_type": "stream",
     "text": [
      "Training Cross-Entropy Loss = 0.6836\n",
      "Training Accuracy = 57.03%\n",
      "Training F1-Score = 0.00%\n",
      "======== Validation phase ========\n"
     ]
    },
    {
     "name": "stderr",
     "output_type": "stream",
     "text": [
      "Loss = 0.7010 | Accuracy = 50.79% | F1-Score = 0.00% | Batch ID = 51 : 100%|██████████| 51/51 [00:00<00:00, 93.55it/s] \n"
     ]
    },
    {
     "name": "stdout",
     "output_type": "stream",
     "text": [
      "Test Cross-Entropy Loss = 0.6832\n",
      "Test Accuracy = 57.03%\n",
      "Test F1-Score = 0.00%\n",
      "\n",
      "Epoch 5/16\n",
      "======== Training phase ========\n"
     ]
    },
    {
     "name": "stderr",
     "output_type": "stream",
     "text": [
      "Loss = 0.6907 | Accuracy = 54.10% | F1-Score = 0.00% | Batch ID = 119 : 100%|██████████| 119/119 [00:02<00:00, 53.20it/s]\n"
     ]
    },
    {
     "name": "stdout",
     "output_type": "stream",
     "text": [
      "Training Cross-Entropy Loss = 0.6838\n",
      "Training Accuracy = 57.03%\n",
      "Training F1-Score = 0.00%\n",
      "======== Validation phase ========\n"
     ]
    },
    {
     "name": "stderr",
     "output_type": "stream",
     "text": [
      "Loss = 0.6987 | Accuracy = 50.79% | F1-Score = 0.00% | Batch ID = 51 : 100%|██████████| 51/51 [00:00<00:00, 88.45it/s]\n"
     ]
    },
    {
     "name": "stdout",
     "output_type": "stream",
     "text": [
      "Test Cross-Entropy Loss = 0.6834\n",
      "Test Accuracy = 57.03%\n",
      "Test F1-Score = 0.00%\n",
      "\n",
      "Epoch 6/16\n",
      "======== Training phase ========\n"
     ]
    },
    {
     "name": "stderr",
     "output_type": "stream",
     "text": [
      "Loss = 0.6674 | Accuracy = 62.30% | F1-Score = 0.00% | Batch ID = 119 : 100%|██████████| 119/119 [00:02<00:00, 54.08it/s]\n"
     ]
    },
    {
     "name": "stdout",
     "output_type": "stream",
     "text": [
      "Training Cross-Entropy Loss = 0.6836\n",
      "Training Accuracy = 57.03%\n",
      "Training F1-Score = 0.00%\n",
      "======== Validation phase ========\n"
     ]
    },
    {
     "name": "stderr",
     "output_type": "stream",
     "text": [
      "Loss = 0.7021 | Accuracy = 50.79% | F1-Score = 0.00% | Batch ID = 51 : 100%|██████████| 51/51 [00:00<00:00, 92.45it/s]\n"
     ]
    },
    {
     "name": "stdout",
     "output_type": "stream",
     "text": [
      "Test Cross-Entropy Loss = 0.6833\n",
      "Test Accuracy = 57.03%\n",
      "Test F1-Score = 0.00%\n",
      "\n",
      "Epoch 7/16\n",
      "======== Training phase ========\n"
     ]
    },
    {
     "name": "stderr",
     "output_type": "stream",
     "text": [
      "Loss = 0.6619 | Accuracy = 63.93% | F1-Score = 0.00% | Batch ID = 119 : 100%|██████████| 119/119 [00:02<00:00, 53.57it/s]\n"
     ]
    },
    {
     "name": "stdout",
     "output_type": "stream",
     "text": [
      "Training Cross-Entropy Loss = 0.6835\n",
      "Training Accuracy = 57.03%\n",
      "Training F1-Score = 0.00%\n",
      "======== Validation phase ========\n"
     ]
    },
    {
     "name": "stderr",
     "output_type": "stream",
     "text": [
      "Loss = 0.7028 | Accuracy = 50.79% | F1-Score = 0.00% | Batch ID = 51 : 100%|██████████| 51/51 [00:00<00:00, 90.73it/s]\n"
     ]
    },
    {
     "name": "stdout",
     "output_type": "stream",
     "text": [
      "Test Cross-Entropy Loss = 0.6833\n",
      "Test Accuracy = 57.03%\n",
      "Test F1-Score = 0.00%\n",
      "\n",
      "Epoch 8/16\n",
      "======== Training phase ========\n"
     ]
    },
    {
     "name": "stderr",
     "output_type": "stream",
     "text": [
      "Loss = 0.6417 | Accuracy = 70.49% | F1-Score = 0.00% | Batch ID = 119 : 100%|██████████| 119/119 [00:02<00:00, 54.02it/s]\n"
     ]
    },
    {
     "name": "stdout",
     "output_type": "stream",
     "text": [
      "Training Cross-Entropy Loss = 0.6838\n",
      "Training Accuracy = 57.03%\n",
      "Training F1-Score = 0.00%\n",
      "======== Validation phase ========\n"
     ]
    },
    {
     "name": "stderr",
     "output_type": "stream",
     "text": [
      "Loss = 0.7027 | Accuracy = 50.79% | F1-Score = 0.00% | Batch ID = 51 : 100%|██████████| 51/51 [00:00<00:00, 92.39it/s]\n"
     ]
    },
    {
     "name": "stdout",
     "output_type": "stream",
     "text": [
      "Test Cross-Entropy Loss = 0.6833\n",
      "Test Accuracy = 57.03%\n",
      "Test F1-Score = 0.00%\n",
      "\n",
      "Epoch 9/16\n",
      "======== Training phase ========\n"
     ]
    },
    {
     "name": "stderr",
     "output_type": "stream",
     "text": [
      "Loss = 0.7000 | Accuracy = 50.82% | F1-Score = 0.00% | Batch ID = 119 : 100%|██████████| 119/119 [00:02<00:00, 53.49it/s]\n"
     ]
    },
    {
     "name": "stdout",
     "output_type": "stream",
     "text": [
      "Training Cross-Entropy Loss = 0.6837\n",
      "Training Accuracy = 57.03%\n",
      "Training F1-Score = 0.00%\n",
      "======== Validation phase ========\n"
     ]
    },
    {
     "name": "stderr",
     "output_type": "stream",
     "text": [
      "Loss = 0.7003 | Accuracy = 50.79% | F1-Score = 0.00% | Batch ID = 51 : 100%|██████████| 51/51 [00:00<00:00, 90.87it/s]\n"
     ]
    },
    {
     "name": "stdout",
     "output_type": "stream",
     "text": [
      "Test Cross-Entropy Loss = 0.6832\n",
      "Test Accuracy = 57.03%\n",
      "Test F1-Score = 0.00%\n",
      "\n",
      "Epoch 10/16\n",
      "======== Training phase ========\n"
     ]
    },
    {
     "name": "stderr",
     "output_type": "stream",
     "text": [
      "Loss = 0.7133 | Accuracy = 47.54% | F1-Score = 0.00% | Batch ID = 119 : 100%|██████████| 119/119 [00:02<00:00, 54.24it/s]\n"
     ]
    },
    {
     "name": "stdout",
     "output_type": "stream",
     "text": [
      "Training Cross-Entropy Loss = 0.6835\n",
      "Training Accuracy = 57.03%\n",
      "Training F1-Score = 0.00%\n",
      "======== Validation phase ========\n"
     ]
    },
    {
     "name": "stderr",
     "output_type": "stream",
     "text": [
      "Loss = 0.7024 | Accuracy = 50.79% | F1-Score = 0.00% | Batch ID = 51 : 100%|██████████| 51/51 [00:00<00:00, 89.50it/s]\n"
     ]
    },
    {
     "name": "stdout",
     "output_type": "stream",
     "text": [
      "Test Cross-Entropy Loss = 0.6833\n",
      "Test Accuracy = 57.03%\n",
      "Test F1-Score = 0.00%\n",
      "\n",
      "Epoch 11/16\n",
      "======== Training phase ========\n"
     ]
    },
    {
     "name": "stderr",
     "output_type": "stream",
     "text": [
      "Loss = 0.7021 | Accuracy = 49.18% | F1-Score = 0.00% | Batch ID = 119 : 100%|██████████| 119/119 [00:02<00:00, 54.66it/s]\n"
     ]
    },
    {
     "name": "stdout",
     "output_type": "stream",
     "text": [
      "Training Cross-Entropy Loss = 0.6836\n",
      "Training Accuracy = 57.03%\n",
      "Training F1-Score = 0.00%\n",
      "======== Validation phase ========\n"
     ]
    },
    {
     "name": "stderr",
     "output_type": "stream",
     "text": [
      "Loss = 0.6983 | Accuracy = 50.79% | F1-Score = 0.00% | Batch ID = 51 : 100%|██████████| 51/51 [00:00<00:00, 90.45it/s]\n"
     ]
    },
    {
     "name": "stdout",
     "output_type": "stream",
     "text": [
      "Test Cross-Entropy Loss = 0.6835\n",
      "Test Accuracy = 57.03%\n",
      "Test F1-Score = 0.00%\n",
      "\n",
      "Epoch 12/16\n",
      "======== Training phase ========\n"
     ]
    },
    {
     "name": "stderr",
     "output_type": "stream",
     "text": [
      "Loss = 0.6760 | Accuracy = 60.66% | F1-Score = 0.00% | Batch ID = 119 : 100%|██████████| 119/119 [00:02<00:00, 52.78it/s]\n"
     ]
    },
    {
     "name": "stdout",
     "output_type": "stream",
     "text": [
      "Training Cross-Entropy Loss = 0.6837\n",
      "Training Accuracy = 57.03%\n",
      "Training F1-Score = 0.00%\n",
      "======== Validation phase ========\n"
     ]
    },
    {
     "name": "stderr",
     "output_type": "stream",
     "text": [
      "Loss = 0.6972 | Accuracy = 50.79% | F1-Score = 0.00% | Batch ID = 51 : 100%|██████████| 51/51 [00:00<00:00, 90.69it/s]\n"
     ]
    },
    {
     "name": "stdout",
     "output_type": "stream",
     "text": [
      "Test Cross-Entropy Loss = 0.6838\n",
      "Test Accuracy = 57.03%\n",
      "Test F1-Score = 0.00%\n",
      "\n",
      "Epoch 13/16\n",
      "======== Training phase ========\n"
     ]
    },
    {
     "name": "stderr",
     "output_type": "stream",
     "text": [
      "Loss = 0.6725 | Accuracy = 60.66% | F1-Score = 0.00% | Batch ID = 119 : 100%|██████████| 119/119 [00:02<00:00, 53.49it/s]\n"
     ]
    },
    {
     "name": "stdout",
     "output_type": "stream",
     "text": [
      "Training Cross-Entropy Loss = 0.6836\n",
      "Training Accuracy = 57.03%\n",
      "Training F1-Score = 0.00%\n",
      "======== Validation phase ========\n"
     ]
    },
    {
     "name": "stderr",
     "output_type": "stream",
     "text": [
      "Loss = 0.7017 | Accuracy = 50.79% | F1-Score = 0.00% | Batch ID = 51 : 100%|██████████| 51/51 [00:00<00:00, 88.00it/s]\n"
     ]
    },
    {
     "name": "stdout",
     "output_type": "stream",
     "text": [
      "Test Cross-Entropy Loss = 0.6832\n",
      "Test Accuracy = 57.03%\n",
      "Test F1-Score = 0.00%\n",
      "\n",
      "Epoch 14/16\n",
      "======== Training phase ========\n"
     ]
    },
    {
     "name": "stderr",
     "output_type": "stream",
     "text": [
      "Loss = 0.6567 | Accuracy = 67.21% | F1-Score = 0.00% | Batch ID = 119 : 100%|██████████| 119/119 [00:02<00:00, 53.89it/s]\n"
     ]
    },
    {
     "name": "stdout",
     "output_type": "stream",
     "text": [
      "Training Cross-Entropy Loss = 0.6835\n",
      "Training Accuracy = 57.03%\n",
      "Training F1-Score = 0.00%\n",
      "======== Validation phase ========\n"
     ]
    },
    {
     "name": "stderr",
     "output_type": "stream",
     "text": [
      "Loss = 0.6997 | Accuracy = 50.79% | F1-Score = 0.00% | Batch ID = 51 : 100%|██████████| 51/51 [00:00<00:00, 90.43it/s]\n"
     ]
    },
    {
     "name": "stdout",
     "output_type": "stream",
     "text": [
      "Test Cross-Entropy Loss = 0.6833\n",
      "Test Accuracy = 57.03%\n",
      "Test F1-Score = 0.00%\n",
      "\n",
      "Epoch 15/16\n",
      "======== Training phase ========\n"
     ]
    },
    {
     "name": "stderr",
     "output_type": "stream",
     "text": [
      "Loss = 0.7049 | Accuracy = 49.18% | F1-Score = 0.00% | Batch ID = 119 : 100%|██████████| 119/119 [00:02<00:00, 53.34it/s]\n"
     ]
    },
    {
     "name": "stdout",
     "output_type": "stream",
     "text": [
      "Training Cross-Entropy Loss = 0.6835\n",
      "Training Accuracy = 57.03%\n",
      "Training F1-Score = 0.00%\n",
      "======== Validation phase ========\n"
     ]
    },
    {
     "name": "stderr",
     "output_type": "stream",
     "text": [
      "Loss = 0.7003 | Accuracy = 50.79% | F1-Score = 0.00% | Batch ID = 51 : 100%|██████████| 51/51 [00:00<00:00, 89.83it/s]\n"
     ]
    },
    {
     "name": "stdout",
     "output_type": "stream",
     "text": [
      "Test Cross-Entropy Loss = 0.6832\n",
      "Test Accuracy = 57.03%\n",
      "Test F1-Score = 0.00%\n",
      "\n",
      "Epoch 16/16\n",
      "======== Training phase ========\n"
     ]
    },
    {
     "name": "stderr",
     "output_type": "stream",
     "text": [
      "Loss = 0.6873 | Accuracy = 55.74% | F1-Score = 0.00% | Batch ID = 119 : 100%|██████████| 119/119 [00:02<00:00, 54.45it/s]\n"
     ]
    },
    {
     "name": "stdout",
     "output_type": "stream",
     "text": [
      "Training Cross-Entropy Loss = 0.6834\n",
      "Training Accuracy = 57.03%\n",
      "Training F1-Score = 0.00%\n",
      "======== Validation phase ========\n"
     ]
    },
    {
     "name": "stderr",
     "output_type": "stream",
     "text": [
      "Loss = 0.7028 | Accuracy = 50.79% | F1-Score = 0.00% | Batch ID = 51 : 100%|██████████| 51/51 [00:00<00:00, 92.36it/s]"
     ]
    },
    {
     "name": "stdout",
     "output_type": "stream",
     "text": [
      "Test Cross-Entropy Loss = 0.6833\n",
      "Test Accuracy = 57.03%\n",
      "Test F1-Score = 0.00%\n",
      "\n"
     ]
    },
    {
     "name": "stderr",
     "output_type": "stream",
     "text": [
      "\n"
     ]
    }
   ],
   "source": [
    "train_losses, train_f1s, test_losses, test_f1s = train(customPreTrainedLSTM, TrainDataLoader_SkipGram, TestDataLoader_SkipGram, optimizer, criterion, epochs = 16, device = device)"
   ]
  },
  {
   "cell_type": "code",
   "execution_count": 140,
   "metadata": {},
   "outputs": [
    {
     "name": "stdout",
     "output_type": "stream",
     "text": [
      "Device: mps\n"
     ]
    }
   ],
   "source": [
    "# Initialize the network, loss function, and optimizer\n",
    "device = set_device()\n",
    "customPreTrainedLSTM_Attention = CustomLSTM_Attention(word2vec_model = skipgram_model, \n",
    "                                                      hidden_size = 64, \n",
    "                                                      output_size = 1, \n",
    "                                                      num_layers = 1, \n",
    "                                                      bidirectional = True,\n",
    "                                                      freeze_embeddings = False).to(device)\n",
    "\n",
    "criterion = torch.nn.BCEWithLogitsLoss()\n",
    "optimizer = torch.optim.Adam(customPreTrainedLSTM_Attention.parameters(), lr = 1e-4)"
   ]
  },
  {
   "cell_type": "code",
   "execution_count": 141,
   "metadata": {},
   "outputs": [
    {
     "name": "stdout",
     "output_type": "stream",
     "text": [
      "Epoch 1/16\n",
      "======== Training phase ========\n"
     ]
    },
    {
     "name": "stderr",
     "output_type": "stream",
     "text": [
      "Loss = 0.6268 | Accuracy = 65.57% | F1-Score = 16.00% | Batch ID = 119 : 100%|██████████| 119/119 [00:04<00:00, 26.76it/s]\n"
     ]
    },
    {
     "name": "stdout",
     "output_type": "stream",
     "text": [
      "Training Cross-Entropy Loss = 0.6743\n",
      "Training Accuracy = 57.40%\n",
      "Training F1-Score = 8.31%\n",
      "======== Validation phase ========\n"
     ]
    },
    {
     "name": "stderr",
     "output_type": "stream",
     "text": [
      "Loss = 0.6510 | Accuracy = 55.56% | F1-Score = 22.22% | Batch ID = 51 : 100%|██████████| 51/51 [00:00<00:00, 92.93it/s] \n"
     ]
    },
    {
     "name": "stdout",
     "output_type": "stream",
     "text": [
      "Test Cross-Entropy Loss = 0.6568\n",
      "Test Accuracy = 62.43%\n",
      "Test F1-Score = 28.72%\n",
      "\n",
      "Epoch 2/16\n",
      "======== Training phase ========\n"
     ]
    },
    {
     "name": "stderr",
     "output_type": "stream",
     "text": [
      "Loss = 0.5190 | Accuracy = 77.05% | F1-Score = 75.00% | Batch ID = 119 : 100%|██████████| 119/119 [00:04<00:00, 27.60it/s]\n"
     ]
    },
    {
     "name": "stdout",
     "output_type": "stream",
     "text": [
      "Training Cross-Entropy Loss = 0.5731\n",
      "Training Accuracy = 72.90%\n",
      "Training F1-Score = 61.80%\n",
      "======== Validation phase ========\n"
     ]
    },
    {
     "name": "stderr",
     "output_type": "stream",
     "text": [
      "Loss = 0.3937 | Accuracy = 87.30% | F1-Score = 86.67% | Batch ID = 51 : 100%|██████████| 51/51 [00:00<00:00, 97.96it/s] \n"
     ]
    },
    {
     "name": "stdout",
     "output_type": "stream",
     "text": [
      "Test Cross-Entropy Loss = 0.5265\n",
      "Test Accuracy = 75.73%\n",
      "Test F1-Score = 71.12%\n",
      "\n",
      "Epoch 3/16\n",
      "======== Training phase ========\n"
     ]
    },
    {
     "name": "stderr",
     "output_type": "stream",
     "text": [
      "Loss = 0.5158 | Accuracy = 75.41% | F1-Score = 66.67% | Batch ID = 119 : 100%|██████████| 119/119 [00:04<00:00, 27.42it/s]\n"
     ]
    },
    {
     "name": "stdout",
     "output_type": "stream",
     "text": [
      "Training Cross-Entropy Loss = 0.4592\n",
      "Training Accuracy = 79.43%\n",
      "Training F1-Score = 74.29%\n",
      "======== Validation phase ========\n"
     ]
    },
    {
     "name": "stderr",
     "output_type": "stream",
     "text": [
      "Loss = 0.3264 | Accuracy = 90.48% | F1-Score = 89.66% | Batch ID = 51 : 100%|██████████| 51/51 [00:00<00:00, 96.36it/s] \n"
     ]
    },
    {
     "name": "stdout",
     "output_type": "stream",
     "text": [
      "Test Cross-Entropy Loss = 0.4708\n",
      "Test Accuracy = 79.25%\n",
      "Test F1-Score = 73.19%\n",
      "\n",
      "Epoch 4/16\n",
      "======== Training phase ========\n"
     ]
    },
    {
     "name": "stderr",
     "output_type": "stream",
     "text": [
      "Loss = 0.3705 | Accuracy = 81.97% | F1-Score = 77.55% | Batch ID = 119 : 100%|██████████| 119/119 [00:04<00:00, 27.54it/s]\n"
     ]
    },
    {
     "name": "stdout",
     "output_type": "stream",
     "text": [
      "Training Cross-Entropy Loss = 0.4173\n",
      "Training Accuracy = 81.75%\n",
      "Training F1-Score = 77.51%\n",
      "======== Validation phase ========\n"
     ]
    },
    {
     "name": "stderr",
     "output_type": "stream",
     "text": [
      "Loss = 0.3227 | Accuracy = 87.30% | F1-Score = 86.21% | Batch ID = 51 : 100%|██████████| 51/51 [00:00<00:00, 92.71it/s] \n"
     ]
    },
    {
     "name": "stdout",
     "output_type": "stream",
     "text": [
      "Test Cross-Entropy Loss = 0.4593\n",
      "Test Accuracy = 79.68%\n",
      "Test F1-Score = 73.34%\n",
      "\n",
      "Epoch 5/16\n",
      "======== Training phase ========\n"
     ]
    },
    {
     "name": "stderr",
     "output_type": "stream",
     "text": [
      "Loss = 0.3323 | Accuracy = 85.25% | F1-Score = 83.02% | Batch ID = 119 : 100%|██████████| 119/119 [00:04<00:00, 27.56it/s]\n"
     ]
    },
    {
     "name": "stdout",
     "output_type": "stream",
     "text": [
      "Training Cross-Entropy Loss = 0.3887\n",
      "Training Accuracy = 83.19%\n",
      "Training F1-Score = 79.37%\n",
      "======== Validation phase ========\n"
     ]
    },
    {
     "name": "stderr",
     "output_type": "stream",
     "text": [
      "Loss = 0.3224 | Accuracy = 87.30% | F1-Score = 86.21% | Batch ID = 51 : 100%|██████████| 51/51 [00:00<00:00, 98.66it/s] \n"
     ]
    },
    {
     "name": "stdout",
     "output_type": "stream",
     "text": [
      "Test Cross-Entropy Loss = 0.4539\n",
      "Test Accuracy = 79.96%\n",
      "Test F1-Score = 73.94%\n",
      "\n",
      "Epoch 6/16\n",
      "======== Training phase ========\n"
     ]
    },
    {
     "name": "stderr",
     "output_type": "stream",
     "text": [
      "Loss = 0.3259 | Accuracy = 86.89% | F1-Score = 84.00% | Batch ID = 119 : 100%|██████████| 119/119 [00:04<00:00, 27.62it/s]\n"
     ]
    },
    {
     "name": "stdout",
     "output_type": "stream",
     "text": [
      "Training Cross-Entropy Loss = 0.3627\n",
      "Training Accuracy = 84.64%\n",
      "Training F1-Score = 81.26%\n",
      "======== Validation phase ========\n"
     ]
    },
    {
     "name": "stderr",
     "output_type": "stream",
     "text": [
      "Loss = 0.3266 | Accuracy = 87.30% | F1-Score = 86.21% | Batch ID = 51 : 100%|██████████| 51/51 [00:00<00:00, 98.47it/s] \n"
     ]
    },
    {
     "name": "stdout",
     "output_type": "stream",
     "text": [
      "Test Cross-Entropy Loss = 0.4537\n",
      "Test Accuracy = 79.93%\n",
      "Test F1-Score = 73.73%\n",
      "\n",
      "Epoch 7/16\n",
      "======== Training phase ========\n"
     ]
    },
    {
     "name": "stderr",
     "output_type": "stream",
     "text": [
      "Loss = 0.3547 | Accuracy = 86.89% | F1-Score = 80.95% | Batch ID = 119 : 100%|██████████| 119/119 [00:04<00:00, 27.61it/s]\n"
     ]
    },
    {
     "name": "stdout",
     "output_type": "stream",
     "text": [
      "Training Cross-Entropy Loss = 0.3325\n",
      "Training Accuracy = 86.34%\n",
      "Training F1-Score = 83.41%\n",
      "======== Validation phase ========\n"
     ]
    },
    {
     "name": "stderr",
     "output_type": "stream",
     "text": [
      "Loss = 0.3401 | Accuracy = 87.30% | F1-Score = 86.21% | Batch ID = 51 : 100%|██████████| 51/51 [00:00<00:00, 98.10it/s] \n"
     ]
    },
    {
     "name": "stdout",
     "output_type": "stream",
     "text": [
      "Test Cross-Entropy Loss = 0.4651\n",
      "Test Accuracy = 79.74%\n",
      "Test F1-Score = 73.34%\n",
      "\n",
      "Epoch 8/16\n",
      "======== Training phase ========\n"
     ]
    },
    {
     "name": "stderr",
     "output_type": "stream",
     "text": [
      "Loss = 0.3238 | Accuracy = 85.25% | F1-Score = 82.35% | Batch ID = 119 : 100%|██████████| 119/119 [00:04<00:00, 27.59it/s]\n"
     ]
    },
    {
     "name": "stdout",
     "output_type": "stream",
     "text": [
      "Training Cross-Entropy Loss = 0.3041\n",
      "Training Accuracy = 87.53%\n",
      "Training F1-Score = 84.94%\n",
      "======== Validation phase ========\n"
     ]
    },
    {
     "name": "stderr",
     "output_type": "stream",
     "text": [
      "Loss = 0.3464 | Accuracy = 85.71% | F1-Score = 84.75% | Batch ID = 51 : 100%|██████████| 51/51 [00:00<00:00, 97.63it/s] \n"
     ]
    },
    {
     "name": "stdout",
     "output_type": "stream",
     "text": [
      "Test Cross-Entropy Loss = 0.4673\n",
      "Test Accuracy = 78.85%\n",
      "Test F1-Score = 74.16%\n",
      "\n",
      "Epoch 9/16\n",
      "======== Training phase ========\n"
     ]
    },
    {
     "name": "stderr",
     "output_type": "stream",
     "text": [
      "Loss = 0.3289 | Accuracy = 86.89% | F1-Score = 80.00% | Batch ID = 119 : 100%|██████████| 119/119 [00:04<00:00, 27.54it/s]\n"
     ]
    },
    {
     "name": "stdout",
     "output_type": "stream",
     "text": [
      "Training Cross-Entropy Loss = 0.2686\n",
      "Training Accuracy = 89.52%\n",
      "Training F1-Score = 87.51%\n",
      "======== Validation phase ========\n"
     ]
    },
    {
     "name": "stderr",
     "output_type": "stream",
     "text": [
      "Loss = 0.3749 | Accuracy = 85.71% | F1-Score = 84.75% | Batch ID = 51 : 100%|██████████| 51/51 [00:00<00:00, 98.18it/s] \n"
     ]
    },
    {
     "name": "stdout",
     "output_type": "stream",
     "text": [
      "Test Cross-Entropy Loss = 0.4905\n",
      "Test Accuracy = 79.01%\n",
      "Test F1-Score = 74.16%\n",
      "\n",
      "Epoch 10/16\n",
      "======== Training phase ========\n"
     ]
    },
    {
     "name": "stderr",
     "output_type": "stream",
     "text": [
      "Loss = 0.2779 | Accuracy = 86.89% | F1-Score = 88.89% | Batch ID = 119 : 100%|██████████| 119/119 [00:04<00:00, 27.58it/s]\n"
     ]
    },
    {
     "name": "stdout",
     "output_type": "stream",
     "text": [
      "Training Cross-Entropy Loss = 0.2313\n",
      "Training Accuracy = 91.21%\n",
      "Training F1-Score = 89.53%\n",
      "======== Validation phase ========\n"
     ]
    },
    {
     "name": "stderr",
     "output_type": "stream",
     "text": [
      "Loss = 0.4015 | Accuracy = 85.71% | F1-Score = 84.75% | Batch ID = 51 : 100%|██████████| 51/51 [00:00<00:00, 99.82it/s] \n"
     ]
    },
    {
     "name": "stdout",
     "output_type": "stream",
     "text": [
      "Test Cross-Entropy Loss = 0.5230\n",
      "Test Accuracy = 78.70%\n",
      "Test F1-Score = 73.05%\n",
      "\n",
      "Epoch 11/16\n",
      "======== Training phase ========\n"
     ]
    },
    {
     "name": "stderr",
     "output_type": "stream",
     "text": [
      "Loss = 0.1556 | Accuracy = 91.80% | F1-Score = 91.23% | Batch ID = 119 : 100%|██████████| 119/119 [00:04<00:00, 27.65it/s]\n"
     ]
    },
    {
     "name": "stdout",
     "output_type": "stream",
     "text": [
      "Training Cross-Entropy Loss = 0.1961\n",
      "Training Accuracy = 92.55%\n",
      "Training F1-Score = 91.18%\n",
      "======== Validation phase ========\n"
     ]
    },
    {
     "name": "stderr",
     "output_type": "stream",
     "text": [
      "Loss = 0.4473 | Accuracy = 87.30% | F1-Score = 86.21% | Batch ID = 51 : 100%|██████████| 51/51 [00:00<00:00, 98.09it/s] \n"
     ]
    },
    {
     "name": "stdout",
     "output_type": "stream",
     "text": [
      "Test Cross-Entropy Loss = 0.5887\n",
      "Test Accuracy = 77.54%\n",
      "Test F1-Score = 70.43%\n",
      "\n",
      "Epoch 12/16\n",
      "======== Training phase ========\n"
     ]
    },
    {
     "name": "stderr",
     "output_type": "stream",
     "text": [
      "Loss = 0.1139 | Accuracy = 96.72% | F1-Score = 97.22% | Batch ID = 119 : 100%|██████████| 119/119 [00:04<00:00, 27.65it/s]\n"
     ]
    },
    {
     "name": "stdout",
     "output_type": "stream",
     "text": [
      "Training Cross-Entropy Loss = 0.1638\n",
      "Training Accuracy = 94.22%\n",
      "Training F1-Score = 93.20%\n",
      "======== Validation phase ========\n"
     ]
    },
    {
     "name": "stderr",
     "output_type": "stream",
     "text": [
      "Loss = 0.4767 | Accuracy = 84.13% | F1-Score = 83.33% | Batch ID = 51 : 100%|██████████| 51/51 [00:00<00:00, 103.54it/s]\n"
     ]
    },
    {
     "name": "stdout",
     "output_type": "stream",
     "text": [
      "Test Cross-Entropy Loss = 0.6200\n",
      "Test Accuracy = 77.14%\n",
      "Test F1-Score = 70.77%\n",
      "\n",
      "Epoch 13/16\n",
      "======== Training phase ========\n"
     ]
    },
    {
     "name": "stderr",
     "output_type": "stream",
     "text": [
      "Loss = 0.1330 | Accuracy = 93.44% | F1-Score = 91.30% | Batch ID = 119 : 100%|██████████| 119/119 [00:04<00:00, 27.78it/s]\n"
     ]
    },
    {
     "name": "stdout",
     "output_type": "stream",
     "text": [
      "Training Cross-Entropy Loss = 0.1370\n",
      "Training Accuracy = 95.32%\n",
      "Training F1-Score = 94.51%\n",
      "======== Validation phase ========\n"
     ]
    },
    {
     "name": "stderr",
     "output_type": "stream",
     "text": [
      "Loss = 0.5336 | Accuracy = 80.95% | F1-Score = 80.65% | Batch ID = 51 : 100%|██████████| 51/51 [00:00<00:00, 98.91it/s] \n"
     ]
    },
    {
     "name": "stdout",
     "output_type": "stream",
     "text": [
      "Test Cross-Entropy Loss = 0.6587\n",
      "Test Accuracy = 75.39%\n",
      "Test F1-Score = 70.55%\n",
      "\n",
      "Epoch 14/16\n",
      "======== Training phase ========\n"
     ]
    },
    {
     "name": "stderr",
     "output_type": "stream",
     "text": [
      "Loss = 0.0745 | Accuracy = 98.36% | F1-Score = 97.30% | Batch ID = 119 : 100%|██████████| 119/119 [00:04<00:00, 27.79it/s]  \n"
     ]
    },
    {
     "name": "stdout",
     "output_type": "stream",
     "text": [
      "Training Cross-Entropy Loss = 0.1192\n",
      "Training Accuracy = 95.77%\n",
      "Training F1-Score = 95.04%\n",
      "======== Validation phase ========\n"
     ]
    },
    {
     "name": "stderr",
     "output_type": "stream",
     "text": [
      "Loss = 0.5117 | Accuracy = 85.71% | F1-Score = 84.75% | Batch ID = 51 : 100%|██████████| 51/51 [00:00<00:00, 99.26it/s] \n"
     ]
    },
    {
     "name": "stdout",
     "output_type": "stream",
     "text": [
      "Test Cross-Entropy Loss = 0.6985\n",
      "Test Accuracy = 76.03%\n",
      "Test F1-Score = 70.04%\n",
      "\n",
      "Epoch 15/16\n",
      "======== Training phase ========\n"
     ]
    },
    {
     "name": "stderr",
     "output_type": "stream",
     "text": [
      "Loss = 0.1669 | Accuracy = 95.08% | F1-Score = 94.12% | Batch ID = 119 : 100%|██████████| 119/119 [00:04<00:00, 27.78it/s]  \n"
     ]
    },
    {
     "name": "stdout",
     "output_type": "stream",
     "text": [
      "Training Cross-Entropy Loss = 0.1016\n",
      "Training Accuracy = 96.40%\n",
      "Training F1-Score = 95.78%\n",
      "======== Validation phase ========\n"
     ]
    },
    {
     "name": "stderr",
     "output_type": "stream",
     "text": [
      "Loss = 0.5561 | Accuracy = 85.71% | F1-Score = 84.75% | Batch ID = 51 : 100%|██████████| 51/51 [00:00<00:00, 102.63it/s]\n"
     ]
    },
    {
     "name": "stdout",
     "output_type": "stream",
     "text": [
      "Test Cross-Entropy Loss = 0.7562\n",
      "Test Accuracy = 75.82%\n",
      "Test F1-Score = 69.41%\n",
      "\n",
      "Epoch 16/16\n",
      "======== Training phase ========\n"
     ]
    },
    {
     "name": "stderr",
     "output_type": "stream",
     "text": [
      "Loss = 0.1382 | Accuracy = 96.72% | F1-Score = 95.65% | Batch ID = 119 : 100%|██████████| 119/119 [00:04<00:00, 27.72it/s]  \n"
     ]
    },
    {
     "name": "stdout",
     "output_type": "stream",
     "text": [
      "Training Cross-Entropy Loss = 0.0899\n",
      "Training Accuracy = 96.86%\n",
      "Training F1-Score = 96.33%\n",
      "======== Validation phase ========\n"
     ]
    },
    {
     "name": "stderr",
     "output_type": "stream",
     "text": [
      "Loss = 0.5597 | Accuracy = 85.71% | F1-Score = 84.75% | Batch ID = 51 : 100%|██████████| 51/51 [00:00<00:00, 100.19it/s]\n"
     ]
    },
    {
     "name": "stdout",
     "output_type": "stream",
     "text": [
      "Test Cross-Entropy Loss = 0.7993\n",
      "Test Accuracy = 75.61%\n",
      "Test F1-Score = 69.36%\n",
      "\n"
     ]
    }
   ],
   "source": [
    "train_losses, train_f1s, test_losses, test_f1s = train(customPreTrainedLSTM_Attention, TrainDataLoader_SkipGram, TestDataLoader_SkipGram, optimizer, criterion, epochs = 16, device = device)"
   ]
  },
  {
   "cell_type": "code",
   "execution_count": 28,
   "metadata": {},
   "outputs": [
    {
     "name": "stdout",
     "output_type": "stream",
     "text": [
      "Device: mps\n"
     ]
    }
   ],
   "source": [
    "# Initialize the network, loss function, and optimizer\n",
    "device = set_device()\n",
    "\n",
    "customPreTrainedLSTM_MultiheadAttention = CustomLSTM_MultiHeadAttention(word2vec_model = skipgram_model,\n",
    "                                                                        hidden_size = 1024, \n",
    "                                                                        output_size = 1, \n",
    "                                                                        dropout = 0.1,\n",
    "                                                                        num_layers = 1, \n",
    "                                                                        bidirectional = True,\n",
    "                                                                        freeze_embeddings = True,\n",
    "                                                                        num_heads = 16).to(device)\n",
    "\n",
    "criterion = torch.nn.BCEWithLogitsLoss()\n",
    "optimizer = torch.optim.Adam(customPreTrainedLSTM_MultiheadAttention.parameters(), lr = 1e-5)"
   ]
  },
  {
   "cell_type": "code",
   "execution_count": null,
   "metadata": {},
   "outputs": [],
   "source": [
    "train_losses, train_f1s, test_losses, test_f1s = train(model = customPreTrainedLSTM_MultiheadAttention, \n",
    "                                                       train_loader = TrainDataLoader_SkipGram, \n",
    "                                                       test_loader = TestDataLoader_SkipGram, \n",
    "                                                       optimizer = optimizer, \n",
    "                                                       loss_func = criterion, \n",
    "                                                       epochs = 16, \n",
    "                                                       device = device)"
   ]
  },
  {
   "cell_type": "markdown",
   "metadata": {},
   "source": [
    "## CBOW embeddings"
   ]
  },
  {
   "cell_type": "code",
   "execution_count": 30,
   "metadata": {},
   "outputs": [],
   "source": [
    "TrainTweetsDataset_CBOW = TweetsDataset(tweets_train, 'cbow')\n",
    "# Create a dataloade for the training dataset\n",
    "TrainDataLoader_CBOW = torch.utils.data.DataLoader(dataset = TrainTweetsDataset_CBOW, batch_size = 64, shuffle = True)\n",
    "\n",
    "TestTweetsDataset_CBOW = TweetsDataset(tweets_test, 'cbow')\n",
    "# Create a dataloade for the training dataset\n",
    "TestDataLoader_CBOW = torch.utils.data.DataLoader(dataset = TestTweetsDataset_CBOW, batch_size = 64, shuffle = False)"
   ]
  },
  {
   "cell_type": "code",
   "execution_count": 31,
   "metadata": {},
   "outputs": [
    {
     "name": "stdout",
     "output_type": "stream",
     "text": [
      "Device: mps\n"
     ]
    }
   ],
   "source": [
    "# Initialize the network, loss function, and optimizer\n",
    "device = set_device()\n",
    "customPreTrainedLSTM = CustomLSTM(word2vec_model = cbow_model,\n",
    "                                  hidden_size = 64, \n",
    "                                  output_size = 1, \n",
    "                                  num_layers = 1, \n",
    "                                  bidirectional = True,\n",
    "                                  freeze_embeddings = True).to(device)\n",
    "\n",
    "criterion = torch.nn.BCEWithLogitsLoss()\n",
    "optimizer = torch.optim.Adam(customPreTrainedLSTM.parameters(), lr = 1e-4, weight_decay = 1e-5)"
   ]
  },
  {
   "cell_type": "code",
   "execution_count": null,
   "metadata": {},
   "outputs": [],
   "source": [
    "train_losses, train_f1s, test_losses, test_f1s = train(customPreTrainedLSTM, TrainDataLoader_CBOW, TestDataLoader_CBOW, optimizer, criterion, epochs = 16, device = device)"
   ]
  },
  {
   "cell_type": "code",
   "execution_count": 33,
   "metadata": {},
   "outputs": [
    {
     "name": "stdout",
     "output_type": "stream",
     "text": [
      "Device: mps\n"
     ]
    }
   ],
   "source": [
    "# Initialize the network, loss function, and optimizer\n",
    "device = set_device()\n",
    "customPreTrainedLSTM_Attention = CustomLSTM_Attention(word2vec_model = cbow_model, \n",
    "                                                      hidden_size = 64, \n",
    "                                                      output_size = 1, \n",
    "                                                      num_layers = 1, \n",
    "                                                      bidirectional = True,\n",
    "                                                      freeze_embeddings = True).to(device)\n",
    "\n",
    "criterion = torch.nn.BCEWithLogitsLoss()\n",
    "optimizer = torch.optim.AdamW(customPreTrainedLSTM_Attention.parameters(), lr = 1e-4, weight_decay = 1e-5)"
   ]
  },
  {
   "cell_type": "code",
   "execution_count": null,
   "metadata": {},
   "outputs": [],
   "source": [
    "train_losses, train_f1s, test_losses, test_f1s = train(customPreTrainedLSTM_Attention, TrainDataLoader_CBOW, TestDataLoader_CBOW, optimizer, criterion, epochs = 16, device = device)"
   ]
  },
  {
   "cell_type": "markdown",
   "metadata": {},
   "source": [
    "# Training GRU Neural Network with Custom Pre-trained Word2Vec Embeddings"
   ]
  },
  {
   "cell_type": "markdown",
   "metadata": {},
   "source": [
    "## SkipGram Embeddings"
   ]
  },
  {
   "cell_type": "code",
   "execution_count": 35,
   "metadata": {},
   "outputs": [],
   "source": [
    "TrainTweetsDataset_SkipGram = TweetsDataset(tweets_train, 'skipgram')\n",
    "# Create a dataloade for the training dataset\n",
    "TrainDataLoader_SkipGram = torch.utils.data.DataLoader(dataset = TrainTweetsDataset_SkipGram, batch_size = 64, shuffle = True)\n",
    "\n",
    "TestTweetsDataset_SkipGram = TweetsDataset(tweets_test, 'skipgram')\n",
    "# Create a dataloade for the training dataset\n",
    "TestDataLoader_SkipGram = torch.utils.data.DataLoader(dataset = TestTweetsDataset_SkipGram, batch_size = 64, shuffle = False)"
   ]
  },
  {
   "cell_type": "code",
   "execution_count": 38,
   "metadata": {},
   "outputs": [
    {
     "name": "stdout",
     "output_type": "stream",
     "text": [
      "Device: mps\n"
     ]
    }
   ],
   "source": [
    "# Initialize the network, loss function, and optimizer\n",
    "device = set_device()\n",
    "customPreTrainedGRU = CustomGRU(word2vec_model = skipgram_model, \n",
    "                                hidden_size = 64, \n",
    "                                output_size = 1, \n",
    "                                num_layers = 1, \n",
    "                                bidirectional = True,\n",
    "                                freeze_embeddings = True).to(device)\n",
    "\n",
    "criterion = torch.nn.BCEWithLogitsLoss()\n",
    "optimizer = torch.optim.Adam(customPreTrainedGRU.parameters(), lr = 1e-4, weight_decay = 1e-5)"
   ]
  },
  {
   "cell_type": "code",
   "execution_count": null,
   "metadata": {},
   "outputs": [],
   "source": [
    "train_losses, train_f1s, test_losses, test_f1s = train(customPreTrainedGRU, TrainDataLoader_SkipGram, TestDataLoader_SkipGram, optimizer, criterion, epochs = 16, device = device)"
   ]
  },
  {
   "cell_type": "code",
   "execution_count": 40,
   "metadata": {},
   "outputs": [
    {
     "name": "stdout",
     "output_type": "stream",
     "text": [
      "Device: mps\n"
     ]
    }
   ],
   "source": [
    "# Initialize the network, loss function, and optimizer\n",
    "device = set_device()\n",
    "customPreTrainedGRU_Attention = CustomGRU_Attention(word2vec_model = skipgram_model, \n",
    "                                                    hidden_size = 64, \n",
    "                                                    output_size = 1, \n",
    "                                                    num_layers = 1, \n",
    "                                                    bidirectional = True,\n",
    "                                                    freeze_embeddings = True).to(device)\n",
    "\n",
    "criterion = torch.nn.BCEWithLogitsLoss()\n",
    "optimizer = torch.optim.Adam(customPreTrainedGRU_Attention.parameters(), lr = 1e-4, weight_decay = 1e-5)"
   ]
  },
  {
   "cell_type": "code",
   "execution_count": null,
   "metadata": {},
   "outputs": [],
   "source": [
    "train_losses, train_f1s, test_losses, test_f1s = train(customPreTrainedGRU_Attention, TrainDataLoader_SkipGram, TestDataLoader_SkipGram, optimizer, criterion, epochs = 16, device = device)"
   ]
  },
  {
   "cell_type": "markdown",
   "metadata": {},
   "source": [
    "## CBOW Embeddings"
   ]
  },
  {
   "cell_type": "code",
   "execution_count": 42,
   "metadata": {},
   "outputs": [],
   "source": [
    "TrainTweetsDataset_CBOW = TweetsDataset(tweets_train, 'cbow')\n",
    "# Create a dataloade for the training dataset\n",
    "TrainDataLoader_CBOW = torch.utils.data.DataLoader(dataset = TrainTweetsDataset_CBOW, batch_size = 64, shuffle = True)\n",
    "\n",
    "TestTweetsDataset_CBOW = TweetsDataset(tweets_test, 'cbow')\n",
    "# Create a dataloade for the training dataset\n",
    "TestDataLoader_CBOW = torch.utils.data.DataLoader(dataset = TestTweetsDataset_CBOW, batch_size = 64, shuffle = False)"
   ]
  },
  {
   "cell_type": "code",
   "execution_count": 43,
   "metadata": {},
   "outputs": [
    {
     "name": "stdout",
     "output_type": "stream",
     "text": [
      "Device: mps\n"
     ]
    }
   ],
   "source": [
    "# Initialize the network, loss function, and optimizer\n",
    "device = set_device()\n",
    "customPreTrainedGRU = CustomGRU(word2vec_model = cbow_model, \n",
    "                                hidden_size = 64, \n",
    "                                output_size = 1, \n",
    "                                num_layers = 1, \n",
    "                                bidirectional = True,\n",
    "                                freeze_embeddings = True).to(device)\n",
    "\n",
    "criterion = torch.nn.BCEWithLogitsLoss()\n",
    "optimizer = torch.optim.Adam(customPreTrainedGRU.parameters(), lr = 1e-4, weight_decay = 1e-5)"
   ]
  },
  {
   "cell_type": "code",
   "execution_count": null,
   "metadata": {},
   "outputs": [],
   "source": [
    "train_losses, train_f1s, test_losses, test_f1s = train(customPreTrainedGRU, TrainDataLoader_CBOW, TestDataLoader_CBOW, optimizer, criterion, epochs = 16, device = device)"
   ]
  },
  {
   "cell_type": "code",
   "execution_count": 45,
   "metadata": {},
   "outputs": [
    {
     "name": "stdout",
     "output_type": "stream",
     "text": [
      "Device: mps\n"
     ]
    }
   ],
   "source": [
    "# Initialize the network, loss function, and optimizer\n",
    "device = set_device()\n",
    "customPreTrainedGRU_Attention = CustomGRU_Attention(word2vec_model = cbow_model, \n",
    "                                                    hidden_size = 64, \n",
    "                                                    output_size = 1, \n",
    "                                                    num_layers = 1, \n",
    "                                                    bidirectional = True,\n",
    "                                                    freeze_embeddings = True).to(device)\n",
    "\n",
    "criterion = torch.nn.BCEWithLogitsLoss()\n",
    "optimizer = torch.optim.Adam(customPreTrainedGRU_Attention.parameters(), lr = 1e-4, weight_decay = 1e-5)"
   ]
  },
  {
   "cell_type": "code",
   "execution_count": null,
   "metadata": {},
   "outputs": [],
   "source": [
    "train_losses, train_f1s, test_losses, test_f1s = train(customPreTrainedGRU_Attention, TrainDataLoader_CBOW, TestDataLoader_CBOW, optimizer, criterion, epochs = 8, device = device)"
   ]
  },
  {
   "cell_type": "markdown",
   "metadata": {},
   "source": [
    "# DistilBERT"
   ]
  },
  {
   "cell_type": "markdown",
   "metadata": {},
   "source": [
    "## DistilBERT Base"
   ]
  },
  {
   "cell_type": "code",
   "execution_count": 52,
   "metadata": {},
   "outputs": [],
   "source": [
    "DistilBERTbase_name = \"distilbert-base-uncased\"\n",
    "DistilBERTbase_tokenizer = DistilBertTokenizer.from_pretrained(DistilBERTbase_name)"
   ]
  },
  {
   "cell_type": "code",
   "execution_count": 53,
   "metadata": {},
   "outputs": [],
   "source": [
    "TrainDataset, TrainDataLoader = TokenizeBERT(tokenizer = DistilBERTbase_tokenizer, df = tweets_train, batch_size = 32, shuffle = True)\n",
    "TestDataset, TestDataLoader = TokenizeBERT(tokenizer = DistilBERTbase_tokenizer, df = tweets_test, batch_size = 32, shuffle = False)"
   ]
  },
  {
   "cell_type": "code",
   "execution_count": 54,
   "metadata": {},
   "outputs": [
    {
     "name": "stderr",
     "output_type": "stream",
     "text": [
      "Some weights of the model checkpoint at distilbert-base-uncased were not used when initializing DistilBertForSequenceClassification: ['vocab_transform.bias', 'vocab_projector.bias', 'vocab_projector.weight', 'vocab_transform.weight', 'vocab_layer_norm.bias', 'vocab_layer_norm.weight']\n",
      "- This IS expected if you are initializing DistilBertForSequenceClassification from the checkpoint of a model trained on another task or with another architecture (e.g. initializing a BertForSequenceClassification model from a BertForPreTraining model).\n",
      "- This IS NOT expected if you are initializing DistilBertForSequenceClassification from the checkpoint of a model that you expect to be exactly identical (initializing a BertForSequenceClassification model from a BertForSequenceClassification model).\n",
      "Some weights of DistilBertForSequenceClassification were not initialized from the model checkpoint at distilbert-base-uncased and are newly initialized: ['classifier.bias', 'classifier.weight', 'pre_classifier.bias', 'pre_classifier.weight']\n",
      "You should probably TRAIN this model on a down-stream task to be able to use it for predictions and inference.\n"
     ]
    }
   ],
   "source": [
    "# Load a model savel with extentions .bin\n",
    "DistilBERTbase = DistilBertForSequenceClassification.from_pretrained(DistilBERTbase_name, num_labels = 2, output_attentions = False, output_hidden_states = False)"
   ]
  },
  {
   "cell_type": "code",
   "execution_count": 55,
   "metadata": {},
   "outputs": [
    {
     "name": "stdout",
     "output_type": "stream",
     "text": [
      "Device: mps\n"
     ]
    }
   ],
   "source": [
    "# Initialize the network, loss function, and optimizer\n",
    "device = set_device()\n",
    "DistilBERTbase = DistilBERTbase.to(device)\n",
    "optimizer = torch.optim.AdamW(DistilBERTbase.parameters(), lr = 5e-5)"
   ]
  },
  {
   "cell_type": "code",
   "execution_count": null,
   "metadata": {},
   "outputs": [],
   "source": [
    "train_losses, train_f1s, test_losses, test_f1s = train_BERT(DistilBERTbase, TrainDataLoader, TestDataLoader, optimizer, epochs = 2, device = device)"
   ]
  },
  {
   "cell_type": "markdown",
   "metadata": {},
   "source": [
    "# BERT\n",
    "# Reference: https://arxiv.org/pdf/1810.04805.pdf"
   ]
  },
  {
   "cell_type": "markdown",
   "metadata": {},
   "source": [
    "## BERT base (110M parameters)"
   ]
  },
  {
   "cell_type": "code",
   "execution_count": 22,
   "metadata": {},
   "outputs": [],
   "source": [
    "BERTbase_name = \"bert-base-uncased\"\n",
    "BERTbase_tokenizer = BertTokenizer.from_pretrained(BERTbase_name)"
   ]
  },
  {
   "cell_type": "code",
   "execution_count": 23,
   "metadata": {},
   "outputs": [],
   "source": [
    "TrainDataset, TrainDataLoader = TokenizeBERT(tokenizer = BERTbase_tokenizer, df = tweets_train, batch_size = 32, shuffle = True)\n",
    "TestDataset, TestDataLoader = TokenizeBERT(tokenizer = BERTbase_tokenizer, df = tweets_test, batch_size = 32, shuffle = False)"
   ]
  },
  {
   "cell_type": "code",
   "execution_count": 24,
   "metadata": {},
   "outputs": [
    {
     "name": "stderr",
     "output_type": "stream",
     "text": [
      "Some weights of the model checkpoint at bert-base-uncased were not used when initializing BertForSequenceClassification: ['cls.seq_relationship.bias', 'cls.predictions.decoder.weight', 'cls.predictions.transform.LayerNorm.bias', 'cls.predictions.transform.LayerNorm.weight', 'cls.predictions.bias', 'cls.predictions.transform.dense.bias', 'cls.seq_relationship.weight', 'cls.predictions.transform.dense.weight']\n",
      "- This IS expected if you are initializing BertForSequenceClassification from the checkpoint of a model trained on another task or with another architecture (e.g. initializing a BertForSequenceClassification model from a BertForPreTraining model).\n",
      "- This IS NOT expected if you are initializing BertForSequenceClassification from the checkpoint of a model that you expect to be exactly identical (initializing a BertForSequenceClassification model from a BertForSequenceClassification model).\n",
      "Some weights of BertForSequenceClassification were not initialized from the model checkpoint at bert-base-uncased and are newly initialized: ['classifier.bias', 'classifier.weight']\n",
      "You should probably TRAIN this model on a down-stream task to be able to use it for predictions and inference.\n"
     ]
    }
   ],
   "source": [
    "# Load the BERT model for sequence classification\n",
    "BERTbase = BertForSequenceClassification.from_pretrained(BERTbase_name, num_labels = 2, output_attentions = False, output_hidden_states = False)"
   ]
  },
  {
   "cell_type": "code",
   "execution_count": 25,
   "metadata": {},
   "outputs": [
    {
     "name": "stdout",
     "output_type": "stream",
     "text": [
      "Device: mps\n"
     ]
    }
   ],
   "source": [
    "# Initialize the network, loss function, and optimizer\n",
    "device = set_device()\n",
    "BERTbase = BERTbase.to(device)\n",
    "optimizer = torch.optim.AdamW(BERTbase.parameters(), lr = 5e-5)"
   ]
  },
  {
   "cell_type": "code",
   "execution_count": null,
   "metadata": {},
   "outputs": [],
   "source": [
    "train_losses, train_f1s, test_losses, test_f1s = train_BERT(BERTbase, TrainDataLoader, TestDataLoader, optimizer, epochs = 2, device = device)"
   ]
  },
  {
   "cell_type": "markdown",
   "metadata": {},
   "source": [
    "## BERT large (340M parameters)"
   ]
  },
  {
   "cell_type": "code",
   "execution_count": 27,
   "metadata": {},
   "outputs": [
    {
     "data": {
      "application/vnd.jupyter.widget-view+json": {
       "model_id": "d815ac4716084ad69fdd51b0deed1990",
       "version_major": 2,
       "version_minor": 0
      },
      "text/plain": [
       "Downloading:   0%|          | 0.00/232k [00:00<?, ?B/s]"
      ]
     },
     "metadata": {},
     "output_type": "display_data"
    },
    {
     "data": {
      "application/vnd.jupyter.widget-view+json": {
       "model_id": "208634a2dcfe496eae0822afbc326136",
       "version_major": 2,
       "version_minor": 0
      },
      "text/plain": [
       "Downloading:   0%|          | 0.00/28.0 [00:00<?, ?B/s]"
      ]
     },
     "metadata": {},
     "output_type": "display_data"
    },
    {
     "data": {
      "application/vnd.jupyter.widget-view+json": {
       "model_id": "f18d0d462e5746d39e748e95d94c14dc",
       "version_major": 2,
       "version_minor": 0
      },
      "text/plain": [
       "Downloading:   0%|          | 0.00/571 [00:00<?, ?B/s]"
      ]
     },
     "metadata": {},
     "output_type": "display_data"
    }
   ],
   "source": [
    "BERTlarge_name = \"bert-large-uncased\"\n",
    "BERTlarge_tokenizer = BertTokenizer.from_pretrained(BERTlarge_name)"
   ]
  },
  {
   "cell_type": "code",
   "execution_count": 28,
   "metadata": {},
   "outputs": [],
   "source": [
    "TrainDataset, TrainDataLoader = TokenizeBERT(tokenizer = BERTlarge_tokenizer, df = tweets_train, batch_size = 32, shuffle = True)\n",
    "TestDataset, TestDataLoader = TokenizeBERT(tokenizer = BERTlarge_tokenizer, df = tweets_test, batch_size = 32, shuffle = False)"
   ]
  },
  {
   "cell_type": "code",
   "execution_count": 29,
   "metadata": {},
   "outputs": [
    {
     "data": {
      "application/vnd.jupyter.widget-view+json": {
       "model_id": "5aa5f9cec3a541f39c73961f4f096dc3",
       "version_major": 2,
       "version_minor": 0
      },
      "text/plain": [
       "Downloading:   0%|          | 0.00/1.34G [00:00<?, ?B/s]"
      ]
     },
     "metadata": {},
     "output_type": "display_data"
    },
    {
     "name": "stderr",
     "output_type": "stream",
     "text": [
      "Some weights of the model checkpoint at bert-large-uncased were not used when initializing BertForSequenceClassification: ['cls.seq_relationship.bias', 'cls.predictions.decoder.weight', 'cls.predictions.transform.LayerNorm.bias', 'cls.predictions.transform.LayerNorm.weight', 'cls.predictions.bias', 'cls.predictions.transform.dense.bias', 'cls.seq_relationship.weight', 'cls.predictions.transform.dense.weight']\n",
      "- This IS expected if you are initializing BertForSequenceClassification from the checkpoint of a model trained on another task or with another architecture (e.g. initializing a BertForSequenceClassification model from a BertForPreTraining model).\n",
      "- This IS NOT expected if you are initializing BertForSequenceClassification from the checkpoint of a model that you expect to be exactly identical (initializing a BertForSequenceClassification model from a BertForSequenceClassification model).\n",
      "Some weights of BertForSequenceClassification were not initialized from the model checkpoint at bert-large-uncased and are newly initialized: ['classifier.bias', 'classifier.weight']\n",
      "You should probably TRAIN this model on a down-stream task to be able to use it for predictions and inference.\n"
     ]
    }
   ],
   "source": [
    "# Load the BERT model for sequence classification\n",
    "BERTlarge = BertForSequenceClassification.from_pretrained(BERTlarge_name, num_labels = 2, output_attentions = False, output_hidden_states = False)"
   ]
  },
  {
   "cell_type": "code",
   "execution_count": 31,
   "metadata": {},
   "outputs": [
    {
     "name": "stdout",
     "output_type": "stream",
     "text": [
      "Device: mps\n"
     ]
    }
   ],
   "source": [
    "# Initialize the network, loss function, and optimizer\n",
    "device = set_device()\n",
    "BERTlarge = BERTlarge.to(device)\n",
    "optimizer = torch.optim.AdamW(BERTlarge.parameters(), lr = 5e-5)"
   ]
  },
  {
   "cell_type": "code",
   "execution_count": null,
   "metadata": {},
   "outputs": [],
   "source": [
    "train_losses, train_f1s, test_losses, test_f1s = train_BERT(BERTlarge, TrainDataLoader, TestDataLoader, optimizer, epochs = 2, device = device)"
   ]
  },
  {
   "cell_type": "markdown",
   "metadata": {},
   "source": [
    "# roBERTa"
   ]
  },
  {
   "cell_type": "markdown",
   "metadata": {},
   "source": [
    "## roBERTa Base"
   ]
  },
  {
   "cell_type": "code",
   "execution_count": 35,
   "metadata": {},
   "outputs": [],
   "source": [
    "ROBERTAbase_name = \"roberta-base\"\n",
    "ROBERTAbase_tokenizer = RobertaTokenizer.from_pretrained(ROBERTAbase_name)"
   ]
  },
  {
   "cell_type": "code",
   "execution_count": 125,
   "metadata": {},
   "outputs": [],
   "source": [
    "TrainDataset, TrainDataLoader = TokenizeBERT(tokenizer = ROBERTAbase_tokenizer, df = tweets_train, batch_size = 32, shuffle = True)\n",
    "TestDataset, TestDataLoader = TokenizeBERT(tokenizer = ROBERTAbase_tokenizer, df = tweets_test, batch_size = 32, shuffle = False)"
   ]
  },
  {
   "cell_type": "code",
   "execution_count": 126,
   "metadata": {},
   "outputs": [
    {
     "name": "stderr",
     "output_type": "stream",
     "text": [
      "Some weights of the model checkpoint at roberta-base were not used when initializing RobertaForSequenceClassification: ['lm_head.dense.weight', 'roberta.pooler.dense.bias', 'lm_head.bias', 'lm_head.decoder.weight', 'lm_head.layer_norm.weight', 'lm_head.layer_norm.bias', 'roberta.pooler.dense.weight', 'lm_head.dense.bias']\n",
      "- This IS expected if you are initializing RobertaForSequenceClassification from the checkpoint of a model trained on another task or with another architecture (e.g. initializing a BertForSequenceClassification model from a BertForPreTraining model).\n",
      "- This IS NOT expected if you are initializing RobertaForSequenceClassification from the checkpoint of a model that you expect to be exactly identical (initializing a BertForSequenceClassification model from a BertForSequenceClassification model).\n",
      "Some weights of RobertaForSequenceClassification were not initialized from the model checkpoint at roberta-base and are newly initialized: ['classifier.dense.weight', 'classifier.out_proj.bias', 'classifier.dense.bias', 'classifier.out_proj.weight']\n",
      "You should probably TRAIN this model on a down-stream task to be able to use it for predictions and inference.\n"
     ]
    }
   ],
   "source": [
    "# Load the roBERTa model for sequence classification\n",
    "ROBERTAbase = RobertaForSequenceClassification.from_pretrained(ROBERTAbase_name, num_labels = 2, output_attentions = False, output_hidden_states = False)"
   ]
  },
  {
   "cell_type": "code",
   "execution_count": 127,
   "metadata": {},
   "outputs": [
    {
     "name": "stdout",
     "output_type": "stream",
     "text": [
      "Device: mps\n"
     ]
    }
   ],
   "source": [
    "# Initialize the network, loss function, and optimizer\n",
    "device = set_device()\n",
    "ROBERTAbase = ROBERTAbase.to(device)\n",
    "optimizer = torch.optim.AdamW(ROBERTAbase.parameters(), lr = 5e-5)"
   ]
  },
  {
   "cell_type": "code",
   "execution_count": null,
   "metadata": {},
   "outputs": [],
   "source": [
    "train_losses, train_f1s, test_losses, test_f1s = train_BERT(ROBERTAbase, TrainDataLoader, TestDataLoader, optimizer, epochs = 2, device = device)"
   ]
  },
  {
   "cell_type": "markdown",
   "metadata": {},
   "source": [
    "## roBERTa Large"
   ]
  },
  {
   "cell_type": "code",
   "execution_count": 36,
   "metadata": {},
   "outputs": [],
   "source": [
    "ROBERTAlarge_name = \"roberta-large\"\n",
    "ROBERTAlarge_tokenizer = RobertaTokenizer.from_pretrained(ROBERTAlarge_name)"
   ]
  },
  {
   "cell_type": "code",
   "execution_count": 37,
   "metadata": {},
   "outputs": [],
   "source": [
    "TrainDataset, TrainDataLoader = TokenizeBERT(tokenizer = ROBERTAlarge_tokenizer, df = tweets_train, batch_size = 32, shuffle = True)\n",
    "TestDataset, TestDataLoader = TokenizeBERT(tokenizer = ROBERTAlarge_tokenizer, df = tweets_test, batch_size = 32, shuffle = False)"
   ]
  },
  {
   "cell_type": "code",
   "execution_count": 42,
   "metadata": {},
   "outputs": [
    {
     "name": "stderr",
     "output_type": "stream",
     "text": [
      "Some weights of the model checkpoint at roberta-large were not used when initializing RobertaForSequenceClassification: ['lm_head.layer_norm.bias', 'lm_head.decoder.weight', 'roberta.pooler.dense.bias', 'roberta.pooler.dense.weight', 'lm_head.dense.bias', 'lm_head.layer_norm.weight', 'lm_head.bias', 'lm_head.dense.weight']\n",
      "- This IS expected if you are initializing RobertaForSequenceClassification from the checkpoint of a model trained on another task or with another architecture (e.g. initializing a BertForSequenceClassification model from a BertForPreTraining model).\n",
      "- This IS NOT expected if you are initializing RobertaForSequenceClassification from the checkpoint of a model that you expect to be exactly identical (initializing a BertForSequenceClassification model from a BertForSequenceClassification model).\n",
      "Some weights of RobertaForSequenceClassification were not initialized from the model checkpoint at roberta-large and are newly initialized: ['classifier.dense.bias', 'classifier.dense.weight', 'classifier.out_proj.bias', 'classifier.out_proj.weight']\n",
      "You should probably TRAIN this model on a down-stream task to be able to use it for predictions and inference.\n"
     ]
    }
   ],
   "source": [
    "# Load the roBERTa model for sequence classification\n",
    "ROBERTAlarge = RobertaForSequenceClassification.from_pretrained(ROBERTAlarge_name, num_labels = 2, output_attentions = False, output_hidden_states = False)"
   ]
  },
  {
   "cell_type": "code",
   "execution_count": 43,
   "metadata": {},
   "outputs": [
    {
     "name": "stdout",
     "output_type": "stream",
     "text": [
      "Device: mps\n"
     ]
    }
   ],
   "source": [
    "# Initialize the network, loss function, and optimizer\n",
    "device = set_device()\n",
    "ROBERTAlarge = ROBERTAlarge.to(device)\n",
    "optimizer = torch.optim.AdamW(ROBERTAlarge.parameters(), lr = 5e-3)"
   ]
  },
  {
   "cell_type": "code",
   "execution_count": null,
   "metadata": {},
   "outputs": [],
   "source": [
    "train_losses, train_f1s, test_losses, test_f1s = train_BERT(ROBERTAlarge, TrainDataLoader, TestDataLoader, optimizer, epochs = 2, device = device)"
   ]
  },
  {
   "cell_type": "markdown",
   "metadata": {},
   "source": [
    "# BERTweet"
   ]
  },
  {
   "cell_type": "markdown",
   "metadata": {},
   "source": [
    "## BERTweet base"
   ]
  },
  {
   "cell_type": "code",
   "execution_count": null,
   "metadata": {},
   "outputs": [],
   "source": [
    "# !pip install emoji"
   ]
  },
  {
   "cell_type": "code",
   "execution_count": 220,
   "metadata": {},
   "outputs": [
    {
     "name": "stderr",
     "output_type": "stream",
     "text": [
      "Special tokens have been added in the vocabulary, make sure the associated word embeddings are fine-tuned or trained.\n"
     ]
    }
   ],
   "source": [
    "BERTweetbase_name = \"vinai/bertweet-base\"\n",
    "BERTweetbase_tokenizer = AutoTokenizer.from_pretrained(BERTweetbase_name, use_fast = False)"
   ]
  },
  {
   "cell_type": "code",
   "execution_count": 221,
   "metadata": {},
   "outputs": [],
   "source": [
    "TrainDataset, TrainDataLoader = TokenizeBERTweet(tokenizer = BERTweetbase_tokenizer, df = tweets_train, batch_size = 32, shuffle = True)\n",
    "TestDataset, TestDataLoader = TokenizeBERTweet(tokenizer = BERTweetbase_tokenizer, df = tweets_test, batch_size = 32, shuffle = False)"
   ]
  },
  {
   "cell_type": "code",
   "execution_count": 222,
   "metadata": {},
   "outputs": [
    {
     "name": "stderr",
     "output_type": "stream",
     "text": [
      "Some weights of the model checkpoint at vinai/bertweet-base were not used when initializing RobertaModel: ['lm_head.decoder.weight', 'lm_head.dense.weight', 'lm_head.layer_norm.bias', 'lm_head.layer_norm.weight', 'lm_head.decoder.bias', 'lm_head.bias', 'lm_head.dense.bias']\n",
      "- This IS expected if you are initializing RobertaModel from the checkpoint of a model trained on another task or with another architecture (e.g. initializing a BertForSequenceClassification model from a BertForPreTraining model).\n",
      "- This IS NOT expected if you are initializing RobertaModel from the checkpoint of a model that you expect to be exactly identical (initializing a BertForSequenceClassification model from a BertForSequenceClassification model).\n"
     ]
    }
   ],
   "source": [
    "BERTweetbase = AutoModel.from_pretrained(BERTweetbase_name)\n",
    "BERTweetbase = BERTweetForSequenceClassification(bertweet_model = BERTweetbase, hidden_size = 768, output_size = 1, dropout_rate = 0.3)"
   ]
  },
  {
   "cell_type": "code",
   "execution_count": 223,
   "metadata": {},
   "outputs": [
    {
     "name": "stdout",
     "output_type": "stream",
     "text": [
      "Device: mps\n"
     ]
    }
   ],
   "source": [
    "# Initialize the network, loss function, and optimizer\n",
    "device = set_device()\n",
    "BERTweetbase = BERTweetbase.to(device)\n",
    "criterion = torch.nn.BCEWithLogitsLoss()\n",
    "optimizer = torch.optim.AdamW(BERTweetbase.parameters(), lr = 5e-5, weight_decay = 0.05)\n",
    "scheduler = get_linear_schedule_with_warmup(optimizer = optimizer, \n",
    "                                            num_warmup_steps = int(0.1 * len(TrainDataLoader) * 2), \n",
    "                                            num_training_steps = len(TrainDataLoader) * 2)"
   ]
  },
  {
   "cell_type": "code",
   "execution_count": 224,
   "metadata": {},
   "outputs": [
    {
     "name": "stdout",
     "output_type": "stream",
     "text": [
      "Epoch 1/2\n",
      "======== Training phase ========\n"
     ]
    },
    {
     "name": "stderr",
     "output_type": "stream",
     "text": [
      "Loss = 0.3734 | Accuracy = 86.21% | F1-Score = 81.82% | Batch ID = 238 : 100%|██████████| 238/238 [01:06<00:00,  3.56it/s]\n"
     ]
    },
    {
     "name": "stdout",
     "output_type": "stream",
     "text": [
      "Training Cross-Entropy Loss = 0.4613\n",
      "Training Accuracy = 79.13%\n",
      "Training F1-Score = 74.86%\n",
      "======== Validation phase ========\n"
     ]
    },
    {
     "name": "stderr",
     "output_type": "stream",
     "text": [
      "Loss = 0.3537 | Accuracy = 87.10% | F1-Score = 90.48% | Batch ID = 102 : 100%|██████████| 102/102 [00:06<00:00, 16.24it/s]\n"
     ]
    },
    {
     "name": "stdout",
     "output_type": "stream",
     "text": [
      "Test Cross-Entropy Loss = 0.4097\n",
      "Test Accuracy = 82.41%\n",
      "Test F1-Score = 79.32%\n",
      "\n",
      "Epoch 2/2\n",
      "======== Training phase ========\n"
     ]
    },
    {
     "name": "stderr",
     "output_type": "stream",
     "text": [
      "Loss = 0.4774 | Accuracy = 82.76% | F1-Score = 80.00% | Batch ID = 238 : 100%|██████████| 238/238 [01:06<00:00,  3.59it/s]  \n"
     ]
    },
    {
     "name": "stdout",
     "output_type": "stream",
     "text": [
      "Training Cross-Entropy Loss = 0.3253\n",
      "Training Accuracy = 87.22%\n",
      "Training F1-Score = 84.34%\n",
      "======== Validation phase ========\n"
     ]
    },
    {
     "name": "stderr",
     "output_type": "stream",
     "text": [
      "Loss = 0.4642 | Accuracy = 87.10% | F1-Score = 90.48% | Batch ID = 102 : 100%|██████████| 102/102 [00:06<00:00, 16.30it/s]"
     ]
    },
    {
     "name": "stdout",
     "output_type": "stream",
     "text": [
      "Test Cross-Entropy Loss = 0.3962\n",
      "Test Accuracy = 83.88%\n",
      "Test F1-Score = 79.64%\n",
      "\n"
     ]
    },
    {
     "name": "stderr",
     "output_type": "stream",
     "text": [
      "\n"
     ]
    }
   ],
   "source": [
    "train_losses, train_f1s, test_losses, test_f1s = train_BERTweet(model = BERTweetbase, \n",
    "                                                                train_loader = TrainDataLoader, \n",
    "                                                                test_loader = TestDataLoader, \n",
    "                                                                optimizer = optimizer, \n",
    "                                                                scheduler = scheduler,\n",
    "                                                                loss_func = criterion, \n",
    "                                                                epochs = 2, \n",
    "                                                                device = device)"
   ]
  },
  {
   "cell_type": "markdown",
   "metadata": {},
   "source": [
    "## BERTweet Large"
   ]
  },
  {
   "cell_type": "code",
   "execution_count": 34,
   "metadata": {},
   "outputs": [
    {
     "name": "stderr",
     "output_type": "stream",
     "text": [
      "Special tokens have been added in the vocabulary, make sure the associated word embeddings are fine-tuned or trained.\n"
     ]
    }
   ],
   "source": [
    "BERTweetlarge_name = \"vinai/bertweet-large\"\n",
    "BERTweetlarge_tokenizer = AutoTokenizer.from_pretrained(BERTweetlarge_name, use_fast = False)\n",
    "\n",
    "# Initialize base BERTweet tokenizer to normalize tweets (large version doesn't do it)\n",
    "BERTweetbase_name = \"vinai/bertweet-base\"\n",
    "BERTweetbase_tokenizer = AutoTokenizer.from_pretrained(BERTweetbase_name, use_fast = False)"
   ]
  },
  {
   "cell_type": "code",
   "execution_count": 35,
   "metadata": {},
   "outputs": [
    {
     "name": "stderr",
     "output_type": "stream",
     "text": [
      "Asking to truncate to max_length but no maximum length is provided and the model has no predefined maximum length. Default to no truncation.\n"
     ]
    }
   ],
   "source": [
    "TrainDataset, TrainDataLoader = TokenizeBERTweet(tokenizer = BERTweetlarge_tokenizer, \n",
    "                                                 df = tweets_train, \n",
    "                                                 batch_size = 32, \n",
    "                                                 shuffle = True, \n",
    "                                                 tokenizer_normalizeTweet = BERTweetbase_tokenizer)\n",
    "\n",
    "TestDataset, TestDataLoader = TokenizeBERTweet(tokenizer = BERTweetlarge_tokenizer, \n",
    "                                               df = tweets_test, \n",
    "                                               batch_size = 32, \n",
    "                                               shuffle = False, \n",
    "                                               tokenizer_normalizeTweet = BERTweetbase_tokenizer)"
   ]
  },
  {
   "cell_type": "code",
   "execution_count": 36,
   "metadata": {},
   "outputs": [
    {
     "name": "stderr",
     "output_type": "stream",
     "text": [
      "Some weights of the model checkpoint at vinai/bertweet-large were not used when initializing RobertaModel: ['lm_head.dense.bias', 'lm_head.decoder.weight', 'lm_head.bias', 'lm_head.decoder.bias', 'lm_head.layer_norm.bias', 'lm_head.dense.weight', 'lm_head.layer_norm.weight']\n",
      "- This IS expected if you are initializing RobertaModel from the checkpoint of a model trained on another task or with another architecture (e.g. initializing a BertForSequenceClassification model from a BertForPreTraining model).\n",
      "- This IS NOT expected if you are initializing RobertaModel from the checkpoint of a model that you expect to be exactly identical (initializing a BertForSequenceClassification model from a BertForSequenceClassification model).\n",
      "Some weights of RobertaModel were not initialized from the model checkpoint at vinai/bertweet-large and are newly initialized: ['roberta.pooler.dense.bias', 'roberta.pooler.dense.weight']\n",
      "You should probably TRAIN this model on a down-stream task to be able to use it for predictions and inference.\n"
     ]
    }
   ],
   "source": [
    "# BERTweetlarge = AutoModelForSequenceClassification.from_pretrained(BERTweetlarge_name)\n",
    "BERTweetlarge = AutoModel.from_pretrained(BERTweetlarge_name)\n",
    "BERTweetlarge = BERTweetForSequenceClassification(bertweet_model = BERTweetlarge, hidden_size = 1024, output_size = 1, dropout_rate = 0.1)"
   ]
  },
  {
   "cell_type": "code",
   "execution_count": 38,
   "metadata": {},
   "outputs": [
    {
     "name": "stdout",
     "output_type": "stream",
     "text": [
      "Device: mps\n"
     ]
    }
   ],
   "source": [
    "# Initialize the network, loss function, and optimizer\n",
    "device = set_device()\n",
    "BERTweetlarge = BERTweetlarge.to(device)\n",
    "criterion = torch.nn.BCEWithLogitsLoss()\n",
    "optimizer = torch.optim.AdamW(BERTweetlarge.parameters(), lr = 5e-5)"
   ]
  },
  {
   "cell_type": "code",
   "execution_count": null,
   "metadata": {},
   "outputs": [],
   "source": [
    "train_losses, train_f1s, test_losses, test_f1s = train_BERTweet(BERTweetlarge, TrainDataLoader, TestDataLoader, optimizer, criterion, epochs = 2, device = device)\n",
    "#train_losses, train_f1s, test_losses, test_f1s = train_BERT(BERTweetlarge, TrainDataLoader, TestDataLoader, optimizer, epochs = 2, device = device)"
   ]
  },
  {
   "cell_type": "markdown",
   "metadata": {},
   "source": [
    "# Evaluation (best model)"
   ]
  },
  {
   "cell_type": "code",
   "execution_count": null,
   "metadata": {},
   "outputs": [],
   "source": [
    "BERTweetbase_8115f1 = torch.load('/Users/luish/Desktop/BERTweetbase_0.8115f1.pt')"
   ]
  },
  {
   "cell_type": "code",
   "execution_count": 29,
   "metadata": {},
   "outputs": [
    {
     "name": "stderr",
     "output_type": "stream",
     "text": [
      "100%|██████████| 102/102 [00:06<00:00, 16.65it/s]\n"
     ]
    }
   ],
   "source": [
    "y_true, y_hat = predict(BERTweetbase_8115f1, TestDataLoader, device)"
   ]
  },
  {
   "cell_type": "code",
   "execution_count": 30,
   "metadata": {},
   "outputs": [
    {
     "name": "stdout",
     "output_type": "stream",
     "text": [
      "\n",
      "Confusion Matrix:\n",
      "╒═══════════════════════╤════════════════════════════╤══════════════════════╕\n",
      "│                       │  Predicted Not a Disaster  │  Predicted Disaster  │\n",
      "╞═══════════════════════╪════════════════════════════╪══════════════════════╡\n",
      "│ Actual Not a Disaster │            1665            │         311          │\n",
      "├───────────────────────┼────────────────────────────┼──────────────────────┤\n",
      "│    Actual Disaster    │            196             │         1091         │\n",
      "╘═══════════════════════╧════════════════════════════╧══════════════════════╛\n"
     ]
    }
   ],
   "source": [
    "ComputeConfusionMatrix(y_true, y_hat)"
   ]
  },
  {
   "cell_type": "code",
   "execution_count": 31,
   "metadata": {},
   "outputs": [
    {
     "name": "stdout",
     "output_type": "stream",
     "text": [
      "╒════════════════════╤═════════╕\n",
      "│       Metric       │  Value  │\n",
      "╞════════════════════╪═════════╡\n",
      "│      Accuracy      │ 84.46%  │\n",
      "├────────────────────┼─────────┤\n",
      "│ Weighted Precision │ 77.82%  │\n",
      "├────────────────────┼─────────┤\n",
      "│  Weighted Recall   │ 84.77%  │\n",
      "├────────────────────┼─────────┤\n",
      "│ Weighted F1 Score  │ 81.15%  │\n",
      "╘════════════════════╧═════════╛\n"
     ]
    }
   ],
   "source": [
    "ComputeClassificationMetrics(y_true, y_hat)"
   ]
  },
  {
   "cell_type": "markdown",
   "metadata": {},
   "source": [
    "# Interpretability (best model)"
   ]
  },
  {
   "cell_type": "code",
   "execution_count": 293,
   "metadata": {},
   "outputs": [],
   "source": [
    "# Load the BERTweet model saved locally\n",
    "BERTweetbase_8115f1 = torch.load('/Users/luish/Desktop/BERTweetbase_0.8115f1.pt')"
   ]
  },
  {
   "cell_type": "code",
   "execution_count": 294,
   "metadata": {},
   "outputs": [
    {
     "name": "stdout",
     "output_type": "stream",
     "text": [
      "Device: mps\n"
     ]
    },
    {
     "data": {
      "image/png": "[encoded data removed]",
      "text/plain": [
       "<Figure size 1200x800 with 1 Axes>"
      ]
     },
     "metadata": {},
     "output_type": "display_data"
    }
   ],
   "source": [
    "ComputeAttentionMaps(dataset = TestDataset, model = BERTweetbase_8115f1, input_id = 0, num_head = 0)"
   ]
  },
  {
   "cell_type": "code",
   "execution_count": null,
   "metadata": {},
   "outputs": [],
   "source": []
  },
  {
   "cell_type": "code",
   "execution_count": null,
   "metadata": {},
   "outputs": [],
   "source": []
  },
  {
   "cell_type": "markdown",
   "metadata": {
    "collapsed": false
   },
   "source": [
    "# Transformer Implementation from scratch"
   ]
  },
  {
   "cell_type": "code",
   "execution_count": 6,
   "metadata": {
    "ExecuteTime": {
     "end_time": "2023-12-29T23:11:27.031219500Z",
     "start_time": "2023-12-29T23:11:27.022593400Z"
    },
    "collapsed": false
   },
   "outputs": [],
   "source": [
    "class MultiHeadAttention(nn.Module):\n",
    "    def __init__(self, d_model, num_heads):\n",
    "        super(MultiHeadAttention, self).__init__()\n",
    "        assert d_model % num_heads == 0, \"d_model must be divisible by num_heads\"\n",
    "\n",
    "        self.d_model = d_model\n",
    "        self.num_heads = num_heads\n",
    "        self.d_k = d_model // num_heads\n",
    "\n",
    "        self.W_q = nn.Linear(d_model, d_model)\n",
    "        self.W_k = nn.Linear(d_model, d_model)\n",
    "        self.W_v = nn.Linear(d_model, d_model)\n",
    "        self.W_o = nn.Linear(d_model, d_model)\n",
    "\n",
    "    def scaled_dot_product_attention(self, Q, K, V, mask=None):\n",
    "        attn_scores = torch.matmul(Q, K.transpose(-2, -1)) / math.sqrt(self.d_k)\n",
    "        if mask is not None:\n",
    "            attn_scores = attn_scores.masked_fill(mask == 0, -1e9)\n",
    "        attn_probs = torch.softmax(attn_scores, dim=-1)\n",
    "        output = torch.matmul(attn_probs, V)\n",
    "        return output\n",
    "\n",
    "    def split_heads(self, x):\n",
    "        batch_size, seq_length, d_model = x.size()\n",
    "        return x.view(batch_size, seq_length, self.num_heads, self.d_k).transpose(1, 2)\n",
    "\n",
    "    def combine_heads(self, x):\n",
    "        batch_size, _, seq_length, d_k = x.size()\n",
    "        return x.transpose(1, 2).contiguous().view(batch_size, seq_length, self.d_model)\n",
    "\n",
    "    def forward(self, Q, K, V, mask=None):\n",
    "        Q = self.split_heads(self.W_q(Q))\n",
    "        K = self.split_heads(self.W_k(K))\n",
    "        V = self.split_heads(self.W_v(V))\n",
    "\n",
    "        attn_output = self.scaled_dot_product_attention(Q, K, V, mask)\n",
    "        output = self.W_o(self.combine_heads(attn_output))\n",
    "        return output\n",
    "\n",
    "class PositionWiseFeedForward(nn.Module):\n",
    "    def __init__(self, d_model, d_ff):\n",
    "        super(PositionWiseFeedForward, self).__init__()\n",
    "        self.fc1 = nn.Linear(d_model, d_ff)\n",
    "        self.fc2 = nn.Linear(d_ff, d_model)\n",
    "        self.relu = nn.ReLU()\n",
    "\n",
    "    def forward(self, x):\n",
    "        return self.fc2(self.relu(self.fc1(x)))\n",
    "\n",
    "class PositionalEncoding(nn.Module):\n",
    "    def __init__(self, d_model, max_seq_length):\n",
    "        super(PositionalEncoding, self).__init__()\n",
    "\n",
    "        pe = torch.zeros(max_seq_length, d_model)\n",
    "        position = torch.arange(0, max_seq_length, dtype=torch.float).unsqueeze(1)\n",
    "        div_term = torch.exp(torch.arange(0, d_model, 2).float() * -(math.log(10000.0) / d_model))\n",
    "\n",
    "        pe[:, 0::2] = torch.sin(position * div_term)\n",
    "        pe[:, 1::2] = torch.cos(position * div_term)\n",
    "\n",
    "        self.register_buffer('pe', pe.unsqueeze(0))\n",
    "\n",
    "    def forward(self, x):\n",
    "        return x + self.pe[:, :x.size(1)]\n",
    "\n",
    "class EncoderLayer(nn.Module):\n",
    "    def __init__(self, d_model, num_heads, d_ff, dropout):\n",
    "        super(EncoderLayer, self).__init__()\n",
    "        self.self_attn = MultiHeadAttention(d_model, num_heads)\n",
    "        self.feed_forward = PositionWiseFeedForward(d_model, d_ff)\n",
    "        self.norm1 = nn.LayerNorm(d_model)\n",
    "        self.norm2 = nn.LayerNorm(d_model)\n",
    "        self.dropout = nn.Dropout(dropout)\n",
    "\n",
    "    def forward(self, x, mask):\n",
    "        attn_output = self.self_attn(x, x, x, mask)\n",
    "        x = self.norm1(x + self.dropout(attn_output))\n",
    "        ff_output = self.feed_forward(x)\n",
    "        x = self.norm2(x + self.dropout(ff_output))\n",
    "        return x\n",
    "    \n",
    "\n",
    "class Transformer(nn.Module):\n",
    "    def __init__(self, src_vocab_size, d_model, num_heads, num_layers, d_ff, max_seq_length, dropout = 0.1):\n",
    "        super(Transformer, self).__init__()\n",
    "        self.encoder_embedding = nn.Embedding(src_vocab_size, d_model)\n",
    "        self.positional_encoding = PositionalEncoding(d_model, max_seq_length)\n",
    "\n",
    "        self.encoder_layers = nn.ModuleList([EncoderLayer(d_model, num_heads, d_ff, dropout) for _ in range(num_layers)])\n",
    "\n",
    "        # Output layer for binary classification\n",
    "        self.fc = nn.Linear(d_model, 1)\n",
    "        self.sigmoid = nn.Sigmoid()  # Sigmoid activation for binary classification\n",
    "        self.dropout = nn.Dropout(dropout)\n",
    "\n",
    "    def generate_mask(self, src):\n",
    "        src_mask = (src != 0).unsqueeze(1).unsqueeze(2)\n",
    "        return src_mask\n",
    "\n",
    "    def forward(self, src):\n",
    "        src_mask = self.generate_mask(src)\n",
    "        src_embedded = self.dropout(self.positional_encoding(self.encoder_embedding(src)))\n",
    "\n",
    "        enc_output = src_embedded\n",
    "        for enc_layer in self.encoder_layers:\n",
    "            enc_output = enc_layer(enc_output, src_mask)\n",
    "\n",
    "        # Global average pooling across sequence length\n",
    "        pooled_output = F.adaptive_avg_pool1d(enc_output.permute(0, 2, 1), 1).view(enc_output.size(0), -1)\n",
    "\n",
    "        # Output layer with sigmoid activation for binary classification\n",
    "        output = self.fc(pooled_output)\n",
    "        output = self.sigmoid(output)\n",
    "        return output\n"
   ]
  },
  {
   "cell_type": "code",
   "execution_count": null,
   "metadata": {},
   "outputs": [],
   "source": []
  },
  {
   "cell_type": "code",
   "execution_count": 187,
   "metadata": {},
   "outputs": [],
   "source": [
    "class TweetsDatasetEncoderTransformer(torch.utils.data.Dataset):\n",
    "    def __init__(self, df, word2vec_model, attn_masks):\n",
    "        self.df = df\n",
    "        self.word2vec_model = word2vec_model\n",
    "        self.attn_masks = attn_masks\n",
    "\n",
    "    def __len__(self):\n",
    "        return len(self.df)\n",
    "\n",
    "    def __getitem__(self, idx):\n",
    "        sequence = self.df.iloc[idx, -1 if self.word2vec_model == 'skipgram' else -2]\n",
    "        label = self.df.iloc[idx, 1]\n",
    "        attn_mask = self.attn_masks[idx]\n",
    "\n",
    "        # Convert sequence to a 1D tensor\n",
    "        sequence_tensor = torch.tensor(sequence, dtype=torch.long)\n",
    "\n",
    "        # Convert label to a 1D tensor (scalar)\n",
    "        label_tensor = torch.tensor(label)\n",
    "\n",
    "        # Convert attention mask to a 1D tensor (scalar)\n",
    "        attn_mask_tensor = attn_mask.flatten().bool()\n",
    "\n",
    "        return sequence_tensor, attn_mask_tensor, label_tensor"
   ]
  },
  {
   "cell_type": "code",
   "execution_count": 225,
   "metadata": {},
   "outputs": [],
   "source": [
    "TrainDatasetEncoder = TweetsDatasetEncoderTransformer(tweets_train, 'skipgram', attn_masks_train)\n",
    "TestDatasetEncoder = TweetsDatasetEncoderTransformer(tweets_test, 'skipgram', attn_masks_test)\n",
    "\n",
    "TrainDataLoaderEncoder = torch.utils.data.DataLoader(dataset = TrainDatasetEncoder, batch_size = 64, shuffle = True)\n",
    "TestDataLoaderEncoder = torch.utils.data.DataLoader(dataset = TestDatasetEncoder, batch_size = 64, shuffle = False)"
   ]
  },
  {
   "cell_type": "code",
   "execution_count": 193,
   "metadata": {
    "ExecuteTime": {
     "end_time": "2023-12-29T23:11:42.408492600Z",
     "start_time": "2023-12-29T23:11:42.384459100Z"
    },
    "collapsed": false
   },
   "outputs": [],
   "source": [
    "class EncoderTransformer(torch.nn.Module):\n",
    "    def __init__(self, word2vec_model, d_model, num_heads, num_layers, d_ff, max_seq_length, dropout = 0.1, freeze_embeddings = True):\n",
    "        super(EncoderTransformer, self).__init__()\n",
    "        self.embeddings = torch.nn.Embedding.from_pretrained(torch.FloatTensor(word2vec_model.wv.vectors), freeze = freeze_embeddings)\n",
    "        self.position_embeddings = torch.nn.Embedding(max_seq_length, d_model)\n",
    "\n",
    "        self.LayerNorm = torch.nn.LayerNorm(d_model, eps = 1e-8, elementwise_affine = True)\n",
    "        self.BatchNorm = torch.nn.BatchNorm1d(d_model)\n",
    "        self.dropout = torch.nn.Dropout(dropout)\n",
    "\n",
    "        self.encoder_layer = torch.nn.TransformerEncoderLayer(d_model, num_heads, d_ff, dropout)\n",
    "        self.encoder = torch.nn.TransformerEncoder(self.encoder_layer, num_layers, norm = self.LayerNorm)\n",
    "\n",
    "        self.dense = torch.nn.Linear(d_model, d_model)\n",
    "        self.classifier = torch.nn.Linear(d_model, 1)\n",
    "\n",
    "        self.ReLU = torch.nn.ReLU()\n",
    "        self.Tanh = torch.nn.Tanh()\n",
    "        self.LeakyReLU = torch.nn.LeakyReLU()\n",
    "\n",
    "\n",
    "    def forward(self, tweet, attention_mask):\n",
    "    \n",
    "        # Get the embeddings of the tokens\n",
    "        embeddings = self.embeddings(tweet)\n",
    "        # Get the positional embeddings\n",
    "        position_ids = torch.arange(tweet.size(1)).unsqueeze(0).to(tweet.device)\n",
    "        position_embeddings = self.position_embeddings(position_ids)\n",
    "        # Add the positional embeddings to the token embeddings\n",
    "        embeddings += position_embeddings\n",
    "        # Apply layer normalization and dropout\n",
    "        embeddings = self.dropout(self.LayerNorm(embeddings))\n",
    "\n",
    "        # Apply the transformer encoder\n",
    "        encoder_output = self.encoder(embeddings, src_key_padding_mask = attention_mask.T)\n",
    "\n",
    "        # Apply global average pooling across the sequence length\n",
    "        pooled_output = torch.nn.functional.adaptive_avg_pool1d(encoder_output.permute(0, 2, 1), 1).view(encoder_output.size(0), -1)\n",
    "\n",
    "        # Apply a dense layer followed by a non-linear activation function\n",
    "        output = self.BatchNorm(self.ReLU(self.dense(pooled_output)))\n",
    "        # Apply dropour\n",
    "        output = self.dropout(output)\n",
    "        # Apply the classifier layer\n",
    "        logits = self.classifier(output)\n",
    "\n",
    "        return logits"
   ]
  },
  {
   "cell_type": "code",
   "execution_count": 237,
   "metadata": {},
   "outputs": [
    {
     "name": "stdout",
     "output_type": "stream",
     "text": [
      "Device: mps\n"
     ]
    }
   ],
   "source": [
    "device = set_device()\n",
    "TransformerEncoder = EncoderTransformer(word2vec_model = skipgram_model,\n",
    "                                        d_model = 512,\n",
    "                                        num_heads = 16,\n",
    "                                        num_layers = 8,\n",
    "                                        d_ff = 2048,\n",
    "                                        max_seq_length = 45,\n",
    "                                        dropout = 0.1,\n",
    "                                        freeze_embeddings = True).to(device)\n",
    "\n",
    "criterion = torch.nn.BCEWithLogitsLoss()\n",
    "optimizer = torch.optim.AdamW(TransformerEncoder.parameters(), lr = 5e-5, weight_decay = 0.01)\n",
    "scheduler = get_linear_schedule_with_warmup(optimizer = optimizer, \n",
    "                                            num_warmup_steps = int(0.1 * len(TrainDataLoaderEncoder) * 2), \n",
    "                                            num_training_steps = len(TrainDataLoaderEncoder) * 4)"
   ]
  },
  {
   "cell_type": "code",
   "execution_count": 238,
   "metadata": {},
   "outputs": [
    {
     "name": "stdout",
     "output_type": "stream",
     "text": [
      "Epoch 1/4\n",
      "======== Training phase ========\n"
     ]
    },
    {
     "name": "stderr",
     "output_type": "stream",
     "text": [
      "Loss = 0.6171 | Accuracy = 63.93% | F1-Score = 62.07% | Batch ID = 119 : 100%|██████████| 119/119 [00:19<00:00,  6.04it/s]\n"
     ]
    },
    {
     "name": "stdout",
     "output_type": "stream",
     "text": [
      "Training Cross-Entropy Loss = 0.6741\n",
      "Training Accuracy = 57.72%\n",
      "Training F1-Score = 52.52%\n",
      "======== Validation phase ========\n"
     ]
    },
    {
     "name": "stderr",
     "output_type": "stream",
     "text": [
      "Loss = 0.5298 | Accuracy = 73.02% | F1-Score = 62.22% | Batch ID = 51 : 100%|██████████| 51/51 [00:02<00:00, 18.40it/s]\n"
     ]
    },
    {
     "name": "stdout",
     "output_type": "stream",
     "text": [
      "Test Cross-Entropy Loss = 0.6799\n",
      "Test Accuracy = 62.09%\n",
      "Test F1-Score = 21.56%\n",
      "\n",
      "Epoch 2/4\n",
      "======== Training phase ========\n"
     ]
    },
    {
     "name": "stderr",
     "output_type": "stream",
     "text": [
      "Loss = 0.5169 | Accuracy = 81.97% | F1-Score = 81.97% | Batch ID = 119 : 100%|██████████| 119/119 [00:19<00:00,  6.25it/s]\n"
     ]
    },
    {
     "name": "stdout",
     "output_type": "stream",
     "text": [
      "Training Cross-Entropy Loss = 0.5370\n",
      "Training Accuracy = 73.79%\n",
      "Training F1-Score = 69.35%\n",
      "======== Validation phase ========\n"
     ]
    },
    {
     "name": "stderr",
     "output_type": "stream",
     "text": [
      "Loss = 0.7990 | Accuracy = 69.84% | F1-Score = 55.81% | Batch ID = 51 : 100%|██████████| 51/51 [00:02<00:00, 18.27it/s]\n"
     ]
    },
    {
     "name": "stdout",
     "output_type": "stream",
     "text": [
      "Test Cross-Entropy Loss = 1.1802\n",
      "Test Accuracy = 61.42%\n",
      "Test F1-Score = 18.62%\n",
      "\n",
      "Epoch 3/4\n",
      "======== Training phase ========\n"
     ]
    },
    {
     "name": "stderr",
     "output_type": "stream",
     "text": [
      "Loss = 0.5291 | Accuracy = 73.77% | F1-Score = 70.37% | Batch ID = 119 : 100%|██████████| 119/119 [00:18<00:00,  6.29it/s]\n"
     ]
    },
    {
     "name": "stdout",
     "output_type": "stream",
     "text": [
      "Training Cross-Entropy Loss = 0.5019\n",
      "Training Accuracy = 75.98%\n",
      "Training F1-Score = 71.48%\n",
      "======== Validation phase ========\n"
     ]
    },
    {
     "name": "stderr",
     "output_type": "stream",
     "text": [
      "Loss = 0.3467 | Accuracy = 87.30% | F1-Score = 87.50% | Batch ID = 51 : 100%|██████████| 51/51 [00:02<00:00, 18.27it/s]\n"
     ]
    },
    {
     "name": "stdout",
     "output_type": "stream",
     "text": [
      "Test Cross-Entropy Loss = 0.5293\n",
      "Test Accuracy = 73.67%\n",
      "Test F1-Score = 70.45%\n",
      "\n",
      "Epoch 4/4\n",
      "======== Training phase ========\n"
     ]
    },
    {
     "name": "stderr",
     "output_type": "stream",
     "text": [
      "Loss = 0.5886 | Accuracy = 70.49% | F1-Score = 57.14% | Batch ID = 119 : 100%|██████████| 119/119 [00:18<00:00,  6.30it/s]\n"
     ]
    },
    {
     "name": "stdout",
     "output_type": "stream",
     "text": [
      "Training Cross-Entropy Loss = 0.4944\n",
      "Training Accuracy = 76.82%\n",
      "Training F1-Score = 72.27%\n",
      "======== Validation phase ========\n"
     ]
    },
    {
     "name": "stderr",
     "output_type": "stream",
     "text": [
      "Loss = 0.3464 | Accuracy = 88.89% | F1-Score = 87.27% | Batch ID = 51 : 100%|██████████| 51/51 [00:02<00:00, 18.42it/s]"
     ]
    },
    {
     "name": "stdout",
     "output_type": "stream",
     "text": [
      "Test Cross-Entropy Loss = 0.5844\n",
      "Test Accuracy = 72.97%\n",
      "Test F1-Score = 57.23%\n",
      "\n"
     ]
    },
    {
     "name": "stderr",
     "output_type": "stream",
     "text": [
      "\n"
     ]
    }
   ],
   "source": [
    "train_losses, train_f1s, test_losses, test_f1s = train_BERTweet(model = TransformerEncoder, \n",
    "                                                                train_loader = TrainDataLoaderEncoder, \n",
    "                                                                test_loader = TestDataLoaderEncoder, \n",
    "                                                                optimizer = optimizer, \n",
    "                                                                scheduler = scheduler,\n",
    "                                                                loss_func = criterion, \n",
    "                                                                epochs = 4, \n",
    "                                                                device = device)"
   ]
  },
  {
   "cell_type": "code",
   "execution_count": null,
   "metadata": {},
   "outputs": [],
   "source": []
  },
  {
   "cell_type": "code",
   "execution_count": null,
   "metadata": {},
   "outputs": [],
   "source": []
  },
  {
   "cell_type": "code",
   "execution_count": null,
   "metadata": {
    "collapsed": false
   },
   "outputs": [],
   "source": [
    "def train_transformer(model, train_loader, test_loader, num_epochs=5, lr=0.001):\n",
    "    device = torch.device(\"cuda\" if torch.cuda.is_available() else \"cpu\")\n",
    "    model.to(device)\n",
    "\n",
    "    criterion = nn.BCELoss()\n",
    "    optimizer = optim.Adam(model.parameters(), lr=lr)\n",
    "\n",
    "    for epoch in range(num_epochs):\n",
    "        # Training\n",
    "        model.train()\n",
    "        train_loss = 0.0\n",
    "        predictions = []\n",
    "        true_labels = []\n",
    "\n",
    "        for data in tqdm(train_loader, desc=f\"Epoch {epoch + 1}/ {num_epochs}\"):\n",
    "            inputs, labels = data\n",
    "            inputs, labels = inputs.to(device), labels.to(device)\n",
    "\n",
    "            optimizer.zero_grad()\n",
    "\n",
    "            outputs = model(inputs)\n",
    "            loss = criterion(outputs, labels.float())\n",
    "            loss.backward()\n",
    "            optimizer.step()\n",
    "\n",
    "            train_loss += loss.item()\n",
    "\n",
    "            predictions.extend(outputs.cpu().detach().numpy())\n",
    "            true_labels.extend(labels.cpu().detach().numpy())\n",
    "\n",
    "        train_loss /= len(train_loader)\n",
    "\n",
    "        # Evaluation\n",
    "        model.eval()\n",
    "        val_loss = 0.0\n",
    "        val_predictions = []\n",
    "        val_true_labels = []\n",
    "\n",
    "        with torch.no_grad():\n",
    "            for data in tqdm(test_loader, desc=\"Validation\"):\n",
    "                inputs, labels = data\n",
    "                inputs, labels = inputs.to(device), labels.to(device)\n",
    "\n",
    "                outputs = model(inputs)\n",
    "                loss = criterion(outputs, labels.float())\n",
    "                val_loss += loss.item()\n",
    "\n",
    "                val_predictions.extend(outputs.cpu().detach().numpy())\n",
    "                val_true_labels.extend(labels.cpu().detach().numpy())\n",
    "\n",
    "        val_loss /= len(test_loader)\n",
    "\n",
    "        # Calculate metrics\n",
    "        train_accuracy = accuracy_score(true_labels, np.round(predictions))\n",
    "        val_accuracy = accuracy_score(val_true_labels, np.round(val_predictions))\n",
    "\n",
    "        train_f1 = f1_score(true_labels, np.round(predictions))\n",
    "        val_f1 = f1_score(val_true_labels, np.round(val_predictions))\n",
    "\n",
    "        print(f\"Epoch {epoch + 1}/{num_epochs}:\"\n",
    "              f\" Train Loss: {train_loss:.4f}, Train Acc: {train_accuracy:.4f}, Train F1: {train_f1:.4f},\"\n",
    "              f\" Val Loss: {val_loss:.4f}, Val Acc: {val_accuracy:.4f}, Val F1: {val_f1:.4f}\")"
   ]
  }
 ],
 "metadata": {
  "kernelspec": {
   "display_name": "base",
   "language": "python",
   "name": "python3"
  },
  "language_info": {
   "codemirror_mode": {
    "name": "ipython",
    "version": 3
   },
   "file_extension": ".py",
   "mimetype": "text/x-python",
   "name": "python",
   "nbconvert_exporter": "python",
   "pygments_lexer": "ipython3",
   "version": "3.10.9"
  }
 },
 "nbformat": 4,
 "nbformat_minor": 2
}
