{
 "cells": [
  {
   "cell_type": "markdown",
   "metadata": {},
   "source": [
    "# Imports, Custom Functions & Data Loading"
   ]
  },
  {
   "cell_type": "markdown",
   "metadata": {},
   "source": [
    "## Import libraries"
   ]
  },
  {
   "cell_type": "code",
   "execution_count": 6,
   "metadata": {
    "ExecuteTime": {
     "end_time": "2023-12-21T14:50:51.762292300Z",
     "start_time": "2023-12-21T14:50:49.382402900Z"
    }
   },
   "outputs": [],
   "source": [
    "import pandas as pd\n",
    "import numpy as np\n",
    "import matplotlib.pyplot as plt\n",
    "import torch\n",
    "import re\n",
    "import spacy \n",
    "\n",
    "from collections import Counter, defaultdict\n",
    "from transformers import AutoTokenizer\n",
    "\n",
    "from sklearn.feature_extraction.text import TfidfVectorizer\n",
    "\n",
    "from gensim.models import Word2Vec\n",
    "\n",
    "from sklearn.manifold import TSNE\n",
    "\n",
    "from tqdm import tqdm\n",
    "\n",
    "from sklearn.metrics import f1_score\n",
    "\n",
    "# spacy.cli.download(\"en_core_web_lg\")\n",
    "nlp = spacy.load('en_core_web_lg')\n",
    "\n",
    "# Ignore RuntimeWarning and UserWarning\n",
    "import warnings\n",
    "warnings.filterwarnings(\"ignore\", category=RuntimeWarning)\n",
    "warnings.filterwarnings(\"ignore\", category=UserWarning)"
   ]
  },
  {
   "cell_type": "markdown",
   "metadata": {},
   "source": [
    "## Define functions"
   ]
  },
  {
   "cell_type": "code",
   "execution_count": 9,
   "metadata": {
    "ExecuteTime": {
     "end_time": "2023-12-21T15:02:13.334929800Z",
     "start_time": "2023-12-21T15:02:13.276939Z"
    }
   },
   "outputs": [],
   "source": [
    "def preprocess(text):\n",
    "    \n",
    "    # remove URLs\n",
    "    text = re.sub('http\\S*', ' ', text)\n",
    "    \n",
    "    # remove non-alphabetic\n",
    "    text = re.sub(\"[^a-zA-Z]\", \" \", text)\n",
    "    \n",
    "    # make lowercase\n",
    "    text = text.lower()\n",
    "\n",
    "    # remove one character word\n",
    "    text = re.sub(\"\\s+[a-zA-Z]\\s+\", ' ', text)\n",
    "    text = re.sub(\"^[a-zA-Z]\\s+\", '', text)\n",
    "    \n",
    "    # replace double space to one space\n",
    "    text = re.sub(\"\\s+\", ' ', text)\n",
    "    \n",
    "    # tokenize, lemmatize, remove stop words\n",
    "    doc = nlp(text)\n",
    "    text = [token.lemma_ for token in doc if not token.is_stop]\n",
    "    return \" \".join(text)\n",
    "\n",
    "\n",
    "class BPE():\n",
    "    \"\"\"Byte-Pair Encoding: Subword-based tokenization algorithm.\"\"\"\n",
    "    \n",
    "    def __init__(self, corpus, vocab_size):\n",
    "        \"\"\"Initialize BPE tokenizer.\"\"\"\n",
    "        self.corpus = corpus\n",
    "        self.vocab_size = vocab_size\n",
    "        \n",
    "        # pre-tokenize the corpus into words, BERT pre-tokenizer is used here\n",
    "        self.tokenizer = AutoTokenizer.from_pretrained(\"bert-base-uncased\")\n",
    "        self.word_freqs = defaultdict(int)\n",
    "        self.splits = {}\n",
    "        self.merges = {}\n",
    "    \n",
    "    \n",
    "    def train(self):\n",
    "        \"\"\"Train BPE tokenizer.\"\"\"\n",
    "    # (1) Compute the frequencies of each word in the corpus\n",
    "    # (2) Compute the base vocabulary of all characters in the corpus\n",
    "    # (3) Split each word into individual characters before training\n",
    "    # (4) Merge the most frequent pair iteratively until the vocabulary size is reached\n",
    "\n",
    "        # compute the frequencies of each word in the corpus\n",
    "        for text in self.corpus:\n",
    "            words_with_offsets = self.tokenizer.backend_tokenizer.pre_tokenizer.pre_tokenize_str(text)\n",
    "            new_words = [word for word, offset in words_with_offsets]\n",
    "            for word in new_words:\n",
    "                self.word_freqs[word] += 1\n",
    "\n",
    "        # compute the base vocabulary of all characters in the corpus\n",
    "        alphabet = []\n",
    "        for word in self.word_freqs.keys():\n",
    "            for letter in word:\n",
    "                if letter not in alphabet:\n",
    "                    alphabet.append(letter)\n",
    "        alphabet.sort()\n",
    "\n",
    "        # add the special token </w> at the beginning of the vocabulary\n",
    "        vocab = [\"</w>\"] + alphabet.copy()\n",
    "\n",
    "        # split each word into individual characters before training\n",
    "        self.splits = {word: [c for c in word] for word in self.word_freqs.keys()}\n",
    "\n",
    "        # merge the most frequent pair iteratively until the vocabulary size is reached\n",
    "        while len(vocab) < self.vocab_size:\n",
    "\n",
    "            # compute the frequency of each pair\n",
    "            pair_freqs = self.compute_pair_freqs()\n",
    "\n",
    "            # find the most frequent pair\n",
    "            best_pair = \"\"\n",
    "            max_freq = None\n",
    "            for pair, freq in pair_freqs.items():\n",
    "                if max_freq is None or max_freq < freq:\n",
    "                    best_pair = pair\n",
    "                    max_freq = freq\n",
    "\n",
    "            # merge the most frequent pair\n",
    "            self.splits = self.merge_pair(*best_pair)\n",
    "            self.merges[best_pair] = best_pair[0] + best_pair[1]\n",
    "            vocab.append(best_pair[0] + best_pair[1])\n",
    "        return self.merges\n",
    "\n",
    "\n",
    "    def compute_pair_freqs(self):\n",
    "        \"\"\"Compute the frequency of each pair.\"\"\"\n",
    "\n",
    "        pair_freqs = defaultdict(int)\n",
    "        for word, freq in self.word_freqs.items():\n",
    "            split = self.splits[word]\n",
    "            if len(split) == 1:\n",
    "                continue\n",
    "            for i in range(len(split) - 1):\n",
    "                pair = (split[i], split[i + 1])\n",
    "                pair_freqs[pair] += freq\n",
    "        return pair_freqs\n",
    "\n",
    "\n",
    "    def merge_pair(self, a, b):\n",
    "        \"\"\"Merge the given pair.\"\"\"\n",
    "\n",
    "        for word in self.word_freqs:\n",
    "            split = self.splits[word]\n",
    "            if len(split) == 1:\n",
    "                continue\n",
    "            i = 0\n",
    "            while i < len(split) - 1:\n",
    "                if split[i] == a and split[i + 1] == b:\n",
    "                    split = split[:i] + [a + b] + split[i + 2 :]\n",
    "                else:\n",
    "                    i += 1\n",
    "            self.splits[word] = split\n",
    "        return self.splits\n",
    "    \n",
    "\n",
    "    def tokenize(self, text):\n",
    "        \"\"\"Tokenize a given text with trained BPE tokenizer (including pre-tokenization, split, and merge).\"\"\"\n",
    "        \n",
    "        pre_tokenize_result = self.tokenizer._tokenizer.pre_tokenizer.pre_tokenize_str(text)\n",
    "        pre_tokenized_text = [word for word, offset in pre_tokenize_result]\n",
    "        splits_text = [[l for l in word] for word in pre_tokenized_text]\n",
    "\n",
    "        for pair, merge in self.merges.items():\n",
    "            for idx, split in enumerate(splits_text):\n",
    "                i = 0\n",
    "                while i < len(split) - 1:\n",
    "                    if split[i] == pair[0] and split[i + 1] == pair[1]:\n",
    "                        split = split[:i] + [merge] + split[i + 2 :]\n",
    "                    else:\n",
    "                        i += 1\n",
    "                splits_text[idx] = split\n",
    "        result = sum(splits_text, [])\n",
    "        return result\n",
    "    \n",
    "\n",
    "def get_tfidf_matrix(df, vectorizer):\n",
    "    \n",
    "    # Convert the TF-IDF matrix to a dense NumPy array\n",
    "    matrix = df.todense()\n",
    "\n",
    "    # Convert the dense matrix to a DataFrame\n",
    "    matrix = pd.DataFrame(matrix, columns=vectorizer.get_feature_names_out())\n",
    "\n",
    "    return matrix\n",
    "\n",
    "\n",
    "# The sequences being in the formar ['word1', 'word2', 'word3', ...], preprocess it\n",
    "def string2embedding_idx(text_sequence, model):\n",
    "\n",
    "    sequence = []\n",
    "    for token in text_sequence:\n",
    "        try:\n",
    "            sequence.append(model.wv.key_to_index[token])\n",
    "        except:\n",
    "            sequence.append(2899)\n",
    "\n",
    "    return sequence\n",
    "\n",
    "\n",
    "def TSNE_10ClosestWords(model, word, size):\n",
    "    \n",
    "    arr = np.empty((0,size), dtype='f')\n",
    "    word_labels = [word]\n",
    "    close_words = model.wv.similar_by_word(word)\n",
    "    arr = np.append(arr, np.array([model.wv[word]]), axis=0)\n",
    "    for wrd_score in close_words:\n",
    "        wrd_vector = model.wv[wrd_score[0]]\n",
    "        word_labels.append(wrd_score[0])\n",
    "        arr = np.append(arr, np.array([wrd_vector]), axis=0)\n",
    "            \n",
    "    tsne = TSNE(n_components=2, random_state=0, perplexity = 10)\n",
    "    np.set_printoptions(suppress=True)\n",
    "    Y = tsne.fit_transform(arr)\n",
    "    x_coords = Y[:, 0]\n",
    "    y_coords = Y[:, 1]\n",
    "    plt.scatter(x_coords, y_coords)\n",
    "    for label, x, y in zip(word_labels, x_coords, y_coords):\n",
    "        plt.annotate(label, xy=(x, y), xytext=(0, 0), textcoords='offset points')\n",
    "    plt.xlim(x_coords.min()+0.00005, x_coords.max()+0.00005)\n",
    "    plt.ylim(y_coords.min()+0.00005, y_coords.max()+0.00005)\n",
    "    plt.show()\n",
    "    \n",
    "\n",
    "class TweetsDataset(torch.utils.data.Dataset):\n",
    "    def __init__(self, df, word2vec_model):\n",
    "        self.df = df\n",
    "        self.word2vec_model = word2vec_model\n",
    "\n",
    "    def __len__(self):\n",
    "        return len(self.df)\n",
    "\n",
    "    def __getitem__(self, idx):\n",
    "        sequence = self.df.iloc[idx, -1 if self.word2vec_model == 'skipgram' else -2]\n",
    "        label = self.df.iloc[idx, 1]\n",
    "\n",
    "        # Convert sequence to a 1D tensor\n",
    "        sequence_tensor = torch.tensor(sequence, dtype=torch.long)\n",
    "\n",
    "        # Convert label to a 1D tensor (scalar)\n",
    "        label_tensor = torch.tensor(label, dtype=torch.float32).unsqueeze(0)\n",
    "\n",
    "        return sequence_tensor, label_tensor\n",
    "\n",
    "\n",
    "def set_device():\n",
    "    if torch.cuda.is_available():\n",
    "        device = torch.device('cuda')\n",
    "\n",
    "    elif torch.backends.mps.is_available():\n",
    "        device = torch.device('mps')\n",
    "\n",
    "    else:\n",
    "        device = torch.device('cpu')\n",
    "    print('Device:', device)\n",
    "\n",
    "    return device\n",
    "\n",
    "\n",
    "def train(model, train_loader, test_loader, optimizer, loss_func, epochs, device, **kwargs):\n",
    "    \"\"\"\n",
    "    Trains a neural network model.\n",
    "\n",
    "    Args:\n",
    "    - model (torch.nn.Module): The neural network model to be trained.\n",
    "    - train_loader (torch.utils.data.DataLoader): DataLoader for the training dataset.\n",
    "    - optimizer (torch.optim.Optimizer): The optimizer used for training.\n",
    "    - loss_func (torch.nn.Module): The loss function used for training.\n",
    "    - epochs (int): Number of training epochs.\n",
    "    - device (torch.device): The device on which the training will be performed.\n",
    "    - **kwargs: Additional arguments for customization.\n",
    "\n",
    "    Returns:\n",
    "    - train_loss_hist (list): List containing training loss values for each epoch.\n",
    "    - train_acc_hist (list): List containing training accuracy values for each epoch.\n",
    "    \"\"\"\n",
    "\n",
    "    num_epochs = kwargs.get('num_epochs', epochs)\n",
    "    loss_fn = kwargs.get('loss_fn', loss_func)\n",
    "    device = kwargs.get('device', device)\n",
    "\n",
    "    train_loss_lst, train_f1_lst, test_loss_lst, test_f1_lst = [], [], [], []\n",
    "\n",
    "    for epoch in range(num_epochs):\n",
    "        print(f'Epoch {epoch + 1}/{num_epochs}')\n",
    "\n",
    "        print('======== Training phase ========')\n",
    "        model.train()\n",
    "        train_loss = 0.\n",
    "        total = 0.\n",
    "        correct = 0.\n",
    "        # Lists to store targets and predictions\n",
    "        all_targets = []\n",
    "        all_predictions = []\n",
    "\n",
    "        pbar = tqdm(enumerate(train_loader), total=len(train_loader))\n",
    "\n",
    "        for batch_idx, (data, target) in pbar:\n",
    "            data = data.to(device)\n",
    "            target = target.to(device)\n",
    "            model.zero_grad()\n",
    "            output = model(data)\n",
    "            loss = loss_fn(output, target)\n",
    "            loss.backward()\n",
    "            optimizer.step()\n",
    "\n",
    "            train_loss += loss.item()\n",
    "\n",
    "            predicted = (output > 0.5).float()\n",
    "            correct_batch = (predicted == target).sum().item()\n",
    "            mini_batch_size = target.size(0)\n",
    "            accuracy_batch = 100 * correct_batch / mini_batch_size\n",
    "\n",
    "            # Compute F1-score\n",
    "            f1_score_batch = 100 * f1_score(target.cpu().numpy(), predicted.cpu().numpy(), average='binary')\n",
    "\n",
    "            total += mini_batch_size\n",
    "            correct += correct_batch\n",
    "            # Append targets and predictions to the lists\n",
    "            all_targets.extend(target.cpu().numpy())\n",
    "            all_predictions.extend(predicted.cpu().numpy())\n",
    "\n",
    "            pbar.set_description(\n",
    "                f'Loss = {loss:.4f} | Accuracy = {accuracy_batch:.2f}% | F1-Score = {f1_score_batch:.2f}% | Batch ID = {batch_idx + 1} '\n",
    "            )\n",
    "\n",
    "        train_loss /= len(train_loader)\n",
    "        train_accuracy = 100 * correct / total\n",
    "        all_targets = np.array(all_targets)\n",
    "        all_predictions = np.array(all_predictions)\n",
    "        train_f1_score = 100 * f1_score(all_targets, all_predictions, average='binary')\n",
    "\n",
    "        print(f'Training Cross-Entropy Loss = {train_loss:.4f}')\n",
    "        print(f'Training Accuracy = {train_accuracy:.2f}%')\n",
    "        print(f'Training F1-Score = {train_f1_score:.2f}%')\n",
    "\n",
    "        # Evaluate the model on the validation set\n",
    "        print('======== Validation phase ========')\n",
    "        model.eval()\n",
    "        test_loss = 0.\n",
    "        total = 0.\n",
    "        correct = 0.\n",
    "        # Lists to store targets and predictions\n",
    "        all_targets = []\n",
    "        all_predictions = []\n",
    "\n",
    "        pbar = tqdm(enumerate(test_loader), total=len(test_loader))\n",
    "\n",
    "        with torch.no_grad():\n",
    "            for batch_idx, (data, target) in pbar:\n",
    "                data = data.to(device)\n",
    "                target = target.to(device)\n",
    "                output = model(data)\n",
    "                loss = loss_fn(output, target)\n",
    "\n",
    "                test_loss += loss.item()\n",
    "\n",
    "                predicted = (output > 0.5).float()\n",
    "                correct_batch = (predicted == target).sum().item()\n",
    "                mini_batch_size = target.size(0)\n",
    "                accuracy_batch = 100 * correct_batch / mini_batch_size\n",
    "\n",
    "                # Compute F1-score\n",
    "                f1_score_batch = 100 * f1_score(target.cpu().numpy(), predicted.cpu().numpy(), average='binary')\n",
    "\n",
    "                total += mini_batch_size\n",
    "                correct += correct_batch\n",
    "                # Append targets and predictions to the lists\n",
    "                all_targets.extend(target.cpu().numpy())\n",
    "                all_predictions.extend(predicted.cpu().numpy())\n",
    "\n",
    "                pbar.set_description(\n",
    "                    f'Loss = {loss:.4f} | Accuracy = {accuracy_batch:.2f}% | F1-Score = {f1_score_batch:.2f}% | Batch ID = {batch_idx + 1} '\n",
    "                )\n",
    "\n",
    "        test_loss /= len(test_loader)\n",
    "        test_accuracy = 100 * correct / total\n",
    "        all_targets = np.array(all_targets)\n",
    "        all_predictions = np.array(all_predictions)\n",
    "        test_f1_score = 100 * f1_score(all_targets, all_predictions, average='binary')\n",
    "\n",
    "        print(f'Test Cross-Entropy Loss = {test_loss:.4f}')\n",
    "        print(f'Test Accuracy = {test_accuracy:.2f}%')\n",
    "        print(f'Test F1-Score = {test_f1_score:.2f}%')\n",
    "        print()\n",
    "\n",
    "        train_loss_lst.append(train_loss)\n",
    "        train_f1_lst.append(train_f1_score)\n",
    "        test_loss_lst.append(test_loss)\n",
    "        test_f1_lst.append(test_f1_score)\n",
    "\n",
    "    return train_loss_lst, train_f1_lst, test_loss_lst, test_f1_lst\n",
    "\n",
    "# LSTM model with pre-trained Word2Vec embeddings\n",
    "class CustomLSTM(torch.nn.Module):\n",
    "    def __init__(self, word2vec_model, hidden_size, output_size, num_layers = 1, bidirectional = False, freeze_embeddings = True):\n",
    "        super(CustomLSTM, self).__init__()\n",
    "        self.embedding_dim = word2vec_model.vector_size\n",
    "        self.embedding = torch.nn.Embedding.from_pretrained(embeddings = torch.FloatTensor(word2vec_model.wv.vectors), freeze = freeze_embeddings)\n",
    "        self.lstm = torch.nn.LSTM(self.embedding_dim, hidden_size, num_layers, batch_first = True, bidirectional = bidirectional)\n",
    "        self.fc = torch.nn.Linear(hidden_size * (2 if bidirectional else 1), output_size)\n",
    "\n",
    "    def forward(self, x):\n",
    "        x = self.embedding(x)\n",
    "        output, _ = self.lstm(x)\n",
    "        output = self.fc(output[:, -1, :])  # Use the last time step's output\n",
    "        return output\n",
    "\n",
    "\n",
    "# GRU model with pre-trained Word2Vec embeddings\n",
    "class CustomGRU(torch.nn.Module):\n",
    "    def __init__(self, word2vec_model, hidden_size, output_size, num_layers = 1, bidirectional = False, freeze_embeddings = True):\n",
    "        super(CustomGRU, self).__init__()\n",
    "        self.embedding_dim = word2vec_model.vector_size\n",
    "        self.embedding = torch.nn.Embedding.from_pretrained(embeddings = torch.FloatTensor(word2vec_model.wv.vectors), freeze = freeze_embeddings)\n",
    "        self.gru = torch.nn.GRU(self.embedding_dim, hidden_size, num_layers, batch_first = True, bidirectional = bidirectional)\n",
    "        self.fc = torch.nn.Linear(hidden_size * (2 if bidirectional else 1), output_size)\n",
    "\n",
    "    def forward(self, x):\n",
    "        x = self.embedding(x)\n",
    "        output, _ = self.gru(x)\n",
    "        output = self.fc(output[:, -1, :])  # Use the last time step's output\n",
    "        return output\n",
    "    \n",
    "\n",
    "# GRU model with pre-trained Word2Vec embeddings and attention mechanism\n",
    "class CustomGRU_Attention(torch.nn.Module):\n",
    "    def __init__(self, word2vec_model, hidden_size, output_size, num_layers = 1, bidirectional = False, freeze_embeddings = True):\n",
    "        super(CustomGRU_Attention, self).__init__()\n",
    "        self.embedding_dim = word2vec_model.vector_size\n",
    "        self.embedding = torch.nn.Embedding.from_pretrained(torch.FloatTensor(word2vec_model.wv.vectors), freeze = freeze_embeddings)\n",
    "        self.gru = torch.nn.GRU(self.embedding_dim, hidden_size, num_layers, batch_first = True, bidirectional = bidirectional)\n",
    "        self.fc = torch.nn.Linear(hidden_size * (2 if bidirectional else 1), output_size)\n",
    "        self.attention = torch.nn.Linear(hidden_size * (2 if bidirectional else 1), 1)\n",
    "\n",
    "    def forward(self, x):\n",
    "        x = self.embedding(x)\n",
    "        output, _ = self.gru(x)\n",
    "        attention_weights = torch.nn.functional.softmax(self.attention(output), dim = 1)\n",
    "        output = torch.sum(attention_weights * output, dim = 1)\n",
    "        output = self.fc(output)\n",
    "        return output\n",
    "\n",
    "\n",
    "# LSTM model with pre-trained Word2Vec embeddings and attention mechanism\n",
    "class CustomLSTM_Attention(torch.nn.Module):\n",
    "    def __init__(self, word2vec_model, hidden_size, output_size, num_layers = 1, bidirectional = False, freeze_embeddings = True):\n",
    "        super(CustomLSTM_Attention, self).__init__()\n",
    "        self.embedding_dim = word2vec_model.vector_size\n",
    "        self.embedding = torch.nn.Embedding.from_pretrained(torch.FloatTensor(word2vec_model.wv.vectors), freeze = freeze_embeddings)\n",
    "        self.lstm = torch.nn.LSTM(self.embedding_dim, hidden_size, num_layers, batch_first = True, bidirectional = bidirectional)\n",
    "        self.fc = torch.nn.Linear(hidden_size * (2 if bidirectional else 1), output_size)\n",
    "        self.attention = torch.nn.Linear(hidden_size * (2 if bidirectional else 1), 1)\n",
    "\n",
    "    def forward(self, x):\n",
    "        x = self.embedding(x)\n",
    "        output, _ = self.lstm(x)\n",
    "        attention_weights = torch.nn.functional.softmax(self.attention(output), dim = 1)\n",
    "        output = torch.sum(attention_weights * output, dim = 1)\n",
    "        output = self.fc(output)\n",
    "        return output\n",
    "    \n",
    "\n",
    "class PositionalEncoding(torch.nn.Module):\n",
    "    def __init__(self, d_model, max_len=512):\n",
    "        super(PositionalEncoding, self).__init__()\n",
    "        position = torch.arange(0, max_len).unsqueeze(1).float()\n",
    "        div_term = torch.exp(torch.arange(0, d_model, 2).float() * -(torch.log(torch.tensor(10000.0)) / d_model))\n",
    "        self.positional_encoding = torch.zeros((1, max_len, d_model))\n",
    "        self.positional_encoding[0, :, 0::2] = torch.sin(position * div_term)\n",
    "        self.positional_encoding[0, :, 1::2] = torch.cos(position * div_term)\n",
    "\n",
    "    def forward(self, x):\n",
    "        return x + self.positional_encoding[:, :x.size(1), :]\n",
    "\n",
    "\n",
    "class TransformerEncoder(torch.nn.Module):\n",
    "    def __init__(self, word2vec_model, embedding_dim, num_heads, hidden_dim, num_layers, max_len=512, dropout=0.1, freeze_embeddings = True):\n",
    "        super(TransformerEncoder, self).__init__()\n",
    "\n",
    "        self.embedding = torch.nn.Embedding.from_pretrained(torch.FloatTensor(word2vec_model.wv.vectors), freeze = freeze_embeddings)\n",
    "        self.positional_encoding = PositionalEncoding(embedding_dim, max_len)\n",
    "        \n",
    "        self.transformer_encoder_layer = torch.nn.TransformerEncoderLayer(\n",
    "                                                                          d_model=embedding_dim,\n",
    "                                                                          nhead=num_heads,\n",
    "                                                                          dim_feedforward=hidden_dim,\n",
    "                                                                          dropout=dropout\n",
    "                                                                          )\n",
    "        self.transformer_encoder = torch.nn.TransformerEncoder(self.transformer_encoder_layer, num_layers)\n",
    "\n",
    "    def forward(self, x):\n",
    "        x = self.embedding(x)\n",
    "        x = self.positional_encoding(x)\n",
    "        x = x.permute(1, 0, 2)  # Change from (batch_size, seq_len, embedding_dim) to (seq_len, batch_size, embedding_dim)\n",
    "        x = self.transformer_encoder(x)\n",
    "        x = x.permute(1, 0, 2)  # Change back to (batch_size, seq_len, embedding_dim)\n",
    "        return x\n",
    "    \n",
    "\n",
    "class TransformerEncoderForClassification(torch.nn.Module):\n",
    "    def __init__(self, word2vec_model, embedding_dim, num_heads, hidden_dim, num_layers, max_len=512, dropout=0.1, freeze_embeddings = True, num_classes=1):\n",
    "        super(TransformerEncoderForClassification, self).__init__()\n",
    "\n",
    "        self.embedding_dim = embedding_dim\n",
    "        self.encoder = TransformerEncoder(word2vec_model, num_heads, hidden_dim, num_layers, max_len, dropout, freeze_embeddings)\n",
    "        \n",
    "        # Classification head\n",
    "        self.fc = torch.nn.Linear(self.embedding_dim, num_classes)\n",
    "\n",
    "    def forward(self, x):\n",
    "        encoder_output = self.encoder(x)\n",
    "        \n",
    "        # Global average pooling along the sequence dimension\n",
    "        pooled_output = torch.nn.functional.adaptive_avg_pool1d(encoder_output.permute(0, 2, 1), 1).squeeze(-1)\n",
    "        \n",
    "        # Classification head\n",
    "        logits = self.fc(pooled_output)\n",
    "\n",
    "        return logits\n",
    "    \n",
    "\n",
    "# FCNN model to be used with the TF-IDF features\n",
    "class CustomFCNN(torch.nn.Module):\n",
    "    def __init__(self, input_size, hidden_size, output_size):\n",
    "        super(CustomFCNN, self).__init__()\n",
    "        self.fc1 = torch.nn.Linear(input_size, hidden_size)\n",
    "        self.fc2 = torch.nn.Linear(hidden_size, output_size)\n",
    "\n",
    "    def forward(self, x):\n",
    "        x = torch.nn.functional.relu(self.fc1(x))\n",
    "        x = self.fc2(x)\n",
    "        return x"
   ]
  },
  {
   "cell_type": "markdown",
   "metadata": {},
   "source": [
    "## Data Loading"
   ]
  },
  {
   "cell_type": "code",
   "execution_count": 10,
   "metadata": {
    "ExecuteTime": {
     "end_time": "2023-12-21T15:27:53.432052200Z",
     "start_time": "2023-12-21T15:27:53.373916800Z"
    }
   },
   "outputs": [
    {
     "name": "stdout",
     "output_type": "stream",
     "text": [
      "Training data\n"
     ]
    },
    {
     "data": {
      "text/plain": "                                                text  target\n0  Our Deeds are the Reason of this #earthquake M...       1\n1             Forest fire near La Ronge Sask. Canada       1\n2  All residents asked to 'shelter in place' are ...       1\n3  13,000 people receive #wildfires evacuation or...       1\n4  Just got sent this photo from Ruby #Alaska as ...       1",
      "text/html": "<div>\n<style scoped>\n    .dataframe tbody tr th:only-of-type {\n        vertical-align: middle;\n    }\n\n    .dataframe tbody tr th {\n        vertical-align: top;\n    }\n\n    .dataframe thead th {\n        text-align: right;\n    }\n</style>\n<table border=\"1\" class=\"dataframe\">\n  <thead>\n    <tr style=\"text-align: right;\">\n      <th></th>\n      <th>text</th>\n      <th>target</th>\n    </tr>\n  </thead>\n  <tbody>\n    <tr>\n      <th>0</th>\n      <td>Our Deeds are the Reason of this #earthquake M...</td>\n      <td>1</td>\n    </tr>\n    <tr>\n      <th>1</th>\n      <td>Forest fire near La Ronge Sask. Canada</td>\n      <td>1</td>\n    </tr>\n    <tr>\n      <th>2</th>\n      <td>All residents asked to 'shelter in place' are ...</td>\n      <td>1</td>\n    </tr>\n    <tr>\n      <th>3</th>\n      <td>13,000 people receive #wildfires evacuation or...</td>\n      <td>1</td>\n    </tr>\n    <tr>\n      <th>4</th>\n      <td>Just got sent this photo from Ruby #Alaska as ...</td>\n      <td>1</td>\n    </tr>\n  </tbody>\n</table>\n</div>"
     },
     "metadata": {},
     "output_type": "display_data"
    },
    {
     "name": "stdout",
     "output_type": "stream",
     "text": [
      "\n",
      "Testing data\n"
     ]
    },
    {
     "data": {
      "text/html": [
       "<div>\n",
       "<style scoped>\n",
       "    .dataframe tbody tr th:only-of-type {\n",
       "        vertical-align: middle;\n",
       "    }\n",
       "\n",
       "    .dataframe tbody tr th {\n",
       "        vertical-align: top;\n",
       "    }\n",
       "\n",
       "    .dataframe thead th {\n",
       "        text-align: right;\n",
       "    }\n",
       "</style>\n",
       "<table border=\"1\" class=\"dataframe\">\n",
       "  <thead>\n",
       "    <tr style=\"text-align: right;\">\n",
       "      <th></th>\n",
       "      <th>text</th>\n",
       "      <th>target</th>\n",
       "    </tr>\n",
       "  </thead>\n",
       "  <tbody>\n",
       "    <tr>\n",
       "      <th>0</th>\n",
       "      <td>Just happened a terrible car crash</td>\n",
       "      <td>1</td>\n",
       "    </tr>\n",
       "    <tr>\n",
       "      <th>1</th>\n",
       "      <td>Heard about #earthquake is different cities, s...</td>\n",
       "      <td>1</td>\n",
       "    </tr>\n",
       "    <tr>\n",
       "      <th>2</th>\n",
       "      <td>there is a forest fire at spot pond, geese are...</td>\n",
       "      <td>1</td>\n",
       "    </tr>\n",
       "    <tr>\n",
       "      <th>3</th>\n",
       "      <td>Apocalypse lighting. #Spokane #wildfires</td>\n",
       "      <td>1</td>\n",
       "    </tr>\n",
       "    <tr>\n",
       "      <th>4</th>\n",
       "      <td>Typhoon Soudelor kills 28 in China and Taiwan</td>\n",
       "      <td>1</td>\n",
       "    </tr>\n",
       "  </tbody>\n",
       "</table>\n",
       "</div>"
      ],
      "text/plain": [
       "                                                text  target\n",
       "0                 Just happened a terrible car crash       1\n",
       "1  Heard about #earthquake is different cities, s...       1\n",
       "2  there is a forest fire at spot pond, geese are...       1\n",
       "3           Apocalypse lighting. #Spokane #wildfires       1\n",
       "4      Typhoon Soudelor kills 28 in China and Taiwan       1"
      ]
     },
     "metadata": {},
     "output_type": "display_data"
    }
   ],
   "source": [
    "tweets_train = pd.read_csv('../data/tweets_data/train.csv')[['text', 'target']].reset_index(drop=True)\n",
    "tweets_test = pd.read_csv('../data/tweets_data/test.csv')[['id', 'text']]\n",
    "tweets_labels = pd.read_csv('../data/tweets_data/test_labels.csv', encoding='latin-1')[['choose_one', 'text']]\n",
    "\n",
    "tweets_labels['target'] = (tweets_labels['choose_one']=='Relevant').astype(int)\n",
    "tweets_labels['id'] = tweets_labels.index\n",
    "\n",
    "tweets_test = pd.merge(left = tweets_test, right = tweets_labels, on='id', how = 'left')[['id', 'text_x', 'target']]\n",
    "tweets_test.rename(columns={'text_x': 'text'}, inplace=True)\n",
    "tweets_test = tweets_test[['text', 'target']]\n",
    "\n",
    "print('Training data')\n",
    "display(tweets_train.head())\n",
    "print()\n",
    "print('Testing data')\n",
    "display(tweets_test.head())"
   ]
  },
  {
   "cell_type": "markdown",
   "metadata": {},
   "source": [
    "# Text pre-processing"
   ]
  },
  {
   "cell_type": "markdown",
   "metadata": {},
   "source": [
    "## Cleaning text using key-words and lemmatization"
   ]
  },
  {
   "cell_type": "code",
   "execution_count": 11,
   "metadata": {
    "ExecuteTime": {
     "end_time": "2023-12-21T15:29:01.782176300Z",
     "start_time": "2023-12-21T15:27:58.466800200Z"
    }
   },
   "outputs": [],
   "source": [
    "tweets_train['clean_text'] = tweets_train['text'].apply(preprocess)\n",
    "tweets_test['clean_text'] = tweets_test['text'].apply(preprocess)"
   ]
  },
  {
   "cell_type": "code",
   "execution_count": 12,
   "metadata": {
    "ExecuteTime": {
     "end_time": "2023-12-21T15:29:01.798553700Z",
     "start_time": "2023-12-21T15:29:01.785391100Z"
    }
   },
   "outputs": [
    {
     "name": "stdout",
     "output_type": "stream",
     "text": [
      "Training data\n"
     ]
    },
    {
     "data": {
      "text/plain": "                                                text  target  \\\n0  Our Deeds are the Reason of this #earthquake M...       1   \n1             Forest fire near La Ronge Sask. Canada       1   \n2  All residents asked to 'shelter in place' are ...       1   \n3  13,000 people receive #wildfires evacuation or...       1   \n4  Just got sent this photo from Ruby #Alaska as ...       1   \n\n                                          clean_text  \n0               deed reason earthquake allah forgive  \n1              forest fire near la ronge sask canada  \n2  resident ask shelter place notify officer evac...  \n3    people receive wildfire evacuation order cal...  \n4  get send photo ruby alaska smoke wildfire pour...  ",
      "text/html": "<div>\n<style scoped>\n    .dataframe tbody tr th:only-of-type {\n        vertical-align: middle;\n    }\n\n    .dataframe tbody tr th {\n        vertical-align: top;\n    }\n\n    .dataframe thead th {\n        text-align: right;\n    }\n</style>\n<table border=\"1\" class=\"dataframe\">\n  <thead>\n    <tr style=\"text-align: right;\">\n      <th></th>\n      <th>text</th>\n      <th>target</th>\n      <th>clean_text</th>\n    </tr>\n  </thead>\n  <tbody>\n    <tr>\n      <th>0</th>\n      <td>Our Deeds are the Reason of this #earthquake M...</td>\n      <td>1</td>\n      <td>deed reason earthquake allah forgive</td>\n    </tr>\n    <tr>\n      <th>1</th>\n      <td>Forest fire near La Ronge Sask. Canada</td>\n      <td>1</td>\n      <td>forest fire near la ronge sask canada</td>\n    </tr>\n    <tr>\n      <th>2</th>\n      <td>All residents asked to 'shelter in place' are ...</td>\n      <td>1</td>\n      <td>resident ask shelter place notify officer evac...</td>\n    </tr>\n    <tr>\n      <th>3</th>\n      <td>13,000 people receive #wildfires evacuation or...</td>\n      <td>1</td>\n      <td>people receive wildfire evacuation order cal...</td>\n    </tr>\n    <tr>\n      <th>4</th>\n      <td>Just got sent this photo from Ruby #Alaska as ...</td>\n      <td>1</td>\n      <td>get send photo ruby alaska smoke wildfire pour...</td>\n    </tr>\n  </tbody>\n</table>\n</div>"
     },
     "metadata": {},
     "output_type": "display_data"
    },
    {
     "name": "stdout",
     "output_type": "stream",
     "text": [
      "\n",
      "Testing data\n"
     ]
    },
    {
     "data": {
      "text/html": [
       "<div>\n",
       "<style scoped>\n",
       "    .dataframe tbody tr th:only-of-type {\n",
       "        vertical-align: middle;\n",
       "    }\n",
       "\n",
       "    .dataframe tbody tr th {\n",
       "        vertical-align: top;\n",
       "    }\n",
       "\n",
       "    .dataframe thead th {\n",
       "        text-align: right;\n",
       "    }\n",
       "</style>\n",
       "<table border=\"1\" class=\"dataframe\">\n",
       "  <thead>\n",
       "    <tr style=\"text-align: right;\">\n",
       "      <th></th>\n",
       "      <th>text</th>\n",
       "      <th>target</th>\n",
       "      <th>clean_text</th>\n",
       "    </tr>\n",
       "  </thead>\n",
       "  <tbody>\n",
       "    <tr>\n",
       "      <th>0</th>\n",
       "      <td>Just happened a terrible car crash</td>\n",
       "      <td>1</td>\n",
       "      <td>happen terrible car crash</td>\n",
       "    </tr>\n",
       "    <tr>\n",
       "      <th>1</th>\n",
       "      <td>Heard about #earthquake is different cities, s...</td>\n",
       "      <td>1</td>\n",
       "      <td>hear earthquake different city stay safe</td>\n",
       "    </tr>\n",
       "    <tr>\n",
       "      <th>2</th>\n",
       "      <td>there is a forest fire at spot pond, geese are...</td>\n",
       "      <td>1</td>\n",
       "      <td>forest fire spot pond goose flee street save</td>\n",
       "    </tr>\n",
       "    <tr>\n",
       "      <th>3</th>\n",
       "      <td>Apocalypse lighting. #Spokane #wildfires</td>\n",
       "      <td>1</td>\n",
       "      <td>apocalypse lighting spokane wildfire</td>\n",
       "    </tr>\n",
       "    <tr>\n",
       "      <th>4</th>\n",
       "      <td>Typhoon Soudelor kills 28 in China and Taiwan</td>\n",
       "      <td>1</td>\n",
       "      <td>typhoon soudelor kill china taiwan</td>\n",
       "    </tr>\n",
       "  </tbody>\n",
       "</table>\n",
       "</div>"
      ],
      "text/plain": [
       "                                                text  target  \\\n",
       "0                 Just happened a terrible car crash       1   \n",
       "1  Heard about #earthquake is different cities, s...       1   \n",
       "2  there is a forest fire at spot pond, geese are...       1   \n",
       "3           Apocalypse lighting. #Spokane #wildfires       1   \n",
       "4      Typhoon Soudelor kills 28 in China and Taiwan       1   \n",
       "\n",
       "                                     clean_text  \n",
       "0                     happen terrible car crash  \n",
       "1      hear earthquake different city stay safe  \n",
       "2  forest fire spot pond goose flee street save  \n",
       "3          apocalypse lighting spokane wildfire  \n",
       "4            typhoon soudelor kill china taiwan  "
      ]
     },
     "metadata": {},
     "output_type": "display_data"
    }
   ],
   "source": [
    "print('Training data')\n",
    "display(tweets_train.head())\n",
    "print()\n",
    "print('Testing data')\n",
    "display(tweets_test.head())"
   ]
  },
  {
   "cell_type": "markdown",
   "metadata": {},
   "source": [
    "## Sub-word tokenization with BERT Tokenizer for Byte-Pair Encoding "
   ]
  },
  {
   "cell_type": "code",
   "execution_count": 13,
   "metadata": {
    "ExecuteTime": {
     "end_time": "2023-12-21T15:30:29.849421800Z",
     "start_time": "2023-12-21T15:29:11.378522300Z"
    }
   },
   "outputs": [
    {
     "data": {
      "text/plain": "tokenizer_config.json:   0%|          | 0.00/28.0 [00:00<?, ?B/s]",
      "application/vnd.jupyter.widget-view+json": {
       "version_major": 2,
       "version_minor": 0,
       "model_id": "5c140747297d46c99109c75bf0914031"
      }
     },
     "metadata": {},
     "output_type": "display_data"
    },
    {
     "name": "stderr",
     "output_type": "stream",
     "text": [
      "C:\\Python\\Lib\\site-packages\\huggingface_hub\\file_download.py:149: UserWarning: `huggingface_hub` cache-system uses symlinks by default to efficiently store duplicated files but your machine does not support them in C:\\Users\\tfrod\\.cache\\huggingface\\hub\\models--bert-base-uncased. Caching files will still work but in a degraded version that might require more space on your disk. This warning can be disabled by setting the `HF_HUB_DISABLE_SYMLINKS_WARNING` environment variable. For more details, see https://huggingface.co/docs/huggingface_hub/how-to-cache#limitations.\n",
      "To support symlinks on Windows, you either need to activate Developer Mode or to run Python as an administrator. In order to see activate developer mode, see this article: https://docs.microsoft.com/en-us/windows/apps/get-started/enable-your-device-for-development\n",
      "  warnings.warn(message)\n"
     ]
    },
    {
     "data": {
      "text/plain": "config.json:   0%|          | 0.00/570 [00:00<?, ?B/s]",
      "application/vnd.jupyter.widget-view+json": {
       "version_major": 2,
       "version_minor": 0,
       "model_id": "17bdeb8e6c4d44b8a7545982a990de34"
      }
     },
     "metadata": {},
     "output_type": "display_data"
    },
    {
     "data": {
      "text/plain": "vocab.txt:   0%|          | 0.00/232k [00:00<?, ?B/s]",
      "application/vnd.jupyter.widget-view+json": {
       "version_major": 2,
       "version_minor": 0,
       "model_id": "0739b7bf3b964c04b233920197586aeb"
      }
     },
     "metadata": {},
     "output_type": "display_data"
    },
    {
     "data": {
      "text/plain": "tokenizer.json:   0%|          | 0.00/466k [00:00<?, ?B/s]",
      "application/vnd.jupyter.widget-view+json": {
       "version_major": 2,
       "version_minor": 0,
       "model_id": "8093703a61f04a9e9b6f0c07a01a567e"
      }
     },
     "metadata": {},
     "output_type": "display_data"
    },
    {
     "data": {
      "text/plain": "{('e', 'r'): 'er',\n ('r', 'e'): 're',\n ('i', 'n'): 'in',\n ('a', 'n'): 'an',\n ('o', 'n'): 'on',\n ('s', 't'): 'st',\n ('a', 't'): 'at',\n ('a', 'r'): 'ar',\n ('a', 'l'): 'al',\n ('o', 'r'): 'or',\n ('e', 'n'): 'en',\n ('l', 'e'): 'le',\n ('l', 'i'): 'li',\n ('d', 'e'): 'de',\n ('i', 'c'): 'ic',\n ('s', 'e'): 'se',\n ('a', 'm'): 'am',\n ('r', 'o'): 'ro',\n ('l', 'o'): 'lo',\n ('i', 'l'): 'il',\n ('a', 'c'): 'ac',\n ('i', 't'): 'it',\n ('s', 'h'): 'sh',\n ('u', 'n'): 'un',\n ('c', 'h'): 'ch',\n ('c', 'o'): 'co',\n ('u', 'r'): 'ur',\n ('v', 'e'): 've',\n ('t', 'h'): 'th',\n ('r', 'a'): 'ra',\n ('i', 'on'): 'ion',\n ('g', 'e'): 'ge',\n ('i', 's'): 'is',\n ('m', 'e'): 'me',\n ('in', 'g'): 'ing',\n ('a', 'y'): 'ay',\n ('k', 'e'): 'ke',\n ('n', 'e'): 'ne',\n ('a', 'd'): 'ad',\n ('r', 'i'): 'ri',\n ('h', 'o'): 'ho',\n ('o', 'd'): 'od',\n ('s', 's'): 'ss',\n ('at', 'e'): 'ate',\n ('en', 't'): 'ent',\n ('e', 'l'): 'el',\n ('a', 'p'): 'ap',\n ('f', 'i'): 'fi',\n ('l', 'y'): 'ly',\n ('t', 'er'): 'ter',\n ('o', 'm'): 'om',\n ('g', 'h'): 'gh',\n ('u', 't'): 'ut',\n ('s', 'u'): 'su',\n ('m', 'a'): 'ma',\n ('l', 'a'): 'la',\n ('p', 'e'): 'pe',\n ('f', 'e'): 'fe',\n ('c', 'e'): 'ce',\n ('o', 'l'): 'ol',\n ('v', 'i'): 'vi',\n ('o', 't'): 'ot',\n ('c', 'k'): 'ck',\n ('c', 't'): 'ct',\n ('d', 'i'): 'di',\n ('g', 'o'): 'go',\n ('u', 's'): 'us',\n ('p', 'o'): 'po',\n ('h', 'e'): 'he',\n ('r', 'u'): 'ru',\n ('d', 'er'): 'der',\n ('ne', 'w'): 'new',\n ('b', 'e'): 'be',\n ('s', 'i'): 'si',\n ('at', 'ion'): 'ation',\n ('m', 'o'): 'mo',\n ('an', 'd'): 'and',\n ('o', 'w'): 'ow',\n ('a', 'st'): 'ast',\n ('gh', 't'): 'ght',\n ('fi', 're'): 'fire',\n ('i', 'r'): 'ir',\n ('w', 'e'): 'we',\n ('p', 'l'): 'pl',\n ('c', 'on'): 'con',\n ('e', 'x'): 'ex',\n ('an', 't'): 'ant',\n ('in', 'e'): 'ine',\n ('ac', 'k'): 'ack',\n ('v', 'er'): 'ver',\n ('o', 'p'): 'op',\n ('a', 'b'): 'ab',\n ('u', 'l'): 'ul',\n ('s', 'p'): 'sp',\n ('am', 'p'): 'amp',\n ('e', 'm'): 'em',\n ('s', 'c'): 'sc',\n ('h', 'i'): 'hi',\n ('st', 'or'): 'stor',\n ('i', 'd'): 'id',\n ('f', 'f'): 'ff',\n ('n', 'i'): 'ni',\n ('b', 'o'): 'bo',\n ('q', 'u'): 'qu',\n ('il', 'l'): 'ill',\n ('t', 'i'): 'ti',\n ('c', 'a'): 'ca',\n ('e', 'd'): 'ed',\n ('s', 'o'): 'so',\n ('h', 'a'): 'ha',\n ('li', 'ke'): 'like',\n ('t', 'ra'): 'tra',\n ('a', 'k'): 'ak',\n ('u', 'm'): 'um',\n ('w', 'or'): 'wor',\n ('t', 'y'): 'ty',\n ('stor', 'm'): 'storm',\n ('il', 'd'): 'ild',\n ('y', 'e'): 'ye',\n ('r', 'y'): 'ry',\n ('o', 'k'): 'ok',\n ('in', 'd'): 'ind',\n ('m', 'an'): 'man',\n ('p', 'ro'): 'pro',\n ('in', 'k'): 'ink',\n ('at', 't'): 'att',\n ('un', 'd'): 'und',\n ('it', 'y'): 'ity',\n ('a', 's'): 'as',\n ('a', 'ge'): 'age',\n ('t', 'e'): 'te',\n ('c', 'al'): 'cal',\n ('f', 'o'): 'fo',\n ('d', 'is'): 'dis',\n ('om', 'b'): 'omb',\n ('a', 'g'): 'ag',\n ('co', 'l'): 'col',\n ('p', 're'): 'pre',\n ('or', 't'): 'ort',\n ('i', 'g'): 'ig',\n ('lo', 'w'): 'low',\n ('b', 'u'): 'bu',\n ('i', 'st'): 'ist',\n ('b', 'omb'): 'bomb',\n ('en', 'd'): 'end',\n ('p', 'er'): 'per',\n ('s', 'a'): 'sa',\n ('c', 'y'): 'cy',\n ('d', 'on'): 'don',\n ('ar', 'd'): 'ard',\n ('f', 'or'): 'for',\n ('new', 's'): 'news',\n ('ac', 'e'): 'ace',\n ('on', 'e'): 'one',\n ('ur', 'n'): 'urn',\n ('at', 'h'): 'ath',\n ('ge', 't'): 'get',\n ('u', 'p'): 'up',\n ('b', 'le'): 'ble',\n ('t', 'o'): 'to',\n ('w', 'a'): 'wa',\n ('u', 'se'): 'use',\n ('co', 'm'): 'com',\n ('ar', 't'): 'art',\n ('ro', 'w'): 'row',\n ('ic', 'e'): 'ice',\n ('t', 'on'): 'ton',\n ('d', 'ay'): 'day',\n ('lo', 'od'): 'lood',\n ('al', 'l'): 'all',\n ('n', 'a'): 'na',\n ('sh', 'i'): 'shi',\n ('m', 'ent'): 'ment',\n ('o', 'ut'): 'out',\n ('u', 're'): 'ure',\n ('o', 'b'): 'ob',\n ('ac', 't'): 'act',\n ('a', 're'): 'are',\n ('u', 'e'): 'ue',\n ('c', 'i'): 'ci',\n ('c', 'ra'): 'cra',\n ('el', 'l'): 'ell',\n ('s', 'on'): 'son',\n ('g', 'en'): 'gen',\n ('t', 'a'): 'ta',\n ('m', 'i'): 'mi',\n ('e', 't'): 'et',\n ('s', 'ur'): 'sur',\n ('m', 'ar'): 'mar',\n ('p', 'h'): 'ph',\n ('w', 'ar'): 'war',\n ('i', 'm'): 'im',\n ('ti', 'me'): 'time',\n ('n', 'ow'): 'now',\n ('a', 'il'): 'ail',\n ('ic', 'i'): 'ici',\n ('u', 'st'): 'ust',\n ('al', 'ly'): 'ally',\n ('w', 'at'): 'wat',\n ('b', 're'): 'bre',\n ('l', 'and'): 'land',\n ('e', 'v'): 'ev',\n ('an', 'e'): 'ane',\n ('po', 'li'): 'poli',\n ('b', 'l'): 'bl',\n ('z', 'e'): 'ze',\n ('f', 'u'): 'fu',\n ('b', 'er'): 'ber',\n ('r', 'or'): 'ror',\n ('ic', 'k'): 'ick',\n ('a', 'ir'): 'air',\n ('o', 'ff'): 'off',\n ('pe', 'op'): 'peop',\n ('peop', 'le'): 'people',\n ('b', 'r'): 'br',\n ('k', 'ill'): 'kill',\n ('re', 'd'): 'red',\n ('l', 'd'): 'ld',\n ('i', 'an'): 'ian',\n ('a', 'v'): 'av',\n ('am', 'e'): 'ame',\n ('ar', 'y'): 'ary',\n ('w', 'ay'): 'way',\n ('it', 'e'): 'ite',\n ('b', 'urn'): 'burn',\n ('c', 'ar'): 'car',\n ('u', 'd'): 'ud',\n ('ow', 'n'): 'own',\n ('g', 'er'): 'ger',\n ('d', 'o'): 'do',\n ('vi', 'de'): 'vide',\n ('p', 'ort'): 'port',\n ('m', 'on'): 'mon',\n ('g', 're'): 'gre',\n ('an', 'ce'): 'ance',\n ('f', 'am'): 'fam',\n ('p', 'an'): 'pan',\n ('co', 'me'): 'come',\n ('vide', 'o'): 'video',\n ('c', 'le'): 'cle',\n ('i', 'o'): 'io',\n ('s', 'er'): 'ser',\n ('i', 've'): 'ive',\n ('i', 'e'): 'ie',\n ('m', 'in'): 'min',\n ('ye', 'ar'): 'year',\n ('n', 'o'): 'no',\n ('ast', 'er'): 'aster',\n ('li', 't'): 'lit',\n ('li', 'ght'): 'light',\n ('le', 't'): 'let',\n ('ar', 'm'): 'arm',\n ('f', 'lood'): 'flood',\n ('b', 'od'): 'bod',\n ('w', 'o'): 'wo',\n ('ho', 'me'): 'home',\n ('p', 'ho'): 'pho',\n ('bre', 'ak'): 'break',\n ('lo', 've'): 'love',\n ('i', 'a'): 'ia',\n ('bod', 'y'): 'body',\n ('em', 'er'): 'emer',\n ('cra', 'sh'): 'crash',\n ('am', 'a'): 'ama',\n ('ter', 'ror'): 'terror',\n ('e', 'p'): 'ep',\n ('ex', 'p'): 'exp',\n ('a', 'u'): 'au',\n ('ut', 'e'): 'ute',\n ('in', 'j'): 'inj',\n ('dis', 'aster'): 'disaster',\n ('li', 'de'): 'lide',\n ('c', 'l'): 'cl',\n ('bu', 'ild'): 'build',\n ('re', 'am'): 'ream',\n ('emer', 'gen'): 'emergen',\n ('sh', 'o'): 'sho',\n ('emergen', 'cy'): 'emergency',\n ('lo', 'ok'): 'look',\n ('f', 'at'): 'fat',\n ('att', 'ack'): 'attack',\n ('wor', 'k'): 'work',\n ('re', 'n'): 'ren',\n ('de', 'st'): 'dest',\n ('a', 'f'): 'af',\n ('s', 'pe'): 'spe',\n ('t', 'ro'): 'tro',\n ('t', 'ru'): 'tru',\n ('l', 'l'): 'll',\n ('f', 'l'): 'fl',\n ('il', 'y'): 'ily',\n ('w', 'ind'): 'wind',\n ('b', 'ag'): 'bag',\n ('t', 'r'): 'tr',\n ('go', 'od'): 'good',\n ('a', 'ss'): 'ass',\n ('un', 'der'): 'under',\n ('a', 'se'): 'ase',\n ('j', 'o'): 'jo',\n ('ch', 'e'): 'che',\n ('n', 'or'): 'nor',\n ('un', 't'): 'unt',\n ('c', 're'): 'cre',\n ('li', 'fe'): 'life',\n ('c', 'at'): 'cat',\n ('wor', 'ld'): 'world',\n ('w', 're'): 'wre',\n ('ap', 'p'): 'app',\n ('k', 'now'): 'know',\n ('poli', 'ce'): 'police',\n ('fat', 'al'): 'fatal',\n ('n', 'u'): 'nu',\n ('wre', 'ck'): 'wreck',\n ('o', 'o'): 'oo',\n ('r', 'ic'): 'ric',\n ('g', 'u'): 'gu',\n ('de', 'l'): 'del',\n ('s', 'ion'): 'sion',\n ('pl', 'ay'): 'play',\n ('row', 'n'): 'rown',\n ('w', 'ild'): 'wild',\n ('i', 're'): 'ire',\n ('th', 'e'): 'the',\n ('t', 'w'): 'tw',\n ('c', 'an'): 'can',\n ('on', 'g'): 'ong',\n ('ct', 'ion'): 'ction',\n ('e', 'k'): 'ek',\n ('ac', 'c'): 'acc',\n ('exp', 'lo'): 'explo',\n ('t', 'od'): 'tod',\n ('th', 'er'): 'ther',\n ('n', 'ing'): 'ning',\n ('ev', 'ac'): 'evac',\n ('cal', 'i'): 'cali',\n ('r', 't'): 'rt',\n ('le', 'g'): 'leg',\n ('wat', 'ch'): 'watch',\n ('sur', 'vi'): 'survi',\n ('s', 'ink'): 'sink',\n ('re', 'sc'): 'resc',\n ('e', 'ar'): 'ear',\n ('evac', 'u'): 'evacu',\n ('build', 'ing'): 'building',\n ('tra', 'in'): 'train',\n ('th', 'ink'): 'think',\n ('fam', 'ily'): 'family',\n ('f', 't'): 'ft',\n ('is', 'm'): 'ism',\n ('re', 'e'): 'ree',\n ('m', 'er'): 'mer',\n ('an', 'k'): 'ank',\n ('ni', 'a'): 'nia',\n ('an', 'ge'): 'ange',\n ('ra', 'in'): 'rain',\n ('id', 'ent'): 'ident',\n ('st', 'er'): 'ster',\n ('cle', 'ar'): 'clear',\n ('re', 'st'): 'rest',\n ('cali', 'for'): 'califor',\n ('ma', 'ss'): 'mass',\n ('h', 'el'): 'hel',\n ('c', 'ur'): 'cur',\n ('j', 'e'): 'je',\n ('en', 'ce'): 'ence',\n ('col', 'l'): 'coll',\n ('ol', 'd'): 'old',\n ('d', 'it'): 'dit',\n ('califor', 'nia'): 'california',\n ('li', 've'): 'live',\n ('in', 't'): 'int',\n ('w', 'ant'): 'want',\n ('p', 'ar'): 'par',\n ('e', 'st'): 'est',\n ('j', 'ack'): 'jack',\n ('ici', 'de'): 'icide',\n ('s', 'ay'): 'say',\n ('su', 'icide'): 'suicide',\n ('o', 'us'): 'ous',\n ('vi', 'e'): 'vie',\n ('ap', 'se'): 'apse',\n ('sc', 'ream'): 'scream',\n ('r', 'un'): 'run',\n ('de', 'ath'): 'death',\n ('w', 'h'): 'wh',\n ('shi', 'ma'): 'shima',\n ('e', 'le'): 'ele',\n ('g', 'a'): 'ga',\n ('u', 'be'): 'ube',\n ('coll', 'apse'): 'collapse',\n ('li', 'ter'): 'liter',\n ('d', 'am'): 'dam',\n ('in', 'ter'): 'inter',\n ('der', 'ail'): 'derail',\n ('de', 'ad'): 'dead',\n ('ac', 'h'): 'ach',\n ('p', 'm'): 'pm',\n ('c', 'li'): 'cli',\n ('h', 'or'): 'hor',\n ('b', 'an'): 'ban',\n ('l', 't'): 'lt',\n ('f', 'ul'): 'ful',\n ('ro', 'y'): 'roy',\n ('ir', 'l'): 'irl',\n ('s', 'ol'): 'sol',\n ('c', 'r'): 'cr',\n ('b', 'la'): 'bla',\n ('l', 'ine'): 'line',\n ('ch', 'ar'): 'char',\n ('m', 'is'): 'mis',\n ('s', 'w'): 'sw',\n ('de', 'mo'): 'demo',\n ('pl', 'an'): 'plan',\n ('fe', 'el'): 'feel',\n ('s', 'ch'): 'sch',\n ('a', 'h'): 'ah',\n ('z', 'ard'): 'zard',\n ('ne', 'ar'): 'near',\n ('se', 't'): 'set',\n ('acc', 'ident'): 'accident',\n ('ur', 'y'): 'ury',\n ('re', 'ad'): 'read',\n ('me', 'm'): 'mem',\n ('a', 'ke'): 'ake',\n ('ca', 'use'): 'cause',\n ('g', 't'): 'gt',\n ('tod', 'ay'): 'today',\n ('ne', 'ed'): 'need',\n ('con', 't'): 'cont',\n ('nu', 'clear'): 'nuclear',\n ('fe', 'ct'): 'fect',\n ('he', 'ad'): 'head',\n ('th', 'under'): 'thunder',\n ('di', 'e'): 'die',\n ('ic', 'al'): 'ical',\n ('am', 'er'): 'amer',\n ('d', 'own'): 'down',\n ('w', 'om'): 'wom',\n ('m', 'p'): 'mp',\n ('n', 'ot'): 'not',\n ('b', 'us'): 'bus',\n ('m', 'ur'): 'mur',\n ('d', 'rown'): 'drown',\n ('ath', 'er'): 'ather',\n ('b', 'ig'): 'big',\n ('y', 'out'): 'yout',\n ('de', 'v'): 'dev',\n ('n', 'y'): 'ny',\n ('ri', 'ght'): 'right',\n ('al', 'k'): 'alk',\n ('fu', 'ck'): 'fuck',\n ('shi', 'p'): 'ship',\n ('dest', 'roy'): 'destroy',\n ('d', 'an'): 'dan',\n ('ke', 't'): 'ket',\n ('a', 've'): 'ave',\n ('g', 'n'): 'gn',\n ('yout', 'ube'): 'youtube',\n ('s', 'en'): 'sen',\n ('m', 'al'): 'mal',\n ('de', 'ton'): 'deton',\n ('b', 'ad'): 'bad',\n ('f', 'all'): 'fall',\n ('c', 'la'): 'cla',\n ('y', 'o'): 'yo',\n ('b', 'low'): 'blow',\n ('hi', 'ro'): 'hiro',\n ('c', 'ru'): 'cru',\n ('p', 'u'): 'pu',\n ('l', 'ate'): 'late',\n ('s', 'k'): 'sk',\n ('g', 'r'): 'gr',\n ('hiro', 'shima'): 'hiroshima',\n ('hi', 'jack'): 'hijack',\n ('i', 'sh'): 'ish',\n ('b', 'lood'): 'blood',\n ('li', 'e'): 'lie',\n ('m', 'h'): 'mh',\n ('ser', 'v'): 'serv',\n ('m', 'at'): 'mat',\n ('pl', 'ace'): 'place',\n ('st', 'e'): 'ste',\n ('d', 'r'): 'dr',\n ('b', 'ro'): 'bro',\n ('hel', 'p'): 'help',\n ('su', 'e'): 'sue',\n ('ap', 'on'): 'apon',\n ('ho', 'st'): 'host',\n ('ho', 't'): 'hot',\n ('fe', 'ar'): 'fear',\n ('an', 'ni'): 'anni',\n ('we', 'apon'): 'weapon',\n ('resc', 'ue'): 'rescue',\n ('ob', 'liter'): 'obliter',\n ('pho', 'to'): 'photo',\n ('h', 'app'): 'happ',\n ('bl', 'ack'): 'black',\n ('c', 'ent'): 'cent',\n ('se', 'e'): 'see',\n ('mur', 'der'): 'murder',\n ('b', 'c'): 'bc',\n ('d', 'u'): 'du',\n ('re', 'al'): 'real',\n ('ur', 'al'): 'ural',\n ('f', 'in'): 'fin',\n ('p', 'i'): 'pi',\n ('ele', 'ct'): 'elect',\n ('fi', 'r'): 'fir',\n ('lo', 'se'): 'lose',\n ('u', 'ge'): 'uge',\n ('inj', 'ury'): 'injury',\n ('re', 'port'): 'report',\n ('en', 'g'): 'eng',\n ('p', 'at'): 'pat',\n ('st', 're'): 'stre',\n ('qu', 'ar'): 'quar',\n ('t', 'or'): 'tor',\n ('ab', 'le'): 'able',\n ('ch', 'ange'): 'change',\n ('j', 'ap'): 'jap',\n ('ri', 'ot'): 'riot',\n ('s', 'lide'): 'slide',\n ('b', 'y'): 'by',\n ('ri', 'd'): 'rid',\n ('f', 'ind'): 'find',\n ('serv', 'ice'): 'service',\n ('sp', 'on'): 'spon',\n ('s', 'y'): 'sy',\n ('l', 'ong'): 'long',\n ('wat', 'er'): 'water',\n ('wild', 'fire'): 'wildfire',\n ('so', 'u'): 'sou',\n ('f', 'ri'): 'fri',\n ('c', 'ity'): 'city',\n ('d', 'y'): 'dy',\n ('dev', 'ast'): 'devast',\n ('d', 'ate'): 'date',\n ('ro', 'ss'): 'ross',\n ('p', 't'): 'pt',\n ('lo', 't'): 'lot',\n ('n', 'at'): 'nat',\n ('qu', 'e'): 'que',\n ('m', 'us'): 'mus',\n ('survi', 've'): 'survive',\n ('c', 'ute'): 'cute',\n ('wo', 'und'): 'wound',\n ('ca', 're'): 'care',\n ('g', 'od'): 'god',\n ('th', 'ing'): 'thing',\n ('g', 'in'): 'gin',\n ('e', 'ye'): 'eye',\n ('stor', 'y'): 'story',\n ('b', 'ab'): 'bab',\n ('lo', 'l'): 'lol',\n ('g', 'ro'): 'gro',\n ('con', 'fir'): 'confir',\n ('he', 'ar'): 'hear',\n ('sa', 've'): 'save',\n ('c', 'er'): 'cer',\n ('mis', 's'): 'miss',\n ('p', 'le'): 'ple',\n ('li', 'sh'): 'lish',\n ('explo', 'de'): 'explode',\n ('ha', 'zard'): 'hazard',\n ('wa', 've'): 'wave',\n ('b', 'ar'): 'bar',\n ('v', 'ol'): 'vol',\n ('ne', 'ss'): 'ness',\n ('evacu', 'ate'): 'evacuate',\n ('or', 'd'): 'ord',\n ('s', 'un'): 'sun',\n ('st', 'ate'): 'state',\n ('d', 'ri'): 'dri',\n ('f', 'ace'): 'face',\n ('ast', 'ro'): 'astro',\n ('wom', 'an'): 'woman',\n ('d', 'ro'): 'dro',\n ('col', 'lide'): 'collide',\n ('su', 'al'): 'sual',\n ('fatal', 'ity'): 'fatality',\n ('t', 'ry'): 'try',\n ('gre', 'at'): 'great',\n ('i', 'se'): 'ise',\n ('st', 'and'): 'stand',\n ('pl', 'ane'): 'plane',\n ('re', 'spon'): 'respon',\n ('arm', 'y'): 'army',\n ('st', 'ru'): 'stru',\n ('pan', 'ic'): 'panic',\n ('ve', 'st'): 'vest',\n ('ear', 'th'): 'earth',\n ('o', 'ol'): 'ool',\n ('m', 'y'): 'my',\n ('dam', 'age'): 'damage',\n ('st', 'op'): 'stop',\n ('ho', 'use'): 'house',\n ('or', 'y'): 'ory',\n ('si', 'gn'): 'sign',\n ('mi', 'lit'): 'milit',\n ('bomb', 'ing'): 'bombing',\n ('att', 'le'): 'attle',\n ('b', 'io'): 'bio',\n ('host', 'age'): 'hostage',\n ('ant', 'ine'): 'antine',\n ('g', 'irl'): 'girl',\n ('ni', 'ght'): 'night',\n ('th', 'ank'): 'thank',\n ('ta', 'ke'): 'take',\n ('li', 'st'): 'list',\n ('v', 'il'): 'vil',\n ('ma', 'ge'): 'mage',\n ('f', 'a'): 'fa',\n ('p', 'r'): 'pr',\n ('bo', 'y'): 'boy',\n ('quar', 'antine'): 'quarantine',\n ('fo', 'rest'): 'forest',\n ('sch', 'ool'): 'school',\n ('ad', 'o'): 'ado',\n ('s', 'al'): 'sal',\n ('le', 'ave'): 'leave',\n ('v', 'o'): 'vo',\n ('i', 'ght'): 'ight',\n ('om', 'ic'): 'omic',\n ('in', 'di'): 'indi',\n ('ther', 'n'): 'thern',\n ('cat', 'astro'): 'catastro',\n ('b', 'li'): 'bli',\n ('g', 'ra'): 'gra',\n ('a', 'in'): 'ain',\n ('f', 'ree'): 'free',\n ('hi', 'gh'): 'high',\n ('i', 'i'): 'ii',\n ('c', 'ap'): 'cap',\n ('re', 'fu'): 'refu',\n ('cru', 'sh'): 'crush',\n ('f', 'r'): 'fr',\n ('spe', 'ct'): 'spect',\n ('h', 'it'): 'hit',\n ('leg', 'ion'): 'legion',\n ('s', 'n'): 'sn',\n ('ho', 'pe'): 'hope',\n ('terror', 'ism'): 'terrorism',\n ('ca', 'sual'): 'casual',\n ('co', 'unt'): 'count',\n ('su', 'm'): 'sum',\n ('ic', 'a'): 'ica',\n ('g', 'un'): 'gun',\n ('le', 'y'): 'ley',\n ('w', 'in'): 'win',\n ('ha', 'il'): 'hail',\n ('in', 'vest'): 'invest',\n ('ci', 'al'): 'cial',\n ('l', 'ad'): 'lad',\n ('st', 'art'): 'start',\n ('ob', 'ama'): 'obama',\n ('elect', 'ro'): 'electro',\n ('s', 'mo'): 'smo',\n ('he', 'av'): 'heav',\n ('si', 'de'): 'side',\n ('d', 'a'): 'da',\n ('g', 'ame'): 'game',\n ('t', 'le'): 'tle',\n ('b', 'ul'): 'bul',\n ('h', 'il'): 'hil',\n ('po', 'st'): 'post',\n ('st', 'r'): 'str',\n ('f', 'er'): 'fer',\n ('casual', 'ty'): 'casualty',\n ('deton', 'ate'): 'detonate',\n ('n', 'er'): 'ner',\n ('k', 'id'): 'kid',\n ('b', 'ay'): 'bay',\n ('d', 'n'): 'dn',\n ('t', 'urn'): 'turn',\n ('ro', 'ad'): 'road',\n ('off', 'ici'): 'offici',\n ('lo', 'g'): 'log',\n ('gh', 'ter'): 'ghter',\n ('ar', 'ch'): 'arch',\n ('sh', 'it'): 'shit',\n ('we', 'ek'): 'week',\n ('in', 'a'): 'ina',\n ('y', 'a'): 'ya',\n ('w', 'er'): 'wer',\n ('t', 'ri'): 'tri',\n ('ot', 'e'): 'ote',\n ('nor', 'thern'): 'northern',\n ('s', 'it'): 'sit',\n ('fl', 'ame'): 'flame',\n ('h', 'ur'): 'hur',\n ('del', 'uge'): 'deluge',\n ('co', 'p'): 'cop',\n ('f', 'ol'): 'fol',\n ('ta', 'in'): 'tain',\n ('w', 'ell'): 'well',\n ('ve', 'l'): 'vel',\n ('w', 'r'): 'wr',\n ('f', 'an'): 'fan',\n ('we', 'ather'): 'weather',\n ('h', 'and'): 'hand',\n ('se', 'l'): 'sel',\n ('au', 'g'): 'aug',\n ('lo', 'ud'): 'loud',\n ('ist', 'er'): 'ister',\n ('confir', 'm'): 'confirm',\n ('legion', 'na'): 'legionna',\n ('demo', 'lish'): 'demolish',\n ('electro', 'cute'): 'electrocute',\n ('red', 'dit'): 'reddit',\n ('m', 'ay'): 'may',\n ('c', 'ross'): 'cross',\n ('le', 'ad'): 'lead',\n ('e', 'f'): 'ef',\n ('re', 'le'): 'rele',\n ('invest', 'ig'): 'investig',\n ('legionna', 'ire'): 'legionnaire',\n ('are', 'a'): 'area',\n ('rid', 'ge'): 'ridge',\n ('su', 're'): 'sure',\n ('u', 'ght'): 'ught',\n ('si', 'ren'): 'siren',\n ('s', 'm'): 'sm',\n ('p', 'ick'): 'pick',\n ('h', 'ell'): 'hell',\n ('n', 'ation'): 'nation',\n ('st', 'ar'): 'star',\n ('v', 'a'): 'va',\n ('w', 'it'): 'wit',\n ('pre', 'ss'): 'press',\n ('jap', 'an'): 'japan',\n ('co', 'ver'): 'cover',\n ('mal', 'ay'): 'malay',\n ('bomb', 'er'): 'bomber',\n ('sum', 'mer'): 'summer',\n ('v', 'al'): 'val',\n ('u', 'g'): 'ug',\n ('p', 'are'): 'pare',\n ('is', 'is'): 'isis',\n ('so', 'und'): 'sound',\n ('rele', 'ase'): 'release',\n ('at', 'omic'): 'atomic',\n ('st', 'o'): 'sto',\n ('si', 'a'): 'sia',\n ('de', 'sol'): 'desol',\n ('obliter', 'ate'): 'obliterate',\n ('f', 'la'): 'fla',\n ('fri', 'end'): 'friend',\n ('is', 'sue'): 'issue',\n ('mem', 'ber'): 'member',\n ('i', 'z'): 'iz',\n ('s', 'or'): 'sor',\n ('an', 'g'): 'ang',\n ('p', 'he'): 'phe',\n ('t', 'own'): 'town',\n ('qu', 'ake'): 'quake',\n ('co', 'un'): 'coun',\n ('fol', 'low'): 'follow',\n ('tru', 'ck'): 'truck',\n ('offici', 'al'): 'official',\n ('a', 'ut'): 'aut',\n ('t', 'om'): 'tom',\n ('al', 'low'): 'allow',\n ('inj', 'ure'): 'injure',\n ('b', 'attle'): 'battle',\n ('m', 'ad'): 'mad',\n ('at', 'or'): 'ator',\n ('ty', 'pho'): 'typho',\n ('typho', 'on'): 'typhoon',\n ('lo', 'ck'): 'lock',\n ('h', 'al'): 'hal',\n ('er', 'o'): 'ero',\n ('f', 're'): 'fre',\n ('fi', 'ght'): 'fight',\n ('fo', 'od'): 'food',\n ('f', 'un'): 'fun',\n ('ch', 'ild'): 'child',\n ('mo', 'vie'): 'movie',\n ('sp', 'ort'): 'sport',\n ('bla', 'ze'): 'blaze',\n ('h', 'ar'): 'har',\n ('m', 'or'): 'mor',\n ('cont', 'ent'): 'content',\n ('up', 'date'): 'update',\n ('ho', 'le'): 'hole',\n ('sho', 'ot'): 'shoot',\n ('il', 'li'): 'illi',\n ('re', 'at'): 'reat',\n ('b', 'it'): 'bit',\n ('me', 'd'): 'med',\n ('p', 'ri'): 'pri',\n ('b', 'all'): 'ball',\n ('ir', 'an'): 'iran',\n ('vie', 'w'): 'view',\n ('i', 'de'): 'ide',\n ('f', 'ail'): 'fail',\n ('i', 'al'): 'ial',\n ('o', 'il'): 'oil',\n ('thunder', 'storm'): 'thunderstorm',\n ('happ', 'en'): 'happen',\n ('ar', 'son'): 'arson',\n ('he', 'art'): 'heart',\n ('bo', 'ok'): 'book',\n ('ma', 'ke'): 'make',\n ('je', 'ct'): 'ject',\n ('anni', 'hil'): 'annihil',\n ('d', 'en'): 'den',\n ('o', 'f'): 'of',\n ('le', 'ss'): 'less',\n ('w', 'an'): 'wan',\n ('p', 'ic'): 'pic',\n ('as', 'on'): 'ason',\n ('ro', 'ck'): 'rock',\n ('m', 'ic'): 'mic',\n ('br', 'is'): 'bris',\n ('l', 'am'): 'lam',\n ('ri', 'st'): 'rist',\n ('ap', 'e'): 'ape',\n ('char', 'ge'): 'charge',\n ('co', 'ur'): 'cour',\n ('st', 'ri'): 'stri',\n ('che', 'ck'): 'check',\n ('j', 'ob'): 'job',\n ('ex', 't'): 'ext',\n ('p', 'ass'): 'pass',\n ('we', 'et'): 'weet',\n ('p', 'al'): 'pal',\n ('po', 'wer'): 'power',\n ('r', 'ant'): 'rant',\n ('earth', 'quake'): 'earthquake',\n ('evacu', 'ation'): 'evacuation',\n ('t', 'ur'): 'tur',\n ('s', 'and'): 'sand',\n ('lit', 'tle'): 'little',\n ('ph', 'one'): 'phone',\n ('l', 'u'): 'lu',\n ('milit', 'ary'): 'military',\n ('i', 'um'): 'ium',\n ('de', 'al'): 'deal',\n ('al', 'th'): 'alth',\n ('s', 'end'): 'send',\n ('smo', 'ke'): 'smoke',\n ('a', 'a'): 'aa',\n ('m', 'om'): 'mom',\n ('t', 'ell'): 'tell',\n ('su', 'p'): 'sup',\n ('gu', 'y'): 'guy',\n ('p', 'ra'): 'pra',\n ('an', 's'): 'ans',\n ('r', 'al'): 'ral',\n ('h', 'um'): 'hum',\n ('o', 'h'): 'oh',\n ('ine', 'ss'): 'iness',\n ('ne', 't'): 'net',\n ('com', 'm'): 'comm',\n ('se', 'arch'): 'search',\n ('ric', 'ane'): 'ricane',\n ('stru', 'ct'): 'struct',\n ('m', 'ig'): 'mig',\n ('as', 'k'): 'ask',\n ('or', 'der'): 'order',\n ('wo', 'od'): 'wood',\n ('it', 'ion'): 'ition',\n ('u', 'ble'): 'uble',\n ('ist', 'an'): 'istan',\n ('w', 's'): 'ws',\n ('ap', 'o'): 'apo',\n ('am', 'i'): 'ami',\n ('se', 'a'): 'sea',\n ('malay', 'sia'): 'malaysia',\n ('g', 'ive'): 'give',\n ('he', 'at'): 'heat',\n ('en', 'e'): 'ene',\n ('de', 'bris'): 'debris',\n ('su', 'spect'): 'suspect',\n ('vi', 'ol'): 'viol',\n ('i', 'ence'): 'ience',\n ('d', 'ra'): 'dra',\n ('ad', 'd'): 'add',\n ('ge', 'e'): 'gee',\n ('nat', 'ural'): 'natural',\n ('ver', 'e'): 'vere',\n ('mar', 'ket'): 'market',\n ('ic', 'le'): 'icle',\n ('ho', 'ur'): 'hour',\n ('dri', 've'): 'drive',\n ('b', 'al'): 'bal',\n ('go', 'ver'): 'gover',\n ('p', 'ak'): 'pak',\n ('nation', 'al'): 'national',\n ('cal', 'l'): 'call',\n ('l', 'er'): 'ler',\n ('terror', 'ist'): 'terrorist',\n ('refu', 'gee'): 'refugee',\n ('dan', 'ger'): 'danger',\n ('de', 'mon'): 'demon',\n ('mig', 'rant'): 'migrant',\n ('g', 'i'): 'gi',\n ('al', 'e'): 'ale',\n ('g', 'ue'): 'gue',\n ('un', 'ion'): 'union',\n ('v', 'or'): 'vor',\n ('y', 'r'): 'yr',\n ('bab', 'y'): 'baby',\n ('b', 'ridge'): 'bridge',\n ('op', 'en'): 'open',\n ('b', 'a'): 'ba',\n ('k', 'er'): 'ker',\n ('m', 'id'): 'mid',\n ('explo', 'sion'): 'explosion',\n ('tra', 'p'): 'trap',\n ('w', 'w'): 'ww',\n ('go', 'v'): 'gov',\n ('u', 'ma'): 'uma',\n ('p', 'ul'): 'pul',\n ('t', 'ot'): 'tot',\n ('ver', 's'): 'vers',\n ('light', 'ning'): 'lightning',\n ('hur', 'ricane'): 'hurricane',\n ('se', 'vere'): 'severe',\n ('sou', 'th'): 'south',\n ('wa', 'it'): 'wait',\n ('e', 'li'): 'eli',\n ('v', 'is'): 'vis',\n ('t', 'alk'): 'talk',\n ('ss', 'i'): 'ssi',\n ('me', 'di'): 'medi',\n ('g', 'an'): 'gan',\n ('blood', 'y'): 'bloody',\n ('sh', 'ow'): 'show',\n ('is', 'ra'): 'isra',\n ('s', 'now'): 'snow',\n ('bl', 'ue'): 'blue',\n ('sa', 'u'): 'sau',\n ('c', 'amp'): 'camp',\n ('wor', 'd'): 'word',\n ('ac', 're'): 'acre',\n ('sp', 'ill'): 'spill',\n ('devast', 'ate'): 'devastate',\n ('h', 'ard'): 'hard',\n ('te', 'st'): 'test',\n ('l', 'ar'): 'lar',\n ('per', 'son'): 'person',\n ('p', 'a'): 'pa',\n ('wh', 'ite'): 'white',\n ('l', 'ink'): 'link',\n ('un', 'g'): 'ung',\n ('ho', 'l'): 'hol',\n ('ru', 'in'): 'ruin',\n ('li', 'p'): 'lip',\n ('ton', 'ight'): 'tonight',\n ('mo', 've'): 'move',\n ('ex', 'per'): 'exper',\n ('is', 'land'): 'island',\n ('s', 'day'): 'sday',\n ('b', 'ra'): 'bra',\n ('ch', 'er'): 'cher',\n ('survi', 'vor'): 'survivor',\n ('ch', 'rist'): 'christ',\n ('a', 'way'): 'away',\n ('so', 'on'): 'soon',\n ('mo', 's'): 'mos',\n ('bus', 'iness'): 'business',\n ('li', 'm'): 'lim',\n ('ban', 'g'): 'bang',\n ('in', 'und'): 'inund',\n ('c', 'lose'): 'close',\n ('tor', 'n'): 'torn',\n ('torn', 'ado'): 'tornado',\n ('ha', 'ha'): 'haha',\n ('p', 'ast'): 'past',\n ('de', 'p'): 'dep',\n ('hal', 'f'): 'half',\n ('v', 'ic'): 'vic',\n ('min', 'ute'): 'minute',\n ('it', 'al'): 'ital',\n ('el', 'y'): 'ely',\n ('y', 'p'): 'yp',\n ('ma', 'g'): 'mag',\n ('la', 'b'): 'lab',\n ('si', 've'): 'sive',\n ('k', 'o'): 'ko',\n ('dro', 'ught'): 'drought',\n ('fail', 'ure'): 'failure',\n ('ch', 'ina'): 'china',\n ('co', 'st'): 'cost',\n ('act', 'or'): 'actor',\n ('d', 'ust'): 'dust',\n ('d', 'ent'): 'dent',\n ('s', 'ite'): 'site',\n ('we', 'st'): 'west',\n ('s', 'an'): 'san',\n ('te', 'am'): 'team',\n ('at', 'er'): 'ater',\n ('di', 'o'): 'dio',\n ('ri', 'ble'): 'rible',\n ('wa', 'ke'): 'wake',\n ('am', 'bul'): 'ambul',\n ('ambul', 'ance'): 'ambulance',\n ('w', 'alk'): 'walk',\n ('dest', 'ru'): 'destru',\n ...}"
     },
     "execution_count": 13,
     "metadata": {},
     "output_type": "execute_result"
    }
   ],
   "source": [
    "# set the hyperparameter of vocabulary size\n",
    "vocab_size = 3000\n",
    "corpus = tweets_train['clean_text'].tolist()\n",
    "\n",
    "# create a BPE tokenizer object\n",
    "MyBPE = BPE(corpus=corpus, vocab_size=vocab_size)\n",
    "\n",
    "# train BPE tokenizer with Wikipedia corpus\n",
    "MyBPE.train()"
   ]
  },
  {
   "cell_type": "code",
   "execution_count": 15,
   "metadata": {
    "ExecuteTime": {
     "end_time": "2023-12-21T15:33:13.493640100Z",
     "start_time": "2023-12-21T15:32:21.919839300Z"
    }
   },
   "outputs": [],
   "source": [
    "tweets_train['tokenized_text'] = tweets_train['clean_text'].apply(lambda x: MyBPE.tokenize(x))\n",
    "tweets_test['tokenized_text'] = tweets_test['clean_text'].apply(lambda x: MyBPE.tokenize(x))"
   ]
  },
  {
   "cell_type": "code",
   "execution_count": 16,
   "metadata": {
    "ExecuteTime": {
     "end_time": "2023-12-21T15:33:19.085082400Z",
     "start_time": "2023-12-21T15:33:19.045672800Z"
    }
   },
   "outputs": [
    {
     "name": "stdout",
     "output_type": "stream",
     "text": [
      "Training data\n"
     ]
    },
    {
     "data": {
      "text/plain": "                                                text  target  \\\n0  Our Deeds are the Reason of this #earthquake M...       1   \n1             Forest fire near La Ronge Sask. Canada       1   \n2  All residents asked to 'shelter in place' are ...       1   \n3  13,000 people receive #wildfires evacuation or...       1   \n4  Just got sent this photo from Ruby #Alaska as ...       1   \n\n                                          clean_text  \\\n0               deed reason earthquake allah forgive   \n1              forest fire near la ronge sask canada   \n2  resident ask shelter place notify officer evac...   \n3    people receive wildfire evacuation order cal...   \n4  get send photo ruby alaska smoke wildfire pour...   \n\n                                      tokenized_text  \n0     [de, ed, reason, earthquake, allah, for, give]  \n1  [forest, fire, near, la, ron, ge, s, ask, canada]  \n2  [resident, ask, shel, ter, place, not, ify, of...  \n3  [people, re, ce, ive, wildfire, evacuation, or...  \n4  [get, send, photo, ru, by, alaska, smoke, wild...  ",
      "text/html": "<div>\n<style scoped>\n    .dataframe tbody tr th:only-of-type {\n        vertical-align: middle;\n    }\n\n    .dataframe tbody tr th {\n        vertical-align: top;\n    }\n\n    .dataframe thead th {\n        text-align: right;\n    }\n</style>\n<table border=\"1\" class=\"dataframe\">\n  <thead>\n    <tr style=\"text-align: right;\">\n      <th></th>\n      <th>text</th>\n      <th>target</th>\n      <th>clean_text</th>\n      <th>tokenized_text</th>\n    </tr>\n  </thead>\n  <tbody>\n    <tr>\n      <th>0</th>\n      <td>Our Deeds are the Reason of this #earthquake M...</td>\n      <td>1</td>\n      <td>deed reason earthquake allah forgive</td>\n      <td>[de, ed, reason, earthquake, allah, for, give]</td>\n    </tr>\n    <tr>\n      <th>1</th>\n      <td>Forest fire near La Ronge Sask. Canada</td>\n      <td>1</td>\n      <td>forest fire near la ronge sask canada</td>\n      <td>[forest, fire, near, la, ron, ge, s, ask, canada]</td>\n    </tr>\n    <tr>\n      <th>2</th>\n      <td>All residents asked to 'shelter in place' are ...</td>\n      <td>1</td>\n      <td>resident ask shelter place notify officer evac...</td>\n      <td>[resident, ask, shel, ter, place, not, ify, of...</td>\n    </tr>\n    <tr>\n      <th>3</th>\n      <td>13,000 people receive #wildfires evacuation or...</td>\n      <td>1</td>\n      <td>people receive wildfire evacuation order cal...</td>\n      <td>[people, re, ce, ive, wildfire, evacuation, or...</td>\n    </tr>\n    <tr>\n      <th>4</th>\n      <td>Just got sent this photo from Ruby #Alaska as ...</td>\n      <td>1</td>\n      <td>get send photo ruby alaska smoke wildfire pour...</td>\n      <td>[get, send, photo, ru, by, alaska, smoke, wild...</td>\n    </tr>\n  </tbody>\n</table>\n</div>"
     },
     "metadata": {},
     "output_type": "display_data"
    },
    {
     "name": "stdout",
     "output_type": "stream",
     "text": [
      "\n",
      "Testing data\n"
     ]
    },
    {
     "data": {
      "text/html": [
       "<div>\n",
       "<style scoped>\n",
       "    .dataframe tbody tr th:only-of-type {\n",
       "        vertical-align: middle;\n",
       "    }\n",
       "\n",
       "    .dataframe tbody tr th {\n",
       "        vertical-align: top;\n",
       "    }\n",
       "\n",
       "    .dataframe thead th {\n",
       "        text-align: right;\n",
       "    }\n",
       "</style>\n",
       "<table border=\"1\" class=\"dataframe\">\n",
       "  <thead>\n",
       "    <tr style=\"text-align: right;\">\n",
       "      <th></th>\n",
       "      <th>text</th>\n",
       "      <th>target</th>\n",
       "      <th>clean_text</th>\n",
       "      <th>tokenized_text</th>\n",
       "    </tr>\n",
       "  </thead>\n",
       "  <tbody>\n",
       "    <tr>\n",
       "      <th>0</th>\n",
       "      <td>Just happened a terrible car crash</td>\n",
       "      <td>1</td>\n",
       "      <td>happen terrible car crash</td>\n",
       "      <td>[happen, ter, rible, car, crash]</td>\n",
       "    </tr>\n",
       "    <tr>\n",
       "      <th>1</th>\n",
       "      <td>Heard about #earthquake is different cities, s...</td>\n",
       "      <td>1</td>\n",
       "      <td>hear earthquake different city stay safe</td>\n",
       "      <td>[hear, earthquake, different, city, stay, safe]</td>\n",
       "    </tr>\n",
       "    <tr>\n",
       "      <th>2</th>\n",
       "      <td>there is a forest fire at spot pond, geese are...</td>\n",
       "      <td>1</td>\n",
       "      <td>forest fire spot pond goose flee street save</td>\n",
       "      <td>[forest, fire, spot, p, ond, go, ose, fle, e, ...</td>\n",
       "    </tr>\n",
       "    <tr>\n",
       "      <th>3</th>\n",
       "      <td>Apocalypse lighting. #Spokane #wildfires</td>\n",
       "      <td>1</td>\n",
       "      <td>apocalypse lighting spokane wildfire</td>\n",
       "      <td>[apocalypse, light, ing, spo, k, ane, wildfire]</td>\n",
       "    </tr>\n",
       "    <tr>\n",
       "      <th>4</th>\n",
       "      <td>Typhoon Soudelor kills 28 in China and Taiwan</td>\n",
       "      <td>1</td>\n",
       "      <td>typhoon soudelor kill china taiwan</td>\n",
       "      <td>[typhoon, soudelor, kill, china, taiwan]</td>\n",
       "    </tr>\n",
       "  </tbody>\n",
       "</table>\n",
       "</div>"
      ],
      "text/plain": [
       "                                                text  target  \\\n",
       "0                 Just happened a terrible car crash       1   \n",
       "1  Heard about #earthquake is different cities, s...       1   \n",
       "2  there is a forest fire at spot pond, geese are...       1   \n",
       "3           Apocalypse lighting. #Spokane #wildfires       1   \n",
       "4      Typhoon Soudelor kills 28 in China and Taiwan       1   \n",
       "\n",
       "                                     clean_text  \\\n",
       "0                     happen terrible car crash   \n",
       "1      hear earthquake different city stay safe   \n",
       "2  forest fire spot pond goose flee street save   \n",
       "3          apocalypse lighting spokane wildfire   \n",
       "4            typhoon soudelor kill china taiwan   \n",
       "\n",
       "                                      tokenized_text  \n",
       "0                   [happen, ter, rible, car, crash]  \n",
       "1    [hear, earthquake, different, city, stay, safe]  \n",
       "2  [forest, fire, spot, p, ond, go, ose, fle, e, ...  \n",
       "3    [apocalypse, light, ing, spo, k, ane, wildfire]  \n",
       "4           [typhoon, soudelor, kill, china, taiwan]  "
      ]
     },
     "metadata": {},
     "output_type": "display_data"
    }
   ],
   "source": [
    "print('Training data')\n",
    "display(tweets_train.head())\n",
    "print()\n",
    "print('Testing data')\n",
    "display(tweets_test.head())"
   ]
  },
  {
   "cell_type": "markdown",
   "metadata": {},
   "source": [
    "## Convert Text into Input Features"
   ]
  },
  {
   "cell_type": "markdown",
   "metadata": {},
   "source": [
    "### TF-IDF"
   ]
  },
  {
   "cell_type": "code",
   "execution_count": 17,
   "metadata": {
    "ExecuteTime": {
     "end_time": "2023-12-21T15:33:23.476189500Z",
     "start_time": "2023-12-21T15:33:21.430017200Z"
    }
   },
   "outputs": [],
   "source": [
    "vectorizer = TfidfVectorizer()\n",
    "\n",
    "X_train = vectorizer.fit_transform(tweets_train['tokenized_text'].apply(lambda tokens: ' '.join(tokens)))\n",
    "# Add a new column 'TFIDF' to the original DataFrame with the TF-IDF arrays\n",
    "tweets_train['TFIDF'] = X_train.toarray().tolist()\n",
    "\n",
    "X_test = vectorizer.transform(tweets_test['tokenized_text'].apply(lambda tokens: ' '.join(tokens)))\n",
    "# Add a new column 'TFIDF' to the original DataFrame with the TF-IDF arrays\n",
    "tweets_test['TFIDF'] = X_test.toarray().tolist()"
   ]
  },
  {
   "cell_type": "code",
   "execution_count": 18,
   "metadata": {
    "ExecuteTime": {
     "end_time": "2023-12-21T15:33:23.661826500Z",
     "start_time": "2023-12-21T15:33:23.626279500Z"
    }
   },
   "outputs": [
    {
     "name": "stdout",
     "output_type": "stream",
     "text": [
      "Training data\n"
     ]
    },
    {
     "data": {
      "text/plain": "                                                text  target  \\\n0  Our Deeds are the Reason of this #earthquake M...       1   \n1             Forest fire near La Ronge Sask. Canada       1   \n2  All residents asked to 'shelter in place' are ...       1   \n3  13,000 people receive #wildfires evacuation or...       1   \n4  Just got sent this photo from Ruby #Alaska as ...       1   \n\n                                          clean_text  \\\n0               deed reason earthquake allah forgive   \n1              forest fire near la ronge sask canada   \n2  resident ask shelter place notify officer evac...   \n3    people receive wildfire evacuation order cal...   \n4  get send photo ruby alaska smoke wildfire pour...   \n\n                                      tokenized_text  \\\n0     [de, ed, reason, earthquake, allah, for, give]   \n1  [forest, fire, near, la, ron, ge, s, ask, canada]   \n2  [resident, ask, shel, ter, place, not, ify, of...   \n3  [people, re, ce, ive, wildfire, evacuation, or...   \n4  [get, send, photo, ru, by, alaska, smoke, wild...   \n\n                                               TFIDF  \n0  [0.0, 0.0, 0.0, 0.0, 0.0, 0.0, 0.0, 0.0, 0.0, ...  \n1  [0.0, 0.0, 0.0, 0.0, 0.0, 0.0, 0.0, 0.0, 0.0, ...  \n2  [0.0, 0.0, 0.0, 0.0, 0.0, 0.0, 0.0, 0.0, 0.0, ...  \n3  [0.0, 0.0, 0.0, 0.0, 0.0, 0.0, 0.0, 0.0, 0.0, ...  \n4  [0.0, 0.0, 0.0, 0.0, 0.0, 0.0, 0.0, 0.0, 0.0, ...  ",
      "text/html": "<div>\n<style scoped>\n    .dataframe tbody tr th:only-of-type {\n        vertical-align: middle;\n    }\n\n    .dataframe tbody tr th {\n        vertical-align: top;\n    }\n\n    .dataframe thead th {\n        text-align: right;\n    }\n</style>\n<table border=\"1\" class=\"dataframe\">\n  <thead>\n    <tr style=\"text-align: right;\">\n      <th></th>\n      <th>text</th>\n      <th>target</th>\n      <th>clean_text</th>\n      <th>tokenized_text</th>\n      <th>TFIDF</th>\n    </tr>\n  </thead>\n  <tbody>\n    <tr>\n      <th>0</th>\n      <td>Our Deeds are the Reason of this #earthquake M...</td>\n      <td>1</td>\n      <td>deed reason earthquake allah forgive</td>\n      <td>[de, ed, reason, earthquake, allah, for, give]</td>\n      <td>[0.0, 0.0, 0.0, 0.0, 0.0, 0.0, 0.0, 0.0, 0.0, ...</td>\n    </tr>\n    <tr>\n      <th>1</th>\n      <td>Forest fire near La Ronge Sask. Canada</td>\n      <td>1</td>\n      <td>forest fire near la ronge sask canada</td>\n      <td>[forest, fire, near, la, ron, ge, s, ask, canada]</td>\n      <td>[0.0, 0.0, 0.0, 0.0, 0.0, 0.0, 0.0, 0.0, 0.0, ...</td>\n    </tr>\n    <tr>\n      <th>2</th>\n      <td>All residents asked to 'shelter in place' are ...</td>\n      <td>1</td>\n      <td>resident ask shelter place notify officer evac...</td>\n      <td>[resident, ask, shel, ter, place, not, ify, of...</td>\n      <td>[0.0, 0.0, 0.0, 0.0, 0.0, 0.0, 0.0, 0.0, 0.0, ...</td>\n    </tr>\n    <tr>\n      <th>3</th>\n      <td>13,000 people receive #wildfires evacuation or...</td>\n      <td>1</td>\n      <td>people receive wildfire evacuation order cal...</td>\n      <td>[people, re, ce, ive, wildfire, evacuation, or...</td>\n      <td>[0.0, 0.0, 0.0, 0.0, 0.0, 0.0, 0.0, 0.0, 0.0, ...</td>\n    </tr>\n    <tr>\n      <th>4</th>\n      <td>Just got sent this photo from Ruby #Alaska as ...</td>\n      <td>1</td>\n      <td>get send photo ruby alaska smoke wildfire pour...</td>\n      <td>[get, send, photo, ru, by, alaska, smoke, wild...</td>\n      <td>[0.0, 0.0, 0.0, 0.0, 0.0, 0.0, 0.0, 0.0, 0.0, ...</td>\n    </tr>\n  </tbody>\n</table>\n</div>"
     },
     "metadata": {},
     "output_type": "display_data"
    },
    {
     "name": "stdout",
     "output_type": "stream",
     "text": [
      "\n",
      "Testing data\n"
     ]
    },
    {
     "data": {
      "text/html": [
       "<div>\n",
       "<style scoped>\n",
       "    .dataframe tbody tr th:only-of-type {\n",
       "        vertical-align: middle;\n",
       "    }\n",
       "\n",
       "    .dataframe tbody tr th {\n",
       "        vertical-align: top;\n",
       "    }\n",
       "\n",
       "    .dataframe thead th {\n",
       "        text-align: right;\n",
       "    }\n",
       "</style>\n",
       "<table border=\"1\" class=\"dataframe\">\n",
       "  <thead>\n",
       "    <tr style=\"text-align: right;\">\n",
       "      <th></th>\n",
       "      <th>text</th>\n",
       "      <th>target</th>\n",
       "      <th>clean_text</th>\n",
       "      <th>tokenized_text</th>\n",
       "      <th>TFIDF</th>\n",
       "    </tr>\n",
       "  </thead>\n",
       "  <tbody>\n",
       "    <tr>\n",
       "      <th>0</th>\n",
       "      <td>Just happened a terrible car crash</td>\n",
       "      <td>1</td>\n",
       "      <td>happen terrible car crash</td>\n",
       "      <td>[happen, ter, rible, car, crash]</td>\n",
       "      <td>[0.0, 0.0, 0.0, 0.0, 0.0, 0.0, 0.0, 0.0, 0.0, ...</td>\n",
       "    </tr>\n",
       "    <tr>\n",
       "      <th>1</th>\n",
       "      <td>Heard about #earthquake is different cities, s...</td>\n",
       "      <td>1</td>\n",
       "      <td>hear earthquake different city stay safe</td>\n",
       "      <td>[hear, earthquake, different, city, stay, safe]</td>\n",
       "      <td>[0.0, 0.0, 0.0, 0.0, 0.0, 0.0, 0.0, 0.0, 0.0, ...</td>\n",
       "    </tr>\n",
       "    <tr>\n",
       "      <th>2</th>\n",
       "      <td>there is a forest fire at spot pond, geese are...</td>\n",
       "      <td>1</td>\n",
       "      <td>forest fire spot pond goose flee street save</td>\n",
       "      <td>[forest, fire, spot, p, ond, go, ose, fle, e, ...</td>\n",
       "      <td>[0.0, 0.0, 0.0, 0.0, 0.0, 0.0, 0.0, 0.0, 0.0, ...</td>\n",
       "    </tr>\n",
       "    <tr>\n",
       "      <th>3</th>\n",
       "      <td>Apocalypse lighting. #Spokane #wildfires</td>\n",
       "      <td>1</td>\n",
       "      <td>apocalypse lighting spokane wildfire</td>\n",
       "      <td>[apocalypse, light, ing, spo, k, ane, wildfire]</td>\n",
       "      <td>[0.0, 0.0, 0.0, 0.0, 0.0, 0.0, 0.0, 0.0, 0.0, ...</td>\n",
       "    </tr>\n",
       "    <tr>\n",
       "      <th>4</th>\n",
       "      <td>Typhoon Soudelor kills 28 in China and Taiwan</td>\n",
       "      <td>1</td>\n",
       "      <td>typhoon soudelor kill china taiwan</td>\n",
       "      <td>[typhoon, soudelor, kill, china, taiwan]</td>\n",
       "      <td>[0.0, 0.0, 0.0, 0.0, 0.0, 0.0, 0.0, 0.0, 0.0, ...</td>\n",
       "    </tr>\n",
       "  </tbody>\n",
       "</table>\n",
       "</div>"
      ],
      "text/plain": [
       "                                                text  target  \\\n",
       "0                 Just happened a terrible car crash       1   \n",
       "1  Heard about #earthquake is different cities, s...       1   \n",
       "2  there is a forest fire at spot pond, geese are...       1   \n",
       "3           Apocalypse lighting. #Spokane #wildfires       1   \n",
       "4      Typhoon Soudelor kills 28 in China and Taiwan       1   \n",
       "\n",
       "                                     clean_text  \\\n",
       "0                     happen terrible car crash   \n",
       "1      hear earthquake different city stay safe   \n",
       "2  forest fire spot pond goose flee street save   \n",
       "3          apocalypse lighting spokane wildfire   \n",
       "4            typhoon soudelor kill china taiwan   \n",
       "\n",
       "                                      tokenized_text  \\\n",
       "0                   [happen, ter, rible, car, crash]   \n",
       "1    [hear, earthquake, different, city, stay, safe]   \n",
       "2  [forest, fire, spot, p, ond, go, ose, fle, e, ...   \n",
       "3    [apocalypse, light, ing, spo, k, ane, wildfire]   \n",
       "4           [typhoon, soudelor, kill, china, taiwan]   \n",
       "\n",
       "                                               TFIDF  \n",
       "0  [0.0, 0.0, 0.0, 0.0, 0.0, 0.0, 0.0, 0.0, 0.0, ...  \n",
       "1  [0.0, 0.0, 0.0, 0.0, 0.0, 0.0, 0.0, 0.0, 0.0, ...  \n",
       "2  [0.0, 0.0, 0.0, 0.0, 0.0, 0.0, 0.0, 0.0, 0.0, ...  \n",
       "3  [0.0, 0.0, 0.0, 0.0, 0.0, 0.0, 0.0, 0.0, 0.0, ...  \n",
       "4  [0.0, 0.0, 0.0, 0.0, 0.0, 0.0, 0.0, 0.0, 0.0, ...  "
      ]
     },
     "metadata": {},
     "output_type": "display_data"
    }
   ],
   "source": [
    "print('Training data')\n",
    "display(tweets_train.head())\n",
    "print()\n",
    "print('Testing data')\n",
    "display(tweets_test.head())"
   ]
  },
  {
   "cell_type": "markdown",
   "metadata": {},
   "source": [
    "### Word2Vec (CBOW and Skip-Gram)"
   ]
  },
  {
   "cell_type": "code",
   "execution_count": 19,
   "metadata": {
    "ExecuteTime": {
     "end_time": "2023-12-21T15:33:26.004312100Z",
     "start_time": "2023-12-21T15:33:25.980689800Z"
    }
   },
   "outputs": [
    {
     "name": "stdout",
     "output_type": "stream",
     "text": [
      "Maximum length of tokenized text in training data: 42\n",
      "Maximum length of tokenized text in testing data: 50\n"
     ]
    }
   ],
   "source": [
    "print('Maximum length of tokenized text in training data:', max([len(sent) for sent in tweets_train['tokenized_text']]))\n",
    "print('Maximum length of tokenized text in testing data:', max([len(sent) for sent in tweets_test['tokenized_text']]))"
   ]
  },
  {
   "cell_type": "code",
   "execution_count": 20,
   "metadata": {
    "ExecuteTime": {
     "end_time": "2023-12-21T15:34:07.773767Z",
     "start_time": "2023-12-21T15:33:29.941367700Z"
    }
   },
   "outputs": [],
   "source": [
    "# Train Word2Vec model\n",
    "cbow_model = Word2Vec(sentences = tweets_train['tokenized_text'], vector_size = 128, window = 10, min_count = 1, workers = 4, sg = 0, epochs = 64)\n",
    "# Add the <pad> token to the cbow_model so that the last token is the <pad> token\n",
    "cbow_model.wv.key_to_index['<pad>'] = len(cbow_model.wv)\n",
    "# Add the embedding of <pad> token to the cbow_model\n",
    "cbow_model.wv.vectors = np.append(cbow_model.wv.vectors, np.zeros((1, 128)), axis=0)\n",
    "\n",
    "\n",
    "skipgram_model = Word2Vec(sentences = tweets_train['tokenized_text'], vector_size = 128, window = 10, min_count = 1, workers = 4, sg = 1, epochs = 64)\n",
    "# Add the <pad> token to the skipgram_model so that the last token is the <pad> token\n",
    "skipgram_model.wv.key_to_index['<pad>'] = len(skipgram_model.wv)\n",
    "# Add the embedding of <pad> token to the skipgram_model\n",
    "skipgram_model.wv.vectors = np.append(skipgram_model.wv.vectors, np.zeros((1, 128)), axis=0)\n",
    "\n",
    "# Add the <pad> token to all the tokenized text until the length of each tokenized text is 50\n",
    "tweets_train['tokenized_text'] = tweets_train['tokenized_text'].apply(lambda tokens: tokens + ['<pad>'] * (50 - len(tokens)))\n",
    "tweets_test['tokenized_text'] = tweets_test['tokenized_text'].apply(lambda tokens: tokens + ['<pad>'] * (50 - len(tokens)))\n",
    "\n",
    "# Apply the string2embedding_idx function to create a new column\n",
    "tweets_train['CBOW_sequences'] = tweets_train['tokenized_text'].apply(lambda tokens: string2embedding_idx(tokens, cbow_model))\n",
    "tweets_train['SkipGram_sequences'] = tweets_train['tokenized_text'].apply(lambda tokens: string2embedding_idx(tokens, skipgram_model))\n",
    "tweets_test['CBOW_sequences'] = tweets_test['tokenized_text'].apply(lambda tokens: string2embedding_idx(tokens, cbow_model))\n",
    "tweets_test['SkipGram_sequences'] = tweets_test['tokenized_text'].apply(lambda tokens: string2embedding_idx(tokens, skipgram_model))"
   ]
  },
  {
   "cell_type": "code",
   "execution_count": 21,
   "metadata": {
    "ExecuteTime": {
     "end_time": "2023-12-21T15:34:36.442786700Z",
     "start_time": "2023-12-21T15:34:36.381065300Z"
    }
   },
   "outputs": [
    {
     "name": "stdout",
     "output_type": "stream",
     "text": [
      "Training data\n"
     ]
    },
    {
     "data": {
      "text/plain": "                                                text  target  \\\n0  Our Deeds are the Reason of this #earthquake M...       1   \n1             Forest fire near La Ronge Sask. Canada       1   \n2  All residents asked to 'shelter in place' are ...       1   \n3  13,000 people receive #wildfires evacuation or...       1   \n4  Just got sent this photo from Ruby #Alaska as ...       1   \n\n                                          clean_text  \\\n0               deed reason earthquake allah forgive   \n1              forest fire near la ronge sask canada   \n2  resident ask shelter place notify officer evac...   \n3    people receive wildfire evacuation order cal...   \n4  get send photo ruby alaska smoke wildfire pour...   \n\n                                      tokenized_text  \\\n0  [de, ed, reason, earthquake, allah, for, give,...   \n1  [forest, fire, near, la, ron, ge, s, ask, cana...   \n2  [resident, ask, shel, ter, place, not, ify, of...   \n3  [people, re, ce, ive, wildfire, evacuation, or...   \n4  [get, send, photo, ru, by, alaska, smoke, wild...   \n\n                                               TFIDF  \\\n0  [0.0, 0.0, 0.0, 0.0, 0.0, 0.0, 0.0, 0.0, 0.0, ...   \n1  [0.0, 0.0, 0.0, 0.0, 0.0, 0.0, 0.0, 0.0, 0.0, ...   \n2  [0.0, 0.0, 0.0, 0.0, 0.0, 0.0, 0.0, 0.0, 0.0, ...   \n3  [0.0, 0.0, 0.0, 0.0, 0.0, 0.0, 0.0, 0.0, 0.0, ...   \n4  [0.0, 0.0, 0.0, 0.0, 0.0, 0.0, 0.0, 0.0, 0.0, ...   \n\n                                      CBOW_sequences  \\\n0  [30, 63, 851, 428, 2384, 427, 452, 2899, 2899,...   \n1  [305, 16, 393, 74, 697, 129, 0, 623, 1615, 289...   \n2  [1803, 623, 1802, 105, 672, 223, 2503, 664, 43...   \n3  [56, 7, 113, 351, 238, 437, 449, 134, 2899, 28...   \n4  [53, 443, 264, 421, 654, 2446, 446, 238, 175, ...   \n\n                                  SkipGram_sequences  \n0  [30, 63, 851, 428, 2384, 427, 452, 2899, 2899,...  \n1  [305, 16, 393, 74, 697, 129, 0, 623, 1615, 289...  \n2  [1803, 623, 1802, 105, 672, 223, 2503, 664, 43...  \n3  [56, 7, 113, 351, 238, 437, 449, 134, 2899, 28...  \n4  [53, 443, 264, 421, 654, 2446, 446, 238, 175, ...  ",
      "text/html": "<div>\n<style scoped>\n    .dataframe tbody tr th:only-of-type {\n        vertical-align: middle;\n    }\n\n    .dataframe tbody tr th {\n        vertical-align: top;\n    }\n\n    .dataframe thead th {\n        text-align: right;\n    }\n</style>\n<table border=\"1\" class=\"dataframe\">\n  <thead>\n    <tr style=\"text-align: right;\">\n      <th></th>\n      <th>text</th>\n      <th>target</th>\n      <th>clean_text</th>\n      <th>tokenized_text</th>\n      <th>TFIDF</th>\n      <th>CBOW_sequences</th>\n      <th>SkipGram_sequences</th>\n    </tr>\n  </thead>\n  <tbody>\n    <tr>\n      <th>0</th>\n      <td>Our Deeds are the Reason of this #earthquake M...</td>\n      <td>1</td>\n      <td>deed reason earthquake allah forgive</td>\n      <td>[de, ed, reason, earthquake, allah, for, give,...</td>\n      <td>[0.0, 0.0, 0.0, 0.0, 0.0, 0.0, 0.0, 0.0, 0.0, ...</td>\n      <td>[30, 63, 851, 428, 2384, 427, 452, 2899, 2899,...</td>\n      <td>[30, 63, 851, 428, 2384, 427, 452, 2899, 2899,...</td>\n    </tr>\n    <tr>\n      <th>1</th>\n      <td>Forest fire near La Ronge Sask. Canada</td>\n      <td>1</td>\n      <td>forest fire near la ronge sask canada</td>\n      <td>[forest, fire, near, la, ron, ge, s, ask, cana...</td>\n      <td>[0.0, 0.0, 0.0, 0.0, 0.0, 0.0, 0.0, 0.0, 0.0, ...</td>\n      <td>[305, 16, 393, 74, 697, 129, 0, 623, 1615, 289...</td>\n      <td>[305, 16, 393, 74, 697, 129, 0, 623, 1615, 289...</td>\n    </tr>\n    <tr>\n      <th>2</th>\n      <td>All residents asked to 'shelter in place' are ...</td>\n      <td>1</td>\n      <td>resident ask shelter place notify officer evac...</td>\n      <td>[resident, ask, shel, ter, place, not, ify, of...</td>\n      <td>[0.0, 0.0, 0.0, 0.0, 0.0, 0.0, 0.0, 0.0, 0.0, ...</td>\n      <td>[1803, 623, 1802, 105, 672, 223, 2503, 664, 43...</td>\n      <td>[1803, 623, 1802, 105, 672, 223, 2503, 664, 43...</td>\n    </tr>\n    <tr>\n      <th>3</th>\n      <td>13,000 people receive #wildfires evacuation or...</td>\n      <td>1</td>\n      <td>people receive wildfire evacuation order cal...</td>\n      <td>[people, re, ce, ive, wildfire, evacuation, or...</td>\n      <td>[0.0, 0.0, 0.0, 0.0, 0.0, 0.0, 0.0, 0.0, 0.0, ...</td>\n      <td>[56, 7, 113, 351, 238, 437, 449, 134, 2899, 28...</td>\n      <td>[56, 7, 113, 351, 238, 437, 449, 134, 2899, 28...</td>\n    </tr>\n    <tr>\n      <th>4</th>\n      <td>Just got sent this photo from Ruby #Alaska as ...</td>\n      <td>1</td>\n      <td>get send photo ruby alaska smoke wildfire pour...</td>\n      <td>[get, send, photo, ru, by, alaska, smoke, wild...</td>\n      <td>[0.0, 0.0, 0.0, 0.0, 0.0, 0.0, 0.0, 0.0, 0.0, ...</td>\n      <td>[53, 443, 264, 421, 654, 2446, 446, 238, 175, ...</td>\n      <td>[53, 443, 264, 421, 654, 2446, 446, 238, 175, ...</td>\n    </tr>\n  </tbody>\n</table>\n</div>"
     },
     "metadata": {},
     "output_type": "display_data"
    },
    {
     "name": "stdout",
     "output_type": "stream",
     "text": [
      "\n",
      "Testing data\n"
     ]
    },
    {
     "data": {
      "text/html": [
       "<div>\n",
       "<style scoped>\n",
       "    .dataframe tbody tr th:only-of-type {\n",
       "        vertical-align: middle;\n",
       "    }\n",
       "\n",
       "    .dataframe tbody tr th {\n",
       "        vertical-align: top;\n",
       "    }\n",
       "\n",
       "    .dataframe thead th {\n",
       "        text-align: right;\n",
       "    }\n",
       "</style>\n",
       "<table border=\"1\" class=\"dataframe\">\n",
       "  <thead>\n",
       "    <tr style=\"text-align: right;\">\n",
       "      <th></th>\n",
       "      <th>text</th>\n",
       "      <th>target</th>\n",
       "      <th>clean_text</th>\n",
       "      <th>tokenized_text</th>\n",
       "      <th>TFIDF</th>\n",
       "      <th>CBOW_sequences</th>\n",
       "      <th>SkipGram_sequences</th>\n",
       "    </tr>\n",
       "  </thead>\n",
       "  <tbody>\n",
       "    <tr>\n",
       "      <th>0</th>\n",
       "      <td>Just happened a terrible car crash</td>\n",
       "      <td>1</td>\n",
       "      <td>happen terrible car crash</td>\n",
       "      <td>[happen, ter, rible, car, crash, &lt;pad&gt;, &lt;pad&gt;,...</td>\n",
       "      <td>[0.0, 0.0, 0.0, 0.0, 0.0, 0.0, 0.0, 0.0, 0.0, ...</td>\n",
       "      <td>[416, 106, 2577, 74, 76, 2899, 2899, 2899, 289...</td>\n",
       "      <td>[416, 106, 2577, 74, 76, 2899, 2899, 2899, 289...</td>\n",
       "    </tr>\n",
       "    <tr>\n",
       "      <th>1</th>\n",
       "      <td>Heard about #earthquake is different cities, s...</td>\n",
       "      <td>1</td>\n",
       "      <td>hear earthquake different city stay safe</td>\n",
       "      <td>[hear, earthquake, different, city, stay, safe...</td>\n",
       "      <td>[0.0, 0.0, 0.0, 0.0, 0.0, 0.0, 0.0, 0.0, 0.0, ...</td>\n",
       "      <td>[257, 432, 1651, 235, 747, 1189, 2899, 2899, 2...</td>\n",
       "      <td>[257, 432, 1651, 235, 747, 1189, 2899, 2899, 2...</td>\n",
       "    </tr>\n",
       "    <tr>\n",
       "      <th>2</th>\n",
       "      <td>there is a forest fire at spot pond, geese are...</td>\n",
       "      <td>1</td>\n",
       "      <td>forest fire spot pond goose flee street save</td>\n",
       "      <td>[forest, fire, spot, p, ond, go, ose, fle, e, ...</td>\n",
       "      <td>[0.0, 0.0, 0.0, 0.0, 0.0, 0.0, 0.0, 0.0, 0.0, ...</td>\n",
       "      <td>[306, 16, 962, 12, 1500, 29, 2831, 1162, 8, 76...</td>\n",
       "      <td>[306, 16, 962, 12, 1500, 29, 2831, 1162, 8, 76...</td>\n",
       "    </tr>\n",
       "    <tr>\n",
       "      <th>3</th>\n",
       "      <td>Apocalypse lighting. #Spokane #wildfires</td>\n",
       "      <td>1</td>\n",
       "      <td>apocalypse lighting spokane wildfire</td>\n",
       "      <td>[apocalypse, light, ing, spo, k, ane, wildfire...</td>\n",
       "      <td>[0.0, 0.0, 0.0, 0.0, 0.0, 0.0, 0.0, 0.0, 0.0, ...</td>\n",
       "      <td>[720, 294, 19, 1455, 21, 748, 236, 2899, 2899,...</td>\n",
       "      <td>[720, 294, 19, 1455, 21, 748, 236, 2899, 2899,...</td>\n",
       "    </tr>\n",
       "    <tr>\n",
       "      <th>4</th>\n",
       "      <td>Typhoon Soudelor kills 28 in China and Taiwan</td>\n",
       "      <td>1</td>\n",
       "      <td>typhoon soudelor kill china taiwan</td>\n",
       "      <td>[typhoon, soudelor, kill, china, taiwan, &lt;pad&gt;...</td>\n",
       "      <td>[0.0, 0.0, 0.0, 0.0, 0.0, 0.0, 0.0, 0.0, 0.0, ...</td>\n",
       "      <td>[385, 986, 63, 569, 1776, 2899, 2899, 2899, 28...</td>\n",
       "      <td>[385, 986, 63, 569, 1776, 2899, 2899, 2899, 28...</td>\n",
       "    </tr>\n",
       "  </tbody>\n",
       "</table>\n",
       "</div>"
      ],
      "text/plain": [
       "                                                text  target  \\\n",
       "0                 Just happened a terrible car crash       1   \n",
       "1  Heard about #earthquake is different cities, s...       1   \n",
       "2  there is a forest fire at spot pond, geese are...       1   \n",
       "3           Apocalypse lighting. #Spokane #wildfires       1   \n",
       "4      Typhoon Soudelor kills 28 in China and Taiwan       1   \n",
       "\n",
       "                                     clean_text  \\\n",
       "0                     happen terrible car crash   \n",
       "1      hear earthquake different city stay safe   \n",
       "2  forest fire spot pond goose flee street save   \n",
       "3          apocalypse lighting spokane wildfire   \n",
       "4            typhoon soudelor kill china taiwan   \n",
       "\n",
       "                                      tokenized_text  \\\n",
       "0  [happen, ter, rible, car, crash, <pad>, <pad>,...   \n",
       "1  [hear, earthquake, different, city, stay, safe...   \n",
       "2  [forest, fire, spot, p, ond, go, ose, fle, e, ...   \n",
       "3  [apocalypse, light, ing, spo, k, ane, wildfire...   \n",
       "4  [typhoon, soudelor, kill, china, taiwan, <pad>...   \n",
       "\n",
       "                                               TFIDF  \\\n",
       "0  [0.0, 0.0, 0.0, 0.0, 0.0, 0.0, 0.0, 0.0, 0.0, ...   \n",
       "1  [0.0, 0.0, 0.0, 0.0, 0.0, 0.0, 0.0, 0.0, 0.0, ...   \n",
       "2  [0.0, 0.0, 0.0, 0.0, 0.0, 0.0, 0.0, 0.0, 0.0, ...   \n",
       "3  [0.0, 0.0, 0.0, 0.0, 0.0, 0.0, 0.0, 0.0, 0.0, ...   \n",
       "4  [0.0, 0.0, 0.0, 0.0, 0.0, 0.0, 0.0, 0.0, 0.0, ...   \n",
       "\n",
       "                                      CBOW_sequences  \\\n",
       "0  [416, 106, 2577, 74, 76, 2899, 2899, 2899, 289...   \n",
       "1  [257, 432, 1651, 235, 747, 1189, 2899, 2899, 2...   \n",
       "2  [306, 16, 962, 12, 1500, 29, 2831, 1162, 8, 76...   \n",
       "3  [720, 294, 19, 1455, 21, 748, 236, 2899, 2899,...   \n",
       "4  [385, 986, 63, 569, 1776, 2899, 2899, 2899, 28...   \n",
       "\n",
       "                                  SkipGram_sequences  \n",
       "0  [416, 106, 2577, 74, 76, 2899, 2899, 2899, 289...  \n",
       "1  [257, 432, 1651, 235, 747, 1189, 2899, 2899, 2...  \n",
       "2  [306, 16, 962, 12, 1500, 29, 2831, 1162, 8, 76...  \n",
       "3  [720, 294, 19, 1455, 21, 748, 236, 2899, 2899,...  \n",
       "4  [385, 986, 63, 569, 1776, 2899, 2899, 2899, 28...  "
      ]
     },
     "metadata": {},
     "output_type": "display_data"
    }
   ],
   "source": [
    "print('Training data')\n",
    "display(tweets_train.head())\n",
    "print()\n",
    "print('Testing data')\n",
    "display(tweets_test.head())"
   ]
  },
  {
   "cell_type": "code",
   "execution_count": 22,
   "metadata": {
    "ExecuteTime": {
     "end_time": "2023-12-21T15:34:38.609225400Z",
     "start_time": "2023-12-21T15:34:37.441115300Z"
    }
   },
   "outputs": [
    {
     "data": {
      "image/png": "[encoded data removed]",
      "text/plain": [
       "<Figure size 640x480 with 1 Axes>"
      ]
     },
     "metadata": {},
     "output_type": "display_data"
    }
   ],
   "source": [
    "TSNE_10ClosestWords(cbow_model, 'earthquake', 128)"
   ]
  },
  {
   "cell_type": "code",
   "execution_count": 23,
   "metadata": {
    "ExecuteTime": {
     "end_time": "2023-12-21T15:34:39.868591200Z",
     "start_time": "2023-12-21T15:34:39.426708900Z"
    }
   },
   "outputs": [
    {
     "data": {
      "image/png": "[encoded data removed]",
      "text/plain": [
       "<Figure size 640x480 with 1 Axes>"
      ]
     },
     "metadata": {},
     "output_type": "display_data"
    }
   ],
   "source": [
    "TSNE_10ClosestWords(skipgram_model, 'earthquake', 128)"
   ]
  },
  {
   "cell_type": "code",
   "execution_count": 24,
   "metadata": {
    "ExecuteTime": {
     "end_time": "2023-12-21T15:34:40.997210400Z",
     "start_time": "2023-12-21T15:34:40.562299400Z"
    }
   },
   "outputs": [
    {
     "data": {
      "image/png": "[encoded data removed]",
      "text/plain": [
       "<Figure size 640x480 with 1 Axes>"
      ]
     },
     "metadata": {},
     "output_type": "display_data"
    }
   ],
   "source": [
    "TSNE_10ClosestWords(cbow_model, 'disaster', 128)"
   ]
  },
  {
   "cell_type": "code",
   "execution_count": 25,
   "metadata": {
    "ExecuteTime": {
     "end_time": "2023-12-21T15:34:42.087371100Z",
     "start_time": "2023-12-21T15:34:41.642630900Z"
    }
   },
   "outputs": [
    {
     "data": {
      "image/png": "[encoded data removed]",
      "text/plain": [
       "<Figure size 640x480 with 1 Axes>"
      ]
     },
     "metadata": {},
     "output_type": "display_data"
    }
   ],
   "source": [
    "TSNE_10ClosestWords(skipgram_model, 'disaster', 128)"
   ]
  },
  {
   "cell_type": "markdown",
   "metadata": {},
   "source": [
    "# Loading and Testing our Pre-Trained Embeddings to the PyTorch's Embedding layer"
   ]
  },
  {
   "cell_type": "code",
   "execution_count": 26,
   "metadata": {
    "ExecuteTime": {
     "end_time": "2023-12-21T15:34:46.149953400Z",
     "start_time": "2023-12-21T15:34:46.078377300Z"
    }
   },
   "outputs": [
    {
     "data": {
      "text/plain": [
       "Parameter containing:\n",
       "tensor([[ 0.0882, -0.0341,  0.2267,  ..., -0.0203, -0.1459,  0.1309],\n",
       "        [ 0.0530, -0.0222,  0.0293,  ..., -0.2616,  0.0510, -0.0338],\n",
       "        [ 0.1325,  0.0830,  0.1114,  ...,  0.1339,  0.2523,  0.0573],\n",
       "        ...,\n",
       "        [ 0.1262, -0.0567,  0.1004,  ..., -0.1551, -0.0092, -0.3114],\n",
       "        [ 0.1242, -0.1364,  0.3965,  ..., -0.2474,  0.2938, -0.1727],\n",
       "        [ 0.0000,  0.0000,  0.0000,  ...,  0.0000,  0.0000,  0.0000]])"
      ]
     },
     "execution_count": 26,
     "metadata": {},
     "output_type": "execute_result"
    }
   ],
   "source": [
    "# create embedding layer with pre-trained weights\n",
    "pretrained_embeddings_layer = torch.nn.Embedding.from_pretrained(torch.FloatTensor(skipgram_model.wv.vectors))\n",
    "# check weights of the pre-trained embedding layer\n",
    "pretrained_embeddings_layer.weight"
   ]
  },
  {
   "cell_type": "code",
   "execution_count": 27,
   "metadata": {
    "ExecuteTime": {
     "end_time": "2023-12-21T15:34:46.893954100Z",
     "start_time": "2023-12-21T15:34:46.867690500Z"
    }
   },
   "outputs": [
    {
     "data": {
      "text/plain": "(tensor([  30,   63,  851,  428, 2384,  427,  452, 2899, 2899, 2899, 2899, 2899,\n         2899, 2899, 2899, 2899, 2899, 2899, 2899, 2899, 2899, 2899, 2899, 2899,\n         2899, 2899, 2899, 2899, 2899, 2899, 2899, 2899, 2899, 2899, 2899, 2899,\n         2899, 2899, 2899, 2899, 2899, 2899, 2899, 2899, 2899, 2899, 2899, 2899,\n         2899, 2899]),\n tensor([1.]))"
     },
     "execution_count": 27,
     "metadata": {},
     "output_type": "execute_result"
    }
   ],
   "source": [
    "TrainTweetsDataset = TweetsDataset(tweets_train, 'skipgram')\n",
    "TrainTweetsDataset[0]"
   ]
  },
  {
   "cell_type": "code",
   "execution_count": 28,
   "metadata": {
    "ExecuteTime": {
     "end_time": "2023-12-21T15:34:48.356003700Z",
     "start_time": "2023-12-21T15:34:48.329539400Z"
    }
   },
   "outputs": [
    {
     "name": "stdout",
     "output_type": "stream",
     "text": [
      "Embedding of the first token:          tensor([ 2.0343e-04,  4.4073e-02,  8.0631e-02,  9.8091e-02,  2.6482e-01,\n",
      "        -4.9104e-01, -1.6058e-01,  6.4141e-02,  1.6967e-01,  2.1140e-01,\n",
      "        -3.2395e-01, -1.0534e-01, -1.6323e-01, -1.9625e-01,  1.6502e-01,\n",
      "        -2.9644e-01, -2.7382e-01, -1.6795e-01, -1.9871e-01,  1.4754e-01,\n",
      "         2.8859e-01,  2.2557e-01,  1.2598e-01, -2.1040e-01, -2.1837e-01,\n",
      "         1.0105e-01, -4.2532e-01,  6.2930e-02, -3.3507e-01,  3.2998e-01,\n",
      "        -3.1590e-01,  8.6326e-02, -1.6227e-01,  1.0555e-01, -2.9731e-01,\n",
      "        -1.6574e-01, -1.0054e-01,  3.8479e-01,  1.8117e-01, -2.6420e-01,\n",
      "        -2.0678e-01, -1.5877e-01, -3.9262e-02, -9.1168e-02, -2.4678e-01,\n",
      "         1.2312e-01, -2.4892e-01, -2.4921e-01, -7.9966e-02, -3.6825e-01,\n",
      "         1.5759e-01, -1.3076e-01,  4.2532e-01, -6.6221e-03, -2.1642e-01,\n",
      "        -1.9143e-02, -1.4567e-01, -9.5728e-02,  1.9522e-01,  4.8998e-02,\n",
      "        -1.4664e-01,  1.6536e-01,  1.6036e-01, -1.9421e-01,  1.9096e-02,\n",
      "        -2.1509e-01, -2.8796e-01,  6.9730e-02, -5.1160e-03,  6.0709e-02,\n",
      "         1.9046e-02, -2.0144e-01, -2.9247e-01,  1.1007e-01, -5.7066e-02,\n",
      "        -4.4900e-01,  2.4550e-02, -1.2345e-01, -1.7074e-01, -1.0474e-01,\n",
      "        -2.5223e-01, -2.8706e-01, -7.6721e-02, -5.6582e-02,  1.4431e-01,\n",
      "         2.8662e-01,  1.1707e-01,  7.1643e-02,  7.8860e-02,  4.1769e-01,\n",
      "        -1.2503e-01, -8.3926e-03, -1.9973e-01, -2.5413e-02, -4.0696e-01,\n",
      "         3.3965e-02, -2.4941e-01,  2.8355e-02, -9.5562e-02, -9.5168e-02,\n",
      "        -2.2333e-01,  4.6646e-02, -7.1008e-02,  1.8996e-01,  4.7278e-01,\n",
      "        -1.3860e-01,  7.0823e-02, -1.9518e-01, -1.1095e-01, -1.2565e-01,\n",
      "        -1.7545e-01, -4.6580e-01,  2.6004e-01,  2.5652e-02, -1.3768e-01,\n",
      "        -2.6796e-01,  2.8557e-01, -1.1913e-01,  1.1708e-01,  2.6611e-01,\n",
      "        -4.5462e-01, -1.3653e-01,  2.3300e-01,  3.6237e-01,  2.2040e-01,\n",
      "         3.9734e-03, -8.4932e-02, -9.7154e-02])\n",
      "Embedding of the second token:         tensor([-0.1252, -0.2152, -0.0772, -0.3304,  0.3165, -0.1336, -0.2964, -0.1466,\n",
      "         0.1204,  0.0722, -0.1491,  0.3776,  0.0510, -0.1120,  0.4121, -0.5163,\n",
      "        -0.0572, -0.3843, -0.0739, -0.0973,  0.1819, -0.2444, -0.2614,  0.0474,\n",
      "        -0.4296,  0.0943, -0.2661,  0.3599, -0.1710, -0.2007, -0.2034,  0.2460,\n",
      "         0.2095,  0.1116,  0.0670, -0.2523, -0.1625,  0.3179,  0.0283,  0.2332,\n",
      "        -0.1079,  0.0016, -0.1247, -0.1554, -0.0608, -0.1497, -0.2299,  0.2270,\n",
      "        -0.0173, -0.2337,  0.8723, -0.2015,  0.1033, -0.4615,  0.0447,  0.2705,\n",
      "        -0.0530, -0.6321, -0.2018, -0.1529, -0.0264, -0.5037, -0.2940,  0.0564,\n",
      "         0.0277,  0.0174,  0.0780,  0.2151, -0.0727, -0.0904, -0.0985, -0.3662,\n",
      "        -0.0839, -0.2358,  0.0209, -0.4154, -0.6258,  0.0612,  0.1471, -0.0162,\n",
      "        -0.0316, -0.0915,  0.3995,  0.2996, -0.0059,  0.2646,  0.3362, -0.5870,\n",
      "         0.6320, -0.0570,  0.0268, -0.3031, -0.0981,  0.3339, -0.2781,  0.0812,\n",
      "        -0.2863, -0.1212,  0.0945, -0.3076, -0.1839,  0.2274,  0.2235,  0.0473,\n",
      "         0.2405,  0.2203,  0.0194, -0.3803,  0.0779, -0.1855,  0.4131,  0.5034,\n",
      "        -0.0310,  0.2415, -0.0543, -0.3234,  0.3561, -0.0430, -0.3404,  0.3100,\n",
      "        -0.3399, -0.2937,  0.1956,  0.3910,  0.2638, -0.7858, -0.0683, -0.3198])\n",
      "Embedding of the third token:          tensor([ 0.6251,  0.8031, -0.8075,  0.4593, -0.0150,  0.7448, -0.4911,  0.5639,\n",
      "         0.2759,  1.1137,  0.7348,  0.4348,  0.4572, -0.2379,  0.3739, -0.0242,\n",
      "        -1.1065,  0.2599, -0.3873,  0.0206,  0.0766, -0.0818, -0.7941, -0.7829,\n",
      "        -0.1718, -0.2424,  0.1443,  0.1610,  0.2011, -0.5355, -0.9374, -0.9624,\n",
      "         0.1855,  0.7964, -0.4144, -0.1068, -0.4579, -0.5626,  0.0377, -0.0660,\n",
      "        -0.3882,  0.0714, -1.0331, -0.4125,  0.9176, -0.2378,  0.5539, -0.1309,\n",
      "        -0.2231, -1.0590,  0.6577, -0.0048,  0.8553, -0.3139,  0.0583,  0.5799,\n",
      "        -0.2332, -0.1949,  0.2232, -0.0731, -0.3625,  0.4059,  0.5445, -0.4455,\n",
      "        -0.5370,  0.0880,  0.2335, -0.0522,  0.3832, -0.2548, -0.0595,  0.0551,\n",
      "         0.0943, -0.2851, -0.1075, -0.6465, -0.0075,  0.5963, -1.1997,  1.2959,\n",
      "        -0.1251,  0.1652,  0.3431, -0.2897,  0.3869,  0.8269,  0.4689, -0.3593,\n",
      "         0.2647,  0.4598, -0.7400, -0.2060, -0.1270,  0.7505,  0.2086,  0.2717,\n",
      "        -0.0311,  0.3455, -0.3635, -0.2846, -0.3744,  0.8930,  0.0729, -0.0136,\n",
      "         0.1452, -0.2481,  0.3067,  0.5042,  0.1707,  0.8758, -0.3543,  0.3496,\n",
      "        -0.6531, -0.0081, -0.6170,  0.5962,  0.6642, -0.5947, -0.3893,  0.4870,\n",
      "        -0.4872, -0.4250, -0.3984,  0.0374, -0.3138, -0.0623, -0.3596, -0.6069])\n",
      "Embedding of the fourth token:         tensor([ 0.2336,  1.1107, -0.6835,  0.3328,  0.1867,  1.3320, -0.5752, -0.5195,\n",
      "         0.0586,  1.2632, -0.1538, -0.0983, -0.4110, -0.5480,  0.4604,  0.0045,\n",
      "        -0.1526,  0.3553, -0.1092,  0.6833, -0.0983, -0.1591, -0.9256,  0.3358,\n",
      "        -0.4652, -0.7730,  0.2238, -0.2026, -0.5476,  0.0398, -0.1666, -0.1352,\n",
      "        -0.0638,  0.4683,  0.3780, -0.0083, -0.8066,  0.0292,  0.2270,  0.5294,\n",
      "         0.3237,  0.5734,  0.0602, -0.5179,  0.2673,  0.2690, -0.1210,  0.0267,\n",
      "        -0.3539, -0.4813, -0.0376,  0.3182, -0.3147, -0.0071,  0.1379,  0.0214,\n",
      "         0.1324,  0.2656, -0.6771, -1.2292, -1.1946, -0.0912,  0.3320, -0.1652,\n",
      "         0.7092, -0.5682,  0.3715, -0.2281,  0.6675, -0.2361, -0.5846, -0.0380,\n",
      "        -0.3735,  0.3237,  1.0313,  0.8115, -0.3307,  0.0314, -0.7671,  0.0873,\n",
      "         0.3053,  0.2941, -0.4279,  0.7767,  0.1342,  0.9532, -0.1750,  0.5561,\n",
      "        -0.3013,  1.0240,  0.6721, -0.3309,  0.2675, -0.4295,  0.1466,  0.7059,\n",
      "         0.0600, -0.1668, -0.7212,  0.8827, -0.4604, -0.1323,  0.1239,  0.1092,\n",
      "         0.5299, -0.7035,  1.1975, -0.4719, -0.0226, -0.5793, -0.5933,  0.1405,\n",
      "         0.2935,  0.4451,  0.2979, -0.4053, -0.4445,  1.0411, -0.1367, -0.1484,\n",
      "        -0.0873, -0.4217,  0.5281,  0.3709, -1.0290, -0.4603, -0.3525, -0.4937])\n",
      "Embedding of the fifth token:          tensor([-4.6824e-01, -2.5649e-01, -2.9037e-01,  6.4968e-01, -1.6236e-01,\n",
      "        -1.3431e-01, -6.3160e-01,  6.6338e-02,  1.8613e-01,  5.3971e-01,\n",
      "        -2.5460e-02, -3.0765e-01,  4.5106e-01, -3.4338e-01,  4.4239e-01,\n",
      "         5.5178e-03, -6.4380e-01,  5.4798e-01, -3.8648e-01, -3.2435e-01,\n",
      "         6.2386e-01,  1.6212e-01, -1.3003e+00, -4.5602e-01, -8.1043e-01,\n",
      "         3.0663e-01, -1.0464e+00, -7.1382e-01, -3.5769e-01,  7.7096e-02,\n",
      "        -6.8431e-02, -1.6785e-01,  4.5182e-01,  4.6988e-01, -7.5208e-01,\n",
      "        -1.1398e+00, -2.5613e-01, -2.0285e-01,  6.4704e-01,  1.0213e+00,\n",
      "         4.9482e-04, -4.1676e-01, -1.8598e-02, -1.0720e+00,  1.0384e-01,\n",
      "        -1.0134e-02,  3.3973e-02,  2.0359e-01,  3.6546e-02, -3.1149e-01,\n",
      "         1.0239e+00, -1.9103e-01,  8.8012e-01, -5.3941e-01, -1.2105e-01,\n",
      "        -3.1769e-01,  2.6904e-01, -6.7492e-01, -2.6910e-01, -3.0627e-01,\n",
      "        -5.1653e-01,  4.4315e-01,  2.0571e-01,  7.3766e-02,  4.7093e-01,\n",
      "         7.0557e-02,  3.8110e-02, -2.4483e-01,  6.1241e-02, -1.4499e-01,\n",
      "        -4.6777e-01,  2.2566e-01, -8.7772e-01, -1.4303e-01,  1.0723e+00,\n",
      "        -3.2048e-01,  9.3051e-01, -2.5155e-01,  6.5378e-01,  2.2538e-01,\n",
      "        -3.9905e-01, -6.2086e-01, -3.1332e-01,  1.9313e-01,  2.4688e-01,\n",
      "         6.4215e-01,  1.2020e-01, -5.1093e-02,  9.9154e-02,  4.1583e-01,\n",
      "        -2.5143e-01, -3.8154e-01, -4.4764e-01, -2.0070e-01, -1.3003e-01,\n",
      "        -2.1131e-01,  6.2031e-01, -4.1122e-01,  5.6641e-02,  4.0343e-01,\n",
      "         1.6030e-01,  4.8451e-01, -9.0786e-01,  7.3713e-01,  9.8014e-01,\n",
      "         4.4012e-01, -2.4705e-02, -2.6686e-02,  2.1481e-01,  8.8010e-02,\n",
      "        -3.5386e-01,  9.1900e-02, -3.3955e-01,  3.0798e-01,  2.4427e-01,\n",
      "        -2.8006e-01,  1.9710e-01,  8.5978e-01, -1.9106e-02, -6.4395e-01,\n",
      "         7.4299e-01,  3.8774e-01,  8.2103e-02,  4.9155e-01, -7.6788e-01,\n",
      "         3.4445e-01, -4.6573e-01, -2.3098e-01])\n",
      "Embedding of the sixth token:          tensor([ 0.0415,  0.1238, -0.2160,  0.7538,  0.1257,  0.1162, -0.2444, -0.3154,\n",
      "        -0.3188,  0.4488, -0.2313, -0.4436,  0.1752, -0.4573,  0.0647,  0.2030,\n",
      "        -0.5852, -0.1034,  0.4178,  0.1375,  0.1815,  0.1005, -0.8021, -0.3351,\n",
      "        -0.3521, -0.9241,  0.4700,  0.1841, -0.3368,  0.6291, -0.5800,  0.1820,\n",
      "        -0.0849,  0.1211,  0.2401, -0.1021,  0.4396,  0.1613,  0.0996, -0.1363,\n",
      "         0.7302, -0.1554, -0.2643,  0.2476, -0.0187,  0.0921, -0.1924,  0.3406,\n",
      "        -0.1535, -0.3865,  0.2737,  0.0032,  0.5783, -0.0764, -0.1350, -0.0115,\n",
      "        -0.3392, -0.2146,  0.7143,  0.1391, -0.6864,  0.9127, -0.1638,  0.5152,\n",
      "        -0.0700, -0.5498,  0.7301,  0.1764,  0.0409, -0.5257, -0.6250,  0.3651,\n",
      "         0.1599,  0.1536,  0.9183, -0.1129, -0.1478, -0.0256, -0.3425,  0.1023,\n",
      "        -0.3983,  0.2888,  0.5855, -0.2025,  0.5781,  0.1490, -0.1842, -1.0634,\n",
      "        -0.1549,  0.1189,  0.3592, -0.4315, -0.0966,  0.8233, -0.0341,  0.2204,\n",
      "         0.0396,  0.6928,  0.0972, -0.0686,  0.1773, -0.0994, -0.6086,  0.3163,\n",
      "         0.2470, -0.5027, -0.3288,  0.0399, -0.0084, -0.2600, -0.2949, -0.2351,\n",
      "        -0.0697,  0.4392, -0.0674, -0.1817, -0.6641, -0.3301, -0.2805, -0.2336,\n",
      "         0.1723,  0.0129,  0.3436,  0.4486, -0.3812, -0.6368, -0.0671, -0.4064])\n",
      "Embedding of the twenty-fifth token:   tensor([0., 0., 0., 0., 0., 0., 0., 0., 0., 0., 0., 0., 0., 0., 0., 0., 0., 0., 0., 0., 0., 0., 0., 0.,\n",
      "        0., 0., 0., 0., 0., 0., 0., 0., 0., 0., 0., 0., 0., 0., 0., 0., 0., 0., 0., 0., 0., 0., 0., 0.,\n",
      "        0., 0., 0., 0., 0., 0., 0., 0., 0., 0., 0., 0., 0., 0., 0., 0., 0., 0., 0., 0., 0., 0., 0., 0.,\n",
      "        0., 0., 0., 0., 0., 0., 0., 0., 0., 0., 0., 0., 0., 0., 0., 0., 0., 0., 0., 0., 0., 0., 0., 0.,\n",
      "        0., 0., 0., 0., 0., 0., 0., 0., 0., 0., 0., 0., 0., 0., 0., 0., 0., 0., 0., 0., 0., 0., 0., 0.,\n",
      "        0., 0., 0., 0., 0., 0., 0., 0.])\n",
      "Embedding of the fortieth token:       tensor([0., 0., 0., 0., 0., 0., 0., 0., 0., 0., 0., 0., 0., 0., 0., 0., 0., 0., 0., 0., 0., 0., 0., 0.,\n",
      "        0., 0., 0., 0., 0., 0., 0., 0., 0., 0., 0., 0., 0., 0., 0., 0., 0., 0., 0., 0., 0., 0., 0., 0.,\n",
      "        0., 0., 0., 0., 0., 0., 0., 0., 0., 0., 0., 0., 0., 0., 0., 0., 0., 0., 0., 0., 0., 0., 0., 0.,\n",
      "        0., 0., 0., 0., 0., 0., 0., 0., 0., 0., 0., 0., 0., 0., 0., 0., 0., 0., 0., 0., 0., 0., 0., 0.,\n",
      "        0., 0., 0., 0., 0., 0., 0., 0., 0., 0., 0., 0., 0., 0., 0., 0., 0., 0., 0., 0., 0., 0., 0., 0.,\n",
      "        0., 0., 0., 0., 0., 0., 0., 0.])\n",
      "Embedding of the fiftieth token:       tensor([0., 0., 0., 0., 0., 0., 0., 0., 0., 0., 0., 0., 0., 0., 0., 0., 0., 0., 0., 0., 0., 0., 0., 0.,\n",
      "        0., 0., 0., 0., 0., 0., 0., 0., 0., 0., 0., 0., 0., 0., 0., 0., 0., 0., 0., 0., 0., 0., 0., 0.,\n",
      "        0., 0., 0., 0., 0., 0., 0., 0., 0., 0., 0., 0., 0., 0., 0., 0., 0., 0., 0., 0., 0., 0., 0., 0.,\n",
      "        0., 0., 0., 0., 0., 0., 0., 0., 0., 0., 0., 0., 0., 0., 0., 0., 0., 0., 0., 0., 0., 0., 0., 0.,\n",
      "        0., 0., 0., 0., 0., 0., 0., 0., 0., 0., 0., 0., 0., 0., 0., 0., 0., 0., 0., 0., 0., 0., 0., 0.,\n",
      "        0., 0., 0., 0., 0., 0., 0., 0.])\n"
     ]
    }
   ],
   "source": [
    "sequence = TrainTweetsDataset[0][0]\n",
    "sequence_embeddings = pretrained_embeddings_layer(sequence)\n",
    "\n",
    "print('Embedding of the first token:          {}'.format(sequence_embeddings[0]))\n",
    "print('Embedding of the second token:         {}'.format(sequence_embeddings[1]))\n",
    "print('Embedding of the third token:          {}'.format(sequence_embeddings[2]))\n",
    "print('Embedding of the fourth token:         {}'.format(sequence_embeddings[3]))\n",
    "print('Embedding of the fifth token:          {}'.format(sequence_embeddings[4]))\n",
    "print('Embedding of the sixth token:          {}'.format(sequence_embeddings[5]))\n",
    "print('Embedding of the twenty-fifth token:   {}'.format(sequence_embeddings[24]))\n",
    "print('Embedding of the fortieth token:       {}'.format(sequence_embeddings[39]))\n",
    "print('Embedding of the fiftieth token:       {}'.format(sequence_embeddings[49]))"
   ]
  },
  {
   "cell_type": "markdown",
   "metadata": {},
   "source": [
    "# Training LSTM Neural Network with Custom Pre-trained Word2Vec Embeddings"
   ]
  },
  {
   "cell_type": "markdown",
   "metadata": {},
   "source": [
    "## SkipGram embeddings"
   ]
  },
  {
   "cell_type": "code",
   "execution_count": 29,
   "metadata": {
    "ExecuteTime": {
     "end_time": "2023-12-21T15:34:50.418593600Z",
     "start_time": "2023-12-21T15:34:50.412589100Z"
    }
   },
   "outputs": [],
   "source": [
    "TrainTweetsDataset_SkipGram = TweetsDataset(tweets_train, 'skipgram')\n",
    "# Create a dataloade for the training dataset\n",
    "TrainDataLoader_SkipGram = torch.utils.data.DataLoader(dataset = TrainTweetsDataset_SkipGram, batch_size = 256, shuffle = True)\n",
    "\n",
    "TestTweetsDataset_SkipGram = TweetsDataset(tweets_test, 'skipgram')\n",
    "# Create a dataloade for the training dataset\n",
    "TestDataLoader_SkipGram = torch.utils.data.DataLoader(dataset = TestTweetsDataset_SkipGram, batch_size = 256, shuffle = False)"
   ]
  },
  {
   "cell_type": "code",
   "execution_count": 22,
   "metadata": {},
   "outputs": [
    {
     "name": "stdout",
     "output_type": "stream",
     "text": [
      "Device: cpu\n"
     ]
    }
   ],
   "source": [
    "# Initialize the network, loss function, and optimizer\n",
    "device = set_device()\n",
    "customPreTrainedLSTM = CustomLSTM(word2vec_model = skipgram_model,\n",
    "                                  hidden_size = 128, \n",
    "                                  output_size = 1, \n",
    "                                  num_layers = 1, \n",
    "                                  bidirectional = True,\n",
    "                                  freeze_embeddings = True).to(device)\n",
    "\n",
    "criterion = torch.nn.BCEWithLogitsLoss()\n",
    "optimizer = torch.optim.Adam(customPreTrainedLSTM.parameters(), lr = 0.001)"
   ]
  },
  {
   "cell_type": "code",
   "execution_count": 23,
   "metadata": {},
   "outputs": [
    {
     "name": "stdout",
     "output_type": "stream",
     "text": [
      "Epoch 1/8\n",
      "======== Training phase ========\n"
     ]
    },
    {
     "name": "stderr",
     "output_type": "stream",
     "text": [
      "Loss = 0.6779 | Accuracy = 59.26% | F1-Score = 0.00% | Batch ID = 30 : 100%|██████████| 30/30 [00:01<00:00, 26.83it/s]\n"
     ]
    },
    {
     "name": "stdout",
     "output_type": "stream",
     "text": [
      "Training Cross-Entropy Loss = 0.6847\n",
      "Training Accuracy = 57.03%\n",
      "Training F1-Score = 0.00%\n",
      "======== Validation phase ========\n"
     ]
    },
    {
     "name": "stderr",
     "output_type": "stream",
     "text": [
      "Loss = 0.7051 | Accuracy = 48.17% | F1-Score = 0.00% | Batch ID = 13 : 100%|██████████| 13/13 [00:00<00:00, 44.21it/s]\n"
     ]
    },
    {
     "name": "stdout",
     "output_type": "stream",
     "text": [
      "Test Cross-Entropy Loss = 0.6838\n",
      "Test Accuracy = 57.03%\n",
      "Test F1-Score = 0.00%\n",
      "\n",
      "Epoch 2/8\n",
      "======== Training phase ========\n"
     ]
    },
    {
     "name": "stderr",
     "output_type": "stream",
     "text": [
      "Loss = 0.6920 | Accuracy = 53.97% | F1-Score = 0.00% | Batch ID = 30 : 100%|██████████| 30/30 [00:00<00:00, 39.25it/s]\n"
     ]
    },
    {
     "name": "stdout",
     "output_type": "stream",
     "text": [
      "Training Cross-Entropy Loss = 0.6837\n",
      "Training Accuracy = 57.03%\n",
      "Training F1-Score = 0.00%\n",
      "======== Validation phase ========\n"
     ]
    },
    {
     "name": "stderr",
     "output_type": "stream",
     "text": [
      "Loss = 0.7090 | Accuracy = 48.17% | F1-Score = 0.00% | Batch ID = 13 : 100%|██████████| 13/13 [00:00<00:00, 55.28it/s]\n"
     ]
    },
    {
     "name": "stdout",
     "output_type": "stream",
     "text": [
      "Test Cross-Entropy Loss = 0.6837\n",
      "Test Accuracy = 57.03%\n",
      "Test F1-Score = 0.00%\n",
      "\n",
      "Epoch 3/8\n",
      "======== Training phase ========\n"
     ]
    },
    {
     "name": "stderr",
     "output_type": "stream",
     "text": [
      "Loss = 0.6941 | Accuracy = 52.91% | F1-Score = 0.00% | Batch ID = 30 : 100%|██████████| 30/30 [00:00<00:00, 39.48it/s]\n"
     ]
    },
    {
     "name": "stdout",
     "output_type": "stream",
     "text": [
      "Training Cross-Entropy Loss = 0.6836\n",
      "Training Accuracy = 57.03%\n",
      "Training F1-Score = 0.00%\n",
      "======== Validation phase ========\n"
     ]
    },
    {
     "name": "stderr",
     "output_type": "stream",
     "text": [
      "Loss = 0.7066 | Accuracy = 48.17% | F1-Score = 0.00% | Batch ID = 13 : 100%|██████████| 13/13 [00:00<00:00, 55.20it/s]\n"
     ]
    },
    {
     "name": "stdout",
     "output_type": "stream",
     "text": [
      "Test Cross-Entropy Loss = 0.6837\n",
      "Test Accuracy = 57.03%\n",
      "Test F1-Score = 0.00%\n",
      "\n",
      "Epoch 4/8\n",
      "======== Training phase ========\n"
     ]
    },
    {
     "name": "stderr",
     "output_type": "stream",
     "text": [
      "Loss = 0.6976 | Accuracy = 51.85% | F1-Score = 0.00% | Batch ID = 30 : 100%|██████████| 30/30 [00:00<00:00, 39.98it/s]\n"
     ]
    },
    {
     "name": "stdout",
     "output_type": "stream",
     "text": [
      "Training Cross-Entropy Loss = 0.6835\n",
      "Training Accuracy = 57.03%\n",
      "Training F1-Score = 0.00%\n",
      "======== Validation phase ========\n"
     ]
    },
    {
     "name": "stderr",
     "output_type": "stream",
     "text": [
      "Loss = 0.7072 | Accuracy = 48.17% | F1-Score = 0.00% | Batch ID = 13 : 100%|██████████| 13/13 [00:00<00:00, 55.54it/s]\n"
     ]
    },
    {
     "name": "stdout",
     "output_type": "stream",
     "text": [
      "Test Cross-Entropy Loss = 0.6837\n",
      "Test Accuracy = 57.03%\n",
      "Test F1-Score = 0.00%\n",
      "\n",
      "Epoch 5/8\n",
      "======== Training phase ========\n"
     ]
    },
    {
     "name": "stderr",
     "output_type": "stream",
     "text": [
      "Loss = 0.6938 | Accuracy = 53.44% | F1-Score = 0.00% | Batch ID = 30 : 100%|██████████| 30/30 [00:00<00:00, 39.87it/s]\n"
     ]
    },
    {
     "name": "stdout",
     "output_type": "stream",
     "text": [
      "Training Cross-Entropy Loss = 0.6836\n",
      "Training Accuracy = 57.03%\n",
      "Training F1-Score = 0.00%\n",
      "======== Validation phase ========\n"
     ]
    },
    {
     "name": "stderr",
     "output_type": "stream",
     "text": [
      "Loss = 0.7093 | Accuracy = 48.17% | F1-Score = 0.00% | Batch ID = 13 : 100%|██████████| 13/13 [00:00<00:00, 55.11it/s]\n"
     ]
    },
    {
     "name": "stdout",
     "output_type": "stream",
     "text": [
      "Test Cross-Entropy Loss = 0.6838\n",
      "Test Accuracy = 57.03%\n",
      "Test F1-Score = 0.00%\n",
      "\n",
      "Epoch 6/8\n",
      "======== Training phase ========\n"
     ]
    },
    {
     "name": "stderr",
     "output_type": "stream",
     "text": [
      "Loss = 0.6829 | Accuracy = 57.14% | F1-Score = 0.00% | Batch ID = 30 : 100%|██████████| 30/30 [00:00<00:00, 40.31it/s]\n"
     ]
    },
    {
     "name": "stdout",
     "output_type": "stream",
     "text": [
      "Training Cross-Entropy Loss = 0.6833\n",
      "Training Accuracy = 57.03%\n",
      "Training F1-Score = 0.00%\n",
      "======== Validation phase ========\n"
     ]
    },
    {
     "name": "stderr",
     "output_type": "stream",
     "text": [
      "Loss = 0.7072 | Accuracy = 48.17% | F1-Score = 0.00% | Batch ID = 13 : 100%|██████████| 13/13 [00:00<00:00, 53.15it/s]\n"
     ]
    },
    {
     "name": "stdout",
     "output_type": "stream",
     "text": [
      "Test Cross-Entropy Loss = 0.6837\n",
      "Test Accuracy = 57.03%\n",
      "Test F1-Score = 0.00%\n",
      "\n",
      "Epoch 7/8\n",
      "======== Training phase ========\n"
     ]
    },
    {
     "name": "stderr",
     "output_type": "stream",
     "text": [
      "Loss = 0.6770 | Accuracy = 59.26% | F1-Score = 0.00% | Batch ID = 30 : 100%|██████████| 30/30 [00:00<00:00, 39.46it/s]\n"
     ]
    },
    {
     "name": "stdout",
     "output_type": "stream",
     "text": [
      "Training Cross-Entropy Loss = 0.6832\n",
      "Training Accuracy = 57.03%\n",
      "Training F1-Score = 0.00%\n",
      "======== Validation phase ========\n"
     ]
    },
    {
     "name": "stderr",
     "output_type": "stream",
     "text": [
      "Loss = 0.7084 | Accuracy = 48.17% | F1-Score = 0.00% | Batch ID = 13 : 100%|██████████| 13/13 [00:00<00:00, 50.85it/s]\n"
     ]
    },
    {
     "name": "stdout",
     "output_type": "stream",
     "text": [
      "Test Cross-Entropy Loss = 0.6837\n",
      "Test Accuracy = 57.03%\n",
      "Test F1-Score = 0.00%\n",
      "\n",
      "Epoch 8/8\n",
      "======== Training phase ========\n"
     ]
    },
    {
     "name": "stderr",
     "output_type": "stream",
     "text": [
      "Loss = 0.6760 | Accuracy = 59.79% | F1-Score = 0.00% | Batch ID = 30 : 100%|██████████| 30/30 [00:00<00:00, 39.44it/s]\n"
     ]
    },
    {
     "name": "stdout",
     "output_type": "stream",
     "text": [
      "Training Cross-Entropy Loss = 0.6833\n",
      "Training Accuracy = 57.03%\n",
      "Training F1-Score = 0.00%\n",
      "======== Validation phase ========\n"
     ]
    },
    {
     "name": "stderr",
     "output_type": "stream",
     "text": [
      "Loss = 0.7072 | Accuracy = 48.17% | F1-Score = 0.00% | Batch ID = 13 : 100%|██████████| 13/13 [00:00<00:00, 49.61it/s]\n"
     ]
    },
    {
     "name": "stdout",
     "output_type": "stream",
     "text": [
      "Test Cross-Entropy Loss = 0.6837\n",
      "Test Accuracy = 57.03%\n",
      "Test F1-Score = 0.00%\n",
      "\n"
     ]
    }
   ],
   "source": [
    "train_losses, train_f1s, test_losses, test_f1s = train(customPreTrainedLSTM, TrainDataLoader_SkipGram, TestDataLoader_SkipGram, optimizer, criterion, epochs = 8, device = device)"
   ]
  },
  {
   "cell_type": "code",
   "execution_count": 24,
   "metadata": {},
   "outputs": [
    {
     "name": "stdout",
     "output_type": "stream",
     "text": [
      "Device: mps\n"
     ]
    }
   ],
   "source": [
    "# Initialize the network, loss function, and optimizer\n",
    "device = set_device()\n",
    "customPreTrainedLSTM_Attention = CustomLSTM_Attention(word2vec_model = skipgram_model, \n",
    "                                                      hidden_size = 128, \n",
    "                                                      output_size = 1, \n",
    "                                                      num_layers = 1, \n",
    "                                                      bidirectional = True,\n",
    "                                                      freeze_embeddings = True).to(device)\n",
    "\n",
    "criterion = torch.nn.BCEWithLogitsLoss()\n",
    "optimizer = torch.optim.Adam(customPreTrainedLSTM_Attention.parameters(), lr = 0.001)"
   ]
  },
  {
   "cell_type": "code",
   "execution_count": 25,
   "metadata": {},
   "outputs": [
    {
     "name": "stdout",
     "output_type": "stream",
     "text": [
      "Epoch 1/8\n",
      "======== Training phase ========\n"
     ]
    },
    {
     "name": "stderr",
     "output_type": "stream",
     "text": [
      "Loss = 0.5684 | Accuracy = 62.96% | F1-Score = 31.37% | Batch ID = 30 : 100%|██████████| 30/30 [00:00<00:00, 34.77it/s]\n"
     ]
    },
    {
     "name": "stdout",
     "output_type": "stream",
     "text": [
      "Training Cross-Entropy Loss = 0.6548\n",
      "Training Accuracy = 57.45%\n",
      "Training F1-Score = 2.41%\n",
      "======== Validation phase ========\n"
     ]
    },
    {
     "name": "stderr",
     "output_type": "stream",
     "text": [
      "Loss = 0.5597 | Accuracy = 62.83% | F1-Score = 46.62% | Batch ID = 13 : 100%|██████████| 13/13 [00:00<00:00, 53.12it/s]\n"
     ]
    },
    {
     "name": "stdout",
     "output_type": "stream",
     "text": [
      "Test Cross-Entropy Loss = 0.5769\n",
      "Test Accuracy = 66.01%\n",
      "Test F1-Score = 39.76%\n",
      "\n",
      "Epoch 2/8\n",
      "======== Training phase ========\n"
     ]
    },
    {
     "name": "stderr",
     "output_type": "stream",
     "text": [
      "Loss = 0.5751 | Accuracy = 77.25% | F1-Score = 69.93% | Batch ID = 30 : 100%|██████████| 30/30 [00:00<00:00, 38.01it/s]\n"
     ]
    },
    {
     "name": "stdout",
     "output_type": "stream",
     "text": [
      "Training Cross-Entropy Loss = 0.5122\n",
      "Training Accuracy = 74.62%\n",
      "Training F1-Score = 63.42%\n",
      "======== Validation phase ========\n"
     ]
    },
    {
     "name": "stderr",
     "output_type": "stream",
     "text": [
      "Loss = 0.4156 | Accuracy = 80.10% | F1-Score = 79.35% | Batch ID = 13 : 100%|██████████| 13/13 [00:00<00:00, 54.38it/s]\n"
     ]
    },
    {
     "name": "stdout",
     "output_type": "stream",
     "text": [
      "Test Cross-Entropy Loss = 0.5068\n",
      "Test Accuracy = 76.49%\n",
      "Test F1-Score = 69.18%\n",
      "\n",
      "Epoch 3/8\n",
      "======== Training phase ========\n"
     ]
    },
    {
     "name": "stderr",
     "output_type": "stream",
     "text": [
      "Loss = 0.4673 | Accuracy = 77.25% | F1-Score = 72.96% | Batch ID = 30 : 100%|██████████| 30/30 [00:00<00:00, 39.65it/s]\n"
     ]
    },
    {
     "name": "stdout",
     "output_type": "stream",
     "text": [
      "Training Cross-Entropy Loss = 0.4723\n",
      "Training Accuracy = 77.26%\n",
      "Training F1-Score = 68.37%\n",
      "======== Validation phase ========\n"
     ]
    },
    {
     "name": "stderr",
     "output_type": "stream",
     "text": [
      "Loss = 0.3898 | Accuracy = 82.72% | F1-Score = 81.14% | Batch ID = 13 : 100%|██████████| 13/13 [00:00<00:00, 56.89it/s]\n"
     ]
    },
    {
     "name": "stdout",
     "output_type": "stream",
     "text": [
      "Test Cross-Entropy Loss = 0.4816\n",
      "Test Accuracy = 76.59%\n",
      "Test F1-Score = 66.93%\n",
      "\n",
      "Epoch 4/8\n",
      "======== Training phase ========\n"
     ]
    },
    {
     "name": "stderr",
     "output_type": "stream",
     "text": [
      "Loss = 0.4416 | Accuracy = 75.66% | F1-Score = 70.13% | Batch ID = 30 : 100%|██████████| 30/30 [00:00<00:00, 39.90it/s]\n"
     ]
    },
    {
     "name": "stdout",
     "output_type": "stream",
     "text": [
      "Training Cross-Entropy Loss = 0.4521\n",
      "Training Accuracy = 78.65%\n",
      "Training F1-Score = 70.35%\n",
      "======== Validation phase ========\n"
     ]
    },
    {
     "name": "stderr",
     "output_type": "stream",
     "text": [
      "Loss = 0.3906 | Accuracy = 81.68% | F1-Score = 79.77% | Batch ID = 13 : 100%|██████████| 13/13 [00:00<00:00, 53.32it/s]\n"
     ]
    },
    {
     "name": "stdout",
     "output_type": "stream",
     "text": [
      "Test Cross-Entropy Loss = 0.4776\n",
      "Test Accuracy = 76.40%\n",
      "Test F1-Score = 65.50%\n",
      "\n",
      "Epoch 5/8\n",
      "======== Training phase ========\n"
     ]
    },
    {
     "name": "stderr",
     "output_type": "stream",
     "text": [
      "Loss = 0.4574 | Accuracy = 82.01% | F1-Score = 77.03% | Batch ID = 30 : 100%|██████████| 30/30 [00:00<00:00, 39.36it/s]\n"
     ]
    },
    {
     "name": "stdout",
     "output_type": "stream",
     "text": [
      "Training Cross-Entropy Loss = 0.4415\n",
      "Training Accuracy = 79.29%\n",
      "Training F1-Score = 71.41%\n",
      "======== Validation phase ========\n"
     ]
    },
    {
     "name": "stderr",
     "output_type": "stream",
     "text": [
      "Loss = 0.3722 | Accuracy = 84.82% | F1-Score = 83.98% | Batch ID = 13 : 100%|██████████| 13/13 [00:00<00:00, 58.28it/s]\n"
     ]
    },
    {
     "name": "stdout",
     "output_type": "stream",
     "text": [
      "Test Cross-Entropy Loss = 0.4683\n",
      "Test Accuracy = 77.90%\n",
      "Test F1-Score = 69.36%\n",
      "\n",
      "Epoch 6/8\n",
      "======== Training phase ========\n"
     ]
    },
    {
     "name": "stderr",
     "output_type": "stream",
     "text": [
      "Loss = 0.3526 | Accuracy = 82.54% | F1-Score = 75.19% | Batch ID = 30 : 100%|██████████| 30/30 [00:00<00:00, 39.91it/s]\n"
     ]
    },
    {
     "name": "stdout",
     "output_type": "stream",
     "text": [
      "Training Cross-Entropy Loss = 0.4256\n",
      "Training Accuracy = 80.51%\n",
      "Training F1-Score = 73.54%\n",
      "======== Validation phase ========\n"
     ]
    },
    {
     "name": "stderr",
     "output_type": "stream",
     "text": [
      "Loss = 0.3723 | Accuracy = 84.29% | F1-Score = 83.15% | Batch ID = 13 : 100%|██████████| 13/13 [00:00<00:00, 28.67it/s]\n"
     ]
    },
    {
     "name": "stdout",
     "output_type": "stream",
     "text": [
      "Test Cross-Entropy Loss = 0.4698\n",
      "Test Accuracy = 77.38%\n",
      "Test F1-Score = 67.02%\n",
      "\n",
      "Epoch 7/8\n",
      "======== Training phase ========\n"
     ]
    },
    {
     "name": "stderr",
     "output_type": "stream",
     "text": [
      "Loss = 0.4451 | Accuracy = 78.84% | F1-Score = 68.25% | Batch ID = 30 : 100%|██████████| 30/30 [00:00<00:00, 39.40it/s]\n"
     ]
    },
    {
     "name": "stdout",
     "output_type": "stream",
     "text": [
      "Training Cross-Entropy Loss = 0.4146\n",
      "Training Accuracy = 81.23%\n",
      "Training F1-Score = 74.45%\n",
      "======== Validation phase ========\n"
     ]
    },
    {
     "name": "stderr",
     "output_type": "stream",
     "text": [
      "Loss = 0.3871 | Accuracy = 82.72% | F1-Score = 80.47% | Batch ID = 13 : 100%|██████████| 13/13 [00:00<00:00, 56.22it/s]\n"
     ]
    },
    {
     "name": "stdout",
     "output_type": "stream",
     "text": [
      "Test Cross-Entropy Loss = 0.4877\n",
      "Test Accuracy = 75.88%\n",
      "Test F1-Score = 62.89%\n",
      "\n",
      "Epoch 8/8\n",
      "======== Training phase ========\n"
     ]
    },
    {
     "name": "stderr",
     "output_type": "stream",
     "text": [
      "Loss = 0.3785 | Accuracy = 80.95% | F1-Score = 72.73% | Batch ID = 30 : 100%|██████████| 30/30 [00:00<00:00, 39.36it/s]\n"
     ]
    },
    {
     "name": "stdout",
     "output_type": "stream",
     "text": [
      "Training Cross-Entropy Loss = 0.4084\n",
      "Training Accuracy = 81.68%\n",
      "Training F1-Score = 75.08%\n",
      "======== Validation phase ========\n"
     ]
    },
    {
     "name": "stderr",
     "output_type": "stream",
     "text": [
      "Loss = 0.3932 | Accuracy = 82.72% | F1-Score = 80.92% | Batch ID = 13 : 100%|██████████| 13/13 [00:00<00:00, 54.26it/s]"
     ]
    },
    {
     "name": "stdout",
     "output_type": "stream",
     "text": [
      "Test Cross-Entropy Loss = 0.4914\n",
      "Test Accuracy = 76.10%\n",
      "Test F1-Score = 63.92%\n",
      "\n"
     ]
    },
    {
     "name": "stderr",
     "output_type": "stream",
     "text": [
      "\n"
     ]
    }
   ],
   "source": [
    "train_losses, train_f1s, test_losses, test_f1s = train(customPreTrainedLSTM_Attention, TrainDataLoader_SkipGram, TestDataLoader_SkipGram, optimizer, criterion, epochs = 8, device = device)"
   ]
  },
  {
   "cell_type": "markdown",
   "metadata": {},
   "source": [
    "## CBOW embeddings"
   ]
  },
  {
   "cell_type": "code",
   "execution_count": 26,
   "metadata": {},
   "outputs": [],
   "source": [
    "TrainTweetsDataset_CBOW = TweetsDataset(tweets_train, 'cbow')\n",
    "# Create a dataloade for the training dataset\n",
    "TrainDataLoader_CBOW = torch.utils.data.DataLoader(dataset = TrainTweetsDataset_CBOW, batch_size = 256, shuffle = True)\n",
    "\n",
    "TestTweetsDataset_CBOW = TweetsDataset(tweets_test, 'cbow')\n",
    "# Create a dataloade for the training dataset\n",
    "TestDataLoader_CBOW = torch.utils.data.DataLoader(dataset = TestTweetsDataset_CBOW, batch_size = 256, shuffle = False)"
   ]
  },
  {
   "cell_type": "code",
   "execution_count": 27,
   "metadata": {},
   "outputs": [
    {
     "name": "stdout",
     "output_type": "stream",
     "text": [
      "Device: mps\n"
     ]
    }
   ],
   "source": [
    "# Initialize the network, loss function, and optimizer\n",
    "device = set_device()\n",
    "customPreTrainedLSTM = CustomLSTM(word2vec_model = cbow_model,\n",
    "                                  hidden_size = 128, \n",
    "                                  output_size = 1, \n",
    "                                  num_layers = 1, \n",
    "                                  bidirectional = True,\n",
    "                                  freeze_embeddings = True).to(device)\n",
    "\n",
    "criterion = torch.nn.BCEWithLogitsLoss()\n",
    "optimizer = torch.optim.Adam(customPreTrainedLSTM.parameters(), lr = 0.001)"
   ]
  },
  {
   "cell_type": "code",
   "execution_count": 28,
   "metadata": {},
   "outputs": [
    {
     "name": "stdout",
     "output_type": "stream",
     "text": [
      "Epoch 1/8\n",
      "======== Training phase ========\n"
     ]
    },
    {
     "name": "stderr",
     "output_type": "stream",
     "text": [
      "Loss = 0.6844 | Accuracy = 56.61% | F1-Score = 0.00% | Batch ID = 30 : 100%|██████████| 30/30 [00:00<00:00, 39.41it/s]\n"
     ]
    },
    {
     "name": "stdout",
     "output_type": "stream",
     "text": [
      "Training Cross-Entropy Loss = 0.6861\n",
      "Training Accuracy = 57.03%\n",
      "Training F1-Score = 0.00%\n",
      "======== Validation phase ========\n"
     ]
    },
    {
     "name": "stderr",
     "output_type": "stream",
     "text": [
      "Loss = 0.7051 | Accuracy = 48.17% | F1-Score = 0.00% | Batch ID = 13 : 100%|██████████| 13/13 [00:00<00:00, 54.11it/s]\n"
     ]
    },
    {
     "name": "stdout",
     "output_type": "stream",
     "text": [
      "Test Cross-Entropy Loss = 0.6838\n",
      "Test Accuracy = 57.03%\n",
      "Test F1-Score = 0.00%\n",
      "\n",
      "Epoch 2/8\n",
      "======== Training phase ========\n"
     ]
    },
    {
     "name": "stderr",
     "output_type": "stream",
     "text": [
      "Loss = 0.6728 | Accuracy = 60.32% | F1-Score = 0.00% | Batch ID = 30 : 100%|██████████| 30/30 [00:00<00:00, 39.25it/s]\n"
     ]
    },
    {
     "name": "stdout",
     "output_type": "stream",
     "text": [
      "Training Cross-Entropy Loss = 0.6834\n",
      "Training Accuracy = 57.03%\n",
      "Training F1-Score = 0.00%\n",
      "======== Validation phase ========\n"
     ]
    },
    {
     "name": "stderr",
     "output_type": "stream",
     "text": [
      "Loss = 0.7118 | Accuracy = 48.17% | F1-Score = 0.00% | Batch ID = 13 : 100%|██████████| 13/13 [00:00<00:00, 52.69it/s]\n"
     ]
    },
    {
     "name": "stdout",
     "output_type": "stream",
     "text": [
      "Test Cross-Entropy Loss = 0.6839\n",
      "Test Accuracy = 57.03%\n",
      "Test F1-Score = 0.00%\n",
      "\n",
      "Epoch 3/8\n",
      "======== Training phase ========\n"
     ]
    },
    {
     "name": "stderr",
     "output_type": "stream",
     "text": [
      "Loss = 0.6974 | Accuracy = 51.85% | F1-Score = 0.00% | Batch ID = 30 : 100%|██████████| 30/30 [00:00<00:00, 38.68it/s]\n"
     ]
    },
    {
     "name": "stdout",
     "output_type": "stream",
     "text": [
      "Training Cross-Entropy Loss = 0.6835\n",
      "Training Accuracy = 57.03%\n",
      "Training F1-Score = 0.00%\n",
      "======== Validation phase ========\n"
     ]
    },
    {
     "name": "stderr",
     "output_type": "stream",
     "text": [
      "Loss = 0.7064 | Accuracy = 48.17% | F1-Score = 0.00% | Batch ID = 13 : 100%|██████████| 13/13 [00:00<00:00, 55.42it/s]\n"
     ]
    },
    {
     "name": "stdout",
     "output_type": "stream",
     "text": [
      "Test Cross-Entropy Loss = 0.6837\n",
      "Test Accuracy = 57.03%\n",
      "Test F1-Score = 0.00%\n",
      "\n",
      "Epoch 4/8\n",
      "======== Training phase ========\n"
     ]
    },
    {
     "name": "stderr",
     "output_type": "stream",
     "text": [
      "Loss = 0.6798 | Accuracy = 58.20% | F1-Score = 0.00% | Batch ID = 30 : 100%|██████████| 30/30 [00:00<00:00, 38.89it/s]\n"
     ]
    },
    {
     "name": "stdout",
     "output_type": "stream",
     "text": [
      "Training Cross-Entropy Loss = 0.6834\n",
      "Training Accuracy = 57.03%\n",
      "Training F1-Score = 0.00%\n",
      "======== Validation phase ========\n"
     ]
    },
    {
     "name": "stderr",
     "output_type": "stream",
     "text": [
      "Loss = 0.7099 | Accuracy = 48.17% | F1-Score = 0.00% | Batch ID = 13 : 100%|██████████| 13/13 [00:00<00:00, 56.18it/s]\n"
     ]
    },
    {
     "name": "stdout",
     "output_type": "stream",
     "text": [
      "Test Cross-Entropy Loss = 0.6837\n",
      "Test Accuracy = 57.03%\n",
      "Test F1-Score = 0.00%\n",
      "\n",
      "Epoch 5/8\n",
      "======== Training phase ========\n"
     ]
    },
    {
     "name": "stderr",
     "output_type": "stream",
     "text": [
      "Loss = 0.6764 | Accuracy = 59.79% | F1-Score = 0.00% | Batch ID = 30 : 100%|██████████| 30/30 [00:00<00:00, 39.48it/s]\n"
     ]
    },
    {
     "name": "stdout",
     "output_type": "stream",
     "text": [
      "Training Cross-Entropy Loss = 0.6833\n",
      "Training Accuracy = 57.03%\n",
      "Training F1-Score = 0.00%\n",
      "======== Validation phase ========\n"
     ]
    },
    {
     "name": "stderr",
     "output_type": "stream",
     "text": [
      "Loss = 0.7057 | Accuracy = 48.17% | F1-Score = 0.00% | Batch ID = 13 : 100%|██████████| 13/13 [00:00<00:00, 55.62it/s]\n"
     ]
    },
    {
     "name": "stdout",
     "output_type": "stream",
     "text": [
      "Test Cross-Entropy Loss = 0.6837\n",
      "Test Accuracy = 57.03%\n",
      "Test F1-Score = 0.00%\n",
      "\n",
      "Epoch 6/8\n",
      "======== Training phase ========\n"
     ]
    },
    {
     "name": "stderr",
     "output_type": "stream",
     "text": [
      "Loss = 0.6748 | Accuracy = 59.79% | F1-Score = 0.00% | Batch ID = 30 : 100%|██████████| 30/30 [00:00<00:00, 39.58it/s]\n"
     ]
    },
    {
     "name": "stdout",
     "output_type": "stream",
     "text": [
      "Training Cross-Entropy Loss = 0.6832\n",
      "Training Accuracy = 57.03%\n",
      "Training F1-Score = 0.00%\n",
      "======== Validation phase ========\n"
     ]
    },
    {
     "name": "stderr",
     "output_type": "stream",
     "text": [
      "Loss = 0.7109 | Accuracy = 48.17% | F1-Score = 0.00% | Batch ID = 13 : 100%|██████████| 13/13 [00:00<00:00, 57.34it/s]\n"
     ]
    },
    {
     "name": "stdout",
     "output_type": "stream",
     "text": [
      "Test Cross-Entropy Loss = 0.6838\n",
      "Test Accuracy = 57.03%\n",
      "Test F1-Score = 0.00%\n",
      "\n",
      "Epoch 7/8\n",
      "======== Training phase ========\n"
     ]
    },
    {
     "name": "stderr",
     "output_type": "stream",
     "text": [
      "Loss = 0.6982 | Accuracy = 51.85% | F1-Score = 0.00% | Batch ID = 30 : 100%|██████████| 30/30 [00:00<00:00, 38.20it/s]\n"
     ]
    },
    {
     "name": "stdout",
     "output_type": "stream",
     "text": [
      "Training Cross-Entropy Loss = 0.6834\n",
      "Training Accuracy = 57.03%\n",
      "Training F1-Score = 0.00%\n",
      "======== Validation phase ========\n"
     ]
    },
    {
     "name": "stderr",
     "output_type": "stream",
     "text": [
      "Loss = 0.7082 | Accuracy = 48.17% | F1-Score = 0.00% | Batch ID = 13 : 100%|██████████| 13/13 [00:00<00:00, 55.31it/s]\n"
     ]
    },
    {
     "name": "stdout",
     "output_type": "stream",
     "text": [
      "Test Cross-Entropy Loss = 0.6836\n",
      "Test Accuracy = 57.03%\n",
      "Test F1-Score = 0.00%\n",
      "\n",
      "Epoch 8/8\n",
      "======== Training phase ========\n"
     ]
    },
    {
     "name": "stderr",
     "output_type": "stream",
     "text": [
      "Loss = 0.6965 | Accuracy = 51.85% | F1-Score = 0.00% | Batch ID = 30 : 100%|██████████| 30/30 [00:00<00:00, 38.88it/s]\n"
     ]
    },
    {
     "name": "stdout",
     "output_type": "stream",
     "text": [
      "Training Cross-Entropy Loss = 0.6834\n",
      "Training Accuracy = 57.03%\n",
      "Training F1-Score = 0.00%\n",
      "======== Validation phase ========\n"
     ]
    },
    {
     "name": "stderr",
     "output_type": "stream",
     "text": [
      "Loss = 0.7067 | Accuracy = 48.17% | F1-Score = 0.00% | Batch ID = 13 : 100%|██████████| 13/13 [00:00<00:00, 53.31it/s]"
     ]
    },
    {
     "name": "stdout",
     "output_type": "stream",
     "text": [
      "Test Cross-Entropy Loss = 0.6837\n",
      "Test Accuracy = 57.03%\n",
      "Test F1-Score = 0.00%\n",
      "\n"
     ]
    },
    {
     "name": "stderr",
     "output_type": "stream",
     "text": [
      "\n"
     ]
    }
   ],
   "source": [
    "train_losses, train_f1s, test_losses, test_f1s = train(customPreTrainedLSTM, TrainDataLoader_CBOW, TestDataLoader_CBOW, optimizer, criterion, epochs = 8, device = device)"
   ]
  },
  {
   "cell_type": "code",
   "execution_count": 29,
   "metadata": {},
   "outputs": [
    {
     "name": "stdout",
     "output_type": "stream",
     "text": [
      "Device: cpu\n"
     ]
    }
   ],
   "source": [
    "# Initialize the network, loss function, and optimizer\n",
    "device = set_device()\n",
    "customPreTrainedLSTM_Attention = CustomLSTM_Attention(word2vec_model = cbow_model, \n",
    "                                                      hidden_size = 128, \n",
    "                                                      output_size = 1, \n",
    "                                                      num_layers = 1, \n",
    "                                                      bidirectional = True,\n",
    "                                                      freeze_embeddings = True).to(device)\n",
    "\n",
    "criterion = torch.nn.BCEWithLogitsLoss()\n",
    "optimizer = torch.optim.Adam(customPreTrainedLSTM_Attention.parameters(), lr = 0.001)"
   ]
  },
  {
   "cell_type": "code",
   "execution_count": 30,
   "metadata": {},
   "outputs": [
    {
     "name": "stdout",
     "output_type": "stream",
     "text": [
      "Epoch 1/8\n",
      "======== Training phase ========\n"
     ]
    },
    {
     "name": "stderr",
     "output_type": "stream",
     "text": [
      "Loss = 0.4901 | Accuracy = 74.60% | F1-Score = 67.12% | Batch ID = 30 : 100%|██████████| 30/30 [00:00<00:00, 39.19it/s]\n"
     ]
    },
    {
     "name": "stdout",
     "output_type": "stream",
     "text": [
      "Training Cross-Entropy Loss = 0.6079\n",
      "Training Accuracy = 62.75%\n",
      "Training F1-Score = 28.78%\n",
      "======== Validation phase ========\n"
     ]
    },
    {
     "name": "stderr",
     "output_type": "stream",
     "text": [
      "Loss = 0.4259 | Accuracy = 82.20% | F1-Score = 81.32% | Batch ID = 13 : 100%|██████████| 13/13 [00:00<00:00, 49.89it/s]\n"
     ]
    },
    {
     "name": "stdout",
     "output_type": "stream",
     "text": [
      "Test Cross-Entropy Loss = 0.4989\n",
      "Test Accuracy = 74.75%\n",
      "Test F1-Score = 65.00%\n",
      "\n",
      "Epoch 2/8\n",
      "======== Training phase ========\n"
     ]
    },
    {
     "name": "stderr",
     "output_type": "stream",
     "text": [
      "Loss = 0.4487 | Accuracy = 75.66% | F1-Score = 62.90% | Batch ID = 30 : 100%|██████████| 30/30 [00:00<00:00, 39.57it/s]\n"
     ]
    },
    {
     "name": "stdout",
     "output_type": "stream",
     "text": [
      "Training Cross-Entropy Loss = 0.4686\n",
      "Training Accuracy = 77.46%\n",
      "Training F1-Score = 68.77%\n",
      "======== Validation phase ========\n"
     ]
    },
    {
     "name": "stderr",
     "output_type": "stream",
     "text": [
      "Loss = 0.3856 | Accuracy = 84.29% | F1-Score = 83.33% | Batch ID = 13 : 100%|██████████| 13/13 [00:00<00:00, 52.07it/s]\n"
     ]
    },
    {
     "name": "stdout",
     "output_type": "stream",
     "text": [
      "Test Cross-Entropy Loss = 0.4734\n",
      "Test Accuracy = 76.46%\n",
      "Test F1-Score = 66.14%\n",
      "\n",
      "Epoch 3/8\n",
      "======== Training phase ========\n"
     ]
    },
    {
     "name": "stderr",
     "output_type": "stream",
     "text": [
      "Loss = 0.3803 | Accuracy = 80.42% | F1-Score = 74.48% | Batch ID = 30 : 100%|██████████| 30/30 [00:00<00:00, 39.71it/s]\n"
     ]
    },
    {
     "name": "stdout",
     "output_type": "stream",
     "text": [
      "Training Cross-Entropy Loss = 0.4327\n",
      "Training Accuracy = 79.76%\n",
      "Training F1-Score = 72.09%\n",
      "======== Validation phase ========\n"
     ]
    },
    {
     "name": "stderr",
     "output_type": "stream",
     "text": [
      "Loss = 0.3806 | Accuracy = 84.82% | F1-Score = 84.15% | Batch ID = 13 : 100%|██████████| 13/13 [00:00<00:00, 56.60it/s]\n"
     ]
    },
    {
     "name": "stdout",
     "output_type": "stream",
     "text": [
      "Test Cross-Entropy Loss = 0.4610\n",
      "Test Accuracy = 77.90%\n",
      "Test F1-Score = 69.15%\n",
      "\n",
      "Epoch 4/8\n",
      "======== Training phase ========\n"
     ]
    },
    {
     "name": "stderr",
     "output_type": "stream",
     "text": [
      "Loss = 0.3749 | Accuracy = 83.60% | F1-Score = 77.04% | Batch ID = 30 : 100%|██████████| 30/30 [00:00<00:00, 40.04it/s]\n"
     ]
    },
    {
     "name": "stdout",
     "output_type": "stream",
     "text": [
      "Training Cross-Entropy Loss = 0.4073\n",
      "Training Accuracy = 81.47%\n",
      "Training F1-Score = 75.01%\n",
      "======== Validation phase ========\n"
     ]
    },
    {
     "name": "stderr",
     "output_type": "stream",
     "text": [
      "Loss = 0.3818 | Accuracy = 83.77% | F1-Score = 82.68% | Batch ID = 13 : 100%|██████████| 13/13 [00:00<00:00, 56.19it/s]\n"
     ]
    },
    {
     "name": "stdout",
     "output_type": "stream",
     "text": [
      "Test Cross-Entropy Loss = 0.4570\n",
      "Test Accuracy = 77.38%\n",
      "Test F1-Score = 67.14%\n",
      "\n",
      "Epoch 5/8\n",
      "======== Training phase ========\n"
     ]
    },
    {
     "name": "stderr",
     "output_type": "stream",
     "text": [
      "Loss = 0.4150 | Accuracy = 81.48% | F1-Score = 77.71% | Batch ID = 30 : 100%|██████████| 30/30 [00:00<00:00, 39.98it/s]\n"
     ]
    },
    {
     "name": "stdout",
     "output_type": "stream",
     "text": [
      "Training Cross-Entropy Loss = 0.3787\n",
      "Training Accuracy = 82.91%\n",
      "Training F1-Score = 76.93%\n",
      "======== Validation phase ========\n"
     ]
    },
    {
     "name": "stderr",
     "output_type": "stream",
     "text": [
      "Loss = 0.3980 | Accuracy = 82.72% | F1-Score = 82.35% | Batch ID = 13 : 100%|██████████| 13/13 [00:00<00:00, 56.00it/s]\n"
     ]
    },
    {
     "name": "stdout",
     "output_type": "stream",
     "text": [
      "Test Cross-Entropy Loss = 0.4679\n",
      "Test Accuracy = 78.18%\n",
      "Test F1-Score = 70.43%\n",
      "\n",
      "Epoch 6/8\n",
      "======== Training phase ========\n"
     ]
    },
    {
     "name": "stderr",
     "output_type": "stream",
     "text": [
      "Loss = 0.3586 | Accuracy = 83.60% | F1-Score = 80.25% | Batch ID = 30 : 100%|██████████| 30/30 [00:00<00:00, 40.15it/s]\n"
     ]
    },
    {
     "name": "stdout",
     "output_type": "stream",
     "text": [
      "Training Cross-Entropy Loss = 0.3487\n",
      "Training Accuracy = 84.34%\n",
      "Training F1-Score = 79.21%\n",
      "======== Validation phase ========\n"
     ]
    },
    {
     "name": "stderr",
     "output_type": "stream",
     "text": [
      "Loss = 0.4041 | Accuracy = 84.29% | F1-Score = 84.21% | Batch ID = 13 : 100%|██████████| 13/13 [00:00<00:00, 58.60it/s]\n"
     ]
    },
    {
     "name": "stdout",
     "output_type": "stream",
     "text": [
      "Test Cross-Entropy Loss = 0.4663\n",
      "Test Accuracy = 78.67%\n",
      "Test F1-Score = 71.59%\n",
      "\n",
      "Epoch 7/8\n",
      "======== Training phase ========\n"
     ]
    },
    {
     "name": "stderr",
     "output_type": "stream",
     "text": [
      "Loss = 0.3566 | Accuracy = 84.66% | F1-Score = 81.76% | Batch ID = 30 : 100%|██████████| 30/30 [00:00<00:00, 39.19it/s]\n"
     ]
    },
    {
     "name": "stdout",
     "output_type": "stream",
     "text": [
      "Training Cross-Entropy Loss = 0.3027\n",
      "Training Accuracy = 86.84%\n",
      "Training F1-Score = 82.85%\n",
      "======== Validation phase ========\n"
     ]
    },
    {
     "name": "stderr",
     "output_type": "stream",
     "text": [
      "Loss = 0.4383 | Accuracy = 81.15% | F1-Score = 81.05% | Batch ID = 13 : 100%|██████████| 13/13 [00:00<00:00, 51.57it/s]\n"
     ]
    },
    {
     "name": "stdout",
     "output_type": "stream",
     "text": [
      "Test Cross-Entropy Loss = 0.5189\n",
      "Test Accuracy = 77.60%\n",
      "Test F1-Score = 69.83%\n",
      "\n",
      "Epoch 8/8\n",
      "======== Training phase ========\n"
     ]
    },
    {
     "name": "stderr",
     "output_type": "stream",
     "text": [
      "Loss = 0.3541 | Accuracy = 86.24% | F1-Score = 80.30% | Batch ID = 30 : 100%|██████████| 30/30 [00:00<00:00, 39.48it/s]\n"
     ]
    },
    {
     "name": "stdout",
     "output_type": "stream",
     "text": [
      "Training Cross-Entropy Loss = 0.2637\n",
      "Training Accuracy = 88.76%\n",
      "Training F1-Score = 85.61%\n",
      "======== Validation phase ========\n"
     ]
    },
    {
     "name": "stderr",
     "output_type": "stream",
     "text": [
      "Loss = 0.4275 | Accuracy = 80.63% | F1-Score = 80.00% | Batch ID = 13 : 100%|██████████| 13/13 [00:00<00:00, 55.96it/s]\n"
     ]
    },
    {
     "name": "stdout",
     "output_type": "stream",
     "text": [
      "Test Cross-Entropy Loss = 0.5160\n",
      "Test Accuracy = 77.44%\n",
      "Test F1-Score = 68.57%\n",
      "\n"
     ]
    }
   ],
   "source": [
    "train_losses, train_f1s, test_losses, test_f1s = train(customPreTrainedLSTM_Attention, TrainDataLoader_CBOW, TestDataLoader_CBOW, optimizer, criterion, epochs = 8, device = device)"
   ]
  },
  {
   "cell_type": "markdown",
   "metadata": {},
   "source": [
    "# Training GRU Neural Network with Custom Pre-trained Word2Vec Embeddings"
   ]
  },
  {
   "cell_type": "markdown",
   "metadata": {},
   "source": [
    "## SkipGram Embeddings"
   ]
  },
  {
   "cell_type": "code",
   "execution_count": 31,
   "metadata": {},
   "outputs": [],
   "source": [
    "TrainTweetsDataset_SkipGram = TweetsDataset(tweets_train, 'skipgram')\n",
    "# Create a dataloade for the training dataset\n",
    "TrainDataLoader_SkipGram = torch.utils.data.DataLoader(dataset = TrainTweetsDataset_SkipGram, batch_size = 256, shuffle = True)\n",
    "\n",
    "TestTweetsDataset_SkipGram = TweetsDataset(tweets_test, 'skipgram')\n",
    "# Create a dataloade for the training dataset\n",
    "TestDataLoader_SkipGram = torch.utils.data.DataLoader(dataset = TestTweetsDataset_SkipGram, batch_size = 256, shuffle = False)"
   ]
  },
  {
   "cell_type": "code",
   "execution_count": 32,
   "metadata": {},
   "outputs": [
    {
     "name": "stdout",
     "output_type": "stream",
     "text": [
      "Device: mps\n"
     ]
    }
   ],
   "source": [
    "# Initialize the network, loss function, and optimizer\n",
    "device = set_device()\n",
    "customPreTrainedGRU = CustomGRU(word2vec_model = skipgram_model, \n",
    "                                hidden_size = 128, \n",
    "                                output_size = 1, \n",
    "                                num_layers = 1, \n",
    "                                bidirectional = True,\n",
    "                                freeze_embeddings = True).to(device)\n",
    "\n",
    "criterion = torch.nn.BCEWithLogitsLoss()\n",
    "optimizer = torch.optim.Adam(customPreTrainedGRU.parameters(), lr = 0.001)"
   ]
  },
  {
   "cell_type": "code",
   "execution_count": 33,
   "metadata": {},
   "outputs": [
    {
     "name": "stdout",
     "output_type": "stream",
     "text": [
      "Epoch 1/8\n",
      "======== Training phase ========\n"
     ]
    },
    {
     "name": "stderr",
     "output_type": "stream",
     "text": [
      "Loss = 0.6818 | Accuracy = 58.73% | F1-Score = 0.00% | Batch ID = 30 : 100%|██████████| 30/30 [00:06<00:00,  4.31it/s]\n"
     ]
    },
    {
     "name": "stdout",
     "output_type": "stream",
     "text": [
      "Training Cross-Entropy Loss = 0.6874\n",
      "Training Accuracy = 57.03%\n",
      "Training F1-Score = 0.00%\n",
      "======== Validation phase ========\n"
     ]
    },
    {
     "name": "stderr",
     "output_type": "stream",
     "text": [
      "Loss = 0.7074 | Accuracy = 48.17% | F1-Score = 0.00% | Batch ID = 13 : 100%|██████████| 13/13 [00:01<00:00, 11.45it/s]\n"
     ]
    },
    {
     "name": "stdout",
     "output_type": "stream",
     "text": [
      "Test Cross-Entropy Loss = 0.6847\n",
      "Test Accuracy = 57.03%\n",
      "Test F1-Score = 0.00%\n",
      "\n",
      "Epoch 2/8\n",
      "======== Training phase ========\n"
     ]
    },
    {
     "name": "stderr",
     "output_type": "stream",
     "text": [
      "Loss = 0.6813 | Accuracy = 57.67% | F1-Score = 0.00% | Batch ID = 30 : 100%|██████████| 30/30 [00:06<00:00,  4.37it/s]\n"
     ]
    },
    {
     "name": "stdout",
     "output_type": "stream",
     "text": [
      "Training Cross-Entropy Loss = 0.6834\n",
      "Training Accuracy = 57.03%\n",
      "Training F1-Score = 0.00%\n",
      "======== Validation phase ========\n"
     ]
    },
    {
     "name": "stderr",
     "output_type": "stream",
     "text": [
      "Loss = 0.7115 | Accuracy = 48.17% | F1-Score = 0.00% | Batch ID = 13 : 100%|██████████| 13/13 [00:01<00:00, 11.74it/s]\n"
     ]
    },
    {
     "name": "stdout",
     "output_type": "stream",
     "text": [
      "Test Cross-Entropy Loss = 0.6841\n",
      "Test Accuracy = 57.03%\n",
      "Test F1-Score = 0.00%\n",
      "\n",
      "Epoch 3/8\n",
      "======== Training phase ========\n"
     ]
    },
    {
     "name": "stderr",
     "output_type": "stream",
     "text": [
      "Loss = 0.6908 | Accuracy = 55.03% | F1-Score = 0.00% | Batch ID = 30 : 100%|██████████| 30/30 [00:06<00:00,  4.57it/s]\n"
     ]
    },
    {
     "name": "stdout",
     "output_type": "stream",
     "text": [
      "Training Cross-Entropy Loss = 0.6834\n",
      "Training Accuracy = 57.03%\n",
      "Training F1-Score = 0.00%\n",
      "======== Validation phase ========\n"
     ]
    },
    {
     "name": "stderr",
     "output_type": "stream",
     "text": [
      "Loss = 0.7090 | Accuracy = 48.17% | F1-Score = 0.00% | Batch ID = 13 : 100%|██████████| 13/13 [00:01<00:00, 12.05it/s]\n"
     ]
    },
    {
     "name": "stdout",
     "output_type": "stream",
     "text": [
      "Test Cross-Entropy Loss = 0.6851\n",
      "Test Accuracy = 57.03%\n",
      "Test F1-Score = 0.00%\n",
      "\n",
      "Epoch 4/8\n",
      "======== Training phase ========\n"
     ]
    },
    {
     "name": "stderr",
     "output_type": "stream",
     "text": [
      "Loss = 0.6861 | Accuracy = 56.08% | F1-Score = 0.00% | Batch ID = 30 : 100%|██████████| 30/30 [00:06<00:00,  4.56it/s]\n"
     ]
    },
    {
     "name": "stdout",
     "output_type": "stream",
     "text": [
      "Training Cross-Entropy Loss = 0.6833\n",
      "Training Accuracy = 57.03%\n",
      "Training F1-Score = 0.00%\n",
      "======== Validation phase ========\n"
     ]
    },
    {
     "name": "stderr",
     "output_type": "stream",
     "text": [
      "Loss = 0.7073 | Accuracy = 48.17% | F1-Score = 0.00% | Batch ID = 13 : 100%|██████████| 13/13 [00:01<00:00, 11.35it/s]\n"
     ]
    },
    {
     "name": "stdout",
     "output_type": "stream",
     "text": [
      "Test Cross-Entropy Loss = 0.6840\n",
      "Test Accuracy = 57.03%\n",
      "Test F1-Score = 0.00%\n",
      "\n",
      "Epoch 5/8\n",
      "======== Training phase ========\n"
     ]
    },
    {
     "name": "stderr",
     "output_type": "stream",
     "text": [
      "Loss = 0.6852 | Accuracy = 56.08% | F1-Score = 0.00% | Batch ID = 30 : 100%|██████████| 30/30 [00:06<00:00,  4.48it/s]\n"
     ]
    },
    {
     "name": "stdout",
     "output_type": "stream",
     "text": [
      "Training Cross-Entropy Loss = 0.6834\n",
      "Training Accuracy = 57.03%\n",
      "Training F1-Score = 0.00%\n",
      "======== Validation phase ========\n"
     ]
    },
    {
     "name": "stderr",
     "output_type": "stream",
     "text": [
      "Loss = 0.7123 | Accuracy = 48.17% | F1-Score = 0.00% | Batch ID = 13 : 100%|██████████| 13/13 [00:01<00:00, 11.99it/s]\n"
     ]
    },
    {
     "name": "stdout",
     "output_type": "stream",
     "text": [
      "Test Cross-Entropy Loss = 0.6844\n",
      "Test Accuracy = 57.03%\n",
      "Test F1-Score = 0.00%\n",
      "\n",
      "Epoch 6/8\n",
      "======== Training phase ========\n"
     ]
    },
    {
     "name": "stderr",
     "output_type": "stream",
     "text": [
      "Loss = 0.6860 | Accuracy = 56.08% | F1-Score = 0.00% | Batch ID = 30 : 100%|██████████| 30/30 [00:06<00:00,  4.65it/s]\n"
     ]
    },
    {
     "name": "stdout",
     "output_type": "stream",
     "text": [
      "Training Cross-Entropy Loss = 0.6838\n",
      "Training Accuracy = 57.03%\n",
      "Training F1-Score = 0.00%\n",
      "======== Validation phase ========\n"
     ]
    },
    {
     "name": "stderr",
     "output_type": "stream",
     "text": [
      "Loss = 0.7083 | Accuracy = 48.17% | F1-Score = 0.00% | Batch ID = 13 : 100%|██████████| 13/13 [00:01<00:00, 11.92it/s]\n"
     ]
    },
    {
     "name": "stdout",
     "output_type": "stream",
     "text": [
      "Test Cross-Entropy Loss = 0.6841\n",
      "Test Accuracy = 57.03%\n",
      "Test F1-Score = 0.00%\n",
      "\n",
      "Epoch 7/8\n",
      "======== Training phase ========\n"
     ]
    },
    {
     "name": "stderr",
     "output_type": "stream",
     "text": [
      "Loss = nan | Accuracy = 59.79% | F1-Score = 0.00% | Batch ID = 30 : 100%|██████████| 30/30 [00:06<00:00,  4.52it/s] \n"
     ]
    },
    {
     "name": "stdout",
     "output_type": "stream",
     "text": [
      "Training Cross-Entropy Loss = nan\n",
      "Training Accuracy = 57.03%\n",
      "Training F1-Score = 0.00%\n",
      "======== Validation phase ========\n"
     ]
    },
    {
     "name": "stderr",
     "output_type": "stream",
     "text": [
      "Loss = nan | Accuracy = 48.17% | F1-Score = 0.00% | Batch ID = 13 : 100%|██████████| 13/13 [00:01<00:00, 11.59it/s]\n"
     ]
    },
    {
     "name": "stdout",
     "output_type": "stream",
     "text": [
      "Test Cross-Entropy Loss = nan\n",
      "Test Accuracy = 57.03%\n",
      "Test F1-Score = 0.00%\n",
      "\n",
      "Epoch 8/8\n",
      "======== Training phase ========\n"
     ]
    },
    {
     "name": "stderr",
     "output_type": "stream",
     "text": [
      "Loss = nan | Accuracy = 55.03% | F1-Score = 0.00% | Batch ID = 30 : 100%|██████████| 30/30 [00:06<00:00,  4.60it/s]\n"
     ]
    },
    {
     "name": "stdout",
     "output_type": "stream",
     "text": [
      "Training Cross-Entropy Loss = nan\n",
      "Training Accuracy = 57.03%\n",
      "Training F1-Score = 0.00%\n",
      "======== Validation phase ========\n"
     ]
    },
    {
     "name": "stderr",
     "output_type": "stream",
     "text": [
      "Loss = nan | Accuracy = 48.17% | F1-Score = 0.00% | Batch ID = 13 : 100%|██████████| 13/13 [00:01<00:00, 12.07it/s]"
     ]
    },
    {
     "name": "stdout",
     "output_type": "stream",
     "text": [
      "Test Cross-Entropy Loss = nan\n",
      "Test Accuracy = 57.03%\n",
      "Test F1-Score = 0.00%\n",
      "\n"
     ]
    },
    {
     "name": "stderr",
     "output_type": "stream",
     "text": [
      "\n"
     ]
    }
   ],
   "source": [
    "train_losses, train_f1s, test_losses, test_f1s = train(customPreTrainedGRU, TrainDataLoader_SkipGram, TestDataLoader_SkipGram, optimizer, criterion, epochs = 8, device = device)"
   ]
  },
  {
   "cell_type": "code",
   "execution_count": 34,
   "metadata": {},
   "outputs": [
    {
     "name": "stdout",
     "output_type": "stream",
     "text": [
      "Device: mps\n"
     ]
    }
   ],
   "source": [
    "# Initialize the network, loss function, and optimizer\n",
    "device = set_device()\n",
    "customPreTrainedGRU_Attention = CustomGRU_Attention(word2vec_model = skipgram_model, \n",
    "                                                    hidden_size = 128, \n",
    "                                                    output_size = 1, \n",
    "                                                    num_layers = 1, \n",
    "                                                    bidirectional = True,\n",
    "                                                    freeze_embeddings = True).to(device)\n",
    "\n",
    "criterion = torch.nn.BCEWithLogitsLoss()\n",
    "optimizer = torch.optim.Adam(customPreTrainedGRU_Attention.parameters(), lr = 0.001)"
   ]
  },
  {
   "cell_type": "code",
   "execution_count": 35,
   "metadata": {},
   "outputs": [
    {
     "name": "stdout",
     "output_type": "stream",
     "text": [
      "Epoch 1/8\n",
      "======== Training phase ========\n"
     ]
    },
    {
     "name": "stderr",
     "output_type": "stream",
     "text": [
      "Loss = 0.5972 | Accuracy = 66.14% | F1-Score = 39.62% | Batch ID = 30 : 100%|██████████| 30/30 [00:06<00:00,  4.58it/s]\n"
     ]
    },
    {
     "name": "stdout",
     "output_type": "stream",
     "text": [
      "Training Cross-Entropy Loss = 0.6553\n",
      "Training Accuracy = 58.26%\n",
      "Training F1-Score = 5.59%\n",
      "======== Validation phase ========\n"
     ]
    },
    {
     "name": "stderr",
     "output_type": "stream",
     "text": [
      "Loss = 0.5561 | Accuracy = 67.54% | F1-Score = 56.34% | Batch ID = 13 : 100%|██████████| 13/13 [00:01<00:00, 11.99it/s]\n"
     ]
    },
    {
     "name": "stdout",
     "output_type": "stream",
     "text": [
      "Test Cross-Entropy Loss = nan\n",
      "Test Accuracy = 65.22%\n",
      "Test F1-Score = 33.97%\n",
      "\n",
      "Epoch 2/8\n",
      "======== Training phase ========\n"
     ]
    },
    {
     "name": "stderr",
     "output_type": "stream",
     "text": [
      "Loss = nan | Accuracy = 55.03% | F1-Score = 0.00% | Batch ID = 30 : 100%|██████████| 30/30 [00:06<00:00,  4.61it/s]  \n"
     ]
    },
    {
     "name": "stdout",
     "output_type": "stream",
     "text": [
      "Training Cross-Entropy Loss = nan\n",
      "Training Accuracy = 58.30%\n",
      "Training F1-Score = 5.81%\n",
      "======== Validation phase ========\n"
     ]
    },
    {
     "name": "stderr",
     "output_type": "stream",
     "text": [
      "Loss = nan | Accuracy = 48.17% | F1-Score = 0.00% | Batch ID = 13 : 100%|██████████| 13/13 [00:01<00:00, 11.92it/s]\n"
     ]
    },
    {
     "name": "stdout",
     "output_type": "stream",
     "text": [
      "Test Cross-Entropy Loss = nan\n",
      "Test Accuracy = 57.03%\n",
      "Test F1-Score = 0.00%\n",
      "\n",
      "Epoch 3/8\n",
      "======== Training phase ========\n"
     ]
    },
    {
     "name": "stderr",
     "output_type": "stream",
     "text": [
      "Loss = nan | Accuracy = 54.50% | F1-Score = 0.00% | Batch ID = 30 : 100%|██████████| 30/30 [00:06<00:00,  4.48it/s]\n"
     ]
    },
    {
     "name": "stdout",
     "output_type": "stream",
     "text": [
      "Training Cross-Entropy Loss = nan\n",
      "Training Accuracy = 57.03%\n",
      "Training F1-Score = 0.00%\n",
      "======== Validation phase ========\n"
     ]
    },
    {
     "name": "stderr",
     "output_type": "stream",
     "text": [
      "Loss = nan | Accuracy = 48.17% | F1-Score = 0.00% | Batch ID = 13 : 100%|██████████| 13/13 [00:01<00:00, 11.46it/s]\n"
     ]
    },
    {
     "name": "stdout",
     "output_type": "stream",
     "text": [
      "Test Cross-Entropy Loss = nan\n",
      "Test Accuracy = 57.03%\n",
      "Test F1-Score = 0.00%\n",
      "\n",
      "Epoch 4/8\n",
      "======== Training phase ========\n"
     ]
    },
    {
     "name": "stderr",
     "output_type": "stream",
     "text": [
      "Loss = nan | Accuracy = 52.91% | F1-Score = 0.00% | Batch ID = 30 : 100%|██████████| 30/30 [00:06<00:00,  4.59it/s]\n"
     ]
    },
    {
     "name": "stdout",
     "output_type": "stream",
     "text": [
      "Training Cross-Entropy Loss = nan\n",
      "Training Accuracy = 57.03%\n",
      "Training F1-Score = 0.00%\n",
      "======== Validation phase ========\n"
     ]
    },
    {
     "name": "stderr",
     "output_type": "stream",
     "text": [
      "Loss = nan | Accuracy = 48.17% | F1-Score = 0.00% | Batch ID = 13 : 100%|██████████| 13/13 [00:01<00:00, 11.95it/s]\n"
     ]
    },
    {
     "name": "stdout",
     "output_type": "stream",
     "text": [
      "Test Cross-Entropy Loss = nan\n",
      "Test Accuracy = 57.03%\n",
      "Test F1-Score = 0.00%\n",
      "\n",
      "Epoch 5/8\n",
      "======== Training phase ========\n"
     ]
    },
    {
     "name": "stderr",
     "output_type": "stream",
     "text": [
      "Loss = nan | Accuracy = 59.26% | F1-Score = 0.00% | Batch ID = 30 : 100%|██████████| 30/30 [00:06<00:00,  4.61it/s]\n"
     ]
    },
    {
     "name": "stdout",
     "output_type": "stream",
     "text": [
      "Training Cross-Entropy Loss = nan\n",
      "Training Accuracy = 57.03%\n",
      "Training F1-Score = 0.00%\n",
      "======== Validation phase ========\n"
     ]
    },
    {
     "name": "stderr",
     "output_type": "stream",
     "text": [
      "Loss = nan | Accuracy = 48.17% | F1-Score = 0.00% | Batch ID = 13 : 100%|██████████| 13/13 [00:01<00:00, 11.97it/s]\n"
     ]
    },
    {
     "name": "stdout",
     "output_type": "stream",
     "text": [
      "Test Cross-Entropy Loss = nan\n",
      "Test Accuracy = 57.03%\n",
      "Test F1-Score = 0.00%\n",
      "\n",
      "Epoch 6/8\n",
      "======== Training phase ========\n"
     ]
    },
    {
     "name": "stderr",
     "output_type": "stream",
     "text": [
      "Loss = nan | Accuracy = 47.62% | F1-Score = 0.00% | Batch ID = 30 : 100%|██████████| 30/30 [00:06<00:00,  4.44it/s]\n"
     ]
    },
    {
     "name": "stdout",
     "output_type": "stream",
     "text": [
      "Training Cross-Entropy Loss = nan\n",
      "Training Accuracy = 57.03%\n",
      "Training F1-Score = 0.00%\n",
      "======== Validation phase ========\n"
     ]
    },
    {
     "name": "stderr",
     "output_type": "stream",
     "text": [
      "Loss = nan | Accuracy = 48.17% | F1-Score = 0.00% | Batch ID = 13 : 100%|██████████| 13/13 [00:01<00:00, 11.64it/s]\n"
     ]
    },
    {
     "name": "stdout",
     "output_type": "stream",
     "text": [
      "Test Cross-Entropy Loss = nan\n",
      "Test Accuracy = 57.03%\n",
      "Test F1-Score = 0.00%\n",
      "\n",
      "Epoch 7/8\n",
      "======== Training phase ========\n"
     ]
    },
    {
     "name": "stderr",
     "output_type": "stream",
     "text": [
      "Loss = nan | Accuracy = 60.85% | F1-Score = 0.00% | Batch ID = 30 : 100%|██████████| 30/30 [00:06<00:00,  4.47it/s]\n"
     ]
    },
    {
     "name": "stdout",
     "output_type": "stream",
     "text": [
      "Training Cross-Entropy Loss = nan\n",
      "Training Accuracy = 57.03%\n",
      "Training F1-Score = 0.00%\n",
      "======== Validation phase ========\n"
     ]
    },
    {
     "name": "stderr",
     "output_type": "stream",
     "text": [
      "Loss = nan | Accuracy = 48.17% | F1-Score = 0.00% | Batch ID = 13 : 100%|██████████| 13/13 [00:01<00:00, 11.71it/s]\n"
     ]
    },
    {
     "name": "stdout",
     "output_type": "stream",
     "text": [
      "Test Cross-Entropy Loss = nan\n",
      "Test Accuracy = 57.03%\n",
      "Test F1-Score = 0.00%\n",
      "\n",
      "Epoch 8/8\n",
      "======== Training phase ========\n"
     ]
    },
    {
     "name": "stderr",
     "output_type": "stream",
     "text": [
      "Loss = nan | Accuracy = 54.50% | F1-Score = 0.00% | Batch ID = 30 : 100%|██████████| 30/30 [00:06<00:00,  4.57it/s]\n"
     ]
    },
    {
     "name": "stdout",
     "output_type": "stream",
     "text": [
      "Training Cross-Entropy Loss = nan\n",
      "Training Accuracy = 57.03%\n",
      "Training F1-Score = 0.00%\n",
      "======== Validation phase ========\n"
     ]
    },
    {
     "name": "stderr",
     "output_type": "stream",
     "text": [
      "Loss = nan | Accuracy = 48.17% | F1-Score = 0.00% | Batch ID = 13 : 100%|██████████| 13/13 [00:01<00:00, 11.90it/s]"
     ]
    },
    {
     "name": "stdout",
     "output_type": "stream",
     "text": [
      "Test Cross-Entropy Loss = nan\n",
      "Test Accuracy = 57.03%\n",
      "Test F1-Score = 0.00%\n",
      "\n"
     ]
    },
    {
     "name": "stderr",
     "output_type": "stream",
     "text": [
      "\n"
     ]
    }
   ],
   "source": [
    "train_losses, train_f1s, test_losses, test_f1s = train(customPreTrainedGRU_Attention, TrainDataLoader_SkipGram, TestDataLoader_SkipGram, optimizer, criterion, epochs = 8, device = device)"
   ]
  },
  {
   "cell_type": "markdown",
   "metadata": {},
   "source": [
    "## CBOW Embeddings"
   ]
  },
  {
   "cell_type": "code",
   "execution_count": 36,
   "metadata": {},
   "outputs": [],
   "source": [
    "TrainTweetsDataset_CBOW = TweetsDataset(tweets_train, 'cbow')\n",
    "# Create a dataloade for the training dataset\n",
    "TrainDataLoader_CBOW = torch.utils.data.DataLoader(dataset = TrainTweetsDataset_CBOW, batch_size = 256, shuffle = True)\n",
    "\n",
    "TestTweetsDataset_CBOW = TweetsDataset(tweets_test, 'cbow')\n",
    "# Create a dataloade for the training dataset\n",
    "TestDataLoader_CBOW = torch.utils.data.DataLoader(dataset = TestTweetsDataset_CBOW, batch_size = 256, shuffle = False)"
   ]
  },
  {
   "cell_type": "code",
   "execution_count": 37,
   "metadata": {},
   "outputs": [
    {
     "name": "stdout",
     "output_type": "stream",
     "text": [
      "Device: mps\n"
     ]
    }
   ],
   "source": [
    "# Initialize the network, loss function, and optimizer\n",
    "device = set_device()\n",
    "customPreTrainedGRU = CustomGRU(word2vec_model = cbow_model, \n",
    "                                hidden_size = 128, \n",
    "                                output_size = 1, \n",
    "                                num_layers = 1, \n",
    "                                bidirectional = True,\n",
    "                                freeze_embeddings = True).to(device)\n",
    "\n",
    "criterion = torch.nn.BCEWithLogitsLoss()\n",
    "optimizer = torch.optim.Adam(customPreTrainedGRU.parameters(), lr = 0.001)"
   ]
  },
  {
   "cell_type": "code",
   "execution_count": 38,
   "metadata": {},
   "outputs": [
    {
     "name": "stdout",
     "output_type": "stream",
     "text": [
      "Epoch 1/8\n",
      "======== Training phase ========\n"
     ]
    },
    {
     "name": "stderr",
     "output_type": "stream",
     "text": [
      "Loss = nan | Accuracy = 57.67% | F1-Score = 0.00% | Batch ID = 30 : 100%|██████████| 30/30 [00:06<00:00,  4.52it/s]\n"
     ]
    },
    {
     "name": "stdout",
     "output_type": "stream",
     "text": [
      "Training Cross-Entropy Loss = nan\n",
      "Training Accuracy = 57.03%\n",
      "Training F1-Score = 0.00%\n",
      "======== Validation phase ========\n"
     ]
    },
    {
     "name": "stderr",
     "output_type": "stream",
     "text": [
      "Loss = nan | Accuracy = 48.17% | F1-Score = 0.00% | Batch ID = 13 : 100%|██████████| 13/13 [00:01<00:00, 11.44it/s]\n"
     ]
    },
    {
     "name": "stdout",
     "output_type": "stream",
     "text": [
      "Test Cross-Entropy Loss = nan\n",
      "Test Accuracy = 57.03%\n",
      "Test F1-Score = 0.00%\n",
      "\n",
      "Epoch 2/8\n",
      "======== Training phase ========\n"
     ]
    },
    {
     "name": "stderr",
     "output_type": "stream",
     "text": [
      "Loss = nan | Accuracy = 59.79% | F1-Score = 0.00% | Batch ID = 30 : 100%|██████████| 30/30 [00:06<00:00,  4.37it/s]\n"
     ]
    },
    {
     "name": "stdout",
     "output_type": "stream",
     "text": [
      "Training Cross-Entropy Loss = nan\n",
      "Training Accuracy = 57.03%\n",
      "Training F1-Score = 0.00%\n",
      "======== Validation phase ========\n"
     ]
    },
    {
     "name": "stderr",
     "output_type": "stream",
     "text": [
      "Loss = nan | Accuracy = 48.17% | F1-Score = 0.00% | Batch ID = 13 : 100%|██████████| 13/13 [00:01<00:00, 11.88it/s]\n"
     ]
    },
    {
     "name": "stdout",
     "output_type": "stream",
     "text": [
      "Test Cross-Entropy Loss = nan\n",
      "Test Accuracy = 57.03%\n",
      "Test F1-Score = 0.00%\n",
      "\n",
      "Epoch 3/8\n",
      "======== Training phase ========\n"
     ]
    },
    {
     "name": "stderr",
     "output_type": "stream",
     "text": [
      "Loss = nan | Accuracy = 56.61% | F1-Score = 0.00% | Batch ID = 30 : 100%|██████████| 30/30 [00:06<00:00,  4.30it/s]\n"
     ]
    },
    {
     "name": "stdout",
     "output_type": "stream",
     "text": [
      "Training Cross-Entropy Loss = nan\n",
      "Training Accuracy = 57.03%\n",
      "Training F1-Score = 0.00%\n",
      "======== Validation phase ========\n"
     ]
    },
    {
     "name": "stderr",
     "output_type": "stream",
     "text": [
      "Loss = nan | Accuracy = 48.17% | F1-Score = 0.00% | Batch ID = 13 : 100%|██████████| 13/13 [00:01<00:00, 11.41it/s]\n"
     ]
    },
    {
     "name": "stdout",
     "output_type": "stream",
     "text": [
      "Test Cross-Entropy Loss = nan\n",
      "Test Accuracy = 57.03%\n",
      "Test F1-Score = 0.00%\n",
      "\n",
      "Epoch 4/8\n",
      "======== Training phase ========\n"
     ]
    },
    {
     "name": "stderr",
     "output_type": "stream",
     "text": [
      "Loss = nan | Accuracy = 63.49% | F1-Score = 0.00% | Batch ID = 30 : 100%|██████████| 30/30 [00:06<00:00,  4.52it/s]\n"
     ]
    },
    {
     "name": "stdout",
     "output_type": "stream",
     "text": [
      "Training Cross-Entropy Loss = nan\n",
      "Training Accuracy = 57.03%\n",
      "Training F1-Score = 0.00%\n",
      "======== Validation phase ========\n"
     ]
    },
    {
     "name": "stderr",
     "output_type": "stream",
     "text": [
      "Loss = nan | Accuracy = 48.17% | F1-Score = 0.00% | Batch ID = 13 : 100%|██████████| 13/13 [00:01<00:00, 12.14it/s]\n"
     ]
    },
    {
     "name": "stdout",
     "output_type": "stream",
     "text": [
      "Test Cross-Entropy Loss = nan\n",
      "Test Accuracy = 57.03%\n",
      "Test F1-Score = 0.00%\n",
      "\n",
      "Epoch 5/8\n",
      "======== Training phase ========\n"
     ]
    },
    {
     "name": "stderr",
     "output_type": "stream",
     "text": [
      "Loss = nan | Accuracy = 60.32% | F1-Score = 0.00% | Batch ID = 30 : 100%|██████████| 30/30 [00:06<00:00,  4.65it/s]\n"
     ]
    },
    {
     "name": "stdout",
     "output_type": "stream",
     "text": [
      "Training Cross-Entropy Loss = nan\n",
      "Training Accuracy = 57.03%\n",
      "Training F1-Score = 0.00%\n",
      "======== Validation phase ========\n"
     ]
    },
    {
     "name": "stderr",
     "output_type": "stream",
     "text": [
      "Loss = nan | Accuracy = 48.17% | F1-Score = 0.00% | Batch ID = 13 : 100%|██████████| 13/13 [00:01<00:00, 12.34it/s]\n"
     ]
    },
    {
     "name": "stdout",
     "output_type": "stream",
     "text": [
      "Test Cross-Entropy Loss = nan\n",
      "Test Accuracy = 57.03%\n",
      "Test F1-Score = 0.00%\n",
      "\n",
      "Epoch 6/8\n",
      "======== Training phase ========\n"
     ]
    },
    {
     "name": "stderr",
     "output_type": "stream",
     "text": [
      "Loss = nan | Accuracy = 61.90% | F1-Score = 0.00% | Batch ID = 30 : 100%|██████████| 30/30 [00:06<00:00,  4.67it/s]\n"
     ]
    },
    {
     "name": "stdout",
     "output_type": "stream",
     "text": [
      "Training Cross-Entropy Loss = nan\n",
      "Training Accuracy = 57.03%\n",
      "Training F1-Score = 0.00%\n",
      "======== Validation phase ========\n"
     ]
    },
    {
     "name": "stderr",
     "output_type": "stream",
     "text": [
      "Loss = nan | Accuracy = 48.17% | F1-Score = 0.00% | Batch ID = 13 : 100%|██████████| 13/13 [00:01<00:00, 11.99it/s]\n"
     ]
    },
    {
     "name": "stdout",
     "output_type": "stream",
     "text": [
      "Test Cross-Entropy Loss = nan\n",
      "Test Accuracy = 57.03%\n",
      "Test F1-Score = 0.00%\n",
      "\n",
      "Epoch 7/8\n",
      "======== Training phase ========\n"
     ]
    },
    {
     "name": "stderr",
     "output_type": "stream",
     "text": [
      "Loss = nan | Accuracy = 59.26% | F1-Score = 0.00% | Batch ID = 30 : 100%|██████████| 30/30 [00:06<00:00,  4.67it/s]\n"
     ]
    },
    {
     "name": "stdout",
     "output_type": "stream",
     "text": [
      "Training Cross-Entropy Loss = nan\n",
      "Training Accuracy = 57.03%\n",
      "Training F1-Score = 0.00%\n",
      "======== Validation phase ========\n"
     ]
    },
    {
     "name": "stderr",
     "output_type": "stream",
     "text": [
      "Loss = nan | Accuracy = 48.17% | F1-Score = 0.00% | Batch ID = 13 : 100%|██████████| 13/13 [00:01<00:00, 12.25it/s]\n"
     ]
    },
    {
     "name": "stdout",
     "output_type": "stream",
     "text": [
      "Test Cross-Entropy Loss = nan\n",
      "Test Accuracy = 57.03%\n",
      "Test F1-Score = 0.00%\n",
      "\n",
      "Epoch 8/8\n",
      "======== Training phase ========\n"
     ]
    },
    {
     "name": "stderr",
     "output_type": "stream",
     "text": [
      "Loss = nan | Accuracy = 55.56% | F1-Score = 0.00% | Batch ID = 30 : 100%|██████████| 30/30 [00:06<00:00,  4.46it/s]\n"
     ]
    },
    {
     "name": "stdout",
     "output_type": "stream",
     "text": [
      "Training Cross-Entropy Loss = nan\n",
      "Training Accuracy = 57.03%\n",
      "Training F1-Score = 0.00%\n",
      "======== Validation phase ========\n"
     ]
    },
    {
     "name": "stderr",
     "output_type": "stream",
     "text": [
      "Loss = nan | Accuracy = 48.17% | F1-Score = 0.00% | Batch ID = 13 : 100%|██████████| 13/13 [00:01<00:00, 11.74it/s]"
     ]
    },
    {
     "name": "stdout",
     "output_type": "stream",
     "text": [
      "Test Cross-Entropy Loss = nan\n",
      "Test Accuracy = 57.03%\n",
      "Test F1-Score = 0.00%\n",
      "\n"
     ]
    },
    {
     "name": "stderr",
     "output_type": "stream",
     "text": [
      "\n"
     ]
    }
   ],
   "source": [
    "train_losses, train_f1s, test_losses, test_f1s = train(customPreTrainedGRU, TrainDataLoader_CBOW, TestDataLoader_CBOW, optimizer, criterion, epochs = 8, device = device)"
   ]
  },
  {
   "cell_type": "code",
   "execution_count": 39,
   "metadata": {},
   "outputs": [
    {
     "name": "stdout",
     "output_type": "stream",
     "text": [
      "Device: mps\n"
     ]
    }
   ],
   "source": [
    "# Initialize the network, loss function, and optimizer\n",
    "device = set_device()\n",
    "customPreTrainedGRU_Attention = CustomGRU_Attention(word2vec_model = cbow_model, \n",
    "                                                    hidden_size = 128, \n",
    "                                                    output_size = 1, \n",
    "                                                    num_layers = 1, \n",
    "                                                    bidirectional = True,\n",
    "                                                    freeze_embeddings = True).to(device)\n",
    "\n",
    "criterion = torch.nn.BCEWithLogitsLoss()\n",
    "optimizer = torch.optim.Adam(customPreTrainedGRU_Attention.parameters(), lr = 0.001)"
   ]
  },
  {
   "cell_type": "code",
   "execution_count": 40,
   "metadata": {},
   "outputs": [
    {
     "name": "stdout",
     "output_type": "stream",
     "text": [
      "Epoch 1/8\n",
      "======== Training phase ========\n"
     ]
    },
    {
     "name": "stderr",
     "output_type": "stream",
     "text": [
      "Loss = nan | Accuracy = 58.20% | F1-Score = 0.00% | Batch ID = 30 : 100%|██████████| 30/30 [00:06<00:00,  4.51it/s]\n"
     ]
    },
    {
     "name": "stdout",
     "output_type": "stream",
     "text": [
      "Training Cross-Entropy Loss = nan\n",
      "Training Accuracy = 57.03%\n",
      "Training F1-Score = 0.00%\n",
      "======== Validation phase ========\n"
     ]
    },
    {
     "name": "stderr",
     "output_type": "stream",
     "text": [
      "Loss = nan | Accuracy = 48.17% | F1-Score = 0.00% | Batch ID = 13 : 100%|██████████| 13/13 [00:01<00:00, 11.99it/s]\n"
     ]
    },
    {
     "name": "stdout",
     "output_type": "stream",
     "text": [
      "Test Cross-Entropy Loss = nan\n",
      "Test Accuracy = 57.03%\n",
      "Test F1-Score = 0.00%\n",
      "\n",
      "Epoch 2/8\n",
      "======== Training phase ========\n"
     ]
    },
    {
     "name": "stderr",
     "output_type": "stream",
     "text": [
      "Loss = nan | Accuracy = 58.73% | F1-Score = 0.00% | Batch ID = 30 : 100%|██████████| 30/30 [00:06<00:00,  4.58it/s]\n"
     ]
    },
    {
     "name": "stdout",
     "output_type": "stream",
     "text": [
      "Training Cross-Entropy Loss = nan\n",
      "Training Accuracy = 57.03%\n",
      "Training F1-Score = 0.00%\n",
      "======== Validation phase ========\n"
     ]
    },
    {
     "name": "stderr",
     "output_type": "stream",
     "text": [
      "Loss = nan | Accuracy = 48.17% | F1-Score = 0.00% | Batch ID = 13 : 100%|██████████| 13/13 [00:01<00:00, 11.91it/s]\n"
     ]
    },
    {
     "name": "stdout",
     "output_type": "stream",
     "text": [
      "Test Cross-Entropy Loss = nan\n",
      "Test Accuracy = 57.03%\n",
      "Test F1-Score = 0.00%\n",
      "\n",
      "Epoch 3/8\n",
      "======== Training phase ========\n"
     ]
    },
    {
     "name": "stderr",
     "output_type": "stream",
     "text": [
      "Loss = nan | Accuracy = 52.91% | F1-Score = 0.00% | Batch ID = 30 : 100%|██████████| 30/30 [00:06<00:00,  4.45it/s]\n"
     ]
    },
    {
     "name": "stdout",
     "output_type": "stream",
     "text": [
      "Training Cross-Entropy Loss = nan\n",
      "Training Accuracy = 57.03%\n",
      "Training F1-Score = 0.00%\n",
      "======== Validation phase ========\n"
     ]
    },
    {
     "name": "stderr",
     "output_type": "stream",
     "text": [
      "Loss = nan | Accuracy = 48.17% | F1-Score = 0.00% | Batch ID = 13 : 100%|██████████| 13/13 [00:01<00:00, 11.45it/s]\n"
     ]
    },
    {
     "name": "stdout",
     "output_type": "stream",
     "text": [
      "Test Cross-Entropy Loss = nan\n",
      "Test Accuracy = 57.03%\n",
      "Test F1-Score = 0.00%\n",
      "\n",
      "Epoch 4/8\n",
      "======== Training phase ========\n"
     ]
    },
    {
     "name": "stderr",
     "output_type": "stream",
     "text": [
      "Loss = nan | Accuracy = 52.38% | F1-Score = 0.00% | Batch ID = 30 : 100%|██████████| 30/30 [00:06<00:00,  4.63it/s]\n"
     ]
    },
    {
     "name": "stdout",
     "output_type": "stream",
     "text": [
      "Training Cross-Entropy Loss = nan\n",
      "Training Accuracy = 57.03%\n",
      "Training F1-Score = 0.00%\n",
      "======== Validation phase ========\n"
     ]
    },
    {
     "name": "stderr",
     "output_type": "stream",
     "text": [
      "Loss = nan | Accuracy = 48.17% | F1-Score = 0.00% | Batch ID = 13 : 100%|██████████| 13/13 [00:01<00:00, 12.08it/s]\n"
     ]
    },
    {
     "name": "stdout",
     "output_type": "stream",
     "text": [
      "Test Cross-Entropy Loss = nan\n",
      "Test Accuracy = 57.03%\n",
      "Test F1-Score = 0.00%\n",
      "\n",
      "Epoch 5/8\n",
      "======== Training phase ========\n"
     ]
    },
    {
     "name": "stderr",
     "output_type": "stream",
     "text": [
      "Loss = nan | Accuracy = 55.56% | F1-Score = 0.00% | Batch ID = 30 : 100%|██████████| 30/30 [00:06<00:00,  4.63it/s]\n"
     ]
    },
    {
     "name": "stdout",
     "output_type": "stream",
     "text": [
      "Training Cross-Entropy Loss = nan\n",
      "Training Accuracy = 57.03%\n",
      "Training F1-Score = 0.00%\n",
      "======== Validation phase ========\n"
     ]
    },
    {
     "name": "stderr",
     "output_type": "stream",
     "text": [
      "Loss = nan | Accuracy = 48.17% | F1-Score = 0.00% | Batch ID = 13 : 100%|██████████| 13/13 [00:01<00:00, 11.93it/s]\n"
     ]
    },
    {
     "name": "stdout",
     "output_type": "stream",
     "text": [
      "Test Cross-Entropy Loss = nan\n",
      "Test Accuracy = 57.03%\n",
      "Test F1-Score = 0.00%\n",
      "\n",
      "Epoch 6/8\n",
      "======== Training phase ========\n"
     ]
    },
    {
     "name": "stderr",
     "output_type": "stream",
     "text": [
      "Loss = nan | Accuracy = 62.96% | F1-Score = 0.00% | Batch ID = 30 : 100%|██████████| 30/30 [00:06<00:00,  4.57it/s]\n"
     ]
    },
    {
     "name": "stdout",
     "output_type": "stream",
     "text": [
      "Training Cross-Entropy Loss = nan\n",
      "Training Accuracy = 57.03%\n",
      "Training F1-Score = 0.00%\n",
      "======== Validation phase ========\n"
     ]
    },
    {
     "name": "stderr",
     "output_type": "stream",
     "text": [
      "Loss = nan | Accuracy = 48.17% | F1-Score = 0.00% | Batch ID = 13 : 100%|██████████| 13/13 [00:01<00:00, 11.53it/s]\n"
     ]
    },
    {
     "name": "stdout",
     "output_type": "stream",
     "text": [
      "Test Cross-Entropy Loss = nan\n",
      "Test Accuracy = 57.03%\n",
      "Test F1-Score = 0.00%\n",
      "\n",
      "Epoch 7/8\n",
      "======== Training phase ========\n"
     ]
    },
    {
     "name": "stderr",
     "output_type": "stream",
     "text": [
      "Loss = nan | Accuracy = 59.79% | F1-Score = 0.00% | Batch ID = 30 : 100%|██████████| 30/30 [00:06<00:00,  4.33it/s]\n"
     ]
    },
    {
     "name": "stdout",
     "output_type": "stream",
     "text": [
      "Training Cross-Entropy Loss = nan\n",
      "Training Accuracy = 57.03%\n",
      "Training F1-Score = 0.00%\n",
      "======== Validation phase ========\n"
     ]
    },
    {
     "name": "stderr",
     "output_type": "stream",
     "text": [
      "Loss = nan | Accuracy = 48.17% | F1-Score = 0.00% | Batch ID = 13 : 100%|██████████| 13/13 [00:01<00:00, 11.63it/s]\n"
     ]
    },
    {
     "name": "stdout",
     "output_type": "stream",
     "text": [
      "Test Cross-Entropy Loss = nan\n",
      "Test Accuracy = 57.03%\n",
      "Test F1-Score = 0.00%\n",
      "\n",
      "Epoch 8/8\n",
      "======== Training phase ========\n"
     ]
    },
    {
     "name": "stderr",
     "output_type": "stream",
     "text": [
      "Loss = nan | Accuracy = 56.61% | F1-Score = 0.00% | Batch ID = 30 : 100%|██████████| 30/30 [00:06<00:00,  4.52it/s]\n"
     ]
    },
    {
     "name": "stdout",
     "output_type": "stream",
     "text": [
      "Training Cross-Entropy Loss = nan\n",
      "Training Accuracy = 57.03%\n",
      "Training F1-Score = 0.00%\n",
      "======== Validation phase ========\n"
     ]
    },
    {
     "name": "stderr",
     "output_type": "stream",
     "text": [
      "Loss = nan | Accuracy = 48.17% | F1-Score = 0.00% | Batch ID = 13 : 100%|██████████| 13/13 [00:01<00:00, 11.34it/s]"
     ]
    },
    {
     "name": "stdout",
     "output_type": "stream",
     "text": [
      "Test Cross-Entropy Loss = nan\n",
      "Test Accuracy = 57.03%\n",
      "Test F1-Score = 0.00%\n",
      "\n"
     ]
    },
    {
     "name": "stderr",
     "output_type": "stream",
     "text": [
      "\n"
     ]
    }
   ],
   "source": [
    "train_losses, train_f1s, test_losses, test_f1s = train(customPreTrainedGRU_Attention, TrainDataLoader_CBOW, TestDataLoader_CBOW, optimizer, criterion, epochs = 8, device = device)"
   ]
  },
  {
   "cell_type": "code",
   "execution_count": null,
   "outputs": [],
   "source": [],
   "metadata": {
    "collapsed": false
   }
  },
  {
   "cell_type": "code",
   "execution_count": null,
   "outputs": [],
   "source": [],
   "metadata": {
    "collapsed": false
   }
  },
  {
   "cell_type": "code",
   "execution_count": null,
   "outputs": [],
   "source": [],
   "metadata": {
    "collapsed": false
   }
  },
  {
   "cell_type": "code",
   "execution_count": null,
   "outputs": [],
   "source": [],
   "metadata": {
    "collapsed": false
   }
  }
 ],
 "metadata": {
  "kernelspec": {
   "display_name": "base",
   "language": "python",
   "name": "python3"
  },
  "language_info": {
   "codemirror_mode": {
    "name": "ipython",
    "version": 3
   },
   "file_extension": ".py",
   "mimetype": "text/x-python",
   "name": "python",
   "nbconvert_exporter": "python",
   "pygments_lexer": "ipython3",
   "version": "3.10.9"
  }
 },
 "nbformat": 4,
 "nbformat_minor": 2
}
