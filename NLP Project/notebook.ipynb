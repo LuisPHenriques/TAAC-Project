{
 "cells": [
  {
   "cell_type": "markdown",
   "metadata": {},
   "source": [
    "# Imports, Custom Functions & Data Loading"
   ]
  },
  {
   "cell_type": "markdown",
   "metadata": {},
   "source": [
    "## Import libraries"
   ]
  },
  {
   "cell_type": "code",
   "execution_count": 1,
   "metadata": {
    "ExecuteTime": {
     "end_time": "2023-12-21T14:50:51.762292300Z",
     "start_time": "2023-12-21T14:50:49.382402900Z"
    }
   },
   "outputs": [],
   "source": [
    "import pandas as pd\n",
    "import numpy as np\n",
    "import matplotlib.pyplot as plt\n",
    "import torch\n",
    "import re\n",
    "import spacy \n",
    "\n",
    "from collections import Counter, defaultdict\n",
    "from transformers import AutoTokenizer\n",
    "\n",
    "from sklearn.feature_extraction.text import TfidfVectorizer\n",
    "\n",
    "from gensim.models import Word2Vec\n",
    "\n",
    "from sklearn.manifold import TSNE\n",
    "\n",
    "from tqdm import tqdm\n",
    "\n",
    "from sklearn.metrics import f1_score\n",
    "\n",
    "# spacy.cli.download(\"en_core_web_lg\")\n",
    "nlp = spacy.load('en_core_web_lg')\n",
    "\n",
    "# Ignore RuntimeWarning and UserWarning\n",
    "import warnings\n",
    "warnings.filterwarnings(\"ignore\", category=RuntimeWarning)\n",
    "warnings.filterwarnings(\"ignore\", category=UserWarning)"
   ]
  },
  {
   "cell_type": "markdown",
   "metadata": {},
   "source": [
    "## Define functions"
   ]
  },
  {
   "cell_type": "code",
   "execution_count": 48,
   "metadata": {
    "ExecuteTime": {
     "end_time": "2023-12-21T15:02:13.334929800Z",
     "start_time": "2023-12-21T15:02:13.276939Z"
    }
   },
   "outputs": [],
   "source": [
    "def preprocess(text):\n",
    "    \n",
    "    # remove URLs\n",
    "    text = re.sub('http\\S*', ' ', text)\n",
    "    \n",
    "    # remove non-alphabetic\n",
    "    text = re.sub(\"[^a-zA-Z]\", \" \", text)\n",
    "    \n",
    "    # make lowercase\n",
    "    text = text.lower()\n",
    "\n",
    "    # remove one character word\n",
    "    text = re.sub(\"\\s+[a-zA-Z]\\s+\", ' ', text)\n",
    "    text = re.sub(\"^[a-zA-Z]\\s+\", '', text)\n",
    "    \n",
    "    # replace double space to one space\n",
    "    text = re.sub(\"\\s+\", ' ', text)\n",
    "    \n",
    "    # tokenize, lemmatize, remove stop words\n",
    "    doc = nlp(text)\n",
    "    text = [token.lemma_ for token in doc if not token.is_stop]\n",
    "    return \" \".join(text)\n",
    "\n",
    "\n",
    "class BPE():\n",
    "    \"\"\"Byte-Pair Encoding: Subword-based tokenization algorithm.\"\"\"\n",
    "    \n",
    "    def __init__(self, corpus, vocab_size):\n",
    "        \"\"\"Initialize BPE tokenizer.\"\"\"\n",
    "        self.corpus = corpus\n",
    "        self.vocab_size = vocab_size\n",
    "        \n",
    "        # pre-tokenize the corpus into words, BERT pre-tokenizer is used here\n",
    "        self.tokenizer = AutoTokenizer.from_pretrained(\"bert-base-uncased\")\n",
    "        self.word_freqs = defaultdict(int)\n",
    "        self.splits = {}\n",
    "        self.merges = {}\n",
    "    \n",
    "    \n",
    "    def train(self):\n",
    "        \"\"\"Train BPE tokenizer.\"\"\"\n",
    "    # (1) Compute the frequencies of each word in the corpus\n",
    "    # (2) Compute the base vocabulary of all characters in the corpus\n",
    "    # (3) Split each word into individual characters before training\n",
    "    # (4) Merge the most frequent pair iteratively until the vocabulary size is reached\n",
    "\n",
    "        # compute the frequencies of each word in the corpus\n",
    "        for text in self.corpus:\n",
    "            words_with_offsets = self.tokenizer.backend_tokenizer.pre_tokenizer.pre_tokenize_str(text)\n",
    "            new_words = [word for word, offset in words_with_offsets]\n",
    "            for word in new_words:\n",
    "                self.word_freqs[word] += 1\n",
    "\n",
    "        # compute the base vocabulary of all characters in the corpus\n",
    "        alphabet = []\n",
    "        for word in self.word_freqs.keys():\n",
    "            for letter in word:\n",
    "                if letter not in alphabet:\n",
    "                    alphabet.append(letter)\n",
    "        alphabet.sort()\n",
    "\n",
    "        # add the special token </w> at the beginning of the vocabulary\n",
    "        vocab = [\"</w>\"] + alphabet.copy()\n",
    "\n",
    "        # split each word into individual characters before training\n",
    "        self.splits = {word: [c for c in word] for word in self.word_freqs.keys()}\n",
    "\n",
    "        # merge the most frequent pair iteratively until the vocabulary size is reached\n",
    "        while len(vocab) < self.vocab_size:\n",
    "\n",
    "            # compute the frequency of each pair\n",
    "            pair_freqs = self.compute_pair_freqs()\n",
    "\n",
    "            # find the most frequent pair\n",
    "            best_pair = \"\"\n",
    "            max_freq = None\n",
    "            for pair, freq in pair_freqs.items():\n",
    "                if max_freq is None or max_freq < freq:\n",
    "                    best_pair = pair\n",
    "                    max_freq = freq\n",
    "\n",
    "            # merge the most frequent pair\n",
    "            self.splits = self.merge_pair(*best_pair)\n",
    "            self.merges[best_pair] = best_pair[0] + best_pair[1]\n",
    "            vocab.append(best_pair[0] + best_pair[1])\n",
    "        return self.merges\n",
    "\n",
    "\n",
    "    def compute_pair_freqs(self):\n",
    "        \"\"\"Compute the frequency of each pair.\"\"\"\n",
    "\n",
    "        pair_freqs = defaultdict(int)\n",
    "        for word, freq in self.word_freqs.items():\n",
    "            split = self.splits[word]\n",
    "            if len(split) == 1:\n",
    "                continue\n",
    "            for i in range(len(split) - 1):\n",
    "                pair = (split[i], split[i + 1])\n",
    "                pair_freqs[pair] += freq\n",
    "        return pair_freqs\n",
    "\n",
    "\n",
    "    def merge_pair(self, a, b):\n",
    "        \"\"\"Merge the given pair.\"\"\"\n",
    "\n",
    "        for word in self.word_freqs:\n",
    "            split = self.splits[word]\n",
    "            if len(split) == 1:\n",
    "                continue\n",
    "            i = 0\n",
    "            while i < len(split) - 1:\n",
    "                if split[i] == a and split[i + 1] == b:\n",
    "                    split = split[:i] + [a + b] + split[i + 2 :]\n",
    "                else:\n",
    "                    i += 1\n",
    "            self.splits[word] = split\n",
    "        return self.splits\n",
    "    \n",
    "\n",
    "    def tokenize(self, text):\n",
    "        \"\"\"Tokenize a given text with trained BPE tokenizer (including pre-tokenization, split, and merge).\"\"\"\n",
    "        \n",
    "        pre_tokenize_result = self.tokenizer._tokenizer.pre_tokenizer.pre_tokenize_str(text)\n",
    "        pre_tokenized_text = [word for word, offset in pre_tokenize_result]\n",
    "        splits_text = [[l for l in word] for word in pre_tokenized_text]\n",
    "\n",
    "        for pair, merge in self.merges.items():\n",
    "            for idx, split in enumerate(splits_text):\n",
    "                i = 0\n",
    "                while i < len(split) - 1:\n",
    "                    if split[i] == pair[0] and split[i + 1] == pair[1]:\n",
    "                        split = split[:i] + [merge] + split[i + 2 :]\n",
    "                    else:\n",
    "                        i += 1\n",
    "                splits_text[idx] = split\n",
    "        result = sum(splits_text, [])\n",
    "        return result\n",
    "    \n",
    "\n",
    "def get_tfidf_matrix(df, vectorizer):\n",
    "    \n",
    "    # Convert the TF-IDF matrix to a dense NumPy array\n",
    "    matrix = df.todense()\n",
    "\n",
    "    # Convert the dense matrix to a DataFrame\n",
    "    matrix = pd.DataFrame(matrix, columns=vectorizer.get_feature_names_out())\n",
    "\n",
    "    return matrix\n",
    "\n",
    "\n",
    "# The sequences being in the formar ['word1', 'word2', 'word3', ...], preprocess it\n",
    "def string2embedding_idx(text_sequence, model):\n",
    "\n",
    "    sequence = []\n",
    "    for token in text_sequence:\n",
    "        try:\n",
    "            sequence.append(model.wv.key_to_index[token])\n",
    "        except:\n",
    "            sequence.append(2899)\n",
    "\n",
    "    return sequence\n",
    "\n",
    "\n",
    "def TSNE_10ClosestWords(model, word, size):\n",
    "    \n",
    "    arr = np.empty((0,size), dtype='f')\n",
    "    word_labels = [word]\n",
    "    close_words = model.wv.similar_by_word(word)\n",
    "    arr = np.append(arr, np.array([model.wv[word]]), axis=0)\n",
    "    for wrd_score in close_words:\n",
    "        wrd_vector = model.wv[wrd_score[0]]\n",
    "        word_labels.append(wrd_score[0])\n",
    "        arr = np.append(arr, np.array([wrd_vector]), axis=0)\n",
    "            \n",
    "    tsne = TSNE(n_components=2, random_state=0, perplexity = 10)\n",
    "    np.set_printoptions(suppress=True)\n",
    "    Y = tsne.fit_transform(arr)\n",
    "    x_coords = Y[:, 0]\n",
    "    y_coords = Y[:, 1]\n",
    "    plt.scatter(x_coords, y_coords)\n",
    "    for label, x, y in zip(word_labels, x_coords, y_coords):\n",
    "        plt.annotate(label, xy=(x, y), xytext=(0, 0), textcoords='offset points')\n",
    "    plt.xlim(x_coords.min()+0.00005, x_coords.max()+0.00005)\n",
    "    plt.ylim(y_coords.min()+0.00005, y_coords.max()+0.00005)\n",
    "    plt.show()\n",
    "    \n",
    "\n",
    "class TweetsDataset(torch.utils.data.Dataset):\n",
    "    def __init__(self, df, word2vec_model):\n",
    "        self.df = df\n",
    "        self.word2vec_model = word2vec_model\n",
    "\n",
    "    def __len__(self):\n",
    "        return len(self.df)\n",
    "\n",
    "    def __getitem__(self, idx):\n",
    "        sequence = self.df.iloc[idx, -1 if self.word2vec_model == 'skipgram' else -2]\n",
    "        label = self.df.iloc[idx, 1]\n",
    "\n",
    "        # Convert sequence to a 1D tensor\n",
    "        sequence_tensor = torch.tensor(sequence, dtype=torch.long)\n",
    "\n",
    "        # Convert label to a 1D tensor (scalar)\n",
    "        label_tensor = torch.tensor(label, dtype=torch.float32).unsqueeze(0)\n",
    "\n",
    "        return sequence_tensor, label_tensor\n",
    "\n",
    "\n",
    "def set_device():\n",
    "    if torch.cuda.is_available():\n",
    "        device = torch.device('cuda')\n",
    "\n",
    "    elif torch.backends.mps.is_available():\n",
    "        device = torch.device('mps')\n",
    "\n",
    "    else:\n",
    "        device = torch.device('cpu')\n",
    "    print('Device:', device)\n",
    "\n",
    "    return device\n",
    "\n",
    "\n",
    "def train(model, train_loader, test_loader, optimizer, loss_func, epochs, device, **kwargs):\n",
    "    \"\"\"\n",
    "    Trains a neural network model.\n",
    "\n",
    "    Args:\n",
    "    - model (torch.nn.Module): The neural network model to be trained.\n",
    "    - train_loader (torch.utils.data.DataLoader): DataLoader for the training dataset.\n",
    "    - optimizer (torch.optim.Optimizer): The optimizer used for training.\n",
    "    - loss_func (torch.nn.Module): The loss function used for training.\n",
    "    - epochs (int): Number of training epochs.\n",
    "    - device (torch.device): The device on which the training will be performed.\n",
    "    - **kwargs: Additional arguments for customization.\n",
    "\n",
    "    Returns:\n",
    "    - train_loss_hist (list): List containing training loss values for each epoch.\n",
    "    - train_acc_hist (list): List containing training accuracy values for each epoch.\n",
    "    \"\"\"\n",
    "\n",
    "    num_epochs = kwargs.get('num_epochs', epochs)\n",
    "    loss_fn = kwargs.get('loss_fn', loss_func)\n",
    "    device = kwargs.get('device', device)\n",
    "\n",
    "    train_loss_lst, train_f1_lst, test_loss_lst, test_f1_lst = [], [], [], []\n",
    "\n",
    "    for epoch in range(num_epochs):\n",
    "        print(f'Epoch {epoch + 1}/{num_epochs}')\n",
    "\n",
    "        print('======== Training phase ========')\n",
    "        model.train()\n",
    "        train_loss = 0.\n",
    "        total = 0.\n",
    "        correct = 0.\n",
    "        # Lists to store targets and predictions\n",
    "        all_targets = []\n",
    "        all_predictions = []\n",
    "\n",
    "        pbar = tqdm(enumerate(train_loader), total=len(train_loader))\n",
    "\n",
    "        for batch_idx, (data, target) in pbar:\n",
    "            data = data.to(device)\n",
    "            target = target.to(device)\n",
    "            model.zero_grad()\n",
    "            output = model(data)\n",
    "            loss = loss_fn(output, target)\n",
    "            loss.backward()\n",
    "            optimizer.step()\n",
    "\n",
    "            train_loss += loss.item()\n",
    "\n",
    "            predicted = (output > 0.5).float()\n",
    "            correct_batch = (predicted == target).sum().item()\n",
    "            mini_batch_size = target.size(0)\n",
    "            accuracy_batch = 100 * correct_batch / mini_batch_size\n",
    "\n",
    "            # Compute F1-score\n",
    "            f1_score_batch = 100 * f1_score(target.cpu().numpy(), predicted.cpu().numpy(), average='binary')\n",
    "\n",
    "            total += mini_batch_size\n",
    "            correct += correct_batch\n",
    "            # Append targets and predictions to the lists\n",
    "            all_targets.extend(target.cpu().numpy())\n",
    "            all_predictions.extend(predicted.cpu().numpy())\n",
    "\n",
    "            pbar.set_description(\n",
    "                f'Loss = {loss:.4f} | Accuracy = {accuracy_batch:.2f}% | F1-Score = {f1_score_batch:.2f}% | Batch ID = {batch_idx + 1} '\n",
    "            )\n",
    "\n",
    "        train_loss /= len(train_loader)\n",
    "        train_accuracy = 100 * correct / total\n",
    "        all_targets = np.array(all_targets)\n",
    "        all_predictions = np.array(all_predictions)\n",
    "        train_f1_score = 100 * f1_score(all_targets, all_predictions, average='binary')\n",
    "\n",
    "        print(f'Training Cross-Entropy Loss = {train_loss:.4f}')\n",
    "        print(f'Training Accuracy = {train_accuracy:.2f}%')\n",
    "        print(f'Training F1-Score = {train_f1_score:.2f}%')\n",
    "\n",
    "        # Evaluate the model on the validation set\n",
    "        print('======== Validation phase ========')\n",
    "        model.eval()\n",
    "        test_loss = 0.\n",
    "        total = 0.\n",
    "        correct = 0.\n",
    "        # Lists to store targets and predictions\n",
    "        all_targets = []\n",
    "        all_predictions = []\n",
    "\n",
    "        pbar = tqdm(enumerate(test_loader), total=len(test_loader))\n",
    "\n",
    "        with torch.no_grad():\n",
    "            for batch_idx, (data, target) in pbar:\n",
    "                data = data.to(device)\n",
    "                target = target.to(device)\n",
    "                output = model(data)\n",
    "                loss = loss_fn(output, target)\n",
    "\n",
    "                test_loss += loss.item()\n",
    "\n",
    "                predicted = (output > 0.5).float()\n",
    "                correct_batch = (predicted == target).sum().item()\n",
    "                mini_batch_size = target.size(0)\n",
    "                accuracy_batch = 100 * correct_batch / mini_batch_size\n",
    "\n",
    "                # Compute F1-score\n",
    "                f1_score_batch = 100 * f1_score(target.cpu().numpy(), predicted.cpu().numpy(), average='binary')\n",
    "\n",
    "                total += mini_batch_size\n",
    "                correct += correct_batch\n",
    "                # Append targets and predictions to the lists\n",
    "                all_targets.extend(target.cpu().numpy())\n",
    "                all_predictions.extend(predicted.cpu().numpy())\n",
    "\n",
    "                pbar.set_description(\n",
    "                    f'Loss = {loss:.4f} | Accuracy = {accuracy_batch:.2f}% | F1-Score = {f1_score_batch:.2f}% | Batch ID = {batch_idx + 1} '\n",
    "                )\n",
    "\n",
    "        test_loss /= len(test_loader)\n",
    "        test_accuracy = 100 * correct / total\n",
    "        all_targets = np.array(all_targets)\n",
    "        all_predictions = np.array(all_predictions)\n",
    "        test_f1_score = 100 * f1_score(all_targets, all_predictions, average='binary')\n",
    "\n",
    "        print(f'Test Cross-Entropy Loss = {test_loss:.4f}')\n",
    "        print(f'Test Accuracy = {test_accuracy:.2f}%')\n",
    "        print(f'Test F1-Score = {test_f1_score:.2f}%')\n",
    "        print()\n",
    "\n",
    "        train_loss_lst.append(train_loss)\n",
    "        train_f1_lst.append(train_f1_score)\n",
    "        test_loss_lst.append(test_loss)\n",
    "        test_f1_lst.append(test_f1_score)\n",
    "\n",
    "    return train_loss_lst, train_f1_lst, test_loss_lst, test_f1_lst\n",
    "\n",
    "# LSTM model with pre-trained Word2Vec embeddings\n",
    "class CustomLSTM(torch.nn.Module):\n",
    "    def __init__(self, word2vec_model, hidden_size, output_size, num_layers = 1, bidirectional = False, freeze_embeddings = True):\n",
    "        super(CustomLSTM, self).__init__()\n",
    "        self.embedding_dim = word2vec_model.vector_size\n",
    "        self.embedding = torch.nn.Embedding.from_pretrained(embeddings = torch.FloatTensor(word2vec_model.wv.vectors), freeze = freeze_embeddings)\n",
    "        self.lstm = torch.nn.LSTM(self.embedding_dim, hidden_size, num_layers, batch_first = True, bidirectional = bidirectional)\n",
    "        self.fc = torch.nn.Linear(hidden_size * (2 if bidirectional else 1), output_size)\n",
    "\n",
    "    def forward(self, x):\n",
    "        x = self.embedding(x)\n",
    "        output, _ = self.lstm(x)\n",
    "        output = self.fc(output[:, -1, :])  # Use the last time step's output\n",
    "        return output\n",
    "\n",
    "\n",
    "# GRU model with pre-trained Word2Vec embeddings\n",
    "class CustomGRU(torch.nn.Module):\n",
    "    def __init__(self, word2vec_model, hidden_size, output_size, num_layers = 1, bidirectional = False, freeze_embeddings = True):\n",
    "        super(CustomGRU, self).__init__()\n",
    "        self.embedding_dim = word2vec_model.vector_size\n",
    "        self.embedding = torch.nn.Embedding.from_pretrained(embeddings = torch.FloatTensor(word2vec_model.wv.vectors), freeze = freeze_embeddings)\n",
    "        self.gru = torch.nn.GRU(self.embedding_dim, hidden_size, num_layers, batch_first = True, bidirectional = bidirectional)\n",
    "        self.fc = torch.nn.Linear(hidden_size * (2 if bidirectional else 1), output_size)\n",
    "\n",
    "    def forward(self, x):\n",
    "        x = self.embedding(x)\n",
    "        output, _ = self.gru(x)\n",
    "        output = self.fc(output[:, -1, :])  # Use the last time step's output\n",
    "        return output\n",
    "    \n",
    "\n",
    "# GRU model with pre-trained Word2Vec embeddings and attention mechanism\n",
    "class CustomGRU_Attention(torch.nn.Module):\n",
    "    def __init__(self, word2vec_model, hidden_size, output_size, num_layers = 1, bidirectional = False, freeze_embeddings = True):\n",
    "        super(CustomGRU_Attention, self).__init__()\n",
    "        self.embedding_dim = word2vec_model.vector_size\n",
    "        self.embedding = torch.nn.Embedding.from_pretrained(torch.FloatTensor(word2vec_model.wv.vectors), freeze = freeze_embeddings)\n",
    "        self.gru = torch.nn.GRU(self.embedding_dim, hidden_size, num_layers, batch_first = True, bidirectional = bidirectional)\n",
    "        self.fc = torch.nn.Linear(hidden_size * (2 if bidirectional else 1), output_size)\n",
    "        self.attention = torch.nn.Linear(hidden_size * (2 if bidirectional else 1), 1)\n",
    "\n",
    "    def forward(self, x):\n",
    "        x = self.embedding(x)\n",
    "        output, _ = self.gru(x)\n",
    "        attention_weights = torch.nn.functional.softmax(self.attention(output), dim = 1)\n",
    "        output = torch.sum(attention_weights * output, dim = 1)\n",
    "        output = self.fc(output)\n",
    "        return output\n",
    "\n",
    "\n",
    "# LSTM model with pre-trained Word2Vec embeddings and attention mechanism\n",
    "class CustomLSTM_Attention(torch.nn.Module):\n",
    "    def __init__(self, word2vec_model, hidden_size, output_size, num_layers = 1, bidirectional = False, freeze_embeddings = True):\n",
    "        super(CustomLSTM_Attention, self).__init__()\n",
    "        self.embedding_dim = word2vec_model.vector_size\n",
    "        self.embedding = torch.nn.Embedding.from_pretrained(torch.FloatTensor(word2vec_model.wv.vectors), freeze = freeze_embeddings)\n",
    "        self.lstm = torch.nn.LSTM(self.embedding_dim, hidden_size, num_layers, batch_first = True, bidirectional = bidirectional)\n",
    "        self.fc = torch.nn.Linear(hidden_size * (2 if bidirectional else 1), output_size)\n",
    "        self.attention = torch.nn.Linear(hidden_size * (2 if bidirectional else 1), 1)\n",
    "\n",
    "    def forward(self, x):\n",
    "        x = self.embedding(x)\n",
    "        output, _ = self.lstm(x)\n",
    "        attention_weights = torch.nn.functional.softmax(self.attention(output), dim = 1)\n",
    "        output = torch.sum(attention_weights * output, dim = 1)\n",
    "        output = self.fc(output)\n",
    "        return output\n",
    "    \n",
    "\n",
    "# LSTM model with pre-trained Word2Vec embeddings and multi-head attention mechanism\n",
    "class CustomLSTM_MultiHeadAttention(torch.nn.Module):\n",
    "    def __init__(self, word2vec_model, hidden_size, output_size, dropout=0.1, num_layers=1, bidirectional=False, freeze_embeddings=True, num_heads=8):\n",
    "        super(CustomLSTM_MultiHeadAttention, self).__init__()\n",
    "\n",
    "        # Word embedding layer\n",
    "        self.embedding_dim = word2vec_model.vector_size\n",
    "        self.embedding = torch.nn.Embedding.from_pretrained(torch.FloatTensor(word2vec_model.wv.vectors), freeze=freeze_embeddings)\n",
    "\n",
    "        # LSTM layer\n",
    "        self.sequence_size = 50\n",
    "        self.lstm = torch.nn.LSTM(self.embedding_dim, hidden_size, num_layers, batch_first=True, bidirectional=bidirectional)\n",
    "\n",
    "        # Multi-Head Attention layer\n",
    "        self.multihead_attention = torch.nn.MultiheadAttention(embed_dim=hidden_size * (2 if bidirectional else 1), num_heads=num_heads, dropout=dropout, batch_first=True)\n",
    "\n",
    "        # Fully-connected layers for classification head\n",
    "        self.fc1 = torch.nn.Linear(hidden_size * (2 if bidirectional else 1) * self.sequence_size, hidden_size * (2 if bidirectional else 1))\n",
    "        self.fc2 = torch.nn.Linear(hidden_size * (2 if bidirectional else 1), output_size)\n",
    "        self.dropout = torch.nn.Dropout(dropout)\n",
    "        self.leaky_relu = torch.nn.LeakyReLU()\n",
    "        self.bn = torch.nn.BatchNorm1d(hidden_size * (2 if bidirectional else 1))\n",
    "        self.classification_head = torch.nn.Sequential(self.fc1, self.leaky_relu, self.bn, self.fc2)\n",
    "\n",
    "        # Initialize the weights with the kaiming uniform initialization\n",
    "        for layer in self.classification_head:\n",
    "            if isinstance(layer, torch.nn.Linear):\n",
    "                torch.nn.init.kaiming_uniform_(layer.weight, nonlinearity = 'leaky_relu')\n",
    "\n",
    "        # Initialize the weights with the kaiming uniform initialization for the multi-head attention\n",
    "        torch.nn.init.kaiming_uniform_(self.multihead_attention.in_proj_weight, nonlinearity = 'leaky_relu')\n",
    "\n",
    "        # Initialize the weights with the kaiming uniform initialization for the LSTM\n",
    "        for layer in self.lstm._all_weights:\n",
    "            for param_name in layer:\n",
    "                if 'weight' in param_name:\n",
    "                    torch.nn.init.kaiming_uniform_(getattr(self.lstm, param_name), nonlinearity = 'leaky_relu')\n",
    "\n",
    "\n",
    "    def forward(self, x):\n",
    "        # Get the embedding of each token in the sequence\n",
    "        embed = self.embedding(x)\n",
    "        # Apply LSTM to the sequence of embeddings\n",
    "        hx, cx = self.lstm(embed)\n",
    "        # Apply multihead attention and get attention weights\n",
    "        attn_output, attn_weights = self.multihead_attention(hx, hx, hx)\n",
    "        # Flatten or pool the multihead attention outputs across the sequence dimension\n",
    "        flattened_output = attn_output.reshape(attn_output.size(0), -1)\n",
    "        # Compute the logits considering the weighted values (V) of the multihead attention\n",
    "        logits = self.classification_head(flattened_output)\n",
    "\n",
    "        return logits\n",
    "\n",
    "\n",
    "class PositionalEncoding(torch.nn.Module):\n",
    "    def __init__(self, d_model, max_len=512):\n",
    "        super(PositionalEncoding, self).__init__()\n",
    "        position = torch.arange(0, max_len).unsqueeze(1).float()\n",
    "        div_term = torch.exp(torch.arange(0, d_model, 2).float() * -(torch.log(torch.tensor(10000.0)) / d_model))\n",
    "        self.positional_encoding = torch.zeros((1, max_len, d_model))\n",
    "        self.positional_encoding[0, :, 0::2] = torch.sin(position * div_term)\n",
    "        self.positional_encoding[0, :, 1::2] = torch.cos(position * div_term)\n",
    "\n",
    "    def forward(self, x):\n",
    "        return x + self.positional_encoding[:, :x.size(1), :]\n",
    "\n",
    "\n",
    "class TransformerEncoder(torch.nn.Module):\n",
    "    def __init__(self, word2vec_model, embedding_dim, num_heads, hidden_dim, num_layers, max_len=512, dropout=0.1, freeze_embeddings = True):\n",
    "        super(TransformerEncoder, self).__init__()\n",
    "\n",
    "        self.embedding = torch.nn.Embedding.from_pretrained(torch.FloatTensor(word2vec_model.wv.vectors), freeze = freeze_embeddings)\n",
    "        self.positional_encoding = PositionalEncoding(embedding_dim, max_len)\n",
    "        \n",
    "        self.transformer_encoder_layer = torch.nn.TransformerEncoderLayer(\n",
    "                                                                          d_model=embedding_dim,\n",
    "                                                                          nhead=num_heads,\n",
    "                                                                          dim_feedforward=hidden_dim,\n",
    "                                                                          dropout=dropout\n",
    "                                                                          )\n",
    "        self.transformer_encoder = torch.nn.TransformerEncoder(self.transformer_encoder_layer, num_layers)\n",
    "\n",
    "    def forward(self, x):\n",
    "        x = self.embedding(x)\n",
    "        x = self.positional_encoding(x)\n",
    "        x = x.permute(1, 0, 2)  # Change from (batch_size, seq_len, embedding_dim) to (seq_len, batch_size, embedding_dim)\n",
    "        x = self.transformer_encoder(x)\n",
    "        x = x.permute(1, 0, 2)  # Change back to (batch_size, seq_len, embedding_dim)\n",
    "        return x\n",
    "    \n",
    "\n",
    "class TransformerEncoderForClassification(torch.nn.Module):\n",
    "    def __init__(self, word2vec_model, embedding_dim, num_heads, hidden_dim, num_layers, max_len=512, dropout=0.1, freeze_embeddings = True, num_classes=1):\n",
    "        super(TransformerEncoderForClassification, self).__init__()\n",
    "\n",
    "        self.embedding_dim = embedding_dim\n",
    "        self.encoder = TransformerEncoder(word2vec_model, num_heads, hidden_dim, num_layers, max_len, dropout, freeze_embeddings)\n",
    "        \n",
    "        # Classification head\n",
    "        self.fc = torch.nn.Linear(self.embedding_dim, num_classes)\n",
    "\n",
    "    def forward(self, x):\n",
    "        encoder_output = self.encoder(x)\n",
    "        \n",
    "        # Global average pooling along the sequence dimension\n",
    "        pooled_output = torch.nn.functional.adaptive_avg_pool1d(encoder_output.permute(0, 2, 1), 1).squeeze(-1)\n",
    "        \n",
    "        # Classification head\n",
    "        logits = self.fc(pooled_output)\n",
    "\n",
    "        return logits\n",
    "    \n",
    "\n",
    "# FCNN model to be used with the TF-IDF features\n",
    "class CustomFCNN(torch.nn.Module):\n",
    "    def __init__(self, input_size, hidden_size, output_size):\n",
    "        super(CustomFCNN, self).__init__()\n",
    "        self.fc1 = torch.nn.Linear(input_size, hidden_size)\n",
    "        self.fc2 = torch.nn.Linear(hidden_size, output_size)\n",
    "\n",
    "    def forward(self, x):\n",
    "        x = torch.nn.functional.relu(self.fc1(x))\n",
    "        x = self.fc2(x)\n",
    "        return x"
   ]
  },
  {
   "cell_type": "markdown",
   "metadata": {},
   "source": [
    "## Data Loading"
   ]
  },
  {
   "cell_type": "code",
   "execution_count": 3,
   "metadata": {
    "ExecuteTime": {
     "end_time": "2023-12-21T15:27:53.432052200Z",
     "start_time": "2023-12-21T15:27:53.373916800Z"
    }
   },
   "outputs": [
    {
     "name": "stdout",
     "output_type": "stream",
     "text": [
      "Training data\n"
     ]
    },
    {
     "data": {
      "text/html": [
       "<div>\n",
       "<style scoped>\n",
       "    .dataframe tbody tr th:only-of-type {\n",
       "        vertical-align: middle;\n",
       "    }\n",
       "\n",
       "    .dataframe tbody tr th {\n",
       "        vertical-align: top;\n",
       "    }\n",
       "\n",
       "    .dataframe thead th {\n",
       "        text-align: right;\n",
       "    }\n",
       "</style>\n",
       "<table border=\"1\" class=\"dataframe\">\n",
       "  <thead>\n",
       "    <tr style=\"text-align: right;\">\n",
       "      <th></th>\n",
       "      <th>text</th>\n",
       "      <th>target</th>\n",
       "    </tr>\n",
       "  </thead>\n",
       "  <tbody>\n",
       "    <tr>\n",
       "      <th>0</th>\n",
       "      <td>Our Deeds are the Reason of this #earthquake M...</td>\n",
       "      <td>1</td>\n",
       "    </tr>\n",
       "    <tr>\n",
       "      <th>1</th>\n",
       "      <td>Forest fire near La Ronge Sask. Canada</td>\n",
       "      <td>1</td>\n",
       "    </tr>\n",
       "    <tr>\n",
       "      <th>2</th>\n",
       "      <td>All residents asked to 'shelter in place' are ...</td>\n",
       "      <td>1</td>\n",
       "    </tr>\n",
       "    <tr>\n",
       "      <th>3</th>\n",
       "      <td>13,000 people receive #wildfires evacuation or...</td>\n",
       "      <td>1</td>\n",
       "    </tr>\n",
       "    <tr>\n",
       "      <th>4</th>\n",
       "      <td>Just got sent this photo from Ruby #Alaska as ...</td>\n",
       "      <td>1</td>\n",
       "    </tr>\n",
       "  </tbody>\n",
       "</table>\n",
       "</div>"
      ],
      "text/plain": [
       "                                                text  target\n",
       "0  Our Deeds are the Reason of this #earthquake M...       1\n",
       "1             Forest fire near La Ronge Sask. Canada       1\n",
       "2  All residents asked to 'shelter in place' are ...       1\n",
       "3  13,000 people receive #wildfires evacuation or...       1\n",
       "4  Just got sent this photo from Ruby #Alaska as ...       1"
      ]
     },
     "metadata": {},
     "output_type": "display_data"
    },
    {
     "name": "stdout",
     "output_type": "stream",
     "text": [
      "\n",
      "Testing data\n"
     ]
    },
    {
     "data": {
      "text/html": [
       "<div>\n",
       "<style scoped>\n",
       "    .dataframe tbody tr th:only-of-type {\n",
       "        vertical-align: middle;\n",
       "    }\n",
       "\n",
       "    .dataframe tbody tr th {\n",
       "        vertical-align: top;\n",
       "    }\n",
       "\n",
       "    .dataframe thead th {\n",
       "        text-align: right;\n",
       "    }\n",
       "</style>\n",
       "<table border=\"1\" class=\"dataframe\">\n",
       "  <thead>\n",
       "    <tr style=\"text-align: right;\">\n",
       "      <th></th>\n",
       "      <th>text</th>\n",
       "      <th>target</th>\n",
       "    </tr>\n",
       "  </thead>\n",
       "  <tbody>\n",
       "    <tr>\n",
       "      <th>0</th>\n",
       "      <td>Just happened a terrible car crash</td>\n",
       "      <td>1</td>\n",
       "    </tr>\n",
       "    <tr>\n",
       "      <th>1</th>\n",
       "      <td>Heard about #earthquake is different cities, s...</td>\n",
       "      <td>1</td>\n",
       "    </tr>\n",
       "    <tr>\n",
       "      <th>2</th>\n",
       "      <td>there is a forest fire at spot pond, geese are...</td>\n",
       "      <td>1</td>\n",
       "    </tr>\n",
       "    <tr>\n",
       "      <th>3</th>\n",
       "      <td>Apocalypse lighting. #Spokane #wildfires</td>\n",
       "      <td>1</td>\n",
       "    </tr>\n",
       "    <tr>\n",
       "      <th>4</th>\n",
       "      <td>Typhoon Soudelor kills 28 in China and Taiwan</td>\n",
       "      <td>1</td>\n",
       "    </tr>\n",
       "  </tbody>\n",
       "</table>\n",
       "</div>"
      ],
      "text/plain": [
       "                                                text  target\n",
       "0                 Just happened a terrible car crash       1\n",
       "1  Heard about #earthquake is different cities, s...       1\n",
       "2  there is a forest fire at spot pond, geese are...       1\n",
       "3           Apocalypse lighting. #Spokane #wildfires       1\n",
       "4      Typhoon Soudelor kills 28 in China and Taiwan       1"
      ]
     },
     "metadata": {},
     "output_type": "display_data"
    }
   ],
   "source": [
    "tweets_train = pd.read_csv('../data/tweets_data/train.csv')[['text', 'target']].reset_index(drop=True)\n",
    "tweets_test = pd.read_csv('../data/tweets_data/test.csv')[['id', 'text']]\n",
    "tweets_labels = pd.read_csv('../data/tweets_data/test_labels.csv', encoding='latin-1')[['choose_one', 'text']]\n",
    "\n",
    "tweets_labels['target'] = (tweets_labels['choose_one']=='Relevant').astype(int)\n",
    "tweets_labels['id'] = tweets_labels.index\n",
    "\n",
    "tweets_test = pd.merge(left = tweets_test, right = tweets_labels, on='id', how = 'left')[['id', 'text_x', 'target']]\n",
    "tweets_test.rename(columns={'text_x': 'text'}, inplace=True)\n",
    "tweets_test = tweets_test[['text', 'target']]\n",
    "\n",
    "print('Training data')\n",
    "display(tweets_train.head())\n",
    "print()\n",
    "print('Testing data')\n",
    "display(tweets_test.head())"
   ]
  },
  {
   "cell_type": "markdown",
   "metadata": {},
   "source": [
    "# Text pre-processing"
   ]
  },
  {
   "cell_type": "markdown",
   "metadata": {},
   "source": [
    "## Cleaning text using key-words and lemmatization"
   ]
  },
  {
   "cell_type": "code",
   "execution_count": 4,
   "metadata": {
    "ExecuteTime": {
     "end_time": "2023-12-21T15:29:01.782176300Z",
     "start_time": "2023-12-21T15:27:58.466800200Z"
    }
   },
   "outputs": [],
   "source": [
    "tweets_train['clean_text'] = tweets_train['text'].apply(preprocess)\n",
    "tweets_test['clean_text'] = tweets_test['text'].apply(preprocess)"
   ]
  },
  {
   "cell_type": "code",
   "execution_count": 5,
   "metadata": {
    "ExecuteTime": {
     "end_time": "2023-12-21T15:29:01.798553700Z",
     "start_time": "2023-12-21T15:29:01.785391100Z"
    }
   },
   "outputs": [
    {
     "name": "stdout",
     "output_type": "stream",
     "text": [
      "Training data\n"
     ]
    },
    {
     "data": {
      "text/html": [
       "<div>\n",
       "<style scoped>\n",
       "    .dataframe tbody tr th:only-of-type {\n",
       "        vertical-align: middle;\n",
       "    }\n",
       "\n",
       "    .dataframe tbody tr th {\n",
       "        vertical-align: top;\n",
       "    }\n",
       "\n",
       "    .dataframe thead th {\n",
       "        text-align: right;\n",
       "    }\n",
       "</style>\n",
       "<table border=\"1\" class=\"dataframe\">\n",
       "  <thead>\n",
       "    <tr style=\"text-align: right;\">\n",
       "      <th></th>\n",
       "      <th>text</th>\n",
       "      <th>target</th>\n",
       "      <th>clean_text</th>\n",
       "    </tr>\n",
       "  </thead>\n",
       "  <tbody>\n",
       "    <tr>\n",
       "      <th>0</th>\n",
       "      <td>Our Deeds are the Reason of this #earthquake M...</td>\n",
       "      <td>1</td>\n",
       "      <td>deed reason earthquake allah forgive</td>\n",
       "    </tr>\n",
       "    <tr>\n",
       "      <th>1</th>\n",
       "      <td>Forest fire near La Ronge Sask. Canada</td>\n",
       "      <td>1</td>\n",
       "      <td>forest fire near la ronge sask canada</td>\n",
       "    </tr>\n",
       "    <tr>\n",
       "      <th>2</th>\n",
       "      <td>All residents asked to 'shelter in place' are ...</td>\n",
       "      <td>1</td>\n",
       "      <td>resident ask shelter place notify officer evac...</td>\n",
       "    </tr>\n",
       "    <tr>\n",
       "      <th>3</th>\n",
       "      <td>13,000 people receive #wildfires evacuation or...</td>\n",
       "      <td>1</td>\n",
       "      <td>people receive wildfire evacuation order cal...</td>\n",
       "    </tr>\n",
       "    <tr>\n",
       "      <th>4</th>\n",
       "      <td>Just got sent this photo from Ruby #Alaska as ...</td>\n",
       "      <td>1</td>\n",
       "      <td>got send photo ruby alaska smoke wildfire pour...</td>\n",
       "    </tr>\n",
       "  </tbody>\n",
       "</table>\n",
       "</div>"
      ],
      "text/plain": [
       "                                                text  target  \\\n",
       "0  Our Deeds are the Reason of this #earthquake M...       1   \n",
       "1             Forest fire near La Ronge Sask. Canada       1   \n",
       "2  All residents asked to 'shelter in place' are ...       1   \n",
       "3  13,000 people receive #wildfires evacuation or...       1   \n",
       "4  Just got sent this photo from Ruby #Alaska as ...       1   \n",
       "\n",
       "                                          clean_text  \n",
       "0               deed reason earthquake allah forgive  \n",
       "1              forest fire near la ronge sask canada  \n",
       "2  resident ask shelter place notify officer evac...  \n",
       "3    people receive wildfire evacuation order cal...  \n",
       "4  got send photo ruby alaska smoke wildfire pour...  "
      ]
     },
     "metadata": {},
     "output_type": "display_data"
    },
    {
     "name": "stdout",
     "output_type": "stream",
     "text": [
      "\n",
      "Testing data\n"
     ]
    },
    {
     "data": {
      "text/html": [
       "<div>\n",
       "<style scoped>\n",
       "    .dataframe tbody tr th:only-of-type {\n",
       "        vertical-align: middle;\n",
       "    }\n",
       "\n",
       "    .dataframe tbody tr th {\n",
       "        vertical-align: top;\n",
       "    }\n",
       "\n",
       "    .dataframe thead th {\n",
       "        text-align: right;\n",
       "    }\n",
       "</style>\n",
       "<table border=\"1\" class=\"dataframe\">\n",
       "  <thead>\n",
       "    <tr style=\"text-align: right;\">\n",
       "      <th></th>\n",
       "      <th>text</th>\n",
       "      <th>target</th>\n",
       "      <th>clean_text</th>\n",
       "    </tr>\n",
       "  </thead>\n",
       "  <tbody>\n",
       "    <tr>\n",
       "      <th>0</th>\n",
       "      <td>Just happened a terrible car crash</td>\n",
       "      <td>1</td>\n",
       "      <td>happen terrible car crash</td>\n",
       "    </tr>\n",
       "    <tr>\n",
       "      <th>1</th>\n",
       "      <td>Heard about #earthquake is different cities, s...</td>\n",
       "      <td>1</td>\n",
       "      <td>hear earthquake different city stay safe</td>\n",
       "    </tr>\n",
       "    <tr>\n",
       "      <th>2</th>\n",
       "      <td>there is a forest fire at spot pond, geese are...</td>\n",
       "      <td>1</td>\n",
       "      <td>forest fire spot pond goose flee street save</td>\n",
       "    </tr>\n",
       "    <tr>\n",
       "      <th>3</th>\n",
       "      <td>Apocalypse lighting. #Spokane #wildfires</td>\n",
       "      <td>1</td>\n",
       "      <td>apocalypse lighting spokane wildfire</td>\n",
       "    </tr>\n",
       "    <tr>\n",
       "      <th>4</th>\n",
       "      <td>Typhoon Soudelor kills 28 in China and Taiwan</td>\n",
       "      <td>1</td>\n",
       "      <td>typhoon soudelor kill china taiwan</td>\n",
       "    </tr>\n",
       "  </tbody>\n",
       "</table>\n",
       "</div>"
      ],
      "text/plain": [
       "                                                text  target  \\\n",
       "0                 Just happened a terrible car crash       1   \n",
       "1  Heard about #earthquake is different cities, s...       1   \n",
       "2  there is a forest fire at spot pond, geese are...       1   \n",
       "3           Apocalypse lighting. #Spokane #wildfires       1   \n",
       "4      Typhoon Soudelor kills 28 in China and Taiwan       1   \n",
       "\n",
       "                                     clean_text  \n",
       "0                     happen terrible car crash  \n",
       "1      hear earthquake different city stay safe  \n",
       "2  forest fire spot pond goose flee street save  \n",
       "3          apocalypse lighting spokane wildfire  \n",
       "4            typhoon soudelor kill china taiwan  "
      ]
     },
     "metadata": {},
     "output_type": "display_data"
    }
   ],
   "source": [
    "print('Training data')\n",
    "display(tweets_train.head())\n",
    "print()\n",
    "print('Testing data')\n",
    "display(tweets_test.head())"
   ]
  },
  {
   "cell_type": "markdown",
   "metadata": {},
   "source": [
    "## Sub-word tokenization with BERT Tokenizer for Byte-Pair Encoding "
   ]
  },
  {
   "cell_type": "code",
   "execution_count": 6,
   "metadata": {
    "ExecuteTime": {
     "end_time": "2023-12-21T15:30:29.849421800Z",
     "start_time": "2023-12-21T15:29:11.378522300Z"
    }
   },
   "outputs": [
    {
     "data": {
      "text/plain": [
       "{('e', 'r'): 'er',\n",
       " ('r', 'e'): 're',\n",
       " ('i', 'n'): 'in',\n",
       " ('a', 'n'): 'an',\n",
       " ('o', 'n'): 'on',\n",
       " ('s', 't'): 'st',\n",
       " ('a', 't'): 'at',\n",
       " ('a', 'r'): 'ar',\n",
       " ('a', 'l'): 'al',\n",
       " ('o', 'r'): 'or',\n",
       " ('e', 'n'): 'en',\n",
       " ('l', 'e'): 'le',\n",
       " ('l', 'i'): 'li',\n",
       " ('d', 'e'): 'de',\n",
       " ('i', 'c'): 'ic',\n",
       " ('s', 'e'): 'se',\n",
       " ('a', 'm'): 'am',\n",
       " ('r', 'o'): 'ro',\n",
       " ('l', 'o'): 'lo',\n",
       " ('i', 'l'): 'il',\n",
       " ('a', 'c'): 'ac',\n",
       " ('i', 't'): 'it',\n",
       " ('s', 'h'): 'sh',\n",
       " ('u', 'n'): 'un',\n",
       " ('c', 'h'): 'ch',\n",
       " ('c', 'o'): 'co',\n",
       " ('u', 'r'): 'ur',\n",
       " ('v', 'e'): 've',\n",
       " ('t', 'h'): 'th',\n",
       " ('r', 'a'): 'ra',\n",
       " ('i', 'on'): 'ion',\n",
       " ('g', 'e'): 'ge',\n",
       " ('i', 's'): 'is',\n",
       " ('m', 'e'): 'me',\n",
       " ('in', 'g'): 'ing',\n",
       " ('a', 'y'): 'ay',\n",
       " ('k', 'e'): 'ke',\n",
       " ('n', 'e'): 'ne',\n",
       " ('a', 'd'): 'ad',\n",
       " ('r', 'i'): 'ri',\n",
       " ('h', 'o'): 'ho',\n",
       " ('o', 'd'): 'od',\n",
       " ('s', 's'): 'ss',\n",
       " ('at', 'e'): 'ate',\n",
       " ('en', 't'): 'ent',\n",
       " ('e', 'l'): 'el',\n",
       " ('a', 'p'): 'ap',\n",
       " ('f', 'i'): 'fi',\n",
       " ('l', 'y'): 'ly',\n",
       " ('t', 'er'): 'ter',\n",
       " ('o', 'm'): 'om',\n",
       " ('g', 'h'): 'gh',\n",
       " ('u', 't'): 'ut',\n",
       " ('s', 'u'): 'su',\n",
       " ('m', 'a'): 'ma',\n",
       " ('l', 'a'): 'la',\n",
       " ('o', 't'): 'ot',\n",
       " ('p', 'e'): 'pe',\n",
       " ('f', 'e'): 'fe',\n",
       " ('c', 'e'): 'ce',\n",
       " ('o', 'l'): 'ol',\n",
       " ('v', 'i'): 'vi',\n",
       " ('c', 'k'): 'ck',\n",
       " ('c', 't'): 'ct',\n",
       " ('d', 'i'): 'di',\n",
       " ('g', 'o'): 'go',\n",
       " ('u', 's'): 'us',\n",
       " ('p', 'o'): 'po',\n",
       " ('h', 'e'): 'he',\n",
       " ('r', 'u'): 'ru',\n",
       " ('d', 'er'): 'der',\n",
       " ('ne', 'w'): 'new',\n",
       " ('b', 'e'): 'be',\n",
       " ('s', 'i'): 'si',\n",
       " ('at', 'ion'): 'ation',\n",
       " ('m', 'o'): 'mo',\n",
       " ('an', 'd'): 'and',\n",
       " ('o', 'w'): 'ow',\n",
       " ('a', 'st'): 'ast',\n",
       " ('gh', 't'): 'ght',\n",
       " ('fi', 're'): 'fire',\n",
       " ('i', 'r'): 'ir',\n",
       " ('w', 'e'): 'we',\n",
       " ('p', 'l'): 'pl',\n",
       " ('c', 'on'): 'con',\n",
       " ('e', 'x'): 'ex',\n",
       " ('an', 't'): 'ant',\n",
       " ('in', 'e'): 'ine',\n",
       " ('ac', 'k'): 'ack',\n",
       " ('v', 'er'): 'ver',\n",
       " ('o', 'p'): 'op',\n",
       " ('a', 'b'): 'ab',\n",
       " ('u', 'l'): 'ul',\n",
       " ('s', 'p'): 'sp',\n",
       " ('am', 'p'): 'amp',\n",
       " ('e', 'm'): 'em',\n",
       " ('s', 'c'): 'sc',\n",
       " ('h', 'i'): 'hi',\n",
       " ('st', 'or'): 'stor',\n",
       " ('i', 'd'): 'id',\n",
       " ('f', 'f'): 'ff',\n",
       " ('n', 'i'): 'ni',\n",
       " ('b', 'o'): 'bo',\n",
       " ('q', 'u'): 'qu',\n",
       " ('il', 'l'): 'ill',\n",
       " ('t', 'i'): 'ti',\n",
       " ('c', 'a'): 'ca',\n",
       " ('e', 'd'): 'ed',\n",
       " ('s', 'o'): 'so',\n",
       " ('h', 'a'): 'ha',\n",
       " ('li', 'ke'): 'like',\n",
       " ('t', 'ra'): 'tra',\n",
       " ('a', 'k'): 'ak',\n",
       " ('u', 'm'): 'um',\n",
       " ('w', 'or'): 'wor',\n",
       " ('t', 'y'): 'ty',\n",
       " ('stor', 'm'): 'storm',\n",
       " ('il', 'd'): 'ild',\n",
       " ('y', 'e'): 'ye',\n",
       " ('r', 'y'): 'ry',\n",
       " ('o', 'k'): 'ok',\n",
       " ('in', 'd'): 'ind',\n",
       " ('m', 'an'): 'man',\n",
       " ('p', 'ro'): 'pro',\n",
       " ('in', 'k'): 'ink',\n",
       " ('at', 't'): 'att',\n",
       " ('un', 'd'): 'und',\n",
       " ('it', 'y'): 'ity',\n",
       " ('a', 's'): 'as',\n",
       " ('a', 'ge'): 'age',\n",
       " ('t', 'e'): 'te',\n",
       " ('c', 'al'): 'cal',\n",
       " ('f', 'o'): 'fo',\n",
       " ('d', 'is'): 'dis',\n",
       " ('om', 'b'): 'omb',\n",
       " ('a', 'g'): 'ag',\n",
       " ('co', 'l'): 'col',\n",
       " ('p', 're'): 'pre',\n",
       " ('or', 't'): 'ort',\n",
       " ('i', 'g'): 'ig',\n",
       " ('lo', 'w'): 'low',\n",
       " ('b', 'u'): 'bu',\n",
       " ('i', 'st'): 'ist',\n",
       " ('b', 'omb'): 'bomb',\n",
       " ('en', 'd'): 'end',\n",
       " ('p', 'er'): 'per',\n",
       " ('s', 'a'): 'sa',\n",
       " ('c', 'y'): 'cy',\n",
       " ('d', 'on'): 'don',\n",
       " ('ar', 'd'): 'ard',\n",
       " ('f', 'or'): 'for',\n",
       " ('new', 's'): 'news',\n",
       " ('ac', 'e'): 'ace',\n",
       " ('on', 'e'): 'one',\n",
       " ('ur', 'n'): 'urn',\n",
       " ('at', 'h'): 'ath',\n",
       " ('u', 'p'): 'up',\n",
       " ('b', 'le'): 'ble',\n",
       " ('t', 'o'): 'to',\n",
       " ('w', 'a'): 'wa',\n",
       " ('u', 'se'): 'use',\n",
       " ('co', 'm'): 'com',\n",
       " ('ar', 't'): 'art',\n",
       " ('ro', 'w'): 'row',\n",
       " ('ic', 'e'): 'ice',\n",
       " ('t', 'on'): 'ton',\n",
       " ('d', 'ay'): 'day',\n",
       " ('lo', 'od'): 'lood',\n",
       " ('al', 'l'): 'all',\n",
       " ('n', 'a'): 'na',\n",
       " ('sh', 'i'): 'shi',\n",
       " ('m', 'ent'): 'ment',\n",
       " ('o', 'ut'): 'out',\n",
       " ('u', 're'): 'ure',\n",
       " ('o', 'b'): 'ob',\n",
       " ('ac', 't'): 'act',\n",
       " ('a', 're'): 'are',\n",
       " ('u', 'e'): 'ue',\n",
       " ('c', 'i'): 'ci',\n",
       " ('c', 'ra'): 'cra',\n",
       " ('ge', 't'): 'get',\n",
       " ('el', 'l'): 'ell',\n",
       " ('s', 'on'): 'son',\n",
       " ('g', 'en'): 'gen',\n",
       " ('t', 'a'): 'ta',\n",
       " ('m', 'i'): 'mi',\n",
       " ('e', 't'): 'et',\n",
       " ('s', 'ur'): 'sur',\n",
       " ('m', 'ar'): 'mar',\n",
       " ('p', 'h'): 'ph',\n",
       " ('w', 'ar'): 'war',\n",
       " ('i', 'm'): 'im',\n",
       " ('ti', 'me'): 'time',\n",
       " ('n', 'ow'): 'now',\n",
       " ('a', 'il'): 'ail',\n",
       " ('ic', 'i'): 'ici',\n",
       " ('u', 'st'): 'ust',\n",
       " ('al', 'ly'): 'ally',\n",
       " ('w', 'at'): 'wat',\n",
       " ('b', 're'): 'bre',\n",
       " ('l', 'and'): 'land',\n",
       " ('e', 'v'): 'ev',\n",
       " ('an', 'e'): 'ane',\n",
       " ('po', 'li'): 'poli',\n",
       " ('b', 'l'): 'bl',\n",
       " ('z', 'e'): 'ze',\n",
       " ('f', 'u'): 'fu',\n",
       " ('b', 'er'): 'ber',\n",
       " ('r', 'or'): 'ror',\n",
       " ('ic', 'k'): 'ick',\n",
       " ('a', 'ir'): 'air',\n",
       " ('o', 'ff'): 'off',\n",
       " ('pe', 'op'): 'peop',\n",
       " ('peop', 'le'): 'people',\n",
       " ('b', 'r'): 'br',\n",
       " ('k', 'ill'): 'kill',\n",
       " ('re', 'd'): 'red',\n",
       " ('l', 'd'): 'ld',\n",
       " ('i', 'an'): 'ian',\n",
       " ('a', 'v'): 'av',\n",
       " ('am', 'e'): 'ame',\n",
       " ('ar', 'y'): 'ary',\n",
       " ('w', 'ay'): 'way',\n",
       " ('it', 'e'): 'ite',\n",
       " ('b', 'urn'): 'burn',\n",
       " ('c', 'ar'): 'car',\n",
       " ('u', 'd'): 'ud',\n",
       " ('ow', 'n'): 'own',\n",
       " ('g', 'er'): 'ger',\n",
       " ('d', 'o'): 'do',\n",
       " ('vi', 'de'): 'vide',\n",
       " ('p', 'ort'): 'port',\n",
       " ('m', 'on'): 'mon',\n",
       " ('g', 're'): 'gre',\n",
       " ('an', 'ce'): 'ance',\n",
       " ('f', 'am'): 'fam',\n",
       " ('p', 'an'): 'pan',\n",
       " ('co', 'me'): 'come',\n",
       " ('vide', 'o'): 'video',\n",
       " ('c', 'le'): 'cle',\n",
       " ('i', 'o'): 'io',\n",
       " ('s', 'er'): 'ser',\n",
       " ('i', 've'): 'ive',\n",
       " ('i', 'e'): 'ie',\n",
       " ('m', 'in'): 'min',\n",
       " ('ye', 'ar'): 'year',\n",
       " ('n', 'o'): 'no',\n",
       " ('ast', 'er'): 'aster',\n",
       " ('li', 't'): 'lit',\n",
       " ('li', 'ght'): 'light',\n",
       " ('le', 't'): 'let',\n",
       " ('ar', 'm'): 'arm',\n",
       " ('f', 'lood'): 'flood',\n",
       " ('b', 'od'): 'bod',\n",
       " ('w', 'o'): 'wo',\n",
       " ('ho', 'me'): 'home',\n",
       " ('p', 'ho'): 'pho',\n",
       " ('bre', 'ak'): 'break',\n",
       " ('lo', 've'): 'love',\n",
       " ('i', 'a'): 'ia',\n",
       " ('bod', 'y'): 'body',\n",
       " ('em', 'er'): 'emer',\n",
       " ('cra', 'sh'): 'crash',\n",
       " ('am', 'a'): 'ama',\n",
       " ('ter', 'ror'): 'terror',\n",
       " ('e', 'p'): 'ep',\n",
       " ('ex', 'p'): 'exp',\n",
       " ('a', 'u'): 'au',\n",
       " ('ut', 'e'): 'ute',\n",
       " ('in', 'j'): 'inj',\n",
       " ('dis', 'aster'): 'disaster',\n",
       " ('li', 'de'): 'lide',\n",
       " ('c', 'l'): 'cl',\n",
       " ('bu', 'ild'): 'build',\n",
       " ('re', 'am'): 'ream',\n",
       " ('emer', 'gen'): 'emergen',\n",
       " ('sh', 'o'): 'sho',\n",
       " ('emergen', 'cy'): 'emergency',\n",
       " ('lo', 'ok'): 'look',\n",
       " ('f', 'at'): 'fat',\n",
       " ('att', 'ack'): 'attack',\n",
       " ('wor', 'k'): 'work',\n",
       " ('re', 'n'): 'ren',\n",
       " ('de', 'st'): 'dest',\n",
       " ('a', 'f'): 'af',\n",
       " ('s', 'pe'): 'spe',\n",
       " ('t', 'ro'): 'tro',\n",
       " ('t', 'ru'): 'tru',\n",
       " ('l', 'l'): 'll',\n",
       " ('f', 'l'): 'fl',\n",
       " ('il', 'y'): 'ily',\n",
       " ('w', 'ind'): 'wind',\n",
       " ('b', 'ag'): 'bag',\n",
       " ('t', 'r'): 'tr',\n",
       " ('go', 'od'): 'good',\n",
       " ('a', 'ss'): 'ass',\n",
       " ('un', 'der'): 'under',\n",
       " ('a', 'se'): 'ase',\n",
       " ('j', 'o'): 'jo',\n",
       " ('ch', 'e'): 'che',\n",
       " ('n', 'or'): 'nor',\n",
       " ('un', 't'): 'unt',\n",
       " ('c', 're'): 'cre',\n",
       " ('li', 'fe'): 'life',\n",
       " ('c', 'at'): 'cat',\n",
       " ('wor', 'ld'): 'world',\n",
       " ('w', 're'): 'wre',\n",
       " ('ap', 'p'): 'app',\n",
       " ('k', 'now'): 'know',\n",
       " ('poli', 'ce'): 'police',\n",
       " ('fat', 'al'): 'fatal',\n",
       " ('n', 'u'): 'nu',\n",
       " ('wre', 'ck'): 'wreck',\n",
       " ('o', 'o'): 'oo',\n",
       " ('r', 'ic'): 'ric',\n",
       " ('g', 'u'): 'gu',\n",
       " ('de', 'l'): 'del',\n",
       " ('s', 'ion'): 'sion',\n",
       " ('pl', 'ay'): 'play',\n",
       " ('row', 'n'): 'rown',\n",
       " ('w', 'ild'): 'wild',\n",
       " ('i', 're'): 'ire',\n",
       " ('th', 'e'): 'the',\n",
       " ('t', 'w'): 'tw',\n",
       " ('c', 'an'): 'can',\n",
       " ('on', 'g'): 'ong',\n",
       " ('ct', 'ion'): 'ction',\n",
       " ('e', 'k'): 'ek',\n",
       " ('ac', 'c'): 'acc',\n",
       " ('exp', 'lo'): 'explo',\n",
       " ('t', 'od'): 'tod',\n",
       " ('th', 'er'): 'ther',\n",
       " ('n', 'ing'): 'ning',\n",
       " ('ev', 'ac'): 'evac',\n",
       " ('cal', 'i'): 'cali',\n",
       " ('r', 't'): 'rt',\n",
       " ('le', 'g'): 'leg',\n",
       " ('wat', 'ch'): 'watch',\n",
       " ('sur', 'vi'): 'survi',\n",
       " ('s', 'ink'): 'sink',\n",
       " ('re', 'sc'): 'resc',\n",
       " ('e', 'ar'): 'ear',\n",
       " ('evac', 'u'): 'evacu',\n",
       " ('build', 'ing'): 'building',\n",
       " ('tra', 'in'): 'train',\n",
       " ('th', 'ink'): 'think',\n",
       " ('fam', 'ily'): 'family',\n",
       " ('f', 't'): 'ft',\n",
       " ('is', 'm'): 'ism',\n",
       " ('re', 'e'): 'ree',\n",
       " ('m', 'er'): 'mer',\n",
       " ('an', 'k'): 'ank',\n",
       " ('ni', 'a'): 'nia',\n",
       " ('an', 'ge'): 'ange',\n",
       " ('ra', 'in'): 'rain',\n",
       " ('id', 'ent'): 'ident',\n",
       " ('st', 'er'): 'ster',\n",
       " ('cle', 'ar'): 'clear',\n",
       " ('re', 'st'): 'rest',\n",
       " ('cali', 'for'): 'califor',\n",
       " ('ma', 'ss'): 'mass',\n",
       " ('h', 'el'): 'hel',\n",
       " ('c', 'ur'): 'cur',\n",
       " ('j', 'e'): 'je',\n",
       " ('en', 'ce'): 'ence',\n",
       " ('col', 'l'): 'coll',\n",
       " ('ol', 'd'): 'old',\n",
       " ('d', 'it'): 'dit',\n",
       " ('califor', 'nia'): 'california',\n",
       " ('li', 've'): 'live',\n",
       " ('in', 't'): 'int',\n",
       " ('w', 'ant'): 'want',\n",
       " ('p', 'ar'): 'par',\n",
       " ('e', 'st'): 'est',\n",
       " ('j', 'ack'): 'jack',\n",
       " ('ici', 'de'): 'icide',\n",
       " ('s', 'ay'): 'say',\n",
       " ('su', 'icide'): 'suicide',\n",
       " ('o', 'us'): 'ous',\n",
       " ('vi', 'e'): 'vie',\n",
       " ('ap', 'se'): 'apse',\n",
       " ('sc', 'ream'): 'scream',\n",
       " ('r', 'un'): 'run',\n",
       " ('de', 'ath'): 'death',\n",
       " ('w', 'h'): 'wh',\n",
       " ('shi', 'ma'): 'shima',\n",
       " ('e', 'le'): 'ele',\n",
       " ('g', 'a'): 'ga',\n",
       " ('u', 'be'): 'ube',\n",
       " ('coll', 'apse'): 'collapse',\n",
       " ('li', 'ter'): 'liter',\n",
       " ('d', 'am'): 'dam',\n",
       " ('in', 'ter'): 'inter',\n",
       " ('der', 'ail'): 'derail',\n",
       " ('de', 'ad'): 'dead',\n",
       " ('ac', 'h'): 'ach',\n",
       " ('p', 'm'): 'pm',\n",
       " ('c', 'li'): 'cli',\n",
       " ('h', 'or'): 'hor',\n",
       " ('b', 'an'): 'ban',\n",
       " ('l', 't'): 'lt',\n",
       " ('f', 'ul'): 'ful',\n",
       " ('ro', 'y'): 'roy',\n",
       " ('ir', 'l'): 'irl',\n",
       " ('s', 'ol'): 'sol',\n",
       " ('c', 'r'): 'cr',\n",
       " ('b', 'la'): 'bla',\n",
       " ('l', 'ine'): 'line',\n",
       " ('ch', 'ar'): 'char',\n",
       " ('m', 'is'): 'mis',\n",
       " ('s', 'w'): 'sw',\n",
       " ('de', 'mo'): 'demo',\n",
       " ('pl', 'an'): 'plan',\n",
       " ('fe', 'el'): 'feel',\n",
       " ('s', 'ch'): 'sch',\n",
       " ('a', 'h'): 'ah',\n",
       " ('z', 'ard'): 'zard',\n",
       " ('ne', 'ar'): 'near',\n",
       " ('se', 't'): 'set',\n",
       " ('acc', 'ident'): 'accident',\n",
       " ('ur', 'y'): 'ury',\n",
       " ('re', 'ad'): 'read',\n",
       " ('me', 'm'): 'mem',\n",
       " ('a', 'ke'): 'ake',\n",
       " ('ca', 'use'): 'cause',\n",
       " ('g', 't'): 'gt',\n",
       " ('tod', 'ay'): 'today',\n",
       " ('ne', 'ed'): 'need',\n",
       " ('con', 't'): 'cont',\n",
       " ('nu', 'clear'): 'nuclear',\n",
       " ('fe', 'ct'): 'fect',\n",
       " ('he', 'ad'): 'head',\n",
       " ('th', 'under'): 'thunder',\n",
       " ('di', 'e'): 'die',\n",
       " ('ic', 'al'): 'ical',\n",
       " ('am', 'er'): 'amer',\n",
       " ('d', 'own'): 'down',\n",
       " ('w', 'om'): 'wom',\n",
       " ('m', 'p'): 'mp',\n",
       " ('n', 'ot'): 'not',\n",
       " ('b', 'us'): 'bus',\n",
       " ('m', 'ur'): 'mur',\n",
       " ('d', 'rown'): 'drown',\n",
       " ('ath', 'er'): 'ather',\n",
       " ('b', 'ig'): 'big',\n",
       " ('y', 'out'): 'yout',\n",
       " ('de', 'v'): 'dev',\n",
       " ('n', 'y'): 'ny',\n",
       " ('ri', 'ght'): 'right',\n",
       " ('al', 'k'): 'alk',\n",
       " ('fu', 'ck'): 'fuck',\n",
       " ('shi', 'p'): 'ship',\n",
       " ('dest', 'roy'): 'destroy',\n",
       " ('d', 'an'): 'dan',\n",
       " ('ke', 't'): 'ket',\n",
       " ('a', 've'): 'ave',\n",
       " ('g', 'n'): 'gn',\n",
       " ('yout', 'ube'): 'youtube',\n",
       " ('s', 'en'): 'sen',\n",
       " ('m', 'al'): 'mal',\n",
       " ('de', 'ton'): 'deton',\n",
       " ('b', 'ad'): 'bad',\n",
       " ('f', 'all'): 'fall',\n",
       " ('c', 'la'): 'cla',\n",
       " ('y', 'o'): 'yo',\n",
       " ('b', 'low'): 'blow',\n",
       " ('hi', 'ro'): 'hiro',\n",
       " ('c', 'ru'): 'cru',\n",
       " ('p', 'u'): 'pu',\n",
       " ('l', 'ate'): 'late',\n",
       " ('s', 'k'): 'sk',\n",
       " ('g', 'r'): 'gr',\n",
       " ('hiro', 'shima'): 'hiroshima',\n",
       " ('hi', 'jack'): 'hijack',\n",
       " ('i', 'sh'): 'ish',\n",
       " ('b', 'lood'): 'blood',\n",
       " ('li', 'e'): 'lie',\n",
       " ('m', 'h'): 'mh',\n",
       " ('ser', 'v'): 'serv',\n",
       " ('m', 'at'): 'mat',\n",
       " ('pl', 'ace'): 'place',\n",
       " ('st', 'e'): 'ste',\n",
       " ('d', 'r'): 'dr',\n",
       " ('b', 'ro'): 'bro',\n",
       " ('hel', 'p'): 'help',\n",
       " ('su', 'e'): 'sue',\n",
       " ('ap', 'on'): 'apon',\n",
       " ('ho', 'st'): 'host',\n",
       " ('ho', 't'): 'hot',\n",
       " ('fe', 'ar'): 'fear',\n",
       " ('an', 'ni'): 'anni',\n",
       " ('we', 'apon'): 'weapon',\n",
       " ('resc', 'ue'): 'rescue',\n",
       " ('ob', 'liter'): 'obliter',\n",
       " ('pho', 'to'): 'photo',\n",
       " ('h', 'app'): 'happ',\n",
       " ('bl', 'ack'): 'black',\n",
       " ('c', 'ent'): 'cent',\n",
       " ('se', 'e'): 'see',\n",
       " ('mur', 'der'): 'murder',\n",
       " ('b', 'c'): 'bc',\n",
       " ('d', 'u'): 'du',\n",
       " ('re', 'al'): 'real',\n",
       " ('ur', 'al'): 'ural',\n",
       " ('f', 'in'): 'fin',\n",
       " ('p', 'i'): 'pi',\n",
       " ('ele', 'ct'): 'elect',\n",
       " ('fi', 'r'): 'fir',\n",
       " ('lo', 'se'): 'lose',\n",
       " ('u', 'ge'): 'uge',\n",
       " ('inj', 'ury'): 'injury',\n",
       " ('re', 'port'): 'report',\n",
       " ('en', 'g'): 'eng',\n",
       " ('p', 'at'): 'pat',\n",
       " ('st', 're'): 'stre',\n",
       " ('qu', 'ar'): 'quar',\n",
       " ('t', 'or'): 'tor',\n",
       " ('ab', 'le'): 'able',\n",
       " ('ch', 'ange'): 'change',\n",
       " ('j', 'ap'): 'jap',\n",
       " ('ri', 'ot'): 'riot',\n",
       " ('s', 'lide'): 'slide',\n",
       " ('b', 'y'): 'by',\n",
       " ('ri', 'd'): 'rid',\n",
       " ('f', 'ind'): 'find',\n",
       " ('serv', 'ice'): 'service',\n",
       " ('sp', 'on'): 'spon',\n",
       " ('s', 'y'): 'sy',\n",
       " ('l', 'ong'): 'long',\n",
       " ('wat', 'er'): 'water',\n",
       " ('wild', 'fire'): 'wildfire',\n",
       " ('so', 'u'): 'sou',\n",
       " ('f', 'ri'): 'fri',\n",
       " ('c', 'ity'): 'city',\n",
       " ('d', 'y'): 'dy',\n",
       " ('dev', 'ast'): 'devast',\n",
       " ('d', 'ate'): 'date',\n",
       " ('ro', 'ss'): 'ross',\n",
       " ('p', 't'): 'pt',\n",
       " ('lo', 't'): 'lot',\n",
       " ('n', 'at'): 'nat',\n",
       " ('qu', 'e'): 'que',\n",
       " ('m', 'us'): 'mus',\n",
       " ('survi', 've'): 'survive',\n",
       " ('c', 'ute'): 'cute',\n",
       " ('wo', 'und'): 'wound',\n",
       " ('ca', 're'): 'care',\n",
       " ('g', 'od'): 'god',\n",
       " ('th', 'ing'): 'thing',\n",
       " ('g', 'in'): 'gin',\n",
       " ('e', 'ye'): 'eye',\n",
       " ('stor', 'y'): 'story',\n",
       " ('b', 'ab'): 'bab',\n",
       " ('lo', 'l'): 'lol',\n",
       " ('g', 'ro'): 'gro',\n",
       " ('con', 'fir'): 'confir',\n",
       " ('he', 'ar'): 'hear',\n",
       " ('sa', 've'): 'save',\n",
       " ('c', 'er'): 'cer',\n",
       " ('mis', 's'): 'miss',\n",
       " ('p', 'le'): 'ple',\n",
       " ('li', 'sh'): 'lish',\n",
       " ('explo', 'de'): 'explode',\n",
       " ('ha', 'zard'): 'hazard',\n",
       " ('wa', 've'): 'wave',\n",
       " ('b', 'ar'): 'bar',\n",
       " ('v', 'ol'): 'vol',\n",
       " ('ne', 'ss'): 'ness',\n",
       " ('evacu', 'ate'): 'evacuate',\n",
       " ('or', 'd'): 'ord',\n",
       " ('s', 'un'): 'sun',\n",
       " ('st', 'ate'): 'state',\n",
       " ('d', 'ri'): 'dri',\n",
       " ('f', 'ace'): 'face',\n",
       " ('ast', 'ro'): 'astro',\n",
       " ('wom', 'an'): 'woman',\n",
       " ('d', 'ro'): 'dro',\n",
       " ('col', 'lide'): 'collide',\n",
       " ('su', 'al'): 'sual',\n",
       " ('fatal', 'ity'): 'fatality',\n",
       " ('t', 'ry'): 'try',\n",
       " ('gre', 'at'): 'great',\n",
       " ('i', 'se'): 'ise',\n",
       " ('st', 'and'): 'stand',\n",
       " ('pl', 'ane'): 'plane',\n",
       " ('re', 'spon'): 'respon',\n",
       " ('arm', 'y'): 'army',\n",
       " ('st', 'ru'): 'stru',\n",
       " ('pan', 'ic'): 'panic',\n",
       " ('ve', 'st'): 'vest',\n",
       " ('ear', 'th'): 'earth',\n",
       " ('o', 'ol'): 'ool',\n",
       " ('m', 'y'): 'my',\n",
       " ('dam', 'age'): 'damage',\n",
       " ('st', 'op'): 'stop',\n",
       " ('ho', 'use'): 'house',\n",
       " ('or', 'y'): 'ory',\n",
       " ('si', 'gn'): 'sign',\n",
       " ('mi', 'lit'): 'milit',\n",
       " ('bomb', 'ing'): 'bombing',\n",
       " ('att', 'le'): 'attle',\n",
       " ('b', 'io'): 'bio',\n",
       " ('host', 'age'): 'hostage',\n",
       " ('ant', 'ine'): 'antine',\n",
       " ('g', 'irl'): 'girl',\n",
       " ('ni', 'ght'): 'night',\n",
       " ('th', 'ank'): 'thank',\n",
       " ('ta', 'ke'): 'take',\n",
       " ('li', 'st'): 'list',\n",
       " ('v', 'il'): 'vil',\n",
       " ('ma', 'ge'): 'mage',\n",
       " ('f', 'a'): 'fa',\n",
       " ('p', 'r'): 'pr',\n",
       " ('bo', 'y'): 'boy',\n",
       " ('quar', 'antine'): 'quarantine',\n",
       " ('fo', 'rest'): 'forest',\n",
       " ('sch', 'ool'): 'school',\n",
       " ('ad', 'o'): 'ado',\n",
       " ('s', 'al'): 'sal',\n",
       " ('le', 'ave'): 'leave',\n",
       " ('v', 'o'): 'vo',\n",
       " ('i', 'ght'): 'ight',\n",
       " ('om', 'ic'): 'omic',\n",
       " ('in', 'di'): 'indi',\n",
       " ('ther', 'n'): 'thern',\n",
       " ('cat', 'astro'): 'catastro',\n",
       " ('b', 'li'): 'bli',\n",
       " ('g', 'ra'): 'gra',\n",
       " ('a', 'in'): 'ain',\n",
       " ('f', 'ree'): 'free',\n",
       " ('hi', 'gh'): 'high',\n",
       " ('i', 'i'): 'ii',\n",
       " ('c', 'ap'): 'cap',\n",
       " ('re', 'fu'): 'refu',\n",
       " ('cru', 'sh'): 'crush',\n",
       " ('f', 'r'): 'fr',\n",
       " ('spe', 'ct'): 'spect',\n",
       " ('h', 'it'): 'hit',\n",
       " ('leg', 'ion'): 'legion',\n",
       " ('s', 'n'): 'sn',\n",
       " ('ho', 'pe'): 'hope',\n",
       " ('terror', 'ism'): 'terrorism',\n",
       " ('ca', 'sual'): 'casual',\n",
       " ('co', 'unt'): 'count',\n",
       " ('su', 'm'): 'sum',\n",
       " ('ic', 'a'): 'ica',\n",
       " ('g', 'un'): 'gun',\n",
       " ('le', 'y'): 'ley',\n",
       " ('w', 'in'): 'win',\n",
       " ('ha', 'il'): 'hail',\n",
       " ('in', 'vest'): 'invest',\n",
       " ('ci', 'al'): 'cial',\n",
       " ('l', 'ad'): 'lad',\n",
       " ('st', 'art'): 'start',\n",
       " ('ob', 'ama'): 'obama',\n",
       " ('elect', 'ro'): 'electro',\n",
       " ('s', 'mo'): 'smo',\n",
       " ('he', 'av'): 'heav',\n",
       " ('si', 'de'): 'side',\n",
       " ('d', 'a'): 'da',\n",
       " ('g', 'ame'): 'game',\n",
       " ('t', 'le'): 'tle',\n",
       " ('b', 'ul'): 'bul',\n",
       " ('h', 'il'): 'hil',\n",
       " ('po', 'st'): 'post',\n",
       " ('st', 'r'): 'str',\n",
       " ('f', 'er'): 'fer',\n",
       " ('casual', 'ty'): 'casualty',\n",
       " ('deton', 'ate'): 'detonate',\n",
       " ('n', 'er'): 'ner',\n",
       " ('k', 'id'): 'kid',\n",
       " ('b', 'ay'): 'bay',\n",
       " ('d', 'n'): 'dn',\n",
       " ('t', 'urn'): 'turn',\n",
       " ('ro', 'ad'): 'road',\n",
       " ('off', 'ici'): 'offici',\n",
       " ('lo', 'g'): 'log',\n",
       " ('gh', 'ter'): 'ghter',\n",
       " ('ar', 'ch'): 'arch',\n",
       " ('sh', 'it'): 'shit',\n",
       " ('we', 'ek'): 'week',\n",
       " ('in', 'a'): 'ina',\n",
       " ('y', 'a'): 'ya',\n",
       " ('w', 'er'): 'wer',\n",
       " ('t', 'ri'): 'tri',\n",
       " ('ot', 'e'): 'ote',\n",
       " ('nor', 'thern'): 'northern',\n",
       " ('s', 'it'): 'sit',\n",
       " ('fl', 'ame'): 'flame',\n",
       " ('h', 'ur'): 'hur',\n",
       " ('del', 'uge'): 'deluge',\n",
       " ('co', 'p'): 'cop',\n",
       " ('f', 'ol'): 'fol',\n",
       " ('ta', 'in'): 'tain',\n",
       " ('w', 'ell'): 'well',\n",
       " ('ve', 'l'): 'vel',\n",
       " ('w', 'r'): 'wr',\n",
       " ('f', 'an'): 'fan',\n",
       " ('we', 'ather'): 'weather',\n",
       " ('h', 'and'): 'hand',\n",
       " ('se', 'l'): 'sel',\n",
       " ('au', 'g'): 'aug',\n",
       " ('lo', 'ud'): 'loud',\n",
       " ('ist', 'er'): 'ister',\n",
       " ('confir', 'm'): 'confirm',\n",
       " ('legion', 'na'): 'legionna',\n",
       " ('demo', 'lish'): 'demolish',\n",
       " ('electro', 'cute'): 'electrocute',\n",
       " ('red', 'dit'): 'reddit',\n",
       " ('m', 'ay'): 'may',\n",
       " ('c', 'ross'): 'cross',\n",
       " ('le', 'ad'): 'lead',\n",
       " ('e', 'f'): 'ef',\n",
       " ('re', 'le'): 'rele',\n",
       " ('invest', 'ig'): 'investig',\n",
       " ('legionna', 'ire'): 'legionnaire',\n",
       " ('are', 'a'): 'area',\n",
       " ('rid', 'ge'): 'ridge',\n",
       " ('su', 're'): 'sure',\n",
       " ('u', 'ght'): 'ught',\n",
       " ('si', 'ren'): 'siren',\n",
       " ('s', 'm'): 'sm',\n",
       " ('p', 'ick'): 'pick',\n",
       " ('h', 'ell'): 'hell',\n",
       " ('n', 'ation'): 'nation',\n",
       " ('st', 'ar'): 'star',\n",
       " ('v', 'a'): 'va',\n",
       " ('w', 'it'): 'wit',\n",
       " ('pre', 'ss'): 'press',\n",
       " ('jap', 'an'): 'japan',\n",
       " ('co', 'ver'): 'cover',\n",
       " ('mal', 'ay'): 'malay',\n",
       " ('bomb', 'er'): 'bomber',\n",
       " ('sum', 'mer'): 'summer',\n",
       " ('v', 'al'): 'val',\n",
       " ('u', 'g'): 'ug',\n",
       " ('p', 'are'): 'pare',\n",
       " ('is', 'is'): 'isis',\n",
       " ('so', 'und'): 'sound',\n",
       " ('rele', 'ase'): 'release',\n",
       " ('at', 'omic'): 'atomic',\n",
       " ('st', 'o'): 'sto',\n",
       " ('si', 'a'): 'sia',\n",
       " ('de', 'sol'): 'desol',\n",
       " ('obliter', 'ate'): 'obliterate',\n",
       " ('f', 'la'): 'fla',\n",
       " ('fri', 'end'): 'friend',\n",
       " ('is', 'sue'): 'issue',\n",
       " ('mem', 'ber'): 'member',\n",
       " ('i', 'z'): 'iz',\n",
       " ('s', 'or'): 'sor',\n",
       " ('an', 'g'): 'ang',\n",
       " ('p', 'he'): 'phe',\n",
       " ('t', 'own'): 'town',\n",
       " ('qu', 'ake'): 'quake',\n",
       " ('co', 'un'): 'coun',\n",
       " ('fol', 'low'): 'follow',\n",
       " ('tru', 'ck'): 'truck',\n",
       " ('offici', 'al'): 'official',\n",
       " ('a', 'ut'): 'aut',\n",
       " ('t', 'om'): 'tom',\n",
       " ('al', 'low'): 'allow',\n",
       " ('inj', 'ure'): 'injure',\n",
       " ('b', 'attle'): 'battle',\n",
       " ('m', 'ad'): 'mad',\n",
       " ('at', 'or'): 'ator',\n",
       " ('ty', 'pho'): 'typho',\n",
       " ('typho', 'on'): 'typhoon',\n",
       " ('lo', 'ck'): 'lock',\n",
       " ('h', 'al'): 'hal',\n",
       " ('er', 'o'): 'ero',\n",
       " ('f', 're'): 'fre',\n",
       " ('fi', 'ght'): 'fight',\n",
       " ('fo', 'od'): 'food',\n",
       " ('f', 'un'): 'fun',\n",
       " ('ch', 'ild'): 'child',\n",
       " ('mo', 'vie'): 'movie',\n",
       " ('sp', 'ort'): 'sport',\n",
       " ('bla', 'ze'): 'blaze',\n",
       " ('h', 'ar'): 'har',\n",
       " ('m', 'or'): 'mor',\n",
       " ('cont', 'ent'): 'content',\n",
       " ('up', 'date'): 'update',\n",
       " ('ho', 'le'): 'hole',\n",
       " ('sho', 'ot'): 'shoot',\n",
       " ('il', 'li'): 'illi',\n",
       " ('re', 'at'): 'reat',\n",
       " ('b', 'it'): 'bit',\n",
       " ('me', 'd'): 'med',\n",
       " ('p', 'ri'): 'pri',\n",
       " ('b', 'all'): 'ball',\n",
       " ('ir', 'an'): 'iran',\n",
       " ('vie', 'w'): 'view',\n",
       " ('i', 'de'): 'ide',\n",
       " ('f', 'ail'): 'fail',\n",
       " ('i', 'al'): 'ial',\n",
       " ('o', 'il'): 'oil',\n",
       " ('thunder', 'storm'): 'thunderstorm',\n",
       " ('happ', 'en'): 'happen',\n",
       " ('ar', 'son'): 'arson',\n",
       " ('he', 'art'): 'heart',\n",
       " ('bo', 'ok'): 'book',\n",
       " ('ma', 'ke'): 'make',\n",
       " ('je', 'ct'): 'ject',\n",
       " ('anni', 'hil'): 'annihil',\n",
       " ('d', 'en'): 'den',\n",
       " ('o', 'f'): 'of',\n",
       " ('le', 'ss'): 'less',\n",
       " ('w', 'an'): 'wan',\n",
       " ('p', 'ic'): 'pic',\n",
       " ('as', 'on'): 'ason',\n",
       " ('ro', 'ck'): 'rock',\n",
       " ('m', 'ic'): 'mic',\n",
       " ('br', 'is'): 'bris',\n",
       " ('l', 'am'): 'lam',\n",
       " ('ri', 'st'): 'rist',\n",
       " ('ap', 'e'): 'ape',\n",
       " ('char', 'ge'): 'charge',\n",
       " ('co', 'ur'): 'cour',\n",
       " ('st', 'ri'): 'stri',\n",
       " ('che', 'ck'): 'check',\n",
       " ('j', 'ob'): 'job',\n",
       " ('ex', 't'): 'ext',\n",
       " ('p', 'ass'): 'pass',\n",
       " ('we', 'et'): 'weet',\n",
       " ('p', 'al'): 'pal',\n",
       " ('po', 'wer'): 'power',\n",
       " ('r', 'ant'): 'rant',\n",
       " ('earth', 'quake'): 'earthquake',\n",
       " ('evacu', 'ation'): 'evacuation',\n",
       " ('t', 'ur'): 'tur',\n",
       " ('s', 'and'): 'sand',\n",
       " ('lit', 'tle'): 'little',\n",
       " ('ph', 'one'): 'phone',\n",
       " ('l', 'u'): 'lu',\n",
       " ('milit', 'ary'): 'military',\n",
       " ('i', 'um'): 'ium',\n",
       " ('de', 'al'): 'deal',\n",
       " ('al', 'th'): 'alth',\n",
       " ('s', 'end'): 'send',\n",
       " ('smo', 'ke'): 'smoke',\n",
       " ('a', 'a'): 'aa',\n",
       " ('m', 'om'): 'mom',\n",
       " ('t', 'ell'): 'tell',\n",
       " ('su', 'p'): 'sup',\n",
       " ('gu', 'y'): 'guy',\n",
       " ('p', 'ra'): 'pra',\n",
       " ('an', 's'): 'ans',\n",
       " ('r', 'al'): 'ral',\n",
       " ('h', 'um'): 'hum',\n",
       " ('o', 'h'): 'oh',\n",
       " ('ine', 'ss'): 'iness',\n",
       " ('ne', 't'): 'net',\n",
       " ('com', 'm'): 'comm',\n",
       " ('se', 'arch'): 'search',\n",
       " ('ric', 'ane'): 'ricane',\n",
       " ('stru', 'ct'): 'struct',\n",
       " ('m', 'ig'): 'mig',\n",
       " ('as', 'k'): 'ask',\n",
       " ('or', 'der'): 'order',\n",
       " ('wo', 'od'): 'wood',\n",
       " ('it', 'ion'): 'ition',\n",
       " ('u', 'ble'): 'uble',\n",
       " ('ist', 'an'): 'istan',\n",
       " ('w', 's'): 'ws',\n",
       " ('ap', 'o'): 'apo',\n",
       " ('am', 'i'): 'ami',\n",
       " ('se', 'a'): 'sea',\n",
       " ('malay', 'sia'): 'malaysia',\n",
       " ('g', 'ive'): 'give',\n",
       " ('he', 'at'): 'heat',\n",
       " ('en', 'e'): 'ene',\n",
       " ('de', 'bris'): 'debris',\n",
       " ('su', 'spect'): 'suspect',\n",
       " ('vi', 'ol'): 'viol',\n",
       " ('i', 'ence'): 'ience',\n",
       " ('d', 'ra'): 'dra',\n",
       " ('ad', 'd'): 'add',\n",
       " ('ge', 'e'): 'gee',\n",
       " ('nat', 'ural'): 'natural',\n",
       " ('ver', 'e'): 'vere',\n",
       " ('mar', 'ket'): 'market',\n",
       " ('ic', 'le'): 'icle',\n",
       " ('ho', 'ur'): 'hour',\n",
       " ('dri', 've'): 'drive',\n",
       " ('b', 'al'): 'bal',\n",
       " ('go', 'ver'): 'gover',\n",
       " ('p', 'ak'): 'pak',\n",
       " ('nation', 'al'): 'national',\n",
       " ('cal', 'l'): 'call',\n",
       " ('l', 'er'): 'ler',\n",
       " ('terror', 'ist'): 'terrorist',\n",
       " ('refu', 'gee'): 'refugee',\n",
       " ('dan', 'ger'): 'danger',\n",
       " ('de', 'mon'): 'demon',\n",
       " ('mig', 'rant'): 'migrant',\n",
       " ('g', 'i'): 'gi',\n",
       " ('al', 'e'): 'ale',\n",
       " ('g', 'ue'): 'gue',\n",
       " ('un', 'ion'): 'union',\n",
       " ('v', 'or'): 'vor',\n",
       " ('y', 'r'): 'yr',\n",
       " ('bab', 'y'): 'baby',\n",
       " ('b', 'ridge'): 'bridge',\n",
       " ('op', 'en'): 'open',\n",
       " ('b', 'a'): 'ba',\n",
       " ('k', 'er'): 'ker',\n",
       " ('m', 'id'): 'mid',\n",
       " ('explo', 'sion'): 'explosion',\n",
       " ('tra', 'p'): 'trap',\n",
       " ('w', 'w'): 'ww',\n",
       " ('go', 'v'): 'gov',\n",
       " ('u', 'ma'): 'uma',\n",
       " ('p', 'ul'): 'pul',\n",
       " ('t', 'ot'): 'tot',\n",
       " ('ver', 's'): 'vers',\n",
       " ('light', 'ning'): 'lightning',\n",
       " ('hur', 'ricane'): 'hurricane',\n",
       " ('se', 'vere'): 'severe',\n",
       " ('sou', 'th'): 'south',\n",
       " ('wa', 'it'): 'wait',\n",
       " ('e', 'li'): 'eli',\n",
       " ('v', 'is'): 'vis',\n",
       " ('t', 'alk'): 'talk',\n",
       " ('ss', 'i'): 'ssi',\n",
       " ('me', 'di'): 'medi',\n",
       " ('g', 'an'): 'gan',\n",
       " ('blood', 'y'): 'bloody',\n",
       " ('sh', 'ow'): 'show',\n",
       " ('is', 'ra'): 'isra',\n",
       " ('s', 'now'): 'snow',\n",
       " ('bl', 'ue'): 'blue',\n",
       " ('sa', 'u'): 'sau',\n",
       " ('c', 'amp'): 'camp',\n",
       " ('wor', 'd'): 'word',\n",
       " ('ac', 're'): 'acre',\n",
       " ('sp', 'ill'): 'spill',\n",
       " ('devast', 'ate'): 'devastate',\n",
       " ('h', 'ard'): 'hard',\n",
       " ('te', 'st'): 'test',\n",
       " ('l', 'ar'): 'lar',\n",
       " ('per', 'son'): 'person',\n",
       " ('p', 'a'): 'pa',\n",
       " ('wh', 'ite'): 'white',\n",
       " ('l', 'ink'): 'link',\n",
       " ('un', 'g'): 'ung',\n",
       " ('ho', 'l'): 'hol',\n",
       " ('ru', 'in'): 'ruin',\n",
       " ('g', 'ot'): 'got',\n",
       " ('li', 'p'): 'lip',\n",
       " ('ton', 'ight'): 'tonight',\n",
       " ('mo', 've'): 'move',\n",
       " ('ex', 'per'): 'exper',\n",
       " ('is', 'land'): 'island',\n",
       " ('s', 'day'): 'sday',\n",
       " ('b', 'ra'): 'bra',\n",
       " ('ch', 'er'): 'cher',\n",
       " ('survi', 'vor'): 'survivor',\n",
       " ('ch', 'rist'): 'christ',\n",
       " ('a', 'way'): 'away',\n",
       " ('so', 'on'): 'soon',\n",
       " ('mo', 's'): 'mos',\n",
       " ('bus', 'iness'): 'business',\n",
       " ('li', 'm'): 'lim',\n",
       " ('ban', 'g'): 'bang',\n",
       " ('in', 'und'): 'inund',\n",
       " ('c', 'lose'): 'close',\n",
       " ('tor', 'n'): 'torn',\n",
       " ('torn', 'ado'): 'tornado',\n",
       " ('ha', 'ha'): 'haha',\n",
       " ('p', 'ast'): 'past',\n",
       " ('de', 'p'): 'dep',\n",
       " ('hal', 'f'): 'half',\n",
       " ('v', 'ic'): 'vic',\n",
       " ('min', 'ute'): 'minute',\n",
       " ('it', 'al'): 'ital',\n",
       " ('el', 'y'): 'ely',\n",
       " ('y', 'p'): 'yp',\n",
       " ('ma', 'g'): 'mag',\n",
       " ('la', 'b'): 'lab',\n",
       " ('si', 've'): 'sive',\n",
       " ('k', 'o'): 'ko',\n",
       " ('dro', 'ught'): 'drought',\n",
       " ('fail', 'ure'): 'failure',\n",
       " ('ch', 'ina'): 'china',\n",
       " ('co', 'st'): 'cost',\n",
       " ('act', 'or'): 'actor',\n",
       " ('d', 'ust'): 'dust',\n",
       " ('d', 'ent'): 'dent',\n",
       " ('s', 'ite'): 'site',\n",
       " ('we', 'st'): 'west',\n",
       " ('s', 'an'): 'san',\n",
       " ('te', 'am'): 'team',\n",
       " ('at', 'er'): 'ater',\n",
       " ('di', 'o'): 'dio',\n",
       " ('ri', 'ble'): 'rible',\n",
       " ('wa', 'ke'): 'wake',\n",
       " ('am', 'bul'): 'ambul',\n",
       " ('ambul', 'ance'): 'ambulance',\n",
       " ('w', 'alk'): 'walk',\n",
       " ...}"
      ]
     },
     "execution_count": 6,
     "metadata": {},
     "output_type": "execute_result"
    }
   ],
   "source": [
    "# set the hyperparameter of vocabulary size\n",
    "vocab_size = 3000\n",
    "corpus = tweets_train['clean_text'].tolist()\n",
    "\n",
    "# create a BPE tokenizer object\n",
    "MyBPE = BPE(corpus=corpus, vocab_size=vocab_size)\n",
    "\n",
    "# train BPE tokenizer with Wikipedia corpus\n",
    "MyBPE.train()"
   ]
  },
  {
   "cell_type": "code",
   "execution_count": 7,
   "metadata": {
    "ExecuteTime": {
     "end_time": "2023-12-21T15:33:13.493640100Z",
     "start_time": "2023-12-21T15:32:21.919839300Z"
    }
   },
   "outputs": [],
   "source": [
    "tweets_train['tokenized_text'] = tweets_train['clean_text'].apply(lambda x: MyBPE.tokenize(x))\n",
    "tweets_test['tokenized_text'] = tweets_test['clean_text'].apply(lambda x: MyBPE.tokenize(x))"
   ]
  },
  {
   "cell_type": "code",
   "execution_count": 8,
   "metadata": {
    "ExecuteTime": {
     "end_time": "2023-12-21T15:33:19.085082400Z",
     "start_time": "2023-12-21T15:33:19.045672800Z"
    }
   },
   "outputs": [
    {
     "name": "stdout",
     "output_type": "stream",
     "text": [
      "Training data\n"
     ]
    },
    {
     "data": {
      "text/html": [
       "<div>\n",
       "<style scoped>\n",
       "    .dataframe tbody tr th:only-of-type {\n",
       "        vertical-align: middle;\n",
       "    }\n",
       "\n",
       "    .dataframe tbody tr th {\n",
       "        vertical-align: top;\n",
       "    }\n",
       "\n",
       "    .dataframe thead th {\n",
       "        text-align: right;\n",
       "    }\n",
       "</style>\n",
       "<table border=\"1\" class=\"dataframe\">\n",
       "  <thead>\n",
       "    <tr style=\"text-align: right;\">\n",
       "      <th></th>\n",
       "      <th>text</th>\n",
       "      <th>target</th>\n",
       "      <th>clean_text</th>\n",
       "      <th>tokenized_text</th>\n",
       "    </tr>\n",
       "  </thead>\n",
       "  <tbody>\n",
       "    <tr>\n",
       "      <th>0</th>\n",
       "      <td>Our Deeds are the Reason of this #earthquake M...</td>\n",
       "      <td>1</td>\n",
       "      <td>deed reason earthquake allah forgive</td>\n",
       "      <td>[de, ed, reason, earthquake, allah, for, give]</td>\n",
       "    </tr>\n",
       "    <tr>\n",
       "      <th>1</th>\n",
       "      <td>Forest fire near La Ronge Sask. Canada</td>\n",
       "      <td>1</td>\n",
       "      <td>forest fire near la ronge sask canada</td>\n",
       "      <td>[forest, fire, near, la, ron, ge, s, ask, canada]</td>\n",
       "    </tr>\n",
       "    <tr>\n",
       "      <th>2</th>\n",
       "      <td>All residents asked to 'shelter in place' are ...</td>\n",
       "      <td>1</td>\n",
       "      <td>resident ask shelter place notify officer evac...</td>\n",
       "      <td>[resident, ask, shel, ter, place, not, ify, of...</td>\n",
       "    </tr>\n",
       "    <tr>\n",
       "      <th>3</th>\n",
       "      <td>13,000 people receive #wildfires evacuation or...</td>\n",
       "      <td>1</td>\n",
       "      <td>people receive wildfire evacuation order cal...</td>\n",
       "      <td>[people, re, ce, ive, wildfire, evacuation, or...</td>\n",
       "    </tr>\n",
       "    <tr>\n",
       "      <th>4</th>\n",
       "      <td>Just got sent this photo from Ruby #Alaska as ...</td>\n",
       "      <td>1</td>\n",
       "      <td>got send photo ruby alaska smoke wildfire pour...</td>\n",
       "      <td>[got, send, photo, ru, by, alaska, smoke, wild...</td>\n",
       "    </tr>\n",
       "  </tbody>\n",
       "</table>\n",
       "</div>"
      ],
      "text/plain": [
       "                                                text  target  \\\n",
       "0  Our Deeds are the Reason of this #earthquake M...       1   \n",
       "1             Forest fire near La Ronge Sask. Canada       1   \n",
       "2  All residents asked to 'shelter in place' are ...       1   \n",
       "3  13,000 people receive #wildfires evacuation or...       1   \n",
       "4  Just got sent this photo from Ruby #Alaska as ...       1   \n",
       "\n",
       "                                          clean_text  \\\n",
       "0               deed reason earthquake allah forgive   \n",
       "1              forest fire near la ronge sask canada   \n",
       "2  resident ask shelter place notify officer evac...   \n",
       "3    people receive wildfire evacuation order cal...   \n",
       "4  got send photo ruby alaska smoke wildfire pour...   \n",
       "\n",
       "                                      tokenized_text  \n",
       "0     [de, ed, reason, earthquake, allah, for, give]  \n",
       "1  [forest, fire, near, la, ron, ge, s, ask, canada]  \n",
       "2  [resident, ask, shel, ter, place, not, ify, of...  \n",
       "3  [people, re, ce, ive, wildfire, evacuation, or...  \n",
       "4  [got, send, photo, ru, by, alaska, smoke, wild...  "
      ]
     },
     "metadata": {},
     "output_type": "display_data"
    },
    {
     "name": "stdout",
     "output_type": "stream",
     "text": [
      "\n",
      "Testing data\n"
     ]
    },
    {
     "data": {
      "text/html": [
       "<div>\n",
       "<style scoped>\n",
       "    .dataframe tbody tr th:only-of-type {\n",
       "        vertical-align: middle;\n",
       "    }\n",
       "\n",
       "    .dataframe tbody tr th {\n",
       "        vertical-align: top;\n",
       "    }\n",
       "\n",
       "    .dataframe thead th {\n",
       "        text-align: right;\n",
       "    }\n",
       "</style>\n",
       "<table border=\"1\" class=\"dataframe\">\n",
       "  <thead>\n",
       "    <tr style=\"text-align: right;\">\n",
       "      <th></th>\n",
       "      <th>text</th>\n",
       "      <th>target</th>\n",
       "      <th>clean_text</th>\n",
       "      <th>tokenized_text</th>\n",
       "    </tr>\n",
       "  </thead>\n",
       "  <tbody>\n",
       "    <tr>\n",
       "      <th>0</th>\n",
       "      <td>Just happened a terrible car crash</td>\n",
       "      <td>1</td>\n",
       "      <td>happen terrible car crash</td>\n",
       "      <td>[happen, ter, rible, car, crash]</td>\n",
       "    </tr>\n",
       "    <tr>\n",
       "      <th>1</th>\n",
       "      <td>Heard about #earthquake is different cities, s...</td>\n",
       "      <td>1</td>\n",
       "      <td>hear earthquake different city stay safe</td>\n",
       "      <td>[hear, earthquake, different, city, stay, safe]</td>\n",
       "    </tr>\n",
       "    <tr>\n",
       "      <th>2</th>\n",
       "      <td>there is a forest fire at spot pond, geese are...</td>\n",
       "      <td>1</td>\n",
       "      <td>forest fire spot pond goose flee street save</td>\n",
       "      <td>[forest, fire, spot, p, ond, go, ose, fle, e, ...</td>\n",
       "    </tr>\n",
       "    <tr>\n",
       "      <th>3</th>\n",
       "      <td>Apocalypse lighting. #Spokane #wildfires</td>\n",
       "      <td>1</td>\n",
       "      <td>apocalypse lighting spokane wildfire</td>\n",
       "      <td>[apocalypse, light, ing, spo, k, ane, wildfire]</td>\n",
       "    </tr>\n",
       "    <tr>\n",
       "      <th>4</th>\n",
       "      <td>Typhoon Soudelor kills 28 in China and Taiwan</td>\n",
       "      <td>1</td>\n",
       "      <td>typhoon soudelor kill china taiwan</td>\n",
       "      <td>[typhoon, soudelor, kill, china, taiwan]</td>\n",
       "    </tr>\n",
       "  </tbody>\n",
       "</table>\n",
       "</div>"
      ],
      "text/plain": [
       "                                                text  target  \\\n",
       "0                 Just happened a terrible car crash       1   \n",
       "1  Heard about #earthquake is different cities, s...       1   \n",
       "2  there is a forest fire at spot pond, geese are...       1   \n",
       "3           Apocalypse lighting. #Spokane #wildfires       1   \n",
       "4      Typhoon Soudelor kills 28 in China and Taiwan       1   \n",
       "\n",
       "                                     clean_text  \\\n",
       "0                     happen terrible car crash   \n",
       "1      hear earthquake different city stay safe   \n",
       "2  forest fire spot pond goose flee street save   \n",
       "3          apocalypse lighting spokane wildfire   \n",
       "4            typhoon soudelor kill china taiwan   \n",
       "\n",
       "                                      tokenized_text  \n",
       "0                   [happen, ter, rible, car, crash]  \n",
       "1    [hear, earthquake, different, city, stay, safe]  \n",
       "2  [forest, fire, spot, p, ond, go, ose, fle, e, ...  \n",
       "3    [apocalypse, light, ing, spo, k, ane, wildfire]  \n",
       "4           [typhoon, soudelor, kill, china, taiwan]  "
      ]
     },
     "metadata": {},
     "output_type": "display_data"
    }
   ],
   "source": [
    "print('Training data')\n",
    "display(tweets_train.head())\n",
    "print()\n",
    "print('Testing data')\n",
    "display(tweets_test.head())"
   ]
  },
  {
   "cell_type": "markdown",
   "metadata": {},
   "source": [
    "## Convert Text into Input Features"
   ]
  },
  {
   "cell_type": "markdown",
   "metadata": {},
   "source": [
    "### TF-IDF"
   ]
  },
  {
   "cell_type": "code",
   "execution_count": 9,
   "metadata": {
    "ExecuteTime": {
     "end_time": "2023-12-21T15:33:23.476189500Z",
     "start_time": "2023-12-21T15:33:21.430017200Z"
    }
   },
   "outputs": [],
   "source": [
    "vectorizer = TfidfVectorizer()\n",
    "\n",
    "X_train = vectorizer.fit_transform(tweets_train['tokenized_text'].apply(lambda tokens: ' '.join(tokens)))\n",
    "# Add a new column 'TFIDF' to the original DataFrame with the TF-IDF arrays\n",
    "tweets_train['TFIDF'] = X_train.toarray().tolist()\n",
    "\n",
    "X_test = vectorizer.transform(tweets_test['tokenized_text'].apply(lambda tokens: ' '.join(tokens)))\n",
    "# Add a new column 'TFIDF' to the original DataFrame with the TF-IDF arrays\n",
    "tweets_test['TFIDF'] = X_test.toarray().tolist()"
   ]
  },
  {
   "cell_type": "code",
   "execution_count": 10,
   "metadata": {
    "ExecuteTime": {
     "end_time": "2023-12-21T15:33:23.661826500Z",
     "start_time": "2023-12-21T15:33:23.626279500Z"
    }
   },
   "outputs": [
    {
     "name": "stdout",
     "output_type": "stream",
     "text": [
      "Training data\n"
     ]
    },
    {
     "data": {
      "text/html": [
       "<div>\n",
       "<style scoped>\n",
       "    .dataframe tbody tr th:only-of-type {\n",
       "        vertical-align: middle;\n",
       "    }\n",
       "\n",
       "    .dataframe tbody tr th {\n",
       "        vertical-align: top;\n",
       "    }\n",
       "\n",
       "    .dataframe thead th {\n",
       "        text-align: right;\n",
       "    }\n",
       "</style>\n",
       "<table border=\"1\" class=\"dataframe\">\n",
       "  <thead>\n",
       "    <tr style=\"text-align: right;\">\n",
       "      <th></th>\n",
       "      <th>text</th>\n",
       "      <th>target</th>\n",
       "      <th>clean_text</th>\n",
       "      <th>tokenized_text</th>\n",
       "      <th>TFIDF</th>\n",
       "    </tr>\n",
       "  </thead>\n",
       "  <tbody>\n",
       "    <tr>\n",
       "      <th>0</th>\n",
       "      <td>Our Deeds are the Reason of this #earthquake M...</td>\n",
       "      <td>1</td>\n",
       "      <td>deed reason earthquake allah forgive</td>\n",
       "      <td>[de, ed, reason, earthquake, allah, for, give]</td>\n",
       "      <td>[0.0, 0.0, 0.0, 0.0, 0.0, 0.0, 0.0, 0.0, 0.0, ...</td>\n",
       "    </tr>\n",
       "    <tr>\n",
       "      <th>1</th>\n",
       "      <td>Forest fire near La Ronge Sask. Canada</td>\n",
       "      <td>1</td>\n",
       "      <td>forest fire near la ronge sask canada</td>\n",
       "      <td>[forest, fire, near, la, ron, ge, s, ask, canada]</td>\n",
       "      <td>[0.0, 0.0, 0.0, 0.0, 0.0, 0.0, 0.0, 0.0, 0.0, ...</td>\n",
       "    </tr>\n",
       "    <tr>\n",
       "      <th>2</th>\n",
       "      <td>All residents asked to 'shelter in place' are ...</td>\n",
       "      <td>1</td>\n",
       "      <td>resident ask shelter place notify officer evac...</td>\n",
       "      <td>[resident, ask, shel, ter, place, not, ify, of...</td>\n",
       "      <td>[0.0, 0.0, 0.0, 0.0, 0.0, 0.0, 0.0, 0.0, 0.0, ...</td>\n",
       "    </tr>\n",
       "    <tr>\n",
       "      <th>3</th>\n",
       "      <td>13,000 people receive #wildfires evacuation or...</td>\n",
       "      <td>1</td>\n",
       "      <td>people receive wildfire evacuation order cal...</td>\n",
       "      <td>[people, re, ce, ive, wildfire, evacuation, or...</td>\n",
       "      <td>[0.0, 0.0, 0.0, 0.0, 0.0, 0.0, 0.0, 0.0, 0.0, ...</td>\n",
       "    </tr>\n",
       "    <tr>\n",
       "      <th>4</th>\n",
       "      <td>Just got sent this photo from Ruby #Alaska as ...</td>\n",
       "      <td>1</td>\n",
       "      <td>got send photo ruby alaska smoke wildfire pour...</td>\n",
       "      <td>[got, send, photo, ru, by, alaska, smoke, wild...</td>\n",
       "      <td>[0.0, 0.0, 0.0, 0.0, 0.0, 0.0, 0.0, 0.0, 0.0, ...</td>\n",
       "    </tr>\n",
       "  </tbody>\n",
       "</table>\n",
       "</div>"
      ],
      "text/plain": [
       "                                                text  target  \\\n",
       "0  Our Deeds are the Reason of this #earthquake M...       1   \n",
       "1             Forest fire near La Ronge Sask. Canada       1   \n",
       "2  All residents asked to 'shelter in place' are ...       1   \n",
       "3  13,000 people receive #wildfires evacuation or...       1   \n",
       "4  Just got sent this photo from Ruby #Alaska as ...       1   \n",
       "\n",
       "                                          clean_text  \\\n",
       "0               deed reason earthquake allah forgive   \n",
       "1              forest fire near la ronge sask canada   \n",
       "2  resident ask shelter place notify officer evac...   \n",
       "3    people receive wildfire evacuation order cal...   \n",
       "4  got send photo ruby alaska smoke wildfire pour...   \n",
       "\n",
       "                                      tokenized_text  \\\n",
       "0     [de, ed, reason, earthquake, allah, for, give]   \n",
       "1  [forest, fire, near, la, ron, ge, s, ask, canada]   \n",
       "2  [resident, ask, shel, ter, place, not, ify, of...   \n",
       "3  [people, re, ce, ive, wildfire, evacuation, or...   \n",
       "4  [got, send, photo, ru, by, alaska, smoke, wild...   \n",
       "\n",
       "                                               TFIDF  \n",
       "0  [0.0, 0.0, 0.0, 0.0, 0.0, 0.0, 0.0, 0.0, 0.0, ...  \n",
       "1  [0.0, 0.0, 0.0, 0.0, 0.0, 0.0, 0.0, 0.0, 0.0, ...  \n",
       "2  [0.0, 0.0, 0.0, 0.0, 0.0, 0.0, 0.0, 0.0, 0.0, ...  \n",
       "3  [0.0, 0.0, 0.0, 0.0, 0.0, 0.0, 0.0, 0.0, 0.0, ...  \n",
       "4  [0.0, 0.0, 0.0, 0.0, 0.0, 0.0, 0.0, 0.0, 0.0, ...  "
      ]
     },
     "metadata": {},
     "output_type": "display_data"
    },
    {
     "name": "stdout",
     "output_type": "stream",
     "text": [
      "\n",
      "Testing data\n"
     ]
    },
    {
     "data": {
      "text/html": [
       "<div>\n",
       "<style scoped>\n",
       "    .dataframe tbody tr th:only-of-type {\n",
       "        vertical-align: middle;\n",
       "    }\n",
       "\n",
       "    .dataframe tbody tr th {\n",
       "        vertical-align: top;\n",
       "    }\n",
       "\n",
       "    .dataframe thead th {\n",
       "        text-align: right;\n",
       "    }\n",
       "</style>\n",
       "<table border=\"1\" class=\"dataframe\">\n",
       "  <thead>\n",
       "    <tr style=\"text-align: right;\">\n",
       "      <th></th>\n",
       "      <th>text</th>\n",
       "      <th>target</th>\n",
       "      <th>clean_text</th>\n",
       "      <th>tokenized_text</th>\n",
       "      <th>TFIDF</th>\n",
       "    </tr>\n",
       "  </thead>\n",
       "  <tbody>\n",
       "    <tr>\n",
       "      <th>0</th>\n",
       "      <td>Just happened a terrible car crash</td>\n",
       "      <td>1</td>\n",
       "      <td>happen terrible car crash</td>\n",
       "      <td>[happen, ter, rible, car, crash]</td>\n",
       "      <td>[0.0, 0.0, 0.0, 0.0, 0.0, 0.0, 0.0, 0.0, 0.0, ...</td>\n",
       "    </tr>\n",
       "    <tr>\n",
       "      <th>1</th>\n",
       "      <td>Heard about #earthquake is different cities, s...</td>\n",
       "      <td>1</td>\n",
       "      <td>hear earthquake different city stay safe</td>\n",
       "      <td>[hear, earthquake, different, city, stay, safe]</td>\n",
       "      <td>[0.0, 0.0, 0.0, 0.0, 0.0, 0.0, 0.0, 0.0, 0.0, ...</td>\n",
       "    </tr>\n",
       "    <tr>\n",
       "      <th>2</th>\n",
       "      <td>there is a forest fire at spot pond, geese are...</td>\n",
       "      <td>1</td>\n",
       "      <td>forest fire spot pond goose flee street save</td>\n",
       "      <td>[forest, fire, spot, p, ond, go, ose, fle, e, ...</td>\n",
       "      <td>[0.0, 0.0, 0.0, 0.0, 0.0, 0.0, 0.0, 0.0, 0.0, ...</td>\n",
       "    </tr>\n",
       "    <tr>\n",
       "      <th>3</th>\n",
       "      <td>Apocalypse lighting. #Spokane #wildfires</td>\n",
       "      <td>1</td>\n",
       "      <td>apocalypse lighting spokane wildfire</td>\n",
       "      <td>[apocalypse, light, ing, spo, k, ane, wildfire]</td>\n",
       "      <td>[0.0, 0.0, 0.0, 0.0, 0.0, 0.0, 0.0, 0.0, 0.0, ...</td>\n",
       "    </tr>\n",
       "    <tr>\n",
       "      <th>4</th>\n",
       "      <td>Typhoon Soudelor kills 28 in China and Taiwan</td>\n",
       "      <td>1</td>\n",
       "      <td>typhoon soudelor kill china taiwan</td>\n",
       "      <td>[typhoon, soudelor, kill, china, taiwan]</td>\n",
       "      <td>[0.0, 0.0, 0.0, 0.0, 0.0, 0.0, 0.0, 0.0, 0.0, ...</td>\n",
       "    </tr>\n",
       "  </tbody>\n",
       "</table>\n",
       "</div>"
      ],
      "text/plain": [
       "                                                text  target  \\\n",
       "0                 Just happened a terrible car crash       1   \n",
       "1  Heard about #earthquake is different cities, s...       1   \n",
       "2  there is a forest fire at spot pond, geese are...       1   \n",
       "3           Apocalypse lighting. #Spokane #wildfires       1   \n",
       "4      Typhoon Soudelor kills 28 in China and Taiwan       1   \n",
       "\n",
       "                                     clean_text  \\\n",
       "0                     happen terrible car crash   \n",
       "1      hear earthquake different city stay safe   \n",
       "2  forest fire spot pond goose flee street save   \n",
       "3          apocalypse lighting spokane wildfire   \n",
       "4            typhoon soudelor kill china taiwan   \n",
       "\n",
       "                                      tokenized_text  \\\n",
       "0                   [happen, ter, rible, car, crash]   \n",
       "1    [hear, earthquake, different, city, stay, safe]   \n",
       "2  [forest, fire, spot, p, ond, go, ose, fle, e, ...   \n",
       "3    [apocalypse, light, ing, spo, k, ane, wildfire]   \n",
       "4           [typhoon, soudelor, kill, china, taiwan]   \n",
       "\n",
       "                                               TFIDF  \n",
       "0  [0.0, 0.0, 0.0, 0.0, 0.0, 0.0, 0.0, 0.0, 0.0, ...  \n",
       "1  [0.0, 0.0, 0.0, 0.0, 0.0, 0.0, 0.0, 0.0, 0.0, ...  \n",
       "2  [0.0, 0.0, 0.0, 0.0, 0.0, 0.0, 0.0, 0.0, 0.0, ...  \n",
       "3  [0.0, 0.0, 0.0, 0.0, 0.0, 0.0, 0.0, 0.0, 0.0, ...  \n",
       "4  [0.0, 0.0, 0.0, 0.0, 0.0, 0.0, 0.0, 0.0, 0.0, ...  "
      ]
     },
     "metadata": {},
     "output_type": "display_data"
    }
   ],
   "source": [
    "print('Training data')\n",
    "display(tweets_train.head())\n",
    "print()\n",
    "print('Testing data')\n",
    "display(tweets_test.head())"
   ]
  },
  {
   "cell_type": "markdown",
   "metadata": {},
   "source": [
    "### Word2Vec (CBOW and Skip-Gram)"
   ]
  },
  {
   "cell_type": "code",
   "execution_count": 11,
   "metadata": {
    "ExecuteTime": {
     "end_time": "2023-12-21T15:33:26.004312100Z",
     "start_time": "2023-12-21T15:33:25.980689800Z"
    }
   },
   "outputs": [
    {
     "name": "stdout",
     "output_type": "stream",
     "text": [
      "Maximum length of tokenized text in training data: 42\n",
      "Maximum length of tokenized text in testing data: 50\n"
     ]
    }
   ],
   "source": [
    "print('Maximum length of tokenized text in training data:', max([len(sent) for sent in tweets_train['tokenized_text']]))\n",
    "print('Maximum length of tokenized text in testing data:', max([len(sent) for sent in tweets_test['tokenized_text']]))"
   ]
  },
  {
   "cell_type": "code",
   "execution_count": 12,
   "metadata": {
    "ExecuteTime": {
     "end_time": "2023-12-21T15:34:07.773767Z",
     "start_time": "2023-12-21T15:33:29.941367700Z"
    }
   },
   "outputs": [],
   "source": [
    "# Train Word2Vec model\n",
    "cbow_model = Word2Vec(sentences = tweets_train['tokenized_text'], vector_size = 512, window = 10, min_count = 1, workers = 4, sg = 0, epochs = 128)\n",
    "# Add the <pad> token to the cbow_model so that the last token is the <pad> token\n",
    "cbow_model.wv.key_to_index['<pad>'] = len(cbow_model.wv)\n",
    "# Add the embedding of <pad> token to the cbow_model\n",
    "cbow_model.wv.vectors = np.append(cbow_model.wv.vectors, np.zeros((1, 512)), axis=0)\n",
    "\n",
    "\n",
    "skipgram_model = Word2Vec(sentences = tweets_train['tokenized_text'], vector_size = 512, window = 10, min_count = 1, workers = 4, sg = 1, epochs = 128)\n",
    "# Add the <pad> token to the skipgram_model so that the last token is the <pad> token\n",
    "skipgram_model.wv.key_to_index['<pad>'] = len(skipgram_model.wv)\n",
    "# Add the embedding of <pad> token to the skipgram_model\n",
    "skipgram_model.wv.vectors = np.append(skipgram_model.wv.vectors, np.zeros((1, 512)), axis=0)\n",
    "\n",
    "# Add the <pad> token to all the tokenized text until the length of each tokenized text is 50\n",
    "tweets_train['tokenized_text'] = tweets_train['tokenized_text'].apply(lambda tokens: tokens + ['<pad>'] * (50 - len(tokens)))\n",
    "tweets_test['tokenized_text'] = tweets_test['tokenized_text'].apply(lambda tokens: tokens + ['<pad>'] * (50 - len(tokens)))\n",
    "\n",
    "# Apply the string2embedding_idx function to create a new column\n",
    "tweets_train['CBOW_sequences'] = tweets_train['tokenized_text'].apply(lambda tokens: string2embedding_idx(tokens, cbow_model))\n",
    "tweets_train['SkipGram_sequences'] = tweets_train['tokenized_text'].apply(lambda tokens: string2embedding_idx(tokens, skipgram_model))\n",
    "tweets_test['CBOW_sequences'] = tweets_test['tokenized_text'].apply(lambda tokens: string2embedding_idx(tokens, cbow_model))\n",
    "tweets_test['SkipGram_sequences'] = tweets_test['tokenized_text'].apply(lambda tokens: string2embedding_idx(tokens, skipgram_model))"
   ]
  },
  {
   "cell_type": "code",
   "execution_count": 13,
   "metadata": {
    "ExecuteTime": {
     "end_time": "2023-12-21T15:34:36.442786700Z",
     "start_time": "2023-12-21T15:34:36.381065300Z"
    }
   },
   "outputs": [
    {
     "name": "stdout",
     "output_type": "stream",
     "text": [
      "Training data\n"
     ]
    },
    {
     "data": {
      "text/html": [
       "<div>\n",
       "<style scoped>\n",
       "    .dataframe tbody tr th:only-of-type {\n",
       "        vertical-align: middle;\n",
       "    }\n",
       "\n",
       "    .dataframe tbody tr th {\n",
       "        vertical-align: top;\n",
       "    }\n",
       "\n",
       "    .dataframe thead th {\n",
       "        text-align: right;\n",
       "    }\n",
       "</style>\n",
       "<table border=\"1\" class=\"dataframe\">\n",
       "  <thead>\n",
       "    <tr style=\"text-align: right;\">\n",
       "      <th></th>\n",
       "      <th>text</th>\n",
       "      <th>target</th>\n",
       "      <th>clean_text</th>\n",
       "      <th>tokenized_text</th>\n",
       "      <th>TFIDF</th>\n",
       "      <th>CBOW_sequences</th>\n",
       "      <th>SkipGram_sequences</th>\n",
       "    </tr>\n",
       "  </thead>\n",
       "  <tbody>\n",
       "    <tr>\n",
       "      <th>0</th>\n",
       "      <td>Our Deeds are the Reason of this #earthquake M...</td>\n",
       "      <td>1</td>\n",
       "      <td>deed reason earthquake allah forgive</td>\n",
       "      <td>[de, ed, reason, earthquake, allah, for, give,...</td>\n",
       "      <td>[0.0, 0.0, 0.0, 0.0, 0.0, 0.0, 0.0, 0.0, 0.0, ...</td>\n",
       "      <td>[31, 62, 850, 432, 2265, 425, 452, 2899, 2899,...</td>\n",
       "      <td>[31, 62, 850, 432, 2265, 425, 452, 2899, 2899,...</td>\n",
       "    </tr>\n",
       "    <tr>\n",
       "      <th>1</th>\n",
       "      <td>Forest fire near La Ronge Sask. Canada</td>\n",
       "      <td>1</td>\n",
       "      <td>forest fire near la ronge sask canada</td>\n",
       "      <td>[forest, fire, near, la, ron, ge, s, ask, cana...</td>\n",
       "      <td>[0.0, 0.0, 0.0, 0.0, 0.0, 0.0, 0.0, 0.0, 0.0, ...</td>\n",
       "      <td>[306, 16, 398, 75, 676, 128, 0, 616, 1619, 289...</td>\n",
       "      <td>[306, 16, 398, 75, 676, 128, 0, 616, 1619, 289...</td>\n",
       "    </tr>\n",
       "    <tr>\n",
       "      <th>2</th>\n",
       "      <td>All residents asked to 'shelter in place' are ...</td>\n",
       "      <td>1</td>\n",
       "      <td>resident ask shelter place notify officer evac...</td>\n",
       "      <td>[resident, ask, shel, ter, place, not, ify, of...</td>\n",
       "      <td>[0.0, 0.0, 0.0, 0.0, 0.0, 0.0, 0.0, 0.0, 0.0, ...</td>\n",
       "      <td>[1717, 616, 1709, 106, 664, 224, 2482, 671, 43...</td>\n",
       "      <td>[1717, 616, 1709, 106, 664, 224, 2482, 671, 43...</td>\n",
       "    </tr>\n",
       "    <tr>\n",
       "      <th>3</th>\n",
       "      <td>13,000 people receive #wildfires evacuation or...</td>\n",
       "      <td>1</td>\n",
       "      <td>people receive wildfire evacuation order cal...</td>\n",
       "      <td>[people, re, ce, ive, wildfire, evacuation, or...</td>\n",
       "      <td>[0.0, 0.0, 0.0, 0.0, 0.0, 0.0, 0.0, 0.0, 0.0, ...</td>\n",
       "      <td>[55, 7, 115, 351, 236, 439, 451, 135, 2899, 28...</td>\n",
       "      <td>[55, 7, 115, 351, 236, 439, 451, 135, 2899, 28...</td>\n",
       "    </tr>\n",
       "    <tr>\n",
       "      <th>4</th>\n",
       "      <td>Just got sent this photo from Ruby #Alaska as ...</td>\n",
       "      <td>1</td>\n",
       "      <td>got send photo ruby alaska smoke wildfire pour...</td>\n",
       "      <td>[got, send, photo, ru, by, alaska, smoke, wild...</td>\n",
       "      <td>[0.0, 0.0, 0.0, 0.0, 0.0, 0.0, 0.0, 0.0, 0.0, ...</td>\n",
       "      <td>[545, 445, 266, 420, 652, 2464, 446, 236, 180,...</td>\n",
       "      <td>[545, 445, 266, 420, 652, 2464, 446, 236, 180,...</td>\n",
       "    </tr>\n",
       "  </tbody>\n",
       "</table>\n",
       "</div>"
      ],
      "text/plain": [
       "                                                text  target  \\\n",
       "0  Our Deeds are the Reason of this #earthquake M...       1   \n",
       "1             Forest fire near La Ronge Sask. Canada       1   \n",
       "2  All residents asked to 'shelter in place' are ...       1   \n",
       "3  13,000 people receive #wildfires evacuation or...       1   \n",
       "4  Just got sent this photo from Ruby #Alaska as ...       1   \n",
       "\n",
       "                                          clean_text  \\\n",
       "0               deed reason earthquake allah forgive   \n",
       "1              forest fire near la ronge sask canada   \n",
       "2  resident ask shelter place notify officer evac...   \n",
       "3    people receive wildfire evacuation order cal...   \n",
       "4  got send photo ruby alaska smoke wildfire pour...   \n",
       "\n",
       "                                      tokenized_text  \\\n",
       "0  [de, ed, reason, earthquake, allah, for, give,...   \n",
       "1  [forest, fire, near, la, ron, ge, s, ask, cana...   \n",
       "2  [resident, ask, shel, ter, place, not, ify, of...   \n",
       "3  [people, re, ce, ive, wildfire, evacuation, or...   \n",
       "4  [got, send, photo, ru, by, alaska, smoke, wild...   \n",
       "\n",
       "                                               TFIDF  \\\n",
       "0  [0.0, 0.0, 0.0, 0.0, 0.0, 0.0, 0.0, 0.0, 0.0, ...   \n",
       "1  [0.0, 0.0, 0.0, 0.0, 0.0, 0.0, 0.0, 0.0, 0.0, ...   \n",
       "2  [0.0, 0.0, 0.0, 0.0, 0.0, 0.0, 0.0, 0.0, 0.0, ...   \n",
       "3  [0.0, 0.0, 0.0, 0.0, 0.0, 0.0, 0.0, 0.0, 0.0, ...   \n",
       "4  [0.0, 0.0, 0.0, 0.0, 0.0, 0.0, 0.0, 0.0, 0.0, ...   \n",
       "\n",
       "                                      CBOW_sequences  \\\n",
       "0  [31, 62, 850, 432, 2265, 425, 452, 2899, 2899,...   \n",
       "1  [306, 16, 398, 75, 676, 128, 0, 616, 1619, 289...   \n",
       "2  [1717, 616, 1709, 106, 664, 224, 2482, 671, 43...   \n",
       "3  [55, 7, 115, 351, 236, 439, 451, 135, 2899, 28...   \n",
       "4  [545, 445, 266, 420, 652, 2464, 446, 236, 180,...   \n",
       "\n",
       "                                  SkipGram_sequences  \n",
       "0  [31, 62, 850, 432, 2265, 425, 452, 2899, 2899,...  \n",
       "1  [306, 16, 398, 75, 676, 128, 0, 616, 1619, 289...  \n",
       "2  [1717, 616, 1709, 106, 664, 224, 2482, 671, 43...  \n",
       "3  [55, 7, 115, 351, 236, 439, 451, 135, 2899, 28...  \n",
       "4  [545, 445, 266, 420, 652, 2464, 446, 236, 180,...  "
      ]
     },
     "metadata": {},
     "output_type": "display_data"
    },
    {
     "name": "stdout",
     "output_type": "stream",
     "text": [
      "\n",
      "Testing data\n"
     ]
    },
    {
     "data": {
      "text/html": [
       "<div>\n",
       "<style scoped>\n",
       "    .dataframe tbody tr th:only-of-type {\n",
       "        vertical-align: middle;\n",
       "    }\n",
       "\n",
       "    .dataframe tbody tr th {\n",
       "        vertical-align: top;\n",
       "    }\n",
       "\n",
       "    .dataframe thead th {\n",
       "        text-align: right;\n",
       "    }\n",
       "</style>\n",
       "<table border=\"1\" class=\"dataframe\">\n",
       "  <thead>\n",
       "    <tr style=\"text-align: right;\">\n",
       "      <th></th>\n",
       "      <th>text</th>\n",
       "      <th>target</th>\n",
       "      <th>clean_text</th>\n",
       "      <th>tokenized_text</th>\n",
       "      <th>TFIDF</th>\n",
       "      <th>CBOW_sequences</th>\n",
       "      <th>SkipGram_sequences</th>\n",
       "    </tr>\n",
       "  </thead>\n",
       "  <tbody>\n",
       "    <tr>\n",
       "      <th>0</th>\n",
       "      <td>Just happened a terrible car crash</td>\n",
       "      <td>1</td>\n",
       "      <td>happen terrible car crash</td>\n",
       "      <td>[happen, ter, rible, car, crash, &lt;pad&gt;, &lt;pad&gt;,...</td>\n",
       "      <td>[0.0, 0.0, 0.0, 0.0, 0.0, 0.0, 0.0, 0.0, 0.0, ...</td>\n",
       "      <td>[416, 106, 2577, 74, 76, 2899, 2899, 2899, 289...</td>\n",
       "      <td>[416, 106, 2577, 74, 76, 2899, 2899, 2899, 289...</td>\n",
       "    </tr>\n",
       "    <tr>\n",
       "      <th>1</th>\n",
       "      <td>Heard about #earthquake is different cities, s...</td>\n",
       "      <td>1</td>\n",
       "      <td>hear earthquake different city stay safe</td>\n",
       "      <td>[hear, earthquake, different, city, stay, safe...</td>\n",
       "      <td>[0.0, 0.0, 0.0, 0.0, 0.0, 0.0, 0.0, 0.0, 0.0, ...</td>\n",
       "      <td>[257, 432, 1651, 235, 747, 1189, 2899, 2899, 2...</td>\n",
       "      <td>[257, 432, 1651, 235, 747, 1189, 2899, 2899, 2...</td>\n",
       "    </tr>\n",
       "    <tr>\n",
       "      <th>2</th>\n",
       "      <td>there is a forest fire at spot pond, geese are...</td>\n",
       "      <td>1</td>\n",
       "      <td>forest fire spot pond goose flee street save</td>\n",
       "      <td>[forest, fire, spot, p, ond, go, ose, fle, e, ...</td>\n",
       "      <td>[0.0, 0.0, 0.0, 0.0, 0.0, 0.0, 0.0, 0.0, 0.0, ...</td>\n",
       "      <td>[306, 16, 962, 12, 1500, 29, 2831, 1162, 8, 76...</td>\n",
       "      <td>[306, 16, 962, 12, 1500, 29, 2831, 1162, 8, 76...</td>\n",
       "    </tr>\n",
       "    <tr>\n",
       "      <th>3</th>\n",
       "      <td>Apocalypse lighting. #Spokane #wildfires</td>\n",
       "      <td>1</td>\n",
       "      <td>apocalypse lighting spokane wildfire</td>\n",
       "      <td>[apocalypse, light, ing, spo, k, ane, wildfire...</td>\n",
       "      <td>[0.0, 0.0, 0.0, 0.0, 0.0, 0.0, 0.0, 0.0, 0.0, ...</td>\n",
       "      <td>[720, 294, 19, 1455, 21, 748, 236, 2899, 2899,...</td>\n",
       "      <td>[720, 294, 19, 1455, 21, 748, 236, 2899, 2899,...</td>\n",
       "    </tr>\n",
       "    <tr>\n",
       "      <th>4</th>\n",
       "      <td>Typhoon Soudelor kills 28 in China and Taiwan</td>\n",
       "      <td>1</td>\n",
       "      <td>typhoon soudelor kill china taiwan</td>\n",
       "      <td>[typhoon, soudelor, kill, china, taiwan, &lt;pad&gt;...</td>\n",
       "      <td>[0.0, 0.0, 0.0, 0.0, 0.0, 0.0, 0.0, 0.0, 0.0, ...</td>\n",
       "      <td>[385, 986, 63, 569, 1776, 2899, 2899, 2899, 28...</td>\n",
       "      <td>[385, 986, 63, 569, 1776, 2899, 2899, 2899, 28...</td>\n",
       "    </tr>\n",
       "  </tbody>\n",
       "</table>\n",
       "</div>"
      ],
      "text/plain": [
       "                                                text  target  \\\n",
       "0                 Just happened a terrible car crash       1   \n",
       "1  Heard about #earthquake is different cities, s...       1   \n",
       "2  there is a forest fire at spot pond, geese are...       1   \n",
       "3           Apocalypse lighting. #Spokane #wildfires       1   \n",
       "4      Typhoon Soudelor kills 28 in China and Taiwan       1   \n",
       "\n",
       "                                     clean_text  \\\n",
       "0                     happen terrible car crash   \n",
       "1      hear earthquake different city stay safe   \n",
       "2  forest fire spot pond goose flee street save   \n",
       "3          apocalypse lighting spokane wildfire   \n",
       "4            typhoon soudelor kill china taiwan   \n",
       "\n",
       "                                      tokenized_text  \\\n",
       "0  [happen, ter, rible, car, crash, <pad>, <pad>,...   \n",
       "1  [hear, earthquake, different, city, stay, safe...   \n",
       "2  [forest, fire, spot, p, ond, go, ose, fle, e, ...   \n",
       "3  [apocalypse, light, ing, spo, k, ane, wildfire...   \n",
       "4  [typhoon, soudelor, kill, china, taiwan, <pad>...   \n",
       "\n",
       "                                               TFIDF  \\\n",
       "0  [0.0, 0.0, 0.0, 0.0, 0.0, 0.0, 0.0, 0.0, 0.0, ...   \n",
       "1  [0.0, 0.0, 0.0, 0.0, 0.0, 0.0, 0.0, 0.0, 0.0, ...   \n",
       "2  [0.0, 0.0, 0.0, 0.0, 0.0, 0.0, 0.0, 0.0, 0.0, ...   \n",
       "3  [0.0, 0.0, 0.0, 0.0, 0.0, 0.0, 0.0, 0.0, 0.0, ...   \n",
       "4  [0.0, 0.0, 0.0, 0.0, 0.0, 0.0, 0.0, 0.0, 0.0, ...   \n",
       "\n",
       "                                      CBOW_sequences  \\\n",
       "0  [416, 106, 2577, 74, 76, 2899, 2899, 2899, 289...   \n",
       "1  [257, 432, 1651, 235, 747, 1189, 2899, 2899, 2...   \n",
       "2  [306, 16, 962, 12, 1500, 29, 2831, 1162, 8, 76...   \n",
       "3  [720, 294, 19, 1455, 21, 748, 236, 2899, 2899,...   \n",
       "4  [385, 986, 63, 569, 1776, 2899, 2899, 2899, 28...   \n",
       "\n",
       "                                  SkipGram_sequences  \n",
       "0  [416, 106, 2577, 74, 76, 2899, 2899, 2899, 289...  \n",
       "1  [257, 432, 1651, 235, 747, 1189, 2899, 2899, 2...  \n",
       "2  [306, 16, 962, 12, 1500, 29, 2831, 1162, 8, 76...  \n",
       "3  [720, 294, 19, 1455, 21, 748, 236, 2899, 2899,...  \n",
       "4  [385, 986, 63, 569, 1776, 2899, 2899, 2899, 28...  "
      ]
     },
     "metadata": {},
     "output_type": "display_data"
    }
   ],
   "source": [
    "print('Training data')\n",
    "display(tweets_train.head())\n",
    "print()\n",
    "print('Testing data')\n",
    "display(tweets_test.head())"
   ]
  },
  {
   "cell_type": "code",
   "execution_count": 14,
   "metadata": {
    "ExecuteTime": {
     "end_time": "2023-12-21T15:34:38.609225400Z",
     "start_time": "2023-12-21T15:34:37.441115300Z"
    }
   },
   "outputs": [
    {
     "data": {
      "image/png": "[encoded data removed]",
      "text/plain": [
       "<Figure size 640x480 with 1 Axes>"
      ]
     },
     "metadata": {},
     "output_type": "display_data"
    }
   ],
   "source": [
    "TSNE_10ClosestWords(cbow_model, 'earthquake', 512)"
   ]
  },
  {
   "cell_type": "code",
   "execution_count": 15,
   "metadata": {
    "ExecuteTime": {
     "end_time": "2023-12-21T15:34:39.868591200Z",
     "start_time": "2023-12-21T15:34:39.426708900Z"
    }
   },
   "outputs": [
    {
     "data": {
      "image/png": "[encoded data removed]",
      "text/plain": [
       "<Figure size 640x480 with 1 Axes>"
      ]
     },
     "metadata": {},
     "output_type": "display_data"
    }
   ],
   "source": [
    "TSNE_10ClosestWords(skipgram_model, 'earthquake', 512)"
   ]
  },
  {
   "cell_type": "code",
   "execution_count": 16,
   "metadata": {
    "ExecuteTime": {
     "end_time": "2023-12-21T15:34:40.997210400Z",
     "start_time": "2023-12-21T15:34:40.562299400Z"
    }
   },
   "outputs": [
    {
     "data": {
      "image/png": "[encoded data removed]",
      "text/plain": [
       "<Figure size 640x480 with 1 Axes>"
      ]
     },
     "metadata": {},
     "output_type": "display_data"
    }
   ],
   "source": [
    "TSNE_10ClosestWords(cbow_model, 'disaster', 512)"
   ]
  },
  {
   "cell_type": "code",
   "execution_count": 17,
   "metadata": {
    "ExecuteTime": {
     "end_time": "2023-12-21T15:34:42.087371100Z",
     "start_time": "2023-12-21T15:34:41.642630900Z"
    }
   },
   "outputs": [
    {
     "data": {
      "image/png": "[encoded data removed]",
      "text/plain": [
       "<Figure size 640x480 with 1 Axes>"
      ]
     },
     "metadata": {},
     "output_type": "display_data"
    }
   ],
   "source": [
    "TSNE_10ClosestWords(skipgram_model, 'disaster', 512)"
   ]
  },
  {
   "cell_type": "markdown",
   "metadata": {},
   "source": [
    "# Loading and Testing our Pre-Trained Embeddings to the PyTorch's Embedding layer"
   ]
  },
  {
   "cell_type": "code",
   "execution_count": 18,
   "metadata": {
    "ExecuteTime": {
     "end_time": "2023-12-21T15:34:46.149953400Z",
     "start_time": "2023-12-21T15:34:46.078377300Z"
    }
   },
   "outputs": [
    {
     "data": {
      "text/plain": [
       "Parameter containing:\n",
       "tensor([[ 0.0414, -0.2207,  0.1861,  ..., -0.0308,  0.0837, -0.0848],\n",
       "        [-0.1327, -0.1782, -0.0074,  ...,  0.0659, -0.1683, -0.1863],\n",
       "        [ 0.0210, -0.1433, -0.0212,  ..., -0.0600,  0.1392,  0.0743],\n",
       "        ...,\n",
       "        [ 0.0688, -0.0325, -0.1077,  ..., -0.2518,  0.0036,  0.0337],\n",
       "        [ 0.0180,  0.1512, -0.3123,  ..., -0.0415, -0.1330, -0.2043],\n",
       "        [ 0.0000,  0.0000,  0.0000,  ...,  0.0000,  0.0000,  0.0000]])"
      ]
     },
     "execution_count": 18,
     "metadata": {},
     "output_type": "execute_result"
    }
   ],
   "source": [
    "# create embedding layer with pre-trained weights\n",
    "pretrained_embeddings_layer = torch.nn.Embedding.from_pretrained(torch.FloatTensor(skipgram_model.wv.vectors))\n",
    "# check weights of the pre-trained embedding layer\n",
    "pretrained_embeddings_layer.weight"
   ]
  },
  {
   "cell_type": "code",
   "execution_count": 19,
   "metadata": {
    "ExecuteTime": {
     "end_time": "2023-12-21T15:34:46.893954100Z",
     "start_time": "2023-12-21T15:34:46.867690500Z"
    }
   },
   "outputs": [
    {
     "data": {
      "text/plain": [
       "(tensor([  31,   62,  850,  432, 2265,  425,  452, 2899, 2899, 2899, 2899, 2899,\n",
       "         2899, 2899, 2899, 2899, 2899, 2899, 2899, 2899, 2899, 2899, 2899, 2899,\n",
       "         2899, 2899, 2899, 2899, 2899, 2899, 2899, 2899, 2899, 2899, 2899, 2899,\n",
       "         2899, 2899, 2899, 2899, 2899, 2899, 2899, 2899, 2899, 2899, 2899, 2899,\n",
       "         2899, 2899]),\n",
       " tensor([1.]))"
      ]
     },
     "execution_count": 19,
     "metadata": {},
     "output_type": "execute_result"
    }
   ],
   "source": [
    "TrainTweetsDataset = TweetsDataset(tweets_train, 'skipgram')\n",
    "TrainTweetsDataset[0]"
   ]
  },
  {
   "cell_type": "code",
   "execution_count": 20,
   "metadata": {
    "ExecuteTime": {
     "end_time": "2023-12-21T15:34:48.356003700Z",
     "start_time": "2023-12-21T15:34:48.329539400Z"
    }
   },
   "outputs": [
    {
     "name": "stdout",
     "output_type": "stream",
     "text": [
      "Embedding of the first token:          tensor([-1.4938e-01, -3.1296e-02,  3.5110e-01,  9.9947e-02,  1.1420e-01,\n",
      "         2.0422e-02, -1.8522e-02, -9.7531e-02,  8.9191e-03,  1.6854e-01,\n",
      "         1.4188e-01, -3.8786e-01,  3.7037e-01, -1.0994e-02,  3.5970e-02,\n",
      "         1.0243e-01, -1.0458e-01, -2.9599e-01, -1.3571e-01, -2.1489e-01,\n",
      "         3.6393e-01,  1.3028e-01,  1.0361e-01,  1.7510e-01, -1.2119e-01,\n",
      "         3.7894e-01,  3.5232e-01,  2.6074e-01, -2.3349e-01, -1.9111e-01,\n",
      "        -1.9019e-01, -5.3251e-01, -1.2993e-02, -2.1414e-01, -5.5963e-01,\n",
      "         3.5878e-01, -1.2355e-01,  3.8747e-02, -1.0498e-01, -3.6733e-01,\n",
      "        -8.4645e-02, -2.3541e-02, -1.6330e-01, -2.3572e-01, -1.8326e-01,\n",
      "         3.1835e-01, -3.4187e-01,  1.6383e-02, -8.2616e-02,  6.3884e-02,\n",
      "         1.0574e-01, -2.6724e-01,  1.8972e-01, -1.2723e-01, -6.1233e-01,\n",
      "        -3.4776e-01,  1.3238e-01, -1.5830e-01,  1.0282e-01,  7.7371e-02,\n",
      "         5.6541e-02,  9.2524e-02,  9.5260e-03,  1.2026e-01,  3.5963e-01,\n",
      "        -2.8712e-01, -2.5086e-01, -1.4826e-01, -3.3845e-01,  1.3815e-01,\n",
      "        -3.6809e-02, -3.3425e-01,  4.1127e-01, -9.8882e-02, -8.7649e-02,\n",
      "        -8.1528e-02,  3.9075e-01, -2.1044e-01,  6.4219e-02, -2.4260e-01,\n",
      "         3.7783e-01, -1.4480e-01, -1.6414e-01,  2.9125e-01,  6.0159e-01,\n",
      "         1.8232e-01,  1.0176e-01,  2.7637e-01, -1.3078e-01, -2.1186e-01,\n",
      "        -1.2132e-01, -1.6654e-01,  1.8668e-01, -2.7826e-01,  1.6249e-01,\n",
      "        -2.1778e-02, -2.0270e-01, -6.2232e-02, -7.8887e-02,  8.4415e-02,\n",
      "         4.2998e-02,  2.7019e-01,  2.2601e-01,  6.1325e-03, -3.6618e-01,\n",
      "         2.9395e-01, -6.7286e-02, -4.1485e-02,  2.1893e-01,  1.3264e-01,\n",
      "         2.8493e-01,  6.5764e-02,  2.1796e-01,  1.5846e-01, -3.0511e-01,\n",
      "        -2.9373e-01,  2.2315e-01,  5.1866e-01, -4.5615e-02,  8.4788e-02,\n",
      "         2.9112e-01, -1.2745e-01, -1.5822e-01, -5.3240e-02, -8.2165e-02,\n",
      "        -1.2605e-01, -1.6368e-01,  1.0769e-01,  5.2879e-02, -3.1908e-02,\n",
      "        -5.7338e-02, -3.3273e-02,  7.3118e-02, -4.7948e-02, -7.2328e-01,\n",
      "         7.5506e-02,  3.8213e-02, -6.9876e-02, -2.0806e-01,  6.8854e-02,\n",
      "         1.0282e-01,  1.2366e-01,  1.3301e-01, -2.9977e-03,  1.7055e-01,\n",
      "        -6.2026e-03, -6.2386e-02,  1.5141e-01,  1.0102e-01,  7.2004e-02,\n",
      "        -4.0349e-01, -1.1021e-01,  1.0861e-02, -5.0354e-02,  2.4700e-02,\n",
      "         4.3094e-02,  3.2549e-02,  6.7351e-02,  2.0730e-01, -1.9856e-01,\n",
      "         3.2761e-01,  1.8744e-01, -6.1574e-02, -8.3232e-02, -3.4517e-01,\n",
      "        -1.8688e-01,  9.0331e-03, -7.9660e-03,  1.7347e-02, -9.6276e-02,\n",
      "        -1.9646e-01,  1.3433e-01,  3.8911e-01, -2.2080e-01,  7.8734e-02,\n",
      "         1.0607e-01, -2.7656e-01,  1.7901e-01, -7.6217e-02, -1.3893e-01,\n",
      "        -6.1940e-02, -3.6257e-01,  1.5312e-01,  9.0823e-02,  2.2228e-01,\n",
      "        -1.6190e-01,  2.2718e-01,  2.0780e-01, -4.5108e-01,  9.0286e-02,\n",
      "        -2.3823e-01, -1.7832e-01,  1.9384e-01, -1.7579e-01,  6.1225e-02,\n",
      "        -3.9872e-01, -1.1017e-02,  1.6194e-01,  2.5014e-01,  3.3017e-02,\n",
      "        -2.5139e-01, -1.1674e-02,  4.0910e-02,  1.7952e-02,  2.2927e-01,\n",
      "        -3.7408e-02, -1.0108e-01, -5.1278e-02,  2.1432e-01, -1.9529e-01,\n",
      "         2.7885e-02, -5.3453e-02, -1.4590e-01,  1.5451e-01, -1.1288e-01,\n",
      "         3.0754e-01, -3.9300e-02, -1.0786e-01, -2.8645e-01, -1.3539e-01,\n",
      "        -3.8744e-01,  4.0178e-01, -4.2825e-01,  2.3477e-01,  7.1663e-02,\n",
      "         1.7043e-01, -2.0564e-01, -2.9674e-01, -5.4026e-01,  1.5947e-01,\n",
      "        -2.1822e-01, -3.1207e-01, -2.1008e-01,  9.0022e-02, -1.8694e-01,\n",
      "        -7.0026e-02, -2.7581e-01,  4.9436e-01,  1.7534e-01, -2.3716e-01,\n",
      "         1.9908e-01,  3.6431e-01, -3.2391e-01,  3.1824e-01,  1.5240e-01,\n",
      "        -1.2977e-01,  1.2886e-01, -1.3103e-01,  1.8407e-01,  2.7276e-01,\n",
      "         1.0111e-01,  1.9790e-01, -5.5061e-02, -1.3460e-01, -1.5386e-03,\n",
      "        -3.2080e-01,  2.1865e-01, -2.8729e-01,  3.4416e-01,  1.8412e-01,\n",
      "         2.9975e-01, -4.5771e-01,  2.3934e-02,  2.3178e-01, -1.1781e-01,\n",
      "         2.0725e-02, -8.3714e-02, -1.1421e-01,  1.3247e-01,  2.1681e-01,\n",
      "         2.2396e-03, -1.4151e-01, -1.3355e-01, -1.6825e-02,  1.1929e-01,\n",
      "         1.0885e-02,  2.1270e-01,  1.2813e-02,  9.0017e-03, -8.0061e-02,\n",
      "        -3.4195e-01, -1.4193e-01, -6.9566e-02, -1.3940e-01,  4.7102e-02,\n",
      "        -3.3243e-01, -1.6108e-01,  1.9199e-01,  2.0945e-01,  6.3422e-02,\n",
      "        -2.5388e-01, -1.5377e-01,  1.5363e-01,  9.1202e-02,  1.9482e-01,\n",
      "        -2.2134e-02,  2.0642e-02,  1.3660e-01,  1.5831e-01,  2.7201e-01,\n",
      "         1.5113e-01, -2.1534e-01,  1.5104e-01, -1.9447e-01, -3.8671e-02,\n",
      "         1.2863e-01,  3.8894e-01, -3.0663e-01,  3.4997e-03, -2.4696e-01,\n",
      "         1.6489e-01, -5.0271e-02, -1.3777e-01,  1.3313e-03, -3.5079e-02,\n",
      "        -3.3185e-02,  3.9468e-01,  3.3555e-01,  8.3669e-02,  2.2442e-02,\n",
      "        -1.6097e-02, -2.0364e-02, -8.5905e-02, -1.1851e-01, -1.9832e-01,\n",
      "        -1.3056e-01, -3.2335e-01,  1.0533e-01,  1.8556e-01,  3.5459e-01,\n",
      "         9.8883e-02,  2.0015e-01,  2.2374e-02,  2.7042e-01, -6.0394e-02,\n",
      "         6.1940e-02, -3.1046e-01,  2.1551e-01,  6.5469e-02, -3.9828e-02,\n",
      "         1.1796e-01,  2.4973e-01,  2.1500e-01,  2.5182e-01, -1.6423e-01,\n",
      "         9.5177e-02, -2.5619e-01,  1.6241e-01, -1.1326e-01, -2.5397e-01,\n",
      "        -2.0382e-02,  9.6211e-02,  6.2043e-02,  1.1046e-01, -8.9559e-02,\n",
      "        -7.9322e-02, -1.1300e-01, -1.0993e-01,  5.2230e-02,  5.2430e-03,\n",
      "         1.7895e-01,  8.1396e-02,  4.2060e-02, -1.8230e-01,  7.3701e-02,\n",
      "         2.7178e-02,  6.9475e-02,  1.2865e-01,  2.4194e-03, -2.1046e-01,\n",
      "         2.7800e-01, -8.9638e-02,  1.9722e-01, -1.2977e-01,  1.4461e-01,\n",
      "        -1.2481e-02,  4.6242e-02, -3.7339e-01, -1.2985e-01,  8.6343e-03,\n",
      "         7.6454e-03,  7.0375e-02, -7.2766e-03,  2.0593e-01,  2.6069e-01,\n",
      "         3.5602e-02,  2.3470e-01,  2.3289e-02, -2.0165e-01, -1.7297e-01,\n",
      "         2.8436e-01, -2.1982e-01, -3.5815e-01, -2.6043e-01,  7.9645e-02,\n",
      "         2.7704e-01,  1.1675e-01,  2.5548e-02,  2.3687e-01,  8.3862e-03,\n",
      "         1.0212e-01,  1.5970e-01,  2.2002e-01,  1.4075e-01, -9.1651e-03,\n",
      "        -1.4550e-01,  1.9534e-02,  4.5452e-01,  2.8241e-01,  5.7226e-04,\n",
      "         2.5351e-02,  3.3986e-02, -5.6147e-02, -1.0841e-01,  5.3836e-02,\n",
      "        -2.1714e-02,  3.4743e-02,  9.3370e-02, -2.3784e-01,  1.3944e-01,\n",
      "        -1.6790e-02, -2.8993e-02, -9.4678e-02, -1.4470e-02, -8.0858e-02,\n",
      "        -9.4249e-02, -8.9205e-03, -1.0371e-01, -2.3182e-01,  3.7514e-01,\n",
      "        -1.0529e-01,  6.7872e-02, -8.1599e-02,  3.9021e-01, -4.2403e-02,\n",
      "        -5.0603e-02, -1.5566e-01,  7.4290e-02,  1.4869e-01, -5.6471e-02,\n",
      "         5.1319e-02, -9.4485e-02,  3.4140e-01, -1.3724e-01,  1.7600e-01,\n",
      "         5.8796e-02,  3.3211e-01, -3.3677e-01, -3.5137e-02, -2.5195e-01,\n",
      "         4.2218e-02,  1.3235e-01, -1.0755e-01, -1.0084e-01,  1.1447e-01,\n",
      "         6.3972e-02, -5.4067e-02,  2.3108e-03, -4.7165e-01, -2.7199e-02,\n",
      "         8.7020e-02, -1.2397e-01,  6.8994e-02, -4.3992e-01,  1.8229e-01,\n",
      "         1.2594e-01,  1.6862e-01, -1.1887e-01,  1.4067e-01, -2.2909e-02,\n",
      "        -1.5881e-02,  2.7067e-01,  3.3824e-01,  2.9382e-02,  1.5960e-01,\n",
      "        -4.7540e-02,  2.3876e-01, -2.3306e-01, -6.0082e-02, -2.2842e-01,\n",
      "        -2.8671e-01,  1.2445e-01,  2.4177e-01,  4.6290e-01,  2.9967e-01,\n",
      "        -1.4047e-01, -5.8100e-02,  3.1083e-01,  2.5319e-01,  1.3565e-01,\n",
      "        -2.6065e-02,  2.2511e-01,  2.3907e-01,  5.9310e-03,  3.1639e-01,\n",
      "         2.0174e-02,  2.6743e-01,  7.9292e-02,  1.3851e-01,  1.4559e-01,\n",
      "        -2.4546e-02, -1.3551e-01,  1.6009e-01,  1.3492e-01, -1.5320e-02,\n",
      "        -2.0741e-01, -3.0166e-01,  1.2081e-01, -1.4831e-01,  1.1931e-01,\n",
      "        -1.8042e-01, -2.2119e-02])\n",
      "Embedding of the second token:         tensor([-0.2387,  0.0125,  0.1017, -0.0507,  0.0200, -0.0046,  0.2088, -0.4196,\n",
      "        -0.0053,  0.0840, -0.0796,  0.1315, -0.0216, -0.0056,  0.0693, -0.4574,\n",
      "        -0.0811,  0.2731,  0.0256, -0.1548,  0.1875,  0.0184,  0.1293, -0.2168,\n",
      "         0.3997,  0.4202,  0.2672, -0.5578,  0.2739,  0.1577,  0.0051, -0.1364,\n",
      "        -0.1034, -0.2638, -0.3387, -0.1895,  0.3461,  0.0161,  0.1212,  0.0409,\n",
      "        -0.0801, -0.1260,  0.2670,  0.3736,  0.4506,  0.5567, -0.1994, -0.2011,\n",
      "         0.1232, -0.4284, -0.2362,  0.1993, -0.2278,  0.1679, -0.1428, -0.4707,\n",
      "        -0.1802, -0.3385,  0.4883, -0.0404,  0.0447,  0.4392, -0.4305,  0.3950,\n",
      "         0.0775, -0.0547,  0.1516,  0.2615, -0.5640,  0.0243, -0.0037, -0.4477,\n",
      "        -0.0679, -0.3492,  0.1552,  0.4348, -0.4834, -0.2764, -0.0954,  0.0066,\n",
      "        -0.2281,  0.4456, -0.0242, -0.4600, -0.5001, -0.1338,  0.0638,  0.3523,\n",
      "        -0.7075,  0.2278,  0.2236, -0.1004, -0.2831, -0.2124, -0.6346, -0.2414,\n",
      "        -0.2127, -0.0198,  0.3798, -0.0261, -0.0084, -0.2440, -0.1083, -0.0804,\n",
      "         0.1259, -0.1012, -0.2193, -0.1050,  0.1717, -0.0672,  0.2667,  0.2059,\n",
      "        -0.0250,  0.2968, -0.4036, -0.3186, -0.1400, -0.0156,  0.4192,  0.0472,\n",
      "         0.0840, -0.1913,  0.4401,  0.4091,  0.2777,  0.0210,  0.0834, -0.1499,\n",
      "         0.5068,  0.2290, -0.0310, -0.1241, -0.3896, -0.0266,  0.0618,  0.0439,\n",
      "         0.3620,  0.4077, -0.2923, -0.2467,  0.3691,  0.0784, -0.1970, -0.3657,\n",
      "         0.3227,  0.1816,  0.1495,  0.2231,  0.4500,  0.2377, -0.3177, -0.2865,\n",
      "        -0.4884,  0.0339, -0.2248, -0.3694, -0.0503, -0.0677,  0.1782, -0.1148,\n",
      "        -0.0413,  0.2358, -0.1682,  0.4422, -0.1907, -0.0743,  0.1116, -0.1490,\n",
      "         0.0663,  0.4277,  0.1248,  0.1626,  0.0232, -0.5985, -0.0834,  0.0542,\n",
      "        -0.2148,  0.0856,  0.2850,  0.0816,  0.0072, -0.1047, -0.2575, -0.1185,\n",
      "         0.4046, -0.0587,  0.1327, -0.0953, -0.0789,  0.0897,  0.1098,  0.1490,\n",
      "        -0.1917, -0.2211,  0.0399,  0.0681,  0.2570, -0.0196, -0.0331, -0.0725,\n",
      "         0.0502,  0.2350, -0.1418,  0.0461,  0.6399, -0.1169, -0.3749,  0.0524,\n",
      "        -0.0483,  0.0698, -0.2031, -0.2201, -0.0120, -0.1649, -0.3386,  0.0178,\n",
      "         0.3923,  0.4291, -0.3592,  0.1404, -0.1373,  0.2682, -0.2508,  0.0370,\n",
      "         0.1364,  0.0574, -0.2353, -0.0899,  0.3370, -0.0296,  0.1258,  0.2048,\n",
      "         0.1226, -0.2592,  0.1696,  0.1627, -0.0494, -0.0384, -0.0823,  0.1694,\n",
      "        -0.1741, -0.2096, -0.0425, -0.1629,  0.3817, -0.4911,  0.1502, -0.1650,\n",
      "         0.2080,  0.0394,  0.0089,  0.2236, -0.0641, -0.2021,  0.2450,  0.1463,\n",
      "         0.2766,  0.0718,  0.2269,  0.2534,  0.1967, -0.0296, -0.2651, -0.0820,\n",
      "        -0.4364,  0.0347, -0.0543, -0.2091,  0.2174,  0.0814, -0.2207,  0.1213,\n",
      "         0.0158, -0.1931,  0.1824, -0.0334,  0.0290,  0.0926, -0.0972, -0.4302,\n",
      "        -0.0890,  0.0598,  0.3019,  0.0829,  0.0105, -0.1714,  0.3057,  0.1448,\n",
      "         0.0782, -0.0130,  0.0709, -0.4238, -0.0237, -0.1278,  0.0947, -0.2729,\n",
      "         0.0690,  0.1994,  0.0459, -0.0651, -0.0533,  0.3728, -0.0110, -0.1257,\n",
      "         0.7053, -0.3807,  0.1177,  0.0655,  0.0219,  0.0587, -0.1328, -0.0697,\n",
      "         0.2345,  0.2324, -0.4722, -0.1405, -0.0374,  0.1753, -0.0340, -0.1114,\n",
      "         0.3603, -0.0373,  0.0315,  0.0964,  0.3747,  0.1289, -0.0346, -0.2339,\n",
      "        -0.2346,  0.5269,  0.3130, -0.0129, -0.3458,  0.0875, -0.0511, -0.0427,\n",
      "        -0.2554,  0.0474, -0.0505,  0.3162,  0.2597,  0.0574,  0.3716, -0.0820,\n",
      "         0.0094,  0.2005, -0.1126, -0.2465, -0.1584,  0.0126, -0.0122,  0.0913,\n",
      "        -0.1927,  0.1090, -0.1369, -0.1714, -0.3830, -0.0097,  0.0083,  0.3893,\n",
      "         0.7047, -0.0089,  0.1712, -0.0682, -0.1940, -0.1892, -0.1550,  0.1057,\n",
      "        -0.3075,  0.0377, -0.1488, -0.1024, -0.5196, -0.0532, -0.2374,  0.2848,\n",
      "         0.0383, -0.2392,  0.0879,  0.4249,  0.0302, -0.0081,  0.0541,  0.4004,\n",
      "        -0.2523,  0.1114,  0.1832,  0.3019,  0.2681,  0.0108, -0.2427, -0.0507,\n",
      "         0.1028, -0.4139, -0.0458, -0.0612, -0.2003, -0.0994, -0.1386, -0.1685,\n",
      "        -0.0562,  0.0344, -0.2453,  0.4578, -0.4228, -0.1692, -0.1880,  0.0728,\n",
      "        -0.0562, -0.0812, -0.3918,  0.5482, -0.0909,  0.0198, -0.2620,  0.1671,\n",
      "         0.2087,  0.1068, -0.1839,  0.0618, -0.1604, -0.4975,  0.1345, -0.0207,\n",
      "         0.4285, -0.1318, -0.1719, -0.1531,  0.1994, -0.1543, -0.3288,  0.4440,\n",
      "        -0.0950,  0.4376,  0.1217, -0.1074,  0.1828, -0.0488,  0.5675,  0.2143,\n",
      "         0.0119, -0.0852, -0.1411,  0.4440,  0.2297, -0.0241,  0.2035, -0.6582,\n",
      "         0.0380, -0.0733,  0.3043, -0.1948,  0.0787, -0.1171, -0.1035, -0.1114,\n",
      "        -0.0618,  0.3142, -0.0881,  0.3468,  0.1877, -0.1055, -0.7585, -0.1766,\n",
      "        -0.1027,  0.1995, -0.0747, -0.0525, -0.0302,  0.1024,  0.2460, -0.2786,\n",
      "        -0.0166,  0.1082, -0.3337, -0.2739,  0.0730, -0.0758, -0.5074,  0.3215,\n",
      "        -0.0389,  0.0688, -0.0643,  0.0751, -0.0921,  0.0813, -0.0834,  0.0451,\n",
      "        -0.0235, -0.2033, -0.0887,  0.1314, -0.2479, -0.1260,  0.2236, -0.4353,\n",
      "        -0.2168, -0.1113, -0.0392,  0.4424,  0.2958, -0.0936,  0.1564,  0.0701,\n",
      "         0.1553,  0.0340,  0.1579,  0.1323,  0.0130,  0.0062, -0.2283,  0.1097])\n",
      "Embedding of the third token:          tensor([ 0.0263,  0.4716,  0.4143, -0.1457,  0.4606, -0.1087, -0.0233,  0.0261,\n",
      "         0.5923, -0.0689, -0.2685, -0.1141,  0.5396,  0.2684,  0.0776,  0.1106,\n",
      "         0.0735, -0.0682,  0.4787, -0.1404, -0.4157,  0.3694, -0.1796, -0.2299,\n",
      "        -0.2035,  0.4205, -0.4463, -0.0348, -0.0985,  0.3841,  0.0863, -0.2594,\n",
      "         0.4177, -0.3955,  0.6362,  0.6121,  0.4895,  0.0414, -0.5674,  0.1131,\n",
      "         0.4531,  0.0692, -0.1135,  0.0781, -0.0139,  0.2182,  0.2477, -0.3304,\n",
      "        -0.3109, -0.0312, -0.5849, -0.1365,  0.2760,  0.2410, -0.0250, -0.5821,\n",
      "         0.1662, -0.2758,  0.0036,  0.5791, -0.0493,  0.0881,  0.1050,  0.0705,\n",
      "         0.2741,  0.2031,  0.9260,  0.3812,  0.4838, -0.0227, -0.2138, -0.4405,\n",
      "         0.3958,  0.3286, -0.2558,  0.2683, -0.1841, -0.7837, -0.0826, -0.0449,\n",
      "        -0.8254, -0.1643, -0.3761, -0.7425,  0.1191,  0.5896, -0.5037,  0.0991,\n",
      "        -0.1067,  0.4205, -0.5035,  0.2812, -0.1399,  0.1231,  0.2534, -0.4262,\n",
      "         0.5148,  0.2136,  0.3891,  0.0242,  0.3445,  0.2441, -0.0017, -0.3988,\n",
      "        -0.2568,  0.4713,  0.2654,  0.3050,  0.4111, -0.6505,  0.6950, -0.0363,\n",
      "         0.2245, -0.3322,  0.3355,  0.5783,  0.1531,  0.1823, -0.9246,  0.2586,\n",
      "        -0.4965, -0.0658,  0.0364,  0.8362,  0.4121, -0.8465, -0.2751,  0.8989,\n",
      "        -0.1375,  0.5888, -0.0894, -0.3912,  0.2111,  0.3569,  0.2537, -0.0032,\n",
      "        -0.1876, -0.2592,  0.0658, -0.4228,  0.3624, -0.1374,  0.2009, -0.1389,\n",
      "         0.2090,  0.0815, -0.4844, -0.1500, -0.6144,  0.4941,  0.2070,  0.4442,\n",
      "        -0.2830, -0.2417,  0.3452,  0.1587,  0.6682, -0.2559, -0.0579, -0.5190,\n",
      "        -0.1604, -0.1119, -1.1186,  0.0846,  0.2119, -0.1365, -0.0481,  0.4867,\n",
      "         0.3448,  0.2702, -0.3265, -0.3063,  0.5116, -0.6040, -0.0773, -0.3441,\n",
      "        -0.0331,  0.0990,  0.3509,  0.3536,  0.0452,  0.3785,  0.0300,  0.0655,\n",
      "        -0.2515,  0.2589,  0.6230,  0.0901, -0.4534, -0.1370, -0.4733,  0.0174,\n",
      "         0.1829, -0.8544, -0.5031, -0.3042,  0.3366, -0.1643, -0.0147, -0.8590,\n",
      "        -0.3220,  0.2185, -0.0377, -0.0349,  0.4366, -0.2940, -0.0549, -0.2082,\n",
      "         0.2050, -0.1218,  0.8511,  0.0593,  0.3013, -0.1276, -0.2377,  0.1586,\n",
      "        -0.0085,  0.4678, -0.5348,  0.4511, -0.2302, -0.1529,  0.3136, -0.2043,\n",
      "         0.0304, -0.4899, -0.0989, -0.1147,  0.1308,  0.1203,  0.1831,  0.2053,\n",
      "        -0.3072, -0.3178, -0.4428, -0.6206,  0.1600,  0.0624,  0.0968,  0.3511,\n",
      "        -0.2035,  0.0573,  0.2187, -0.0087,  0.0175,  0.6704, -0.0361,  0.7104,\n",
      "        -0.0600, -0.4650, -0.1086,  0.5063, -0.0421, -0.5496, -0.4509,  0.4351,\n",
      "         0.5057,  0.1631,  0.0428,  0.0290,  0.0591,  0.1280,  0.6117,  0.3162,\n",
      "         0.0179, -0.4543,  0.6747, -0.0021, -0.2350, -0.2271,  0.2621, -0.3139,\n",
      "         0.3422,  0.0290, -0.4776,  0.8032,  0.3555,  0.1558, -0.3379, -0.9100,\n",
      "         0.0443, -0.1304,  0.0343, -0.4908, -0.0809, -0.5015,  0.0568, -0.2111,\n",
      "         0.0633,  1.0416,  0.0050,  0.1391, -0.4584,  0.5845,  0.4336, -0.0648,\n",
      "        -0.6182, -0.6913, -0.1791, -0.1788, -0.4115, -0.3556, -0.2696, -0.3707,\n",
      "         0.6476, -0.3559,  0.5374,  0.0806, -0.1547, -0.4532, -0.1944, -0.4376,\n",
      "        -0.0745,  0.2973,  0.2747, -0.4487,  0.1955, -0.8677,  0.3180,  0.1569,\n",
      "         0.2998, -0.5403, -0.3707,  0.0267,  0.4442,  0.2821, -0.2378,  0.4016,\n",
      "         0.1298, -0.5334,  0.6720,  0.1559, -0.5039, -0.3357, -0.0137,  0.3959,\n",
      "         0.1505, -0.3722,  0.1445,  0.0794,  0.4306, -0.4927,  0.4079, -0.7337,\n",
      "         0.1956,  0.2040, -0.3113, -0.4859, -0.2182, -0.4017,  0.8395, -0.4299,\n",
      "        -0.0271,  0.3626,  0.1222,  0.4647, -0.5417,  0.3105,  0.3219,  0.2100,\n",
      "        -0.3859, -0.2695, -0.1063,  0.6116,  0.3867, -0.2995,  0.7858, -0.0165,\n",
      "         0.1719, -0.0776,  0.6972,  0.5717, -0.0022,  0.0603,  0.0887,  0.2547,\n",
      "         0.2952,  0.0372, -0.2747,  0.5572,  0.1713,  0.2569,  0.0971,  0.0349,\n",
      "         0.1416,  0.1558,  0.4372,  0.1315,  0.1271,  0.1124,  0.0224, -0.2905,\n",
      "        -0.4496,  0.0136,  0.5351, -0.3756,  0.3299,  0.1289,  0.0605,  0.0937,\n",
      "         0.0176, -0.0444, -0.4730,  0.1664,  0.2312, -0.6888, -0.0308,  0.2020,\n",
      "         0.4416, -0.0521, -0.5952,  0.2456, -0.4983,  0.0523, -0.4717, -0.0542,\n",
      "         1.1453,  0.2706,  0.7849,  0.0284,  0.0503,  0.5910, -0.7061, -0.1763,\n",
      "         0.2432,  0.0090, -0.4377,  0.3176, -0.2212, -0.1075, -0.1509, -0.2385,\n",
      "         0.4897,  0.7504,  0.6085, -0.5758,  0.1449,  0.1158,  0.4607,  0.1133,\n",
      "         0.4453, -0.5290, -0.0717,  0.0648, -0.0549,  0.0945, -0.0891,  0.3558,\n",
      "         0.0339,  0.0147,  0.4152, -0.2266, -0.5441, -0.6366,  0.2736, -0.3909,\n",
      "        -0.5015, -0.3882, -0.0861, -0.2388,  0.0936,  0.3450, -0.0392,  0.3753,\n",
      "        -0.0338, -0.2918, -0.2742, -0.5005,  0.4018,  0.4995, -0.1006,  0.5756,\n",
      "        -0.0661,  0.2765, -0.2909,  0.1479, -0.1475,  0.3348,  0.5326,  0.1189,\n",
      "         0.2177,  0.3578, -0.3902,  0.4629, -0.6419,  0.0299, -0.0914, -0.0140,\n",
      "        -0.5988, -0.7312, -0.2118,  0.4746, -0.0311, -0.5305,  0.1044,  0.0157,\n",
      "        -0.0318, -0.9803, -0.6489,  0.3172, -0.3536,  0.3612,  0.2535, -0.1248,\n",
      "        -0.3870, -0.0377,  0.1213,  0.3195,  0.1296, -0.0557,  0.3608, -0.3047])\n",
      "Embedding of the fourth token:         tensor([-1.0191e-01,  6.3149e-01, -5.1351e-01, -1.0095e-01,  5.3149e-01,\n",
      "        -1.6375e-01,  7.5529e-02,  2.5413e-01,  2.5810e-02, -3.8415e-01,\n",
      "         2.3360e-01, -4.0032e-01,  4.6465e-01,  2.8535e-01, -5.6583e-01,\n",
      "         3.0523e-02, -6.0313e-02,  4.5105e-01, -6.1081e-01,  1.6661e-01,\n",
      "        -5.6043e-01, -8.9234e-01,  5.6514e-01, -2.8369e-01, -3.6496e-01,\n",
      "        -6.8911e-02, -1.5860e-01,  3.6877e-01,  3.4028e-01,  2.8743e-01,\n",
      "         4.5682e-01,  4.2846e-01, -4.2322e-02, -6.5769e-01,  1.1935e-01,\n",
      "         9.9699e-02, -4.1079e-02,  2.7283e-01, -3.2018e-01, -4.6368e-01,\n",
      "         1.3201e-01, -8.2185e-02,  1.9470e-01, -5.7835e-02,  4.3911e-01,\n",
      "        -1.3807e-01, -2.3853e-01, -3.7620e-01, -2.9464e-01, -6.3872e-01,\n",
      "         2.5846e-02, -1.8810e-01, -2.9801e-02,  4.2445e-02,  2.4750e-01,\n",
      "        -2.6224e-01, -7.5918e-02, -7.8489e-01,  9.7470e-02,  2.6440e-01,\n",
      "         1.7325e-01,  6.8349e-02,  4.0710e-02,  3.2174e-01,  1.2556e-01,\n",
      "         3.0729e-01,  1.2236e-01, -3.8904e-01, -3.6383e-01,  7.0438e-01,\n",
      "         1.5773e-01,  5.8385e-02, -9.4967e-02,  1.0412e-01, -1.6978e-01,\n",
      "        -4.3805e-01,  5.2400e-02,  1.1518e-01, -1.3587e-01, -3.6024e-01,\n",
      "        -3.5981e-02,  4.0408e-01, -1.8622e-01, -3.6597e-01, -3.3114e-01,\n",
      "        -1.0354e-01, -1.2983e-01,  2.8746e-01,  4.0044e-01,  1.4278e-01,\n",
      "         1.6496e-01, -1.8322e-01,  2.3008e-01, -6.1341e-01,  1.2438e-01,\n",
      "         3.4095e-01, -2.8255e-01,  2.7946e-01, -1.3543e-01,  8.7735e-02,\n",
      "        -1.7296e-01,  5.9780e-02, -4.5454e-01, -3.6079e-01,  5.3612e-01,\n",
      "         2.2445e-01,  3.9964e-01,  3.0471e-01, -2.0949e-01, -1.8725e-01,\n",
      "         5.5506e-01,  4.7531e-01,  4.0857e-01, -3.2856e-01, -2.3361e-01,\n",
      "         1.7009e-01,  3.4802e-01,  9.6245e-02, -2.5761e-01, -3.1953e-01,\n",
      "        -3.7889e-01, -7.3107e-01, -3.4587e-01, -2.6663e-02,  1.9312e-01,\n",
      "         1.0366e-01, -4.9127e-02,  9.4884e-01, -5.3620e-02,  4.1409e-02,\n",
      "        -3.2374e-01,  1.2147e-01,  2.9242e-01, -2.6563e-01,  1.2504e-01,\n",
      "         1.4043e-01, -1.6390e-01,  9.2337e-01, -3.4896e-01, -2.9312e-01,\n",
      "        -5.3111e-01,  1.6673e-01, -5.4462e-02, -3.8489e-01,  2.3250e-01,\n",
      "         4.3461e-01, -1.3404e-01, -1.1798e-01,  4.5585e-01,  1.7216e-01,\n",
      "         4.6039e-01, -3.5657e-01,  8.1588e-02,  1.9224e-01, -5.7205e-01,\n",
      "         5.0630e-01,  4.2592e-01, -2.8883e-01, -1.5953e-01,  1.2187e-01,\n",
      "        -6.3983e-01, -4.3136e-01,  5.4363e-01, -2.5029e-01, -2.4980e-01,\n",
      "         3.0971e-01,  4.0705e-02, -4.0995e-01,  1.0064e-01,  2.5685e-01,\n",
      "         2.4683e-01,  2.0002e-01,  6.0834e-01,  1.0556e-01,  2.2514e-01,\n",
      "         1.0655e-01, -7.5594e-01, -2.6010e-02,  8.0192e-01, -4.4729e-01,\n",
      "         2.0163e-01,  7.2457e-01,  2.3160e-01, -3.3954e-01, -1.3197e-01,\n",
      "         6.3800e-01,  3.1789e-01,  1.4679e-01, -4.7861e-01,  4.6846e-01,\n",
      "        -1.0820e-01, -8.9922e-01,  4.2295e-01, -1.0191e-01,  1.5997e-01,\n",
      "         5.5171e-01,  5.6225e-01,  2.5793e-01, -3.0428e-01,  3.6141e-01,\n",
      "         1.3105e-01,  8.0103e-03,  2.9239e-01, -4.7124e-01, -1.6296e-01,\n",
      "         2.7797e-01, -5.5053e-01,  8.8109e-01, -1.0607e-01,  4.1543e-02,\n",
      "         7.4458e-02,  4.4502e-01, -5.5218e-02, -4.3612e-01, -6.2494e-01,\n",
      "        -2.2478e-01, -1.8902e-01, -7.2432e-02,  2.8385e-01, -2.9767e-01,\n",
      "         4.2841e-02, -1.7963e-01,  6.3701e-02, -3.2295e-01,  2.7983e-01,\n",
      "        -3.5963e-01,  1.3104e-01,  5.5484e-01,  9.7810e-02, -4.7670e-02,\n",
      "        -8.8698e-02, -2.0080e-01,  2.7175e-01,  1.4703e-01, -3.6471e-03,\n",
      "        -6.3344e-02,  2.0821e-01,  4.1005e-01, -5.9397e-02, -5.0304e-01,\n",
      "         1.1896e-01,  6.1584e-01, -4.7379e-01, -9.1199e-04,  1.1540e-01,\n",
      "         1.8869e-01, -7.4269e-02, -8.1787e-03, -5.2807e-01,  6.1719e-01,\n",
      "        -1.1161e-01,  5.7842e-02,  6.2635e-01, -5.6275e-01,  1.2824e-01,\n",
      "        -1.0305e-01,  8.5391e-01, -2.8774e-02,  1.1784e-01,  1.2576e-01,\n",
      "         2.6101e-01, -6.1350e-01, -7.0841e-02,  7.7872e-02, -2.6469e-01,\n",
      "        -1.9464e-01, -4.5032e-01, -5.6252e-02,  1.8341e-01,  2.3236e-01,\n",
      "         6.7288e-01, -2.5467e-01, -1.3055e-01, -1.4951e-01, -2.0518e-01,\n",
      "        -3.1752e-01, -2.4024e-01, -8.3699e-02,  5.5854e-01,  8.1890e-02,\n",
      "         6.0711e-02,  3.0419e-01, -5.8726e-01, -4.2472e-01, -3.0327e-01,\n",
      "        -2.8526e-01, -3.6327e-01, -1.5052e-01, -3.5696e-01, -1.2458e-01,\n",
      "         2.3077e-01,  3.4972e-01,  6.3818e-02, -1.1369e-01,  3.0840e-01,\n",
      "        -2.8244e-01, -1.4500e-01,  6.3813e-02,  7.7186e-01,  6.0387e-02,\n",
      "         1.4579e-01,  1.0660e-01,  1.9163e-01, -2.8060e-01,  2.3193e-01,\n",
      "        -5.5106e-01,  7.1951e-02, -9.2079e-01, -1.2788e-01, -7.5112e-01,\n",
      "         7.5058e-01, -4.1475e-01, -5.4497e-01,  1.0319e-01, -1.6401e-01,\n",
      "        -2.1206e-02, -1.8113e-01, -1.7913e-01,  4.9521e-01,  1.0312e-01,\n",
      "         1.3485e-01, -4.4441e-01, -4.2597e-01, -4.1872e-01,  3.4988e-01,\n",
      "         6.9875e-02,  9.9786e-02, -1.2160e-01,  2.0734e-01, -3.5227e-01,\n",
      "         1.0458e-02,  5.1187e-02, -5.9303e-01, -1.6061e-01, -1.1044e-01,\n",
      "        -1.4898e-01, -5.8292e-01, -4.1244e-02,  7.7860e-03,  5.1018e-01,\n",
      "         7.8669e-02,  1.4643e-01,  1.0187e-02,  1.0331e-01,  4.8954e-01,\n",
      "         3.3892e-01, -3.8891e-01,  3.2370e-01, -1.1641e-01,  7.9777e-01,\n",
      "         6.6203e-01, -2.1937e-01,  2.3835e-01, -8.0929e-01,  4.0859e-02,\n",
      "        -3.1843e-01,  1.2462e-01, -1.6154e-01,  1.8771e-01,  4.4978e-01,\n",
      "        -4.5293e-01,  6.1484e-01, -4.3187e-01, -8.9082e-02,  2.2796e-01,\n",
      "         1.2345e-02,  3.7725e-01, -2.1309e-01, -1.7434e-01, -3.4449e-01,\n",
      "        -3.4802e-01,  4.1725e-01, -1.6759e-01,  6.7741e-01,  3.8928e-02,\n",
      "        -2.6210e-01, -1.7495e-01, -3.8161e-01, -3.1744e-01,  1.2507e-01,\n",
      "        -4.3552e-01, -3.0059e-01, -2.1062e-01,  1.4873e-01, -4.5504e-01,\n",
      "        -7.7543e-02, -9.7993e-03,  3.3721e-01, -1.1891e-01,  3.9752e-01,\n",
      "        -1.9826e-01, -4.6760e-01, -8.6620e-02,  3.2473e-01, -1.7168e-02,\n",
      "         4.3118e-02, -4.3718e-01, -1.0992e-01, -1.4642e-01,  1.5831e-02,\n",
      "         2.5798e-01,  3.9592e-01, -3.1009e-02, -1.9837e-01,  1.7349e-01,\n",
      "        -6.0389e-02, -5.0292e-01, -2.8729e-02,  2.1473e-01, -3.5557e-01,\n",
      "        -1.0184e-01,  1.9605e-01, -3.7997e-02,  6.7213e-02, -2.7133e-01,\n",
      "         7.0248e-02,  1.8652e-01,  4.7599e-01,  2.9954e-01, -5.1923e-01,\n",
      "         2.7751e-01,  1.4805e-01, -1.3199e-01,  4.0948e-01,  2.9695e-02,\n",
      "        -2.4466e-01, -2.9927e-01,  5.2188e-01,  5.0932e-01, -1.4935e-01,\n",
      "         2.1214e-01, -1.7123e-01, -7.6195e-01, -5.9214e-01,  3.7285e-01,\n",
      "         1.5892e-01, -1.1013e-01, -1.8788e-01, -4.0573e-02,  3.4847e-01,\n",
      "         3.9372e-02, -7.7701e-04, -1.3485e-01,  2.8763e-01,  4.1323e-01,\n",
      "        -2.0741e-01, -3.4440e-02,  7.8303e-01,  3.0936e-01, -9.9075e-02,\n",
      "         2.9030e-02, -4.4980e-02, -3.1664e-01, -2.2946e-01, -6.1382e-03,\n",
      "        -4.7920e-01, -6.4984e-01, -4.2487e-01, -1.0908e-02, -4.9571e-02,\n",
      "        -1.1260e-01,  1.0797e-01,  8.6998e-02, -2.4572e-01, -9.1834e-01,\n",
      "        -2.4952e-01,  4.2243e-01, -2.8947e-01,  1.9903e-01,  2.0037e-01,\n",
      "        -3.7959e-02,  6.5945e-02, -2.7929e-01,  4.5433e-01, -6.0481e-01,\n",
      "        -2.4749e-01, -9.5401e-02,  5.2140e-01,  2.8620e-01, -6.2581e-01,\n",
      "        -3.7466e-01,  1.0769e-01, -7.4089e-01,  5.3126e-01, -3.9271e-01,\n",
      "         6.0989e-02,  4.8614e-01,  4.4191e-01,  2.7365e-01, -5.2173e-02,\n",
      "        -6.2054e-02,  6.8328e-01,  4.1116e-01,  1.3062e-01, -2.6868e-01,\n",
      "         1.2705e-01, -1.4292e-01,  2.0633e-01, -1.4962e-01,  1.0491e-01,\n",
      "         2.8550e-01, -4.2297e-01,  7.9489e-01,  6.0488e-01, -1.0575e-01,\n",
      "         3.1239e-01,  1.7160e-01,  1.0572e-01,  3.4008e-01, -2.0233e-02,\n",
      "         3.3910e-01,  9.8892e-02])\n",
      "Embedding of the fifth token:          tensor([ 4.8886e-01,  1.4461e-01, -4.0788e-02,  2.7679e-01, -2.0026e-01,\n",
      "         1.4097e-01,  3.8162e-02,  2.0747e-01,  4.9142e-01,  3.2416e-01,\n",
      "         3.2110e-01, -2.5050e-01,  3.3150e-01, -1.3793e-01, -3.0423e-01,\n",
      "         3.2976e-01,  1.3500e-01, -6.6550e-02,  2.7661e-02,  2.9213e-01,\n",
      "        -5.1999e-01, -2.0942e-01,  5.3501e-01, -7.2629e-01, -3.0731e-01,\n",
      "         1.1250e-01, -5.2685e-01,  1.1315e-01, -9.4448e-02, -8.7108e-02,\n",
      "         7.4342e-01, -1.2618e-01,  5.3864e-01, -4.1059e-01, -2.8997e-01,\n",
      "         1.5315e-01,  1.6992e-01, -1.2583e-01, -2.1990e-01, -5.4901e-01,\n",
      "         1.4430e-01, -2.4296e-01, -5.9790e-01, -8.2447e-01,  5.6698e-01,\n",
      "         2.1527e-03,  3.0253e-01, -1.7048e-01, -1.5606e-01, -9.4450e-02,\n",
      "        -3.5311e-01, -4.5790e-02,  1.6711e-02, -4.0010e-01, -1.8353e-01,\n",
      "        -2.2330e-01, -1.0783e-01, -6.4145e-01,  1.8956e-01,  1.6117e-03,\n",
      "        -2.0740e-01,  2.9334e-01,  1.2523e-01, -1.9108e-01,  7.2327e-01,\n",
      "         3.5398e-01,  5.8835e-01,  2.3655e-01, -3.6452e-01, -2.1121e-01,\n",
      "        -8.4559e-02, -1.9852e-01, -3.7776e-01,  2.8950e-01, -1.1254e-01,\n",
      "        -3.4470e-01,  7.9529e-01, -8.1227e-01, -7.3551e-02,  1.7640e-01,\n",
      "        -4.5904e-02, -1.4390e-01,  4.8293e-01,  2.9189e-01, -4.7673e-01,\n",
      "         4.5374e-01, -1.2997e-01,  7.6827e-01, -4.1976e-01, -2.6248e-01,\n",
      "         1.0889e-02, -3.3361e-01,  2.2405e-02, -6.4547e-01, -3.7729e-03,\n",
      "         5.9124e-01,  4.7734e-02,  7.9606e-01, -9.3942e-03,  1.4581e-01,\n",
      "         2.4222e-01, -1.3084e-01,  1.2165e-01, -5.5045e-02, -6.6889e-01,\n",
      "         2.2393e-01, -1.6279e-01,  5.6833e-01, -1.9348e-01, -1.7430e-01,\n",
      "         3.4857e-01,  1.0178e-01,  1.3743e-01, -7.8109e-02, -1.8490e-01,\n",
      "        -1.8286e-01,  3.2759e-01, -2.8534e-01, -4.9975e-01, -1.7796e-01,\n",
      "        -6.4600e-02,  9.9260e-02, -5.1496e-01,  8.2429e-01, -2.0669e-02,\n",
      "        -2.3188e-01,  4.1123e-02,  1.1738e+00, -1.2170e-01,  1.3382e-01,\n",
      "         1.3547e-01,  3.2464e-02,  5.0048e-01, -4.8703e-01, -7.3783e-01,\n",
      "         1.2644e-01, -2.2754e-02,  2.6677e-01, -5.7815e-01, -8.6468e-01,\n",
      "        -9.0943e-02, -3.2121e-01, -2.8061e-01,  3.2022e-01, -1.3861e-01,\n",
      "         3.1062e-01, -7.0431e-02, -3.2237e-01,  1.0185e-01,  2.1265e-02,\n",
      "         1.9168e-01, -5.2159e-01,  3.0109e-01,  3.4900e-01, -3.3870e-01,\n",
      "        -2.1030e-01,  3.0148e-01,  7.6125e-01, -2.0951e-01, -2.2003e-01,\n",
      "        -2.8936e-01, -1.6974e-01, -2.3593e-01,  2.9935e-01,  3.1862e-01,\n",
      "        -4.8058e-01,  3.0001e-02,  4.2528e-01,  2.4442e-01,  4.4709e-01,\n",
      "        -5.0101e-01,  4.1814e-01, -1.0808e-01,  6.6476e-02,  3.2243e-01,\n",
      "        -1.6903e-01,  1.1680e-02,  5.8085e-01, -3.6137e-01,  2.6396e-01,\n",
      "        -1.7483e-01,  6.5515e-01, -4.5164e-02, -2.4770e-01,  1.5982e-01,\n",
      "        -3.8309e-01,  6.1308e-01,  4.5614e-01, -2.6651e-01, -8.5931e-02,\n",
      "         2.8665e-01, -4.9093e-01,  1.2067e-01, -3.6282e-01, -2.4307e-01,\n",
      "         6.9078e-01,  1.8311e-01,  4.8444e-02, -4.5159e-01, -4.9579e-02,\n",
      "         1.7694e-01,  8.3663e-02,  6.1450e-02, -1.8659e-01, -1.3217e-01,\n",
      "         3.1522e-02,  2.5989e-01, -1.5035e-01, -2.7969e-01,  6.5364e-02,\n",
      "         1.5555e-01, -2.6528e-01, -2.4140e-01,  1.7335e-01,  1.1936e-01,\n",
      "         3.3963e-01,  2.4171e-01, -1.6360e-01, -6.2033e-02,  5.3254e-01,\n",
      "         1.5670e-02,  4.9569e-01, -1.1004e-01,  3.1844e-01, -4.8336e-01,\n",
      "         1.6425e-01, -6.0830e-01,  1.4951e-01, -2.2647e-03, -1.2623e-01,\n",
      "        -4.3721e-01, -3.2106e-01, -4.4814e-01, -2.0345e-01, -2.5627e-01,\n",
      "         3.0508e-01,  4.2714e-01,  3.5705e-01, -3.8839e-02, -2.0901e-01,\n",
      "         5.6945e-03,  1.3256e-01, -5.4744e-01, -4.1235e-01,  5.2506e-01,\n",
      "         4.0321e-01,  2.3269e-01, -1.8363e-02,  2.2970e-01, -4.6667e-01,\n",
      "        -5.4835e-01,  5.4504e-01,  4.3232e-01, -5.4021e-01, -2.8871e-01,\n",
      "        -3.6496e-01, -2.9379e-01, -4.0411e-01,  1.4814e-01, -4.0853e-01,\n",
      "        -3.0186e-01, -6.0117e-01, -4.6348e-01,  6.7209e-01, -3.4237e-01,\n",
      "        -1.5060e-01, -1.3398e-01, -4.3567e-01,  3.8758e-01,  2.3111e-01,\n",
      "         3.4376e-02, -4.7240e-02, -6.9798e-02, -8.2256e-01,  2.4785e-01,\n",
      "         8.6814e-01, -3.0500e-01,  6.1666e-01, -8.8030e-04, -3.1767e-01,\n",
      "         4.9395e-01,  3.4519e-01, -1.5609e-02, -3.0791e-01, -1.5275e-01,\n",
      "        -5.0917e-02, -4.0602e-01,  1.4496e-01, -8.8005e-01, -8.4387e-02,\n",
      "         5.0780e-01, -1.1884e-01,  1.1489e+00, -2.2823e-01,  3.3204e-02,\n",
      "        -2.5040e-01, -4.9491e-01, -6.6297e-02,  5.8687e-01,  3.8890e-02,\n",
      "         2.8899e-01, -5.0803e-01,  1.5470e-01, -5.0258e-01,  2.4108e-01,\n",
      "         4.0258e-01,  3.3800e-01, -4.4136e-01, -1.8874e-01,  2.0076e-01,\n",
      "        -2.9130e-01, -9.8853e-02, -7.4542e-01,  2.7019e-01, -2.8935e-01,\n",
      "         1.6835e-01, -2.7611e-01, -2.1728e-01,  7.8214e-01,  2.5915e-01,\n",
      "         2.6617e-01, -3.8884e-01, -5.2278e-01, -2.2348e-01,  1.5336e-01,\n",
      "         6.1410e-02,  2.9485e-01,  3.6109e-01,  2.0070e-01,  3.8997e-01,\n",
      "         5.6838e-01,  1.4211e-01, -4.1659e-01, -1.4390e-01,  1.5033e-01,\n",
      "         1.9493e-01,  4.7123e-01, -1.1421e-01,  3.1458e-01,  3.7663e-01,\n",
      "        -1.6933e-01, -3.6124e-01, -1.7989e-01, -8.2913e-01, -2.7064e-01,\n",
      "        -9.7675e-02, -7.3909e-02, -2.8937e-01, -3.5338e-01, -3.9048e-01,\n",
      "        -1.4322e-01,  7.6431e-01, -3.3667e-01, -6.3345e-04,  5.8217e-01,\n",
      "         4.5247e-01,  2.3239e-01, -4.8891e-01,  7.7092e-03,  7.7546e-02,\n",
      "        -3.7570e-01,  1.3697e-01, -2.4052e-01, -1.3053e-01, -1.2908e-01,\n",
      "        -4.2558e-01,  6.4587e-03, -1.1419e-02, -4.7267e-01, -3.3459e-01,\n",
      "        -3.3827e-01,  7.0941e-01, -2.3663e-01, -1.1501e-01,  1.6123e-01,\n",
      "         5.2450e-02,  3.6966e-01,  1.6392e-01, -7.5767e-02, -4.4295e-01,\n",
      "         1.3145e-01, -1.0957e-01,  7.7277e-01,  3.4581e-01,  1.1210e-01,\n",
      "         3.5365e-01,  1.8652e-01,  2.2779e-01, -1.3775e-01, -1.0261e-01,\n",
      "        -3.1687e-01,  2.3765e-01, -4.9891e-01,  1.1782e-01,  2.1399e-01,\n",
      "         1.6351e-01,  2.1764e-01, -2.1970e-02, -2.4776e-01, -4.9617e-02,\n",
      "         1.5840e-01, -2.2346e-02, -4.6717e-01, -3.7220e-01, -2.3782e-01,\n",
      "        -5.5991e-01, -7.0027e-01,  7.0936e-02,  4.2870e-01,  3.1180e-02,\n",
      "         9.2264e-02, -9.0905e-01,  2.7665e-01, -1.2141e-01, -3.4103e-01,\n",
      "         4.7206e-01,  1.1966e-01,  5.7461e-02, -1.0096e-01, -2.7745e-01,\n",
      "        -4.8039e-01, -8.0549e-02,  9.3576e-02,  5.9210e-01, -1.8529e-01,\n",
      "        -1.9914e-01, -4.1671e-02,  5.5229e-01,  2.0773e-01, -1.9724e-01,\n",
      "        -3.9415e-01,  2.2479e-01, -4.4116e-01, -2.4316e-02, -7.3986e-02,\n",
      "         2.7426e-03,  2.9905e-01, -1.0353e-01, -2.8914e-01, -3.3447e-01,\n",
      "        -2.0671e-01,  1.4384e-01, -2.8016e-01,  4.5383e-01, -1.6548e-01,\n",
      "         4.9355e-01,  2.0525e-01, -3.7150e-01, -6.6594e-03, -3.0237e-01,\n",
      "        -3.0805e-02,  6.2141e-01, -3.2394e-01,  7.7456e-02,  1.3611e-01,\n",
      "        -3.5918e-01, -3.6336e-02, -3.8019e-02, -2.3537e-02, -4.8004e-01,\n",
      "        -2.6616e-01,  5.6931e-01, -8.0391e-01, -8.9407e-02, -5.1537e-02,\n",
      "        -6.4458e-02, -4.6940e-01,  2.9787e-01, -6.8360e-02,  7.8496e-01,\n",
      "         3.8671e-01, -2.7168e-02,  1.9636e-01,  5.1116e-01,  1.6478e-01,\n",
      "         6.7274e-02,  1.9343e-01,  2.2725e-02,  6.0771e-01,  4.2051e-01,\n",
      "        -8.5094e-02,  3.2621e-01,  2.4471e-01, -2.7222e-03,  2.7870e-01,\n",
      "         2.0882e-01,  5.6612e-01,  1.4462e-01,  3.1047e-02, -3.4091e-01,\n",
      "         8.6287e-03,  3.2699e-01, -2.6603e-01, -4.5068e-01, -2.3754e-01,\n",
      "        -1.6645e-01,  8.2975e-02, -1.6202e-01,  1.1704e-01, -1.0441e-01,\n",
      "         2.8260e-01, -3.4899e-01,  3.7029e-01,  5.0484e-01,  2.9152e-01,\n",
      "         5.7794e-02, -2.8371e-01,  8.0880e-02, -2.2200e-01,  2.9299e-01,\n",
      "        -5.3745e-01,  1.1196e-01])\n",
      "Embedding of the sixth token:          tensor([ 4.0670e-01, -1.5957e-02, -5.5749e-02, -1.8664e-01, -1.0637e-01,\n",
      "         5.7734e-01, -2.4321e-01, -8.5970e-02,  9.5050e-02, -1.1381e-01,\n",
      "         1.5501e-01,  1.0555e-01,  2.7701e-01,  2.5504e-02, -1.9787e-01,\n",
      "        -1.7055e-01,  9.1745e-02, -2.2283e-01,  4.0530e-01,  1.9252e-01,\n",
      "         1.5587e-01,  1.6234e-01, -3.9525e-01,  9.1326e-02, -2.3556e-01,\n",
      "         4.4534e-01,  1.7157e-01, -1.9360e-01, -3.1534e-01, -1.1223e-02,\n",
      "        -2.0934e-02, -4.6897e-02,  4.9836e-01, -3.3545e-01,  9.2799e-01,\n",
      "        -7.6156e-02, -1.2663e-01, -6.2433e-01, -1.7831e-01, -1.8997e-01,\n",
      "        -4.3208e-01, -4.1477e-01,  2.3899e-01, -4.8116e-01,  7.7639e-01,\n",
      "         1.4690e-01,  5.5217e-03, -4.9951e-02, -8.5100e-01, -2.3178e-01,\n",
      "        -5.0207e-01, -6.0413e-01, -2.2787e-01,  9.3521e-02,  1.6129e-01,\n",
      "        -3.8025e-01,  1.0918e-01, -2.7538e-01, -2.1413e-01,  2.3499e-01,\n",
      "         5.1228e-01,  4.2274e-01, -1.4833e-01, -4.7724e-01, -5.2911e-01,\n",
      "        -3.7841e-01, -7.0353e-02,  6.3963e-02,  3.6678e-01,  3.4366e-01,\n",
      "        -8.2382e-01,  4.3758e-02,  5.6116e-02,  2.0212e-01,  1.2389e-02,\n",
      "        -7.1507e-02,  2.5590e-01, -3.3381e-01, -2.2684e-01, -8.3416e-02,\n",
      "         1.4881e-01, -7.9717e-01,  8.9007e-04,  7.8261e-02, -2.3971e-01,\n",
      "         3.5234e-01,  2.9692e-02,  3.0852e-01,  3.4436e-01,  5.2066e-02,\n",
      "         2.7341e-01,  1.3088e-01,  4.3501e-01, -1.4901e-01,  3.3127e-01,\n",
      "         4.3066e-01,  1.1211e-01, -2.0999e-02,  3.5129e-02, -1.4621e-01,\n",
      "         1.6524e-01,  3.6189e-01, -2.9175e-02,  1.6231e-05, -3.7822e-01,\n",
      "         4.7937e-02,  3.0615e-01,  3.3866e-01, -1.1831e-01,  4.3766e-01,\n",
      "         3.5951e-01,  3.7069e-02, -1.6713e-01, -1.0990e-01,  1.1708e-01,\n",
      "        -2.8177e-01, -5.6091e-02,  5.4106e-01,  1.8168e-01,  3.2311e-01,\n",
      "         2.0874e-01, -3.4966e-01,  3.3507e-01,  4.8278e-01,  5.5446e-02,\n",
      "         6.3965e-01, -2.4496e-01,  2.2218e-01,  3.0579e-01, -3.1892e-01,\n",
      "        -1.0092e-01,  4.8657e-01, -1.8435e-01, -3.0592e-02,  1.3080e-01,\n",
      "         3.3949e-01,  1.6451e-01,  2.4988e-01, -3.6652e-01,  4.4014e-01,\n",
      "        -3.0610e-01, -2.8368e-01, -1.7330e-01, -6.7473e-02, -7.4575e-02,\n",
      "        -2.3131e-02, -4.2902e-01,  5.7595e-01,  1.8863e-01, -2.1791e-01,\n",
      "         4.7984e-01, -1.1300e-01,  5.5985e-03, -1.9554e-02, -3.8705e-01,\n",
      "         5.7992e-01,  1.3118e-02,  2.3326e-01, -2.3116e-01,  5.6244e-01,\n",
      "        -1.8920e-01, -2.5921e-01, -8.0713e-02,  1.3712e-01, -1.3358e-01,\n",
      "        -1.3086e-01, -8.3402e-02,  3.3194e-01, -3.4486e-01, -1.1949e-01,\n",
      "        -2.7640e-01, -8.1734e-02,  1.9406e-02,  6.9622e-02,  2.3648e-01,\n",
      "        -6.7830e-01,  2.3965e-01, -7.7178e-02, -1.7703e-01, -9.2114e-02,\n",
      "         2.0714e-01,  1.0432e-01,  2.7478e-01,  2.1638e-01,  3.0326e-01,\n",
      "         2.0281e-01, -3.3971e-01,  2.5975e-01, -3.8451e-01, -2.4495e-01,\n",
      "        -7.6318e-01, -5.7553e-01, -1.0312e-01, -4.0933e-01,  3.7117e-03,\n",
      "        -3.3323e-02,  7.4315e-01, -1.7003e-01,  1.5699e-01, -4.0482e-01,\n",
      "         1.1082e-01,  2.5465e-01,  3.6210e-02, -2.3230e-01,  1.7884e-02,\n",
      "        -2.2758e-01, -3.4929e-01,  4.4169e-01,  3.8027e-03, -3.4421e-01,\n",
      "         2.3887e-01, -7.2662e-02, -1.3953e-01, -1.7768e-01, -4.9235e-01,\n",
      "         6.1224e-03, -1.6383e-01, -2.6523e-01, -4.1281e-01, -4.1013e-01,\n",
      "        -6.2190e-01, -2.0783e-01,  8.7022e-03, -5.6296e-02,  2.4020e-01,\n",
      "        -3.3345e-02,  1.3580e-01,  1.6431e-01, -1.4922e-01, -6.6402e-01,\n",
      "         9.6496e-02, -1.2135e-01, -3.0730e-01,  1.1307e-01,  9.0471e-02,\n",
      "        -2.2129e-01, -5.7122e-02,  5.8439e-01, -5.1863e-01, -7.6608e-01,\n",
      "        -2.9449e-01,  4.4689e-01, -5.7290e-01, -1.8438e-01, -5.4240e-01,\n",
      "         3.0496e-01, -5.9948e-01, -5.2631e-01, -2.8587e-01, -3.8569e-03,\n",
      "         8.4470e-02,  7.5754e-01,  2.7085e-01, -3.4533e-01, -1.3407e-01,\n",
      "        -1.0697e-01, -1.9086e-01, -2.2230e-01,  2.3744e-01,  4.3447e-01,\n",
      "         4.7896e-02, -4.7437e-01,  8.9067e-02, -1.2447e-01,  5.6608e-02,\n",
      "        -2.1424e-01, -3.3449e-01,  3.1168e-01, -4.6917e-01,  1.0005e+00,\n",
      "        -3.2450e-02, -4.2734e-01,  1.9612e-02, -1.8352e-01, -1.0035e-02,\n",
      "        -3.1918e-02,  2.5927e-01,  5.0404e-01,  1.3789e-02,  3.3130e-01,\n",
      "         2.0692e-01,  5.4815e-01, -3.6912e-01, -1.6883e-02, -2.3442e-02,\n",
      "         1.0689e-01, -1.7760e-01, -5.4775e-01, -1.4502e-01,  8.2747e-02,\n",
      "         5.5065e-01, -5.9420e-02,  2.1388e-01, -1.2078e-01, -4.9107e-02,\n",
      "        -5.4391e-01,  3.4265e-01, -1.5923e-01,  8.4173e-02,  1.9680e-01,\n",
      "         6.7727e-01, -6.8459e-02, -4.1469e-01, -5.2518e-01,  6.7260e-01,\n",
      "        -2.0578e-01,  2.0595e-01,  2.1605e-01, -1.4526e-01,  9.5677e-02,\n",
      "         7.2519e-02, -1.0435e-01,  6.9709e-03,  1.2174e-01, -9.0040e-04,\n",
      "         1.3301e-01, -1.4832e-02, -8.0783e-01, -2.9309e-01, -7.1559e-02,\n",
      "        -3.4871e-01, -8.9276e-02, -7.5974e-01,  9.9474e-02, -4.5627e-02,\n",
      "         1.4342e-01, -1.2292e-01, -9.9865e-02,  2.1314e-01,  1.0375e-01,\n",
      "         5.0280e-01, -5.6149e-01,  1.2787e-02, -3.4573e-01, -2.6323e-01,\n",
      "        -1.7019e-01, -3.3329e-01,  6.9095e-02, -1.3044e-01,  1.2043e-01,\n",
      "         2.9199e-01,  1.9296e-01,  1.2907e-01, -9.5630e-02, -3.5232e-02,\n",
      "         2.8806e-01,  3.6533e-01, -1.7255e-02, -3.6842e-01,  5.0425e-01,\n",
      "        -1.3617e-01,  1.7926e-01, -5.8294e-01, -2.0157e-01, -4.2022e-01,\n",
      "        -9.6511e-02,  1.8133e-01, -2.9389e-01,  1.6294e-01,  4.2224e-01,\n",
      "        -2.9205e-01,  9.1789e-02, -1.2650e-01, -3.0457e-02, -2.2136e-01,\n",
      "        -6.3845e-01, -1.1280e-01, -8.7672e-02, -3.2197e-02,  4.9587e-01,\n",
      "         4.7781e-04,  6.6928e-01, -2.5589e-01, -4.5322e-02,  3.1456e-01,\n",
      "         2.1774e-01,  3.4597e-02,  2.1648e-01,  4.7900e-01, -5.8520e-01,\n",
      "         9.8518e-02,  4.8287e-01,  3.5469e-01,  1.6499e-01,  1.8661e-01,\n",
      "         7.3341e-02,  6.9801e-01,  1.5953e-01, -5.7986e-02, -2.4259e-01,\n",
      "         1.8378e-02,  1.1614e-01, -8.5704e-01, -2.5529e-01,  7.8681e-01,\n",
      "        -3.6348e-01, -7.4781e-01,  2.1726e-01,  8.7009e-03,  3.5702e-01,\n",
      "         1.7167e-01, -8.1453e-02,  1.1027e-01, -2.0847e-01,  3.3582e-01,\n",
      "        -1.0094e-01,  3.2979e-01, -2.2406e-01, -1.1935e-01,  3.1715e-01,\n",
      "         5.3982e-01,  9.8872e-02, -4.7452e-01, -2.1976e-01, -1.6789e-01,\n",
      "         1.5743e-01,  6.5609e-01, -9.9577e-02, -7.0020e-01, -5.2133e-01,\n",
      "         9.7719e-03,  7.7674e-02, -4.5740e-01,  1.0129e-01,  4.6044e-01,\n",
      "        -2.4311e-01, -3.3818e-01, -8.0234e-02,  5.8843e-02, -3.0127e-01,\n",
      "         6.4116e-01,  2.6722e-01,  2.5212e-02,  1.5157e-02,  8.7056e-02,\n",
      "        -6.0771e-01,  2.0048e-01,  3.5350e-01,  2.7784e-01,  1.8485e-01,\n",
      "        -1.4609e-02,  8.1302e-01, -1.0789e-02, -3.6465e-03,  4.0283e-01,\n",
      "         2.7683e-01,  4.9662e-01,  7.0118e-02, -2.3932e-02,  5.0379e-01,\n",
      "         2.3817e-01,  2.6765e-02, -6.0828e-01, -1.9020e-01,  4.1242e-01,\n",
      "        -1.8677e-01, -3.3031e-01,  2.9025e-01, -2.6222e-02, -2.4593e-01,\n",
      "         3.5729e-01,  2.4310e-01, -1.6475e-01,  9.9383e-03, -4.0004e-02,\n",
      "         2.7082e-01, -2.6061e-01,  2.0546e-01,  2.5865e-01, -4.7154e-01,\n",
      "        -7.6739e-02, -2.0430e-01, -2.0377e-01, -4.3046e-01, -2.0975e-02,\n",
      "         1.3256e-02,  6.8779e-01, -2.6021e-01, -8.4631e-02,  2.0163e-01,\n",
      "        -4.7832e-01, -2.0157e-01, -2.3301e-01,  3.7850e-01,  2.0039e-01,\n",
      "         3.6820e-02, -1.4715e-01,  1.3690e-01,  8.1306e-01, -4.3738e-01,\n",
      "        -4.1261e-01,  4.7262e-01, -1.2655e-01,  1.2846e-01,  5.6988e-01,\n",
      "         1.5482e-01, -1.6831e-01, -8.0843e-01, -5.5702e-02, -2.6079e-01,\n",
      "         6.8620e-01,  3.9320e-01, -3.2550e-01, -1.8152e-01, -1.2570e-01,\n",
      "        -4.2128e-02, -6.0933e-02, -3.4130e-01, -4.6909e-02, -1.7160e-01,\n",
      "         2.5038e-01, -3.4182e-01])\n",
      "Embedding of the twenty-fifth token:   tensor([0., 0., 0., 0., 0., 0., 0., 0., 0., 0., 0., 0., 0., 0., 0., 0., 0., 0., 0., 0., 0., 0., 0., 0.,\n",
      "        0., 0., 0., 0., 0., 0., 0., 0., 0., 0., 0., 0., 0., 0., 0., 0., 0., 0., 0., 0., 0., 0., 0., 0.,\n",
      "        0., 0., 0., 0., 0., 0., 0., 0., 0., 0., 0., 0., 0., 0., 0., 0., 0., 0., 0., 0., 0., 0., 0., 0.,\n",
      "        0., 0., 0., 0., 0., 0., 0., 0., 0., 0., 0., 0., 0., 0., 0., 0., 0., 0., 0., 0., 0., 0., 0., 0.,\n",
      "        0., 0., 0., 0., 0., 0., 0., 0., 0., 0., 0., 0., 0., 0., 0., 0., 0., 0., 0., 0., 0., 0., 0., 0.,\n",
      "        0., 0., 0., 0., 0., 0., 0., 0., 0., 0., 0., 0., 0., 0., 0., 0., 0., 0., 0., 0., 0., 0., 0., 0.,\n",
      "        0., 0., 0., 0., 0., 0., 0., 0., 0., 0., 0., 0., 0., 0., 0., 0., 0., 0., 0., 0., 0., 0., 0., 0.,\n",
      "        0., 0., 0., 0., 0., 0., 0., 0., 0., 0., 0., 0., 0., 0., 0., 0., 0., 0., 0., 0., 0., 0., 0., 0.,\n",
      "        0., 0., 0., 0., 0., 0., 0., 0., 0., 0., 0., 0., 0., 0., 0., 0., 0., 0., 0., 0., 0., 0., 0., 0.,\n",
      "        0., 0., 0., 0., 0., 0., 0., 0., 0., 0., 0., 0., 0., 0., 0., 0., 0., 0., 0., 0., 0., 0., 0., 0.,\n",
      "        0., 0., 0., 0., 0., 0., 0., 0., 0., 0., 0., 0., 0., 0., 0., 0., 0., 0., 0., 0., 0., 0., 0., 0.,\n",
      "        0., 0., 0., 0., 0., 0., 0., 0., 0., 0., 0., 0., 0., 0., 0., 0., 0., 0., 0., 0., 0., 0., 0., 0.,\n",
      "        0., 0., 0., 0., 0., 0., 0., 0., 0., 0., 0., 0., 0., 0., 0., 0., 0., 0., 0., 0., 0., 0., 0., 0.,\n",
      "        0., 0., 0., 0., 0., 0., 0., 0., 0., 0., 0., 0., 0., 0., 0., 0., 0., 0., 0., 0., 0., 0., 0., 0.,\n",
      "        0., 0., 0., 0., 0., 0., 0., 0., 0., 0., 0., 0., 0., 0., 0., 0., 0., 0., 0., 0., 0., 0., 0., 0.,\n",
      "        0., 0., 0., 0., 0., 0., 0., 0., 0., 0., 0., 0., 0., 0., 0., 0., 0., 0., 0., 0., 0., 0., 0., 0.,\n",
      "        0., 0., 0., 0., 0., 0., 0., 0., 0., 0., 0., 0., 0., 0., 0., 0., 0., 0., 0., 0., 0., 0., 0., 0.,\n",
      "        0., 0., 0., 0., 0., 0., 0., 0., 0., 0., 0., 0., 0., 0., 0., 0., 0., 0., 0., 0., 0., 0., 0., 0.,\n",
      "        0., 0., 0., 0., 0., 0., 0., 0., 0., 0., 0., 0., 0., 0., 0., 0., 0., 0., 0., 0., 0., 0., 0., 0.,\n",
      "        0., 0., 0., 0., 0., 0., 0., 0., 0., 0., 0., 0., 0., 0., 0., 0., 0., 0., 0., 0., 0., 0., 0., 0.,\n",
      "        0., 0., 0., 0., 0., 0., 0., 0., 0., 0., 0., 0., 0., 0., 0., 0., 0., 0., 0., 0., 0., 0., 0., 0.,\n",
      "        0., 0., 0., 0., 0., 0., 0., 0.])\n",
      "Embedding of the fortieth token:       tensor([0., 0., 0., 0., 0., 0., 0., 0., 0., 0., 0., 0., 0., 0., 0., 0., 0., 0., 0., 0., 0., 0., 0., 0.,\n",
      "        0., 0., 0., 0., 0., 0., 0., 0., 0., 0., 0., 0., 0., 0., 0., 0., 0., 0., 0., 0., 0., 0., 0., 0.,\n",
      "        0., 0., 0., 0., 0., 0., 0., 0., 0., 0., 0., 0., 0., 0., 0., 0., 0., 0., 0., 0., 0., 0., 0., 0.,\n",
      "        0., 0., 0., 0., 0., 0., 0., 0., 0., 0., 0., 0., 0., 0., 0., 0., 0., 0., 0., 0., 0., 0., 0., 0.,\n",
      "        0., 0., 0., 0., 0., 0., 0., 0., 0., 0., 0., 0., 0., 0., 0., 0., 0., 0., 0., 0., 0., 0., 0., 0.,\n",
      "        0., 0., 0., 0., 0., 0., 0., 0., 0., 0., 0., 0., 0., 0., 0., 0., 0., 0., 0., 0., 0., 0., 0., 0.,\n",
      "        0., 0., 0., 0., 0., 0., 0., 0., 0., 0., 0., 0., 0., 0., 0., 0., 0., 0., 0., 0., 0., 0., 0., 0.,\n",
      "        0., 0., 0., 0., 0., 0., 0., 0., 0., 0., 0., 0., 0., 0., 0., 0., 0., 0., 0., 0., 0., 0., 0., 0.,\n",
      "        0., 0., 0., 0., 0., 0., 0., 0., 0., 0., 0., 0., 0., 0., 0., 0., 0., 0., 0., 0., 0., 0., 0., 0.,\n",
      "        0., 0., 0., 0., 0., 0., 0., 0., 0., 0., 0., 0., 0., 0., 0., 0., 0., 0., 0., 0., 0., 0., 0., 0.,\n",
      "        0., 0., 0., 0., 0., 0., 0., 0., 0., 0., 0., 0., 0., 0., 0., 0., 0., 0., 0., 0., 0., 0., 0., 0.,\n",
      "        0., 0., 0., 0., 0., 0., 0., 0., 0., 0., 0., 0., 0., 0., 0., 0., 0., 0., 0., 0., 0., 0., 0., 0.,\n",
      "        0., 0., 0., 0., 0., 0., 0., 0., 0., 0., 0., 0., 0., 0., 0., 0., 0., 0., 0., 0., 0., 0., 0., 0.,\n",
      "        0., 0., 0., 0., 0., 0., 0., 0., 0., 0., 0., 0., 0., 0., 0., 0., 0., 0., 0., 0., 0., 0., 0., 0.,\n",
      "        0., 0., 0., 0., 0., 0., 0., 0., 0., 0., 0., 0., 0., 0., 0., 0., 0., 0., 0., 0., 0., 0., 0., 0.,\n",
      "        0., 0., 0., 0., 0., 0., 0., 0., 0., 0., 0., 0., 0., 0., 0., 0., 0., 0., 0., 0., 0., 0., 0., 0.,\n",
      "        0., 0., 0., 0., 0., 0., 0., 0., 0., 0., 0., 0., 0., 0., 0., 0., 0., 0., 0., 0., 0., 0., 0., 0.,\n",
      "        0., 0., 0., 0., 0., 0., 0., 0., 0., 0., 0., 0., 0., 0., 0., 0., 0., 0., 0., 0., 0., 0., 0., 0.,\n",
      "        0., 0., 0., 0., 0., 0., 0., 0., 0., 0., 0., 0., 0., 0., 0., 0., 0., 0., 0., 0., 0., 0., 0., 0.,\n",
      "        0., 0., 0., 0., 0., 0., 0., 0., 0., 0., 0., 0., 0., 0., 0., 0., 0., 0., 0., 0., 0., 0., 0., 0.,\n",
      "        0., 0., 0., 0., 0., 0., 0., 0., 0., 0., 0., 0., 0., 0., 0., 0., 0., 0., 0., 0., 0., 0., 0., 0.,\n",
      "        0., 0., 0., 0., 0., 0., 0., 0.])\n",
      "Embedding of the fiftieth token:       tensor([0., 0., 0., 0., 0., 0., 0., 0., 0., 0., 0., 0., 0., 0., 0., 0., 0., 0., 0., 0., 0., 0., 0., 0.,\n",
      "        0., 0., 0., 0., 0., 0., 0., 0., 0., 0., 0., 0., 0., 0., 0., 0., 0., 0., 0., 0., 0., 0., 0., 0.,\n",
      "        0., 0., 0., 0., 0., 0., 0., 0., 0., 0., 0., 0., 0., 0., 0., 0., 0., 0., 0., 0., 0., 0., 0., 0.,\n",
      "        0., 0., 0., 0., 0., 0., 0., 0., 0., 0., 0., 0., 0., 0., 0., 0., 0., 0., 0., 0., 0., 0., 0., 0.,\n",
      "        0., 0., 0., 0., 0., 0., 0., 0., 0., 0., 0., 0., 0., 0., 0., 0., 0., 0., 0., 0., 0., 0., 0., 0.,\n",
      "        0., 0., 0., 0., 0., 0., 0., 0., 0., 0., 0., 0., 0., 0., 0., 0., 0., 0., 0., 0., 0., 0., 0., 0.,\n",
      "        0., 0., 0., 0., 0., 0., 0., 0., 0., 0., 0., 0., 0., 0., 0., 0., 0., 0., 0., 0., 0., 0., 0., 0.,\n",
      "        0., 0., 0., 0., 0., 0., 0., 0., 0., 0., 0., 0., 0., 0., 0., 0., 0., 0., 0., 0., 0., 0., 0., 0.,\n",
      "        0., 0., 0., 0., 0., 0., 0., 0., 0., 0., 0., 0., 0., 0., 0., 0., 0., 0., 0., 0., 0., 0., 0., 0.,\n",
      "        0., 0., 0., 0., 0., 0., 0., 0., 0., 0., 0., 0., 0., 0., 0., 0., 0., 0., 0., 0., 0., 0., 0., 0.,\n",
      "        0., 0., 0., 0., 0., 0., 0., 0., 0., 0., 0., 0., 0., 0., 0., 0., 0., 0., 0., 0., 0., 0., 0., 0.,\n",
      "        0., 0., 0., 0., 0., 0., 0., 0., 0., 0., 0., 0., 0., 0., 0., 0., 0., 0., 0., 0., 0., 0., 0., 0.,\n",
      "        0., 0., 0., 0., 0., 0., 0., 0., 0., 0., 0., 0., 0., 0., 0., 0., 0., 0., 0., 0., 0., 0., 0., 0.,\n",
      "        0., 0., 0., 0., 0., 0., 0., 0., 0., 0., 0., 0., 0., 0., 0., 0., 0., 0., 0., 0., 0., 0., 0., 0.,\n",
      "        0., 0., 0., 0., 0., 0., 0., 0., 0., 0., 0., 0., 0., 0., 0., 0., 0., 0., 0., 0., 0., 0., 0., 0.,\n",
      "        0., 0., 0., 0., 0., 0., 0., 0., 0., 0., 0., 0., 0., 0., 0., 0., 0., 0., 0., 0., 0., 0., 0., 0.,\n",
      "        0., 0., 0., 0., 0., 0., 0., 0., 0., 0., 0., 0., 0., 0., 0., 0., 0., 0., 0., 0., 0., 0., 0., 0.,\n",
      "        0., 0., 0., 0., 0., 0., 0., 0., 0., 0., 0., 0., 0., 0., 0., 0., 0., 0., 0., 0., 0., 0., 0., 0.,\n",
      "        0., 0., 0., 0., 0., 0., 0., 0., 0., 0., 0., 0., 0., 0., 0., 0., 0., 0., 0., 0., 0., 0., 0., 0.,\n",
      "        0., 0., 0., 0., 0., 0., 0., 0., 0., 0., 0., 0., 0., 0., 0., 0., 0., 0., 0., 0., 0., 0., 0., 0.,\n",
      "        0., 0., 0., 0., 0., 0., 0., 0., 0., 0., 0., 0., 0., 0., 0., 0., 0., 0., 0., 0., 0., 0., 0., 0.,\n",
      "        0., 0., 0., 0., 0., 0., 0., 0.])\n"
     ]
    }
   ],
   "source": [
    "sequence = TrainTweetsDataset[0][0]\n",
    "sequence_embeddings = pretrained_embeddings_layer(sequence)\n",
    "\n",
    "print('Embedding of the first token:          {}'.format(sequence_embeddings[0]))\n",
    "print('Embedding of the second token:         {}'.format(sequence_embeddings[1]))\n",
    "print('Embedding of the third token:          {}'.format(sequence_embeddings[2]))\n",
    "print('Embedding of the fourth token:         {}'.format(sequence_embeddings[3]))\n",
    "print('Embedding of the fifth token:          {}'.format(sequence_embeddings[4]))\n",
    "print('Embedding of the sixth token:          {}'.format(sequence_embeddings[5]))\n",
    "print('Embedding of the twenty-fifth token:   {}'.format(sequence_embeddings[24]))\n",
    "print('Embedding of the fortieth token:       {}'.format(sequence_embeddings[39]))\n",
    "print('Embedding of the fiftieth token:       {}'.format(sequence_embeddings[49]))"
   ]
  },
  {
   "cell_type": "markdown",
   "metadata": {},
   "source": [
    "# Training LSTM Neural Network with Custom Pre-trained Word2Vec Embeddings"
   ]
  },
  {
   "cell_type": "markdown",
   "metadata": {},
   "source": [
    "## SkipGram embeddings"
   ]
  },
  {
   "cell_type": "code",
   "execution_count": 21,
   "metadata": {
    "ExecuteTime": {
     "end_time": "2023-12-21T15:34:50.418593600Z",
     "start_time": "2023-12-21T15:34:50.412589100Z"
    }
   },
   "outputs": [],
   "source": [
    "TrainTweetsDataset_SkipGram = TweetsDataset(tweets_train, 'skipgram')\n",
    "# Create a dataloade for the training dataset\n",
    "TrainDataLoader_SkipGram = torch.utils.data.DataLoader(dataset = TrainTweetsDataset_SkipGram, batch_size = 128, shuffle = True)\n",
    "\n",
    "TestTweetsDataset_SkipGram = TweetsDataset(tweets_test, 'skipgram')\n",
    "# Create a dataloade for the training dataset\n",
    "TestDataLoader_SkipGram = torch.utils.data.DataLoader(dataset = TestTweetsDataset_SkipGram, batch_size = 128, shuffle = False)"
   ]
  },
  {
   "cell_type": "code",
   "execution_count": 22,
   "metadata": {},
   "outputs": [
    {
     "data": {
      "text/plain": [
       "'# Initialize the network, loss function, and optimizer\\ndevice = set_device()\\ncustomPreTrainedLSTM = CustomLSTM(word2vec_model = skipgram_model,\\n                                  hidden_size = 64, \\n                                  output_size = 1, \\n                                  num_layers = 1, \\n                                  bidirectional = True,\\n                                  freeze_embeddings = True).to(device)\\n\\ncriterion = torch.nn.BCEWithLogitsLoss()\\noptimizer = torch.optim.Adam(customPreTrainedLSTM.parameters(), lr = 1e-2, weight_decay = 1e-5)'"
      ]
     },
     "execution_count": 22,
     "metadata": {},
     "output_type": "execute_result"
    }
   ],
   "source": [
    "'''# Initialize the network, loss function, and optimizer\n",
    "device = set_device()\n",
    "customPreTrainedLSTM = CustomLSTM(word2vec_model = skipgram_model,\n",
    "                                  hidden_size = 64, \n",
    "                                  output_size = 1, \n",
    "                                  num_layers = 1, \n",
    "                                  bidirectional = True,\n",
    "                                  freeze_embeddings = True).to(device)\n",
    "\n",
    "criterion = torch.nn.BCEWithLogitsLoss()\n",
    "optimizer = torch.optim.Adam(customPreTrainedLSTM.parameters(), lr = 1e-2, weight_decay = 1e-5)'''"
   ]
  },
  {
   "cell_type": "code",
   "execution_count": 23,
   "metadata": {},
   "outputs": [
    {
     "data": {
      "text/plain": [
       "'train_losses, train_f1s, test_losses, test_f1s = train(customPreTrainedLSTM, TrainDataLoader_SkipGram, TestDataLoader_SkipGram, optimizer, criterion, epochs = 8, device = device)'"
      ]
     },
     "execution_count": 23,
     "metadata": {},
     "output_type": "execute_result"
    }
   ],
   "source": [
    "'''train_losses, train_f1s, test_losses, test_f1s = train(customPreTrainedLSTM, TrainDataLoader_SkipGram, TestDataLoader_SkipGram, optimizer, criterion, epochs = 8, device = device)'''"
   ]
  },
  {
   "cell_type": "code",
   "execution_count": 24,
   "metadata": {},
   "outputs": [
    {
     "data": {
      "text/plain": [
       "'# Initialize the network, loss function, and optimizer\\ndevice = set_device()\\ncustomPreTrainedLSTM_Attention = CustomLSTM_Attention(word2vec_model = skipgram_model, \\n                                                      hidden_size = 64, \\n                                                      output_size = 1, \\n                                                      num_layers = 1, \\n                                                      bidirectional = True,\\n                                                      freeze_embeddings = False).to(device)\\n\\ncriterion = torch.nn.BCEWithLogitsLoss()\\noptimizer = torch.optim.Adam(customPreTrainedLSTM_Attention.parameters(), lr = 1e-4, weight_decay = 1e-4)'"
      ]
     },
     "execution_count": 24,
     "metadata": {},
     "output_type": "execute_result"
    }
   ],
   "source": [
    "'''# Initialize the network, loss function, and optimizer\n",
    "device = set_device()\n",
    "customPreTrainedLSTM_Attention = CustomLSTM_Attention(word2vec_model = skipgram_model, \n",
    "                                                      hidden_size = 64, \n",
    "                                                      output_size = 1, \n",
    "                                                      num_layers = 1, \n",
    "                                                      bidirectional = True,\n",
    "                                                      freeze_embeddings = False).to(device)\n",
    "\n",
    "criterion = torch.nn.BCEWithLogitsLoss()\n",
    "optimizer = torch.optim.Adam(customPreTrainedLSTM_Attention.parameters(), lr = 1e-4, weight_decay = 1e-4)'''"
   ]
  },
  {
   "cell_type": "code",
   "execution_count": 25,
   "metadata": {},
   "outputs": [
    {
     "data": {
      "text/plain": [
       "'train_losses, train_f1s, test_losses, test_f1s = train(customPreTrainedLSTM_Attention, TrainDataLoader_SkipGram, TestDataLoader_SkipGram, optimizer, criterion, epochs = 16, device = device)'"
      ]
     },
     "execution_count": 25,
     "metadata": {},
     "output_type": "execute_result"
    }
   ],
   "source": [
    "'''train_losses, train_f1s, test_losses, test_f1s = train(customPreTrainedLSTM_Attention, TrainDataLoader_SkipGram, TestDataLoader_SkipGram, optimizer, criterion, epochs = 16, device = device)'''"
   ]
  },
  {
   "cell_type": "code",
   "execution_count": 56,
   "metadata": {},
   "outputs": [
    {
     "name": "stdout",
     "output_type": "stream",
     "text": [
      "Device: mps\n"
     ]
    }
   ],
   "source": [
    "# Initialize the network, loss function, and optimizer\n",
    "device = set_device()\n",
    "\n",
    "customPreTrainedLSTM_MultiheadAttention = CustomLSTM_MultiHeadAttention(word2vec_model = skipgram_model,\n",
    "                                                                        hidden_size = 512, \n",
    "                                                                        output_size = 1, \n",
    "                                                                        dropout = 0.3,\n",
    "                                                                        num_layers = 3, \n",
    "                                                                        bidirectional = True,\n",
    "                                                                        freeze_embeddings = True,\n",
    "                                                                        num_heads = 32).to(device)\n",
    "\n",
    "criterion = torch.nn.BCEWithLogitsLoss()\n",
    "optimizer = torch.optim.Adam(customPreTrainedLSTM_MultiheadAttention.parameters(), lr = 1e-4)"
   ]
  },
  {
   "cell_type": "code",
   "execution_count": 57,
   "metadata": {},
   "outputs": [
    {
     "name": "stdout",
     "output_type": "stream",
     "text": [
      "Epoch 1/64\n",
      "======== Training phase ========\n"
     ]
    },
    {
     "name": "stderr",
     "output_type": "stream",
     "text": [
      "Loss = 0.5624 | Accuracy = 73.77% | F1-Score = 60.00% | Batch ID = 60 : 100%|██████████| 60/60 [00:14<00:00,  4.03it/s]\n"
     ]
    },
    {
     "name": "stdout",
     "output_type": "stream",
     "text": [
      "Training Cross-Entropy Loss = 0.6985\n",
      "Training Accuracy = 71.80%\n",
      "Training F1-Score = 63.39%\n",
      "======== Validation phase ========\n"
     ]
    },
    {
     "name": "stderr",
     "output_type": "stream",
     "text": [
      "Loss = 0.4775 | Accuracy = 77.78% | F1-Score = 75.00% | Batch ID = 26 : 100%|██████████| 26/26 [00:02<00:00, 10.34it/s]\n"
     ]
    },
    {
     "name": "stdout",
     "output_type": "stream",
     "text": [
      "Test Cross-Entropy Loss = 0.5670\n",
      "Test Accuracy = 70.76%\n",
      "Test F1-Score = 59.85%\n",
      "\n",
      "Epoch 2/64\n",
      "======== Training phase ========\n"
     ]
    },
    {
     "name": "stderr",
     "output_type": "stream",
     "text": [
      "Loss = 0.3682 | Accuracy = 85.25% | F1-Score = 78.05% | Batch ID = 60 : 100%|██████████| 60/60 [00:13<00:00,  4.45it/s]\n"
     ]
    },
    {
     "name": "stdout",
     "output_type": "stream",
     "text": [
      "Training Cross-Entropy Loss = 0.4666\n",
      "Training Accuracy = 78.44%\n",
      "Training F1-Score = 70.97%\n",
      "======== Validation phase ========\n"
     ]
    },
    {
     "name": "stderr",
     "output_type": "stream",
     "text": [
      "Loss = 0.8283 | Accuracy = 73.02% | F1-Score = 63.83% | Batch ID = 26 : 100%|██████████| 26/26 [00:02<00:00, 10.58it/s]\n"
     ]
    },
    {
     "name": "stdout",
     "output_type": "stream",
     "text": [
      "Test Cross-Entropy Loss = 1.1060\n",
      "Test Accuracy = 66.47%\n",
      "Test F1-Score = 38.68%\n",
      "\n",
      "Epoch 3/64\n",
      "======== Training phase ========\n"
     ]
    },
    {
     "name": "stderr",
     "output_type": "stream",
     "text": [
      "Loss = 0.4320 | Accuracy = 88.52% | F1-Score = 86.27% | Batch ID = 60 : 100%|██████████| 60/60 [00:13<00:00,  4.45it/s]\n"
     ]
    },
    {
     "name": "stdout",
     "output_type": "stream",
     "text": [
      "Training Cross-Entropy Loss = 0.4341\n",
      "Training Accuracy = 79.93%\n",
      "Training F1-Score = 73.04%\n",
      "======== Validation phase ========\n"
     ]
    },
    {
     "name": "stderr",
     "output_type": "stream",
     "text": [
      "Loss = 0.3611 | Accuracy = 85.71% | F1-Score = 83.64% | Batch ID = 26 : 100%|██████████| 26/26 [00:02<00:00, 10.55it/s]\n"
     ]
    },
    {
     "name": "stdout",
     "output_type": "stream",
     "text": [
      "Test Cross-Entropy Loss = 0.5205\n",
      "Test Accuracy = 75.08%\n",
      "Test F1-Score = 65.80%\n",
      "\n",
      "Epoch 4/64\n",
      "======== Training phase ========\n"
     ]
    },
    {
     "name": "stderr",
     "output_type": "stream",
     "text": [
      "Loss = 0.4379 | Accuracy = 77.05% | F1-Score = 73.08% | Batch ID = 60 : 100%|██████████| 60/60 [00:13<00:00,  4.46it/s]\n"
     ]
    },
    {
     "name": "stdout",
     "output_type": "stream",
     "text": [
      "Training Cross-Entropy Loss = 0.3996\n",
      "Training Accuracy = 82.07%\n",
      "Training F1-Score = 76.23%\n",
      "======== Validation phase ========\n"
     ]
    },
    {
     "name": "stderr",
     "output_type": "stream",
     "text": [
      "Loss = 0.9073 | Accuracy = 71.43% | F1-Score = 59.09% | Batch ID = 26 : 100%|██████████| 26/26 [00:02<00:00, 10.65it/s]\n"
     ]
    },
    {
     "name": "stdout",
     "output_type": "stream",
     "text": [
      "Test Cross-Entropy Loss = 1.2772\n",
      "Test Accuracy = 64.57%\n",
      "Test F1-Score = 30.02%\n",
      "\n",
      "Epoch 5/64\n",
      "======== Training phase ========\n"
     ]
    },
    {
     "name": "stderr",
     "output_type": "stream",
     "text": [
      "Loss = 0.4097 | Accuracy = 75.41% | F1-Score = 61.54% | Batch ID = 60 : 100%|██████████| 60/60 [00:13<00:00,  4.45it/s]\n"
     ]
    },
    {
     "name": "stdout",
     "output_type": "stream",
     "text": [
      "Training Cross-Entropy Loss = 0.3763\n",
      "Training Accuracy = 83.04%\n",
      "Training F1-Score = 77.81%\n",
      "======== Validation phase ========\n"
     ]
    },
    {
     "name": "stderr",
     "output_type": "stream",
     "text": [
      "Loss = 0.4195 | Accuracy = 84.13% | F1-Score = 83.87% | Batch ID = 26 : 100%|██████████| 26/26 [00:02<00:00, 10.46it/s]\n"
     ]
    },
    {
     "name": "stdout",
     "output_type": "stream",
     "text": [
      "Test Cross-Entropy Loss = 0.5260\n",
      "Test Accuracy = 76.31%\n",
      "Test F1-Score = 71.08%\n",
      "\n",
      "Epoch 6/64\n",
      "======== Training phase ========\n"
     ]
    },
    {
     "name": "stderr",
     "output_type": "stream",
     "text": [
      "Loss = 0.2440 | Accuracy = 90.16% | F1-Score = 85.71% | Batch ID = 60 : 100%|██████████| 60/60 [00:13<00:00,  4.43it/s]\n"
     ]
    },
    {
     "name": "stdout",
     "output_type": "stream",
     "text": [
      "Training Cross-Entropy Loss = 0.3317\n",
      "Training Accuracy = 85.42%\n",
      "Training F1-Score = 81.41%\n",
      "======== Validation phase ========\n"
     ]
    },
    {
     "name": "stderr",
     "output_type": "stream",
     "text": [
      "Loss = 0.3774 | Accuracy = 84.13% | F1-Score = 82.14% | Batch ID = 26 : 100%|██████████| 26/26 [00:02<00:00, 10.59it/s]\n"
     ]
    },
    {
     "name": "stdout",
     "output_type": "stream",
     "text": [
      "Test Cross-Entropy Loss = 0.6336\n",
      "Test Accuracy = 75.64%\n",
      "Test F1-Score = 65.02%\n",
      "\n",
      "Epoch 7/64\n",
      "======== Training phase ========\n"
     ]
    },
    {
     "name": "stderr",
     "output_type": "stream",
     "text": [
      "Loss = 0.3533 | Accuracy = 83.61% | F1-Score = 72.22% | Batch ID = 60 : 100%|██████████| 60/60 [00:13<00:00,  4.43it/s]\n"
     ]
    },
    {
     "name": "stdout",
     "output_type": "stream",
     "text": [
      "Training Cross-Entropy Loss = 0.3135\n",
      "Training Accuracy = 87.00%\n",
      "Training F1-Score = 83.75%\n",
      "======== Validation phase ========\n"
     ]
    },
    {
     "name": "stderr",
     "output_type": "stream",
     "text": [
      "Loss = 0.5292 | Accuracy = 76.19% | F1-Score = 77.61% | Batch ID = 26 : 100%|██████████| 26/26 [00:02<00:00, 10.46it/s]\n"
     ]
    },
    {
     "name": "stdout",
     "output_type": "stream",
     "text": [
      "Test Cross-Entropy Loss = 0.6661\n",
      "Test Accuracy = 70.52%\n",
      "Test F1-Score = 66.71%\n",
      "\n",
      "Epoch 8/64\n",
      "======== Training phase ========\n"
     ]
    },
    {
     "name": "stderr",
     "output_type": "stream",
     "text": [
      "Loss = 0.3126 | Accuracy = 90.16% | F1-Score = 84.21% | Batch ID = 60 : 100%|██████████| 60/60 [00:13<00:00,  4.45it/s]\n"
     ]
    },
    {
     "name": "stdout",
     "output_type": "stream",
     "text": [
      "Training Cross-Entropy Loss = 0.2659\n",
      "Training Accuracy = 89.11%\n",
      "Training F1-Score = 86.49%\n",
      "======== Validation phase ========\n"
     ]
    },
    {
     "name": "stderr",
     "output_type": "stream",
     "text": [
      "Loss = 1.1528 | Accuracy = 69.84% | F1-Score = 76.54% | Batch ID = 26 : 100%|██████████| 26/26 [00:02<00:00, 10.66it/s]\n"
     ]
    },
    {
     "name": "stdout",
     "output_type": "stream",
     "text": [
      "Test Cross-Entropy Loss = 1.4692\n",
      "Test Accuracy = 58.01%\n",
      "Test F1-Score = 65.75%\n",
      "\n",
      "Epoch 9/64\n",
      "======== Training phase ========\n"
     ]
    },
    {
     "name": "stderr",
     "output_type": "stream",
     "text": [
      "Loss = 0.2357 | Accuracy = 86.89% | F1-Score = 83.33% | Batch ID = 60 : 100%|██████████| 60/60 [00:13<00:00,  4.43it/s]\n"
     ]
    },
    {
     "name": "stdout",
     "output_type": "stream",
     "text": [
      "Training Cross-Entropy Loss = 0.2316\n",
      "Training Accuracy = 90.95%\n",
      "Training F1-Score = 88.89%\n",
      "======== Validation phase ========\n"
     ]
    },
    {
     "name": "stderr",
     "output_type": "stream",
     "text": [
      "Loss = 0.4825 | Accuracy = 79.37% | F1-Score = 77.97% | Batch ID = 26 : 100%|██████████| 26/26 [00:02<00:00, 10.63it/s]\n"
     ]
    },
    {
     "name": "stdout",
     "output_type": "stream",
     "text": [
      "Test Cross-Entropy Loss = 0.6680\n",
      "Test Accuracy = 75.88%\n",
      "Test F1-Score = 68.33%\n",
      "\n",
      "Epoch 10/64\n",
      "======== Training phase ========\n"
     ]
    },
    {
     "name": "stderr",
     "output_type": "stream",
     "text": [
      "Loss = 0.3413 | Accuracy = 91.80% | F1-Score = 87.80% | Batch ID = 60 : 100%|██████████| 60/60 [00:13<00:00,  4.44it/s]\n"
     ]
    },
    {
     "name": "stdout",
     "output_type": "stream",
     "text": [
      "Training Cross-Entropy Loss = 0.1978\n",
      "Training Accuracy = 92.83%\n",
      "Training F1-Score = 91.30%\n",
      "======== Validation phase ========\n"
     ]
    },
    {
     "name": "stderr",
     "output_type": "stream",
     "text": [
      "Loss = 0.4632 | Accuracy = 87.30% | F1-Score = 87.10% | Batch ID = 26 : 100%|██████████| 26/26 [00:02<00:00, 10.62it/s]\n"
     ]
    },
    {
     "name": "stdout",
     "output_type": "stream",
     "text": [
      "Test Cross-Entropy Loss = 0.7174\n",
      "Test Accuracy = 75.82%\n",
      "Test F1-Score = 70.61%\n",
      "\n",
      "Epoch 11/64\n",
      "======== Training phase ========\n"
     ]
    },
    {
     "name": "stderr",
     "output_type": "stream",
     "text": [
      "Loss = 0.2428 | Accuracy = 95.08% | F1-Score = 93.88% | Batch ID = 60 : 100%|██████████| 60/60 [00:13<00:00,  4.42it/s]\n"
     ]
    },
    {
     "name": "stdout",
     "output_type": "stream",
     "text": [
      "Training Cross-Entropy Loss = 0.1719\n",
      "Training Accuracy = 93.55%\n",
      "Training F1-Score = 92.23%\n",
      "======== Validation phase ========\n"
     ]
    },
    {
     "name": "stderr",
     "output_type": "stream",
     "text": [
      "Loss = 0.4933 | Accuracy = 82.54% | F1-Score = 80.70% | Batch ID = 26 : 100%|██████████| 26/26 [00:02<00:00, 10.54it/s]\n"
     ]
    },
    {
     "name": "stdout",
     "output_type": "stream",
     "text": [
      "Test Cross-Entropy Loss = 0.7661\n",
      "Test Accuracy = 76.37%\n",
      "Test F1-Score = 67.97%\n",
      "\n",
      "Epoch 12/64\n",
      "======== Training phase ========\n"
     ]
    },
    {
     "name": "stderr",
     "output_type": "stream",
     "text": [
      "Loss = 0.1828 | Accuracy = 91.80% | F1-Score = 88.37% | Batch ID = 60 : 100%|██████████| 60/60 [00:13<00:00,  4.45it/s]  \n"
     ]
    },
    {
     "name": "stdout",
     "output_type": "stream",
     "text": [
      "Training Cross-Entropy Loss = 0.1400\n",
      "Training Accuracy = 95.02%\n",
      "Training F1-Score = 94.04%\n",
      "======== Validation phase ========\n"
     ]
    },
    {
     "name": "stderr",
     "output_type": "stream",
     "text": [
      "Loss = 0.5994 | Accuracy = 82.54% | F1-Score = 81.36% | Batch ID = 26 : 100%|██████████| 26/26 [00:02<00:00, 10.57it/s]\n"
     ]
    },
    {
     "name": "stdout",
     "output_type": "stream",
     "text": [
      "Test Cross-Entropy Loss = 0.9739\n",
      "Test Accuracy = 74.20%\n",
      "Test F1-Score = 65.12%\n",
      "\n",
      "Epoch 13/64\n",
      "======== Training phase ========\n"
     ]
    },
    {
     "name": "stderr",
     "output_type": "stream",
     "text": [
      "Loss = 0.1083 | Accuracy = 95.08% | F1-Score = 94.34% | Batch ID = 60 : 100%|██████████| 60/60 [00:13<00:00,  4.38it/s]\n"
     ]
    },
    {
     "name": "stdout",
     "output_type": "stream",
     "text": [
      "Training Cross-Entropy Loss = 0.1353\n",
      "Training Accuracy = 95.26%\n",
      "Training F1-Score = 94.35%\n",
      "======== Validation phase ========\n"
     ]
    },
    {
     "name": "stderr",
     "output_type": "stream",
     "text": [
      "Loss = 0.7543 | Accuracy = 76.19% | F1-Score = 79.45% | Batch ID = 26 : 100%|██████████| 26/26 [00:02<00:00, 10.53it/s]\n"
     ]
    },
    {
     "name": "stdout",
     "output_type": "stream",
     "text": [
      "Test Cross-Entropy Loss = 1.2962\n",
      "Test Accuracy = 66.41%\n",
      "Test F1-Score = 68.65%\n",
      "\n",
      "Epoch 14/64\n",
      "======== Training phase ========\n"
     ]
    },
    {
     "name": "stderr",
     "output_type": "stream",
     "text": [
      "Loss = 0.0752 | Accuracy = 98.36% | F1-Score = 98.11% | Batch ID = 60 : 100%|██████████| 60/60 [00:13<00:00,  4.41it/s]\n"
     ]
    },
    {
     "name": "stdout",
     "output_type": "stream",
     "text": [
      "Training Cross-Entropy Loss = 0.1154\n",
      "Training Accuracy = 95.93%\n",
      "Training F1-Score = 95.17%\n",
      "======== Validation phase ========\n"
     ]
    },
    {
     "name": "stderr",
     "output_type": "stream",
     "text": [
      "Loss = 0.5657 | Accuracy = 84.13% | F1-Score = 83.87% | Batch ID = 26 : 100%|██████████| 26/26 [00:02<00:00, 10.59it/s]\n"
     ]
    },
    {
     "name": "stdout",
     "output_type": "stream",
     "text": [
      "Test Cross-Entropy Loss = 0.8379\n",
      "Test Accuracy = 73.43%\n",
      "Test F1-Score = 69.89%\n",
      "\n",
      "Epoch 15/64\n",
      "======== Training phase ========\n"
     ]
    },
    {
     "name": "stderr",
     "output_type": "stream",
     "text": [
      "Loss = 0.2908 | Accuracy = 90.16% | F1-Score = 88.46% | Batch ID = 60 : 100%|██████████| 60/60 [00:13<00:00,  4.39it/s]  \n"
     ]
    },
    {
     "name": "stdout",
     "output_type": "stream",
     "text": [
      "Training Cross-Entropy Loss = 0.1114\n",
      "Training Accuracy = 96.30%\n",
      "Training F1-Score = 95.62%\n",
      "======== Validation phase ========\n"
     ]
    },
    {
     "name": "stderr",
     "output_type": "stream",
     "text": [
      "Loss = 0.4305 | Accuracy = 85.71% | F1-Score = 86.15% | Batch ID = 26 : 100%|██████████| 26/26 [00:02<00:00, 10.61it/s]\n"
     ]
    },
    {
     "name": "stdout",
     "output_type": "stream",
     "text": [
      "Test Cross-Entropy Loss = 0.8328\n",
      "Test Accuracy = 75.11%\n",
      "Test F1-Score = 69.10%\n",
      "\n",
      "Epoch 16/64\n",
      "======== Training phase ========\n"
     ]
    },
    {
     "name": "stderr",
     "output_type": "stream",
     "text": [
      "Loss = 0.0701 | Accuracy = 98.36% | F1-Score = 97.96% | Batch ID = 60 : 100%|██████████| 60/60 [00:13<00:00,  4.44it/s]  \n"
     ]
    },
    {
     "name": "stdout",
     "output_type": "stream",
     "text": [
      "Training Cross-Entropy Loss = 0.0933\n",
      "Training Accuracy = 96.73%\n",
      "Training F1-Score = 96.14%\n",
      "======== Validation phase ========\n"
     ]
    },
    {
     "name": "stderr",
     "output_type": "stream",
     "text": [
      "Loss = 0.6089 | Accuracy = 80.95% | F1-Score = 82.86% | Batch ID = 26 : 100%|██████████| 26/26 [00:02<00:00, 10.53it/s]\n"
     ]
    },
    {
     "name": "stdout",
     "output_type": "stream",
     "text": [
      "Test Cross-Entropy Loss = 1.2021\n",
      "Test Accuracy = 69.26%\n",
      "Test F1-Score = 69.50%\n",
      "\n",
      "Epoch 17/64\n",
      "======== Training phase ========\n"
     ]
    },
    {
     "name": "stderr",
     "output_type": "stream",
     "text": [
      "Loss = 0.0732 | Accuracy = 96.72% | F1-Score = 95.83% | Batch ID = 60 : 100%|██████████| 60/60 [00:13<00:00,  4.44it/s]\n"
     ]
    },
    {
     "name": "stdout",
     "output_type": "stream",
     "text": [
      "Training Cross-Entropy Loss = 0.0872\n",
      "Training Accuracy = 96.97%\n",
      "Training F1-Score = 96.43%\n",
      "======== Validation phase ========\n"
     ]
    },
    {
     "name": "stderr",
     "output_type": "stream",
     "text": [
      "Loss = 0.5130 | Accuracy = 84.13% | F1-Score = 82.14% | Batch ID = 26 : 100%|██████████| 26/26 [00:02<00:00, 10.56it/s]\n"
     ]
    },
    {
     "name": "stdout",
     "output_type": "stream",
     "text": [
      "Test Cross-Entropy Loss = 0.9023\n",
      "Test Accuracy = 75.64%\n",
      "Test F1-Score = 66.92%\n",
      "\n",
      "Epoch 18/64\n",
      "======== Training phase ========\n"
     ]
    },
    {
     "name": "stderr",
     "output_type": "stream",
     "text": [
      "Loss = 0.0175 | Accuracy = 100.00% | F1-Score = 100.00% | Batch ID = 60 : 100%|██████████| 60/60 [00:13<00:00,  4.44it/s]\n"
     ]
    },
    {
     "name": "stdout",
     "output_type": "stream",
     "text": [
      "Training Cross-Entropy Loss = 0.0809\n",
      "Training Accuracy = 96.93%\n",
      "Training F1-Score = 96.37%\n",
      "======== Validation phase ========\n"
     ]
    },
    {
     "name": "stderr",
     "output_type": "stream",
     "text": [
      "Loss = 0.4539 | Accuracy = 90.48% | F1-Score = 90.32% | Batch ID = 26 : 100%|██████████| 26/26 [00:02<00:00, 10.58it/s]\n"
     ]
    },
    {
     "name": "stdout",
     "output_type": "stream",
     "text": [
      "Test Cross-Entropy Loss = 0.9198\n",
      "Test Accuracy = 75.64%\n",
      "Test F1-Score = 69.94%\n",
      "\n",
      "Epoch 19/64\n",
      "======== Training phase ========\n"
     ]
    },
    {
     "name": "stderr",
     "output_type": "stream",
     "text": [
      "Loss = 0.0238 | Accuracy = 100.00% | F1-Score = 100.00% | Batch ID = 60 : 100%|██████████| 60/60 [00:13<00:00,  4.45it/s]\n"
     ]
    },
    {
     "name": "stdout",
     "output_type": "stream",
     "text": [
      "Training Cross-Entropy Loss = 0.0754\n",
      "Training Accuracy = 97.54%\n",
      "Training F1-Score = 97.11%\n",
      "======== Validation phase ========\n"
     ]
    },
    {
     "name": "stderr",
     "output_type": "stream",
     "text": [
      "Loss = 0.6550 | Accuracy = 85.71% | F1-Score = 85.25% | Batch ID = 26 : 100%|██████████| 26/26 [00:02<00:00, 10.52it/s]\n"
     ]
    },
    {
     "name": "stdout",
     "output_type": "stream",
     "text": [
      "Test Cross-Entropy Loss = 1.0661\n",
      "Test Accuracy = 75.64%\n",
      "Test F1-Score = 69.51%\n",
      "\n",
      "Epoch 20/64\n",
      "======== Training phase ========\n"
     ]
    },
    {
     "name": "stderr",
     "output_type": "stream",
     "text": [
      "Loss = 0.0936 | Accuracy = 96.72% | F1-Score = 96.15% | Batch ID = 60 : 100%|██████████| 60/60 [00:13<00:00,  4.40it/s]  \n"
     ]
    },
    {
     "name": "stdout",
     "output_type": "stream",
     "text": [
      "Training Cross-Entropy Loss = 0.0752\n",
      "Training Accuracy = 97.48%\n",
      "Training F1-Score = 97.02%\n",
      "======== Validation phase ========\n"
     ]
    },
    {
     "name": "stderr",
     "output_type": "stream",
     "text": [
      "Loss = 0.4276 | Accuracy = 85.71% | F1-Score = 85.25% | Batch ID = 26 : 100%|██████████| 26/26 [00:02<00:00, 10.54it/s]\n"
     ]
    },
    {
     "name": "stdout",
     "output_type": "stream",
     "text": [
      "Test Cross-Entropy Loss = 0.9331\n",
      "Test Accuracy = 75.57%\n",
      "Test F1-Score = 70.67%\n",
      "\n",
      "Epoch 21/64\n",
      "======== Training phase ========\n"
     ]
    },
    {
     "name": "stderr",
     "output_type": "stream",
     "text": [
      "Loss = 0.0791 | Accuracy = 98.36% | F1-Score = 98.04% | Batch ID = 60 : 100%|██████████| 60/60 [00:13<00:00,  4.44it/s]  \n"
     ]
    },
    {
     "name": "stdout",
     "output_type": "stream",
     "text": [
      "Training Cross-Entropy Loss = 0.0690\n",
      "Training Accuracy = 97.52%\n",
      "Training F1-Score = 97.09%\n",
      "======== Validation phase ========\n"
     ]
    },
    {
     "name": "stderr",
     "output_type": "stream",
     "text": [
      "Loss = 0.3776 | Accuracy = 87.30% | F1-Score = 85.71% | Batch ID = 26 : 100%|██████████| 26/26 [00:02<00:00, 10.64it/s]\n"
     ]
    },
    {
     "name": "stdout",
     "output_type": "stream",
     "text": [
      "Test Cross-Entropy Loss = 0.9045\n",
      "Test Accuracy = 77.17%\n",
      "Test F1-Score = 69.63%\n",
      "\n",
      "Epoch 22/64\n",
      "======== Training phase ========\n"
     ]
    },
    {
     "name": "stderr",
     "output_type": "stream",
     "text": [
      "Loss = 0.1595 | Accuracy = 95.08% | F1-Score = 92.68% | Batch ID = 60 : 100%|██████████| 60/60 [00:13<00:00,  4.41it/s]  \n"
     ]
    },
    {
     "name": "stdout",
     "output_type": "stream",
     "text": [
      "Training Cross-Entropy Loss = 0.0679\n",
      "Training Accuracy = 97.68%\n",
      "Training F1-Score = 97.27%\n",
      "======== Validation phase ========\n"
     ]
    },
    {
     "name": "stderr",
     "output_type": "stream",
     "text": [
      "Loss = 0.4727 | Accuracy = 84.13% | F1-Score = 84.85% | Batch ID = 26 : 100%|██████████| 26/26 [00:02<00:00, 10.65it/s]\n"
     ]
    },
    {
     "name": "stdout",
     "output_type": "stream",
     "text": [
      "Test Cross-Entropy Loss = 0.9727\n",
      "Test Accuracy = 73.61%\n",
      "Test F1-Score = 70.16%\n",
      "\n",
      "Epoch 23/64\n",
      "======== Training phase ========\n"
     ]
    },
    {
     "name": "stderr",
     "output_type": "stream",
     "text": [
      "Loss = 0.0568 | Accuracy = 98.36% | F1-Score = 98.04% | Batch ID = 60 : 100%|██████████| 60/60 [00:13<00:00,  4.44it/s]  \n"
     ]
    },
    {
     "name": "stdout",
     "output_type": "stream",
     "text": [
      "Training Cross-Entropy Loss = 0.0715\n",
      "Training Accuracy = 97.35%\n",
      "Training F1-Score = 96.87%\n",
      "======== Validation phase ========\n"
     ]
    },
    {
     "name": "stderr",
     "output_type": "stream",
     "text": [
      "Loss = 0.6123 | Accuracy = 84.13% | F1-Score = 82.76% | Batch ID = 26 : 100%|██████████| 26/26 [00:02<00:00, 10.59it/s]\n"
     ]
    },
    {
     "name": "stdout",
     "output_type": "stream",
     "text": [
      "Test Cross-Entropy Loss = 1.0172\n",
      "Test Accuracy = 76.77%\n",
      "Test F1-Score = 68.86%\n",
      "\n",
      "Epoch 24/64\n",
      "======== Training phase ========\n"
     ]
    },
    {
     "name": "stderr",
     "output_type": "stream",
     "text": [
      "Loss = 0.0833 | Accuracy = 95.08% | F1-Score = 93.02% | Batch ID = 60 : 100%|██████████| 60/60 [00:13<00:00,  4.40it/s]  \n"
     ]
    },
    {
     "name": "stdout",
     "output_type": "stream",
     "text": [
      "Training Cross-Entropy Loss = 0.0572\n",
      "Training Accuracy = 97.89%\n",
      "Training F1-Score = 97.52%\n",
      "======== Validation phase ========\n"
     ]
    },
    {
     "name": "stderr",
     "output_type": "stream",
     "text": [
      "Loss = 0.5123 | Accuracy = 82.54% | F1-Score = 81.97% | Batch ID = 26 : 100%|██████████| 26/26 [00:02<00:00, 10.48it/s]\n"
     ]
    },
    {
     "name": "stdout",
     "output_type": "stream",
     "text": [
      "Test Cross-Entropy Loss = 0.8611\n",
      "Test Accuracy = 75.67%\n",
      "Test F1-Score = 69.51%\n",
      "\n",
      "Epoch 25/64\n",
      "======== Training phase ========\n"
     ]
    },
    {
     "name": "stderr",
     "output_type": "stream",
     "text": [
      "Loss = 0.0060 | Accuracy = 100.00% | F1-Score = 100.00% | Batch ID = 60 : 100%|██████████| 60/60 [00:13<00:00,  4.44it/s]\n"
     ]
    },
    {
     "name": "stdout",
     "output_type": "stream",
     "text": [
      "Training Cross-Entropy Loss = 0.0581\n",
      "Training Accuracy = 97.83%\n",
      "Training F1-Score = 97.45%\n",
      "======== Validation phase ========\n"
     ]
    },
    {
     "name": "stderr",
     "output_type": "stream",
     "text": [
      "Loss = 0.5688 | Accuracy = 84.13% | F1-Score = 82.76% | Batch ID = 26 : 100%|██████████| 26/26 [00:02<00:00, 10.60it/s]\n"
     ]
    },
    {
     "name": "stdout",
     "output_type": "stream",
     "text": [
      "Test Cross-Entropy Loss = 1.2058\n",
      "Test Accuracy = 75.48%\n",
      "Test F1-Score = 67.13%\n",
      "\n",
      "Epoch 26/64\n",
      "======== Training phase ========\n"
     ]
    },
    {
     "name": "stderr",
     "output_type": "stream",
     "text": [
      "Loss = 0.0273 | Accuracy = 100.00% | F1-Score = 100.00% | Batch ID = 60 : 100%|██████████| 60/60 [00:13<00:00,  4.39it/s]\n"
     ]
    },
    {
     "name": "stdout",
     "output_type": "stream",
     "text": [
      "Training Cross-Entropy Loss = 0.0547\n",
      "Training Accuracy = 97.87%\n",
      "Training F1-Score = 97.50%\n",
      "======== Validation phase ========\n"
     ]
    },
    {
     "name": "stderr",
     "output_type": "stream",
     "text": [
      "Loss = 0.5981 | Accuracy = 85.71% | F1-Score = 84.21% | Batch ID = 26 : 100%|██████████| 26/26 [00:02<00:00, 10.54it/s]\n"
     ]
    },
    {
     "name": "stdout",
     "output_type": "stream",
     "text": [
      "Test Cross-Entropy Loss = 1.1294\n",
      "Test Accuracy = 75.39%\n",
      "Test F1-Score = 68.69%\n",
      "\n",
      "Epoch 27/64\n",
      "======== Training phase ========\n"
     ]
    },
    {
     "name": "stderr",
     "output_type": "stream",
     "text": [
      "Loss = 0.0997 | Accuracy = 95.08% | F1-Score = 94.12% | Batch ID = 60 : 100%|██████████| 60/60 [00:13<00:00,  4.45it/s]  \n"
     ]
    },
    {
     "name": "stdout",
     "output_type": "stream",
     "text": [
      "Training Cross-Entropy Loss = 0.0597\n",
      "Training Accuracy = 97.70%\n",
      "Training F1-Score = 97.29%\n",
      "======== Validation phase ========\n"
     ]
    },
    {
     "name": "stderr",
     "output_type": "stream",
     "text": [
      "Loss = 0.5586 | Accuracy = 84.13% | F1-Score = 84.85% | Batch ID = 26 : 100%|██████████| 26/26 [00:02<00:00, 10.60it/s]\n"
     ]
    },
    {
     "name": "stdout",
     "output_type": "stream",
     "text": [
      "Test Cross-Entropy Loss = 1.1134\n",
      "Test Accuracy = 73.64%\n",
      "Test F1-Score = 70.77%\n",
      "\n",
      "Epoch 28/64\n",
      "======== Training phase ========\n"
     ]
    },
    {
     "name": "stderr",
     "output_type": "stream",
     "text": [
      "Loss = 0.0262 | Accuracy = 100.00% | F1-Score = 100.00% | Batch ID = 60 : 100%|██████████| 60/60 [00:13<00:00,  4.41it/s]\n"
     ]
    },
    {
     "name": "stdout",
     "output_type": "stream",
     "text": [
      "Training Cross-Entropy Loss = 0.0611\n",
      "Training Accuracy = 97.66%\n",
      "Training F1-Score = 97.25%\n",
      "======== Validation phase ========\n"
     ]
    },
    {
     "name": "stderr",
     "output_type": "stream",
     "text": [
      "Loss = 0.5414 | Accuracy = 87.30% | F1-Score = 85.71% | Batch ID = 26 : 100%|██████████| 26/26 [00:02<00:00, 10.56it/s]\n"
     ]
    },
    {
     "name": "stdout",
     "output_type": "stream",
     "text": [
      "Test Cross-Entropy Loss = 0.9450\n",
      "Test Accuracy = 75.85%\n",
      "Test F1-Score = 65.86%\n",
      "\n",
      "Epoch 29/64\n",
      "======== Training phase ========\n"
     ]
    },
    {
     "name": "stderr",
     "output_type": "stream",
     "text": [
      "Loss = 0.0424 | Accuracy = 98.36% | F1-Score = 97.78% | Batch ID = 60 : 100%|██████████| 60/60 [00:13<00:00,  4.45it/s]  \n"
     ]
    },
    {
     "name": "stdout",
     "output_type": "stream",
     "text": [
      "Training Cross-Entropy Loss = 0.0618\n",
      "Training Accuracy = 97.71%\n",
      "Training F1-Score = 97.31%\n",
      "======== Validation phase ========\n"
     ]
    },
    {
     "name": "stderr",
     "output_type": "stream",
     "text": [
      "Loss = 0.4516 | Accuracy = 87.30% | F1-Score = 86.21% | Batch ID = 26 : 100%|██████████| 26/26 [00:02<00:00, 10.59it/s]\n"
     ]
    },
    {
     "name": "stdout",
     "output_type": "stream",
     "text": [
      "Test Cross-Entropy Loss = 1.0469\n",
      "Test Accuracy = 77.32%\n",
      "Test F1-Score = 71.36%\n",
      "\n",
      "Epoch 30/64\n",
      "======== Training phase ========\n"
     ]
    },
    {
     "name": "stderr",
     "output_type": "stream",
     "text": [
      "Loss = 0.1100 | Accuracy = 95.08% | F1-Score = 94.55% | Batch ID = 60 : 100%|██████████| 60/60 [00:13<00:00,  4.38it/s]  \n"
     ]
    },
    {
     "name": "stdout",
     "output_type": "stream",
     "text": [
      "Training Cross-Entropy Loss = 0.0552\n",
      "Training Accuracy = 97.87%\n",
      "Training F1-Score = 97.50%\n",
      "======== Validation phase ========\n"
     ]
    },
    {
     "name": "stderr",
     "output_type": "stream",
     "text": [
      "Loss = 0.4598 | Accuracy = 85.71% | F1-Score = 84.75% | Batch ID = 26 : 100%|██████████| 26/26 [00:02<00:00, 10.58it/s]\n"
     ]
    },
    {
     "name": "stdout",
     "output_type": "stream",
     "text": [
      "Test Cross-Entropy Loss = 0.9010\n",
      "Test Accuracy = 75.15%\n",
      "Test F1-Score = 68.75%\n",
      "\n",
      "Epoch 31/64\n",
      "======== Training phase ========\n"
     ]
    },
    {
     "name": "stderr",
     "output_type": "stream",
     "text": [
      "Loss = 0.2348 | Accuracy = 95.08% | F1-Score = 95.38% | Batch ID = 60 : 100%|██████████| 60/60 [00:13<00:00,  4.40it/s]  \n"
     ]
    },
    {
     "name": "stdout",
     "output_type": "stream",
     "text": [
      "Training Cross-Entropy Loss = 0.0730\n",
      "Training Accuracy = 97.50%\n",
      "Training F1-Score = 97.07%\n",
      "======== Validation phase ========\n"
     ]
    },
    {
     "name": "stderr",
     "output_type": "stream",
     "text": [
      "Loss = 0.3804 | Accuracy = 87.30% | F1-Score = 86.67% | Batch ID = 26 : 100%|██████████| 26/26 [00:02<00:00, 10.54it/s]\n"
     ]
    },
    {
     "name": "stdout",
     "output_type": "stream",
     "text": [
      "Test Cross-Entropy Loss = 1.0632\n",
      "Test Accuracy = 75.30%\n",
      "Test F1-Score = 69.54%\n",
      "\n",
      "Epoch 32/64\n",
      "======== Training phase ========\n"
     ]
    },
    {
     "name": "stderr",
     "output_type": "stream",
     "text": [
      "Loss = 0.0175 | Accuracy = 100.00% | F1-Score = 100.00% | Batch ID = 60 : 100%|██████████| 60/60 [00:13<00:00,  4.44it/s]\n"
     ]
    },
    {
     "name": "stdout",
     "output_type": "stream",
     "text": [
      "Training Cross-Entropy Loss = 0.0538\n",
      "Training Accuracy = 97.87%\n",
      "Training F1-Score = 97.51%\n",
      "======== Validation phase ========\n"
     ]
    },
    {
     "name": "stderr",
     "output_type": "stream",
     "text": [
      "Loss = 0.4633 | Accuracy = 87.30% | F1-Score = 86.21% | Batch ID = 26 : 100%|██████████| 26/26 [00:02<00:00, 10.56it/s]\n"
     ]
    },
    {
     "name": "stdout",
     "output_type": "stream",
     "text": [
      "Test Cross-Entropy Loss = 1.0419\n",
      "Test Accuracy = 74.72%\n",
      "Test F1-Score = 68.69%\n",
      "\n",
      "Epoch 33/64\n",
      "======== Training phase ========\n"
     ]
    },
    {
     "name": "stderr",
     "output_type": "stream",
     "text": [
      "Loss = 0.0194 | Accuracy = 98.36% | F1-Score = 98.46% | Batch ID = 60 : 100%|██████████| 60/60 [00:13<00:00,  4.45it/s]  \n"
     ]
    },
    {
     "name": "stdout",
     "output_type": "stream",
     "text": [
      "Training Cross-Entropy Loss = 0.0491\n",
      "Training Accuracy = 98.02%\n",
      "Training F1-Score = 97.67%\n",
      "======== Validation phase ========\n"
     ]
    },
    {
     "name": "stderr",
     "output_type": "stream",
     "text": [
      "Loss = 0.4925 | Accuracy = 88.89% | F1-Score = 88.14% | Batch ID = 26 : 100%|██████████| 26/26 [00:02<00:00, 10.49it/s]\n"
     ]
    },
    {
     "name": "stdout",
     "output_type": "stream",
     "text": [
      "Test Cross-Entropy Loss = 1.1047\n",
      "Test Accuracy = 76.62%\n",
      "Test F1-Score = 70.35%\n",
      "\n",
      "Epoch 34/64\n",
      "======== Training phase ========\n"
     ]
    },
    {
     "name": "stderr",
     "output_type": "stream",
     "text": [
      "Loss = 0.0176 | Accuracy = 100.00% | F1-Score = 100.00% | Batch ID = 60 : 100%|██████████| 60/60 [00:13<00:00,  4.40it/s]\n"
     ]
    },
    {
     "name": "stdout",
     "output_type": "stream",
     "text": [
      "Training Cross-Entropy Loss = 0.0464\n",
      "Training Accuracy = 98.10%\n",
      "Training F1-Score = 97.76%\n",
      "======== Validation phase ========\n"
     ]
    },
    {
     "name": "stderr",
     "output_type": "stream",
     "text": [
      "Loss = 0.8141 | Accuracy = 85.71% | F1-Score = 84.21% | Batch ID = 26 : 100%|██████████| 26/26 [00:02<00:00, 10.60it/s]\n"
     ]
    },
    {
     "name": "stdout",
     "output_type": "stream",
     "text": [
      "Test Cross-Entropy Loss = 1.3463\n",
      "Test Accuracy = 75.97%\n",
      "Test F1-Score = 66.52%\n",
      "\n",
      "Epoch 35/64\n",
      "======== Training phase ========\n"
     ]
    },
    {
     "name": "stderr",
     "output_type": "stream",
     "text": [
      "Loss = 0.0647 | Accuracy = 96.72% | F1-Score = 95.83% | Batch ID = 60 : 100%|██████████| 60/60 [00:13<00:00,  4.43it/s]  \n"
     ]
    },
    {
     "name": "stdout",
     "output_type": "stream",
     "text": [
      "Training Cross-Entropy Loss = 0.0470\n",
      "Training Accuracy = 98.00%\n",
      "Training F1-Score = 97.65%\n",
      "======== Validation phase ========\n"
     ]
    },
    {
     "name": "stderr",
     "output_type": "stream",
     "text": [
      "Loss = 0.5026 | Accuracy = 87.30% | F1-Score = 86.67% | Batch ID = 26 : 100%|██████████| 26/26 [00:02<00:00, 10.47it/s]\n"
     ]
    },
    {
     "name": "stdout",
     "output_type": "stream",
     "text": [
      "Test Cross-Entropy Loss = 1.2097\n",
      "Test Accuracy = 73.58%\n",
      "Test F1-Score = 70.03%\n",
      "\n",
      "Epoch 36/64\n",
      "======== Training phase ========\n"
     ]
    },
    {
     "name": "stderr",
     "output_type": "stream",
     "text": [
      "Loss = 0.1035 | Accuracy = 96.72% | F1-Score = 95.45% | Batch ID = 60 : 100%|██████████| 60/60 [00:13<00:00,  4.45it/s]  \n"
     ]
    },
    {
     "name": "stdout",
     "output_type": "stream",
     "text": [
      "Training Cross-Entropy Loss = 0.0516\n",
      "Training Accuracy = 97.87%\n",
      "Training F1-Score = 97.50%\n",
      "======== Validation phase ========\n"
     ]
    },
    {
     "name": "stderr",
     "output_type": "stream",
     "text": [
      "Loss = 0.6675 | Accuracy = 85.71% | F1-Score = 85.71% | Batch ID = 26 : 100%|██████████| 26/26 [00:02<00:00, 10.61it/s]\n"
     ]
    },
    {
     "name": "stdout",
     "output_type": "stream",
     "text": [
      "Test Cross-Entropy Loss = 1.2931\n",
      "Test Accuracy = 73.95%\n",
      "Test F1-Score = 70.71%\n",
      "\n",
      "Epoch 37/64\n",
      "======== Training phase ========\n"
     ]
    },
    {
     "name": "stderr",
     "output_type": "stream",
     "text": [
      "Loss = 0.0598 | Accuracy = 98.36% | F1-Score = 97.96% | Batch ID = 60 : 100%|██████████| 60/60 [00:13<00:00,  4.41it/s]  \n"
     ]
    },
    {
     "name": "stdout",
     "output_type": "stream",
     "text": [
      "Training Cross-Entropy Loss = 0.0428\n",
      "Training Accuracy = 98.20%\n",
      "Training F1-Score = 97.88%\n",
      "======== Validation phase ========\n"
     ]
    },
    {
     "name": "stderr",
     "output_type": "stream",
     "text": [
      "Loss = 0.8586 | Accuracy = 82.54% | F1-Score = 83.58% | Batch ID = 26 : 100%|██████████| 26/26 [00:02<00:00, 10.61it/s]\n"
     ]
    },
    {
     "name": "stdout",
     "output_type": "stream",
     "text": [
      "Test Cross-Entropy Loss = 1.5763\n",
      "Test Accuracy = 71.84%\n",
      "Test F1-Score = 70.38%\n",
      "\n",
      "Epoch 38/64\n",
      "======== Training phase ========\n"
     ]
    },
    {
     "name": "stderr",
     "output_type": "stream",
     "text": [
      "Loss = 0.0809 | Accuracy = 95.08% | F1-Score = 93.88% | Batch ID = 60 : 100%|██████████| 60/60 [00:13<00:00,  4.44it/s]  \n"
     ]
    },
    {
     "name": "stdout",
     "output_type": "stream",
     "text": [
      "Training Cross-Entropy Loss = 0.0539\n",
      "Training Accuracy = 97.71%\n",
      "Training F1-Score = 97.31%\n",
      "======== Validation phase ========\n"
     ]
    },
    {
     "name": "stderr",
     "output_type": "stream",
     "text": [
      "Loss = 0.7370 | Accuracy = 85.71% | F1-Score = 85.25% | Batch ID = 26 : 100%|██████████| 26/26 [00:02<00:00, 10.60it/s]\n"
     ]
    },
    {
     "name": "stdout",
     "output_type": "stream",
     "text": [
      "Test Cross-Entropy Loss = 1.2250\n",
      "Test Accuracy = 75.79%\n",
      "Test F1-Score = 69.62%\n",
      "\n",
      "Epoch 39/64\n",
      "======== Training phase ========\n"
     ]
    },
    {
     "name": "stderr",
     "output_type": "stream",
     "text": [
      "Loss = 0.0957 | Accuracy = 96.72% | F1-Score = 94.74% | Batch ID = 60 : 100%|██████████| 60/60 [00:13<00:00,  4.40it/s]  \n"
     ]
    },
    {
     "name": "stdout",
     "output_type": "stream",
     "text": [
      "Training Cross-Entropy Loss = 0.0528\n",
      "Training Accuracy = 97.82%\n",
      "Training F1-Score = 97.44%\n",
      "======== Validation phase ========\n"
     ]
    },
    {
     "name": "stderr",
     "output_type": "stream",
     "text": [
      "Loss = 0.6494 | Accuracy = 87.30% | F1-Score = 87.50% | Batch ID = 26 : 100%|██████████| 26/26 [00:02<00:00, 10.63it/s]\n"
     ]
    },
    {
     "name": "stdout",
     "output_type": "stream",
     "text": [
      "Test Cross-Entropy Loss = 1.2974\n",
      "Test Accuracy = 74.16%\n",
      "Test F1-Score = 69.75%\n",
      "\n",
      "Epoch 40/64\n",
      "======== Training phase ========\n"
     ]
    },
    {
     "name": "stderr",
     "output_type": "stream",
     "text": [
      "Loss = 0.0799 | Accuracy = 96.72% | F1-Score = 95.83% | Batch ID = 60 : 100%|██████████| 60/60 [00:13<00:00,  4.44it/s]  \n"
     ]
    },
    {
     "name": "stdout",
     "output_type": "stream",
     "text": [
      "Training Cross-Entropy Loss = 0.0510\n",
      "Training Accuracy = 97.86%\n",
      "Training F1-Score = 97.48%\n",
      "======== Validation phase ========\n"
     ]
    },
    {
     "name": "stderr",
     "output_type": "stream",
     "text": [
      "Loss = 0.5965 | Accuracy = 84.13% | F1-Score = 83.87% | Batch ID = 26 : 100%|██████████| 26/26 [00:02<00:00, 10.50it/s]\n"
     ]
    },
    {
     "name": "stdout",
     "output_type": "stream",
     "text": [
      "Test Cross-Entropy Loss = 1.1839\n",
      "Test Accuracy = 74.69%\n",
      "Test F1-Score = 70.37%\n",
      "\n",
      "Epoch 41/64\n",
      "======== Training phase ========\n"
     ]
    },
    {
     "name": "stderr",
     "output_type": "stream",
     "text": [
      "Loss = 0.1038 | Accuracy = 96.72% | F1-Score = 95.65% | Batch ID = 60 : 100%|██████████| 60/60 [00:13<00:00,  4.40it/s]  \n"
     ]
    },
    {
     "name": "stdout",
     "output_type": "stream",
     "text": [
      "Training Cross-Entropy Loss = 0.0411\n",
      "Training Accuracy = 98.29%\n",
      "Training F1-Score = 97.99%\n",
      "======== Validation phase ========\n"
     ]
    },
    {
     "name": "stderr",
     "output_type": "stream",
     "text": [
      "Loss = 0.5115 | Accuracy = 84.13% | F1-Score = 82.14% | Batch ID = 26 : 100%|██████████| 26/26 [00:02<00:00, 10.52it/s]\n"
     ]
    },
    {
     "name": "stdout",
     "output_type": "stream",
     "text": [
      "Test Cross-Entropy Loss = 1.1272\n",
      "Test Accuracy = 76.25%\n",
      "Test F1-Score = 67.86%\n",
      "\n",
      "Epoch 42/64\n",
      "======== Training phase ========\n"
     ]
    },
    {
     "name": "stderr",
     "output_type": "stream",
     "text": [
      "Loss = 0.0384 | Accuracy = 98.36% | F1-Score = 97.67% | Batch ID = 60 : 100%|██████████| 60/60 [00:13<00:00,  4.43it/s]  \n"
     ]
    },
    {
     "name": "stdout",
     "output_type": "stream",
     "text": [
      "Training Cross-Entropy Loss = 0.0577\n",
      "Training Accuracy = 97.56%\n",
      "Training F1-Score = 97.12%\n",
      "======== Validation phase ========\n"
     ]
    },
    {
     "name": "stderr",
     "output_type": "stream",
     "text": [
      "Loss = 0.5031 | Accuracy = 90.48% | F1-Score = 90.00% | Batch ID = 26 : 100%|██████████| 26/26 [00:02<00:00, 10.59it/s]\n"
     ]
    },
    {
     "name": "stdout",
     "output_type": "stream",
     "text": [
      "Test Cross-Entropy Loss = 1.1245\n",
      "Test Accuracy = 75.36%\n",
      "Test F1-Score = 70.16%\n",
      "\n",
      "Epoch 43/64\n",
      "======== Training phase ========\n"
     ]
    },
    {
     "name": "stderr",
     "output_type": "stream",
     "text": [
      "Loss = 0.0773 | Accuracy = 98.36% | F1-Score = 97.96% | Batch ID = 60 : 100%|██████████| 60/60 [00:13<00:00,  4.40it/s]  \n"
     ]
    },
    {
     "name": "stdout",
     "output_type": "stream",
     "text": [
      "Training Cross-Entropy Loss = 0.0439\n",
      "Training Accuracy = 98.15%\n",
      "Training F1-Score = 97.82%\n",
      "======== Validation phase ========\n"
     ]
    },
    {
     "name": "stderr",
     "output_type": "stream",
     "text": [
      "Loss = 0.5429 | Accuracy = 87.30% | F1-Score = 87.50% | Batch ID = 26 : 100%|██████████| 26/26 [00:02<00:00, 10.60it/s]\n"
     ]
    },
    {
     "name": "stdout",
     "output_type": "stream",
     "text": [
      "Test Cross-Entropy Loss = 1.2219\n",
      "Test Accuracy = 72.11%\n",
      "Test F1-Score = 70.30%\n",
      "\n",
      "Epoch 44/64\n",
      "======== Training phase ========\n"
     ]
    },
    {
     "name": "stderr",
     "output_type": "stream",
     "text": [
      "Loss = 0.0298 | Accuracy = 100.00% | F1-Score = 100.00% | Batch ID = 60 : 100%|██████████| 60/60 [00:13<00:00,  4.41it/s]\n"
     ]
    },
    {
     "name": "stdout",
     "output_type": "stream",
     "text": [
      "Training Cross-Entropy Loss = 0.0447\n",
      "Training Accuracy = 97.94%\n",
      "Training F1-Score = 97.57%\n",
      "======== Validation phase ========\n"
     ]
    },
    {
     "name": "stderr",
     "output_type": "stream",
     "text": [
      "Loss = 0.5473 | Accuracy = 87.30% | F1-Score = 86.67% | Batch ID = 26 : 100%|██████████| 26/26 [00:02<00:00, 10.57it/s]\n"
     ]
    },
    {
     "name": "stdout",
     "output_type": "stream",
     "text": [
      "Test Cross-Entropy Loss = 1.0512\n",
      "Test Accuracy = 74.84%\n",
      "Test F1-Score = 70.29%\n",
      "\n",
      "Epoch 45/64\n",
      "======== Training phase ========\n"
     ]
    },
    {
     "name": "stderr",
     "output_type": "stream",
     "text": [
      "Loss = 0.0370 | Accuracy = 98.36% | F1-Score = 98.18% | Batch ID = 60 : 100%|██████████| 60/60 [00:13<00:00,  4.45it/s]  \n"
     ]
    },
    {
     "name": "stdout",
     "output_type": "stream",
     "text": [
      "Training Cross-Entropy Loss = 0.0426\n",
      "Training Accuracy = 98.16%\n",
      "Training F1-Score = 97.84%\n",
      "======== Validation phase ========\n"
     ]
    },
    {
     "name": "stderr",
     "output_type": "stream",
     "text": [
      "Loss = 0.4625 | Accuracy = 87.30% | F1-Score = 86.67% | Batch ID = 26 : 100%|██████████| 26/26 [00:02<00:00, 10.54it/s]\n"
     ]
    },
    {
     "name": "stdout",
     "output_type": "stream",
     "text": [
      "Test Cross-Entropy Loss = 1.3284\n",
      "Test Accuracy = 74.38%\n",
      "Test F1-Score = 68.81%\n",
      "\n",
      "Epoch 46/64\n",
      "======== Training phase ========\n"
     ]
    },
    {
     "name": "stderr",
     "output_type": "stream",
     "text": [
      "Loss = 0.0348 | Accuracy = 97.66% | F1-Score = 97.48% | Batch ID = 44 :  73%|███████▎  | 44/60 [00:10<00:03,  4.27it/s]  \n"
     ]
    },
    {
     "ename": "KeyboardInterrupt",
     "evalue": "",
     "output_type": "error",
     "traceback": [
      "\u001b[0;31m---------------------------------------------------------------------------\u001b[0m",
      "\u001b[0;31mKeyboardInterrupt\u001b[0m                         Traceback (most recent call last)",
      "Cell \u001b[0;32mIn[57], line 1\u001b[0m\n\u001b[0;32m----> 1\u001b[0m train_losses, train_f1s, test_losses, test_f1s \u001b[38;5;241m=\u001b[39m \u001b[43mtrain\u001b[49m\u001b[43m(\u001b[49m\u001b[43mmodel\u001b[49m\u001b[43m \u001b[49m\u001b[38;5;241;43m=\u001b[39;49m\u001b[43m \u001b[49m\u001b[43mcustomPreTrainedLSTM_MultiheadAttention\u001b[49m\u001b[43m,\u001b[49m\u001b[43m \u001b[49m\n\u001b[1;32m      2\u001b[0m \u001b[43m                                                       \u001b[49m\u001b[43mtrain_loader\u001b[49m\u001b[43m \u001b[49m\u001b[38;5;241;43m=\u001b[39;49m\u001b[43m \u001b[49m\u001b[43mTrainDataLoader_SkipGram\u001b[49m\u001b[43m,\u001b[49m\u001b[43m \u001b[49m\n\u001b[1;32m      3\u001b[0m \u001b[43m                                                       \u001b[49m\u001b[43mtest_loader\u001b[49m\u001b[43m \u001b[49m\u001b[38;5;241;43m=\u001b[39;49m\u001b[43m \u001b[49m\u001b[43mTestDataLoader_SkipGram\u001b[49m\u001b[43m,\u001b[49m\u001b[43m \u001b[49m\n\u001b[1;32m      4\u001b[0m \u001b[43m                                                       \u001b[49m\u001b[43moptimizer\u001b[49m\u001b[43m \u001b[49m\u001b[38;5;241;43m=\u001b[39;49m\u001b[43m \u001b[49m\u001b[43moptimizer\u001b[49m\u001b[43m,\u001b[49m\u001b[43m \u001b[49m\n\u001b[1;32m      5\u001b[0m \u001b[43m                                                       \u001b[49m\u001b[43mloss_func\u001b[49m\u001b[43m \u001b[49m\u001b[38;5;241;43m=\u001b[39;49m\u001b[43m \u001b[49m\u001b[43mcriterion\u001b[49m\u001b[43m,\u001b[49m\u001b[43m \u001b[49m\n\u001b[1;32m      6\u001b[0m \u001b[43m                                                       \u001b[49m\u001b[43mepochs\u001b[49m\u001b[43m \u001b[49m\u001b[38;5;241;43m=\u001b[39;49m\u001b[43m \u001b[49m\u001b[38;5;241;43m64\u001b[39;49m\u001b[43m,\u001b[49m\u001b[43m \u001b[49m\n\u001b[1;32m      7\u001b[0m \u001b[43m                                                       \u001b[49m\u001b[43mdevice\u001b[49m\u001b[43m \u001b[49m\u001b[38;5;241;43m=\u001b[39;49m\u001b[43m \u001b[49m\u001b[43mdevice\u001b[49m\u001b[43m)\u001b[49m\n",
      "Cell \u001b[0;32mIn[48], line 270\u001b[0m, in \u001b[0;36mtrain\u001b[0;34m(model, train_loader, test_loader, optimizer, loss_func, epochs, device, **kwargs)\u001b[0m\n\u001b[1;32m    267\u001b[0m loss\u001b[38;5;241m.\u001b[39mbackward()\n\u001b[1;32m    268\u001b[0m optimizer\u001b[38;5;241m.\u001b[39mstep()\n\u001b[0;32m--> 270\u001b[0m train_loss \u001b[38;5;241m+\u001b[39m\u001b[38;5;241m=\u001b[39m \u001b[43mloss\u001b[49m\u001b[38;5;241;43m.\u001b[39;49m\u001b[43mitem\u001b[49m\u001b[43m(\u001b[49m\u001b[43m)\u001b[49m\n\u001b[1;32m    272\u001b[0m predicted \u001b[38;5;241m=\u001b[39m (output \u001b[38;5;241m>\u001b[39m \u001b[38;5;241m0.5\u001b[39m)\u001b[38;5;241m.\u001b[39mfloat()\n\u001b[1;32m    273\u001b[0m correct_batch \u001b[38;5;241m=\u001b[39m (predicted \u001b[38;5;241m==\u001b[39m target)\u001b[38;5;241m.\u001b[39msum()\u001b[38;5;241m.\u001b[39mitem()\n",
      "\u001b[0;31mKeyboardInterrupt\u001b[0m: "
     ]
    }
   ],
   "source": [
    "train_losses, train_f1s, test_losses, test_f1s = train(model = customPreTrainedLSTM_MultiheadAttention, \n",
    "                                                       train_loader = TrainDataLoader_SkipGram, \n",
    "                                                       test_loader = TestDataLoader_SkipGram, \n",
    "                                                       optimizer = optimizer, \n",
    "                                                       loss_func = criterion, \n",
    "                                                       epochs = 64, \n",
    "                                                       device = device)"
   ]
  },
  {
   "cell_type": "code",
   "execution_count": null,
   "metadata": {},
   "outputs": [],
   "source": [
    "pbar = tqdm(enumerate(TrainDataLoader_SkipGram), total=len(TrainDataLoader_SkipGram))\n",
    "bidirectional = True\n",
    "hidden_size = 128\n",
    "num_heads = 8\n",
    "\n",
    "for batch_idx, (data, target) in pbar:\n",
    "    data = data\n",
    "    target = target\n",
    "\n",
    "    x = torch.nn.Embedding.from_pretrained(torch.FloatTensor(skipgram_model.wv.vectors), freeze = True)(data)\n",
    "    output, _ = torch.nn.LSTM(skipgram_model.vector_size, hidden_size, 1, batch_first = True, bidirectional = bidirectional)(x)\n",
    "    attn_output, attn_weights = torch.nn.MultiheadAttention(embed_dim = hidden_size * (2 if bidirectional else 1), num_heads = num_heads, batch_first = True)(output, output, output)\n",
    "\n",
    "    # Flatten the multihead attention outputs across the sequence dimension to go from a shape (batch_size, seq_len, embedding_dim) to (batch_size, seq_len * embedding_dim)\n",
    "    flattened_output = attn_output.reshape(attn_output.size(0), -1)\n",
    "\n",
    "    logits = torch.nn.Linear(flattened_output.size(1), 1)(flattened_output)\n",
    "\n",
    "    break"
   ]
  },
  {
   "cell_type": "markdown",
   "metadata": {},
   "source": [
    "## CBOW embeddings"
   ]
  },
  {
   "cell_type": "code",
   "execution_count": null,
   "metadata": {},
   "outputs": [],
   "source": [
    "TrainTweetsDataset_CBOW = TweetsDataset(tweets_train, 'cbow')\n",
    "# Create a dataloade for the training dataset\n",
    "TrainDataLoader_CBOW = torch.utils.data.DataLoader(dataset = TrainTweetsDataset_CBOW, batch_size = 128, shuffle = True)\n",
    "\n",
    "TestTweetsDataset_CBOW = TweetsDataset(tweets_test, 'cbow')\n",
    "# Create a dataloade for the training dataset\n",
    "TestDataLoader_CBOW = torch.utils.data.DataLoader(dataset = TestTweetsDataset_CBOW, batch_size = 128, shuffle = False)"
   ]
  },
  {
   "cell_type": "code",
   "execution_count": null,
   "metadata": {},
   "outputs": [
    {
     "name": "stdout",
     "output_type": "stream",
     "text": [
      "Device: mps\n"
     ]
    }
   ],
   "source": [
    "# Initialize the network, loss function, and optimizer\n",
    "device = set_device()\n",
    "customPreTrainedLSTM = CustomLSTM(word2vec_model = cbow_model,\n",
    "                                  hidden_size = 256, \n",
    "                                  output_size = 1, \n",
    "                                  num_layers = 3, \n",
    "                                  bidirectional = True,\n",
    "                                  freeze_embeddings = True).to(device)\n",
    "\n",
    "criterion = torch.nn.BCEWithLogitsLoss()\n",
    "optimizer = torch.optim.Adam(customPreTrainedLSTM.parameters(), lr = 1e-4, weight_decay = 1e-5)"
   ]
  },
  {
   "cell_type": "code",
   "execution_count": null,
   "metadata": {},
   "outputs": [
    {
     "name": "stdout",
     "output_type": "stream",
     "text": [
      "Epoch 1/8\n",
      "======== Training phase ========\n"
     ]
    },
    {
     "name": "stderr",
     "output_type": "stream",
     "text": [
      "Loss = 0.6731 | Accuracy = 62.30% | F1-Score = 0.00% | Batch ID = 60 : 100%|██████████| 60/60 [00:03<00:00, 16.18it/s]\n"
     ]
    },
    {
     "name": "stdout",
     "output_type": "stream",
     "text": [
      "Training Cross-Entropy Loss = 0.6861\n",
      "Training Accuracy = 57.03%\n",
      "Training F1-Score = 0.00%\n",
      "======== Validation phase ========\n"
     ]
    },
    {
     "name": "stderr",
     "output_type": "stream",
     "text": [
      "Loss = 0.6969 | Accuracy = 50.79% | F1-Score = 0.00% | Batch ID = 26 : 100%|██████████| 26/26 [00:00<00:00, 40.93it/s]\n"
     ]
    },
    {
     "name": "stdout",
     "output_type": "stream",
     "text": [
      "Test Cross-Entropy Loss = 0.6842\n",
      "Test Accuracy = 57.03%\n",
      "Test F1-Score = 0.00%\n",
      "\n",
      "Epoch 2/8\n",
      "======== Training phase ========\n"
     ]
    },
    {
     "name": "stderr",
     "output_type": "stream",
     "text": [
      "Loss = 0.6877 | Accuracy = 55.74% | F1-Score = 0.00% | Batch ID = 60 : 100%|██████████| 60/60 [00:03<00:00, 16.40it/s]\n"
     ]
    },
    {
     "name": "stdout",
     "output_type": "stream",
     "text": [
      "Training Cross-Entropy Loss = 0.6833\n",
      "Training Accuracy = 57.03%\n",
      "Training F1-Score = 0.00%\n",
      "======== Validation phase ========\n"
     ]
    },
    {
     "name": "stderr",
     "output_type": "stream",
     "text": [
      "Loss = 0.7035 | Accuracy = 50.79% | F1-Score = 0.00% | Batch ID = 26 : 100%|██████████| 26/26 [00:00<00:00, 41.13it/s]\n"
     ]
    },
    {
     "name": "stdout",
     "output_type": "stream",
     "text": [
      "Test Cross-Entropy Loss = 0.6838\n",
      "Test Accuracy = 57.03%\n",
      "Test F1-Score = 0.00%\n",
      "\n",
      "Epoch 3/8\n",
      "======== Training phase ========\n"
     ]
    },
    {
     "name": "stderr",
     "output_type": "stream",
     "text": [
      "Loss = 0.7004 | Accuracy = 50.82% | F1-Score = 0.00% | Batch ID = 60 : 100%|██████████| 60/60 [00:03<00:00, 16.44it/s]\n"
     ]
    },
    {
     "name": "stdout",
     "output_type": "stream",
     "text": [
      "Training Cross-Entropy Loss = 0.6836\n",
      "Training Accuracy = 57.03%\n",
      "Training F1-Score = 0.00%\n",
      "======== Validation phase ========\n"
     ]
    },
    {
     "name": "stderr",
     "output_type": "stream",
     "text": [
      "Loss = 0.7000 | Accuracy = 50.79% | F1-Score = 0.00% | Batch ID = 26 : 100%|██████████| 26/26 [00:00<00:00, 41.29it/s]\n"
     ]
    },
    {
     "name": "stdout",
     "output_type": "stream",
     "text": [
      "Test Cross-Entropy Loss = 0.6836\n",
      "Test Accuracy = 57.03%\n",
      "Test F1-Score = 0.00%\n",
      "\n",
      "Epoch 4/8\n",
      "======== Training phase ========\n"
     ]
    },
    {
     "name": "stderr",
     "output_type": "stream",
     "text": [
      "Loss = 0.6784 | Accuracy = 59.02% | F1-Score = 0.00% | Batch ID = 60 : 100%|██████████| 60/60 [00:03<00:00, 16.35it/s]\n"
     ]
    },
    {
     "name": "stdout",
     "output_type": "stream",
     "text": [
      "Training Cross-Entropy Loss = 0.6834\n",
      "Training Accuracy = 57.03%\n",
      "Training F1-Score = 0.00%\n",
      "======== Validation phase ========\n"
     ]
    },
    {
     "name": "stderr",
     "output_type": "stream",
     "text": [
      "Loss = 0.6990 | Accuracy = 50.79% | F1-Score = 0.00% | Batch ID = 26 : 100%|██████████| 26/26 [00:00<00:00, 41.19it/s]\n"
     ]
    },
    {
     "name": "stdout",
     "output_type": "stream",
     "text": [
      "Test Cross-Entropy Loss = 0.6837\n",
      "Test Accuracy = 57.03%\n",
      "Test F1-Score = 0.00%\n",
      "\n",
      "Epoch 5/8\n",
      "======== Training phase ========\n"
     ]
    },
    {
     "name": "stderr",
     "output_type": "stream",
     "text": [
      "Loss = 0.7045 | Accuracy = 49.18% | F1-Score = 0.00% | Batch ID = 60 : 100%|██████████| 60/60 [00:03<00:00, 16.43it/s]\n"
     ]
    },
    {
     "name": "stdout",
     "output_type": "stream",
     "text": [
      "Training Cross-Entropy Loss = 0.6838\n",
      "Training Accuracy = 57.03%\n",
      "Training F1-Score = 0.00%\n",
      "======== Validation phase ========\n"
     ]
    },
    {
     "name": "stderr",
     "output_type": "stream",
     "text": [
      "Loss = 0.6991 | Accuracy = 50.79% | F1-Score = 0.00% | Batch ID = 26 : 100%|██████████| 26/26 [00:00<00:00, 40.94it/s]\n"
     ]
    },
    {
     "name": "stdout",
     "output_type": "stream",
     "text": [
      "Test Cross-Entropy Loss = 0.6837\n",
      "Test Accuracy = 57.03%\n",
      "Test F1-Score = 0.00%\n",
      "\n",
      "Epoch 6/8\n",
      "======== Training phase ========\n"
     ]
    },
    {
     "name": "stderr",
     "output_type": "stream",
     "text": [
      "Loss = 0.6866 | Accuracy = 55.74% | F1-Score = 0.00% | Batch ID = 60 : 100%|██████████| 60/60 [00:03<00:00, 16.40it/s]\n"
     ]
    },
    {
     "name": "stdout",
     "output_type": "stream",
     "text": [
      "Training Cross-Entropy Loss = 0.6838\n",
      "Training Accuracy = 57.03%\n",
      "Training F1-Score = 0.00%\n",
      "======== Validation phase ========\n"
     ]
    },
    {
     "name": "stderr",
     "output_type": "stream",
     "text": [
      "Loss = 0.6983 | Accuracy = 50.79% | F1-Score = 0.00% | Batch ID = 26 : 100%|██████████| 26/26 [00:00<00:00, 41.20it/s]\n"
     ]
    },
    {
     "name": "stdout",
     "output_type": "stream",
     "text": [
      "Test Cross-Entropy Loss = 0.6838\n",
      "Test Accuracy = 57.03%\n",
      "Test F1-Score = 0.00%\n",
      "\n",
      "Epoch 7/8\n",
      "======== Training phase ========\n"
     ]
    },
    {
     "name": "stderr",
     "output_type": "stream",
     "text": [
      "Loss = 0.6823 | Accuracy = 57.38% | F1-Score = 0.00% | Batch ID = 60 : 100%|██████████| 60/60 [00:03<00:00, 16.31it/s]\n"
     ]
    },
    {
     "name": "stdout",
     "output_type": "stream",
     "text": [
      "Training Cross-Entropy Loss = 0.6835\n",
      "Training Accuracy = 57.03%\n",
      "Training F1-Score = 0.00%\n",
      "======== Validation phase ========\n"
     ]
    },
    {
     "name": "stderr",
     "output_type": "stream",
     "text": [
      "Loss = 0.7006 | Accuracy = 50.79% | F1-Score = 0.00% | Batch ID = 26 : 100%|██████████| 26/26 [00:00<00:00, 40.37it/s]\n"
     ]
    },
    {
     "name": "stdout",
     "output_type": "stream",
     "text": [
      "Test Cross-Entropy Loss = 0.6836\n",
      "Test Accuracy = 57.03%\n",
      "Test F1-Score = 0.00%\n",
      "\n",
      "Epoch 8/8\n",
      "======== Training phase ========\n"
     ]
    },
    {
     "name": "stderr",
     "output_type": "stream",
     "text": [
      "Loss = 0.6998 | Accuracy = 50.82% | F1-Score = 0.00% | Batch ID = 60 : 100%|██████████| 60/60 [00:03<00:00, 16.38it/s]\n"
     ]
    },
    {
     "name": "stdout",
     "output_type": "stream",
     "text": [
      "Training Cross-Entropy Loss = 0.6836\n",
      "Training Accuracy = 57.03%\n",
      "Training F1-Score = 0.00%\n",
      "======== Validation phase ========\n"
     ]
    },
    {
     "name": "stderr",
     "output_type": "stream",
     "text": [
      "Loss = 0.6996 | Accuracy = 50.79% | F1-Score = 0.00% | Batch ID = 26 : 100%|██████████| 26/26 [00:00<00:00, 40.90it/s]"
     ]
    },
    {
     "name": "stdout",
     "output_type": "stream",
     "text": [
      "Test Cross-Entropy Loss = 0.6836\n",
      "Test Accuracy = 57.03%\n",
      "Test F1-Score = 0.00%\n",
      "\n"
     ]
    },
    {
     "name": "stderr",
     "output_type": "stream",
     "text": [
      "\n"
     ]
    }
   ],
   "source": [
    "train_losses, train_f1s, test_losses, test_f1s = train(customPreTrainedLSTM, TrainDataLoader_CBOW, TestDataLoader_CBOW, optimizer, criterion, epochs = 8, device = device)"
   ]
  },
  {
   "cell_type": "code",
   "execution_count": null,
   "metadata": {},
   "outputs": [
    {
     "name": "stdout",
     "output_type": "stream",
     "text": [
      "Device: mps\n"
     ]
    }
   ],
   "source": [
    "# Initialize the network, loss function, and optimizer\n",
    "device = set_device()\n",
    "customPreTrainedLSTM_Attention = CustomLSTM_Attention(word2vec_model = cbow_model, \n",
    "                                                      hidden_size = 256, \n",
    "                                                      output_size = 1, \n",
    "                                                      num_layers = 3, \n",
    "                                                      bidirectional = True,\n",
    "                                                      freeze_embeddings = True).to(device)\n",
    "\n",
    "criterion = torch.nn.BCEWithLogitsLoss()\n",
    "optimizer = torch.optim.Adam(customPreTrainedLSTM_Attention.parameters(), lr = 1e-4, weight_decay = 1e-5)"
   ]
  },
  {
   "cell_type": "code",
   "execution_count": null,
   "metadata": {},
   "outputs": [
    {
     "name": "stdout",
     "output_type": "stream",
     "text": [
      "Epoch 1/8\n",
      "======== Training phase ========\n"
     ]
    },
    {
     "name": "stderr",
     "output_type": "stream",
     "text": [
      "Loss = 0.4845 | Accuracy = 77.05% | F1-Score = 58.82% | Batch ID = 60 : 100%|██████████| 60/60 [00:03<00:00, 16.16it/s]\n"
     ]
    },
    {
     "name": "stdout",
     "output_type": "stream",
     "text": [
      "Training Cross-Entropy Loss = 0.6515\n",
      "Training Accuracy = 58.33%\n",
      "Training F1-Score = 6.43%\n",
      "======== Validation phase ========\n"
     ]
    },
    {
     "name": "stderr",
     "output_type": "stream",
     "text": [
      "Loss = 0.4120 | Accuracy = 84.13% | F1-Score = 80.77% | Batch ID = 26 : 100%|██████████| 26/26 [00:00<00:00, 41.10it/s]\n"
     ]
    },
    {
     "name": "stdout",
     "output_type": "stream",
     "text": [
      "Test Cross-Entropy Loss = 0.5274\n",
      "Test Accuracy = 73.83%\n",
      "Test F1-Score = 61.00%\n",
      "\n",
      "Epoch 2/8\n",
      "======== Training phase ========\n"
     ]
    },
    {
     "name": "stderr",
     "output_type": "stream",
     "text": [
      "Loss = 0.5151 | Accuracy = 72.13% | F1-Score = 63.83% | Batch ID = 60 : 100%|██████████| 60/60 [00:03<00:00, 16.11it/s]\n"
     ]
    },
    {
     "name": "stdout",
     "output_type": "stream",
     "text": [
      "Training Cross-Entropy Loss = 0.4761\n",
      "Training Accuracy = 77.49%\n",
      "Training F1-Score = 69.17%\n",
      "======== Validation phase ========\n"
     ]
    },
    {
     "name": "stderr",
     "output_type": "stream",
     "text": [
      "Loss = 0.3149 | Accuracy = 88.89% | F1-Score = 87.72% | Batch ID = 26 : 100%|██████████| 26/26 [00:00<00:00, 41.05it/s]\n"
     ]
    },
    {
     "name": "stdout",
     "output_type": "stream",
     "text": [
      "Test Cross-Entropy Loss = 0.4681\n",
      "Test Accuracy = 77.63%\n",
      "Test F1-Score = 68.45%\n",
      "\n",
      "Epoch 3/8\n",
      "======== Training phase ========\n"
     ]
    },
    {
     "name": "stderr",
     "output_type": "stream",
     "text": [
      "Loss = 0.5320 | Accuracy = 75.41% | F1-Score = 63.41% | Batch ID = 60 : 100%|██████████| 60/60 [00:03<00:00, 16.17it/s]\n"
     ]
    },
    {
     "name": "stdout",
     "output_type": "stream",
     "text": [
      "Training Cross-Entropy Loss = 0.4355\n",
      "Training Accuracy = 79.99%\n",
      "Training F1-Score = 72.83%\n",
      "======== Validation phase ========\n"
     ]
    },
    {
     "name": "stderr",
     "output_type": "stream",
     "text": [
      "Loss = 0.3117 | Accuracy = 90.48% | F1-Score = 89.66% | Batch ID = 26 : 100%|██████████| 26/26 [00:00<00:00, 41.04it/s]\n"
     ]
    },
    {
     "name": "stdout",
     "output_type": "stream",
     "text": [
      "Test Cross-Entropy Loss = 0.4572\n",
      "Test Accuracy = 77.47%\n",
      "Test F1-Score = 67.61%\n",
      "\n",
      "Epoch 4/8\n",
      "======== Training phase ========\n"
     ]
    },
    {
     "name": "stderr",
     "output_type": "stream",
     "text": [
      "Loss = 0.2277 | Accuracy = 93.44% | F1-Score = 92.31% | Batch ID = 60 : 100%|██████████| 60/60 [00:03<00:00, 16.11it/s]\n"
     ]
    },
    {
     "name": "stdout",
     "output_type": "stream",
     "text": [
      "Training Cross-Entropy Loss = 0.4039\n",
      "Training Accuracy = 82.08%\n",
      "Training F1-Score = 76.10%\n",
      "======== Validation phase ========\n"
     ]
    },
    {
     "name": "stderr",
     "output_type": "stream",
     "text": [
      "Loss = 0.3188 | Accuracy = 88.89% | F1-Score = 88.14% | Batch ID = 26 : 100%|██████████| 26/26 [00:00<00:00, 41.06it/s]\n"
     ]
    },
    {
     "name": "stdout",
     "output_type": "stream",
     "text": [
      "Test Cross-Entropy Loss = 0.4546\n",
      "Test Accuracy = 78.46%\n",
      "Test F1-Score = 70.12%\n",
      "\n",
      "Epoch 5/8\n",
      "======== Training phase ========\n"
     ]
    },
    {
     "name": "stderr",
     "output_type": "stream",
     "text": [
      "Loss = 0.4525 | Accuracy = 78.69% | F1-Score = 60.61% | Batch ID = 60 : 100%|██████████| 60/60 [00:03<00:00, 16.16it/s]\n"
     ]
    },
    {
     "name": "stdout",
     "output_type": "stream",
     "text": [
      "Training Cross-Entropy Loss = 0.3801\n",
      "Training Accuracy = 83.59%\n",
      "Training F1-Score = 78.33%\n",
      "======== Validation phase ========\n"
     ]
    },
    {
     "name": "stderr",
     "output_type": "stream",
     "text": [
      "Loss = 0.3313 | Accuracy = 88.89% | F1-Score = 88.14% | Batch ID = 26 : 100%|██████████| 26/26 [00:00<00:00, 41.05it/s]\n"
     ]
    },
    {
     "name": "stdout",
     "output_type": "stream",
     "text": [
      "Test Cross-Entropy Loss = 0.4599\n",
      "Test Accuracy = 78.88%\n",
      "Test F1-Score = 71.66%\n",
      "\n",
      "Epoch 6/8\n",
      "======== Training phase ========\n"
     ]
    },
    {
     "name": "stderr",
     "output_type": "stream",
     "text": [
      "Loss = 0.2912 | Accuracy = 88.52% | F1-Score = 86.79% | Batch ID = 60 : 100%|██████████| 60/60 [00:03<00:00, 16.11it/s]\n"
     ]
    },
    {
     "name": "stdout",
     "output_type": "stream",
     "text": [
      "Training Cross-Entropy Loss = 0.3468\n",
      "Training Accuracy = 84.91%\n",
      "Training F1-Score = 80.13%\n",
      "======== Validation phase ========\n"
     ]
    },
    {
     "name": "stderr",
     "output_type": "stream",
     "text": [
      "Loss = 0.3818 | Accuracy = 87.30% | F1-Score = 86.67% | Batch ID = 26 : 100%|██████████| 26/26 [00:00<00:00, 41.16it/s]\n"
     ]
    },
    {
     "name": "stdout",
     "output_type": "stream",
     "text": [
      "Test Cross-Entropy Loss = 0.4954\n",
      "Test Accuracy = 79.04%\n",
      "Test F1-Score = 73.34%\n",
      "\n",
      "Epoch 7/8\n",
      "======== Training phase ========\n"
     ]
    },
    {
     "name": "stderr",
     "output_type": "stream",
     "text": [
      "Loss = 0.3543 | Accuracy = 86.89% | F1-Score = 80.00% | Batch ID = 60 : 100%|██████████| 60/60 [00:03<00:00, 16.18it/s]\n"
     ]
    },
    {
     "name": "stdout",
     "output_type": "stream",
     "text": [
      "Training Cross-Entropy Loss = 0.3137\n",
      "Training Accuracy = 86.96%\n",
      "Training F1-Score = 83.31%\n",
      "======== Validation phase ========\n"
     ]
    },
    {
     "name": "stderr",
     "output_type": "stream",
     "text": [
      "Loss = 0.3736 | Accuracy = 85.71% | F1-Score = 84.75% | Batch ID = 26 : 100%|██████████| 26/26 [00:00<00:00, 40.52it/s]\n"
     ]
    },
    {
     "name": "stdout",
     "output_type": "stream",
     "text": [
      "Test Cross-Entropy Loss = 0.5078\n",
      "Test Accuracy = 77.93%\n",
      "Test F1-Score = 71.22%\n",
      "\n",
      "Epoch 8/8\n",
      "======== Training phase ========\n"
     ]
    },
    {
     "name": "stderr",
     "output_type": "stream",
     "text": [
      "Loss = 0.2430 | Accuracy = 91.80% | F1-Score = 91.80% | Batch ID = 60 : 100%|██████████| 60/60 [00:03<00:00, 16.15it/s]\n"
     ]
    },
    {
     "name": "stdout",
     "output_type": "stream",
     "text": [
      "Training Cross-Entropy Loss = 0.2741\n",
      "Training Accuracy = 89.26%\n",
      "Training F1-Score = 86.39%\n",
      "======== Validation phase ========\n"
     ]
    },
    {
     "name": "stderr",
     "output_type": "stream",
     "text": [
      "Loss = 0.3686 | Accuracy = 87.30% | F1-Score = 86.21% | Batch ID = 26 : 100%|██████████| 26/26 [00:00<00:00, 41.08it/s]"
     ]
    },
    {
     "name": "stdout",
     "output_type": "stream",
     "text": [
      "Test Cross-Entropy Loss = 0.5246\n",
      "Test Accuracy = 78.21%\n",
      "Test F1-Score = 71.46%\n",
      "\n"
     ]
    },
    {
     "name": "stderr",
     "output_type": "stream",
     "text": [
      "\n"
     ]
    }
   ],
   "source": [
    "train_losses, train_f1s, test_losses, test_f1s = train(customPreTrainedLSTM_Attention, TrainDataLoader_CBOW, TestDataLoader_CBOW, optimizer, criterion, epochs = 8, device = device)"
   ]
  },
  {
   "cell_type": "markdown",
   "metadata": {},
   "source": [
    "# Training GRU Neural Network with Custom Pre-trained Word2Vec Embeddings"
   ]
  },
  {
   "cell_type": "markdown",
   "metadata": {},
   "source": [
    "## SkipGram Embeddings"
   ]
  },
  {
   "cell_type": "code",
   "execution_count": null,
   "metadata": {},
   "outputs": [],
   "source": [
    "TrainTweetsDataset_SkipGram = TweetsDataset(tweets_train, 'skipgram')\n",
    "# Create a dataloade for the training dataset\n",
    "TrainDataLoader_SkipGram = torch.utils.data.DataLoader(dataset = TrainTweetsDataset_SkipGram, batch_size = 128, shuffle = True)\n",
    "\n",
    "TestTweetsDataset_SkipGram = TweetsDataset(tweets_test, 'skipgram')\n",
    "# Create a dataloade for the training dataset\n",
    "TestDataLoader_SkipGram = torch.utils.data.DataLoader(dataset = TestTweetsDataset_SkipGram, batch_size = 128, shuffle = False)"
   ]
  },
  {
   "cell_type": "code",
   "execution_count": null,
   "metadata": {},
   "outputs": [
    {
     "name": "stdout",
     "output_type": "stream",
     "text": [
      "Device: mps\n"
     ]
    }
   ],
   "source": [
    "# Initialize the network, loss function, and optimizer\n",
    "device = set_device()\n",
    "customPreTrainedGRU = CustomGRU(word2vec_model = skipgram_model, \n",
    "                                hidden_size = 256, \n",
    "                                output_size = 1, \n",
    "                                num_layers = 3, \n",
    "                                bidirectional = True,\n",
    "                                freeze_embeddings = True).to(device)\n",
    "\n",
    "criterion = torch.nn.BCEWithLogitsLoss()\n",
    "optimizer = torch.optim.Adam(customPreTrainedGRU.parameters(), lr = 1e-4, weight_decay = 1e-5)"
   ]
  },
  {
   "cell_type": "code",
   "execution_count": null,
   "metadata": {},
   "outputs": [
    {
     "name": "stdout",
     "output_type": "stream",
     "text": [
      "Epoch 1/8\n",
      "======== Training phase ========\n"
     ]
    },
    {
     "name": "stderr",
     "output_type": "stream",
     "text": [
      "Loss = 0.6638 | Accuracy = 63.93% | F1-Score = 0.00% | Batch ID = 60 : 100%|██████████| 60/60 [00:39<00:00,  1.52it/s]\n"
     ]
    },
    {
     "name": "stdout",
     "output_type": "stream",
     "text": [
      "Training Cross-Entropy Loss = 0.6843\n",
      "Training Accuracy = 57.03%\n",
      "Training F1-Score = 0.00%\n",
      "======== Validation phase ========\n"
     ]
    },
    {
     "name": "stderr",
     "output_type": "stream",
     "text": [
      "Loss = 0.7076 | Accuracy = 50.79% | F1-Score = 0.00% | Batch ID = 26 : 100%|██████████| 26/26 [00:05<00:00,  4.38it/s]\n"
     ]
    },
    {
     "name": "stdout",
     "output_type": "stream",
     "text": [
      "Test Cross-Entropy Loss = 0.6849\n",
      "Test Accuracy = 57.03%\n",
      "Test F1-Score = 0.00%\n",
      "\n",
      "Epoch 2/8\n",
      "======== Training phase ========\n"
     ]
    },
    {
     "name": "stderr",
     "output_type": "stream",
     "text": [
      "Loss = 0.6979 | Accuracy = 52.46% | F1-Score = 0.00% | Batch ID = 60 : 100%|██████████| 60/60 [00:39<00:00,  1.52it/s]\n"
     ]
    },
    {
     "name": "stdout",
     "output_type": "stream",
     "text": [
      "Training Cross-Entropy Loss = 0.6845\n",
      "Training Accuracy = 57.03%\n",
      "Training F1-Score = 0.00%\n",
      "======== Validation phase ========\n"
     ]
    },
    {
     "name": "stderr",
     "output_type": "stream",
     "text": [
      "Loss = 0.7045 | Accuracy = 50.79% | F1-Score = 0.00% | Batch ID = 26 : 100%|██████████| 26/26 [00:05<00:00,  4.43it/s]\n"
     ]
    },
    {
     "name": "stdout",
     "output_type": "stream",
     "text": [
      "Test Cross-Entropy Loss = 0.6840\n",
      "Test Accuracy = 57.03%\n",
      "Test F1-Score = 0.00%\n",
      "\n",
      "Epoch 3/8\n",
      "======== Training phase ========\n"
     ]
    },
    {
     "name": "stderr",
     "output_type": "stream",
     "text": [
      "Loss = 0.6854 | Accuracy = 58.59% | F1-Score = 0.00% | Batch ID = 17 :  28%|██▊       | 17/60 [00:11<00:29,  1.44it/s]\n"
     ]
    },
    {
     "ename": "KeyboardInterrupt",
     "evalue": "",
     "output_type": "error",
     "traceback": [
      "\u001b[0;31m---------------------------------------------------------------------------\u001b[0m",
      "\u001b[0;31mKeyboardInterrupt\u001b[0m                         Traceback (most recent call last)",
      "Cell \u001b[0;32mIn[33], line 1\u001b[0m\n\u001b[0;32m----> 1\u001b[0m train_losses, train_f1s, test_losses, test_f1s \u001b[38;5;241m=\u001b[39m \u001b[43mtrain\u001b[49m\u001b[43m(\u001b[49m\u001b[43mcustomPreTrainedGRU\u001b[49m\u001b[43m,\u001b[49m\u001b[43m \u001b[49m\u001b[43mTrainDataLoader_SkipGram\u001b[49m\u001b[43m,\u001b[49m\u001b[43m \u001b[49m\u001b[43mTestDataLoader_SkipGram\u001b[49m\u001b[43m,\u001b[49m\u001b[43m \u001b[49m\u001b[43moptimizer\u001b[49m\u001b[43m,\u001b[49m\u001b[43m \u001b[49m\u001b[43mcriterion\u001b[49m\u001b[43m,\u001b[49m\u001b[43m \u001b[49m\u001b[43mepochs\u001b[49m\u001b[43m \u001b[49m\u001b[38;5;241;43m=\u001b[39;49m\u001b[43m \u001b[49m\u001b[38;5;241;43m8\u001b[39;49m\u001b[43m,\u001b[49m\u001b[43m \u001b[49m\u001b[43mdevice\u001b[49m\u001b[43m \u001b[49m\u001b[38;5;241;43m=\u001b[39;49m\u001b[43m \u001b[49m\u001b[43mdevice\u001b[49m\u001b[43m)\u001b[49m\n",
      "Cell \u001b[0;32mIn[2], line 265\u001b[0m, in \u001b[0;36mtrain\u001b[0;34m(model, train_loader, test_loader, optimizer, loss_func, epochs, device, **kwargs)\u001b[0m\n\u001b[1;32m    263\u001b[0m target \u001b[38;5;241m=\u001b[39m target\u001b[38;5;241m.\u001b[39mto(device)\n\u001b[1;32m    264\u001b[0m model\u001b[38;5;241m.\u001b[39mzero_grad()\n\u001b[0;32m--> 265\u001b[0m output \u001b[38;5;241m=\u001b[39m \u001b[43mmodel\u001b[49m\u001b[43m(\u001b[49m\u001b[43mdata\u001b[49m\u001b[43m)\u001b[49m\n\u001b[1;32m    266\u001b[0m loss \u001b[38;5;241m=\u001b[39m loss_fn(output, target)\n\u001b[1;32m    267\u001b[0m loss\u001b[38;5;241m.\u001b[39mbackward()\n",
      "File \u001b[0;32m~/anaconda3/lib/python3.10/site-packages/torch/nn/modules/module.py:1518\u001b[0m, in \u001b[0;36mModule._wrapped_call_impl\u001b[0;34m(self, *args, **kwargs)\u001b[0m\n\u001b[1;32m   1516\u001b[0m     \u001b[38;5;28;01mreturn\u001b[39;00m \u001b[38;5;28mself\u001b[39m\u001b[38;5;241m.\u001b[39m_compiled_call_impl(\u001b[38;5;241m*\u001b[39margs, \u001b[38;5;241m*\u001b[39m\u001b[38;5;241m*\u001b[39mkwargs)  \u001b[38;5;66;03m# type: ignore[misc]\u001b[39;00m\n\u001b[1;32m   1517\u001b[0m \u001b[38;5;28;01melse\u001b[39;00m:\n\u001b[0;32m-> 1518\u001b[0m     \u001b[38;5;28;01mreturn\u001b[39;00m \u001b[38;5;28;43mself\u001b[39;49m\u001b[38;5;241;43m.\u001b[39;49m\u001b[43m_call_impl\u001b[49m\u001b[43m(\u001b[49m\u001b[38;5;241;43m*\u001b[39;49m\u001b[43margs\u001b[49m\u001b[43m,\u001b[49m\u001b[43m \u001b[49m\u001b[38;5;241;43m*\u001b[39;49m\u001b[38;5;241;43m*\u001b[39;49m\u001b[43mkwargs\u001b[49m\u001b[43m)\u001b[49m\n",
      "File \u001b[0;32m~/anaconda3/lib/python3.10/site-packages/torch/nn/modules/module.py:1527\u001b[0m, in \u001b[0;36mModule._call_impl\u001b[0;34m(self, *args, **kwargs)\u001b[0m\n\u001b[1;32m   1522\u001b[0m \u001b[38;5;66;03m# If we don't have any hooks, we want to skip the rest of the logic in\u001b[39;00m\n\u001b[1;32m   1523\u001b[0m \u001b[38;5;66;03m# this function, and just call forward.\u001b[39;00m\n\u001b[1;32m   1524\u001b[0m \u001b[38;5;28;01mif\u001b[39;00m \u001b[38;5;129;01mnot\u001b[39;00m (\u001b[38;5;28mself\u001b[39m\u001b[38;5;241m.\u001b[39m_backward_hooks \u001b[38;5;129;01mor\u001b[39;00m \u001b[38;5;28mself\u001b[39m\u001b[38;5;241m.\u001b[39m_backward_pre_hooks \u001b[38;5;129;01mor\u001b[39;00m \u001b[38;5;28mself\u001b[39m\u001b[38;5;241m.\u001b[39m_forward_hooks \u001b[38;5;129;01mor\u001b[39;00m \u001b[38;5;28mself\u001b[39m\u001b[38;5;241m.\u001b[39m_forward_pre_hooks\n\u001b[1;32m   1525\u001b[0m         \u001b[38;5;129;01mor\u001b[39;00m _global_backward_pre_hooks \u001b[38;5;129;01mor\u001b[39;00m _global_backward_hooks\n\u001b[1;32m   1526\u001b[0m         \u001b[38;5;129;01mor\u001b[39;00m _global_forward_hooks \u001b[38;5;129;01mor\u001b[39;00m _global_forward_pre_hooks):\n\u001b[0;32m-> 1527\u001b[0m     \u001b[38;5;28;01mreturn\u001b[39;00m \u001b[43mforward_call\u001b[49m\u001b[43m(\u001b[49m\u001b[38;5;241;43m*\u001b[39;49m\u001b[43margs\u001b[49m\u001b[43m,\u001b[49m\u001b[43m \u001b[49m\u001b[38;5;241;43m*\u001b[39;49m\u001b[38;5;241;43m*\u001b[39;49m\u001b[43mkwargs\u001b[49m\u001b[43m)\u001b[49m\n\u001b[1;32m   1529\u001b[0m \u001b[38;5;28;01mtry\u001b[39;00m:\n\u001b[1;32m   1530\u001b[0m     result \u001b[38;5;241m=\u001b[39m \u001b[38;5;28;01mNone\u001b[39;00m\n",
      "Cell \u001b[0;32mIn[2], line 384\u001b[0m, in \u001b[0;36mCustomGRU.forward\u001b[0;34m(self, x)\u001b[0m\n\u001b[1;32m    382\u001b[0m \u001b[38;5;28;01mdef\u001b[39;00m \u001b[38;5;21mforward\u001b[39m(\u001b[38;5;28mself\u001b[39m, x):\n\u001b[1;32m    383\u001b[0m     x \u001b[38;5;241m=\u001b[39m \u001b[38;5;28mself\u001b[39m\u001b[38;5;241m.\u001b[39membedding(x)\n\u001b[0;32m--> 384\u001b[0m     output, _ \u001b[38;5;241m=\u001b[39m \u001b[38;5;28;43mself\u001b[39;49m\u001b[38;5;241;43m.\u001b[39;49m\u001b[43mgru\u001b[49m\u001b[43m(\u001b[49m\u001b[43mx\u001b[49m\u001b[43m)\u001b[49m\n\u001b[1;32m    385\u001b[0m     output \u001b[38;5;241m=\u001b[39m \u001b[38;5;28mself\u001b[39m\u001b[38;5;241m.\u001b[39mfc(output[:, \u001b[38;5;241m-\u001b[39m\u001b[38;5;241m1\u001b[39m, :])  \u001b[38;5;66;03m# Use the last time step's output\u001b[39;00m\n\u001b[1;32m    386\u001b[0m     \u001b[38;5;28;01mreturn\u001b[39;00m output\n",
      "File \u001b[0;32m~/anaconda3/lib/python3.10/site-packages/torch/nn/modules/module.py:1518\u001b[0m, in \u001b[0;36mModule._wrapped_call_impl\u001b[0;34m(self, *args, **kwargs)\u001b[0m\n\u001b[1;32m   1516\u001b[0m     \u001b[38;5;28;01mreturn\u001b[39;00m \u001b[38;5;28mself\u001b[39m\u001b[38;5;241m.\u001b[39m_compiled_call_impl(\u001b[38;5;241m*\u001b[39margs, \u001b[38;5;241m*\u001b[39m\u001b[38;5;241m*\u001b[39mkwargs)  \u001b[38;5;66;03m# type: ignore[misc]\u001b[39;00m\n\u001b[1;32m   1517\u001b[0m \u001b[38;5;28;01melse\u001b[39;00m:\n\u001b[0;32m-> 1518\u001b[0m     \u001b[38;5;28;01mreturn\u001b[39;00m \u001b[38;5;28;43mself\u001b[39;49m\u001b[38;5;241;43m.\u001b[39;49m\u001b[43m_call_impl\u001b[49m\u001b[43m(\u001b[49m\u001b[38;5;241;43m*\u001b[39;49m\u001b[43margs\u001b[49m\u001b[43m,\u001b[49m\u001b[43m \u001b[49m\u001b[38;5;241;43m*\u001b[39;49m\u001b[38;5;241;43m*\u001b[39;49m\u001b[43mkwargs\u001b[49m\u001b[43m)\u001b[49m\n",
      "File \u001b[0;32m~/anaconda3/lib/python3.10/site-packages/torch/nn/modules/module.py:1527\u001b[0m, in \u001b[0;36mModule._call_impl\u001b[0;34m(self, *args, **kwargs)\u001b[0m\n\u001b[1;32m   1522\u001b[0m \u001b[38;5;66;03m# If we don't have any hooks, we want to skip the rest of the logic in\u001b[39;00m\n\u001b[1;32m   1523\u001b[0m \u001b[38;5;66;03m# this function, and just call forward.\u001b[39;00m\n\u001b[1;32m   1524\u001b[0m \u001b[38;5;28;01mif\u001b[39;00m \u001b[38;5;129;01mnot\u001b[39;00m (\u001b[38;5;28mself\u001b[39m\u001b[38;5;241m.\u001b[39m_backward_hooks \u001b[38;5;129;01mor\u001b[39;00m \u001b[38;5;28mself\u001b[39m\u001b[38;5;241m.\u001b[39m_backward_pre_hooks \u001b[38;5;129;01mor\u001b[39;00m \u001b[38;5;28mself\u001b[39m\u001b[38;5;241m.\u001b[39m_forward_hooks \u001b[38;5;129;01mor\u001b[39;00m \u001b[38;5;28mself\u001b[39m\u001b[38;5;241m.\u001b[39m_forward_pre_hooks\n\u001b[1;32m   1525\u001b[0m         \u001b[38;5;129;01mor\u001b[39;00m _global_backward_pre_hooks \u001b[38;5;129;01mor\u001b[39;00m _global_backward_hooks\n\u001b[1;32m   1526\u001b[0m         \u001b[38;5;129;01mor\u001b[39;00m _global_forward_hooks \u001b[38;5;129;01mor\u001b[39;00m _global_forward_pre_hooks):\n\u001b[0;32m-> 1527\u001b[0m     \u001b[38;5;28;01mreturn\u001b[39;00m \u001b[43mforward_call\u001b[49m\u001b[43m(\u001b[49m\u001b[38;5;241;43m*\u001b[39;49m\u001b[43margs\u001b[49m\u001b[43m,\u001b[49m\u001b[43m \u001b[49m\u001b[38;5;241;43m*\u001b[39;49m\u001b[38;5;241;43m*\u001b[39;49m\u001b[43mkwargs\u001b[49m\u001b[43m)\u001b[49m\n\u001b[1;32m   1529\u001b[0m \u001b[38;5;28;01mtry\u001b[39;00m:\n\u001b[1;32m   1530\u001b[0m     result \u001b[38;5;241m=\u001b[39m \u001b[38;5;28;01mNone\u001b[39;00m\n",
      "File \u001b[0;32m~/anaconda3/lib/python3.10/site-packages/torch/nn/modules/rnn.py:1102\u001b[0m, in \u001b[0;36mGRU.forward\u001b[0;34m(self, input, hx)\u001b[0m\n\u001b[1;32m   1100\u001b[0m \u001b[38;5;28mself\u001b[39m\u001b[38;5;241m.\u001b[39mcheck_forward_args(\u001b[38;5;28minput\u001b[39m, hx, batch_sizes)\n\u001b[1;32m   1101\u001b[0m \u001b[38;5;28;01mif\u001b[39;00m batch_sizes \u001b[38;5;129;01mis\u001b[39;00m \u001b[38;5;28;01mNone\u001b[39;00m:\n\u001b[0;32m-> 1102\u001b[0m     result \u001b[38;5;241m=\u001b[39m \u001b[43m_VF\u001b[49m\u001b[38;5;241;43m.\u001b[39;49m\u001b[43mgru\u001b[49m\u001b[43m(\u001b[49m\u001b[38;5;28;43minput\u001b[39;49m\u001b[43m,\u001b[49m\u001b[43m \u001b[49m\u001b[43mhx\u001b[49m\u001b[43m,\u001b[49m\u001b[43m \u001b[49m\u001b[38;5;28;43mself\u001b[39;49m\u001b[38;5;241;43m.\u001b[39;49m\u001b[43m_flat_weights\u001b[49m\u001b[43m,\u001b[49m\u001b[43m \u001b[49m\u001b[38;5;28;43mself\u001b[39;49m\u001b[38;5;241;43m.\u001b[39;49m\u001b[43mbias\u001b[49m\u001b[43m,\u001b[49m\u001b[43m \u001b[49m\u001b[38;5;28;43mself\u001b[39;49m\u001b[38;5;241;43m.\u001b[39;49m\u001b[43mnum_layers\u001b[49m\u001b[43m,\u001b[49m\n\u001b[1;32m   1103\u001b[0m \u001b[43m                     \u001b[49m\u001b[38;5;28;43mself\u001b[39;49m\u001b[38;5;241;43m.\u001b[39;49m\u001b[43mdropout\u001b[49m\u001b[43m,\u001b[49m\u001b[43m \u001b[49m\u001b[38;5;28;43mself\u001b[39;49m\u001b[38;5;241;43m.\u001b[39;49m\u001b[43mtraining\u001b[49m\u001b[43m,\u001b[49m\u001b[43m \u001b[49m\u001b[38;5;28;43mself\u001b[39;49m\u001b[38;5;241;43m.\u001b[39;49m\u001b[43mbidirectional\u001b[49m\u001b[43m,\u001b[49m\u001b[43m \u001b[49m\u001b[38;5;28;43mself\u001b[39;49m\u001b[38;5;241;43m.\u001b[39;49m\u001b[43mbatch_first\u001b[49m\u001b[43m)\u001b[49m\n\u001b[1;32m   1104\u001b[0m \u001b[38;5;28;01melse\u001b[39;00m:\n\u001b[1;32m   1105\u001b[0m     result \u001b[38;5;241m=\u001b[39m _VF\u001b[38;5;241m.\u001b[39mgru(\u001b[38;5;28minput\u001b[39m, batch_sizes, hx, \u001b[38;5;28mself\u001b[39m\u001b[38;5;241m.\u001b[39m_flat_weights, \u001b[38;5;28mself\u001b[39m\u001b[38;5;241m.\u001b[39mbias,\n\u001b[1;32m   1106\u001b[0m                      \u001b[38;5;28mself\u001b[39m\u001b[38;5;241m.\u001b[39mnum_layers, \u001b[38;5;28mself\u001b[39m\u001b[38;5;241m.\u001b[39mdropout, \u001b[38;5;28mself\u001b[39m\u001b[38;5;241m.\u001b[39mtraining, \u001b[38;5;28mself\u001b[39m\u001b[38;5;241m.\u001b[39mbidirectional)\n",
      "\u001b[0;31mKeyboardInterrupt\u001b[0m: "
     ]
    }
   ],
   "source": [
    "train_losses, train_f1s, test_losses, test_f1s = train(customPreTrainedGRU, TrainDataLoader_SkipGram, TestDataLoader_SkipGram, optimizer, criterion, epochs = 8, device = device)"
   ]
  },
  {
   "cell_type": "code",
   "execution_count": null,
   "metadata": {},
   "outputs": [
    {
     "name": "stdout",
     "output_type": "stream",
     "text": [
      "Device: mps\n"
     ]
    }
   ],
   "source": [
    "# Initialize the network, loss function, and optimizer\n",
    "device = set_device()\n",
    "customPreTrainedGRU_Attention = CustomGRU_Attention(word2vec_model = skipgram_model, \n",
    "                                                    hidden_size = 256, \n",
    "                                                    output_size = 1, \n",
    "                                                    num_layers = 3, \n",
    "                                                    bidirectional = True,\n",
    "                                                    freeze_embeddings = True).to(device)\n",
    "\n",
    "criterion = torch.nn.BCEWithLogitsLoss()\n",
    "optimizer = torch.optim.Adam(customPreTrainedGRU_Attention.parameters(), lr = 1e-4, weight_decay = 1e-5)"
   ]
  },
  {
   "cell_type": "code",
   "execution_count": null,
   "metadata": {},
   "outputs": [
    {
     "name": "stdout",
     "output_type": "stream",
     "text": [
      "Epoch 1/8\n",
      "======== Training phase ========\n"
     ]
    },
    {
     "name": "stderr",
     "output_type": "stream",
     "text": [
      "Loss = 0.5972 | Accuracy = 66.14% | F1-Score = 39.62% | Batch ID = 30 : 100%|██████████| 30/30 [00:06<00:00,  4.58it/s]\n"
     ]
    },
    {
     "name": "stdout",
     "output_type": "stream",
     "text": [
      "Training Cross-Entropy Loss = 0.6553\n",
      "Training Accuracy = 58.26%\n",
      "Training F1-Score = 5.59%\n",
      "======== Validation phase ========\n"
     ]
    },
    {
     "name": "stderr",
     "output_type": "stream",
     "text": [
      "Loss = 0.5561 | Accuracy = 67.54% | F1-Score = 56.34% | Batch ID = 13 : 100%|██████████| 13/13 [00:01<00:00, 11.99it/s]\n"
     ]
    },
    {
     "name": "stdout",
     "output_type": "stream",
     "text": [
      "Test Cross-Entropy Loss = nan\n",
      "Test Accuracy = 65.22%\n",
      "Test F1-Score = 33.97%\n",
      "\n",
      "Epoch 2/8\n",
      "======== Training phase ========\n"
     ]
    },
    {
     "name": "stderr",
     "output_type": "stream",
     "text": [
      "Loss = nan | Accuracy = 55.03% | F1-Score = 0.00% | Batch ID = 30 : 100%|██████████| 30/30 [00:06<00:00,  4.61it/s]  \n"
     ]
    },
    {
     "name": "stdout",
     "output_type": "stream",
     "text": [
      "Training Cross-Entropy Loss = nan\n",
      "Training Accuracy = 58.30%\n",
      "Training F1-Score = 5.81%\n",
      "======== Validation phase ========\n"
     ]
    },
    {
     "name": "stderr",
     "output_type": "stream",
     "text": [
      "Loss = nan | Accuracy = 48.17% | F1-Score = 0.00% | Batch ID = 13 : 100%|██████████| 13/13 [00:01<00:00, 11.92it/s]\n"
     ]
    },
    {
     "name": "stdout",
     "output_type": "stream",
     "text": [
      "Test Cross-Entropy Loss = nan\n",
      "Test Accuracy = 57.03%\n",
      "Test F1-Score = 0.00%\n",
      "\n",
      "Epoch 3/8\n",
      "======== Training phase ========\n"
     ]
    },
    {
     "name": "stderr",
     "output_type": "stream",
     "text": [
      "Loss = nan | Accuracy = 54.50% | F1-Score = 0.00% | Batch ID = 30 : 100%|██████████| 30/30 [00:06<00:00,  4.48it/s]\n"
     ]
    },
    {
     "name": "stdout",
     "output_type": "stream",
     "text": [
      "Training Cross-Entropy Loss = nan\n",
      "Training Accuracy = 57.03%\n",
      "Training F1-Score = 0.00%\n",
      "======== Validation phase ========\n"
     ]
    },
    {
     "name": "stderr",
     "output_type": "stream",
     "text": [
      "Loss = nan | Accuracy = 48.17% | F1-Score = 0.00% | Batch ID = 13 : 100%|██████████| 13/13 [00:01<00:00, 11.46it/s]\n"
     ]
    },
    {
     "name": "stdout",
     "output_type": "stream",
     "text": [
      "Test Cross-Entropy Loss = nan\n",
      "Test Accuracy = 57.03%\n",
      "Test F1-Score = 0.00%\n",
      "\n",
      "Epoch 4/8\n",
      "======== Training phase ========\n"
     ]
    },
    {
     "name": "stderr",
     "output_type": "stream",
     "text": [
      "Loss = nan | Accuracy = 52.91% | F1-Score = 0.00% | Batch ID = 30 : 100%|██████████| 30/30 [00:06<00:00,  4.59it/s]\n"
     ]
    },
    {
     "name": "stdout",
     "output_type": "stream",
     "text": [
      "Training Cross-Entropy Loss = nan\n",
      "Training Accuracy = 57.03%\n",
      "Training F1-Score = 0.00%\n",
      "======== Validation phase ========\n"
     ]
    },
    {
     "name": "stderr",
     "output_type": "stream",
     "text": [
      "Loss = nan | Accuracy = 48.17% | F1-Score = 0.00% | Batch ID = 13 : 100%|██████████| 13/13 [00:01<00:00, 11.95it/s]\n"
     ]
    },
    {
     "name": "stdout",
     "output_type": "stream",
     "text": [
      "Test Cross-Entropy Loss = nan\n",
      "Test Accuracy = 57.03%\n",
      "Test F1-Score = 0.00%\n",
      "\n",
      "Epoch 5/8\n",
      "======== Training phase ========\n"
     ]
    },
    {
     "name": "stderr",
     "output_type": "stream",
     "text": [
      "Loss = nan | Accuracy = 59.26% | F1-Score = 0.00% | Batch ID = 30 : 100%|██████████| 30/30 [00:06<00:00,  4.61it/s]\n"
     ]
    },
    {
     "name": "stdout",
     "output_type": "stream",
     "text": [
      "Training Cross-Entropy Loss = nan\n",
      "Training Accuracy = 57.03%\n",
      "Training F1-Score = 0.00%\n",
      "======== Validation phase ========\n"
     ]
    },
    {
     "name": "stderr",
     "output_type": "stream",
     "text": [
      "Loss = nan | Accuracy = 48.17% | F1-Score = 0.00% | Batch ID = 13 : 100%|██████████| 13/13 [00:01<00:00, 11.97it/s]\n"
     ]
    },
    {
     "name": "stdout",
     "output_type": "stream",
     "text": [
      "Test Cross-Entropy Loss = nan\n",
      "Test Accuracy = 57.03%\n",
      "Test F1-Score = 0.00%\n",
      "\n",
      "Epoch 6/8\n",
      "======== Training phase ========\n"
     ]
    },
    {
     "name": "stderr",
     "output_type": "stream",
     "text": [
      "Loss = nan | Accuracy = 47.62% | F1-Score = 0.00% | Batch ID = 30 : 100%|██████████| 30/30 [00:06<00:00,  4.44it/s]\n"
     ]
    },
    {
     "name": "stdout",
     "output_type": "stream",
     "text": [
      "Training Cross-Entropy Loss = nan\n",
      "Training Accuracy = 57.03%\n",
      "Training F1-Score = 0.00%\n",
      "======== Validation phase ========\n"
     ]
    },
    {
     "name": "stderr",
     "output_type": "stream",
     "text": [
      "Loss = nan | Accuracy = 48.17% | F1-Score = 0.00% | Batch ID = 13 : 100%|██████████| 13/13 [00:01<00:00, 11.64it/s]\n"
     ]
    },
    {
     "name": "stdout",
     "output_type": "stream",
     "text": [
      "Test Cross-Entropy Loss = nan\n",
      "Test Accuracy = 57.03%\n",
      "Test F1-Score = 0.00%\n",
      "\n",
      "Epoch 7/8\n",
      "======== Training phase ========\n"
     ]
    },
    {
     "name": "stderr",
     "output_type": "stream",
     "text": [
      "Loss = nan | Accuracy = 60.85% | F1-Score = 0.00% | Batch ID = 30 : 100%|██████████| 30/30 [00:06<00:00,  4.47it/s]\n"
     ]
    },
    {
     "name": "stdout",
     "output_type": "stream",
     "text": [
      "Training Cross-Entropy Loss = nan\n",
      "Training Accuracy = 57.03%\n",
      "Training F1-Score = 0.00%\n",
      "======== Validation phase ========\n"
     ]
    },
    {
     "name": "stderr",
     "output_type": "stream",
     "text": [
      "Loss = nan | Accuracy = 48.17% | F1-Score = 0.00% | Batch ID = 13 : 100%|██████████| 13/13 [00:01<00:00, 11.71it/s]\n"
     ]
    },
    {
     "name": "stdout",
     "output_type": "stream",
     "text": [
      "Test Cross-Entropy Loss = nan\n",
      "Test Accuracy = 57.03%\n",
      "Test F1-Score = 0.00%\n",
      "\n",
      "Epoch 8/8\n",
      "======== Training phase ========\n"
     ]
    },
    {
     "name": "stderr",
     "output_type": "stream",
     "text": [
      "Loss = nan | Accuracy = 54.50% | F1-Score = 0.00% | Batch ID = 30 : 100%|██████████| 30/30 [00:06<00:00,  4.57it/s]\n"
     ]
    },
    {
     "name": "stdout",
     "output_type": "stream",
     "text": [
      "Training Cross-Entropy Loss = nan\n",
      "Training Accuracy = 57.03%\n",
      "Training F1-Score = 0.00%\n",
      "======== Validation phase ========\n"
     ]
    },
    {
     "name": "stderr",
     "output_type": "stream",
     "text": [
      "Loss = nan | Accuracy = 48.17% | F1-Score = 0.00% | Batch ID = 13 : 100%|██████████| 13/13 [00:01<00:00, 11.90it/s]"
     ]
    },
    {
     "name": "stdout",
     "output_type": "stream",
     "text": [
      "Test Cross-Entropy Loss = nan\n",
      "Test Accuracy = 57.03%\n",
      "Test F1-Score = 0.00%\n",
      "\n"
     ]
    },
    {
     "name": "stderr",
     "output_type": "stream",
     "text": [
      "\n"
     ]
    }
   ],
   "source": [
    "train_losses, train_f1s, test_losses, test_f1s = train(customPreTrainedGRU_Attention, TrainDataLoader_SkipGram, TestDataLoader_SkipGram, optimizer, criterion, epochs = 8, device = device)"
   ]
  },
  {
   "cell_type": "markdown",
   "metadata": {},
   "source": [
    "## CBOW Embeddings"
   ]
  },
  {
   "cell_type": "code",
   "execution_count": null,
   "metadata": {},
   "outputs": [],
   "source": [
    "TrainTweetsDataset_CBOW = TweetsDataset(tweets_train, 'cbow')\n",
    "# Create a dataloade for the training dataset\n",
    "TrainDataLoader_CBOW = torch.utils.data.DataLoader(dataset = TrainTweetsDataset_CBOW, batch_size = 128, shuffle = True)\n",
    "\n",
    "TestTweetsDataset_CBOW = TweetsDataset(tweets_test, 'cbow')\n",
    "# Create a dataloade for the training dataset\n",
    "TestDataLoader_CBOW = torch.utils.data.DataLoader(dataset = TestTweetsDataset_CBOW, batch_size = 128, shuffle = False)"
   ]
  },
  {
   "cell_type": "code",
   "execution_count": null,
   "metadata": {},
   "outputs": [
    {
     "name": "stdout",
     "output_type": "stream",
     "text": [
      "Device: mps\n"
     ]
    }
   ],
   "source": [
    "# Initialize the network, loss function, and optimizer\n",
    "device = set_device()\n",
    "customPreTrainedGRU = CustomGRU(word2vec_model = cbow_model, \n",
    "                                hidden_size = 256, \n",
    "                                output_size = 1, \n",
    "                                num_layers = 3, \n",
    "                                bidirectional = True,\n",
    "                                freeze_embeddings = True).to(device)\n",
    "\n",
    "criterion = torch.nn.BCEWithLogitsLoss()\n",
    "optimizer = torch.optim.Adam(customPreTrainedGRU.parameters(), lr = 1e-4, weight_decay = 1e-5)"
   ]
  },
  {
   "cell_type": "code",
   "execution_count": null,
   "metadata": {},
   "outputs": [
    {
     "name": "stdout",
     "output_type": "stream",
     "text": [
      "Epoch 1/8\n",
      "======== Training phase ========\n"
     ]
    },
    {
     "name": "stderr",
     "output_type": "stream",
     "text": [
      "Loss = nan | Accuracy = 57.67% | F1-Score = 0.00% | Batch ID = 30 : 100%|██████████| 30/30 [00:06<00:00,  4.52it/s]\n"
     ]
    },
    {
     "name": "stdout",
     "output_type": "stream",
     "text": [
      "Training Cross-Entropy Loss = nan\n",
      "Training Accuracy = 57.03%\n",
      "Training F1-Score = 0.00%\n",
      "======== Validation phase ========\n"
     ]
    },
    {
     "name": "stderr",
     "output_type": "stream",
     "text": [
      "Loss = nan | Accuracy = 48.17% | F1-Score = 0.00% | Batch ID = 13 : 100%|██████████| 13/13 [00:01<00:00, 11.44it/s]\n"
     ]
    },
    {
     "name": "stdout",
     "output_type": "stream",
     "text": [
      "Test Cross-Entropy Loss = nan\n",
      "Test Accuracy = 57.03%\n",
      "Test F1-Score = 0.00%\n",
      "\n",
      "Epoch 2/8\n",
      "======== Training phase ========\n"
     ]
    },
    {
     "name": "stderr",
     "output_type": "stream",
     "text": [
      "Loss = nan | Accuracy = 59.79% | F1-Score = 0.00% | Batch ID = 30 : 100%|██████████| 30/30 [00:06<00:00,  4.37it/s]\n"
     ]
    },
    {
     "name": "stdout",
     "output_type": "stream",
     "text": [
      "Training Cross-Entropy Loss = nan\n",
      "Training Accuracy = 57.03%\n",
      "Training F1-Score = 0.00%\n",
      "======== Validation phase ========\n"
     ]
    },
    {
     "name": "stderr",
     "output_type": "stream",
     "text": [
      "Loss = nan | Accuracy = 48.17% | F1-Score = 0.00% | Batch ID = 13 : 100%|██████████| 13/13 [00:01<00:00, 11.88it/s]\n"
     ]
    },
    {
     "name": "stdout",
     "output_type": "stream",
     "text": [
      "Test Cross-Entropy Loss = nan\n",
      "Test Accuracy = 57.03%\n",
      "Test F1-Score = 0.00%\n",
      "\n",
      "Epoch 3/8\n",
      "======== Training phase ========\n"
     ]
    },
    {
     "name": "stderr",
     "output_type": "stream",
     "text": [
      "Loss = nan | Accuracy = 56.61% | F1-Score = 0.00% | Batch ID = 30 : 100%|██████████| 30/30 [00:06<00:00,  4.30it/s]\n"
     ]
    },
    {
     "name": "stdout",
     "output_type": "stream",
     "text": [
      "Training Cross-Entropy Loss = nan\n",
      "Training Accuracy = 57.03%\n",
      "Training F1-Score = 0.00%\n",
      "======== Validation phase ========\n"
     ]
    },
    {
     "name": "stderr",
     "output_type": "stream",
     "text": [
      "Loss = nan | Accuracy = 48.17% | F1-Score = 0.00% | Batch ID = 13 : 100%|██████████| 13/13 [00:01<00:00, 11.41it/s]\n"
     ]
    },
    {
     "name": "stdout",
     "output_type": "stream",
     "text": [
      "Test Cross-Entropy Loss = nan\n",
      "Test Accuracy = 57.03%\n",
      "Test F1-Score = 0.00%\n",
      "\n",
      "Epoch 4/8\n",
      "======== Training phase ========\n"
     ]
    },
    {
     "name": "stderr",
     "output_type": "stream",
     "text": [
      "Loss = nan | Accuracy = 63.49% | F1-Score = 0.00% | Batch ID = 30 : 100%|██████████| 30/30 [00:06<00:00,  4.52it/s]\n"
     ]
    },
    {
     "name": "stdout",
     "output_type": "stream",
     "text": [
      "Training Cross-Entropy Loss = nan\n",
      "Training Accuracy = 57.03%\n",
      "Training F1-Score = 0.00%\n",
      "======== Validation phase ========\n"
     ]
    },
    {
     "name": "stderr",
     "output_type": "stream",
     "text": [
      "Loss = nan | Accuracy = 48.17% | F1-Score = 0.00% | Batch ID = 13 : 100%|██████████| 13/13 [00:01<00:00, 12.14it/s]\n"
     ]
    },
    {
     "name": "stdout",
     "output_type": "stream",
     "text": [
      "Test Cross-Entropy Loss = nan\n",
      "Test Accuracy = 57.03%\n",
      "Test F1-Score = 0.00%\n",
      "\n",
      "Epoch 5/8\n",
      "======== Training phase ========\n"
     ]
    },
    {
     "name": "stderr",
     "output_type": "stream",
     "text": [
      "Loss = nan | Accuracy = 60.32% | F1-Score = 0.00% | Batch ID = 30 : 100%|██████████| 30/30 [00:06<00:00,  4.65it/s]\n"
     ]
    },
    {
     "name": "stdout",
     "output_type": "stream",
     "text": [
      "Training Cross-Entropy Loss = nan\n",
      "Training Accuracy = 57.03%\n",
      "Training F1-Score = 0.00%\n",
      "======== Validation phase ========\n"
     ]
    },
    {
     "name": "stderr",
     "output_type": "stream",
     "text": [
      "Loss = nan | Accuracy = 48.17% | F1-Score = 0.00% | Batch ID = 13 : 100%|██████████| 13/13 [00:01<00:00, 12.34it/s]\n"
     ]
    },
    {
     "name": "stdout",
     "output_type": "stream",
     "text": [
      "Test Cross-Entropy Loss = nan\n",
      "Test Accuracy = 57.03%\n",
      "Test F1-Score = 0.00%\n",
      "\n",
      "Epoch 6/8\n",
      "======== Training phase ========\n"
     ]
    },
    {
     "name": "stderr",
     "output_type": "stream",
     "text": [
      "Loss = nan | Accuracy = 61.90% | F1-Score = 0.00% | Batch ID = 30 : 100%|██████████| 30/30 [00:06<00:00,  4.67it/s]\n"
     ]
    },
    {
     "name": "stdout",
     "output_type": "stream",
     "text": [
      "Training Cross-Entropy Loss = nan\n",
      "Training Accuracy = 57.03%\n",
      "Training F1-Score = 0.00%\n",
      "======== Validation phase ========\n"
     ]
    },
    {
     "name": "stderr",
     "output_type": "stream",
     "text": [
      "Loss = nan | Accuracy = 48.17% | F1-Score = 0.00% | Batch ID = 13 : 100%|██████████| 13/13 [00:01<00:00, 11.99it/s]\n"
     ]
    },
    {
     "name": "stdout",
     "output_type": "stream",
     "text": [
      "Test Cross-Entropy Loss = nan\n",
      "Test Accuracy = 57.03%\n",
      "Test F1-Score = 0.00%\n",
      "\n",
      "Epoch 7/8\n",
      "======== Training phase ========\n"
     ]
    },
    {
     "name": "stderr",
     "output_type": "stream",
     "text": [
      "Loss = nan | Accuracy = 59.26% | F1-Score = 0.00% | Batch ID = 30 : 100%|██████████| 30/30 [00:06<00:00,  4.67it/s]\n"
     ]
    },
    {
     "name": "stdout",
     "output_type": "stream",
     "text": [
      "Training Cross-Entropy Loss = nan\n",
      "Training Accuracy = 57.03%\n",
      "Training F1-Score = 0.00%\n",
      "======== Validation phase ========\n"
     ]
    },
    {
     "name": "stderr",
     "output_type": "stream",
     "text": [
      "Loss = nan | Accuracy = 48.17% | F1-Score = 0.00% | Batch ID = 13 : 100%|██████████| 13/13 [00:01<00:00, 12.25it/s]\n"
     ]
    },
    {
     "name": "stdout",
     "output_type": "stream",
     "text": [
      "Test Cross-Entropy Loss = nan\n",
      "Test Accuracy = 57.03%\n",
      "Test F1-Score = 0.00%\n",
      "\n",
      "Epoch 8/8\n",
      "======== Training phase ========\n"
     ]
    },
    {
     "name": "stderr",
     "output_type": "stream",
     "text": [
      "Loss = nan | Accuracy = 55.56% | F1-Score = 0.00% | Batch ID = 30 : 100%|██████████| 30/30 [00:06<00:00,  4.46it/s]\n"
     ]
    },
    {
     "name": "stdout",
     "output_type": "stream",
     "text": [
      "Training Cross-Entropy Loss = nan\n",
      "Training Accuracy = 57.03%\n",
      "Training F1-Score = 0.00%\n",
      "======== Validation phase ========\n"
     ]
    },
    {
     "name": "stderr",
     "output_type": "stream",
     "text": [
      "Loss = nan | Accuracy = 48.17% | F1-Score = 0.00% | Batch ID = 13 : 100%|██████████| 13/13 [00:01<00:00, 11.74it/s]"
     ]
    },
    {
     "name": "stdout",
     "output_type": "stream",
     "text": [
      "Test Cross-Entropy Loss = nan\n",
      "Test Accuracy = 57.03%\n",
      "Test F1-Score = 0.00%\n",
      "\n"
     ]
    },
    {
     "name": "stderr",
     "output_type": "stream",
     "text": [
      "\n"
     ]
    }
   ],
   "source": [
    "train_losses, train_f1s, test_losses, test_f1s = train(customPreTrainedGRU, TrainDataLoader_CBOW, TestDataLoader_CBOW, optimizer, criterion, epochs = 8, device = device)"
   ]
  },
  {
   "cell_type": "code",
   "execution_count": null,
   "metadata": {},
   "outputs": [
    {
     "name": "stdout",
     "output_type": "stream",
     "text": [
      "Device: mps\n"
     ]
    }
   ],
   "source": [
    "# Initialize the network, loss function, and optimizer\n",
    "device = set_device()\n",
    "customPreTrainedGRU_Attention = CustomGRU_Attention(word2vec_model = cbow_model, \n",
    "                                                    hidden_size = 256, \n",
    "                                                    output_size = 1, \n",
    "                                                    num_layers = 3, \n",
    "                                                    bidirectional = True,\n",
    "                                                    freeze_embeddings = True).to(device)\n",
    "\n",
    "criterion = torch.nn.BCEWithLogitsLoss()\n",
    "optimizer = torch.optim.Adam(customPreTrainedGRU_Attention.parameters(), lr = 1e-4, weight_decay = 1e-5)"
   ]
  },
  {
   "cell_type": "code",
   "execution_count": null,
   "metadata": {},
   "outputs": [
    {
     "name": "stdout",
     "output_type": "stream",
     "text": [
      "Epoch 1/8\n",
      "======== Training phase ========\n"
     ]
    },
    {
     "name": "stderr",
     "output_type": "stream",
     "text": [
      "Loss = nan | Accuracy = 58.20% | F1-Score = 0.00% | Batch ID = 30 : 100%|██████████| 30/30 [00:06<00:00,  4.51it/s]\n"
     ]
    },
    {
     "name": "stdout",
     "output_type": "stream",
     "text": [
      "Training Cross-Entropy Loss = nan\n",
      "Training Accuracy = 57.03%\n",
      "Training F1-Score = 0.00%\n",
      "======== Validation phase ========\n"
     ]
    },
    {
     "name": "stderr",
     "output_type": "stream",
     "text": [
      "Loss = nan | Accuracy = 48.17% | F1-Score = 0.00% | Batch ID = 13 : 100%|██████████| 13/13 [00:01<00:00, 11.99it/s]\n"
     ]
    },
    {
     "name": "stdout",
     "output_type": "stream",
     "text": [
      "Test Cross-Entropy Loss = nan\n",
      "Test Accuracy = 57.03%\n",
      "Test F1-Score = 0.00%\n",
      "\n",
      "Epoch 2/8\n",
      "======== Training phase ========\n"
     ]
    },
    {
     "name": "stderr",
     "output_type": "stream",
     "text": [
      "Loss = nan | Accuracy = 58.73% | F1-Score = 0.00% | Batch ID = 30 : 100%|██████████| 30/30 [00:06<00:00,  4.58it/s]\n"
     ]
    },
    {
     "name": "stdout",
     "output_type": "stream",
     "text": [
      "Training Cross-Entropy Loss = nan\n",
      "Training Accuracy = 57.03%\n",
      "Training F1-Score = 0.00%\n",
      "======== Validation phase ========\n"
     ]
    },
    {
     "name": "stderr",
     "output_type": "stream",
     "text": [
      "Loss = nan | Accuracy = 48.17% | F1-Score = 0.00% | Batch ID = 13 : 100%|██████████| 13/13 [00:01<00:00, 11.91it/s]\n"
     ]
    },
    {
     "name": "stdout",
     "output_type": "stream",
     "text": [
      "Test Cross-Entropy Loss = nan\n",
      "Test Accuracy = 57.03%\n",
      "Test F1-Score = 0.00%\n",
      "\n",
      "Epoch 3/8\n",
      "======== Training phase ========\n"
     ]
    },
    {
     "name": "stderr",
     "output_type": "stream",
     "text": [
      "Loss = nan | Accuracy = 52.91% | F1-Score = 0.00% | Batch ID = 30 : 100%|██████████| 30/30 [00:06<00:00,  4.45it/s]\n"
     ]
    },
    {
     "name": "stdout",
     "output_type": "stream",
     "text": [
      "Training Cross-Entropy Loss = nan\n",
      "Training Accuracy = 57.03%\n",
      "Training F1-Score = 0.00%\n",
      "======== Validation phase ========\n"
     ]
    },
    {
     "name": "stderr",
     "output_type": "stream",
     "text": [
      "Loss = nan | Accuracy = 48.17% | F1-Score = 0.00% | Batch ID = 13 : 100%|██████████| 13/13 [00:01<00:00, 11.45it/s]\n"
     ]
    },
    {
     "name": "stdout",
     "output_type": "stream",
     "text": [
      "Test Cross-Entropy Loss = nan\n",
      "Test Accuracy = 57.03%\n",
      "Test F1-Score = 0.00%\n",
      "\n",
      "Epoch 4/8\n",
      "======== Training phase ========\n"
     ]
    },
    {
     "name": "stderr",
     "output_type": "stream",
     "text": [
      "Loss = nan | Accuracy = 52.38% | F1-Score = 0.00% | Batch ID = 30 : 100%|██████████| 30/30 [00:06<00:00,  4.63it/s]\n"
     ]
    },
    {
     "name": "stdout",
     "output_type": "stream",
     "text": [
      "Training Cross-Entropy Loss = nan\n",
      "Training Accuracy = 57.03%\n",
      "Training F1-Score = 0.00%\n",
      "======== Validation phase ========\n"
     ]
    },
    {
     "name": "stderr",
     "output_type": "stream",
     "text": [
      "Loss = nan | Accuracy = 48.17% | F1-Score = 0.00% | Batch ID = 13 : 100%|██████████| 13/13 [00:01<00:00, 12.08it/s]\n"
     ]
    },
    {
     "name": "stdout",
     "output_type": "stream",
     "text": [
      "Test Cross-Entropy Loss = nan\n",
      "Test Accuracy = 57.03%\n",
      "Test F1-Score = 0.00%\n",
      "\n",
      "Epoch 5/8\n",
      "======== Training phase ========\n"
     ]
    },
    {
     "name": "stderr",
     "output_type": "stream",
     "text": [
      "Loss = nan | Accuracy = 55.56% | F1-Score = 0.00% | Batch ID = 30 : 100%|██████████| 30/30 [00:06<00:00,  4.63it/s]\n"
     ]
    },
    {
     "name": "stdout",
     "output_type": "stream",
     "text": [
      "Training Cross-Entropy Loss = nan\n",
      "Training Accuracy = 57.03%\n",
      "Training F1-Score = 0.00%\n",
      "======== Validation phase ========\n"
     ]
    },
    {
     "name": "stderr",
     "output_type": "stream",
     "text": [
      "Loss = nan | Accuracy = 48.17% | F1-Score = 0.00% | Batch ID = 13 : 100%|██████████| 13/13 [00:01<00:00, 11.93it/s]\n"
     ]
    },
    {
     "name": "stdout",
     "output_type": "stream",
     "text": [
      "Test Cross-Entropy Loss = nan\n",
      "Test Accuracy = 57.03%\n",
      "Test F1-Score = 0.00%\n",
      "\n",
      "Epoch 6/8\n",
      "======== Training phase ========\n"
     ]
    },
    {
     "name": "stderr",
     "output_type": "stream",
     "text": [
      "Loss = nan | Accuracy = 62.96% | F1-Score = 0.00% | Batch ID = 30 : 100%|██████████| 30/30 [00:06<00:00,  4.57it/s]\n"
     ]
    },
    {
     "name": "stdout",
     "output_type": "stream",
     "text": [
      "Training Cross-Entropy Loss = nan\n",
      "Training Accuracy = 57.03%\n",
      "Training F1-Score = 0.00%\n",
      "======== Validation phase ========\n"
     ]
    },
    {
     "name": "stderr",
     "output_type": "stream",
     "text": [
      "Loss = nan | Accuracy = 48.17% | F1-Score = 0.00% | Batch ID = 13 : 100%|██████████| 13/13 [00:01<00:00, 11.53it/s]\n"
     ]
    },
    {
     "name": "stdout",
     "output_type": "stream",
     "text": [
      "Test Cross-Entropy Loss = nan\n",
      "Test Accuracy = 57.03%\n",
      "Test F1-Score = 0.00%\n",
      "\n",
      "Epoch 7/8\n",
      "======== Training phase ========\n"
     ]
    },
    {
     "name": "stderr",
     "output_type": "stream",
     "text": [
      "Loss = nan | Accuracy = 59.79% | F1-Score = 0.00% | Batch ID = 30 : 100%|██████████| 30/30 [00:06<00:00,  4.33it/s]\n"
     ]
    },
    {
     "name": "stdout",
     "output_type": "stream",
     "text": [
      "Training Cross-Entropy Loss = nan\n",
      "Training Accuracy = 57.03%\n",
      "Training F1-Score = 0.00%\n",
      "======== Validation phase ========\n"
     ]
    },
    {
     "name": "stderr",
     "output_type": "stream",
     "text": [
      "Loss = nan | Accuracy = 48.17% | F1-Score = 0.00% | Batch ID = 13 : 100%|██████████| 13/13 [00:01<00:00, 11.63it/s]\n"
     ]
    },
    {
     "name": "stdout",
     "output_type": "stream",
     "text": [
      "Test Cross-Entropy Loss = nan\n",
      "Test Accuracy = 57.03%\n",
      "Test F1-Score = 0.00%\n",
      "\n",
      "Epoch 8/8\n",
      "======== Training phase ========\n"
     ]
    },
    {
     "name": "stderr",
     "output_type": "stream",
     "text": [
      "Loss = nan | Accuracy = 56.61% | F1-Score = 0.00% | Batch ID = 30 : 100%|██████████| 30/30 [00:06<00:00,  4.52it/s]\n"
     ]
    },
    {
     "name": "stdout",
     "output_type": "stream",
     "text": [
      "Training Cross-Entropy Loss = nan\n",
      "Training Accuracy = 57.03%\n",
      "Training F1-Score = 0.00%\n",
      "======== Validation phase ========\n"
     ]
    },
    {
     "name": "stderr",
     "output_type": "stream",
     "text": [
      "Loss = nan | Accuracy = 48.17% | F1-Score = 0.00% | Batch ID = 13 : 100%|██████████| 13/13 [00:01<00:00, 11.34it/s]"
     ]
    },
    {
     "name": "stdout",
     "output_type": "stream",
     "text": [
      "Test Cross-Entropy Loss = nan\n",
      "Test Accuracy = 57.03%\n",
      "Test F1-Score = 0.00%\n",
      "\n"
     ]
    },
    {
     "name": "stderr",
     "output_type": "stream",
     "text": [
      "\n"
     ]
    }
   ],
   "source": [
    "train_losses, train_f1s, test_losses, test_f1s = train(customPreTrainedGRU_Attention, TrainDataLoader_CBOW, TestDataLoader_CBOW, optimizer, criterion, epochs = 8, device = device)"
   ]
  }
 ],
 "metadata": {
  "kernelspec": {
   "display_name": "base",
   "language": "python",
   "name": "python3"
  },
  "language_info": {
   "codemirror_mode": {
    "name": "ipython",
    "version": 3
   },
   "file_extension": ".py",
   "mimetype": "text/x-python",
   "name": "python",
   "nbconvert_exporter": "python",
   "pygments_lexer": "ipython3",
   "version": "3.10.9"
  }
 },
 "nbformat": 4,
 "nbformat_minor": 2
}
