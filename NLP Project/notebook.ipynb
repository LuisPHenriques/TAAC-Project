{
 "cells": [
  {
   "cell_type": "markdown",
   "metadata": {},
   "source": [
    "# Imports, Custom Functions & Data Loading"
   ]
  },
  {
   "cell_type": "markdown",
   "metadata": {},
   "source": [
    "## Import libraries"
   ]
  },
  {
   "cell_type": "code",
   "execution_count": 6,
   "metadata": {
    "ExecuteTime": {
     "end_time": "2023-12-21T14:50:51.762292300Z",
     "start_time": "2023-12-21T14:50:49.382402900Z"
    }
   },
   "outputs": [],
   "source": [
    "import pandas as pd\n",
    "import numpy as np\n",
    "import matplotlib.pyplot as plt\n",
    "import torch\n",
    "import re\n",
    "import spacy \n",
    "\n",
    "from collections import Counter, defaultdict\n",
    "from transformers import AutoTokenizer\n",
    "\n",
    "from sklearn.feature_extraction.text import TfidfVectorizer\n",
    "\n",
    "from gensim.models import Word2Vec\n",
    "\n",
    "from sklearn.manifold import TSNE\n",
    "\n",
    "from tqdm import tqdm\n",
    "\n",
    "# spacy.cli.download(\"en_core_web_lg\")\n",
    "nlp = spacy.load('en_core_web_lg')"
   ]
  },
  {
   "cell_type": "markdown",
   "metadata": {},
   "source": [
    "## Define functions"
   ]
  },
  {
   "cell_type": "code",
   "execution_count": 9,
   "metadata": {
    "ExecuteTime": {
     "end_time": "2023-12-21T15:02:13.334929800Z",
     "start_time": "2023-12-21T15:02:13.276939Z"
    }
   },
   "outputs": [],
   "source": [
    "def read_csv(filename):\n",
    "    return pd.read_csv(filename, sep=',', encoding='utf-8', index_col=0).iloc[:, -2:].reset_index(drop=True)\n",
    "\n",
    "\n",
    "def preprocess(text):\n",
    "    \n",
    "    # remove URLs\n",
    "    text = re.sub('http\\S*', ' ', text)\n",
    "    \n",
    "    # remove non-alphabetic\n",
    "    text = re.sub(\"[^a-zA-Z]\", \" \", text)\n",
    "    \n",
    "    # make lowercase\n",
    "    text = text.lower()\n",
    "\n",
    "    # remove one character word\n",
    "    text = re.sub(\"\\s+[a-zA-Z]\\s+\", ' ', text)\n",
    "    text = re.sub(\"^[a-zA-Z]\\s+\", '', text)\n",
    "    \n",
    "    # replace double space to one space\n",
    "    text = re.sub(\"\\s+\", ' ', text)\n",
    "    \n",
    "    # tokenize, lemmatize, remove stop words\n",
    "    doc = nlp(text)\n",
    "    text = [token.lemma_ for token in doc if not token.is_stop]\n",
    "    return \" \".join(text)\n",
    "\n",
    "\n",
    "class BPE():\n",
    "    \"\"\"Byte-Pair Encoding: Subword-based tokenization algorithm.\"\"\"\n",
    "    \n",
    "    def __init__(self, corpus, vocab_size):\n",
    "        \"\"\"Initialize BPE tokenizer.\"\"\"\n",
    "        self.corpus = corpus\n",
    "        self.vocab_size = vocab_size\n",
    "        \n",
    "        # pre-tokenize the corpus into words, BERT pre-tokenizer is used here\n",
    "        self.tokenizer = AutoTokenizer.from_pretrained(\"bert-base-uncased\")\n",
    "        self.word_freqs = defaultdict(int)\n",
    "        self.splits = {}\n",
    "        self.merges = {}\n",
    "    \n",
    "    \n",
    "    def train(self):\n",
    "        \"\"\"Train BPE tokenizer.\"\"\"\n",
    "    # (1) Compute the frequencies of each word in the corpus\n",
    "    # (2) Compute the base vocabulary of all characters in the corpus\n",
    "    # (3) Split each word into individual characters before training\n",
    "    # (4) Merge the most frequent pair iteratively until the vocabulary size is reached\n",
    "\n",
    "        # compute the frequencies of each word in the corpus\n",
    "        for text in self.corpus:\n",
    "            words_with_offsets = self.tokenizer.backend_tokenizer.pre_tokenizer.pre_tokenize_str(text)\n",
    "            new_words = [word for word, offset in words_with_offsets]\n",
    "            for word in new_words:\n",
    "                self.word_freqs[word] += 1\n",
    "\n",
    "        # compute the base vocabulary of all characters in the corpus\n",
    "        alphabet = []\n",
    "        for word in self.word_freqs.keys():\n",
    "            for letter in word:\n",
    "                if letter not in alphabet:\n",
    "                    alphabet.append(letter)\n",
    "        alphabet.sort()\n",
    "\n",
    "        # add the special token </w> at the beginning of the vocabulary\n",
    "        vocab = [\"</w>\"] + alphabet.copy()\n",
    "\n",
    "        # split each word into individual characters before training\n",
    "        self.splits = {word: [c for c in word] for word in self.word_freqs.keys()}\n",
    "\n",
    "        # merge the most frequent pair iteratively until the vocabulary size is reached\n",
    "        while len(vocab) < self.vocab_size:\n",
    "\n",
    "            # compute the frequency of each pair\n",
    "            pair_freqs = self.compute_pair_freqs()\n",
    "\n",
    "            # find the most frequent pair\n",
    "            best_pair = \"\"\n",
    "            max_freq = None\n",
    "            for pair, freq in pair_freqs.items():\n",
    "                if max_freq is None or max_freq < freq:\n",
    "                    best_pair = pair\n",
    "                    max_freq = freq\n",
    "\n",
    "            # merge the most frequent pair\n",
    "            self.splits = self.merge_pair(*best_pair)\n",
    "            self.merges[best_pair] = best_pair[0] + best_pair[1]\n",
    "            vocab.append(best_pair[0] + best_pair[1])\n",
    "        return self.merges\n",
    "\n",
    "\n",
    "    def compute_pair_freqs(self):\n",
    "        \"\"\"Compute the frequency of each pair.\"\"\"\n",
    "\n",
    "        pair_freqs = defaultdict(int)\n",
    "        for word, freq in self.word_freqs.items():\n",
    "            split = self.splits[word]\n",
    "            if len(split) == 1:\n",
    "                continue\n",
    "            for i in range(len(split) - 1):\n",
    "                pair = (split[i], split[i + 1])\n",
    "                pair_freqs[pair] += freq\n",
    "        return pair_freqs\n",
    "\n",
    "\n",
    "    def merge_pair(self, a, b):\n",
    "        \"\"\"Merge the given pair.\"\"\"\n",
    "\n",
    "        for word in self.word_freqs:\n",
    "            split = self.splits[word]\n",
    "            if len(split) == 1:\n",
    "                continue\n",
    "            i = 0\n",
    "            while i < len(split) - 1:\n",
    "                if split[i] == a and split[i + 1] == b:\n",
    "                    split = split[:i] + [a + b] + split[i + 2 :]\n",
    "                else:\n",
    "                    i += 1\n",
    "            self.splits[word] = split\n",
    "        return self.splits\n",
    "    \n",
    "\n",
    "    def tokenize(self, text):\n",
    "        \"\"\"Tokenize a given text with trained BPE tokenizer (including pre-tokenization, split, and merge).\"\"\"\n",
    "        \n",
    "        pre_tokenize_result = self.tokenizer._tokenizer.pre_tokenizer.pre_tokenize_str(text)\n",
    "        pre_tokenized_text = [word for word, offset in pre_tokenize_result]\n",
    "        splits_text = [[l for l in word] for word in pre_tokenized_text]\n",
    "\n",
    "        for pair, merge in self.merges.items():\n",
    "            for idx, split in enumerate(splits_text):\n",
    "                i = 0\n",
    "                while i < len(split) - 1:\n",
    "                    if split[i] == pair[0] and split[i + 1] == pair[1]:\n",
    "                        split = split[:i] + [merge] + split[i + 2 :]\n",
    "                    else:\n",
    "                        i += 1\n",
    "                splits_text[idx] = split\n",
    "        result = sum(splits_text, [])\n",
    "        return result\n",
    "    \n",
    "\n",
    "def get_tfidf_matrix(df, vectorizer):\n",
    "    \n",
    "    # Convert the TF-IDF matrix to a dense NumPy array\n",
    "    matrix = df.todense()\n",
    "\n",
    "    # Convert the dense matrix to a DataFrame\n",
    "    matrix = pd.DataFrame(matrix, columns=vectorizer.get_feature_names_out())\n",
    "\n",
    "    return matrix\n",
    "\n",
    "\n",
    "# The sequences being in the formar ['word1', 'word2', 'word3', ...], preprocess it\n",
    "def string2embedding_idx(text_sequence, model):\n",
    "\n",
    "    sequence = []\n",
    "    for token in text_sequence:\n",
    "        try:\n",
    "            sequence.append(model.wv.key_to_index[token])\n",
    "        except:\n",
    "            pass\n",
    "\n",
    "    return sequence\n",
    "\n",
    "\n",
    "def display_closestwords_tsnescatterplot(model, word, size):\n",
    "    \n",
    "    arr = np.empty((0,size), dtype='f')\n",
    "    word_labels = [word]\n",
    "    close_words = model.wv.similar_by_word(word)\n",
    "    arr = np.append(arr, np.array([model.wv[word]]), axis=0)\n",
    "    for wrd_score in close_words:\n",
    "        wrd_vector = model.wv[wrd_score[0]]\n",
    "        word_labels.append(wrd_score[0])\n",
    "        arr = np.append(arr, np.array([wrd_vector]), axis=0)\n",
    "            \n",
    "    tsne = TSNE(n_components=2, random_state=0, perplexity = 10)\n",
    "    np.set_printoptions(suppress=True)\n",
    "    Y = tsne.fit_transform(arr)\n",
    "    x_coords = Y[:, 0]\n",
    "    y_coords = Y[:, 1]\n",
    "    plt.scatter(x_coords, y_coords)\n",
    "    for label, x, y in zip(word_labels, x_coords, y_coords):\n",
    "        plt.annotate(label, xy=(x, y), xytext=(0, 0), textcoords='offset points')\n",
    "    plt.xlim(x_coords.min()+0.00005, x_coords.max()+0.00005)\n",
    "    plt.ylim(y_coords.min()+0.00005, y_coords.max()+0.00005)\n",
    "    plt.show()\n",
    "\n",
    "\n",
    "'''# Create a torch dataset class for the training data\n",
    "class TweetsDataset(torch.utils.data.Dataset):\n",
    "    def __init__(self, df, word2vec_model):\n",
    "        self.df = df\n",
    "        self.word2vec_model = word2vec_model\n",
    "\n",
    "    def __len__(self):\n",
    "        return len(self.df)\n",
    "\n",
    "    def __getitem__(self, idx):\n",
    "        return torch.Tensor(self.df.iloc[idx, -1 if self.word2vec_model == 'skipgram' else -2]).long(), torch.Tensor(self.df.iloc[idx, 1])'''\n",
    "    \n",
    "\n",
    "class TweetsDataset(torch.utils.data.Dataset):\n",
    "    def __init__(self, df, word2vec_model):\n",
    "        self.df = df\n",
    "        self.word2vec_model = word2vec_model\n",
    "\n",
    "    def __len__(self):\n",
    "        return len(self.df)\n",
    "\n",
    "    def __getitem__(self, idx):\n",
    "        sequence = self.df.iloc[idx, -1 if self.word2vec_model == 'skipgram' else -2]\n",
    "        label = self.df.iloc[idx, 1]\n",
    "\n",
    "        # Convert sequence to a 1D tensor\n",
    "        sequence_tensor = torch.tensor(sequence, dtype=torch.long)\n",
    "\n",
    "        # Convert label to a 1D tensor (scalar)\n",
    "        label_tensor = torch.tensor(label, dtype=torch.float32).unsqueeze(0)\n",
    "\n",
    "        return sequence_tensor, label_tensor\n",
    "\n",
    "\n",
    "def set_device():\n",
    "    if torch.cuda.is_available():\n",
    "        device = torch.device('cuda')\n",
    "\n",
    "    elif torch.backends.mps.is_available():\n",
    "        device = torch.device('mps')\n",
    "\n",
    "    else:\n",
    "        device = torch.device('cpu')\n",
    "    print('Device:', device)\n",
    "\n",
    "    return device\n",
    "\n",
    "def train(model, train_loader, optimizer, loss_func, epochs, device, **kwargs):\n",
    "    \"\"\"\n",
    "    Trains a neural network model.\n",
    "\n",
    "    Args:\n",
    "    - model (torch.nn.Module): The neural network model to be trained.\n",
    "    - train_loader (torch.utils.data.DataLoader): DataLoader for the training dataset.\n",
    "    - optimizer (torch.optim.Optimizer): The optimizer used for training.\n",
    "    - loss_func (torch.nn.Module): The loss function used for training.\n",
    "    - epochs (int): Number of training epochs.\n",
    "    - device (torch.device): The device on which the training will be performed.\n",
    "    - **kwargs: Additional arguments for customization.\n",
    "\n",
    "    Returns:\n",
    "    - train_loss_hist (list): List containing training loss values for each epoch.\n",
    "    - train_acc_hist (list): List containing training accuracy values for each epoch.\n",
    "    \"\"\"\n",
    "\n",
    "    num_epochs = kwargs.get('num_epochs', epochs)\n",
    "    loss_fn = kwargs.get('loss_fn', loss_func)\n",
    "    device = kwargs.get('device', device)\n",
    "\n",
    "    train_loss_lst, train_acc_lst = [], []\n",
    "\n",
    "    for epoch in range(num_epochs):\n",
    "        print(f'Epoch {epoch + 1}/{num_epochs}')\n",
    "\n",
    "        print('======== Training phase ========')\n",
    "        model.train()\n",
    "        train_loss = 0.\n",
    "        total = 0.\n",
    "        correct = 0.\n",
    "        pbar = tqdm(enumerate(train_loader), total=len(train_loader))\n",
    "\n",
    "        for batch_idx, (data, target) in pbar:\n",
    "            data = data.to(device)\n",
    "            target = target.to(device)\n",
    "            model.zero_grad()\n",
    "            output = model(data)\n",
    "            loss = loss_fn(output, target)\n",
    "            loss.backward()\n",
    "            optimizer.step()\n",
    "\n",
    "            train_loss += loss.item()\n",
    "\n",
    "            predicted = (output > 0.5).float()\n",
    "            total += target.size(0)\n",
    "            correct += (predicted == target).sum().item()\n",
    "\n",
    "            pbar.set_description(\n",
    "                f'Loss = {loss:.4f}  |  Accuracy = {100 * correct / total:.2f}% | Batch ID = {batch_idx + 1} '\n",
    "            )\n",
    "\n",
    "        train_loss /= len(train_loader)\n",
    "        train_accuracy = 100 * correct / total\n",
    "        print(f'Training Cross-Entropy Loss = {train_loss:.4f}')\n",
    "        print(f'Training Accuracy = {train_accuracy:.2f}%')\n",
    "\n",
    "        train_loss_lst.append(train_loss)\n",
    "        train_acc_lst.append(train_accuracy)\n",
    "\n",
    "    return train_loss_lst, train_acc_lst\n",
    "\n",
    "# LSTM model with pre-trained Word2Vec embeddings\n",
    "class CustomLSTM(torch.nn.Module):\n",
    "    def __init__(self, word2vec_model, hidden_size, output_size, num_layers = 1, bidirectional = False, freeze_embeddings = True):\n",
    "        super(CustomLSTM, self).__init__()\n",
    "        self.embedding_dim = word2vec_model.vector_size\n",
    "        self.embedding = torch.nn.Embedding.from_pretrained(embeddings = torch.FloatTensor(word2vec_model.wv.vectors), freeze = freeze_embeddings)\n",
    "        self.lstm = torch.nn.LSTM(self.embedding_dim, hidden_size, num_layers, batch_first = True, bidirectional = bidirectional)\n",
    "        self.fc = torch.nn.Linear(hidden_size * (2 if bidirectional else 1), output_size)\n",
    "\n",
    "    def forward(self, x):\n",
    "        x = self.embedding(x)\n",
    "        output, _ = self.lstm(x)\n",
    "        output = self.fc(output[:, -1, :])  # Use the last time step's output\n",
    "        return output\n",
    "    \n",
    "\n",
    "# LSTM model with pre-trained Word2Vec embeddings and attention mechanism\n",
    "class CustomLSTM_Attention(torch.nn.Module):\n",
    "    def __init__(self, word2vec_model, hidden_size, output_size, num_layers = 1, bidirectional = False, freeze_embeddings = True):\n",
    "        super(CustomLSTM_Attention, self).__init__()\n",
    "        self.embedding_dim = word2vec_model.vector_size\n",
    "        self.embedding = torch.nn.Embedding.from_pretrained(torch.FloatTensor(word2vec_model.wv.vectors), freeze = freeze_embeddings)\n",
    "        self.lstm = torch.nn.LSTM(self.embedding_dim, hidden_size, num_layers, batch_first = True, bidirectional = bidirectional)\n",
    "        self.fc = torch.nn.Linear(hidden_size * (2 if bidirectional else 1), output_size)\n",
    "        self.attention = torch.nn.Linear(hidden_size * (2 if bidirectional else 1), 1)\n",
    "\n",
    "    def forward(self, x):\n",
    "        x = self.embedding(x)\n",
    "        output, _ = self.lstm(x)\n",
    "        attention_weights = torch.nn.functional.softmax(self.attention(output), dim = 1)\n",
    "        output = torch.sum(attention_weights * output, dim = 1)\n",
    "        output = self.fc(output)\n",
    "        return output"
   ]
  },
  {
   "cell_type": "markdown",
   "metadata": {},
   "source": [
    "## Data Loading"
   ]
  },
  {
   "cell_type": "code",
   "execution_count": 10,
   "metadata": {
    "ExecuteTime": {
     "end_time": "2023-12-21T15:27:53.432052200Z",
     "start_time": "2023-12-21T15:27:53.373916800Z"
    }
   },
   "outputs": [
    {
     "name": "stdout",
     "output_type": "stream",
     "text": [
      "Training data\n"
     ]
    },
    {
     "data": {
      "text/plain": "                                                text  target\n0  Our Deeds are the Reason of this #earthquake M...       1\n1             Forest fire near La Ronge Sask. Canada       1\n2  All residents asked to 'shelter in place' are ...       1\n3  13,000 people receive #wildfires evacuation or...       1\n4  Just got sent this photo from Ruby #Alaska as ...       1",
      "text/html": "<div>\n<style scoped>\n    .dataframe tbody tr th:only-of-type {\n        vertical-align: middle;\n    }\n\n    .dataframe tbody tr th {\n        vertical-align: top;\n    }\n\n    .dataframe thead th {\n        text-align: right;\n    }\n</style>\n<table border=\"1\" class=\"dataframe\">\n  <thead>\n    <tr style=\"text-align: right;\">\n      <th></th>\n      <th>text</th>\n      <th>target</th>\n    </tr>\n  </thead>\n  <tbody>\n    <tr>\n      <th>0</th>\n      <td>Our Deeds are the Reason of this #earthquake M...</td>\n      <td>1</td>\n    </tr>\n    <tr>\n      <th>1</th>\n      <td>Forest fire near La Ronge Sask. Canada</td>\n      <td>1</td>\n    </tr>\n    <tr>\n      <th>2</th>\n      <td>All residents asked to 'shelter in place' are ...</td>\n      <td>1</td>\n    </tr>\n    <tr>\n      <th>3</th>\n      <td>13,000 people receive #wildfires evacuation or...</td>\n      <td>1</td>\n    </tr>\n    <tr>\n      <th>4</th>\n      <td>Just got sent this photo from Ruby #Alaska as ...</td>\n      <td>1</td>\n    </tr>\n  </tbody>\n</table>\n</div>"
     },
     "metadata": {},
     "output_type": "display_data"
    },
    {
     "name": "stdout",
     "output_type": "stream",
     "text": [
      "\n",
      "Testing data\n"
     ]
    },
    {
     "data": {
      "text/plain": "                                                text\n0                 Just happened a terrible car crash\n1  Heard about #earthquake is different cities, s...\n2  there is a forest fire at spot pond, geese are...\n3           Apocalypse lighting. #Spokane #wildfires\n4      Typhoon Soudelor kills 28 in China and Taiwan",
      "text/html": "<div>\n<style scoped>\n    .dataframe tbody tr th:only-of-type {\n        vertical-align: middle;\n    }\n\n    .dataframe tbody tr th {\n        vertical-align: top;\n    }\n\n    .dataframe thead th {\n        text-align: right;\n    }\n</style>\n<table border=\"1\" class=\"dataframe\">\n  <thead>\n    <tr style=\"text-align: right;\">\n      <th></th>\n      <th>text</th>\n    </tr>\n  </thead>\n  <tbody>\n    <tr>\n      <th>0</th>\n      <td>Just happened a terrible car crash</td>\n    </tr>\n    <tr>\n      <th>1</th>\n      <td>Heard about #earthquake is different cities, s...</td>\n    </tr>\n    <tr>\n      <th>2</th>\n      <td>there is a forest fire at spot pond, geese are...</td>\n    </tr>\n    <tr>\n      <th>3</th>\n      <td>Apocalypse lighting. #Spokane #wildfires</td>\n    </tr>\n    <tr>\n      <th>4</th>\n      <td>Typhoon Soudelor kills 28 in China and Taiwan</td>\n    </tr>\n  </tbody>\n</table>\n</div>"
     },
     "metadata": {},
     "output_type": "display_data"
    }
   ],
   "source": [
    "tweets_train = read_csv('train.csv')\n",
    "tweets_test = read_csv('test.csv')[['text']]\n",
    "\n",
    "print('Training data')\n",
    "display(tweets_train.head())\n",
    "print()\n",
    "print('Testing data')\n",
    "display(tweets_test.head())"
   ]
  },
  {
   "cell_type": "markdown",
   "metadata": {},
   "source": [
    "# Text pre-processing"
   ]
  },
  {
   "cell_type": "markdown",
   "metadata": {},
   "source": [
    "## Cleaning text using key-words and lemmatization"
   ]
  },
  {
   "cell_type": "code",
   "execution_count": 11,
   "metadata": {
    "ExecuteTime": {
     "end_time": "2023-12-21T15:29:01.782176300Z",
     "start_time": "2023-12-21T15:27:58.466800200Z"
    }
   },
   "outputs": [],
   "source": [
    "tweets_train['clean_text'] = tweets_train['text'].apply(preprocess)\n",
    "tweets_test['clean_text'] = tweets_test['text'].apply(preprocess)"
   ]
  },
  {
   "cell_type": "code",
   "execution_count": 12,
   "metadata": {
    "ExecuteTime": {
     "end_time": "2023-12-21T15:29:01.798553700Z",
     "start_time": "2023-12-21T15:29:01.785391100Z"
    }
   },
   "outputs": [
    {
     "name": "stdout",
     "output_type": "stream",
     "text": [
      "Training data\n"
     ]
    },
    {
     "data": {
      "text/plain": "                                                text  target  \\\n0  Our Deeds are the Reason of this #earthquake M...       1   \n1             Forest fire near La Ronge Sask. Canada       1   \n2  All residents asked to 'shelter in place' are ...       1   \n3  13,000 people receive #wildfires evacuation or...       1   \n4  Just got sent this photo from Ruby #Alaska as ...       1   \n\n                                          clean_text  \n0               deed reason earthquake allah forgive  \n1              forest fire near la ronge sask canada  \n2  resident ask shelter place notify officer evac...  \n3    people receive wildfire evacuation order cal...  \n4  get send photo ruby alaska smoke wildfire pour...  ",
      "text/html": "<div>\n<style scoped>\n    .dataframe tbody tr th:only-of-type {\n        vertical-align: middle;\n    }\n\n    .dataframe tbody tr th {\n        vertical-align: top;\n    }\n\n    .dataframe thead th {\n        text-align: right;\n    }\n</style>\n<table border=\"1\" class=\"dataframe\">\n  <thead>\n    <tr style=\"text-align: right;\">\n      <th></th>\n      <th>text</th>\n      <th>target</th>\n      <th>clean_text</th>\n    </tr>\n  </thead>\n  <tbody>\n    <tr>\n      <th>0</th>\n      <td>Our Deeds are the Reason of this #earthquake M...</td>\n      <td>1</td>\n      <td>deed reason earthquake allah forgive</td>\n    </tr>\n    <tr>\n      <th>1</th>\n      <td>Forest fire near La Ronge Sask. Canada</td>\n      <td>1</td>\n      <td>forest fire near la ronge sask canada</td>\n    </tr>\n    <tr>\n      <th>2</th>\n      <td>All residents asked to 'shelter in place' are ...</td>\n      <td>1</td>\n      <td>resident ask shelter place notify officer evac...</td>\n    </tr>\n    <tr>\n      <th>3</th>\n      <td>13,000 people receive #wildfires evacuation or...</td>\n      <td>1</td>\n      <td>people receive wildfire evacuation order cal...</td>\n    </tr>\n    <tr>\n      <th>4</th>\n      <td>Just got sent this photo from Ruby #Alaska as ...</td>\n      <td>1</td>\n      <td>get send photo ruby alaska smoke wildfire pour...</td>\n    </tr>\n  </tbody>\n</table>\n</div>"
     },
     "metadata": {},
     "output_type": "display_data"
    },
    {
     "name": "stdout",
     "output_type": "stream",
     "text": [
      "\n",
      "Testing data\n"
     ]
    },
    {
     "data": {
      "text/plain": "                                                text  \\\n0                 Just happened a terrible car crash   \n1  Heard about #earthquake is different cities, s...   \n2  there is a forest fire at spot pond, geese are...   \n3           Apocalypse lighting. #Spokane #wildfires   \n4      Typhoon Soudelor kills 28 in China and Taiwan   \n\n                                     clean_text  \n0                     happen terrible car crash  \n1      hear earthquake different city stay safe  \n2  forest fire spot pond goose flee street save  \n3          apocalypse lighting spokane wildfire  \n4            typhoon soudelor kill china taiwan  ",
      "text/html": "<div>\n<style scoped>\n    .dataframe tbody tr th:only-of-type {\n        vertical-align: middle;\n    }\n\n    .dataframe tbody tr th {\n        vertical-align: top;\n    }\n\n    .dataframe thead th {\n        text-align: right;\n    }\n</style>\n<table border=\"1\" class=\"dataframe\">\n  <thead>\n    <tr style=\"text-align: right;\">\n      <th></th>\n      <th>text</th>\n      <th>clean_text</th>\n    </tr>\n  </thead>\n  <tbody>\n    <tr>\n      <th>0</th>\n      <td>Just happened a terrible car crash</td>\n      <td>happen terrible car crash</td>\n    </tr>\n    <tr>\n      <th>1</th>\n      <td>Heard about #earthquake is different cities, s...</td>\n      <td>hear earthquake different city stay safe</td>\n    </tr>\n    <tr>\n      <th>2</th>\n      <td>there is a forest fire at spot pond, geese are...</td>\n      <td>forest fire spot pond goose flee street save</td>\n    </tr>\n    <tr>\n      <th>3</th>\n      <td>Apocalypse lighting. #Spokane #wildfires</td>\n      <td>apocalypse lighting spokane wildfire</td>\n    </tr>\n    <tr>\n      <th>4</th>\n      <td>Typhoon Soudelor kills 28 in China and Taiwan</td>\n      <td>typhoon soudelor kill china taiwan</td>\n    </tr>\n  </tbody>\n</table>\n</div>"
     },
     "metadata": {},
     "output_type": "display_data"
    }
   ],
   "source": [
    "print('Training data')\n",
    "display(tweets_train.head())\n",
    "print()\n",
    "print('Testing data')\n",
    "display(tweets_test.head())"
   ]
  },
  {
   "cell_type": "markdown",
   "metadata": {},
   "source": [
    "## Sub-word tokenization with BERT Tokenizer for Byte-Pair Encoding "
   ]
  },
  {
   "cell_type": "code",
   "execution_count": 13,
   "metadata": {
    "ExecuteTime": {
     "end_time": "2023-12-21T15:30:29.849421800Z",
     "start_time": "2023-12-21T15:29:11.378522300Z"
    }
   },
   "outputs": [
    {
     "data": {
      "text/plain": "tokenizer_config.json:   0%|          | 0.00/28.0 [00:00<?, ?B/s]",
      "application/vnd.jupyter.widget-view+json": {
       "version_major": 2,
       "version_minor": 0,
       "model_id": "5c140747297d46c99109c75bf0914031"
      }
     },
     "metadata": {},
     "output_type": "display_data"
    },
    {
     "name": "stderr",
     "output_type": "stream",
     "text": [
      "C:\\Python\\Lib\\site-packages\\huggingface_hub\\file_download.py:149: UserWarning: `huggingface_hub` cache-system uses symlinks by default to efficiently store duplicated files but your machine does not support them in C:\\Users\\tfrod\\.cache\\huggingface\\hub\\models--bert-base-uncased. Caching files will still work but in a degraded version that might require more space on your disk. This warning can be disabled by setting the `HF_HUB_DISABLE_SYMLINKS_WARNING` environment variable. For more details, see https://huggingface.co/docs/huggingface_hub/how-to-cache#limitations.\n",
      "To support symlinks on Windows, you either need to activate Developer Mode or to run Python as an administrator. In order to see activate developer mode, see this article: https://docs.microsoft.com/en-us/windows/apps/get-started/enable-your-device-for-development\n",
      "  warnings.warn(message)\n"
     ]
    },
    {
     "data": {
      "text/plain": "config.json:   0%|          | 0.00/570 [00:00<?, ?B/s]",
      "application/vnd.jupyter.widget-view+json": {
       "version_major": 2,
       "version_minor": 0,
       "model_id": "17bdeb8e6c4d44b8a7545982a990de34"
      }
     },
     "metadata": {},
     "output_type": "display_data"
    },
    {
     "data": {
      "text/plain": "vocab.txt:   0%|          | 0.00/232k [00:00<?, ?B/s]",
      "application/vnd.jupyter.widget-view+json": {
       "version_major": 2,
       "version_minor": 0,
       "model_id": "0739b7bf3b964c04b233920197586aeb"
      }
     },
     "metadata": {},
     "output_type": "display_data"
    },
    {
     "data": {
      "text/plain": "tokenizer.json:   0%|          | 0.00/466k [00:00<?, ?B/s]",
      "application/vnd.jupyter.widget-view+json": {
       "version_major": 2,
       "version_minor": 0,
       "model_id": "8093703a61f04a9e9b6f0c07a01a567e"
      }
     },
     "metadata": {},
     "output_type": "display_data"
    },
    {
     "data": {
      "text/plain": "{('e', 'r'): 'er',\n ('r', 'e'): 're',\n ('i', 'n'): 'in',\n ('a', 'n'): 'an',\n ('o', 'n'): 'on',\n ('s', 't'): 'st',\n ('a', 't'): 'at',\n ('a', 'r'): 'ar',\n ('a', 'l'): 'al',\n ('o', 'r'): 'or',\n ('e', 'n'): 'en',\n ('l', 'e'): 'le',\n ('l', 'i'): 'li',\n ('d', 'e'): 'de',\n ('i', 'c'): 'ic',\n ('s', 'e'): 'se',\n ('a', 'm'): 'am',\n ('r', 'o'): 'ro',\n ('l', 'o'): 'lo',\n ('i', 'l'): 'il',\n ('a', 'c'): 'ac',\n ('i', 't'): 'it',\n ('s', 'h'): 'sh',\n ('u', 'n'): 'un',\n ('c', 'h'): 'ch',\n ('c', 'o'): 'co',\n ('u', 'r'): 'ur',\n ('v', 'e'): 've',\n ('t', 'h'): 'th',\n ('r', 'a'): 'ra',\n ('i', 'on'): 'ion',\n ('g', 'e'): 'ge',\n ('i', 's'): 'is',\n ('m', 'e'): 'me',\n ('in', 'g'): 'ing',\n ('a', 'y'): 'ay',\n ('k', 'e'): 'ke',\n ('n', 'e'): 'ne',\n ('a', 'd'): 'ad',\n ('r', 'i'): 'ri',\n ('h', 'o'): 'ho',\n ('o', 'd'): 'od',\n ('s', 's'): 'ss',\n ('at', 'e'): 'ate',\n ('en', 't'): 'ent',\n ('e', 'l'): 'el',\n ('a', 'p'): 'ap',\n ('f', 'i'): 'fi',\n ('l', 'y'): 'ly',\n ('t', 'er'): 'ter',\n ('o', 'm'): 'om',\n ('g', 'h'): 'gh',\n ('u', 't'): 'ut',\n ('s', 'u'): 'su',\n ('m', 'a'): 'ma',\n ('l', 'a'): 'la',\n ('p', 'e'): 'pe',\n ('f', 'e'): 'fe',\n ('c', 'e'): 'ce',\n ('o', 'l'): 'ol',\n ('v', 'i'): 'vi',\n ('o', 't'): 'ot',\n ('c', 'k'): 'ck',\n ('c', 't'): 'ct',\n ('d', 'i'): 'di',\n ('g', 'o'): 'go',\n ('u', 's'): 'us',\n ('p', 'o'): 'po',\n ('h', 'e'): 'he',\n ('r', 'u'): 'ru',\n ('d', 'er'): 'der',\n ('ne', 'w'): 'new',\n ('b', 'e'): 'be',\n ('s', 'i'): 'si',\n ('at', 'ion'): 'ation',\n ('m', 'o'): 'mo',\n ('an', 'd'): 'and',\n ('o', 'w'): 'ow',\n ('a', 'st'): 'ast',\n ('gh', 't'): 'ght',\n ('fi', 're'): 'fire',\n ('i', 'r'): 'ir',\n ('w', 'e'): 'we',\n ('p', 'l'): 'pl',\n ('c', 'on'): 'con',\n ('e', 'x'): 'ex',\n ('an', 't'): 'ant',\n ('in', 'e'): 'ine',\n ('ac', 'k'): 'ack',\n ('v', 'er'): 'ver',\n ('o', 'p'): 'op',\n ('a', 'b'): 'ab',\n ('u', 'l'): 'ul',\n ('s', 'p'): 'sp',\n ('am', 'p'): 'amp',\n ('e', 'm'): 'em',\n ('s', 'c'): 'sc',\n ('h', 'i'): 'hi',\n ('st', 'or'): 'stor',\n ('i', 'd'): 'id',\n ('f', 'f'): 'ff',\n ('n', 'i'): 'ni',\n ('b', 'o'): 'bo',\n ('q', 'u'): 'qu',\n ('il', 'l'): 'ill',\n ('t', 'i'): 'ti',\n ('c', 'a'): 'ca',\n ('e', 'd'): 'ed',\n ('s', 'o'): 'so',\n ('h', 'a'): 'ha',\n ('li', 'ke'): 'like',\n ('t', 'ra'): 'tra',\n ('a', 'k'): 'ak',\n ('u', 'm'): 'um',\n ('w', 'or'): 'wor',\n ('t', 'y'): 'ty',\n ('stor', 'm'): 'storm',\n ('il', 'd'): 'ild',\n ('y', 'e'): 'ye',\n ('r', 'y'): 'ry',\n ('o', 'k'): 'ok',\n ('in', 'd'): 'ind',\n ('m', 'an'): 'man',\n ('p', 'ro'): 'pro',\n ('in', 'k'): 'ink',\n ('at', 't'): 'att',\n ('un', 'd'): 'und',\n ('it', 'y'): 'ity',\n ('a', 's'): 'as',\n ('a', 'ge'): 'age',\n ('t', 'e'): 'te',\n ('c', 'al'): 'cal',\n ('f', 'o'): 'fo',\n ('d', 'is'): 'dis',\n ('om', 'b'): 'omb',\n ('a', 'g'): 'ag',\n ('co', 'l'): 'col',\n ('p', 're'): 'pre',\n ('or', 't'): 'ort',\n ('i', 'g'): 'ig',\n ('lo', 'w'): 'low',\n ('b', 'u'): 'bu',\n ('i', 'st'): 'ist',\n ('b', 'omb'): 'bomb',\n ('en', 'd'): 'end',\n ('p', 'er'): 'per',\n ('s', 'a'): 'sa',\n ('c', 'y'): 'cy',\n ('d', 'on'): 'don',\n ('ar', 'd'): 'ard',\n ('f', 'or'): 'for',\n ('new', 's'): 'news',\n ('ac', 'e'): 'ace',\n ('on', 'e'): 'one',\n ('ur', 'n'): 'urn',\n ('at', 'h'): 'ath',\n ('ge', 't'): 'get',\n ('u', 'p'): 'up',\n ('b', 'le'): 'ble',\n ('t', 'o'): 'to',\n ('w', 'a'): 'wa',\n ('u', 'se'): 'use',\n ('co', 'm'): 'com',\n ('ar', 't'): 'art',\n ('ro', 'w'): 'row',\n ('ic', 'e'): 'ice',\n ('t', 'on'): 'ton',\n ('d', 'ay'): 'day',\n ('lo', 'od'): 'lood',\n ('al', 'l'): 'all',\n ('n', 'a'): 'na',\n ('sh', 'i'): 'shi',\n ('m', 'ent'): 'ment',\n ('o', 'ut'): 'out',\n ('u', 're'): 'ure',\n ('o', 'b'): 'ob',\n ('ac', 't'): 'act',\n ('a', 're'): 'are',\n ('u', 'e'): 'ue',\n ('c', 'i'): 'ci',\n ('c', 'ra'): 'cra',\n ('el', 'l'): 'ell',\n ('s', 'on'): 'son',\n ('g', 'en'): 'gen',\n ('t', 'a'): 'ta',\n ('m', 'i'): 'mi',\n ('e', 't'): 'et',\n ('s', 'ur'): 'sur',\n ('m', 'ar'): 'mar',\n ('p', 'h'): 'ph',\n ('w', 'ar'): 'war',\n ('i', 'm'): 'im',\n ('ti', 'me'): 'time',\n ('n', 'ow'): 'now',\n ('a', 'il'): 'ail',\n ('ic', 'i'): 'ici',\n ('u', 'st'): 'ust',\n ('al', 'ly'): 'ally',\n ('w', 'at'): 'wat',\n ('b', 're'): 'bre',\n ('l', 'and'): 'land',\n ('e', 'v'): 'ev',\n ('an', 'e'): 'ane',\n ('po', 'li'): 'poli',\n ('b', 'l'): 'bl',\n ('z', 'e'): 'ze',\n ('f', 'u'): 'fu',\n ('b', 'er'): 'ber',\n ('r', 'or'): 'ror',\n ('ic', 'k'): 'ick',\n ('a', 'ir'): 'air',\n ('o', 'ff'): 'off',\n ('pe', 'op'): 'peop',\n ('peop', 'le'): 'people',\n ('b', 'r'): 'br',\n ('k', 'ill'): 'kill',\n ('re', 'd'): 'red',\n ('l', 'd'): 'ld',\n ('i', 'an'): 'ian',\n ('a', 'v'): 'av',\n ('am', 'e'): 'ame',\n ('ar', 'y'): 'ary',\n ('w', 'ay'): 'way',\n ('it', 'e'): 'ite',\n ('b', 'urn'): 'burn',\n ('c', 'ar'): 'car',\n ('u', 'd'): 'ud',\n ('ow', 'n'): 'own',\n ('g', 'er'): 'ger',\n ('d', 'o'): 'do',\n ('vi', 'de'): 'vide',\n ('p', 'ort'): 'port',\n ('m', 'on'): 'mon',\n ('g', 're'): 'gre',\n ('an', 'ce'): 'ance',\n ('f', 'am'): 'fam',\n ('p', 'an'): 'pan',\n ('co', 'me'): 'come',\n ('vide', 'o'): 'video',\n ('c', 'le'): 'cle',\n ('i', 'o'): 'io',\n ('s', 'er'): 'ser',\n ('i', 've'): 'ive',\n ('i', 'e'): 'ie',\n ('m', 'in'): 'min',\n ('ye', 'ar'): 'year',\n ('n', 'o'): 'no',\n ('ast', 'er'): 'aster',\n ('li', 't'): 'lit',\n ('li', 'ght'): 'light',\n ('le', 't'): 'let',\n ('ar', 'm'): 'arm',\n ('f', 'lood'): 'flood',\n ('b', 'od'): 'bod',\n ('w', 'o'): 'wo',\n ('ho', 'me'): 'home',\n ('p', 'ho'): 'pho',\n ('bre', 'ak'): 'break',\n ('lo', 've'): 'love',\n ('i', 'a'): 'ia',\n ('bod', 'y'): 'body',\n ('em', 'er'): 'emer',\n ('cra', 'sh'): 'crash',\n ('am', 'a'): 'ama',\n ('ter', 'ror'): 'terror',\n ('e', 'p'): 'ep',\n ('ex', 'p'): 'exp',\n ('a', 'u'): 'au',\n ('ut', 'e'): 'ute',\n ('in', 'j'): 'inj',\n ('dis', 'aster'): 'disaster',\n ('li', 'de'): 'lide',\n ('c', 'l'): 'cl',\n ('bu', 'ild'): 'build',\n ('re', 'am'): 'ream',\n ('emer', 'gen'): 'emergen',\n ('sh', 'o'): 'sho',\n ('emergen', 'cy'): 'emergency',\n ('lo', 'ok'): 'look',\n ('f', 'at'): 'fat',\n ('att', 'ack'): 'attack',\n ('wor', 'k'): 'work',\n ('re', 'n'): 'ren',\n ('de', 'st'): 'dest',\n ('a', 'f'): 'af',\n ('s', 'pe'): 'spe',\n ('t', 'ro'): 'tro',\n ('t', 'ru'): 'tru',\n ('l', 'l'): 'll',\n ('f', 'l'): 'fl',\n ('il', 'y'): 'ily',\n ('w', 'ind'): 'wind',\n ('b', 'ag'): 'bag',\n ('t', 'r'): 'tr',\n ('go', 'od'): 'good',\n ('a', 'ss'): 'ass',\n ('un', 'der'): 'under',\n ('a', 'se'): 'ase',\n ('j', 'o'): 'jo',\n ('ch', 'e'): 'che',\n ('n', 'or'): 'nor',\n ('un', 't'): 'unt',\n ('c', 're'): 'cre',\n ('li', 'fe'): 'life',\n ('c', 'at'): 'cat',\n ('wor', 'ld'): 'world',\n ('w', 're'): 'wre',\n ('ap', 'p'): 'app',\n ('k', 'now'): 'know',\n ('poli', 'ce'): 'police',\n ('fat', 'al'): 'fatal',\n ('n', 'u'): 'nu',\n ('wre', 'ck'): 'wreck',\n ('o', 'o'): 'oo',\n ('r', 'ic'): 'ric',\n ('g', 'u'): 'gu',\n ('de', 'l'): 'del',\n ('s', 'ion'): 'sion',\n ('pl', 'ay'): 'play',\n ('row', 'n'): 'rown',\n ('w', 'ild'): 'wild',\n ('i', 're'): 'ire',\n ('th', 'e'): 'the',\n ('t', 'w'): 'tw',\n ('c', 'an'): 'can',\n ('on', 'g'): 'ong',\n ('ct', 'ion'): 'ction',\n ('e', 'k'): 'ek',\n ('ac', 'c'): 'acc',\n ('exp', 'lo'): 'explo',\n ('t', 'od'): 'tod',\n ('th', 'er'): 'ther',\n ('n', 'ing'): 'ning',\n ('ev', 'ac'): 'evac',\n ('cal', 'i'): 'cali',\n ('r', 't'): 'rt',\n ('le', 'g'): 'leg',\n ('wat', 'ch'): 'watch',\n ('sur', 'vi'): 'survi',\n ('s', 'ink'): 'sink',\n ('re', 'sc'): 'resc',\n ('e', 'ar'): 'ear',\n ('evac', 'u'): 'evacu',\n ('build', 'ing'): 'building',\n ('tra', 'in'): 'train',\n ('th', 'ink'): 'think',\n ('fam', 'ily'): 'family',\n ('f', 't'): 'ft',\n ('is', 'm'): 'ism',\n ('re', 'e'): 'ree',\n ('m', 'er'): 'mer',\n ('an', 'k'): 'ank',\n ('ni', 'a'): 'nia',\n ('an', 'ge'): 'ange',\n ('ra', 'in'): 'rain',\n ('id', 'ent'): 'ident',\n ('st', 'er'): 'ster',\n ('cle', 'ar'): 'clear',\n ('re', 'st'): 'rest',\n ('cali', 'for'): 'califor',\n ('ma', 'ss'): 'mass',\n ('h', 'el'): 'hel',\n ('c', 'ur'): 'cur',\n ('j', 'e'): 'je',\n ('en', 'ce'): 'ence',\n ('col', 'l'): 'coll',\n ('ol', 'd'): 'old',\n ('d', 'it'): 'dit',\n ('califor', 'nia'): 'california',\n ('li', 've'): 'live',\n ('in', 't'): 'int',\n ('w', 'ant'): 'want',\n ('p', 'ar'): 'par',\n ('e', 'st'): 'est',\n ('j', 'ack'): 'jack',\n ('ici', 'de'): 'icide',\n ('s', 'ay'): 'say',\n ('su', 'icide'): 'suicide',\n ('o', 'us'): 'ous',\n ('vi', 'e'): 'vie',\n ('ap', 'se'): 'apse',\n ('sc', 'ream'): 'scream',\n ('r', 'un'): 'run',\n ('de', 'ath'): 'death',\n ('w', 'h'): 'wh',\n ('shi', 'ma'): 'shima',\n ('e', 'le'): 'ele',\n ('g', 'a'): 'ga',\n ('u', 'be'): 'ube',\n ('coll', 'apse'): 'collapse',\n ('li', 'ter'): 'liter',\n ('d', 'am'): 'dam',\n ('in', 'ter'): 'inter',\n ('der', 'ail'): 'derail',\n ('de', 'ad'): 'dead',\n ('ac', 'h'): 'ach',\n ('p', 'm'): 'pm',\n ('c', 'li'): 'cli',\n ('h', 'or'): 'hor',\n ('b', 'an'): 'ban',\n ('l', 't'): 'lt',\n ('f', 'ul'): 'ful',\n ('ro', 'y'): 'roy',\n ('ir', 'l'): 'irl',\n ('s', 'ol'): 'sol',\n ('c', 'r'): 'cr',\n ('b', 'la'): 'bla',\n ('l', 'ine'): 'line',\n ('ch', 'ar'): 'char',\n ('m', 'is'): 'mis',\n ('s', 'w'): 'sw',\n ('de', 'mo'): 'demo',\n ('pl', 'an'): 'plan',\n ('fe', 'el'): 'feel',\n ('s', 'ch'): 'sch',\n ('a', 'h'): 'ah',\n ('z', 'ard'): 'zard',\n ('ne', 'ar'): 'near',\n ('se', 't'): 'set',\n ('acc', 'ident'): 'accident',\n ('ur', 'y'): 'ury',\n ('re', 'ad'): 'read',\n ('me', 'm'): 'mem',\n ('a', 'ke'): 'ake',\n ('ca', 'use'): 'cause',\n ('g', 't'): 'gt',\n ('tod', 'ay'): 'today',\n ('ne', 'ed'): 'need',\n ('con', 't'): 'cont',\n ('nu', 'clear'): 'nuclear',\n ('fe', 'ct'): 'fect',\n ('he', 'ad'): 'head',\n ('th', 'under'): 'thunder',\n ('di', 'e'): 'die',\n ('ic', 'al'): 'ical',\n ('am', 'er'): 'amer',\n ('d', 'own'): 'down',\n ('w', 'om'): 'wom',\n ('m', 'p'): 'mp',\n ('n', 'ot'): 'not',\n ('b', 'us'): 'bus',\n ('m', 'ur'): 'mur',\n ('d', 'rown'): 'drown',\n ('ath', 'er'): 'ather',\n ('b', 'ig'): 'big',\n ('y', 'out'): 'yout',\n ('de', 'v'): 'dev',\n ('n', 'y'): 'ny',\n ('ri', 'ght'): 'right',\n ('al', 'k'): 'alk',\n ('fu', 'ck'): 'fuck',\n ('shi', 'p'): 'ship',\n ('dest', 'roy'): 'destroy',\n ('d', 'an'): 'dan',\n ('ke', 't'): 'ket',\n ('a', 've'): 'ave',\n ('g', 'n'): 'gn',\n ('yout', 'ube'): 'youtube',\n ('s', 'en'): 'sen',\n ('m', 'al'): 'mal',\n ('de', 'ton'): 'deton',\n ('b', 'ad'): 'bad',\n ('f', 'all'): 'fall',\n ('c', 'la'): 'cla',\n ('y', 'o'): 'yo',\n ('b', 'low'): 'blow',\n ('hi', 'ro'): 'hiro',\n ('c', 'ru'): 'cru',\n ('p', 'u'): 'pu',\n ('l', 'ate'): 'late',\n ('s', 'k'): 'sk',\n ('g', 'r'): 'gr',\n ('hiro', 'shima'): 'hiroshima',\n ('hi', 'jack'): 'hijack',\n ('i', 'sh'): 'ish',\n ('b', 'lood'): 'blood',\n ('li', 'e'): 'lie',\n ('m', 'h'): 'mh',\n ('ser', 'v'): 'serv',\n ('m', 'at'): 'mat',\n ('pl', 'ace'): 'place',\n ('st', 'e'): 'ste',\n ('d', 'r'): 'dr',\n ('b', 'ro'): 'bro',\n ('hel', 'p'): 'help',\n ('su', 'e'): 'sue',\n ('ap', 'on'): 'apon',\n ('ho', 'st'): 'host',\n ('ho', 't'): 'hot',\n ('fe', 'ar'): 'fear',\n ('an', 'ni'): 'anni',\n ('we', 'apon'): 'weapon',\n ('resc', 'ue'): 'rescue',\n ('ob', 'liter'): 'obliter',\n ('pho', 'to'): 'photo',\n ('h', 'app'): 'happ',\n ('bl', 'ack'): 'black',\n ('c', 'ent'): 'cent',\n ('se', 'e'): 'see',\n ('mur', 'der'): 'murder',\n ('b', 'c'): 'bc',\n ('d', 'u'): 'du',\n ('re', 'al'): 'real',\n ('ur', 'al'): 'ural',\n ('f', 'in'): 'fin',\n ('p', 'i'): 'pi',\n ('ele', 'ct'): 'elect',\n ('fi', 'r'): 'fir',\n ('lo', 'se'): 'lose',\n ('u', 'ge'): 'uge',\n ('inj', 'ury'): 'injury',\n ('re', 'port'): 'report',\n ('en', 'g'): 'eng',\n ('p', 'at'): 'pat',\n ('st', 're'): 'stre',\n ('qu', 'ar'): 'quar',\n ('t', 'or'): 'tor',\n ('ab', 'le'): 'able',\n ('ch', 'ange'): 'change',\n ('j', 'ap'): 'jap',\n ('ri', 'ot'): 'riot',\n ('s', 'lide'): 'slide',\n ('b', 'y'): 'by',\n ('ri', 'd'): 'rid',\n ('f', 'ind'): 'find',\n ('serv', 'ice'): 'service',\n ('sp', 'on'): 'spon',\n ('s', 'y'): 'sy',\n ('l', 'ong'): 'long',\n ('wat', 'er'): 'water',\n ('wild', 'fire'): 'wildfire',\n ('so', 'u'): 'sou',\n ('f', 'ri'): 'fri',\n ('c', 'ity'): 'city',\n ('d', 'y'): 'dy',\n ('dev', 'ast'): 'devast',\n ('d', 'ate'): 'date',\n ('ro', 'ss'): 'ross',\n ('p', 't'): 'pt',\n ('lo', 't'): 'lot',\n ('n', 'at'): 'nat',\n ('qu', 'e'): 'que',\n ('m', 'us'): 'mus',\n ('survi', 've'): 'survive',\n ('c', 'ute'): 'cute',\n ('wo', 'und'): 'wound',\n ('ca', 're'): 'care',\n ('g', 'od'): 'god',\n ('th', 'ing'): 'thing',\n ('g', 'in'): 'gin',\n ('e', 'ye'): 'eye',\n ('stor', 'y'): 'story',\n ('b', 'ab'): 'bab',\n ('lo', 'l'): 'lol',\n ('g', 'ro'): 'gro',\n ('con', 'fir'): 'confir',\n ('he', 'ar'): 'hear',\n ('sa', 've'): 'save',\n ('c', 'er'): 'cer',\n ('mis', 's'): 'miss',\n ('p', 'le'): 'ple',\n ('li', 'sh'): 'lish',\n ('explo', 'de'): 'explode',\n ('ha', 'zard'): 'hazard',\n ('wa', 've'): 'wave',\n ('b', 'ar'): 'bar',\n ('v', 'ol'): 'vol',\n ('ne', 'ss'): 'ness',\n ('evacu', 'ate'): 'evacuate',\n ('or', 'd'): 'ord',\n ('s', 'un'): 'sun',\n ('st', 'ate'): 'state',\n ('d', 'ri'): 'dri',\n ('f', 'ace'): 'face',\n ('ast', 'ro'): 'astro',\n ('wom', 'an'): 'woman',\n ('d', 'ro'): 'dro',\n ('col', 'lide'): 'collide',\n ('su', 'al'): 'sual',\n ('fatal', 'ity'): 'fatality',\n ('t', 'ry'): 'try',\n ('gre', 'at'): 'great',\n ('i', 'se'): 'ise',\n ('st', 'and'): 'stand',\n ('pl', 'ane'): 'plane',\n ('re', 'spon'): 'respon',\n ('arm', 'y'): 'army',\n ('st', 'ru'): 'stru',\n ('pan', 'ic'): 'panic',\n ('ve', 'st'): 'vest',\n ('ear', 'th'): 'earth',\n ('o', 'ol'): 'ool',\n ('m', 'y'): 'my',\n ('dam', 'age'): 'damage',\n ('st', 'op'): 'stop',\n ('ho', 'use'): 'house',\n ('or', 'y'): 'ory',\n ('si', 'gn'): 'sign',\n ('mi', 'lit'): 'milit',\n ('bomb', 'ing'): 'bombing',\n ('att', 'le'): 'attle',\n ('b', 'io'): 'bio',\n ('host', 'age'): 'hostage',\n ('ant', 'ine'): 'antine',\n ('g', 'irl'): 'girl',\n ('ni', 'ght'): 'night',\n ('th', 'ank'): 'thank',\n ('ta', 'ke'): 'take',\n ('li', 'st'): 'list',\n ('v', 'il'): 'vil',\n ('ma', 'ge'): 'mage',\n ('f', 'a'): 'fa',\n ('p', 'r'): 'pr',\n ('bo', 'y'): 'boy',\n ('quar', 'antine'): 'quarantine',\n ('fo', 'rest'): 'forest',\n ('sch', 'ool'): 'school',\n ('ad', 'o'): 'ado',\n ('s', 'al'): 'sal',\n ('le', 'ave'): 'leave',\n ('v', 'o'): 'vo',\n ('i', 'ght'): 'ight',\n ('om', 'ic'): 'omic',\n ('in', 'di'): 'indi',\n ('ther', 'n'): 'thern',\n ('cat', 'astro'): 'catastro',\n ('b', 'li'): 'bli',\n ('g', 'ra'): 'gra',\n ('a', 'in'): 'ain',\n ('f', 'ree'): 'free',\n ('hi', 'gh'): 'high',\n ('i', 'i'): 'ii',\n ('c', 'ap'): 'cap',\n ('re', 'fu'): 'refu',\n ('cru', 'sh'): 'crush',\n ('f', 'r'): 'fr',\n ('spe', 'ct'): 'spect',\n ('h', 'it'): 'hit',\n ('leg', 'ion'): 'legion',\n ('s', 'n'): 'sn',\n ('ho', 'pe'): 'hope',\n ('terror', 'ism'): 'terrorism',\n ('ca', 'sual'): 'casual',\n ('co', 'unt'): 'count',\n ('su', 'm'): 'sum',\n ('ic', 'a'): 'ica',\n ('g', 'un'): 'gun',\n ('le', 'y'): 'ley',\n ('w', 'in'): 'win',\n ('ha', 'il'): 'hail',\n ('in', 'vest'): 'invest',\n ('ci', 'al'): 'cial',\n ('l', 'ad'): 'lad',\n ('st', 'art'): 'start',\n ('ob', 'ama'): 'obama',\n ('elect', 'ro'): 'electro',\n ('s', 'mo'): 'smo',\n ('he', 'av'): 'heav',\n ('si', 'de'): 'side',\n ('d', 'a'): 'da',\n ('g', 'ame'): 'game',\n ('t', 'le'): 'tle',\n ('b', 'ul'): 'bul',\n ('h', 'il'): 'hil',\n ('po', 'st'): 'post',\n ('st', 'r'): 'str',\n ('f', 'er'): 'fer',\n ('casual', 'ty'): 'casualty',\n ('deton', 'ate'): 'detonate',\n ('n', 'er'): 'ner',\n ('k', 'id'): 'kid',\n ('b', 'ay'): 'bay',\n ('d', 'n'): 'dn',\n ('t', 'urn'): 'turn',\n ('ro', 'ad'): 'road',\n ('off', 'ici'): 'offici',\n ('lo', 'g'): 'log',\n ('gh', 'ter'): 'ghter',\n ('ar', 'ch'): 'arch',\n ('sh', 'it'): 'shit',\n ('we', 'ek'): 'week',\n ('in', 'a'): 'ina',\n ('y', 'a'): 'ya',\n ('w', 'er'): 'wer',\n ('t', 'ri'): 'tri',\n ('ot', 'e'): 'ote',\n ('nor', 'thern'): 'northern',\n ('s', 'it'): 'sit',\n ('fl', 'ame'): 'flame',\n ('h', 'ur'): 'hur',\n ('del', 'uge'): 'deluge',\n ('co', 'p'): 'cop',\n ('f', 'ol'): 'fol',\n ('ta', 'in'): 'tain',\n ('w', 'ell'): 'well',\n ('ve', 'l'): 'vel',\n ('w', 'r'): 'wr',\n ('f', 'an'): 'fan',\n ('we', 'ather'): 'weather',\n ('h', 'and'): 'hand',\n ('se', 'l'): 'sel',\n ('au', 'g'): 'aug',\n ('lo', 'ud'): 'loud',\n ('ist', 'er'): 'ister',\n ('confir', 'm'): 'confirm',\n ('legion', 'na'): 'legionna',\n ('demo', 'lish'): 'demolish',\n ('electro', 'cute'): 'electrocute',\n ('red', 'dit'): 'reddit',\n ('m', 'ay'): 'may',\n ('c', 'ross'): 'cross',\n ('le', 'ad'): 'lead',\n ('e', 'f'): 'ef',\n ('re', 'le'): 'rele',\n ('invest', 'ig'): 'investig',\n ('legionna', 'ire'): 'legionnaire',\n ('are', 'a'): 'area',\n ('rid', 'ge'): 'ridge',\n ('su', 're'): 'sure',\n ('u', 'ght'): 'ught',\n ('si', 'ren'): 'siren',\n ('s', 'm'): 'sm',\n ('p', 'ick'): 'pick',\n ('h', 'ell'): 'hell',\n ('n', 'ation'): 'nation',\n ('st', 'ar'): 'star',\n ('v', 'a'): 'va',\n ('w', 'it'): 'wit',\n ('pre', 'ss'): 'press',\n ('jap', 'an'): 'japan',\n ('co', 'ver'): 'cover',\n ('mal', 'ay'): 'malay',\n ('bomb', 'er'): 'bomber',\n ('sum', 'mer'): 'summer',\n ('v', 'al'): 'val',\n ('u', 'g'): 'ug',\n ('p', 'are'): 'pare',\n ('is', 'is'): 'isis',\n ('so', 'und'): 'sound',\n ('rele', 'ase'): 'release',\n ('at', 'omic'): 'atomic',\n ('st', 'o'): 'sto',\n ('si', 'a'): 'sia',\n ('de', 'sol'): 'desol',\n ('obliter', 'ate'): 'obliterate',\n ('f', 'la'): 'fla',\n ('fri', 'end'): 'friend',\n ('is', 'sue'): 'issue',\n ('mem', 'ber'): 'member',\n ('i', 'z'): 'iz',\n ('s', 'or'): 'sor',\n ('an', 'g'): 'ang',\n ('p', 'he'): 'phe',\n ('t', 'own'): 'town',\n ('qu', 'ake'): 'quake',\n ('co', 'un'): 'coun',\n ('fol', 'low'): 'follow',\n ('tru', 'ck'): 'truck',\n ('offici', 'al'): 'official',\n ('a', 'ut'): 'aut',\n ('t', 'om'): 'tom',\n ('al', 'low'): 'allow',\n ('inj', 'ure'): 'injure',\n ('b', 'attle'): 'battle',\n ('m', 'ad'): 'mad',\n ('at', 'or'): 'ator',\n ('ty', 'pho'): 'typho',\n ('typho', 'on'): 'typhoon',\n ('lo', 'ck'): 'lock',\n ('h', 'al'): 'hal',\n ('er', 'o'): 'ero',\n ('f', 're'): 'fre',\n ('fi', 'ght'): 'fight',\n ('fo', 'od'): 'food',\n ('f', 'un'): 'fun',\n ('ch', 'ild'): 'child',\n ('mo', 'vie'): 'movie',\n ('sp', 'ort'): 'sport',\n ('bla', 'ze'): 'blaze',\n ('h', 'ar'): 'har',\n ('m', 'or'): 'mor',\n ('cont', 'ent'): 'content',\n ('up', 'date'): 'update',\n ('ho', 'le'): 'hole',\n ('sho', 'ot'): 'shoot',\n ('il', 'li'): 'illi',\n ('re', 'at'): 'reat',\n ('b', 'it'): 'bit',\n ('me', 'd'): 'med',\n ('p', 'ri'): 'pri',\n ('b', 'all'): 'ball',\n ('ir', 'an'): 'iran',\n ('vie', 'w'): 'view',\n ('i', 'de'): 'ide',\n ('f', 'ail'): 'fail',\n ('i', 'al'): 'ial',\n ('o', 'il'): 'oil',\n ('thunder', 'storm'): 'thunderstorm',\n ('happ', 'en'): 'happen',\n ('ar', 'son'): 'arson',\n ('he', 'art'): 'heart',\n ('bo', 'ok'): 'book',\n ('ma', 'ke'): 'make',\n ('je', 'ct'): 'ject',\n ('anni', 'hil'): 'annihil',\n ('d', 'en'): 'den',\n ('o', 'f'): 'of',\n ('le', 'ss'): 'less',\n ('w', 'an'): 'wan',\n ('p', 'ic'): 'pic',\n ('as', 'on'): 'ason',\n ('ro', 'ck'): 'rock',\n ('m', 'ic'): 'mic',\n ('br', 'is'): 'bris',\n ('l', 'am'): 'lam',\n ('ri', 'st'): 'rist',\n ('ap', 'e'): 'ape',\n ('char', 'ge'): 'charge',\n ('co', 'ur'): 'cour',\n ('st', 'ri'): 'stri',\n ('che', 'ck'): 'check',\n ('j', 'ob'): 'job',\n ('ex', 't'): 'ext',\n ('p', 'ass'): 'pass',\n ('we', 'et'): 'weet',\n ('p', 'al'): 'pal',\n ('po', 'wer'): 'power',\n ('r', 'ant'): 'rant',\n ('earth', 'quake'): 'earthquake',\n ('evacu', 'ation'): 'evacuation',\n ('t', 'ur'): 'tur',\n ('s', 'and'): 'sand',\n ('lit', 'tle'): 'little',\n ('ph', 'one'): 'phone',\n ('l', 'u'): 'lu',\n ('milit', 'ary'): 'military',\n ('i', 'um'): 'ium',\n ('de', 'al'): 'deal',\n ('al', 'th'): 'alth',\n ('s', 'end'): 'send',\n ('smo', 'ke'): 'smoke',\n ('a', 'a'): 'aa',\n ('m', 'om'): 'mom',\n ('t', 'ell'): 'tell',\n ('su', 'p'): 'sup',\n ('gu', 'y'): 'guy',\n ('p', 'ra'): 'pra',\n ('an', 's'): 'ans',\n ('r', 'al'): 'ral',\n ('h', 'um'): 'hum',\n ('o', 'h'): 'oh',\n ('ine', 'ss'): 'iness',\n ('ne', 't'): 'net',\n ('com', 'm'): 'comm',\n ('se', 'arch'): 'search',\n ('ric', 'ane'): 'ricane',\n ('stru', 'ct'): 'struct',\n ('m', 'ig'): 'mig',\n ('as', 'k'): 'ask',\n ('or', 'der'): 'order',\n ('wo', 'od'): 'wood',\n ('it', 'ion'): 'ition',\n ('u', 'ble'): 'uble',\n ('ist', 'an'): 'istan',\n ('w', 's'): 'ws',\n ('ap', 'o'): 'apo',\n ('am', 'i'): 'ami',\n ('se', 'a'): 'sea',\n ('malay', 'sia'): 'malaysia',\n ('g', 'ive'): 'give',\n ('he', 'at'): 'heat',\n ('en', 'e'): 'ene',\n ('de', 'bris'): 'debris',\n ('su', 'spect'): 'suspect',\n ('vi', 'ol'): 'viol',\n ('i', 'ence'): 'ience',\n ('d', 'ra'): 'dra',\n ('ad', 'd'): 'add',\n ('ge', 'e'): 'gee',\n ('nat', 'ural'): 'natural',\n ('ver', 'e'): 'vere',\n ('mar', 'ket'): 'market',\n ('ic', 'le'): 'icle',\n ('ho', 'ur'): 'hour',\n ('dri', 've'): 'drive',\n ('b', 'al'): 'bal',\n ('go', 'ver'): 'gover',\n ('p', 'ak'): 'pak',\n ('nation', 'al'): 'national',\n ('cal', 'l'): 'call',\n ('l', 'er'): 'ler',\n ('terror', 'ist'): 'terrorist',\n ('refu', 'gee'): 'refugee',\n ('dan', 'ger'): 'danger',\n ('de', 'mon'): 'demon',\n ('mig', 'rant'): 'migrant',\n ('g', 'i'): 'gi',\n ('al', 'e'): 'ale',\n ('g', 'ue'): 'gue',\n ('un', 'ion'): 'union',\n ('v', 'or'): 'vor',\n ('y', 'r'): 'yr',\n ('bab', 'y'): 'baby',\n ('b', 'ridge'): 'bridge',\n ('op', 'en'): 'open',\n ('b', 'a'): 'ba',\n ('k', 'er'): 'ker',\n ('m', 'id'): 'mid',\n ('explo', 'sion'): 'explosion',\n ('tra', 'p'): 'trap',\n ('w', 'w'): 'ww',\n ('go', 'v'): 'gov',\n ('u', 'ma'): 'uma',\n ('p', 'ul'): 'pul',\n ('t', 'ot'): 'tot',\n ('ver', 's'): 'vers',\n ('light', 'ning'): 'lightning',\n ('hur', 'ricane'): 'hurricane',\n ('se', 'vere'): 'severe',\n ('sou', 'th'): 'south',\n ('wa', 'it'): 'wait',\n ('e', 'li'): 'eli',\n ('v', 'is'): 'vis',\n ('t', 'alk'): 'talk',\n ('ss', 'i'): 'ssi',\n ('me', 'di'): 'medi',\n ('g', 'an'): 'gan',\n ('blood', 'y'): 'bloody',\n ('sh', 'ow'): 'show',\n ('is', 'ra'): 'isra',\n ('s', 'now'): 'snow',\n ('bl', 'ue'): 'blue',\n ('sa', 'u'): 'sau',\n ('c', 'amp'): 'camp',\n ('wor', 'd'): 'word',\n ('ac', 're'): 'acre',\n ('sp', 'ill'): 'spill',\n ('devast', 'ate'): 'devastate',\n ('h', 'ard'): 'hard',\n ('te', 'st'): 'test',\n ('l', 'ar'): 'lar',\n ('per', 'son'): 'person',\n ('p', 'a'): 'pa',\n ('wh', 'ite'): 'white',\n ('l', 'ink'): 'link',\n ('un', 'g'): 'ung',\n ('ho', 'l'): 'hol',\n ('ru', 'in'): 'ruin',\n ('li', 'p'): 'lip',\n ('ton', 'ight'): 'tonight',\n ('mo', 've'): 'move',\n ('ex', 'per'): 'exper',\n ('is', 'land'): 'island',\n ('s', 'day'): 'sday',\n ('b', 'ra'): 'bra',\n ('ch', 'er'): 'cher',\n ('survi', 'vor'): 'survivor',\n ('ch', 'rist'): 'christ',\n ('a', 'way'): 'away',\n ('so', 'on'): 'soon',\n ('mo', 's'): 'mos',\n ('bus', 'iness'): 'business',\n ('li', 'm'): 'lim',\n ('ban', 'g'): 'bang',\n ('in', 'und'): 'inund',\n ('c', 'lose'): 'close',\n ('tor', 'n'): 'torn',\n ('torn', 'ado'): 'tornado',\n ('ha', 'ha'): 'haha',\n ('p', 'ast'): 'past',\n ('de', 'p'): 'dep',\n ('hal', 'f'): 'half',\n ('v', 'ic'): 'vic',\n ('min', 'ute'): 'minute',\n ('it', 'al'): 'ital',\n ('el', 'y'): 'ely',\n ('y', 'p'): 'yp',\n ('ma', 'g'): 'mag',\n ('la', 'b'): 'lab',\n ('si', 've'): 'sive',\n ('k', 'o'): 'ko',\n ('dro', 'ught'): 'drought',\n ('fail', 'ure'): 'failure',\n ('ch', 'ina'): 'china',\n ('co', 'st'): 'cost',\n ('act', 'or'): 'actor',\n ('d', 'ust'): 'dust',\n ('d', 'ent'): 'dent',\n ('s', 'ite'): 'site',\n ('we', 'st'): 'west',\n ('s', 'an'): 'san',\n ('te', 'am'): 'team',\n ('at', 'er'): 'ater',\n ('di', 'o'): 'dio',\n ('ri', 'ble'): 'rible',\n ('wa', 'ke'): 'wake',\n ('am', 'bul'): 'ambul',\n ('ambul', 'ance'): 'ambulance',\n ('w', 'alk'): 'walk',\n ('dest', 'ru'): 'destru',\n ...}"
     },
     "execution_count": 13,
     "metadata": {},
     "output_type": "execute_result"
    }
   ],
   "source": [
    "# set the hyperparameter of vocabulary size\n",
    "vocab_size = 3000\n",
    "corpus = tweets_train['clean_text'].tolist()\n",
    "\n",
    "# create a BPE tokenizer object\n",
    "MyBPE = BPE(corpus=corpus, vocab_size=vocab_size)\n",
    "\n",
    "# train BPE tokenizer with Wikipedia corpus\n",
    "MyBPE.train()"
   ]
  },
  {
   "cell_type": "code",
   "execution_count": 15,
   "metadata": {
    "ExecuteTime": {
     "end_time": "2023-12-21T15:33:13.493640100Z",
     "start_time": "2023-12-21T15:32:21.919839300Z"
    }
   },
   "outputs": [],
   "source": [
    "tweets_train['tokenized_text'] = tweets_train['clean_text'].apply(lambda x: MyBPE.tokenize(x))\n",
    "tweets_test['tokenized_text'] = tweets_test['clean_text'].apply(lambda x: MyBPE.tokenize(x))"
   ]
  },
  {
   "cell_type": "code",
   "execution_count": 16,
   "metadata": {
    "ExecuteTime": {
     "end_time": "2023-12-21T15:33:19.085082400Z",
     "start_time": "2023-12-21T15:33:19.045672800Z"
    }
   },
   "outputs": [
    {
     "name": "stdout",
     "output_type": "stream",
     "text": [
      "Training data\n"
     ]
    },
    {
     "data": {
      "text/plain": "                                                text  target  \\\n0  Our Deeds are the Reason of this #earthquake M...       1   \n1             Forest fire near La Ronge Sask. Canada       1   \n2  All residents asked to 'shelter in place' are ...       1   \n3  13,000 people receive #wildfires evacuation or...       1   \n4  Just got sent this photo from Ruby #Alaska as ...       1   \n\n                                          clean_text  \\\n0               deed reason earthquake allah forgive   \n1              forest fire near la ronge sask canada   \n2  resident ask shelter place notify officer evac...   \n3    people receive wildfire evacuation order cal...   \n4  get send photo ruby alaska smoke wildfire pour...   \n\n                                      tokenized_text  \n0     [de, ed, reason, earthquake, allah, for, give]  \n1  [forest, fire, near, la, ron, ge, s, ask, canada]  \n2  [resident, ask, shel, ter, place, not, ify, of...  \n3  [people, re, ce, ive, wildfire, evacuation, or...  \n4  [get, send, photo, ru, by, alaska, smoke, wild...  ",
      "text/html": "<div>\n<style scoped>\n    .dataframe tbody tr th:only-of-type {\n        vertical-align: middle;\n    }\n\n    .dataframe tbody tr th {\n        vertical-align: top;\n    }\n\n    .dataframe thead th {\n        text-align: right;\n    }\n</style>\n<table border=\"1\" class=\"dataframe\">\n  <thead>\n    <tr style=\"text-align: right;\">\n      <th></th>\n      <th>text</th>\n      <th>target</th>\n      <th>clean_text</th>\n      <th>tokenized_text</th>\n    </tr>\n  </thead>\n  <tbody>\n    <tr>\n      <th>0</th>\n      <td>Our Deeds are the Reason of this #earthquake M...</td>\n      <td>1</td>\n      <td>deed reason earthquake allah forgive</td>\n      <td>[de, ed, reason, earthquake, allah, for, give]</td>\n    </tr>\n    <tr>\n      <th>1</th>\n      <td>Forest fire near La Ronge Sask. Canada</td>\n      <td>1</td>\n      <td>forest fire near la ronge sask canada</td>\n      <td>[forest, fire, near, la, ron, ge, s, ask, canada]</td>\n    </tr>\n    <tr>\n      <th>2</th>\n      <td>All residents asked to 'shelter in place' are ...</td>\n      <td>1</td>\n      <td>resident ask shelter place notify officer evac...</td>\n      <td>[resident, ask, shel, ter, place, not, ify, of...</td>\n    </tr>\n    <tr>\n      <th>3</th>\n      <td>13,000 people receive #wildfires evacuation or...</td>\n      <td>1</td>\n      <td>people receive wildfire evacuation order cal...</td>\n      <td>[people, re, ce, ive, wildfire, evacuation, or...</td>\n    </tr>\n    <tr>\n      <th>4</th>\n      <td>Just got sent this photo from Ruby #Alaska as ...</td>\n      <td>1</td>\n      <td>get send photo ruby alaska smoke wildfire pour...</td>\n      <td>[get, send, photo, ru, by, alaska, smoke, wild...</td>\n    </tr>\n  </tbody>\n</table>\n</div>"
     },
     "metadata": {},
     "output_type": "display_data"
    },
    {
     "name": "stdout",
     "output_type": "stream",
     "text": [
      "\n",
      "Testing data\n"
     ]
    },
    {
     "data": {
      "text/plain": "                                                text  \\\n0                 Just happened a terrible car crash   \n1  Heard about #earthquake is different cities, s...   \n2  there is a forest fire at spot pond, geese are...   \n3           Apocalypse lighting. #Spokane #wildfires   \n4      Typhoon Soudelor kills 28 in China and Taiwan   \n\n                                     clean_text  \\\n0                     happen terrible car crash   \n1      hear earthquake different city stay safe   \n2  forest fire spot pond goose flee street save   \n3          apocalypse lighting spokane wildfire   \n4            typhoon soudelor kill china taiwan   \n\n                                      tokenized_text  \n0                   [happen, ter, rible, car, crash]  \n1    [hear, earthquake, different, city, stay, safe]  \n2  [forest, fire, spot, p, ond, go, ose, fle, e, ...  \n3    [apocalypse, light, ing, spo, k, ane, wildfire]  \n4           [typhoon, soudelor, kill, china, taiwan]  ",
      "text/html": "<div>\n<style scoped>\n    .dataframe tbody tr th:only-of-type {\n        vertical-align: middle;\n    }\n\n    .dataframe tbody tr th {\n        vertical-align: top;\n    }\n\n    .dataframe thead th {\n        text-align: right;\n    }\n</style>\n<table border=\"1\" class=\"dataframe\">\n  <thead>\n    <tr style=\"text-align: right;\">\n      <th></th>\n      <th>text</th>\n      <th>clean_text</th>\n      <th>tokenized_text</th>\n    </tr>\n  </thead>\n  <tbody>\n    <tr>\n      <th>0</th>\n      <td>Just happened a terrible car crash</td>\n      <td>happen terrible car crash</td>\n      <td>[happen, ter, rible, car, crash]</td>\n    </tr>\n    <tr>\n      <th>1</th>\n      <td>Heard about #earthquake is different cities, s...</td>\n      <td>hear earthquake different city stay safe</td>\n      <td>[hear, earthquake, different, city, stay, safe]</td>\n    </tr>\n    <tr>\n      <th>2</th>\n      <td>there is a forest fire at spot pond, geese are...</td>\n      <td>forest fire spot pond goose flee street save</td>\n      <td>[forest, fire, spot, p, ond, go, ose, fle, e, ...</td>\n    </tr>\n    <tr>\n      <th>3</th>\n      <td>Apocalypse lighting. #Spokane #wildfires</td>\n      <td>apocalypse lighting spokane wildfire</td>\n      <td>[apocalypse, light, ing, spo, k, ane, wildfire]</td>\n    </tr>\n    <tr>\n      <th>4</th>\n      <td>Typhoon Soudelor kills 28 in China and Taiwan</td>\n      <td>typhoon soudelor kill china taiwan</td>\n      <td>[typhoon, soudelor, kill, china, taiwan]</td>\n    </tr>\n  </tbody>\n</table>\n</div>"
     },
     "metadata": {},
     "output_type": "display_data"
    }
   ],
   "source": [
    "print('Training data')\n",
    "display(tweets_train.head())\n",
    "print()\n",
    "print('Testing data')\n",
    "display(tweets_test.head())"
   ]
  },
  {
   "cell_type": "markdown",
   "metadata": {},
   "source": [
    "## Convert Text into Input Features"
   ]
  },
  {
   "cell_type": "markdown",
   "metadata": {},
   "source": [
    "### TF-IDF"
   ]
  },
  {
   "cell_type": "code",
   "execution_count": 17,
   "metadata": {
    "ExecuteTime": {
     "end_time": "2023-12-21T15:33:23.476189500Z",
     "start_time": "2023-12-21T15:33:21.430017200Z"
    }
   },
   "outputs": [],
   "source": [
    "vectorizer = TfidfVectorizer()\n",
    "\n",
    "X_train = vectorizer.fit_transform(tweets_train['tokenized_text'].apply(lambda tokens: ' '.join(tokens)))\n",
    "# Add a new column 'TFIDF' to the original DataFrame with the TF-IDF arrays\n",
    "tweets_train['TFIDF'] = X_train.toarray().tolist()\n",
    "\n",
    "X_test = vectorizer.transform(tweets_test['tokenized_text'].apply(lambda tokens: ' '.join(tokens)))\n",
    "# Add a new column 'TFIDF' to the original DataFrame with the TF-IDF arrays\n",
    "tweets_test['TFIDF'] = X_test.toarray().tolist()"
   ]
  },
  {
   "cell_type": "code",
   "execution_count": 18,
   "metadata": {
    "ExecuteTime": {
     "end_time": "2023-12-21T15:33:23.661826500Z",
     "start_time": "2023-12-21T15:33:23.626279500Z"
    }
   },
   "outputs": [
    {
     "name": "stdout",
     "output_type": "stream",
     "text": [
      "Training data\n"
     ]
    },
    {
     "data": {
      "text/plain": "                                                text  target  \\\n0  Our Deeds are the Reason of this #earthquake M...       1   \n1             Forest fire near La Ronge Sask. Canada       1   \n2  All residents asked to 'shelter in place' are ...       1   \n3  13,000 people receive #wildfires evacuation or...       1   \n4  Just got sent this photo from Ruby #Alaska as ...       1   \n\n                                          clean_text  \\\n0               deed reason earthquake allah forgive   \n1              forest fire near la ronge sask canada   \n2  resident ask shelter place notify officer evac...   \n3    people receive wildfire evacuation order cal...   \n4  get send photo ruby alaska smoke wildfire pour...   \n\n                                      tokenized_text  \\\n0     [de, ed, reason, earthquake, allah, for, give]   \n1  [forest, fire, near, la, ron, ge, s, ask, canada]   \n2  [resident, ask, shel, ter, place, not, ify, of...   \n3  [people, re, ce, ive, wildfire, evacuation, or...   \n4  [get, send, photo, ru, by, alaska, smoke, wild...   \n\n                                               TFIDF  \n0  [0.0, 0.0, 0.0, 0.0, 0.0, 0.0, 0.0, 0.0, 0.0, ...  \n1  [0.0, 0.0, 0.0, 0.0, 0.0, 0.0, 0.0, 0.0, 0.0, ...  \n2  [0.0, 0.0, 0.0, 0.0, 0.0, 0.0, 0.0, 0.0, 0.0, ...  \n3  [0.0, 0.0, 0.0, 0.0, 0.0, 0.0, 0.0, 0.0, 0.0, ...  \n4  [0.0, 0.0, 0.0, 0.0, 0.0, 0.0, 0.0, 0.0, 0.0, ...  ",
      "text/html": "<div>\n<style scoped>\n    .dataframe tbody tr th:only-of-type {\n        vertical-align: middle;\n    }\n\n    .dataframe tbody tr th {\n        vertical-align: top;\n    }\n\n    .dataframe thead th {\n        text-align: right;\n    }\n</style>\n<table border=\"1\" class=\"dataframe\">\n  <thead>\n    <tr style=\"text-align: right;\">\n      <th></th>\n      <th>text</th>\n      <th>target</th>\n      <th>clean_text</th>\n      <th>tokenized_text</th>\n      <th>TFIDF</th>\n    </tr>\n  </thead>\n  <tbody>\n    <tr>\n      <th>0</th>\n      <td>Our Deeds are the Reason of this #earthquake M...</td>\n      <td>1</td>\n      <td>deed reason earthquake allah forgive</td>\n      <td>[de, ed, reason, earthquake, allah, for, give]</td>\n      <td>[0.0, 0.0, 0.0, 0.0, 0.0, 0.0, 0.0, 0.0, 0.0, ...</td>\n    </tr>\n    <tr>\n      <th>1</th>\n      <td>Forest fire near La Ronge Sask. Canada</td>\n      <td>1</td>\n      <td>forest fire near la ronge sask canada</td>\n      <td>[forest, fire, near, la, ron, ge, s, ask, canada]</td>\n      <td>[0.0, 0.0, 0.0, 0.0, 0.0, 0.0, 0.0, 0.0, 0.0, ...</td>\n    </tr>\n    <tr>\n      <th>2</th>\n      <td>All residents asked to 'shelter in place' are ...</td>\n      <td>1</td>\n      <td>resident ask shelter place notify officer evac...</td>\n      <td>[resident, ask, shel, ter, place, not, ify, of...</td>\n      <td>[0.0, 0.0, 0.0, 0.0, 0.0, 0.0, 0.0, 0.0, 0.0, ...</td>\n    </tr>\n    <tr>\n      <th>3</th>\n      <td>13,000 people receive #wildfires evacuation or...</td>\n      <td>1</td>\n      <td>people receive wildfire evacuation order cal...</td>\n      <td>[people, re, ce, ive, wildfire, evacuation, or...</td>\n      <td>[0.0, 0.0, 0.0, 0.0, 0.0, 0.0, 0.0, 0.0, 0.0, ...</td>\n    </tr>\n    <tr>\n      <th>4</th>\n      <td>Just got sent this photo from Ruby #Alaska as ...</td>\n      <td>1</td>\n      <td>get send photo ruby alaska smoke wildfire pour...</td>\n      <td>[get, send, photo, ru, by, alaska, smoke, wild...</td>\n      <td>[0.0, 0.0, 0.0, 0.0, 0.0, 0.0, 0.0, 0.0, 0.0, ...</td>\n    </tr>\n  </tbody>\n</table>\n</div>"
     },
     "metadata": {},
     "output_type": "display_data"
    },
    {
     "name": "stdout",
     "output_type": "stream",
     "text": [
      "\n",
      "Testing data\n"
     ]
    },
    {
     "data": {
      "text/plain": "                                                text  \\\n0                 Just happened a terrible car crash   \n1  Heard about #earthquake is different cities, s...   \n2  there is a forest fire at spot pond, geese are...   \n3           Apocalypse lighting. #Spokane #wildfires   \n4      Typhoon Soudelor kills 28 in China and Taiwan   \n\n                                     clean_text  \\\n0                     happen terrible car crash   \n1      hear earthquake different city stay safe   \n2  forest fire spot pond goose flee street save   \n3          apocalypse lighting spokane wildfire   \n4            typhoon soudelor kill china taiwan   \n\n                                      tokenized_text  \\\n0                   [happen, ter, rible, car, crash]   \n1    [hear, earthquake, different, city, stay, safe]   \n2  [forest, fire, spot, p, ond, go, ose, fle, e, ...   \n3    [apocalypse, light, ing, spo, k, ane, wildfire]   \n4           [typhoon, soudelor, kill, china, taiwan]   \n\n                                               TFIDF  \n0  [0.0, 0.0, 0.0, 0.0, 0.0, 0.0, 0.0, 0.0, 0.0, ...  \n1  [0.0, 0.0, 0.0, 0.0, 0.0, 0.0, 0.0, 0.0, 0.0, ...  \n2  [0.0, 0.0, 0.0, 0.0, 0.0, 0.0, 0.0, 0.0, 0.0, ...  \n3  [0.0, 0.0, 0.0, 0.0, 0.0, 0.0, 0.0, 0.0, 0.0, ...  \n4  [0.0, 0.0, 0.0, 0.0, 0.0, 0.0, 0.0, 0.0, 0.0, ...  ",
      "text/html": "<div>\n<style scoped>\n    .dataframe tbody tr th:only-of-type {\n        vertical-align: middle;\n    }\n\n    .dataframe tbody tr th {\n        vertical-align: top;\n    }\n\n    .dataframe thead th {\n        text-align: right;\n    }\n</style>\n<table border=\"1\" class=\"dataframe\">\n  <thead>\n    <tr style=\"text-align: right;\">\n      <th></th>\n      <th>text</th>\n      <th>clean_text</th>\n      <th>tokenized_text</th>\n      <th>TFIDF</th>\n    </tr>\n  </thead>\n  <tbody>\n    <tr>\n      <th>0</th>\n      <td>Just happened a terrible car crash</td>\n      <td>happen terrible car crash</td>\n      <td>[happen, ter, rible, car, crash]</td>\n      <td>[0.0, 0.0, 0.0, 0.0, 0.0, 0.0, 0.0, 0.0, 0.0, ...</td>\n    </tr>\n    <tr>\n      <th>1</th>\n      <td>Heard about #earthquake is different cities, s...</td>\n      <td>hear earthquake different city stay safe</td>\n      <td>[hear, earthquake, different, city, stay, safe]</td>\n      <td>[0.0, 0.0, 0.0, 0.0, 0.0, 0.0, 0.0, 0.0, 0.0, ...</td>\n    </tr>\n    <tr>\n      <th>2</th>\n      <td>there is a forest fire at spot pond, geese are...</td>\n      <td>forest fire spot pond goose flee street save</td>\n      <td>[forest, fire, spot, p, ond, go, ose, fle, e, ...</td>\n      <td>[0.0, 0.0, 0.0, 0.0, 0.0, 0.0, 0.0, 0.0, 0.0, ...</td>\n    </tr>\n    <tr>\n      <th>3</th>\n      <td>Apocalypse lighting. #Spokane #wildfires</td>\n      <td>apocalypse lighting spokane wildfire</td>\n      <td>[apocalypse, light, ing, spo, k, ane, wildfire]</td>\n      <td>[0.0, 0.0, 0.0, 0.0, 0.0, 0.0, 0.0, 0.0, 0.0, ...</td>\n    </tr>\n    <tr>\n      <th>4</th>\n      <td>Typhoon Soudelor kills 28 in China and Taiwan</td>\n      <td>typhoon soudelor kill china taiwan</td>\n      <td>[typhoon, soudelor, kill, china, taiwan]</td>\n      <td>[0.0, 0.0, 0.0, 0.0, 0.0, 0.0, 0.0, 0.0, 0.0, ...</td>\n    </tr>\n  </tbody>\n</table>\n</div>"
     },
     "metadata": {},
     "output_type": "display_data"
    }
   ],
   "source": [
    "print('Training data')\n",
    "display(tweets_train.head())\n",
    "print()\n",
    "print('Testing data')\n",
    "display(tweets_test.head())"
   ]
  },
  {
   "cell_type": "markdown",
   "metadata": {},
   "source": [
    "### Word2Vec (CBOW and Skip-Gram)"
   ]
  },
  {
   "cell_type": "code",
   "execution_count": 19,
   "metadata": {
    "ExecuteTime": {
     "end_time": "2023-12-21T15:33:26.004312100Z",
     "start_time": "2023-12-21T15:33:25.980689800Z"
    }
   },
   "outputs": [
    {
     "name": "stdout",
     "output_type": "stream",
     "text": [
      "Maximum length of tokenized text in training data: 42\n",
      "Maximum length of tokenized text in testing data: 50\n"
     ]
    }
   ],
   "source": [
    "print('Maximum length of tokenized text in training data:', max([len(sent) for sent in tweets_train['tokenized_text']]))\n",
    "print('Maximum length of tokenized text in testing data:', max([len(sent) for sent in tweets_test['tokenized_text']]))"
   ]
  },
  {
   "cell_type": "code",
   "execution_count": 20,
   "metadata": {
    "ExecuteTime": {
     "end_time": "2023-12-21T15:34:07.773767Z",
     "start_time": "2023-12-21T15:33:29.941367700Z"
    }
   },
   "outputs": [],
   "source": [
    "# Train Word2Vec model\n",
    "cbow_model = Word2Vec(sentences = tweets_train['tokenized_text'], vector_size = 128, window = 10, min_count = 1, workers = 4, sg = 0, epochs = 128)\n",
    "# Add the <pad> token to the cbow_model so that the last token is the <pad> token\n",
    "cbow_model.wv.key_to_index['<pad>'] = len(cbow_model.wv)\n",
    "# Add the embedding of <pad> token to the cbow_model\n",
    "cbow_model.wv.vectors = np.append(cbow_model.wv.vectors, np.zeros((1, 128)), axis=0)\n",
    "\n",
    "\n",
    "skipgram_model = Word2Vec(sentences = tweets_train['tokenized_text'], vector_size = 128, window = 10, min_count = 1, workers = 4, sg = 1, epochs = 128)\n",
    "# Add the <pad> token to the skipgram_model so that the last token is the <pad> token\n",
    "skipgram_model.wv.key_to_index['<pad>'] = len(skipgram_model.wv)\n",
    "# Add the embedding of <pad> token to the skipgram_model\n",
    "skipgram_model.wv.vectors = np.append(skipgram_model.wv.vectors, np.zeros((1, 128)), axis=0)\n",
    "\n",
    "# Add the <pad> token to all the tokenized text until the length of each tokenized text is 50\n",
    "tweets_train['tokenized_text'] = tweets_train['tokenized_text'].apply(lambda tokens: tokens + ['<pad>'] * (50 - len(tokens)))\n",
    "tweets_test['tokenized_text'] = tweets_test['tokenized_text'].apply(lambda tokens: tokens + ['<pad>'] * (50 - len(tokens)))\n",
    "\n",
    "# Apply the string2embedding_idx function to create a new column\n",
    "tweets_train['CBOW_sequences'] = tweets_train['tokenized_text'].apply(lambda tokens: string2embedding_idx(tokens, cbow_model))\n",
    "tweets_train['SkipGram_sequences'] = tweets_train['tokenized_text'].apply(lambda tokens: string2embedding_idx(tokens, skipgram_model))\n",
    "tweets_test['CBOW_sequences'] = tweets_test['tokenized_text'].apply(lambda tokens: string2embedding_idx(tokens, cbow_model))\n",
    "tweets_test['SkipGram_sequences'] = tweets_test['tokenized_text'].apply(lambda tokens: string2embedding_idx(tokens, skipgram_model))"
   ]
  },
  {
   "cell_type": "code",
   "execution_count": 21,
   "metadata": {
    "ExecuteTime": {
     "end_time": "2023-12-21T15:34:36.442786700Z",
     "start_time": "2023-12-21T15:34:36.381065300Z"
    }
   },
   "outputs": [
    {
     "name": "stdout",
     "output_type": "stream",
     "text": [
      "Training data\n"
     ]
    },
    {
     "data": {
      "text/plain": "                                                text  target  \\\n0  Our Deeds are the Reason of this #earthquake M...       1   \n1             Forest fire near La Ronge Sask. Canada       1   \n2  All residents asked to 'shelter in place' are ...       1   \n3  13,000 people receive #wildfires evacuation or...       1   \n4  Just got sent this photo from Ruby #Alaska as ...       1   \n\n                                          clean_text  \\\n0               deed reason earthquake allah forgive   \n1              forest fire near la ronge sask canada   \n2  resident ask shelter place notify officer evac...   \n3    people receive wildfire evacuation order cal...   \n4  get send photo ruby alaska smoke wildfire pour...   \n\n                                      tokenized_text  \\\n0  [de, ed, reason, earthquake, allah, for, give,...   \n1  [forest, fire, near, la, ron, ge, s, ask, cana...   \n2  [resident, ask, shel, ter, place, not, ify, of...   \n3  [people, re, ce, ive, wildfire, evacuation, or...   \n4  [get, send, photo, ru, by, alaska, smoke, wild...   \n\n                                               TFIDF  \\\n0  [0.0, 0.0, 0.0, 0.0, 0.0, 0.0, 0.0, 0.0, 0.0, ...   \n1  [0.0, 0.0, 0.0, 0.0, 0.0, 0.0, 0.0, 0.0, 0.0, ...   \n2  [0.0, 0.0, 0.0, 0.0, 0.0, 0.0, 0.0, 0.0, 0.0, ...   \n3  [0.0, 0.0, 0.0, 0.0, 0.0, 0.0, 0.0, 0.0, 0.0, ...   \n4  [0.0, 0.0, 0.0, 0.0, 0.0, 0.0, 0.0, 0.0, 0.0, ...   \n\n                                      CBOW_sequences  \\\n0  [30, 63, 851, 428, 2384, 427, 452, 2899, 2899,...   \n1  [305, 16, 393, 74, 697, 129, 0, 623, 1615, 289...   \n2  [1803, 623, 1802, 105, 672, 223, 2503, 664, 43...   \n3  [56, 7, 113, 351, 238, 437, 449, 134, 2899, 28...   \n4  [53, 443, 264, 421, 654, 2446, 446, 238, 175, ...   \n\n                                  SkipGram_sequences  \n0  [30, 63, 851, 428, 2384, 427, 452, 2899, 2899,...  \n1  [305, 16, 393, 74, 697, 129, 0, 623, 1615, 289...  \n2  [1803, 623, 1802, 105, 672, 223, 2503, 664, 43...  \n3  [56, 7, 113, 351, 238, 437, 449, 134, 2899, 28...  \n4  [53, 443, 264, 421, 654, 2446, 446, 238, 175, ...  ",
      "text/html": "<div>\n<style scoped>\n    .dataframe tbody tr th:only-of-type {\n        vertical-align: middle;\n    }\n\n    .dataframe tbody tr th {\n        vertical-align: top;\n    }\n\n    .dataframe thead th {\n        text-align: right;\n    }\n</style>\n<table border=\"1\" class=\"dataframe\">\n  <thead>\n    <tr style=\"text-align: right;\">\n      <th></th>\n      <th>text</th>\n      <th>target</th>\n      <th>clean_text</th>\n      <th>tokenized_text</th>\n      <th>TFIDF</th>\n      <th>CBOW_sequences</th>\n      <th>SkipGram_sequences</th>\n    </tr>\n  </thead>\n  <tbody>\n    <tr>\n      <th>0</th>\n      <td>Our Deeds are the Reason of this #earthquake M...</td>\n      <td>1</td>\n      <td>deed reason earthquake allah forgive</td>\n      <td>[de, ed, reason, earthquake, allah, for, give,...</td>\n      <td>[0.0, 0.0, 0.0, 0.0, 0.0, 0.0, 0.0, 0.0, 0.0, ...</td>\n      <td>[30, 63, 851, 428, 2384, 427, 452, 2899, 2899,...</td>\n      <td>[30, 63, 851, 428, 2384, 427, 452, 2899, 2899,...</td>\n    </tr>\n    <tr>\n      <th>1</th>\n      <td>Forest fire near La Ronge Sask. Canada</td>\n      <td>1</td>\n      <td>forest fire near la ronge sask canada</td>\n      <td>[forest, fire, near, la, ron, ge, s, ask, cana...</td>\n      <td>[0.0, 0.0, 0.0, 0.0, 0.0, 0.0, 0.0, 0.0, 0.0, ...</td>\n      <td>[305, 16, 393, 74, 697, 129, 0, 623, 1615, 289...</td>\n      <td>[305, 16, 393, 74, 697, 129, 0, 623, 1615, 289...</td>\n    </tr>\n    <tr>\n      <th>2</th>\n      <td>All residents asked to 'shelter in place' are ...</td>\n      <td>1</td>\n      <td>resident ask shelter place notify officer evac...</td>\n      <td>[resident, ask, shel, ter, place, not, ify, of...</td>\n      <td>[0.0, 0.0, 0.0, 0.0, 0.0, 0.0, 0.0, 0.0, 0.0, ...</td>\n      <td>[1803, 623, 1802, 105, 672, 223, 2503, 664, 43...</td>\n      <td>[1803, 623, 1802, 105, 672, 223, 2503, 664, 43...</td>\n    </tr>\n    <tr>\n      <th>3</th>\n      <td>13,000 people receive #wildfires evacuation or...</td>\n      <td>1</td>\n      <td>people receive wildfire evacuation order cal...</td>\n      <td>[people, re, ce, ive, wildfire, evacuation, or...</td>\n      <td>[0.0, 0.0, 0.0, 0.0, 0.0, 0.0, 0.0, 0.0, 0.0, ...</td>\n      <td>[56, 7, 113, 351, 238, 437, 449, 134, 2899, 28...</td>\n      <td>[56, 7, 113, 351, 238, 437, 449, 134, 2899, 28...</td>\n    </tr>\n    <tr>\n      <th>4</th>\n      <td>Just got sent this photo from Ruby #Alaska as ...</td>\n      <td>1</td>\n      <td>get send photo ruby alaska smoke wildfire pour...</td>\n      <td>[get, send, photo, ru, by, alaska, smoke, wild...</td>\n      <td>[0.0, 0.0, 0.0, 0.0, 0.0, 0.0, 0.0, 0.0, 0.0, ...</td>\n      <td>[53, 443, 264, 421, 654, 2446, 446, 238, 175, ...</td>\n      <td>[53, 443, 264, 421, 654, 2446, 446, 238, 175, ...</td>\n    </tr>\n  </tbody>\n</table>\n</div>"
     },
     "metadata": {},
     "output_type": "display_data"
    },
    {
     "name": "stdout",
     "output_type": "stream",
     "text": [
      "\n",
      "Testing data\n"
     ]
    },
    {
     "data": {
      "text/plain": "                                                text  \\\n0                 Just happened a terrible car crash   \n1  Heard about #earthquake is different cities, s...   \n2  there is a forest fire at spot pond, geese are...   \n3           Apocalypse lighting. #Spokane #wildfires   \n4      Typhoon Soudelor kills 28 in China and Taiwan   \n\n                                     clean_text  \\\n0                     happen terrible car crash   \n1      hear earthquake different city stay safe   \n2  forest fire spot pond goose flee street save   \n3          apocalypse lighting spokane wildfire   \n4            typhoon soudelor kill china taiwan   \n\n                                      tokenized_text  \\\n0  [happen, ter, rible, car, crash, <pad>, <pad>,...   \n1  [hear, earthquake, different, city, stay, safe...   \n2  [forest, fire, spot, p, ond, go, ose, fle, e, ...   \n3  [apocalypse, light, ing, spo, k, ane, wildfire...   \n4  [typhoon, soudelor, kill, china, taiwan, <pad>...   \n\n                                               TFIDF  \\\n0  [0.0, 0.0, 0.0, 0.0, 0.0, 0.0, 0.0, 0.0, 0.0, ...   \n1  [0.0, 0.0, 0.0, 0.0, 0.0, 0.0, 0.0, 0.0, 0.0, ...   \n2  [0.0, 0.0, 0.0, 0.0, 0.0, 0.0, 0.0, 0.0, 0.0, ...   \n3  [0.0, 0.0, 0.0, 0.0, 0.0, 0.0, 0.0, 0.0, 0.0, ...   \n4  [0.0, 0.0, 0.0, 0.0, 0.0, 0.0, 0.0, 0.0, 0.0, ...   \n\n                                      CBOW_sequences  \\\n0  [410, 105, 2551, 76, 75, 2899, 2899, 2899, 289...   \n1  [257, 428, 1705, 240, 740, 1198, 2899, 2899, 2...   \n2  [305, 16, 962, 14, 1481, 29, 2839, 1163, 8, 75...   \n3  [716, 295, 19, 1527, 21, 752, 238, 2899, 2899,...   \n4  [389, 1003, 64, 561, 1758, 2899, 2899, 2899, 2...   \n\n                                  SkipGram_sequences  \n0  [410, 105, 2551, 76, 75, 2899, 2899, 2899, 289...  \n1  [257, 428, 1705, 240, 740, 1198, 2899, 2899, 2...  \n2  [305, 16, 962, 14, 1481, 29, 2839, 1163, 8, 75...  \n3  [716, 295, 19, 1527, 21, 752, 238, 2899, 2899,...  \n4  [389, 1003, 64, 561, 1758, 2899, 2899, 2899, 2...  ",
      "text/html": "<div>\n<style scoped>\n    .dataframe tbody tr th:only-of-type {\n        vertical-align: middle;\n    }\n\n    .dataframe tbody tr th {\n        vertical-align: top;\n    }\n\n    .dataframe thead th {\n        text-align: right;\n    }\n</style>\n<table border=\"1\" class=\"dataframe\">\n  <thead>\n    <tr style=\"text-align: right;\">\n      <th></th>\n      <th>text</th>\n      <th>clean_text</th>\n      <th>tokenized_text</th>\n      <th>TFIDF</th>\n      <th>CBOW_sequences</th>\n      <th>SkipGram_sequences</th>\n    </tr>\n  </thead>\n  <tbody>\n    <tr>\n      <th>0</th>\n      <td>Just happened a terrible car crash</td>\n      <td>happen terrible car crash</td>\n      <td>[happen, ter, rible, car, crash, &lt;pad&gt;, &lt;pad&gt;,...</td>\n      <td>[0.0, 0.0, 0.0, 0.0, 0.0, 0.0, 0.0, 0.0, 0.0, ...</td>\n      <td>[410, 105, 2551, 76, 75, 2899, 2899, 2899, 289...</td>\n      <td>[410, 105, 2551, 76, 75, 2899, 2899, 2899, 289...</td>\n    </tr>\n    <tr>\n      <th>1</th>\n      <td>Heard about #earthquake is different cities, s...</td>\n      <td>hear earthquake different city stay safe</td>\n      <td>[hear, earthquake, different, city, stay, safe...</td>\n      <td>[0.0, 0.0, 0.0, 0.0, 0.0, 0.0, 0.0, 0.0, 0.0, ...</td>\n      <td>[257, 428, 1705, 240, 740, 1198, 2899, 2899, 2...</td>\n      <td>[257, 428, 1705, 240, 740, 1198, 2899, 2899, 2...</td>\n    </tr>\n    <tr>\n      <th>2</th>\n      <td>there is a forest fire at spot pond, geese are...</td>\n      <td>forest fire spot pond goose flee street save</td>\n      <td>[forest, fire, spot, p, ond, go, ose, fle, e, ...</td>\n      <td>[0.0, 0.0, 0.0, 0.0, 0.0, 0.0, 0.0, 0.0, 0.0, ...</td>\n      <td>[305, 16, 962, 14, 1481, 29, 2839, 1163, 8, 75...</td>\n      <td>[305, 16, 962, 14, 1481, 29, 2839, 1163, 8, 75...</td>\n    </tr>\n    <tr>\n      <th>3</th>\n      <td>Apocalypse lighting. #Spokane #wildfires</td>\n      <td>apocalypse lighting spokane wildfire</td>\n      <td>[apocalypse, light, ing, spo, k, ane, wildfire...</td>\n      <td>[0.0, 0.0, 0.0, 0.0, 0.0, 0.0, 0.0, 0.0, 0.0, ...</td>\n      <td>[716, 295, 19, 1527, 21, 752, 238, 2899, 2899,...</td>\n      <td>[716, 295, 19, 1527, 21, 752, 238, 2899, 2899,...</td>\n    </tr>\n    <tr>\n      <th>4</th>\n      <td>Typhoon Soudelor kills 28 in China and Taiwan</td>\n      <td>typhoon soudelor kill china taiwan</td>\n      <td>[typhoon, soudelor, kill, china, taiwan, &lt;pad&gt;...</td>\n      <td>[0.0, 0.0, 0.0, 0.0, 0.0, 0.0, 0.0, 0.0, 0.0, ...</td>\n      <td>[389, 1003, 64, 561, 1758, 2899, 2899, 2899, 2...</td>\n      <td>[389, 1003, 64, 561, 1758, 2899, 2899, 2899, 2...</td>\n    </tr>\n  </tbody>\n</table>\n</div>"
     },
     "metadata": {},
     "output_type": "display_data"
    }
   ],
   "source": [
    "print('Training data')\n",
    "display(tweets_train.head())\n",
    "print()\n",
    "print('Testing data')\n",
    "display(tweets_test.head())"
   ]
  },
  {
   "cell_type": "code",
   "execution_count": 22,
   "metadata": {
    "ExecuteTime": {
     "end_time": "2023-12-21T15:34:38.609225400Z",
     "start_time": "2023-12-21T15:34:37.441115300Z"
    }
   },
   "outputs": [
    {
     "name": "stderr",
     "output_type": "stream",
     "text": [
      "C:\\Python\\Lib\\site-packages\\gensim\\models\\keyedvectors.py:849: RuntimeWarning: invalid value encountered in divide\n",
      "  dists = dot(self.vectors[clip_start:clip_end], mean) / self.norms[clip_start:clip_end]\n",
      "C:\\Python\\Lib\\site-packages\\sklearn\\manifold\\_t_sne.py:800: FutureWarning: The default initialization in TSNE will change from 'random' to 'pca' in 1.2.\n",
      "  warnings.warn(\n",
      "C:\\Python\\Lib\\site-packages\\sklearn\\manifold\\_t_sne.py:810: FutureWarning: The default learning rate in TSNE will change from 200.0 to 'auto' in 1.2.\n",
      "  warnings.warn(\n"
     ]
    },
    {
     "data": {
      "text/plain": "<Figure size 640x480 with 1 Axes>",
      "image/png": "[encoded data removed]"
     },
     "metadata": {},
     "output_type": "display_data"
    }
   ],
   "source": [
    "display_closestwords_tsnescatterplot(cbow_model, 'earthquake', 128)"
   ]
  },
  {
   "cell_type": "code",
   "execution_count": 23,
   "metadata": {
    "ExecuteTime": {
     "end_time": "2023-12-21T15:34:39.868591200Z",
     "start_time": "2023-12-21T15:34:39.426708900Z"
    }
   },
   "outputs": [
    {
     "name": "stderr",
     "output_type": "stream",
     "text": [
      "C:\\Python\\Lib\\site-packages\\gensim\\models\\keyedvectors.py:849: RuntimeWarning: invalid value encountered in divide\n",
      "  dists = dot(self.vectors[clip_start:clip_end], mean) / self.norms[clip_start:clip_end]\n",
      "C:\\Python\\Lib\\site-packages\\sklearn\\manifold\\_t_sne.py:800: FutureWarning: The default initialization in TSNE will change from 'random' to 'pca' in 1.2.\n",
      "  warnings.warn(\n",
      "C:\\Python\\Lib\\site-packages\\sklearn\\manifold\\_t_sne.py:810: FutureWarning: The default learning rate in TSNE will change from 200.0 to 'auto' in 1.2.\n",
      "  warnings.warn(\n"
     ]
    },
    {
     "data": {
      "text/plain": "<Figure size 640x480 with 1 Axes>",
      "image/png": "[encoded data removed]"
     },
     "metadata": {},
     "output_type": "display_data"
    }
   ],
   "source": [
    "display_closestwords_tsnescatterplot(skipgram_model, 'earthquake', 128)"
   ]
  },
  {
   "cell_type": "code",
   "execution_count": 24,
   "metadata": {
    "ExecuteTime": {
     "end_time": "2023-12-21T15:34:40.997210400Z",
     "start_time": "2023-12-21T15:34:40.562299400Z"
    }
   },
   "outputs": [
    {
     "name": "stderr",
     "output_type": "stream",
     "text": [
      "C:\\Python\\Lib\\site-packages\\gensim\\models\\keyedvectors.py:849: RuntimeWarning: invalid value encountered in divide\n",
      "  dists = dot(self.vectors[clip_start:clip_end], mean) / self.norms[clip_start:clip_end]\n",
      "C:\\Python\\Lib\\site-packages\\sklearn\\manifold\\_t_sne.py:800: FutureWarning: The default initialization in TSNE will change from 'random' to 'pca' in 1.2.\n",
      "  warnings.warn(\n",
      "C:\\Python\\Lib\\site-packages\\sklearn\\manifold\\_t_sne.py:810: FutureWarning: The default learning rate in TSNE will change from 200.0 to 'auto' in 1.2.\n",
      "  warnings.warn(\n"
     ]
    },
    {
     "data": {
      "text/plain": "<Figure size 640x480 with 1 Axes>",
      "image/png": "[encoded data removed]"
     },
     "metadata": {},
     "output_type": "display_data"
    }
   ],
   "source": [
    "display_closestwords_tsnescatterplot(cbow_model, 'disaster', 128)"
   ]
  },
  {
   "cell_type": "code",
   "execution_count": 25,
   "metadata": {
    "ExecuteTime": {
     "end_time": "2023-12-21T15:34:42.087371100Z",
     "start_time": "2023-12-21T15:34:41.642630900Z"
    }
   },
   "outputs": [
    {
     "name": "stderr",
     "output_type": "stream",
     "text": [
      "C:\\Python\\Lib\\site-packages\\gensim\\models\\keyedvectors.py:849: RuntimeWarning: invalid value encountered in divide\n",
      "  dists = dot(self.vectors[clip_start:clip_end], mean) / self.norms[clip_start:clip_end]\n",
      "C:\\Python\\Lib\\site-packages\\sklearn\\manifold\\_t_sne.py:800: FutureWarning: The default initialization in TSNE will change from 'random' to 'pca' in 1.2.\n",
      "  warnings.warn(\n",
      "C:\\Python\\Lib\\site-packages\\sklearn\\manifold\\_t_sne.py:810: FutureWarning: The default learning rate in TSNE will change from 200.0 to 'auto' in 1.2.\n",
      "  warnings.warn(\n"
     ]
    },
    {
     "data": {
      "text/plain": "<Figure size 640x480 with 1 Axes>",
      "image/png": "[encoded data removed]"
     },
     "metadata": {},
     "output_type": "display_data"
    }
   ],
   "source": [
    "display_closestwords_tsnescatterplot(skipgram_model, 'disaster', 128)"
   ]
  },
  {
   "cell_type": "markdown",
   "metadata": {},
   "source": [
    "# Loading and Testing our Pre-Trained Embeddings to the PyTorch's Embedding layer"
   ]
  },
  {
   "cell_type": "code",
   "execution_count": 26,
   "metadata": {
    "ExecuteTime": {
     "end_time": "2023-12-21T15:34:46.149953400Z",
     "start_time": "2023-12-21T15:34:46.078377300Z"
    }
   },
   "outputs": [
    {
     "data": {
      "text/plain": "Parameter containing:\ntensor([[-0.0643, -0.0520,  0.2741,  ...,  0.0161,  0.1478,  0.1156],\n        [-0.1192,  0.1601,  0.1220,  ..., -0.0448, -0.2011,  0.0639],\n        [-0.1157,  0.0116,  0.0509,  ...,  0.0408,  0.0697, -0.0173],\n        ...,\n        [-0.0884,  0.0061,  0.0984,  ..., -0.0584, -0.5632, -0.2600],\n        [ 0.8473, -0.1547,  0.3620,  ...,  0.1945, -0.2000, -0.6808],\n        [ 0.0000,  0.0000,  0.0000,  ...,  0.0000,  0.0000,  0.0000]])"
     },
     "execution_count": 26,
     "metadata": {},
     "output_type": "execute_result"
    }
   ],
   "source": [
    "# create embedding layer with pre-trained weights\n",
    "pretrained_embeddings_layer = torch.nn.Embedding.from_pretrained(torch.FloatTensor(skipgram_model.wv.vectors))\n",
    "# check weights of the pre-trained embedding layer\n",
    "pretrained_embeddings_layer.weight"
   ]
  },
  {
   "cell_type": "code",
   "execution_count": 27,
   "metadata": {
    "ExecuteTime": {
     "end_time": "2023-12-21T15:34:46.893954100Z",
     "start_time": "2023-12-21T15:34:46.867690500Z"
    }
   },
   "outputs": [
    {
     "data": {
      "text/plain": "(tensor([  30,   63,  851,  428, 2384,  427,  452, 2899, 2899, 2899, 2899, 2899,\n         2899, 2899, 2899, 2899, 2899, 2899, 2899, 2899, 2899, 2899, 2899, 2899,\n         2899, 2899, 2899, 2899, 2899, 2899, 2899, 2899, 2899, 2899, 2899, 2899,\n         2899, 2899, 2899, 2899, 2899, 2899, 2899, 2899, 2899, 2899, 2899, 2899,\n         2899, 2899]),\n tensor([1.]))"
     },
     "execution_count": 27,
     "metadata": {},
     "output_type": "execute_result"
    }
   ],
   "source": [
    "TrainTweetsDataset = TweetsDataset(tweets_train, 'skipgram')\n",
    "TrainTweetsDataset[0]"
   ]
  },
  {
   "cell_type": "code",
   "execution_count": 28,
   "metadata": {
    "ExecuteTime": {
     "end_time": "2023-12-21T15:34:48.356003700Z",
     "start_time": "2023-12-21T15:34:48.329539400Z"
    }
   },
   "outputs": [
    {
     "name": "stdout",
     "output_type": "stream",
     "text": [
      "Embedding of the first token:          tensor([ 0.0882, -0.1361,  0.0621,  0.0188, -0.0972, -0.3348,  0.1839,  0.1964,\n",
      "         0.1659, -0.0793,  0.0061, -0.0316, -0.2476, -0.1907,  0.2314, -0.2982,\n",
      "        -0.0546,  0.1759,  0.0745,  0.0420,  0.0550, -0.1374,  0.1000, -0.3223,\n",
      "        -0.5397,  0.0896, -0.1162,  0.2337, -0.0336,  0.0157, -0.1123, -0.0587,\n",
      "         0.1849, -0.0983, -0.1424,  0.3808,  0.0829,  0.0096,  0.2086,  0.3936,\n",
      "        -0.2828, -0.1338,  0.0610,  0.0387,  0.0720,  0.1663, -0.0387,  0.0746,\n",
      "         0.4052,  0.0401, -0.2063, -0.5180, -0.0119,  0.1146,  0.0905,  0.0381,\n",
      "         0.1907, -0.2588, -0.1322,  0.0958, -0.1001,  0.1958,  0.0394, -0.2068,\n",
      "        -0.0956, -0.1705, -0.3553, -0.2659,  0.1952, -0.0638,  0.2126, -0.0596,\n",
      "         0.0058, -0.3163,  0.2782, -0.1743,  0.1369, -0.0873, -0.0676,  0.0264,\n",
      "         0.2445,  0.0800,  0.1655,  0.0779, -0.1701,  0.1779, -0.1851, -0.1835,\n",
      "        -0.2359,  0.1180, -0.0275,  0.0312, -0.1685,  0.2445,  0.1246, -0.0583,\n",
      "        -0.3065, -0.0984,  0.1526, -0.2665, -0.4306, -0.0109, -0.0558,  0.2344,\n",
      "        -0.0790,  0.0457,  0.1050, -0.0122,  0.1736, -0.0450,  0.0671, -0.0957,\n",
      "        -0.1461,  0.0929,  0.0856,  0.0628,  0.0315, -0.2336,  0.1402, -0.2192,\n",
      "        -0.1733, -0.2281, -0.1918,  0.2826,  0.1250, -0.0715, -0.2503, -0.2737])\n",
      "Embedding of the second token:         tensor([ 0.0515, -0.3712,  0.0570,  0.1084,  0.0705,  0.0127,  0.1346,  0.0204,\n",
      "         0.0175, -0.1390, -0.0697,  0.0143,  0.1614,  0.1151,  0.1448, -0.0763,\n",
      "         0.0706, -0.1123, -0.2348, -0.2156,  0.0325, -0.0207,  0.1357, -0.0349,\n",
      "        -0.3210,  0.1955, -0.1565,  0.3794,  0.2445, -0.0664, -0.3231,  0.0167,\n",
      "        -0.0326, -0.0569, -0.4007, -0.0941, -0.2810,  0.0243, -0.1722,  0.1897,\n",
      "         0.1197, -0.0038, -0.4311, -0.0952,  0.1678,  0.2168,  0.0195,  0.0223,\n",
      "         0.1692, -0.1854,  0.5597,  0.0262, -0.1204, -0.0669, -0.1716,  0.1085,\n",
      "        -0.2936, -0.0116, -0.1518,  0.1191, -0.1826, -0.0091,  0.3962, -0.0292,\n",
      "         0.3185, -0.1365,  0.3864,  0.0535, -0.2743, -0.1226,  0.1780,  0.2195,\n",
      "         0.0637, -0.5603,  0.6112, -0.2136, -0.2154,  0.0537,  0.4368,  0.0634,\n",
      "        -0.0250,  0.0188,  0.3157,  0.0593, -0.1049,  0.5224,  0.2532, -0.1611,\n",
      "         0.2390,  0.1142, -0.2991, -0.3498,  0.0868,  0.5703,  0.0747, -0.4130,\n",
      "        -0.0697, -0.0513, -0.2262, -0.0672, -0.4528,  0.1523, -0.4810,  0.3916,\n",
      "        -0.1482, -0.2376,  0.0189,  0.1509,  0.3995, -0.0571, -0.2159, -0.0699,\n",
      "         0.1138,  0.0863, -0.4174, -0.2014,  0.1781, -0.1580, -0.0863,  0.1706,\n",
      "         0.2154, -0.3713, -0.1795,  0.1220,  0.1830, -0.3229, -0.1309, -0.3443])\n",
      "Embedding of the third token:          tensor([ 0.0571, -0.4849,  1.0969,  0.8746, -0.4899,  0.9141,  0.2389,  0.3209,\n",
      "         0.4598,  0.2609,  0.5194,  0.2323,  0.4538, -0.4992, -0.3106,  0.2072,\n",
      "        -0.1846,  0.7382, -0.6510, -0.0141,  0.2616,  1.1017,  0.0060, -0.1433,\n",
      "        -0.5324,  0.2240,  0.3656, -0.3311, -0.9425, -0.1300, -0.4099, -0.4559,\n",
      "         0.9572, -0.3841, -0.5788,  0.4339,  0.2742,  0.4275, -0.5232, -0.2489,\n",
      "        -0.4823, -0.2284, -0.6706, -0.0377,  0.0666,  0.8542,  0.3196, -0.4840,\n",
      "        -0.5565,  0.1590,  0.7671,  0.3420, -0.4545,  0.7750, -0.5647,  0.1680,\n",
      "         0.8454, -0.0903,  0.1449, -0.0666, -0.3044,  0.5677,  0.2939, -1.2015,\n",
      "         0.0658, -0.4028, -0.0073, -0.1577, -0.5054, -0.3615, -0.7484,  0.0235,\n",
      "         0.0748,  0.9124,  0.2597, -0.5473,  1.3375, -0.2076, -0.0945, -0.1082,\n",
      "         0.5147,  0.4255,  0.3224, -0.8618,  1.4973,  0.4572,  0.4191,  0.2618,\n",
      "        -0.6205,  0.0033, -0.0077, -0.3737,  0.2720,  0.2536,  0.4244, -0.7124,\n",
      "         0.0323, -1.0356,  0.1752, -0.0307, -0.2985,  0.4893, -0.9266, -0.0893,\n",
      "        -0.2556,  0.0764, -0.1701,  1.3476,  0.4525,  0.3576,  1.0394, -0.5896,\n",
      "         0.1347,  0.3644,  0.5189, -0.2036, -0.2584, -0.0038,  0.4278, -0.1777,\n",
      "         0.0174,  0.2756,  0.0650, -0.6600, -0.2349,  0.7682, -0.4714,  0.5801])\n",
      "Embedding of the fourth token:         tensor([ 0.8483,  0.2939, -0.0322,  1.0645, -0.5708,  0.9456, -0.1089,  0.2785,\n",
      "         0.7930, -0.0769, -0.6850, -0.2078,  0.1807, -0.6040,  0.1941,  0.7286,\n",
      "        -0.9066,  0.3994, -0.7831,  0.4338,  0.4330, -0.0302, -0.4228, -0.9476,\n",
      "         0.2569, -0.0625, -0.7788, -0.1824, -0.0301, -0.5912,  0.2623, -0.5544,\n",
      "         0.1638, -0.4966, -0.0833,  0.6128,  0.2188, -0.4956, -0.0430,  0.5865,\n",
      "         0.0364, -0.4415,  0.2116,  0.1748,  0.7874,  0.2568, -0.0544, -0.0206,\n",
      "        -0.7826,  1.0294, -0.2242,  0.0399,  0.2619, -0.0086, -0.0835, -0.5720,\n",
      "         0.6729, -0.3852, -1.0296, -0.3361, -0.1203, -0.1624, -0.0194, -0.1651,\n",
      "         1.3862, -0.2118,  0.5961,  0.2164, -0.7669, -0.1478,  0.0551, -0.3412,\n",
      "        -0.3136, -0.1059,  0.5926, -0.4349, -0.4305, -1.1693,  0.2085, -0.0093,\n",
      "         0.0019, -0.6138,  0.2055, -0.0500,  0.0228,  0.4643, -0.1070,  0.1851,\n",
      "        -0.3657, -0.5879, -0.4238,  0.6849,  0.4693,  0.4452,  0.1205, -0.4575,\n",
      "        -0.4160,  0.3066, -0.5190,  0.6990,  0.2400, -0.5736,  0.9114,  0.0527,\n",
      "        -0.2800, -0.7459, -0.4311,  0.6520,  0.5446, -0.6199,  0.4841,  0.6352,\n",
      "         0.6823,  0.5752,  1.6832, -0.2631, -1.1089, -0.1642, -0.0772,  0.0596,\n",
      "        -0.0688, -0.9436, -0.6429,  0.2703, -0.3878,  0.4839, -0.7426, -0.1836])\n",
      "Embedding of the fifth token:          tensor([ 7.6552e-01,  5.6991e-01,  5.2999e-01,  1.2569e+00, -2.4034e-01,\n",
      "        -1.0606e+00, -3.2439e-01,  7.1107e-01, -5.1135e-01, -2.8982e-01,\n",
      "         4.3851e-01, -7.5978e-02, -4.1799e-01, -2.3314e-01,  3.1208e-01,\n",
      "         3.7385e-01, -3.3543e-01,  6.6992e-01, -1.5824e+00,  7.6154e-01,\n",
      "         1.0642e+00,  9.1001e-02, -9.4060e-01, -1.0848e+00, -3.4963e-01,\n",
      "         8.9350e-01, -8.8271e-01, -4.4544e-02, -2.1755e-01, -3.0958e-01,\n",
      "        -8.0293e-01, -1.2929e+00,  1.5953e-01,  1.7581e-01,  5.6614e-01,\n",
      "        -2.0412e-01, -5.4107e-01, -1.1192e+00, -1.4984e-01, -1.7995e-01,\n",
      "        -9.0102e-01, -7.1429e-02, -3.3488e-01,  5.2110e-02,  8.3674e-03,\n",
      "         6.4501e-01,  1.7362e-01,  1.7247e-01, -5.7671e-01,  8.8183e-01,\n",
      "         1.5212e-02, -4.2776e-01, -1.3731e+00, -1.5093e-02, -1.4310e+00,\n",
      "         1.3540e-01,  2.5236e-01, -4.9075e-01,  7.5730e-02,  1.9561e-01,\n",
      "        -6.5730e-01,  6.8173e-01,  4.6451e-01,  2.4407e-01, -1.0457e+00,\n",
      "         3.7662e-02,  2.8269e-01,  4.8080e-01,  4.1545e-01, -1.3113e+00,\n",
      "         7.8396e-02,  3.9034e-01, -7.4310e-01, -1.4878e-01,  1.2748e+00,\n",
      "        -7.2436e-01,  1.8768e-01, -5.9747e-01, -7.1457e-01, -4.0980e-01,\n",
      "         1.1492e+00,  1.1066e-01,  6.1336e-01, -3.3260e-01,  5.4650e-02,\n",
      "         6.3680e-01,  5.6363e-01,  8.4102e-05, -5.4469e-01, -2.9271e-01,\n",
      "         4.4221e-01,  5.3343e-01,  9.4201e-01,  3.5528e-01,  2.8399e-01,\n",
      "        -2.5129e-01,  3.7602e-01, -8.5953e-01, -2.0142e-01,  5.6311e-02,\n",
      "        -5.6540e-01,  1.2442e-01,  6.3962e-01,  7.8279e-01, -1.1593e+00,\n",
      "         8.1079e-01,  5.9886e-01,  6.4719e-01,  5.3443e-01,  8.4717e-01,\n",
      "         2.9492e-01, -7.6697e-02,  5.3179e-01,  1.0381e+00, -6.2498e-01,\n",
      "         2.3581e-01, -2.3673e-01,  5.7643e-01, -1.2505e-01, -1.2079e+00,\n",
      "         1.0556e+00, -8.4483e-01, -4.2976e-01,  2.5032e-01, -3.2507e-01,\n",
      "        -3.0123e-01,  6.0388e-01, -4.7999e-01])\n",
      "Embedding of the sixth token:          tensor([ 4.0383e-02, -2.9301e-01,  9.1889e-02,  5.1396e-01,  4.8369e-01,\n",
      "         4.5056e-01,  1.3367e-01,  8.4211e-01,  7.7544e-02, -1.6321e-01,\n",
      "         4.9461e-02,  2.5471e-01,  4.1690e-01, -9.1249e-01, -3.3445e-01,\n",
      "        -4.5764e-01,  5.7588e-02,  3.4431e-01, -1.0287e+00, -1.0911e-01,\n",
      "         3.2524e-01,  1.3446e-01, -4.3059e-02,  2.5327e-02, -8.0580e-01,\n",
      "        -6.8754e-03, -6.6752e-01,  1.2101e-01, -2.3902e-01, -2.5547e-01,\n",
      "         1.1467e-04, -1.7959e-01, -5.4501e-02,  6.0089e-02,  1.0305e+00,\n",
      "         6.6778e-01,  7.6492e-01,  8.6026e-02, -3.7275e-01,  3.7959e-01,\n",
      "         5.6481e-01, -2.5676e-01, -7.1305e-01,  3.7074e-01,  4.8303e-01,\n",
      "        -2.2958e-01, -5.2519e-01,  2.6344e-02,  2.3314e-01,  6.0510e-01,\n",
      "         3.7761e-01, -2.0033e-01, -4.4696e-02,  2.0864e-01, -3.4049e-01,\n",
      "        -4.4475e-01, -3.8834e-01, -5.2281e-02, -3.1912e-01,  1.7655e-01,\n",
      "        -1.8909e-01,  5.9939e-02, -1.0220e-01, -3.3660e-01, -2.8153e-01,\n",
      "         3.4565e-01,  2.7342e-01, -1.8999e-02, -2.6211e-01, -5.7679e-02,\n",
      "        -4.3720e-01, -2.2136e-01, -8.2732e-01,  1.1030e-01,  1.4203e-01,\n",
      "         1.6754e-01, -1.2135e-01,  1.8251e-01,  2.4644e-01, -8.3135e-02,\n",
      "         4.9260e-01, -4.6525e-01, -3.5300e-01,  7.8915e-02,  3.1443e-01,\n",
      "         6.3465e-02,  1.6296e-01,  2.2223e-01,  2.4818e-01, -2.5939e-01,\n",
      "         4.0704e-01, -1.1003e-03,  9.3379e-01, -3.4313e-01,  1.0903e-01,\n",
      "        -5.6930e-01, -7.4251e-02, -1.8981e-01, -2.1166e-01, -9.3443e-02,\n",
      "        -9.4285e-02, -6.6852e-01,  1.9115e-01, -7.2135e-01,  2.2251e-01,\n",
      "         2.3348e-01,  3.5644e-02,  2.1271e-01,  3.0870e-01, -1.3575e-01,\n",
      "         8.7451e-02,  3.9422e-01,  4.3141e-01,  1.6785e-01,  3.7638e-01,\n",
      "        -3.9862e-01,  2.6598e-01, -8.9977e-01,  4.3446e-01,  3.3451e-02,\n",
      "         2.6892e-01, -2.5325e-01, -2.2681e-01,  5.7551e-01, -7.7062e-01,\n",
      "        -3.8578e-02, -4.0634e-01, -9.5532e-02])\n",
      "Embedding of the twenty-fifth token:   tensor([0., 0., 0., 0., 0., 0., 0., 0., 0., 0., 0., 0., 0., 0., 0., 0., 0., 0., 0., 0., 0., 0., 0., 0.,\n",
      "        0., 0., 0., 0., 0., 0., 0., 0., 0., 0., 0., 0., 0., 0., 0., 0., 0., 0., 0., 0., 0., 0., 0., 0.,\n",
      "        0., 0., 0., 0., 0., 0., 0., 0., 0., 0., 0., 0., 0., 0., 0., 0., 0., 0., 0., 0., 0., 0., 0., 0.,\n",
      "        0., 0., 0., 0., 0., 0., 0., 0., 0., 0., 0., 0., 0., 0., 0., 0., 0., 0., 0., 0., 0., 0., 0., 0.,\n",
      "        0., 0., 0., 0., 0., 0., 0., 0., 0., 0., 0., 0., 0., 0., 0., 0., 0., 0., 0., 0., 0., 0., 0., 0.,\n",
      "        0., 0., 0., 0., 0., 0., 0., 0.])\n",
      "Embedding of the fortieth token:       tensor([0., 0., 0., 0., 0., 0., 0., 0., 0., 0., 0., 0., 0., 0., 0., 0., 0., 0., 0., 0., 0., 0., 0., 0.,\n",
      "        0., 0., 0., 0., 0., 0., 0., 0., 0., 0., 0., 0., 0., 0., 0., 0., 0., 0., 0., 0., 0., 0., 0., 0.,\n",
      "        0., 0., 0., 0., 0., 0., 0., 0., 0., 0., 0., 0., 0., 0., 0., 0., 0., 0., 0., 0., 0., 0., 0., 0.,\n",
      "        0., 0., 0., 0., 0., 0., 0., 0., 0., 0., 0., 0., 0., 0., 0., 0., 0., 0., 0., 0., 0., 0., 0., 0.,\n",
      "        0., 0., 0., 0., 0., 0., 0., 0., 0., 0., 0., 0., 0., 0., 0., 0., 0., 0., 0., 0., 0., 0., 0., 0.,\n",
      "        0., 0., 0., 0., 0., 0., 0., 0.])\n",
      "Embedding of the fiftieth token:       tensor([0., 0., 0., 0., 0., 0., 0., 0., 0., 0., 0., 0., 0., 0., 0., 0., 0., 0., 0., 0., 0., 0., 0., 0.,\n",
      "        0., 0., 0., 0., 0., 0., 0., 0., 0., 0., 0., 0., 0., 0., 0., 0., 0., 0., 0., 0., 0., 0., 0., 0.,\n",
      "        0., 0., 0., 0., 0., 0., 0., 0., 0., 0., 0., 0., 0., 0., 0., 0., 0., 0., 0., 0., 0., 0., 0., 0.,\n",
      "        0., 0., 0., 0., 0., 0., 0., 0., 0., 0., 0., 0., 0., 0., 0., 0., 0., 0., 0., 0., 0., 0., 0., 0.,\n",
      "        0., 0., 0., 0., 0., 0., 0., 0., 0., 0., 0., 0., 0., 0., 0., 0., 0., 0., 0., 0., 0., 0., 0., 0.,\n",
      "        0., 0., 0., 0., 0., 0., 0., 0.])\n"
     ]
    }
   ],
   "source": [
    "sequence = TrainTweetsDataset[0][0]\n",
    "sequence_embeddings = pretrained_embeddings_layer(sequence)\n",
    "\n",
    "print('Embedding of the first token:          {}'.format(sequence_embeddings[0]))\n",
    "print('Embedding of the second token:         {}'.format(sequence_embeddings[1]))\n",
    "print('Embedding of the third token:          {}'.format(sequence_embeddings[2]))\n",
    "print('Embedding of the fourth token:         {}'.format(sequence_embeddings[3]))\n",
    "print('Embedding of the fifth token:          {}'.format(sequence_embeddings[4]))\n",
    "print('Embedding of the sixth token:          {}'.format(sequence_embeddings[5]))\n",
    "print('Embedding of the twenty-fifth token:   {}'.format(sequence_embeddings[24]))\n",
    "print('Embedding of the fortieth token:       {}'.format(sequence_embeddings[39]))\n",
    "print('Embedding of the fiftieth token:       {}'.format(sequence_embeddings[49]))"
   ]
  },
  {
   "cell_type": "markdown",
   "metadata": {},
   "source": [
    "# Training LSTM Network with Custom Pre-trained Word2Vec Embeddings"
   ]
  },
  {
   "cell_type": "code",
   "execution_count": 29,
   "metadata": {
    "ExecuteTime": {
     "end_time": "2023-12-21T15:34:50.418593600Z",
     "start_time": "2023-12-21T15:34:50.412589100Z"
    }
   },
   "outputs": [],
   "source": [
    "TrainTweetsDataset = TweetsDataset(tweets_train, 'skipgram')"
   ]
  },
  {
   "cell_type": "code",
   "execution_count": 30,
   "metadata": {
    "ExecuteTime": {
     "end_time": "2023-12-21T15:34:52.361268400Z",
     "start_time": "2023-12-21T15:34:52.336509800Z"
    }
   },
   "outputs": [],
   "source": [
    "# Create a dataloade for the training dataset\n",
    "TrainDataLoader = torch.utils.data.DataLoader(dataset = TrainTweetsDataset, batch_size = 256, shuffle = True)"
   ]
  },
  {
   "cell_type": "code",
   "execution_count": 31,
   "metadata": {
    "ExecuteTime": {
     "end_time": "2023-12-21T15:34:57.460411900Z",
     "start_time": "2023-12-21T15:34:56.210618200Z"
    }
   },
   "outputs": [
    {
     "name": "stdout",
     "output_type": "stream",
     "text": [
      "Device: cpu\n"
     ]
    }
   ],
   "source": [
    "# Initialize the network, loss function, and optimizer\n",
    "device = set_device()\n",
    "customPreTrainedLSTM = CustomLSTM(word2vec_model = cbow_model, \n",
    "                                  hidden_size = 128, \n",
    "                                  output_size = 1, \n",
    "                                  num_layers = 1, \n",
    "                                  bidirectional = True,\n",
    "                                  freeze_embeddings = True).to(device)\n",
    "\n",
    "criterion = torch.nn.BCEWithLogitsLoss()\n",
    "optimizer = torch.optim.Adam(customPreTrainedLSTM.parameters(), lr = 0.001)"
   ]
  },
  {
   "cell_type": "code",
   "execution_count": 32,
   "metadata": {
    "ExecuteTime": {
     "end_time": "2023-12-21T15:36:00.225487Z",
     "start_time": "2023-12-21T15:34:58.398494500Z"
    }
   },
   "outputs": [
    {
     "name": "stdout",
     "output_type": "stream",
     "text": [
      "Epoch 1/8\n",
      "======== Training phase ========\n"
     ]
    },
    {
     "name": "stderr",
     "output_type": "stream",
     "text": [
      "Loss = 0.6815  |  Accuracy = 57.03% | Batch ID = 30 : 100%|██████████| 30/30 [00:07<00:00,  4.07it/s]\n"
     ]
    },
    {
     "name": "stdout",
     "output_type": "stream",
     "text": [
      "Training Cross-Entropy Loss = 0.6843\n",
      "Training Accuracy = 57.03%\n",
      "Epoch 2/8\n",
      "======== Training phase ========\n"
     ]
    },
    {
     "name": "stderr",
     "output_type": "stream",
     "text": [
      "Loss = 0.6789  |  Accuracy = 57.03% | Batch ID = 30 : 100%|██████████| 30/30 [00:08<00:00,  3.70it/s]\n"
     ]
    },
    {
     "name": "stdout",
     "output_type": "stream",
     "text": [
      "Training Cross-Entropy Loss = 0.6837\n",
      "Training Accuracy = 57.03%\n",
      "Epoch 3/8\n",
      "======== Training phase ========\n"
     ]
    },
    {
     "name": "stderr",
     "output_type": "stream",
     "text": [
      "Loss = 0.6848  |  Accuracy = 57.03% | Batch ID = 30 : 100%|██████████| 30/30 [00:05<00:00,  5.48it/s]\n"
     ]
    },
    {
     "name": "stdout",
     "output_type": "stream",
     "text": [
      "Training Cross-Entropy Loss = 0.6832\n",
      "Training Accuracy = 57.03%\n",
      "Epoch 4/8\n",
      "======== Training phase ========\n"
     ]
    },
    {
     "name": "stderr",
     "output_type": "stream",
     "text": [
      "Loss = 0.6861  |  Accuracy = 57.03% | Batch ID = 30 : 100%|██████████| 30/30 [00:06<00:00,  4.65it/s]\n"
     ]
    },
    {
     "name": "stdout",
     "output_type": "stream",
     "text": [
      "Training Cross-Entropy Loss = 0.6836\n",
      "Training Accuracy = 57.03%\n",
      "Epoch 5/8\n",
      "======== Training phase ========\n"
     ]
    },
    {
     "name": "stderr",
     "output_type": "stream",
     "text": [
      "Loss = 0.6804  |  Accuracy = 57.03% | Batch ID = 30 : 100%|██████████| 30/30 [00:12<00:00,  2.35it/s]\n"
     ]
    },
    {
     "name": "stdout",
     "output_type": "stream",
     "text": [
      "Training Cross-Entropy Loss = 0.6833\n",
      "Training Accuracy = 57.03%\n",
      "Epoch 6/8\n",
      "======== Training phase ========\n"
     ]
    },
    {
     "name": "stderr",
     "output_type": "stream",
     "text": [
      "Loss = 0.6760  |  Accuracy = 57.03% | Batch ID = 30 : 100%|██████████| 30/30 [00:07<00:00,  3.98it/s]\n"
     ]
    },
    {
     "name": "stdout",
     "output_type": "stream",
     "text": [
      "Training Cross-Entropy Loss = 0.6834\n",
      "Training Accuracy = 57.03%\n",
      "Epoch 7/8\n",
      "======== Training phase ========\n"
     ]
    },
    {
     "name": "stderr",
     "output_type": "stream",
     "text": [
      "Loss = 0.6708  |  Accuracy = 57.03% | Batch ID = 30 : 100%|██████████| 30/30 [00:07<00:00,  3.75it/s]\n"
     ]
    },
    {
     "name": "stdout",
     "output_type": "stream",
     "text": [
      "Training Cross-Entropy Loss = 0.6832\n",
      "Training Accuracy = 57.03%\n",
      "Epoch 8/8\n",
      "======== Training phase ========\n"
     ]
    },
    {
     "name": "stderr",
     "output_type": "stream",
     "text": [
      "Loss = 0.6691  |  Accuracy = 57.03% | Batch ID = 30 : 100%|██████████| 30/30 [00:06<00:00,  4.93it/s]"
     ]
    },
    {
     "name": "stdout",
     "output_type": "stream",
     "text": [
      "Training Cross-Entropy Loss = 0.6804\n",
      "Training Accuracy = 57.03%\n"
     ]
    },
    {
     "name": "stderr",
     "output_type": "stream",
     "text": [
      "\n"
     ]
    }
   ],
   "source": [
    "train_losses, train_accs = train(customPreTrainedLSTM, TrainDataLoader, optimizer, criterion, epochs = 8, device = device)"
   ]
  },
  {
   "cell_type": "code",
   "execution_count": 33,
   "metadata": {
    "ExecuteTime": {
     "end_time": "2023-12-21T15:36:38.689518600Z",
     "start_time": "2023-12-21T15:36:38.671449300Z"
    }
   },
   "outputs": [
    {
     "name": "stdout",
     "output_type": "stream",
     "text": [
      "Device: cpu\n"
     ]
    }
   ],
   "source": [
    "# Initialize the network, loss function, and optimizer\n",
    "device = set_device()\n",
    "customPreTrainedLSTM_Attention = CustomLSTM_Attention(word2vec_model = cbow_model, \n",
    "                                                      hidden_size = 128, \n",
    "                                                      output_size = 1, \n",
    "                                                      num_layers = 1, \n",
    "                                                      bidirectional = True,\n",
    "                                                      freeze_embeddings = True).to(device)\n",
    "\n",
    "criterion = torch.nn.BCEWithLogitsLoss()\n",
    "optimizer = torch.optim.Adam(customPreTrainedLSTM_Attention.parameters(), lr = 0.001)"
   ]
  },
  {
   "cell_type": "code",
   "execution_count": 34,
   "metadata": {
    "ExecuteTime": {
     "end_time": "2023-12-21T15:37:34.049344600Z",
     "start_time": "2023-12-21T15:36:43.309119100Z"
    }
   },
   "outputs": [
    {
     "name": "stdout",
     "output_type": "stream",
     "text": [
      "Epoch 1/8\n",
      "======== Training phase ========\n"
     ]
    },
    {
     "name": "stderr",
     "output_type": "stream",
     "text": [
      "Loss = 0.5192  |  Accuracy = 62.67% | Batch ID = 30 : 100%|██████████| 30/30 [00:06<00:00,  4.79it/s]\n"
     ]
    },
    {
     "name": "stdout",
     "output_type": "stream",
     "text": [
      "Training Cross-Entropy Loss = 0.6068\n",
      "Training Accuracy = 62.67%\n",
      "Epoch 2/8\n",
      "======== Training phase ========\n"
     ]
    },
    {
     "name": "stderr",
     "output_type": "stream",
     "text": [
      "Loss = 0.4815  |  Accuracy = 77.97% | Batch ID = 30 : 100%|██████████| 30/30 [00:06<00:00,  4.88it/s]\n"
     ]
    },
    {
     "name": "stdout",
     "output_type": "stream",
     "text": [
      "Training Cross-Entropy Loss = 0.4595\n",
      "Training Accuracy = 77.97%\n",
      "Epoch 3/8\n",
      "======== Training phase ========\n"
     ]
    },
    {
     "name": "stderr",
     "output_type": "stream",
     "text": [
      "Loss = 0.4810  |  Accuracy = 80.73% | Batch ID = 30 : 100%|██████████| 30/30 [00:06<00:00,  4.93it/s]\n"
     ]
    },
    {
     "name": "stdout",
     "output_type": "stream",
     "text": [
      "Training Cross-Entropy Loss = 0.4150\n",
      "Training Accuracy = 80.73%\n",
      "Epoch 4/8\n",
      "======== Training phase ========\n"
     ]
    },
    {
     "name": "stderr",
     "output_type": "stream",
     "text": [
      "Loss = 0.4117  |  Accuracy = 82.77% | Batch ID = 30 : 100%|██████████| 30/30 [00:06<00:00,  4.83it/s]\n"
     ]
    },
    {
     "name": "stdout",
     "output_type": "stream",
     "text": [
      "Training Cross-Entropy Loss = 0.3775\n",
      "Training Accuracy = 82.77%\n",
      "Epoch 5/8\n",
      "======== Training phase ========\n"
     ]
    },
    {
     "name": "stderr",
     "output_type": "stream",
     "text": [
      "Loss = 0.2579  |  Accuracy = 85.09% | Batch ID = 30 : 100%|██████████| 30/30 [00:06<00:00,  4.88it/s]\n"
     ]
    },
    {
     "name": "stdout",
     "output_type": "stream",
     "text": [
      "Training Cross-Entropy Loss = 0.3305\n",
      "Training Accuracy = 85.09%\n",
      "Epoch 6/8\n",
      "======== Training phase ========\n"
     ]
    },
    {
     "name": "stderr",
     "output_type": "stream",
     "text": [
      "Loss = 0.3772  |  Accuracy = 88.20% | Batch ID = 30 : 100%|██████████| 30/30 [00:06<00:00,  4.60it/s]\n"
     ]
    },
    {
     "name": "stdout",
     "output_type": "stream",
     "text": [
      "Training Cross-Entropy Loss = 0.2771\n",
      "Training Accuracy = 88.20%\n",
      "Epoch 7/8\n",
      "======== Training phase ========\n"
     ]
    },
    {
     "name": "stderr",
     "output_type": "stream",
     "text": [
      "Loss = 0.2317  |  Accuracy = 90.46% | Batch ID = 30 : 100%|██████████| 30/30 [00:06<00:00,  4.53it/s]\n"
     ]
    },
    {
     "name": "stdout",
     "output_type": "stream",
     "text": [
      "Training Cross-Entropy Loss = 0.2314\n",
      "Training Accuracy = 90.46%\n",
      "Epoch 8/8\n",
      "======== Training phase ========\n"
     ]
    },
    {
     "name": "stderr",
     "output_type": "stream",
     "text": [
      "Loss = 0.2422  |  Accuracy = 93.37% | Batch ID = 30 : 100%|██████████| 30/30 [00:06<00:00,  4.47it/s]"
     ]
    },
    {
     "name": "stdout",
     "output_type": "stream",
     "text": [
      "Training Cross-Entropy Loss = 0.1811\n",
      "Training Accuracy = 93.37%\n"
     ]
    },
    {
     "name": "stderr",
     "output_type": "stream",
     "text": [
      "\n"
     ]
    }
   ],
   "source": [
    "train_losses, train_accs = train(customPreTrainedLSTM_Attention, TrainDataLoader, optimizer, criterion, epochs = 8, device = device)"
   ]
  },
  {
   "cell_type": "code",
   "execution_count": null,
   "outputs": [],
   "source": [],
   "metadata": {
    "collapsed": false
   }
  },
  {
   "cell_type": "code",
   "execution_count": null,
   "outputs": [],
   "source": [],
   "metadata": {
    "collapsed": false
   }
  },
  {
   "cell_type": "code",
   "execution_count": null,
   "outputs": [],
   "source": [],
   "metadata": {
    "collapsed": false
   }
  },
  {
   "cell_type": "code",
   "execution_count": null,
   "outputs": [],
   "source": [],
   "metadata": {
    "collapsed": false
   }
  }
 ],
 "metadata": {
  "kernelspec": {
   "display_name": "base",
   "language": "python",
   "name": "python3"
  },
  "language_info": {
   "codemirror_mode": {
    "name": "ipython",
    "version": 3
   },
   "file_extension": ".py",
   "mimetype": "text/x-python",
   "name": "python",
   "nbconvert_exporter": "python",
   "pygments_lexer": "ipython3",
   "version": "3.10.9"
  }
 },
 "nbformat": 4,
 "nbformat_minor": 2
}
